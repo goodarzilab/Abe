{
 "cells": [
  {
   "cell_type": "markdown",
   "metadata": {},
   "source": [
    "Luke ([website](https://www.gilbertlabucsf.com/)) has  shared the CRISPRi screening results which was analyzed with [ScreenProcessing](https://github.com/mhorlbeck/ScreenProcessing) pipeline. \n",
    "\n",
    "I've selected `ave_Rep1_Rep2` column for gamma and rho scores and put them into a two-column table to run iPAGE for phenotype encrichment analysis. \n",
    "\n",
    "## $\\gamma$ - gamma score\n",
    "## $\\rho$ - rho score\n",
    "\n"
   ]
  },
  {
   "cell_type": "markdown",
   "metadata": {},
   "source": [
    "Run iPAGE:"
   ]
  },
  {
   "cell_type": "code",
   "execution_count": 14,
   "metadata": {},
   "outputs": [],
   "source": [
    "%%bash \n",
    "ipage=/rumi/shams/abe/Workflows/my_scripts/ipage_human_gene_name.sh\n",
    "nohup ls CRISPRi_HL60_*.txt| \\\n",
    "parallel -j18 -k bash $ipage {} &> ipage.out"
   ]
  },
  {
   "cell_type": "code",
   "execution_count": 9,
   "metadata": {},
   "outputs": [],
   "source": [
    "msigdb_url = 'https://www.gsea-msigdb.org/gsea/msigdb/cards/'"
   ]
  },
  {
   "cell_type": "code",
   "execution_count": 186,
   "metadata": {},
   "outputs": [],
   "source": [
    "import pandas as pd \n",
    "import matplotlib.pyplot as plt\n",
    "\n",
    "df = pd.read_table('', index_col=0, header=None)"
   ]
  },
  {
   "cell_type": "code",
   "execution_count": 195,
   "metadata": {},
   "outputs": [],
   "source": [
    "gamma = df[1]"
   ]
  },
  {
   "cell_type": "code",
   "execution_count": 201,
   "metadata": {},
   "outputs": [
    {
     "data": {
      "image/png": "[encoded data removed]",
      "text/plain": [
       "<Figure size 432x288 with 1 Axes>"
      ]
     },
     "metadata": {
      "needs_background": "light"
     },
     "output_type": "display_data"
    }
   ],
   "source": [
    "\n",
    "fig, ax = plt.subplots()\n",
    "gamma.plot.hist(density=True, ax=ax, log=True)\n",
    "ax.set_ylabel('Density')\n",
    "ax.grid(axis='y')\n",
    "ax.set_facecolor('#d8dcd6')\n"
   ]
  },
  {
   "cell_type": "markdown",
   "metadata": {},
   "source": [
    "## Hyper-geometric test"
   ]
  },
  {
   "cell_type": "markdown",
   "metadata": {},
   "source": [
    "> Take iPAGE results from screening to test hyper/hypo methylation enrichment; hyper-geometric test"
   ]
  },
  {
   "cell_type": "code",
   "execution_count": null,
   "metadata": {},
   "outputs": [],
   "source": [
    "from scipy.stats import hypergeom as hg"
   ]
  },
  {
   "cell_type": "code",
   "execution_count": null,
   "metadata": {},
   "outputs": [],
   "source": []
  },
  {
   "cell_type": "code",
   "execution_count": 13,
   "metadata": {},
   "outputs": [
    {
     "name": "stderr",
     "output_type": "stream",
     "text": [
      "ls: cannot access 'screen/ipage/gamma/*/pvmatrix.L.txt': No such file or directory\n"
     ]
    }
   ],
   "source": [
    "%%bash \n",
    "for pv in `ls screen/ipage/gamma/*/pvmatrix.L.txt`; do \n",
    "\n",
    "    if  [ \"$(wc -l < $pv)\" -eq \"$(echo '1')\" ]; then \n",
    "        echo `dirname $pv` NO SIGNAL!\n",
    "    elif [ \"$(wc -l < $pv)\" -eq \"$(echo '0')\" ]; then \n",
    "        echo `dirname $pv` NO SIGNAL!\n",
    "    else\n",
    "        echo `dirname $pv` `cat $pv | wc -l`\n",
    "        \n",
    "        \n",
    "        \n",
    "    fi\n",
    "    echo '------------'\n",
    "done "
   ]
  },
  {
   "cell_type": "code",
   "execution_count": null,
   "metadata": {},
   "outputs": [],
   "source": []
  }
 ],
 "metadata": {
  "kernelspec": {
   "display_name": "Python 3",
   "language": "python",
   "name": "python3"
  },
  "language_info": {
   "codemirror_mode": {
    "name": "ipython",
    "version": 3
   },
   "file_extension": ".py",
   "mimetype": "text/x-python",
   "name": "python",
   "nbconvert_exporter": "python",
   "pygments_lexer": "ipython3",
   "version": "3.7.3"
  }
 },
 "nbformat": 4,
 "nbformat_minor": 4
}
