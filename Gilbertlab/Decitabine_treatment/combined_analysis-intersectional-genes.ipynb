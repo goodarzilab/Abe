{
 "cells": [
  {
   "cell_type": "markdown",
   "metadata": {},
   "source": [
    "# Main goal: \n",
    "- Hani is looking for the final list of genes which are drug induced significantly methylated, expressed and stabilized. \n",
    "\n",
    "    ○ Venn diagram \n",
    "\n",
    "    ○ UpsetR \n",
    "\n",
    "=> table of these genes with all logFCs, pvalues and screening scores. \n"
   ]
  },
  {
   "cell_type": "code",
   "execution_count": 1,
   "metadata": {},
   "outputs": [],
   "source": [
    "# cp -v radar/result.all.txt hl60_delta_mtyl_table.txt"
   ]
  },
  {
   "cell_type": "code",
   "execution_count": 2,
   "metadata": {},
   "outputs": [],
   "source": [
    "import pandas as pd \n",
    "import numpy as np\n",
    "# Teated vs. non-treated \n",
    "comparisons = [\n",
    "    # HL-60 meRIP-seq - logFC\n",
    "    'meRIP-seq/hl60_delta_mtyl_table.txt' ,\n",
    "    # HL-60 Ribo-seq - lnTE\n",
    "    'Ribo-seq/hl60_delta_te_table.txt' ,\n",
    "    # HL-60 RNA-seq \n",
    "    # RNA experssion - log2FC\n",
    "    'RNA-seq/hl60-exp/hl60_delta_exp_table.txt',\n",
    "    # RNA stability  - logFC\n",
    "    'RNA-seq/hl60-stbl/hl60_delta_stbl_table.txt',\n",
    "    ## 5 other AML cell lines RNA-seq\n",
    "    # RNA experssion - log2FC\n",
    "    'RNA-seq/other-exp/kg1_delta_exp_table.txt', 'RNA-seq/other-exp/molm14_delta_exp_table.txt',\n",
    "    'RNA-seq/other-exp/ociaml2_delta_exp_table.txt', 'RNA-seq/other-exp/ociaml3_delta_exp_table.txt',\n",
    "    'RNA-seq/other-exp/thp1_delta_exp_table.txt',\n",
    "    # RNA stability - logFC\n",
    "    'RNA-seq/other-stbl/kg1_delta_stbl_table.txt', 'RNA-seq/other-stbl/molm14_delta_stbl_table.txt',\n",
    "    'RNA-seq/other-stbl/ociaml2_delta_stbl_table.txt', 'RNA-seq/other-stbl/ociaml3_delta_stbl_table.txt',\n",
    "    'RNA-seq/other-stbl/thp1_delta_stbl_table.txt'\n",
    "]\n",
    "\n",
    "\n",
    "# extract cell line name experiment name \n",
    "names = [c.split('/')[-1].replace('.txt','').replace('_table','') for c in comparisons]\n",
    "tables = [pd.read_csv(x, sep = '\\t') for x in comparisons]\n",
    "cells = [names[i].split('_')[0] for i,x in enumerate(comparisons)]\n",
    "experiments = [names[i].replace(cells[i]+'_', '') for i,x in enumerate(comparisons)]\n",
    "\n",
    "# read data into Pandas Data.Frames \n",
    "Data = dict(((c,{}) for c in cells))\n",
    "for i,x in enumerate(comparisons): \n",
    "    cel = cells[i]\n",
    "    exp = experiments[i]\n",
    "    # read data and write into dictionary \n",
    "    Data [cel][exp] = tables[i]\n",
    "\n",
    "Data['hl60']['delta_te'] = Data['hl60']['delta_te'][['gene_id','gene_name','Estimate_treatmentDRUG','fdr_Pr...z.._treatmentDRUG']]\n",
    "Data['hl60']['delta_mtyl'] = Data['hl60']['delta_mtyl'][['ensembl','name','logFC','p_value']]\n",
    "Data['hl60']['delta_mtyl'].columns = ['gene_id','gene_name','logFC','pval']"
   ]
  },
  {
   "cell_type": "markdown",
   "metadata": {},
   "source": [
    "Let's include CRISPR screening scores "
   ]
  },
  {
   "cell_type": "code",
   "execution_count": 3,
   "metadata": {},
   "outputs": [],
   "source": [
    "def make_score_df(screen, score, rep='ave_Rep1_Rep2'):\n",
    "    '''\n",
    "    Make dataframe for given score from CRISPR screening Excel file \n",
    "    '''\n",
    "\n",
    "    score_cols = [i for i,c in enumerate(screen.columns) if score in c]\n",
    "    # extract screen informations from Excel file \n",
    "    screen_info = list(zip(\n",
    "        score_cols,\n",
    "        screen.iloc[0, score_cols].tolist(), \n",
    "        screen.iloc[1, score_cols].tolist(), \n",
    "        screen.columns[score_cols].tolist() \n",
    "    ))\n",
    "    \n",
    "    # select columns for given score\n",
    "    cols = [c[0] for c in screen_info if c[1] == rep]\n",
    "    # remove top 3 rows \n",
    "    df = screen.iloc[3:,cols]\n",
    "\n",
    "    # set DataFrame column names from row 1\n",
    "    df.columns = screen.iloc[1,cols].tolist()\n",
    "    # add gene_name column\n",
    "    gene_names = [str(g) for g in screen.iloc[3:,0]]\n",
    "    df.insert (0, \"gene_name\", [g for g,t in zip(gene_names,df.transcripts)])\n",
    "    # select rows with gene names  \n",
    "    df = df.iloc[[i for i,g in enumerate(df.gene_name) if 'pseudo_' not in g],:].reset_index(drop=True)\n",
    "\n",
    "    # only keep one transcript name\n",
    "    df.transcripts = [str(g).split(',')[0] for g in df.transcripts]    \n",
    "    # rename phenotype score column to the score name\n",
    "    df.columns = [score + ' score' if x=='average phenotype of strongest 3' else x for x in df.columns]\n",
    "    \n",
    "    print (df.shape)\n",
    "    return df"
   ]
  },
  {
   "cell_type": "code",
   "execution_count": 4,
   "metadata": {
    "scrolled": true
   },
   "outputs": [
    {
     "name": "stdout",
     "output_type": "stream",
     "text": [
      "(18905, 6)\n",
      "(18905, 6)\n"
     ]
    }
   ],
   "source": [
    "screen = pd.read_excel('screen/CRISPRi_HL60_DAC_genetable_collapsed.xlsx')\n",
    "\n",
    "Data['hl60']['rho'] = make_score_df(screen, 'rho')\n",
    "Data['hl60']['gamma'] = make_score_df(screen, 'gamma')"
   ]
  },
  {
   "cell_type": "markdown",
   "metadata": {},
   "source": [
    "# Intersectional genes \n",
    "Find top genes across all cell lines and high throughput experiments:"
   ]
  },
  {
   "cell_type": "code",
   "execution_count": 5,
   "metadata": {},
   "outputs": [],
   "source": [
    "Top = {}"
   ]
  },
  {
   "cell_type": "code",
   "execution_count": 6,
   "metadata": {},
   "outputs": [],
   "source": [
    "def find_top(\n",
    "    df,\n",
    "    value, value_thr, stat, stat_thr,\n",
    "    n_line=None, drop_dup=False):\n",
    "    \n",
    "    # Select rows (genes) which has value >= value_thr & stat < stat_thr \n",
    "    if n_line==None:\n",
    "        up = df.iloc[\n",
    "            [i for i,l in enumerate(\n",
    "                np.array([\n",
    "                    np.array(df.loc[:,value] >= value_thr),\n",
    "                    np.array(df.loc[:,stat] < stat_thr)]).all(axis=0)) if l == 1]\n",
    "                ,:] \n",
    "        dn = df.iloc[\n",
    "            [i for i,l in enumerate(\n",
    "                np.array([\n",
    "                    np.array(df.loc[:,value] <= -1*(value_thr)),\n",
    "                    np.array(df.loc[:,stat] < stat_thr)]).all(axis=0)) if l == 1]\n",
    "                ,:] \n",
    "        \n",
    "    # found in more than n_line cell lines \n",
    "    else:\n",
    "        up = df.iloc[\n",
    "            [i for i,l in enumerate(\n",
    "                np.array([\n",
    "                    np.array(df.loc[:,value] >= value_thr).sum(axis=1) >= n_line,\n",
    "                    np.array(df.loc[:,stat] < stat_thr).sum(axis=1) >= n_line]\n",
    "                ).all(axis=0)) if l == 1]\n",
    "                ,:]\n",
    "        dn = df.iloc[\n",
    "            [i for i,l in enumerate(\n",
    "                np.array([\n",
    "                    np.array(df.loc[:,value] <= -1*(value_thr)).sum(axis=1) >= n_line,\n",
    "                    np.array(df.loc[:,stat] < stat_thr).sum(axis=1) >= n_line,]\n",
    "                ).all(axis=0)) if l == 1]\n",
    "                ,:] \n",
    "        \n",
    "    if drop_dup==True:\n",
    "        up = up.sort_values(stat).drop_duplicates(subset='gene_id', keep=\"last\")\n",
    "        dn = dn.sort_values(stat).drop_duplicates(subset='gene_id', keep=\"last\")\n",
    "    \n",
    "    print ('up: ', up.shape)\n",
    "    print ('down:', dn.shape)\n",
    "\n",
    "    return up, dn"
   ]
  },
  {
   "cell_type": "markdown",
   "metadata": {},
   "source": [
    "\n",
    "## Translational efficiency"
   ]
  },
  {
   "cell_type": "code",
   "execution_count": 7,
   "metadata": {},
   "outputs": [
    {
     "name": "stdout",
     "output_type": "stream",
     "text": [
      "up:  (157, 4)\n",
      "down: (41, 4)\n"
     ]
    }
   ],
   "source": [
    "Top['TE'] = {}\n",
    "\n",
    "te_thr=0 # Estimate_treatmentDRUG\n",
    "fdr_thr=0.2 # fdr_Pr...z.._treatmentDRUG\n",
    "\n",
    "Top['TE']['threshold'] = [['te_thr',te_thr],['fdr_thr',fdr_thr]]\n",
    "\n",
    "Top['TE']['up'], Top['TE']['down'] = find_top(\n",
    "    Data['hl60']['delta_te'], 'Estimate_treatmentDRUG', te_thr, 'fdr_Pr...z.._treatmentDRUG', fdr_thr\n",
    ")"
   ]
  },
  {
   "cell_type": "markdown",
   "metadata": {},
   "source": [
    "## $\\Delta$RNA methylation"
   ]
  },
  {
   "cell_type": "code",
   "execution_count": 8,
   "metadata": {},
   "outputs": [
    {
     "name": "stdout",
     "output_type": "stream",
     "text": [
      "up:  (1417, 4)\n",
      "down: (820, 4)\n"
     ]
    }
   ],
   "source": [
    "fc_thr = 2\n",
    "pv_thr = 0.01\n",
    "\n",
    "Top['Mtyl'] = {}\n",
    "\n",
    "Top['Mtyl']['threshold'] = [['fc_thr',fc_thr],['pv_thr',pv_thr]]\n",
    "\n",
    "Top['Mtyl']['up'], Top['Mtyl']['down'] = find_top(\n",
    "    Data['hl60']['delta_mtyl'], \n",
    "    'logFC', fc_thr, 'pval', pv_thr, drop_dup=True)"
   ]
  },
  {
   "cell_type": "markdown",
   "metadata": {},
   "source": [
    "## $\\Delta$RNA expression \n",
    "\n",
    "Extract experssion data for 6 AML cell lines:"
   ]
  },
  {
   "cell_type": "code",
   "execution_count": 9,
   "metadata": {},
   "outputs": [],
   "source": [
    "E1 = Data['hl60']['delta_exp']\n",
    "E2 = Data['kg1']['delta_exp']\n",
    "E3 = Data['molm14']['delta_exp']\n",
    "E4 = Data['ociaml2']['delta_exp']\n",
    "E5 = Data['ociaml3']['delta_exp']\n",
    "E6 = Data['thp1']['delta_exp']"
   ]
  },
  {
   "cell_type": "markdown",
   "metadata": {},
   "source": [
    "load R"
   ]
  },
  {
   "cell_type": "code",
   "execution_count": 10,
   "metadata": {},
   "outputs": [],
   "source": [
    "%reload_ext rpy2.ipython"
   ]
  },
  {
   "cell_type": "code",
   "execution_count": 11,
   "metadata": {},
   "outputs": [],
   "source": [
    "%%R \n",
    "suppressMessages(suppressWarnings(library (tidyverse)))"
   ]
  },
  {
   "cell_type": "markdown",
   "metadata": {},
   "source": [
    "Merge into one DataFrame:"
   ]
  },
  {
   "cell_type": "code",
   "execution_count": 12,
   "metadata": {},
   "outputs": [],
   "source": [
    "%%R -i E1,E2,E3,E4,E5,E6 -o exp_df\n",
    "\n",
    "exp_ids = E1[,'gene_id']\n",
    "exp_names = E1[,'gene_name']\n",
    "\n",
    "Exp = list(\n",
    "    # hl60\n",
    "    E1 %>% dplyr::select('gene_id','log2FC_120h','pval_120h') %>% \n",
    "            rename(hl60.log2FC=log2FC_120h,\n",
    "                   hl60.pval=pval_120h), \n",
    "    # kg1\n",
    "    E2 %>% dplyr::select('gene_id','log2FoldChange','pvalue') %>%\n",
    "            rename(kg1.log2FC=log2FoldChange,\n",
    "                   kg1.pval=pvalue),  \n",
    "    # molm14\n",
    "    E3 %>% dplyr::select('gene_id','log2FoldChange','pvalue') %>%\n",
    "            rename(molm14.log2FC=log2FoldChange,\n",
    "                   molm14.pval=pvalue), \n",
    "    # ociaml2\n",
    "    E4 %>% dplyr::select('gene_id','log2FoldChange','pvalue') %>%\n",
    "            rename(ociaml2.log2FC=log2FoldChange,\n",
    "                   ociaml2.pval=pvalue), \n",
    "    # ociaml3    \n",
    "    E5 %>% dplyr::select('gene_id','log2FoldChange','pvalue') %>% \n",
    "            rename(ociaml3.log2FC=log2FoldChange,\n",
    "                   ociaml3.pval=pvalue), \n",
    "    # thp1\n",
    "    E6 %>% dplyr::select('gene_id','log2FoldChange','pvalue') %>%\n",
    "            rename(thp1.log2FC=log2FoldChange,\n",
    "                   thp1.pval=pvalue) \n",
    ")\n",
    "\n",
    "for (i in 1:6){\n",
    "    Exp[[i]] = Exp[[i]] %>% data.frame %>% remove_rownames %>% column_to_rownames('gene_id')\n",
    "    Exp[[i]] = Exp[[i]][exp_ids,]\n",
    "    \n",
    "}\n",
    "\n",
    "exp_df <- bind_cols(Exp) %>% add_column(gene_name=exp_names, .before=1)"
   ]
  },
  {
   "cell_type": "code",
   "execution_count": 13,
   "metadata": {},
   "outputs": [],
   "source": [
    "exp_df.to_csv('delta_expression.txt')"
   ]
  },
  {
   "cell_type": "code",
   "execution_count": 14,
   "metadata": {},
   "outputs": [
    {
     "name": "stdout",
     "output_type": "stream",
     "text": [
      "up:  (414, 13)\n",
      "down: (142, 13)\n"
     ]
    }
   ],
   "source": [
    "Top['Exp'] = {}\n",
    "fc_thr = 0.1\n",
    "pv_thr = 0.1\n",
    "Top['Exp']['threshold'] = [['fc_thr',fc_thr],['pv_thr',pv_thr]]\n",
    "\n",
    "Top['Exp']['up'], Top['Exp']['down'] = find_top(\n",
    "    exp_df, \n",
    "    [c for c in exp_df.columns if 'log2FC' in c], fc_thr,\n",
    "    [c for c in exp_df.columns if 'pval' in c], pv_thr,\n",
    "    n_line=4\n",
    ")"
   ]
  },
  {
   "cell_type": "markdown",
   "metadata": {},
   "source": [
    "## $\\Delta$RNA stability"
   ]
  },
  {
   "cell_type": "code",
   "execution_count": 15,
   "metadata": {},
   "outputs": [],
   "source": [
    "S1 = Data['hl60']['delta_stbl']\n",
    "S2 = Data['kg1']['delta_stbl']\n",
    "S3 = Data['molm14']['delta_stbl']\n",
    "S4 = Data['ociaml2']['delta_stbl']\n",
    "S5 = Data['ociaml3']['delta_stbl']\n",
    "S6 = Data['thp1']['delta_stbl']"
   ]
  },
  {
   "cell_type": "markdown",
   "metadata": {},
   "source": [
    "Merge stability results from all AML cell lines into one DataFrame:"
   ]
  },
  {
   "cell_type": "code",
   "execution_count": 16,
   "metadata": {},
   "outputs": [],
   "source": [
    "%%R -i S1,S2,S3,S4,S5,S6 -o stbl_df\n",
    "\n",
    "stbl_ids = S1[,'ensembl_id']\n",
    "stbl_names = S1[,'gene_name']\n",
    "\n",
    "Stbl = list(\n",
    "    # hl60\n",
    "    S1 %>% dplyr::select('ensembl_id','logFC_120h','P.Value_120h') %>% \n",
    "            rename(hl60.log2FC=logFC_120h,\n",
    "                   hl60.pval=P.Value_120h), \n",
    "    # kg1\n",
    "    S2 %>% dplyr::select('ensembl_id','logFC','P.Value') %>%\n",
    "            rename(kg1.log2FC=logFC,\n",
    "                   kg1.pval=P.Value),  \n",
    "    # molm14\n",
    "    S3 %>% dplyr::select('ensembl_id','logFC','P.Value') %>%\n",
    "            rename(molm14.log2FC=logFC,\n",
    "                   molm14.pval=P.Value), \n",
    "    # ociaml2\n",
    "    S4 %>% dplyr::select('ensembl_id','logFC','P.Value') %>%\n",
    "            rename(ociaml2.log2FC=logFC,\n",
    "                   ociaml2.pval=P.Value), \n",
    "    # ociaml3    \n",
    "    S5 %>% dplyr::select('ensembl_id','logFC','P.Value') %>% \n",
    "            rename(ociaml3.log2FC=logFC,\n",
    "                   ociaml3.pval=P.Value), \n",
    "    # thp1\n",
    "    S6 %>% dplyr::select('ensembl_id','logFC','P.Value') %>%\n",
    "            rename(thp1.log2FC=logFC,\n",
    "                   thp1.pval=P.Value) \n",
    ")\n",
    "\n",
    "for (i in 1:6){\n",
    "    Stbl[[i]] = Stbl[[i]] %>% data.frame %>% remove_rownames %>% column_to_rownames('ensembl_id')\n",
    "    Stbl[[i]] = Stbl[[i]][stbl_ids,]\n",
    "    \n",
    "}\n",
    "\n",
    "stbl_df <- bind_cols(Stbl) %>% add_column(gene_name=stbl_names, .before=1)"
   ]
  },
  {
   "cell_type": "code",
   "execution_count": 17,
   "metadata": {},
   "outputs": [],
   "source": [
    "exp_df.to_csv('delta_stability.txt')"
   ]
  },
  {
   "cell_type": "code",
   "execution_count": 18,
   "metadata": {},
   "outputs": [
    {
     "name": "stdout",
     "output_type": "stream",
     "text": [
      "up:  (459, 13)\n",
      "down: (502, 13)\n"
     ]
    }
   ],
   "source": [
    "Top['Stbl'] = {}\n",
    "\n",
    "fc_thr = 0\n",
    "pv_thr = 0.5\n",
    "\n",
    "Top['Stbl']['threshold'] = [['fc_thr',fc_thr],['pv_thr',pv_thr]]\n",
    "\n",
    "Top['Stbl']['up'], Top['Stbl']['down'] = find_top(\n",
    "    stbl_df, \n",
    "    [c for c in stbl_df.columns if 'log2FC' in c], fc_thr,\n",
    "    [c for c in stbl_df.columns if 'pval' in c], pv_thr,\n",
    "    n_line=4\n",
    ")"
   ]
  },
  {
   "cell_type": "markdown",
   "metadata": {},
   "source": [
    "## $\\Delta$ Phenotype "
   ]
  },
  {
   "cell_type": "code",
   "execution_count": 19,
   "metadata": {},
   "outputs": [
    {
     "name": "stdout",
     "output_type": "stream",
     "text": [
      "up:  (285, 6)\n",
      "down: (274, 6)\n"
     ]
    }
   ],
   "source": [
    "Top['Rho'] = {}\n",
    "\n",
    "sc_thr = 0.05\n",
    "pv_thr = 0.01\n",
    "\n",
    "Top['Rho']['threshold'] = [['sc_thr',sc_thr],['pv_thr',pv_thr]]\n",
    "Top['Rho']['up'], Top['Rho']['down']  = find_top(\n",
    "    Data['hl60']['rho'], \n",
    "    'rho score', sc_thr,'Mann-Whitney p-value', pv_thr)"
   ]
  },
  {
   "cell_type": "markdown",
   "metadata": {},
   "source": [
    "# Plots"
   ]
  },
  {
   "cell_type": "code",
   "execution_count": 20,
   "metadata": {},
   "outputs": [],
   "source": [
    "%reload_ext rpy2.ipython"
   ]
  },
  {
   "cell_type": "code",
   "execution_count": 21,
   "metadata": {},
   "outputs": [],
   "source": [
    "%%R \n",
    "suppressMessages(suppressWarnings(library (UpSetR)))\n",
    "suppressMessages(suppressWarnings(library (gplots)))\n",
    "suppressMessages(suppressWarnings(library (patchwork)))"
   ]
  },
  {
   "cell_type": "code",
   "execution_count": 22,
   "metadata": {},
   "outputs": [],
   "source": [
    "%%R \n",
    "intersect_plot <- function(Vecs){\n",
    "    intersection <- Reduce(intersect,Vecs)\n",
    "    SET = upset(fromList(Vecs), order.by = \"freq\")\n",
    "    print (SET)\n",
    "    \n",
    "    VEN = venn (Vecs)\n",
    "    \n",
    "    return(intersection)\n",
    "}"
   ]
  },
  {
   "cell_type": "markdown",
   "metadata": {},
   "source": [
    "### Intersection of all genes across different datasets"
   ]
  },
  {
   "cell_type": "code",
   "execution_count": 23,
   "metadata": {},
   "outputs": [],
   "source": [
    "M = list(set(Data['hl60']['delta_mtyl'].gene_name.tolist()))\n",
    "T = list(set(Data['hl60']['delta_te'].gene_name.tolist()))\n",
    "R = list(set(Data['hl60']['rho'].gene_name.tolist()))\n",
    "S = list(set(stbl_df.gene_name.tolist()))\n",
    "E = list(set(exp_df.gene_name.tolist()))"
   ]
  },
  {
   "cell_type": "code",
   "execution_count": 39,
   "metadata": {
    "scrolled": false
   },
   "outputs": [
    {
     "data": {
      "image/png": "[encoded data removed]"
     },
     "metadata": {},
     "output_type": "display_data"
    },
    {
     "data": {
      "image/png": "[encoded data removed]"
     },
     "metadata": {},
     "output_type": "display_data"
    }
   ],
   "source": [
    "%%R -i M,T,R,S,E -o A\n",
    "\n",
    "Vecs <- list(\n",
    "\n",
    "    delta_mtyl = unlist(M),\n",
    "    delta_te = unlist(T),\n",
    "    rho = unlist(R),\n",
    "    delta_stbl = unlist(S),\n",
    "    delta_exp = unlist(E)\n",
    ")\n",
    "\n",
    "A = intersect_plot(Vecs)"
   ]
  },
  {
   "cell_type": "markdown",
   "metadata": {},
   "source": [
    "### Up-regulated genes "
   ]
  },
  {
   "cell_type": "code",
   "execution_count": 34,
   "metadata": {},
   "outputs": [],
   "source": [
    "Exp_up = Top['Exp']['up'].gene_name.tolist()\n",
    "Stbl_up = Top['Stbl']['up'].gene_name.tolist()\n",
    "TE_up = Top['TE']['up'].gene_name.tolist()\n",
    "Rho_up = Top['Rho']['up'].index.tolist()\n",
    "Hyper_m6A = Top['Mtyl']['up'].gene_name.tolist()"
   ]
  },
  {
   "cell_type": "code",
   "execution_count": 42,
   "metadata": {},
   "outputs": [
    {
     "data": {
      "image/png": "[encoded data removed]"
     },
     "metadata": {},
     "output_type": "display_data"
    },
    {
     "data": {
      "image/png": "[encoded data removed]"
     },
     "metadata": {},
     "output_type": "display_data"
    }
   ],
   "source": [
    "%%R -i Exp_up,Stbl_up,TE_up,Rho_up,Hyper_m6A\n",
    "Vecs <- list(\n",
    "    Rho_up=unlist(Rho_up), \n",
    "#     TE_up=unlist(TE_up), \n",
    "    Exp_up=unlist(Exp_up), \n",
    "#     Stbl_up=unlist(Stbl_up), \n",
    "    Hyper_m6A=unlist(Hyper_m6A)\n",
    ")\n",
    "\n",
    "up = intersect_plot(Vecs)"
   ]
  },
  {
   "cell_type": "markdown",
   "metadata": {},
   "source": [
    "### Down regulated genes "
   ]
  },
  {
   "cell_type": "code",
   "execution_count": 43,
   "metadata": {},
   "outputs": [],
   "source": [
    "Exp_down = Top['Exp']['down'].gene_name.tolist()\n",
    "Stbl_down = Top['Stbl']['down'].gene_name.tolist()\n",
    "TE_down = Top['TE']['down'].gene_name.tolist()\n",
    "Rho_down = Top['Rho']['down'].index.tolist()\n",
    "Hypo_m6A = Top['Mtyl']['down'].gene_name.tolist()"
   ]
  },
  {
   "cell_type": "code",
   "execution_count": 45,
   "metadata": {
    "scrolled": false
   },
   "outputs": [
    {
     "data": {
      "image/png": "[encoded data removed]"
     },
     "metadata": {},
     "output_type": "display_data"
    },
    {
     "data": {
      "image/png": "[encoded data removed]"
     },
     "metadata": {},
     "output_type": "display_data"
    }
   ],
   "source": [
    "%%R -i Exp_down,Stbl_down,TE_down,Rho_down,Hypo_m6A\n",
    "Vecs <- list(\n",
    "    Rho_down=unlist(Rho_down), \n",
    "#     TE_down=unlist(TE_down), \n",
    "    Exp_down=unlist(Exp_down), \n",
    "#     Stbl_down=unlist(Stbl_down), \n",
    "    Hypo_m6A=unlist(Hypo_m6A)\n",
    ")\n",
    "dn = intersect_plot(Vecs)"
   ]
  },
  {
   "cell_type": "markdown",
   "metadata": {},
   "source": [
    "# Final merged table"
   ]
  },
  {
   "cell_type": "code",
   "execution_count": 47,
   "metadata": {},
   "outputs": [],
   "source": [
    "def get_intersect_df(df,k=None,A=A):\n",
    "    if k is not None: \n",
    "        df = df[k]\n",
    "    out = df.iloc[[i for i, g in enumerate (df.gene_name) if g in list(A)],]\n",
    "    print (out.shape)\n",
    "    return out"
   ]
  },
  {
   "cell_type": "code",
   "execution_count": 48,
   "metadata": {},
   "outputs": [
    {
     "name": "stdout",
     "output_type": "stream",
     "text": [
      "(666, 13)\n",
      "(666, 13)\n",
      "(2830, 4)\n",
      "(666, 4)\n",
      "(666, 6)\n",
      "(666, 6)\n"
     ]
    }
   ],
   "source": [
    "E = get_intersect_df(exp_df)\n",
    "S = get_intersect_df(stbl_df)\n",
    "M = get_intersect_df(Data['hl60'],'delta_mtyl')\n",
    "T = get_intersect_df(Data['hl60'],'delta_te')\n",
    "R = get_intersect_df(Data['hl60'],'rho')\n",
    "G = get_intersect_df(Data['hl60'],'gamma')"
   ]
  },
  {
   "cell_type": "code",
   "execution_count": 50,
   "metadata": {},
   "outputs": [],
   "source": [
    "final = pd.DataFrame(index=A)\n",
    "\n",
    "final = pd.concat([\n",
    "    final,\n",
    "    # Expression\n",
    "    E.reset_index().set_index('gene_name').iloc[:,range(1,13)].add_prefix('Exp.'),\n",
    "    # Stability \n",
    "    S.reset_index().set_index('gene_name').iloc[:,range(1,13)].add_prefix('Stbl.'),\n",
    "    # Translational Efficiency \n",
    "    T.reset_index().set_index('gene_name').iloc[:,[2,3]].add_prefix('TE.'),\n",
    "    # CRISPR Screen Rho score\n",
    "    R.reset_index().set_index('gene_name').iloc[:,[2,3]].add_prefix('Rho.'),\n",
    "    # CRISPR Screen Gamma score\n",
    "    G.reset_index().set_index('gene_name').iloc[:,[2,3]].add_prefix('Gamma.')\n",
    "    \n",
    "],axis=1)\n",
    "    \n",
    "final.to_csv('combined.txt')"
   ]
  },
  {
   "cell_type": "code",
   "execution_count": null,
   "metadata": {},
   "outputs": [
    {
     "name": "stdout",
     "output_type": "stream",
     "text": [
      "R version 4.0.2 (2020-06-22)\n",
      "Platform: x86_64-conda_cos6-linux-gnu (64-bit)\n",
      "Running under: Ubuntu 18.04.4 LTS\n",
      "\n",
      "Matrix products: default\n"
     ]
    }
   ],
   "source": [
    "%%R \n",
    "sessionInfo()"
   ]
  },
  {
   "cell_type": "markdown",
   "metadata": {},
   "source": [
    "### Venn diagram \n",
    "\n",
    "- https://python-graph-gallery.com/172-custom-venn-diagram/\n",
    "- https://stackoverflow.com/questions/19841535/python-matplotlib-venn-diagram\n",
    "- https://towardsdatascience.com/how-to-create-and-customize-venn-diagrams-in-python-263555527305\n",
    "\n",
    "\n",
    "- https://anaconda.org/conda-forge/r-venn\n",
    "- https://pypi.org/project/venn/"
   ]
  },
  {
   "cell_type": "code",
   "execution_count": 29,
   "metadata": {},
   "outputs": [],
   "source": [
    "# # Import the library\n",
    "# import matplotlib.pyplot as plt\n",
    "# import numpy as np\n",
    "# from itertools import combinations\n",
    "# from matplotlib_venn import venn3\n",
    "\n",
    "# def venn_diagram(a, b, c, labels=['A', 'B', 'C']):\n",
    "    \n",
    "#     a = list(set(a))\n",
    "#     b = list(set(b))\n",
    "#     c = list(set(c))\n",
    "    \n",
    "#     only_a = len( [x for x in a if x not in b+c] )\n",
    "#     only_b = len( [x for x in b if x not in a+c] )\n",
    "#     only_c = len( [x for x in c if x not in a+b] )\n",
    "\n",
    "#     a_b = len(np.intersect1d(a, b))\n",
    "#     a_c = len(np.intersect1d(a, c))\n",
    "#     b_c = len(np.intersect1d(b, c))\n",
    "    \n",
    "#     a_b_c = len([ x for x in a if (x in b) and (x in c)])\n",
    "    \n",
    "#     venn3(subsets=(only_a, only_b, a_b, only_c, a_c, b_c, a_b_c), set_labels=labels)    \n",
    "    \n",
    "# def iter_venn(datasets, names):\n",
    "#     # unique permutations on the number of given datasets \n",
    "#     iterations = list(combinations(list(range(len(datasets))), 3))\n",
    "#     # draw unique venn_diagrams\n",
    "#     for i,iteration in enumerate(iterations):\n",
    "#         p = plt.figure(i)\n",
    "#         a,b,c=[datasets[n] for n in iteration]\n",
    "#         venn_diagram(a,b,c,labels=[names[n] for n in iteration]\n",
    "#         )\n",
    "#         p.show()    "
   ]
  }
 ],
 "metadata": {
  "kernelspec": {
   "display_name": "Python [conda env:deseq2]",
   "language": "python",
   "name": "conda-env-deseq2-py"
  },
  "language_info": {
   "codemirror_mode": {
    "name": "ipython",
    "version": 3
   },
   "file_extension": ".py",
   "mimetype": "text/x-python",
   "name": "python",
   "nbconvert_exporter": "python",
   "pygments_lexer": "ipython3",
   "version": "3.8.5"
  }
 },
 "nbformat": 4,
 "nbformat_minor": 4
}
