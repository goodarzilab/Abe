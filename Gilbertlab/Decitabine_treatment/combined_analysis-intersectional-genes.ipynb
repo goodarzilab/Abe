{
 "cells": [
  {
   "cell_type": "markdown",
   "metadata": {},
   "source": [
    "# Main goal: \n",
    "- Hani is looking for the final list of genes which are drug induced significantly methylated, expressed and stabilized. \n",
    "\n",
    "    ○ Venn diagram \n",
    "\n",
    "    ○ UpsetR \n",
    "\n",
    "=> table of these genes with all logFCs, pvalues and screening scores. \n"
   ]
  },
  {
   "cell_type": "code",
   "execution_count": 219,
   "metadata": {},
   "outputs": [],
   "source": [
    "# cp -v radar/result.all.txt hl60_delta_mtyl_table.txt"
   ]
  },
  {
   "cell_type": "code",
   "execution_count": 220,
   "metadata": {},
   "outputs": [],
   "source": [
    "import pandas as pd \n",
    "import numpy as np\n",
    "# Teated vs. non-treated \n",
    "comparisons = [\n",
    "    # HL-60 meRIP-seq - logFC\n",
    "    'meRIP-seq/hl60_delta_mtyl_table.txt' ,\n",
    "    # HL-60 Ribo-seq - lnTE\n",
    "    'Ribo-seq/hl60_delta_te_table.txt' ,\n",
    "    # HL-60 RNA-seq \n",
    "    # RNA experssion - log2FC\n",
    "    'RNA-seq/hl60-exp/hl60_delta_exp_table.txt',\n",
    "    # RNA stability  - logFC\n",
    "    'RNA-seq/hl60-stbl/hl60_delta_stbl_table.txt',\n",
    "    ## 5 other AML cell lines RNA-seq\n",
    "    # RNA experssion - log2FC\n",
    "    'RNA-seq/other-exp/kg1_delta_exp_table.txt', 'RNA-seq/other-exp/molm14_delta_exp_table.txt',\n",
    "    'RNA-seq/other-exp/ociaml2_delta_exp_table.txt', 'RNA-seq/other-exp/ociaml3_delta_exp_table.txt',\n",
    "    'RNA-seq/other-exp/thp1_delta_exp_table.txt',\n",
    "    # RNA stability - logFC\n",
    "    'RNA-seq/other-stbl/kg1_delta_stbl_table.txt', 'RNA-seq/other-stbl/molm14_delta_stbl_table.txt',\n",
    "    'RNA-seq/other-stbl/ociaml2_delta_stbl_table.txt', 'RNA-seq/other-stbl/ociaml3_delta_stbl_table.txt',\n",
    "    'RNA-seq/other-stbl/thp1_delta_stbl_table.txt'\n",
    "]\n",
    "\n",
    "\n",
    "# extract cell line name experiment name \n",
    "names = [c.split('/')[-1].replace('.txt','').replace('_table','') for c in comparisons]\n",
    "tables = [pd.read_csv(x, sep = '\\t') for x in comparisons]\n",
    "cells = [names[i].split('_')[0] for i,x in enumerate(comparisons)]\n",
    "experiments = [names[i].replace(cells[i]+'_', '') for i,x in enumerate(comparisons)]\n",
    "\n",
    "# read data into Pandas Data.Frames \n",
    "Data = dict(((c,{}) for c in cells))\n",
    "for i,x in enumerate(comparisons): \n",
    "    cel = cells[i]\n",
    "    exp = experiments[i]\n",
    "    # read data and write into dictionary \n",
    "    Data [cel][exp] = tables[i]\n",
    "\n",
    "Data['hl60']['delta_te'] = Data['hl60']['delta_te'][['gene_id','gene_name','Estimate_treatmentDRUG','fdr_Pr...z.._treatmentDRUG']]\n",
    "Data['hl60']['delta_mtyl'] = Data['hl60']['delta_mtyl'][['ensembl','name','logFC','p_value']]\n",
    "Data['hl60']['delta_mtyl'].columns = ['gene_id','gene_name','logFC','pval']"
   ]
  },
  {
   "cell_type": "markdown",
   "metadata": {},
   "source": [
    "Let's include CRISPR screening scores "
   ]
  },
  {
   "cell_type": "code",
   "execution_count": 221,
   "metadata": {},
   "outputs": [],
   "source": [
    "def make_score_df(screen, score, rep='ave_Rep1_Rep2'):\n",
    "    '''\n",
    "    Make dataframe for given score from CRISPR screening Excel file \n",
    "    '''\n",
    "\n",
    "    score_cols = [i for i,c in enumerate(screen.columns) if score in c]\n",
    "    # extract screen informations from Excel file \n",
    "    screen_info = list(zip(\n",
    "        score_cols,\n",
    "        screen.iloc[0, score_cols].tolist(), \n",
    "        screen.iloc[1, score_cols].tolist(), \n",
    "        screen.columns[score_cols].tolist() \n",
    "    ))\n",
    "    \n",
    "    # select columns for given score\n",
    "    cols = [c[0] for c in screen_info if c[1] == rep]\n",
    "    # remove top 3 rows \n",
    "    df = screen.iloc[3:,cols]\n",
    "\n",
    "    # set DataFrame column names from row 1\n",
    "    df.columns = screen.iloc[1,cols].tolist()\n",
    "    # add gene_name column\n",
    "    gene_names = [str(g) for g in screen.iloc[3:,0]]\n",
    "    df.insert (0, \"gene_name\", [g for g,t in zip(gene_names,df.transcripts)])\n",
    "    # select rows with gene names  \n",
    "    df = df.iloc[[i for i,g in enumerate(df.gene_name) if 'pseudo_' not in g],:].reset_index(drop=True)\n",
    "\n",
    "    # only keep one transcript name\n",
    "    df.transcripts = [str(g).split(',')[0] for g in df.transcripts]    \n",
    "    # rename phenotype score column to the score name\n",
    "    df.columns = [score + ' score' if x=='average phenotype of strongest 3' else x for x in df.columns]\n",
    "    \n",
    "    print (df.shape)\n",
    "    return df"
   ]
  },
  {
   "cell_type": "code",
   "execution_count": 222,
   "metadata": {
    "scrolled": true
   },
   "outputs": [
    {
     "name": "stdout",
     "output_type": "stream",
     "text": [
      "(18905, 6)\n",
      "(18905, 6)\n"
     ]
    }
   ],
   "source": [
    "screen = pd.read_excel('screen/CRISPRi_HL60_DAC_genetable_collapsed.xlsx')\n",
    "\n",
    "Data['hl60']['rho'] = make_score_df(screen, 'rho')\n",
    "Data['hl60']['gamma'] = make_score_df(screen, 'gamma')"
   ]
  },
  {
   "cell_type": "markdown",
   "metadata": {},
   "source": [
    "# Intersectional genes \n",
    "Find top genes across all cell lines and high throughput experiments:"
   ]
  },
  {
   "cell_type": "code",
   "execution_count": 223,
   "metadata": {},
   "outputs": [],
   "source": [
    "Top = {}"
   ]
  },
  {
   "cell_type": "code",
   "execution_count": 224,
   "metadata": {},
   "outputs": [],
   "source": [
    "def find_top(\n",
    "    df,\n",
    "    value, value_thr, stat, stat_thr,\n",
    "    n_line=None, drop_dup=False):\n",
    "    \n",
    "    # Select rows (genes) which has value >= value_thr & stat < stat_thr \n",
    "    if n_line==None:\n",
    "        up = df.iloc[\n",
    "            [i for i,l in enumerate(\n",
    "                np.array([\n",
    "                    np.array(df.loc[:,value] >= value_thr),\n",
    "                    np.array(df.loc[:,stat] < stat_thr)]).all(axis=0)) if l == 1]\n",
    "                ,:] \n",
    "        dn = df.iloc[\n",
    "            [i for i,l in enumerate(\n",
    "                np.array([\n",
    "                    np.array(df.loc[:,value] <= -1*(value_thr)),\n",
    "                    np.array(df.loc[:,stat] < stat_thr)]).all(axis=0)) if l == 1]\n",
    "                ,:] \n",
    "        \n",
    "    # found in more than n_line cell lines \n",
    "    else:\n",
    "        up = df.iloc[\n",
    "            [i for i,l in enumerate(\n",
    "                np.array([\n",
    "                    np.array(df.loc[:,value] >= value_thr).sum(axis=1) >= n_line,\n",
    "                    np.array(df.loc[:,stat] < stat_thr).sum(axis=1) >= n_line]\n",
    "                ).all(axis=0)) if l == 1]\n",
    "                ,:]\n",
    "        dn = df.iloc[\n",
    "            [i for i,l in enumerate(\n",
    "                np.array([\n",
    "                    np.array(df.loc[:,value] <= -1*(value_thr)).sum(axis=1) >= n_line,\n",
    "                    np.array(df.loc[:,stat] < stat_thr).sum(axis=1) >= n_line,]\n",
    "                ).all(axis=0)) if l == 1]\n",
    "                ,:] \n",
    "        \n",
    "    if drop_dup==True:\n",
    "        up = up.sort_values(stat).drop_duplicates(subset='gene_id', keep=\"last\")\n",
    "        dn = dn.sort_values(stat).drop_duplicates(subset='gene_id', keep=\"last\")\n",
    "    \n",
    "    print ('up: ', up.shape[0])\n",
    "    print ('down:', dn.shape[0])\n",
    "\n",
    "    return up, dn"
   ]
  },
  {
   "cell_type": "markdown",
   "metadata": {},
   "source": [
    "\n",
    "## Translational efficiency"
   ]
  },
  {
   "cell_type": "code",
   "execution_count": 234,
   "metadata": {},
   "outputs": [],
   "source": [
    "def set_Top_TE(te_thr,fdr_thr):\n",
    "    print ('Subset Top TE data frame:')\n",
    "    Top['TE'] = {}\n",
    "    Top['TE']['threshold'] = [['te_thr',te_thr],['fdr_thr',fdr_thr]]\n",
    "\n",
    "    Top['TE']['up'], Top['TE']['down'] = find_top(\n",
    "        Data['hl60']['delta_te'], 'Estimate_treatmentDRUG', te_thr, 'fdr_Pr...z.._treatmentDRUG', fdr_thr\n",
    "    )\n"
   ]
  },
  {
   "cell_type": "markdown",
   "metadata": {},
   "source": [
    "## $\\Delta$RNA methylation"
   ]
  },
  {
   "cell_type": "code",
   "execution_count": 232,
   "metadata": {},
   "outputs": [],
   "source": [
    "def set_Top_Mtyl(fc_thr,pv_thr):\n",
    "    print ('Subset Top Mtyl data frame:')\n",
    "    \n",
    "    Top['Mtyl'] = {}\n",
    "    Top['Mtyl']['threshold'] = [['fc_thr',fc_thr],['pv_thr',pv_thr]]\n",
    "    Top['Mtyl']['up'], Top['Mtyl']['down'] = find_top(\n",
    "        Data['hl60']['delta_mtyl'], \n",
    "        'logFC', fc_thr, 'pval', pv_thr, drop_dup=True)"
   ]
  },
  {
   "cell_type": "markdown",
   "metadata": {},
   "source": [
    "## $\\Delta$RNA expression \n",
    "\n",
    "Extract experssion data for 6 AML cell lines:"
   ]
  },
  {
   "cell_type": "code",
   "execution_count": 140,
   "metadata": {},
   "outputs": [],
   "source": [
    "E_gene_names = Data['hl60']['delta_exp'].set_index('gene_id')[['gene_name']]\n",
    "E1 = Data['hl60']['delta_exp'].set_index('gene_id')[['log2FC_120h','pval_120h']].add_prefix('hl60.')\n",
    "E2, E3, E4, E5, E6 = [\n",
    "    Data[cell_line]['delta_exp'].set_index('gene_id').loc[\n",
    "        E1.index,\n",
    "        ['log2FoldChange','pvalue']].rename(columns={'log2FoldChange':'log2FC','pvalue':'pval'}\n",
    "    ).add_prefix(cell_line+'.') for cell_line in Data if cell_line != 'hl60']\n",
    "\n",
    "exp_df = pd.concat((E_gene_names, E1,E2,E3,E4,E5,E6),axis=1)\n",
    "\n",
    "exp_df.to_csv('delta_expression.txt',sep='\\t')"
   ]
  },
  {
   "cell_type": "markdown",
   "metadata": {},
   "source": [
    "Define top genes in $\\Delta$RNA expression data space: \n",
    "> genes with log2FC >= `fc_thr` and P-Value < `pv_thr` acrross `n_line` number of cell lines. "
   ]
  },
  {
   "cell_type": "code",
   "execution_count": 228,
   "metadata": {},
   "outputs": [],
   "source": [
    "def set_Top_Exp(fc_thr, pv_thr, n_line):\n",
    "    print ('Subset Top Exp data frame:')\n",
    "\n",
    "    Top['Exp'] = {}\n",
    "    Top['Exp']['threshold'] = [['fc_thr',fc_thr],['pv_thr',pv_thr]]\n",
    "    Top['Exp']['up'], Top['Exp']['down'] = find_top(\n",
    "        exp_df, \n",
    "        [c for c in exp_df.columns if 'log2FC' in c], fc_thr,\n",
    "        [c for c in exp_df.columns if 'pval' in c], pv_thr,\n",
    "        n_line=n_line\n",
    "    )"
   ]
  },
  {
   "cell_type": "markdown",
   "metadata": {},
   "source": [
    "## $\\Delta$RNA stability"
   ]
  },
  {
   "cell_type": "code",
   "execution_count": 22,
   "metadata": {},
   "outputs": [],
   "source": [
    "S_gene_names = Data['hl60']['delta_stbl'].set_index('ensembl_id')[['gene_name']]\n",
    "S1 = Data['hl60']['delta_stbl'].set_index('ensembl_id')[['logFC_120h','P.Value_120h']].rename(columns={\n",
    "    'logFC_120h':'logFC',\n",
    "    'P.Value_120h':'pval'}).add_prefix('hl60.')\n",
    "S2, S3, S4, S5, S6 = [\n",
    "    Data[cell_line]['delta_stbl'].set_index('ensembl_id').loc[\n",
    "        S1.index,\n",
    "        ['logFC','P.Value']].rename(columns={'P.Value':'pval'}).add_prefix(cell_line+'.') \n",
    "    for cell_line in Data if cell_line != 'hl60']\n",
    "\n",
    "stbl_df = pd.concat((S_gene_names, S1,S2,S3,S4,S5,S6),axis=1)\n",
    "\n",
    "stbl_df.to_csv('delta_stability.txt',sep='\\t')"
   ]
  },
  {
   "cell_type": "markdown",
   "metadata": {},
   "source": [
    "Define top genes in $\\Delta$RNA stability data space: \n",
    "> genes with log2FC >= `fc_thr` and P-Value < `pv_thr` acrross `n_line` number of cell lines. "
   ]
  },
  {
   "cell_type": "code",
   "execution_count": 229,
   "metadata": {},
   "outputs": [],
   "source": [
    "def set_Top_Stbl(fc_thr, pv_thr, n_line):\n",
    "    print ('Subset Top Stbl data frame:')\n",
    "\n",
    "    Top['Stbl'] = {}\n",
    "    Top['Stbl']['threshold'] = [['fc_thr',fc_thr],['pv_thr',pv_thr]]\n",
    "    Top['Stbl']['up'], Top['Stbl']['down'] = find_top(\n",
    "        stbl_df, \n",
    "        [c for c in stbl_df.columns if 'logFC' in c], fc_thr,\n",
    "        [c for c in stbl_df.columns if 'pval' in c], pv_thr,\n",
    "        n_line=n_line\n",
    "    )"
   ]
  },
  {
   "cell_type": "markdown",
   "metadata": {},
   "source": [
    "## $\\Delta$ Phenotype "
   ]
  },
  {
   "cell_type": "code",
   "execution_count": 230,
   "metadata": {},
   "outputs": [],
   "source": [
    "def set_Top_Rho(sc_thr,pv_thr):\n",
    "    print ('Subset Top Rho data frame:')\n",
    "\n",
    "    Top['Rho'] = {}\n",
    "    Top['Rho']['threshold'] = [['sc_thr',sc_thr],['pv_thr',pv_thr]]\n",
    "    Top['Rho']['up'], Top['Rho']['down']  = find_top(\n",
    "        Data['hl60']['rho'], \n",
    "        'rho score', sc_thr,'Mann-Whitney p-value', pv_thr)"
   ]
  },
  {
   "cell_type": "markdown",
   "metadata": {},
   "source": [
    "# Plots"
   ]
  },
  {
   "cell_type": "code",
   "execution_count": 235,
   "metadata": {},
   "outputs": [
    {
     "name": "stdout",
     "output_type": "stream",
     "text": [
      "Subset Top TE data frame:\n",
      "up:  4103\n",
      "down: 2206\n",
      "Subset Top Mtyl data frame:\n",
      "up:  7961\n",
      "down: 8866\n",
      "Subset Top Rho data frame:\n",
      "up:  8935\n",
      "down: 9894\n",
      "Subset Top Exp data frame:\n",
      "up:  42025\n",
      "down: 40945\n",
      "Subset Top Stbl data frame:\n",
      "up:  2538\n",
      "down: 2616\n"
     ]
    }
   ],
   "source": [
    "set_Top_TE  (0,1)\n",
    "set_Top_Mtyl(0,1)\n",
    "set_Top_Rho (0,1)\n",
    "set_Top_Exp (0,1, 1)\n",
    "set_Top_Stbl(0,1, 1)\n"
   ]
  },
  {
   "cell_type": "markdown",
   "metadata": {},
   "source": [
    "### Intersection of all genes across different datasets"
   ]
  },
  {
   "cell_type": "markdown",
   "metadata": {},
   "source": [
    "### Venn diagram \n",
    "\n",
    "- https://python-graph-gallery.com/172-custom-venn-diagram/\n",
    "- https://stackoverflow.com/questions/19841535/python-matplotlib-venn-diagram\n",
    "- https://towardsdatascience.com/how-to-create-and-customize-venn-diagrams-in-python-263555527305\n",
    "\n",
    "\n",
    "- https://anaconda.org/conda-forge/r-venn\n",
    "- https://pypi.org/project/venn/"
   ]
  },
  {
   "cell_type": "markdown",
   "metadata": {},
   "source": [
    "Select top gene names "
   ]
  },
  {
   "cell_type": "code",
   "execution_count": 241,
   "metadata": {},
   "outputs": [],
   "source": [
    "Exp_up = Top['Exp']['up'].gene_name.tolist()\n",
    "Stbl_up = Top['Stbl']['up'].gene_name.tolist()\n",
    "TE_up = Top['TE']['up'].gene_name.tolist()\n",
    "Rho_up = Top['Rho']['up'].index.tolist()\n",
    "Hyper_m6A = Top['Mtyl']['up'].gene_name.tolist()\n",
    "\n",
    "Exp_down = Top['Exp']['down'].gene_name.tolist()\n",
    "Stbl_down = Top['Stbl']['down'].gene_name.tolist()\n",
    "TE_down = Top['TE']['down'].gene_name.tolist()\n",
    "Rho_down = Top['Rho']['down'].index.tolist()\n",
    "Hypo_m6A = Top['Mtyl']['down'].gene_name.tolist()"
   ]
  },
  {
   "cell_type": "code",
   "execution_count": 252,
   "metadata": {},
   "outputs": [],
   "source": [
    "# Import the library\n",
    "import numpy as np\n",
    "import itertools\n",
    "import matplotlib.pyplot as plt\n",
    "from matplotlib_venn import venn3\n",
    "\n",
    "def venn_diagram(a, b, c, labels=['A', 'B', 'C']):\n",
    "    \n",
    "    a = list(set(a))\n",
    "    b = list(set(b))\n",
    "    c = list(set(c))\n",
    "    \n",
    "    only_a = len( [x for x in a if x not in b+c] )\n",
    "    only_b = len( [x for x in b if x not in a+c] )\n",
    "    only_c = len( [x for x in c if x not in a+b] )\n",
    "\n",
    "    a_b = len(np.intersect1d(a, b))\n",
    "    a_c = len(np.intersect1d(a, c))\n",
    "    b_c = len(np.intersect1d(b, c))\n",
    "    \n",
    "    a_b_c = len([ x for x in a if (x in b) and (x in c)])\n",
    "    \n",
    "    venn3(subsets=(only_a, only_b, a_b, only_c, a_c, b_c, a_b_c), set_labels=labels)    \n",
    "    \n",
    "def iter_above_three(datasets, names):\n",
    "    # unique permutations to chose 3 from the number of given datasets \n",
    "    iterations = list(itertools.combinations(list(range(len(datasets))), 3))\n",
    "    # draw unique venn_diagrams\n",
    "    for i,iteration in enumerate(iterations):\n",
    "        p = plt.figure(i)\n",
    "        a,b,c=[datasets[n] for n in iteration]\n",
    "        venn_diagram(a,b,c,labels=[names[n] for n in iteration]\n",
    "        )\n",
    "        p.show()    \n",
    "\n",
    "def iter_by_two(input1,input2,input3):\n",
    "    # inputs are variable names \n",
    "    for n, comb in enumerate(list(itertools.product(input1,input2,input3))):\n",
    "        a,b,c = comb\n",
    "        p = plt.figure(n)\n",
    "        venn_diagram(eval(a),eval(b),eval(c), [a,b,c])\n",
    "        p.show()    "
   ]
  },
  {
   "cell_type": "code",
   "execution_count": 258,
   "metadata": {
    "scrolled": false
   },
   "outputs": [
    {
     "data": {
      "image/png": "[encoded data removed]",
      "text/plain": [
       "<Figure size 432x288 with 1 Axes>"
      ]
     },
     "metadata": {},
     "output_type": "display_data"
    },
    {
     "data": {
      "image/png": "[encoded data removed]",
      "text/plain": [
       "<Figure size 432x288 with 1 Axes>"
      ]
     },
     "metadata": {},
     "output_type": "display_data"
    },
    {
     "data": {
      "image/png": "[encoded data removed]",
      "text/plain": [
       "<Figure size 432x288 with 1 Axes>"
      ]
     },
     "metadata": {},
     "output_type": "display_data"
    },
    {
     "data": {
      "image/png": "[encoded data removed]",
      "text/plain": [
       "<Figure size 432x288 with 1 Axes>"
      ]
     },
     "metadata": {},
     "output_type": "display_data"
    },
    {
     "data": {
      "image/png": "[encoded data removed]",
      "text/plain": [
       "<Figure size 432x288 with 1 Axes>"
      ]
     },
     "metadata": {},
     "output_type": "display_data"
    },
    {
     "data": {
      "image/png": "[encoded data removed]",
      "text/plain": [
       "<Figure size 432x288 with 1 Axes>"
      ]
     },
     "metadata": {},
     "output_type": "display_data"
    },
    {
     "data": {
      "image/png": "[encoded data removed]",
      "text/plain": [
       "<Figure size 432x288 with 1 Axes>"
      ]
     },
     "metadata": {},
     "output_type": "display_data"
    },
    {
     "data": {
      "image/png": "[encoded data removed]",
      "text/plain": [
       "<Figure size 432x288 with 1 Axes>"
      ]
     },
     "metadata": {},
     "output_type": "display_data"
    }
   ],
   "source": [
    "iter_by_two(['Exp_up', 'Exp_down'],['Rho_up', 'Rho_down'],['Hyper_m6A', 'Hypo_m6A'])"
   ]
  },
  {
   "cell_type": "markdown",
   "metadata": {},
   "source": [
    "# Final merged table"
   ]
  },
  {
   "cell_type": "code",
   "execution_count": 236,
   "metadata": {},
   "outputs": [],
   "source": [
    "%reload_ext rpy2.ipython"
   ]
  },
  {
   "cell_type": "code",
   "execution_count": 237,
   "metadata": {},
   "outputs": [],
   "source": [
    "%%R \n",
    "suppressMessages(suppressWarnings(library (UpSetR)))\n",
    "suppressMessages(suppressWarnings(library (gplots)))\n",
    "suppressMessages(suppressWarnings(library (patchwork)))"
   ]
  },
  {
   "cell_type": "code",
   "execution_count": 266,
   "metadata": {},
   "outputs": [],
   "source": [
    "%%R \n",
    "intersect <- function(Vecs, plot_upset=FALSE,plot_venn=FALSE){\n",
    "    intersection <- Reduce(intersect,Vecs)\n",
    "    if (plot_upset == TRUE){\n",
    "        SET = upset(fromList(Vecs), order.by = \"freq\")\n",
    "        print (SET)\n",
    "    }\n",
    "    if (plot_venn == TRUE){\n",
    "        VEN = venn (Vecs)\n",
    "        print (VEN)\n",
    "    }\n",
    "    return(intersection)\n",
    "}"
   ]
  },
  {
   "cell_type": "code",
   "execution_count": 262,
   "metadata": {},
   "outputs": [],
   "source": [
    "M_genes = list(set(Data['hl60']['delta_mtyl'].gene_name.tolist()))\n",
    "T_genes = list(set(Data['hl60']['delta_te'].gene_name.tolist()))\n",
    "R_genes = list(set(Data['hl60']['rho'].gene_name.tolist()))\n",
    "S_genes = list(set(stbl_df.gene_name.tolist()))\n",
    "E_genes = list(set(exp_df.gene_name.tolist()))"
   ]
  },
  {
   "cell_type": "code",
   "execution_count": 267,
   "metadata": {
    "scrolled": false
   },
   "outputs": [],
   "source": [
    "%%R -i M_genes,T_genes,R_genes,S_genes,E_genes -o A_genes\n",
    "\n",
    "Vecs <- list(\n",
    "    delta_mtyl = unlist(M_genes),\n",
    "    delta_te = unlist(T_genes),\n",
    "    rho = unlist(R_genes),\n",
    "    delta_stbl = unlist(S_genes),\n",
    "    delta_exp = unlist(E_genes)\n",
    ")\n",
    "\n",
    "A_genes = intersect(Vecs)"
   ]
  },
  {
   "cell_type": "markdown",
   "metadata": {},
   "source": [
    "Use intersect genes names from UpSetR format ... "
   ]
  },
  {
   "cell_type": "code",
   "execution_count": 270,
   "metadata": {},
   "outputs": [],
   "source": [
    "def get_intersect_df(data,k=None,intersect_genes=A_genes):\n",
    "    if k is not None: \n",
    "        df = data[k]\n",
    "    else: \n",
    "        df = data\n",
    "    \n",
    "    out = df.iloc[[i for i, g in enumerate (df.gene_name) if g in list(intersect_genes)],]\n",
    "    print (out.shape)\n",
    "    return out"
   ]
  },
  {
   "cell_type": "code",
   "execution_count": 269,
   "metadata": {},
   "outputs": [
    {
     "name": "stdout",
     "output_type": "stream",
     "text": [
      "(459, 13)\n",
      "(459, 13)\n",
      "(1898, 4)\n",
      "(459, 4)\n",
      "(459, 6)\n",
      "(459, 6)\n"
     ]
    }
   ],
   "source": [
    "E = get_intersect_df(exp_df)\n",
    "S = get_intersect_df(stbl_df)\n",
    "M = get_intersect_df(Data['hl60'],'delta_mtyl')\n",
    "T = get_intersect_df(Data['hl60'],'delta_te')\n",
    "R = get_intersect_df(Data['hl60'],'rho')\n",
    "G = get_intersect_df(Data['hl60'],'gamma')\n"
   ]
  },
  {
   "cell_type": "code",
   "execution_count": 275,
   "metadata": {},
   "outputs": [],
   "source": [
    "final = pd.DataFrame(index=A_genes)\n",
    "\n",
    "final = pd.concat([\n",
    "    final,\n",
    "    # Expression\n",
    "    E.reset_index().set_index('gene_name').iloc[:,range(1,13)].add_prefix('Exp.'),\n",
    "    # Stability \n",
    "    S.reset_index().set_index('gene_name').iloc[:,range(1,13)].add_prefix('Stbl.'),\n",
    "    # Translational Efficiency \n",
    "    T.reset_index().set_index('gene_name').iloc[:,[2,3]].add_prefix('TE.'),\n",
    "    # CRISPR Screen Rho score\n",
    "    R.reset_index().set_index('gene_name').iloc[:,[2,3]].add_prefix('Rho.'),\n",
    "    # CRISPR Screen Gamma score\n",
    "    G.reset_index().set_index('gene_name').iloc[:,[2,3]].add_prefix('Gamma.')\n",
    "    \n",
    "],axis=1)\n",
    "    \n",
    "final.to_csv('combined.txt', sep='\\t')"
   ]
  },
  {
   "cell_type": "code",
   "execution_count": 272,
   "metadata": {},
   "outputs": [
    {
     "name": "stdout",
     "output_type": "stream",
     "text": [
      "R version 4.0.3 (2020-10-10)\n",
      "Platform: x86_64-conda-linux-gnu (64-bit)\n",
      "Running under: Ubuntu 18.04.4 LTS\n",
      "\n",
      "Matrix products: default\n",
      "BLAS/LAPACK: /rumi/shams/abe/anaconda3/envs/down/lib/libopenblasp-r0.3.12.so\n",
      "\n",
      "locale:\n",
      " [1] LC_CTYPE=en_US.UTF-8       LC_NUMERIC=C              \n",
      " [3] LC_TIME=en_US.UTF-8        LC_COLLATE=en_US.UTF-8    \n",
      " [5] LC_MONETARY=en_US.UTF-8    LC_MESSAGES=en_US.UTF-8   \n",
      " [7] LC_PAPER=en_US.UTF-8       LC_NAME=C                 \n",
      " [9] LC_ADDRESS=C               LC_TELEPHONE=C            \n",
      "[11] LC_MEASUREMENT=en_US.UTF-8 LC_IDENTIFICATION=C       \n",
      "\n",
      "attached base packages:\n",
      "[1] tools     stats     graphics  grDevices utils     datasets  methods  \n",
      "[8] base     \n",
      "\n",
      "other attached packages:\n",
      "[1] patchwork_1.1.1 gplots_3.1.1    UpSetR_1.4.0   \n",
      "\n",
      "loaded via a namespace (and not attached):\n",
      " [1] Rcpp_1.0.6         magrittr_2.0.1     tidyselect_1.1.0   munsell_0.5.0     \n",
      " [5] colorspace_2.0-0   R6_2.5.0           rlang_0.4.10       plyr_1.8.6        \n",
      " [9] dplyr_1.0.3        caTools_1.18.1     grid_4.0.3         gtable_0.3.0      \n",
      "[13] KernSmooth_2.23-18 DBI_1.1.1          gtools_3.8.2       ellipsis_0.3.1    \n",
      "[17] digest_0.6.27      assertthat_0.2.1   tibble_3.0.5       lifecycle_0.2.0   \n",
      "[21] crayon_1.3.4       gridExtra_2.3      farver_2.0.3       purrr_0.3.4       \n",
      "[25] ggplot2_3.3.3      bitops_1.0-6       vctrs_0.3.6        glue_1.4.2        \n",
      "[29] labeling_0.4.2     compiler_4.0.3     pillar_1.4.7       generics_0.1.0    \n",
      "[33] scales_1.1.1       pkgconfig_2.0.3   \n"
     ]
    }
   ],
   "source": [
    "%%R \n",
    "sessionInfo()"
   ]
  }
 ],
 "metadata": {
  "kernelspec": {
   "display_name": "Python [conda env:down]",
   "language": "python",
   "name": "conda-env-down-py"
  },
  "language_info": {
   "codemirror_mode": {
    "name": "ipython",
    "version": 3
   },
   "file_extension": ".py",
   "mimetype": "text/x-python",
   "name": "python",
   "nbconvert_exporter": "python",
   "pygments_lexer": "ipython3",
   "version": "3.8.5"
  }
 },
 "nbformat": 4,
 "nbformat_minor": 4
}
