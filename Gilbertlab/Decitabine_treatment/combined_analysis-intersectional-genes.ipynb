{
 "cells": [
  {
   "cell_type": "markdown",
   "metadata": {},
   "source": [
    "# Main goal: \n",
    "- Hani is looking for the final list of genes which are drug induced significantly methylated, expressed and stabilized. \n",
    "\n",
    "    ○ Venn diagram \n",
    "\n",
    "    ○ UpsetR \n",
    "\n",
    "=> table of these genes with all logFCs, pvalues and screening scores. \n"
   ]
  },
  {
   "cell_type": "code",
   "execution_count": 1,
   "metadata": {},
   "outputs": [],
   "source": [
    "# cp -v radar/result.all.txt hl60_delta_mtyl_table.txt"
   ]
  },
  {
   "cell_type": "code",
   "execution_count": 2,
   "metadata": {},
   "outputs": [],
   "source": [
    "import pandas as pd \n",
    "import numpy as np\n",
    "# Teated vs. non-treated \n",
    "comparisons = [\n",
    "    # HL-60 meRIP-seq - logFC\n",
    "    'meRIP-seq/hl60_delta_mtyl_table.txt' ,\n",
    "    # HL-60 Ribo-seq - lnTE\n",
    "    'Ribo-seq/hl60_delta_te_table.txt' ,\n",
    "    # HL-60 RNA-seq \n",
    "    # RNA experssion - log2FC\n",
    "    'RNA-seq/hl60-exp/hl60_delta_exp_table.txt',\n",
    "    # RNA stability  - logFC\n",
    "    'RNA-seq/hl60-stbl/hl60_delta_stbl_table.txt',\n",
    "    ## 5 other AML cell lines RNA-seq\n",
    "    # RNA experssion - log2FC\n",
    "    'RNA-seq/other-exp/kg1_delta_exp_table.txt', 'RNA-seq/other-exp/molm14_delta_exp_table.txt',\n",
    "    'RNA-seq/other-exp/ociaml2_delta_exp_table.txt', 'RNA-seq/other-exp/ociaml3_delta_exp_table.txt',\n",
    "    'RNA-seq/other-exp/thp1_delta_exp_table.txt',\n",
    "    # RNA stability - logFC\n",
    "    'RNA-seq/other-stbl/kg1_delta_stbl_table.txt', 'RNA-seq/other-stbl/molm14_delta_stbl_table.txt',\n",
    "    'RNA-seq/other-stbl/ociaml2_delta_stbl_table.txt', 'RNA-seq/other-stbl/ociaml3_delta_stbl_table.txt',\n",
    "    'RNA-seq/other-stbl/thp1_delta_stbl_table.txt'\n",
    "]\n",
    "\n",
    "\n",
    "# extract cell line name experiment name \n",
    "names = [c.split('/')[-1].replace('.txt','').replace('_table','') for c in comparisons]\n",
    "tables = [pd.read_csv(x, sep = '\\t') for x in comparisons]\n",
    "cells = [names[i].split('_')[0] for i,x in enumerate(comparisons)]\n",
    "experiments = [names[i].replace(cells[i]+'_', '') for i,x in enumerate(comparisons)]\n",
    "\n",
    "# read data into Pandas Data.Frames \n",
    "Data = dict(((c,{}) for c in cells))\n",
    "for i,x in enumerate(comparisons): \n",
    "    cel = cells[i]\n",
    "    exp = experiments[i]\n",
    "    # read data and write into dictionary \n",
    "    Data [cel][exp] = tables[i]\n",
    "    \n",
    "# include CRISPR screening scores \n",
    "Data['hl60']['rho'] = pd.read_csv('screen/CRISPRi_HL60_rho.txt', header=None, sep = '\\t').dropna().set_index(0)\n",
    "Data['hl60']['gamma'] = pd.read_csv('screen/CRISPRi_HL60_gamma.txt', header=None, sep = '\\t').dropna().set_index(0)"
   ]
  },
  {
   "cell_type": "markdown",
   "metadata": {},
   "source": [
    "# Intersectional genes \n",
    "Find top genes across all cell lines and high throughput experiments:"
   ]
  },
  {
   "cell_type": "code",
   "execution_count": 3,
   "metadata": {},
   "outputs": [],
   "source": [
    "Top = {}"
   ]
  },
  {
   "cell_type": "markdown",
   "metadata": {},
   "source": [
    "## Translational efficiency"
   ]
  },
  {
   "cell_type": "code",
   "execution_count": 4,
   "metadata": {},
   "outputs": [
    {
     "data": {
      "text/plain": [
       "(55, 4)"
      ]
     },
     "execution_count": 4,
     "metadata": {},
     "output_type": "execute_result"
    }
   ],
   "source": [
    "TE = Data['hl60']['delta_te'][['gene_id','gene_name','Estimate_treatmentDRUG','fdr_Pr...z.._treatmentDRUG']]\n",
    "\n",
    "te_thr=1 # Estimate_treatmentDRUG\n",
    "fdr_thr=0.50 # fdr_Pr...z.._treatmentDRUG\n",
    "\n",
    "Top['TE'] = TE.iloc[\n",
    "    [i for i,l in enumerate(\n",
    "        np.array([\n",
    "            np.array(TE.iloc[:,2].abs() >= te_thr),\n",
    "            np.array(TE.iloc[:,3] < fdr_thr)]).all(axis=0)) if l == 1]\n",
    "        ,:] \n",
    "\n",
    "Top['TE'].shape"
   ]
  },
  {
   "cell_type": "markdown",
   "metadata": {},
   "source": [
    "## $\\Delta$RNA methylation"
   ]
  },
  {
   "cell_type": "code",
   "execution_count": 5,
   "metadata": {},
   "outputs": [
    {
     "name": "stdout",
     "output_type": "stream",
     "text": [
      "(449, 4) (49, 4)\n"
     ]
    }
   ],
   "source": [
    "Mtyl = Data['hl60']['delta_mtyl'][['ensembl','name','logFC','p_value']]\n",
    "Mtyl.columns = ['gene_id','gene_name','logFC','pval']\n",
    "\n",
    "fc_thr = 4\n",
    "pv_thr = 0.0001\n",
    "\n",
    "Top['Hyper_m6A'] = Mtyl.iloc[\n",
    "    [i for i,l in enumerate(\n",
    "        np.array([\n",
    "            np.array(Mtyl.iloc[:,2] >= fc_thr),\n",
    "            np.array(Mtyl.iloc[:,3] < pv_thr)]).all(axis=0)) if l == 1]\n",
    "        ,:].sort_values('pval').drop_duplicates(subset='gene_id', keep=\"last\")\n",
    "\n",
    "\n",
    "Top['Hypo_m6A'] = Mtyl.iloc[\n",
    "    [i for i,l in enumerate(\n",
    "        np.array([\n",
    "            np.array(Mtyl.iloc[:,2] <= -fc_thr),\n",
    "            np.array(Mtyl.iloc[:,3] < pv_thr)]).all(axis=0)) if l == 1]\n",
    "        ,:].sort_values('pval').drop_duplicates(subset='gene_id', keep=\"last\")\n",
    "\n",
    "print (Top['Hyper_m6A'].shape, Top['Hypo_m6A'].shape)"
   ]
  },
  {
   "cell_type": "markdown",
   "metadata": {},
   "source": [
    "___\n",
    "\n",
    "Function!"
   ]
  },
  {
   "cell_type": "code",
   "execution_count": 6,
   "metadata": {},
   "outputs": [],
   "source": [
    "# it works for both below stablity and experssion data frames \n",
    "def find_top(\n",
    "    df, n_line, \n",
    "    pv_thr=0.05, fc_thr=2,\n",
    "    fc = range(1,13,2),\n",
    "    pv  = range(2,13,2)):\n",
    "    \n",
    "    # Select rows (genes) which has abs(log2FC) >= fc_thr & pval < pv_thr \n",
    "    # in more than n_line cell lines \n",
    "\n",
    "    top = df.iloc[\n",
    "        [i for i,l in enumerate(\n",
    "            np.array([\n",
    "                np.array(df.iloc[:,fc].abs() >= fc_thr).sum(axis=1) >= n_line,\n",
    "                np.array(df.iloc[:,pv] < pv_thr).sum(axis=1) >= n_line\n",
    "            ]).all(axis=0).tolist()) if l == 1\n",
    "        ],:]\n",
    "    \n",
    "    return top"
   ]
  },
  {
   "cell_type": "markdown",
   "metadata": {},
   "source": [
    "## $\\Delta$RNA expression "
   ]
  },
  {
   "cell_type": "code",
   "execution_count": 7,
   "metadata": {},
   "outputs": [],
   "source": [
    "E1 = Data['hl60']['delta_exp']\n",
    "E2 = Data['kg1']['delta_exp']\n",
    "E3 = Data['molm14']['delta_exp']\n",
    "E4 = Data['ociaml2']['delta_exp']\n",
    "E5 = Data['ociaml3']['delta_exp']\n",
    "E6 = Data['thp1']['delta_exp']"
   ]
  },
  {
   "cell_type": "markdown",
   "metadata": {},
   "source": [
    "load R"
   ]
  },
  {
   "cell_type": "code",
   "execution_count": 8,
   "metadata": {},
   "outputs": [],
   "source": [
    "%load_ext rpy2.ipython"
   ]
  },
  {
   "cell_type": "code",
   "execution_count": 15,
   "metadata": {},
   "outputs": [],
   "source": [
    "%%R \n",
    "library (tidyverse)\n",
    "library (UpSetR)"
   ]
  },
  {
   "cell_type": "code",
   "execution_count": 10,
   "metadata": {},
   "outputs": [],
   "source": [
    "%%R -i E1,E2,E3,E4,E5,E6 -o exp_df\n",
    "\n",
    "exp_ids = E1[,'gene_id']\n",
    "exp_names = E1[,'gene_name']\n",
    "\n",
    "Exp = list(\n",
    "    # hl60\n",
    "    E1 %>% dplyr::select('gene_id','log2FC_120h','pval_120h') %>% \n",
    "            rename(hl60.log2FC=log2FC_120h,\n",
    "                   hl60.pval=pval_120h), \n",
    "    # kg1\n",
    "    E2 %>% dplyr::select('gene_id','log2FoldChange','pvalue') %>%\n",
    "            rename(kg1.log2FC=log2FoldChange,\n",
    "                   kg1.pval=pvalue),  \n",
    "    # molm14\n",
    "    E3 %>% dplyr::select('gene_id','log2FoldChange','pvalue') %>%\n",
    "            rename(molm14.log2FC=log2FoldChange,\n",
    "                   molm14.pval=pvalue), \n",
    "    # ociaml2\n",
    "    E4 %>% dplyr::select('gene_id','log2FoldChange','pvalue') %>%\n",
    "            rename(ociaml2.log2FC=log2FoldChange,\n",
    "                   ociaml2.pval=pvalue), \n",
    "    # ociaml3    \n",
    "    E5 %>% dplyr::select('gene_id','log2FoldChange','pvalue') %>% \n",
    "            rename(ociaml3.log2FC=log2FoldChange,\n",
    "                   ociaml3.pval=pvalue), \n",
    "    # thp1\n",
    "    E6 %>% dplyr::select('gene_id','log2FoldChange','pvalue') %>%\n",
    "            rename(thp1.log2FC=log2FoldChange,\n",
    "                   thp1.pval=pvalue) \n",
    ")\n",
    "\n",
    "for (i in 1:6){\n",
    "    Exp[[i]] = Exp[[i]] %>% data.frame %>% remove_rownames %>% column_to_rownames('gene_id')\n",
    "    Exp[[i]] = Exp[[i]][exp_ids,]\n",
    "    \n",
    "}\n",
    "\n",
    "exp_df <- bind_cols(Exp) %>% add_column(gene_name=exp_names, .before=1)"
   ]
  },
  {
   "cell_type": "code",
   "execution_count": 11,
   "metadata": {},
   "outputs": [
    {
     "data": {
      "text/plain": [
       "(309, 13)"
      ]
     },
     "execution_count": 11,
     "metadata": {},
     "output_type": "execute_result"
    }
   ],
   "source": [
    "Top['Exp'] = find_top(exp_df, n_line=3, fc_thr=1)\n",
    "\n",
    "Top['Exp'].shape"
   ]
  },
  {
   "cell_type": "markdown",
   "metadata": {},
   "source": [
    "## $\\Delta$RNA stability"
   ]
  },
  {
   "cell_type": "code",
   "execution_count": 12,
   "metadata": {},
   "outputs": [],
   "source": [
    "S1 = Data['hl60']['delta_stbl']\n",
    "S2 = Data['kg1']['delta_stbl']\n",
    "S3 = Data['molm14']['delta_stbl']\n",
    "S4 = Data['ociaml2']['delta_stbl']\n",
    "S5 = Data['ociaml3']['delta_stbl']\n",
    "S6 = Data['thp1']['delta_stbl']"
   ]
  },
  {
   "cell_type": "code",
   "execution_count": 13,
   "metadata": {},
   "outputs": [],
   "source": [
    "%%R -i S1,S2,S3,S4,S5,S6 -o stbl_df\n",
    "\n",
    "stbl_ids = S1[,'ensembl_id']\n",
    "stbl_names = S1[,'gene_name']\n",
    "\n",
    "Stbl = list(\n",
    "    # hl60\n",
    "    S1 %>% dplyr::select('ensembl_id','logFC_120h','P.Value_120h') %>% \n",
    "            rename(hl60.log2FC=logFC_120h,\n",
    "                   hl60.pval=P.Value_120h), \n",
    "    # kg1\n",
    "    S2 %>% dplyr::select('ensembl_id','logFC','P.Value') %>%\n",
    "            rename(kg1.log2FC=logFC,\n",
    "                   kg1.pval=P.Value),  \n",
    "    # molm14\n",
    "    S3 %>% dplyr::select('ensembl_id','logFC','P.Value') %>%\n",
    "            rename(molm14.log2FC=logFC,\n",
    "                   molm14.pval=P.Value), \n",
    "    # ociaml2\n",
    "    S4 %>% dplyr::select('ensembl_id','logFC','P.Value') %>%\n",
    "            rename(ociaml2.log2FC=logFC,\n",
    "                   ociaml2.pval=P.Value), \n",
    "    # ociaml3    \n",
    "    S5 %>% dplyr::select('ensembl_id','logFC','P.Value') %>% \n",
    "            rename(ociaml3.log2FC=logFC,\n",
    "                   ociaml3.pval=P.Value), \n",
    "    # thp1\n",
    "    S6 %>% dplyr::select('ensembl_id','logFC','P.Value') %>%\n",
    "            rename(thp1.log2FC=logFC,\n",
    "                   thp1.pval=P.Value) \n",
    ")\n",
    "\n",
    "for (i in 1:6){\n",
    "    Stbl[[i]] = Stbl[[i]] %>% data.frame %>% remove_rownames %>% column_to_rownames('ensembl_id')\n",
    "    Stbl[[i]] = Stbl[[i]][stbl_ids,]\n",
    "    \n",
    "}\n",
    "\n",
    "stbl_df <- bind_cols(Stbl) %>% add_column(gene_name=stbl_names, .before=1)"
   ]
  },
  {
   "cell_type": "code",
   "execution_count": 14,
   "metadata": {},
   "outputs": [
    {
     "data": {
      "text/plain": [
       "(71, 13)"
      ]
     },
     "execution_count": 14,
     "metadata": {},
     "output_type": "execute_result"
    }
   ],
   "source": [
    "Top['Stbl'] = find_top(stbl_df, n_line=3, fc_thr=0.2)\n",
    "\n",
    "Top['Stbl'].shape"
   ]
  },
  {
   "cell_type": "markdown",
   "metadata": {},
   "source": [
    "## CRISPR Screen"
   ]
  },
  {
   "cell_type": "code",
   "execution_count": 24,
   "metadata": {},
   "outputs": [],
   "source": [
    "Rho = Data['hl60']['rho']\n",
    "\n",
    "Top['Rho'] = Rho.iloc[\n",
    "    np.array([i for i,l in enumerate(np.array(np.array(Rho[1].abs()) > 0.5).tolist()) if l])\n",
    "    ,:]"
   ]
  },
  {
   "cell_type": "code",
   "execution_count": 25,
   "metadata": {},
   "outputs": [],
   "source": [
    "Gamma = Data['hl60']['gamma']\n",
    "\n",
    "Top['Gamma'] = Gamma.iloc[\n",
    "    np.array([i for i,l in enumerate(np.array(np.array(Gamma[1].abs()) > 0.5).tolist()) if l])\n",
    "    ,:]"
   ]
  },
  {
   "cell_type": "code",
   "execution_count": null,
   "metadata": {},
   "outputs": [],
   "source": []
  },
  {
   "cell_type": "code",
   "execution_count": null,
   "metadata": {},
   "outputs": [],
   "source": []
  },
  {
   "cell_type": "markdown",
   "metadata": {},
   "source": [
    "# Venn diagram \n",
    "\n",
    "https://python-graph-gallery.com/172-custom-venn-diagram/"
   ]
  },
  {
   "cell_type": "code",
   "execution_count": 586,
   "metadata": {},
   "outputs": [],
   "source": [
    "Exp = Top['Exp'].gene_name.tolist()\n",
    "Stbl = Top['Stbl'].gene_name.tolist()\n",
    "TE = Top['TE'].gene_name.tolist()\n",
    "\n",
    "Rho = Top['Rho'].index.tolist()\n",
    "Gamma = Top['Gamma'].index.tolist()\n",
    "\n",
    "Hyper_m6A = Top['Hyper_m6A'].gene_name.tolist()\n",
    "Hypo_m6A = Top['Hypo_m6A'].gene_name.tolist()"
   ]
  },
  {
   "cell_type": "code",
   "execution_count": 587,
   "metadata": {},
   "outputs": [
    {
     "name": "stdout",
     "output_type": "stream",
     "text": [
      "The rpy2.ipython extension is already loaded. To reload it, use:\n",
      "  %reload_ext rpy2.ipython\n"
     ]
    }
   ],
   "source": [
    "%load_ext rpy2.ipython"
   ]
  },
  {
   "cell_type": "code",
   "execution_count": 588,
   "metadata": {},
   "outputs": [],
   "source": [
    "%%R \n",
    "library(UpSetR)"
   ]
  },
  {
   "cell_type": "code",
   "execution_count": 589,
   "metadata": {},
   "outputs": [
    {
     "data": {
      "image/png": "[encoded data removed]"
     },
     "metadata": {},
     "output_type": "display_data"
    }
   ],
   "source": [
    "%%R -i Exp,Stbl,TE,Hyper_m6A,Rho,Gamma\n",
    "\n",
    "Vecs <- list(\n",
    "    gamma_score=unlist(Gamma), rho_score=unlist(Rho), \n",
    "    translation=unlist(TE), expression=unlist(Exp), \n",
    "    stability=unlist(Stbl), hyper.m6A=unlist(Hyper_m6A)\n",
    ")\n",
    "intersection <- Reduce(intersect,Vecs)\n",
    "upset(fromList(Vecs), order.by = \"freq\")"
   ]
  },
  {
   "cell_type": "markdown",
   "metadata": {},
   "source": [
    "# Final merged table"
   ]
  },
  {
   "cell_type": "code",
   "execution_count": 67,
   "metadata": {},
   "outputs": [],
   "source": [
    "uniq_genes = list(\n",
    "    set(TE.gene_name.tolist()) &\n",
    "    set(Mtyl.gene_name.tolist()) &\n",
    "    set(stbl_df.gene_name.tolist()) &\n",
    "    set(exp_df.gene_name.tolist()) &\n",
    "    set(Gamma.index.tolist()) &\n",
    "    set(Rho.index.tolist())\n",
    ")"
   ]
  },
  {
   "cell_type": "code",
   "execution_count": 73,
   "metadata": {},
   "outputs": [
    {
     "data": {
      "text/plain": [
       "662"
      ]
     },
     "execution_count": 73,
     "metadata": {},
     "output_type": "execute_result"
    }
   ],
   "source": [
    "len(uniq_genes)"
   ]
  },
  {
   "cell_type": "markdown",
   "metadata": {},
   "source": [
    "I'm not sure which subset of genes are related to our purpose."
   ]
  },
  {
   "cell_type": "code",
   "execution_count": 74,
   "metadata": {},
   "outputs": [],
   "source": [
    "# %%R -i uniq_genes,TE\n",
    "# # ,Mtyl,stbl_df,exp_df,Gamma,Rho\n",
    "# t = TE %>% select(-'gene_id') %>% remove_rownames %>% column_to_rownames('gene_name')\n",
    "\n",
    "# # unlist(uniq_genes)%>% head\n",
    "# t %>% head\n",
    "\n"
   ]
  },
  {
   "cell_type": "code",
   "execution_count": 38,
   "metadata": {},
   "outputs": [
    {
     "name": "stdout",
     "output_type": "stream",
     "text": [
      "R version 4.0.3 (2020-10-10)\n",
      "Platform: x86_64-conda-linux-gnu (64-bit)\n",
      "Running under: Ubuntu 18.04.4 LTS\n",
      "\n",
      "Matrix products: default\n",
      "BLAS/LAPACK: /rumi/shams/abe/anaconda3/envs/deseq2/lib/libopenblasp-r0.3.10.so\n",
      "\n",
      "locale:\n",
      " [1] LC_CTYPE=en_US.UTF-8       LC_NUMERIC=C              \n",
      " [3] LC_TIME=en_US.UTF-8        LC_COLLATE=en_US.UTF-8    \n",
      " [5] LC_MONETARY=en_US.UTF-8    LC_MESSAGES=en_US.UTF-8   \n",
      " [7] LC_PAPER=en_US.UTF-8       LC_NAME=C                 \n",
      " [9] LC_ADDRESS=C               LC_TELEPHONE=C            \n",
      "[11] LC_MEASUREMENT=en_US.UTF-8 LC_IDENTIFICATION=C       \n",
      "\n",
      "attached base packages:\n",
      "[1] tools     stats     graphics  grDevices utils     datasets  methods  \n",
      "[8] base     \n",
      "\n",
      "other attached packages:\n",
      " [1] UpSetR_1.4.0    forcats_0.5.0   stringr_1.4.0   dplyr_1.0.2    \n",
      " [5] purrr_0.3.4     readr_1.4.0     tidyr_1.1.2     tibble_3.0.4   \n",
      " [9] ggplot2_3.3.2   tidyverse_1.3.0\n",
      "\n",
      "loaded via a namespace (and not attached):\n",
      " [1] Rcpp_1.0.4.6     plyr_1.8.6       pillar_1.4.6     compiler_4.0.3  \n",
      " [5] cellranger_1.1.0 dbplyr_1.4.4     jsonlite_1.7.1   lubridate_1.7.9 \n",
      " [9] lifecycle_0.2.0  gtable_0.3.0     pkgconfig_2.0.3  rlang_0.4.7     \n",
      "[13] reprex_0.3.0     cli_2.1.0        rstudioapi_0.11  DBI_1.1.0       \n",
      "[17] haven_2.3.1      gridExtra_2.3    withr_2.3.0      xml2_1.3.2      \n",
      "[21] httr_1.4.2       fs_1.5.0         generics_0.0.2   vctrs_0.3.4     \n",
      "[25] hms_0.5.3        grid_4.0.3       tidyselect_1.1.0 glue_1.4.2      \n",
      "[29] R6_2.4.1         fansi_0.4.1      readxl_1.3.1     modelr_0.1.8    \n",
      "[33] blob_1.2.1       magrittr_1.5     ps_1.4.0         backports_1.1.10\n",
      "[37] scales_1.1.1     ellipsis_0.3.1   rvest_0.3.6      assertthat_0.2.1\n",
      "[41] colorspace_1.4-1 stringi_1.5.3    munsell_0.5.0    broom_0.7.2     \n",
      "[45] crayon_1.3.4    \n"
     ]
    }
   ],
   "source": [
    "%%R \n",
    "sessionInfo()"
   ]
  },
  {
   "cell_type": "code",
   "execution_count": 40,
   "metadata": {},
   "outputs": [],
   "source": [
    "# https://stackoverflow.com/questions/2617600/importing-data-from-a-json-file-into-r"
   ]
  }
 ],
 "metadata": {
  "kernelspec": {
   "display_name": "Python [conda env:deseq2]",
   "language": "python",
   "name": "conda-env-deseq2-py"
  },
  "language_info": {
   "codemirror_mode": {
    "name": "ipython",
    "version": 3
   },
   "file_extension": ".py",
   "mimetype": "text/x-python",
   "name": "python",
   "nbconvert_exporter": "python",
   "pygments_lexer": "ipython3",
   "version": "3.6.10"
  }
 },
 "nbformat": 4,
 "nbformat_minor": 4
}
