{
 "cells": [
  {
   "cell_type": "markdown",
   "metadata": {},
   "source": [
    "here I'm using a custom [scallop](https://github.com/Kingsford-Group/scallop) + [gtfmerge](https://github.com/Kingsford-Group/rnaseqtools#gtfmerge) pipeline to create merged gtf annotation of hg19 and tinat transcripts introduced in this \n",
    "\n",
    "Alex\n",
    "> I was curious myself so I decided to align our RNA-seq data to their chimeric transcripts... it looks promising, but let me know if there's anything in my analysis I need to change. Still working on seeing if we can identify alternative TSS without CAGE-seq. \n",
    "I'm guessing we can look for novel transcripts using [StringTie](https://ccb.jhu.edu/software/stringtie/) or cufflinks?\n",
    "\n",
    "Ray\n",
    "> I'm asking because in [this paper](https://www.nature.com/articles/ng.3889) they treated lung cancer cells with decitabine and performed Cage-seq to map and identify cryptic transcription start sites. They found cryptic TSSs that generated spliced variants, half of which were in-frame isoforms (and some of which resulted in chimeric transcripts, others original or truncated). This got me thinking about our project and whether we could see these chimeric/fusion transcripts (that are skewed toward the 5'end due Cage-seq and being TSS-induced) in HL60s.  \n",
    "\n",
    "\n",
    "Luke\n",
    "> Hi Ray, Alex and Abe\n",
    "This is an interesting paper which claims genetic alterations to DNA methylation core genes drive dysregulated hematopoietic development due to CpG changes that regulate transcription factor binding (figure 4 and 5). How many TFs are methylation sensitive has been controversial in my understanding but is an interesting idea with lots of data within mylomonocytic cells. https://www.nature.com/articles/s41588-020-0595-4\n",
    "I am not suggesting a specific plan but this is an interesting idea.\n"
   ]
  },
  {
   "cell_type": "code",
   "execution_count": 3,
   "metadata": {},
   "outputs": [
    {
     "name": "stdout",
     "output_type": "stream",
     "text": [
      "hg19/hg19.knownGene.gtf\r\n",
      "tinat/DAC+SB_TINATs.gtf\r\n",
      "tinat/DAC_TINATs.gtf\r\n",
      "tinat/SB939_TINATs.gtf\r\n",
      "\r\n"
     ]
    }
   ],
   "source": [
    "cat scallop/tinat/tinat-gtf-list.txt"
   ]
  },
  {
   "cell_type": "code",
   "execution_count": 4,
   "metadata": {},
   "outputs": [
    {
     "name": "stdout",
     "output_type": "stream",
     "text": [
      "mkdir -p scallop/tinat/compare\r\n",
      "\r\n",
      "PATH=$PATH:/rumi/shams/abe/Workflows/rnaseqtools-1.0.3/bin/\r\n",
      "\r\n",
      "conda activate scallop\r\n",
      "# 1. merge\r\n",
      "gtfmerge union scallop/tinat/tinat-gtf-list.txt scallop/tinat/hg19.tinat.gtf -t 18\r\n",
      "# 2. compare \r\n",
      "gffcompare -o scallop/tinat/gffall -r /rumi/shams/genomes/hg19/hg19_genes.gtf scallop/tinat/hg19.tinat.gtf \r\n",
      "# 3. subset\r\n",
      "gtfcuff puniq scallop/tinat/gffall.hg19.tinat.gtf.tmap scallop/tinat/hg19.tinat.gtf /rumi/shams/genomes/hg19/hg19_genes.gtf scallop/tinat/unique.gtf\r\n",
      "# 4. gtf2fasta\r\n",
      "gffread scallop/tinat/unique.gtf -g /rumi/shams/genomes/hg19/hg19.fa -w scallop/tinat/unique.fa\r\n",
      "# 5.concatenate with hg19 fasta\r\n",
      "# mkdir -p scallop/hg19\r\n",
      "# wget https://hgdownload.soe.ucsc.edu/goldenPath/hg19/bigZips/genes/hg19.knownGene.gtf.gz\r\n",
      "# mv hg19.knownGene.gtf.gz scallop/hg19/hg19.knownGene.gtf.gz\r\n",
      "# gunzip scallop/hg19/hg19.knownGene.gtf.gz\r\n",
      "gffread scallop/hg19/hg19.knownGene.gtf -g /rumi/shams/genomes/hg19/hg19.fa -w scallop/hg19/hg19.knownGene.fa\r\n",
      "cat scallop/hg19/hg19.knownGene.fa scallop/tinat/unique.fa > scallop/tinat/hg19.tinat.fa\r\n",
      "\r\n",
      "# alignment \r\n",
      "conda activate alignment\r\n",
      "\r\n",
      "salmon index -t scallop/tinat/hg19.tinat.fa -i scallop/tinat/salmon.index -p 12\r\n",
      "\r\n",
      "mkdir -p hg19.tinat_quants\r\n",
      "\r\n",
      "for f in fastq/*; do\r\n",
      "\tf=`basename $f`;\r\n",
      "\to=${f/.fastq.gz/};\r\n",
      "\tsalmon quant -i scallop/tinat/salmon.index -l A \\\r\n",
      "\t-r fastq/$f -o hg19.tinat_quants/$o -p 12;\r\n",
      "done\r\n"
     ]
    }
   ],
   "source": [
    "cat scallop/tinat.sh"
   ]
  },
  {
   "cell_type": "markdown",
   "metadata": {},
   "source": [
    "# R"
   ]
  },
  {
   "cell_type": "code",
   "execution_count": 1,
   "metadata": {},
   "outputs": [],
   "source": [
    "%reload_ext rpy2.ipython"
   ]
  },
  {
   "cell_type": "code",
   "execution_count": 3,
   "metadata": {},
   "outputs": [],
   "source": [
    "%%R \n",
    "library (GenomicFeatures)\n",
    "library (tximport)\n",
    "library (tidyverse)\n",
    "library (ggplot2)\n",
    "library (ggrepel)\n",
    "library (DESeq2)\n",
    "library (patchwork)\n",
    "library (BiocParallel)\n",
    "register(MulticoreParam(18))\n",
    "\n",
    "plot_Save <- function (p, name_it){\n",
    "    ggsave(paste(name_it,'png',sep='.'), plot = p, device = 'png', dpi = 300)\n",
    "    ggsave(paste(name_it,'pdf',sep='.'), plot = p, device = 'pdf', dpi = 300)\n",
    "}"
   ]
  },
  {
   "cell_type": "markdown",
   "metadata": {},
   "source": [
    "### Load genome annotations "
   ]
  },
  {
   "cell_type": "code",
   "execution_count": 4,
   "metadata": {},
   "outputs": [
    {
     "name": "stderr",
     "output_type": "stream",
     "text": [
      "R[write to console]: Import genomic features from the file as a GRanges object ... \n",
      "R[write to console]: OK\n",
      "\n",
      "R[write to console]: Prepare the 'metadata' data frame ... \n",
      "R[write to console]: OK\n",
      "\n",
      "R[write to console]: Make the TxDb object ... \n",
      "R[write to console]: OK\n",
      "\n",
      "R[write to console]: 'select()' returned 1:1 mapping between keys and columns\n",
      "\n"
     ]
    }
   ],
   "source": [
    "%%R \n",
    "txdb.hg19  = makeTxDbFromGFF('scallop/hg19/hg19.knownGene.gtf', organism='Homo sapiens')\n",
    "\n",
    "tin_1 <- rtracklayer::import('scallop/tinat/DAC+SB_TINATs.gtf')%>% data.frame %>% filter(type == \"transcript\") %>% dplyr::select('gene_id','transcript_id')\n",
    "tin_2 <- rtracklayer::import('scallop/tinat/DAC_TINATs.gtf')   %>% data.frame %>% filter(type == \"transcript\") %>% dplyr::select('gene_id','transcript_id')\n",
    "tin_3 <- rtracklayer::import('scallop/tinat/SB939_TINATs.gtf') %>% data.frame %>% filter(type == \"transcript\") %>% dplyr::select('gene_id','transcript_id')\n",
    "tins <- rbind(tin_1, tin_2,tin_3) \n",
    "colnames(tins) <- c(\"GENEID\", \"TXNAME\")\n",
    "# tx2gene objects \n",
    "k.hg19 <- keys(txdb.hg19, keytype = \"TXNAME\")\n",
    "tx2gene.hg19 <- AnnotationDbi::select(txdb.hg19, k.hg19, \"GENEID\", \"TXNAME\")\n",
    "\n",
    "tx2gene = rbind(tx2gene.hg19, tins)"
   ]
  },
  {
   "cell_type": "code",
   "execution_count": 5,
   "metadata": {},
   "outputs": [
    {
     "name": "stdout",
     "output_type": "stream",
     "text": [
      "[1] 3627  453  744\n"
     ]
    }
   ],
   "source": [
    "%%R\n",
    "c(tin_1 %>% nrow, tin_2 %>% nrow, tin_3 %>% nrow)"
   ]
  },
  {
   "cell_type": "code",
   "execution_count": 6,
   "metadata": {},
   "outputs": [
    {
     "name": "stdout",
     "output_type": "stream",
     "text": [
      "12172 scallop/tinat/DAC+SB_TINATs.gtf\n",
      "1403 scallop/tinat/DAC_TINATs.gtf\n",
      "2059 scallop/tinat/SB939_TINATs.gtf\n"
     ]
    }
   ],
   "source": [
    "%%bash \n",
    "# cat scallop/tinat/tinat-gtf-list.txt\n",
    "wc -l scallop/tinat/DAC+SB_TINATs.gtf\n",
    "wc -l scallop/tinat/DAC_TINATs.gtf\n",
    "wc -l scallop/tinat/SB939_TINATs.gtf"
   ]
  },
  {
   "cell_type": "code",
   "execution_count": 7,
   "metadata": {},
   "outputs": [
    {
     "name": "stdout",
     "output_type": "stream",
     "text": [
      "[1] 87784\n"
     ]
    }
   ],
   "source": [
    "%%R\n",
    "tx2gene %>% nrow"
   ]
  },
  {
   "cell_type": "code",
   "execution_count": 8,
   "metadata": {},
   "outputs": [
    {
     "name": "stdout",
     "output_type": "stream",
     "text": [
      "[1] 82960\n"
     ]
    }
   ],
   "source": [
    "%%R\n",
    "tx2gene.hg19 %>% nrow"
   ]
  },
  {
   "cell_type": "code",
   "execution_count": 9,
   "metadata": {},
   "outputs": [
    {
     "name": "stdout",
     "output_type": "stream",
     "text": [
      "[1] 4824\n"
     ]
    }
   ],
   "source": [
    "%%R\n",
    "tins %>% nrow "
   ]
  },
  {
   "cell_type": "markdown",
   "metadata": {},
   "source": [
    "Read salmon quants "
   ]
  },
  {
   "cell_type": "code",
   "execution_count": 10,
   "metadata": {},
   "outputs": [
    {
     "name": "stderr",
     "output_type": "stream",
     "text": [
      "R[write to console]: reading in files with read_tsv\n",
      "\n",
      "R[write to console]: 1 \n",
      "R[write to console]: 2 \n",
      "R[write to console]: 3 \n",
      "R[write to console]: 4 \n",
      "R[write to console]: 5 \n",
      "R[write to console]: 6 \n",
      "R[write to console]: 7 \n",
      "R[write to console]: 8 \n",
      "R[write to console]: 9 \n",
      "R[write to console]: 10 \n",
      "R[write to console]: 11 \n",
      "R[write to console]: 12 \n",
      "R[write to console]: \n",
      "\n"
     ]
    }
   ],
   "source": [
    "%%R\n",
    "files <- list.files(path='./scallop/hg19.tinat_quants', pattern=\"quant.sf\",full.names = TRUE, recursive=T)\n",
    "names(files) <- gsub(\"./scallop/hg19.tinat_quants/(\\\\S+)/quant.sf\",\"\\\\1\",files)\n",
    "\n",
    "txi <- tximport(files, type = \"salmon\", tx2gene = tx2gene, txOut=T)"
   ]
  },
  {
   "cell_type": "code",
   "execution_count": 11,
   "metadata": {},
   "outputs": [],
   "source": [
    "# %%R\n",
    "# txi.gene <- summarizeToGene(txi, tx2gene, ignoreAfterBar= TRUE)"
   ]
  },
  {
   "cell_type": "markdown",
   "metadata": {},
   "source": [
    "Define the sample sheet "
   ]
  },
  {
   "cell_type": "code",
   "execution_count": 12,
   "metadata": {},
   "outputs": [
    {
     "name": "stdout",
     "output_type": "stream",
     "text": [
      "                  time    cond         sample_id\n",
      "120h_DMSO_rep1    120h    DMSO    120h_DMSO_rep1\n",
      "120h_DMSO_rep2    120h    DMSO    120h_DMSO_rep2\n",
      "120h_treated_rep1 120h treated 120h_treated_rep1\n",
      "120h_treated_rep2 120h treated 120h_treated_rep2\n",
      "6h_DMSO_rep1        6h    DMSO      6h_DMSO_rep1\n",
      "6h_DMSO_rep2        6h    DMSO      6h_DMSO_rep2\n",
      "6h_treated_rep1     6h treated   6h_treated_rep1\n",
      "6h_treated_rep2     6h treated   6h_treated_rep2\n",
      "72h_DMSO_rep1      72h    DMSO     72h_DMSO_rep1\n",
      "72h_DMSO_rep2      72h    DMSO     72h_DMSO_rep2\n",
      "72h_treated_rep1   72h treated  72h_treated_rep1\n",
      "72h_treated_rep2   72h treated  72h_treated_rep2\n"
     ]
    }
   ],
   "source": [
    "%%R \n",
    "# meta \n",
    "treats  <- rep(c(rep('DMSO',2), rep('treated',2)),3)\n",
    "reps    <- rep(c('rep1','rep2'),6)\n",
    "hours   <- c(rep('120h',4),rep('6h',4),rep('72h',4))\n",
    "colData <- data.frame(\n",
    "    time=hours, \n",
    "    cond=treats, \n",
    "    sample_id=paste(hours, treats, reps, sep='_'),\n",
    "    row.names=colnames(txi$abundance))\n",
    "colData"
   ]
  },
  {
   "cell_type": "markdown",
   "metadata": {},
   "source": [
    "# Differential expression analysis"
   ]
  },
  {
   "cell_type": "code",
   "execution_count": 13,
   "metadata": {},
   "outputs": [],
   "source": [
    "%%R\n",
    "plot_Volcano <- function(res, lfc.cutoff  = 1,pval.cutoff = 0.05, title='', x_min=-20,x_max=20){\n",
    "    res$sig <- as.factor(res$pvalue < pval.cutoff & abs(res$log2FoldChange) > lfc.cutoff)\n",
    "    relevel(res$sig, ref=TRUE)\n",
    "    vol = res %>% ggplot(\n",
    "        aes(x=log2FoldChange, y=-log10(pvalue), colour=sig, fill=sig)) +\n",
    "        geom_point(aes(color = sig),alpha = 1/10) +\n",
    "            xlim(c(x_min,x_max)) +\n",
    "    #         ylim(c(0,11)) +\n",
    "            geom_hline(yintercept=-log10(pval.cutoff), linetype=\"dashed\", alpha = 4/10) +\n",
    "            geom_vline(xintercept=lfc.cutoff, linetype=\"dashed\", alpha = 4/10) +\n",
    "            geom_vline(xintercept=(-1)*lfc.cutoff, linetype=\"dashed\", alpha = 4/10) +\n",
    "            scale_color_manual(values = c(\"grey\", \"red\")) +\n",
    "            theme_bw() + \n",
    "            theme(legend.position=\"none\") +\n",
    "            ggtitle (title) + \n",
    "            geom_text_repel(\n",
    "                data = subset(res[order(res$pvalue),], sig == TRUE)[1:7,],\n",
    "                aes(label = name),\n",
    "                size = 3,\n",
    "                box.padding = unit(0.35, \"lines\"),\n",
    "                point.padding = unit(0.3, \"lines\")\n",
    "            )\n",
    "     return (vol)\n",
    "} \n",
    "\n",
    "get_Result <- function(dds, design){\n",
    "    res = results(dds, contrast=design, parallel=TRUE)  %>% data.frame  %>% add_column(name=rownames(dds))\n",
    "    res$log2FoldChange[is.na(res$log2FoldChange)] <- 0\n",
    "    res$padj[is.na(res$padj)] <- 1\n",
    "    return (res)\n",
    "}\n",
    "\n",
    "write_Result <- function(res, name_it, col=FALSE, row=FALSE){\n",
    "    write.table(res,name_it, sep=\"\\t\", quote=FALSE, col.names=col, row.names=row)\n",
    "}"
   ]
  },
  {
   "cell_type": "code",
   "execution_count": 14,
   "metadata": {
    "scrolled": false
   },
   "outputs": [
    {
     "name": "stderr",
     "output_type": "stream",
     "text": [
      "R[write to console]: using counts and average transcript lengths from tximport\n",
      "\n",
      "R[write to console]: estimating size factors\n",
      "\n",
      "R[write to console]: using 'avgTxLength' from assays(dds), correcting for library size\n",
      "\n",
      "R[write to console]: estimating dispersions\n",
      "\n",
      "R[write to console]: gene-wise dispersion estimates: 18 workers\n",
      "\n",
      "R[write to console]: mean-dispersion relationship\n",
      "\n",
      "R[write to console]: final dispersion estimates, fitting model and testing: 18 workers\n",
      "\n"
     ]
    }
   ],
   "source": [
    "%%R \n",
    "dds <- DESeqDataSetFromTximport(txi, colData, ~cond + time + cond:time)\n",
    "\n",
    "dds$time <- relevel(dds$time, ref=\"6h\")\n",
    "\n",
    "# Annova\n",
    "dds <- DESeq(dds, test=\"LRT\", reduced=~1, parallel=TRUE)\n",
    "ncu <- counts(dds, normalized=TRUE) \n",
    "write.table(ncu,'scallop/DE2norm.txt', sep=\"\\t\", quote=FALSE, col.names=colData$sample_id)"
   ]
  },
  {
   "cell_type": "code",
   "execution_count": 15,
   "metadata": {},
   "outputs": [
    {
     "name": "stdout",
     "output_type": "stream",
     "text": [
      "[1] \"Intercept\"            \"cond_treated_vs_DMSO\" \"time_120h_vs_6h\"     \n",
      "[4] \"time_72h_vs_6h\"       \"condtreated.time120h\" \"condtreated.time72h\" \n"
     ]
    }
   ],
   "source": [
    "%%R\n",
    "resultsNames(dds)"
   ]
  },
  {
   "cell_type": "code",
   "execution_count": 16,
   "metadata": {},
   "outputs": [
    {
     "name": "stderr",
     "output_type": "stream",
     "text": [
      "R[write to console]: using counts and average transcript lengths from tximport\n",
      "\n",
      "R[write to console]: estimating size factors\n",
      "\n",
      "R[write to console]: using 'avgTxLength' from assays(dds), correcting for library size\n",
      "\n",
      "R[write to console]: estimating dispersions\n",
      "\n",
      "R[write to console]: gene-wise dispersion estimates: 18 workers\n",
      "\n",
      "R[write to console]: mean-dispersion relationship\n",
      "\n",
      "R[write to console]: final dispersion estimates, fitting model and testing: 18 workers\n",
      "\n"
     ]
    }
   ],
   "source": [
    "%%R\n",
    "dds_ind <- DESeqDataSetFromTximport(txi, colData, ~cond + time)\n",
    "dds_ind$time <- relevel(dds_ind$time, ref=\"6h\")\n",
    "\n",
    "dds_ind <- DESeq(dds_ind, test=\"LRT\", reduced=~1, parallel=TRUE)"
   ]
  },
  {
   "cell_type": "code",
   "execution_count": 17,
   "metadata": {},
   "outputs": [
    {
     "name": "stdout",
     "output_type": "stream",
     "text": [
      "[1] 35932    12\n"
     ]
    }
   ],
   "source": [
    "%%R\n",
    "counts(dds_ind) %>% dim "
   ]
  },
  {
   "cell_type": "code",
   "execution_count": 34,
   "metadata": {},
   "outputs": [],
   "source": [
    "%%R\n",
    "# no interaction\n",
    "res.ind = get_Result(dds_ind,list('cond_treated_vs_DMSO'))\n",
    "\n",
    "# contrast design: treatment at 6h vs dmso at 6h\n",
    "res.6h  = get_Result(dds, list('cond_treated_vs_DMSO'))\n",
    "res.6h  [res.6h$padj   > 0.05,] = res.ind[res.6h$padj  > 0.05,]\n",
    "\n",
    "# contrast design: treatment at 72h vs dmso at 72h\n",
    "res.72h = get_Result(dds, list('cond_treated_vs_DMSO', 'condtreated.time72h'))\n",
    "res.72h [res.72h$padj  > 0.05,] = res.ind[res.72h$padj > 0.05,]\n",
    "\n",
    "# contrast design: treatment at 120h vs dmso at 120h\n",
    "res.120h= get_Result(dds, list('cond_treated_vs_DMSO', 'condtreated.time120h'))\n",
    "res.120h[res.120h$padj > 0.05,] = res.ind[res.120h$padj> 0.05,]\n",
    "\n",
    "res.ind  = res.ind [!rownames(res.ind) %in% tx2gene.hg19$TXNAME,] \n",
    "res.6h   = res.6h  [!rownames(res.6h)  %in% tx2gene.hg19$TXNAME,] \n",
    "res.72h  = res.72h [!rownames(res.72h) %in% tx2gene.hg19$TXNAME,] \n",
    "res.120h = res.120h[!rownames(res.120h)%in% tx2gene.hg19$TXNAME,] "
   ]
  },
  {
   "cell_type": "code",
   "execution_count": 35,
   "metadata": {},
   "outputs": [],
   "source": [
    "%%R    \n",
    "df = data.frame(\n",
    "    'gene_id'=rownames(res.ind), \n",
    "    'baseMean' = res.ind$baseMean,\n",
    "    'log2FC_6h' = res.6h$log2FoldChange,'pval_6h'= res.6h$pval,\n",
    "    'log2FC_72h' = res.72h$log2FoldChange,'pval_72h'= res.72h$pval,\n",
    "    'log2FC_120h'  = res.120h$log2FoldChange,'pval_120h'= res.120h$pval)\n",
    "    \n",
    "df = df[order(df$log2FC_120h),]\n",
    "    \n",
    "write_Result(df, 'scallop/results_time_factor.txt', col=TRUE)"
   ]
  },
  {
   "cell_type": "code",
   "execution_count": 36,
   "metadata": {},
   "outputs": [
    {
     "name": "stderr",
     "output_type": "stream",
     "text": [
      "R[write to console]: Saving 6.67 x 6.67 in image\n",
      "\n",
      "R[write to console]: Saving 6.67 x 6.67 in image\n",
      "\n"
     ]
    },
    {
     "data": {
      "image/png": "[encoded data removed]"
     },
     "metadata": {},
     "output_type": "display_data"
    }
   ],
   "source": [
    "%%R\n",
    "vol.6h  = plot_Volcano(res.6h[tins$GENEID,], title='Treated time: 6 hours',x_min=-5,x_max=5)\n",
    "vol.72h = plot_Volcano(res.72h[tins$GENEID,], title='Treated time: 72 hours',x_min=-5,x_max=5)\n",
    "vol.120h= plot_Volcano(res.120h[tins$GENEID,], title='Treated time: 120 hours',x_min=-5,x_max=5)\n",
    "\n",
    "vol = vol.6h / vol.72h / vol.120h\n",
    "plot_Save(vol, 'scallop/Volcano_time_factor')\n",
    "vol"
   ]
  },
  {
   "cell_type": "markdown",
   "metadata": {},
   "source": [
    "### Second scenario\n",
    "Time as continues variable"
   ]
  },
  {
   "cell_type": "code",
   "execution_count": 2,
   "metadata": {},
   "outputs": [],
   "source": [
    "# %%R \n",
    "# # meta \n",
    "# colData.T <- data.frame(\n",
    "#     time=c(rep(120,4),rep(6,4),rep(72,4)), \n",
    "#     cond=rep(c(rep('DMSO',2), rep('treated',2)),3), \n",
    "#     time_cond=paste(hours,treats,sep='_'), \n",
    "#     sample_id=colnames(txi$abundance),\n",
    "#     row.names=colnames(txi$abundance))\n",
    "\n",
    "# dds.T <- DESeqDataSetFromTximport(txi, colData.T, ~cond + time + cond:time)\n",
    "# dds.T <- DESeq(dds.T, test=\"LRT\", reduced=~1, parallel=TRUE)"
   ]
  },
  {
   "cell_type": "code",
   "execution_count": 3,
   "metadata": {},
   "outputs": [],
   "source": [
    "# %%R\n",
    "# resultsNames(dds.T)"
   ]
  },
  {
   "cell_type": "code",
   "execution_count": 4,
   "metadata": {
    "scrolled": false
   },
   "outputs": [],
   "source": [
    "# %%R\n",
    "# res_cnt_time_T_vs_U = results(dds.T, name='cond_treated_vs_DMSO', parallel = TRUE) %>% \n",
    "#     data.frame %>% add_column(name = rownames(dds.T))\n",
    "# res_cnt_time_T_vs_U$log2FoldChange[is.na(res_cnt_time_T_vs_U$log2FoldChange)] <- 0\n",
    "# res_cnt_time_T_vs_U$padj[is.na(res_cnt_time_T_vs_U$padj)] <- 1\n",
    "\n",
    "# res_cnt_time = results(dds.T, name='condtreated.time', parallel=TRUE) %>% \n",
    "#     data.frame %>% add_column(name = rownames(dds.T))\n",
    "# res_cnt_time$log2FoldChange[is.na(res_cnt_time$log2FoldChange)] <- 0\n",
    "# res_cnt_time$padj[is.na(res_cnt_time$padj)] <- 1\n",
    "\n",
    "# res_cnt_time_T_vs_U  = res_cnt_time_T_vs_U [!rownames(res_cnt_time_T_vs_U) %in% tx2gene.hg19$TXNAME,] \n",
    "# res_cnt_time  = res_cnt_time [!rownames(res_cnt_time) %in% tx2gene.hg19$TXNAME,] "
   ]
  },
  {
   "cell_type": "code",
   "execution_count": 5,
   "metadata": {},
   "outputs": [],
   "source": [
    "# %%R\n",
    "# p1 = plot_Volcano(res_cnt_time_T_vs_U, 0.1, title='Time as continuous variable: Treated vs DMSO', \n",
    "#                   x_min=-2,x_max=2)\n",
    "# p2 = plot_Volcano(res_cnt_time, 0.01, title='Time as continuous variable: Condition and time interaction', \n",
    "#                   x_min=-0.1,x_max=0.1)\n",
    "\n",
    "# plot_Save(p1 / p2, 'scallop/Volcano_time_continuous')\n",
    "\n",
    "# p1 / p2"
   ]
  },
  {
   "cell_type": "code",
   "execution_count": 6,
   "metadata": {},
   "outputs": [],
   "source": [
    "# %%R\n",
    "# df = data.frame(\n",
    "#     'gene_id'=rownames(res_cnt_time_T_vs_U), 'gene_name'= res_cnt_time_T_vs_U$name,\n",
    "#     'baseMean' = res_cnt_time$baseMean,\n",
    "#     'log2FC_time' = res_cnt_time$log2FoldChange,'log2FC_time'= res_cnt_time$pval,\n",
    "#     'log2FC_T_vs_U' = res_cnt_time_T_vs_U$log2FoldChange,'pval_T_vs_U'= res_cnt_time_T_vs_U$pval\n",
    "# )    \n",
    "# df = df[order(df$log2FC_time),]\n",
    "\n",
    "# write_Result(df, 'scallop/results_time_continuous.txt', col=TRUE)"
   ]
  },
  {
   "cell_type": "code",
   "execution_count": 21,
   "metadata": {},
   "outputs": [
    {
     "name": "stdout",
     "output_type": "stream",
     "text": [
      "R version 3.5.1 (2018-07-02)\n",
      "Platform: x86_64-conda_cos6-linux-gnu (64-bit)\n",
      "Running under: Ubuntu 18.04.4 LTS\n",
      "\n",
      "Matrix products: default\n",
      "BLAS/LAPACK: /rumi/shams/abe/anaconda3/envs/deseq/lib/R/lib/libRlapack.so\n",
      "\n",
      "locale:\n",
      " [1] LC_CTYPE=en_US.UTF-8       LC_NUMERIC=C              \n",
      " [3] LC_TIME=en_US.UTF-8        LC_COLLATE=en_US.UTF-8    \n",
      " [5] LC_MONETARY=en_US.UTF-8    LC_MESSAGES=en_US.UTF-8   \n",
      " [7] LC_PAPER=en_US.UTF-8       LC_NAME=C                 \n",
      " [9] LC_ADDRESS=C               LC_TELEPHONE=C            \n",
      "[11] LC_MEASUREMENT=en_US.UTF-8 LC_IDENTIFICATION=C       \n",
      "\n",
      "attached base packages:\n",
      " [1] stats4    parallel  tools     stats     graphics  grDevices utils    \n",
      " [8] datasets  methods   base     \n",
      "\n",
      "other attached packages:\n",
      " [1] patchwork_1.0.0             DESeq2_1.20.0              \n",
      " [3] SummarizedExperiment_1.10.1 DelayedArray_0.6.6         \n",
      " [5] BiocParallel_1.14.2         matrixStats_0.55.0         \n",
      " [7] ggrepel_0.8.1               forcats_0.4.0              \n",
      " [9] stringr_1.4.0               dplyr_0.8.3                \n",
      "[11] purrr_0.3.3                 readr_1.3.1                \n",
      "[13] tidyr_1.0.0                 tibble_2.1.3               \n",
      "[15] ggplot2_3.2.1               tidyverse_1.2.1            \n",
      "[17] tximport_1.10.1             GenomicFeatures_1.32.3     \n",
      "[19] AnnotationDbi_1.42.1        Biobase_2.40.0             \n",
      "[21] GenomicRanges_1.32.7        GenomeInfoDb_1.16.0        \n",
      "[23] IRanges_2.14.12             S4Vectors_0.18.3           \n",
      "[25] BiocGenerics_0.26.0        \n",
      "\n",
      "loaded via a namespace (and not attached):\n",
      " [1] nlme_3.1-141             bitops_1.0-6             lubridate_1.7.4         \n",
      " [4] bit64_0.9-7              RColorBrewer_1.1-2       progress_1.2.2          \n",
      " [7] httr_1.4.1               backports_1.1.5          R6_2.4.0                \n",
      "[10] rpart_4.1-15             Hmisc_4.2-0              DBI_1.0.0               \n",
      "[13] lazyeval_0.2.2           colorspace_1.4-1         nnet_7.3-12             \n",
      "[16] withr_2.1.2              gridExtra_2.3            tidyselect_0.2.5        \n",
      "[19] prettyunits_1.0.2        bit_1.1-14               compiler_3.5.1          \n",
      "[22] cli_1.1.0                rvest_0.3.5              htmlTable_1.13.2        \n",
      "[25] xml2_1.2.2               labeling_0.3             rtracklayer_1.40.6      \n",
      "[28] checkmate_1.9.4          scales_1.0.0             genefilter_1.62.0       \n",
      "[31] digest_0.6.22            Rsamtools_1.32.3         foreign_0.8-72          \n",
      "[34] XVector_0.20.0           htmltools_0.4.0          base64enc_0.1-3         \n",
      "[37] pkgconfig_2.0.3          htmlwidgets_1.5.1        rlang_0.4.1             \n",
      "[40] readxl_1.3.1             rstudioapi_0.10          RSQLite_2.1.2           \n",
      "[43] jsonlite_1.6             acepack_1.4.1            RCurl_1.95-4.12         \n",
      "[46] magrittr_1.5             GenomeInfoDbData_1.1.0   Formula_1.2-3           \n",
      "[49] Matrix_1.2-17            Rcpp_1.0.3               munsell_0.5.0           \n",
      "[52] lifecycle_0.1.0          stringi_1.4.3            zlibbioc_1.26.0         \n",
      "[55] grid_3.5.1               blob_1.2.0               crayon_1.3.4            \n",
      "[58] lattice_0.20-38          Biostrings_2.48.0        haven_2.2.0             \n",
      "[61] splines_3.5.1            annotate_1.58.0          hms_0.5.2               \n",
      "[64] locfit_1.5-9.1           knitr_1.25               zeallot_0.1.0           \n",
      "[67] pillar_1.4.2             geneplotter_1.58.0       biomaRt_2.36.1          \n",
      "[70] XML_3.98-1.20            glue_1.3.1               latticeExtra_0.6-28     \n",
      "[73] data.table_1.11.6        modelr_0.1.5             vctrs_0.2.0             \n",
      "[76] cellranger_1.1.0         gtable_0.3.0             assertthat_0.2.1        \n",
      "[79] xfun_0.10                xtable_1.8-4             broom_0.5.0             \n",
      "[82] survival_2.44-1.1        GenomicAlignments_1.16.0 memoise_1.1.0           \n",
      "[85] cluster_2.1.0           \n"
     ]
    }
   ],
   "source": [
    "%%R \n",
    "sessionInfo()"
   ]
  }
 ],
 "metadata": {
  "kernelspec": {
   "display_name": "Python [conda env:deseq]",
   "language": "python",
   "name": "conda-env-deseq-py"
  },
  "language_info": {
   "codemirror_mode": {
    "name": "ipython",
    "version": 3
   },
   "file_extension": ".py",
   "mimetype": "text/x-python",
   "name": "python",
   "nbconvert_exporter": "python",
   "pygments_lexer": "ipython3",
   "version": "3.7.3"
  }
 },
 "nbformat": 4,
 "nbformat_minor": 2
}
