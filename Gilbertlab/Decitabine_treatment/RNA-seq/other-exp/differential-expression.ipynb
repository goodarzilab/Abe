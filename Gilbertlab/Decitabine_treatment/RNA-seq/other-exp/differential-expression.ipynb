{
 "cells": [
  {
   "cell_type": "markdown",
   "metadata": {},
   "source": [
    "## Decitabine treatment RNA-Seq 5 other AML cell lines \n",
    "Here, I'll run basic DESeq2 analysis "
   ]
  },
  {
   "cell_type": "markdown",
   "metadata": {},
   "source": [
    "## Pre-processing "
   ]
  },
  {
   "cell_type": "markdown",
   "metadata": {},
   "source": [
    "I'm mapping `hg38/gencode.v34` to the `fastq` files using salmon. \n",
    "\n",
    "Raw samples:"
   ]
  },
  {
   "cell_type": "code",
   "execution_count": 3,
   "metadata": {},
   "outputs": [
    {
     "name": "stdout",
     "output_type": "stream",
     "text": [
      "\u001b[0m\u001b[01;31m../other-fastq/kg1_t_1.fastq.gz\u001b[0m      \u001b[01;31m../other-fastq/ociaml2_u_1.fastq.gz\u001b[0m\r\n",
      "\u001b[01;31m../other-fastq/kg1_t_2.fastq.gz\u001b[0m      \u001b[01;31m../other-fastq/ociaml2_u_2.fastq.gz\u001b[0m\r\n",
      "\u001b[01;31m../other-fastq/kg1_t_3.fastq.gz\u001b[0m      \u001b[01;31m../other-fastq/ociaml2_u_3.fastq.gz\u001b[0m\r\n",
      "\u001b[01;31m../other-fastq/kg1_u_1.fastq.gz\u001b[0m      \u001b[01;31m../other-fastq/ociaml3_t_1.fastq.gz\u001b[0m\r\n",
      "\u001b[01;31m../other-fastq/kg1_u_2.fastq.gz\u001b[0m      \u001b[01;31m../other-fastq/ociaml3_t_2.fastq.gz\u001b[0m\r\n",
      "\u001b[01;31m../other-fastq/kg1_u_3.fastq.gz\u001b[0m      \u001b[01;31m../other-fastq/ociaml3_t_3.fastq.gz\u001b[0m\r\n",
      "\u001b[01;31m../other-fastq/molm14_t_1.fastq.gz\u001b[0m   \u001b[01;31m../other-fastq/ociaml3_u_1.fastq.gz\u001b[0m\r\n",
      "\u001b[01;31m../other-fastq/molm14_t_2.fastq.gz\u001b[0m   \u001b[01;31m../other-fastq/ociaml3_u_2.fastq.gz\u001b[0m\r\n",
      "\u001b[01;31m../other-fastq/molm14_t_3.fastq.gz\u001b[0m   \u001b[01;31m../other-fastq/ociaml3_u_3.fastq.gz\u001b[0m\r\n",
      "\u001b[01;31m../other-fastq/molm14_u_1.fastq.gz\u001b[0m   \u001b[01;31m../other-fastq/thp1_t_1.fastq.gz\u001b[0m\r\n",
      "\u001b[01;31m../other-fastq/molm14_u_2.fastq.gz\u001b[0m   \u001b[01;31m../other-fastq/thp1_t_2.fastq.gz\u001b[0m\r\n",
      "\u001b[01;31m../other-fastq/molm14_u_3.fastq.gz\u001b[0m   \u001b[01;31m../other-fastq/thp1_t_3.fastq.gz\u001b[0m\r\n",
      "\u001b[01;31m../other-fastq/ociaml2_t_1.fastq.gz\u001b[0m  \u001b[01;31m../other-fastq/thp1_u_1.fastq.gz\u001b[0m\r\n",
      "\u001b[01;31m../other-fastq/ociaml2_t_2.fastq.gz\u001b[0m  \u001b[01;31m../other-fastq/thp1_u_2.fastq.gz\u001b[0m\r\n",
      "\u001b[01;31m../other-fastq/ociaml2_t_3.fastq.gz\u001b[0m  \u001b[01;31m../other-fastq/thp1_u_3.fastq.gz\u001b[0m\r\n"
     ]
    }
   ],
   "source": [
    "ls ../other-fastq/*fastq.gz"
   ]
  },
  {
   "cell_type": "markdown",
   "metadata": {},
   "source": [
    "Alignment script:"
   ]
  },
  {
   "cell_type": "code",
   "execution_count": 4,
   "metadata": {},
   "outputs": [
    {
     "name": "stdout",
     "output_type": "stream",
     "text": [
      "cat: salmon.sh: No such file or directory\r\n"
     ]
    }
   ],
   "source": [
    "cat salmon.sh"
   ]
  },
  {
   "cell_type": "code",
   "execution_count": 1,
   "metadata": {},
   "outputs": [],
   "source": [
    "%reload_ext rpy2.ipython"
   ]
  },
  {
   "cell_type": "code",
   "execution_count": 2,
   "metadata": {},
   "outputs": [
    {
     "name": "stderr",
     "output_type": "stream",
     "text": [
      "R[write to console]: Loading required package: BiocGenerics\n",
      "\n",
      "R[write to console]: Loading required package: parallel\n",
      "\n",
      "R[write to console]: \n",
      "Attaching package: ‘BiocGenerics’\n",
      "\n",
      "\n",
      "R[write to console]: The following objects are masked from ‘package:parallel’:\n",
      "\n",
      "    clusterApply, clusterApplyLB, clusterCall, clusterEvalQ,\n",
      "    clusterExport, clusterMap, parApply, parCapply, parLapply,\n",
      "    parLapplyLB, parRapply, parSapply, parSapplyLB\n",
      "\n",
      "\n",
      "R[write to console]: The following objects are masked from ‘package:stats’:\n",
      "\n",
      "    IQR, mad, sd, var, xtabs\n",
      "\n",
      "\n",
      "R[write to console]: The following objects are masked from ‘package:base’:\n",
      "\n",
      "    anyDuplicated, append, as.data.frame, basename, cbind, colMeans,\n",
      "    colnames, colSums, dirname, do.call, duplicated, eval, evalq,\n",
      "    Filter, Find, get, grep, grepl, intersect, is.unsorted, lapply,\n",
      "    lengths, Map, mapply, match, mget, order, paste, pmax, pmax.int,\n",
      "    pmin, pmin.int, Position, rank, rbind, Reduce, rowMeans, rownames,\n",
      "    rowSums, sapply, setdiff, sort, table, tapply, union, unique,\n",
      "    unsplit, which, which.max, which.min\n",
      "\n",
      "\n",
      "R[write to console]: Loading required package: S4Vectors\n",
      "\n",
      "R[write to console]: Loading required package: stats4\n",
      "\n",
      "R[write to console]: \n",
      "Attaching package: ‘S4Vectors’\n",
      "\n",
      "\n",
      "R[write to console]: The following object is masked from ‘package:base’:\n",
      "\n",
      "    expand.grid\n",
      "\n",
      "\n",
      "R[write to console]: Loading required package: IRanges\n",
      "\n",
      "R[write to console]: Loading required package: GenomeInfoDb\n",
      "\n",
      "R[write to console]: Loading required package: GenomicRanges\n",
      "\n",
      "R[write to console]: Loading required package: AnnotationDbi\n",
      "\n",
      "R[write to console]: Loading required package: Biobase\n",
      "\n",
      "R[write to console]: Welcome to Bioconductor\n",
      "\n",
      "    Vignettes contain introductory material; view with\n",
      "    'browseVignettes()'. To cite Bioconductor, see\n",
      "    'citation(\"Biobase\")', and for packages 'citation(\"pkgname\")'.\n",
      "\n",
      "\n",
      "R[write to console]: ── Attaching packages ─────────────────────────────────────── tidyverse 1.2.1 ──\n",
      "\n",
      "R[write to console]: ✔ ggplot2 3.2.1     ✔ purrr   0.3.3\n",
      "✔ tibble  2.1.3     ✔ dplyr   0.8.3\n",
      "✔ tidyr   1.0.0     ✔ stringr 1.4.0\n",
      "✔ readr   1.3.1     ✔ forcats 0.4.0\n",
      "\n",
      "R[write to console]: ── Conflicts ────────────────────────────────────────── tidyverse_conflicts() ──\n",
      "✖ dplyr::collapse()   masks IRanges::collapse()\n",
      "✖ dplyr::combine()    masks Biobase::combine(), BiocGenerics::combine()\n",
      "✖ dplyr::desc()       masks IRanges::desc()\n",
      "✖ tidyr::expand()     masks S4Vectors::expand()\n",
      "✖ dplyr::filter()     masks stats::filter()\n",
      "✖ dplyr::first()      masks S4Vectors::first()\n",
      "✖ dplyr::lag()        masks stats::lag()\n",
      "✖ ggplot2::Position() masks BiocGenerics::Position(), base::Position()\n",
      "✖ purrr::reduce()     masks GenomicRanges::reduce(), IRanges::reduce()\n",
      "✖ dplyr::rename()     masks S4Vectors::rename()\n",
      "✖ dplyr::select()     masks AnnotationDbi::select()\n",
      "✖ dplyr::slice()      masks IRanges::slice()\n",
      "\n",
      "R[write to console]: Loading required package: SummarizedExperiment\n",
      "\n",
      "R[write to console]: Loading required package: DelayedArray\n",
      "\n",
      "R[write to console]: Loading required package: matrixStats\n",
      "\n",
      "R[write to console]: \n",
      "Attaching package: ‘matrixStats’\n",
      "\n",
      "\n",
      "R[write to console]: The following object is masked from ‘package:dplyr’:\n",
      "\n",
      "    count\n",
      "\n",
      "\n",
      "R[write to console]: The following objects are masked from ‘package:Biobase’:\n",
      "\n",
      "    anyMissing, rowMedians\n",
      "\n",
      "\n",
      "R[write to console]: Loading required package: BiocParallel\n",
      "\n",
      "R[write to console]: \n",
      "Attaching package: ‘DelayedArray’\n",
      "\n",
      "\n",
      "R[write to console]: The following objects are masked from ‘package:matrixStats’:\n",
      "\n",
      "    colMaxs, colMins, colRanges, rowMaxs, rowMins, rowRanges\n",
      "\n",
      "\n",
      "R[write to console]: The following object is masked from ‘package:purrr’:\n",
      "\n",
      "    simplify\n",
      "\n",
      "\n",
      "R[write to console]: The following objects are masked from ‘package:base’:\n",
      "\n",
      "    aperm, apply\n",
      "\n",
      "\n"
     ]
    }
   ],
   "source": [
    "%%R \n",
    "library (GenomicFeatures)\n",
    "library (tximport)\n",
    "library (tidyverse)\n",
    "library (ggplot2)\n",
    "library (ggrepel)\n",
    "library (DESeq2)\n",
    "library (patchwork)\n",
    "library (BiocParallel)\n",
    "register(MulticoreParam(18))\n",
    "\n",
    "plot_Save <- function (p, name_it){\n",
    "    ggsave(paste(name_it,'png',sep='.'), plot = p, device = 'png', dpi = 300)\n",
    "    ggsave(paste(name_it,'pdf',sep='.'), plot = p, device = 'pdf', dpi = 300)\n",
    "}"
   ]
  },
  {
   "cell_type": "markdown",
   "metadata": {},
   "source": [
    "Load annotations"
   ]
  },
  {
   "cell_type": "code",
   "execution_count": 3,
   "metadata": {},
   "outputs": [
    {
     "name": "stderr",
     "output_type": "stream",
     "text": [
      "R[write to console]: Import genomic features from the file as a GRanges object ... \n",
      "R[write to console]: OK\n",
      "\n",
      "R[write to console]: Prepare the 'metadata' data frame ... \n",
      "R[write to console]: OK\n",
      "\n",
      "R[write to console]: Make the TxDb object ... \n",
      "R[write to console]: OK\n",
      "\n",
      "R[write to console]: 'select()' returned 1:1 mapping between keys and columns\n",
      "\n"
     ]
    }
   ],
   "source": [
    "%%R\n",
    "GTF = '/rumi/shams/abe/genomes/hg38/gencode.v34/gencode.v34.annotation.gtf'\n",
    "gtf <- rtracklayer::import(GTF)\n",
    "gene2name <- gtf[gtf$type == \"gene\"] %>% data.frame %>% column_to_rownames('gene_id') %>% dplyr::select('gene_name')\n",
    "\n",
    "txdb  = makeTxDbFromGFF(GTF,organism='Homo sapiens')\n",
    "# tx2gene objects \n",
    "k <- keys(txdb, keytype = \"TXNAME\")\n",
    "tx2gene <- AnnotationDbi::select(txdb, k, \"GENEID\", \"TXNAME\")"
   ]
  },
  {
   "cell_type": "markdown",
   "metadata": {},
   "source": [
    "import salmon quants:"
   ]
  },
  {
   "cell_type": "code",
   "execution_count": 4,
   "metadata": {},
   "outputs": [
    {
     "name": "stderr",
     "output_type": "stream",
     "text": [
      "R[write to console]: reading in files with read_tsv\n",
      "\n",
      "R[write to console]: 1 \n",
      "R[write to console]: 2 \n",
      "R[write to console]: 3 \n",
      "R[write to console]: 4 \n",
      "R[write to console]: 5 \n",
      "R[write to console]: 6 \n",
      "R[write to console]: 7 \n",
      "R[write to console]: 8 \n",
      "R[write to console]: 9 \n",
      "R[write to console]: 10 \n",
      "R[write to console]: 11 \n",
      "R[write to console]: 12 \n",
      "R[write to console]: 13 \n",
      "R[write to console]: 14 \n",
      "R[write to console]: 15 \n",
      "R[write to console]: 16 \n",
      "R[write to console]: 17 \n",
      "R[write to console]: 18 \n",
      "R[write to console]: 19 \n",
      "R[write to console]: 20 \n",
      "R[write to console]: 21 \n",
      "R[write to console]: 22 \n",
      "R[write to console]: 23 \n",
      "R[write to console]: 24 \n",
      "R[write to console]: 25 \n",
      "R[write to console]: 26 \n",
      "R[write to console]: 27 \n",
      "R[write to console]: 28 \n",
      "R[write to console]: 29 \n",
      "R[write to console]: 30 \n",
      "R[write to console]: \n",
      "\n",
      "R[write to console]: summarizing abundance\n",
      "\n",
      "R[write to console]: summarizing counts\n",
      "\n",
      "R[write to console]: summarizing length\n",
      "\n"
     ]
    }
   ],
   "source": [
    "%%R\n",
    "files <- list.files(path='./quants', pattern=\"quant.sf\",full.names = TRUE, recursive=T)\n",
    "names(files) <- gsub(\"./quants/(\\\\S+)/quant.sf\",\"\\\\1\",files)\n",
    "\n",
    "txi <- tximport(files, type = \"salmon\", tx2gene = tx2gene, txOut=T)\n",
    "\n",
    "txi.gene <- summarizeToGene(txi, tx2gene, ignoreAfterBar= TRUE)"
   ]
  },
  {
   "cell_type": "markdown",
   "metadata": {},
   "source": [
    "Define the sample sheet"
   ]
  },
  {
   "cell_type": "code",
   "execution_count": 5,
   "metadata": {},
   "outputs": [
    {
     "name": "stdout",
     "output_type": "stream",
     "text": [
      "               line    cond            sample_id\n",
      "kg1_t_1         kg1 treated     kg1_treated_rep1\n",
      "kg1_t_2         kg1 treated     kg1_treated_rep2\n",
      "kg1_t_3         kg1 treated     kg1_treated_rep3\n",
      "kg1_u_1         kg1    DMSO        kg1_DMSO_rep1\n",
      "kg1_u_2         kg1    DMSO        kg1_DMSO_rep2\n",
      "kg1_u_3         kg1    DMSO        kg1_DMSO_rep3\n",
      "molm14_t_1   molm14 treated  molm14_treated_rep1\n",
      "molm14_t_2   molm14 treated  molm14_treated_rep2\n",
      "molm14_t_3   molm14 treated  molm14_treated_rep3\n",
      "molm14_u_1   molm14    DMSO     molm14_DMSO_rep1\n",
      "molm14_u_2   molm14    DMSO     molm14_DMSO_rep2\n",
      "molm14_u_3   molm14    DMSO     molm14_DMSO_rep3\n",
      "ociaml2_t_1 ociaml2 treated ociaml2_treated_rep1\n",
      "ociaml2_t_2 ociaml2 treated ociaml2_treated_rep2\n",
      "ociaml2_t_3 ociaml2 treated ociaml2_treated_rep3\n",
      "ociaml2_u_1 ociaml2    DMSO    ociaml2_DMSO_rep1\n",
      "ociaml2_u_2 ociaml2    DMSO    ociaml2_DMSO_rep2\n",
      "ociaml2_u_3 ociaml2    DMSO    ociaml2_DMSO_rep3\n",
      "ociaml3_t_1 ociaml3 treated ociaml3_treated_rep1\n",
      "ociaml3_t_2 ociaml3 treated ociaml3_treated_rep2\n",
      "ociaml3_t_3 ociaml3 treated ociaml3_treated_rep3\n",
      "ociaml3_u_1 ociaml3    DMSO    ociaml3_DMSO_rep1\n",
      "ociaml3_u_2 ociaml3    DMSO    ociaml3_DMSO_rep2\n",
      "ociaml3_u_3 ociaml3    DMSO    ociaml3_DMSO_rep3\n",
      "thp1_t_1       thp1 treated    thp1_treated_rep1\n",
      "thp1_t_2       thp1 treated    thp1_treated_rep2\n",
      "thp1_t_3       thp1 treated    thp1_treated_rep3\n",
      "thp1_u_1       thp1    DMSO       thp1_DMSO_rep1\n",
      "thp1_u_2       thp1    DMSO       thp1_DMSO_rep2\n",
      "thp1_u_3       thp1    DMSO       thp1_DMSO_rep3\n"
     ]
    }
   ],
   "source": [
    "%%R \n",
    "# meta \n",
    "lines   <- lapply(c('kg1', 'molm14', 'ociaml2', 'ociaml3', 'thp1'), rep, 6) %>% unlist \n",
    "treats  <- rep(c(rep('treated',3), rep('DMSO',3)),5)\n",
    "reps    <- rep(c('rep1','rep2','rep3'),5)\n",
    "\n",
    "colData <- data.frame(\n",
    "    line=lines, \n",
    "    cond=treats, \n",
    "    sample_id=paste(lines, treats, reps, sep='_'), \n",
    "    row.names=colnames(txi$abundance),\n",
    "    stringsAsFactors=FALSE\n",
    ")\n",
    "colData"
   ]
  },
  {
   "cell_type": "markdown",
   "metadata": {},
   "source": [
    "### Functions:"
   ]
  },
  {
   "cell_type": "code",
   "execution_count": 6,
   "metadata": {},
   "outputs": [],
   "source": [
    "%%R\n",
    "\n",
    "# Filter non-informative genes:\n",
    "filter_low_counts <- function (dds_in , min_count=10){\n",
    "    # all samples with a count of higher than `min_count`\n",
    "    keep <- rowSums(counts(dds_in ) > min_count) == ncol(dds_in )\n",
    "    # at least 3 samples with a count of 10 or higher\n",
    "    # keep <- rowSums(counts(dds) >= 10) >= 3\n",
    "\n",
    "    dds_out <- dds_in [keep,]\n",
    "    print (paste (nrow(dds_in), 'genes filtered to ->' , nrow(dds_out),'genes!', sep=' ') )\n",
    "    return (dds_out)\n",
    "}\n",
    "\n",
    "\n",
    "plot_PCA <- function(vsd, colData, gr=c('cond'), title='', leg=\"none\"){\n",
    "    z <- plotPCA(vsd,intgroup=gr, returnData=TRUE)\n",
    "    percentVar <- round(100 * attr(z, \"percentVar\"))\n",
    "    pca <- ggplot(z, aes(PC1, PC2)) +\n",
    "            geom_point(aes(size = 2,  color=group), alpha = 4/10) +\n",
    "            geom_text_repel(aes(label = row.names(colData)),size = 3.5) +\n",
    "            xlab(paste0(\"PC1: \",percentVar[1],\"% variance\")) +\n",
    "            ylab(paste0(\"PC2: \",percentVar[2],\"% variance\")) +\n",
    "            guides (size = FALSE) +\n",
    "            ggtitle (title)+ \n",
    "            theme(legend.position=leg)\n",
    "    return (pca)\n",
    "}\n",
    "\n",
    "plot_Volcano <- function(res, lfc.cutoff  = 1,pval.cutoff = 0.05, title='', x_min=-20,x_max=20){\n",
    "    res$sig <- as.factor(res$pvalue < pval.cutoff & abs(res$log2FoldChange) > lfc.cutoff)\n",
    "    relevel(res$sig, ref=TRUE)\n",
    "    vol = res %>% ggplot(\n",
    "        aes(x=log2FoldChange, y=-log10(pvalue), colour=sig, fill=sig)) +\n",
    "        geom_point(aes(color = sig),alpha = 1/10) +\n",
    "            xlim(c(x_min,x_max)) +\n",
    "    #         ylim(c(0,11)) +\n",
    "            geom_hline(yintercept=-log10(pval.cutoff), linetype=\"dashed\", alpha = 4/10) +\n",
    "            geom_vline(xintercept=lfc.cutoff, linetype=\"dashed\", alpha = 4/10) +\n",
    "            geom_vline(xintercept=(-1)*lfc.cutoff, linetype=\"dashed\", alpha = 4/10) +\n",
    "            scale_color_manual(values = c(\"grey\", \"red\")) +\n",
    "            theme_bw() + \n",
    "            theme(legend.position=\"none\") +\n",
    "            ggtitle (title) + \n",
    "            geom_text_repel(\n",
    "                data = subset(res[order(res$pvalue),], sig == TRUE)[1:7,],\n",
    "                aes(label = name),\n",
    "                size = 3,\n",
    "                box.padding = unit(0.35, \"lines\"),\n",
    "                point.padding = unit(0.3, \"lines\")\n",
    "            )\n",
    "     return (vol)\n",
    "} \n",
    "\n",
    "get_Result <- function(dds, design, log2FC_NA_to_zero=TRUE,padj_NA_to_one=FALSE){\n",
    "    res = results(dds, contrast=design, parallel=TRUE)  %>%\n",
    "        data.frame %>% \n",
    "        add_column(name=gene2name[rownames(dds),]) %>%\n",
    "        add_column(ensembl=rownames(dds) %>% substr(0, 15))\n",
    "                \n",
    "    if (log2FC_NA_to_zero){res$log2FoldChange[is.na(res$log2FoldChange)] <- 0}\n",
    "    if (padj_NA_to_one){res$padj[is.na(res$padj)] <- 1}\n",
    "    return (res)\n",
    "}\n",
    "\n",
    "write_Result <- function(res, name_it, col=FALSE, row=FALSE){\n",
    "    write.table(res,name_it, sep=\"\\t\", quote=FALSE, col.names=col, row.names=row)\n",
    "}"
   ]
  },
  {
   "cell_type": "markdown",
   "metadata": {},
   "source": [
    "## PCA and Differential Expression Analysis "
   ]
  },
  {
   "cell_type": "code",
   "execution_count": 7,
   "metadata": {},
   "outputs": [
    {
     "name": "stderr",
     "output_type": "stream",
     "text": [
      "R[write to console]: using counts and average transcript lengths from tximport\n",
      "\n"
     ]
    },
    {
     "name": "stdout",
     "output_type": "stream",
     "text": [
      "[1] 60240\n"
     ]
    }
   ],
   "source": [
    "%%R \n",
    "dds0 <- DESeqDataSetFromTximport(txi.gene, colData, ~ line + cond)\n",
    "dds0$cond = relevel(dds0$cond, ref='DMSO')\n",
    "nrow(dds0)"
   ]
  },
  {
   "cell_type": "code",
   "execution_count": 8,
   "metadata": {},
   "outputs": [
    {
     "name": "stderr",
     "output_type": "stream",
     "text": [
      "R[write to console]: estimating size factors\n",
      "\n",
      "R[write to console]: using 'avgTxLength' from assays(dds), correcting for library size\n",
      "\n",
      "R[write to console]: estimating dispersions\n",
      "\n",
      "R[write to console]: gene-wise dispersion estimates: 18 workers\n",
      "\n",
      "R[write to console]: mean-dispersion relationship\n",
      "\n",
      "R[write to console]: final dispersion estimates, fitting model and testing: 18 workers\n",
      "\n"
     ]
    }
   ],
   "source": [
    "%%R \n",
    "dds1 <- DESeq(dds0, parallel=TRUE)\n",
    "# results \n",
    "vsd1 <- varianceStabilizingTransformation(dds1)"
   ]
  },
  {
   "cell_type": "code",
   "execution_count": 9,
   "metadata": {},
   "outputs": [
    {
     "name": "stderr",
     "output_type": "stream",
     "text": [
      "R[write to console]: using 'avgTxLength' from assays(dds), correcting for library size\n",
      "\n"
     ]
    }
   ],
   "source": [
    "%%R \n",
    "# save normazlied counts \n",
    "dds0 <- estimateSizeFactors(dds0)\n",
    "ncu <- counts(dds0, normalized=TRUE) %>% data.frame %>% add_column(name=gene2name[rownames(dds0),]) \n",
    "write.table(ncu,'other_exp_deseq2_norm.txt',sep=\"\\t\", quote=FALSE, col.names=c(colData$sample_id, 'gene_name'))"
   ]
  },
  {
   "cell_type": "code",
   "execution_count": 10,
   "metadata": {},
   "outputs": [
    {
     "data": {
      "image/png": "[encoded data removed]"
     },
     "metadata": {},
     "output_type": "display_data"
    }
   ],
   "source": [
    "%%R \n",
    "pca = plot_PCA(vsd1, colData, gr=c('line'), leg='right')\n",
    "pca"
   ]
  },
  {
   "cell_type": "code",
   "execution_count": 11,
   "metadata": {},
   "outputs": [
    {
     "name": "stderr",
     "output_type": "stream",
     "text": [
      "R[write to console]: Saving 6.67 x 6.67 in image\n",
      "\n",
      "R[write to console]: Saving 6.67 x 6.67 in image\n",
      "\n"
     ]
    }
   ],
   "source": [
    "%%R\n",
    "plot_Save(pca,'PCA_all_cell_lines')"
   ]
  },
  {
   "cell_type": "code",
   "execution_count": 18,
   "metadata": {},
   "outputs": [],
   "source": [
    "# %%R\n",
    "# par(mar=c(15,5,1,1))\n",
    "# boxplot(log10(assays(dds1)[[\"cooks\"]]), range=0, las=2)"
   ]
  },
  {
   "cell_type": "markdown",
   "metadata": {},
   "source": [
    "Create seprate `dds` object for each cell line to do stable PCAs. "
   ]
  },
  {
   "cell_type": "code",
   "execution_count": 12,
   "metadata": {
    "scrolled": false
   },
   "outputs": [
    {
     "name": "stderr",
     "output_type": "stream",
     "text": [
      "R[write to console]: using counts and average transcript lengths from tximport\n",
      "\n",
      "R[write to console]: estimating size factors\n",
      "\n",
      "R[write to console]: using 'avgTxLength' from assays(dds), correcting for library size\n",
      "\n",
      "R[write to console]: estimating dispersions\n",
      "\n",
      "R[write to console]: gene-wise dispersion estimates\n",
      "\n",
      "R[write to console]: mean-dispersion relationship\n",
      "\n",
      "R[write to console]: final dispersion estimates\n",
      "\n",
      "R[write to console]: fitting model and testing\n",
      "\n"
     ]
    },
    {
     "name": "stdout",
     "output_type": "stream",
     "text": [
      "[1] \"60240 genes filtered to -> 11073 genes!\"\n",
      "[1] \"kg1\"\n"
     ]
    },
    {
     "name": "stderr",
     "output_type": "stream",
     "text": [
      "R[write to console]: estimating size factors\n",
      "\n",
      "R[write to console]: using 'avgTxLength' from assays(dds), correcting for library size\n",
      "\n",
      "R[write to console]: estimating dispersions\n",
      "\n",
      "R[write to console]: gene-wise dispersion estimates\n",
      "\n",
      "R[write to console]: mean-dispersion relationship\n",
      "\n",
      "R[write to console]: final dispersion estimates\n",
      "\n",
      "R[write to console]: fitting model and testing\n",
      "\n"
     ]
    },
    {
     "name": "stdout",
     "output_type": "stream",
     "text": [
      "[1] \"60240 genes filtered to -> 9886 genes!\"\n",
      "[1] \"molm14\"\n"
     ]
    },
    {
     "name": "stderr",
     "output_type": "stream",
     "text": [
      "R[write to console]: estimating size factors\n",
      "\n",
      "R[write to console]: using 'avgTxLength' from assays(dds), correcting for library size\n",
      "\n",
      "R[write to console]: estimating dispersions\n",
      "\n",
      "R[write to console]: gene-wise dispersion estimates\n",
      "\n",
      "R[write to console]: mean-dispersion relationship\n",
      "\n",
      "R[write to console]: final dispersion estimates\n",
      "\n",
      "R[write to console]: fitting model and testing\n",
      "\n"
     ]
    },
    {
     "name": "stdout",
     "output_type": "stream",
     "text": [
      "[1] \"60240 genes filtered to -> 10334 genes!\"\n",
      "[1] \"ociaml2\"\n"
     ]
    },
    {
     "name": "stderr",
     "output_type": "stream",
     "text": [
      "R[write to console]: estimating size factors\n",
      "\n",
      "R[write to console]: using 'avgTxLength' from assays(dds), correcting for library size\n",
      "\n",
      "R[write to console]: estimating dispersions\n",
      "\n",
      "R[write to console]: gene-wise dispersion estimates\n",
      "\n",
      "R[write to console]: mean-dispersion relationship\n",
      "\n",
      "R[write to console]: final dispersion estimates\n",
      "\n",
      "R[write to console]: fitting model and testing\n",
      "\n"
     ]
    },
    {
     "name": "stdout",
     "output_type": "stream",
     "text": [
      "[1] \"60240 genes filtered to -> 10812 genes!\"\n",
      "[1] \"ociaml3\"\n"
     ]
    },
    {
     "name": "stderr",
     "output_type": "stream",
     "text": [
      "R[write to console]: estimating size factors\n",
      "\n",
      "R[write to console]: using 'avgTxLength' from assays(dds), correcting for library size\n",
      "\n",
      "R[write to console]: estimating dispersions\n",
      "\n",
      "R[write to console]: gene-wise dispersion estimates\n",
      "\n",
      "R[write to console]: mean-dispersion relationship\n",
      "\n",
      "R[write to console]: final dispersion estimates\n",
      "\n",
      "R[write to console]: fitting model and testing\n",
      "\n"
     ]
    },
    {
     "name": "stdout",
     "output_type": "stream",
     "text": [
      "[1] \"60240 genes filtered to -> 11297 genes!\"\n",
      "[1] \"thp1\"\n"
     ]
    }
   ],
   "source": [
    "%%R \n",
    "dds1 <- DESeqDataSetFromTximport(txi.gene, colData, ~cond)\n",
    "\n",
    "DDS = list()\n",
    "VSD = list()\n",
    "RES = list()\n",
    "\n",
    "# for loop to split DESeq object for more stable analysis  \n",
    "for (l in unique(colData$line) ){\n",
    "    k = colData$line == l\n",
    "    DDS[[l]] <- dds1[,c(k)] # subset samples from dds object https://www.biostars.org/p/442188/\n",
    "    \n",
    "    # for Differential Expression\n",
    "    DDS[[l]] = DESeq(DDS[[l]]) #, parallel=TRUE)\n",
    "    RES[[l]] = get_Result(DDS[[l]])\n",
    "    # for PCA \n",
    "    DDS[[l]] <- filter_low_counts(DDS[[l]])\n",
    "    print (l)\n",
    "    VSD[[l]] <- varianceStabilizingTransformation(DDS[[l]])\n",
    "\n",
    "}"
   ]
  },
  {
   "cell_type": "code",
   "execution_count": 13,
   "metadata": {
    "scrolled": false
   },
   "outputs": [],
   "source": [
    "%%R \n",
    "# for loop fails!!! \n",
    "kg1 <- plot_PCA(\n",
    "    VSD[[\"kg1\"]], \n",
    "    colData[colData$line == \"kg1\",], \n",
    "    title = 'cell line: kg1'\n",
    ") \n",
    "\n",
    "molm14 <- plot_PCA(\n",
    "    VSD[[\"molm14\"]], \n",
    "    colData[colData$line == \"molm14\",], \n",
    "    title = 'cell line: molm14'\n",
    ")\n",
    "\n",
    "thp1 <- plot_PCA(\n",
    "    VSD[[\"thp1\"]][,c(rownames(colData[colData$line == \"thp1\",])!='thp1_u_2')], \n",
    "    colData[colData$line == \"thp1\" & rownames(colData)!='thp1_u_2',], \n",
    "    title = 'cell line: thp1'\n",
    ")\n",
    "\n",
    "ociaml2 <- plot_PCA(\n",
    "    VSD[[\"ociaml2\"]][,c(rownames(colData[colData$line == \"ociaml2\",])!='ociaml2_u_2')],\n",
    "    colData[colData$line == \"ociaml2\" & rownames(colData)!='ociaml2_u_2',], \n",
    "    title = 'cell line: ociaml2'\n",
    ")\n",
    "\n",
    "ociaml3 <- plot_PCA(\n",
    "    VSD[[\"ociaml3\"]], \n",
    "    colData[colData$line == \"ociaml3\",], \n",
    "    title = 'cell line: ociaml3'\n",
    ")"
   ]
  },
  {
   "cell_type": "code",
   "execution_count": 16,
   "metadata": {},
   "outputs": [
    {
     "name": "stdout",
     "output_type": "stream",
     "text": [
      "png \n",
      "  2 \n"
     ]
    }
   ],
   "source": [
    "%%R \n",
    "p1 = kg1 / molm14 / thp1\n",
    "p2 = ociaml2 / ociaml3\n",
    "\n",
    "#start pdf\n",
    "# pdf('plots/PCA_split_cell_lines0.pdf')\n",
    "pdf('plots/PCA_split_cell_lines1.pdf')\n",
    "print (p1)\n",
    "print (p2)\n",
    "#end pdf\n",
    "dev.off()\n"
   ]
  },
  {
   "cell_type": "code",
   "execution_count": 17,
   "metadata": {
    "scrolled": false
   },
   "outputs": [
    {
     "name": "stdout",
     "output_type": "stream",
     "text": [
      "png \n",
      "  2 \n"
     ]
    }
   ],
   "source": [
    "%%R \n",
    "pdf('plots/Volcano_plots.pdf')\n",
    "\n",
    "for (line in  names(RES)){\n",
    "    print (plot_Volcano(RES[[line]], title = paste('cell line:', line) ) )\n",
    "}\n",
    "dev.off()"
   ]
  },
  {
   "cell_type": "code",
   "execution_count": 19,
   "metadata": {},
   "outputs": [],
   "source": [
    "%%R    \n",
    "for (line in names(RES) ){ \n",
    "\n",
    "    df = RES[[line]] %>% data.frame %>% rowid_to_column('ensembl_id')\n",
    "    write_Result(\n",
    "        df[order(df$log2FoldChange),c('ensembl_id','name','baseMean', 'log2FoldChange', 'lfcSE', 'stat', 'pvalue','padj')],\n",
    "        paste(line,'_delta_exp_table.txt',sep=''),row=TRUE,col=TRUE)\n",
    "\n",
    "}"
   ]
  },
  {
   "cell_type": "code",
   "execution_count": 20,
   "metadata": {},
   "outputs": [],
   "source": [
    "%%R \n",
    "sig_genes = RES[[1]][drop_na(\n",
    "    data.frame(sig=\n",
    "#                abs(RES[[1]]$log2FoldChange) > 2 | abs(RES[[2]]$log2FoldChange) > 2 |\n",
    "#                abs(RES[[3]]$log2FoldChange) > 2 | abs(RES[[4]]$log2FoldChange) > 2 |\n",
    "#                abs(RES[[5]]$log2FoldChange) > 2 | \n",
    "               RES[[1]]$pvalue < 0.001 | RES[[2]]$pvalue < 0.001 |\n",
    "               RES[[3]]$pvalue < 0.001 | RES[[4]]$pvalue < 0.001 | \n",
    "               RES[[5]]$pvalue < 0.001 ))$sig, ] %>% rownames"
   ]
  },
  {
   "cell_type": "markdown",
   "metadata": {},
   "source": [
    "## Heatmap Clustering "
   ]
  },
  {
   "cell_type": "code",
   "execution_count": 24,
   "metadata": {
    "scrolled": false
   },
   "outputs": [
    {
     "data": {
      "image/png": "[encoded data removed]"
     },
     "metadata": {},
     "output_type": "display_data"
    }
   ],
   "source": [
    "%%R \n",
    "library(RColorBrewer)\n",
    "library(pheatmap)\n",
    "\n",
    "# Subset normalized counts to significant genes\n",
    "sig_norm_counts <- ncu[sig_genes, ] %>% dplyr::distinct(name,.keep_all= TRUE) %>% remove_rownames %>% column_to_rownames('name') \n",
    "sig_norm_counts <- sig_norm_counts[rowSums(sig_norm_counts > 10) == ncol(sig_norm_counts),]\n",
    "\n",
    "# # Choose heatmap color palette\n",
    "heat_colors <- brewer.pal(n = 6, name = \"YlOrRd\")\n",
    "\n",
    "ann_colors = list(\n",
    "    cond = c('DMSO'=\"blue\", 'treated'=\"firebrick\")# ,\n",
    "#     line = c('120h'= \"darkgreen\", '72h'=\"red\", '6h'=\"orange\")\n",
    ")\n",
    "\n",
    "# Plot heatmap\n",
    "h = pheatmap(sig_norm_counts, \n",
    "         color = heat_colors, \n",
    "         cluster_cols = F, \n",
    "#          cluster_rows = T, \n",
    "         show_colnames = F,\n",
    "         show_rownames = F,\n",
    "         main = 'RNA expression\\n5 AML Cancer cell lines ',\n",
    "         annotation = select(colData, line, cond), \n",
    "         scale = 'row',\n",
    "         angle_col= 45,\n",
    "#          annotation_legend=F,\n",
    "         annotation_colors = ann_colors\n",
    ")\n"
   ]
  },
  {
   "cell_type": "code",
   "execution_count": 25,
   "metadata": {},
   "outputs": [
    {
     "name": "stdout",
     "output_type": "stream",
     "text": [
      "png \n",
      "  2 \n"
     ]
    }
   ],
   "source": [
    "%%R \n",
    "# https://stackoverflow.com/questions/43051525/how-to-draw-pheatmap-plot-to-screen-and-also-save-to-file\n",
    "pdf('plots/Heatmap_clustering.pdf', width=7, height=7)\n",
    "grid::grid.newpage()\n",
    "grid::grid.draw(h$gtable)\n",
    "dev.off()"
   ]
  },
  {
   "cell_type": "markdown",
   "metadata": {},
   "source": [
    "## Enrichment analysis"
   ]
  },
  {
   "cell_type": "markdown",
   "metadata": {},
   "source": [
    "Prepare results for running iPAGE:"
   ]
  },
  {
   "cell_type": "code",
   "execution_count": 26,
   "metadata": {},
   "outputs": [
    {
     "name": "stdout",
     "output_type": "stream",
     "text": [
      "[1] \"kg1\"\n",
      "[1] \"molm14\"\n",
      "[1] \"ociaml2\"\n",
      "[1] \"ociaml3\"\n",
      "[1] \"thp1\"\n"
     ]
    }
   ],
   "source": [
    "%%R \n",
    "for (l in unique(colData$line) ){\n",
    "    print (l)\n",
    "    \n",
    "    write_Result(RES[[l]] [,c('ensembl','log2FoldChange')] %>% \n",
    "        remove_rownames, paste(l,'_delta_exp.txt', sep ='') )\n",
    "}"
   ]
  },
  {
   "cell_type": "code",
   "execution_count": 29,
   "metadata": {},
   "outputs": [],
   "source": [
    "%%bash \n",
    "ipage=~/Workflows/my_scripts/ipage_human_ensembl.sh\n",
    "nohup ls *_delta_exp.txt | parallel -j18 -k bash $ipage {} &> ipage.out &"
   ]
  },
  {
   "cell_type": "code",
   "execution_count": 64,
   "metadata": {},
   "outputs": [
    {
     "name": "stdout",
     "output_type": "stream",
     "text": [
      "R version 3.5.1 (2018-07-02)\n",
      "Platform: x86_64-conda_cos6-linux-gnu (64-bit)\n",
      "Running under: Ubuntu 18.04.4 LTS\n",
      "\n",
      "Matrix products: default\n",
      "BLAS/LAPACK: /rumi/shams/abe/anaconda3/envs/deseq/lib/R/lib/libRlapack.so\n",
      "\n",
      "locale:\n",
      " [1] LC_CTYPE=en_US.UTF-8       LC_NUMERIC=C              \n",
      " [3] LC_TIME=en_US.UTF-8        LC_COLLATE=en_US.UTF-8    \n",
      " [5] LC_MONETARY=en_US.UTF-8    LC_MESSAGES=en_US.UTF-8   \n",
      " [7] LC_PAPER=en_US.UTF-8       LC_NAME=C                 \n",
      " [9] LC_ADDRESS=C               LC_TELEPHONE=C            \n",
      "[11] LC_MEASUREMENT=en_US.UTF-8 LC_IDENTIFICATION=C       \n",
      "\n",
      "attached base packages:\n",
      " [1] stats4    parallel  tools     stats     graphics  grDevices utils    \n",
      " [8] datasets  methods   base     \n",
      "\n",
      "other attached packages:\n",
      " [1] patchwork_1.0.0             DESeq2_1.20.0              \n",
      " [3] SummarizedExperiment_1.10.1 DelayedArray_0.6.6         \n",
      " [5] BiocParallel_1.14.2         matrixStats_0.55.0         \n",
      " [7] ggrepel_0.8.1               forcats_0.4.0              \n",
      " [9] stringr_1.4.0               dplyr_0.8.3                \n",
      "[11] purrr_0.3.3                 readr_1.3.1                \n",
      "[13] tidyr_1.0.0                 tibble_2.1.3               \n",
      "[15] ggplot2_3.2.1               tidyverse_1.2.1            \n",
      "[17] tximport_1.10.1             GenomicFeatures_1.32.3     \n",
      "[19] AnnotationDbi_1.42.1        Biobase_2.40.0             \n",
      "[21] GenomicRanges_1.32.7        GenomeInfoDb_1.16.0        \n",
      "[23] IRanges_2.14.12             S4Vectors_0.18.3           \n",
      "[25] BiocGenerics_0.26.0        \n",
      "\n",
      "loaded via a namespace (and not attached):\n",
      " [1] nlme_3.1-141             bitops_1.0-6             lubridate_1.7.4         \n",
      " [4] bit64_0.9-7              RColorBrewer_1.1-2       progress_1.2.2          \n",
      " [7] httr_1.4.1               backports_1.1.5          R6_2.4.0                \n",
      "[10] rpart_4.1-15             Hmisc_4.2-0              DBI_1.0.0               \n",
      "[13] lazyeval_0.2.2           colorspace_1.4-1         nnet_7.3-12             \n",
      "[16] withr_2.1.2              gridExtra_2.3            tidyselect_0.2.5        \n",
      "[19] prettyunits_1.0.2        bit_1.1-14               compiler_3.5.1          \n",
      "[22] cli_1.1.0                rvest_0.3.5              htmlTable_1.13.2        \n",
      "[25] xml2_1.2.2               labeling_0.3             rtracklayer_1.40.6      \n",
      "[28] checkmate_1.9.4          scales_1.0.0             genefilter_1.62.0       \n",
      "[31] digest_0.6.22            Rsamtools_1.32.3         foreign_0.8-72          \n",
      "[34] XVector_0.20.0           htmltools_0.4.0          base64enc_0.1-3         \n",
      "[37] pkgconfig_2.0.3          htmlwidgets_1.5.1        rlang_0.4.1             \n",
      "[40] readxl_1.3.1             rstudioapi_0.10          RSQLite_2.1.2           \n",
      "[43] jsonlite_1.6             acepack_1.4.1            RCurl_1.95-4.12         \n",
      "[46] magrittr_1.5             GenomeInfoDbData_1.1.0   Formula_1.2-3           \n",
      "[49] Matrix_1.2-17            Rcpp_1.0.3               munsell_0.5.0           \n",
      "[52] lifecycle_0.1.0          stringi_1.4.3            zlibbioc_1.26.0         \n",
      "[55] grid_3.5.1               blob_1.2.0               crayon_1.3.4            \n",
      "[58] lattice_0.20-38          Biostrings_2.48.0        haven_2.2.0             \n",
      "[61] splines_3.5.1            annotate_1.58.0          hms_0.5.2               \n",
      "[64] locfit_1.5-9.1           knitr_1.25               zeallot_0.1.0           \n",
      "[67] pillar_1.4.2             geneplotter_1.58.0       biomaRt_2.36.1          \n",
      "[70] XML_3.98-1.20            glue_1.3.1               latticeExtra_0.6-28     \n",
      "[73] data.table_1.11.6        modelr_0.1.5             vctrs_0.2.0             \n",
      "[76] cellranger_1.1.0         gtable_0.3.0             assertthat_0.2.1        \n",
      "[79] xfun_0.10                xtable_1.8-4             broom_0.5.0             \n",
      "[82] survival_2.44-1.1        GenomicAlignments_1.16.0 memoise_1.1.0           \n",
      "[85] cluster_2.1.0           \n"
     ]
    }
   ],
   "source": [
    "%%R\n",
    "sessionInfo()"
   ]
  }
 ],
 "metadata": {
  "kernelspec": {
   "display_name": "Python [conda env:deseq]",
   "language": "python",
   "name": "conda-env-deseq-py"
  },
  "language_info": {
   "codemirror_mode": {
    "name": "ipython",
    "version": 3
   },
   "file_extension": ".py",
   "mimetype": "text/x-python",
   "name": "python",
   "nbconvert_exporter": "python",
   "pygments_lexer": "ipython3",
   "version": "3.7.3"
  },
  "widgets": {
   "application/vnd.jupyter.widget-state+json": {
    "state": {},
    "version_major": 2,
    "version_minor": 0
   }
  }
 },
 "nbformat": 4,
 "nbformat_minor": 2
}
