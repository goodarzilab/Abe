{
 "cells": [
  {
   "cell_type": "code",
   "execution_count": 1,
   "id": "e056c610",
   "metadata": {},
   "outputs": [
    {
     "name": "stdout",
     "output_type": "stream",
     "text": [
      "scanpy==1.7.2 anndata==0.7.6 umap==0.5.1 numpy==1.20.3 scipy==1.7.1 pandas==1.3.3 scikit-learn==1.0 statsmodels==0.13.0 python-igraph==0.9.8\n"
     ]
    }
   ],
   "source": [
    "import os \n",
    "import pickle\n",
    "import numpy as np \n",
    "import pandas as pd\n",
    "import scanpy as sc\n",
    "import scanpy.external as sce\n",
    "import anndata as ad\n",
    "import seaborn as sns\n",
    "import matplotlib as mpl\n",
    "import matplotlib.pyplot as plt\n",
    "from glob import glob\n",
    "\n",
    "sc.settings.verbosity = 1             # verbosity: errors (0), warnings (1), info (2), hints (3)\n",
    "sc.settings.set_figure_params(dpi=80, frameon=False, figsize=(3, 3), facecolor='white')\n",
    "\n",
    "sc.logging.print_header()"
   ]
  },
  {
   "cell_type": "code",
   "execution_count": 2,
   "id": "7c58fa8b",
   "metadata": {},
   "outputs": [],
   "source": [
    "#https://stackoverflow.com/questions/21884271/warning-about-too-many-open-figures\n",
    "import matplotlib.pyplot as plt\n",
    "plt.rcParams.update({'figure.max_open_warning': 0})\n",
    "\n",
    "plt.close('all')"
   ]
  },
  {
   "cell_type": "code",
   "execution_count": 3,
   "id": "f998eb5d",
   "metadata": {},
   "outputs": [],
   "source": [
    "from matplotlib.pyplot import rc_context"
   ]
  },
  {
   "cell_type": "code",
   "execution_count": 4,
   "id": "47dddc45-3cc2-400d-a817-d1bcc37e38a1",
   "metadata": {},
   "outputs": [
    {
     "name": "stderr",
     "output_type": "stream",
     "text": [
      "Variable names are not unique. To make them unique, call `.var_names_make_unique`.\n",
      "Variable names are not unique. To make them unique, call `.var_names_make_unique`.\n",
      "Variable names are not unique. To make them unique, call `.var_names_make_unique`.\n",
      "Variable names are not unique. To make them unique, call `.var_names_make_unique`.\n"
     ]
    }
   ],
   "source": [
    "NSG=sc.read_h5ad('totalVI/NSG-denoised-labeled.h5ad.gz')\n",
    "Balb=sc.read_h5ad('totalVI/Balb-denoised-labeled.h5ad.gz')\n",
    "Rag=sc.read_h5ad('totalVI/Rag-denoised-labeled.h5ad.gz')\n",
    "Nuj=sc.read_h5ad('totalVI/Nuj-denoised-labeled.h5ad.gz')"
   ]
  },
  {
   "cell_type": "code",
   "execution_count": 5,
   "id": "d22bcfcb-95fc-4f71-8285-189020477d16",
   "metadata": {},
   "outputs": [],
   "source": [
    "def make_ep_df (adata):\n",
    "    df = pd.DataFrame(\n",
    "        data=adata.layers['denoised_rna'], \n",
    "        columns=adata.var.index,\n",
    "        index=adata.obs.index,\n",
    "    ).T\n",
    "    return df"
   ]
  },
  {
   "cell_type": "markdown",
   "id": "fbda8c45-006d-4cea-9a57-1d69fee82218",
   "metadata": {},
   "source": [
    "## NSG"
   ]
  },
  {
   "cell_type": "code",
   "execution_count": 6,
   "id": "ea32cacd-b5b0-4831-889e-0ac020672195",
   "metadata": {},
   "outputs": [],
   "source": [
    "NSG_ep = NSG[NSG.obs.leiden.isin([ep for ep in set(NSG.obs.leiden) if 'ep' in ep])]"
   ]
  },
  {
   "cell_type": "code",
   "execution_count": 7,
   "id": "a17671bb-f060-46fc-a07e-f4ccd1187842",
   "metadata": {},
   "outputs": [],
   "source": [
    "NSG_ep_df = make_ep_df(NSG_ep)"
   ]
  },
  {
   "cell_type": "markdown",
   "id": "08210af4-e123-472a-b118-10e4bda1b57e",
   "metadata": {},
   "source": [
    "## Balb"
   ]
  },
  {
   "cell_type": "code",
   "execution_count": 8,
   "id": "4fb1c4cd-0552-4465-a65c-e04500d62b82",
   "metadata": {},
   "outputs": [],
   "source": [
    "Balb_ep = Balb[Balb.obs.leiden.isin([ep for ep in set(Balb.obs.leiden) if 'ep' in ep])]"
   ]
  },
  {
   "cell_type": "code",
   "execution_count": 9,
   "id": "bc0ba089-dabb-4593-985c-9d8156ab9a2b",
   "metadata": {},
   "outputs": [],
   "source": [
    "Balb_ep_df = make_ep_df(Balb_ep)"
   ]
  },
  {
   "cell_type": "markdown",
   "id": "475f209b-936b-4378-aed8-61bab5f158fd",
   "metadata": {},
   "source": [
    "## Rag"
   ]
  },
  {
   "cell_type": "code",
   "execution_count": 10,
   "id": "ac024355-f165-4871-a7d0-dde6ae6cf6b2",
   "metadata": {},
   "outputs": [],
   "source": [
    "Rag_ep = Rag[Rag.obs.leiden.isin([ep for ep in set(Rag.obs.leiden) if 'ep' in ep])]"
   ]
  },
  {
   "cell_type": "code",
   "execution_count": 11,
   "id": "b2bd7177-89d7-48dc-830c-ef7313fa82d7",
   "metadata": {},
   "outputs": [],
   "source": [
    "Rag_ep_df = make_ep_df(Rag_ep)"
   ]
  },
  {
   "cell_type": "markdown",
   "id": "fa2c2c5c-544b-4b08-baad-9f1a27c52dd4",
   "metadata": {},
   "source": [
    "## Nuj"
   ]
  },
  {
   "cell_type": "code",
   "execution_count": 12,
   "id": "26dee091-0497-467f-8edd-9c1ab137a8bf",
   "metadata": {},
   "outputs": [],
   "source": [
    "Nuj_ep = Nuj[Nuj.obs.leiden.isin([ep for ep in set(Nuj.obs.leiden) if 'ep' in ep])]"
   ]
  },
  {
   "cell_type": "code",
   "execution_count": 13,
   "id": "4eaf5aa2-8744-477a-b5c0-c2b8dcb462ff",
   "metadata": {},
   "outputs": [],
   "source": [
    "Nuj_ep_df = make_ep_df(Nuj_ep)"
   ]
  },
  {
   "cell_type": "markdown",
   "id": "365b8b6e-a816-4f6a-a306-7ab53d577088",
   "metadata": {},
   "source": [
    "## Run differential expression analysis "
   ]
  },
  {
   "cell_type": "code",
   "execution_count": 14,
   "id": "92f4fbf2-42fc-4af0-a57e-42c5f02bd960",
   "metadata": {},
   "outputs": [],
   "source": [
    "counts = pd.concat([NSG_ep_df,Balb_ep_df,Rag_ep_df, Nuj_ep_df],axis=1)"
   ]
  },
  {
   "cell_type": "code",
   "execution_count": 15,
   "id": "cb343388-dcca-40da-8e89-f21170f24777",
   "metadata": {},
   "outputs": [],
   "source": [
    "colData = pd.concat([\n",
    "    pd.concat([\n",
    "        ep.obs[['leiden']] for ep in [NSG_ep,Balb_ep,Rag_ep, Nuj_ep]\n",
    "    ]),\n",
    "    pd.concat([\n",
    "        ep.obs[['batch']] for ep in [NSG_ep,Balb_ep,Rag_ep, Nuj_ep]\n",
    "    ])\n",
    "],axis=1)\n",
    "\n",
    "colData['cond'] = colData.batch.str[:-1]\n",
    "colData['rep'] = colData.batch.str[-1]"
   ]
  },
  {
   "cell_type": "code",
   "execution_count": 16,
   "id": "733554a2-fce7-4ba8-b587-f6e6302cc234",
   "metadata": {},
   "outputs": [
    {
     "data": {
      "text/plain": [
       "(32285, 10151)"
      ]
     },
     "execution_count": 16,
     "metadata": {},
     "output_type": "execute_result"
    }
   ],
   "source": [
    "counts.shape"
   ]
  },
  {
   "cell_type": "code",
   "execution_count": 17,
   "id": "950c3c96-b9f6-4fa6-8e88-8bfef8bec642",
   "metadata": {},
   "outputs": [
    {
     "data": {
      "text/plain": [
       "(10151, 4)"
      ]
     },
     "execution_count": 17,
     "metadata": {},
     "output_type": "execute_result"
    }
   ],
   "source": [
    "colData.shape"
   ]
  },
  {
   "cell_type": "code",
   "execution_count": 18,
   "id": "3cfd2a93-15da-4491-bee6-8b94264b61a6",
   "metadata": {},
   "outputs": [],
   "source": [
    "%%time \n",
    "name = 'ep_clusters'\n",
    "\n",
    "counts.to_csv(f'deseq/{name}_counts.txt',sep='\\t')\n",
    "colData.to_csv(f'deseq/{name}_colData.txt',sep='\\t')"
   ]
  },
  {
   "cell_type": "code",
   "execution_count": 19,
   "id": "707c3418-5d0b-4748-b64e-f9994d2c9ad3",
   "metadata": {},
   "outputs": [
    {
     "name": "stdout",
     "output_type": "stream",
     "text": [
      "args <- commandArgs(trailingOnly = TRUE)\n",
      "\n",
      "countsDIR <- args[1]\n",
      "colDataDIR <- args[2]\n",
      "name <- args[3]\n",
      "# PDIR <- args[1]\n",
      "# refCOND <- [4]\n",
      "# JOBS <- args[5]\n",
      "# setwd(PDIR)\n",
      "dir.create(paste0('deseq/',name))\n"
     ]
    }
   ],
   "source": [
    "!head differential-analysis.R "
   ]
  },
  {
   "cell_type": "markdown",
   "id": "faf5066e-0051-40d8-b397-1d7af8e94ad5",
   "metadata": {},
   "source": [
    "___\n",
    "activate my conda env `deseq2`"
   ]
  },
  {
   "cell_type": "code",
   "execution_count": 6,
   "id": "c4629cd5-641f-4fb2-8cab-fcadc76d0232",
   "metadata": {},
   "outputs": [
    {
     "name": "stdout",
     "output_type": "stream",
     "text": [
      "[1] \"counts loaded!\"\n",
      "[1] 32245 10151\n",
      "[1] \"colData loaded!\"\n",
      "[1] 10151     4\n"
     ]
    },
    {
     "name": "stderr",
     "output_type": "stream",
     "text": [
      "Warning message:\n",
      "In dir.create(paste0(\"deseq/\", name)) : 'deseq/ep_clusters' already exists\n",
      "@@@@@@@@@@@@@@@@@@@@@@@@@@@@@\n",
      "Part 1. \n",
      "@@@@@@@@@@@@@@@@@@@@@@@@@@@@@\n",
      "@@@@@@@@@@@@@@@@@@@@@@@@@@@@@\n",
      "Part 2. \n",
      "@@@@@@@@@@@@@@@@@@@@@@@@@@@@@\n",
      "object created!\n",
      "DGEList\n",
      "Model:\n",
      "-11000-10100-10010010-10001-10\n",
      "@@@@@@@@@@@@@@@@@@@@@@@@@@@@@\n",
      "Part 3. \n",
      "@@@@@@@@@@@@@@@@@@@@@@@@@@@@@\n",
      "Saving 7 x 7 in image\n",
      "Saving 7 x 7 in image\n",
      "@@@@@@@@@@@@@@@@@@@@@@@@@@@@@\n",
      "@@@@@@@@ DONE! :-)@@@@@@@@@@@\n",
      "@@@@@@@@@@@@@@@@@@@@@@@@@@@@@\n",
      "Thu Feb  3 14:37:57 2022\n"
     ]
    }
   ],
   "source": [
    "%%bash\n",
    "Rscript differential-analysis.R \\\n",
    "    deseq/ep_clusters_counts.txt \\\n",
    "    deseq/ep_clusters_colData.txt \\\n",
    "    ep_clusters"
   ]
  },
  {
   "cell_type": "code",
   "execution_count": 3,
   "id": "7ec3b417-54fb-4096-80e8-56142ec40dcb",
   "metadata": {},
   "outputs": [],
   "source": [
    "%%bash \n",
    "export PAGEDIR='/data_gilbert/home/aarab/iPAGE'\n",
    "\n",
    "cd deseq/ep_clusters/\n",
    "\n",
    "bash ../../ipage_loop.sh delta_exp_Nuj_vs_Rag.txt &> delta_exp_Nuj_vs_Rag.txt_ipage.out;\n",
    "bash ../../ipage_loop.sh delta_exp_Rag_vs_Balb.txt &> delta_exp_Rag_vs_Balb.txt_ipage.out;\n",
    "\n",
    "# for f in *.txt; do \n",
    "#     echo bash ../../ipage_loop.sh $f \n",
    "#     #&> ${f}_ipage.out;\n",
    "# done\n",
    "\n",
    "cd ../../"
   ]
  },
  {
   "cell_type": "code",
   "execution_count": 9,
   "id": "d8ed2448-00bd-4ea4-ba01-8e2b5d351665",
   "metadata": {
    "tags": []
   },
   "outputs": [
    {
     "name": "stdout",
     "output_type": "stream",
     "text": [
      "Scanning files .....^C\n"
     ]
    }
   ],
   "source": [
    "!zip -r ep_clusters.zip deseq/ep_clusters/"
   ]
  },
  {
   "cell_type": "code",
   "execution_count": 8,
   "id": "bd0661dd-631c-49f2-94e4-44a5d7a1af34",
   "metadata": {},
   "outputs": [
    {
     "name": "stdout",
     "output_type": "stream",
     "text": [
      "cellranger.sh                network-analysis-GRN.ipynb\n",
      "citeseq-antibodies.txt       network-analysis-metabolic.ipynb\n",
      "\u001b[0m\u001b[38;5;27mcounts\u001b[0m/                      network-analysis-PPI.ipynb\n",
      "\u001b[38;5;27mdeseq\u001b[0m/                       \u001b[38;5;27mpreprocessing\u001b[0m/\n",
      "differential-analysis.ipynb  preprocessing.ipynb\n",
      "differential-analysis.R      Rplots.pdf\n",
      "enrichment-analysis.ipynb    run-differential-analysis.ipynb\n",
      "\u001b[38;5;27mfastq\u001b[0m/                       run.out\n",
      "feature_ref.csv              run.sh\n",
      "\u001b[38;5;27mfigures\u001b[0m/                     \u001b[38;5;27mtotalVI\u001b[0m/\n",
      "ipage_loop.sh                totalvi-BZ.ipynb\n",
      "library.csv\n"
     ]
    }
   ],
   "source": [
    "ls "
   ]
  },
  {
   "cell_type": "code",
   "execution_count": 7,
   "id": "347a163a-3d1a-4d12-86f6-f8b4cdf254e2",
   "metadata": {},
   "outputs": [
    {
     "name": "stdout",
     "output_type": "stream",
     "text": [
      "^C\n"
     ]
    }
   ],
   "source": [
    "!date"
   ]
  }
 ],
 "metadata": {
  "kernelspec": {
   "display_name": "Python [conda env:deseq2]",
   "language": "python",
   "name": "conda-env-deseq2-py"
  },
  "language_info": {
   "codemirror_mode": {
    "name": "ipython",
    "version": 3
   },
   "file_extension": ".py",
   "mimetype": "text/x-python",
   "name": "python",
   "nbconvert_exporter": "python",
   "pygments_lexer": "ipython3",
   "version": "3.9.7"
  }
 },
 "nbformat": 4,
 "nbformat_minor": 5
}
