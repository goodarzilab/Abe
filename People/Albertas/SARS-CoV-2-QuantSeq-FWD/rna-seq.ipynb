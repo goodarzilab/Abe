{
 "cells": [
  {
   "cell_type": "markdown",
   "metadata": {},
   "source": [
    "Fastq files and the pre-processing steps were assessed for quality control using the FastQC and multiQC programs. First, we aim to remove UMI sequences from the Illumina reads using the `umi_tools extract` command. Then, we use Cutadapt to remove low quality and short reads. Using the STAR aligner (Dobin et al., 2013), Fastq files were aligned against the GENCODE v.34 human reference genome. We aimed to process BAM files from the STAR run using `umi_tools dedup` to detect duplicate reads. Gene level counts measured using the HTSeq package. STAR and HTSeq command options selected as suggested in the QuantSeq FWD kit data analysis manual. \n",
    "\n",
    "> The way this experiment works is that I start with human pluripotent stem cells and then start the differentiation by supplying the media with growth factors that induce the desired cell fate, in this particular case it’s definitive endoderm - anterior foregut - lung progenitors - lung organoids.\n",
    "\n",
    "> **Day0** corresponds to **stem cell state**, while the later days correspond to the moments where I change growth factors and expect different cellular fates. Usually, I don’t need the information from the intermediate timepoints, I grow these cells for 50 days and then do experiments with it. However, for quality control purposes (to see that the intermediate fates are correct), I did one experiment where I collected these **intermediate timepoints**. So, experimentally, I collected Day0 to Day35 from one differentiation, and then I have several separate experiments where I started with Day50 cells. In one of the experiments, I did it at Day55. So my idea was while each time point has duplicates, the last time point, or **“mature organoids”**, would exist in more replicates. The “no cells” samples are Day50 organoids, they’re called no cells as I didn’t put them with cancer cells.\n",
    "\n",
    "I thinks we could label samples like this:\n",
    "- Day == 0 => stem_cell\n",
    "- 0 < Day < 35 => intermediate\n",
    "- 50 <= Day <= 55 => mature_organoids\n",
    "\n",
    "Using these labels, we are able to compare samples in these conditions (i.e. stem_cell vs. mature_organoids OR mature_organoids vs. intermediate) for usual differential experssion analysis and then, we can also run iPAGE for enrichment analysis to compare these cell states. \n",
    "\n",
    "There are other packages especially designer for time-series experiments. See [this paper](https://doi.org/10.1016/j.csbj.2015.08.004)"
   ]
  },
  {
   "cell_type": "markdown",
   "metadata": {},
   "source": [
    "# Raw data \n",
    "I've renamed fastq files accordingly. "
   ]
  },
  {
   "cell_type": "code",
   "execution_count": 2,
   "metadata": {},
   "outputs": [
    {
     "name": "stdout",
     "output_type": "stream",
     "text": [
      "\u001b[0m\u001b[01;32mHLO-D0_r1.fastq.gz\u001b[0m*   \u001b[01;32mHLO-D35_r1.fastq.gz\u001b[0m*  \u001b[01;32mHLO-D9_r1.fastq.gz\u001b[0m*\r\n",
      "\u001b[01;32mHLO-D0_r2.fastq.gz\u001b[0m*   \u001b[01;32mHLO-D35_r2.fastq.gz\u001b[0m*  \u001b[01;32mHLO-D9_r2.fastq.gz\u001b[0m*\r\n",
      "\u001b[01;32mHLO-D15_r1.fastq.gz\u001b[0m*  \u001b[01;32mHLO_D55_r1.fastq.gz\u001b[0m*  \u001b[01;32mHLO_no_cells_1_r1.fastq.gz\u001b[0m*\r\n",
      "\u001b[01;32mHLO-D15_r2.fastq.gz\u001b[0m*  \u001b[01;32mHLO_D55_r2.fastq.gz\u001b[0m*  \u001b[01;32mHLO_no_cells_1_r2.fastq.gz\u001b[0m*\r\n",
      "\u001b[01;32mHLO-D25_r1.fastq.gz\u001b[0m*  \u001b[01;32mHLO-D5_r1.fastq.gz\u001b[0m*   \u001b[01;32mHLO_no_cells_2_r1.fastq.gz\u001b[0m*\r\n",
      "\u001b[01;32mHLO-D25_r2.fastq.gz\u001b[0m*  \u001b[01;32mHLO-D5_r2.fastq.gz\u001b[0m*   \u001b[01;32mHLO_no_cells_2_r2.fastq.gz\u001b[0m*\r\n"
     ]
    }
   ],
   "source": [
    "ls fastq"
   ]
  },
  {
   "cell_type": "markdown",
   "metadata": {},
   "source": [
    "Verify Files with MD5 Checksum - https://www.tecmint.com/generate-verify-check-files-md5-checksum-linux/"
   ]
  },
  {
   "cell_type": "code",
   "execution_count": 22,
   "metadata": {},
   "outputs": [],
   "source": [
    "%%bash \n",
    "md5sum fastq/*fastq.gz > checksum-fastq.txt"
   ]
  },
  {
   "cell_type": "code",
   "execution_count": 25,
   "metadata": {},
   "outputs": [
    {
     "name": "stdout",
     "output_type": "stream",
     "text": [
      "54b174440a2793e41e8e8c6c49b97805  fastq/HLO-D0_r1.fastq.gz\r\n",
      "ddff59e1c52106c4a3b02a67d42c87c9  fastq/HLO-D0_r2.fastq.gz\r\n",
      "a6c6338b80e5e7d7812e0331f59c39a7  fastq/HLO-D15_r1.fastq.gz\r\n",
      "82911afe8d4187e10d466e6d2e00c1b1  fastq/HLO-D15_r2.fastq.gz\r\n",
      "d9151690db54a93168e20110741715f5  fastq/HLO-D25_r1.fastq.gz\r\n",
      "109e93d67db787f3bdbbb13520349da2  fastq/HLO-D25_r2.fastq.gz\r\n",
      "e2d43faa0cd1e7c0b6c3fc2f679b8fa2  fastq/HLO-D35_r1.fastq.gz\r\n",
      "1f3cc7e89f8ea2424ac8ee91c4086800  fastq/HLO-D35_r2.fastq.gz\r\n",
      "dbb0a29d974e9405e32b600d5ac5f047  fastq/HLO_D55_r1.fastq.gz\r\n",
      "a18f6cdf35c34755167f5ba512537431  fastq/HLO_D55_r2.fastq.gz\r\n",
      "0706154e1a8fedc42ea673b6da2acafc  fastq/HLO-D5_r1.fastq.gz\r\n",
      "4ee9ca341677e6dc72483c30edee0898  fastq/HLO-D5_r2.fastq.gz\r\n",
      "02db6a6b85cf0ba9cb7aa82566ba6f9e  fastq/HLO-D9_r1.fastq.gz\r\n",
      "842bcc2bd5b3a8ad1ba984c18dc9cd4a  fastq/HLO-D9_r2.fastq.gz\r\n",
      "65ded9451cd4331c5bae29c3f38b3934  fastq/HLO_no_cells_1_r1.fastq.gz\r\n",
      "389a0c03f8ca86bf7657b70014ee03da  fastq/HLO_no_cells_1_r2.fastq.gz\r\n",
      "8b605fbb882cf169e56afd09c7a2830c  fastq/HLO_no_cells_2_r1.fastq.gz\r\n",
      "ccee7ded46caaa30be5decf4c1f20313  fastq/HLO_no_cells_2_r2.fastq.gz\r\n"
     ]
    }
   ],
   "source": [
    "cat checksum-fastq.txt"
   ]
  },
  {
   "cell_type": "markdown",
   "metadata": {},
   "source": [
    "--- \n",
    "\n",
    "I have a conda envirnment named `alignment` where I ran these `bash` commands. See this https://github.com/abearab/QuantSeq-FWD-with-UMIs"
   ]
  },
  {
   "cell_type": "markdown",
   "metadata": {},
   "source": [
    "## Trimming and alignment while removing UMI duplicates \n",
    "\n",
    "The 1st 6nt are UMI. So, we aim to remove UMI sequences from the Illumina reads using the [`umi_tools extract`](https://umi-tools.readthedocs.io/en/latest/QUICK_START.html#step-3-extract-the-umis). Then, we use [`cutadapt`](https://github.com/marcelm/cutadapt) with `-u` option to trim 12 nt and also, remove low quality and short reads. \n"
   ]
  },
  {
   "cell_type": "code",
   "execution_count": 60,
   "metadata": {},
   "outputs": [
    {
     "name": "stdout",
     "output_type": "stream",
     "text": [
      "JOBS=12\r\n",
      "\r\n",
      "mkdir -p fastq-processed/umi_extract;\r\n",
      "mkdir -p fastq-processed/trim;\r\n",
      "mkdir -p logs/umi_tools_extract;\r\n",
      "\r\n",
      "for f in `ls fastq/*`; do\r\n",
      "    b=`basename $f`;\r\n",
      "    l=${b/.fastq.gz/.log};\r\n",
      "\r\n",
      "    umi_tools extract --bc-pattern=NNNNNN \\\r\n",
      "    --stdin=$f \\\r\n",
      "    --log=logs/umi_tools_extract/$l \\\r\n",
      "    --stdout fastq-processed/umi_extract/$b\r\n",
      "\r\n",
      "    cutadapt -j $JOBS -q 15 -m 20 -u 12 \\\r\n",
      "    -o fastq-processed/trim/$b fastq-processed/umi_extract/$b;\r\n",
      "\r\n",
      "done\r\n",
      "\r\n"
     ]
    }
   ],
   "source": [
    "cat process_fastq.sh"
   ]
  },
  {
   "cell_type": "markdown",
   "metadata": {},
   "source": [
    "## `STAR`"
   ]
  },
  {
   "cell_type": "code",
   "execution_count": 65,
   "metadata": {
    "scrolled": false
   },
   "outputs": [
    {
     "name": "stdout",
     "output_type": "stream",
     "text": [
      "PDIR=$1\r\n",
      "fastqDIR=$2\r\n",
      "JOBS=$3\r\n",
      "\r\n",
      "INDEX='/rumi/shams/abe/genomes/hg38/gencode.v34/star_index'\r\n",
      "\r\n",
      "cd $PDIR\r\n",
      "\r\n",
      "mkdir -p bam\r\n",
      "mkdir -p logs/star_aligner\r\n",
      "\r\n",
      "STAR --genomeLoad LoadAndExit --genomeDir $INDEX\r\n",
      "\r\n",
      "for fq_file in ${fastqDIR}/*.fastq.gz; do\r\n",
      "    fq_base=`basename $fq_file`\r\n",
      "    sample_id=${fq_base/.fastq.gz/}\r\n",
      "\r\n",
      "    echo '--------------' $sample_id '--------------'\r\n",
      "\r\n",
      "    STAR \\\r\n",
      "    --outSAMtype BAM SortedByCoordinate \\\r\n",
      "    --readFilesCommand zcat \\\r\n",
      "    --runThreadN $JOBS \\\r\n",
      "    --genomeDir $INDEX \\\r\n",
      "    --readFilesIn $fq_file \\\r\n",
      "    --outFileNamePrefix bam/$sample_id;\r\n",
      "\r\n",
      "    mv -v bam/${sample_id}Aligned.sortedByCoord.out.bam bam/${sample_id}.bam\r\n",
      "    mv -v bam/${sample_id}Log.final.out logs/star_aligner/\r\n",
      "    rm -v bam/${sample_id}*out*\r\n",
      "done\r\n",
      "\r\n",
      "STAR --genomeLoad Remove --genomeDir $INDEX\r\n",
      "\r\n",
      "rm -r _STARtmp/ Log.out Log.progress.out\r\n"
     ]
    }
   ],
   "source": [
    "cat alignment.sh"
   ]
  },
  {
   "cell_type": "markdown",
   "metadata": {},
   "source": [
    "## Process `bam` files \n",
    "\n",
    "I got a same error as discussed here - https://github.com/CGATOxford/UMI-tools/issues/389. So, I included `samtools index -@ $JOBS $bam_file` line which index bam files. "
   ]
  },
  {
   "cell_type": "code",
   "execution_count": 3,
   "metadata": {},
   "outputs": [
    {
     "name": "stdout",
     "output_type": "stream",
     "text": [
      "PDIR=$1\r\n",
      "bamDIR=$2\r\n",
      "JOBS=$3\r\n",
      "\r\n",
      "cd $PDIR\r\n",
      "\r\n",
      "mkdir -p bam-processed/\r\n",
      "mkdir -p logs/umi_tools_dedup;\r\n",
      "\r\n",
      "for bam_file in ${bamDIR}/*.bam; do\r\n",
      "    fq_base=`basename $bam_file`\r\n",
      "    sample_id=${fq_base/.bam/}\r\n",
      "\r\n",
      "    echo '--------------' $sample_id '--------------'\r\n",
      "\r\n",
      "    samtools index -@ $JOBS $bam_file\r\n",
      "\r\n",
      "    umi_tools dedup \\\r\n",
      "    --output-stats=logs/umi_tools_dedup/${sample_id}.log \\\r\n",
      "    --stdin=bam/${sample_id}.bam \\\r\n",
      "    --stdout=bam-processed/${sample_id}.bam\r\n",
      "\r\n",
      "done\r\n"
     ]
    }
   ],
   "source": [
    "cat umi_dedup.sh"
   ]
  },
  {
   "cell_type": "markdown",
   "metadata": {},
   "source": [
    "# Downstream analysis \n",
    "\n",
    "## Basic `DESeq2` analysis \n"
   ]
  },
  {
   "cell_type": "code",
   "execution_count": 3,
   "metadata": {},
   "outputs": [],
   "source": [
    "%reload_ext rpy2.ipython"
   ]
  },
  {
   "cell_type": "code",
   "execution_count": 6,
   "metadata": {},
   "outputs": [],
   "source": [
    "%%R \n",
    "library (GenomicFeatures)\n",
    "library (tximport)\n",
    "library (tidyverse)\n",
    "library (ggplot2)\n",
    "library (ggrepel)\n",
    "library (DESeq2)\n",
    "library (patchwork)\n",
    "library (BiocParallel)\n",
    "\n",
    "register(MulticoreParam(4))"
   ]
  },
  {
   "cell_type": "code",
   "execution_count": 7,
   "metadata": {},
   "outputs": [],
   "source": [
    "%%R \n",
    "ggplot_Save <- function (p, name_it){\n",
    "    ggsave(paste(name_it,'png',sep='.'), plot = p, device = 'png', dpi = 300)\n",
    "    ggsave(paste(name_it,'pdf',sep='.'), plot = p, device = 'pdf', dpi = 300)\n",
    "}\n",
    "\n",
    "plot_Volcano <- function(res, lfc.cutoff  = 1,pval.cutoff = 0.05, title=''){\n",
    "    res$sig <- as.factor(res$pvalue < pval.cutoff & abs(res$log2FoldChange) > lfc.cutoff)\n",
    "    relevel(res$sig, ref=TRUE)\n",
    "    ## Volcano plot\n",
    "    vol = res %>% ggplot(\n",
    "        aes(x=log2FoldChange, y=-log10(pvalue), colour=sig, fill=sig)) +\n",
    "        geom_point(aes(color = sig),alpha = 1/10) +\n",
    "    #         xlim(c(-20,20)) +\n",
    "    #         ylim(c(0,11)) +\n",
    "            geom_hline(yintercept=-log10(pval.cutoff), linetype=\"dashed\", alpha = 4/10) +\n",
    "            geom_vline(xintercept=lfc.cutoff, linetype=\"dashed\", alpha = 4/10) +\n",
    "            geom_vline(xintercept=(-1)*lfc.cutoff, linetype=\"dashed\", alpha = 4/10) +\n",
    "            scale_color_manual(values = c(\"grey\", \"red\")) +\n",
    "            theme_bw() + \n",
    "            theme(legend.position=\"none\") +\n",
    "            ggtitle (title) + \n",
    "            geom_text_repel(\n",
    "                data = subset(res[order(res$pvalue),], sig == TRUE)[1:5,],\n",
    "                aes(label = name),\n",
    "                size = 3,\n",
    "                box.padding = unit(0.35, \"lines\"),\n",
    "                point.padding = unit(0.3, \"lines\")\n",
    "            )\n",
    "     return (vol)\n",
    "}"
   ]
  },
  {
   "cell_type": "markdown",
   "metadata": {},
   "source": [
    "geneID to geneName - https://www.biostars.org/p/196367/"
   ]
  },
  {
   "cell_type": "markdown",
   "metadata": {},
   "source": [
    "    # @@@@@@@@@@@@@@@@@@@@@@@@@@@@\n",
    "    # @ Part 1. read annotations @\n",
    "    # @@@@@@@@@@@@@@@@@@@@@@@@@@@@"
   ]
  },
  {
   "cell_type": "code",
   "execution_count": 8,
   "metadata": {},
   "outputs": [],
   "source": [
    "%%R \n",
    "GTF = '/rumi/shams/abe/genomes/hg38/gencode.v34/gencode.v34.annotation.gtf'\n",
    "gtf <- rtracklayer::import(GTF)\n",
    "gene2name <- gtf[gtf$type == \"gene\"] %>% data.frame %>% column_to_rownames('gene_id') %>% dplyr::select('gene_name')"
   ]
  },
  {
   "cell_type": "markdown",
   "metadata": {},
   "source": [
    "    # @@@@@@@@@@@@@@@@@@@@@@\n",
    "    # @ Part 2: read  data @\n",
    "    # @@@@@@@@@@@@@@@@@@@@@@"
   ]
  },
  {
   "cell_type": "markdown",
   "metadata": {},
   "source": [
    "Import `htseq-count` results into R. \n",
    "\n",
    "https://www.biostars.org/p/343138/"
   ]
  },
  {
   "cell_type": "code",
   "execution_count": 9,
   "metadata": {},
   "outputs": [
    {
     "name": "stdout",
     "output_type": "stream",
     "text": [
      "   sampleName              fileName time rep\n",
      "1    HLO-0-r1         HLO-D0_r1.txt    0  r1\n",
      "2    HLO-0-r2         HLO-D0_r2.txt    0  r2\n",
      "3    HLO-5-r1         HLO-D5_r1.txt    5  r1\n",
      "4    HLO-5-r2         HLO-D5_r2.txt    5  r2\n",
      "5    HLO-9-r1         HLO-D9_r1.txt    9  r1\n",
      "6    HLO-9-r2         HLO-D9_r2.txt    9  r2\n",
      "7   HLO-15-r1        HLO-D15_r1.txt   15  r1\n",
      "8   HLO-15-r2        HLO-D15_r2.txt   15  r2\n",
      "9   HLO-25-r1        HLO-D25_r1.txt   25  r1\n",
      "10  HLO-25-r2        HLO-D25_r2.txt   25  r2\n",
      "11  HLO-35-r1        HLO-D35_r1.txt   35  r1\n",
      "12  HLO-35-r2        HLO-D35_r2.txt   35  r2\n",
      "15  HLO-50-r3 HLO_no_cells_2_r1.txt   50  r3\n",
      "16  HLO-50-r4 HLO_no_cells_2_r2.txt   50  r4\n"
     ]
    }
   ],
   "source": [
    "%%R \n",
    "sampleFiles <- gsub(\".bam\",\"\",list.files(path='bam-processed',full.names=FALSE))\n",
    "\n",
    "time = unlist(lapply(c(55,50,50,0,15,25,35,5,9),rep,2))\n",
    "rep = c(rep(c('r1','r2'), 2), 'r3', 'r4', rep(c('r1','r2'), 6) )\n",
    "\n",
    "sampleTable <- data.frame(\n",
    "    sampleName=paste('HLO',time,rep,sep='-'),\n",
    "    fileName=paste0(sampleFiles,'.txt'),\n",
    "#     cell = cell,\n",
    "    time = time,\n",
    "    rep = rep\n",
    ")\n",
    "\n",
    "sampleTable = sampleTable[order(sampleTable$time),] %>% remove_rownames\n",
    "sampleTable = sampleTable[-c(17,18,13,14),]\n",
    "\n",
    "sampleTable"
   ]
  },
  {
   "cell_type": "markdown",
   "metadata": {},
   "source": [
    "> `sampleTable` for htseq-count: a data.frame with three or more columns. Each row describes one sample. The first column is the sample name, the second column the file name of the count file generated by htseq-count, and the remaining columns are sample metadata which will be stored in colData - [link](https://www.rdocumentation.org/packages/DESeq2/versions/1.12.3/topics/DESeqDataSet-class)"
   ]
  },
  {
   "cell_type": "code",
   "execution_count": 10,
   "metadata": {},
   "outputs": [
    {
     "name": "stderr",
     "output_type": "stream",
     "text": [
      "R[write to console]: the design formula contains a numeric variable with integer values,\n",
      "  specifying a model with increasing fold change for higher values.\n",
      "  did you mean for this to be a factor? if so, first convert\n",
      "  this variable to a factor using the factor() function\n",
      "\n"
     ]
    }
   ],
   "source": [
    "%%R \n",
    "ddsHTSeq <- DESeqDataSetFromHTSeqCount(\n",
    "    sampleTable = sampleTable,\n",
    "    directory = 'htseq-count',\n",
    "    design= ~ time\n",
    ")"
   ]
  },
  {
   "cell_type": "code",
   "execution_count": 11,
   "metadata": {},
   "outputs": [
    {
     "name": "stderr",
     "output_type": "stream",
     "text": [
      "R[write to console]: estimating size factors\n",
      "\n",
      "R[write to console]: estimating dispersions\n",
      "\n",
      "R[write to console]: gene-wise dispersion estimates: 4 workers\n",
      "\n",
      "R[write to console]: mean-dispersion relationship\n",
      "\n",
      "R[write to console]: final dispersion estimates, fitting model and testing: 4 workers\n",
      "\n"
     ]
    }
   ],
   "source": [
    "%%R \n",
    "dds0 <- DESeq(ddsHTSeq, test=\"LRT\", reduced=~1, parallel=TRUE)"
   ]
  },
  {
   "cell_type": "markdown",
   "metadata": {},
   "source": [
    "Normalized counts:"
   ]
  },
  {
   "cell_type": "code",
   "execution_count": 12,
   "metadata": {},
   "outputs": [],
   "source": [
    "%%R \n",
    "ncu0 <- counts(dds0, normalized=TRUE) %>% data.frame %>% \n",
    "    rownames_to_column('gene_id') %>% \n",
    "    add_column(gene_name=gene2name[rownames(ddsHTSeq),], .after='gene_id')"
   ]
  },
  {
   "cell_type": "code",
   "execution_count": 16,
   "metadata": {},
   "outputs": [
    {
     "name": "stdout",
     "output_type": "stream",
     "text": [
      "             gene_id gene_name    HLO.0.r1   HLO.0.r2  HLO.5.r1   HLO.5.r2\n",
      "1 ENSG00000000003.15    TSPAN6 247.6995931 257.538422 112.48314 124.834915\n",
      "2  ENSG00000000005.6      TNMD   0.0000000   0.000000   0.00000   0.000000\n",
      "3 ENSG00000000419.12      DPM1  48.2737226  59.587321  42.90594  45.810978\n",
      "4 ENSG00000000457.14     SCYL3   8.7050975   9.089591  20.87316  18.324391\n",
      "5 ENSG00000000460.17  C1orf112  20.5756851  20.199092   3.47886   9.162196\n",
      "6 ENSG00000000938.13       FGR   0.7913725   1.009955   0.00000   0.000000\n",
      "    HLO.9.r1   HLO.9.r2 HLO.15.r1 HLO.15.r2 HLO.25.r1  HLO.25.r2  HLO.35.r1\n",
      "1 779.668035 699.045707 393.05989 404.43323 372.91064 331.426453 277.518039\n",
      "2   1.976345   0.000000   0.00000   0.00000   0.00000   0.000000   0.000000\n",
      "3  42.491414  23.521053  24.97951  46.18710  60.52841  56.371655  37.904903\n",
      "4  30.633345  30.106948  24.97951  24.86998  13.91458  22.354277  24.367438\n",
      "5   4.940862   9.408421  28.65296  24.27784   5.56583   7.775401   6.091859\n",
      "6   0.000000   0.000000   0.00000   0.00000   0.00000   0.000000   0.000000\n",
      "   HLO.35.r2 HLO.50.r3  HLO.50.r4\n",
      "1 298.031147 208.62528 158.893163\n",
      "2   0.000000   0.00000   0.000000\n",
      "3  32.039860  48.14430  20.502344\n",
      "4  16.322193  18.72278  12.813965\n",
      "5   8.463359   0.00000   5.125586\n",
      "6   0.000000   0.00000   0.000000\n"
     ]
    }
   ],
   "source": [
    "%%R \n",
    "ncu0 %>% head "
   ]
  },
  {
   "cell_type": "code",
   "execution_count": 13,
   "metadata": {},
   "outputs": [],
   "source": [
    "%%R \n",
    "write.table(ncu0,'deseq/norm_counts.txt', sep=\"\\t\", quote=FALSE)"
   ]
  },
  {
   "cell_type": "markdown",
   "metadata": {},
   "source": [
    "Filter out non-informative gene counts:"
   ]
  },
  {
   "cell_type": "code",
   "execution_count": 14,
   "metadata": {},
   "outputs": [
    {
     "name": "stderr",
     "output_type": "stream",
     "text": [
      "R[write to console]: estimating size factors\n",
      "\n",
      "R[write to console]: estimating dispersions\n",
      "\n",
      "R[write to console]: gene-wise dispersion estimates: 4 workers\n",
      "\n",
      "R[write to console]: mean-dispersion relationship\n",
      "\n",
      "R[write to console]: -- note: fitType='parametric', but the dispersion trend was not well captured by the\n",
      "   function: y = a/x + b, and a local regression fit was automatically substituted.\n",
      "   specify fitType='local' or 'mean' to avoid this message next time.\n",
      "\n",
      "R[write to console]: final dispersion estimates, fitting model and testing: 4 workers\n",
      "\n"
     ]
    }
   ],
   "source": [
    "%%R \n",
    "# all samples with a count of higher than 10\n",
    "keep <- rowSums(counts(ddsHTSeq) > 10) == ncol(ddsHTSeq)\n",
    "\n",
    "dds1 <- ddsHTSeq[keep,]\n",
    "dds1 <- DESeq(dds1, test=\"LRT\", reduced=~1, parallel=TRUE)"
   ]
  },
  {
   "cell_type": "code",
   "execution_count": 15,
   "metadata": {},
   "outputs": [],
   "source": [
    "%%R \n",
    "ncu1 <- counts(dds1, normalized=TRUE) %>% data.frame %>% \n",
    "    rownames_to_column('gene_id') %>% \n",
    "    add_column(gene_name=gene2name[rownames(dds1),], .after='gene_id')"
   ]
  },
  {
   "cell_type": "code",
   "execution_count": 16,
   "metadata": {},
   "outputs": [],
   "source": [
    "%%R \n",
    "write.table(ncu1,'deseq/norm_counts_filter.txt', sep=\"\\t\", quote=FALSE)"
   ]
  },
  {
   "cell_type": "markdown",
   "metadata": {},
   "source": [
    "## Clustering \n",
    "\n",
    "### Most variable genes \n"
   ]
  },
  {
   "cell_type": "markdown",
   "metadata": {},
   "source": [
    "For heatmap visualizations (Figures), Normalized counts extracted from the DESeq object, genes with less than 10 counts in all samples were removed as low expressed genes, and also, normalized across samples (SD = 1, mean ~=0) for each gene. \n",
    "\n"
   ]
  },
  {
   "cell_type": "code",
   "execution_count": 18,
   "metadata": {},
   "outputs": [],
   "source": [
    "%%R \n",
    "library(RColorBrewer)\n",
    "library(pheatmap)"
   ]
  },
  {
   "cell_type": "code",
   "execution_count": 19,
   "metadata": {},
   "outputs": [],
   "source": [
    "%%R \n",
    "\n",
    "# mostVar Calculate the top n most variable genes in a matrix of gene expression data\n",
    "mostVar <- function(data, n_hits, i_want_most_var = TRUE) { \n",
    "    # https://rdrr.io/github/abc-igmm/transcripTools/man/mostVar.html\n",
    "    # evaluate variance \n",
    "    data.var <- apply(data, 1, stats::var)\n",
    "    # order by variance and return \n",
    "    data <- data[order(data.var, decreasing = i_want_most_var)[1:n_hits],] \n",
    "    \n",
    "    return (data)\n",
    "}"
   ]
  },
  {
   "cell_type": "markdown",
   "metadata": {},
   "source": [
    "- https://www.biostars.org/p/205417/\n",
    "- https://www.datanovia.com/en/lessons/heatmap-in-r-static-and-interactive-visualization/"
   ]
  },
  {
   "cell_type": "markdown",
   "metadata": {},
   "source": [
    "### Z-normalize rows\n",
    "\n",
    "- https://www.biostars.org/p/112498/\n",
    "- https://stackoverflow.com/questions/19384582/calculating-z-scores-in-r\n",
    "\n",
    "- https://davetang.org/muse/2018/05/15/making-a-heatmap-in-r-with-the-pheatmap-package/\n",
    "        cal_z_score <- function(x){\n",
    "          (x - mean(x)) / sd(x)\n",
    "        }\n",
    "\n",
    "        data_subset_norm <- t(apply(data_subset, 1, cal_z_score))\n",
    "        my_hclust_gene <- hclust(dist(data_subset), method = \"complete\")\n"
   ]
  },
  {
   "cell_type": "code",
   "execution_count": 20,
   "metadata": {},
   "outputs": [],
   "source": [
    "%%R \n",
    "d0 = counts(dds0, normalized=TRUE)\n",
    "\n",
    "z0 = scale(t(d0))\n",
    "\n",
    "d1 = counts(dds1, normalized=TRUE)\n",
    "\n",
    "z1 = scale(t(d1))"
   ]
  },
  {
   "cell_type": "code",
   "execution_count": 21,
   "metadata": {
    "scrolled": true
   },
   "outputs": [
    {
     "name": "stdout",
     "output_type": "stream",
     "text": [
      "[1] 204.99801  17.07613  12.08680  28.92891  25.77852  12.04678\n"
     ]
    }
   ],
   "source": [
    "%%R \n",
    "apply(d1, 1, sd) %>% as.numeric %>% head "
   ]
  },
  {
   "cell_type": "code",
   "execution_count": 22,
   "metadata": {
    "scrolled": true
   },
   "outputs": [
    {
     "name": "stdout",
     "output_type": "stream",
     "text": [
      "[1] 1 1 1 1 1 1\n"
     ]
    }
   ],
   "source": [
    "%%R \n",
    "apply(t(z1), 1, sd) %>% as.numeric %>% head "
   ]
  },
  {
   "cell_type": "code",
   "execution_count": 23,
   "metadata": {
    "scrolled": true
   },
   "outputs": [
    {
     "name": "stdout",
     "output_type": "stream",
     "text": [
      "[1] 1\n"
     ]
    }
   ],
   "source": [
    "%%R \n",
    "sd (z0[,'ENSG00000000419.12'])"
   ]
  },
  {
   "cell_type": "markdown",
   "metadata": {},
   "source": [
    "http://www.stat.columbia.edu/~tzheng/files/Rcolor.pdf"
   ]
  },
  {
   "cell_type": "code",
   "execution_count": 33,
   "metadata": {},
   "outputs": [],
   "source": [
    "%%R \n",
    "colors <- seq(-1,1,by=0.01)\n",
    "my_palette <- c(\"dodgerblue\",colorRampPalette(colors = c(\"dodgerblue\", \"ghostwhite\", \"firebrick1\"))\n",
    "                                                   (n = length(colors)-3), \"firebrick1\")\n"
   ]
  },
  {
   "cell_type": "code",
   "execution_count": 37,
   "metadata": {},
   "outputs": [
    {
     "name": "stderr",
     "output_type": "stream",
     "text": [
      "R[write to console]: Saving 6.67 x 6.67 in image\n",
      "\n",
      "R[write to console]: Saving 6.67 x 6.67 in image\n",
      "\n"
     ]
    },
    {
     "data": {
      "image/png": "[encoded data removed]"
     },
     "metadata": {},
     "output_type": "display_data"
    }
   ],
   "source": [
    "%%R \n",
    "z = z1\n",
    "\n",
    "# select mostVar genes \n",
    "data = mostVar(data=t(z), n_hits=600, TRUE)\n",
    "\n",
    "ann = data.frame(time=sampleTable$time, row.names=sampleTable$sampleName)\n",
    "\n",
    "rownames(ann) <- colnames(data) \n",
    "\n",
    "\n",
    "h1 <- pheatmap(\n",
    "    data, \n",
    "    labels_row = gene2name[data %>% rownames,],\n",
    "    color = my_palette, \n",
    "    breaks = colors, \n",
    "    angle_col= 45,\n",
    "    cluster_col=FALSE,\n",
    "    cellwidth = 12,\n",
    "    show_rownames=FALSE,\n",
    "    annotation_col = ann,\n",
    "    show_colnames=FALSE,\n",
    "    annotation_legend=TRUE,\n",
    "#     margin = c(5,5)\n",
    ")\n",
    "\n",
    "ggplot_Save(h1,'deseq/mostVar_Heatmap')"
   ]
  },
  {
   "cell_type": "markdown",
   "metadata": {},
   "source": [
    "### Marker genes"
   ]
  },
  {
   "cell_type": "code",
   "execution_count": 42,
   "metadata": {},
   "outputs": [],
   "source": [
    "%%R\n",
    "Marker_genes <- read.csv('Marker_genes.txt', sep = '\\t')\n",
    "\n",
    "for (ge in Marker_genes$Gene){\n",
    "    gene_id = rownames(gene2name)[gene2name$gene_name == ge]\n",
    "    Marker_genes$gene_id[Marker_genes$Gene == ge] = gene_id[1]\n",
    "}\n",
    "\n",
    "Marker_genes <- Marker_genes %>% column_to_rownames('gene_id')"
   ]
  },
  {
   "cell_type": "code",
   "execution_count": 67,
   "metadata": {},
   "outputs": [
    {
     "name": "stderr",
     "output_type": "stream",
     "text": [
      "R[write to console]: Saving 6.67 x 6.67 in image\n",
      "\n",
      "R[write to console]: Saving 6.67 x 6.67 in image\n",
      "\n"
     ]
    },
    {
     "data": {
      "image/png": "[encoded data removed]"
     },
     "metadata": {},
     "output_type": "display_data"
    }
   ],
   "source": [
    "%%R\n",
    "z = z0\n",
    "\n",
    "# marker genes \n",
    "data = t(z)[rownames(Marker_genes),]\n",
    "\n",
    "data = data[!rowSums(is.na(data)) > 0,]\n",
    "\n",
    "ann_row = Marker_genes[!rowSums(is.na(data)) > 0,]\n",
    "ann_col = data.frame(time=sampleTable$time, row.names=sampleTable$sampleName)\n",
    "\n",
    "rownames(ann_col) <- colnames(data)\n",
    "\n",
    "h1 <- pheatmap(\n",
    "    data, \n",
    "    labels_row = gene2name[data %>% rownames,],\n",
    "    show_colnames=FALSE,\n",
    "#     angle_col= 45,\n",
    "#     cellheight=10,\n",
    "    color = my_palette, \n",
    "    breaks = colors, \n",
    "    cluster_col=FALSE,\n",
    "    cluster_row=FALSE,\n",
    "    cellwidth = 12,\n",
    "    gaps_row = c(8, 15, 19, 21, 23, 29, 32, 35, 40),\n",
    "    fontsize = 8,\n",
    "    annotation_names_row = FALSE,\n",
    "    annotation_row = select(ann_row, 1),\n",
    "    annotation_col = ann_col\n",
    ")\n",
    "ggplot_Save(h1,'deseq/Marker_genes_Heatmap')\n",
    "\n",
    "h1"
   ]
  },
  {
   "cell_type": "markdown",
   "metadata": {},
   "source": [
    "    # @@@@@@@@@@@@@@@@@@@@@@@@@@@@@@@@@@@@@@@@\n",
    "    # @ Part 3: Principal component analysis @\n",
    "    # @@@@@@@@@@@@@@@@@@@@@@@@@@@@@@@@@@@@@@@@"
   ]
  },
  {
   "cell_type": "markdown",
   "metadata": {},
   "source": [
    "### Principal Component Analysis (PCA)\n",
    "HTSeq counts processed using the DESeq2 package and a DESeq object contain all samples created. First, the `varianceStabilizingTransformation` function from DESeq2 used for the Principal Component Analysis (PCA). The first three PCs were selected for a 3-D scatter plot visualization using the R-Plotly package. \n"
   ]
  },
  {
   "cell_type": "code",
   "execution_count": 89,
   "metadata": {},
   "outputs": [],
   "source": [
    "%%R \n",
    "vsd <- varianceStabilizingTransformation(ddsHTSeq)"
   ]
  },
  {
   "cell_type": "markdown",
   "metadata": {},
   "source": [
    "3D PCA Plot - https://support.bioconductor.org/p/66404/\n",
    "\n",
    "https://rdrr.io/bioc/affycoretools/man/plotPCA.html\n",
    "\n",
    "https://www.biostars.org/p/333436/"
   ]
  },
  {
   "cell_type": "markdown",
   "metadata": {},
   "source": [
    "https://plotly.com/r/using-r-in-jupyter-notebooks/\n",
    "\n",
    "https://github.com/plotly/plotlyhtmlexporter"
   ]
  },
  {
   "cell_type": "code",
   "execution_count": 90,
   "metadata": {},
   "outputs": [],
   "source": [
    "%%R \n",
    "library(plotly)\n",
    "\n",
    "plotPCA3D <- function (object, intgroup = \"condition\", ntop = 5000, returnData = FALSE){\n",
    "  rv <- rowVars(assay(object))\n",
    "  select <- order(rv, decreasing = TRUE)[seq_len(min(ntop, length(rv)))]\n",
    "  pca <- prcomp(t(assay(object)[select, ]))\n",
    "  percentVar <- pca$sdev^2/sum(pca$sdev^2)\n",
    "  if (!all(intgroup %in% names(colData(object)))) {\n",
    "    stop(\"the argument 'intgroup' should specify columns of colData(dds)\")\n",
    "  }\n",
    "  intgroup.df <- as.data.frame(colData(object)[, intgroup, drop = FALSE])\n",
    "  group <- if (length(intgroup) > 1) {\n",
    "    factor(apply(intgroup.df, 1, paste, collapse = \" : \"))\n",
    "  }\n",
    "  else {\n",
    "    colData(object)[[intgroup]]\n",
    "  }\n",
    "  d <- data.frame(PC1 = pca$x[, 1],\n",
    "                  PC2 = pca$x[, 2],\n",
    "                  PC3 = pca$x[, 3],\n",
    "                  group = group,\n",
    "                  intgroup.df,\n",
    "                  name = colnames(object))\n",
    "  if (returnData) {\n",
    "    attr(d, \"percentVar\") <- percentVar[1:3]\n",
    "    return(d)\n",
    "  }\n",
    "#   message(\"Generating plotly plot\")\n",
    "#   p <- plotly::plot_ly(data = d,\n",
    "#                        x = ~PC1,\n",
    "#                        y = ~PC2,\n",
    "#                        z = ~PC3,\n",
    "#                        color = group,\n",
    "#                        mode = \"markers\",\n",
    "#                        type = \"scatter3d\")\n",
    "#   return(p)\n",
    "}\n"
   ]
  },
  {
   "cell_type": "code",
   "execution_count": 129,
   "metadata": {
    "scrolled": false
   },
   "outputs": [],
   "source": [
    "%%R \n",
    "d = plotPCA3D(vsd, intgroup='time', returnData = TRUE)\n",
    "\n",
    "\n",
    "percentVar <- round(100 * attr(d, \"percentVar\"))\n",
    "\n",
    "\n",
    "p = plotly::plot_ly(\n",
    "    data = d,\n",
    "    x = ~PC1, y = ~PC2, z = ~PC3,\n",
    "#     color = as.factor(time),\n",
    "    color = time,\n",
    "    mode = \"markers\",\n",
    "    type = \"scatter3d\"\n",
    ")\n",
    "\n",
    "p <- p %>% layout(\n",
    "    title = \"Principal Component Analysis\",\n",
    "    scene = list(\n",
    "      xaxis = list(title = paste0(\"PC1: \",percentVar[1],\"% variance\")),\n",
    "      yaxis = list(title = paste0(\"PC2: \",percentVar[2],\"% variance\")),\n",
    "      zaxis = list(title = paste0(\"PC3: \",percentVar[3],\"% variance\"))\n",
    "    ))\n"
   ]
  },
  {
   "cell_type": "code",
   "execution_count": 130,
   "metadata": {},
   "outputs": [
    {
     "name": "stderr",
     "output_type": "stream",
     "text": [
      "R[write to console]: File is: 3.45 MB\n",
      "\n"
     ]
    }
   ],
   "source": [
    "%%R \n",
    "library(htmlwidgets)\n",
    "\n",
    "widget_file_size <- function(p) {\n",
    "  d <- tempdir()\n",
    "  withr::with_dir(d, htmlwidgets::saveWidget(p, \"index.html\"))\n",
    "  f <- file.path(d, \"index.html\")\n",
    "  mb <- round(file.info(f)$size / 1e6, 3)\n",
    "  message(\"File is: \", mb,\" MB\")\n",
    "}\n",
    "widget_file_size(p)\n",
    "\n",
    "saveWidget(p, \"pca.html\", selfcontained = F, libdir = \"pca\")"
   ]
  },
  {
   "cell_type": "code",
   "execution_count": 131,
   "metadata": {},
   "outputs": [
    {
     "name": "stdout",
     "output_type": "stream",
     "text": [
      "updating: pca.html (deflated 70%)\n",
      "updating: pca/ (stored 0%)\n",
      "updating: pca/plotly-main-1.49.4/ (stored 0%)\n",
      "updating: pca/plotly-main-1.49.4/plotly-latest.min.js (deflated 70%)\n",
      "updating: pca/crosstalk-1.0.0/ (stored 0%)\n",
      "updating: pca/crosstalk-1.0.0/css/ (stored 0%)\n",
      "updating: pca/crosstalk-1.0.0/css/crosstalk.css (deflated 54%)\n",
      "updating: pca/crosstalk-1.0.0/js/ (stored 0%)\n",
      "updating: pca/crosstalk-1.0.0/js/crosstalk.js.map (deflated 75%)\n",
      "updating: pca/crosstalk-1.0.0/js/crosstalk.min.js.map (deflated 72%)\n",
      "updating: pca/crosstalk-1.0.0/js/crosstalk.min.js (deflated 75%)\n",
      "updating: pca/crosstalk-1.0.0/js/crosstalk.js (deflated 80%)\n",
      "updating: pca/htmlwidgets-1.5.1/ (stored 0%)\n",
      "updating: pca/htmlwidgets-1.5.1/htmlwidgets.js (deflated 71%)\n",
      "updating: pca/plotly-binding-4.9.1/ (stored 0%)\n",
      "updating: pca/plotly-binding-4.9.1/plotly.js (deflated 71%)\n",
      "updating: pca/jquery-1.11.3/ (stored 0%)\n",
      "updating: pca/jquery-1.11.3/jquery.min.js (deflated 65%)\n",
      "updating: pca/jquery-1.11.3/jquery-AUTHORS.txt (deflated 53%)\n",
      "updating: pca/jquery-1.11.3/jquery.min.map (deflated 60%)\n",
      "updating: pca/jquery-1.11.3/jquery.js (deflated 70%)\n",
      "updating: pca/plotly-htmlwidgets-css-1.49.4/ (stored 0%)\n",
      "updating: pca/plotly-htmlwidgets-css-1.49.4/plotly-htmlwidgets.css (deflated 23%)\n",
      "updating: pca/typedarray-0.1/ (stored 0%)\n",
      "updating: pca/typedarray-0.1/typedarray.min.js (deflated 79%)\n"
     ]
    }
   ],
   "source": [
    "!zip -r pca.zip pca.html pca/"
   ]
  },
  {
   "cell_type": "markdown",
   "metadata": {},
   "source": [
    "Scatterplot3d - http://www.sthda.com/english/wiki/scatterplot3d-3d-graphics-r-software-and-data-visualization"
   ]
  },
  {
   "cell_type": "code",
   "execution_count": 168,
   "metadata": {},
   "outputs": [
    {
     "data": {
      "image/png": "[encoded data removed]"
     },
     "metadata": {},
     "output_type": "display_data"
    }
   ],
   "source": [
    "%%R \n",
    "library(\"scatterplot3d\")\n",
    "\n",
    "s = scatterplot3d(\n",
    "    x=d$PC1 ,y=d$PC2 ,z=d$PC3, \n",
    "    xlab = paste0(\"PC1: \",percentVar[1],\"% variance\"),\n",
    "    ylab = paste0(\"PC2: \",percentVar[2],\"% variance\"),\n",
    "    zlab = paste0(\"PC3: \",percentVar[3],\"% variance\"),\n",
    "    pch = 20, labels=d$time,id.n=nrow(d),\n",
    "    grid=T, box=T\n",
    ")\n"
   ]
  },
  {
   "cell_type": "markdown",
   "metadata": {},
   "source": [
    "> Specify the legend position using `xyz.convert()` \n",
    "> 1. The result of scatterplot3d() is assigned to s3d\n",
    "> 2. The function `s3d$xyz.convert()` is used to specify the coordinates for legends\n",
    "> 3. the function `legend()` is used to add legends to plots\n"
   ]
  },
  {
   "cell_type": "markdown",
   "metadata": {},
   "source": [
    "    # @@@@@@@@@@@@@@@@@@@@@@@@@@@@@@@\n",
    "    # @ Part 4: Run the DESeq tests @\n",
    "    # @@@@@@@@@@@@@@@@@@@@@@@@@@@@@@@"
   ]
  },
  {
   "cell_type": "markdown",
   "metadata": {},
   "source": [
    "- https://hbctraining.github.io/DGE_workshop/lessons/05_DGE_DESeq2_analysis2.html\n",
    "\n",
    "- https://support.bioconductor.org/p/62684/\n"
   ]
  },
  {
   "cell_type": "code",
   "execution_count": 177,
   "metadata": {},
   "outputs": [
    {
     "name": "stdout",
     "output_type": "stream",
     "text": [
      "[1] \"Intercept\" \"time\"     \n"
     ]
    }
   ],
   "source": [
    "%%R \n",
    "resultsNames(dds0)"
   ]
  },
  {
   "cell_type": "code",
   "execution_count": 179,
   "metadata": {},
   "outputs": [
    {
     "name": "stderr",
     "output_type": "stream",
     "text": [
      "R[write to console]: using pre-existing size factors\n",
      "\n",
      "R[write to console]: estimating dispersions\n",
      "\n",
      "R[write to console]: found already estimated dispersions, replacing these\n",
      "\n",
      "R[write to console]: gene-wise dispersion estimates\n",
      "\n",
      "R[write to console]: mean-dispersion relationship\n",
      "\n",
      "R[write to console]: final dispersion estimates\n",
      "\n",
      "R[write to console]: fitting model and testing\n",
      "\n"
     ]
    }
   ],
   "source": [
    "%%R \n",
    "dds <- DESeq(dds0)\n",
    "res <- results(dds)"
   ]
  },
  {
   "cell_type": "code",
   "execution_count": 180,
   "metadata": {},
   "outputs": [
    {
     "name": "stdout",
     "output_type": "stream",
     "text": [
      "log2 fold change (MLE): time \n",
      "Wald test p-value: time \n",
      "DataFrame with 6 rows and 6 columns\n",
      "                             baseMean       log2FoldChange               lfcSE\n",
      "                            <numeric>            <numeric>           <numeric>\n",
      "ENSG00000000003.15   279.661340149139  -0.0135908030315163 0.00808307421051309\n",
      "ENSG00000000005.6  0.0977902726711068  0.00537706241069706  0.0761327824924935\n",
      "ENSG00000000419.12   40.1393504686619  0.00166221634705892 0.00627759236310891\n",
      "ENSG00000000457.14   17.7307919601938 0.000333641949392757  0.0070187324937486\n",
      "ENSG00000000460.17   8.78151810885916  -0.0336002652545615  0.0120465477672139\n",
      "ENSG00000000938.13 0.0891924097100301 -0.00185468459002978  0.0761327824924935\n",
      "                                  stat              pvalue               padj\n",
      "                             <numeric>           <numeric>          <numeric>\n",
      "ENSG00000000003.15   -1.68139035688176  0.0926871173567353  0.209671630418984\n",
      "ENSG00000000005.6   0.0706274253305693    0.94369428265432                 NA\n",
      "ENSG00000000419.12   0.264785645660453   0.791174595437437  0.878144234754554\n",
      "ENSG00000000457.14  0.0475359261362252     0.9620860977716  0.979616240351503\n",
      "ENSG00000000460.17   -2.78920284083451 0.00528379604363381 0.0224875335427305\n",
      "ENSG00000000938.13 -0.0243611822569685   0.980564511200795                 NA\n"
     ]
    }
   ],
   "source": [
    "%%R \n",
    "res %>% head "
   ]
  },
  {
   "cell_type": "markdown",
   "metadata": {},
   "source": [
    "We haven't look into the differential analysis; so, we are stoping the analysis here. Although we could go further to achieve differential experssion hits comparing differrent time points. "
   ]
  },
  {
   "cell_type": "markdown",
   "metadata": {},
   "source": [
    "    # @@@@@@@@@@@@@@@@@@@@@@@@@@@@@@@@@@@@@@@@@@@\n",
    "    # @ Part 5: enrichment analysis using iPAGE @\n",
    "    # @@@@@@@@@@@@@@@@@@@@@@@@@@@@@@@@@@@@@@@@@@@"
   ]
  },
  {
   "cell_type": "markdown",
   "metadata": {},
   "source": [
    "After getting the `logFC` I usually run iPAGE to find enriched pathways which we are also missing that at this point. "
   ]
  },
  {
   "cell_type": "code",
   "execution_count": 59,
   "metadata": {},
   "outputs": [
    {
     "name": "stdout",
     "output_type": "stream",
     "text": [
      "exp_file=$1;\r\n",
      "\r\n",
      "outdir=${exp_file/.txt/}; outdir=${outdir/_inputs/_results};\r\n",
      "\r\n",
      "echo '______________' $exp_file '>' $outdir '______________';\r\n",
      "\r\n",
      "ipage_ann='/flash/bin/iPAGEv1.0/PAGE_DATA/ANNOTATIONS/';\r\n",
      "\r\n",
      "mkdir -p $outdir;\r\n",
      "\r\n",
      "for f in `ls -d ${ipage_ann}/mouse*gs*`; do\r\n",
      "    base=`basename \"$f\"`;\r\n",
      "    echo '________________' $base '________________';\r\n",
      "    \r\n",
      "    if [ -d \"${outdir}/${base}/\" ]; \r\n",
      "    then\r\n",
      "        echo 'This result exist!';    \r\n",
      "    ## TO-DO; Force run to remove stuff from previous run. \r\n",
      "    else\r\n",
      "        # Run iPAGE \r\n",
      "        perl $PAGEDIR/page.pl --expfile=$exp_file \\\r\n",
      "        --species=$base --exptype=continuous --ebins=11 --nodups=1; \r\n",
      "        wait\r\n",
      "        mv -v ${exp_file}_PAGE/ ${outdir}/${base}/;\r\n",
      "\r\n",
      "        # keep complete results \r\n",
      "        pv=${outdir}/${base}/pvmatrix.txt;\r\n",
      "        pv0=${pv/.txt/.all.txt}; pvL=${pv/.txt/.L.txt}; pvR=${pv/.txt/.R.txt};\r\n",
      "\r\n",
      "        # subset pathways with p-value > 2 in the first (Left) or last (Right) cluster\r\n",
      "        mv -v $pv $pv0;\r\n",
      "        cat $pv0 | awk -F'\\t' 'BEGIN{FS=OFS=\"\\t\"}; $2>2 {print $0}' > $pvL;\r\n",
      "        cat $pv0 | awk -F'\\t' 'BEGIN{FS=OFS=\"\\t\"}; $12>2 {print $0}' > $pvR;\r\n",
      "\r\n",
      "        for sum in `ls ${outdir}/${base}/*.summary*`; do \r\n",
      "            sum0=${sum/summary/all};\r\n",
      "            mv -v $sum $sum0;\r\n",
      "        done\r\n",
      "        wait\r\n",
      "\r\n",
      "        # draw sided heatmaps     \r\n",
      "        declare -a Sides=('L' 'R');\r\n",
      "\r\n",
      "        for side in \"${Sides[@]}\"; do\r\n",
      "\r\n",
      "            # include if pv matrix contain any values \r\n",
      "            if [ \"$(wc -l < ${outdir}/${base}/pvmatrix.${side}.txt)\" -eq \"$(echo '1')\" ]; \r\n",
      "            then \r\n",
      "                echo '_____...________' $base $side '-> No signal!';    \r\n",
      "            else \r\n",
      "                echo '_____...________' $base $side '...';\r\n",
      "                mkdir -p ${exp_file}_PAGE;\r\n",
      "                perl /flash/bin/iPAGEv1.0/SCRIPTS/mi_go_draw_matrix.pl  \\\r\n",
      "                --pvaluematrixfile=${outdir}/${base}/pvmatrix.${side}.txt \\\r\n",
      "                --expfile=${exp_file} \\\r\n",
      "                --order=1 --draw_sample_heatmap=false \\\r\n",
      "                --min=-3 --max=3 \\\r\n",
      "                --cluster=5 --quantized=0;\r\n",
      "                wait\r\n",
      "                for sum in `ls ${exp_file}_PAGE`; do \r\n",
      "                    sumS=${sum/summary/$side};\r\n",
      "                    mv -v ${exp_file}_PAGE/${sum} ${outdir}/${base}/${sumS};\r\n",
      "                done     \r\n",
      "                rm -vr ${exp_file}_PAGE;\r\n",
      "            fi;\r\n",
      "\r\n",
      "        done\r\n",
      "\r\n",
      "    fi\r\n",
      "\r\n",
      "    #     # pdf2png!\r\n",
      "    #     for file in ${outdir}/${base}/${exp_file}*.pdf; do \r\n",
      "    #         file=${file/.pdf/}\r\n",
      "    #         bash /rumi/shams/abe/Workflows/my_scripts/pdf2png.sh ${file}.pdf\r\n",
      "    #         new=${file/\\/$exp_file/}\r\n",
      "    #         cp -v ${file}.pdf ${new}.pdf\r\n",
      "    #         cp -v ${file}.png ${new}.png\r\n",
      "    #     done     \r\n",
      "     \r\n",
      "done\r\n",
      "\r\n",
      "echo '______________' `basename $outdir` ' DONE!';"
     ]
    }
   ],
   "source": [
    "cat ipage.sh"
   ]
  },
  {
   "cell_type": "code",
   "execution_count": 49,
   "metadata": {},
   "outputs": [
    {
     "name": "stdout",
     "output_type": "stream",
     "text": [
      "R version 3.5.1 (2018-07-02)\n",
      "Platform: x86_64-conda_cos6-linux-gnu (64-bit)\n",
      "Running under: Ubuntu 18.04.4 LTS\n",
      "\n",
      "Matrix products: default\n",
      "BLAS/LAPACK: /rumi/shams/abe/anaconda3/envs/deseq/lib/R/lib/libRlapack.so\n",
      "\n",
      "locale:\n",
      " [1] LC_CTYPE=en_US.UTF-8       LC_NUMERIC=C              \n",
      " [3] LC_TIME=en_US.UTF-8        LC_COLLATE=en_US.UTF-8    \n",
      " [5] LC_MONETARY=en_US.UTF-8    LC_MESSAGES=en_US.UTF-8   \n",
      " [7] LC_PAPER=en_US.UTF-8       LC_NAME=C                 \n",
      " [9] LC_ADDRESS=C               LC_TELEPHONE=C            \n",
      "[11] LC_MEASUREMENT=en_US.UTF-8 LC_IDENTIFICATION=C       \n",
      "\n",
      "attached base packages:\n",
      " [1] stats4    parallel  tools     stats     graphics  grDevices utils    \n",
      " [8] datasets  methods   base     \n",
      "\n",
      "other attached packages:\n",
      " [1] htmlwidgets_1.5.1           plotly_4.9.1               \n",
      " [3] pheatmap_1.0.12             RColorBrewer_1.1-2         \n",
      " [5] patchwork_1.0.0             DESeq2_1.20.0              \n",
      " [7] SummarizedExperiment_1.10.1 DelayedArray_0.6.6         \n",
      " [9] BiocParallel_1.14.2         matrixStats_0.55.0         \n",
      "[11] ggrepel_0.8.1               forcats_0.4.0              \n",
      "[13] stringr_1.4.0               dplyr_0.8.3                \n",
      "[15] purrr_0.3.3                 readr_1.3.1                \n",
      "[17] tidyr_1.0.0                 tibble_2.1.3               \n",
      "[19] ggplot2_3.2.1               tidyverse_1.2.1            \n",
      "[21] tximport_1.10.1             GenomicFeatures_1.32.3     \n",
      "[23] AnnotationDbi_1.42.1        Biobase_2.40.0             \n",
      "[25] GenomicRanges_1.32.7        GenomeInfoDb_1.16.0        \n",
      "[27] IRanges_2.14.12             S4Vectors_0.18.3           \n",
      "[29] BiocGenerics_0.26.0        \n",
      "\n",
      "loaded via a namespace (and not attached):\n",
      " [1] colorspace_1.4-1         htmlTable_1.13.2         XVector_0.20.0          \n",
      " [4] base64enc_0.1-3          rstudioapi_0.10          bit64_0.9-7             \n",
      " [7] lubridate_1.7.4          xml2_1.2.2               splines_3.5.1           \n",
      "[10] geneplotter_1.58.0       knitr_1.25               zeallot_0.1.0           \n",
      "[13] Formula_1.2-3            jsonlite_1.6             Rsamtools_1.32.3        \n",
      "[16] broom_0.5.0              annotate_1.58.0          cluster_2.1.0           \n",
      "[19] shiny_1.2.0              compiler_3.5.1           httr_1.4.1              \n",
      "[22] backports_1.1.5          assertthat_0.2.1         Matrix_1.2-17           \n",
      "[25] lazyeval_0.2.2           cli_1.1.0                later_1.0.0             \n",
      "[28] acepack_1.4.1            htmltools_0.4.0          prettyunits_1.0.2       \n",
      "[31] gtable_0.3.0             glue_1.3.1               GenomeInfoDbData_1.1.0  \n",
      "[34] Rcpp_1.0.3               cellranger_1.1.0         vctrs_0.2.0             \n",
      "[37] Biostrings_2.48.0        nlme_3.1-141             rtracklayer_1.40.6      \n",
      "[40] crosstalk_1.0.0          xfun_0.10                rvest_0.3.5             \n",
      "[43] mime_0.7                 lifecycle_0.1.0          XML_3.98-1.20           \n",
      "[46] zlibbioc_1.26.0          scales_1.0.0             promises_1.1.0          \n",
      "[49] hms_0.5.2                yaml_2.2.0               memoise_1.1.0           \n",
      "[52] gridExtra_2.3            biomaRt_2.36.1           rpart_4.1-15            \n",
      "[55] latticeExtra_0.6-28      stringi_1.4.3            RSQLite_2.1.2           \n",
      "[58] genefilter_1.62.0        checkmate_1.9.4          rlang_0.4.1             \n",
      "[61] pkgconfig_2.0.3          bitops_1.0-6             lattice_0.20-38         \n",
      "[64] GenomicAlignments_1.16.0 bit_1.1-14               tidyselect_0.2.5        \n",
      "[67] magrittr_1.5             R6_2.4.0                 Hmisc_4.2-0             \n",
      "[70] DBI_1.0.0                pillar_1.4.2             haven_2.2.0             \n",
      "[73] foreign_0.8-72           withr_2.1.2              survival_2.44-1.1       \n",
      "[76] RCurl_1.95-4.12          nnet_7.3-12              modelr_0.1.5            \n",
      "[79] crayon_1.3.4             progress_1.2.2           locfit_1.5-9.1          \n",
      "[82] grid_3.5.1               readxl_1.3.1             data.table_1.11.6       \n",
      "[85] blob_1.2.0               digest_0.6.22            xtable_1.8-4            \n",
      "[88] httpuv_1.5.2             munsell_0.5.0            viridisLite_0.3.0       \n"
     ]
    }
   ],
   "source": [
    "%%R \n",
    "sessionInfo()"
   ]
  },
  {
   "cell_type": "code",
   "execution_count": 69,
   "metadata": {},
   "outputs": [
    {
     "name": "stdout",
     "output_type": "stream",
     "text": [
      "\n",
      "To cite R in publications use:\n",
      "\n",
      "  R Core Team (2018). R: A language and environment for statistical\n",
      "  computing. R Foundation for Statistical Computing, Vienna, Austria.\n",
      "  URL https://www.R-project.org/.\n",
      "\n",
      "A BibTeX entry for LaTeX users is\n",
      "\n",
      "  @Manual{,\n",
      "    title = {R: A Language and Environment for Statistical Computing},\n",
      "    author = {{R Core Team}},\n",
      "    organization = {R Foundation for Statistical Computing},\n",
      "    address = {Vienna, Austria},\n",
      "    year = {2018},\n",
      "    url = {https://www.R-project.org/},\n",
      "  }\n",
      "\n",
      "We have invested a lot of time and effort in creating R, please cite it\n",
      "when using it for data analysis. See also ‘citation(\"pkgname\")’ for\n",
      "citing R packages.\n",
      "\n"
     ]
    }
   ],
   "source": [
    "%%R \n",
    "citation()"
   ]
  }
 ],
 "metadata": {
  "kernelspec": {
   "display_name": "Python [conda env:deseq]",
   "language": "python",
   "name": "conda-env-deseq-py"
  },
  "language_info": {
   "codemirror_mode": {
    "name": "ipython",
    "version": 3
   },
   "file_extension": ".py",
   "mimetype": "text/x-python",
   "name": "python",
   "nbconvert_exporter": "python",
   "pygments_lexer": "ipython3",
   "version": "3.7.3"
  }
 },
 "nbformat": 4,
 "nbformat_minor": 4
}
