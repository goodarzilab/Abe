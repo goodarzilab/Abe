{
 "cells": [
  {
   "cell_type": "code",
   "execution_count": 108,
   "id": "27e61c5d-eb92-43fc-9fbe-b07c5da1090d",
   "metadata": {},
   "outputs": [],
   "source": [
    "!mkdir -p fastq_processed/\n",
    "!mkdir -p fastq_processed/assembled\n",
    "!mkdir -p fastq_processed/collapsed"
   ]
  },
  {
   "cell_type": "markdown",
   "id": "d54e4f0d-bda8-4884-a7aa-a991a26c681b",
   "metadata": {
    "tags": []
   },
   "source": [
    "## 0. Merge paired-end reads into single read\n",
    "- https://cme.h-its.org/exelixis/web/software/pear/"
   ]
  },
  {
   "cell_type": "markdown",
   "id": "7881f05a-7100-4378-a988-eda53b8b9d8d",
   "metadata": {},
   "source": [
    "In Step 2. I tried using the actual paired-end data ...\n",
    "    \n",
    "    %%bash \n",
    "    umi_tools extract --bc-pattern=NNNNNNNNN \\\n",
    "    -I \\\n",
    "    fastq_processed/collapsed/ex3_1_S1_R1.fastq \\\n",
    "    --read2-in \\\n",
    "    fastq_processed/collapsed/ex3_1_S1_R2.fastq \\\n",
    "    --log \\\n",
    "    logs/umi_tools_extract/ex3_1.log \\\n",
    "    --stdout \\\n",
    "    fastq_processed/umi_extract/ex3_1_S1_R1.fastq \\\n",
    "    --read2-out \\ \n",
    "    fastq_processed/umi_extract/ex3_1_S1_R2.fastq\n",
    "    \n",
    "then I saw this error \n",
    "\n",
    "    ValueError: \n",
    "    Read pairs do not match\n",
    "    M00179:265:000000000-K83HN:1:1107:5417:5996#1 != M00179:265:000000000-K83HN:1:1101:13697:13764#1\n",
    "    bash: line 11: fastq_processed/umi_extract/ex3_1_S1_R2.fastq: Permission denied\n"
   ]
  },
  {
   "cell_type": "code",
   "execution_count": null,
   "id": "ec4eab6e-81de-4f5f-89c3-2c0c31fed57d",
   "metadata": {},
   "outputs": [],
   "source": [
    "%%bash\n",
    "for f in fastq/*_R1*; do \n",
    "    f2=${f/_R1/_R2}\n",
    "    b=`basename $f`\n",
    "    ass=${b/_S[1-9]*/}\n",
    "    cm=\"pear -j 10 -f $f -r $f2 -o fastq_processed/assembled/$ass\"\n",
    "    echo $cm\n",
    "    $cm\n",
    "    wait \n",
    "done "
   ]
  },
  {
   "cell_type": "code",
   "execution_count": 107,
   "id": "c68279f9-89f0-4ee8-9005-110813a8ef44",
   "metadata": {},
   "outputs": [
    {
     "name": "stdout",
     "output_type": "stream",
     "text": [
      "fastq_processed/assembled/ex3_1.assembled.fastq\n",
      "fastq_processed/assembled/ex3_2.assembled.fastq\n",
      "fastq_processed/assembled/ex4_1.assembled.fastq\n",
      "fastq_processed/assembled/ex4_2.assembled.fastq\n",
      "fastq_processed/assembled/NC1_ex3.assembled.fastq\n",
      "fastq_processed/assembled/NC1_ex4.assembled.fastq\n",
      "fastq_processed/assembled/NC2_ex3.assembled.fastq\n",
      "fastq_processed/assembled/NC2_ex4.assembled.fastq\n"
     ]
    }
   ],
   "source": [
    "ls fastq_processed/assembled/*assembled.fastq"
   ]
  },
  {
   "cell_type": "markdown",
   "id": "21085c7c-0f43-43f8-9256-e69e18b1685f",
   "metadata": {},
   "source": [
    "<!-- Hani shared this chunk of codes/notes. \n",
    " -->\n",
    "\n",
    "## 1. Collapse identical sequences"
   ]
  },
  {
   "cell_type": "markdown",
   "id": "97ea6d8d-9167-4609-bc6d-b8f7481d9f26",
   "metadata": {
    "jp-MarkdownHeadingCollapsed": true,
    "tags": []
   },
   "source": [
    "### Setup CTK\n",
    "\n",
    "https://zhanglab.c2b2.columbia.edu/index.php/CTK_usage\n",
    "\n",
    "https://zhanglab.c2b2.columbia.edu/index.php/CTK_Documentation"
   ]
  },
  {
   "cell_type": "markdown",
   "id": "ededb7e2-7b26-4f0c-9619-c74e0be19a81",
   "metadata": {},
   "source": [
    "#### Installation"
   ]
  },
  {
   "cell_type": "markdown",
   "id": "0979d87c-2138-4760-91d8-31bc5f73d155",
   "metadata": {},
   "source": [
    "My `ctk` conda env for prerequisites "
   ]
  },
  {
   "cell_type": "markdown",
   "id": "e8bae87f-b93f-4f38-ace9-c1fb5b68b0ca",
   "metadata": {},
   "source": [
    "https://zhanglab.c2b2.columbia.edu/index.php/CTK_Documentation | Download\n",
    "> czplib (perl): a perl library with various functions for genomic/bioinformatic analysis. Download from github\n",
    "\n",
    "> CTK (perl): the core algorithm. Download from github\n"
   ]
  },
  {
   "cell_type": "code",
   "execution_count": 11,
   "id": "6f6124c6-e6b1-40d8-b0bd-63e4501bde40",
   "metadata": {},
   "outputs": [
    {
     "name": "stdout",
     "output_type": "stream",
     "text": [
      "/data_gilbert/home/aarab/Workflows/CTK/ctk-1.1.4/\n",
      "/data_gilbert/home/aarab/Workflows/CTK/czplib-1.0.8/\n"
     ]
    }
   ],
   "source": [
    "!ls -d ~/Workflows/CTK/*/"
   ]
  },
  {
   "cell_type": "code",
   "execution_count": 10,
   "id": "c5c8415d-5f2f-48d8-9481-6e14b15df6db",
   "metadata": {},
   "outputs": [
    {
     "name": "stdout",
     "output_type": "stream",
     "text": [
      "/data_gilbert/home/aarab/Workflows/CTK/ctk-1.1.4\n"
     ]
    }
   ],
   "source": [
    "%%bash\n",
    "export PERL5LIB=/data_gilbert/home/aarab/Workflows/CTK/czplib-1.0.8\n",
    "export CTKDIR=/data_gilbert/home/aarab/Workflows/CTK/ctk-1.1.4\n",
    "\n",
    "echo $CTKDIR"
   ]
  },
  {
   "cell_type": "code",
   "execution_count": 109,
   "id": "35ca327b-1c7a-47fa-9d99-ee84cf45a17c",
   "metadata": {},
   "outputs": [
    {
     "name": "stdout",
     "output_type": "stream",
     "text": [
      "fastq_processed/assembled/ex3_1.assembled.fastq ex3_1.assembled.fastq\n",
      "awk '{if(NR%4==1) {print $1}}' fastq_processed/assembled/ex3_1.assembled.fastq > tmp/id\n",
      "awk '{if(NR%4==2) {print $0}}' fastq_processed/assembled/ex3_1.assembled.fastq > tmp/seq\n",
      "awk '{if(NR%4==0) {print $0}}' fastq_processed/assembled/ex3_1.assembled.fastq > tmp/qual\n",
      "paste tmp/id tmp/qual tmp/seq| sort -T tmp -k 3 | uniq -f 2 -c | awk '{print $2\"#\"$1\"\\n\"$4\"\\n+\\n\"$3}' > fastq_processed/collapsed/ex3_1.assembled.fastq\n",
      "fastq_processed/assembled/ex3_2.assembled.fastq ex3_2.assembled.fastq\n",
      "awk '{if(NR%4==1) {print $1}}' fastq_processed/assembled/ex3_2.assembled.fastq > tmp/id\n",
      "awk '{if(NR%4==2) {print $0}}' fastq_processed/assembled/ex3_2.assembled.fastq > tmp/seq\n",
      "awk '{if(NR%4==0) {print $0}}' fastq_processed/assembled/ex3_2.assembled.fastq > tmp/qual\n",
      "paste tmp/id tmp/qual tmp/seq| sort -T tmp -k 3 | uniq -f 2 -c | awk '{print $2\"#\"$1\"\\n\"$4\"\\n+\\n\"$3}' > fastq_processed/collapsed/ex3_2.assembled.fastq\n",
      "fastq_processed/assembled/ex4_1.assembled.fastq ex4_1.assembled.fastq\n",
      "awk '{if(NR%4==1) {print $1}}' fastq_processed/assembled/ex4_1.assembled.fastq > tmp/id\n",
      "awk '{if(NR%4==2) {print $0}}' fastq_processed/assembled/ex4_1.assembled.fastq > tmp/seq\n",
      "awk '{if(NR%4==0) {print $0}}' fastq_processed/assembled/ex4_1.assembled.fastq > tmp/qual\n",
      "paste tmp/id tmp/qual tmp/seq| sort -T tmp -k 3 | uniq -f 2 -c | awk '{print $2\"#\"$1\"\\n\"$4\"\\n+\\n\"$3}' > fastq_processed/collapsed/ex4_1.assembled.fastq\n",
      "fastq_processed/assembled/ex4_2.assembled.fastq ex4_2.assembled.fastq\n",
      "awk '{if(NR%4==1) {print $1}}' fastq_processed/assembled/ex4_2.assembled.fastq > tmp/id\n",
      "awk '{if(NR%4==2) {print $0}}' fastq_processed/assembled/ex4_2.assembled.fastq > tmp/seq\n",
      "awk '{if(NR%4==0) {print $0}}' fastq_processed/assembled/ex4_2.assembled.fastq > tmp/qual\n",
      "paste tmp/id tmp/qual tmp/seq| sort -T tmp -k 3 | uniq -f 2 -c | awk '{print $2\"#\"$1\"\\n\"$4\"\\n+\\n\"$3}' > fastq_processed/collapsed/ex4_2.assembled.fastq\n",
      "fastq_processed/assembled/NC1_ex3.assembled.fastq NC1_ex3.assembled.fastq\n",
      "awk '{if(NR%4==1) {print $1}}' fastq_processed/assembled/NC1_ex3.assembled.fastq > tmp/id\n",
      "awk '{if(NR%4==2) {print $0}}' fastq_processed/assembled/NC1_ex3.assembled.fastq > tmp/seq\n",
      "awk '{if(NR%4==0) {print $0}}' fastq_processed/assembled/NC1_ex3.assembled.fastq > tmp/qual\n",
      "paste tmp/id tmp/qual tmp/seq| sort -T tmp -k 3 | uniq -f 2 -c | awk '{print $2\"#\"$1\"\\n\"$4\"\\n+\\n\"$3}' > fastq_processed/collapsed/NC1_ex3.assembled.fastq\n",
      "fastq_processed/assembled/NC1_ex4.assembled.fastq NC1_ex4.assembled.fastq\n",
      "awk '{if(NR%4==1) {print $1}}' fastq_processed/assembled/NC1_ex4.assembled.fastq > tmp/id\n",
      "awk '{if(NR%4==2) {print $0}}' fastq_processed/assembled/NC1_ex4.assembled.fastq > tmp/seq\n",
      "awk '{if(NR%4==0) {print $0}}' fastq_processed/assembled/NC1_ex4.assembled.fastq > tmp/qual\n",
      "paste tmp/id tmp/qual tmp/seq| sort -T tmp -k 3 | uniq -f 2 -c | awk '{print $2\"#\"$1\"\\n\"$4\"\\n+\\n\"$3}' > fastq_processed/collapsed/NC1_ex4.assembled.fastq\n",
      "fastq_processed/assembled/NC2_ex3.assembled.fastq NC2_ex3.assembled.fastq\n",
      "awk '{if(NR%4==1) {print $1}}' fastq_processed/assembled/NC2_ex3.assembled.fastq > tmp/id\n",
      "awk '{if(NR%4==2) {print $0}}' fastq_processed/assembled/NC2_ex3.assembled.fastq > tmp/seq\n",
      "awk '{if(NR%4==0) {print $0}}' fastq_processed/assembled/NC2_ex3.assembled.fastq > tmp/qual\n",
      "paste tmp/id tmp/qual tmp/seq| sort -T tmp -k 3 | uniq -f 2 -c | awk '{print $2\"#\"$1\"\\n\"$4\"\\n+\\n\"$3}' > fastq_processed/collapsed/NC2_ex3.assembled.fastq\n",
      "fastq_processed/assembled/NC2_ex4.assembled.fastq NC2_ex4.assembled.fastq\n",
      "awk '{if(NR%4==1) {print $1}}' fastq_processed/assembled/NC2_ex4.assembled.fastq > tmp/id\n",
      "awk '{if(NR%4==2) {print $0}}' fastq_processed/assembled/NC2_ex4.assembled.fastq > tmp/seq\n",
      "awk '{if(NR%4==0) {print $0}}' fastq_processed/assembled/NC2_ex4.assembled.fastq > tmp/qual\n",
      "paste tmp/id tmp/qual tmp/seq| sort -T tmp -k 3 | uniq -f 2 -c | awk '{print $2\"#\"$1\"\\n\"$4\"\\n+\\n\"$3}' > fastq_processed/collapsed/NC2_ex4.assembled.fastq\n"
     ]
    }
   ],
   "source": [
    "%%bash\n",
    "export PERL5LIB=/data_gilbert/home/aarab/Workflows/CTK/czplib-1.0.8\n",
    "export CTKDIR=/data_gilbert/home/aarab/Workflows/CTK/ctk-1.1.4\n",
    "\n",
    "for f in fastq_processed/assembled/*assembled.fastq; do \n",
    "    b=`basename $f`\n",
    "    echo $f $b; \n",
    "    perl $CTKDIR/fastq2collapse.pl -v --tmp-dir tmp $f fastq_processed/collapsed/$b\n",
    "    wait\n",
    "done"
   ]
  },
  {
   "cell_type": "markdown",
   "id": "1217c65e-f46f-43cf-bf22-c6b79c539dce",
   "metadata": {
    "jp-MarkdownHeadingCollapsed": true,
    "tags": []
   },
   "source": [
    "## 2. Remove the UMIs with umi_tools extract"
   ]
  },
  {
   "cell_type": "markdown",
   "id": "7d399156-8622-42c3-91c4-be377348e1c2",
   "metadata": {},
   "source": [
    "My `alignment` env  "
   ]
  },
  {
   "cell_type": "code",
   "execution_count": 110,
   "id": "82324690-a747-421b-b27f-9e3cc988675a",
   "metadata": {},
   "outputs": [],
   "source": [
    "# !umi_tools"
   ]
  },
  {
   "cell_type": "code",
   "execution_count": 111,
   "id": "78edcb92-b253-4019-93ae-bc50817c3843",
   "metadata": {},
   "outputs": [
    {
     "name": "stdout",
     "output_type": "stream",
     "text": [
      "ex3_1.assembled.fastq  ex4_2.assembled.fastq    NC2_ex3.assembled.fastq\n",
      "ex3_2.assembled.fastq  NC1_ex3.assembled.fastq  NC2_ex4.assembled.fastq\n",
      "ex4_1.assembled.fastq  NC1_ex4.assembled.fastq\n"
     ]
    }
   ],
   "source": [
    "ls fastq_processed/collapsed"
   ]
  },
  {
   "cell_type": "code",
   "execution_count": 114,
   "id": "2e051c8e-a39a-4137-81d6-b8287bf2fad4",
   "metadata": {},
   "outputs": [
    {
     "name": "stdout",
     "output_type": "stream",
     "text": [
      "-------------- ex3_1.assembled --------------\n",
      "-------------- ex3_2.assembled --------------\n",
      "-------------- ex4_1.assembled --------------\n",
      "-------------- ex4_2.assembled --------------\n",
      "-------------- NC1_ex3.assembled --------------\n",
      "-------------- NC1_ex4.assembled --------------\n",
      "-------------- NC2_ex3.assembled --------------\n",
      "-------------- NC2_ex4.assembled --------------\n"
     ]
    }
   ],
   "source": [
    "%%bash \n",
    "mkdir -p fastq_processed/umi_extract;\n",
    "mkdir -p logs;\n",
    "mkdir -p logs/umi_tools_extract;\n",
    "# mkdir -p fastq_processed/trim;\n",
    "# mkdir -p logs/cutadapt_trim;\n",
    "\n",
    "fastqDIR='fastq_processed/collapsed'\n",
    "\n",
    "for fq_file in ${fastqDIR}/*.fastq; do\n",
    "    fq_base=`basename $fq_file`;\n",
    "    sample_id=${fq_base/.fastq/};\n",
    "\n",
    "\n",
    "    echo '--------------' $sample_id '--------------'\n",
    "\n",
    "    umi_tools extract --bc-pattern=NNNNNNNNN \\\n",
    "     -I $fq_file \\\n",
    "     --log=logs/umi_tools_extract/${sample_id}.log \\\n",
    "     --stdout=fastq_processed/umi_extract/$fq_base \\\n",
    "\n",
    "    #cutadapt -j $JOBS -q 15 -m 20 -U 9 \\\n",
    "    # -o fastq_processed/trim/$fq_base \\\n",
    "    # -p fastq_processed/trim/$fq_base \\\n",
    "    # fastq_processed/umi_extract/$fq1_base fastq_processed/umi_extract/$fq2_base> logs/cutadapt_trim/$log_file;\n",
    "\n",
    "done\n"
   ]
  },
  {
   "cell_type": "markdown",
   "id": "5ca42c55-cb16-426b-abc9-39f431e314ad",
   "metadata": {
    "jp-MarkdownHeadingCollapsed": true,
    "tags": []
   },
   "source": [
    "## 3. Align to the specific amplicons the data comes from"
   ]
  },
  {
   "cell_type": "code",
   "execution_count": 2,
   "id": "f35b278a-dbe8-49b1-b10e-853d4cc96745",
   "metadata": {},
   "outputs": [
    {
     "name": "stdout",
     "output_type": "stream",
     "text": [
      "/data_gilbert/home/aarab/anaconda3/envs/ctk/bin/bwa\n"
     ]
    }
   ],
   "source": [
    "!which bwa"
   ]
  },
  {
   "cell_type": "markdown",
   "id": "0149fe80-f733-49f6-85be-7cc69b0ed8dc",
   "metadata": {},
   "source": [
    "### Align to hg19"
   ]
  },
  {
   "cell_type": "markdown",
   "id": "4a8c7ab4-2188-469e-837e-0f04bbabef9b",
   "metadata": {},
   "source": [
    "#### Genome index\n",
    "I tried to download `hg19` genome index from [this link](http://ccb.jhu.edu/software/tophat/igenomes.shtml) and it didn't work! \n",
    "\n",
    "Instead, I'm downloading `hg19.fa.gz` file from https://hgdownload.soe.ucsc.edu/goldenPath/hg19/bigZips/\n",
    "\n",
    "Then, indexing through\n",
    "```bash \n",
    "bwa index -a bwtsw <genome>.fa\n",
    "```"
   ]
  },
  {
   "cell_type": "code",
   "execution_count": 11,
   "id": "7e441369-8647-41b2-a36e-7e6a02c073b2",
   "metadata": {},
   "outputs": [
    {
     "name": "stdout",
     "output_type": "stream",
     "text": [
      "hg19.fa  hg19.fa.amb  hg19.fa.ann  hg19.fa.bwt  hg19.fa.pac  hg19.fa.sa\n"
     ]
    }
   ],
   "source": [
    "ls /data_gilbert/home/aarab/genomes/hg19/"
   ]
  },
  {
   "cell_type": "code",
   "execution_count": 16,
   "id": "147cae56-d4ba-45e8-a9b2-f878caa0042e",
   "metadata": {},
   "outputs": [],
   "source": [
    "!mkdir bam"
   ]
  },
  {
   "cell_type": "code",
   "execution_count": 17,
   "id": "75b5b976-6023-4dd5-bd5e-73f2d7a05f3c",
   "metadata": {},
   "outputs": [
    {
     "name": "stdout",
     "output_type": "stream",
     "text": [
      "bwa mem -t 10 -o bam/ex3_1.bam /data_gilbert/home/aarab/genomes/hg19/hg19.fa fastq_processed/umi_extract/ex3_1.assembled.fastq\n",
      "Fri Mar 4 11:41:30 PST 2022\n",
      "bwa mem -t 10 -o bam/ex3_2.bam /data_gilbert/home/aarab/genomes/hg19/hg19.fa fastq_processed/umi_extract/ex3_2.assembled.fastq\n",
      "Fri Mar 4 11:41:45 PST 2022\n",
      "bwa mem -t 10 -o bam/ex4_1.bam /data_gilbert/home/aarab/genomes/hg19/hg19.fa fastq_processed/umi_extract/ex4_1.assembled.fastq\n",
      "Fri Mar 4 11:41:59 PST 2022\n",
      "bwa mem -t 10 -o bam/ex4_2.bam /data_gilbert/home/aarab/genomes/hg19/hg19.fa fastq_processed/umi_extract/ex4_2.assembled.fastq\n",
      "Fri Mar 4 11:42:17 PST 2022\n",
      "bwa mem -t 10 -o bam/NC1_ex3.bam /data_gilbert/home/aarab/genomes/hg19/hg19.fa fastq_processed/umi_extract/NC1_ex3.assembled.fastq\n",
      "Fri Mar 4 11:42:35 PST 2022\n",
      "bwa mem -t 10 -o bam/NC1_ex4.bam /data_gilbert/home/aarab/genomes/hg19/hg19.fa fastq_processed/umi_extract/NC1_ex4.assembled.fastq\n",
      "Fri Mar 4 11:42:50 PST 2022\n",
      "bwa mem -t 10 -o bam/NC2_ex3.bam /data_gilbert/home/aarab/genomes/hg19/hg19.fa fastq_processed/umi_extract/NC2_ex3.assembled.fastq\n",
      "Fri Mar 4 11:43:05 PST 2022\n",
      "bwa mem -t 10 -o bam/NC2_ex4.bam /data_gilbert/home/aarab/genomes/hg19/hg19.fa fastq_processed/umi_extract/NC2_ex4.assembled.fastq\n",
      "Fri Mar 4 11:43:20 PST 2022\n"
     ]
    },
    {
     "name": "stderr",
     "output_type": "stream",
     "text": [
      "[M::bwa_idx_load_from_disk] read 0 ALT contigs\n",
      "[M::process] read 646461 sequences (90163978 bp)...\n",
      "[M::mem_process_seqs] Processed 646461 reads in 85.552 CPU sec, 8.720 real sec\n",
      "[main] Version: 0.7.17-r1198-dirty\n",
      "[main] CMD: bwa mem -t 10 -o bam/ex3_1.bam /data_gilbert/home/aarab/genomes/hg19/hg19.fa fastq_processed/umi_extract/ex3_1.assembled.fastq\n",
      "[main] Real time: 15.012 sec; CPU: 91.497 sec\n",
      "[M::bwa_idx_load_from_disk] read 0 ALT contigs\n",
      "[M::process] read 613290 sequences (85477075 bp)...\n",
      "[M::mem_process_seqs] Processed 613290 reads in 80.421 CPU sec, 8.200 real sec\n",
      "[main] Version: 0.7.17-r1198-dirty\n",
      "[main] CMD: bwa mem -t 10 -o bam/ex3_2.bam /data_gilbert/home/aarab/genomes/hg19/hg19.fa fastq_processed/umi_extract/ex3_2.assembled.fastq\n",
      "[main] Real time: 13.792 sec; CPU: 85.713 sec\n",
      "[M::bwa_idx_load_from_disk] read 0 ALT contigs\n",
      "[M::process] read 437494 sequences (100000266 bp)...\n",
      "[M::process] read 256785 sequences (58707800 bp)...\n",
      "[M::mem_process_seqs] Processed 437494 reads in 73.849 CPU sec, 7.559 real sec\n",
      "[M::mem_process_seqs] Processed 256785 reads in 42.163 CPU sec, 4.155 real sec\n",
      "[main] Version: 0.7.17-r1198-dirty\n",
      "[main] CMD: bwa mem -t 10 -o bam/ex4_1.bam /data_gilbert/home/aarab/genomes/hg19/hg19.fa fastq_processed/umi_extract/ex4_1.assembled.fastq\n",
      "[main] Real time: 17.920 sec; CPU: 121.477 sec\n",
      "[M::bwa_idx_load_from_disk] read 0 ALT contigs\n",
      "[M::process] read 437454 sequences (100000320 bp)...\n",
      "[M::process] read 235763 sequences (53902601 bp)...\n",
      "[M::mem_process_seqs] Processed 437454 reads in 76.228 CPU sec, 7.841 real sec\n",
      "[M::mem_process_seqs] Processed 235763 reads in 38.011 CPU sec, 3.725 real sec\n",
      "[main] Version: 0.7.17-r1198-dirty\n",
      "[main] CMD: bwa mem -t 10 -o bam/ex4_2.bam /data_gilbert/home/aarab/genomes/hg19/hg19.fa fastq_processed/umi_extract/ex4_2.assembled.fastq\n",
      "[main] Real time: 18.128 sec; CPU: 119.943 sec\n",
      "[M::bwa_idx_load_from_disk] read 0 ALT contigs\n",
      "[M::process] read 680389 sequences (94851184 bp)...\n",
      "[M::mem_process_seqs] Processed 680389 reads in 87.101 CPU sec, 8.868 real sec\n",
      "[main] Version: 0.7.17-r1198-dirty\n",
      "[main] CMD: bwa mem -t 10 -o bam/NC1_ex3.bam /data_gilbert/home/aarab/genomes/hg19/hg19.fa fastq_processed/umi_extract/NC1_ex3.assembled.fastq\n",
      "[main] Real time: 14.515 sec; CPU: 92.445 sec\n",
      "[M::bwa_idx_load_from_disk] read 0 ALT contigs\n",
      "[M::process] read 437444 sequences (100000392 bp)...\n",
      "[M::process] read 125425 sequences (28677960 bp)...\n",
      "[M::mem_process_seqs] Processed 437444 reads in 69.753 CPU sec, 7.167 real sec\n",
      "[M::mem_process_seqs] Processed 125425 reads in 20.634 CPU sec, 1.995 real sec\n",
      "[main] Version: 0.7.17-r1198-dirty\n",
      "[main] CMD: bwa mem -t 10 -o bam/NC1_ex4.bam /data_gilbert/home/aarab/genomes/hg19/hg19.fa fastq_processed/umi_extract/NC1_ex4.assembled.fastq\n",
      "[main] Real time: 15.052 sec; CPU: 95.714 sec\n",
      "[M::bwa_idx_load_from_disk] read 0 ALT contigs\n",
      "[M::process] read 664808 sequences (92661757 bp)...\n",
      "[M::mem_process_seqs] Processed 664808 reads in 86.291 CPU sec, 8.814 real sec\n",
      "[main] Version: 0.7.17-r1198-dirty\n",
      "[main] CMD: bwa mem -t 10 -o bam/NC2_ex3.bam /data_gilbert/home/aarab/genomes/hg19/hg19.fa fastq_processed/umi_extract/NC2_ex3.assembled.fastq\n",
      "[main] Real time: 15.481 sec; CPU: 92.356 sec\n",
      "[M::bwa_idx_load_from_disk] read 0 ALT contigs\n",
      "[M::process] read 437508 sequences (100000282 bp)...\n",
      "[M::process] read 137299 sequences (31391018 bp)...\n",
      "[M::mem_process_seqs] Processed 437508 reads in 72.864 CPU sec, 7.527 real sec\n",
      "[M::mem_process_seqs] Processed 137299 reads in 22.965 CPU sec, 2.229 real sec\n",
      "[main] Version: 0.7.17-r1198-dirty\n",
      "[main] CMD: bwa mem -t 10 -o bam/NC2_ex4.bam /data_gilbert/home/aarab/genomes/hg19/hg19.fa fastq_processed/umi_extract/NC2_ex4.assembled.fastq\n",
      "[main] Real time: 16.074 sec; CPU: 101.777 sec\n"
     ]
    }
   ],
   "source": [
    "%%bash \n",
    "genome='/data_gilbert/home/aarab/genomes/hg19/hg19.fa'\n",
    "for f in fastq_processed/umi_extract/*; do\n",
    "    b=`basename $f`\n",
    "    o=${b/assembled.fastq/bam}\n",
    "    cm=\"bwa mem -t 10 -o bam/$o $genome $f\"\n",
    "    echo $cm\n",
    "    echo `date`\n",
    "    $cm\n",
    "done "
   ]
  },
  {
   "cell_type": "code",
   "execution_count": null,
   "id": "7d39a0c2-e7eb-497f-967d-72760a663cbc",
   "metadata": {},
   "outputs": [],
   "source": []
  },
  {
   "cell_type": "code",
   "execution_count": 28,
   "id": "16a76a27-25b2-4537-8383-456253b84f45",
   "metadata": {},
   "outputs": [
    {
     "name": "stdout",
     "output_type": "stream",
     "text": [
      "samtools sort -@ 20 -o bam/ex3_1.srt.bam bam/ex3_1.bam\n",
      "Fri Mar 4 12:03:05 PST 2022\n",
      "samtools sort -@ 20 -o bam/ex3_2.srt.bam bam/ex3_2.bam\n",
      "Fri Mar 4 12:03:06 PST 2022\n",
      "samtools sort -@ 20 -o bam/ex4_1.srt.bam bam/ex4_1.bam\n",
      "Fri Mar 4 12:03:08 PST 2022\n",
      "samtools sort -@ 20 -o bam/ex4_2.srt.bam bam/ex4_2.bam\n",
      "Fri Mar 4 12:03:10 PST 2022\n",
      "samtools sort -@ 20 -o bam/NC1_ex3.srt.bam bam/NC1_ex3.bam\n",
      "Fri Mar 4 12:03:11 PST 2022\n",
      "samtools sort -@ 20 -o bam/NC1_ex4.srt.bam bam/NC1_ex4.bam\n",
      "Fri Mar 4 12:03:13 PST 2022\n",
      "samtools sort -@ 20 -o bam/NC2_ex3.srt.bam bam/NC2_ex3.bam\n",
      "Fri Mar 4 12:03:14 PST 2022\n",
      "samtools sort -@ 20 -o bam/NC2_ex4.srt.bam bam/NC2_ex4.bam\n",
      "Fri Mar 4 12:03:15 PST 2022\n"
     ]
    },
    {
     "name": "stderr",
     "output_type": "stream",
     "text": [
      "[bam_sort_core] merging from 0 files and 20 in-memory blocks...\n",
      "[bam_sort_core] merging from 0 files and 20 in-memory blocks...\n",
      "[bam_sort_core] merging from 0 files and 20 in-memory blocks...\n",
      "[bam_sort_core] merging from 0 files and 20 in-memory blocks...\n",
      "[bam_sort_core] merging from 0 files and 20 in-memory blocks...\n",
      "[bam_sort_core] merging from 0 files and 20 in-memory blocks...\n",
      "[bam_sort_core] merging from 0 files and 20 in-memory blocks...\n",
      "[bam_sort_core] merging from 0 files and 20 in-memory blocks...\n"
     ]
    }
   ],
   "source": [
    "%%bash \n",
    "for bam in bam/*; do\n",
    "    srt=${bam/.bam/.srt.bam}\n",
    "    cm=\"samtools sort -@ 20 -o $srt $bam\"\n",
    "    echo $cm\n",
    "    echo `date`\n",
    "    $cm\n",
    "done "
   ]
  },
  {
   "cell_type": "markdown",
   "id": "f56fdfa4-039b-4a65-98cc-2727717ce078",
   "metadata": {
    "jp-MarkdownHeadingCollapsed": true,
    "tags": []
   },
   "source": [
    "### Align to amplicons"
   ]
  },
  {
   "cell_type": "markdown",
   "id": "7dcc3b59-d2dc-4a31-ba6e-5f57861c3a58",
   "metadata": {},
   "source": [
    "Let's just align to amplicons!"
   ]
  },
  {
   "cell_type": "code",
   "execution_count": 121,
   "id": "7eb2e620-7240-48c4-9ad3-de440abdce94",
   "metadata": {},
   "outputs": [],
   "source": [
    "def write_fasta(path, fa):\n",
    "    file = open(path, 'w')\n",
    "    for f in fa:\n",
    "        file.write('>' + f + '\\n')\n",
    "        file.write(fa[f].upper() + '\\n')\n",
    "    file.close()"
   ]
  },
  {
   "cell_type": "code",
   "execution_count": 122,
   "id": "3ee00546-2b64-415a-ae46-c2e8004e34c4",
   "metadata": {},
   "outputs": [],
   "source": [
    "fasta = {\n",
    "    'Exon3_amplicon':\n",
    "    'GATTCCTACAGGAAGCAAGTAGtaattgatggagaaacctgtctcttggatattctcgacacagcaggtcaagaggagtacagtgcaatgagggaccagtacatgaggactggggagGGCTTTCTTTGTGTATTTGCC'\n",
    "    ,\n",
    "    'Exon4_amplicon':\n",
    "    'GTTGTGGACAGGTTTTGAAAGatatttgtgttactaatgactgtgctataacttttttttctttcccagagaacaaattaaaagagttaaggactctgaagatgtacctatggtcctagtaggaaataaatgtgatttgccttctagaacagtagacacaaaacaggctcaggacttagcaagaagttatggaattccttttattgaaaCATCAGCAAAGACAAGACAG'\n",
    "}"
   ]
  },
  {
   "cell_type": "code",
   "execution_count": 123,
   "id": "1693c541-2a74-4b62-a471-d3d0f648e775",
   "metadata": {},
   "outputs": [],
   "source": [
    "!mkdir -p sequence"
   ]
  },
  {
   "cell_type": "code",
   "execution_count": 125,
   "id": "d92a1aee-e80d-4ba6-8145-dd7370dfe741",
   "metadata": {},
   "outputs": [],
   "source": [
    "write_fasta('sequence/amplicons.fa',fasta)"
   ]
  },
  {
   "cell_type": "code",
   "execution_count": 128,
   "id": "cb8795e4-d0dc-461d-8198-429a272f733f",
   "metadata": {},
   "outputs": [
    {
     "name": "stdout",
     "output_type": "stream",
     "text": [
      "[bwa_index] Pack FASTA... 0.01 sec\n",
      "[bwa_index] Construct BWT for the packed sequence...\n",
      "[bwa_index] 0.00 seconds elapse.\n",
      "[bwa_index] Update BWT... 0.00 sec\n",
      "[bwa_index] Pack forward-only FASTA... 0.00 sec\n",
      "[bwa_index] Construct SA from BWT and Occ... 0.00 sec\n",
      "[main] Version: 0.7.17-r1198-dirty\n",
      "[main] CMD: bwa index sequence/amplicons.fa\n",
      "[main] Real time: 0.011 sec; CPU: 0.139 sec\n"
     ]
    }
   ],
   "source": [
    "!bwa index sequence/amplicons.fa"
   ]
  },
  {
   "cell_type": "code",
   "execution_count": 129,
   "id": "00fc1ff5-3756-4e6f-ac8b-73638d21afdb",
   "metadata": {},
   "outputs": [
    {
     "name": "stdout",
     "output_type": "stream",
     "text": [
      "amplicons.fa      amplicons.fa.ann  amplicons.fa.pac\n",
      "amplicons.fa.amb  amplicons.fa.bwt  amplicons.fa.sa\n"
     ]
    }
   ],
   "source": [
    "ls sequence"
   ]
  },
  {
   "cell_type": "code",
   "execution_count": 148,
   "id": "fe1addef-d144-4288-811f-ccabfc4df152",
   "metadata": {},
   "outputs": [],
   "source": [
    "!mkdir bam"
   ]
  },
  {
   "cell_type": "code",
   "execution_count": 149,
   "id": "5b8d05a4-b44b-48ee-b1dc-0cfcb395f2d9",
   "metadata": {},
   "outputs": [
    {
     "name": "stdout",
     "output_type": "stream",
     "text": [
      "bwa mem -t 10 -o bam/ex3_1.bam sequence/amplicons.fa fastq_processed/umi_extract/ex3_1.assembled.fastq\n",
      "Thu Mar 3 18:57:38 PST 2022\n",
      "bwa mem -t 10 -o bam/ex3_2.bam sequence/amplicons.fa fastq_processed/umi_extract/ex3_2.assembled.fastq\n",
      "Thu Mar 3 18:57:42 PST 2022\n",
      "bwa mem -t 10 -o bam/ex4_1.bam sequence/amplicons.fa fastq_processed/umi_extract/ex4_1.assembled.fastq\n",
      "Thu Mar 3 18:57:47 PST 2022\n",
      "bwa mem -t 10 -o bam/ex4_2.bam sequence/amplicons.fa fastq_processed/umi_extract/ex4_2.assembled.fastq\n",
      "Thu Mar 3 18:57:52 PST 2022\n",
      "bwa mem -t 10 -o bam/NC1_ex3.bam sequence/amplicons.fa fastq_processed/umi_extract/NC1_ex3.assembled.fastq\n",
      "Thu Mar 3 18:57:57 PST 2022\n",
      "bwa mem -t 10 -o bam/NC1_ex4.bam sequence/amplicons.fa fastq_processed/umi_extract/NC1_ex4.assembled.fastq\n",
      "Thu Mar 3 18:58:02 PST 2022\n",
      "bwa mem -t 10 -o bam/NC2_ex3.bam sequence/amplicons.fa fastq_processed/umi_extract/NC2_ex3.assembled.fastq\n",
      "Thu Mar 3 18:58:06 PST 2022\n",
      "bwa mem -t 10 -o bam/NC2_ex4.bam sequence/amplicons.fa fastq_processed/umi_extract/NC2_ex4.assembled.fastq\n",
      "Thu Mar 3 18:58:11 PST 2022\n"
     ]
    },
    {
     "name": "stderr",
     "output_type": "stream",
     "text": [
      "[M::bwa_idx_load_from_disk] read 0 ALT contigs\n",
      "[M::process] read 646461 sequences (90163978 bp)...\n",
      "[M::mem_process_seqs] Processed 646461 reads in 28.912 CPU sec, 2.938 real sec\n",
      "[main] Version: 0.7.17-r1198-dirty\n",
      "[main] CMD: bwa mem -t 10 -o bam/ex3_1.bam sequence/amplicons.fa fastq_processed/umi_extract/ex3_1.assembled.fastq\n",
      "[main] Real time: 4.408 sec; CPU: 30.158 sec\n",
      "[M::bwa_idx_load_from_disk] read 0 ALT contigs\n",
      "[M::process] read 613290 sequences (85477075 bp)...\n",
      "[M::mem_process_seqs] Processed 613290 reads in 27.171 CPU sec, 2.765 real sec\n",
      "[main] Version: 0.7.17-r1198-dirty\n",
      "[main] CMD: bwa mem -t 10 -o bam/ex3_2.bam sequence/amplicons.fa fastq_processed/umi_extract/ex3_2.assembled.fastq\n",
      "[main] Real time: 4.062 sec; CPU: 28.266 sec\n",
      "[M::bwa_idx_load_from_disk] read 0 ALT contigs\n",
      "[M::process] read 437494 sequences (100000266 bp)...\n",
      "[M::process] read 256785 sequences (58707800 bp)...\n",
      "[M::mem_process_seqs] Processed 437494 reads in 23.036 CPU sec, 2.477 real sec\n",
      "[M::mem_process_seqs] Processed 256785 reads in 15.060 CPU sec, 1.439 real sec\n",
      "[main] Version: 0.7.17-r1198-dirty\n",
      "[main] CMD: bwa mem -t 10 -o bam/ex4_1.bam sequence/amplicons.fa fastq_processed/umi_extract/ex4_1.assembled.fastq\n",
      "[main] Real time: 5.332 sec; CPU: 39.206 sec\n",
      "[M::bwa_idx_load_from_disk] read 0 ALT contigs\n",
      "[M::process] read 437454 sequences (100000320 bp)...\n",
      "[M::process] read 235763 sequences (53902601 bp)...\n",
      "[M::mem_process_seqs] Processed 437454 reads in 22.248 CPU sec, 2.406 real sec\n",
      "[M::mem_process_seqs] Processed 235763 reads in 13.626 CPU sec, 1.266 real sec\n",
      "[main] Version: 0.7.17-r1198-dirty\n",
      "[main] CMD: bwa mem -t 10 -o bam/ex4_2.bam sequence/amplicons.fa fastq_processed/umi_extract/ex4_2.assembled.fastq\n",
      "[main] Real time: 4.996 sec; CPU: 36.885 sec\n",
      "[M::bwa_idx_load_from_disk] read 0 ALT contigs\n",
      "[M::process] read 680389 sequences (94851184 bp)...\n",
      "[M::mem_process_seqs] Processed 680389 reads in 31.467 CPU sec, 3.175 real sec\n",
      "[main] Version: 0.7.17-r1198-dirty\n",
      "[main] CMD: bwa mem -t 10 -o bam/NC1_ex3.bam sequence/amplicons.fa fastq_processed/umi_extract/NC1_ex3.assembled.fastq\n",
      "[main] Real time: 4.612 sec; CPU: 32.659 sec\n",
      "[M::bwa_idx_load_from_disk] read 0 ALT contigs\n",
      "[M::process] read 437444 sequences (100000392 bp)...\n",
      "[M::process] read 125425 sequences (28677960 bp)...\n",
      "[M::mem_process_seqs] Processed 437444 reads in 19.157 CPU sec, 2.000 real sec\n",
      "[M::mem_process_seqs] Processed 125425 reads in 7.177 CPU sec, 0.662 real sec\n",
      "[main] Version: 0.7.17-r1198-dirty\n",
      "[main] CMD: bwa mem -t 10 -o bam/NC1_ex4.bam sequence/amplicons.fa fastq_processed/umi_extract/NC1_ex4.assembled.fastq\n",
      "[main] Real time: 4.042 sec; CPU: 27.447 sec\n",
      "[M::bwa_idx_load_from_disk] read 0 ALT contigs\n",
      "[M::process] read 664808 sequences (92661757 bp)...\n",
      "[M::mem_process_seqs] Processed 664808 reads in 31.562 CPU sec, 3.198 real sec\n",
      "[main] Version: 0.7.17-r1198-dirty\n",
      "[main] CMD: bwa mem -t 10 -o bam/NC2_ex3.bam sequence/amplicons.fa fastq_processed/umi_extract/NC2_ex3.assembled.fastq\n",
      "[main] Real time: 4.686 sec; CPU: 32.830 sec\n",
      "[M::bwa_idx_load_from_disk] read 0 ALT contigs\n",
      "[M::process] read 437508 sequences (100000282 bp)...\n",
      "[M::process] read 137299 sequences (31391018 bp)...\n",
      "[M::mem_process_seqs] Processed 437508 reads in 19.150 CPU sec, 1.988 real sec\n",
      "[M::mem_process_seqs] Processed 137299 reads in 8.470 CPU sec, 0.781 real sec\n",
      "[main] Version: 0.7.17-r1198-dirty\n",
      "[main] CMD: bwa mem -t 10 -o bam/NC2_ex4.bam sequence/amplicons.fa fastq_processed/umi_extract/NC2_ex4.assembled.fastq\n",
      "[main] Real time: 4.235 sec; CPU: 28.807 sec\n"
     ]
    }
   ],
   "source": [
    "%%bash \n",
    "for f in fastq_processed/umi_extract/*; do\n",
    "    b=`basename $f`\n",
    "    o=${b/assembled.fastq/bam}\n",
    "    cm=\"bwa mem -t 10 -o bam/$o sequence/amplicons.fa $f\"\n",
    "    echo $cm\n",
    "    echo `date`\n",
    "    $cm\n",
    "    \n",
    "done "
   ]
  },
  {
   "cell_type": "code",
   "execution_count": 13,
   "id": "51437853-b374-40ae-a92d-cecc60830821",
   "metadata": {},
   "outputs": [
    {
     "name": "stdout",
     "output_type": "stream",
     "text": [
      "‘bam’ -> ‘bam_amplicons’\n"
     ]
    }
   ],
   "source": [
    "!mv -v bam bam_amplicons"
   ]
  },
  {
   "cell_type": "markdown",
   "id": "80c9325c-33c7-4d3f-b56c-66fa6d8dbe0f",
   "metadata": {
    "jp-MarkdownHeadingCollapsed": true,
    "tags": []
   },
   "source": [
    "## 4. Remove dups\n",
    "\n",
    "    samtools index example.bam\n",
    "    \n",
    "    ./umicollapse bam -i $bam -o $dd.bam --umi-sep _ --two-pass"
   ]
  },
  {
   "cell_type": "markdown",
   "id": "bb61f9da-9b89-48e1-8e14-9721f80aeb6b",
   "metadata": {},
   "source": [
    "https://github.com/Daniel-Liu-c0deb0t/UMICollapse"
   ]
  },
  {
   "cell_type": "code",
   "execution_count": 29,
   "id": "f69869b4-b61a-446f-9afa-466b8d3e6cee",
   "metadata": {},
   "outputs": [
    {
     "name": "stdout",
     "output_type": "stream",
     "text": [
      "/data_gilbert/home/aarab/People/Benedict/bam/ex3_1.srt.bam\n",
      "Fri Mar 4 12:03:40 PST 2022\n",
      "Arguments\t[bam, -i, /data_gilbert/home/aarab/People/Benedict/bam/ex3_1.srt.bam, -o, /data_gilbert/home/aarab/People/Benedict/bam/ex3_1.srt.dd.bam, --umi-sep, _, --two-pass]\n",
      "Done with the first pass!\n",
      "Number of input reads\t646577\n",
      "Number of removed unmapped reads\t5245\n",
      "Number of unremoved reads\t641332\n",
      "Number of unique alignment positions\t165\n",
      "Average number of UMIs per alignment position\t2530.6666666666665\n",
      "Max number of UMIs over all alignment positions\t257093\n",
      "Number of reads after deduplicating\t60792\n",
      "UMI collapsing finished in 8.841 seconds!\n",
      "/data_gilbert/home/aarab/People/Benedict/bam/ex3_2.srt.bam\n",
      "Fri Mar 4 12:03:49 PST 2022\n",
      "Arguments\t[bam, -i, /data_gilbert/home/aarab/People/Benedict/bam/ex3_2.srt.bam, -o, /data_gilbert/home/aarab/People/Benedict/bam/ex3_2.srt.dd.bam, --umi-sep, _, --two-pass]\n",
      "Done with the first pass!\n",
      "Number of input reads\t613392\n",
      "Number of removed unmapped reads\t4365\n",
      "Number of unremoved reads\t609027\n",
      "Number of unique alignment positions\t150\n",
      "Average number of UMIs per alignment position\t2712.5666666666666\n",
      "Max number of UMIs over all alignment positions\t255259\n",
      "Number of reads after deduplicating\t58026\n",
      "UMI collapsing finished in 8.104 seconds!\n",
      "/data_gilbert/home/aarab/People/Benedict/bam/ex4_1.srt.bam\n",
      "Fri Mar 4 12:03:58 PST 2022\n",
      "Arguments\t[bam, -i, /data_gilbert/home/aarab/People/Benedict/bam/ex4_1.srt.bam, -o, /data_gilbert/home/aarab/People/Benedict/bam/ex4_1.srt.dd.bam, --umi-sep, _, --two-pass]\n",
      "Done with the first pass!\n",
      "Number of input reads\t694494\n",
      "Number of removed unmapped reads\t5311\n",
      "Number of unremoved reads\t689183\n",
      "Number of unique alignment positions\t184\n",
      "Average number of UMIs per alignment position\t1464.1032608695652\n",
      "Max number of UMIs over all alignment positions\t257404\n",
      "Number of reads after deduplicating\t52585\n",
      "UMI collapsing finished in 9.397 seconds!\n",
      "/data_gilbert/home/aarab/People/Benedict/bam/ex4_2.srt.bam\n",
      "Fri Mar 4 12:04:08 PST 2022\n",
      "Arguments\t[bam, -i, /data_gilbert/home/aarab/People/Benedict/bam/ex4_2.srt.bam, -o, /data_gilbert/home/aarab/People/Benedict/bam/ex4_2.srt.dd.bam, --umi-sep, _, --two-pass]\n",
      "Done with the first pass!\n",
      "Number of input reads\t673572\n",
      "Number of removed unmapped reads\t4884\n",
      "Number of unremoved reads\t668688\n",
      "Number of unique alignment positions\t195\n",
      "Average number of UMIs per alignment position\t1369.7179487179487\n",
      "Max number of UMIs over all alignment positions\t256055\n",
      "Number of reads after deduplicating\t51338\n",
      "UMI collapsing finished in 11.505 seconds!\n",
      "/data_gilbert/home/aarab/People/Benedict/bam/NC1_ex3.srt.bam\n",
      "Fri Mar 4 12:04:20 PST 2022\n",
      "Arguments\t[bam, -i, /data_gilbert/home/aarab/People/Benedict/bam/NC1_ex3.srt.bam, -o, /data_gilbert/home/aarab/People/Benedict/bam/NC1_ex3.srt.dd.bam, --umi-sep, _, --two-pass]\n",
      "Done with the first pass!\n",
      "Number of input reads\t680501\n",
      "Number of removed unmapped reads\t5489\n",
      "Number of unremoved reads\t675012\n",
      "Number of unique alignment positions\t143\n",
      "Average number of UMIs per alignment position\t2946.769230769231\n",
      "Max number of UMIs over all alignment positions\t257780\n",
      "Number of reads after deduplicating\t63415\n",
      "UMI collapsing finished in 11.064 seconds!\n",
      "/data_gilbert/home/aarab/People/Benedict/bam/NC1_ex4.srt.bam\n",
      "Fri Mar 4 12:04:31 PST 2022\n",
      "Arguments\t[bam, -i, /data_gilbert/home/aarab/People/Benedict/bam/NC1_ex4.srt.bam, -o, /data_gilbert/home/aarab/People/Benedict/bam/NC1_ex4.srt.dd.bam, --umi-sep, _, --two-pass]\n",
      "Done with the first pass!\n",
      "Number of input reads\t563060\n",
      "Number of removed unmapped reads\t4712\n",
      "Number of unremoved reads\t558348\n",
      "Number of unique alignment positions\t192\n",
      "Average number of UMIs per alignment position\t1384.484375\n",
      "Max number of UMIs over all alignment positions\t255437\n",
      "Number of reads after deduplicating\t44746\n",
      "UMI collapsing finished in 9.915 seconds!\n",
      "/data_gilbert/home/aarab/People/Benedict/bam/NC2_ex3.srt.bam\n",
      "Fri Mar 4 12:04:42 PST 2022\n",
      "Arguments\t[bam, -i, /data_gilbert/home/aarab/People/Benedict/bam/NC2_ex3.srt.bam, -o, /data_gilbert/home/aarab/People/Benedict/bam/NC2_ex3.srt.dd.bam, --umi-sep, _, --two-pass]\n",
      "Done with the first pass!\n",
      "Number of input reads\t664940\n",
      "Number of removed unmapped reads\t4676\n",
      "Number of unremoved reads\t660264\n",
      "Number of unique alignment positions\t157\n",
      "Average number of UMIs per alignment position\t2684.6305732484075\n",
      "Max number of UMIs over all alignment positions\t257474\n",
      "Number of reads after deduplicating\t62215\n",
      "UMI collapsing finished in 9.483 seconds!\n",
      "/data_gilbert/home/aarab/People/Benedict/bam/NC2_ex4.srt.bam\n",
      "Fri Mar 4 12:04:52 PST 2022\n",
      "Arguments\t[bam, -i, /data_gilbert/home/aarab/People/Benedict/bam/NC2_ex4.srt.bam, -o, /data_gilbert/home/aarab/People/Benedict/bam/NC2_ex4.srt.dd.bam, --umi-sep, _, --two-pass]\n",
      "Done with the first pass!\n",
      "Number of input reads\t575021\n",
      "Number of removed unmapped reads\t5063\n",
      "Number of unremoved reads\t569958\n",
      "Number of unique alignment positions\t195\n",
      "Average number of UMIs per alignment position\t1374.574358974359\n",
      "Max number of UMIs over all alignment positions\t256736\n",
      "Number of reads after deduplicating\t45868\n",
      "UMI collapsing finished in 9.225 seconds!\n"
     ]
    }
   ],
   "source": [
    "%%bash\n",
    "wd=`pwd`\n",
    "cd /data_gilbert/home/aarab/Workflows/UMICollapse/\n",
    "for bam in $wd/bam/*srt.bam; do \n",
    "    dd_bam=${bam/.bam/.dd.bam};\n",
    "    cm=\"./umicollapse bam -i $bam -o $dd_bam --umi-sep _ --two-pass\"\n",
    "    echo $bam\n",
    "    echo `date`\n",
    "    $cm\n",
    "done\n",
    "cd $wd"
   ]
  },
  {
   "cell_type": "code",
   "execution_count": 19,
   "id": "8127aa4c-db5d-4939-97c1-8525fbbd2214",
   "metadata": {},
   "outputs": [
    {
     "name": "stdout",
     "output_type": "stream",
     "text": [
      "total 2.4G\n",
      "-rw-rw-r--. 1 aarab aarab 255M Mar  4  2022 ex3_1.bam\n",
      "-rw-rw-r--. 1 aarab aarab 3.3M Mar  4  2022 ex3_1.dd.bam\n",
      "-rw-rw-r--. 1 aarab aarab 241M Mar  4  2022 ex3_2.bam\n",
      "-rw-rw-r--. 1 aarab aarab 3.1M Mar  4  2022 ex3_2.dd.bam\n",
      "-rw-rw-r--. 1 aarab aarab 388M Mar  4  2022 ex4_1.bam\n",
      "-rw-rw-r--. 1 aarab aarab 5.2M Mar  4  2022 ex4_1.dd.bam\n",
      "-rw-rw-r--. 1 aarab aarab 376M Mar  4  2022 ex4_2.bam\n",
      "-rw-rw-r--. 1 aarab aarab 5.1M Mar  4  2022 ex4_2.dd.bam\n",
      "-rw-rw-r--. 1 aarab aarab 268M Mar  4  2022 NC1_ex3.bam\n",
      "-rw-rw-r--. 1 aarab aarab 3.6M Mar  4  2022 NC1_ex3.dd.bam\n",
      "-rw-rw-r--. 1 aarab aarab 315M Mar  4  2022 NC1_ex4.bam\n",
      "-rw-rw-r--. 1 aarab aarab 4.7M Mar  4  2022 NC1_ex4.dd.bam\n",
      "-rw-rw-r--. 1 aarab aarab 262M Mar  4  2022 NC2_ex3.bam\n",
      "-rw-rw-r--. 1 aarab aarab 3.4M Mar  4  2022 NC2_ex3.dd.bam\n",
      "-rw-rw-r--. 1 aarab aarab 321M Mar  4  2022 NC2_ex4.bam\n",
      "-rw-rw-r--. 1 aarab aarab 4.7M Mar  4  2022 NC2_ex4.dd.bam\n"
     ]
    }
   ],
   "source": [
    "ls -lh bam"
   ]
  },
  {
   "cell_type": "code",
   "execution_count": 30,
   "id": "31bf684f-0439-49da-9415-3d7a51b49769",
   "metadata": {},
   "outputs": [
    {
     "name": "stdout",
     "output_type": "stream",
     "text": [
      "samtools index -@ 20 bam/ex3_1.srt.dd.bam\n",
      "Fri Mar 4 12:05:08 PST 2022\n",
      "samtools index -@ 20 bam/ex3_2.srt.dd.bam\n",
      "Fri Mar 4 12:05:08 PST 2022\n",
      "samtools index -@ 20 bam/ex4_1.srt.dd.bam\n",
      "Fri Mar 4 12:05:08 PST 2022\n",
      "samtools index -@ 20 bam/ex4_2.srt.dd.bam\n",
      "Fri Mar 4 12:05:08 PST 2022\n",
      "samtools index -@ 20 bam/NC1_ex3.srt.dd.bam\n",
      "Fri Mar 4 12:05:08 PST 2022\n",
      "samtools index -@ 20 bam/NC1_ex4.srt.dd.bam\n",
      "Fri Mar 4 12:05:08 PST 2022\n",
      "samtools index -@ 20 bam/NC2_ex3.srt.dd.bam\n",
      "Fri Mar 4 12:05:08 PST 2022\n",
      "samtools index -@ 20 bam/NC2_ex4.srt.dd.bam\n",
      "Fri Mar 4 12:05:08 PST 2022\n"
     ]
    }
   ],
   "source": [
    "%%bash \n",
    "for bam in bam/*.dd.bam; do\n",
    "    cm=\"samtools index -@ 20 $bam\"\n",
    "    echo $cm\n",
    "    echo `date`\n",
    "    $cm\n",
    "done "
   ]
  },
  {
   "cell_type": "code",
   "execution_count": 32,
   "id": "7be03bdb-b8db-43ac-9b7c-f0b6999ecc57",
   "metadata": {},
   "outputs": [
    {
     "name": "stdout",
     "output_type": "stream",
     "text": [
      "  adding: bam/ex3_1.srt.dd.bam (deflated 0%)\n",
      "  adding: bam/ex3_1.srt.dd.bam.bai (deflated 100%)\n",
      "  adding: bam/ex3_2.srt.dd.bam (deflated 0%)\n",
      "  adding: bam/ex3_2.srt.dd.bam.bai (deflated 100%)\n",
      "  adding: bam/ex4_1.srt.dd.bam (deflated 0%)\n",
      "  adding: bam/ex4_1.srt.dd.bam.bai (deflated 100%)\n",
      "  adding: bam/ex4_2.srt.dd.bam (deflated 0%)\n",
      "  adding: bam/ex4_2.srt.dd.bam.bai (deflated 100%)\n",
      "  adding: bam/NC1_ex3.srt.dd.bam (deflated 0%)\n",
      "  adding: bam/NC1_ex3.srt.dd.bam.bai (deflated 100%)\n",
      "  adding: bam/NC1_ex4.srt.dd.bam (deflated 0%)\n",
      "  adding: bam/NC1_ex4.srt.dd.bam.bai (deflated 100%)\n",
      "  adding: bam/NC2_ex3.srt.dd.bam (deflated 0%)\n",
      "  adding: bam/NC2_ex3.srt.dd.bam.bai (deflated 100%)\n",
      "  adding: bam/NC2_ex4.srt.dd.bam (deflated 0%)\n",
      "  adding: bam/NC2_ex4.srt.dd.bam.bai (deflated 100%)\n"
     ]
    }
   ],
   "source": [
    "!zip bam.zip bam/*dd.bam*"
   ]
  },
  {
   "cell_type": "markdown",
   "id": "ae3691cb-be3f-4e93-9a0e-9de2f9b92efd",
   "metadata": {},
   "source": [
    "## 5. find mutations\n",
    "    \n",
    "    samtools mpileup -f <ref> $bam > $pileup"
   ]
  },
  {
   "cell_type": "code",
   "execution_count": 208,
   "id": "32c5f77e-5bad-471e-a301-c27af1bb7955",
   "metadata": {},
   "outputs": [
    {
     "name": "stdout",
     "output_type": "stream",
     "text": [
      "sequence/amplicons.fa      sequence/amplicons.fa.bwt  sequence/amplicons.fa.sa\n",
      "sequence/amplicons.fa.amb  sequence/amplicons.fa.fai\n",
      "sequence/amplicons.fa.ann  sequence/amplicons.fa.pac\n"
     ]
    }
   ],
   "source": [
    "ls sequence/amplicons.fa*"
   ]
  },
  {
   "cell_type": "markdown",
   "id": "acfca1b7-aa35-4e67-b211-5121acd04540",
   "metadata": {},
   "source": [
    "http://seqanswers.com/forums/archive/index.php/t-30865.html"
   ]
  },
  {
   "cell_type": "code",
   "execution_count": 219,
   "id": "3cee584c-3012-4fb4-bc39-a972a8b4446e",
   "metadata": {},
   "outputs": [
    {
     "name": "stdout",
     "output_type": "stream",
     "text": [
      "samtools sort -@ 40 -o bam/ex3_1.dd.srt.bam bam/ex3_1.dd.bam\n",
      "Thu Mar 3 19:45:16 PST 2022\n",
      "samtools sort -@ 40 -o bam/ex3_2.dd.srt.bam bam/ex3_2.dd.bam\n",
      "Thu Mar 3 19:45:16 PST 2022\n",
      "samtools sort -@ 40 -o bam/ex4_1.dd.srt.bam bam/ex4_1.dd.bam\n",
      "Thu Mar 3 19:45:16 PST 2022\n",
      "samtools sort -@ 40 -o bam/ex4_2.dd.srt.bam bam/ex4_2.dd.bam\n",
      "Thu Mar 3 19:45:16 PST 2022\n",
      "samtools sort -@ 40 -o bam/NC1_ex3.dd.srt.bam bam/NC1_ex3.dd.bam\n",
      "Thu Mar 3 19:45:16 PST 2022\n",
      "samtools sort -@ 40 -o bam/NC1_ex4.dd.srt.bam bam/NC1_ex4.dd.bam\n",
      "Thu Mar 3 19:45:16 PST 2022\n",
      "samtools sort -@ 40 -o bam/NC2_ex3.dd.srt.bam bam/NC2_ex3.dd.bam\n",
      "Thu Mar 3 19:45:17 PST 2022\n",
      "samtools sort -@ 40 -o bam/NC2_ex4.dd.srt.bam bam/NC2_ex4.dd.bam\n",
      "Thu Mar 3 19:45:17 PST 2022\n"
     ]
    },
    {
     "name": "stderr",
     "output_type": "stream",
     "text": [
      "[bam_sort_core] merging from 0 files and 40 in-memory blocks...\n",
      "[bam_sort_core] merging from 0 files and 40 in-memory blocks...\n",
      "[bam_sort_core] merging from 0 files and 40 in-memory blocks...\n",
      "[bam_sort_core] merging from 0 files and 40 in-memory blocks...\n",
      "[bam_sort_core] merging from 0 files and 40 in-memory blocks...\n",
      "[bam_sort_core] merging from 0 files and 40 in-memory blocks...\n",
      "[bam_sort_core] merging from 0 files and 40 in-memory blocks...\n",
      "[bam_sort_core] merging from 0 files and 40 in-memory blocks...\n"
     ]
    }
   ],
   "source": [
    "%%bash\n",
    "for bam in bam/*.dd.bam; do \n",
    "    srt=${bam/.bam/.srt.bam};\n",
    "    cm=\"samtools sort -@ 40 -o $srt $bam\"\n",
    "    echo $cm\n",
    "    echo `date`\n",
    "    $cm\n",
    "done"
   ]
  },
  {
   "cell_type": "code",
   "execution_count": 220,
   "id": "2a6b24a1-bb70-4a91-afeb-9e706cae2e52",
   "metadata": {},
   "outputs": [
    {
     "name": "stdout",
     "output_type": "stream",
     "text": [
      "@HD\tVN:1.6\tSO:unsorted\n",
      "@SQ\tSN:Exon3_amplicon\tLN:138\n",
      "@SQ\tSN:Exon4_amplicon\tLN:229\n",
      "@PG\tID:bwa\tPN:bwa\tVN:0.7.17-r1198-dirty\tCL:bwa mem -t 10 -o bam/ex3_1.bam sequence/amplicons.fa fastq_processed/umi_extract/ex3_1.assembled.fastq\n"
     ]
    }
   ],
   "source": [
    "!samtools view -H bam/ex3_1.dd.bam"
   ]
  },
  {
   "cell_type": "code",
   "execution_count": 221,
   "id": "024fa8d2-2d0a-4b49-9703-dfbdd85141a8",
   "metadata": {},
   "outputs": [
    {
     "name": "stdout",
     "output_type": "stream",
     "text": [
      "@HD\tVN:1.6\tSO:coordinate\n",
      "@SQ\tSN:Exon3_amplicon\tLN:138\n",
      "@SQ\tSN:Exon4_amplicon\tLN:229\n",
      "@PG\tID:bwa\tPN:bwa\tVN:0.7.17-r1198-dirty\tCL:bwa mem -t 10 -o bam/ex3_1.bam sequence/amplicons.fa fastq_processed/umi_extract/ex3_1.assembled.fastq\n"
     ]
    }
   ],
   "source": [
    "!samtools view -H bam/ex3_1.dd.srt.bam"
   ]
  },
  {
   "cell_type": "code",
   "execution_count": 223,
   "id": "338329f1-514f-4866-a230-97e248931efc",
   "metadata": {},
   "outputs": [
    {
     "name": "stdout",
     "output_type": "stream",
     "text": [
      "samtools mpileup -f sequence/amplicons.fa bam/ex3_1.dd.srt.bam -o pileup/ex3_1.txt\n",
      "Thu Mar 3 19:45:57 PST 2022\n",
      "samtools mpileup -f sequence/amplicons.fa bam/ex3_2.dd.srt.bam -o pileup/ex3_2.txt\n",
      "Thu Mar 3 19:46:00 PST 2022\n",
      "samtools mpileup -f sequence/amplicons.fa bam/ex4_1.dd.srt.bam -o pileup/ex4_1.txt\n",
      "Thu Mar 3 19:46:02 PST 2022\n",
      "samtools mpileup -f sequence/amplicons.fa bam/ex4_2.dd.srt.bam -o pileup/ex4_2.txt\n",
      "Thu Mar 3 19:46:06 PST 2022\n",
      "samtools mpileup -f sequence/amplicons.fa bam/NC1_ex3.dd.srt.bam -o pileup/NC1_ex3.txt\n",
      "Thu Mar 3 19:46:09 PST 2022\n",
      "samtools mpileup -f sequence/amplicons.fa bam/NC1_ex4.dd.srt.bam -o pileup/NC1_ex4.txt\n",
      "Thu Mar 3 19:46:12 PST 2022\n",
      "samtools mpileup -f sequence/amplicons.fa bam/NC2_ex3.dd.srt.bam -o pileup/NC2_ex3.txt\n",
      "Thu Mar 3 19:46:15 PST 2022\n",
      "samtools mpileup -f sequence/amplicons.fa bam/NC2_ex4.dd.srt.bam -o pileup/NC2_ex4.txt\n",
      "Thu Mar 3 19:46:18 PST 2022\n"
     ]
    },
    {
     "name": "stderr",
     "output_type": "stream",
     "text": [
      "[mpileup] 1 samples in 1 input files\n",
      "[mpileup] 1 samples in 1 input files\n",
      "[mpileup] 1 samples in 1 input files\n",
      "[mpileup] 1 samples in 1 input files\n",
      "[mpileup] 1 samples in 1 input files\n",
      "[mpileup] 1 samples in 1 input files\n",
      "[mpileup] 1 samples in 1 input files\n",
      "[mpileup] 1 samples in 1 input files\n"
     ]
    }
   ],
   "source": [
    "%%bash\n",
    "mkdir -p pileup\n",
    "for bam in bam/*dd.srt.bam; do \n",
    "    base=`basename $bam`\n",
    "    out=${base/.dd.srt.bam/.txt};\n",
    "    cm=\"samtools mpileup -f sequence/amplicons.fa $bam -o pileup/$out\"\n",
    "    echo $cm\n",
    "    echo `date`\n",
    "    $cm\n",
    "done"
   ]
  },
  {
   "cell_type": "code",
   "execution_count": 228,
   "id": "98986ae6-f771-4c25-9c2c-60f862ae39fe",
   "metadata": {},
   "outputs": [
    {
     "name": "stdout",
     "output_type": "stream",
     "text": [
      "  adding: pileup/ (stored 0%)\n",
      "  adding: pileup/ex3_1.txt (deflated 85%)\n",
      "  adding: pileup/ex3_2.txt (deflated 87%)\n",
      "  adding: pileup/ex4_1.txt (deflated 86%)\n",
      "  adding: pileup/ex4_2.txt (deflated 86%)\n",
      "  adding: pileup/NC1_ex3.txt (deflated 85%)\n",
      "  adding: pileup/NC1_ex4.txt (deflated 85%)\n",
      "  adding: pileup/NC2_ex3.txt (deflated 87%)\n",
      "  adding: pileup/NC2_ex4.txt (deflated 86%)\n"
     ]
    }
   ],
   "source": [
    "!zip -r pileup.zip pileup/"
   ]
  },
  {
   "cell_type": "code",
   "execution_count": 3,
   "id": "d5e6d2d2-e55b-4b46-b97a-3d7034c31b21",
   "metadata": {},
   "outputs": [
    {
     "name": "stdout",
     "output_type": "stream",
     "text": [
      ">Exon3_amplicon\n",
      "GATTCCTACAGGAAGCAAGTAGTAATTGATGGAGAAACCTGTCTCTTGGATATTCTCGACACAGCAGGTCAAGAGGAGTACAGTGCAATGAGGGACCAGTACATGAGGACTGGGGAGGGCTTTCTTTGTGTATTTGCC\n",
      ">Exon4_amplicon\n",
      "GTTGTGGACAGGTTTTGAAAGATATTTGTGTTACTAATGACTGTGCTATAACTTTTTTTTCTTTCCCAGAGAACAAATTAAAAGAGTTAAGGACTCTGAAGATGTACCTATGGTCCTAGTAGGAAATAAATGTGATTTGCCTTCTAGAACAGTAGACACAAAACAGGCTCAGGACTTAGCAAGAAGTTATGGAATTCCTTTTATTGAAACATCAGCAAAGACAAGACAG\n"
     ]
    }
   ],
   "source": [
    "cat sequence/amplicons.fa"
   ]
  },
  {
   "cell_type": "code",
   "execution_count": 2,
   "id": "74575507-888b-45e2-b2bb-8cf8bdbd4507",
   "metadata": {},
   "outputs": [
    {
     "name": "stdout",
     "output_type": "stream",
     "text": [
      "Exon3_amplicon 1 G\n",
      "Exon3_amplicon 2 A\n",
      "Exon3_amplicon 3 T\n",
      "Exon3_amplicon 4 T\n",
      "Exon3_amplicon 5 C\n",
      "Exon3_amplicon 6 C\n",
      "Exon3_amplicon 7 T\n",
      "Exon3_amplicon 8 A\n",
      "Exon3_amplicon 9 C\n",
      "Exon3_amplicon 10 A\n",
      "Exon3_amplicon 11 G\n",
      "Exon3_amplicon 12 G\n",
      "Exon3_amplicon 13 A\n",
      "Exon3_amplicon 14 A\n",
      "Exon3_amplicon 15 G\n",
      "Exon3_amplicon 16 C\n",
      "Exon3_amplicon 17 A\n",
      "Exon3_amplicon 18 A\n",
      "Exon3_amplicon 19 G\n",
      "Exon3_amplicon 20 T\n",
      "Exon3_amplicon 21 A\n",
      "Exon3_amplicon 22 G\n",
      "Exon3_amplicon 23 T\n",
      "Exon3_amplicon 24 A\n",
      "Exon3_amplicon 25 A\n",
      "Exon3_amplicon 26 T\n",
      "Exon3_amplicon 27 T\n",
      "Exon3_amplicon 28 G\n",
      "Exon3_amplicon 29 A\n",
      "Exon3_amplicon 30 T\n",
      "Exon3_amplicon 31 G\n",
      "Exon3_amplicon 32 G\n",
      "Exon3_amplicon 33 A\n",
      "Exon3_amplicon 34 G\n",
      "Exon3_amplicon 35 A\n",
      "Exon3_amplicon 36 A\n",
      "Exon3_amplicon 37 A\n",
      "Exon3_amplicon 38 C\n",
      "Exon3_amplicon 39 C\n",
      "Exon3_amplicon 40 T\n",
      "Exon3_amplicon 41 G\n",
      "Exon3_amplicon 42 T\n",
      "Exon3_amplicon 43 C\n",
      "Exon3_amplicon 44 T\n",
      "Exon3_amplicon 45 C\n",
      "Exon3_amplicon 46 T\n",
      "Exon3_amplicon 47 T\n",
      "Exon3_amplicon 48 G\n",
      "Exon3_amplicon 49 G\n",
      "Exon3_amplicon 50 A\n",
      "Exon3_amplicon 51 T\n",
      "Exon3_amplicon 52 A\n",
      "Exon3_amplicon 53 T\n",
      "Exon3_amplicon 54 T\n",
      "Exon3_amplicon 55 C\n",
      "Exon3_amplicon 56 T\n",
      "Exon3_amplicon 57 C\n",
      "Exon3_amplicon 58 G\n",
      "Exon3_amplicon 59 A\n",
      "Exon3_amplicon 60 C\n",
      "Exon3_amplicon 61 A\n",
      "Exon3_amplicon 62 C\n",
      "Exon3_amplicon 63 A\n",
      "Exon3_amplicon 64 G\n",
      "Exon3_amplicon 65 C\n",
      "Exon3_amplicon 66 A\n",
      "Exon3_amplicon 67 G\n",
      "Exon3_amplicon 68 G\n",
      "Exon3_amplicon 69 T\n",
      "Exon3_amplicon 70 C\n",
      "Exon3_amplicon 71 A\n",
      "Exon3_amplicon 72 A\n",
      "Exon3_amplicon 73 G\n",
      "Exon3_amplicon 74 A\n",
      "Exon3_amplicon 75 G\n",
      "Exon3_amplicon 76 G\n",
      "Exon3_amplicon 77 A\n",
      "Exon3_amplicon 78 G\n",
      "Exon3_amplicon 79 T\n",
      "Exon3_amplicon 80 A\n",
      "Exon3_amplicon 81 C\n",
      "Exon3_amplicon 82 A\n",
      "Exon3_amplicon 83 G\n",
      "Exon3_amplicon 84 T\n",
      "Exon3_amplicon 85 G\n",
      "Exon3_amplicon 86 C\n",
      "Exon3_amplicon 87 A\n",
      "Exon3_amplicon 88 A\n",
      "Exon3_amplicon 89 T\n",
      "Exon3_amplicon 90 G\n",
      "Exon3_amplicon 91 A\n",
      "Exon3_amplicon 92 G\n",
      "Exon3_amplicon 93 G\n",
      "Exon3_amplicon 94 G\n",
      "Exon3_amplicon 95 A\n",
      "Exon3_amplicon 96 C\n",
      "Exon3_amplicon 97 C\n",
      "Exon3_amplicon 98 A\n",
      "Exon3_amplicon 99 G\n",
      "Exon3_amplicon 100 T\n",
      "Exon3_amplicon 101 A\n",
      "Exon3_amplicon 102 C\n",
      "Exon3_amplicon 103 A\n",
      "Exon3_amplicon 104 T\n",
      "Exon3_amplicon 105 G\n",
      "Exon3_amplicon 106 A\n",
      "Exon3_amplicon 107 G\n",
      "Exon3_amplicon 108 G\n",
      "Exon3_amplicon 109 A\n",
      "Exon3_amplicon 110 C\n",
      "Exon3_amplicon 111 T\n",
      "Exon3_amplicon 112 G\n",
      "Exon3_amplicon 113 G\n",
      "Exon3_amplicon 114 G\n",
      "Exon3_amplicon 115 G\n",
      "Exon3_amplicon 116 A\n",
      "Exon3_amplicon 117 G\n",
      "Exon3_amplicon 118 G\n",
      "Exon3_amplicon 119 G\n",
      "Exon3_amplicon 120 C\n",
      "Exon3_amplicon 121 T\n",
      "Exon3_amplicon 122 T\n",
      "Exon3_amplicon 123 T\n",
      "Exon3_amplicon 124 C\n",
      "Exon3_amplicon 125 T\n",
      "Exon3_amplicon 126 T\n",
      "Exon3_amplicon 127 T\n",
      "Exon3_amplicon 128 G\n",
      "Exon3_amplicon 129 T\n",
      "Exon3_amplicon 130 G\n",
      "Exon3_amplicon 131 T\n",
      "Exon3_amplicon 132 A\n",
      "Exon3_amplicon 133 T\n",
      "Exon3_amplicon 134 T\n",
      "Exon3_amplicon 135 T\n",
      "Exon3_amplicon 136 G\n",
      "Exon3_amplicon 137 C\n",
      "Exon3_amplicon 138 C\n",
      "Exon4_amplicon 1 G\n",
      "Exon4_amplicon 2 T\n",
      "Exon4_amplicon 3 T\n",
      "Exon4_amplicon 4 G\n",
      "Exon4_amplicon 5 T\n",
      "Exon4_amplicon 6 G\n",
      "Exon4_amplicon 7 G\n",
      "Exon4_amplicon 8 A\n",
      "Exon4_amplicon 9 C\n",
      "Exon4_amplicon 10 A\n",
      "Exon4_amplicon 11 G\n",
      "Exon4_amplicon 12 G\n",
      "Exon4_amplicon 13 T\n",
      "Exon4_amplicon 14 T\n",
      "Exon4_amplicon 15 T\n",
      "Exon4_amplicon 16 T\n",
      "Exon4_amplicon 17 G\n",
      "Exon4_amplicon 18 A\n",
      "Exon4_amplicon 19 A\n",
      "Exon4_amplicon 20 A\n",
      "Exon4_amplicon 21 G\n",
      "Exon4_amplicon 22 A\n",
      "Exon4_amplicon 23 T\n",
      "Exon4_amplicon 24 A\n",
      "Exon4_amplicon 25 T\n",
      "Exon4_amplicon 26 T\n",
      "Exon4_amplicon 27 T\n",
      "Exon4_amplicon 28 G\n",
      "Exon4_amplicon 29 T\n",
      "Exon4_amplicon 30 G\n",
      "Exon4_amplicon 31 T\n",
      "Exon4_amplicon 32 T\n",
      "Exon4_amplicon 33 A\n",
      "Exon4_amplicon 34 C\n",
      "Exon4_amplicon 35 T\n",
      "Exon4_amplicon 36 A\n",
      "Exon4_amplicon 37 A\n",
      "Exon4_amplicon 38 T\n",
      "Exon4_amplicon 39 G\n",
      "Exon4_amplicon 40 A\n",
      "Exon4_amplicon 41 C\n",
      "Exon4_amplicon 42 T\n",
      "Exon4_amplicon 43 G\n",
      "Exon4_amplicon 44 T\n",
      "Exon4_amplicon 45 G\n",
      "Exon4_amplicon 46 C\n",
      "Exon4_amplicon 47 T\n",
      "Exon4_amplicon 48 A\n",
      "Exon4_amplicon 49 T\n",
      "Exon4_amplicon 50 A\n",
      "Exon4_amplicon 51 A\n",
      "Exon4_amplicon 52 C\n",
      "Exon4_amplicon 53 T\n",
      "Exon4_amplicon 54 T\n",
      "Exon4_amplicon 55 T\n",
      "Exon4_amplicon 56 T\n",
      "Exon4_amplicon 57 T\n",
      "Exon4_amplicon 58 T\n",
      "Exon4_amplicon 59 T\n",
      "Exon4_amplicon 60 T\n",
      "Exon4_amplicon 61 C\n",
      "Exon4_amplicon 62 T\n",
      "Exon4_amplicon 63 T\n",
      "Exon4_amplicon 64 T\n",
      "Exon4_amplicon 65 C\n",
      "Exon4_amplicon 66 C\n",
      "Exon4_amplicon 67 C\n",
      "Exon4_amplicon 68 A\n",
      "Exon4_amplicon 69 G\n",
      "Exon4_amplicon 70 A\n",
      "Exon4_amplicon 71 G\n",
      "Exon4_amplicon 72 A\n",
      "Exon4_amplicon 73 A\n",
      "Exon4_amplicon 74 C\n",
      "Exon4_amplicon 75 A\n",
      "Exon4_amplicon 76 A\n",
      "Exon4_amplicon 77 A\n",
      "Exon4_amplicon 78 T\n",
      "Exon4_amplicon 79 T\n",
      "Exon4_amplicon 80 A\n",
      "Exon4_amplicon 81 A\n",
      "Exon4_amplicon 82 A\n",
      "Exon4_amplicon 83 A\n",
      "Exon4_amplicon 84 G\n",
      "Exon4_amplicon 85 A\n",
      "Exon4_amplicon 86 G\n",
      "Exon4_amplicon 87 T\n",
      "Exon4_amplicon 88 T\n",
      "Exon4_amplicon 89 A\n",
      "Exon4_amplicon 90 A\n",
      "Exon4_amplicon 91 G\n",
      "Exon4_amplicon 92 G\n",
      "Exon4_amplicon 93 A\n",
      "Exon4_amplicon 94 C\n",
      "Exon4_amplicon 95 T\n",
      "Exon4_amplicon 96 C\n",
      "Exon4_amplicon 97 T\n",
      "Exon4_amplicon 98 G\n",
      "Exon4_amplicon 99 A\n",
      "Exon4_amplicon 100 A\n",
      "Exon4_amplicon 101 G\n",
      "Exon4_amplicon 102 A\n",
      "Exon4_amplicon 103 T\n",
      "Exon4_amplicon 104 G\n",
      "Exon4_amplicon 105 T\n",
      "Exon4_amplicon 106 A\n",
      "Exon4_amplicon 107 C\n",
      "Exon4_amplicon 108 C\n",
      "Exon4_amplicon 109 T\n",
      "Exon4_amplicon 110 A\n",
      "Exon4_amplicon 111 T\n",
      "Exon4_amplicon 112 G\n",
      "Exon4_amplicon 113 G\n",
      "Exon4_amplicon 114 T\n",
      "Exon4_amplicon 115 C\n",
      "Exon4_amplicon 116 C\n",
      "Exon4_amplicon 117 T\n",
      "Exon4_amplicon 118 A\n",
      "Exon4_amplicon 119 G\n",
      "Exon4_amplicon 120 T\n",
      "Exon4_amplicon 121 A\n",
      "Exon4_amplicon 122 G\n",
      "Exon4_amplicon 123 G\n",
      "Exon4_amplicon 124 A\n",
      "Exon4_amplicon 125 A\n",
      "Exon4_amplicon 126 A\n",
      "Exon4_amplicon 127 T\n",
      "Exon4_amplicon 128 A\n",
      "Exon4_amplicon 129 A\n",
      "Exon4_amplicon 130 A\n",
      "Exon4_amplicon 131 T\n",
      "Exon4_amplicon 132 G\n",
      "Exon4_amplicon 133 T\n",
      "Exon4_amplicon 134 G\n",
      "Exon4_amplicon 135 A\n",
      "Exon4_amplicon 136 T\n",
      "Exon4_amplicon 137 T\n",
      "Exon4_amplicon 138 T\n",
      "Exon4_amplicon 139 G\n",
      "Exon4_amplicon 140 C\n",
      "Exon4_amplicon 141 C\n",
      "Exon4_amplicon 142 T\n",
      "Exon4_amplicon 143 T\n",
      "Exon4_amplicon 144 C\n",
      "Exon4_amplicon 145 T\n",
      "Exon4_amplicon 146 A\n",
      "Exon4_amplicon 147 G\n",
      "Exon4_amplicon 148 A\n",
      "Exon4_amplicon 149 A\n",
      "Exon4_amplicon 150 C\n",
      "Exon4_amplicon 151 A\n",
      "Exon4_amplicon 152 G\n",
      "Exon4_amplicon 153 T\n",
      "Exon4_amplicon 154 A\n",
      "Exon4_amplicon 155 G\n",
      "Exon4_amplicon 156 A\n",
      "Exon4_amplicon 157 C\n",
      "Exon4_amplicon 158 A\n",
      "Exon4_amplicon 159 C\n",
      "Exon4_amplicon 160 A\n",
      "Exon4_amplicon 161 A\n",
      "Exon4_amplicon 162 A\n",
      "Exon4_amplicon 163 A\n",
      "Exon4_amplicon 164 C\n",
      "Exon4_amplicon 165 A\n",
      "Exon4_amplicon 166 G\n",
      "Exon4_amplicon 167 G\n",
      "Exon4_amplicon 168 C\n",
      "Exon4_amplicon 169 T\n",
      "Exon4_amplicon 170 C\n",
      "Exon4_amplicon 171 A\n",
      "Exon4_amplicon 172 G\n",
      "Exon4_amplicon 173 G\n",
      "Exon4_amplicon 174 A\n",
      "Exon4_amplicon 175 C\n",
      "Exon4_amplicon 176 T\n",
      "Exon4_amplicon 177 T\n",
      "Exon4_amplicon 178 A\n",
      "Exon4_amplicon 179 G\n",
      "Exon4_amplicon 180 C\n",
      "Exon4_amplicon 181 A\n",
      "Exon4_amplicon 182 A\n",
      "Exon4_amplicon 183 G\n",
      "Exon4_amplicon 184 A\n",
      "Exon4_amplicon 185 A\n",
      "Exon4_amplicon 186 G\n",
      "Exon4_amplicon 187 T\n",
      "Exon4_amplicon 188 T\n",
      "Exon4_amplicon 189 A\n",
      "Exon4_amplicon 190 T\n",
      "Exon4_amplicon 191 G\n",
      "Exon4_amplicon 192 G\n",
      "Exon4_amplicon 193 A\n",
      "Exon4_amplicon 194 A\n",
      "Exon4_amplicon 195 T\n",
      "Exon4_amplicon 196 T\n",
      "Exon4_amplicon 197 C\n",
      "Exon4_amplicon 198 C\n",
      "Exon4_amplicon 199 T\n",
      "Exon4_amplicon 200 T\n",
      "Exon4_amplicon 201 T\n",
      "Exon4_amplicon 202 T\n",
      "Exon4_amplicon 203 A\n",
      "Exon4_amplicon 204 T\n",
      "Exon4_amplicon 205 T\n",
      "Exon4_amplicon 206 G\n",
      "Exon4_amplicon 207 A\n",
      "Exon4_amplicon 208 A\n",
      "Exon4_amplicon 209 A\n",
      "Exon4_amplicon 210 C\n",
      "Exon4_amplicon 211 A\n",
      "Exon4_amplicon 212 T\n",
      "Exon4_amplicon 213 C\n",
      "Exon4_amplicon 214 A\n",
      "Exon4_amplicon 215 G\n",
      "Exon4_amplicon 216 C\n",
      "Exon4_amplicon 217 A\n",
      "Exon4_amplicon 218 A\n",
      "Exon4_amplicon 219 A\n",
      "Exon4_amplicon 220 G\n",
      "Exon4_amplicon 221 A\n",
      "Exon4_amplicon 222 C\n",
      "Exon4_amplicon 223 A\n",
      "Exon4_amplicon 224 A\n",
      "Exon4_amplicon 225 G\n",
      "Exon4_amplicon 226 A\n",
      "Exon4_amplicon 227 C\n",
      "Exon4_amplicon 228 A\n",
      "Exon4_amplicon 229 G\n"
     ]
    }
   ],
   "source": [
    "!cat pileup/ex3_2.txt | awk '{print $1,$2,$3}' "
   ]
  },
  {
   "cell_type": "code",
   "execution_count": 12,
   "id": "7e6e5b8a-052e-4918-b292-19082848df57",
   "metadata": {},
   "outputs": [
    {
     "name": "stdout",
     "output_type": "stream",
     "text": [
      "Mon Feb 28 13:57:58 PST 2022\n"
     ]
    }
   ],
   "source": [
    "!date"
   ]
  }
 ],
 "metadata": {
  "kernelspec": {
   "display_name": "Python [conda env:alignment]",
   "language": "python",
   "name": "conda-env-alignment-py"
  },
  "language_info": {
   "codemirror_mode": {
    "name": "ipython",
    "version": 3
   },
   "file_extension": ".py",
   "mimetype": "text/x-python",
   "name": "python",
   "nbconvert_exporter": "python",
   "pygments_lexer": "ipython3",
   "version": "3.6.10"
  }
 },
 "nbformat": 4,
 "nbformat_minor": 5
}
