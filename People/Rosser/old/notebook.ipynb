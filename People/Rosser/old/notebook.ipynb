{
 "cells": [
  {
   "cell_type": "code",
   "execution_count": 5,
   "metadata": {},
   "outputs": [],
   "source": [
    "%load_ext rpy2.ipython"
   ]
  },
  {
   "cell_type": "code",
   "execution_count": 6,
   "metadata": {},
   "outputs": [],
   "source": [
    "%%R\n",
    "library (MotifDb)\n",
    "library (MotIV)\n",
    "library (seqLogo)\n",
    "MotIV.toTable = function (match) {\n",
    "  if (length (match@bestMatch) == 0)\n",
    "    return (NA)\n",
    "\n",
    "  alignments = match@bestMatch[[1]]@aligns\n",
    "\n",
    "  df = data.frame (stringsAsFactors=FALSE)\n",
    "  for (alignment in alignments) {\n",
    "    x = alignment\n",
    "    name = x@TF@name\n",
    "    eVal = x@evalue\n",
    "    sequence = x@sequence\n",
    "    match = x@match\n",
    "    strand = x@strand\n",
    "    df = rbind (df, data.frame (name=name, eVal=eVal, sequence=sequence,\n",
    "                                match=match, strand=strand, stringsAsFactors=FALSE))\n",
    "    } # for alignment\n",
    "  return (df)\n",
    "  } # MotIV.toTable"
   ]
  },
  {
   "cell_type": "markdown",
   "metadata": {},
   "source": [
    "https://bioconductor.org/packages/release/bioc/vignettes/MotifDb/inst/doc/MotifDb.pdf\n",
    "\n",
    "We now do a simple geneSymbol search, followed by an examination of the sub-MotifDb the search returns. We are looking for all matrices associated with the well-known and highly conserved zinc-finger transcription factor, Egr1."
   ]
  },
  {
   "cell_type": "code",
   "execution_count": 9,
   "metadata": {},
   "outputs": [],
   "source": [
    "%%R\n",
    "RT112.TF = read.csv('RT112.TF.txt', header=0, stringsAsFactor = FALSE)[,1]\n",
    "UC3.TF = read.csv('UC3.TF.txt', header=0, stringsAsFactor = FALSE)[,1]"
   ]
  },
  {
   "cell_type": "markdown",
   "metadata": {},
   "source": [
    "## RT112.TF"
   ]
  },
  {
   "cell_type": "code",
   "execution_count": 94,
   "metadata": {},
   "outputs": [
    {
     "name": "stdout",
     "output_type": "stream",
     "text": [
      " [1] \"FLOT2\"          \"FLOT1\"          \"MISP\"           \"IGKV4-1\"       \n",
      " [5] \"HNRNPL\"         \"MATR3\"          \"RBM27\"          \"RBMX\"          \n",
      " [9] \"HNRNPUL1\"       \"PABPN1\"         \"HNRNPR\"         \"DHX15\"         \n",
      "[13] \"FUS\"            \"HNRNPA0\"        \"THRAP3\"         \"HNRNPUL2\"      \n",
      "[17] \"HNRNPUL2-BSCL2\"\n"
     ]
    }
   ],
   "source": [
    "%%R\n",
    "RT112.TF"
   ]
  },
  {
   "cell_type": "code",
   "execution_count": 95,
   "metadata": {},
   "outputs": [],
   "source": [
    "%%R\n",
    "indices = list()\n",
    "for (tf in RT112.TF){\n",
    "#     print (tf)\n",
    "    indices[[tf]] = grep (tf, values (MotifDb)$geneSymbol, ignore.case=TRUE)\n",
    "}"
   ]
  },
  {
   "cell_type": "code",
   "execution_count": 96,
   "metadata": {},
   "outputs": [
    {
     "name": "stdout",
     "output_type": "stream",
     "text": [
      "$FLOT2\n",
      "integer(0)\n",
      "\n",
      "$FLOT1\n",
      "integer(0)\n",
      "\n",
      "$MISP\n",
      "integer(0)\n",
      "\n",
      "$`IGKV4-1`\n",
      "integer(0)\n",
      "\n",
      "$HNRNPL\n",
      "[1] 3019\n",
      "\n",
      "$MATR3\n",
      "integer(0)\n",
      "\n",
      "$RBM27\n",
      "integer(0)\n",
      "\n",
      "$RBMX\n",
      "integer(0)\n",
      "\n",
      "$HNRNPUL1\n",
      "integer(0)\n",
      "\n",
      "$PABPN1\n",
      "integer(0)\n",
      "\n",
      "$HNRNPR\n",
      "integer(0)\n",
      "\n",
      "$DHX15\n",
      "integer(0)\n",
      "\n",
      "$FUS\n",
      "[1]  388 2637 2638 2763 4336 5052 6200\n",
      "\n",
      "$HNRNPA0\n",
      "[1] 3015\n",
      "\n",
      "$THRAP3\n",
      "integer(0)\n",
      "\n",
      "$HNRNPUL2\n",
      "integer(0)\n",
      "\n",
      "$`HNRNPUL2-BSCL2`\n",
      "integer(0)\n",
      "\n"
     ]
    }
   ],
   "source": [
    "%%R\n",
    "indices"
   ]
  },
  {
   "cell_type": "code",
   "execution_count": 97,
   "metadata": {},
   "outputs": [
    {
     "name": "stdout",
     "output_type": "stream",
     "text": [
      "MotifDb object of length 7\n",
      "| Created from downloaded public sources: 2013-Aug-30\n",
      "| 7 position frequency matrices from 5 sources:\n",
      "|         cisbp_1.02:    1\n",
      "|              HOMER:    3\n",
      "|        JASPAR_2014:    1\n",
      "|         jaspar2016:    1\n",
      "|         jaspar2018:    1\n",
      "| 2 organism/s\n",
      "|          Athaliana:    4\n",
      "|              other:    3\n",
      "Athaliana-cisbp_1.02-M2358_1.02 \n",
      "NA-HOMER-EWS:ERG-fusion(ETS)/CADO_ES1-EWS:ERG-ChIP-Seq(SRA014231)/Homer \n",
      "NA-HOMER-EWS:FLI1-fusion(ETS)/SK_N_MC-EWS:FLI1-ChIP-Seq(SRA014231)/Homer \n",
      "NA-HOMER-PAX3:FKHR-fusion(Paired,Homeobox)/Rh4-PAX3:FKHR-ChIP-Seq(GSE19063)/Homer \n",
      "Athaliana-JASPAR_2014-FUS3-MA0565.1 \n",
      "Athaliana-jaspar2016-FUS3-MA0565.1 \n",
      "Athaliana-jaspar2018-FUS3-MA0565.1 \n"
     ]
    }
   ],
   "source": [
    "%%R \n",
    "MotifDb[indices$FUS]"
   ]
  },
  {
   "cell_type": "code",
   "execution_count": 108,
   "metadata": {},
   "outputs": [
    {
     "name": "stdout",
     "output_type": "stream",
     "text": [
      "$`Athaliana-cisbp_1.02-M2358_1.02`\n",
      "     1    2          3    4          5    6    7          8          9\n",
      "A 0.16 0.09 0.00990099 0.01 0.98019802 0.01 0.00 0.00990099 0.27722772\n",
      "C 0.25 0.59 0.01980198 0.99 0.00990099 0.00 0.00 0.96039604 0.03960396\n",
      "G 0.44 0.03 0.96039604 0.00 0.00000000 0.00 0.99 0.01980198 0.60396040\n",
      "T 0.15 0.29 0.00990099 0.00 0.00990099 0.99 0.01 0.00990099 0.07920792\n",
      "\n",
      "$`NA-HOMER-EWS:ERG-fusion(ETS)/CADO_ES1-EWS:ERG-ChIP-Seq(SRA014231)/Homer`\n",
      "      1     2     3     4     5     6     7     8     9    10\n",
      "A 0.871 0.001 0.001 0.001 0.001 0.001 0.001 0.001 0.194 0.220\n",
      "C 0.009 0.155 0.001 0.001 0.997 0.997 0.001 0.105 0.277 0.269\n",
      "G 0.119 0.001 0.001 0.001 0.001 0.001 0.041 0.805 0.053 0.276\n",
      "T 0.001 0.843 0.997 0.997 0.001 0.001 0.957 0.089 0.476 0.235\n",
      "\n",
      "$`NA-HOMER-EWS:FLI1-fusion(ETS)/SK_N_MC-EWS:FLI1-ChIP-Seq(SRA014231)/Homer`\n",
      "      1     2     3     4     5     6     7     8     9    10\n",
      "A 0.356 0.638 0.001 0.802 0.001 0.001 0.997 0.997 0.644 0.001\n",
      "C 0.230 0.001 0.997 0.196 0.001 0.001 0.001 0.001 0.001 0.309\n",
      "G 0.227 0.201 0.001 0.001 0.997 0.997 0.001 0.001 0.354 0.001\n",
      "T 0.187 0.160 0.001 0.001 0.001 0.001 0.001 0.001 0.001 0.689\n",
      "\n",
      "$`NA-HOMER-PAX3:FKHR-fusion(Paired,Homeobox)/Rh4-PAX3:FKHR-ChIP-Seq(GSE19063)/Homer`\n",
      "           1     2     3     4     5           6          7     8     9    10\n",
      "A 0.58841159 0.003 0.001 0.472 0.018 0.194194194 0.78278278 0.087 0.222 0.958\n",
      "C 0.05194805 0.595 0.746 0.006 0.001 0.003003003 0.01501502 0.911 0.101 0.002\n",
      "G 0.14585415 0.401 0.001 0.505 0.075 0.787787788 0.10210210 0.001 0.025 0.039\n",
      "T 0.21378621 0.001 0.252 0.017 0.906 0.015015015 0.10010010 0.001 0.652 0.001\n",
      "     11         12    13        14    15\n",
      "A 0.997 0.09109109 0.060 0.2732733 0.322\n",
      "C 0.001 0.02202202 0.213 0.1991992 0.216\n",
      "G 0.001 0.01801802 0.195 0.2902903 0.270\n",
      "T 0.001 0.86886887 0.532 0.2372372 0.192\n",
      "\n",
      "$`Athaliana-JASPAR_2014-FUS3-MA0565.1`\n",
      "           1          2    3    4          5    6          7    8    9\n",
      "A 0.07920792 0.00990099 0.01 0.99 0.00990099 0.00 0.00990099 0.29 0.15\n",
      "C 0.60396040 0.01980198 0.99 0.00 0.00000000 0.00 0.96039604 0.03 0.44\n",
      "G 0.03960396 0.96039604 0.00 0.00 0.00990099 0.99 0.01980198 0.59 0.25\n",
      "T 0.27722772 0.00990099 0.00 0.01 0.98019802 0.01 0.00990099 0.09 0.16\n",
      "\n",
      "$`Athaliana-jaspar2016-FUS3-MA0565.1`\n",
      "           1          2    3    4          5    6          7    8    9\n",
      "A 0.07920792 0.00990099 0.01 0.99 0.00990099 0.00 0.00990099 0.29 0.15\n",
      "C 0.60396040 0.01980198 0.99 0.00 0.00000000 0.00 0.96039604 0.03 0.44\n",
      "G 0.03960396 0.96039604 0.00 0.00 0.00990099 0.99 0.01980198 0.59 0.25\n",
      "T 0.27722772 0.00990099 0.00 0.01 0.98019802 0.01 0.00990099 0.09 0.16\n",
      "\n",
      "$`Athaliana-jaspar2018-FUS3-MA0565.1`\n",
      "           1          2    3    4          5    6          7    8    9\n",
      "A 0.07920792 0.00990099 0.01 0.99 0.00990099 0.00 0.00990099 0.29 0.15\n",
      "C 0.60396040 0.01980198 0.99 0.00 0.00000000 0.00 0.96039604 0.03 0.44\n",
      "G 0.03960396 0.96039604 0.00 0.00 0.00990099 0.99 0.01980198 0.59 0.25\n",
      "T 0.27722772 0.00990099 0.00 0.01 0.98019802 0.01 0.00990099 0.09 0.16\n",
      "\n"
     ]
    }
   ],
   "source": [
    "%%R\n",
    "motif = MotifDb[indices$FUS]\n",
    "as.list (motif)\n",
    "# noquote (t (as.data.frame (values (motif))))"
   ]
  },
  {
   "cell_type": "code",
   "execution_count": 167,
   "metadata": {
    "scrolled": false
   },
   "outputs": [
    {
     "name": "stdout",
     "output_type": "stream",
     "text": [
      "\n",
      "\tUngapped Alignment\n",
      "\tScores read\n",
      "\tDatabase read\n",
      "\tMotif matches : 26\n",
      "                                                       name         eVal\n",
      "1                           Athaliana-cisbp_1.02-M2358_1.02 3.736678e-12\n",
      "2                       Athaliana-JASPAR_2014-FUS3-MA0565.1 3.736678e-12\n",
      "3                        Athaliana-jaspar2016-FUS3-MA0565.1 3.736678e-12\n",
      "4                        Athaliana-jaspar2018-FUS3-MA0565.1 3.736678e-12\n",
      "5                          NA-HOMER-NRF(NRF)/Promoter/Homer 1.322307e-09\n",
      "6                                   Hsapiens-jolma2013-NRF1 1.432989e-09\n",
      "7                                   Hsapiens-hPDI-HIST1H2BN 1.608303e-09\n",
      "8  NA-HOMER-NRF1(NRF)/MCF7-NRF1-ChIP-Seq(Unpublished)/Homer 1.995037e-09\n",
      "9                   Hsapiens-SwissRegulon-NRF1.SwissRegulon 1.996581e-09\n",
      "10                 Mmusculus-HOCOMOCOv10-NRF1_MOUSE.H10MO.A 5.855833e-09\n",
      "11                       Cparvum-UniPROBE-Cgd2_3490.UP00395 2.606320e-08\n",
      "12                 Hsapiens-HOCOMOCOv10-ZN639_HUMAN.H10MO.D 1.165406e-07\n",
      "13                                     Hsapiens-hPDI-DNMT3A 1.236614e-07\n",
      "14                       Hsapiens-JASPAR_2014-NRF1-MA0506.1 1.441456e-07\n",
      "15                        Hsapiens-jaspar2016-NRF1-MA0506.1 1.441456e-07\n",
      "16                        Hsapiens-jaspar2018-NRF1-MA0506.1 1.441456e-07\n",
      "17                          Athaliana-cisbp_1.02-M0146_1.02 2.333946e-06\n",
      "18                   Pfalciparum-UniPROBE-PF14_0633.UP00394 4.196356e-06\n",
      "19                                     Hsapiens-hPDI-TRIM69 4.843809e-06\n",
      "20                        Pfalciparum-cisbp_1.02-M0060_1.02 5.048976e-06\n",
      "21                            Cparvum-cisbp_1.02-M0045_1.02 5.541314e-06\n",
      "22                  Hsapiens-HOCOMOCOv10-NRF1_HUMAN.H10MO.A 5.718297e-06\n",
      "23                          Athaliana-cisbp_1.02-M2357_1.02 1.074294e-05\n",
      "24                      Athaliana-JASPAR_2014-ABI3-MA0564.1 1.074294e-05\n",
      "25                       Athaliana-jaspar2016-ABI3-MA0564.1 1.074294e-05\n",
      "26                       Athaliana-jaspar2018-ABI3-MA0564.1 1.074294e-05\n",
      "               sequence                match strand\n",
      "1             NYGCATGCG            NYGCATGCG      +\n",
      "2             NYGCATGCG            NYGCATGCG      -\n",
      "3             NYGCATGCG            NYGCATGCG      -\n",
      "4             NYGCATGCG            NYGCATGCG      -\n",
      "5          NYGCATGCG---         GCGCATGCGCAS      -\n",
      "6          -NYGCATGCG--         TGCGCATGCGCN      +\n",
      "7            NYGCATGCG-           -CGCMNGCGC      -\n",
      "8          NYGCATGCG---         GCGCATGCGCAG      -\n",
      "9          NYGCATGCG---         GCGCATGCGCAG      -\n",
      "10         --NYGCATGCG-         NTGCGCNTGCGC      +\n",
      "11       --NYGCATGCG---       NNNTGCATGCGNNN      -\n",
      "12 ------NYGCATGCG----- NNNNCTGCGCATGCGCNNNN      -\n",
      "13            NYGCATGCG            --GCWTGCG      -\n",
      "14          NYGCATGCG--          GCGCNTGCGCR      +\n",
      "15          NYGCATGCG--          GCGCNTGCGCR      +\n",
      "16          NYGCATGCG--          GCGCNTGCGCR      +\n",
      "17            NYGCATGCG            ATGCATGC-      +\n",
      "18       --NYGCATGCG---       NNNTGCATGCANNN      -\n",
      "19            NYGCATGCG            -CGCSTGMG      -\n",
      "20            NYGCATGCG            NTGCATGC-      +\n",
      "21            NYGCATGCG            -NGCATGCA      -\n",
      "22   --NYGCATGCG-------   NYGCGCNTGCGCRNNNNN      +\n",
      "23            NYGCATGCG            YNGCATGCN      +\n",
      "24            NYGCATGCG            YNGCATGCN      +\n",
      "25            NYGCATGCG            YNGCATGCN      +\n",
      "26            NYGCATGCG            YNGCATGCN      +\n"
     ]
    }
   ],
   "source": [
    "%%R\n",
    "hits <- motifMatch (as.list (motif) [1], as.list (MotifDb), top=26) # eval < 1e-05\n",
    "tbl.hits <- MotIV.toTable (hits)\n",
    "sequences <- list(unique(tbl.hits$match))[[1]]\n",
    "print (tbl.hits)"
   ]
  },
  {
   "cell_type": "code",
   "execution_count": 170,
   "metadata": {},
   "outputs": [],
   "source": [
    "%%R\n",
    "sequences = gsub('N', '[ATCG]',sequences)\n",
    "sequences = gsub('Y', '[CT]',sequences)\n",
    "sequences = gsub('M', '[AC]',sequences)\n",
    "sequences = gsub('S', '[CG]',sequences)\n",
    "sequences = gsub('W', '[AT]',sequences)\n",
    "sequences = gsub('R', '[AG]',sequences)\n",
    "sequences = gsub('-', '',sequences)\n",
    "write.table(data.frame(sequences),\"motif_of_interests.txt\",col.names=FALSE,row.names=FALSE,sep=\"\\n\",quote=FALSE)"
   ]
  },
  {
   "cell_type": "markdown",
   "metadata": {},
   "source": [
    "## UC3.TF"
   ]
  },
  {
   "cell_type": "code",
   "execution_count": 90,
   "metadata": {},
   "outputs": [
    {
     "name": "stdout",
     "output_type": "stream",
     "text": [
      " [1] \"RBM27\"    \"ZC3H14\"   \"RBM14\"    \"PABPN1\"   \"RBM26\"    \"SRRT\"    \n",
      " [7] \"ZFC3H1\"   \"SRSF7\"    \"ILF2\"     \"NUDT21\"   \"RNPS1\"    \"SERPINE1\"\n",
      "[13] \"SRSF6\"   \n"
     ]
    }
   ],
   "source": [
    "%%R\n",
    "UC3.TF"
   ]
  },
  {
   "cell_type": "code",
   "execution_count": 91,
   "metadata": {},
   "outputs": [],
   "source": [
    "%%R\n",
    "indices = list()\n",
    "for (tf in UC3.TF){\n",
    "#     print (tf)\n",
    "    indices[[tf]] = grep (tf, values (MotifDb)$geneSymbol, ignore.case=TRUE)\n",
    "}"
   ]
  },
  {
   "cell_type": "code",
   "execution_count": 92,
   "metadata": {},
   "outputs": [
    {
     "name": "stdout",
     "output_type": "stream",
     "text": [
      "$RBM27\n",
      "integer(0)\n",
      "\n",
      "$ZC3H14\n",
      "integer(0)\n",
      "\n",
      "$RBM14\n",
      "integer(0)\n",
      "\n",
      "$PABPN1\n",
      "integer(0)\n",
      "\n",
      "$RBM26\n",
      "integer(0)\n",
      "\n",
      "$SRRT\n",
      "integer(0)\n",
      "\n",
      "$ZFC3H1\n",
      "integer(0)\n",
      "\n",
      "$SRSF7\n",
      "integer(0)\n",
      "\n",
      "$ILF2\n",
      "integer(0)\n",
      "\n",
      "$NUDT21\n",
      "integer(0)\n",
      "\n",
      "$RNPS1\n",
      "integer(0)\n",
      "\n",
      "$SERPINE1\n",
      "integer(0)\n",
      "\n",
      "$SRSF6\n",
      "integer(0)\n",
      "\n"
     ]
    }
   ],
   "source": [
    "%%R\n",
    "indices"
   ]
  },
  {
   "cell_type": "code",
   "execution_count": null,
   "metadata": {},
   "outputs": [],
   "source": []
  }
 ],
 "metadata": {
  "kernelspec": {
   "display_name": "Python 3",
   "language": "python",
   "name": "python3"
  },
  "language_info": {
   "codemirror_mode": {
    "name": "ipython",
    "version": 3
   },
   "file_extension": ".py",
   "mimetype": "text/x-python",
   "name": "python",
   "nbconvert_exporter": "python",
   "pygments_lexer": "ipython3",
   "version": "3.7.3"
  }
 },
 "nbformat": 4,
 "nbformat_minor": 2
}
