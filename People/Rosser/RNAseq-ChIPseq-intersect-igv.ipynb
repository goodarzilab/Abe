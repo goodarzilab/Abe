{
 "cells": [
  {
   "cell_type": "markdown",
   "metadata": {},
   "source": [
    "quotes from my discussion with Hani:"
   ]
  },
  {
   "cell_type": "markdown",
   "metadata": {},
   "source": [
    "> (1) Promoter bound by PAI-1 according to ChIP-seq\n",
    "\n",
    "> (2) Some gene expression change in response to PAI-1 knockdown (the more the better)\n",
    "\n",
    "> (3) looking good IGV (basically something good looking like what Charles had attached.\n",
    "\n"
   ]
  },
  {
   "cell_type": "markdown",
   "metadata": {},
   "source": [
    "> I had already generated those results. Here are the genes with promoter binding:\n",
    "        `PAI1_ChIP-seq/result_ChIPseq/1.Peak_Calling/RT-112_ChIP_intersect.hg19.annotated.list`\n",
    "and\n",
    "        `PAI1_ChIP-seq/result_ChIPseq/1.Peak_Calling/UMUC3_ChIP_intersect.hg19.annotated.list`"
   ]
  },
  {
   "cell_type": "markdown",
   "metadata": {},
   "source": [
    "> the RNA-seq files are:\n",
    "`RNA-seq/RT112/exp/PAI1-KD_RT112_logFC.nd.txt`\n",
    "and\n",
    "`RNA-seq/UC3/exp/PAI1-KD_UC3_logFC.nd.txt`\n",
    "\n",
    "> Simply take genes from the \"annotated.list\" files and overlap with those that are up-regulated in the RNA-seq files. Then start from the ones with the highest logFC and generate some IGV plots."
   ]
  },
  {
   "cell_type": "markdown",
   "metadata": {},
   "source": [
    "First, I select intersect of annotated genes from the PAI-1 ChIPseq data and over expressed genes in the RNA-seq data. Then, I take the `bigwig` files from MACS2 signal track (fold-enrichment) results for all samples (see each HTML reports like [RT112-H3K27ac](https://gitlab.com/abardesigner/goodarzilab-abe/-/blob/master/People/Rosser/data-2020-04-24/RT112-H3K27ac/RT112-H3K27ac.qc.html) that tells you where that data comes from). Then, I extract `wig` file of top genes from each `bigwig` files to make igv plots. "
   ]
  },
  {
   "cell_type": "code",
   "execution_count": 6,
   "metadata": {},
   "outputs": [],
   "source": [
    "import numpy as np\n",
    "import pandas as pd \n",
    "import subprocess "
   ]
  },
  {
   "cell_type": "markdown",
   "metadata": {},
   "source": [
    "reading PAI-1 ChIP-seq results and RNA-seq LogFoldChanges into pandas dataframe. "
   ]
  },
  {
   "cell_type": "code",
   "execution_count": 7,
   "metadata": {},
   "outputs": [],
   "source": [
    "PAI1_RT112 = pd.read_csv('PAI1_ChIP-seq/result_ChIPseq/1.Peak_Calling/RT-112_ChIP_intersect.hg19.annotated.list',header=None).loc[:,0].to_list()\n",
    "PAI1_UMUC3 = pd.read_csv('PAI1_ChIP-seq/result_ChIPseq/1.Peak_Calling/UMUC3_ChIP_intersect.hg19.annotated.list',header=None).loc[:,0].to_list()\n",
    "\n",
    "RNASeq_RT112 = pd.read_csv('RNA-seq/RT112/exp/PAI1-KD_RT112_logFC.nd.txt', sep='\\t', index_col=0)\n",
    "RNASeq_UMUC3 = pd.read_csv('RNA-seq/UC3/exp/PAI1-KD_UC3_logFC.nd.txt', sep='\\t', index_col=0)"
   ]
  },
  {
   "cell_type": "markdown",
   "metadata": {},
   "source": [
    "reading directories to `bigwig` files into a list"
   ]
  },
  {
   "cell_type": "code",
   "execution_count": 8,
   "metadata": {},
   "outputs": [
    {
     "data": {
      "text/plain": [
       "['data-2020-04-24/RT112-H3K27ac/signal/pooled-rep/rep.pooled_x_RT112-Input_R1.nodup.fc.signal.bigwig',\n",
       " 'data-2020-04-24/RT112-H3K27ac/signal/rep1/RT112-H3K27ac-1_R1.nodup_x_RT112-Input_R1.nodup.fc.signal.bigwig',\n",
       " 'data-2020-04-24/RT112-H3K27ac/signal/rep2/RT112-H3K27ac-2_R1.nodup_x_RT112-Input_R1.nodup.fc.signal.bigwig',\n",
       " 'data-2020-04-24/RT112-H3K4me3/signal/pooled-rep/rep.pooled_x_RT112-Input_R1.nodup.fc.signal.bigwig',\n",
       " 'data-2020-04-24/RT112-H3K4me3/signal/rep1/RT112-H3K4me3-1_R1.nodup_x_RT112-Input_R1.nodup.fc.signal.bigwig',\n",
       " 'data-2020-04-24/RT112-H3K4me3/signal/rep2/RT112-H3K4me3-2_R1.nodup_x_RT112-Input_R1.nodup.fc.signal.bigwig',\n",
       " 'data-2020-04-24/UMUC3-H3K27ac/signal/pooled-rep/rep.pooled_x_UMUC3-Input_R1.nodup.fc.signal.bigwig',\n",
       " 'data-2020-04-24/UMUC3-H3K27ac/signal/rep1/UMUC3-H3K27ac-1_R1.nodup_x_UMUC3-Input_R1.nodup.fc.signal.bigwig',\n",
       " 'data-2020-04-24/UMUC3-H3K27ac/signal/rep2/UMUC3-H3K27ac-1_repeat_R1.nodup_x_UMUC3-Input_R1.nodup.fc.signal.bigwig',\n",
       " 'data-2020-04-24/UMUC3-H3K4me3/signal/pooled-rep/rep.pooled_x_UMUC3-Input_R1.nodup.fc.signal.bigwig',\n",
       " 'data-2020-04-24/UMUC3-H3K4me3/signal/rep1/UMUC3-H3K4me3-1_R1.nodup_x_UMUC3-Input_R1.nodup.fc.signal.bigwig',\n",
       " 'data-2020-04-24/UMUC3-H3K4me3/signal/rep2/UMUC3-H3K4me3-1_repeat_R1.nodup_x_UMUC3-Input_R1.nodup.fc.signal.bigwig']"
      ]
     },
     "execution_count": 8,
     "metadata": {},
     "output_type": "execute_result"
    }
   ],
   "source": [
    "fc_bigwig = subprocess.getoutput('ls data-2020-04-24/*/*/*/*fc*bigwig').split('\\n')\n",
    "# pval_bigwig = subprocess.getoutput('ls data-2020-04-24/*/*/*/*pval*bigwig').split('\\n')\n",
    "fc_bigwig"
   ]
  },
  {
   "cell_type": "markdown",
   "metadata": {},
   "source": [
    "these funstions print out the cammand for making `wig` from each `bigwig` files. "
   ]
  },
  {
   "cell_type": "code",
   "execution_count": 19,
   "metadata": {},
   "outputs": [],
   "source": [
    "def bigwigger(CHR,STR,END, f,o):\n",
    "    cmd = f'bigWigToWig -chrom={CHR} -start={STR} -end={END} {f} {o}'\n",
    "    subprocess.call(cmd, shell = True)\n",
    "#     print (cmd)\n",
    "    \n",
    "def genewigger(gene, CHR, STR, END, path_to_bigwigs, path_to_results):\n",
    "    for f in path_to_bigwigs:\n",
    "        wig = f.split(\"/\")\n",
    "        subprocess.call(f'mkdir -p {path_to_results}/{gene}', shell=True)\n",
    "        o=f'{path_to_results}/{gene}/{wig[1]}.{wig[3]}.wig'\n",
    "        bigwigger(CHR,STR,END, f,o)"
   ]
  },
  {
   "cell_type": "markdown",
   "metadata": {},
   "source": [
    "# RT112"
   ]
  },
  {
   "cell_type": "code",
   "execution_count": 10,
   "metadata": {},
   "outputs": [],
   "source": [
    "insect_RT112 = RNASeq_RT112.loc[\n",
    "    # intersect of PAI-1 ChIP-seq and RNA-Seq\n",
    "    list(set(PAI1_RT112) & set(RNASeq_RT112.index.to_list())),:\n",
    "]"
   ]
  },
  {
   "cell_type": "markdown",
   "metadata": {},
   "source": [
    "## up-regulated genes\n",
    "Top 3 genes with log2FC > 3.5"
   ]
  },
  {
   "cell_type": "code",
   "execution_count": 12,
   "metadata": {},
   "outputs": [
    {
     "data": {
      "text/html": [
       "<div>\n",
       "<style scoped>\n",
       "    .dataframe tbody tr th:only-of-type {\n",
       "        vertical-align: middle;\n",
       "    }\n",
       "\n",
       "    .dataframe tbody tr th {\n",
       "        vertical-align: top;\n",
       "    }\n",
       "\n",
       "    .dataframe thead th {\n",
       "        text-align: right;\n",
       "    }\n",
       "</style>\n",
       "<table border=\"1\" class=\"dataframe\">\n",
       "  <thead>\n",
       "    <tr style=\"text-align: right;\">\n",
       "      <th></th>\n",
       "      <th>log2FoldChange</th>\n",
       "    </tr>\n",
       "  </thead>\n",
       "  <tbody>\n",
       "    <tr>\n",
       "      <th>GPR84</th>\n",
       "      <td>3.621332</td>\n",
       "    </tr>\n",
       "    <tr>\n",
       "      <th>GJC3</th>\n",
       "      <td>3.548836</td>\n",
       "    </tr>\n",
       "    <tr>\n",
       "      <th>GBP7</th>\n",
       "      <td>4.287750</td>\n",
       "    </tr>\n",
       "  </tbody>\n",
       "</table>\n",
       "</div>"
      ],
      "text/plain": [
       "       log2FoldChange\n",
       "GPR84        3.621332\n",
       "GJC3         3.548836\n",
       "GBP7         4.287750"
      ]
     },
     "execution_count": 12,
     "metadata": {},
     "output_type": "execute_result"
    }
   ],
   "source": [
    "insect_RT112_top = insect_RT112[insect_RT112.log2FoldChange > 3.5]\n",
    "insect_RT112_top"
   ]
  },
  {
   "cell_type": "markdown",
   "metadata": {},
   "source": [
    "### [GBP7](https://www.genecards.org/cgi-bin/carddisp.pl?gene=GBP7)\n",
    "chr1:89,131,742-89,176,040(GRCh38/hg38)"
   ]
  },
  {
   "cell_type": "code",
   "execution_count": 20,
   "metadata": {},
   "outputs": [],
   "source": [
    "# genewigger('GBP7','chr1','89131742','89176040', fc_bigwig, 'igv-wigs')"
   ]
  },
  {
   "cell_type": "markdown",
   "metadata": {},
   "source": [
    "<img src=igv-wigs/GBP7.png style=\"height:600px\">"
   ]
  },
  {
   "cell_type": "markdown",
   "metadata": {},
   "source": [
    "### [GPR84](https://www.genecards.org/cgi-bin/carddisp.pl?gene=GPR84)\n",
    "chr12:54,350,784-54,365,253(GRCh38/hg38)"
   ]
  },
  {
   "cell_type": "code",
   "execution_count": 22,
   "metadata": {},
   "outputs": [],
   "source": [
    "# genewigger('GPR84','chr12','54350784','54365253', fc_bigwig, 'igv-wigs')"
   ]
  },
  {
   "cell_type": "markdown",
   "metadata": {},
   "source": [
    "<img src=\"igv-wigs/GRP84.png\" style=\"height:600px\">"
   ]
  },
  {
   "cell_type": "markdown",
   "metadata": {},
   "source": [
    "### [GJC3](https://www.genecards.org/cgi-bin/carddisp.pl?gene=GJC3)\n",
    "chr7:99,923,266-99,935,091(GRCh38/hg38)"
   ]
  },
  {
   "cell_type": "code",
   "execution_count": 27,
   "metadata": {
    "scrolled": false
   },
   "outputs": [],
   "source": [
    "# genewigger('GJC3','chr7','99923266','99935091', fc_bigwig, 'igv-wigs')"
   ]
  },
  {
   "cell_type": "markdown",
   "metadata": {},
   "source": [
    "<img src=\"igv-wigs/GJC3.png\" style=\"height:600px\">"
   ]
  },
  {
   "cell_type": "markdown",
   "metadata": {},
   "source": [
    "## down-regulated genes\n",
    "Top 3 genes with log2FC < -4"
   ]
  },
  {
   "cell_type": "code",
   "execution_count": 10,
   "metadata": {},
   "outputs": [
    {
     "data": {
      "text/html": [
       "<div>\n",
       "<style scoped>\n",
       "    .dataframe tbody tr th:only-of-type {\n",
       "        vertical-align: middle;\n",
       "    }\n",
       "\n",
       "    .dataframe tbody tr th {\n",
       "        vertical-align: top;\n",
       "    }\n",
       "\n",
       "    .dataframe thead th {\n",
       "        text-align: right;\n",
       "    }\n",
       "</style>\n",
       "<table border=\"1\" class=\"dataframe\">\n",
       "  <thead>\n",
       "    <tr style=\"text-align: right;\">\n",
       "      <th></th>\n",
       "      <th>log2FoldChange</th>\n",
       "    </tr>\n",
       "  </thead>\n",
       "  <tbody>\n",
       "    <tr>\n",
       "      <td>TAS2R31</td>\n",
       "      <td>-4.166653</td>\n",
       "    </tr>\n",
       "    <tr>\n",
       "      <td>TUBA8</td>\n",
       "      <td>-4.624960</td>\n",
       "    </tr>\n",
       "    <tr>\n",
       "      <td>IL16</td>\n",
       "      <td>-5.608580</td>\n",
       "    </tr>\n",
       "  </tbody>\n",
       "</table>\n",
       "</div>"
      ],
      "text/plain": [
       "         log2FoldChange\n",
       "TAS2R31       -4.166653\n",
       "TUBA8         -4.624960\n",
       "IL16          -5.608580"
      ]
     },
     "execution_count": 10,
     "metadata": {},
     "output_type": "execute_result"
    }
   ],
   "source": [
    "insect_RT112_dwn = insect_RT112[insect_RT112.log2FoldChange < -4]\n",
    "insect_RT112_dwn"
   ]
  },
  {
   "cell_type": "markdown",
   "metadata": {},
   "source": [
    "### [IL16](https://www.genecards.org/cgi-bin/carddisp.pl?gene=IL16)\n",
    "chr15:81,159,575-81,314,058(GRCh38/hg38)"
   ]
  },
  {
   "cell_type": "code",
   "execution_count": 20,
   "metadata": {},
   "outputs": [],
   "source": [
    "genewigger('IL16','chr15','81159575','81314058', fc_bigwig, 'igv-wigs')"
   ]
  },
  {
   "cell_type": "markdown",
   "metadata": {},
   "source": [
    "<img src='igv-wigs/IL16.png' style=\"height:600px\">"
   ]
  },
  {
   "cell_type": "markdown",
   "metadata": {},
   "source": [
    "### [TUBA8](https://www.genecards.org/cgi-bin/carddisp.pl?gene=TUBA8)\n",
    "chr22:18,110,331-18,146,554(GRCh38/hg38)"
   ]
  },
  {
   "cell_type": "code",
   "execution_count": 21,
   "metadata": {},
   "outputs": [],
   "source": [
    "genewigger('TUBA8','chr22','18110331','18146554', fc_bigwig, 'igv-wigs')"
   ]
  },
  {
   "cell_type": "markdown",
   "metadata": {},
   "source": [
    "<img src='igv-wigs/TUBA8.png' style=\"height:600px\">"
   ]
  },
  {
   "cell_type": "markdown",
   "metadata": {},
   "source": [
    "### [TAS2R31](https://www.genecards.org/cgi-bin/carddisp.pl?gene=TAS2R31)\n",
    "chr12:11,030,387-11,031,407(GRCh38/hg38)"
   ]
  },
  {
   "cell_type": "code",
   "execution_count": 22,
   "metadata": {},
   "outputs": [],
   "source": [
    "genewigger('TAS2R31','chr12','11030387','11031407', fc_bigwig, 'igv-wigs')"
   ]
  },
  {
   "cell_type": "markdown",
   "metadata": {},
   "source": [
    "<img src='igv-wigs/TAS2R31.png' style=\"height:600px\">"
   ]
  },
  {
   "cell_type": "markdown",
   "metadata": {},
   "source": [
    "# UMUC3"
   ]
  },
  {
   "cell_type": "code",
   "execution_count": 24,
   "metadata": {},
   "outputs": [],
   "source": [
    "insect_UMUC3 = RNASeq_UMUC3.loc[\n",
    "    # intersect of PAI-1 ChIP-seq and RNA-Seq\n",
    "    list(set(PAI1_UMUC3) & set(RNASeq_UMUC3.index.to_list())),:\n",
    "] "
   ]
  },
  {
   "cell_type": "markdown",
   "metadata": {},
   "source": [
    "## up-regulated genes\n",
    "Top 3 genes with log2FC > 4.7"
   ]
  },
  {
   "cell_type": "code",
   "execution_count": 28,
   "metadata": {},
   "outputs": [
    {
     "data": {
      "text/html": [
       "<div>\n",
       "<style scoped>\n",
       "    .dataframe tbody tr th:only-of-type {\n",
       "        vertical-align: middle;\n",
       "    }\n",
       "\n",
       "    .dataframe tbody tr th {\n",
       "        vertical-align: top;\n",
       "    }\n",
       "\n",
       "    .dataframe thead th {\n",
       "        text-align: right;\n",
       "    }\n",
       "</style>\n",
       "<table border=\"1\" class=\"dataframe\">\n",
       "  <thead>\n",
       "    <tr style=\"text-align: right;\">\n",
       "      <th></th>\n",
       "      <th>log2FoldChange</th>\n",
       "    </tr>\n",
       "  </thead>\n",
       "  <tbody>\n",
       "    <tr>\n",
       "      <th>GPR35</th>\n",
       "      <td>5.424290</td>\n",
       "    </tr>\n",
       "    <tr>\n",
       "      <th>KY</th>\n",
       "      <td>4.947295</td>\n",
       "    </tr>\n",
       "    <tr>\n",
       "      <th>INMT</th>\n",
       "      <td>4.787879</td>\n",
       "    </tr>\n",
       "  </tbody>\n",
       "</table>\n",
       "</div>"
      ],
      "text/plain": [
       "       log2FoldChange\n",
       "GPR35        5.424290\n",
       "KY           4.947295\n",
       "INMT         4.787879"
      ]
     },
     "execution_count": 28,
     "metadata": {},
     "output_type": "execute_result"
    }
   ],
   "source": [
    "insect_UMUC3_top = insect_UMUC3[insect_UMUC3.log2FoldChange > 4.7]\n",
    "insect_UMUC3_top"
   ]
  },
  {
   "cell_type": "markdown",
   "metadata": {},
   "source": [
    "### [GPR35](https://www.genecards.org/cgi-bin/carddisp.pl?gene=GPR35)\n",
    "chr2:240,605,408-240,631,259(GRCh38/hg38)"
   ]
  },
  {
   "cell_type": "code",
   "execution_count": 34,
   "metadata": {},
   "outputs": [],
   "source": [
    "# genewigger('GPR35','chr2','240605408','240631259', fc_bigwig, 'igv-wigs')"
   ]
  },
  {
   "cell_type": "markdown",
   "metadata": {},
   "source": [
    "<img src='igv-wigs/GPR35.png' style=\"height:600px\">"
   ]
  },
  {
   "cell_type": "markdown",
   "metadata": {},
   "source": [
    "### [KY](https://www.genecards.org/cgi-bin/carddisp.pl?gene=ky)\n",
    "chr3:134,599,923-134,651,677(GRCh38/hg38)"
   ]
  },
  {
   "cell_type": "code",
   "execution_count": 36,
   "metadata": {},
   "outputs": [],
   "source": [
    "# genewigger('KY','chr3','134599923','134651677', fc_bigwig, 'igv-wigs')"
   ]
  },
  {
   "cell_type": "markdown",
   "metadata": {},
   "source": [
    "<img src=\"igv-wigs/KY.png\" style=\"height:600px\">"
   ]
  },
  {
   "cell_type": "markdown",
   "metadata": {},
   "source": [
    "### [INMT](https://www.genecards.org/cgi-bin/carddisp.pl?gene=INMT)\n",
    "chr7:30,697,985-30,757,602(GRCh38/hg38)"
   ]
  },
  {
   "cell_type": "code",
   "execution_count": 38,
   "metadata": {},
   "outputs": [],
   "source": [
    "# genewigger('INMT','chr7','30697985','30757602', fc_bigwig, 'igv-wigs')"
   ]
  },
  {
   "cell_type": "markdown",
   "metadata": {},
   "source": [
    "<img src=\"igv-wigs/INMT.png\" style=\"height:600px\">"
   ]
  },
  {
   "cell_type": "markdown",
   "metadata": {},
   "source": [
    "zoom in"
   ]
  },
  {
   "cell_type": "markdown",
   "metadata": {},
   "source": [
    "<img src='igv-wigs/INMT-zoom.png' style='height:600px'>"
   ]
  },
  {
   "cell_type": "markdown",
   "metadata": {},
   "source": [
    "## down-regulated genes\n",
    "Top 3 genes with log2FC < -4.1"
   ]
  },
  {
   "cell_type": "code",
   "execution_count": 34,
   "metadata": {},
   "outputs": [
    {
     "data": {
      "text/html": [
       "<div>\n",
       "<style scoped>\n",
       "    .dataframe tbody tr th:only-of-type {\n",
       "        vertical-align: middle;\n",
       "    }\n",
       "\n",
       "    .dataframe tbody tr th {\n",
       "        vertical-align: top;\n",
       "    }\n",
       "\n",
       "    .dataframe thead th {\n",
       "        text-align: right;\n",
       "    }\n",
       "</style>\n",
       "<table border=\"1\" class=\"dataframe\">\n",
       "  <thead>\n",
       "    <tr style=\"text-align: right;\">\n",
       "      <th></th>\n",
       "      <th>log2FoldChange</th>\n",
       "    </tr>\n",
       "  </thead>\n",
       "  <tbody>\n",
       "    <tr>\n",
       "      <th>IPCEF1</th>\n",
       "      <td>-4.479412</td>\n",
       "    </tr>\n",
       "    <tr>\n",
       "      <th>TNFAIP8L3</th>\n",
       "      <td>-4.621867</td>\n",
       "    </tr>\n",
       "    <tr>\n",
       "      <th>ZNF385B</th>\n",
       "      <td>-4.255621</td>\n",
       "    </tr>\n",
       "  </tbody>\n",
       "</table>\n",
       "</div>"
      ],
      "text/plain": [
       "           log2FoldChange\n",
       "IPCEF1          -4.479412\n",
       "TNFAIP8L3       -4.621867\n",
       "ZNF385B         -4.255621"
      ]
     },
     "execution_count": 34,
     "metadata": {},
     "output_type": "execute_result"
    }
   ],
   "source": [
    "insect_UMUC3_dwn = insect_UMUC3[insect_UMUC3.log2FoldChange < -4.1]\n",
    "\n",
    "insect_UMUC3_dwn"
   ]
  },
  {
   "cell_type": "markdown",
   "metadata": {},
   "source": [
    "### [TNFAIP8L3](https://www.genecards.org/cgi-bin/carddisp.pl?gene=TNFAIP8L3)\n",
    "chr15:51,056,596-51,105,276(GRCh38/hg38)"
   ]
  },
  {
   "cell_type": "code",
   "execution_count": 41,
   "metadata": {},
   "outputs": [],
   "source": [
    "genewigger('TNFAIP8L3','chr15','51056596','51105276', fc_bigwig, 'igv-wigs')"
   ]
  },
  {
   "cell_type": "markdown",
   "metadata": {},
   "source": [
    "<img src=igv-wigs/TNFAIP8L3.png style=\"height:600px\">"
   ]
  },
  {
   "cell_type": "markdown",
   "metadata": {},
   "source": [
    "### [IPCEF1](https://www.genecards.org/cgi-bin/carddisp.pl?gene=IPCEF1)\n",
    "chr6:154,154,483-154,356,802(GRCh38/hg38)"
   ]
  },
  {
   "cell_type": "code",
   "execution_count": 37,
   "metadata": {},
   "outputs": [],
   "source": [
    "genewigger('IPCEF1','chr6','154154483','154356802', fc_bigwig, 'igv-wigs')"
   ]
  },
  {
   "cell_type": "markdown",
   "metadata": {},
   "source": [
    "<img src=igv-wigs/IPCEF1.png style=\"height:600px\">"
   ]
  },
  {
   "cell_type": "markdown",
   "metadata": {},
   "source": [
    "### [ZNF385B](https://www.genecards.org/cgi-bin/carddisp.pl?gene=ZNF385B)\n",
    "chr2:179,441,982-179,862,321(GRCh38/hg38)"
   ]
  },
  {
   "cell_type": "code",
   "execution_count": 46,
   "metadata": {},
   "outputs": [],
   "source": [
    "genewigger('ZNF385B','chr2','179441982','179862321', fc_bigwig, 'igv-wigs')"
   ]
  },
  {
   "cell_type": "markdown",
   "metadata": {},
   "source": [
    "<img src='igv-wigs/ZNF385B-squashed.png' style='height:600px'>"
   ]
  },
  {
   "cell_type": "markdown",
   "metadata": {},
   "source": [
    "# Session info:"
   ]
  },
  {
   "cell_type": "code",
   "execution_count": 44,
   "metadata": {},
   "outputs": [
    {
     "name": "stdout",
     "output_type": "stream",
     "text": [
      "# packages in environment at /rumi/shams/abe/anaconda3/envs/bedenv:\r\n",
      "#\r\n",
      "# Name                    Version                   Build  Channel\r\n",
      "_libgcc_mutex             0.1                 conda_forge    conda-forge\r\n",
      "_openmp_mutex             4.5                      1_llvm    conda-forge\r\n",
      "backcall                  0.2.0                      py_0    anaconda\r\n",
      "bedops                    2.4.39               hc9558a2_0    bioconda\r\n",
      "blas                      2.16                   openblas    conda-forge\r\n",
      "bzip2                     1.0.8                h516909a_2    conda-forge\r\n",
      "ca-certificates           2020.6.24                     0    anaconda\r\n",
      "certifi                   2020.6.20                py37_0    anaconda\r\n",
      "curl                      7.69.1               h33f0ec9_0    conda-forge\r\n",
      "cycler                    0.10.0                     py_2    conda-forge\r\n",
      "decorator                 4.4.2                      py_0    anaconda\r\n",
      "deeptools                 3.4.3                      py_0    bioconda\r\n",
      "deeptoolsintervals        0.1.9            py37h8f50634_1    bioconda\r\n",
      "entrypoints               0.3                      py37_0    anaconda\r\n",
      "freetype                  2.10.2               he06d7ca_0    conda-forge\r\n",
      "htslib                    1.9                  ha228f0b_7    bioconda\r\n",
      "icu                       64.2                 he1b5a44_1    conda-forge\r\n",
      "ipykernel                 5.3.0            py37h5ca1d4c_0    anaconda\r\n",
      "ipython                   7.16.1           py37h5ca1d4c_0    anaconda\r\n",
      "ipython_genutils          0.2.0                    py37_0    anaconda\r\n",
      "jedi                      0.17.1                   py37_0    anaconda\r\n",
      "jupyter_client            6.1.5                      py_0    anaconda\r\n",
      "jupyter_core              4.6.3                    py37_0    anaconda\r\n",
      "kiwisolver                1.2.0            py37h99015e2_0    conda-forge\r\n",
      "krb5                      1.17.1               h2fd8d38_0    conda-forge\r\n",
      "ld_impl_linux-64          2.34                 h53a641e_5    conda-forge\r\n",
      "libblas                   3.8.0               16_openblas    conda-forge\r\n",
      "libcblas                  3.8.0               16_openblas    conda-forge\r\n",
      "libcurl                   7.69.1               hf7181ac_0    conda-forge\r\n",
      "libdeflate                1.0                  h14c3975_1    bioconda\r\n",
      "libedit                   3.1.20191231         h46ee950_0    conda-forge\r\n",
      "libffi                    3.2.1             he1b5a44_1007    conda-forge\r\n",
      "libgcc                    7.2.0                h69d50b8_2    conda-forge\r\n",
      "libgcc-ng                 9.2.0                h24d8f2e_2    conda-forge\r\n",
      "libgfortran-ng            7.5.0                hdf63c60_6    conda-forge\r\n",
      "liblapack                 3.8.0               16_openblas    conda-forge\r\n",
      "liblapacke                3.8.0               16_openblas    conda-forge\r\n",
      "libopenblas               0.3.9                h5ec1e0e_0    conda-forge\r\n",
      "libpng                    1.6.37               hed695b0_1    conda-forge\r\n",
      "libsodium                 1.0.18               h7b6447c_0    anaconda\r\n",
      "libssh2                   1.9.0                hab1572f_2    conda-forge\r\n",
      "libstdcxx-ng              9.2.0                hdf63c60_2    conda-forge\r\n",
      "libuuid                   2.32.1            h14c3975_1000    conda-forge\r\n",
      "llvm-openmp               10.0.0               hc9558a2_0    conda-forge\r\n",
      "matplotlib-base           3.2.1            py37h30547a4_0    conda-forge\r\n",
      "mysql-connector-c         6.1.6                         2    bioconda\r\n",
      "ncurses                   6.1               hf484d3e_1002    conda-forge\r\n",
      "numpy                     1.17.0           py37h99e49ec_0    r\r\n",
      "numpy-base                1.17.0           py37h2f8d375_0    r\r\n",
      "openssl                   1.1.1g               h7b6447c_0    anaconda\r\n",
      "pandas                    1.0.5            py37h0573a6f_0    anaconda\r\n",
      "parso                     0.7.0                      py_0    anaconda\r\n",
      "pexpect                   4.8.0                    py37_1    anaconda\r\n",
      "pickleshare               0.7.5                 py37_1001    anaconda\r\n",
      "pip                       20.1.1                     py_1    conda-forge\r\n",
      "plotly                    4.8.1              pyh9f0ad1d_0    conda-forge\r\n",
      "prompt-toolkit            3.0.5                      py_0    anaconda\r\n",
      "ptyprocess                0.6.0                    py37_0    anaconda\r\n",
      "py2bit                    0.3.0            py37h8f50634_3    bioconda\r\n",
      "pybigwig                  0.3.17           py37hc013797_0    bioconda\r\n",
      "pygments                  2.6.1                      py_0    anaconda\r\n",
      "pyparsing                 2.4.7              pyh9f0ad1d_0    conda-forge\r\n",
      "pysam                     0.15.3           py37hda2845c_1    bioconda\r\n",
      "python                    3.7.6           cpython_h8356626_6    conda-forge\r\n",
      "python-dateutil           2.8.1                      py_0    conda-forge\r\n",
      "python_abi                3.7                     1_cp37m    conda-forge\r\n",
      "pytz                      2020.1                     py_0    anaconda\r\n",
      "pyzmq                     19.0.1           py37he6710b0_1    anaconda\r\n",
      "readline                  8.0                  hf8c457e_0    conda-forge\r\n",
      "retrying                  1.3.3                      py_2    conda-forge\r\n",
      "samtools                  1.9                 h10a08f8_12    bioconda\r\n",
      "scipy                     1.4.1            py37ha3d9a3c_3    conda-forge\r\n",
      "setuptools                47.1.1           py37hc8dfbb8_0    conda-forge\r\n",
      "six                       1.15.0             pyh9f0ad1d_0    conda-forge\r\n",
      "sqlite                    3.30.1               hcee41ef_0    conda-forge\r\n",
      "tk                        8.6.10               hed695b0_0    conda-forge\r\n",
      "tornado                   6.0.4            py37h8f50634_1    conda-forge\r\n",
      "traitlets                 4.3.3                    py37_0    anaconda\r\n",
      "ucsc-bigwigtowig          357                           1    bioconda\r\n",
      "wcwidth                   0.2.5                      py_0    anaconda\r\n",
      "wheel                     0.34.2                     py_1    conda-forge\r\n",
      "xz                        5.2.5                h516909a_0    conda-forge\r\n",
      "zeromq                    4.3.2                he6710b0_2    anaconda\r\n",
      "zlib                      1.2.11            h516909a_1006    conda-forge\r\n"
     ]
    }
   ],
   "source": [
    "!conda list "
   ]
  }
 ],
 "metadata": {
  "kernelspec": {
   "display_name": "Python [conda env:bedenv]",
   "language": "python",
   "name": "conda-env-bedenv-py"
  },
  "language_info": {
   "codemirror_mode": {
    "name": "ipython",
    "version": 3
   },
   "file_extension": ".py",
   "mimetype": "text/x-python",
   "name": "python",
   "nbconvert_exporter": "python",
   "pygments_lexer": "ipython3",
   "version": "3.7.6"
  }
 },
 "nbformat": 4,
 "nbformat_minor": 4
}
