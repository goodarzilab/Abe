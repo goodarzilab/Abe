{
 "cells": [
  {
   "cell_type": "code",
   "execution_count": 4,
   "metadata": {},
   "outputs": [],
   "source": [
    "%reload_ext rpy2.ipython"
   ]
  },
  {
   "cell_type": "code",
   "execution_count": 3,
   "metadata": {},
   "outputs": [],
   "source": [
    "%%R\n",
    "library (MotifDb)\n",
    "library (MotIV)\n",
    "library (seqLogo)"
   ]
  },
  {
   "cell_type": "markdown",
   "metadata": {},
   "source": [
    "https://bioconductor.org/packages/release/bioc/vignettes/MotifDb/inst/doc/MotifDb.pdf\n",
    "\n",
    "We now do a simple geneSymbol search, followed by an examination of the sub-MotifDb the search returns. We are looking for all matrices associated with the well-known and highly conserved zinc-finger transcription factor, Egr1."
   ]
  },
  {
   "cell_type": "code",
   "execution_count": 14,
   "metadata": {},
   "outputs": [
    {
     "name": "stdout",
     "output_type": "stream",
     "text": [
      "[1] 16\n"
     ]
    }
   ],
   "source": [
    "%%R\n",
    "RT112.TF = read.csv('RT112.TF.txt', header=0, stringsAsFactor = FALSE)[,1]\n",
    "UC3.TF = read.csv('UC3.TF.txt', header=0, stringsAsFactor = FALSE)[,1]\n"
   ]
  },
  {
   "cell_type": "code",
   "execution_count": 64,
   "metadata": {},
   "outputs": [
    {
     "name": "stdout",
     "output_type": "stream",
     "text": [
      "named list()\n"
     ]
    }
   ],
   "source": [
    "%%R\n",
    "# length (MotifDb)\n",
    "\n",
    "# # subset is convenient:\n",
    "# if (interactive ()) \n",
    "#     as.list (subset (MotifDb, tolower (geneSymbol) == 'egr1'))\n",
    "# # grep returns indices which allow for more flexibility\n",
    "# indices = grep ('egr1', values (MotifDb)$geneSymbol, ignore.case=TRUE)\n",
    "# length (indices)\n",
    "\n",
    "# egr1.motif\n",
    "# as.list (egr1.motif)\n",
    "# noquote (t (as.data.frame (values (egr1.motif))))\n",
    "# seqLogo (as.list (egr1.motif)[[1]])\n",
    "\n",
    "# query (MotifDb, 'hsapiens') \n",
    "\n",
    "# unique (grep ('homeo', values(MotifDb)$bindingDomain, ignore.case=T, v=T))\n",
    "# if (interactive ()) \n",
    "as.list (subset (MotifDb, tolower (geneSymbol) == 'rt112'))\n"
   ]
  },
  {
   "cell_type": "markdown",
   "metadata": {},
   "source": [
    "## RT112.TF"
   ]
  },
  {
   "cell_type": "code",
   "execution_count": 86,
   "metadata": {},
   "outputs": [
    {
     "name": "stdout",
     "output_type": "stream",
     "text": [
      " [1] \"FLOT2\"          \"FLOT1\"          \"MISP\"           \"IGKV4-1\"       \n",
      " [5] \"HNRNPL\"         \"MATR3\"          \"RBM27\"          \"RBMX\"          \n",
      " [9] \"HNRNPUL1\"       \"PABPN1\"         \"HNRNPR\"         \"DHX15\"         \n",
      "[13] \"FUS\"            \"HNRNPA0\"        \"THRAP3\"         \"HNRNPUL2\"      \n",
      "[17] \"HNRNPUL2-BSCL2\"\n"
     ]
    }
   ],
   "source": [
    "%%R\n",
    "RT112.TF"
   ]
  },
  {
   "cell_type": "code",
   "execution_count": 87,
   "metadata": {},
   "outputs": [],
   "source": [
    "%%R\n",
    "indices = list()\n",
    "for (tf in RT112.TF){\n",
    "#     print (tf)\n",
    "    indices[[tf]] = grep (tf, values (MotifDb)$geneSymbol, ignore.case=TRUE)\n",
    "}"
   ]
  },
  {
   "cell_type": "code",
   "execution_count": 88,
   "metadata": {},
   "outputs": [
    {
     "name": "stdout",
     "output_type": "stream",
     "text": [
      "$FLOT2\n",
      "integer(0)\n",
      "\n",
      "$FLOT1\n",
      "integer(0)\n",
      "\n",
      "$MISP\n",
      "integer(0)\n",
      "\n",
      "$`IGKV4-1`\n",
      "integer(0)\n",
      "\n",
      "$HNRNPL\n",
      "[1] 3019\n",
      "\n",
      "$MATR3\n",
      "integer(0)\n",
      "\n",
      "$RBM27\n",
      "integer(0)\n",
      "\n",
      "$RBMX\n",
      "integer(0)\n",
      "\n",
      "$HNRNPUL1\n",
      "integer(0)\n",
      "\n",
      "$PABPN1\n",
      "integer(0)\n",
      "\n",
      "$HNRNPR\n",
      "integer(0)\n",
      "\n",
      "$DHX15\n",
      "integer(0)\n",
      "\n",
      "$FUS\n",
      "[1]  388 2637 2638 2763 4336 5052 6200\n",
      "\n",
      "$HNRNPA0\n",
      "[1] 3015\n",
      "\n",
      "$THRAP3\n",
      "integer(0)\n",
      "\n",
      "$HNRNPUL2\n",
      "integer(0)\n",
      "\n",
      "$`HNRNPUL2-BSCL2`\n",
      "integer(0)\n",
      "\n"
     ]
    }
   ],
   "source": [
    "%%R\n",
    "indices"
   ]
  },
  {
   "cell_type": "code",
   "execution_count": 89,
   "metadata": {},
   "outputs": [
    {
     "name": "stdout",
     "output_type": "stream",
     "text": [
      "MotifDb object of length 7\n",
      "| Created from downloaded public sources: 2013-Aug-30\n",
      "| 7 position frequency matrices from 5 sources:\n",
      "|         cisbp_1.02:    1\n",
      "|              HOMER:    3\n",
      "|        JASPAR_2014:    1\n",
      "|         jaspar2016:    1\n",
      "|         jaspar2018:    1\n",
      "| 2 organism/s\n",
      "|          Athaliana:    4\n",
      "|              other:    3\n",
      "Athaliana-cisbp_1.02-M2358_1.02 \n",
      "NA-HOMER-EWS:ERG-fusion(ETS)/CADO_ES1-EWS:ERG-ChIP-Seq(SRA014231)/Homer \n",
      "NA-HOMER-EWS:FLI1-fusion(ETS)/SK_N_MC-EWS:FLI1-ChIP-Seq(SRA014231)/Homer \n",
      "NA-HOMER-PAX3:FKHR-fusion(Paired,Homeobox)/Rh4-PAX3:FKHR-ChIP-Seq(GSE19063)/Homer \n",
      "Athaliana-JASPAR_2014-FUS3-MA0565.1 \n",
      "Athaliana-jaspar2016-FUS3-MA0565.1 \n",
      "Athaliana-jaspar2018-FUS3-MA0565.1 \n"
     ]
    }
   ],
   "source": [
    "%%R \n",
    "MotifDb[indices$FUS]"
   ]
  },
  {
   "cell_type": "code",
   "execution_count": null,
   "metadata": {},
   "outputs": [],
   "source": []
  },
  {
   "cell_type": "markdown",
   "metadata": {},
   "source": [
    "## UC3.TF"
   ]
  },
  {
   "cell_type": "code",
   "execution_count": 90,
   "metadata": {},
   "outputs": [
    {
     "name": "stdout",
     "output_type": "stream",
     "text": [
      " [1] \"RBM27\"    \"ZC3H14\"   \"RBM14\"    \"PABPN1\"   \"RBM26\"    \"SRRT\"    \n",
      " [7] \"ZFC3H1\"   \"SRSF7\"    \"ILF2\"     \"NUDT21\"   \"RNPS1\"    \"SERPINE1\"\n",
      "[13] \"SRSF6\"   \n"
     ]
    }
   ],
   "source": [
    "%%R\n",
    "UC3.TF"
   ]
  },
  {
   "cell_type": "code",
   "execution_count": 91,
   "metadata": {},
   "outputs": [],
   "source": [
    "%%R\n",
    "indices = list()\n",
    "for (tf in UC3.TF){\n",
    "#     print (tf)\n",
    "    indices[[tf]] = grep (tf, values (MotifDb)$geneSymbol, ignore.case=TRUE)\n",
    "}"
   ]
  },
  {
   "cell_type": "code",
   "execution_count": 92,
   "metadata": {},
   "outputs": [
    {
     "name": "stdout",
     "output_type": "stream",
     "text": [
      "$RBM27\n",
      "integer(0)\n",
      "\n",
      "$ZC3H14\n",
      "integer(0)\n",
      "\n",
      "$RBM14\n",
      "integer(0)\n",
      "\n",
      "$PABPN1\n",
      "integer(0)\n",
      "\n",
      "$RBM26\n",
      "integer(0)\n",
      "\n",
      "$SRRT\n",
      "integer(0)\n",
      "\n",
      "$ZFC3H1\n",
      "integer(0)\n",
      "\n",
      "$SRSF7\n",
      "integer(0)\n",
      "\n",
      "$ILF2\n",
      "integer(0)\n",
      "\n",
      "$NUDT21\n",
      "integer(0)\n",
      "\n",
      "$RNPS1\n",
      "integer(0)\n",
      "\n",
      "$SERPINE1\n",
      "integer(0)\n",
      "\n",
      "$SRSF6\n",
      "integer(0)\n",
      "\n"
     ]
    }
   ],
   "source": [
    "%%R\n",
    "indices"
   ]
  },
  {
   "cell_type": "code",
   "execution_count": null,
   "metadata": {},
   "outputs": [],
   "source": []
  }
 ],
 "metadata": {
  "kernelspec": {
   "display_name": "Python 3",
   "language": "python",
   "name": "python3"
  },
  "language_info": {
   "codemirror_mode": {
    "name": "ipython",
    "version": 3
   },
   "file_extension": ".py",
   "mimetype": "text/x-python",
   "name": "python",
   "nbconvert_exporter": "python",
   "pygments_lexer": "ipython3",
   "version": "3.7.3"
  }
 },
 "nbformat": 4,
 "nbformat_minor": 2
}
