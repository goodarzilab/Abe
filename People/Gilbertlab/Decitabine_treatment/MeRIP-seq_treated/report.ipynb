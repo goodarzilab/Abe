{
 "cells": [
  {
   "cell_type": "code",
   "execution_count": 50,
   "metadata": {},
   "outputs": [
    {
     "name": "stdout",
     "output_type": "stream",
     "text": [
      "[1] \"Input_T1_S43_L006_R1_001.fastq.gz\" \"Input_T2_S44_L006_R1_001.fastq.gz\"\n",
      "[3] \"Input_U1_S41_L006_R1_001.fastq.gz\" \"Input_U2_S42_L006_R1_001.fastq.gz\"\n",
      "[5] \"IP_T1_S47_L006_R1_001.fastq.gz\"    \"IP_T2_S48_L006_R1_001.fastq.gz\"   \n",
      "[7] \"IP_U1_S45_L006_R1_001.fastq.gz\"    \"IP_U2_S46_L006_R1_001.fastq.gz\"   \n"
     ]
    }
   ],
   "source": [
    "%%R\n",
    "list.files('fastq')"
   ]
  },
  {
   "cell_type": "markdown",
   "metadata": {},
   "source": [
    "I've started from bam files previously mapped by Hani or Alex. All `bam`  files renamed in this format: \n",
    "> `<treatment>.<input/m6A>.bam`"
   ]
  },
  {
   "cell_type": "code",
   "execution_count": 15,
   "metadata": {},
   "outputs": [
    {
     "name": "stdout",
     "output_type": "stream",
     "text": [
      "[1] \"T1.input.bam\" \"T1.m6A.bam\"   \"T2.input.bam\" \"T2.m6A.bam\"   \"U1.input.bam\"\n",
      "[6] \"U1.m6A.bam\"   \"U2.input.bam\" \"U2.m6A.bam\"  \n"
     ]
    }
   ],
   "source": [
    "%%R\n",
    "list.files('bam')"
   ]
  },
  {
   "cell_type": "markdown",
   "metadata": {},
   "source": [
    "# Peakcalling \n",
    "\n",
    "## Control"
   ]
  },
  {
   "cell_type": "markdown",
   "metadata": {
    "scrolled": true
   },
   "source": [
    "I'm using `exomePeak` to find m6A peaks in control samples (U1 and U2). "
   ]
  },
  {
   "cell_type": "code",
   "execution_count": 7,
   "metadata": {},
   "outputs": [
    {
     "name": "stdout",
     "output_type": "stream",
     "text": [
      "# chr\tchromStart\tchromEnd\tname\tscore\tstrand\tthickStart\tthickEnd\titemRgb\tblockCount\tblockSizes\tblockStarts\r\n",
      "chr1\t853842\t854022\tENSG00000228794.8\t7.4e-09\t+\t853842\t854022\t0\t1\t180,\t0\r\n",
      "chr1\t1055278\t1055369\tENSG00000188157.14\t0.00032\t+\t1055278\t1055369\t0\t1\t91,\t0\r\n",
      "chr1\t1055518\t1055669\tENSG00000188157.14\t8.9e-06\t+\t1055518\t1055669\t0\t1\t151,\t0\r\n",
      "chr1\t1232951\t1233310\tENSG00000176022.4\t3.2e-33\t+\t1232951\t1233310\t0\t1\t359,\t0\r\n",
      "chr1\t1233458\t1234235\tENSG00000176022.4\t9.99999999999999e-288\t+\t1233458\t1234235\t0\t1\t777,\t0\r\n",
      "chr1\t1234622\t1235011\tENSG00000176022.4\t0\t+\t1234622\t1235011\t0\t1\t389,\t0\r\n",
      "chr1\t1327767\t1328065\tENSG00000224051.6\t5e-11\t+\t1327767\t1328065\t0\t1\t298,\t0\r\n",
      "chr1\t1328361\t1328511\tENSG00000224051.6\t4.8e-08\t+\t1328361\t1328511\t0\t1\t150,\t0\r\n",
      "chr1\t1328569\t1328838\tENSG00000224051.6\t1.6e-17\t+\t1328569\t1328838\t0\t1\t269,\t0\r\n",
      "chr1\t1400709\t1401571\tENSG00000224870.6\t0\t+\t1400709\t1401571\t0\t1\t862,\t0\r\n",
      "chr1\t1672764\t1672944\tENSG00000269737.2\t7.8e-08\t+\t1672764\t1672944\t0\t1\t180,\t0\r\n",
      "chr1\t2228844\t2228935\tENSG00000157933.9\t1.3e-05\t+\t2228844\t2228935\t0\t1\t91,\t0\r\n",
      "chr1\t2229443\t2232546\tENSG00000157933.9\t1e-220\t+\t2229443\t2232546\t0\t2\t292,68,\t0,3035\r\n",
      "chr1\t2303047\t2303378\tENSG00000157933.9\t2.2e-08\t+\t2303047\t2303378\t0\t2\t56,94,\t0,237\r\n",
      "chr1\t2306944\t2307364\tENSG00000157933.9\t0\t+\t2306944\t2307364\t0\t1\t420,\t0\r\n",
      "chr1\t2307483\t2308382\tENSG00000157933.9\t0\t+\t2307483\t2308382\t0\t1\t899,\t0\r\n",
      "chr1\t2403107\t2403497\tENSG00000157916.19\t9.999987484956e-319\t+\t2403107\t2403497\t0\t1\t390,\t0\r\n",
      "chr1\t2403586\t2403767\tENSG00000157916.19\t4e-19\t+\t2403586\t2403767\t0\t1\t181,\t0\r\n",
      "chr1\t2563530\t2565053\tENSG00000157873.17\t4e-85\t+\t2563530\t2565053\t0\t2\t299,1,\t0,1522\r\n"
     ]
    }
   ],
   "source": [
    "!head -n 20 exomepeak/ctrl/peak.bed"
   ]
  },
  {
   "cell_type": "markdown",
   "metadata": {},
   "source": [
    "### Metagene plots\n",
    "Here are the metagene plots for control samples (using `Bioconductor Guitar`). High methylations prior to 3'UTR confirm previous findings: [Comprehensive Analysis of mRNA Methylation Reveals Enrichment in 3′ UTRs and near Stop Codons](https://linkinghub.elsevier.com/retrieve/pii/S0092867412005363)\n",
    "\n",
    "<table>\n",
    "  <tr>\n",
    "    <td><img src=\"plots/plot_mrna_test.png\" style=\"width:600px\">\n",
    "  <tr>\n",
    "<table>\n",
    "<table>\n",
    "  <tr>\n",
    "    <td><img src=\"plots/plot_ncrna_test.png\" style=\"width:300px\">\n",
    "    <td><img src=\"plots/plot_tx_test.png\" style=\"width:300px\">\n",
    "  <tr>\n",
    "<table>"
   ]
  },
  {
   "cell_type": "markdown",
   "metadata": {},
   "source": [
    "### Motif analysis \n",
    "\n",
    "- [AG]GAC\n",
    "- [AGT][AG]AC[ACT]\n",
    "\n",
    "<img src=\"exomepeak/T_vs_U/skipdiscovery.1_FIRE/RNA/peaks_teiser.txt.summary.png\" style=\"width:900px\">"
   ]
  },
  {
   "cell_type": "markdown",
   "metadata": {},
   "source": [
    "# Differential methylation\n",
    "We are using control peaks as reference to count peaks in samples treated with drug (using `feature count`). Then, we are using `DESeq2` to analysis differential methylation (gene names here refer to the peaks). \n",
    "<table>\n",
    "  <tr>\n",
    "    <td><img src=\"plots/peak_Histograms.png\" style=\"width:400px\">\n",
    "    <td><img src=\"plots/peak_Volcanos.png\" style=\"width:400px\">\n",
    "  <tr>\n",
    "<table>\n"
   ]
  },
  {
   "cell_type": "markdown",
   "metadata": {},
   "source": [
    "# Enrichment analysis\n",
    "### iPAGE\n",
    "\n",
    "<table>\n",
    "  <tr>\n",
    "    <td><img src=\"plots/ipage.peak_m6A_vs_input_human_ensembl_msigdb_c1.png\" style=\"weight:100px\">\n",
    "msigdb_c1\n",
    "    <td><img src=\"plots/ipage.peak_m6A_vs_input_human_ensembl_msigdb_c2.png\" style=\"weight:100px\">\n",
    "msigdb_c2\n",
    "  <tr>\n",
    "<table>\n",
    "<table>\n",
    "  <tr>\n",
    "    <td><img src=\"plots/ipage.peak_m6A_vs_input_human_ensembl_msigdb_c4.png\" style=\"weight:100px\">\n",
    "msigdb_c4\n",
    "    <td><img src=\"plots/ipage.peak_m6A_vs_input_human_ensembl_msigdb_c5.png\" style=\"weight:100px\">\n",
    "msigdb_c5\n",
    "    <td><img src=\"plots/ipage.peak_m6A_vs_input_human_ensembl_msigdb_c6.png\" style=\"weight:100px\">\n",
    "msigdb_c6\n",
    "  <tr>\n",
    "<table>\n",
    "<table>\n",
    "  <tr>\n",
    "    <td><img src=\"plots/ipage.peak_m6A_vs_input_human_ensembl_msigdb_c7.png\" style=\"weight:100px\">\n",
    "msigdb_c7\n",
    "    <td><img src=\"plots/ipage.peak_m6A_vs_input_human_ensembl_msigdb_full.png\" style=\"weight:100px\">\n",
    "msigdb_full\n",
    "    <td><img src=\"plots/ipage.peak_m6A_vs_input_human_ensembl_msigdb_h.png\" style=\"weight:100px\">\n",
    "msigdb_h\n",
    "  <tr>\n",
    "<table>\n",
    "<table>\n",
    "  <tr>\n",
    "    <td><img src=\"plots/ipage.peak_m6A_vs_input_human_ensembl.png\" style=\"weight:100px\">\n",
    "human_ensembl\n",
    "    <td><img src=\"plots/ipage.peak_m6A_vs_input_human_ensembl_RBPs_all_gene_ids.png\" style=\"weight:100px\">\n",
    "RBPs_all_gene_ids\n",
    "  <tr>\n",
    "<table>\n",
    "<table>\n",
    "  <tr>\n",
    "    <td><img src=\"plots/ipage.peak_m6A_vs_input_human_ensembl_RBPs_coding_gene_ids_by_3UTR.png\" style=\"weight:100px\">\n",
    "RBPs_coding_gene_ids_by_3UTR\n",
    "    <td><img src=\"plots/ipage.peak_m6A_vs_input_human_ensembl_RBPs_coding_gene_ids_by_5UTR.png\" style=\"weight:100px\">\n",
    "RBPs_coding_gene_ids_by_5UTR\n",
    "    <td><img src=\"plots/ipage.peak_m6A_vs_input_human_ensembl_RBPs_coding_gene_ids_by_coding_exons.png\" style=\"weight:100px\">\n",
    "RBPs_coding_gene_ids_by_coding_exons\n",
    "  <tr>\n",
    "<table>"
   ]
  }
 ],
 "metadata": {
  "kernelspec": {
   "display_name": "Python 3",
   "language": "python",
   "name": "python3"
  },
  "language_info": {
   "codemirror_mode": {
    "name": "ipython",
    "version": 3
   },
   "file_extension": ".py",
   "mimetype": "text/x-python",
   "name": "python",
   "nbconvert_exporter": "python",
   "pygments_lexer": "ipython3",
   "version": "3.7.3"
  }
 },
 "nbformat": 4,
 "nbformat_minor": 2
}
