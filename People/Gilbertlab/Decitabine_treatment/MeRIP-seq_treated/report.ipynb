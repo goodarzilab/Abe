{
 "cells": [
  {
   "cell_type": "markdown",
   "metadata": {},
   "source": [
    "### Metagene plots\n",
    "Here are the metagene plots for control samples (using `Bioconductor Guitar`). High methylations prior to 3'UTR confirm previous findings: [Comprehensive Analysis of mRNA Methylation Reveals Enrichment in 3′ UTRs and near Stop Codons](https://linkinghub.elsevier.com/retrieve/pii/S0092867412005363)\n",
    "\n",
    "<table>\n",
    "  <tr>\n",
    "    <td><img src=\"plots/plot_mrna_test.png\" style=\"width:600px\">\n",
    "  <tr>\n",
    "<table>\n",
    "<table>\n",
    "  <tr>\n",
    "    <td><img src=\"plots/plot_ncrna_test.png\" style=\"width:300px\">\n",
    "    <td><img src=\"plots/plot_tx_test.png\" style=\"width:300px\">\n",
    "  <tr>\n",
    "<table>"
   ]
  },
  {
   "cell_type": "markdown",
   "metadata": {},
   "source": [
    "### Motif analysis \n",
    "\n",
    "- [AG]GAC\n",
    "- [AGT][AG]AC[ACT]\n",
    "\n",
    "<img src=\"exomepeak/T_vs_U/skipdiscovery.1_FIRE/RNA/peaks_teiser.txt.summary.png\" style=\"width:900px\">"
   ]
  },
  {
   "cell_type": "markdown",
   "metadata": {},
   "source": [
    "# Differential methylation\n",
    "We are using control peaks as reference to count peaks in samples treated with drug (using `feature count`). Then, we are using `DESeq2` to analysis differential methylation (gene names here refer to the peaks). \n",
    "<table>\n",
    "  <tr>\n",
    "    <td><img src=\"plots/peak_Histograms.png\" style=\"width:400px\">\n",
    "    <td><img src=\"plots/peak_Volcanos.png\" style=\"width:400px\">\n",
    "  <tr>\n",
    "<table>\n"
   ]
  },
  {
   "cell_type": "markdown",
   "metadata": {},
   "source": [
    "# Enrichment analysis\n",
    "\n",
    "### msigdb_c1\n",
    "<img src=\"plots/ipage.d_mtyl_T_vs_U_human_ensembl_msigdb_c1.png\" title=\"msigdb_c1\" style=\"width:600px\">\n",
    "\n",
    "### msigdb_c2\n",
    "<img src=\"plots/ipage.d_mtyl_T_vs_U_human_ensembl_msigdb_c2.png\" title=\"msigdb_c2\" style=\"width:600px\">\n",
    "\n",
    "### msigdb_c3\n",
    "<img src=\"plots/ipage.d_mtyl_T_vs_U_human_ensembl_msigdb_c3.png\" title=\"msigdb_c3\" style=\"width:600px\">\n",
    "\n",
    "### msigdb_c4\n",
    "<img src=\"plots/ipage.d_mtyl_T_vs_U_human_ensembl_msigdb_c4.png\" title=\"msigdb_c4\" style=\"width:600px\">\n",
    "\n",
    "### msigdb_c5\n",
    "<img src=\"plots/ipage.d_mtyl_T_vs_U_human_ensembl_msigdb_c5.png\" title=\"msigdb_c5\" style=\"width:600px\">\n",
    "\n",
    "### msigdb_c6\n",
    "<img src=\"plots/ipage.d_mtyl_T_vs_U_human_ensembl_msigdb_c6.png\" title=\"msigdb_c6\" style=\"width:600px\">\n",
    "\n",
    "### msigdb_c7\n",
    "<img src=\"plots/ipage.d_mtyl_T_vs_U_human_ensembl_msigdb_c7.png\" title=\"msigdb_c7\" style=\"width:600px\">"
   ]
  },
  {
   "cell_type": "markdown",
   "metadata": {},
   "source": [
    "\n",
    "### msigdb_full\n",
    "<img src=\"plots/ipage.d_mtyl_T_vs_U_human_ensembl_msigdb_full.png\" title=\"msigdb_full\" style=\"width:600px\">\n",
    "\n",
    "### human_ensembl\n",
    "<img src=\"plots/ipage.d_mtyl_T_vs_U_human_ensembl.png\" title=\"plots/ipage.d_mtyl_T_vs_U_human_ensembl\" style=\"width:600px\">\n",
    "\n",
    "### RBPs_coding_gene_ids_by_3UTR\n",
    "<img src=\"plots/ipage.d_mtyl_T_vs_U_human_ensembl_RBPs_coding_gene_ids_by_3UTR.png\" title=\"RBPs_coding_gene_ids_by_3UTR\" style=\"width:600px\">\n",
    "\n",
    "### RBPs_coding_gene_ids_by_5UTR\n",
    "<img src=\"plots/ipage.d_mtyl_T_vs_U_human_ensembl_RBPs_coding_gene_ids_by_5UTR.png\" title=\"RBPs_coding_gene_ids_by_5UTR\" style=\"width:600px\">\n",
    "\n",
    "### RBPs_coding_gene_ids_by_coding_exons\n",
    "<img src=\"plots/ipage.d_mtyl_T_vs_U_human_ensembl_RBPs_coding_gene_ids_by_coding_exons.png\" title=\"RBPs_coding_gene_ids_by_coding_exons\" style=\"width:600px\">\n",
    "\n",
    "### RBPs_coding_gene_ids\n",
    "<img src=\"plots/ipage.d_mtyl_T_vs_U_human_ensembl_RBPs_coding_gene_ids.png\" title=\"RBPs_coding_gene_ids\" style=\"width:600px\">"
   ]
  }
 ],
 "metadata": {
  "kernelspec": {
   "display_name": "Python 3",
   "language": "python",
   "name": "python3"
  },
  "language_info": {
   "codemirror_mode": {
    "name": "ipython",
    "version": 3
   },
   "file_extension": ".py",
   "mimetype": "text/x-python",
   "name": "python",
   "nbconvert_exporter": "python",
   "pygments_lexer": "ipython3",
   "version": "3.7.3"
  }
 },
 "nbformat": 4,
 "nbformat_minor": 2
}
