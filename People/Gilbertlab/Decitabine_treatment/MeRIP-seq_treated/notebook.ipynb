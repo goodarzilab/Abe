{
 "cells": [
  {
   "cell_type": "code",
   "execution_count": 20,
   "metadata": {},
   "outputs": [
    {
     "name": "stdout",
     "output_type": "stream",
     "text": [
      "The rpy2.ipython extension is already loaded. To reload it, use:\n",
      "  %reload_ext rpy2.ipython\n"
     ]
    }
   ],
   "source": [
    "%load_ext rpy2.ipython"
   ]
  },
  {
   "cell_type": "code",
   "execution_count": 24,
   "metadata": {},
   "outputs": [],
   "source": [
    "import os"
   ]
  },
  {
   "cell_type": "code",
   "execution_count": 81,
   "metadata": {},
   "outputs": [],
   "source": [
    "def mk_dir(p):\n",
    "    if not os.path.exists(p):\n",
    "        os.mkdir(p)\n",
    "\n",
    "mk_dir('./qc_fastq')\n",
    "mk_dir('./deseq')\n",
    "mk_dir('./plots')"
   ]
  },
  {
   "cell_type": "code",
   "execution_count": 50,
   "metadata": {},
   "outputs": [
    {
     "name": "stdout",
     "output_type": "stream",
     "text": [
      "[1] \"Input_T1_S43_L006_R1_001.fastq.gz\" \"Input_T2_S44_L006_R1_001.fastq.gz\"\n",
      "[3] \"Input_U1_S41_L006_R1_001.fastq.gz\" \"Input_U2_S42_L006_R1_001.fastq.gz\"\n",
      "[5] \"IP_T1_S47_L006_R1_001.fastq.gz\"    \"IP_T2_S48_L006_R1_001.fastq.gz\"   \n",
      "[7] \"IP_U1_S45_L006_R1_001.fastq.gz\"    \"IP_U2_S46_L006_R1_001.fastq.gz\"   \n"
     ]
    }
   ],
   "source": [
    "%%R\n",
    "list.files('fastq')"
   ]
  },
  {
   "cell_type": "markdown",
   "metadata": {},
   "source": [
    "I've started from bam files previously mapped by Hani or Alex. All `bam`  files renamed in this format: \n",
    "> `<treatment>.<input/m6A>.bam`"
   ]
  },
  {
   "cell_type": "code",
   "execution_count": 14,
   "metadata": {},
   "outputs": [],
   "source": [
    "%%bash\n",
    "cd bam/\n",
    "for f in Input_*; do \n",
    "    o=${f/Input_/};o=${o/_S4[1-4].bam/.input.bam}; mv $f $o; \n",
    "done\n",
    "for f in IP_*; do \n",
    "    o=${f/IP_/};o=${o/_S4[5-8].bam/.m6A.bam}; mv $f $o; \n",
    "done\n",
    "cd ../"
   ]
  },
  {
   "cell_type": "code",
   "execution_count": 15,
   "metadata": {},
   "outputs": [
    {
     "name": "stdout",
     "output_type": "stream",
     "text": [
      "[1] \"T1.input.bam\" \"T1.m6A.bam\"   \"T2.input.bam\" \"T2.m6A.bam\"   \"U1.input.bam\"\n",
      "[6] \"U1.m6A.bam\"   \"U2.input.bam\" \"U2.m6A.bam\"  \n"
     ]
    }
   ],
   "source": [
    "%%R\n",
    "list.files('bam')"
   ]
  },
  {
   "cell_type": "markdown",
   "metadata": {},
   "source": [
    "# Peakcalling \n",
    "\n",
    "## Control"
   ]
  },
  {
   "cell_type": "code",
   "execution_count": null,
   "metadata": {
    "scrolled": true
   },
   "outputs": [
    {
     "name": "stderr",
     "output_type": "stream",
     "text": [
      "R[write to console]: Import genomic features from the file as a GRanges object ... \n",
      "R[write to console]: OK\n",
      "\n",
      "R[write to console]: Prepare the 'metadata' data frame ... \n",
      "R[write to console]: OK\n",
      "\n",
      "R[write to console]: Make the TxDb object ... \n",
      "R[write to console]: OK\n",
      "\n"
     ]
    },
    {
     "name": "stdout",
     "output_type": "stream",
     "text": [
      "TxDb object:\n",
      "# Db type: TxDb\n",
      "# Supporting package: GenomicFeatures\n",
      "# Data source: /rumi/shams/genomes/hg38/gencode.v28.annotation.gtf\n",
      "# Organism: Homo sapiens\n",
      "# Taxonomy ID: 9606\n",
      "# miRBase build ID: NA\n",
      "# Genome: NA\n",
      "# transcript_nrow: 203835\n",
      "# exon_nrow: 693612\n",
      "# cds_nrow: 273085\n",
      "# Db created by: GenomicFeatures package from Bioconductor\n",
      "# Creation time: 2020-04-08 01:53:01 +0000 (Wed, 08 Apr 2020)\n",
      "# GenomicFeatures version at creation time: 1.32.3\n",
      "# RSQLite version at creation time: 2.1.5\n",
      "# DBSCHEMAVERSION: 1.2\n"
     ]
    },
    {
     "name": "stderr",
     "output_type": "stream",
     "text": [
      "R[write to console]: 'select()' returned 1:many mapping between keys and columns\n",
      "\n"
     ]
    },
    {
     "name": "stdout",
     "output_type": "stream",
     "text": [
      "[1] \"Divide transcriptome into chr-gene-batch sections ...\"\n",
      "[1] \"Get Reads Count ...\"\n",
      "[1] \"This step may take a few hours ...\"\n",
      "[1] \"0.286 %\"\n",
      "[1] \"0.571 %\"\n",
      "[1] \"0.857 %\"\n",
      "[1] \"1.14 %\"\n",
      "[1] \"1.43 %\"\n",
      "[1] \"1.71 %\"\n",
      "[1] \"2 %\"\n",
      "[1] \"2.29 %\"\n",
      "[1] \"2.57 %\"\n",
      "[1] \"2.86 %\"\n",
      "[1] \"3.14 %\"\n",
      "[1] \"3.43 %\"\n",
      "[1] \"3.71 %\"\n",
      "[1] \"4 %\"\n",
      "[1] \"4.29 %\"\n",
      "[1] \"4.57 %\"\n",
      "[1] \"4.86 %\"\n",
      "[1] \"5.14 %\"\n",
      "[1] \"5.43 %\"\n",
      "[1] \"5.71 %\"\n",
      "[1] \"6 %\"\n",
      "[1] \"6.29 %\"\n",
      "[1] \"6.57 %\"\n",
      "[1] \"6.86 %\"\n",
      "[1] \"7.14 %\"\n",
      "[1] \"7.43 %\"\n",
      "[1] \"7.71 %\"\n",
      "[1] \"8 %\"\n",
      "[1] \"8.29 %\"\n",
      "[1] \"8.57 %\"\n",
      "[1] \"8.86 %\"\n",
      "[1] \"9.14 %\"\n",
      "[1] \"9.43 %\"\n",
      "[1] \"9.71 %\"\n",
      "[1] \"10 %\"\n",
      "[1] \"10.3 %\"\n",
      "[1] \"10.6 %\"\n",
      "[1] \"10.9 %\"\n",
      "[1] \"11.1 %\"\n",
      "[1] \"11.4 %\"\n",
      "[1] \"11.7 %\"\n",
      "[1] \"12 %\"\n",
      "[1] \"12.3 %\"\n",
      "[1] \"12.6 %\"\n",
      "[1] \"12.9 %\"\n",
      "[1] \"13.1 %\"\n",
      "[1] \"13.4 %\"\n",
      "[1] \"13.7 %\"\n",
      "[1] \"14 %\"\n",
      "[1] \"14.3 %\"\n",
      "[1] \"14.6 %\"\n",
      "[1] \"14.9 %\"\n",
      "[1] \"15.1 %\"\n",
      "[1] \"15.4 %\"\n",
      "[1] \"15.7 %\"\n",
      "[1] \"16 %\"\n",
      "[1] \"16.3 %\"\n",
      "[1] \"16.6 %\"\n",
      "[1] \"16.9 %\"\n",
      "[1] \"17.1 %\"\n",
      "[1] \"17.4 %\"\n",
      "[1] \"17.7 %\"\n",
      "[1] \"18 %\"\n",
      "[1] \"18.3 %\"\n",
      "[1] \"18.6 %\"\n",
      "[1] \"18.9 %\"\n",
      "[1] \"19.1 %\"\n",
      "[1] \"19.4 %\"\n",
      "[1] \"19.7 %\"\n",
      "[1] \"20 %\"\n",
      "[1] \"20.3 %\"\n",
      "[1] \"20.6 %\"\n",
      "[1] \"20.9 %\"\n",
      "[1] \"21.1 %\"\n",
      "[1] \"21.4 %\"\n",
      "[1] \"21.7 %\"\n",
      "[1] \"22 %\"\n",
      "[1] \"22.3 %\"\n",
      "[1] \"22.6 %\"\n",
      "[1] \"22.9 %\"\n",
      "[1] \"23.1 %\"\n",
      "[1] \"23.4 %\"\n",
      "[1] \"23.7 %\"\n",
      "[1] \"24 %\"\n",
      "[1] \"24.3 %\"\n",
      "[1] \"24.6 %\"\n",
      "[1] \"24.9 %\"\n",
      "[1] \"25.1 %\"\n",
      "[1] \"25.4 %\"\n",
      "[1] \"25.7 %\"\n",
      "[1] \"26 %\"\n",
      "[1] \"26.3 %\"\n",
      "[1] \"26.6 %\"\n",
      "[1] \"26.9 %\"\n",
      "[1] \"27.1 %\"\n",
      "[1] \"27.4 %\"\n",
      "[1] \"27.7 %\"\n",
      "[1] \"28 %\"\n",
      "[1] \"28.3 %\"\n",
      "[1] \"28.6 %\"\n",
      "[1] \"28.9 %\"\n",
      "[1] \"29.1 %\"\n",
      "[1] \"29.4 %\"\n",
      "[1] \"29.7 %\"\n"
     ]
    }
   ],
   "source": [
    "%%R \n",
    "library(exomePeak)\n",
    "txdb <- makeTxDbFromGFF('/rumi/shams/genomes/hg38/gencode.v28.annotation.gtf',organism='Homo sapiens')\n",
    "setwd(\"bam/\")\n",
    "print (txdb)\n",
    "res <- exomepeak(\n",
    "    TXDB=txdb,\n",
    "    IP_BAM=c(\"U1.m6A.bam\",\"U2.m6A.bam\"),\n",
    "    INPUT_BAM=c(\"U1.input.bam\",\"U2.input.bam\"),\n",
    "    OUTPUT_DIR='../exomepeak',\n",
    "    EXPERIMENT_NAME='ctrl'\n",
    ")\n",
    "saveRDS(res, paste('../exomepeak/ctrl.rds', sep='/'))\n",
    "setwd(\"../\")"
   ]
  },
  {
   "cell_type": "code",
   "execution_count": 7,
   "metadata": {},
   "outputs": [
    {
     "name": "stdout",
     "output_type": "stream",
     "text": [
      "# chr\tchromStart\tchromEnd\tname\tscore\tstrand\tthickStart\tthickEnd\titemRgb\tblockCount\tblockSizes\tblockStarts\r\n",
      "chr1\t853842\t854022\tENSG00000228794.8\t7.4e-09\t+\t853842\t854022\t0\t1\t180,\t0\r\n",
      "chr1\t1055278\t1055369\tENSG00000188157.14\t0.00032\t+\t1055278\t1055369\t0\t1\t91,\t0\r\n",
      "chr1\t1055518\t1055669\tENSG00000188157.14\t8.9e-06\t+\t1055518\t1055669\t0\t1\t151,\t0\r\n",
      "chr1\t1232951\t1233310\tENSG00000176022.4\t3.2e-33\t+\t1232951\t1233310\t0\t1\t359,\t0\r\n",
      "chr1\t1233458\t1234235\tENSG00000176022.4\t9.99999999999999e-288\t+\t1233458\t1234235\t0\t1\t777,\t0\r\n",
      "chr1\t1234622\t1235011\tENSG00000176022.4\t0\t+\t1234622\t1235011\t0\t1\t389,\t0\r\n",
      "chr1\t1327767\t1328065\tENSG00000224051.6\t5e-11\t+\t1327767\t1328065\t0\t1\t298,\t0\r\n",
      "chr1\t1328361\t1328511\tENSG00000224051.6\t4.8e-08\t+\t1328361\t1328511\t0\t1\t150,\t0\r\n",
      "chr1\t1328569\t1328838\tENSG00000224051.6\t1.6e-17\t+\t1328569\t1328838\t0\t1\t269,\t0\r\n",
      "chr1\t1400709\t1401571\tENSG00000224870.6\t0\t+\t1400709\t1401571\t0\t1\t862,\t0\r\n",
      "chr1\t1672764\t1672944\tENSG00000269737.2\t7.8e-08\t+\t1672764\t1672944\t0\t1\t180,\t0\r\n",
      "chr1\t2228844\t2228935\tENSG00000157933.9\t1.3e-05\t+\t2228844\t2228935\t0\t1\t91,\t0\r\n",
      "chr1\t2229443\t2232546\tENSG00000157933.9\t1e-220\t+\t2229443\t2232546\t0\t2\t292,68,\t0,3035\r\n",
      "chr1\t2303047\t2303378\tENSG00000157933.9\t2.2e-08\t+\t2303047\t2303378\t0\t2\t56,94,\t0,237\r\n",
      "chr1\t2306944\t2307364\tENSG00000157933.9\t0\t+\t2306944\t2307364\t0\t1\t420,\t0\r\n",
      "chr1\t2307483\t2308382\tENSG00000157933.9\t0\t+\t2307483\t2308382\t0\t1\t899,\t0\r\n",
      "chr1\t2403107\t2403497\tENSG00000157916.19\t9.999987484956e-319\t+\t2403107\t2403497\t0\t1\t390,\t0\r\n",
      "chr1\t2403586\t2403767\tENSG00000157916.19\t4e-19\t+\t2403586\t2403767\t0\t1\t181,\t0\r\n",
      "chr1\t2563530\t2565053\tENSG00000157873.17\t4e-85\t+\t2563530\t2565053\t0\t2\t299,1,\t0,1522\r\n"
     ]
    }
   ],
   "source": [
    "!head -n 20 exomepeak/ctrl/peak.bed"
   ]
  },
  {
   "cell_type": "markdown",
   "metadata": {},
   "source": [
    "### Plot _Guitar_ \n",
    "Now, let's draw metagene plots for control samples:\n",
    "(using seprate env: `Guitar`)"
   ]
  },
  {
   "cell_type": "code",
   "execution_count": 2,
   "metadata": {},
   "outputs": [
    {
     "name": "stderr",
     "output_type": "stream",
     "text": [
      "/rumi/shams/abe/anaconda3/envs/guitar/lib/python3.8/site-packages/rpy2/robjects/pandas2ri.py:14: FutureWarning: pandas.core.index is deprecated and will be removed in a future version.  The public classes are available in the top-level namespace.\n",
      "  from pandas.core.index import Index as PandasIndex\n"
     ]
    }
   ],
   "source": [
    "%reload_ext rpy2.ipython"
   ]
  },
  {
   "cell_type": "code",
   "execution_count": 4,
   "metadata": {},
   "outputs": [],
   "source": [
    "%%R\n",
    "library(Guitar)"
   ]
  },
  {
   "cell_type": "code",
   "execution_count": 5,
   "metadata": {
    "scrolled": true
   },
   "outputs": [
    {
     "name": "stderr",
     "output_type": "stream",
     "text": [
      "R[write to console]: Import genomic features from the file as a GRanges object ... \n",
      "R[write to console]: OK\n",
      "\n",
      "R[write to console]: Prepare the 'metadata' data frame ... \n",
      "R[write to console]: OK\n",
      "\n",
      "R[write to console]: Make the TxDb object ... \n",
      "R[write to console]: OK\n",
      "\n"
     ]
    }
   ],
   "source": [
    "%%R\n",
    "txdb <- makeTxDbFromGFF('/rumi/shams/genomes/hg38/gencode.v28.annotation.gtf',organism='Homo sapiens')"
   ]
  },
  {
   "cell_type": "code",
   "execution_count": 6,
   "metadata": {
    "scrolled": false
   },
   "outputs": [
    {
     "name": "stdout",
     "output_type": "stream",
     "text": [
      "[1] \"20200409182002\"\n",
      "[1] \"There are 203835 transcripts of 58381 genes in the genome.\"\n",
      "[1] \"total 203835 transcripts extracted ...\"\n",
      "[1] \"total 94682 transcripts left after ambiguity filter ...\"\n",
      "[1] \"total 94682 transcripts left after check chromosome validity ...\"\n",
      "[1] \"total 11625 mRNAs left after component length filter ...\"\n",
      "[1] \"total 56222 ncRNAs left after ncRNA length filter ...\"\n",
      "[1] \"generate components for all tx\"\n",
      "[1] \"generate components for mRNA\"\n",
      "[1] \"generate components for lncRNA\"\n",
      "[1] \"generate chiped transcriptome\"\n",
      "[1] \"generate coverage checking ranges for tx\"\n",
      "[1] \"generate coverage checking ranges for mrna\"\n",
      "[1] \"generate coverage checking ranges for ncrna\"\n",
      "[1] \"20200409182409\"\n",
      "[1] \"import BED file exomepeak/ctrl/peak.bed\"\n",
      "[1] \"sample 10 points for Group1\"\n",
      "[1] \"start figure plotting for tx ...\"\n",
      "[1] \"start figure plotting for mrna ...\"\n",
      "[1] \"start figure plotting for ncrna ...\"\n"
     ]
    }
   ],
   "source": [
    "%%R\n",
    "GuitarPlot(txTxdb=txdb,stBedFiles=\"exomepeak/ctrl/peak.bed\",miscOutFilePrefix='plot')"
   ]
  },
  {
   "cell_type": "code",
   "execution_count": 7,
   "metadata": {},
   "outputs": [],
   "source": [
    "!magick -density 300 plot_mrna_test.pdf -flatten -quality 90 plot_mrna_test.png\n",
    "!magick -density 300 plot_ncrna_test.pdf -flatten -quality 90 plot_ncrna_test.png\n",
    "!magick -density 300 plot_tx_test.pdf -flatten -quality 90 plot_tx_test.png"
   ]
  },
  {
   "cell_type": "code",
   "execution_count": 225,
   "metadata": {},
   "outputs": [
    {
     "name": "stdout",
     "output_type": "stream",
     "text": [
      "renamed 'plot_mrna_test.pdf' -> 'plots/plot_mrna_test.pdf'\r\n",
      "renamed 'plot_mrna_test.png' -> 'plots/plot_mrna_test.png'\r\n",
      "renamed 'plot_ncrna_test.pdf' -> 'plots/plot_ncrna_test.pdf'\r\n",
      "renamed 'plot_ncrna_test.png' -> 'plots/plot_ncrna_test.png'\r\n",
      "renamed 'plot_tx_test.pdf' -> 'plots/plot_tx_test.pdf'\r\n",
      "renamed 'plot_tx_test.png' -> 'plots/plot_tx_test.png'\r\n"
     ]
    }
   ],
   "source": [
    "mv -v *p[nd][gf] plots/"
   ]
  },
  {
   "cell_type": "markdown",
   "metadata": {},
   "source": [
    "<table>\n",
    "  <tr>\n",
    "    <td><img src=\"plots/plot_mrna_test.png\" style=\"width:600px\">\n",
    "  <tr>\n",
    "<table>\n",
    "<table>\n",
    "  <tr>\n",
    "    <td><img src=\"plots/plot_ncrna_test.png\" style=\"width:300px\">\n",
    "    <td><img src=\"plots/plot_tx_test.png\" style=\"width:300px\">\n",
    "  <tr>\n",
    "<table>"
   ]
  },
  {
   "cell_type": "markdown",
   "metadata": {},
   "source": [
    "### Motif analysis "
   ]
  },
  {
   "cell_type": "markdown",
   "metadata": {},
   "source": [
    "using `cgat` env to use [CGAT - Computational Genomics Analysis Tools](https://www.cgat.org/downloads/public/cgat/documentation/) and use "
   ]
  },
  {
   "cell_type": "code",
   "execution_count": 26,
   "metadata": {},
   "outputs": [],
   "source": [
    "%%bash \n",
    "cd ~/People/Gilbertlab/Decitabine_treatment/MeRIP-seq_treated/exomepeak/ctrl/\n",
    "# sort | merge by name \n",
    "cat peak.bed | sort -k1,1 -k2,2n peak.bed | cgat bed2bed --method=merge --merge-by-name |  awk '! /#/' > peak.edit.bed\n",
    "# get fasta for the cordinate sequnces (-split removes introns)\n",
    "bedtools getfasta -name -s -fi /rumi/shams/genomes/hg38/hg38.fa -bed peak.edit.bed -split -fo peak.fa\n",
    "# prepare fasta file for FIRE\n",
    "perl /flash/hani/bin/Tools/prep_seqs_for_teiser_run.pl peak.fa peaks"
   ]
  },
  {
   "cell_type": "code",
   "execution_count": 36,
   "metadata": {},
   "outputs": [],
   "source": [
    "%%bash \n",
    "cd ~/People/Gilbertlab/Decitabine_treatment/MeRIP-seq_treated/exomepeak/ctrl/\n",
    "# run FIRE --doskipdiscovery=0\n",
    "perl $FIREDIR/fire.pl --expfile=peaks_teiser.txt --exptype=discrete --fastafile_rna=peaks_teiser.fa --nodups=1 --dodna=0 --dodnarna=0 --species=human --oribiasonly=0\n",
    "mv peaks_teiser.txt_FIRE/ skipdiscovery.0_FIRE"
   ]
  },
  {
   "cell_type": "markdown",
   "metadata": {},
   "source": [
    "To run `FIRE` non-discovery mode we need to list in a file like `motifs_of_interest.txt` "
   ]
  },
  {
   "cell_type": "code",
   "execution_count": 35,
   "metadata": {},
   "outputs": [
    {
     "name": "stdout",
     "output_type": "stream",
     "text": [
      "Tue Apr  7 22:16:09 UTC 2020\n",
      "RNA, Processing peaks_teiser.txt_FIRE/RNA/peaks_teiser.txt\n",
      "RNA, Step 2: skip seed optimization, use -motiffile_rna option instead.\n",
      "RNA, Step 3: evaluation of motif significances.\n",
      "Processing motif [AG]GAC.\n",
      "MI=0.00287461\n",
      "Shuffle rank=0\n",
      "Z-score=57.222\n",
      "Sigificance category= OK-NO-SEED\n",
      "Robustness (jn_f=3)=10/10\n",
      "\n",
      "Processing motif [AGT][AG]AC[ACT].\n",
      "MI=0.00103316\n",
      "Shuffle rank=0\n",
      "Z-score=19.393\n",
      "Sigificance category= OK-NO-SEED\n",
      "Robustness (jn_f=3)=9/10\n",
      "\n",
      "RNA, Step 3.5: creating binary expression profiles.\n",
      "RNA, Step 4: discovery of distance constraints.\n",
      "Read 2 motifs.\n",
      "Read 20328 (genes) x 2 (conditions) matrix.\n",
      "Read 20328 (genes) x 1 (conditions) matrix.\n",
      "Reading sequences and building motif profiles ...Done.\n",
      "Average sequence length is 426.\n",
      "Quantized E vector into 2 bins\n",
      "Motif [AG]GAC, present in 17970 genes.\n",
      "       Average distance: MI=0.0037, rank=0/10000, Z=64.9084, mbins=2\n",
      "  Orientation bias {5'): MI=0.0029, rank=0/10000, Z=57.2122\n",
      "  Orientation bias (3'): MI=0.0000, rank=8526/10000, Z=-0.6713\n",
      "       Copy number (1+): 17970 genes, MI=0.0029, rank=0/10000, Z=57.8862\n",
      "       Copy number (2+): 14811 genes, MI=0.0028, rank=0/10000, Z=54.8047\n",
      "       Copy number (3+): 11616 genes, MI=0.0026, rank=0/10000, Z=50.7668\n",
      "       Copy number (4+): 9000 genes, MI=0.0018, rank=0/10000, Z=34.1610\n",
      "       Copy number (5+): 6873 genes, MI=0.0012, rank=0/10000, Z=22.7328\n",
      "       Copy number (6+): 5293 genes, MI=0.0008, rank=0/10000, Z=16.0874\n",
      "       Copy number (7+): 4027 genes, MI=0.0005, rank=5/10000, Z=8.8324\n",
      "       Copy number (8+): 3046 genes, MI=0.0002, rank=259/10000, Z=2.9094\n",
      "       Copy number (9+): 2324 genes, MI=0.0001, rank=664/10000, Z=1.7934\n",
      "       Copy number (10+): 1783 genes, MI=0.0000, rank=8073/10000, Z=-0.6626\n",
      "\n",
      "Quantized E vector into 2 bins\n",
      "Motif [AGT][AG]AC[ACT], present in 19816 genes.\n",
      "       Average distance: MI=0.0011, rank=0/10000, Z=19.3071, mbins=2\n",
      "  Orientation bias {5'): MI=0.0010, rank=0/10000, Z=19.9326\n",
      "  Orientation bias (3'): MI=0.0006, rank=1/10000, Z=10.8323\n",
      "       Copy number (1+): 19816 genes, MI=0.0010, rank=0/10000, Z=19.8805\n",
      "       Copy number (2+): 18855 genes, MI=0.0011, rank=0/10000, Z=21.2587\n",
      "       Copy number (3+): 17474 genes, MI=0.0013, rank=0/10000, Z=24.6523\n",
      "       Copy number (4+): 15943 genes, MI=0.0008, rank=0/10000, Z=15.9567\n",
      "       Copy number (5+): 14339 genes, MI=0.0003, rank=31/10000, Z=5.6152\n",
      "       Copy number (6+): 12709 genes, MI=0.0003, rank=14/10000, Z=6.3201\n",
      "       Copy number (7+): 11271 genes, MI=0.0002, rank=244/10000, Z=2.8455\n",
      "       Copy number (8+): 9995 genes, MI=0.0001, rank=938/10000, Z=1.3412\n",
      "       Copy number (9+): 8847 genes, MI=0.0001, rank=1254/10000, Z=0.9624\n",
      "       Copy number (10+): 7783 genes, MI=0.0000, rank=2699/10000, Z=0.1805\n",
      "\n",
      "RNA, Step 5.5: conservation.\n",
      "Setting -rna to 1.\n",
      "[AG]GAC\t98.12\n",
      "[AGT][AG]AC[ACT]\t21.42\n",
      "RNA, Step 5: summarize information.\n",
      "Reading RNA motifs mi_dist output ...Done.\n",
      "Parsing RNA motif file ... Done.\n",
      "Reading mi_signif output file for RNA motifs ...!!!! 851816!!!! 619296Done.\n",
      "Got 2 motifs\n",
      "Writing good columns to peaks_teiser.txt_FIRE/RNA/peaks_teiser.txt.signifcolumns ...Done.\n",
      "Outputing summary ... Done.\n",
      "HI!HELLO!peaks_teiser.txt_FIRE/RNA/peaks_teiser.txt.summary.binary created.\n",
      "RNA, Step 5.3: generate profiles for motifs in summary file.\n",
      "Setting -rna to 1.\n",
      "Generating profile for [AG]GAC ... Done.\n",
      "Generating profile for [AGT][AG]AC[ACT] ... Done.\n",
      "RNA, Step 5.3 bis: Generate profiles for /flash/hani/bin/FIRE-1.1/FIRE_DATA/HUMAN/CONSERVATION/human_chicken_3_0_300_chicken_orthologs.fa.\n",
      "Setting -rna to 1.\n",
      "Generating profile for [AG]GAC ... Done.\n",
      "Generating profile for [AGT][AG]AC[ACT] ... Done.\n",
      "RNA, Determining target gene sets.\n",
      "RNA, Drawing position histograms.\n",
      "RNA, Step 6: cluster motifs.\n",
      "Using positive correlation.\n",
      "Doing all stats.\n",
      "Summary file has 0 DNA motifs and 2 RNA motifs.\n",
      "Read in RNA sequences and build motif profiles ...Done.\n",
      "Outputing MI matrix ... Done.\n",
      "[AG]GAC\t0\n",
      "[AG]GAC\t[AGT][AG]AC[ACT]\t0.7815\t0\t15470.3103\t0.8752\t1854\t0.7416\t1854\t0.7416\n",
      "[AGT][AG]AC[ACT]\t0\n",
      "Finish calculated rank, z-scores for remaining entries ... [AG]GAC\t[AG]GAC\t0.9934\t0\t19590.5947\t1.0000\t0\t16.2939\t0\t16.2939\n",
      "[AGT][AG]AC[ACT]\t[AGT][AG]AC[ACT]\t0.9997\t0\t19904.0798\t1.0000\t3\t6.7154\t3\t6.7154\n",
      "Done.\n",
      "RNA, Step 5.6: generate genome-wide GO enrichments for motifs in summary file.\n",
      "RNA, draw motif maps for co-localizing pairs\n",
      "Draw motif map for [AG]GAC .. Done.\n",
      "Draw motif map for [AGT][AG]AC[ACT] .. Done.\n",
      "Draw motif map for [AGT][AG]AC[ACT],[AGT][AG]AC[ACT] ..  (peaks_teiser.txt_FIRE/RNA/peaks_teiser.txt.mimatrix_OUT/[AGT][AG]AC[ACT]_[AGT][AG]AC[ACT].eps) Done.\n",
      "Draw motif map for [AG]GAC,[AG]GAC ..  (peaks_teiser.txt_FIRE/RNA/peaks_teiser.txt.mimatrix_OUT/[AG]GAC_[AG]GAC.eps) Done.\n",
      "RNA, Step 6.8: identifying motifs that match micrornas.\n",
      "RNA, Step 7: draw matrix figure.\n",
      "Now doing the graphical display.\n",
      "xsize = 1200, ysize = 400, xbase = 35, ybase = 250\n",
      "Processing [AG]GAC ... Outputing motif 0.eps ... Done.\n",
      "Processing [AGT][AG]AC[ACT] ... Outputing motif 1.eps ... Done.\n",
      "Plotting significance boxes.\n",
      "Creating peaks_teiser.txt_FIRE/RNA/peaks_teiser.txt.summary.eps ...Done.\n",
      "Creating PDF peaks_teiser.txt_FIRE/RNA/peaks_teiser.txt.summary.pdf ... Done.\n",
      "Now doing the graphical display.\n",
      "Processing [AG]GAC ... Outputing motif 0.png ... \n",
      "Processing [AGT][AG]AC[ACT] ... Outputing motif 1.png ... \n",
      "RNA, Step 7b: draw density figure.\n",
      "Now doing the graphical display.\n",
      "xsize = 1200, ysize = 400, xbase = 35, ybase = 250\n",
      "Processing [AG]GAC ... Outputing motif 0.eps ... Done.\n",
      "Processing [AGT][AG]AC[ACT] ... Outputing motif 1.eps ... Done.\n",
      "Plotting significance boxes.\n",
      "Creating peaks_teiser.txt_FIRE/RNA/peaks_teiser.txt.densities.eps ...Done.\n",
      "Creating PDF peaks_teiser.txt_FIRE/RNA/peaks_teiser.txt.densities.pdf ... Done.\n",
      "Now doing the graphical display.\n",
      "Processing [AG]GAC ... Outputing motif 0.png ... \n",
      "Processing [AGT][AG]AC[ACT] ... Outputing motif 1.png ... \n",
      "Parsing distance report file ...  Done.\n",
      "Processing matrix 2 x 2.\n",
      "Processing matrix 2 x 2.\n",
      "Read in summary file ... Done.\n",
      "Now doing the graphical display.\n",
      "xsize = 230, ysize = 310, xbase = 35, ybase = 115\n",
      "[AG]GAC\t0\n",
      "[AGT][AG]AC[ACT]\t1\n",
      "Creating peaks_teiser.txt_FIRE/RNA/peaks_teiser.txt.fullmimatrix.eps ...Done.\n",
      "Creating PDF peaks_teiser.txt_FIRE/RNA/peaks_teiser.txt.fullmimatrix.pdf ... Done.\n",
      "Read in summary file ... Done.\n",
      "Now doing the graphical display.\n",
      "xsize = 250, ysize = 305, xbase = 75, ybase = 130\n",
      "peaks_teiser.txt_FIRE/RNA/peaks_teiser.txt.fullmimatrix.html[AG]GAC\t0\n",
      "[AGT][AG]AC[ACT]\t1\n",
      "RNA, Step 10: motif report.\n",
      "Tue Apr  7 22:21:16 UTC 2020\n",
      "renamed 'peaks_teiser.txt_FIRE/' -> 'skipdiscovery.1_FIRE'\n"
     ]
    },
    {
     "name": "stderr",
     "output_type": "stream",
     "text": [
      "corrupted size vs. prev_size\n",
      "Aborted (core dumped)\n",
      "corrupted size vs. prev_size\n",
      "Aborted (core dumped)\n",
      "corrupted size vs. prev_size\n",
      "Aborted (core dumped)\n",
      "Segmentation fault (core dumped)\n",
      "Can't use 'defined(@array)' (Maybe you should just omit the defined()?) at /flash/hani/bin/FIRE-1.1/SCRIPTS/draw_position_histogram.pl line 134.\n",
      "Can't locate Hypergeom.pm in @INC (you may need to install the Hypergeom module) (@INC contains: /nvme/bins/FIRE-1.1/SCRIPTS/../modules/lib/perl5/site_perl/5.12.4/darwin-thread-multi-2level/nvme/bins/FIRE-1.1/SCRIPTS/../modules/lib/perl5/site_perl/5.10.0/darwin-thread-multi-2level/Hypergeom.pm /nvme/bins/FIRE-1.1/SCRIPTS/../modules/lib/perl5/site_perl/5.18.2/darwin-thread-multi-2level/Hypergeom.pm /nvme/bins/FIRE-1.1/SCRIPTS/../modules/lib/perl5/site_perl/5.22.0/x86_64-linux/Hypergeom.pm /flash/hani/bin/FIRE-1.1/SCRIPTS /rumi/shams/abe/perl5/lib/perl5/5.26.2/x86_64-linux-thread-multi /rumi/shams/abe/perl5/lib/perl5/5.26.2 /rumi/shams/abe/perl5/lib/perl5/x86_64-linux-thread-multi /rumi/shams/abe/perl5/lib/perl5 /rumi/shams/abe/anaconda3/envs/deseq/lib/site_perl/5.26.2/x86_64-linux-thread-multi /rumi/shams/abe/anaconda3/envs/deseq/lib/site_perl/5.26.2 /rumi/shams/abe/anaconda3/envs/deseq/lib/5.26.2/x86_64-linux-thread-multi /rumi/shams/abe/anaconda3/envs/deseq/lib/5.26.2 .) at /flash/hani/bin/FIRE-1.1/SCRIPTS/GroupEnrichment.pm line 24.\n",
      "convert: profile 'icc': 'RGB ': RGB color space not permitted on grayscale PNG `peaks_teiser.txt_FIRE/RNA/peaks_teiser.txt.summary_OUT/over.png' @ warning/png.c/MagickPNGWarningHandler/1744.\n",
      "convert: profile 'icc': 'RGB ': RGB color space not permitted on grayscale PNG `peaks_teiser.txt_FIRE/RNA/peaks_teiser.txt.summary_OUT/under.png' @ warning/png.c/MagickPNGWarningHandler/1744.\n",
      "convert: profile 'icc': 'RGB ': RGB color space not permitted on grayscale PNG `peaks_teiser.txt_FIRE/RNA/peaks_teiser.txt.summary_OUT/C0.png' @ warning/png.c/MagickPNGWarningHandler/1744.\n",
      "convert: profile 'icc': 'RGB ': RGB color space not permitted on grayscale PNG `peaks_teiser.txt_FIRE/RNA/peaks_teiser.txt.summary_OUT/C1.png' @ warning/png.c/MagickPNGWarningHandler/1744.\n",
      "convert: profile 'icc': 'RGB ': RGB color space not permitted on grayscale PNG `peaks_teiser.txt_FIRE/RNA/peaks_teiser.txt.summary_OUT/motif.png' @ warning/png.c/MagickPNGWarningHandler/1744.\n",
      "convert: profile 'icc': 'RGB ': RGB color space not permitted on grayscale PNG `peaks_teiser.txt_FIRE/RNA/peaks_teiser.txt.summary_OUT/location.png' @ warning/png.c/MagickPNGWarningHandler/1744.\n",
      "convert: profile 'icc': 'RGB ': RGB color space not permitted on grayscale PNG `peaks_teiser.txt_FIRE/RNA/peaks_teiser.txt.summary_OUT/mi.png' @ warning/png.c/MagickPNGWarningHandler/1744.\n",
      "convert: profile 'icc': 'RGB ': RGB color space not permitted on grayscale PNG `peaks_teiser.txt_FIRE/RNA/peaks_teiser.txt.summary_OUT/z.png' @ warning/png.c/MagickPNGWarningHandler/1744.\n",
      "convert: profile 'icc': 'RGB ': RGB color space not permitted on grayscale PNG `peaks_teiser.txt_FIRE/RNA/peaks_teiser.txt.summary_OUT/robustness.png' @ warning/png.c/MagickPNGWarningHandler/1744.\n",
      "convert: profile 'icc': 'RGB ': RGB color space not permitted on grayscale PNG `peaks_teiser.txt_FIRE/RNA/peaks_teiser.txt.summary_OUT/pos.png' @ warning/png.c/MagickPNGWarningHandler/1744.\n",
      "convert: profile 'icc': 'RGB ': RGB color space not permitted on grayscale PNG `peaks_teiser.txt_FIRE/RNA/peaks_teiser.txt.summary_OUT/ori.png' @ warning/png.c/MagickPNGWarningHandler/1744.\n",
      "convert: profile 'icc': 'RGB ': RGB color space not permitted on grayscale PNG `peaks_teiser.txt_FIRE/RNA/peaks_teiser.txt.summary_OUT/cons.png' @ warning/png.c/MagickPNGWarningHandler/1744.\n",
      "convert: profile 'icc': 'RGB ': RGB color space not permitted on grayscale PNG `peaks_teiser.txt_FIRE/RNA/peaks_teiser.txt.summary_OUT/seed.png' @ warning/png.c/MagickPNGWarningHandler/1744.\n",
      "convert: profile 'icc': 'RGB ': RGB color space not permitted on grayscale PNG `peaks_teiser.txt_FIRE/RNA/peaks_teiser.txt.summary_OUT/name.png' @ warning/png.c/MagickPNGWarningHandler/1744.\n",
      "convert: profile 'icc': 'RGB ': RGB color space not permitted on grayscale PNG `peaks_teiser.txt_FIRE/RNA/peaks_teiser.txt.summary_OUT/parray.png' @ warning/png.c/MagickPNGWarningHandler/1744.\n",
      "convert: profile 'icc': 'RGB ': RGB color space not permitted on grayscale PNG `peaks_teiser.txt_FIRE/RNA/peaks_teiser.txt.summary_OUT/over.png' @ warning/png.c/MagickPNGWarningHandler/1744.\n",
      "convert: profile 'icc': 'RGB ': RGB color space not permitted on grayscale PNG `peaks_teiser.txt_FIRE/RNA/peaks_teiser.txt.summary_OUT/under.png' @ warning/png.c/MagickPNGWarningHandler/1744.\n",
      "convert: profile 'icc': 'RGB ': RGB color space not permitted on grayscale PNG `peaks_teiser.txt_FIRE/RNA/peaks_teiser.txt.summary_OUT/C0.png' @ warning/png.c/MagickPNGWarningHandler/1744.\n",
      "convert: profile 'icc': 'RGB ': RGB color space not permitted on grayscale PNG `peaks_teiser.txt_FIRE/RNA/peaks_teiser.txt.summary_OUT/C1.png' @ warning/png.c/MagickPNGWarningHandler/1744.\n",
      "convert: profile 'icc': 'RGB ': RGB color space not permitted on grayscale PNG `peaks_teiser.txt_FIRE/RNA/peaks_teiser.txt.summary_OUT/motif.png' @ warning/png.c/MagickPNGWarningHandler/1744.\n",
      "convert: profile 'icc': 'RGB ': RGB color space not permitted on grayscale PNG `peaks_teiser.txt_FIRE/RNA/peaks_teiser.txt.summary_OUT/location.png' @ warning/png.c/MagickPNGWarningHandler/1744.\n",
      "convert: profile 'icc': 'RGB ': RGB color space not permitted on grayscale PNG `peaks_teiser.txt_FIRE/RNA/peaks_teiser.txt.summary_OUT/mi.png' @ warning/png.c/MagickPNGWarningHandler/1744.\n",
      "convert: profile 'icc': 'RGB ': RGB color space not permitted on grayscale PNG `peaks_teiser.txt_FIRE/RNA/peaks_teiser.txt.summary_OUT/z.png' @ warning/png.c/MagickPNGWarningHandler/1744.\n",
      "convert: profile 'icc': 'RGB ': RGB color space not permitted on grayscale PNG `peaks_teiser.txt_FIRE/RNA/peaks_teiser.txt.summary_OUT/robustness.png' @ warning/png.c/MagickPNGWarningHandler/1744.\n",
      "convert: profile 'icc': 'RGB ': RGB color space not permitted on grayscale PNG `peaks_teiser.txt_FIRE/RNA/peaks_teiser.txt.summary_OUT/pos.png' @ warning/png.c/MagickPNGWarningHandler/1744.\n",
      "convert: profile 'icc': 'RGB ': RGB color space not permitted on grayscale PNG `peaks_teiser.txt_FIRE/RNA/peaks_teiser.txt.summary_OUT/ori.png' @ warning/png.c/MagickPNGWarningHandler/1744.\n",
      "convert: profile 'icc': 'RGB ': RGB color space not permitted on grayscale PNG `peaks_teiser.txt_FIRE/RNA/peaks_teiser.txt.summary_OUT/cons.png' @ warning/png.c/MagickPNGWarningHandler/1744.\n",
      "convert: profile 'icc': 'RGB ': RGB color space not permitted on grayscale PNG `peaks_teiser.txt_FIRE/RNA/peaks_teiser.txt.summary_OUT/seed.png' @ warning/png.c/MagickPNGWarningHandler/1744.\n",
      "convert: profile 'icc': 'RGB ': RGB color space not permitted on grayscale PNG `peaks_teiser.txt_FIRE/RNA/peaks_teiser.txt.summary_OUT/name.png' @ warning/png.c/MagickPNGWarningHandler/1744.\n",
      "convert: profile 'icc': 'RGB ': RGB color space not permitted on grayscale PNG `peaks_teiser.txt_FIRE/RNA/peaks_teiser.txt.summary_OUT/parray.png' @ warning/png.c/MagickPNGWarningHandler/1744.\n",
      "convert: profile 'icc': 'RGB ': RGB color space not permitted on grayscale PNG `peaks_teiser.txt_FIRE/RNA/peaks_teiser.txt.summary_OUT/3UTR_pos.png' @ warning/png.c/MagickPNGWarningHandler/1744.\n",
      "convert: profile 'icc': 'RGB ': RGB color space not permitted on grayscale PNG `peaks_teiser.txt_FIRE/RNA/peaks_teiser.txt.summary_OUT/3UTR_pos.png' @ warning/png.c/MagickPNGWarningHandler/1744.\n"
     ]
    }
   ],
   "source": [
    "%%bash \n",
    "cd ~/People/Gilbertlab/Decitabine_treatment/MeRIP-seq_treated/exomepeak/T_vs_U/\n",
    "# run FIRE --doskipdiscovery=1\n",
    "perl $FIREDIR/fire.pl --expfile=peaks_teiser.txt --exptype=discrete --fastafile_rna=peaks_teiser.fa --nodups=1 --dodna=0 --dodnarna=0 --species=human --doskipdiscovery=1 --motiffile_rna=motifs_of_interest.txt --oribiasonly=0\n",
    "rm -r skipdiscovery.1_FIRE\n",
    "mv -v peaks_teiser.txt_FIRE/ skipdiscovery.1_FIRE"
   ]
  },
  {
   "cell_type": "code",
   "execution_count": 38,
   "metadata": {},
   "outputs": [
    {
     "name": "stdout",
     "output_type": "stream",
     "text": [
      "/rumi/shams/abe/People/Gilbertlab/Decitabine_treatment/MeRIP-seq_treated\n"
     ]
    }
   ],
   "source": [
    "!cd /rumi/shams/abe/People/Gilbertlab/Decitabine_treatment/MeRIP-seq_treated\n",
    "\n",
    "!magick -density 300 exomepeak/T_vs_U/skipdiscovery.0_FIRE/RNA/peaks_teiser.txt.summary.pdf -flatten -quality 90 exomepeak/T_vs_U/skipdiscovery.0_FIRE/RNA/peaks_teiser.txt.summary.png\n",
    "!magick -density 300 exomepeak/T_vs_U/skipdiscovery.1_FIRE/RNA/peaks_teiser.txt.summary.pdf -flatten -quality 90 exomepeak/T_vs_U/skipdiscovery.1_FIRE/RNA/peaks_teiser.txt.summary.png"
   ]
  },
  {
   "cell_type": "markdown",
   "metadata": {},
   "source": [
    "<img src=\"exomepeak/T_vs_U/skipdiscovery.1_FIRE/RNA/peaks_teiser.txt.summary.png\" style=\"width:900px\">"
   ]
  },
  {
   "cell_type": "markdown",
   "metadata": {},
   "source": [
    "# Differential peaks \n",
    "\n",
    "### Running a custom pipeline\n",
    "Here we're using https://github.com/gold-lab/bed12ToGTF to make gtf file from control exomepeak result.\n",
    "\n",
    "https://metacpan.org/pod/Bio::FeatureIO::gtf"
   ]
  },
  {
   "cell_type": "code",
   "execution_count": 11,
   "metadata": {},
   "outputs": [],
   "source": [
    "%%bash\n",
    "cat exomepeak/ctrl/peak.bed | sort -k4 | \\\n",
    "# rename features peak by peak\n",
    "awk -F \"\\t\" '{OFS=FS}NR>1{$4=$4\"_peak\"}; cnt[$4]++{$4=$4\"_\"cnt[$4]} 1' | \\\n",
    "# bed12 to gtf\n",
    "perl ~/Workflows/bed12ToGTF/bed12ToGTF.1.pl | \\\n",
    "awk '{gsub(/\\\"|\\;/,\"\")}1''{gsub(/transcript_id/,\"gene_id\")}1''{gsub(/ exon_number [[:digit:]]/,\"\")}1' > exomepeak/ctrl/peak.gtf\n"
   ]
  },
  {
   "cell_type": "code",
   "execution_count": 13,
   "metadata": {},
   "outputs": [
    {
     "name": "stdout",
     "output_type": "stream",
     "text": [
      "# chr\tblank\ttranscript\t1\tchromEnd\t.\tstrand\t.\tgene_id name\r\n",
      "chr1\tblank\ttranscript\t169853401\t169853641\t.\t-\t.\tgene_id ENSG00000000457.13_peak\r\n",
      "chr1\tblank\texon\t169853401\t169853641\t.\t-\t.\tgene_id ENSG00000000457.13_peak\r\n",
      "chr1\tblank\ttranscript\t169853390\t169853630\t.\t+\t.\tgene_id ENSG00000000460.16_peak\r\n",
      "chr1\tblank\texon\t169853390\t169853630\t.\t+\t.\tgene_id ENSG00000000460.16_peak\r\n",
      "chr6\tblank\ttranscript\t53498597\t53498777\t.\t-\t.\tgene_id ENSG00000001084.11_peak\r\n",
      "chr6\tblank\texon\t53498597\t53498777\t.\t-\t.\tgene_id ENSG00000001084.11_peak\r\n",
      "chr6\tblank\ttranscript\t41097505\t41098607\t.\t+\t.\tgene_id ENSG00000001167.14_peak\r\n",
      "chr6\tblank\texon\t41097505\t41098607\t.\t+\t.\tgene_id ENSG00000001167.14_peak\r\n",
      "chr6\tblank\ttranscript\t41098756\t41099143\t.\t+\t.\tgene_id ENSG00000001167.14_peak_2\r\n",
      "cat: write error: Broken pipe\r\n"
     ]
    }
   ],
   "source": [
    "cat exomepeak/ctrl/peak.gtf | head"
   ]
  },
  {
   "cell_type": "code",
   "execution_count": 27,
   "metadata": {},
   "outputs": [],
   "source": [
    "mk_dir('./peakcount')"
   ]
  },
  {
   "cell_type": "code",
   "execution_count": 28,
   "metadata": {},
   "outputs": [
    {
     "name": "stdout",
     "output_type": "stream",
     "text": [
      "featureCounts -T 12 -O -t exon -g gene_id -a exomepeak/ctrl/peak.gtf -o peakcount/T1.input.fc bam/T1.input.bam\n",
      "featureCounts -T 12 -O -t exon -g gene_id -a exomepeak/ctrl/peak.gtf -o peakcount/T1.m6A.fc bam/T1.m6A.bam\n",
      "featureCounts -T 12 -O -t exon -g gene_id -a exomepeak/ctrl/peak.gtf -o peakcount/T2.input.fc bam/T2.input.bam\n",
      "featureCounts -T 12 -O -t exon -g gene_id -a exomepeak/ctrl/peak.gtf -o peakcount/T2.m6A.fc bam/T2.m6A.bam\n"
     ]
    },
    {
     "name": "stderr",
     "output_type": "stream",
     "text": [
      "\n",
      "        ==========     _____ _    _ ____  _____  ______          _____  \n",
      "        =====         / ____| |  | |  _ \\|  __ \\|  ____|   /\\   |  __ \\ \n",
      "          =====      | (___ | |  | | |_) | |__) | |__     /  \\  | |  | |\n",
      "            ====      \\___ \\| |  | |  _ <|  _  /|  __|   / /\\ \\ | |  | |\n",
      "              ====    ____) | |__| | |_) | | \\ \\| |____ / ____ \\| |__| |\n",
      "        ==========   |_____/ \\____/|____/|_|  \\_\\______/_/    \\_\\_____/\n",
      "\t  v1.6.0\n",
      "\n",
      "//========================== featureCounts setting ===========================\\\\\n",
      "||                                                                            ||\n",
      "||             Input files : 1 BAM file                                       ||\n",
      "||                           S bam/T1.input.bam                               ||\n",
      "||                                                                            ||\n",
      "||             Output file : peakcount/T1.input.fc                            ||\n",
      "||                 Summary : peakcount/T1.input.fc.summary                    ||\n",
      "||              Annotation : exomepeak/ctrl/peak.gtf (GTF)                    ||\n",
      "||      Dir for temp files : peakcount                                        ||\n",
      "||                                                                            ||\n",
      "||                 Threads : 12                                               ||\n",
      "||                   Level : meta-feature level                               ||\n",
      "||              Paired-end : no                                               ||\n",
      "||         Strand specific : no                                               ||\n",
      "||      Multimapping reads : not counted                                      ||\n",
      "|| Multi-overlapping reads : counted                                          ||\n",
      "||   Min overlapping bases : 1                                                ||\n",
      "||                                                                            ||\n",
      "\\\\===================== http://subread.sourceforge.net/ ======================//\n",
      "\n",
      "//================================= Running ==================================\\\\\n",
      "||                                                                            ||\n",
      "|| Load annotation file exomepeak/ctrl/peak.gtf ...                           ||\n",
      "||    Features : 11111                                                        ||\n",
      "||    Meta-features : 9367                                                    ||\n",
      "||    Chromosomes/contigs : 23                                                ||\n",
      "||                                                                            ||\n",
      "|| Process BAM file bam/T1.input.bam...                                       ||\n",
      "||    Single-end reads are included.                                          ||\n",
      "||    Assign reads to features...                                             ||\n",
      "||    Total reads : 125909291                                                 ||\n",
      "||    Successfully assigned reads : 2393935 (1.9%)                            ||\n",
      "||    Running time : 4.01 minutes                                             ||\n",
      "||                                                                            ||\n",
      "||                         Read assignment finished.                          ||\n",
      "||                                                                            ||\n",
      "|| Summary of counting results can be found in file \"peakcount/T1.input.fc.s  ||\n",
      "|| ummary\"                                                                    ||\n",
      "||                                                                            ||\n",
      "\\\\===================== http://subread.sourceforge.net/ ======================//\n",
      "\n",
      "\n",
      "        ==========     _____ _    _ ____  _____  ______          _____  \n",
      "        =====         / ____| |  | |  _ \\|  __ \\|  ____|   /\\   |  __ \\ \n",
      "          =====      | (___ | |  | | |_) | |__) | |__     /  \\  | |  | |\n",
      "            ====      \\___ \\| |  | |  _ <|  _  /|  __|   / /\\ \\ | |  | |\n",
      "              ====    ____) | |__| | |_) | | \\ \\| |____ / ____ \\| |__| |\n",
      "        ==========   |_____/ \\____/|____/|_|  \\_\\______/_/    \\_\\_____/\n",
      "\t  v1.6.0\n",
      "\n",
      "//========================== featureCounts setting ===========================\\\\\n",
      "||                                                                            ||\n",
      "||             Input files : 1 BAM file                                       ||\n",
      "||                           S bam/T1.m6A.bam                                 ||\n",
      "||                                                                            ||\n",
      "||             Output file : peakcount/T1.m6A.fc                              ||\n",
      "||                 Summary : peakcount/T1.m6A.fc.summary                      ||\n",
      "||              Annotation : exomepeak/ctrl/peak.gtf (GTF)                    ||\n",
      "||      Dir for temp files : peakcount                                        ||\n",
      "||                                                                            ||\n",
      "||                 Threads : 12                                               ||\n",
      "||                   Level : meta-feature level                               ||\n",
      "||              Paired-end : no                                               ||\n",
      "||         Strand specific : no                                               ||\n",
      "||      Multimapping reads : not counted                                      ||\n",
      "|| Multi-overlapping reads : counted                                          ||\n",
      "||   Min overlapping bases : 1                                                ||\n",
      "||                                                                            ||\n",
      "\\\\===================== http://subread.sourceforge.net/ ======================//\n",
      "\n",
      "//================================= Running ==================================\\\\\n",
      "||                                                                            ||\n",
      "|| Load annotation file exomepeak/ctrl/peak.gtf ...                           ||\n",
      "||    Features : 11111                                                        ||\n",
      "||    Meta-features : 9367                                                    ||\n",
      "||    Chromosomes/contigs : 23                                                ||\n",
      "||                                                                            ||\n",
      "|| Process BAM file bam/T1.m6A.bam...                                         ||\n",
      "||    Single-end reads are included.                                          ||\n",
      "||    Assign reads to features...                                             ||\n",
      "||    Total reads : 46222685                                                  ||\n",
      "||    Successfully assigned reads : 29690222 (64.2%)                          ||\n",
      "||    Running time : 1.24 minutes                                             ||\n",
      "||                                                                            ||\n",
      "||                         Read assignment finished.                          ||\n",
      "||                                                                            ||\n",
      "|| Summary of counting results can be found in file \"peakcount/T1.m6A.fc.sum  ||\n",
      "|| mary\"                                                                      ||\n",
      "||                                                                            ||\n",
      "\\\\===================== http://subread.sourceforge.net/ ======================//\n",
      "\n",
      "\n",
      "        ==========     _____ _    _ ____  _____  ______          _____  \n",
      "        =====         / ____| |  | |  _ \\|  __ \\|  ____|   /\\   |  __ \\ \n",
      "          =====      | (___ | |  | | |_) | |__) | |__     /  \\  | |  | |\n",
      "            ====      \\___ \\| |  | |  _ <|  _  /|  __|   / /\\ \\ | |  | |\n",
      "              ====    ____) | |__| | |_) | | \\ \\| |____ / ____ \\| |__| |\n",
      "        ==========   |_____/ \\____/|____/|_|  \\_\\______/_/    \\_\\_____/\n",
      "\t  v1.6.0\n",
      "\n",
      "//========================== featureCounts setting ===========================\\\\\n",
      "||                                                                            ||\n",
      "||             Input files : 1 BAM file                                       ||\n",
      "||                           S bam/T2.input.bam                               ||\n",
      "||                                                                            ||\n",
      "||             Output file : peakcount/T2.input.fc                            ||\n",
      "||                 Summary : peakcount/T2.input.fc.summary                    ||\n",
      "||              Annotation : exomepeak/ctrl/peak.gtf (GTF)                    ||\n",
      "||      Dir for temp files : peakcount                                        ||\n",
      "||                                                                            ||\n",
      "||                 Threads : 12                                               ||\n",
      "||                   Level : meta-feature level                               ||\n",
      "||              Paired-end : no                                               ||\n",
      "||         Strand specific : no                                               ||\n",
      "||      Multimapping reads : not counted                                      ||\n",
      "|| Multi-overlapping reads : counted                                          ||\n",
      "||   Min overlapping bases : 1                                                ||\n",
      "||                                                                            ||\n",
      "\\\\===================== http://subread.sourceforge.net/ ======================//\n",
      "\n",
      "//================================= Running ==================================\\\\\n",
      "||                                                                            ||\n",
      "|| Load annotation file exomepeak/ctrl/peak.gtf ...                           ||\n",
      "||    Features : 11111                                                        ||\n",
      "||    Meta-features : 9367                                                    ||\n",
      "||    Chromosomes/contigs : 23                                                ||\n",
      "||                                                                            ||\n",
      "|| Process BAM file bam/T2.input.bam...                                       ||\n",
      "||    Single-end reads are included.                                          ||\n",
      "||    Assign reads to features...                                             ||\n",
      "||    Total reads : 117775402                                                 ||\n",
      "||    Successfully assigned reads : 2228238 (1.9%)                            ||\n",
      "||    Running time : 3.76 minutes                                             ||\n",
      "||                                                                            ||\n",
      "||                         Read assignment finished.                          ||\n",
      "||                                                                            ||\n",
      "|| Summary of counting results can be found in file \"peakcount/T2.input.fc.s  ||\n",
      "|| ummary\"                                                                    ||\n",
      "||                                                                            ||\n",
      "\\\\===================== http://subread.sourceforge.net/ ======================//\n",
      "\n",
      "\n",
      "        ==========     _____ _    _ ____  _____  ______          _____  \n",
      "        =====         / ____| |  | |  _ \\|  __ \\|  ____|   /\\   |  __ \\ \n",
      "          =====      | (___ | |  | | |_) | |__) | |__     /  \\  | |  | |\n",
      "            ====      \\___ \\| |  | |  _ <|  _  /|  __|   / /\\ \\ | |  | |\n",
      "              ====    ____) | |__| | |_) | | \\ \\| |____ / ____ \\| |__| |\n",
      "        ==========   |_____/ \\____/|____/|_|  \\_\\______/_/    \\_\\_____/\n",
      "\t  v1.6.0\n",
      "\n",
      "//========================== featureCounts setting ===========================\\\\\n",
      "||                                                                            ||\n",
      "||             Input files : 1 BAM file                                       ||\n",
      "||                           S bam/T2.m6A.bam                                 ||\n",
      "||                                                                            ||\n",
      "||             Output file : peakcount/T2.m6A.fc                              ||\n",
      "||                 Summary : peakcount/T2.m6A.fc.summary                      ||\n",
      "||              Annotation : exomepeak/ctrl/peak.gtf (GTF)                    ||\n",
      "||      Dir for temp files : peakcount                                        ||\n",
      "||                                                                            ||\n",
      "||                 Threads : 12                                               ||\n",
      "||                   Level : meta-feature level                               ||\n",
      "||              Paired-end : no                                               ||\n",
      "||         Strand specific : no                                               ||\n",
      "||      Multimapping reads : not counted                                      ||\n",
      "|| Multi-overlapping reads : counted                                          ||\n",
      "||   Min overlapping bases : 1                                                ||\n",
      "||                                                                            ||\n",
      "\\\\===================== http://subread.sourceforge.net/ ======================//\n",
      "\n",
      "//================================= Running ==================================\\\\\n",
      "||                                                                            ||\n",
      "|| Load annotation file exomepeak/ctrl/peak.gtf ...                           ||\n",
      "||    Features : 11111                                                        ||\n",
      "||    Meta-features : 9367                                                    ||\n",
      "||    Chromosomes/contigs : 23                                                ||\n",
      "||                                                                            ||\n",
      "|| Process BAM file bam/T2.m6A.bam...                                         ||\n",
      "||    Single-end reads are included.                                          ||\n",
      "||    Assign reads to features...                                             ||\n",
      "||    Total reads : 48438862                                                  ||\n",
      "||    Successfully assigned reads : 30578524 (63.1%)                          ||\n",
      "||    Running time : 1.69 minutes                                             ||\n",
      "||                                                                            ||\n",
      "||                         Read assignment finished.                          ||\n",
      "||                                                                            ||\n",
      "|| Summary of counting results can be found in file \"peakcount/T2.m6A.fc.sum  ||\n",
      "|| mary\"                                                                      ||\n",
      "||                                                                            ||\n",
      "\\\\===================== http://subread.sourceforge.net/ ======================//\n",
      "\n"
     ]
    }
   ],
   "source": [
    "%%bash\n",
    "# %%bash --err error\n",
    "for f in bam/T*.bam; do \n",
    "    out=${f/.bam/.fc}; \n",
    "    out=${out/bam/peakcount}; \n",
    "    echo featureCounts -T 12 -O -t exon -g gene_id -a exomepeak/ctrl/peak.gtf -o $out $f;\n",
    "    featureCounts -T 12 -O -t exon -g gene_id -a exomepeak/ctrl/peak.gtf -o $out $f;\n",
    "done"
   ]
  },
  {
   "cell_type": "markdown",
   "metadata": {},
   "source": [
    "### Id transfer\n",
    "Read gene names from gtf file"
   ]
  },
  {
   "cell_type": "code",
   "execution_count": 20,
   "metadata": {},
   "outputs": [],
   "source": [
    "import pandas as pd \n",
    "import os\n",
    "\n",
    "def gtf_id_transfer(gtf):\n",
    "    # awk code to extract gene ID and Name \n",
    "    gtf_raw = os.popen(\"cat \" + gtf + \" | awk 'BEGIN{FS=\\\"\\t\\\"}{split($9,a,\\\";\\\"); if($3~\\\"gene\\\") print a[1]\\\"\\t\\\"a[3]}' | sed 's/gene_id \\\"//' | sed 's/gene_name \\\"//' | sed 's/\\\"//g' | sed 's/ //g'\").read().split('\\n')\n",
    "    # data frame \n",
    "    gtf_df = pd.DataFrame(\n",
    "        # col: Names \n",
    "        data=[i.split('\\t')[1] for i in gtf_raw[:len(gtf_raw)-1]],\n",
    "        # index: ids \n",
    "        index=[i.split('\\t')[0] for i in gtf_raw[:len(gtf_raw)-1]],\n",
    "        columns=['Name'], dtype=str)\n",
    "    return gtf_df\n",
    "\n",
    "gtf = '/rumi/shams/genomes/hg38/gencode.v28.annotation.gtf'\n",
    "gtf_df = gtf_id_transfer(gtf)"
   ]
  },
  {
   "cell_type": "markdown",
   "metadata": {},
   "source": [
    "load R"
   ]
  },
  {
   "cell_type": "code",
   "execution_count": 14,
   "metadata": {},
   "outputs": [],
   "source": [
    "%reload_ext rpy2.ipython"
   ]
  },
  {
   "cell_type": "markdown",
   "metadata": {},
   "source": [
    "### Differential methylation"
   ]
  },
  {
   "cell_type": "code",
   "execution_count": 22,
   "metadata": {},
   "outputs": [],
   "source": [
    "%%R\n",
    "library(DESeq2)\n",
    "library(tidyverse)\n",
    "library(ggplot2)\n",
    "require(ggrepel)\n",
    "library(patchwork)\n",
    "\n",
    "pca = list(); vol = list(); hist = list()"
   ]
  },
  {
   "cell_type": "markdown",
   "metadata": {},
   "source": [
    "using `DESeq2` to find differential methylation peaks:"
   ]
  },
  {
   "cell_type": "code",
   "execution_count": 210,
   "metadata": {},
   "outputs": [
    {
     "name": "stderr",
     "output_type": "stream",
     "text": [
      "R[write to console]: converting counts to integer mode\n",
      "\n",
      "R[write to console]: estimating size factors\n",
      "\n",
      "R[write to console]: estimating dispersions\n",
      "\n",
      "R[write to console]: gene-wise dispersion estimates\n",
      "\n",
      "R[write to console]: mean-dispersion relationship\n",
      "\n",
      "R[write to console]: final dispersion estimates\n",
      "\n",
      "R[write to console]: fitting model and testing\n",
      "\n"
     ]
    }
   ],
   "source": [
    "%%R -i gtf_df\n",
    "\n",
    "files.input <- list.files(path = 'peakcount',pattern=\".input.fc$\")\n",
    "files.m6A <- list.files(path = 'peakcount',pattern=\".m6A.fc$\")\n",
    "files = c(files.input,files.m6A)\n",
    "\n",
    "datalist <- lapply(files, function(x){read.table(file=paste('peakcount/', x, sep = \"\"),skip=1,sep='\\t',header=TRUE,colClasses=c(NA, \"NULL\", \"NULL\", \"NULL\", \"NULL\", \"NULL\", NA),check.names=F)})\n",
    "m <- Reduce(function(...) merge(..., by=1, all = TRUE), datalist)\n",
    "rownames(m) <- m[,1]\n",
    "m <- m[,-1]\n",
    "m[is.na(m)]<-0\n",
    "m <- round(m)\n",
    "colnames(m) <- substr(colnames(m), 5 , nchar(colnames(m)) - 4)\n",
    "\n",
    "# Design: m6A vs input \n",
    "ip = c(rep('input',2),rep('m6A',2))\n",
    "colData <- data.frame(cond = ip, row.names=colnames(m))\n",
    "# diff_peak \n",
    "dds <- DESeqDataSetFromMatrix(countData = m, colData = colData, design = ~ cond)\n",
    "dds$cond <- relevel(dds$cond, ref=\"input\")\n",
    "dds <- DESeq(dds)\n",
    "    \n",
    "# normalized counts \n",
    "ncu <- counts(dds, normalized=TRUE)\n",
    "res <- results(dds)\n",
    "res <- as.data.frame(res)\n",
    "# idtransfer\n",
    "peak_ids = strsplit(rownames(m), '_',)\n",
    "ids = unlist(lapply(peak_ids, '[[', 1))\n",
    "res$name = gtf_df[ids,]\n",
    "# save files \n",
    "write.table(res, 'deseq/peak_m6A_vs_input.txt', sep=\"\\t\", quote=FALSE, col.names=NA)\n",
    "write.table(ncu, file='deseq/peak_count_table_DE2norm.txt',sep=\"\\t\", quote=FALSE, col.names=colnames(m)) \n",
    "write.table(m, file='deseq/peak_count_table_raw.txt',sep=\"\\t\", quote=FALSE, col.names=colnames(m))"
   ]
  },
  {
   "cell_type": "markdown",
   "metadata": {},
   "source": [
    "## Plots"
   ]
  },
  {
   "cell_type": "code",
   "execution_count": 211,
   "metadata": {},
   "outputs": [
    {
     "name": "stderr",
     "output_type": "stream",
     "text": [
      "R[write to console]: Saving 6.67 x 6.67 in image\n",
      "\n",
      "R[write to console]: Saving 6.67 x 6.67 in image\n",
      "\n"
     ]
    },
    {
     "data": {
      "image/png": "[encoded data removed]"
     },
     "metadata": {},
     "output_type": "display_data"
    }
   ],
   "source": [
    "%%R \n",
    "d <- res$log2FoldChange[!is.na(res$log2FoldChange)]\n",
    "w <- wilcox.test(res$log2FoldChange,mu = 0, alternative = \"less\")\n",
    "\n",
    "t <- t.test(res$log2FoldChange, mu=0)\n",
    "\n",
    "h = ggplot(res, aes(x=log2FoldChange)) +\n",
    "        ggtitle(\n",
    "            'Decitabine_treatment',\n",
    "            sprintf(\"wilcox.test (p.value): %.5f \\t t.test (p.value):%.5f\", w$p.value, t$p.value)\n",
    "        ) +\n",
    "        ylim(c(0,1100)) +\n",
    "        geom_histogram(binwidth=0.3)\n",
    "\n",
    "ggsave(\"plots/peak_Histograms.png\", plot = h, device = 'png', dpi = 300)\n",
    "ggsave(\"plots/peak_Histograms.pdf\", plot = h, device = 'pdf', dpi = 300)\n",
    "h"
   ]
  },
  {
   "cell_type": "code",
   "execution_count": 223,
   "metadata": {},
   "outputs": [
    {
     "data": {
      "image/png": "[encoded data removed]"
     },
     "metadata": {},
     "output_type": "display_data"
    }
   ],
   "source": [
    "%%R \n",
    "ggplot(res, aes(x=pvalue)) +\n",
    "        ggtitle('Decitabine_treatment\\npvalue') +\n",
    "#         ylim(c(0,1100)) +\n",
    "        geom_histogram(binwidth=0.01)\n"
   ]
  },
  {
   "cell_type": "markdown",
   "metadata": {},
   "source": [
    "#### volcanos "
   ]
  },
  {
   "cell_type": "code",
   "execution_count": 217,
   "metadata": {},
   "outputs": [
    {
     "name": "stderr",
     "output_type": "stream",
     "text": [
      "R[write to console]: Saving 6.67 x 6.67 in image\n",
      "\n",
      "R[write to console]: Saving 6.67 x 6.67 in image\n",
      "\n"
     ]
    },
    {
     "data": {
      "image/png": "[encoded data removed]"
     },
     "metadata": {},
     "output_type": "display_data"
    }
   ],
   "source": [
    "%%R\n",
    "# significant thr \n",
    "pvalue_lim = 0.005; log2FoldChange_lim = 3\n",
    "res$sig <- as.factor(\n",
    "    res$pvalue < pvalue_lim &\n",
    "    (res$log2FoldChange > log2FoldChange_lim & res$pvalue < pvalue_lim) |\n",
    "    (res$log2FoldChange < (-1)*log2FoldChange_lim & res$pvalue < pvalue_lim)\n",
    ")\n",
    "\n",
    "relevel(res$sig, ref=TRUE)\n",
    "# Volcano plot\n",
    "\n",
    "v = res %>% ggplot(aes(x=log2FoldChange, y=-log10(pvalue),colour=sig, fill=sig)) +\n",
    "        geom_point(aes(color = sig),alpha = 1/10) +\n",
    "        ggtitle('Decitabine_treatment') +\n",
    "        xlim(c(-15,15)) +\n",
    "        ylim(c(0,100)) +\n",
    "        geom_hline(yintercept=-log10(pvalue_lim), linetype=\"dashed\", alpha = 4/10) +\n",
    "        geom_vline(xintercept=log2FoldChange_lim, linetype=\"dashed\", alpha = 4/10) +\n",
    "        geom_vline(xintercept=(-1)*log2FoldChange_lim, linetype=\"dashed\", alpha = 4/10) +\n",
    "        scale_color_manual(values = c(\"grey\", \"black\")) +\n",
    "        theme_bw() + theme(legend.position=\"none\") +\n",
    "        geom_text_repel(\n",
    "            data = subset(res[order(res$pvalue),], sig == TRUE)[1:10,],\n",
    "            aes(label = name),\n",
    "            size = 5,\n",
    "            box.padding = unit(0.35, \"lines\"),\n",
    "            point.padding = unit(0.3, \"lines\")\n",
    "        )\n",
    "ggsave(\"plots/peak_Volcanos.png\", plot = v, device = 'png', dpi = 300)\n",
    "ggsave(\"plots/peak_Volcanos.pdf\", plot = v, device = 'pdf', dpi = 300)\n",
    "v\n"
   ]
  },
  {
   "cell_type": "code",
   "execution_count": 218,
   "metadata": {},
   "outputs": [
    {
     "data": {
      "text/html": [
       "<div>\n",
       "<style scoped>\n",
       "    .dataframe tbody tr th:only-of-type {\n",
       "        vertical-align: middle;\n",
       "    }\n",
       "\n",
       "    .dataframe tbody tr th {\n",
       "        vertical-align: top;\n",
       "    }\n",
       "\n",
       "    .dataframe thead th {\n",
       "        text-align: right;\n",
       "    }\n",
       "</style>\n",
       "<table border=\"1\" class=\"dataframe\">\n",
       "  <thead>\n",
       "    <tr style=\"text-align: right;\">\n",
       "      <th></th>\n",
       "      <th>baseMean</th>\n",
       "      <th>log2FoldChange</th>\n",
       "      <th>lfcSE</th>\n",
       "      <th>stat</th>\n",
       "      <th>pvalue</th>\n",
       "      <th>padj</th>\n",
       "      <th>name</th>\n",
       "      <th>sig</th>\n",
       "    </tr>\n",
       "  </thead>\n",
       "  <tbody>\n",
       "    <tr>\n",
       "      <td>ENSG00000196230.12_peak</td>\n",
       "      <td>32934.670168</td>\n",
       "      <td>-2.633326</td>\n",
       "      <td>0.067697</td>\n",
       "      <td>-38.898739</td>\n",
       "      <td>0.000000e+00</td>\n",
       "      <td>0.000000e+00</td>\n",
       "      <td>TUBB</td>\n",
       "      <td>FALSE</td>\n",
       "    </tr>\n",
       "    <tr>\n",
       "      <td>ENSG00000153187.18_peak</td>\n",
       "      <td>18565.943231</td>\n",
       "      <td>-3.177571</td>\n",
       "      <td>0.072183</td>\n",
       "      <td>-44.021117</td>\n",
       "      <td>0.000000e+00</td>\n",
       "      <td>0.000000e+00</td>\n",
       "      <td>HNRNPU</td>\n",
       "      <td>TRUE</td>\n",
       "    </tr>\n",
       "    <tr>\n",
       "      <td>ENSG00000185624.14_peak</td>\n",
       "      <td>53230.012498</td>\n",
       "      <td>-2.516796</td>\n",
       "      <td>0.060242</td>\n",
       "      <td>-41.778367</td>\n",
       "      <td>0.000000e+00</td>\n",
       "      <td>0.000000e+00</td>\n",
       "      <td>P4HB</td>\n",
       "      <td>FALSE</td>\n",
       "    </tr>\n",
       "    <tr>\n",
       "      <td>ENSG00000005381.7_peak</td>\n",
       "      <td>72644.854943</td>\n",
       "      <td>-3.132771</td>\n",
       "      <td>0.059094</td>\n",
       "      <td>-53.013172</td>\n",
       "      <td>0.000000e+00</td>\n",
       "      <td>0.000000e+00</td>\n",
       "      <td>MPO</td>\n",
       "      <td>TRUE</td>\n",
       "    </tr>\n",
       "    <tr>\n",
       "      <td>ENSG00000262831.1_peak</td>\n",
       "      <td>25918.529538</td>\n",
       "      <td>-2.425949</td>\n",
       "      <td>0.068558</td>\n",
       "      <td>-35.385574</td>\n",
       "      <td>2.846204e-274</td>\n",
       "      <td>5.325817e-271</td>\n",
       "      <td>RP11-498C9.2</td>\n",
       "      <td>FALSE</td>\n",
       "    </tr>\n",
       "    <tr>\n",
       "      <td>...</td>\n",
       "      <td>...</td>\n",
       "      <td>...</td>\n",
       "      <td>...</td>\n",
       "      <td>...</td>\n",
       "      <td>...</td>\n",
       "      <td>...</td>\n",
       "      <td>...</td>\n",
       "      <td>...</td>\n",
       "    </tr>\n",
       "    <tr>\n",
       "      <td>ENSG00000145990.10_peak</td>\n",
       "      <td>0.000000</td>\n",
       "      <td>NaN</td>\n",
       "      <td>NaN</td>\n",
       "      <td>NaN</td>\n",
       "      <td>NaN</td>\n",
       "      <td>NaN</td>\n",
       "      <td>GFOD1</td>\n",
       "      <td>NaN</td>\n",
       "    </tr>\n",
       "    <tr>\n",
       "      <td>ENSG00000149115.13_peak_3</td>\n",
       "      <td>0.000000</td>\n",
       "      <td>NaN</td>\n",
       "      <td>NaN</td>\n",
       "      <td>NaN</td>\n",
       "      <td>NaN</td>\n",
       "      <td>NaN</td>\n",
       "      <td>TNKS1BP1</td>\n",
       "      <td>NaN</td>\n",
       "    </tr>\n",
       "    <tr>\n",
       "      <td>ENSG00000162946.22_peak_2</td>\n",
       "      <td>0.000000</td>\n",
       "      <td>NaN</td>\n",
       "      <td>NaN</td>\n",
       "      <td>NaN</td>\n",
       "      <td>NaN</td>\n",
       "      <td>NaN</td>\n",
       "      <td>DISC1</td>\n",
       "      <td>NaN</td>\n",
       "    </tr>\n",
       "    <tr>\n",
       "      <td>ENSG00000179583.19_peak</td>\n",
       "      <td>0.000000</td>\n",
       "      <td>NaN</td>\n",
       "      <td>NaN</td>\n",
       "      <td>NaN</td>\n",
       "      <td>NaN</td>\n",
       "      <td>NaN</td>\n",
       "      <td>CIITA</td>\n",
       "      <td>NaN</td>\n",
       "    </tr>\n",
       "    <tr>\n",
       "      <td>ENSG00000182324.6_peak</td>\n",
       "      <td>0.000000</td>\n",
       "      <td>NaN</td>\n",
       "      <td>NaN</td>\n",
       "      <td>NaN</td>\n",
       "      <td>NaN</td>\n",
       "      <td>NaN</td>\n",
       "      <td>KCNJ14</td>\n",
       "      <td>NaN</td>\n",
       "    </tr>\n",
       "  </tbody>\n",
       "</table>\n",
       "<p>9367 rows × 8 columns</p>\n",
       "</div>"
      ],
      "text/plain": [
       "                               baseMean  log2FoldChange     lfcSE       stat  \\\n",
       "ENSG00000196230.12_peak    32934.670168       -2.633326  0.067697 -38.898739   \n",
       "ENSG00000153187.18_peak    18565.943231       -3.177571  0.072183 -44.021117   \n",
       "ENSG00000185624.14_peak    53230.012498       -2.516796  0.060242 -41.778367   \n",
       "ENSG00000005381.7_peak     72644.854943       -3.132771  0.059094 -53.013172   \n",
       "ENSG00000262831.1_peak     25918.529538       -2.425949  0.068558 -35.385574   \n",
       "...                                 ...             ...       ...        ...   \n",
       "ENSG00000145990.10_peak        0.000000             NaN       NaN        NaN   \n",
       "ENSG00000149115.13_peak_3      0.000000             NaN       NaN        NaN   \n",
       "ENSG00000162946.22_peak_2      0.000000             NaN       NaN        NaN   \n",
       "ENSG00000179583.19_peak        0.000000             NaN       NaN        NaN   \n",
       "ENSG00000182324.6_peak         0.000000             NaN       NaN        NaN   \n",
       "\n",
       "                                  pvalue           padj          name    sig  \n",
       "ENSG00000196230.12_peak     0.000000e+00   0.000000e+00          TUBB  FALSE  \n",
       "ENSG00000153187.18_peak     0.000000e+00   0.000000e+00        HNRNPU   TRUE  \n",
       "ENSG00000185624.14_peak     0.000000e+00   0.000000e+00          P4HB  FALSE  \n",
       "ENSG00000005381.7_peak      0.000000e+00   0.000000e+00           MPO   TRUE  \n",
       "ENSG00000262831.1_peak     2.846204e-274  5.325817e-271  RP11-498C9.2  FALSE  \n",
       "...                                  ...            ...           ...    ...  \n",
       "ENSG00000145990.10_peak              NaN            NaN         GFOD1    NaN  \n",
       "ENSG00000149115.13_peak_3            NaN            NaN      TNKS1BP1    NaN  \n",
       "ENSG00000162946.22_peak_2            NaN            NaN         DISC1    NaN  \n",
       "ENSG00000179583.19_peak              NaN            NaN         CIITA    NaN  \n",
       "ENSG00000182324.6_peak               NaN            NaN        KCNJ14    NaN  \n",
       "\n",
       "[9367 rows x 8 columns]"
      ]
     },
     "execution_count": 218,
     "metadata": {},
     "output_type": "execute_result"
    }
   ],
   "source": [
    "res = %Rget res\n",
    "res.sort_values('pvalue')\n"
   ]
  },
  {
   "cell_type": "markdown",
   "metadata": {},
   "source": [
    "### iPAGE"
   ]
  },
  {
   "cell_type": "code",
   "execution_count": 142,
   "metadata": {},
   "outputs": [],
   "source": [
    "mk_dir('ipage')"
   ]
  },
  {
   "cell_type": "code",
   "execution_count": 172,
   "metadata": {},
   "outputs": [],
   "source": [
    "%%bash \n",
    "awk 'NR>1{arr[$1]   += $3; count[$1] += 1}END{for (a in arr) {print substr(a,1,15)\"\\t\"arr[a]/count[a]}}' deseq/peak_m6A_vs_input.txt > deseq/peak_m6A_vs_input.ave.txt\n",
    "for f in `ls -d /flash/hani/bin/iPAGEv1.0/PAGE_DATA/ANNOTATIONS/human_ensembl*`; do\n",
    "    base=`basename \"$f\"`\n",
    "    perl $PAGEDIR/page.pl --expfile=deseq/peak_m6A_vs_input.ave.txt \\\n",
    "    --species=$base --exptype=continuous --ebins=11 --nodups=1\n",
    "    mv -v deseq/peak_m6A_vs_input.ave.txt_PAGE/ ipage/peak_m6A_vs_input_${base}/\n",
    "    cp -v ipage/peak_m6A_vs_input_${base}/peak_m6A_vs_input.ave.txt.summary.pdf plots/ipage.peak_m6A_vs_input_${base}.pdf\n",
    "done"
   ]
  },
  {
   "cell_type": "code",
   "execution_count": 181,
   "metadata": {},
   "outputs": [
    {
     "name": "stdout",
     "output_type": "stream",
     "text": [
      "    <td><img src=\"plots/ipage.peak_m6A_vs_input_human_ensembl_encode_tf.png\" style=\"weight:100px\">\n",
      "encode_tf\n",
      "    <td><img src=\"plots/ipage.peak_m6A_vs_input_human_ensembl_msigdb_c1.png\" style=\"weight:100px\">\n",
      "msigdb_c1\n",
      "    <td><img src=\"plots/ipage.peak_m6A_vs_input_human_ensembl_msigdb_c2.png\" style=\"weight:100px\">\n",
      "msigdb_c2\n",
      "    <td><img src=\"plots/ipage.peak_m6A_vs_input_human_ensembl_msigdb_c3.png\" style=\"weight:100px\">\n",
      "msigdb_c3\n",
      "    <td><img src=\"plots/ipage.peak_m6A_vs_input_human_ensembl_msigdb_c4.png\" style=\"weight:100px\">\n",
      "msigdb_c4\n",
      "    <td><img src=\"plots/ipage.peak_m6A_vs_input_human_ensembl_msigdb_c5.png\" style=\"weight:100px\">\n",
      "msigdb_c5\n",
      "    <td><img src=\"plots/ipage.peak_m6A_vs_input_human_ensembl_msigdb_c6.png\" style=\"weight:100px\">\n",
      "msigdb_c6\n",
      "    <td><img src=\"plots/ipage.peak_m6A_vs_input_human_ensembl_msigdb_c7.png\" style=\"weight:100px\">\n",
      "msigdb_c7\n",
      "    <td><img src=\"plots/ipage.peak_m6A_vs_input_human_ensembl_msigdb_full.png\" style=\"weight:100px\">\n",
      "msigdb_full\n",
      "    <td><img src=\"plots/ipage.peak_m6A_vs_input_human_ensembl_msigdb_h.png\" style=\"weight:100px\">\n",
      "msigdb_h\n",
      "    <td><img src=\"plots/ipage.peak_m6A_vs_input_human_ensembl.png\" style=\"weight:100px\">\n",
      "plots/ipage.peak_m6A_vs_input_human_ensembl\n",
      "    <td><img src=\"plots/ipage.peak_m6A_vs_input_human_ensembl_RBPs_all_gene_ids.png\" style=\"weight:100px\">\n",
      "RBPs_all_gene_ids\n",
      "    <td><img src=\"plots/ipage.peak_m6A_vs_input_human_ensembl_RBPs_coding_gene_ids_by_3UTR.png\" style=\"weight:100px\">\n",
      "RBPs_coding_gene_ids_by_3UTR\n",
      "    <td><img src=\"plots/ipage.peak_m6A_vs_input_human_ensembl_RBPs_coding_gene_ids_by_5UTR.png\" style=\"weight:100px\">\n",
      "RBPs_coding_gene_ids_by_5UTR\n",
      "    <td><img src=\"plots/ipage.peak_m6A_vs_input_human_ensembl_RBPs_coding_gene_ids_by_coding_exons.png\" style=\"weight:100px\">\n",
      "RBPs_coding_gene_ids_by_coding_exons\n",
      "    <td><img src=\"plots/ipage.peak_m6A_vs_input_human_ensembl_RBPs_coding_gene_ids_by_introns.png\" style=\"weight:100px\">\n",
      "RBPs_coding_gene_ids_by_introns\n",
      "    <td><img src=\"plots/ipage.peak_m6A_vs_input_human_ensembl_RBPs_coding_gene_ids.png\" style=\"weight:100px\">\n",
      "RBPs_coding_gene_ids\n",
      "    <td><img src=\"plots/ipage.peak_m6A_vs_input_human_ensembl_RBPs_DeepBind.png\" style=\"weight:100px\">\n",
      "RBPs_DeepBind\n"
     ]
    }
   ],
   "source": [
    "%%bash \n",
    "for i in `ls -d plots/ipage*png`; do\n",
    "    o=${i/pdf/png};\n",
    "    n=${i/plots\\/ipage.peak_m6A_vs_input_human_ensembl_/};\n",
    "    n=${n/.png/};\n",
    "#     magick -density 300 $i -flatten -quality 90 $o\n",
    "    echo '    <td><img src=\"'$o'\" style=\"weight:100px\">'\n",
    "    echo $n\n",
    "done"
   ]
  },
  {
   "cell_type": "markdown",
   "metadata": {},
   "source": [
    "<table>\n",
    "  <tr>\n",
    "    <td><img src=\"plots/ipage.peak_m6A_vs_input_human_ensembl_msigdb_c1.png\" style=\"weight:100px\">\n",
    "msigdb_c1\n",
    "    <td><img src=\"plots/ipage.peak_m6A_vs_input_human_ensembl_msigdb_c2.png\" style=\"weight:100px\">\n",
    "msigdb_c2\n",
    "  <tr>\n",
    "<table>\n",
    "<table>\n",
    "  <tr>\n",
    "    <td><img src=\"plots/ipage.peak_m6A_vs_input_human_ensembl_msigdb_c4.png\" style=\"weight:100px\">\n",
    "msigdb_c4\n",
    "    <td><img src=\"plots/ipage.peak_m6A_vs_input_human_ensembl_msigdb_c5.png\" style=\"weight:100px\">\n",
    "msigdb_c5\n",
    "    <td><img src=\"plots/ipage.peak_m6A_vs_input_human_ensembl_msigdb_c6.png\" style=\"weight:100px\">\n",
    "msigdb_c6\n",
    "  <tr>\n",
    "<table>\n",
    "<table>\n",
    "  <tr>\n",
    "    <td><img src=\"plots/ipage.peak_m6A_vs_input_human_ensembl_msigdb_c7.png\" style=\"weight:100px\">\n",
    "msigdb_c7\n",
    "    <td><img src=\"plots/ipage.peak_m6A_vs_input_human_ensembl_msigdb_full.png\" style=\"weight:100px\">\n",
    "msigdb_full\n",
    "    <td><img src=\"plots/ipage.peak_m6A_vs_input_human_ensembl_msigdb_h.png\" style=\"weight:100px\">\n",
    "msigdb_h\n",
    "  <tr>\n",
    "<table>\n",
    "<table>\n",
    "  <tr>\n",
    "    <td><img src=\"plots/ipage.peak_m6A_vs_input_human_ensembl_encode_tf.png\" style=\"weight:100px\">\n",
    "encode_tf\n",
    "    <td><img src=\"plots/ipage.peak_m6A_vs_input_human_ensembl.png\" style=\"weight:100px\">\n",
    "human_ensembl\n",
    "    <td><img src=\"plots/ipage.peak_m6A_vs_input_human_ensembl_RBPs_all_gene_ids.png\" style=\"weight:100px\">\n",
    "RBPs_all_gene_ids\n",
    "  <tr>\n",
    "<table>\n",
    "<table>\n",
    "  <tr>\n",
    "    <td><img src=\"plots/ipage.peak_m6A_vs_input_human_ensembl_RBPs_coding_gene_ids_by_3UTR.png\" style=\"weight:100px\">\n",
    "RBPs_coding_gene_ids_by_3UTR\n",
    "    <td><img src=\"plots/ipage.peak_m6A_vs_input_human_ensembl_RBPs_coding_gene_ids_by_5UTR.png\" style=\"weight:100px\">\n",
    "RBPs_coding_gene_ids_by_5UTR\n",
    "    <td><img src=\"plots/ipage.peak_m6A_vs_input_human_ensembl_RBPs_coding_gene_ids_by_coding_exons.png\" style=\"weight:100px\">\n",
    "RBPs_coding_gene_ids_by_coding_exons\n",
    "  <tr>\n",
    "<table>"
   ]
  },
  {
   "cell_type": "markdown",
   "metadata": {},
   "source": [
    "### TEISER\n",
    "https://github.com/goodarzilab/TEISER"
   ]
  },
  {
   "cell_type": "code",
   "execution_count": null,
   "metadata": {},
   "outputs": [],
   "source": [
    "# %%bash\n",
    "# declare -a StringArray=('METTL14' 'METTL3' 'Virma' 'WTAP')\n",
    "# for treat in \"${StringArray[@]}\"; do\n",
    "#     # ave duplicate: peaks  \n",
    "# #     awk 'NR>1{arr[$1]   += $3; count[$1] += 1}END{for (a in arr) {print substr(a,1,15)\"\\t\"arr[a]/count[a]}}' deseq/${treat}_peak_m6A_vs_input.txt > deseq/${treat}_peak_m6A_vs_input.ave.txt\n",
    "#     # ave duplicate: exons \n",
    "# #     awk 'NR>1{arr[$1]   += $2; count[$1] += 1}END{for (a in arr) {print a\"\\t\"arr[a]/count[a]}}' deseq/${treat}_peak_m6A_vs_input.ave.txt > deseq/${treat}_peak_m6A_vs_input.ave.c.txt\n",
    "#     perl $TEISERDIR/run_mi_gene_list.pl \\\n",
    "#     --expfile=deseq/${treat}_peak_m6A_vs_input.ave.c.txt \\\n",
    "# #     --genefile=miRDB_miR-296-5p.predicted_targets_ens.list \\\n",
    "#     --exptype=continuous \\\n",
    "#     --ebins=7 \\\n",
    "#     --species=human \\\n",
    "#     --doremovedups=0 \\\n",
    "#     --doremoveextra=0\n",
    "# done\n"
   ]
  },
  {
   "cell_type": "code",
   "execution_count": null,
   "metadata": {},
   "outputs": [],
   "source": []
  },
  {
   "cell_type": "code",
   "execution_count": null,
   "metadata": {},
   "outputs": [],
   "source": []
  },
  {
   "cell_type": "code",
   "execution_count": null,
   "metadata": {},
   "outputs": [],
   "source": []
  },
  {
   "cell_type": "code",
   "execution_count": null,
   "metadata": {},
   "outputs": [],
   "source": []
  },
  {
   "cell_type": "code",
   "execution_count": null,
   "metadata": {},
   "outputs": [],
   "source": [
    "%%R\n",
    "sessionInfo()"
   ]
  },
  {
   "cell_type": "code",
   "execution_count": null,
   "metadata": {},
   "outputs": [],
   "source": []
  }
 ],
 "metadata": {
  "kernelspec": {
   "display_name": "Python 3",
   "language": "python",
   "name": "python3"
  },
  "language_info": {
   "codemirror_mode": {
    "name": "ipython",
    "version": 3
   },
   "file_extension": ".py",
   "mimetype": "text/x-python",
   "name": "python",
   "nbconvert_exporter": "python",
   "pygments_lexer": "ipython3",
   "version": "3.7.3"
  }
 },
 "nbformat": 4,
 "nbformat_minor": 2
}
