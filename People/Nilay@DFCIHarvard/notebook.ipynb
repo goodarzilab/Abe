{
 "cells": [
  {
   "cell_type": "markdown",
   "id": "74446e32",
   "metadata": {},
   "source": [
    "### Generate count files \n",
    "\n",
    "LS180 SOX9 OE RNA-seq data"
   ]
  },
  {
   "cell_type": "code",
   "execution_count": null,
   "id": "64a20926",
   "metadata": {},
   "outputs": [],
   "source": [
    "%%bash \n",
    "nohup bash salmon.sh ./ 24 > salmon.out&"
   ]
  },
  {
   "cell_type": "code",
   "execution_count": 36,
   "id": "769894d4",
   "metadata": {},
   "outputs": [
    {
     "name": "stdout",
     "output_type": "stream",
     "text": [
      "PDIR=$1\r\n",
      "JOBS=$2\r\n",
      "FASTQDIR='fastq'\r\n",
      "INDEX='/rumi/shams/abe/genomes/hg38/gencode.v34/salmon_index/'\r\n",
      "\r\n",
      "cd $PDIR\r\n",
      "mkdir -p ./quants/\r\n",
      "\r\n",
      "for fq1 in $FASTQDIR/*R1*.fastq.gz; do \r\n",
      "\tsamp=`basename ${fq1}`; \r\n",
      "    samp=${samp/_R1_001.fastq.gz/}; \r\n",
      "    fq2=${fq1/R1/R2};\r\n",
      "\techo \"Processing sample ${samp}\"; \r\n",
      "\tcmd=\"salmon quant -i $INDEX -l A -1 $fq1 -2 $fq2 -p $JOBS --validateMappings -o ./quants/$samp\"\r\n",
      "\techo $cmd\r\n",
      "\t$cmd &> ./quants/${samp}.log\r\n",
      "\techo DONE@ `date`; \r\n",
      "done\r\n"
     ]
    }
   ],
   "source": [
    "cat salmon.sh"
   ]
  },
  {
   "cell_type": "code",
   "execution_count": 21,
   "id": "7f117f1b",
   "metadata": {},
   "outputs": [
    {
     "name": "stdout",
     "output_type": "stream",
     "text": [
      "Processing sample GFPN1\r\n",
      "salmon quant -i /rumi/shams/abe/genomes/hg38/gencode.v34/salmon_index/ -l A -1 fastq/GFPN1_R1_001.fastq.gz -2 fastq/GFPN1_R2_001.fastq.gz -p 24 --validateMappings -o ./quants/GFPN1\r\n",
      "DONE@ Thu Nov 4 05:21:07 UTC 2021\r\n",
      "Processing sample GFPN2\r\n",
      "salmon quant -i /rumi/shams/abe/genomes/hg38/gencode.v34/salmon_index/ -l A -1 fastq/GFPN2_R1_001.fastq.gz -2 fastq/GFPN2_R2_001.fastq.gz -p 24 --validateMappings -o ./quants/GFPN2\r\n",
      "DONE@ Thu Nov 4 05:23:15 UTC 2021\r\n",
      "Processing sample GFPP1\r\n",
      "salmon quant -i /rumi/shams/abe/genomes/hg38/gencode.v34/salmon_index/ -l A -1 fastq/GFPP1_R1_001.fastq.gz -2 fastq/GFPP1_R2_001.fastq.gz -p 24 --validateMappings -o ./quants/GFPP1\r\n",
      "DONE@ Thu Nov 4 05:25:32 UTC 2021\r\n",
      "Processing sample GFPP2\r\n",
      "salmon quant -i /rumi/shams/abe/genomes/hg38/gencode.v34/salmon_index/ -l A -1 fastq/GFPP2_R1_001.fastq.gz -2 fastq/GFPP2_R2_001.fastq.gz -p 24 --validateMappings -o ./quants/GFPP2\r\n",
      "DONE@ Thu Nov 4 05:27:51 UTC 2021\r\n",
      "Processing sample M303N1\r\n",
      "salmon quant -i /rumi/shams/abe/genomes/hg38/gencode.v34/salmon_index/ -l A -1 fastq/M303N1_R1_001.fastq.gz -2 fastq/M303N1_R2_001.fastq.gz -p 24 --validateMappings -o ./quants/M303N1\r\n",
      "DONE@ Thu Nov 4 05:30:04 UTC 2021\r\n",
      "Processing sample M303N2\r\n",
      "salmon quant -i /rumi/shams/abe/genomes/hg38/gencode.v34/salmon_index/ -l A -1 fastq/M303N2_R1_001.fastq.gz -2 fastq/M303N2_R2_001.fastq.gz -p 24 --validateMappings -o ./quants/M303N2\r\n",
      "DONE@ Thu Nov 4 05:32:26 UTC 2021\r\n",
      "Processing sample M303P1\r\n",
      "salmon quant -i /rumi/shams/abe/genomes/hg38/gencode.v34/salmon_index/ -l A -1 fastq/M303P1_R1_001.fastq.gz -2 fastq/M303P1_R2_001.fastq.gz -p 24 --validateMappings -o ./quants/M303P1\r\n",
      "DONE@ Thu Nov 4 05:33:56 UTC 2021\r\n",
      "Processing sample M303P2\r\n",
      "salmon quant -i /rumi/shams/abe/genomes/hg38/gencode.v34/salmon_index/ -l A -1 fastq/M303P2_R1_001.fastq.gz -2 fastq/M303P2_R2_001.fastq.gz -p 24 --validateMappings -o ./quants/M303P2\r\n",
      "DONE@ Thu Nov 4 05:36:09 UTC 2021\r\n",
      "Processing sample SOX9N1\r\n",
      "salmon quant -i /rumi/shams/abe/genomes/hg38/gencode.v34/salmon_index/ -l A -1 fastq/SOX9N1_R1_001.fastq.gz -2 fastq/SOX9N1_R2_001.fastq.gz -p 24 --validateMappings -o ./quants/SOX9N1\r\n",
      "DONE@ Thu Nov 4 05:38:24 UTC 2021\r\n",
      "Processing sample SOX9N2\r\n",
      "salmon quant -i /rumi/shams/abe/genomes/hg38/gencode.v34/salmon_index/ -l A -1 fastq/SOX9N2_R1_001.fastq.gz -2 fastq/SOX9N2_R2_001.fastq.gz -p 24 --validateMappings -o ./quants/SOX9N2\r\n",
      "DONE@ Thu Nov 4 05:40:59 UTC 2021\r\n",
      "Processing sample SOX9P1\r\n",
      "salmon quant -i /rumi/shams/abe/genomes/hg38/gencode.v34/salmon_index/ -l A -1 fastq/SOX9P1_R1_001.fastq.gz -2 fastq/SOX9P1_R2_001.fastq.gz -p 24 --validateMappings -o ./quants/SOX9P1\r\n",
      "DONE@ Thu Nov 4 05:43:58 UTC 2021\r\n",
      "Processing sample SOX9P2\r\n",
      "salmon quant -i /rumi/shams/abe/genomes/hg38/gencode.v34/salmon_index/ -l A -1 fastq/SOX9P2_R1_001.fastq.gz -2 fastq/SOX9P2_R2_001.fastq.gz -p 24 --validateMappings -o ./quants/SOX9P2\r\n",
      "DONE@ Thu Nov 4 05:45:45 UTC 2021\r\n"
     ]
    }
   ],
   "source": [
    "cat salmon.out"
   ]
  },
  {
   "cell_type": "code",
   "execution_count": null,
   "id": "a8011f53",
   "metadata": {},
   "outputs": [],
   "source": []
  },
  {
   "cell_type": "code",
   "execution_count": null,
   "id": "81e6fbf0",
   "metadata": {},
   "outputs": [],
   "source": []
  },
  {
   "cell_type": "code",
   "execution_count": 2,
   "id": "a30010a9",
   "metadata": {},
   "outputs": [],
   "source": [
    "%load_ext rpy2.ipython"
   ]
  },
  {
   "cell_type": "code",
   "execution_count": 14,
   "id": "fef9b6f7",
   "metadata": {},
   "outputs": [],
   "source": [
    "%%R \n",
    "suppressMessages(suppressWarnings(library(IsoformSwitchAnalyzeR)))\n",
    "suppressMessages(suppressWarnings(library(GenomicFeatures)))\n",
    "suppressMessages(suppressWarnings(library(tidyverse)))\n",
    "suppressMessages(suppressWarnings(library(BiocParallel)))\n",
    "suppressMessages(suppressWarnings(library(ggplot2)))\n",
    "suppressMessages(suppressWarnings(library(ggrepel)))\n",
    "suppressMessages(suppressWarnings(library(patchwork)))"
   ]
  },
  {
   "cell_type": "markdown",
   "id": "66a24f13",
   "metadata": {},
   "source": [
    "> ### _IsoformSwitchAnalyzeR_\n",
    "> Enabling Identification and Analysis of Isoform Switches with Functional Consequences and the Associated Alternative Splicing\n",
    "> https://bioconductor.org/packages/devel/bioc/vignettes/IsoformSwitchAnalyzeR/inst/doc/IsoformSwitchAnalyzeR.html"
   ]
  },
  {
   "cell_type": "code",
   "execution_count": 18,
   "id": "18fd245f",
   "metadata": {},
   "outputs": [
    {
     "name": "stdout",
     "output_type": "stream",
     "text": [
      "[1] ‘1.10.0’\n"
     ]
    }
   ],
   "source": [
    "%%R \n",
    "packageVersion('IsoformSwitchAnalyzeR')"
   ]
  },
  {
   "cell_type": "markdown",
   "id": "e4705449",
   "metadata": {},
   "source": [
    "> ### _Importing the Data_\n",
    "The first step is to import all data needed for the analysis into R and then concatenate them as a `switchAnalyzeRlist` object. \n",
    "\n",
    "<!-- > #### _Importing Data from Salmon via Tximeta_\n",
    "The following approach uses `tximeta` ([Love et al 2020](https://bioconductor.org/packages/devel/bioc/vignettes/tximeta/inst/doc/tximeta.html)) to import Salmon quantification into R. The nice thing about using `tximeta` is that it automatically identifies which transcriptome was quantified (if quantified with Salmon >= 1.1.0). If the quantififed transcriptome is one of the main databases and model organisms `tximeta` support we can automatically import the assocated annoation (GTF and Fasta file) making the creation of the `switchAnalyzeRlist` smoother.\n",
    "\n",
    "> This approach has two steps:\n",
    "> - Step 1) Create a `data.frame` indicating which quantification files to import as well as annotating which files belong to which conditions.\n",
    "> - Step 2) Create the switchAnalyzeRlist from the data.frame produced in step 1.\n",
    "\n",
    "> __Step 1__ The `data.frame` decsribed above can either be created using the build in prepareSalmonFileDataFrame() wrapper or created manually (see documentation of prepareSalmonFileDataFrame() for specifications.). The prepareSalmonFileDataFrame() is a function where you supply the path to a directory and then the function findes Salmon quantification files (each located in a seperate sub-directory) and creates the data.frame nessesary. It is used as follows:\n",
    "\n",
    " -->"
   ]
  },
  {
   "cell_type": "code",
   "execution_count": 21,
   "id": "6764154f",
   "metadata": {},
   "outputs": [
    {
     "name": "stderr",
     "output_type": "stream",
     "text": [
      "R[write to console]: Step 1 of 3: Identifying which algorithm was used...\n",
      "\n",
      "R[write to console]:     The quantification algorithm used was: Salmon\n",
      "\n",
      "R[write to console]:     Found 12 quantification file(s) of interest\n",
      "\n",
      "R[write to console]: Step 2 of 3: Reading data...\n",
      "\n",
      "R[write to console]: reading in files with read_tsv\n",
      "\n",
      "R[write to console]: 1 \n",
      "R[write to console]: 2 \n",
      "R[write to console]: 3 \n",
      "R[write to console]: 4 \n",
      "R[write to console]: 5 \n",
      "R[write to console]: 6 \n",
      "R[write to console]: 7 \n",
      "R[write to console]: 8 \n",
      "R[write to console]: 9 \n",
      "R[write to console]: 10 \n",
      "R[write to console]: 11 \n",
      "R[write to console]: 12 \n",
      "R[write to console]: \n",
      "\n",
      "R[write to console]: Step 3 of 3: Normalizing FPKM/TxPM values via edgeR...\n",
      "\n",
      "R[write to console]: Done\n",
      "\n",
      "\n"
     ]
    }
   ],
   "source": [
    "%%R \n",
    "# Import Salmon example data in R package\n",
    "salmonQuant <- importIsoformExpression(\n",
    "    parentDir = './quants',\n",
    "    addIsofomIdAsColumn = TRUE\n",
    ")\n",
    "\n",
    "# salmonDf <- prepareSalmonFileDataFrame(\n",
    "#     parentDir = './quants'\n",
    "# )"
   ]
  },
  {
   "cell_type": "code",
   "execution_count": 38,
   "id": "89d03ecb",
   "metadata": {},
   "outputs": [
    {
     "name": "stdout",
     "output_type": "stream",
     "text": [
      "gencode.v34.annotation.consExons.gtf  gencode.v34.transcripts.fa\r\n",
      "gencode.v34.annotation.gtf            \u001b[0m\u001b[01;31mgene2name-gencode.v34.csv.gz\u001b[0m\r\n",
      "gencode.v34.annotation.Introns.gtf    GRCh38.primary_assembly.genome.fa\r\n",
      "\u001b[01;31mgencode.v34.basic.annotation.gtf.gz\u001b[0m   \u001b[01;34msalmon_index\u001b[0m/\r\n",
      "gencode.v34.metadata.EntrezGene       \u001b[01;34mstar_index\u001b[0m/\r\n"
     ]
    }
   ],
   "source": [
    "ls /rumi/shams/abe/genomes/hg38/gencode.v34/"
   ]
  },
  {
   "cell_type": "code",
   "execution_count": 39,
   "id": "7a585751",
   "metadata": {},
   "outputs": [
    {
     "name": "stderr",
     "output_type": "stream",
     "text": [
      "R[write to console]: Import genomic features from the file as a GRanges object ... \n",
      "R[write to console]: OK\n",
      "\n",
      "R[write to console]: Prepare the 'metadata' data frame ... \n",
      "R[write to console]: OK\n",
      "\n",
      "R[write to console]: Make the TxDb object ... \n",
      "R[write to console]: OK\n",
      "\n",
      "R[write to console]: 'select()' returned 1:1 mapping between keys and columns\n",
      "\n"
     ]
    }
   ],
   "source": [
    "%%R \n",
    "GTFFile='/rumi/shams/abe/genomes/hg38/gencode.v34/gencode.v34.annotation.gtf'\n",
    "FASTAFile='/rumi/shams/abe/genomes/hg38/gencode.v34/gencode.v34.transcripts.fa'\n",
    "gtf <- rtracklayer::import(GTFFile)\n",
    "\n",
    "gene2name <- gtf[gtf$type == \"gene\"] %>% data.frame %>% column_to_rownames('gene_id') %>% dplyr::select('gene_name')\n",
    "\n",
    "txdb  = makeTxDbFromGFF(\n",
    "    '/rumi/shams/abe/genomes/hg38/gencode.v34/gencode.v34.annotation.gtf', \n",
    "    organism='Homo sapiens')\n",
    "\n",
    "# tx2gene objects \n",
    "k <- keys(txdb, keytype = \"TXNAME\")\n",
    "tx2gene <- AnnotationDbi::select(txdb, k, \"GENEID\", \"TXNAME\")"
   ]
  },
  {
   "cell_type": "code",
   "execution_count": 40,
   "id": "390a7cbe",
   "metadata": {},
   "outputs": [
    {
     "name": "stdout",
     "output_type": "stream",
     "text": [
      "             TXNAME            GENEID\n",
      "1 ENST00000456328.2 ENSG00000223972.5\n",
      "2 ENST00000450305.2 ENSG00000223972.5\n",
      "3 ENST00000473358.1 ENSG00000243485.5\n",
      "4 ENST00000469289.1 ENSG00000243485.5\n",
      "5 ENST00000607096.1 ENSG00000284332.1\n",
      "6 ENST00000606857.1 ENSG00000268020.3\n"
     ]
    }
   ],
   "source": [
    "%%R \n",
    "tx2gene %>% head "
   ]
  },
  {
   "cell_type": "markdown",
   "id": "4cd19684",
   "metadata": {},
   "source": [
    "> Apart from the isoform quantification we need 2-3 additional sets of annotation in the IsoformSwitchAnalyzeR workflow:\n",
    "> 1. A design matrix\n",
    "> 2. The transcript structure of the isoforms (in genomic coordinates) as well as information about which isoforms originate from the same gene (GTF file). You just have to tell IsoformSwitchAnalyzeR where the file is located on your computer/server. Please note that IsoformSwitchAnalyzeR also support RefSeq GFF files - for all other database you have to use a GTF file - see What Transcript Database Should I Use? for recomendations on databases and more info on how to obtain these.\n",
    "> 3. We highly recommended that the transcript nucleotide sequences (the fasta file used to make the index for the quantification tool) is also supplied to IsoformSwitchAnalyzeR. "
   ]
  },
  {
   "cell_type": "code",
   "execution_count": 52,
   "id": "0ad20464",
   "metadata": {},
   "outputs": [
    {
     "name": "stdout",
     "output_type": "stream",
     "text": [
      "   sampleID          condition\n",
      "1     GFPN1         GFP-no-dox\n",
      "2     GFPN2         GFP-no-dox\n",
      "3     GFPP1            GFP-dox\n",
      "4     GFPP2            GFP-dox\n",
      "5    SOX9N1        SOX9-no-dox\n",
      "6    SOX9N2        SOX9-no-dox\n",
      "7    SOX9P1           SOX9-dox\n",
      "8    SOX9P2           SOX9-dox\n",
      "9    M303N1 mutSOX9-303-no-dox\n",
      "10   M303N2 mutSOX9-303-no-dox\n",
      "11   M303P1    mutSOX9-303-dox\n",
      "12   M303P2    mutSOX9-303-dox\n"
     ]
    }
   ],
   "source": [
    "%%R \n",
    "myDesign <- read.table('samplesheet.txt', sep='\\t', header=TRUE) %>% \n",
    "    mutate(condition=paste(Group,'-',DOX,sep=''))%>% \n",
    "    select(c('FastQ','condition')) %>% dplyr::rename(sampleID=FastQ)\n",
    "\n",
    "myDesign"
   ]
  },
  {
   "cell_type": "markdown",
   "id": "5a2f42ec",
   "metadata": {},
   "source": [
    "> ### _comparisonsToMake_\n",
    "A data.frame with two columns indicating which pairwise comparisons the switchAnalyzeRlist created should contain. The two columns, called ’condition_1’ and\n",
    "’condition_2’ indicate which conditions should be compared and the strings indicated here must match the strings in the `designMatrix$condition` column.\n",
    "If not supplied all pairwise (unique non directional) comparisons of the conditions given in `designMatrix$condition` are created. If only a subset of the\n",
    "supplied data is used in the comparisons the Un-used data is automatically removed."
   ]
  },
  {
   "cell_type": "markdown",
   "id": "7828772a",
   "metadata": {},
   "source": [
    "Nilay's emails: \n",
    "> so this is the sample, where we expect the magic:\n",
    "\n",
    "    SOX9P1\tSOX9\tdox\t1\n",
    "    SOX9P2\tSOX9\tdox\t2\n",
    "> all other samples can be used as a control, but these are the best controls to use.\n",
    "\n",
    "    GFP no dox\n",
    "    GFP dox\n",
    "    and\n",
    "    SOX9 no dox"
   ]
  },
  {
   "cell_type": "code",
   "execution_count": 51,
   "id": "4044503b",
   "metadata": {},
   "outputs": [
    {
     "name": "stdout",
     "output_type": "stream",
     "text": [
      "  condition_2 condition_1\n",
      "1    SOX9-dox SOX9-no-dox\n",
      "2    SOX9-dox  GFP-no-dox\n",
      "3    SOX9-dox     GFP-dox\n"
     ]
    }
   ],
   "source": [
    "%%R \n",
    "myComparisons = data.frame(\n",
    "    condition_2=rep('SOX9-dox',3),\n",
    "    condition_1=c('SOX9-no-dox','GFP-no-dox','GFP-dox')\n",
    ")\n",
    "\n",
    "myComparisons"
   ]
  },
  {
   "cell_type": "code",
   "execution_count": 53,
   "id": "b7ac219f",
   "metadata": {},
   "outputs": [
    {
     "name": "stderr",
     "output_type": "stream",
     "text": [
      "R[write to console]: Step 1 of 6: Checking data...\n",
      "\n",
      "R[write to console]: Please note that some condition names were changed due to names not suited for modeling in R.\n",
      "\n",
      "R[write to console]: Step 2 of 6: Obtaining annotation...\n",
      "\n",
      "R[write to console]:     importing GTF (this may take a while)\n",
      "\n",
      "R[write to console]: Step 3 of 6: Calculating gene expression and isoform fraction...\n",
      "\n",
      "R[write to console]:      98366 ( 43.5%) isoforms were removed since they were not expressed in any samples.\n",
      "\n",
      "R[write to console]: Step 4 of 6: Merging gene and isoform expression...\n",
      "\n"
     ]
    },
    {
     "name": "stdout",
     "output_type": "stream",
     "text": [
      "  |======================================================================| 100%\n"
     ]
    },
    {
     "name": "stderr",
     "output_type": "stream",
     "text": [
      "R[write to console]: Step 5 of 6: Making comparisons...\n",
      "\n"
     ]
    },
    {
     "name": "stdout",
     "output_type": "stream",
     "text": [
      "  |======================================================================| 100%\n"
     ]
    },
    {
     "name": "stderr",
     "output_type": "stream",
     "text": [
      "R[write to console]: Step 6 of 6: Making switchAnalyzeRlist object...\n",
      "\n",
      "R[write to console]: Done\n",
      "\n"
     ]
    }
   ],
   "source": [
    "%%R \n",
    "# Create switchAnalyzeRlist\n",
    "aSwitchList <- importRdata(\n",
    "    isoformCountMatrix   = salmonQuant$counts,\n",
    "    isoformRepExpression = salmonQuant$abundance,\n",
    "    designMatrix         = myDesign,\n",
    "    comparisonsToMake    = myComparisons,\n",
    "    isoformExonAnnoation = GTFFile,\n",
    "    isoformNtFasta       = FASTAFile,\n",
    "    showProgress = TRUE\n",
    ")"
   ]
  },
  {
   "cell_type": "code",
   "execution_count": 54,
   "id": "d1e3ecb5",
   "metadata": {},
   "outputs": [],
   "source": [
    "!mkdir -p iso"
   ]
  },
  {
   "cell_type": "code",
   "execution_count": 55,
   "id": "2c5dfaa3",
   "metadata": {},
   "outputs": [
    {
     "name": "stderr",
     "output_type": "stream",
     "text": [
      "R[write to console]: The filtering removed 83037 ( 65% of ) transcripts. There is now 44719 isoforms left\n",
      "\n",
      "R[write to console]: Step 1 of 6: Creating DM data object...\n",
      "\n",
      "R[write to console]: Step 2 of 6: Filtering DM data object...\n",
      "\n",
      "R[write to console]: Step 3 of 6: Estimating precision paramter (this may take a while)...\n",
      "\n",
      "R[write to console]: Step 4 of 6: Fitting linear models (this may take a while)...\n",
      "\n",
      "R[write to console]: Step 5 of 6: Testing pairwise comparison(s)...\n",
      "\n"
     ]
    },
    {
     "name": "stdout",
     "output_type": "stream",
     "text": [
      "  |======================================================================| 100%\n"
     ]
    },
    {
     "name": "stderr",
     "output_type": "stream",
     "text": [
      "R[write to console]: Step 6 of 6: Preparing output...\n",
      "\n",
      "R[write to console]: Result added switchAnalyzeRlist\n",
      "\n",
      "R[write to console]: An isoform switch analysis was performed for 30315 gene comparisons (99.8%).\n",
      "\n",
      "R[write to console]: Done\n",
      "\n",
      "R[write to console]: Step 1 of 3: Massaging data...\n",
      "\n",
      "R[write to console]: Step 2 of 3: Analyzing splicing...\n",
      "\n"
     ]
    },
    {
     "name": "stdout",
     "output_type": "stream",
     "text": [
      "  |======================================================================| 100%\n"
     ]
    },
    {
     "name": "stderr",
     "output_type": "stream",
     "text": [
      "R[write to console]: Step 3 of 3: Preparing output...\n",
      "\n",
      "R[write to console]: Done\n",
      "\n",
      "R[write to console]: Done\n",
      "\n",
      "R[write to console]: Step 1 of 4: Extracting genes with isoform switches...\n",
      "\n",
      "R[write to console]: Step 2 of 4: Analyzing 73565 pairwise isoforms comparisons...\n",
      "\n",
      "R[write to console]: Step 3 of 4: Massaging isoforms comparisons results...\n",
      "\n",
      "R[write to console]: Step 4 of 4: Preparing output...\n",
      "\n",
      "R[write to console]: Identified  genes with containing isoforms switching with functional consequences...\n",
      "\n",
      "R[write to console]: Step 1 of 4: Extracting genes with isoform switches...\n",
      "\n",
      "R[write to console]: Step 2 of 4: Analyzing 73565 pairwise isoforms comparisons...\n",
      "\n"
     ]
    },
    {
     "name": "stdout",
     "output_type": "stream",
     "text": [
      "  |======================================================================| 100%\n"
     ]
    },
    {
     "name": "stderr",
     "output_type": "stream",
     "text": [
      "R[write to console]: Step 3 of 4: Massaging isoforms comparisons results...\n",
      "\n",
      "R[write to console]: Step 4 of 4: Preparing output...\n",
      "\n",
      "R[write to console]: Identified  genes with containing isoforms switching with functional consequences...\n",
      "\n"
     ]
    }
   ],
   "source": [
    "%%R \n",
    "aSwitchListFiltered <- preFilter(\n",
    "  switchAnalyzeRlist = aSwitchList,\n",
    "  geneExpressionCutoff = 1,\n",
    "  isoformExpressionCutoff = 0.5,\n",
    "  removeSingleIsoformGenes = TRUE\n",
    ")\n",
    "\n",
    "aSwitchListAnalyzed <- isoformSwitchTestDRIMSeq(\n",
    "     switchAnalyzeRlist = aSwitchListFiltered,\n",
    "     testIntegration='isoform_only',\n",
    "     alpha = 1,\n",
    "     dIFcutoff = 0\n",
    ")\n",
    "\n",
    "extractSwitchSummary(aSwitchListAnalyzed)\n",
    "aSwitchListAnalyzed <- analyzeIntronRetention(aSwitchListAnalyzed)\n",
    "table(aSwitchListAnalyzed$isoformFeatures$IR)\n",
    "consequencesOfInterest <- c('intron_retention')\n",
    "aSwitchListAnalyzed <- analyzeSwitchConsequences(\n",
    "  aSwitchListAnalyzed,\n",
    "  consequencesToAnalyze = consequencesOfInterest,\n",
    "  dIFcutoff = 0,\n",
    "  alpha = 1,\n",
    "  showProgress=FALSE\n",
    ")\n",
    "\n",
    "aSwitchListAnalyzed <- analyzeSwitchConsequences(\n",
    "  aSwitchListAnalyzed,\n",
    "  consequencesToAnalyze = consequencesOfInterest,\n",
    "  dIFcutoff = 0,\n",
    "  alpha = 1\n",
    ")\n",
    "\n",
    "write.table(aSwitchListAnalyzed$isoformFeatures, 'iso/isoform_switch_results.txt', sep='\\t', quote=F)\n",
    "\n",
    "saveRDS(aSwitchListAnalyzed, 'iso/aSwitchListAnalyzed.rds')\n",
    "saveRDS(aSwitchList, 'iso/aSwitchList.rds')\n",
    "\n",
    "#savehistory(file = \"Iso.R\")\n",
    "# https://jmw86069.github.io/splicejam/index.html\n"
   ]
  },
  {
   "cell_type": "code",
   "execution_count": 56,
   "id": "d76666ad",
   "metadata": {},
   "outputs": [
    {
     "name": "stdout",
     "output_type": "stream",
     "text": [
      "Thu Nov  4 22:57:06 UTC 2021\r\n"
     ]
    }
   ],
   "source": [
    "!date"
   ]
  },
  {
   "cell_type": "code",
   "execution_count": 58,
   "id": "4fec4048",
   "metadata": {},
   "outputs": [
    {
     "name": "stdout",
     "output_type": "stream",
     "text": [
      "This switchAnalyzeRlist list contains:\n",
      " 127756 isoforms from 29904 genes\n",
      " 3 comparison from 4 conditions (in total 8 samples)\n",
      "\n",
      "Feature analyzed:\n",
      "[1] \"ORFs, ntSequence\"\n"
     ]
    }
   ],
   "source": [
    "%%R \n",
    "summary(aSwitchList)"
   ]
  },
  {
   "cell_type": "code",
   "execution_count": null,
   "id": "0fc19af8",
   "metadata": {},
   "outputs": [],
   "source": []
  },
  {
   "cell_type": "code",
   "execution_count": 63,
   "id": "3f033b11",
   "metadata": {},
   "outputs": [
    {
     "name": "stdout",
     "output_type": "stream",
     "text": [
      "This switchAnalyzeRlist list contains:\n",
      " 259 isoforms from 84 genes\n",
      " 1 comparison from 2 conditions (in total 6 samples)\n",
      "\n",
      "Feature analyzed:\n",
      "[1] \"ORFs, ntSequence\"\n"
     ]
    }
   ],
   "source": [
    "%%R \n",
    "data(\"exampleSwitchList\")\n",
    "\n",
    "# exampleSwitchList <- subsetSwitchAnalyzeRlist(\n",
    "#     switchAnalyzeRlist = exampleSwitchList,\n",
    "#     subset = abs(exampleSwitchList$isoformFeatures$dIF) > 0.4\n",
    "# )\n",
    "\n",
    "# extractSwitchSummary( exampleSwitchList )\n",
    "exampleSwitchList "
   ]
  },
  {
   "cell_type": "code",
   "execution_count": null,
   "id": "30f706ef",
   "metadata": {},
   "outputs": [],
   "source": []
  },
  {
   "cell_type": "code",
   "execution_count": null,
   "id": "99521faf",
   "metadata": {},
   "outputs": [],
   "source": []
  },
  {
   "cell_type": "code",
   "execution_count": 57,
   "id": "94c15821",
   "metadata": {},
   "outputs": [
    {
     "name": "stdout",
     "output_type": "stream",
     "text": [
      "iso_ref\tgene_ref\tisoform_id\tgene_id\tcondition_1\tcondition_2\tgene_name\tgene_biotype\tiso_biotype\tgene_overall_mean\tgene_value_1\tgene_value_2\tgene_stderr_1\tgene_stderr_2\tgene_log2_fold_change\tgene_q_value\tiso_overall_mean\tiso_value_1\tiso_value_2\tiso_stderr_1\tiso_stderr_2\tiso_log2_fold_change\tiso_q_value\tIF_overall\tIF1\tIF2\tdIF\tisoform_switch_q_value\tgene_switch_q_value\tPTC\tIR\tswitchConsequencesGene\r\n",
      "1\tisoComp_00000001\tgeneComp_00000001\tENST00000373020.9\tENSG00000000003.15\tGFP_dox\tSOX9_dox\tTSPAN6\tprotein_coding\tprotein_coding\t23.84840538064\t21.9864499735924\t25.3385784511022\t0.137502077308534\t0.800108684363273\t0.204634138408735\tNA\t19.1640260808249\t18.8135356739888\t21.5138005432493\t0.265264530007853\t0.208211449010186\t0.193395204094833\tNA\t0.806125\t0.85565\t0.84965\t-0.00600000000000001\t1\t0.683275245957705\tFALSE\tNA\tFALSE\r\n",
      "2\tisoComp_00000002\tgeneComp_00000001\tENST00000496771.5\tENSG00000000003.15\tGFP_dox\tSOX9_dox\tTSPAN6\tprotein_coding\tprocessed_transcript\t23.84840538064\t21.9864499735924\t25.3385784511022\t0.137502077308534\t0.800108684363273\t0.204634138408735\tNA\t1.70196737270551\t0.792563879191049\t2.70764894301728\t0.491785851400207\t0.41738648614976\t1.75967097387858\tNA\t0.0713375\t0.03595\t0.10645\t0.0705\t0.683275245957705\t0.683275245957705\tNA\tNA\tFALSE\r\n",
      "4\tisoComp_00000004\tgeneComp_00000001\tENST00000614008.4\tENSG00000000003.15\tGFP_dox\tSOX9_dox\tTSPAN6\tprotein_coding\tprotein_coding\t23.84840538064\t21.9864499735924\t25.3385784511022\t0.137502077308534\t0.800108684363273\t0.204634138408735\tNA\t2.9465375552833\t2.33174274160793\t1.03362902537011\t0.620766725735646\t0.240202730535742\t-1.16597361942953\tNA\t0.121025\t0.1062\t0.0405\t-0.0657\t0.853420782090053\t0.683275245957705\tFALSE\tNA\tFALSE\r\n",
      "13\tisoComp_00000013\tgeneComp_00000004\tENST00000367771.11\tENSG00000000457.14\tGFP_dox\tSOX9_dox\tSCYL3\tprotein_coding\tprotein_coding\t4.52407716190919\t4.96980994869839\t4.22320283457569\t0.0554769073662999\t0.238009618842463\t-0.234341066527955\tNA\t0.866139323774476\t0.978554764448189\t1.06900219583398\t0.0612340062683053\t0.261115987899792\t0.126305004381625\tNA\t0.1930625\t0.1968\t0.25745\t0.06065\t1\t0.926917314970384\tFALSE\tNA\tFALSE\r\n",
      "14\tisoComp_00000014\tgeneComp_00000004\tENST00000367772.8\tENSG00000000457.14\tGFP_dox\tSOX9_dox\tSCYL3\tprotein_coding\tprotein_coding\t4.52407716190919\t4.96980994869839\t4.22320283457569\t0.0554769073662999\t0.238009618842463\t-0.234341066527955\tNA\t2.25668127118757\t2.687504451274\t1.56549147780485\t0.0925573580641099\t0.0678371267969272\t-0.775823389863712\tNA\t0.4978625\t0.54105\t0.37095\t-0.1701\t0.926917314970384\t0.926917314970384\tFALSE\tNA\tFALSE\r\n",
      "15\tisoComp_00000015\tgeneComp_00000004\tENST00000423670.1\tENSG00000000457.14\tGFP_dox\tSOX9_dox\tSCYL3\tprotein_coding\tprotein_coding\t4.52407716190919\t4.96980994869839\t4.22320283457569\t0.0554769073662999\t0.238009618842463\t-0.234341066527955\tNA\t1.20829982831784\t1.01464904078003\t1.48180220154823\t0.109173675030917\t0.324381520556701\t0.541926413494682\tNA\t0.26495\t0.20395\t0.34765\t0.1437\t1\t0.926917314970384\tFALSE\tNA\tFALSE\r\n",
      "17\tisoComp_00000017\tgeneComp_00000005\tENST00000286031.10\tENSG00000000460.17\tGFP_dox\tSOX9_dox\tC1orf112\tprotein_coding\tprotein_coding\t14.0804617310573\t13.3007708749932\t16.1172500039538\t0.728923502297574\t2.35137690749671\t0.276906327762137\tNA\t0.691124533553768\t0.847677513804211\t0.8209205506486\t0.519443362176745\t0.615603994263322\t-0.0457247584982112\tNA\t0.04845\t0.06605\t0.04635\t-0.0197\t1\t0.909951064368647\tFALSE\tNA\tFALSE\r\n",
      "18\tisoComp_00000018\tgeneComp_00000005\tENST00000359326.9\tENSG00000000460.17\tGFP_dox\tSOX9_dox\tC1orf112\tprotein_coding\tprotein_coding\t14.0804617310573\t13.3007708749932\t16.1172500039538\t0.728923502297574\t2.35137690749671\t0.276906327762137\tNA\t2.82173338171603\t2.26801870049837\t2.41022500157074\t1.1067743388449\t0.534747971797543\t0.0873615867384404\tNA\t0.20335\t0.16645\t0.1577\t-0.00874999999999998\t1\t0.909951064368647\tFALSE\tNA\tFALSE\r\n",
      "19\tisoComp_00000019\tgeneComp_00000005\tENST00000413811.3\tENSG00000000460.17\tGFP_dox\tSOX9_dox\tC1orf112\tprotein_coding\tprotein_coding\t14.0804617310573\t13.3007708749932\t16.1172500039538\t0.728923502297574\t2.35137690749671\t0.276906327762137\tNA\t3.02472074540156\t3.18726924574923\t3.73636214969373\t0.354290725371528\t1.24628562836328\t0.228650127107694\tNA\t0.2178875\t0.2418\t0.22535\t-0.01645\t1\t0.909951064368647\tFALSE\tNA\tFALSE\r\n"
     ]
    }
   ],
   "source": [
    "cat iso/isoform_switch_results.txt | head "
   ]
  },
  {
   "cell_type": "code",
   "execution_count": null,
   "id": "a2c47f98",
   "metadata": {},
   "outputs": [],
   "source": []
  },
  {
   "cell_type": "markdown",
   "id": "5bb391ab",
   "metadata": {},
   "source": [
    "### `bed` files \n",
    "\n",
    "Description of the files:\n",
    "> There's two GFP dox positive controls GFP_1_DOX_pos and GFP_2_DOX_pos.\n",
    "> - The SOX9 dox positive samples are SOX9_1_DOX_pos and SOX9_2_DOX_pos.\n",
    "> - The SOX9 dox negative samples are sox9_1_DOX_neg and sox9_2_DOX_neg.\n",
    "> - There's also the truncated version of SOX9 which is S303. The S303 dox positive samples are s303_1_DOX_pos and s303_2_DOX_pos, and the S303 dox negative samples are s303_1_DOX_neg and s303_2_DOX_neg.\n",
    "\n",
    "> We use all 4 - GFP_dox, SOX9_no_dox, S303_dox, and S303_no_dox as controls against SOX9_dox."
   ]
  },
  {
   "cell_type": "code",
   "execution_count": 64,
   "id": "d01e9c5a",
   "metadata": {},
   "outputs": [
    {
     "name": "stdout",
     "output_type": "stream",
     "text": [
      "GFP_1_DOX_pos_IDX1.rep1_sorted_peaks.narrowPeak.bed\r\n",
      "GFP_2_DOX_pos_IDX2.rep1_sorted_peaks.narrowPeak.bed\r\n",
      "s303_1_DOX_neg_IDX13.rep1_sorted_peaks.narrowPeak.bed\r\n",
      "s303_1_DOX_pos_IDX7.rep1_sorted_peaks.narrowPeak.bed\r\n",
      "s303_2_DOX_neg_IDX14.rep1_sorted_peaks.narrowPeak.bed\r\n",
      "s303_2_DOX_pos_IDX8.rep1_sorted_peaks.narrowPeak.bed\r\n",
      "sox9_1_DOX_neg_IDX11.rep1_sorted_peaks.narrowPeak.bed\r\n",
      "SOX9_1_DOX_pos_IDX3.rep1_sorted_peaks.narrowPeak.bed\r\n",
      "sox9_2_DOX_neg_IDX12.rep1_sorted_peaks.narrowPeak.bed\r\n",
      "SOX9_2_DOX_pos_IDX4.rep1_sorted_peaks.narrowPeak.bed\r\n"
     ]
    }
   ],
   "source": [
    "!ls bed_files/"
   ]
  },
  {
   "cell_type": "code",
   "execution_count": null,
   "id": "91470483",
   "metadata": {},
   "outputs": [],
   "source": []
  }
 ],
 "metadata": {
  "kernelspec": {
   "display_name": "Python [conda env:deseq2]",
   "language": "python",
   "name": "conda-env-deseq2-py"
  }
 },
 "nbformat": 4,
 "nbformat_minor": 5
}
