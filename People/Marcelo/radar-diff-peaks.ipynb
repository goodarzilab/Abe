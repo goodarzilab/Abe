{
 "cells": [
  {
   "cell_type": "markdown",
   "metadata": {},
   "source": [
    "## Tasks\n",
    "Collaborator | email\n",
    ":---|:---\n",
    "Perez, Marcelo | marcelo.perez@yale.edu\n",
    "Alarcon, Claudio | claudio.alarcon@yale.edu\n",
    "\n",
    "- [ ] Use `STAR` to align `gencode.v34` genome to the meRIP-seq data \n",
    "- [ ] Use `RADAR` to do differential analysis of m6A peaks\n",
    "- [ ] Run `guitar`\n",
    "- [ ] Use `FIRE` to do `DRACH` & `RGAC` motif enrichment analysis "
   ]
  },
  {
   "cell_type": "markdown",
   "metadata": {},
   "source": [
    "# Alignment task - Running `STAR`"
   ]
  },
  {
   "cell_type": "code",
   "execution_count": 1,
   "metadata": {
    "scrolled": false
   },
   "outputs": [
    {
     "name": "stdout",
     "output_type": "stream",
     "text": [
      "PDIR=$1\r\n",
      "JOBS=$2\r\n",
      "\r\n",
      "cd $PDIR\r\n",
      "mkdir -p bam\r\n",
      "mkdir -p logs/star_aligner\r\n",
      "\r\n",
      "INDEX='/rumi/shams/abe/genomes/hg38/gencode.v34/star_index'\r\n",
      "\r\n",
      "STAR --genomeLoad LoadAndExit --genomeDir $INDEX\r\n",
      "for fq in fastq/*R1*fastq.gz; do\r\n",
      "    fq1=`basename $fq`\r\n",
      "    fq2=${fq1/_R1_/_R2_}\r\n",
      "    out=${fq1/_R1_001.fastq.gz/}\r\n",
      "    echo '--------------' $out '--------------'\r\n",
      "    STAR \\\r\n",
      "    --outSAMtype BAM SortedByCoordinate \\\r\n",
      "    --readFilesCommand zcat \\\r\n",
      "    --runThreadN $JOBS \\\r\n",
      "    --genomeDir $INDEX \\\r\n",
      "    --readFilesIn fastq/$fq1 fastq/$fq2 \\\r\n",
      "    --outFileNamePrefix bam/$out \\\r\n",
      "    --outReadsUnmapped Fastx;\r\n",
      "\r\n",
      "    mv -v bam/${out}Aligned.sortedByCoord.out.bam bam/${out}.bam\r\n",
      "    mv -v bam/${out}Log.final.out logs/star_aligner/\r\n",
      "    rm -v bam/${out}*out*\r\n",
      "done\r\n",
      "\r\n",
      "STAR --genomeLoad Remove --genomeDir $INDEX\r\n",
      "\r\n",
      "rm -r _STARtmp/ Log.out Log.progress.out Aligned.out.sam\r\n"
     ]
    }
   ],
   "source": [
    "cat ~/GitHub/imRIP/scripts/star.sh"
   ]
  },
  {
   "cell_type": "markdown",
   "metadata": {},
   "source": [
    "# Peak calling task - Running `RADAR`\n",
    "\n",
    "https://scottzijiezhang.github.io/RADARmanual/workflow.html"
   ]
  },
  {
   "cell_type": "code",
   "execution_count": 4,
   "metadata": {},
   "outputs": [],
   "source": [
    "%reload_ext rpy2.ipython"
   ]
  },
  {
   "cell_type": "code",
   "execution_count": 5,
   "metadata": {},
   "outputs": [],
   "source": [
    "%%R \n",
    "suppressMessages(suppressWarnings(library (RADAR)))\n",
    "\n",
    "GTF = '/rumi/shams/abe/genomes/hg38/gencode.v34/gencode.v34.annotation.gtf'"
   ]
  },
  {
   "cell_type": "markdown",
   "metadata": {},
   "source": [
    "### 1. load `bam` files and make `MeRIP.RADAR` object\n",
    "I'll save the object for later usage while it takes long time to generate. "
   ]
  },
  {
   "cell_type": "code",
   "execution_count": 2,
   "metadata": {},
   "outputs": [],
   "source": [
    "import os\n",
    "from glob import glob "
   ]
  },
  {
   "cell_type": "markdown",
   "metadata": {},
   "source": [
    "Rename `fastq` files"
   ]
  },
  {
   "cell_type": "raw",
   "metadata": {},
   "source": [
    "for R in ['R1','R2']:\n",
    "    [os.rename(file, file.replace('NI','N').split('_')[0]+f'.{R}.input.fastq.gz')for file in glob(f'fastq/NI*{R}*')]\n",
    "    [os.rename(file, file.replace('NP','N').split('_')[0]+f'.{R}.m6A.fastq.gz')  for file in glob(f'fastq/NP*{R}*')]\n",
    "    [os.rename(file, file.replace('TI','T').split('_')[0]+f'.{R}.input.fastq.gz')for file in glob(f'fastq/TI*{R}*')]\n",
    "    [os.rename(file, file.replace('TP','T').split('_')[0]+f'.{R}.m6A.fastq.gz')  for file in glob(f'fastq/TP*{R}*')]"
   ]
  },
  {
   "cell_type": "markdown",
   "metadata": {},
   "source": [
    "Rename `bam` files"
   ]
  },
  {
   "cell_type": "raw",
   "metadata": {},
   "source": [
    "# [os.rename(file, file.replace('NI','N').split('_')[0]+'.input.bam') for file in glob('bam/NI*')]\n",
    "# [os.rename(file, file.replace('NP','N').split('_')[0]+'.m6A.bam') for file in glob('bam/NP*')]\n",
    "# [os.rename(file, file.replace('TI','T').split('_')[0]+'.input.bam') for file in glob('bam/TI*')]\n",
    "# [os.rename(file, file.replace('TP','T').split('_')[0]+'.m6A.bam') for file in glob('bam/TP*')]"
   ]
  },
  {
   "cell_type": "markdown",
   "metadata": {},
   "source": [
    "### _Nuc 15' vs. Nuc 0'_"
   ]
  },
  {
   "cell_type": "code",
   "execution_count": 37,
   "metadata": {
    "scrolled": false
   },
   "outputs": [
    {
     "name": "stdout",
     "output_type": "stream",
     "text": [
      "[1] \"Stage: index bam file ./bam//N-EGF0-1.input.bam\"\n",
      "[1] \"Stage: index bam file ./bam//N-EGF0-1.m6A.bam\"\n",
      "[1] \"Stage: index bam file ./bam//N-EGF0-2.input.bam\"\n",
      "[1] \"Stage: index bam file ./bam//N-EGF0-3.input.bam\"\n",
      "[1] \"Stage: index bam file ./bam//N-EGF0-3.m6A.bam\"\n",
      "[1] \"Stage: index bam file ./bam//N-EGF15-1.input.bam\"\n",
      "[1] \"Stage: index bam file ./bam//N-EGF15-1.m6A.bam\"\n",
      "[1] \"Stage: index bam file ./bam//N-EGF15-2.input.bam\"\n",
      "[1] \"Stage: index bam file ./bam//N-EGF15-2.m6A.bam\"\n",
      "[1] \"Stage: index bam file ./bam//N-EGF15-3.input.bam\"\n",
      "[1] \"Stage: index bam file ./bam//N-EGF15-3.m6A.bam\"\n",
      "Reading gtf file to obtain gene model\n",
      "Filter out ambiguous model...\n"
     ]
    },
    {
     "name": "stderr",
     "output_type": "stream",
     "text": [
      "R[write to console]: Import genomic features from the file as a GRanges object ... \n",
      "R[write to console]: OK\n",
      "\n",
      "R[write to console]: Prepare the 'metadata' data frame ... \n",
      "R[write to console]: OK\n",
      "\n",
      "R[write to console]: Make the TxDb object ... \n",
      "R[write to console]: OK\n",
      "\n"
     ]
    },
    {
     "name": "stdout",
     "output_type": "stream",
     "text": [
      "Gene model obtained from gtf file...\n",
      "counting reads for each genes, this step may takes a few hours....\n",
      "Hyper-thread registered: TRUE \n",
      "Using 18 thread(s) to count reads in continuous bins...\n",
      "Time used to count reads: 68.0863045970599 mins... \n"
     ]
    }
   ],
   "source": [
    "%%R \n",
    "radar <- countReads(\n",
    "\tsamplenames=c('N-EGF0-1','N-EGF0-2','N-EGF0-3','N-EGF15-1','N-EGF15-2','N-EGF15-3'), gtf = GTF,\n",
    "\tbamFolder='./bam/',modification = \"m6A\", \n",
    "    strandToKeep = \"opposite\",\n",
    "    outputDir='radar', \n",
    "    threads = 18\n",
    ") "
   ]
  },
  {
   "cell_type": "code",
   "execution_count": 67,
   "metadata": {},
   "outputs": [],
   "source": [
    "!mkdir -p radar"
   ]
  },
  {
   "cell_type": "code",
   "execution_count": 68,
   "metadata": {},
   "outputs": [],
   "source": [
    "%%R \n",
    "saveRDS(radar, 'radar/N-EGF15vs0-raw-Obj.rds')"
   ]
  },
  {
   "cell_type": "code",
   "execution_count": 39,
   "metadata": {},
   "outputs": [
    {
     "name": "stdout",
     "output_type": "stream",
     "text": [
      "MeRIP dataset of 6 samples.\n",
      "Read count quantified in 50-bp consecutive bins on the transcript.\n",
      "The total read count for Input and IP samples are (Million reads):\n",
      "      N-EGF0-1 N-EGF0-2 N-EGF0-3 N-EGF15-1 N-EGF15-2 N-EGF15-3\n",
      "Input    18.42    15.44     1.76      5.56     11.86     29.73\n",
      "IP        4.36     9.26     8.74     10.05     10.41     10.05\n"
     ]
    }
   ],
   "source": [
    "%%R \n",
    "summary(radar)"
   ]
  },
  {
   "cell_type": "markdown",
   "metadata": {},
   "source": [
    "___\n",
    "\n",
    "### 2. Running RADAR pre processing commands \n",
    "https://scottzijiezhang.github.io/RADARmanual/Mannual.html\n",
    "\n",
    "Proceesed data will be saved as `radar/*-processed-Obj.rds`"
   ]
  },
  {
   "cell_type": "code",
   "execution_count": 1,
   "metadata": {},
   "outputs": [],
   "source": [
    "%reload_ext rpy2.ipython"
   ]
  },
  {
   "cell_type": "code",
   "execution_count": 2,
   "metadata": {},
   "outputs": [],
   "source": [
    "%%R \n",
    "suppressMessages(suppressWarnings(library (RADAR)))"
   ]
  },
  {
   "cell_type": "code",
   "execution_count": 3,
   "metadata": {},
   "outputs": [],
   "source": [
    "%%R \n",
    "radar0 <- readRDS('radar/N-EGF15vs0-raw-Obj.rds')\n",
    "radar0 <- normalizeLibrary(radar0, boxPlot=0)"
   ]
  },
  {
   "cell_type": "code",
   "execution_count": 4,
   "metadata": {
    "scrolled": true
   },
   "outputs": [
    {
     "name": "stdout",
     "output_type": "stream",
     "text": [
      "Adjusting expression level using Input geneSum read count...\n"
     ]
    }
   ],
   "source": [
    "%%R \n",
    "radar0 <- adjustExprLevel(radar0)\n",
    "# radar <- adjustExprLevel(radar, adjustBy = \"pos\")\n",
    "\n",
    "# If you expect intensive alternative splicing events cross the experimental groups, \n",
    "# using gene-level read counts to represent pre-IP RNA level could leads to bias. \n",
    "# Therefore, the user can also choose to use the local bin-level read count to adjust \n",
    "# the pre-IP RNA level variation\n",
    "\n",
    "variable(radar0) <- data.frame( group = c(rep(\"time-0\",3),rep(\"time-15\",3)))"
   ]
  },
  {
   "cell_type": "code",
   "execution_count": 5,
   "metadata": {},
   "outputs": [
    {
     "name": "stdout",
     "output_type": "stream",
     "text": [
      "Filtering bins with low read counts...\n",
      "Bins with average counts lower than  15  in both groups have been removed...\n",
      "Filtering bins that is enriched in IP experiment...The predictor variable has been converted:\n",
      " time-0  time-0  time-0 time-15 time-15 time-15 \n",
      "      0       0       0       1       1       1 \n",
      "running PoissonGamma test at single beta mode\n",
      "Hyper-thread registered: TRUE \n",
      "Using 18 thread(s) to run PoissonGamma test...\n",
      "Time used to run PoissonGamma test: 0.70255982875824 mins... \n",
      "\n"
     ]
    }
   ],
   "source": [
    "%%R\n",
    "radar0 <- filterBins(radar0,minCountsCutOff = 15)\n",
    "\n",
    "radar0 <- diffIP_parallel(radar0,thread = 18)\n",
    "saveRDS(radar0, 'radar/N-EGF15vs0-processed-Obj.rds')"
   ]
  },
  {
   "cell_type": "markdown",
   "metadata": {},
   "source": [
    "### 4. Get results and select significant bins\n",
    "\n",
    "Results for all data (no filtering):"
   ]
  },
  {
   "cell_type": "code",
   "execution_count": 3,
   "metadata": {},
   "outputs": [
    {
     "name": "stdout",
     "output_type": "stream",
     "text": [
      "Hyper-thread registered: TRUE \n",
      "Using 18 thread(s) to report merged report...\n",
      "Time used to report peaks: 3.36799996693929 mins... \n",
      "When merging neighboring significant bins, logFC was reported as the max logFC among these bins.\n",
      "p-value of these bins were combined by Fisher's method.\n",
      "There are 29619 reported differential loci at FDR < 1.1 and logFoldChange > 0.\n"
     ]
    }
   ],
   "source": [
    "%%R \n",
    "radar0 <- readRDS('radar/N-EGF15vs0-processed-Obj.rds')\n",
    "\n",
    "radar_all <- reportResult(radar0, cutoff = 1.1, Beta_cutoff = 0.00, threads=18)\n",
    "\n",
    "result_all <- results(radar_all)\n",
    "rm(radar0)"
   ]
  },
  {
   "cell_type": "code",
   "execution_count": 4,
   "metadata": {},
   "outputs": [],
   "source": [
    "%%R \n",
    "saveRDS(result_all, 'radar/N-EGF15vs0-result_all-Obj.rds')"
   ]
  },
  {
   "cell_type": "markdown",
   "metadata": {},
   "source": [
    "> Due to the resolution of the MeRIP-seq experiment where RNA molecules are fragmented into 100-300nt, neighboring bins can usually contain reads from the same locus. Therefore, we do a post-processing to merge significant neighboring bins after the test to obtain a final list of differential peaks. We merge the p-value of connecting bins by fisher’s method and report the max beta from neighbouring bins.\n",
    "\n",
    "Here, we use FDR<0.1 and log fold change > 0.5 as default cutoff for selecting significant bins"
   ]
  },
  {
   "cell_type": "code",
   "execution_count": 6,
   "metadata": {},
   "outputs": [
    {
     "name": "stdout",
     "output_type": "stream",
     "text": [
      "Hyper-thread registered: TRUE \n",
      "Using 1 thread(s) to report merged report...\n",
      "Time used to report peaks: 1.84041694800059 mins... \n",
      "When merging neighboring significant bins, logFC was reported as the max logFC among these bins.\n",
      "p-value of these bins were combined by Fisher's method.\n",
      "There are 1664 reported differential loci at FDR < 0.1 and logFoldChange > 0.5.\n"
     ]
    }
   ],
   "source": [
    "%%R \n",
    "radar0 <- readRDS('radar/N-EGF15vs0-processed-Obj.rds')\n",
    "\n",
    "radar_sig <- reportResult(radar0, cutoff = 0.10, Beta_cutoff = 0.5) #, threads=18)\n",
    "\n",
    "result_sig = results(radar_sig) \n",
    "rm(radar0)"
   ]
  },
  {
   "cell_type": "code",
   "execution_count": 7,
   "metadata": {},
   "outputs": [],
   "source": [
    "%%R \n",
    "saveRDS(result_sig, 'radar/N-EGF15vs0-result_sig-Obj.rds')"
   ]
  },
  {
   "cell_type": "markdown",
   "metadata": {},
   "source": [
    "### 5. Pre processing plots\n",
    "\n",
    "Below command normalize the library and make box plots. I'll save the plots into files."
   ]
  },
  {
   "cell_type": "code",
   "execution_count": 7,
   "metadata": {},
   "outputs": [],
   "source": [
    "!mkdir -pv plots"
   ]
  },
  {
   "cell_type": "code",
   "execution_count": 8,
   "metadata": {},
   "outputs": [
    {
     "name": "stdout",
     "output_type": "stream",
     "text": [
      "png \n",
      "  2 \n"
     ]
    }
   ],
   "source": [
    "%%R\n",
    "## save pictures \n",
    "radar0 <- readRDS('radar/N-EGF15vs0-processed-Obj.rds')\n",
    "\n",
    "pdf('plots/boxPlot.pdf')\n",
    "radar <- normalizeLibrary(radar0)\n",
    "dev.off()\n",
    "png('plots/boxPlot.png')\n",
    "radar <- normalizeLibrary(radar0)\n",
    "dev.off()"
   ]
  },
  {
   "cell_type": "code",
   "execution_count": 12,
   "metadata": {},
   "outputs": [
    {
     "name": "stdout",
     "output_type": "stream",
     "text": [
      "Plot heat map for differential loci at FDR < 0.1 and logFoldChange > 0.5.\n",
      "Returning normalized and expression level adjusted IP read counts.\n",
      "Plot heat map for differential loci at FDR < 0.1 and logFoldChange > 0.5.\n",
      "Returning normalized and expression level adjusted IP read counts.\n",
      "png \n",
      "  2 \n"
     ]
    }
   ],
   "source": [
    "%%R \n",
    "pdf('plots/HeatMap.pdf')\n",
    "plotHeatMap(radar_sig)\n",
    "dev.off()\n",
    "png('plots/HeatMap.png')\n",
    "plotHeatMap(radar_sig)\n",
    "dev.off()"
   ]
  },
  {
   "cell_type": "code",
   "execution_count": 13,
   "metadata": {},
   "outputs": [
    {
     "name": "stdout",
     "output_type": "stream",
     "text": [
      "Plot heat map for differential loci at FDR < 0.1 and logFoldChange > 0.5.\n",
      "Returning normalized and expression level adjusted IP read counts.\n"
     ]
    },
    {
     "data": {
      "image/png": "[encoded data removed]"
     },
     "metadata": {},
     "output_type": "display_data"
    }
   ],
   "source": [
    "%%R \n",
    "plotHeatMap(radar_sig)"
   ]
  },
  {
   "cell_type": "code",
   "execution_count": 25,
   "metadata": {},
   "outputs": [
    {
     "name": "stdout",
     "output_type": "stream",
     "text": [
      "There are 1664 reported differential loci at FDR < 0.1 and logFoldChange > 0.5.\n"
     ]
    },
    {
     "name": "stderr",
     "output_type": "stream",
     "text": [
      "R[write to console]: Import genomic features from the file as a GRanges object ... \n",
      "R[write to console]: OK\n",
      "\n",
      "R[write to console]: Prepare the 'metadata' data frame ... \n",
      "R[write to console]: OK\n",
      "\n",
      "R[write to console]: Make the TxDb object ... \n",
      "R[write to console]: OK\n",
      "\n"
     ]
    },
    {
     "data": {
      "image/png": "[encoded data removed]"
     },
     "metadata": {},
     "output_type": "display_data"
    }
   ],
   "source": [
    "%%R \n",
    "p <- peakDistribution(radar_sig)\n",
    "\n",
    "png('plots/peakDistribution.png')\n",
    "print (p)\n",
    "dev.off()\n",
    "pdf('plots/peakDistribution.pdf')\n",
    "print (p)\n",
    "dev.off()\n",
    "p"
   ]
  },
  {
   "cell_type": "markdown",
   "metadata": {},
   "source": [
    "### 5. PCA analysis"
   ]
  },
  {
   "cell_type": "code",
   "execution_count": 24,
   "metadata": {},
   "outputs": [
    {
     "name": "stdout",
     "output_type": "stream",
     "text": [
      "Returning normalized IP read counts.\n",
      "Returning normalized IP read counts.\n"
     ]
    },
    {
     "data": {
      "image/png": "[encoded data removed]"
     },
     "metadata": {},
     "output_type": "display_data"
    }
   ],
   "source": [
    "%%R \n",
    "# radar0 <- readRDS('radar/finalObj.rds')\n",
    "\n",
    "top_bins <- extractIP(radar0,filtered = T)[order(rowMeans( extractIP(radar0,filtered = T) ),decreasing = T)[1:1000],] \n",
    "## save pictures \n",
    "p <- plotPCAfromMatrix(top_bins,group = unlist(variable(radar0)) )\n",
    "png('plots/PCAPlot.png')\n",
    "print (p)\n",
    "dev.off()\n",
    "pdf('plots/PCAPlot.pdf')\n",
    "print (p)\n",
    "dev.off()\n",
    "p"
   ]
  },
  {
   "cell_type": "code",
   "execution_count": null,
   "metadata": {},
   "outputs": [],
   "source": [
    "%%R \n",
    "rm (result_all)\n",
    "rm (result_sig)"
   ]
  },
  {
   "cell_type": "markdown",
   "metadata": {},
   "source": [
    "### 4. Save results into files"
   ]
  },
  {
   "cell_type": "code",
   "execution_count": 2,
   "metadata": {},
   "outputs": [],
   "source": [
    "%reload_ext rpy2.ipython"
   ]
  },
  {
   "cell_type": "code",
   "execution_count": 3,
   "metadata": {},
   "outputs": [],
   "source": [
    "%%R \n",
    "suppressMessages(suppressWarnings(library (RADAR)))\n",
    "suppressMessages(suppressWarnings(library (tidyverse)))"
   ]
  },
  {
   "cell_type": "code",
   "execution_count": 4,
   "metadata": {},
   "outputs": [
    {
     "name": "stderr",
     "output_type": "stream",
     "text": [
      "R[write to console]: -> GTF loaded!\n",
      "\n"
     ]
    }
   ],
   "source": [
    "%%R \n",
    "GTF = '/rumi/shams/abe/genomes/hg38/gencode.v34/gencode.v34.annotation.gtf'\n",
    "\n",
    "gtf <- rtracklayer::import(GTF)\n",
    "\n",
    "gene2name <- gtf[gtf$type == \"gene\"] %>% data.frame %>% column_to_rownames('gene_id') %>% dplyr::select('gene_name')\n",
    "message ('-> GTF loaded!')\n",
    "\n",
    "add_Name <- function(res, gene2name){\n",
    "    res$ensembl <- res$name %>% as.character\n",
    "    res$name <- gene2name[res$ensembl %>% as.character,]\n",
    "    return (res)\n",
    "}"
   ]
  },
  {
   "cell_type": "code",
   "execution_count": 5,
   "metadata": {},
   "outputs": [],
   "source": [
    "%%R \n",
    "result_all <- readRDS('radar/N-EGF15vs0-result_all-Obj.rds')\n",
    "result_sig <- readRDS('radar/N-EGF15vs0-result_sig-Obj.rds')\n",
    "\n",
    "write.table(add_Name(result_all, gene2name), file = \"radar/N-EGF15vs0-result-all.txt\",row.names=F, sep='\\t', quote=FALSE) \n",
    "write.table(add_Name(result_sig, gene2name), file = \"radar/N-EGF15vs0-result-sig.txt\",row.names=F, sep='\\t',quote=FALSE) "
   ]
  },
  {
   "cell_type": "markdown",
   "metadata": {},
   "source": [
    "#### Save results into `bed12` format \n",
    "`tidyverse` can not be loaded while using RADAR!"
   ]
  },
  {
   "cell_type": "code",
   "execution_count": 13,
   "metadata": {},
   "outputs": [],
   "source": [
    "%%R\n",
    "# save bed 12 format \n",
    "names(result_all)[1] <- paste0(\"# \", names(result_all)[1])\n",
    "write.table(result_all %>% dplyr::select(c(1:12)), file = \"radar/N-EGF15vs0-result-all.bed\",row.names=F, sep=\"\\t\", quote=FALSE) "
   ]
  },
  {
   "cell_type": "code",
   "execution_count": 14,
   "metadata": {},
   "outputs": [],
   "source": [
    "%%R \n",
    "# save bed 12 format \n",
    "names(result_sig)[1] <- paste0(\"# \", names(result_sig)[1])\n",
    "write.table(result_sig %>% dplyr::select(c(1:12)), file = \"radar/N-EGF15vs0-result-sig.bed\",row.names=F, sep='\\t',quote=FALSE)"
   ]
  },
  {
   "cell_type": "markdown",
   "metadata": {},
   "source": [
    "#### Exrtact results for running iGET "
   ]
  },
  {
   "cell_type": "code",
   "execution_count": 15,
   "metadata": {},
   "outputs": [],
   "source": [
    "%%R \n",
    "iPAGE_input = result_sig %>%\n",
    "    mutate(ensembl=result_sig$name %>% substr(0, 15)) %>% \n",
    "    dplyr::select('ensembl', 'logFC')\n",
    "\n",
    "write.table(iPAGE_input, file = 'radar/N-EGF15vs0.txt', sep='\\t',col.names = F, row.names=F, quote=FALSE)"
   ]
  },
  {
   "cell_type": "markdown",
   "metadata": {},
   "source": [
    "___\n",
    "\n",
    "### 8. Draw volcano plot and test global methylation shift "
   ]
  },
  {
   "cell_type": "code",
   "execution_count": 16,
   "metadata": {},
   "outputs": [],
   "source": [
    "%%R \n",
    "library (ggrepel)\n",
    "library (patchwork)\n",
    "\n",
    "plot_Save <- function (p, name_it){\n",
    "    ggsave(paste(name_it,'png',sep='.'), plot = p, device = 'png', dpi = 300)\n",
    "    ggsave(paste(name_it,'pdf',sep='.'), plot = p, device = 'pdf', dpi = 300)\n",
    "}\n",
    "\n",
    "\n",
    "plot_Hist = function(res, title, x_min=-10,x_max=10){\n",
    "    w <- wilcox.test(res$logFC, mu=0, alternative = \"greater\")\n",
    "    t <- t.test(res$logFC, mu=0, alternative = \"greater\")\n",
    "    h = ggplot(res, aes(x=logFC)) + \n",
    "        ggtitle(title,sprintf(\n",
    "            \"wilcox.test (-log10 p.value): %.5f \\nt.test (-log10 p.value):%.5f \\n[mu=0,alter=greater]\", \n",
    "            -log10(w$p.value), -log10(t$p.value))) +\n",
    "        theme_bw() + \n",
    "        xlim(c(x_min,x_max)) +\n",
    "        geom_histogram(binwidth=0.1)\n",
    "\n",
    "    return (h)\n",
    "} \n",
    "\n",
    "plot_Volcano <- function(res, title='', \n",
    "                         lfc.cutoff  = 1, pval.cutoff = 0.05,\n",
    "                         x_min=-10,x_max=10){\n",
    "    res$sig <- as.factor(res$p_value < pval.cutoff & abs(res$logFC) > lfc.cutoff)\n",
    "    relevel(res$sig, ref=TRUE)\n",
    "\n",
    "    vol = res %>% ggplot(\n",
    "        aes(x=logFC, y=-log10(p_value), colour=sig, fill=sig)) +\n",
    "        geom_point(aes(color = sig),alpha = 1/10) +\n",
    "            xlim(c(x_min,x_max)) +\n",
    "#             ylim(c(2,15)) +\n",
    "            geom_hline(yintercept=-log10(pval.cutoff), linetype=\"dashed\", alpha = 4/10) +\n",
    "            geom_vline(xintercept=lfc.cutoff, linetype=\"dashed\", alpha = 4/10) +\n",
    "            geom_vline(xintercept=(-1)*lfc.cutoff, linetype=\"dashed\", alpha = 4/10) +\n",
    "            scale_color_manual(values = c(\"grey\", \"red\")) +\n",
    "            theme_bw() + \n",
    "            theme(legend.position=\"none\") +\n",
    "            ggtitle (title) #+ \n",
    "#             geom_text_repel(\n",
    "#                 data = subset(res[order(res$p_value),], sig == TRUE)[1:7,],\n",
    "#                 aes(label = name),\n",
    "#                 size = 3,\n",
    "#                 box.padding = unit(0.35, \"lines\"),\n",
    "#                 point.padding = unit(0.3, \"lines\")\n",
    "#             )\n",
    "     return (vol)\n",
    "} "
   ]
  },
  {
   "cell_type": "markdown",
   "metadata": {},
   "source": [
    "Volcano plot and histogram "
   ]
  },
  {
   "cell_type": "code",
   "execution_count": 17,
   "metadata": {
    "scrolled": false
   },
   "outputs": [
    {
     "name": "stderr",
     "output_type": "stream",
     "text": [
      "R[write to console]: Saving 6.67 x 6.67 in image\n",
      "\n",
      "R[write to console]: Saving 6.67 x 6.67 in image\n",
      "\n"
     ]
    },
    {
     "data": {
      "image/png": "[encoded data removed]"
     },
     "metadata": {},
     "output_type": "display_data"
    }
   ],
   "source": [
    "%%R \n",
    "res = read.table('radar/N-EGF15vs0-result-all.txt', header=TRUE,stringsAsFactors=FALSE)\n",
    "res_sig = read.table('radar/N-EGF15vs0-result-sig.txt', header=TRUE,stringsAsFactors=FALSE)\n",
    "\n",
    "vol = plot_Volcano (res, \"Nuc. EGF\\n15' vs 0'\")\n",
    "his2 = plot_Hist(res_sig, 'Significant bins: FDR<0.2 and logFC > 0.5')\n",
    "\n",
    "\n",
    "plot_Save(vol / his2, 'plots/Volcano')\n",
    "vol / his2"
   ]
  },
  {
   "cell_type": "markdown",
   "metadata": {},
   "source": [
    "___\n",
    "### 9. Check logFC direction for top hits "
   ]
  },
  {
   "cell_type": "code",
   "execution_count": null,
   "metadata": {},
   "outputs": [],
   "source": [
    "%load_ext rpy2.ipython"
   ]
  },
  {
   "cell_type": "code",
   "execution_count": null,
   "metadata": {},
   "outputs": [],
   "source": [
    "%%R \n",
    "suppressMessages(suppressWarnings(library (RADAR)))\n",
    "suppressMessages(suppressWarnings(library (tidyverse)))"
   ]
  },
  {
   "cell_type": "code",
   "execution_count": null,
   "metadata": {},
   "outputs": [],
   "source": [
    "%%R\n",
    "radar0 <- readRDS('radar/finalObj.rds')"
   ]
  },
  {
   "cell_type": "code",
   "execution_count": null,
   "metadata": {},
   "outputs": [],
   "source": [
    "%%R \n",
    "sizeFactors(radar0)"
   ]
  },
  {
   "cell_type": "code",
   "execution_count": null,
   "metadata": {},
   "outputs": [],
   "source": [
    "%%R \n",
    "IP = extractIP(radar0, normalized=T, adjusted=T, filtered=T)"
   ]
  },
  {
   "cell_type": "code",
   "execution_count": null,
   "metadata": {},
   "outputs": [],
   "source": [
    "%%R \n",
    "Input = extractInput(radar0, normalized=T)"
   ]
  },
  {
   "cell_type": "code",
   "execution_count": null,
   "metadata": {},
   "outputs": [],
   "source": [
    "%%R \n",
    "rm(radar0)"
   ]
  },
  {
   "cell_type": "markdown",
   "metadata": {},
   "source": [
    "Results sorted by logFC and p-value:"
   ]
  },
  {
   "cell_type": "code",
   "execution_count": null,
   "metadata": {},
   "outputs": [],
   "source": [
    "%%R \n",
    "res_sig = read.table('radar/result.sig.txt', header=TRUE,stringsAsFactors=FALSE)\n",
    "\n",
    "data <- res_sig %>% data.frame %>% dplyr::select('ensembl','name','logFC','p_value') %>% \n",
    "    arrange(desc(abs(logFC)),p_value) \n",
    "\n",
    "data %>% head "
   ]
  },
  {
   "cell_type": "code",
   "execution_count": null,
   "metadata": {},
   "outputs": [],
   "source": [
    "%%R \n",
    "\n",
    "check_hit <- function (gene){\n",
    "    ip    = IP [grep(paste0(gene,'*'), rownames(IP)),] %>% data.frame\n",
    "    input = Input [grep(paste0(gene,'*'), rownames(Input)), ] %>% data.frame\n",
    "    \n",
    "    input = colSums(input) \n",
    "    if (ip %>% dim != list(4,1)){\n",
    "        ip    = colSums(ip) \n",
    "        frac_T = (ip[['T1']] + ip[['T2']] ) + 0.1 / (input[['T1']]  + input[['T2']] + 0.1)\n",
    "        frac_U = (ip[['U1']] + ip[['U2']] ) + 0.1 / (input[['U1']]  + input[['U2']] + 0.1)\n",
    "    } else {\n",
    "        frac_T = (ip['T1',] + ip['T2',] ) + 0.1 / (input[['T1']]  + input[['T2']] + 0.1)\n",
    "        frac_U = (ip['U1',] + ip['U2',] ) + 0.1 / (input[['T1']]  + input[['T2']] + 0.1)\n",
    "    }\n",
    "    print (gene)\n",
    "#     return (input)\n",
    "    return ( frac_T / frac_U )\n",
    "}"
   ]
  },
  {
   "cell_type": "code",
   "execution_count": null,
   "metadata": {},
   "outputs": [],
   "source": [
    "%%R \n",
    "check_hit('ENSG00000235513.2')"
   ]
  },
  {
   "cell_type": "code",
   "execution_count": null,
   "metadata": {},
   "outputs": [],
   "source": [
    "%%R \n",
    "lapply (data[1:6,'ensembl'] , check_hit)\n"
   ]
  },
  {
   "cell_type": "markdown",
   "metadata": {},
   "source": [
    "# Therefore, we have $\\frac{IP}{Input} (Treated)$ vs. $\\frac{IP}{Input} (Untreated)$"
   ]
  },
  {
   "cell_type": "markdown",
   "metadata": {},
   "source": [
    "___"
   ]
  },
  {
   "cell_type": "code",
   "execution_count": 18,
   "metadata": {},
   "outputs": [
    {
     "name": "stdout",
     "output_type": "stream",
     "text": [
      "R version 3.5.1 (2018-07-02)\n",
      "Platform: x86_64-conda_cos6-linux-gnu (64-bit)\n",
      "Running under: Ubuntu 18.04.4 LTS\n",
      "\n",
      "Matrix products: default\n",
      "BLAS: /rumi/shams/abe/anaconda3/envs/imRIP/radar/lib/R/lib/libRblas.so\n",
      "LAPACK: /rumi/shams/abe/anaconda3/envs/imRIP/radar/lib/R/lib/libRlapack.so\n",
      "\n",
      "locale:\n",
      " [1] LC_CTYPE=en_US.UTF-8       LC_NUMERIC=C              \n",
      " [3] LC_TIME=en_US.UTF-8        LC_COLLATE=en_US.UTF-8    \n",
      " [5] LC_MONETARY=en_US.UTF-8    LC_MESSAGES=en_US.UTF-8   \n",
      " [7] LC_PAPER=en_US.UTF-8       LC_NAME=C                 \n",
      " [9] LC_ADDRESS=C               LC_TELEPHONE=C            \n",
      "[11] LC_MEASUREMENT=en_US.UTF-8 LC_IDENTIFICATION=C       \n",
      "\n",
      "attached base packages:\n",
      " [1] stats4    parallel  tools     stats     graphics  grDevices utils    \n",
      " [8] datasets  methods   base     \n",
      "\n",
      "other attached packages:\n",
      " [1] bindrcpp_0.2.2            patchwork_1.0.0          \n",
      " [3] ggrepel_0.8.2             forcats_0.3.0            \n",
      " [5] stringr_1.3.1             dplyr_0.7.6              \n",
      " [7] purrr_0.2.5               readr_1.1.1              \n",
      " [9] tidyr_0.8.1               tibble_1.4.2             \n",
      "[11] tidyverse_1.2.1           RADAR_0.2.3              \n",
      "[13] qvalue_2.16.0             RcppArmadillo_0.8.600.0.0\n",
      "[15] Rcpp_1.0.4.6              RColorBrewer_1.1-2       \n",
      "[17] gplots_3.0.1              doParallel_1.0.11        \n",
      "[19] iterators_1.0.10          foreach_1.4.4            \n",
      "[21] ggplot2_3.0.0             Rsamtools_1.34.0         \n",
      "[23] Biostrings_2.50.2         XVector_0.22.0           \n",
      "[25] GenomicFeatures_1.34.1    AnnotationDbi_1.44.0     \n",
      "[27] Biobase_2.42.0            GenomicRanges_1.34.0     \n",
      "[29] GenomeInfoDb_1.18.1       IRanges_2.16.0           \n",
      "[31] S4Vectors_0.20.1          BiocGenerics_0.28.0      \n",
      "\n",
      "loaded via a namespace (and not attached):\n",
      " [1] colorspace_1.3-2            htmlTable_1.12             \n",
      " [3] base64enc_0.1-3             rstudioapi_0.7             \n",
      " [5] bit64_0.9-7                 lubridate_1.7.4            \n",
      " [7] xml2_1.2.0                  codetools_0.2-15           \n",
      " [9] splines_3.5.1               geneplotter_1.60.0         \n",
      "[11] knitr_1.20                  Formula_1.2-3              \n",
      "[13] jsonlite_1.5                broom_0.5.0                \n",
      "[15] annotate_1.60.1             cluster_2.0.7-1            \n",
      "[17] compiler_3.5.1              httr_1.3.1                 \n",
      "[19] backports_1.1.2             assertthat_0.2.0           \n",
      "[21] Matrix_1.2-14               lazyeval_0.2.1             \n",
      "[23] cli_1.0.0                   acepack_1.4.1              \n",
      "[25] htmltools_0.3.6             prettyunits_1.0.2          \n",
      "[27] gtable_0.2.0                glue_1.3.0                 \n",
      "[29] GenomeInfoDbData_1.2.1      reshape2_1.4.3             \n",
      "[31] cellranger_1.1.0            gdata_2.18.0               \n",
      "[33] nlme_3.1-137                rtracklayer_1.42.1         \n",
      "[35] rvest_0.3.2                 gtools_3.8.1               \n",
      "[37] XML_3.98-1.12               zlibbioc_1.28.0            \n",
      "[39] scales_0.5.0                hms_0.4.2                  \n",
      "[41] SummarizedExperiment_1.12.0 memoise_1.1.0              \n",
      "[43] gridExtra_2.3               biomaRt_2.38.0             \n",
      "[45] rpart_4.1-13                latticeExtra_0.6-28        \n",
      "[47] stringi_1.2.4               RSQLite_2.1.1              \n",
      "[49] genefilter_1.64.0           checkmate_1.8.5            \n",
      "[51] caTools_1.17.1.1            BiocParallel_1.16.6        \n",
      "[53] rlang_0.4.7                 pkgconfig_2.0.1            \n",
      "[55] matrixStats_0.56.0          bitops_1.0-6               \n",
      "[57] lattice_0.20-35             bindr_0.1.1                \n",
      "[59] labeling_0.3                GenomicAlignments_1.18.1   \n",
      "[61] htmlwidgets_1.2             bit_1.1-14                 \n",
      "[63] tidyselect_0.2.4            plyr_1.8.4                 \n",
      "[65] magrittr_1.5                DESeq2_1.22.1              \n",
      "[67] R6_2.2.2                    Hmisc_4.1-1                \n",
      "[69] DelayedArray_0.8.0          DBI_1.0.0                  \n",
      "[71] pillar_1.3.0                haven_1.1.2                \n",
      "[73] foreign_0.8-71              withr_2.1.2                \n",
      "[75] survival_2.42-6             RCurl_1.95-4.11            \n",
      "[77] nnet_7.3-12                 modelr_0.1.2               \n",
      "[79] crayon_1.3.4                KernSmooth_2.23-15         \n",
      "[81] progress_1.2.2              locfit_1.5-9.4             \n",
      "[83] grid_3.5.1                  readxl_1.1.0               \n",
      "[85] data.table_1.11.6           blob_1.1.1                 \n",
      "[87] digest_0.6.15               xtable_1.8-2               \n",
      "[89] munsell_0.5.0              \n"
     ]
    }
   ],
   "source": [
    "%%R\n",
    "sessionInfo()"
   ]
  }
 ],
 "metadata": {
  "kernelspec": {
   "display_name": "Python [conda env:radar]",
   "language": "python",
   "name": "conda-env-radar-py"
  },
  "language_info": {
   "codemirror_mode": {
    "name": "ipython",
    "version": 3
   },
   "file_extension": ".py",
   "mimetype": "text/x-python",
   "name": "python",
   "nbconvert_exporter": "python",
   "pygments_lexer": "ipython3",
   "version": "3.8.6"
  }
 },
 "nbformat": 4,
 "nbformat_minor": 2
}
