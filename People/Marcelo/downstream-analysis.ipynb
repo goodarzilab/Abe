{
 "cells": [
  {
   "cell_type": "markdown",
   "metadata": {},
   "source": [
    "# Metagene plots\n",
    "Now, let's draw **metagene plots**: (using seprate conda env and ipython kernel)"
   ]
  },
  {
   "cell_type": "markdown",
   "metadata": {},
   "source": [
    "Using my `guitar` envirnment. "
   ]
  },
  {
   "cell_type": "code",
   "execution_count": 1,
   "metadata": {},
   "outputs": [],
   "source": [
    "%reload_ext rpy2.ipython"
   ]
  },
  {
   "cell_type": "code",
   "execution_count": 2,
   "metadata": {},
   "outputs": [],
   "source": [
    "%%R\n",
    "suppressMessages(suppressWarnings(library (Guitar)))"
   ]
  },
  {
   "cell_type": "code",
   "execution_count": 7,
   "metadata": {},
   "outputs": [
    {
     "name": "stderr",
     "output_type": "stream",
     "text": [
      "R[write to console]: Import genomic features from the file as a GRanges object ... \n",
      "R[write to console]: OK\n",
      "\n",
      "R[write to console]: Prepare the 'metadata' data frame ... \n",
      "R[write to console]: OK\n",
      "\n",
      "R[write to console]: Make the TxDb object ... \n",
      "R[write to console]: OK\n",
      "\n"
     ]
    }
   ],
   "source": [
    "%%R \n",
    "txdb <- makeTxDbFromGFF('/rumi/shams/abe/genomes/hg38/gencode.v34/gencode.v34.annotation.gtf',organism='Homo sapiens')"
   ]
  },
  {
   "cell_type": "code",
   "execution_count": 8,
   "metadata": {
    "scrolled": true
   },
   "outputs": [
    {
     "name": "stdout",
     "output_type": "stream",
     "text": [
      "[1] \"20210916153854\"\n",
      "[1] \"There are 228048 transcripts of 60669 genes in the genome.\"\n",
      "[1] \"total 228048 transcripts extracted ...\"\n",
      "[1] \"total 97941 transcripts left after ambiguity filter ...\"\n",
      "[1] \"total 97941 transcripts left after check chromosome validity ...\"\n",
      "[1] \"total 10939 mRNAs left after component length filter ...\"\n",
      "[1] \"total 60598 ncRNAs left after ncRNA length filter ...\"\n",
      "[1] \"generate components for all tx\"\n",
      "[1] \"generate components for mRNA\"\n",
      "[1] \"generate components for lncRNA\"\n",
      "[1] \"generate chiped transcriptome\"\n",
      "[1] \"generate coverage checking ranges for tx\"\n",
      "[1] \"generate coverage checking ranges for mrna\"\n",
      "[1] \"generate coverage checking ranges for ncrna\"\n",
      "[1] \"20210916154427\"\n",
      "[1] \"import BED file radar/N-EGF15vs0-result-sig.bed\"\n",
      "[1] \"sample 10 points for Group1\"\n",
      "[1] \"start figure plotting for tx ...\"\n",
      "[1] \"start figure plotting for mrna ...\"\n",
      "[1] \"start figure plotting for ncrna ...\"\n"
     ]
    }
   ],
   "source": [
    "%%R \n",
    "GuitarPlot(txTxdb = txdb,stBedFiles = list(\"radar/N-EGF15vs0-result-sig.bed\"),miscOutFilePrefix = \"Guitar\")"
   ]
  },
  {
   "cell_type": "code",
   "execution_count": 9,
   "metadata": {
    "scrolled": true
   },
   "outputs": [
    {
     "name": "stdout",
     "output_type": "stream",
     "text": [
      "renamed 'Guitar_mrna_test.pdf' -> 'plots/Guitar_mrna_test.pdf'\r\n",
      "renamed 'Guitar_ncrna_test.pdf' -> 'plots/Guitar_ncrna_test.pdf'\r\n",
      "renamed 'Guitar_tx_test.pdf' -> 'plots/Guitar_tx_test.pdf'\r\n"
     ]
    }
   ],
   "source": [
    "mv -v Guitar_* plots/"
   ]
  },
  {
   "cell_type": "code",
   "execution_count": 1,
   "metadata": {},
   "outputs": [
    {
     "name": "stdout",
     "output_type": "stream",
     "text": [
      "plots/Guitar_mrna_test.pdf > plots/Guitar_mrna_test.png\n",
      "done!\n",
      "plots/Guitar_ncrna_test.pdf > plots/Guitar_ncrna_test.png\n",
      "done!\n",
      "plots/Guitar_tx_test.pdf > plots/Guitar_tx_test.png\n",
      "done!\n"
     ]
    }
   ],
   "source": [
    "!for f in plots/Guitar*.pdf; do bash ~/Workflows/my_scripts/pdf2png.sh $f; done"
   ]
  },
  {
   "cell_type": "markdown",
   "metadata": {},
   "source": [
    "# iPAGE\n",
    "https://github.com/goodarzilab/PAGE"
   ]
  },
  {
   "cell_type": "code",
   "execution_count": 20,
   "metadata": {},
   "outputs": [
    {
     "name": "stdout",
     "output_type": "stream",
     "text": [
      "/rumi/shams/abe/People/Marcelo\n"
     ]
    }
   ],
   "source": [
    "%%bash\n",
    "jwd='radar'\n",
    "exp_file='N-EGF15vs0.txt'\n",
    "ipage_cm='~/GitHub/Abe/my_scripts/ipage_human_ensembl.sh'\n",
    "\n",
    "cwd=`pwd`\n",
    "echo $cwd\n",
    "\n",
    "cd $jwd\n",
    "nohup ls $exp_file | parallel -j18 -k bash $ipage_cm {} &> ipage.out &\n",
    "cd $cwd"
   ]
  },
  {
   "cell_type": "code",
   "execution_count": 2,
   "metadata": {},
   "outputs": [
    {
     "name": "stdout",
     "output_type": "stream",
     "text": [
      "radar/N-EGF15vs0/human_ensembl.all.pdf > radar/N-EGF15vs0/human_ensembl.all.png\n",
      "done!\n",
      "radar/N-EGF15vs0/human_ensembl_encode_tf.all.pdf > radar/N-EGF15vs0/human_ensembl_encode_tf.all.png\n",
      "done!\n",
      "radar/N-EGF15vs0/human_ensembl.L.pdf > radar/N-EGF15vs0/human_ensembl.L.png\n",
      "done!\n",
      "radar/N-EGF15vs0/human_ensembl_msigdb_c1.all.pdf > radar/N-EGF15vs0/human_ensembl_msigdb_c1.all.png\n",
      "done!\n",
      "radar/N-EGF15vs0/human_ensembl_msigdb_c1.L.pdf > radar/N-EGF15vs0/human_ensembl_msigdb_c1.L.png\n",
      "done!\n",
      "radar/N-EGF15vs0/human_ensembl_msigdb_c2.all.pdf > radar/N-EGF15vs0/human_ensembl_msigdb_c2.all.png\n",
      "done!\n",
      "radar/N-EGF15vs0/human_ensembl_msigdb_c2.L.pdf > radar/N-EGF15vs0/human_ensembl_msigdb_c2.L.png\n",
      "done!\n",
      "radar/N-EGF15vs0/human_ensembl_msigdb_c2.R.pdf > radar/N-EGF15vs0/human_ensembl_msigdb_c2.R.png\n",
      "done!\n",
      "radar/N-EGF15vs0/human_ensembl_msigdb_c3.all.pdf > radar/N-EGF15vs0/human_ensembl_msigdb_c3.all.png\n",
      "done!\n",
      "radar/N-EGF15vs0/human_ensembl_msigdb_c3.L.pdf > radar/N-EGF15vs0/human_ensembl_msigdb_c3.L.png\n",
      "done!\n",
      "radar/N-EGF15vs0/human_ensembl_msigdb_c4.all.pdf > radar/N-EGF15vs0/human_ensembl_msigdb_c4.all.png\n",
      "done!\n",
      "radar/N-EGF15vs0/human_ensembl_msigdb_c4.L.pdf > radar/N-EGF15vs0/human_ensembl_msigdb_c4.L.png\n",
      "done!\n",
      "radar/N-EGF15vs0/human_ensembl_msigdb_c5.all.pdf > radar/N-EGF15vs0/human_ensembl_msigdb_c5.all.png\n",
      "done!\n",
      "radar/N-EGF15vs0/human_ensembl_msigdb_c5.L.pdf > radar/N-EGF15vs0/human_ensembl_msigdb_c5.L.png\n",
      "done!\n",
      "radar/N-EGF15vs0/human_ensembl_msigdb_c5.R.pdf > radar/N-EGF15vs0/human_ensembl_msigdb_c5.R.png\n",
      "done!\n",
      "radar/N-EGF15vs0/human_ensembl_msigdb_c6.all.pdf > radar/N-EGF15vs0/human_ensembl_msigdb_c6.all.png\n",
      "done!\n",
      "radar/N-EGF15vs0/human_ensembl_msigdb_c6.L.pdf > radar/N-EGF15vs0/human_ensembl_msigdb_c6.L.png\n",
      "done!\n",
      "radar/N-EGF15vs0/human_ensembl_msigdb_c7.all.pdf > radar/N-EGF15vs0/human_ensembl_msigdb_c7.all.png\n",
      "done!\n",
      "radar/N-EGF15vs0/human_ensembl_msigdb_c7.L.pdf > radar/N-EGF15vs0/human_ensembl_msigdb_c7.L.png\n",
      "done!\n",
      "radar/N-EGF15vs0/human_ensembl_msigdb_c7.R.pdf > radar/N-EGF15vs0/human_ensembl_msigdb_c7.R.png\n",
      "done!\n",
      "radar/N-EGF15vs0/human_ensembl_msigdb_full.all.pdf > radar/N-EGF15vs0/human_ensembl_msigdb_full.all.png\n",
      "done!\n",
      "radar/N-EGF15vs0/human_ensembl_msigdb_full.L.pdf > radar/N-EGF15vs0/human_ensembl_msigdb_full.L.png\n",
      "done!\n",
      "radar/N-EGF15vs0/human_ensembl_msigdb_full.R.pdf > radar/N-EGF15vs0/human_ensembl_msigdb_full.R.png\n",
      "done!\n",
      "radar/N-EGF15vs0/human_ensembl_msigdb_h.all.pdf > radar/N-EGF15vs0/human_ensembl_msigdb_h.all.png\n",
      "done!\n",
      "radar/N-EGF15vs0/human_ensembl_msigdb_h.R.pdf > radar/N-EGF15vs0/human_ensembl_msigdb_h.R.png\n",
      "done!\n",
      "radar/N-EGF15vs0/human_ensembl_RBPs_all_gene_ids.all.pdf > radar/N-EGF15vs0/human_ensembl_RBPs_all_gene_ids.all.png\n",
      "done!\n",
      "radar/N-EGF15vs0/human_ensembl_RBPs_coding_gene_ids.all.pdf > radar/N-EGF15vs0/human_ensembl_RBPs_coding_gene_ids.all.png\n",
      "done!\n",
      "radar/N-EGF15vs0/human_ensembl_RBPs_coding_gene_ids_by_3UTR.all.pdf > radar/N-EGF15vs0/human_ensembl_RBPs_coding_gene_ids_by_3UTR.all.png\n",
      "done!\n",
      "radar/N-EGF15vs0/human_ensembl_RBPs_coding_gene_ids_by_3UTR.L.pdf > radar/N-EGF15vs0/human_ensembl_RBPs_coding_gene_ids_by_3UTR.L.png\n",
      "done!\n",
      "radar/N-EGF15vs0/human_ensembl_RBPs_coding_gene_ids_by_5UTR.all.pdf > radar/N-EGF15vs0/human_ensembl_RBPs_coding_gene_ids_by_5UTR.all.png\n",
      "done!\n",
      "radar/N-EGF15vs0/human_ensembl_RBPs_coding_gene_ids_by_coding_exons.all.pdf > radar/N-EGF15vs0/human_ensembl_RBPs_coding_gene_ids_by_coding_exons.all.png\n",
      "done!\n",
      "radar/N-EGF15vs0/human_ensembl_RBPs_coding_gene_ids_by_coding_exons.R.pdf > radar/N-EGF15vs0/human_ensembl_RBPs_coding_gene_ids_by_coding_exons.R.png\n",
      "done!\n",
      "radar/N-EGF15vs0/human_ensembl_RBPs_coding_gene_ids_by_introns.all.pdf > radar/N-EGF15vs0/human_ensembl_RBPs_coding_gene_ids_by_introns.all.png\n",
      "done!\n",
      "radar/N-EGF15vs0/human_ensembl_RBPs_DeepBind.all.pdf > radar/N-EGF15vs0/human_ensembl_RBPs_DeepBind.all.png\n",
      "done!\n",
      "radar/N-EGF15vs0/human_ensembl.R.pdf > radar/N-EGF15vs0/human_ensembl.R.png\n",
      "done!\n"
     ]
    }
   ],
   "source": [
    "!for f in radar/N-EGF15vs0/*pdf; do bash ~/Workflows/my_scripts/pdf2png.sh $f; done"
   ]
  },
  {
   "cell_type": "markdown",
   "metadata": {},
   "source": [
    "**Write README.md draft**\n",
    "\n",
    "Write HTML codes which link all plots into a README.md format to prepare GitHub friendly report\n"
   ]
  },
  {
   "cell_type": "code",
   "execution_count": 5,
   "metadata": {},
   "outputs": [
    {
     "name": "stdout",
     "output_type": "stream",
     "text": [
      "\u001b[0m\u001b[01;34mbam\u001b[0m/                       N-EGF15vs0-enrichment.md  radar-diff-peaks.ipynb\r\n",
      "downstream-analysis.ipynb  \u001b[01;34mplots\u001b[0m/                    ruddle_paths.txt\r\n",
      "\u001b[01;34mfastq\u001b[0m/                     \u001b[01;34mpreprocessing-QC\u001b[0m/         star1.out\r\n",
      "\u001b[01;34mlogs\u001b[0m/                      \u001b[01;34mradar\u001b[0m/                    star.out\r\n"
     ]
    }
   ],
   "source": [
    "ls "
   ]
  },
  {
   "cell_type": "code",
   "execution_count": 4,
   "metadata": {},
   "outputs": [],
   "source": [
    "%%bash \n",
    "readme='N-EGF15vs0-enrichment.md' \n",
    "touch $readme\n",
    "for f in radar/N-EGF15vs0/*.png; do \n",
    "    b=`basename $f` t=${b/.png/}\n",
    "    echo '#### '$t >> $readme\n",
    "    echo -e \"&lt;img src=\\\"\"$f\"\\\" title=\\\"\"$t\"\\\" style=\\\"width:1000px\\\">\\n\" >> $readme \n",
    "done"
   ]
  },
  {
   "cell_type": "markdown",
   "metadata": {},
   "source": [
    "# FIRE \n",
    "https://github.com/goodarzilab/FIRE\n",
    "### Motif analysis "
   ]
  },
  {
   "cell_type": "markdown",
   "metadata": {},
   "source": [
    "Using my `cgat` envirnment. "
   ]
  },
  {
   "cell_type": "code",
   "execution_count": 13,
   "metadata": {},
   "outputs": [
    {
     "name": "stdout",
     "output_type": "stream",
     "text": [
      "/rumi/shams/abe/People/Marcelo\n",
      "_____________________________ N-EGF15vs0-result-all.bed ____________________________________________\n",
      "step 1: extract mRNA sequences\n",
      "--- DONE! ---\n",
      "step 2: prepare inputs for FIRE\n",
      "--- DONE! ---\n"
     ]
    }
   ],
   "source": [
    "%%bash \n",
    "jwd=radar\n",
    "BED=N-EGF15vs0-result-all.bed\n",
    "\n",
    "cwd=`pwd`\n",
    "echo $cwd\n",
    "\n",
    "MOTIF=/rumi/shams/abe/GitHub/imRIP/motifs.txt\n",
    "FA=${BED/.bed/.fa}\n",
    "FIRE_FA=${FA/.fa/_fire.fa}\n",
    "FIRE_EXP=${FA/.fa/_fire.txt}\n",
    "\n",
    "cd $jwd\n",
    "echo \"_____________________________ `basename $BED` ____________________________________________\"\n",
    "\n",
    "echo \"step 1: extract mRNA sequences\"\n",
    "cat $BED | sort -k1,1 -k2,2n $BED | cgat bed2bed --method=merge --merge-by-name |  awk '! /#/' | bedtools getfasta -name -s -fi /rumi/shams/genomes/hg38/hg38.fa -bed - -split -fo $FA\n",
    "echo \"--- DONE! ---\"\n",
    "\n",
    "echo \"step 2: prepare inputs for FIRE\"\n",
    "# perl $TEISERDIR/prep_seqs_for_teiser_run.pl peak.fa peaks\n",
    "/rumi/shams/abe/anaconda3/envs/cgat/bin/python $TEISERDIR/prep_fasta_for_fire_run.py $FA\n",
    "\n",
    "echo \"--- DONE! ---\"\n",
    "\n",
    "cd $cwd"
   ]
  },
  {
   "cell_type": "code",
   "execution_count": 14,
   "metadata": {},
   "outputs": [
    {
     "name": "stdout",
     "output_type": "stream",
     "text": [
      "/rumi/shams/abe/People/Marcelo\n",
      "step 3: run FIRE for known m6A motifs (non-discovery mode)\n",
      "'N-EGF15vs0-result-sig_fire.txt_FIRE/' -> 'non-discovery_FIRE'\n",
      "--- DONE! ---\n",
      "step 4: run FIRE discovery mode\n",
      "'N-EGF15vs0-result-sig_fire.txt_FIRE/' -> 'discovery_FIRE'\n",
      "--- DONE! ---\n"
     ]
    },
    {
     "name": "stderr",
     "output_type": "stream",
     "text": [
      "No motifs.\n",
      "Can't use 'defined(@array)' (Maybe you should just omit the defined()?) at /flash/bin/FIRE-1.1/SCRIPTS/draw_position_histogram.pl line 134.\n",
      "Table.pm: cannot open file \"N-EGF15vs0-result-sig_fire.txt_FIRE/RNA/N-EGF15vs0-result-sig_fire.txt.clusters\" ..\n",
      "Table.pm: cannot open file \"N-EGF15vs0-result-sig_fire.txt_FIRE/RNA/N-EGF15vs0-result-sig_fire.txt.mimatrix\" ..\n",
      "No motifs in @MOTIFS ...\n",
      "No motifs in @MOTIFS ...\n",
      "No motifs in @MOTIFS ...\n",
      "No motifs in @MOTIFS ...\n",
      "N-EGF15vs0-result-sig_fire.txt_FIRE/RNA/N-EGF15vs0-result-sig_fire.txt.fullmimatrix does not exists. at /flash/bin/FIRE-1.1/SCRIPTS/Sets.pm line 165.\n",
      "N-EGF15vs0-result-sig_fire.txt_FIRE/RNA/N-EGF15vs0-result-sig_fire.txt.fullmimatrix does not exists. at /flash/bin/FIRE-1.1/SCRIPTS/Sets.pm line 165.\n"
     ]
    }
   ],
   "source": [
    "%%bash\n",
    "jwd=radar\n",
    "BED=N-EGF15vs0-result-sig.bed\n",
    "\n",
    "cwd=`pwd`\n",
    "echo $cwd\n",
    "\n",
    "MOTIF=/rumi/shams/abe/GitHub/imRIP/motifs.txt\n",
    "FA=${BED/.bed/.fa}\n",
    "FIRE_FA=${FA/.fa/_fire.fa}\n",
    "FIRE_EXP=${FA/.fa/_fire.txt}\n",
    "\n",
    "\n",
    "cd $jwd\n",
    "\n",
    "echo \"step 3: run FIRE for known m6A motifs (non-discovery mode)\"\n",
    "cat $MOTIF\n",
    "perl $FIREDIR/fire.pl --expfile=$FIRE_EXP --exptype=discrete --fastafile_rna=$FIRE_FA \\\n",
    "--nodups=1 --dodna=0 --dodnarna=0 --species=human --doskipdiscovery=1 \\\n",
    "--motiffile_rna=$MOTIF --oribiasonly=0 > non-discovery_FIRE.log\n",
    "mv -v ${FIRE_EXP}_FIRE/ non-discovery_FIRE\n",
    "echo \"--- DONE! ---\"\n",
    "\n",
    "echo \"step 4: run FIRE discovery mode\"\n",
    "perl $FIREDIR/fire.pl --expfile=$FIRE_EXP --exptype=discrete --fastafile_rna=$FIRE_FA \\\n",
    "--nodups=1 --dodna=0 --dodnarna=0 --species=human --oribiasonly=0 > discovery_FIRE.log \n",
    "mv -v ${FIRE_EXP}_FIRE/ discovery_FIRE\n",
    "echo \"--- DONE! ---\"\n",
    "\n",
    "cd $cwd"
   ]
  },
  {
   "cell_type": "code",
   "execution_count": 15,
   "metadata": {},
   "outputs": [
    {
     "name": "stdout",
     "output_type": "stream",
     "text": [
      "\u001b[0m\u001b[01;34mbam\u001b[0m/                       \u001b[01;34mlogs\u001b[0m/              \u001b[01;34mradar\u001b[0m/                  star1.out\r\n",
      "downstream-analysis.ipynb  \u001b[01;34mplots\u001b[0m/             radar-diff-peaks.ipynb  star.out\r\n",
      "\u001b[01;34mfastq\u001b[0m/                     \u001b[01;34mpreprocessing-QC\u001b[0m/  ruddle_paths.txt\r\n"
     ]
    }
   ],
   "source": [
    "ls "
   ]
  },
  {
   "cell_type": "markdown",
   "metadata": {},
   "source": [
    "### DRACH & RGAC motifs"
   ]
  },
  {
   "cell_type": "markdown",
   "metadata": {},
   "source": [
    "<img src=fire/known_motifs_FIRE.png style=\"width:1100px\">"
   ]
  },
  {
   "cell_type": "markdown",
   "metadata": {},
   "source": [
    "## Discover over/under represented motifs "
   ]
  },
  {
   "cell_type": "markdown",
   "metadata": {},
   "source": [
    "<img src=fire/discovery_FIRE.summary.png style=\"width:1100px\">"
   ]
  }
 ],
 "metadata": {
  "kernelspec": {
   "display_name": "Python [conda env:perl]",
   "language": "python",
   "name": "conda-env-perl-py"
  },
  "language_info": {
   "codemirror_mode": {
    "name": "ipython",
    "version": 3
   },
   "file_extension": ".py",
   "mimetype": "text/x-python",
   "name": "python",
   "nbconvert_exporter": "python",
   "pygments_lexer": "ipython3",
   "version": "3.8.2"
  }
 },
 "nbformat": 4,
 "nbformat_minor": 2
}
