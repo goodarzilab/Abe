{
 "cells": [
  {
   "cell_type": "markdown",
   "metadata": {},
   "source": [
    "Protocol used by Albertas to make this data: https://benchling.com/anavickas/f/lib_VNejBHt6-protocols/prt_2Bkfh557-meripseq/edit"
   ]
  },
  {
   "cell_type": "markdown",
   "metadata": {},
   "source": [
    "HIV-1 IIIB Virus\n",
    "\n",
    "\n",
    "https://aidsreagent.org/reagentdetail.cfm?t=viruses&id=607"
   ]
  },
  {
   "cell_type": "markdown",
   "metadata": {},
   "source": [
    "We are starting from `fastq` files as raw data: "
   ]
  },
  {
   "cell_type": "code",
   "execution_count": 76,
   "metadata": {},
   "outputs": [
    {
     "data": {
      "text/html": [
       "<ol class=list-inline>\n",
       "\t<li>'01_IN_23_NT_S3_L002_R1_001.fastq.gz'</li>\n",
       "\t<li>'01_IN_23_NT_S3_L002_trim.fastq.gz'</li>\n",
       "\t<li>'02_IN_23_METTL3_S4_L002_R1_001.fastq.gz'</li>\n",
       "\t<li>'02_IN_23_METTL3_S4_L002_trim.fastq.gz'</li>\n",
       "\t<li>'03_IN_23_METTL14_S5_L002_R1_001.fastq.gz'</li>\n",
       "\t<li>'03_IN_23_METTL14_S5_L002_trim.fastq.gz'</li>\n",
       "\t<li>'04_IN_23_Virma_S6_L002_R1_001.fastq.gz'</li>\n",
       "\t<li>'04_IN_23_Virma_S6_L002_trim.fastq.gz'</li>\n",
       "\t<li>'05_IN_23_WTAP_S7_L002_R1_001.fastq.gz'</li>\n",
       "\t<li>'05_IN_23_WTAP_S7_L002_trim.fastq.gz'</li>\n",
       "\t<li>'06_IN_24_NT_S8_L002_R1_001.fastq.gz'</li>\n",
       "\t<li>'06_IN_24_NT_S8_L002_trim.fastq.gz'</li>\n",
       "\t<li>'07_IN_24_METTL3_S9_L002_R1_001.fastq.gz'</li>\n",
       "\t<li>'07_IN_24_METTL3_S9_L002_trim.fastq.gz'</li>\n",
       "\t<li>'08_IN_24_METTL14_S10_L002_R1_001.fastq.gz'</li>\n",
       "\t<li>'08_IN_24_METTL14_S10_L002_trim.fastq.gz'</li>\n",
       "\t<li>'09_IN_24_Virma_S11_L002_R1_001.fastq.gz'</li>\n",
       "\t<li>'09_IN_24_Virma_S11_L002_trim.fastq.gz'</li>\n",
       "\t<li>'10_IN_24_WTAP_S12_L002_R1_001.fastq.gz'</li>\n",
       "\t<li>'10_IN_24_WTAP_S12_L002_trim.fastq.gz'</li>\n",
       "\t<li>'11_meRIP_23_NT_S13_L002_R1_001.fastq.gz'</li>\n",
       "\t<li>'11_meRIP_23_NT_S13_L002_trim.fastq.gz'</li>\n",
       "\t<li>'12_meRIP_23_METTL3_S14_L002_R1_001.fastq.gz'</li>\n",
       "\t<li>'12_meRIP_23_METTL3_S14_L002_trim.fastq.gz'</li>\n",
       "\t<li>'13_meRIP_23_METTL14_S15_L002_R1_001.fastq.gz'</li>\n",
       "\t<li>'13_meRIP_23_METTL14_S15_L002_trim.fastq.gz'</li>\n",
       "\t<li>'14_meRIP_23_Virma_S16_L002_R1_001.fastq.gz'</li>\n",
       "\t<li>'14_meRIP_23_Virma_S16_L002_trim.fastq.gz'</li>\n",
       "\t<li>'15_meRIP_23_WTAP_S17_L002_R1_001.fastq.gz'</li>\n",
       "\t<li>'15_meRIP_23_WTAP_S17_L002_trim.fastq.gz'</li>\n",
       "\t<li>'16_meRIP_24_NT_S18_L002_R1_001.fastq.gz'</li>\n",
       "\t<li>'16_meRIP_24_NT_S18_L002_trim.fastq.gz'</li>\n",
       "\t<li>'17_meRIP_24_METTL3_S19_L002_R1_001.fastq.gz'</li>\n",
       "\t<li>'17_meRIP_24_METTL3_S19_L002_trim.fastq.gz'</li>\n",
       "\t<li>'18_meRIP_24_METTL14_S20_L002_R1_001.fastq.gz'</li>\n",
       "\t<li>'18_meRIP_24_METTL14_S20_L002_trim.fastq.gz'</li>\n",
       "\t<li>'19_meRIP_24_Virma_S21_L002_R1_001.fastq.gz'</li>\n",
       "\t<li>'19_meRIP_24_Virma_S21_L002_trim.fastq.gz'</li>\n",
       "\t<li>'20_meRIP_24_WTAP_S22_L002_R1_001.fastq.gz'</li>\n",
       "\t<li>'20_meRIP_24_WTAP_S22_L002_trim.fastq.gz'</li>\n",
       "</ol>\n"
      ],
      "text/latex": [
       "\\begin{enumerate*}\n",
       "\\item '01\\_IN\\_23\\_NT\\_S3\\_L002\\_R1\\_001.fastq.gz'\n",
       "\\item '01\\_IN\\_23\\_NT\\_S3\\_L002\\_trim.fastq.gz'\n",
       "\\item '02\\_IN\\_23\\_METTL3\\_S4\\_L002\\_R1\\_001.fastq.gz'\n",
       "\\item '02\\_IN\\_23\\_METTL3\\_S4\\_L002\\_trim.fastq.gz'\n",
       "\\item '03\\_IN\\_23\\_METTL14\\_S5\\_L002\\_R1\\_001.fastq.gz'\n",
       "\\item '03\\_IN\\_23\\_METTL14\\_S5\\_L002\\_trim.fastq.gz'\n",
       "\\item '04\\_IN\\_23\\_Virma\\_S6\\_L002\\_R1\\_001.fastq.gz'\n",
       "\\item '04\\_IN\\_23\\_Virma\\_S6\\_L002\\_trim.fastq.gz'\n",
       "\\item '05\\_IN\\_23\\_WTAP\\_S7\\_L002\\_R1\\_001.fastq.gz'\n",
       "\\item '05\\_IN\\_23\\_WTAP\\_S7\\_L002\\_trim.fastq.gz'\n",
       "\\item '06\\_IN\\_24\\_NT\\_S8\\_L002\\_R1\\_001.fastq.gz'\n",
       "\\item '06\\_IN\\_24\\_NT\\_S8\\_L002\\_trim.fastq.gz'\n",
       "\\item '07\\_IN\\_24\\_METTL3\\_S9\\_L002\\_R1\\_001.fastq.gz'\n",
       "\\item '07\\_IN\\_24\\_METTL3\\_S9\\_L002\\_trim.fastq.gz'\n",
       "\\item '08\\_IN\\_24\\_METTL14\\_S10\\_L002\\_R1\\_001.fastq.gz'\n",
       "\\item '08\\_IN\\_24\\_METTL14\\_S10\\_L002\\_trim.fastq.gz'\n",
       "\\item '09\\_IN\\_24\\_Virma\\_S11\\_L002\\_R1\\_001.fastq.gz'\n",
       "\\item '09\\_IN\\_24\\_Virma\\_S11\\_L002\\_trim.fastq.gz'\n",
       "\\item '10\\_IN\\_24\\_WTAP\\_S12\\_L002\\_R1\\_001.fastq.gz'\n",
       "\\item '10\\_IN\\_24\\_WTAP\\_S12\\_L002\\_trim.fastq.gz'\n",
       "\\item '11\\_meRIP\\_23\\_NT\\_S13\\_L002\\_R1\\_001.fastq.gz'\n",
       "\\item '11\\_meRIP\\_23\\_NT\\_S13\\_L002\\_trim.fastq.gz'\n",
       "\\item '12\\_meRIP\\_23\\_METTL3\\_S14\\_L002\\_R1\\_001.fastq.gz'\n",
       "\\item '12\\_meRIP\\_23\\_METTL3\\_S14\\_L002\\_trim.fastq.gz'\n",
       "\\item '13\\_meRIP\\_23\\_METTL14\\_S15\\_L002\\_R1\\_001.fastq.gz'\n",
       "\\item '13\\_meRIP\\_23\\_METTL14\\_S15\\_L002\\_trim.fastq.gz'\n",
       "\\item '14\\_meRIP\\_23\\_Virma\\_S16\\_L002\\_R1\\_001.fastq.gz'\n",
       "\\item '14\\_meRIP\\_23\\_Virma\\_S16\\_L002\\_trim.fastq.gz'\n",
       "\\item '15\\_meRIP\\_23\\_WTAP\\_S17\\_L002\\_R1\\_001.fastq.gz'\n",
       "\\item '15\\_meRIP\\_23\\_WTAP\\_S17\\_L002\\_trim.fastq.gz'\n",
       "\\item '16\\_meRIP\\_24\\_NT\\_S18\\_L002\\_R1\\_001.fastq.gz'\n",
       "\\item '16\\_meRIP\\_24\\_NT\\_S18\\_L002\\_trim.fastq.gz'\n",
       "\\item '17\\_meRIP\\_24\\_METTL3\\_S19\\_L002\\_R1\\_001.fastq.gz'\n",
       "\\item '17\\_meRIP\\_24\\_METTL3\\_S19\\_L002\\_trim.fastq.gz'\n",
       "\\item '18\\_meRIP\\_24\\_METTL14\\_S20\\_L002\\_R1\\_001.fastq.gz'\n",
       "\\item '18\\_meRIP\\_24\\_METTL14\\_S20\\_L002\\_trim.fastq.gz'\n",
       "\\item '19\\_meRIP\\_24\\_Virma\\_S21\\_L002\\_R1\\_001.fastq.gz'\n",
       "\\item '19\\_meRIP\\_24\\_Virma\\_S21\\_L002\\_trim.fastq.gz'\n",
       "\\item '20\\_meRIP\\_24\\_WTAP\\_S22\\_L002\\_R1\\_001.fastq.gz'\n",
       "\\item '20\\_meRIP\\_24\\_WTAP\\_S22\\_L002\\_trim.fastq.gz'\n",
       "\\end{enumerate*}\n"
      ],
      "text/markdown": [
       "1. '01_IN_23_NT_S3_L002_R1_001.fastq.gz'\n",
       "2. '01_IN_23_NT_S3_L002_trim.fastq.gz'\n",
       "3. '02_IN_23_METTL3_S4_L002_R1_001.fastq.gz'\n",
       "4. '02_IN_23_METTL3_S4_L002_trim.fastq.gz'\n",
       "5. '03_IN_23_METTL14_S5_L002_R1_001.fastq.gz'\n",
       "6. '03_IN_23_METTL14_S5_L002_trim.fastq.gz'\n",
       "7. '04_IN_23_Virma_S6_L002_R1_001.fastq.gz'\n",
       "8. '04_IN_23_Virma_S6_L002_trim.fastq.gz'\n",
       "9. '05_IN_23_WTAP_S7_L002_R1_001.fastq.gz'\n",
       "10. '05_IN_23_WTAP_S7_L002_trim.fastq.gz'\n",
       "11. '06_IN_24_NT_S8_L002_R1_001.fastq.gz'\n",
       "12. '06_IN_24_NT_S8_L002_trim.fastq.gz'\n",
       "13. '07_IN_24_METTL3_S9_L002_R1_001.fastq.gz'\n",
       "14. '07_IN_24_METTL3_S9_L002_trim.fastq.gz'\n",
       "15. '08_IN_24_METTL14_S10_L002_R1_001.fastq.gz'\n",
       "16. '08_IN_24_METTL14_S10_L002_trim.fastq.gz'\n",
       "17. '09_IN_24_Virma_S11_L002_R1_001.fastq.gz'\n",
       "18. '09_IN_24_Virma_S11_L002_trim.fastq.gz'\n",
       "19. '10_IN_24_WTAP_S12_L002_R1_001.fastq.gz'\n",
       "20. '10_IN_24_WTAP_S12_L002_trim.fastq.gz'\n",
       "21. '11_meRIP_23_NT_S13_L002_R1_001.fastq.gz'\n",
       "22. '11_meRIP_23_NT_S13_L002_trim.fastq.gz'\n",
       "23. '12_meRIP_23_METTL3_S14_L002_R1_001.fastq.gz'\n",
       "24. '12_meRIP_23_METTL3_S14_L002_trim.fastq.gz'\n",
       "25. '13_meRIP_23_METTL14_S15_L002_R1_001.fastq.gz'\n",
       "26. '13_meRIP_23_METTL14_S15_L002_trim.fastq.gz'\n",
       "27. '14_meRIP_23_Virma_S16_L002_R1_001.fastq.gz'\n",
       "28. '14_meRIP_23_Virma_S16_L002_trim.fastq.gz'\n",
       "29. '15_meRIP_23_WTAP_S17_L002_R1_001.fastq.gz'\n",
       "30. '15_meRIP_23_WTAP_S17_L002_trim.fastq.gz'\n",
       "31. '16_meRIP_24_NT_S18_L002_R1_001.fastq.gz'\n",
       "32. '16_meRIP_24_NT_S18_L002_trim.fastq.gz'\n",
       "33. '17_meRIP_24_METTL3_S19_L002_R1_001.fastq.gz'\n",
       "34. '17_meRIP_24_METTL3_S19_L002_trim.fastq.gz'\n",
       "35. '18_meRIP_24_METTL14_S20_L002_R1_001.fastq.gz'\n",
       "36. '18_meRIP_24_METTL14_S20_L002_trim.fastq.gz'\n",
       "37. '19_meRIP_24_Virma_S21_L002_R1_001.fastq.gz'\n",
       "38. '19_meRIP_24_Virma_S21_L002_trim.fastq.gz'\n",
       "39. '20_meRIP_24_WTAP_S22_L002_R1_001.fastq.gz'\n",
       "40. '20_meRIP_24_WTAP_S22_L002_trim.fastq.gz'\n",
       "\n",
       "\n"
      ],
      "text/plain": [
       " [1] \"01_IN_23_NT_S3_L002_R1_001.fastq.gz\"         \n",
       " [2] \"01_IN_23_NT_S3_L002_trim.fastq.gz\"           \n",
       " [3] \"02_IN_23_METTL3_S4_L002_R1_001.fastq.gz\"     \n",
       " [4] \"02_IN_23_METTL3_S4_L002_trim.fastq.gz\"       \n",
       " [5] \"03_IN_23_METTL14_S5_L002_R1_001.fastq.gz\"    \n",
       " [6] \"03_IN_23_METTL14_S5_L002_trim.fastq.gz\"      \n",
       " [7] \"04_IN_23_Virma_S6_L002_R1_001.fastq.gz\"      \n",
       " [8] \"04_IN_23_Virma_S6_L002_trim.fastq.gz\"        \n",
       " [9] \"05_IN_23_WTAP_S7_L002_R1_001.fastq.gz\"       \n",
       "[10] \"05_IN_23_WTAP_S7_L002_trim.fastq.gz\"         \n",
       "[11] \"06_IN_24_NT_S8_L002_R1_001.fastq.gz\"         \n",
       "[12] \"06_IN_24_NT_S8_L002_trim.fastq.gz\"           \n",
       "[13] \"07_IN_24_METTL3_S9_L002_R1_001.fastq.gz\"     \n",
       "[14] \"07_IN_24_METTL3_S9_L002_trim.fastq.gz\"       \n",
       "[15] \"08_IN_24_METTL14_S10_L002_R1_001.fastq.gz\"   \n",
       "[16] \"08_IN_24_METTL14_S10_L002_trim.fastq.gz\"     \n",
       "[17] \"09_IN_24_Virma_S11_L002_R1_001.fastq.gz\"     \n",
       "[18] \"09_IN_24_Virma_S11_L002_trim.fastq.gz\"       \n",
       "[19] \"10_IN_24_WTAP_S12_L002_R1_001.fastq.gz\"      \n",
       "[20] \"10_IN_24_WTAP_S12_L002_trim.fastq.gz\"        \n",
       "[21] \"11_meRIP_23_NT_S13_L002_R1_001.fastq.gz\"     \n",
       "[22] \"11_meRIP_23_NT_S13_L002_trim.fastq.gz\"       \n",
       "[23] \"12_meRIP_23_METTL3_S14_L002_R1_001.fastq.gz\" \n",
       "[24] \"12_meRIP_23_METTL3_S14_L002_trim.fastq.gz\"   \n",
       "[25] \"13_meRIP_23_METTL14_S15_L002_R1_001.fastq.gz\"\n",
       "[26] \"13_meRIP_23_METTL14_S15_L002_trim.fastq.gz\"  \n",
       "[27] \"14_meRIP_23_Virma_S16_L002_R1_001.fastq.gz\"  \n",
       "[28] \"14_meRIP_23_Virma_S16_L002_trim.fastq.gz\"    \n",
       "[29] \"15_meRIP_23_WTAP_S17_L002_R1_001.fastq.gz\"   \n",
       "[30] \"15_meRIP_23_WTAP_S17_L002_trim.fastq.gz\"     \n",
       "[31] \"16_meRIP_24_NT_S18_L002_R1_001.fastq.gz\"     \n",
       "[32] \"16_meRIP_24_NT_S18_L002_trim.fastq.gz\"       \n",
       "[33] \"17_meRIP_24_METTL3_S19_L002_R1_001.fastq.gz\" \n",
       "[34] \"17_meRIP_24_METTL3_S19_L002_trim.fastq.gz\"   \n",
       "[35] \"18_meRIP_24_METTL14_S20_L002_R1_001.fastq.gz\"\n",
       "[36] \"18_meRIP_24_METTL14_S20_L002_trim.fastq.gz\"  \n",
       "[37] \"19_meRIP_24_Virma_S21_L002_R1_001.fastq.gz\"  \n",
       "[38] \"19_meRIP_24_Virma_S21_L002_trim.fastq.gz\"    \n",
       "[39] \"20_meRIP_24_WTAP_S22_L002_R1_001.fastq.gz\"   \n",
       "[40] \"20_meRIP_24_WTAP_S22_L002_trim.fastq.gz\"     "
      ]
     },
     "metadata": {},
     "output_type": "display_data"
    }
   ],
   "source": [
    "list.files('fastq')"
   ]
  },
  {
   "cell_type": "markdown",
   "metadata": {},
   "source": [
    "## Trimming "
   ]
  },
  {
   "cell_type": "code",
   "execution_count": null,
   "metadata": {},
   "outputs": [],
   "source": [
    "%%bash \n",
    "cd ~/People/Judd/fastq\n",
    "for f in *_L002_R1_001.fastq.gz; do  \n",
    "    out=${f/\\_S[1-9]*/.trim.fastq.gz}; \n",
    "    cutadapt -j 12 -q 15 -m 20 -a NNNAGATCGGAAGAGCACACGTCTGAACTCCAGTCA -o ../trim/$out $f; \n",
    "done"
   ]
  },
  {
   "cell_type": "markdown",
   "metadata": {},
   "source": [
    "## Alignment"
   ]
  },
  {
   "cell_type": "markdown",
   "metadata": {},
   "source": [
    "Unmmaped reads for each `fastq` file saved for later alignment to HIV genome \n",
    "\n",
    "Human genome: `gencode.v28.annotation.gtf`"
   ]
  },
  {
   "cell_type": "code",
   "execution_count": null,
   "metadata": {},
   "outputs": [],
   "source": [
    "%%bash \n",
    "STAR --genomeLoad LoadAndExit --genomeDir /rumi/shams/abe/genomes/hg38/\n",
    "for f in trim/*.fastq.gz;do\n",
    "    out=${f/.trim.fastq.gz/_};\n",
    "    out=${out/trim/bam};\n",
    "    STAR --outSAMtype BAM SortedByCoordinate --readFilesCommand zcat --runThreadN 16 --genomeDir /rumi/shams/abe/genomes/hg38/ --readFilesIn $f --outFileNamePrefix $out --outReadsUnmapped Fastx;\n",
    "done\n",
    "STAR --genomeLoad Remove --genomeDir /rumi/shams/abe/genomes/hg38/"
   ]
  },
  {
   "cell_type": "markdown",
   "metadata": {},
   "source": [
    "HIV genome indices created by changing sequence provided by Judd to `.fa` format"
   ]
  },
  {
   "cell_type": "code",
   "execution_count": null,
   "metadata": {},
   "outputs": [],
   "source": [
    "%%bash \n",
    "# make hiv genome indices \n",
    "bowtie2-build HIV/HIV.fa HIV/HIV\n",
    "# Aligning to hiv genome \n",
    "for f in fastq_unmapped/*; do\n",
    "\to=${f/.fastq/.bam};\n",
    " \to=${o/fastq_unmapped/bam};\n",
    " \tbowtie2 --sensitive -N 1 -x HIV/HIV -U $f | samtools sort -o $o;\n",
    "done"
   ]
  },
  {
   "cell_type": "markdown",
   "metadata": {},
   "source": [
    "All `bam`  files (mapped to human genome or hiv genome) renamed in this format: \n",
    "> `<sample>.<species>.<treatment>.<input/m6A>.bam`"
   ]
  },
  {
   "cell_type": "code",
   "execution_count": 5,
   "metadata": {},
   "outputs": [
    {
     "data": {
      "text/html": [
       "<ol class=list-inline>\n",
       "\t<li>'s23.hiv.METTL14.input.bam'</li>\n",
       "\t<li>'s23.hiv.METTL14.input.bam.bai'</li>\n",
       "\t<li>'s23.hiv.METTL14.m6A.bam'</li>\n",
       "\t<li>'s23.hiv.METTL14.m6A.bam.bai'</li>\n",
       "\t<li>'s23.hiv.METTL3.input.bam'</li>\n",
       "\t<li>'s23.hiv.METTL3.input.bam.bai'</li>\n",
       "\t<li>'s23.hiv.METTL3.m6A.bam'</li>\n",
       "\t<li>'s23.hiv.METTL3.m6A.bam.bai'</li>\n",
       "\t<li>'s23.hiv.NT.input.bam'</li>\n",
       "\t<li>'s23.hiv.NT.input.bam.bai'</li>\n",
       "\t<li>'s23.hiv.NT.m6A.bam'</li>\n",
       "\t<li>'s23.hiv.NT.m6A.bam.bai'</li>\n",
       "\t<li>'s23.hiv.Virma.input.bam'</li>\n",
       "\t<li>'s23.hiv.Virma.input.bam.bai'</li>\n",
       "\t<li>'s23.hiv.Virma.m6A.bam'</li>\n",
       "\t<li>'s23.hiv.Virma.m6A.bam.bai'</li>\n",
       "\t<li>'s23.hiv.WTAP.input.bam'</li>\n",
       "\t<li>'s23.hiv.WTAP.input.bam.bai'</li>\n",
       "\t<li>'s23.hiv.WTAP.m6A.bam'</li>\n",
       "\t<li>'s23.hiv.WTAP.m6A.bam.bai'</li>\n",
       "\t<li>'s23.human.METTL14.input.bam'</li>\n",
       "\t<li>'s23.human.METTL14.input.bam.bai'</li>\n",
       "\t<li>'s23.human.METTL14.m6A.bam'</li>\n",
       "\t<li>'s23.human.METTL14.m6A.bam.bai'</li>\n",
       "\t<li>'s23.human.METTL3.input.bam'</li>\n",
       "\t<li>'s23.human.METTL3.input.bam.bai'</li>\n",
       "\t<li>'s23.human.METTL3.m6A.bam'</li>\n",
       "\t<li>'s23.human.METTL3.m6A.bam.bai'</li>\n",
       "\t<li>'s23.human.NT.input.bam'</li>\n",
       "\t<li>'s23.human.NT.input.bam.bai'</li>\n",
       "\t<li>'s23.human.NT.m6A.bam'</li>\n",
       "\t<li>'s23.human.NT.m6A.bam.bai'</li>\n",
       "\t<li>'s23.human.Virma.input.bam'</li>\n",
       "\t<li>'s23.human.Virma.input.bam.bai'</li>\n",
       "\t<li>'s23.human.Virma.m6A.bam'</li>\n",
       "\t<li>'s23.human.Virma.m6A.bam.bai'</li>\n",
       "\t<li>'s23.human.WTAP.input.bam'</li>\n",
       "\t<li>'s23.human.WTAP.input.bam.bai'</li>\n",
       "\t<li>'s23.human.WTAP.m6A.bam'</li>\n",
       "\t<li>'s23.human.WTAP.m6A.bam.bai'</li>\n",
       "\t<li>'s24.hiv.METTL14.input.bam'</li>\n",
       "\t<li>'s24.hiv.METTL14.input.bam.bai'</li>\n",
       "\t<li>'s24.hiv.METTL14.m6A.bam'</li>\n",
       "\t<li>'s24.hiv.METTL14.m6A.bam.bai'</li>\n",
       "\t<li>'s24.hiv.METTL3.input.bam'</li>\n",
       "\t<li>'s24.hiv.METTL3.input.bam.bai'</li>\n",
       "\t<li>'s24.hiv.METTL3.m6A.bam'</li>\n",
       "\t<li>'s24.hiv.METTL3.m6A.bam.bai'</li>\n",
       "\t<li>'s24.hiv.NT.input.bam'</li>\n",
       "\t<li>'s24.hiv.NT.input.bam.bai'</li>\n",
       "\t<li>'s24.hiv.NT.m6A.bam'</li>\n",
       "\t<li>'s24.hiv.NT.m6A.bam.bai'</li>\n",
       "\t<li>'s24.hiv.Virma.input.bam'</li>\n",
       "\t<li>'s24.hiv.Virma.input.bam.bai'</li>\n",
       "\t<li>'s24.hiv.Virma.m6A.bam'</li>\n",
       "\t<li>'s24.hiv.Virma.m6A.bam.bai'</li>\n",
       "\t<li>'s24.hiv.WTAP.input.bam'</li>\n",
       "\t<li>'s24.hiv.WTAP.input.bam.bai'</li>\n",
       "\t<li>'s24.hiv.WTAP.m6A.bam'</li>\n",
       "\t<li>'s24.hiv.WTAP.m6A.bam.bai'</li>\n",
       "\t<li>'s24.human.METTL14.input.bam'</li>\n",
       "\t<li>'s24.human.METTL14.input.bam.bai'</li>\n",
       "\t<li>'s24.human.METTL14.m6A.bam'</li>\n",
       "\t<li>'s24.human.METTL14.m6A.bam.bai'</li>\n",
       "\t<li>'s24.human.METTL3.input.bam'</li>\n",
       "\t<li>'s24.human.METTL3.input.bam.bai'</li>\n",
       "\t<li>'s24.human.METTL3.m6A.bam'</li>\n",
       "\t<li>'s24.human.METTL3.m6A.bam.bai'</li>\n",
       "\t<li>'s24.human.NT.input.bam'</li>\n",
       "\t<li>'s24.human.NT.input.bam.bai'</li>\n",
       "\t<li>'s24.human.NT.m6A.bam'</li>\n",
       "\t<li>'s24.human.NT.m6A.bam.bai'</li>\n",
       "\t<li>'s24.human.Virma.input.bam'</li>\n",
       "\t<li>'s24.human.Virma.input.bam.bai'</li>\n",
       "\t<li>'s24.human.Virma.m6A.bam'</li>\n",
       "\t<li>'s24.human.Virma.m6A.bam.bai'</li>\n",
       "\t<li>'s24.human.WTAP.input.bam'</li>\n",
       "\t<li>'s24.human.WTAP.input.bam.bai'</li>\n",
       "\t<li>'s24.human.WTAP.m6A.bam'</li>\n",
       "\t<li>'s24.human.WTAP.m6A.bam.bai'</li>\n",
       "</ol>\n"
      ],
      "text/latex": [
       "\\begin{enumerate*}\n",
       "\\item 's23.hiv.METTL14.input.bam'\n",
       "\\item 's23.hiv.METTL14.input.bam.bai'\n",
       "\\item 's23.hiv.METTL14.m6A.bam'\n",
       "\\item 's23.hiv.METTL14.m6A.bam.bai'\n",
       "\\item 's23.hiv.METTL3.input.bam'\n",
       "\\item 's23.hiv.METTL3.input.bam.bai'\n",
       "\\item 's23.hiv.METTL3.m6A.bam'\n",
       "\\item 's23.hiv.METTL3.m6A.bam.bai'\n",
       "\\item 's23.hiv.NT.input.bam'\n",
       "\\item 's23.hiv.NT.input.bam.bai'\n",
       "\\item 's23.hiv.NT.m6A.bam'\n",
       "\\item 's23.hiv.NT.m6A.bam.bai'\n",
       "\\item 's23.hiv.Virma.input.bam'\n",
       "\\item 's23.hiv.Virma.input.bam.bai'\n",
       "\\item 's23.hiv.Virma.m6A.bam'\n",
       "\\item 's23.hiv.Virma.m6A.bam.bai'\n",
       "\\item 's23.hiv.WTAP.input.bam'\n",
       "\\item 's23.hiv.WTAP.input.bam.bai'\n",
       "\\item 's23.hiv.WTAP.m6A.bam'\n",
       "\\item 's23.hiv.WTAP.m6A.bam.bai'\n",
       "\\item 's23.human.METTL14.input.bam'\n",
       "\\item 's23.human.METTL14.input.bam.bai'\n",
       "\\item 's23.human.METTL14.m6A.bam'\n",
       "\\item 's23.human.METTL14.m6A.bam.bai'\n",
       "\\item 's23.human.METTL3.input.bam'\n",
       "\\item 's23.human.METTL3.input.bam.bai'\n",
       "\\item 's23.human.METTL3.m6A.bam'\n",
       "\\item 's23.human.METTL3.m6A.bam.bai'\n",
       "\\item 's23.human.NT.input.bam'\n",
       "\\item 's23.human.NT.input.bam.bai'\n",
       "\\item 's23.human.NT.m6A.bam'\n",
       "\\item 's23.human.NT.m6A.bam.bai'\n",
       "\\item 's23.human.Virma.input.bam'\n",
       "\\item 's23.human.Virma.input.bam.bai'\n",
       "\\item 's23.human.Virma.m6A.bam'\n",
       "\\item 's23.human.Virma.m6A.bam.bai'\n",
       "\\item 's23.human.WTAP.input.bam'\n",
       "\\item 's23.human.WTAP.input.bam.bai'\n",
       "\\item 's23.human.WTAP.m6A.bam'\n",
       "\\item 's23.human.WTAP.m6A.bam.bai'\n",
       "\\item 's24.hiv.METTL14.input.bam'\n",
       "\\item 's24.hiv.METTL14.input.bam.bai'\n",
       "\\item 's24.hiv.METTL14.m6A.bam'\n",
       "\\item 's24.hiv.METTL14.m6A.bam.bai'\n",
       "\\item 's24.hiv.METTL3.input.bam'\n",
       "\\item 's24.hiv.METTL3.input.bam.bai'\n",
       "\\item 's24.hiv.METTL3.m6A.bam'\n",
       "\\item 's24.hiv.METTL3.m6A.bam.bai'\n",
       "\\item 's24.hiv.NT.input.bam'\n",
       "\\item 's24.hiv.NT.input.bam.bai'\n",
       "\\item 's24.hiv.NT.m6A.bam'\n",
       "\\item 's24.hiv.NT.m6A.bam.bai'\n",
       "\\item 's24.hiv.Virma.input.bam'\n",
       "\\item 's24.hiv.Virma.input.bam.bai'\n",
       "\\item 's24.hiv.Virma.m6A.bam'\n",
       "\\item 's24.hiv.Virma.m6A.bam.bai'\n",
       "\\item 's24.hiv.WTAP.input.bam'\n",
       "\\item 's24.hiv.WTAP.input.bam.bai'\n",
       "\\item 's24.hiv.WTAP.m6A.bam'\n",
       "\\item 's24.hiv.WTAP.m6A.bam.bai'\n",
       "\\item 's24.human.METTL14.input.bam'\n",
       "\\item 's24.human.METTL14.input.bam.bai'\n",
       "\\item 's24.human.METTL14.m6A.bam'\n",
       "\\item 's24.human.METTL14.m6A.bam.bai'\n",
       "\\item 's24.human.METTL3.input.bam'\n",
       "\\item 's24.human.METTL3.input.bam.bai'\n",
       "\\item 's24.human.METTL3.m6A.bam'\n",
       "\\item 's24.human.METTL3.m6A.bam.bai'\n",
       "\\item 's24.human.NT.input.bam'\n",
       "\\item 's24.human.NT.input.bam.bai'\n",
       "\\item 's24.human.NT.m6A.bam'\n",
       "\\item 's24.human.NT.m6A.bam.bai'\n",
       "\\item 's24.human.Virma.input.bam'\n",
       "\\item 's24.human.Virma.input.bam.bai'\n",
       "\\item 's24.human.Virma.m6A.bam'\n",
       "\\item 's24.human.Virma.m6A.bam.bai'\n",
       "\\item 's24.human.WTAP.input.bam'\n",
       "\\item 's24.human.WTAP.input.bam.bai'\n",
       "\\item 's24.human.WTAP.m6A.bam'\n",
       "\\item 's24.human.WTAP.m6A.bam.bai'\n",
       "\\end{enumerate*}\n"
      ],
      "text/markdown": [
       "1. 's23.hiv.METTL14.input.bam'\n",
       "2. 's23.hiv.METTL14.input.bam.bai'\n",
       "3. 's23.hiv.METTL14.m6A.bam'\n",
       "4. 's23.hiv.METTL14.m6A.bam.bai'\n",
       "5. 's23.hiv.METTL3.input.bam'\n",
       "6. 's23.hiv.METTL3.input.bam.bai'\n",
       "7. 's23.hiv.METTL3.m6A.bam'\n",
       "8. 's23.hiv.METTL3.m6A.bam.bai'\n",
       "9. 's23.hiv.NT.input.bam'\n",
       "10. 's23.hiv.NT.input.bam.bai'\n",
       "11. 's23.hiv.NT.m6A.bam'\n",
       "12. 's23.hiv.NT.m6A.bam.bai'\n",
       "13. 's23.hiv.Virma.input.bam'\n",
       "14. 's23.hiv.Virma.input.bam.bai'\n",
       "15. 's23.hiv.Virma.m6A.bam'\n",
       "16. 's23.hiv.Virma.m6A.bam.bai'\n",
       "17. 's23.hiv.WTAP.input.bam'\n",
       "18. 's23.hiv.WTAP.input.bam.bai'\n",
       "19. 's23.hiv.WTAP.m6A.bam'\n",
       "20. 's23.hiv.WTAP.m6A.bam.bai'\n",
       "21. 's23.human.METTL14.input.bam'\n",
       "22. 's23.human.METTL14.input.bam.bai'\n",
       "23. 's23.human.METTL14.m6A.bam'\n",
       "24. 's23.human.METTL14.m6A.bam.bai'\n",
       "25. 's23.human.METTL3.input.bam'\n",
       "26. 's23.human.METTL3.input.bam.bai'\n",
       "27. 's23.human.METTL3.m6A.bam'\n",
       "28. 's23.human.METTL3.m6A.bam.bai'\n",
       "29. 's23.human.NT.input.bam'\n",
       "30. 's23.human.NT.input.bam.bai'\n",
       "31. 's23.human.NT.m6A.bam'\n",
       "32. 's23.human.NT.m6A.bam.bai'\n",
       "33. 's23.human.Virma.input.bam'\n",
       "34. 's23.human.Virma.input.bam.bai'\n",
       "35. 's23.human.Virma.m6A.bam'\n",
       "36. 's23.human.Virma.m6A.bam.bai'\n",
       "37. 's23.human.WTAP.input.bam'\n",
       "38. 's23.human.WTAP.input.bam.bai'\n",
       "39. 's23.human.WTAP.m6A.bam'\n",
       "40. 's23.human.WTAP.m6A.bam.bai'\n",
       "41. 's24.hiv.METTL14.input.bam'\n",
       "42. 's24.hiv.METTL14.input.bam.bai'\n",
       "43. 's24.hiv.METTL14.m6A.bam'\n",
       "44. 's24.hiv.METTL14.m6A.bam.bai'\n",
       "45. 's24.hiv.METTL3.input.bam'\n",
       "46. 's24.hiv.METTL3.input.bam.bai'\n",
       "47. 's24.hiv.METTL3.m6A.bam'\n",
       "48. 's24.hiv.METTL3.m6A.bam.bai'\n",
       "49. 's24.hiv.NT.input.bam'\n",
       "50. 's24.hiv.NT.input.bam.bai'\n",
       "51. 's24.hiv.NT.m6A.bam'\n",
       "52. 's24.hiv.NT.m6A.bam.bai'\n",
       "53. 's24.hiv.Virma.input.bam'\n",
       "54. 's24.hiv.Virma.input.bam.bai'\n",
       "55. 's24.hiv.Virma.m6A.bam'\n",
       "56. 's24.hiv.Virma.m6A.bam.bai'\n",
       "57. 's24.hiv.WTAP.input.bam'\n",
       "58. 's24.hiv.WTAP.input.bam.bai'\n",
       "59. 's24.hiv.WTAP.m6A.bam'\n",
       "60. 's24.hiv.WTAP.m6A.bam.bai'\n",
       "61. 's24.human.METTL14.input.bam'\n",
       "62. 's24.human.METTL14.input.bam.bai'\n",
       "63. 's24.human.METTL14.m6A.bam'\n",
       "64. 's24.human.METTL14.m6A.bam.bai'\n",
       "65. 's24.human.METTL3.input.bam'\n",
       "66. 's24.human.METTL3.input.bam.bai'\n",
       "67. 's24.human.METTL3.m6A.bam'\n",
       "68. 's24.human.METTL3.m6A.bam.bai'\n",
       "69. 's24.human.NT.input.bam'\n",
       "70. 's24.human.NT.input.bam.bai'\n",
       "71. 's24.human.NT.m6A.bam'\n",
       "72. 's24.human.NT.m6A.bam.bai'\n",
       "73. 's24.human.Virma.input.bam'\n",
       "74. 's24.human.Virma.input.bam.bai'\n",
       "75. 's24.human.Virma.m6A.bam'\n",
       "76. 's24.human.Virma.m6A.bam.bai'\n",
       "77. 's24.human.WTAP.input.bam'\n",
       "78. 's24.human.WTAP.input.bam.bai'\n",
       "79. 's24.human.WTAP.m6A.bam'\n",
       "80. 's24.human.WTAP.m6A.bam.bai'\n",
       "\n",
       "\n"
      ],
      "text/plain": [
       " [1] \"s23.hiv.METTL14.input.bam\"       \"s23.hiv.METTL14.input.bam.bai\"  \n",
       " [3] \"s23.hiv.METTL14.m6A.bam\"         \"s23.hiv.METTL14.m6A.bam.bai\"    \n",
       " [5] \"s23.hiv.METTL3.input.bam\"        \"s23.hiv.METTL3.input.bam.bai\"   \n",
       " [7] \"s23.hiv.METTL3.m6A.bam\"          \"s23.hiv.METTL3.m6A.bam.bai\"     \n",
       " [9] \"s23.hiv.NT.input.bam\"            \"s23.hiv.NT.input.bam.bai\"       \n",
       "[11] \"s23.hiv.NT.m6A.bam\"              \"s23.hiv.NT.m6A.bam.bai\"         \n",
       "[13] \"s23.hiv.Virma.input.bam\"         \"s23.hiv.Virma.input.bam.bai\"    \n",
       "[15] \"s23.hiv.Virma.m6A.bam\"           \"s23.hiv.Virma.m6A.bam.bai\"      \n",
       "[17] \"s23.hiv.WTAP.input.bam\"          \"s23.hiv.WTAP.input.bam.bai\"     \n",
       "[19] \"s23.hiv.WTAP.m6A.bam\"            \"s23.hiv.WTAP.m6A.bam.bai\"       \n",
       "[21] \"s23.human.METTL14.input.bam\"     \"s23.human.METTL14.input.bam.bai\"\n",
       "[23] \"s23.human.METTL14.m6A.bam\"       \"s23.human.METTL14.m6A.bam.bai\"  \n",
       "[25] \"s23.human.METTL3.input.bam\"      \"s23.human.METTL3.input.bam.bai\" \n",
       "[27] \"s23.human.METTL3.m6A.bam\"        \"s23.human.METTL3.m6A.bam.bai\"   \n",
       "[29] \"s23.human.NT.input.bam\"          \"s23.human.NT.input.bam.bai\"     \n",
       "[31] \"s23.human.NT.m6A.bam\"            \"s23.human.NT.m6A.bam.bai\"       \n",
       "[33] \"s23.human.Virma.input.bam\"       \"s23.human.Virma.input.bam.bai\"  \n",
       "[35] \"s23.human.Virma.m6A.bam\"         \"s23.human.Virma.m6A.bam.bai\"    \n",
       "[37] \"s23.human.WTAP.input.bam\"        \"s23.human.WTAP.input.bam.bai\"   \n",
       "[39] \"s23.human.WTAP.m6A.bam\"          \"s23.human.WTAP.m6A.bam.bai\"     \n",
       "[41] \"s24.hiv.METTL14.input.bam\"       \"s24.hiv.METTL14.input.bam.bai\"  \n",
       "[43] \"s24.hiv.METTL14.m6A.bam\"         \"s24.hiv.METTL14.m6A.bam.bai\"    \n",
       "[45] \"s24.hiv.METTL3.input.bam\"        \"s24.hiv.METTL3.input.bam.bai\"   \n",
       "[47] \"s24.hiv.METTL3.m6A.bam\"          \"s24.hiv.METTL3.m6A.bam.bai\"     \n",
       "[49] \"s24.hiv.NT.input.bam\"            \"s24.hiv.NT.input.bam.bai\"       \n",
       "[51] \"s24.hiv.NT.m6A.bam\"              \"s24.hiv.NT.m6A.bam.bai\"         \n",
       "[53] \"s24.hiv.Virma.input.bam\"         \"s24.hiv.Virma.input.bam.bai\"    \n",
       "[55] \"s24.hiv.Virma.m6A.bam\"           \"s24.hiv.Virma.m6A.bam.bai\"      \n",
       "[57] \"s24.hiv.WTAP.input.bam\"          \"s24.hiv.WTAP.input.bam.bai\"     \n",
       "[59] \"s24.hiv.WTAP.m6A.bam\"            \"s24.hiv.WTAP.m6A.bam.bai\"       \n",
       "[61] \"s24.human.METTL14.input.bam\"     \"s24.human.METTL14.input.bam.bai\"\n",
       "[63] \"s24.human.METTL14.m6A.bam\"       \"s24.human.METTL14.m6A.bam.bai\"  \n",
       "[65] \"s24.human.METTL3.input.bam\"      \"s24.human.METTL3.input.bam.bai\" \n",
       "[67] \"s24.human.METTL3.m6A.bam\"        \"s24.human.METTL3.m6A.bam.bai\"   \n",
       "[69] \"s24.human.NT.input.bam\"          \"s24.human.NT.input.bam.bai\"     \n",
       "[71] \"s24.human.NT.m6A.bam\"            \"s24.human.NT.m6A.bam.bai\"       \n",
       "[73] \"s24.human.Virma.input.bam\"       \"s24.human.Virma.input.bam.bai\"  \n",
       "[75] \"s24.human.Virma.m6A.bam\"         \"s24.human.Virma.m6A.bam.bai\"    \n",
       "[77] \"s24.human.WTAP.input.bam\"        \"s24.human.WTAP.input.bam.bai\"   \n",
       "[79] \"s24.human.WTAP.m6A.bam\"          \"s24.human.WTAP.m6A.bam.bai\"     "
      ]
     },
     "metadata": {},
     "output_type": "display_data"
    }
   ],
   "source": [
    "list.files('bam')ppattern =  = "
   ]
  },
  {
   "cell_type": "markdown",
   "metadata": {},
   "source": [
    "# Peakcalling "
   ]
  },
  {
   "cell_type": "markdown",
   "metadata": {},
   "source": [
    "## Control"
   ]
  },
  {
   "cell_type": "markdown",
   "metadata": {},
   "source": [
    "Comparing to RADAR package, exomepeak also claculate coverage for only non threted samples. We used different conda `environment` for exomepeak (and it takes long time to run!!). "
   ]
  },
  {
   "cell_type": "code",
   "execution_count": null,
   "metadata": {},
   "outputs": [],
   "source": [
    "library(exomePeak)\n",
    "txdb <- makeTxDbFromGFF('/rumi/shams/genomes/hg38/gencode.v28.annotation.gtf',organism='Homo sapiens')\n",
    "setwd(\"/rumi/shams/abe/People/Judd/bam\")\n",
    "print (txdb)\n",
    "res <- exomepeak(\n",
    "    TXDB=txdb,\n",
    "    IP_BAM=list.files(pattern='human.NT.m6A.bam$'),\n",
    "    INPUT_BAM=list.files(pattern='human.NT.input.bam$'),\n",
    "    OUTPUT_DIR='../exomepeak',\n",
    "    EXPERIMENT_NAME='control'\n",
    ")\n",
    "saveRDS(res, paste('../exomepeak','control', 'results.rds', sep='/'))"
   ]
  },
  {
   "cell_type": "markdown",
   "metadata": {},
   "source": [
    "### Plot _Guitar_ \n",
    "Now, let's draw metagene plots for control samples:"
   ]
  },
  {
   "cell_type": "code",
   "execution_count": 5,
   "metadata": {},
   "outputs": [],
   "source": [
    "library(Guitar)"
   ]
  },
  {
   "cell_type": "code",
   "execution_count": 3,
   "metadata": {
    "scrolled": true
   },
   "outputs": [
    {
     "name": "stderr",
     "output_type": "stream",
     "text": [
      "Import genomic features from the file as a GRanges object ... OK\n",
      "Prepare the 'metadata' data frame ... OK\n",
      "Make the TxDb object ... Warning message in .get_cds_IDX(mcols0$type, mcols0$phase):\n",
      "“The \"phase\" metadata column contains non-NA values for features of type\n",
      "  stop_codon. This information was ignored.”OK\n"
     ]
    }
   ],
   "source": [
    "txdb <- makeTxDbFromGFF('/rumi/shams/genomes/hg38/gencode.v28.annotation.gtf',organism='Homo sapiens')"
   ]
  },
  {
   "cell_type": "code",
   "execution_count": 4,
   "metadata": {
    "scrolled": false
   },
   "outputs": [
    {
     "name": "stdout",
     "output_type": "stream",
     "text": [
      "[1] \"20200223050452\"\n",
      "[1] \"There are 203835 transcripts of 58381 genes in the genome.\"\n",
      "[1] \"total 203835 transcripts extracted ...\"\n",
      "[1] \"total 94682 transcripts left after ambiguity filter ...\"\n",
      "[1] \"total 94682 transcripts left after check chromosome validity ...\"\n",
      "[1] \"total 11625 mRNAs left after component length filter ...\"\n",
      "[1] \"total 56222 ncRNAs left after ncRNA length filter ...\"\n",
      "[1] \"generate components for all tx\"\n",
      "[1] \"generate components for mRNA\"\n",
      "[1] \"generate components for lncRNA\"\n",
      "[1] \"generate chiped transcriptome\"\n",
      "[1] \"generate coverage checking ranges for tx\"\n",
      "[1] \"generate coverage checking ranges for mrna\"\n",
      "[1] \"generate coverage checking ranges for ncrna\"\n",
      "[1] \"20200223050924\"\n",
      "[1] \"import BED file exomepeak/control/peak.bed\"\n",
      "[1] \"sample 10 points for Group1\"\n"
     ]
    },
    {
     "name": "stderr",
     "output_type": "stream",
     "text": [
      "Warning message in valid.GenomicRanges.seqinfo(x, suggest.trim = TRUE):\n",
      "“GRanges object contains 2 out-of-bound ranges located on sequences\n",
      "  ENST00000508832.2 and ENST00000583166.1. Note that ranges located on a\n",
      "  sequence whose length is unknown (NA) or on a circular sequence are not\n",
      "  considered out-of-bound (use seqlengths() and isCircular() to get the\n",
      "  lengths and circularity flags of the underlying sequences). You can use\n",
      "  trim() to trim these ranges. See ?`trim,GenomicRanges-method` for more\n",
      "  information.”"
     ]
    },
    {
     "name": "stdout",
     "output_type": "stream",
     "text": [
      "[1] \"start figure plotting for tx ...\"\n",
      "[1] \"start figure plotting for mrna ...\"\n",
      "[1] \"start figure plotting for ncrna ...\"\n"
     ]
    }
   ],
   "source": [
    "GuitarPlot(txTxdb = txdb,stBedFiles = list(\"exomepeak/control/peak.bed\"),miscOutFilePrefix = \"control\")"
   ]
  },
  {
   "cell_type": "markdown",
   "metadata": {},
   "source": [
    "### Motif analysis "
   ]
  },
  {
   "cell_type": "code",
   "execution_count": null,
   "metadata": {},
   "outputs": [],
   "source": [
    "%%bash \n",
    "cd exomepeak/human/control/\n",
    "bedtools getfasta -name -s -fi /rumi/shams/genomes/hg38/hg38.fa -bed peak.bed -split -fo peak.fa\n",
    "# prepare fasta file for FIRE\n",
    "perl /flash/hani/bin/Tools/prep_seqs_for_teiser_run.pl peak.fa peaks\n",
    "# run FIRE --doskipdiscovery=1\n",
    "perl $FIREDIR/fire.pl --expfile=peaks_teiser.txt --exptype=discrete --fastafile_rna=peaks_teiser.fa --nodups=1 --dodna=0 --dodnarna=0 --species=human --doskipdiscovery=1 --motiffile_rna=motifs_of_interest.txt --oribiasonly=0\n",
    "mv peaks_teiser.txt_FIRE/ motifs_of_interest_FIRE\n",
    "# run FIRE --doskipdiscovery=0\n",
    "perl $FIREDIR/fire.pl --expfile=peaks_teiser.txt --exptype=discrete --fastafile_rna=peaks_teiser.fa --nodups=1 --dodna=0 --dodnarna=0 --species=human --oribiasonly=0"
   ]
  },
  {
   "cell_type": "markdown",
   "metadata": {},
   "source": [
    "## Differential methylation"
   ]
  },
  {
   "cell_type": "markdown",
   "metadata": {},
   "source": [
    "We are using RADAR package for meRIP data analysis ([see RADAR manual](https://scottzijiezhang.github.io/RADARmanual/workflow.html)). It will run over bam files for each enzyme treatment. `run_radar` function do it all for you :) "
   ]
  },
  {
   "cell_type": "code",
   "execution_count": 2,
   "metadata": {},
   "outputs": [],
   "source": [
    "library(\"RADAR\")\n",
    "run_radar <- function(enz, gtf,species='human', cutoff = 0.1, Beta_cutoff = 0.5,threads = 18){\n",
    "    outputDir = paste(\"radar\", species,enz, sep='/')\n",
    "    radar <- countReads(\n",
    "        samplenames = unlist(lapply (c('s23','s24'), paste, paste(species,c('NT',enz), sep='.'),sep='.')),\n",
    "        gtf = gtf,\n",
    "        bamFolder = \"bam\",\n",
    "        modification = 'm6A',\n",
    "        strandToKeep = \"opposite\",\n",
    "        outputDir = outputDir,\n",
    "        threads = threads,\n",
    "        saveOutput = TRUE\n",
    "    )\n",
    "    saveRDS(radar, file = paste(outputDir,\"raw.radar.rds\",sep='/')) # ,compress = TRUE)\n",
    "    radar <- normalizeLibrary(radar, boxPlot = FALSE)\n",
    "    radar <- adjustExprLevel(radar)\n",
    "    \n",
    "    variable(radar) <- data.frame( Group =data.frame( Group = rep(c(\"Ctrl\",\"Treated\"),2)) )\n",
    "    radar <- filterBins(radar,minCountsCutOff = 15)\n",
    "    radar <- diffIP_parallel(radar, thread = threads)\n",
    "    top_bins <- extractIP(radar,filtered = T)[order(rowMeans( extractIP(radar,filtered = T) ),decreasing = T)[1:1000],]\n",
    "    radar <- reportResult(radar, cutoff = cutoff, Beta_cutoff = Beta_cutoff, threads=threads)\n",
    "    result <- results(radar)\n",
    "    \n",
    "    write.csv(results, paste(outputDir,'radar.bed',sep='/'), quote = FALSE, row.names = FALSE)\n",
    "    saveRDS(radar, file = paste(outputDir,\"radar.rds\",sep='/')) # ,compress = TRUE)\n",
    "}"
   ]
  },
  {
   "cell_type": "markdown",
   "metadata": {},
   "source": [
    "### Run radar on human bam files "
   ]
  },
  {
   "cell_type": "code",
   "execution_count": null,
   "metadata": {},
   "outputs": [],
   "source": [
    "%%bash \n",
    "# Declare a string array with type\n",
    "declare -a StringArray=('METTL14' 'METTL3' 'Virma' 'WTAP')\n",
    "\n",
    "# Read the array values with space\n",
    "for enz in \"${StringArray[@]}\"; do\n",
    "  echo \"########################################################\"\n",
    "  echo \"Runing RADAR for \"$enz\n",
    "  echo \"########################################################\"\n",
    "  Rscript _sh/radar.r $enz;"
   ]
  },
  {
   "cell_type": "markdown",
   "metadata": {},
   "source": [
    "**radar.r** file contain: "
   ]
  },
  {
   "cell_type": "code",
   "execution_count": null,
   "metadata": {},
   "outputs": [],
   "source": [
    "library(\"RADAR\")\n",
    "args <- commandArgs(trailingOnly = TRUE)\n",
    "enz <- args[1]\n",
    "gtf <- args[2]\n",
    "\n",
    "run_radar <- function(enz, gtf,species='human', cutoff = 0.1, Beta_cutoff = 0.5,threads = 18){\n",
    "    outputDir = paste(\"radar\", species,enz, sep='/')\n",
    "    radar <- countReads(\n",
    "        samplenames = unlist(lapply (c('s23','s24'), paste, paste(species,c('NT',enz), sep='.'),sep='.')),\n",
    "        gtf = gtf,\n",
    "        bamFolder = \"bam\",\n",
    "        modification = 'm6A',\n",
    "        strandToKeep = \"opposite\",\n",
    "        outputDir = outputDir,\n",
    "        threads = threads,\n",
    "        saveOutput = TRUE\n",
    "    )\n",
    "    saveRDS(radar, file = paste(outputDir,\"raw.radar.rds\",sep='/')) # ,compress = TRUE)\n",
    "    radar <- normalizeLibrary(radar, boxPlot = FALSE)\n",
    "    radar <- adjustExprLevel(radar)\n",
    "    \n",
    "    variable(radar) <- data.frame( Group =data.frame( Group = rep(c(\"Ctrl\",\"Treated\"),2)) )\n",
    "    radar <- filterBins(radar,minCountsCutOff = 15)\n",
    "    radar <- diffIP_parallel(radar, thread = threads)\n",
    "    top_bins <- extractIP(radar,filtered = T)[order(rowMeans( extractIP(radar,filtered = T) ),decreasing = T)[1:1000],]\n",
    "    radar <- reportResult(radar, cutoff = cutoff, Beta_cutoff = Beta_cutoff, threads=threads)\n",
    "    result <- results(radar)\n",
    "    \n",
    "    # save plots \n",
    "    pdf(paste(\"plots/radar.\",enz,\".Heatmap.pdf\",sep=''), width=7, height=7, paper = \"a4r\")\n",
    "    plotHeatMap(radar,covariates = FALSE)\n",
    "    dev.off()\n",
    "\n",
    "    png(paste(\"plots/radar.\",enz,\".Heatmap.png\",sep=''))\n",
    "    plotHeatMap(radar,covariates = FALSE)\n",
    "    dev.off()\n",
    "\n",
    "    p = peakDistribution(radar)\n",
    "    ggsave(paste(\"plots/radar.\",enz,\".Distribution.png\",sep=''), plot = p, device = 'png', dpi = 300, width = 5, height = 5)\n",
    "    \n",
    "    p = plotPCAfromMatrix(top_bins,group = unlist(variable(radar)) )\n",
    "    ggsave(paste(\"plots/radar.\",enz,\".PCA.png\",sep=''), plot = p, device = 'png', dpi = 300, width = 8, height = 5)\n",
    "\n",
    "    \n",
    "    write.csv(results, paste(outputDir,'radar.bed',sep='/'), quote = FALSE, row.names = FALSE)\n",
    "    saveRDS(radar, file = paste(outputDir,\"radar.rds\",sep='/')) # ,compress = TRUE)\n",
    "}\n",
    "\n",
    "run_radar(enz,gtf)"
   ]
  },
  {
   "cell_type": "markdown",
   "metadata": {},
   "source": [
    "Here we're using https://github.com/gold-lab/bed12ToGTF to make gtf file from control exomepeak result.\n",
    "\n",
    "https://metacpan.org/pod/Bio::FeatureIO::gtf"
   ]
  },
  {
   "cell_type": "code",
   "execution_count": null,
   "metadata": {},
   "outputs": [],
   "source": [
    "%%bash\n",
    "cat exomepeak/control/peak.bed | perl ../../Workflows/bed12ToGTF/bed12ToGTF.1.pl > exomepeak/control/peak.gtf\n",
    "cat exomepeak/control/peak.gtf | awk '{gsub(/\\\"|\\;/,\"\")}1' | awk '{gsub(/transcript_id/,\"gene_id\")}1' > exomepeak/control/peak.edited.gtf"
   ]
  },
  {
   "cell_type": "code",
   "execution_count": 41,
   "metadata": {},
   "outputs": [],
   "source": [
    "# gtf = \"/rumi/shams/genomes/hg38/gencode.v28.annotation.gtf\"\n",
    "gtf = \"exomepeak/control/peak.gtf\""
   ]
  },
  {
   "cell_type": "markdown",
   "metadata": {},
   "source": [
    "Using `featureCounts` to count reads which are present in control peak cordinates (found by `exomepeak`). "
   ]
  },
  {
   "cell_type": "code",
   "execution_count": null,
   "metadata": {},
   "outputs": [],
   "source": [
    "%%bash\n",
    "declare -a StringArray=('METTL14' 'METTL3' 'Virma' 'WTAP')\n",
    "for enz in \"${StringArray[@]}\"; \n",
    "    do for f in bam/*human.$enz*.bam; \n",
    "        do out=${f/.bam/.fc}; out=${out/bam/peakcount}; \n",
    "        featureCounts -T 12 -P -B -C -O -t exon -g gene_id -a exomepeak/control/peak.edited.gtf -o $out $f; \n",
    "    done; \n",
    "done"
   ]
  },
  {
   "cell_type": "markdown",
   "metadata": {},
   "source": [
    "using `DESeq2` to find differential methylation genes: "
   ]
  },
  {
   "cell_type": "code",
   "execution_count": 1,
   "metadata": {},
   "outputs": [],
   "source": [
    "%load_ext rpy2.ipython"
   ]
  },
  {
   "cell_type": "code",
   "execution_count": 7,
   "metadata": {},
   "outputs": [],
   "source": [
    "%%R\n",
    "library(DESeq2)\n",
    "library(tidyverse)\n",
    "library(ggplot2)\n",
    "library(patchwork)\n",
    "pca = list(); vol = list(); hist = list()"
   ]
  },
  {
   "cell_type": "code",
   "execution_count": 29,
   "metadata": {
    "scrolled": false
   },
   "outputs": [
    {
     "name": "stderr",
     "output_type": "stream",
     "text": [
      "R[write to console]: converting counts to integer mode\n",
      "\n",
      "R[write to console]: estimating size factors\n",
      "\n",
      "R[write to console]: estimating dispersions\n",
      "\n",
      "R[write to console]: gene-wise dispersion estimates\n",
      "\n",
      "R[write to console]: mean-dispersion relationship\n",
      "\n",
      "R[write to console]: final dispersion estimates\n",
      "\n",
      "R[write to console]: fitting model and testing\n",
      "\n",
      "R[write to console]: converting counts to integer mode\n",
      "\n",
      "R[write to console]: estimating size factors\n",
      "\n",
      "R[write to console]: estimating dispersions\n",
      "\n",
      "R[write to console]: gene-wise dispersion estimates\n",
      "\n",
      "R[write to console]: mean-dispersion relationship\n",
      "\n",
      "R[write to console]: final dispersion estimates\n",
      "\n",
      "R[write to console]: fitting model and testing\n",
      "\n",
      "R[write to console]: converting counts to integer mode\n",
      "\n",
      "R[write to console]: estimating size factors\n",
      "\n",
      "R[write to console]: estimating dispersions\n",
      "\n",
      "R[write to console]: gene-wise dispersion estimates\n",
      "\n",
      "R[write to console]: mean-dispersion relationship\n",
      "\n",
      "R[write to console]: final dispersion estimates\n",
      "\n",
      "R[write to console]: fitting model and testing\n",
      "\n",
      "R[write to console]: converting counts to integer mode\n",
      "\n",
      "R[write to console]: estimating size factors\n",
      "\n",
      "R[write to console]: estimating dispersions\n",
      "\n",
      "R[write to console]: gene-wise dispersion estimates\n",
      "\n",
      "R[write to console]: mean-dispersion relationship\n",
      "\n",
      "R[write to console]: final dispersion estimates\n",
      "\n",
      "R[write to console]: fitting model and testing\n",
      "\n"
     ]
    }
   ],
   "source": [
    "%%R\n",
    "all_dds = list()\n",
    "for (treat in c('METTL14','METTL3','Virma','WTAP'\n",
    "               )){\n",
    "    files <- list.files(path = 'fc',pattern=paste(treat,\".fc$\",sep = ''))\n",
    "    reps <- rep(c('s23','s24'),2)\n",
    "    ip <- c(rep('input',2),rep('m6A',2))\n",
    "    conds <- paste(treat,ip, sep='.')\n",
    "    all_conds <- paste(reps,treat,ip, sep='.')\n",
    "    datalist <- lapply(files, function(x){read.table(file=paste('fc/', x, sep = \"\") ,header=TRUE,colClasses=c(NA, \"NULL\", \"NULL\", \"NULL\", \"NULL\", \"NULL\", NA),check.names=F)})\n",
    "    m <- Reduce(function(...) merge(..., by=1, all = TRUE), datalist)\n",
    "    rownames(m) <- paste ('human',m[,1],sep='-')\n",
    "    m <- m[,-1]\n",
    "    m[is.na(m)]<-0\n",
    "    m <- round(m)\n",
    "    colnames(m) <- all_conds\n",
    "    colData <- data.frame(cond = conds, row.names=all_conds)\n",
    "    dds <- DESeqDataSetFromMatrix(countData = m, colData = colData, design = ~ cond)\n",
    "    dds$cond <- relevel(dds$cond, ref=paste(treat,\".input\",sep = ''))\n",
    "    dds <- DESeq(dds)\n",
    "    \n",
    "    all_dds[[treat]] = dds\n",
    "    # normalized counts \n",
    "    ncu <- counts(dds, normalized=TRUE)\n",
    "    res <- results(dds)\n",
    "    write.table(res, paste('deseq/',treat,'_m6A_vs_input.txt',sep=''), sep=\"\\t\", quote=FALSE, col.names=NA)\n",
    "    # Raw tabels \n",
    "    write.table(ncu, file=paste('deseq/',treat,'_gene_count_table_DE2norm.txt',sep=''), sep=\"\\t\", quote=FALSE, col.names=all_conds) \n",
    "    write.table(m, file=paste('deseq/',treat,'_gene_count_table_raw.txt',sep=''), sep=\"\\t\", quote=FALSE, col.names=all_conds)\n",
    "}"
   ]
  },
  {
   "cell_type": "markdown",
   "metadata": {},
   "source": [
    "### Plots "
   ]
  },
  {
   "cell_type": "code",
   "execution_count": 151,
   "metadata": {},
   "outputs": [
    {
     "name": "stderr",
     "output_type": "stream",
     "text": [
      "R[write to console]: found already estimated dispersions, replacing these\n",
      "\n",
      "R[write to console]: gene-wise dispersion estimates\n",
      "\n",
      "R[write to console]: mean-dispersion relationship\n",
      "\n",
      "R[write to console]: final dispersion estimates\n",
      "\n",
      "R[write to console]: found already estimated dispersions, replacing these\n",
      "\n",
      "R[write to console]: gene-wise dispersion estimates\n",
      "\n",
      "R[write to console]: mean-dispersion relationship\n",
      "\n",
      "R[write to console]: final dispersion estimates\n",
      "\n",
      "R[write to console]: found already estimated dispersions, replacing these\n",
      "\n",
      "R[write to console]: gene-wise dispersion estimates\n",
      "\n",
      "R[write to console]: mean-dispersion relationship\n",
      "\n",
      "R[write to console]: final dispersion estimates\n",
      "\n",
      "R[write to console]: found already estimated dispersions, replacing these\n",
      "\n",
      "R[write to console]: gene-wise dispersion estimates\n",
      "\n",
      "R[write to console]: mean-dispersion relationship\n",
      "\n",
      "R[write to console]: final dispersion estimates\n",
      "\n",
      "R[write to console]: Saving 6.67 x 6.67 in image\n",
      "\n",
      "R[write to console]: Saving 6.67 x 6.67 in image\n",
      "\n"
     ]
    },
    {
     "data": {
      "image/png": "[encoded data removed]"
     },
     "metadata": {},
     "output_type": "display_data"
    }
   ],
   "source": [
    "%%R\n",
    "for (treat in c('METTL14','METTL3','Virma','WTAP')){\n",
    "    dds = all_dds[[treat]]\n",
    "    res <- results(dds)    \n",
    "    cds <- estimateDispersions(dds)\n",
    "    vsd <- varianceStabilizingTransformation(cds)\n",
    "    ## PCA Plot \n",
    "    z <- plotPCA(vsd,intgroup=c(\"cond\"), returnData=TRUE)\n",
    "    percentVar <- round(100 * attr(z, \"percentVar\"))\n",
    "    pca[[treat]] <- ggplot(z, aes(PC1, PC2)) +\n",
    "            ggtitle(treat) + \n",
    "            geom_point(aes(size = 2,  colour=cond), alpha = 4/10) +\n",
    "            xlab(paste0(\"PC1: \",percentVar[1],\"% variance\")) +\n",
    "            ylab(paste0(\"PC2: \",percentVar[2],\"% variance\")) +\n",
    "            guides(size = FALSE) +\n",
    "            theme(\n",
    "                legend.title = element_blank(), \n",
    "                legend.position = \"bottom\"  )\n",
    "}    \n",
    "p = pca$METTL14 + pca$METTL3 + pca$Virma + pca$WTAP\n",
    "ggsave(\"plots/all_PCAs.png\", plot = p, device = 'png', dpi = 300)\n",
    "ggsave(\"plots/all_PCAs.pdf\", plot = p, device = 'pdf', dpi = 300)\n",
    "p"
   ]
  },
  {
   "cell_type": "code",
   "execution_count": 139,
   "metadata": {},
   "outputs": [
    {
     "name": "stderr",
     "output_type": "stream",
     "text": [
      "R[write to console]: Saving 6.67 x 6.67 in image\n",
      "\n",
      "R[write to console]: Saving 6.67 x 6.67 in image\n",
      "\n"
     ]
    },
    {
     "data": {
      "image/png": "[encoded data removed]"
     },
     "metadata": {},
     "output_type": "display_data"
    }
   ],
   "source": [
    "%%R\n",
    "for (treat in c('METTL14','METTL3','Virma','WTAP')){\n",
    "    dds = all_dds[[treat]]\n",
    "    res <- results(dds)    \n",
    "    vol[[treat]] = data.frame(res) %>% ggplot(aes(x=log2FoldChange, y=-log10(pvalue))) +\n",
    "            geom_point(alpha = 1/10) +\n",
    "            ggtitle(treat) +\n",
    "            xlim(c(-15,15)) +\n",
    "            ylim(c(0,300)) +\n",
    "            theme_bw() + \n",
    "            theme(legend.position=\"none\")\n",
    "}\n",
    "v = vol$METTL14 + vol$METTL3 + vol$Virma + vol$WTAP\n",
    "ggsave(\"plots/all_Volcanos.png\", plot = v, device = 'png', dpi = 300)\n",
    "ggsave(\"plots/all_Volcanos.pdf\", plot = v, device = 'pdf', dpi = 300)\n",
    "v"
   ]
  },
  {
   "cell_type": "markdown",
   "metadata": {},
   "source": [
    "[Wilcoxon signed rank test](http://www.sthda.com/english/wiki/one-sample-wilcoxon-signed-rank-test-in-r)"
   ]
  },
  {
   "cell_type": "code",
   "execution_count": 140,
   "metadata": {},
   "outputs": [
    {
     "name": "stdout",
     "output_type": "stream",
     "text": [
      "[1] \"METTL14\"\n",
      "\n",
      "\tWilcoxon signed rank test with continuity correction\n",
      "\n",
      "data:  res$log2FoldChange\n",
      "V = 93036000, p-value < 2.2e-16\n",
      "alternative hypothesis: true location is less than 0\n",
      "\n",
      "[1] \"METTL3\"\n",
      "\n",
      "\tWilcoxon signed rank test with continuity correction\n",
      "\n",
      "data:  res$log2FoldChange\n",
      "V = 86635000, p-value < 2.2e-16\n",
      "alternative hypothesis: true location is less than 0\n",
      "\n",
      "[1] \"Virma\"\n",
      "\n",
      "\tWilcoxon signed rank test with continuity correction\n",
      "\n",
      "data:  res$log2FoldChange\n",
      "V = 85497000, p-value < 2.2e-16\n",
      "alternative hypothesis: true location is less than 0\n",
      "\n",
      "[1] \"WTAP\"\n",
      "\n",
      "\tWilcoxon signed rank test with continuity correction\n",
      "\n",
      "data:  res$log2FoldChange\n",
      "V = 100430000, p-value < 2.2e-16\n",
      "alternative hypothesis: true location is less than 0\n",
      "\n"
     ]
    },
    {
     "name": "stderr",
     "output_type": "stream",
     "text": [
      "R[write to console]: Saving 6.67 x 6.67 in image\n",
      "\n",
      "R[write to console]: Saving 6.67 x 6.67 in image\n",
      "\n"
     ]
    },
    {
     "data": {
      "image/png": "[encoded data removed]"
     },
     "metadata": {},
     "output_type": "display_data"
    }
   ],
   "source": [
    "%%R\n",
    "for (treat in c('METTL14','METTL3','Virma','WTAP')){\n",
    "    dds = all_dds[[treat]]\n",
    "    res <- results(dds)    \n",
    "    res = data.frame(res)\n",
    "    d = res$log2FoldChange[!is.na(res$log2FoldChange)]\n",
    "    t <- wilcox.test(res$log2FoldChange,mu = 0, alternative = \"less\")\n",
    "    \n",
    "    print (treat)\n",
    "    print (t)\n",
    "    hist[[treat]] = ggplot(res, aes(x=log2FoldChange)) +\n",
    "            ggtitle(treat, sprintf(\"Test true location less than 0;\\\n",
    "                                    p.value: %.5f\", t$p.value)) +\n",
    "            ylim(c(-10,2800)) +\n",
    "            geom_histogram(binwidth=0.3)\n",
    "}\n",
    "h = hist$METTL14 / hist$METTL3 / hist$Virma / hist$WTAP\n",
    "ggsave(\"plots/all_Histograms.png\", plot = h, device = 'png', dpi = 300)\n",
    "ggsave(\"plots/all_Histograms.pdf\", plot = h, device = 'pdf', dpi = 300)\n",
    "h"
   ]
  },
  {
   "cell_type": "markdown",
   "metadata": {},
   "source": [
    "Using `plotHeatMap`, `plotPCAfromMatrix` and `peakDistribution` function from RADAR package:"
   ]
  },
  {
   "cell_type": "code",
   "execution_count": 14,
   "metadata": {
    "scrolled": false
   },
   "outputs": [],
   "source": [
    "# for (enz in c('METTL14','METTL3','Virma','WTAP')){\n",
    "#     radar = readRDS(paste('radar/human/',enz,'/radar.rds',sep=''))\n",
    "\n",
    "#     pdf(paste(\"plots/radar.\",enz,\".Heatmap.pdf\",sep=''), width=7, height=7, paper = \"a4r\")\n",
    "#     plotHeatMap(radar,covariates = FALSE)\n",
    "#     dev.off()\n",
    "\n",
    "#     png(paste(\"plots/radar.\",enz,\".Heatmap.png\",sep=''))\n",
    "#     plotHeatMap(radar,covariates = FALSE)\n",
    "#     dev.off()\n",
    "\n",
    "#     p = peakDistribution(radar)\n",
    "#     ggsave(paste(\"plots/radar.\",enz,\".Distribution.png\",sep=''), plot = p, device = 'png', dpi = 300, width = 5, height = 5)\n",
    "    \n",
    "#     top_bins <- extractIP(radar,filtered = T)[order(rowMeans( extractIP(radar,filtered = T) ),decreasing = T)[1:1000],]\n",
    "#     p = plotPCAfromMatrix(top_bins,group = unlist(variable(radar)) )\n",
    "#     ggsave(paste(\"plots/radar.\",enz,\".PCA.png\",sep=''), plot = p, device = 'png', dpi = 300, width = 8, height = 5)\n",
    "# }"
   ]
  },
  {
   "cell_type": "code",
   "execution_count": null,
   "metadata": {},
   "outputs": [],
   "source": [
    "# cat radar.bed | awk -F, '{OFS=\",\";print $1,$2,$3,$4,\"1\",$6}' > radar.c.bed\n",
    "# awk '{gsub(/\\,/,\"\\t\");print;}' radar.bed > radar.t.bed"
   ]
  },
  {
   "cell_type": "markdown",
   "metadata": {},
   "source": [
    "# run piranha for HIV bam files "
   ]
  },
  {
   "cell_type": "code",
   "execution_count": null,
   "metadata": {},
   "outputs": [],
   "source": [
    "%%bash\n",
    "### m6A bam files ###\n",
    "# Merge .bam files:\n",
    "samtools merge -@ 12 piranha/hiv.m6A.bam bam/*hiv*m6A.bam\n",
    "# sort the merged file >>> it's not making any change\n",
    "samtools sort -@12 piranha/hiv.m6A.bam > piranha/hiv.m6A.srt.bam\n",
    "# bam to bed\n",
    "bedtools bamtobed -i piranha/hiv.m6A.srt.bam > piranha/hiv.m6A.srt.bed\n",
    "\n",
    "### input bam files ###\n",
    "# Merge .bam files:\n",
    "samtools merge -@ 12 piranha/hiv.input.bam bam/*hiv*input.bam\n",
    "# sort the merged file >>> it's not making any change\n",
    "samtools sort -@12 piranha/hiv.input.bam > piranha/hiv.input.srt.bam\n",
    "# bam to bet\n",
    "bedtools bamtobed -i piranha/hiv.input.srt.bam > piranha/hiv.input.srt.bed\n",
    "\n",
    "### run Piranha ###\n",
    "Piranha -s -i 50 piranha/hiv.m6A.srt.bed piranha/hiv.input.srt.bed -o piranha/hiv.piranha.txt\n",
    "# make new ref file\n",
    "awk '{printf(\"%s\\t%d\\t%d\\t%d\\t1\\t%s\\n\",$1,$2,$3, NR,$4)}' piranha/hiv.piranha.txt > piranha/final_piranha.bed\n",
    "awk '{printf(\"%s\\t%s\\t%d\\t%d\\t%s\\n\",$4,$1,$2+1,$3,$6)}' piranha/final_piranha.bed > piranha/final_piranha.saf\n",
    "### first line of piranha/final_piranha.saf removed "
   ]
  },
  {
   "cell_type": "code",
   "execution_count": null,
   "metadata": {},
   "outputs": [],
   "source": [
    "%%bash\n",
    "# make new reletive counts\n",
    "for f in bam/*hiv*.m6A.bam; do\n",
    "    out=${f/.bam/.piranha.fc};\n",
    "    out=${out/bam/piranha\\/fc};\n",
    "    echo featureCounts -T 12 -O -F SAF -a piranha/final_piranha.saf -o $out $f;\n",
    "done\n",
    "\n",
    "for f in bam/*hiv*.input.bam; do\n",
    "    out=${f/.bam/.piranha.fc};\n",
    "    out=${out/bam/piranha\\/fc};\n",
    "    echo featureCounts -T 12 -O -F SAF -a piranha/final_piranha.saf -o $out $f;\n",
    "done"
   ]
  },
  {
   "cell_type": "markdown",
   "metadata": {},
   "source": [
    "(activate R kernel)"
   ]
  },
  {
   "cell_type": "code",
   "execution_count": 2,
   "metadata": {},
   "outputs": [],
   "source": [
    "library(DESeq2)\n",
    "library(ggplot2)\n",
    "library(tidyverse)\n",
    "library(pheatmap)"
   ]
  },
  {
   "cell_type": "code",
   "execution_count": 56,
   "metadata": {},
   "outputs": [],
   "source": [
    "files <- list.files(path = \"piranha/fc\", pattern=\"fc$\") \n",
    "reps <- c(rep('s23',10),rep('s24',10))\n",
    "ip <- rep(c('input','m6A'),10)\n",
    "enzymes <- rep(unlist(lapply(c('METTL14','METTL3','NT','Virma','WTAP'), rep, 2)),2)\n",
    "conds <- ip\n",
    "all_conds <- paste(\n",
    "    reps,\n",
    "    enzymes, \n",
    "    ip, \n",
    "    sep='.')\n",
    "datalist <- lapply(files, function(x){read.table(file=paste('piranha/fc/', x, sep = \"\") ,header=TRUE,colClasses=c(NA, \"NULL\", \"NULL\", \"NULL\", \"NULL\", \"NULL\", NA),check.names=F)})\n",
    "m <- Reduce(function(...) merge(..., by=1, all = TRUE), datalist)\n",
    "rownames(m) <- paste ('hiv',m[,1],sep='-')\n",
    "m <- m[,-1]\n",
    "m[is.na(m)]<-0\n",
    "m <- round(m)\n",
    "colnames(m) <- all_conds\n",
    "colData <- data.frame(cond = conds, row.names=colnames(m))"
   ]
  },
  {
   "cell_type": "markdown",
   "metadata": {},
   "source": [
    "comparing m6A/input for each knockdown to control\n"
   ]
  },
  {
   "cell_type": "code",
   "execution_count": 68,
   "metadata": {
    "scrolled": false
   },
   "outputs": [
    {
     "name": "stderr",
     "output_type": "stream",
     "text": [
      "converting counts to integer mode\n",
      "estimating size factors\n",
      "estimating dispersions\n",
      "gene-wise dispersion estimates\n",
      "mean-dispersion relationship\n",
      "final dispersion estimates\n",
      "fitting model and testing\n",
      "found already estimated dispersions, replacing these\n",
      "gene-wise dispersion estimates\n",
      "mean-dispersion relationship\n",
      "final dispersion estimates\n",
      "-- note: fitType='parametric', but the dispersion trend was not well captured by the\n",
      "   function: y = a/x + b, and a local regression fit was automatically substituted.\n",
      "   specify fitType='local' or 'mean' to avoid this message next time.\n",
      "Warning message in lfproc(x, y, weights = weights, cens = cens, base = base, geth = geth, :\n",
      "“Estimated rdf < 1.0; not estimating variance”converting counts to integer mode\n",
      "estimating size factors\n",
      "estimating dispersions\n",
      "gene-wise dispersion estimates\n",
      "mean-dispersion relationship\n",
      "-- note: fitType='parametric', but the dispersion trend was not well captured by the\n",
      "   function: y = a/x + b, and a local regression fit was automatically substituted.\n",
      "   specify fitType='local' or 'mean' to avoid this message next time.\n",
      "Warning message in lfproc(x, y, weights = weights, cens = cens, base = base, geth = geth, :\n",
      "“Estimated rdf < 1.0; not estimating variance”final dispersion estimates\n",
      "fitting model and testing\n",
      "found already estimated dispersions, replacing these\n",
      "gene-wise dispersion estimates\n",
      "mean-dispersion relationship\n",
      "-- note: fitType='parametric', but the dispersion trend was not well captured by the\n",
      "   function: y = a/x + b, and a local regression fit was automatically substituted.\n",
      "   specify fitType='local' or 'mean' to avoid this message next time.\n",
      "Warning message in lfproc(x, y, weights = weights, cens = cens, base = base, geth = geth, :\n",
      "“Estimated rdf < 1.0; not estimating variance”final dispersion estimates\n",
      "-- note: fitType='parametric', but the dispersion trend was not well captured by the\n",
      "   function: y = a/x + b, and a local regression fit was automatically substituted.\n",
      "   specify fitType='local' or 'mean' to avoid this message next time.\n",
      "Warning message in lfproc(x, y, weights = weights, cens = cens, base = base, geth = geth, :\n",
      "“Estimated rdf < 1.0; not estimating variance”converting counts to integer mode\n",
      "estimating size factors\n",
      "estimating dispersions\n",
      "gene-wise dispersion estimates\n",
      "mean-dispersion relationship\n",
      "final dispersion estimates\n",
      "fitting model and testing\n",
      "found already estimated dispersions, replacing these\n",
      "gene-wise dispersion estimates\n",
      "mean-dispersion relationship\n",
      "final dispersion estimates\n",
      "-- note: fitType='parametric', but the dispersion trend was not well captured by the\n",
      "   function: y = a/x + b, and a local regression fit was automatically substituted.\n",
      "   specify fitType='local' or 'mean' to avoid this message next time.\n",
      "Warning message in lfproc(x, y, weights = weights, cens = cens, base = base, geth = geth, :\n",
      "“Estimated rdf < 1.0; not estimating variance”converting counts to integer mode\n",
      "estimating size factors\n",
      "estimating dispersions\n",
      "gene-wise dispersion estimates\n",
      "mean-dispersion relationship\n",
      "-- note: fitType='parametric', but the dispersion trend was not well captured by the\n",
      "   function: y = a/x + b, and a local regression fit was automatically substituted.\n",
      "   specify fitType='local' or 'mean' to avoid this message next time.\n",
      "final dispersion estimates\n",
      "fitting model and testing\n",
      "found already estimated dispersions, replacing these\n",
      "gene-wise dispersion estimates\n",
      "mean-dispersion relationship\n",
      "-- note: fitType='parametric', but the dispersion trend was not well captured by the\n",
      "   function: y = a/x + b, and a local regression fit was automatically substituted.\n",
      "   specify fitType='local' or 'mean' to avoid this message next time.\n",
      "final dispersion estimates\n",
      "-- note: fitType='parametric', but the dispersion trend was not well captured by the\n",
      "   function: y = a/x + b, and a local regression fit was automatically substituted.\n",
      "   specify fitType='local' or 'mean' to avoid this message next time.\n"
     ]
    }
   ],
   "source": [
    "options(repr.plot.width=4, repr.plot.height=4)\n",
    "all_vsd = list()\n",
    "for (enz in c('METTL14','METTL3','Virma','WTAP')){\n",
    "    icond = c(grep(enz,all_conds), grep('NT',all_conds) )\n",
    "    mm <- m[,icond]\n",
    "    colData <- data.frame(cond= conds[icond], row.names=colnames(mm))\n",
    "    dds <- DESeqDataSetFromMatrix(countData = mm, colData = colData, design = ~ cond)\n",
    "    dds$cond <- relevel(dds$cond, ref='input')\n",
    "    dds <- DESeq(dds)\n",
    "    cds <- estimateDispersions(dds)\n",
    "    vsd <- varianceStabilizingTransformation(cds)\n",
    "    # Plot heatmap\n",
    "    vsd_mat <- assay(vsd)\n",
    "    all_vsd[[enz]] = data.frame(vsd_mat)\n",
    "    \n",
    "#     # normalized counts \n",
    "#     ncu <- counts(dds, normalized=TRUE)\n",
    "#     # Raw tabels \n",
    "#     write.table(ncu, file=paste(\"piranha/results/\",enz,\".hiv.\",\"gene_count_table_DE2norm.txt\", sep=''), sep=\"\\t\", quote=FALSE, col.names=colnames(mm)) \n",
    "#     write.table(mm, file=paste(\"piranha/results/\",enz,\".hiv.\",\"gene_count_table_raw.txt\", sep=''), sep=\"\\t\", quote=FALSE, col.names=colnames(mm))\n",
    "#     # model:\n",
    "#     res <- results(dds)\n",
    "#     write.table(res, paste(\"piranha/results/\",enz,\".hiv.\",\"input_vs_m6A.txt\", sep=''), sep=\"\\t\", quote=FALSE, col.names=NA)\n",
    "\n",
    "    \n",
    "    ## Volcano plot \n",
    "#     vol = data.frame(res) %>% ggplot(aes(x=log2FoldChange, y=-log10(pvalue))) + \n",
    "#             geom_point(alpha = 6/10) + \n",
    "#             xlim(c(-5,5)) + \n",
    "#             ylim(c(0,20)) + \n",
    "#             theme_bw() + \n",
    "#             theme(legend.position=\"none\")\n",
    "#     ggsave(paste('results/plots/model_',i,'_Volcano.pdf',sep=''), plot = vol, device = 'pdf')\n",
    "#     print (vol)\n",
    "}"
   ]
  },
  {
   "cell_type": "code",
   "execution_count": 162,
   "metadata": {
    "scrolled": false
   },
   "outputs": [
    {
     "name": "stderr",
     "output_type": "stream",
     "text": [
      "Saving 6.67 x 6.67 in image\n",
      "Saving 6.67 x 6.67 in image\n"
     ]
    },
    {
     "data": {
      "image/png": "[encoded data removed]",
      "text/plain": [
       "plot without title"
      ]
     },
     "metadata": {},
     "output_type": "display_data"
    },
    {
     "name": "stderr",
     "output_type": "stream",
     "text": [
      "Saving 6.67 x 6.67 in image\n"
     ]
    },
    {
     "data": {
      "image/png": "[encoded data removed]",
      "text/plain": [
       "plot without title"
      ]
     },
     "metadata": {},
     "output_type": "display_data"
    },
    {
     "name": "stderr",
     "output_type": "stream",
     "text": [
      "Saving 6.67 x 6.67 in image\n"
     ]
    },
    {
     "data": {
      "image/png": "[encoded data removed]",
      "text/plain": [
       "plot without title"
      ]
     },
     "metadata": {},
     "output_type": "display_data"
    },
    {
     "data": {
      "image/png": "[encoded data removed]",
      "text/plain": [
       "plot without title"
      ]
     },
     "metadata": {},
     "output_type": "display_data"
    }
   ],
   "source": [
    "for (enz in c('METTL14','METTL3','Virma','WTAP')){\n",
    "    vsd = all_vsd[[enz]]\n",
    "    new = data.frame(row.names = rownames(vsd))\n",
    "    for (i in 2*(1:4)){new[[substr(colnames(vsd)[i],1,nchar(colnames(vsd)[i])-4)]] = vsd[,i]/vsd[,i-1]}\n",
    "    h1 <- pheatmap(as.matrix(new), fontsize = 8, cluster_rows = FALSE, cluster_cols=FALSE, main=enz)\n",
    "    ggsave(paste('plots/hiv.',enz,'_Heatmap.pdf',sep=''), plot = h1, device = 'pdf', dpi = 300)\n",
    "    ggsave(paste('plots/hiv.',enz,'_Heatmap.png',sep=''), plot = h1, device = 'png', dpi = 300,width = 3, height = 3)\n",
    "}"
   ]
  },
  {
   "cell_type": "code",
   "execution_count": 8,
   "metadata": {},
   "outputs": [
    {
     "data": {
      "text/plain": [
       "R version 3.6.2 (2019-12-12)\n",
       "Platform: x86_64-conda_cos6-linux-gnu (64-bit)\n",
       "Running under: Ubuntu 18.04.2 LTS\n",
       "\n",
       "Matrix products: default\n",
       "BLAS/LAPACK: /rumi/shams/abe/anaconda3/envs/RADAR/lib/libopenblasp-r0.3.7.so\n",
       "\n",
       "locale:\n",
       " [1] LC_CTYPE=en_US.UTF-8       LC_NUMERIC=C              \n",
       " [3] LC_TIME=en_US.UTF-8        LC_COLLATE=en_US.UTF-8    \n",
       " [5] LC_MONETARY=en_US.UTF-8    LC_MESSAGES=en_US.UTF-8   \n",
       " [7] LC_PAPER=en_US.UTF-8       LC_NAME=C                 \n",
       " [9] LC_ADDRESS=C               LC_TELEPHONE=C            \n",
       "[11] LC_MEASUREMENT=en_US.UTF-8 LC_IDENTIFICATION=C       \n",
       "\n",
       "attached base packages:\n",
       "[1] parallel  stats4    stats     graphics  grDevices utils     datasets \n",
       "[8] methods   base     \n",
       "\n",
       "other attached packages:\n",
       " [1] RADAR_0.2.1                 qvalue_2.18.0              \n",
       " [3] RcppArmadillo_0.9.800.4.0   Rcpp_1.0.3                 \n",
       " [5] RColorBrewer_1.1-2          gplots_3.0.1.2             \n",
       " [7] doParallel_1.0.15           iterators_1.0.12           \n",
       " [9] foreach_1.4.7               Rsamtools_2.2.0            \n",
       "[11] Biostrings_2.54.0           XVector_0.26.0             \n",
       "[13] Guitar_2.2.0                knitr_1.28                 \n",
       "[15] magrittr_1.5                rtracklayer_1.46.0         \n",
       "[17] GenomicFeatures_1.38.0      AnnotationDbi_1.48.0       \n",
       "[19] pheatmap_1.0.12             forcats_0.4.0              \n",
       "[21] stringr_1.4.0               dplyr_0.8.4                \n",
       "[23] purrr_0.3.3                 readr_1.3.1                \n",
       "[25] tidyr_0.8.3                 tibble_2.1.3               \n",
       "[27] tidyverse_1.2.1             ggplot2_3.2.1              \n",
       "[29] DESeq2_1.26.0               SummarizedExperiment_1.16.0\n",
       "[31] DelayedArray_0.12.0         BiocParallel_1.20.0        \n",
       "[33] matrixStats_0.55.0          Biobase_2.46.0             \n",
       "[35] GenomicRanges_1.38.0        GenomeInfoDb_1.22.0        \n",
       "[37] IRanges_2.20.0              S4Vectors_0.24.0           \n",
       "[39] BiocGenerics_0.32.0        \n",
       "\n",
       "loaded via a namespace (and not attached):\n",
       " [1] colorspace_1.4-1         IRdisplay_0.7.0          htmlTable_1.13.3        \n",
       " [4] base64enc_0.1-3          rstudioapi_0.11          bit64_0.9-7             \n",
       " [7] fansi_0.4.1              lubridate_1.7.4          xml2_1.2.2              \n",
       "[10] codetools_0.2-16         splines_3.6.2            geneplotter_1.64.0      \n",
       "[13] IRkernel_0.8.15          Formula_1.2-3            jsonlite_1.6.1          \n",
       "[16] broom_0.5.2              annotate_1.64.0          dbplyr_1.4.2            \n",
       "[19] cluster_2.1.0            png_0.1-7                compiler_3.6.2          \n",
       "[22] httr_1.4.1               backports_1.1.5          assertthat_0.2.1        \n",
       "[25] Matrix_1.2-18            lazyeval_0.2.2           cli_2.0.1               \n",
       "[28] acepack_1.4.1            htmltools_0.4.0          prettyunits_1.1.1       \n",
       "[31] tools_3.6.2              gtable_0.3.0             glue_1.3.1              \n",
       "[34] GenomeInfoDbData_1.2.2   reshape2_1.4.3           rappdirs_0.3.1          \n",
       "[37] cellranger_1.1.0         vctrs_0.2.2              gdata_2.18.0            \n",
       "[40] nlme_3.1-144             xfun_0.12                rvest_0.3.3             \n",
       "[43] lifecycle_0.1.0          gtools_3.8.1             XML_3.99-0.3            \n",
       "[46] zlibbioc_1.32.0          scales_1.1.0             hms_0.5.3               \n",
       "[49] curl_4.3                 memoise_1.1.0            gridExtra_2.3           \n",
       "[52] biomaRt_2.42.0           rpart_4.1-15             latticeExtra_0.6-29     \n",
       "[55] stringi_1.4.5            RSQLite_2.1.5            genefilter_1.68.0       \n",
       "[58] checkmate_2.0.0          caTools_1.18.0           repr_0.19.2             \n",
       "[61] rlang_0.4.4              pkgconfig_2.0.3          bitops_1.0-6            \n",
       "[64] evaluate_0.14            lattice_0.20-38          GenomicAlignments_1.22.0\n",
       "[67] htmlwidgets_1.5.1        bit_1.1-15.1             tidyselect_1.0.0        \n",
       "[70] plyr_1.8.5               R6_2.4.1                 generics_0.0.2          \n",
       "[73] Hmisc_4.3-1              pbdZMQ_0.3-3             DBI_1.1.0               \n",
       "[76] pillar_1.4.3             haven_2.1.0              foreign_0.8-75          \n",
       "[79] withr_2.1.2              survival_3.1-8           RCurl_1.98-1.1          \n",
       "[82] nnet_7.3-12              modelr_0.1.4             crayon_1.3.4            \n",
       "[85] KernSmooth_2.23-16       uuid_0.1-2               BiocFileCache_1.10.0    \n",
       "[88] jpeg_0.1-8.1             progress_1.2.2           locfit_1.5-9.1          \n",
       "[91] grid_3.6.2               readxl_1.3.1             data.table_1.12.8       \n",
       "[94] blob_1.2.1               digest_0.6.23            xtable_1.8-4            \n",
       "[97] openssl_1.4.1            munsell_0.5.0            askpass_1.1             "
      ]
     },
     "metadata": {},
     "output_type": "display_data"
    }
   ],
   "source": [
    "sessionInfo()"
   ]
  },
  {
   "cell_type": "markdown",
   "metadata": {},
   "source": [
    "## Similar paper \n",
    "> [Dynamics of the human and viral m6 A RNA methylomes during HIV-1 infection of T cells](https://www.nature.com/articles/nmicrobiol201611.pdf?proof=t)\n",
    "[GEO](https://www.ncbi.nlm.nih.gov/geo/query/acc.cgi?acc=GSE74016)\n",
    "\n",
    "They’re using [pLAI.2 HIV](https://aidsreagent.org/reagentdetail.cfm?t=molecular_clones&id=47) but Judd have used [HIV-1 IIIB Virus](https://aidsreagent.org/reagentdetail.cfm?t=viruses&id=607)\n",
    "\n",
    "Data in this paper might be useful to compare it with Judd’s data. They have used different pipelines to analyze data at that time. I'm downloading data using [SRA Toolkit](https://www.ncbi.nlm.nih.gov/sra/docs/sradownload/#download-sequence-data-files-usi)\n"
   ]
  },
  {
   "cell_type": "code",
   "execution_count": null,
   "metadata": {},
   "outputs": [],
   "source": []
  },
  {
   "cell_type": "markdown",
   "metadata": {},
   "source": [
    "https://trace.ncbi.nlm.nih.gov/Traces/sra/?study=SRP064809"
   ]
  },
  {
   "cell_type": "raw",
   "metadata": {},
   "source": [
    "prefetch SRR2648305 \n",
    "prefetch SRR2648303 \n",
    "prefetch SRR2648301\n",
    "prefetch SRR2648299\n",
    "prefetch SRR2648297\n",
    "prefetch SRR2648296\n",
    "prefetch SRR2648294\n",
    "prefetch SRR2648293"
   ]
  },
  {
   "cell_type": "raw",
   "metadata": {},
   "source": [
    "fastq-dump -I --split-files SRR2648293\n",
    "fastq-dump -I --split-files SRR2648294\n",
    "fastq-dump -I --split-files SRR2648296\n",
    "fastq-dump -I --split-files SRR2648297\n",
    "fastq-dump -I --split-files SRR2648299\n",
    "fastq-dump -I --split-files SRR2648301\n",
    "fastq-dump -I --split-files SRR2648303\n",
    "fastq-dump -I --split-files SRR2648305"
   ]
  },
  {
   "cell_type": "code",
   "execution_count": null,
   "metadata": {},
   "outputs": [],
   "source": [
    "%%bash \n",
    "STAR --genomeLoad LoadAndExit --genomeDir /rumi/shams/abe/genomes/hg38/\n",
    "mkdir peer/bam\n",
    "for f in peer/fastq/*;do\n",
    "    out=${f/fastq/bam};\n",
    "    echo STAR --outSAMtype BAM SortedByCoordinate --runThreadN 16 --genomeDir /rumi/shams/abe/genomes/hg38/ --readFilesIn $f --outFileNamePrefix $out.bam --outReadsUnmapped Fastx;\n",
    "done\n",
    "STAR --genomeLoad Remove --genomeDir /rumi/shams/abe/genomes/hg38/"
   ]
  }
 ],
 "metadata": {
  "kernelspec": {
   "display_name": "Python 3",
   "language": "python",
   "name": "python3"
  },
  "language_info": {
   "codemirror_mode": {
    "name": "ipython",
    "version": 3
   },
   "file_extension": ".py",
   "mimetype": "text/x-python",
   "name": "python",
   "nbconvert_exporter": "python",
   "pygments_lexer": "ipython3",
   "version": "3.7.6"
  }
 },
 "nbformat": 4,
 "nbformat_minor": 2
}
