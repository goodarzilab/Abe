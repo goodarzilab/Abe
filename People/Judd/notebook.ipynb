{
 "cells": [
  {
   "cell_type": "code",
   "execution_count": 92,
   "metadata": {},
   "outputs": [],
   "source": [
    "import os\n",
    "from glob import glob\n",
    "import re\n",
    "import igv\n",
    "\n",
    "\n",
    "def meRIPseq_study(files, enzymes, file_type='bam', sp='hg38'):\n",
    "    if file_type == 'bam':\n",
    "        files = [f for f in files if '.bai' not in f]\n",
    "    elif file_type == 'bai':\n",
    "        files = [f for f in files if '.bai' in f]\n",
    "    if sp=='hg38':\n",
    "        files = [b for b in files if 'HIV' not in b]\n",
    "    elif sp=='HIV':\n",
    "        files = [b for b in files if 'HIV' in b]        \n",
    "    TREATED = [b for b in files if 'NT' not in b]\n",
    "    nonTREATED = [b for b in files if 'NT' in b]\n",
    "    \n",
    "    design={}\n",
    "    for enz in enzymes:\n",
    "        Treatment = [b for b in TREATED if enz in b]\n",
    "        design[enz]={            \n",
    "            'meRIP': [b for b in Treatment if 'meRIP' in b],\n",
    "            'INPUT': [b for b in Treatment if 'meRIP' in b]\n",
    "        }\n",
    "    design['Ctrl'] = {\n",
    "        'meRIP': [b for b in nonTREATED if 'meRIP' in b],\n",
    "        'INPUT': [b for b in nonTREATED if 'IN' in b],        \n",
    "    }\n",
    "    return design\n",
    "def add_track(enz, mode, i=0):\n",
    "    b.load_track({\n",
    "        \"name\": enz+'\\t'+mode+'\\t'+reps[i],\n",
    "        \"url\": bams[enz][mode][i],\n",
    "        \"indexURL\": bais[enz][mode][i],\n",
    "        \"format\": \"bam\",\n",
    "        \"type\": \"alignment\"\n",
    "    })"
   ]
  },
  {
   "cell_type": "code",
   "execution_count": 93,
   "metadata": {},
   "outputs": [],
   "source": [
    "reps = ['23','24']\n",
    "enzymes = ['METTL3', 'METTL14', 'Virma', 'WTAP']\n",
    "files = os.listdir('bam')\n",
    "HIV_files = [b for b in files if 'HIV' in b]\n",
    "\n",
    "bams = meRIPseq_study(files, enzymes, file_type='bam')\n",
    "bais = meRIPseq_study(files, enzymes, file_type='bai')"
   ]
  },
  {
   "cell_type": "markdown",
   "metadata": {},
   "source": [
    "This is meRIPseq data for Judd H. \n",
    "\n",
    "The libraries were prepared with **SMARTer kit**, first 3 nt have to be trimmed from the read1, and read1 is the reverse-complement of the RNA. \n",
    "\n",
    "There are two donors, one control and 4 KO samples each."
   ]
  },
  {
   "cell_type": "code",
   "execution_count": 80,
   "metadata": {
    "scrolled": false
   },
   "outputs": [],
   "source": [
    "b = igv.Browser({\n",
    "    \"genome\": \"hg38\"\n",
    "#      \"locus\": \"chr22:24,376,166-24,376,456\"\n",
    "    })\n",
    "\n",
    "add_track(enzymes[1], 'IP')\n",
    "b.show()"
   ]
  },
  {
   "cell_type": "code",
   "execution_count": 81,
   "metadata": {},
   "outputs": [
    {
     "data": {
      "text/html": [
       "<div id=\"igv_2650806\"></div>"
      ],
      "text/plain": [
       "<IPython.core.display.HTML object>"
      ]
     },
     "metadata": {},
     "output_type": "display_data"
    }
   ],
   "source": []
  },
  {
   "cell_type": "code",
   "execution_count": null,
   "metadata": {},
   "outputs": [],
   "source": [
    "b.zoom_in()"
   ]
  },
  {
   "cell_type": "code",
   "execution_count": null,
   "metadata": {},
   "outputs": [],
   "source": [
    "b.get_svg()"
   ]
  },
  {
   "cell_type": "code",
   "execution_count": null,
   "metadata": {},
   "outputs": [],
   "source": [
    "b.display_svg()"
   ]
  },
  {
   "cell_type": "code",
   "execution_count": 42,
   "metadata": {},
   "outputs": [
    {
     "name": "stdout",
     "output_type": "stream",
     "text": [
      "['./exomepeak/hg38/METTL3/diff_peak.bed'] \n",
      "\n",
      "['./exomepeak/hg38/METTL14/diff_peak.bed'] \n",
      "\n",
      "['./exomepeak/hg38/Virma/diff_peak.bed'] \n",
      "\n",
      "['./exomepeak/hg38/WTAP/diff_peak.bed'] \n",
      "\n"
     ]
    }
   ],
   "source": [
    "for enz in ['METTL3','METTL14','Virma','WTAP']:\n",
    "    print (glob('./exomepeak/hg38/'+enz+'/diff_peak.bed'),'\\n')\n"
   ]
  },
  {
   "cell_type": "markdown",
   "metadata": {},
   "source": [
    "1. peak calling HIV\n",
    "2. peak calling other genes of interest "
   ]
  },
  {
   "cell_type": "markdown",
   "metadata": {},
   "source": [
    "(Active R Kernel)"
   ]
  },
  {
   "cell_type": "code",
   "execution_count": null,
   "metadata": {},
   "outputs": [],
   "source": []
  }
 ],
 "metadata": {
  "kernelspec": {
   "display_name": "Python 3",
   "language": "python",
   "name": "python3"
  },
  "language_info": {
   "codemirror_mode": {
    "name": "ipython",
    "version": 3
   },
   "file_extension": ".py",
   "mimetype": "text/x-python",
   "name": "python",
   "nbconvert_exporter": "python",
   "pygments_lexer": "ipython3",
   "version": "3.7.1"
  }
 },
 "nbformat": 4,
 "nbformat_minor": 2
}
