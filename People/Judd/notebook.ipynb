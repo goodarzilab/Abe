{
 "cells": [
  {
   "cell_type": "code",
   "execution_count": 56,
   "metadata": {},
   "outputs": [],
   "source": [
    "import os\n",
    "from glob import glob\n",
    "import re\n",
    "import igv\n",
    "\n",
    "\n",
    "def meRIPseq_study(files, enzymes, file_type='bigwig', sp='hg38'):\n",
    "    ## 1.\n",
    "    if file_type == 'bam':\n",
    "        files = [f for f in files if '.bam' in f and '.bai' not in f]\n",
    "    elif file_type == 'bai':\n",
    "        files = [f for f in files if '.bai' in f]\n",
    "    elif file_type == 'bigwig':\n",
    "        files = [f for f in files if '.bw' in f]        \n",
    "    ## 2.\n",
    "    if sp=='hg38':\n",
    "        files = [b for b in files if 'HIV' not in b]\n",
    "    elif sp=='HIV':\n",
    "        files = [b for b in files if 'HIV' in b]        \n",
    "    ## 3.\n",
    "    TREATED = [b for b in files if 'NT' not in b]\n",
    "    nonTREATED = [b for b in files if 'NT' in b]\n",
    "    \n",
    "    design={}\n",
    "    for enz in enzymes:\n",
    "        Treatment = [b for b in TREATED if enz in b]\n",
    "        design[enz]={            \n",
    "            'meRIP': [b for b in Treatment if 'meRIP' in b],\n",
    "            'INPUT': [b for b in Treatment if 'meRIP' in b]\n",
    "        }\n",
    "    design['Ctrl'] = {\n",
    "        'meRIP': [b for b in nonTREATED if 'meRIP' in b],\n",
    "        'INPUT': [b for b in nonTREATED if 'IN' in b],        \n",
    "    }\n",
    "    return design\n",
    "\n",
    "#   type: \"wig\",\n",
    "#   name: \"CTCF\",\n",
    "#   url: \"https://www.encodeproject.org/files/ENCFF356YES/@@download/ENCFF356YES.bigWig\",\n",
    "#   guideLines: [\n",
    "#     {color: 'green', dotted: true, y: 25}, \n",
    "#     {color: 'red', dotted: false, y: 5}\n",
    "#   ]\n",
    "# }\n",
    "    \n",
    "#     b.load_track({\n",
    "#         \"name\": \"meRIPseq\",\n",
    "#         \"type\": \"annotation\",\n",
    "#         \"format\": \"bed\",\n",
    "#         sourceType: \"file\",\n",
    "#         url: \"//igv.broadinstitute.org/annotations/hg19/genes/gencode.v18.collapsed.bed\",\n",
    "#         indexURL: \"//igv.broadinstitute.org/annotations/hg19/genes/gencode.v18.collapsed.bed.idx\",\n",
    "#         displayMode: \"EXPANDED\"\n",
    "#     }"
   ]
  },
  {
   "cell_type": "code",
   "execution_count": 46,
   "metadata": {},
   "outputs": [],
   "source": [
    "reps = ['23','24']\n",
    "enzymes = ['METTL3', 'METTL14', 'Virma', 'WTAP']\n",
    "\n",
    "\n",
    "files = os.listdir('bam')\n",
    "# HIV_files = [b for b in files if 'HIV' in b]\n",
    "bigwigs = meRIPseq_study(files, enzymes)\n",
    "bais = meRIPseq_study(files,enzymes, file_type='bai')\n",
    "bams = meRIPseq_study(files,enzymes, file_type='bam')"
   ]
  },
  {
   "cell_type": "code",
   "execution_count": 47,
   "metadata": {},
   "outputs": [
    {
     "data": {
      "text/plain": [
       "{'METTL3': {'meRIP': ['12_meRIP_23_METTL3.bw', '17_meRIP_24_METTL3.bw'],\n",
       "  'INPUT': ['12_meRIP_23_METTL3.bw', '17_meRIP_24_METTL3.bw']},\n",
       " 'METTL14': {'meRIP': ['18_meRIP_24_METTL14.bw', '13_meRIP_23_METTL14.bw'],\n",
       "  'INPUT': ['18_meRIP_24_METTL14.bw', '13_meRIP_23_METTL14.bw']},\n",
       " 'Virma': {'meRIP': ['14_meRIP_23_Virma.bw', '19_meRIP_24_Virma.bw'],\n",
       "  'INPUT': ['14_meRIP_23_Virma.bw', '19_meRIP_24_Virma.bw']},\n",
       " 'WTAP': {'meRIP': ['20_meRIP_24_WTAP.bw', '15_meRIP_23_WTAP.bw'],\n",
       "  'INPUT': ['20_meRIP_24_WTAP.bw', '15_meRIP_23_WTAP.bw']},\n",
       " 'Ctrl': {'meRIP': ['16_meRIP_24_NT.bw', '11_meRIP_23_NT.bw'],\n",
       "  'INPUT': ['01_IN_23_NT.bw', '06_IN_24_NT.bw']}}"
      ]
     },
     "execution_count": 47,
     "metadata": {},
     "output_type": "execute_result"
    }
   ],
   "source": [
    "bigwigs"
   ]
  },
  {
   "cell_type": "markdown",
   "metadata": {},
   "source": [
    "Exp. This is meRIPseq data for Judd H. \n",
    "\n",
    "The libraries were prepared with **SMARTer kit**, first 3 nt have to be trimmed from the read1, and read1 is the reverse-complement of the RNA. \n",
    "\n",
    "There are two donors, one control and 4 KO samples each."
   ]
  },
  {
   "cell_type": "code",
   "execution_count": 66,
   "metadata": {
    "scrolled": false
   },
   "outputs": [
    {
     "data": {
      "text/html": [
       "<div id=\"igv_6360949\"></div>"
      ],
      "text/plain": [
       "<IPython.core.display.HTML object>"
      ]
     },
     "metadata": {},
     "output_type": "display_data"
    }
   ],
   "source": [
    "b = igv.Browser({\n",
    "    \"genome\": \"hg38\"\n",
    "#      \"locus\": \"chr22:24,376,166-24,376,456\"\n",
    "#     1065859\t1066009\n",
    "    })\n",
    "\n",
    "# b = igv.Browser(\n",
    "#     {\"reference\": {\n",
    "#         \"id\": \"hg38\",\n",
    "# #         \"fastaURL\": \"files/data/hg19.snippet.fasta\",\n",
    "# #         \"indexed\": False,\n",
    "# #         \"cytobandURL\": \"files/data/cytoband.hg19.snippet.txt\",\n",
    "#         \"tracks\": [\n",
    "#             {\n",
    "#                 \"name\": \"exomepeak\",\n",
    "#                 \"url\": \"./exomepeak/hg38/control/peak.c.bed\"\n",
    "#             }\n",
    "#         ]\n",
    "#     }}\n",
    "# )\n",
    "\n",
    "\n",
    "b.load_track({\n",
    "    \"type\": \"wig\",\n",
    "#     \"name\": enz+'\\t'+mode+'\\t'+reps[i],\n",
    "#         \"min\": \"0\",\n",
    "#     \"max\": \"30\",\n",
    "#     \"color\": \"rgb(0, 0, 150)\",\n",
    "    \"url\": bigwigs['Ctrl']['meRIP'][0],\n",
    "})\n",
    "\n",
    "\n",
    "# add_bigwig_track('Ctrl', 'meRIP')\n",
    "# add_bigwig_track('Ctrl', 'INPUT')\n",
    "b.show()"
   ]
  },
  {
   "cell_type": "code",
   "execution_count": 63,
   "metadata": {},
   "outputs": [
    {
     "data": {
      "text/plain": [
       "'16_meRIP_24_NT.bw'"
      ]
     },
     "execution_count": 63,
     "metadata": {},
     "output_type": "execute_result"
    }
   ],
   "source": []
  },
  {
   "cell_type": "code",
   "execution_count": null,
   "metadata": {},
   "outputs": [],
   "source": [
    "b.zoom_in()"
   ]
  },
  {
   "cell_type": "code",
   "execution_count": null,
   "metadata": {},
   "outputs": [],
   "source": [
    "b.get_svg()"
   ]
  },
  {
   "cell_type": "code",
   "execution_count": null,
   "metadata": {},
   "outputs": [],
   "source": [
    "b.display_svg()"
   ]
  },
  {
   "cell_type": "code",
   "execution_count": 42,
   "metadata": {},
   "outputs": [
    {
     "name": "stdout",
     "output_type": "stream",
     "text": [
      "['./exomepeak/hg38/METTL3/diff_peak.bed'] \n",
      "\n",
      "['./exomepeak/hg38/METTL14/diff_peak.bed'] \n",
      "\n",
      "['./exomepeak/hg38/Virma/diff_peak.bed'] \n",
      "\n",
      "['./exomepeak/hg38/WTAP/diff_peak.bed'] \n",
      "\n"
     ]
    }
   ],
   "source": [
    "for enz in ['METTL3','METTL14','Virma','WTAP']:\n",
    "    print (glob('./exomepeak/hg38/'+enz+'/diff_peak.bed'),'\\n')\n"
   ]
  },
  {
   "cell_type": "markdown",
   "metadata": {},
   "source": [
    "1. peak calling HIV\n",
    "2. peak calling other genes of interest "
   ]
  },
  {
   "cell_type": "markdown",
   "metadata": {},
   "source": [
    "(Active R Kernel)"
   ]
  },
  {
   "cell_type": "code",
   "execution_count": null,
   "metadata": {},
   "outputs": [],
   "source": []
  }
 ],
 "metadata": {
  "kernelspec": {
   "display_name": "Python 3",
   "language": "python",
   "name": "python3"
  },
  "language_info": {
   "codemirror_mode": {
    "name": "ipython",
    "version": 3
   },
   "file_extension": ".py",
   "mimetype": "text/x-python",
   "name": "python",
   "nbconvert_exporter": "python",
   "pygments_lexer": "ipython3",
   "version": "3.7.3"
  }
 },
 "nbformat": 4,
 "nbformat_minor": 2
}
