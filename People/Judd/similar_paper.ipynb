{
 "cells": [
  {
   "cell_type": "code",
   "execution_count": 1,
   "metadata": {},
   "outputs": [],
   "source": [
    "%load_ext rpy2.ipython"
   ]
  },
  {
   "cell_type": "markdown",
   "metadata": {},
   "source": [
    "## Similar paper \n",
    "> [Dynamics of the human and viral m6 A RNA methylomes during HIV-1 infection of T cells](https://www.nature.com/articles/nmicrobiol201611.pdf?proof=t)\n",
    "[GEO](https://www.ncbi.nlm.nih.gov/geo/query/acc.cgi?acc=GSE74016)\n",
    "\n",
    "They’re using [pLAI.2 HIV](https://aidsreagent.org/reagentdetail.cfm?t=molecular_clones&id=47) but Judd have used [HIV-1 IIIB Virus](https://aidsreagent.org/reagentdetail.cfm?t=viruses&id=607)\n",
    "\n",
    "Data in this paper might be useful to compare it with Judd’s data. They have used different pipelines to analyze data at that time. I'm downloading data using [SRA Toolkit](https://www.ncbi.nlm.nih.gov/sra/docs/sradownload/#download-sequence-data-files-usi)\n"
   ]
  },
  {
   "cell_type": "markdown",
   "metadata": {},
   "source": [
    "https://trace.ncbi.nlm.nih.gov/Traces/sra/?study=SRP064809"
   ]
  },
  {
   "cell_type": "raw",
   "metadata": {},
   "source": [
    "prefetch SRR2648305 \n",
    "prefetch SRR2648303 \n",
    "prefetch SRR2648301\n",
    "prefetch SRR2648299\n",
    "prefetch SRR2648297\n",
    "prefetch SRR2648296\n",
    "prefetch SRR2648294\n",
    "prefetch SRR2648293"
   ]
  },
  {
   "cell_type": "raw",
   "metadata": {},
   "source": [
    "fastq-dump -I --split-files SRR2648293\n",
    "fastq-dump -I --split-files SRR2648294\n",
    "fastq-dump -I --split-files SRR2648296\n",
    "fastq-dump -I --split-files SRR2648297\n",
    "fastq-dump -I --split-files SRR2648299\n",
    "fastq-dump -I --split-files SRR2648301\n",
    "fastq-dump -I --split-files SRR2648303\n",
    "fastq-dump -I --split-files SRR2648305"
   ]
  },
  {
   "cell_type": "code",
   "execution_count": null,
   "metadata": {},
   "outputs": [],
   "source": [
    "%%bash \n",
    "STAR --genomeLoad LoadAndExit --genomeDir /rumi/shams/abe/genomes/hg38/\n",
    "mkdir peer/bam\n",
    "for f in peer/fastq/*;do\n",
    "    out=${f/fastq/bam};\n",
    "    echo STAR --outSAMtype BAM SortedByCoordinate --runThreadN 16 \\\n",
    "    --genomeDir /rumi/shams/abe/genomes/hg38/ --readFilesIn $f --outFileNamePrefix $out.bam --outReadsUnmapped Fastx;\n",
    "done\n",
    "STAR --genomeLoad Remove --genomeDir /rumi/shams/abe/genomes/hg38/"
   ]
  },
  {
   "cell_type": "code",
   "execution_count": 89,
   "metadata": {
    "scrolled": true
   },
   "outputs": [
    {
     "name": "stdout",
     "output_type": "stream",
     "text": [
      "R version 3.5.1 (2018-07-02)\n",
      "Platform: x86_64-conda_cos6-linux-gnu (64-bit)\n",
      "Running under: Ubuntu 18.04.2 LTS\n",
      "\n",
      "Matrix products: default\n",
      "BLAS/LAPACK: /rumi/shams/abe/anaconda3/envs/deseq/lib/R/lib/libRlapack.so\n",
      "\n",
      "locale:\n",
      " [1] LC_CTYPE=en_US.UTF-8       LC_NUMERIC=C              \n",
      " [3] LC_TIME=en_US.UTF-8        LC_COLLATE=en_US.UTF-8    \n",
      " [5] LC_MONETARY=en_US.UTF-8    LC_MESSAGES=en_US.UTF-8   \n",
      " [7] LC_PAPER=en_US.UTF-8       LC_NAME=C                 \n",
      " [9] LC_ADDRESS=C               LC_TELEPHONE=C            \n",
      "[11] LC_MEASUREMENT=en_US.UTF-8 LC_IDENTIFICATION=C       \n",
      "\n",
      "attached base packages:\n",
      " [1] grid      parallel  stats4    tools     stats     graphics  grDevices\n",
      " [8] utils     datasets  methods   base     \n",
      "\n",
      "other attached packages:\n",
      " [1] rtracklayer_1.40.6          data.table_1.11.6          \n",
      " [3] Rsamtools_1.32.3            Biostrings_2.48.0          \n",
      " [5] XVector_0.20.0              Gviz_1.24.0                \n",
      " [7] pheatmap_1.0.12             forcats_0.4.0              \n",
      " [9] stringr_1.4.0               dplyr_0.8.3                \n",
      "[11] purrr_0.3.3                 readr_1.3.1                \n",
      "[13] tidyr_1.0.0                 tibble_2.1.3               \n",
      "[15] tidyverse_1.2.1             ggplot2_3.2.1              \n",
      "[17] DESeq2_1.20.0               SummarizedExperiment_1.10.1\n",
      "[19] DelayedArray_0.6.6          BiocParallel_1.14.2        \n",
      "[21] matrixStats_0.55.0          Biobase_2.40.0             \n",
      "[23] GenomicRanges_1.32.7        GenomeInfoDb_1.16.0        \n",
      "[25] IRanges_2.14.12             S4Vectors_0.18.3           \n",
      "[27] BiocGenerics_0.26.0        \n",
      "\n",
      "loaded via a namespace (and not attached):\n",
      " [1] colorspace_1.4-1         biovizBase_1.28.2        htmlTable_1.13.2        \n",
      " [4] base64enc_0.1-3          dichromat_2.0-0          rstudioapi_0.10         \n",
      " [7] bit64_0.9-7              AnnotationDbi_1.42.1     lubridate_1.7.4         \n",
      "[10] xml2_1.2.2               splines_3.5.1            geneplotter_1.58.0      \n",
      "[13] knitr_1.25               zeallot_0.1.0            Formula_1.2-3           \n",
      "[16] jsonlite_1.6             broom_0.5.0              annotate_1.58.0         \n",
      "[19] cluster_2.1.0            compiler_3.5.1           httr_1.4.1              \n",
      "[22] backports_1.1.5          assertthat_0.2.1         Matrix_1.2-17           \n",
      "[25] lazyeval_0.2.2           cli_1.1.0                acepack_1.4.1           \n",
      "[28] htmltools_0.4.0          prettyunits_1.0.2        gtable_0.3.0            \n",
      "[31] glue_1.3.1               GenomeInfoDbData_1.1.0   Rcpp_1.0.3              \n",
      "[34] cellranger_1.1.0         vctrs_0.2.0              nlme_3.1-141            \n",
      "[37] xfun_0.10                rvest_0.3.5              lifecycle_0.1.0         \n",
      "[40] ensembldb_2.4.1          XML_3.98-1.20            zlibbioc_1.26.0         \n",
      "[43] scales_1.0.0             BSgenome_1.48.0          VariantAnnotation_1.26.1\n",
      "[46] hms_0.5.2                ProtGenerics_1.12.0      AnnotationFilter_1.4.0  \n",
      "[49] RColorBrewer_1.1-2       curl_4.2                 memoise_1.1.0           \n",
      "[52] gridExtra_2.3            biomaRt_2.36.1           rpart_4.1-15            \n",
      "[55] latticeExtra_0.6-28      stringi_1.4.3            RSQLite_2.1.2           \n",
      "[58] genefilter_1.62.0        checkmate_1.9.4          GenomicFeatures_1.32.3  \n",
      "[61] rlang_0.4.1              pkgconfig_2.0.3          bitops_1.0-6            \n",
      "[64] lattice_0.20-38          GenomicAlignments_1.16.0 htmlwidgets_1.5.1       \n",
      "[67] bit_1.1-14               tidyselect_0.2.5         magrittr_1.5            \n",
      "[70] R6_2.4.0                 Hmisc_4.2-0              DBI_1.0.0               \n",
      "[73] pillar_1.4.2             haven_2.2.0              foreign_0.8-72          \n",
      "[76] withr_2.1.2              survival_2.44-1.1        RCurl_1.95-4.12         \n",
      "[79] nnet_7.3-12              modelr_0.1.5             crayon_1.3.4            \n",
      "[82] progress_1.2.2           locfit_1.5-9.1           readxl_1.3.1            \n",
      "[85] blob_1.2.0               digest_0.6.22            xtable_1.8-4            \n",
      "[88] munsell_0.5.0           \n"
     ]
    }
   ],
   "source": [
    "%%R \n",
    "sessionInfo()"
   ]
  }
 ],
 "metadata": {
  "kernelspec": {
   "display_name": "Python 3",
   "language": "python",
   "name": "python3"
  },
  "language_info": {
   "codemirror_mode": {
    "name": "ipython",
    "version": 3
   },
   "file_extension": ".py",
   "mimetype": "text/x-python",
   "name": "python",
   "nbconvert_exporter": "python",
   "pygments_lexer": "ipython3",
   "version": "3.7.3"
  }
 },
 "nbformat": 4,
 "nbformat_minor": 2
}
