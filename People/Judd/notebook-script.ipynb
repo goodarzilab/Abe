{
 "cells": [
  {
   "cell_type": "code",
   "execution_count": null,
   "metadata": {},
   "outputs": [],
   "source": [
    "%load_ext rpy2.ipython"
   ]
  },
  {
   "cell_type": "markdown",
   "metadata": {},
   "source": [
    "Protocol used by Albertas to make this data: https://benchling.com/anavickas/f/lib_VNejBHt6-protocols/prt_2Bkfh557-meripseq/edit\n",
    "\n",
    "HIV-1 IIIB Virus\n",
    "\n",
    "\n",
    "https://aidsreagent.org/reagentdetail.cfm?t=viruses&id=607\n",
    "\n",
    "We are starting from `fastq` files as raw data: "
   ]
  },
  {
   "cell_type": "markdown",
   "metadata": {},
   "source": [
    "## Trimming "
   ]
  },
  {
   "cell_type": "code",
   "execution_count": null,
   "metadata": {},
   "outputs": [],
   "source": [
    "%%bash \n",
    "cd ~/People/Judd/fastq\n",
    "for f in *_L002_R1_001.fastq.gz; do  \n",
    "    out=${f/\\_S[1-9]*/.trim.fastq.gz}; \n",
    "    cutadapt -j 12 -q 15 -m 20 -a NNNAGATCGGAAGAGCACACGTCTGAACTCCAGTCA -o ../trim/$out $f; \n",
    "done"
   ]
  },
  {
   "cell_type": "markdown",
   "metadata": {},
   "source": [
    "## Alignment\n",
    "\n",
    "Unmmaped reads for each `fastq` file saved for later alignment to HIV genome \n",
    "\n",
    "Human genome: `gencode.v28.annotation.gtf`"
   ]
  },
  {
   "cell_type": "code",
   "execution_count": null,
   "metadata": {},
   "outputs": [],
   "source": [
    "%%bash \n",
    "STAR --genomeLoad LoadAndExit --genomeDir /rumi/shams/abe/genomes/hg38/\n",
    "for f in trim/*.fastq.gz;do\n",
    "    out=${f/.trim.fastq.gz/_};\n",
    "    out=${out/trim/bam};\n",
    "    STAR --outSAMtype BAM SortedByCoordinate --readFilesCommand zcat --runThreadN 16 --genomeDir /rumi/shams/abe/genomes/hg38/ --readFilesIn $f --outFileNamePrefix $out --outReadsUnmapped Fastx;\n",
    "done\n",
    "STAR --genomeLoad Remove --genomeDir /rumi/shams/abe/genomes/hg38/"
   ]
  },
  {
   "cell_type": "markdown",
   "metadata": {},
   "source": [
    "All `bam`  files (mapped to human genome or hiv genome) renamed in this format: \n",
    "> `<sample>.<species>.<treatment>.<input/m6A>.bam`"
   ]
  },
  {
   "cell_type": "markdown",
   "metadata": {},
   "source": [
    "### Id transfer \n",
    "Read gene names from `gtf` file"
   ]
  },
  {
   "cell_type": "code",
   "execution_count": null,
   "metadata": {},
   "outputs": [],
   "source": [
    "import pandas as pd \n",
    "import os\n",
    "import feather as ft\n",
    "\n",
    "\n",
    "def gtf_id_transfer(gtf):\n",
    "    # awk code to extract gene ID and Name \n",
    "    gtf_raw = os.popen(\"cat \" + gtf + \" | awk 'BEGIN{FS=\\\"\\t\\\"}\\\n",
    "                       {split($9,a,\\\";\\\"); if($3~\\\"gene\\\") print a[1]\\\"\\t\\\"a[3]}' | sed 's/gene_id \\\"//' | sed 's/gene_name \\\"//' | sed 's/\\\"//g' | sed 's/ //g'\").read().split('\\n')\n",
    "    # data frame \n",
    "    gtf_df = pd.DataFrame(\n",
    "        # col: Names \n",
    "        data=[i.split('\\t') for i in gtf_raw[:len(gtf_raw)-1]],\n",
    "#         # index: ids \n",
    "#         index=[i.split('\\t')[0] for i in gtf_raw[:len(gtf_raw)-1]],\n",
    "        columns=['ID','Name'], dtype=str)\n",
    "    return gtf_df\n",
    "\n",
    "gtf = '/rumi/shams/genomes/hg38/gencode.v28.annotation.gtf'\n",
    "gtf_df = gtf_id_transfer(gtf)\n",
    "\n",
    "# pass data between R and Python using feather-format\n",
    "ft.write_dataframe(gtf_df, 'gtf_df.ft')"
   ]
  },
  {
   "cell_type": "code",
   "execution_count": null,
   "metadata": {},
   "outputs": [],
   "source": [
    "%%R \n",
    "library(feather)\n",
    "gtf_df = read_feather('gtf_df.ft') %>% remove_rownames %>% column_to_rownames(var=\"ID\")"
   ]
  },
  {
   "cell_type": "markdown",
   "metadata": {},
   "source": [
    "# Peakcalling \n",
    "\n",
    "## Control\n",
    "\n",
    "We used different conda `environment` for exomepeak (and it takes long time to run!!). "
   ]
  },
  {
   "cell_type": "code",
   "execution_count": null,
   "metadata": {},
   "outputs": [],
   "source": [
    "%%R \n",
    "library(exomePeak)\n",
    "txdb <- makeTxDbFromGFF('/rumi/shams/genomes/hg38/gencode.v28.annotation.gtf',organism='Homo sapiens')\n",
    "setwd(\"/rumi/shams/abe/People/Judd/bam\")\n",
    "print (txdb)\n",
    "res <- exomepeak(\n",
    "    TXDB=txdb,\n",
    "    IP_BAM=list.files(pattern='human.NT.m6A.bam$'),\n",
    "    INPUT_BAM=list.files(pattern='human.NT.input.bam$'),\n",
    "    OUTPUT_DIR='../exomepeak',\n",
    "    EXPERIMENT_NAME='control'\n",
    ")\n",
    "saveRDS(res, paste('../exomepeak','control', 'results.rds', sep='/'))"
   ]
  },
  {
   "cell_type": "markdown",
   "metadata": {},
   "source": [
    "### Plot _Guitar_ \n",
    "Now, let's draw metagene plots for control samples:\n",
    "(using seprate env: `Guitar`)"
   ]
  },
  {
   "cell_type": "code",
   "execution_count": null,
   "metadata": {},
   "outputs": [],
   "source": [
    "%reload_ext rpy2.ipython"
   ]
  },
  {
   "cell_type": "code",
   "execution_count": null,
   "metadata": {},
   "outputs": [],
   "source": [
    "%%R\n",
    "library(Guitar)"
   ]
  },
  {
   "cell_type": "code",
   "execution_count": null,
   "metadata": {
    "scrolled": true
   },
   "outputs": [],
   "source": [
    "%%R\n",
    "txdb <- makeTxDbFromGFF('/rumi/shams/genomes/hg38/gencode.v28.annotation.gtf',organism='Homo sapiens')"
   ]
  },
  {
   "cell_type": "code",
   "execution_count": null,
   "metadata": {
    "scrolled": false
   },
   "outputs": [],
   "source": [
    "%%R\n",
    "GuitarPlot(txTxdb = txdb,stBedFiles = list(\"exomepeak/control/peak.bed\"),miscOutFilePrefix = \"control\")"
   ]
  },
  {
   "cell_type": "code",
   "execution_count": null,
   "metadata": {},
   "outputs": [],
   "source": [
    "# !magick -density 300 plots/control_mrna_test.pdf -flatten -quality 90 plots/control_mrna_test.png"
   ]
  },
  {
   "cell_type": "markdown",
   "metadata": {},
   "source": [
    "### Motif analysis "
   ]
  },
  {
   "cell_type": "code",
   "execution_count": null,
   "metadata": {},
   "outputs": [],
   "source": [
    "%%bash \n",
    "cd exomepeak/control/\n",
    "bedtools getfasta -name -s -fi /rumi/shams/genomes/hg38/hg38.fa -bed peak.bed -split -fo peak.fa\n",
    "# prepare fasta file for FIRE\n",
    "perl /flash/hani/bin/Tools/prep_seqs_for_teiser_run.pl peak.fa peaks\n",
    "# run FIRE --doskipdiscovery=1\n",
    "perl $FIREDIR/fire.pl --expfile=peaks_teiser.txt --exptype=discrete --fastafile_rna=peaks_teiser.fa --nodups=1 --dodna=0 --dodnarna=0 --species=human --doskipdiscovery=1 --motiffile_rna=motifs_of_interest.txt --oribiasonly=0\n",
    "mv peaks_teiser.txt_FIRE/ motifs_of_interest_FIRE\n",
    "# run FIRE --doskipdiscovery=0\n",
    "perl $FIREDIR/fire.pl --expfile=peaks_teiser.txt --exptype=discrete --fastafile_rna=peaks_teiser.fa --nodups=1 --dodna=0 --dodnarna=0 --species=human --oribiasonly=0"
   ]
  },
  {
   "cell_type": "markdown",
   "metadata": {},
   "source": [
    "# Running a custom pipeline \n",
    "\n",
    "Here we're using https://github.com/gold-lab/bed12ToGTF to make gtf file from control exomepeak result.\n",
    "\n",
    "https://metacpan.org/pod/Bio::FeatureIO::gtf"
   ]
  },
  {
   "cell_type": "code",
   "execution_count": null,
   "metadata": {},
   "outputs": [],
   "source": [
    "%%bash\n",
    "cat exomepeak/control/peak.bed | sort -k4 | \\\n",
    "# rename features peak by peak\n",
    "awk -F \"\\t\" '{OFS=FS}NR>1{$4=$4\"_peak\"}; cnt[$4]++{$4=$4\"_\"cnt[$4]} 1' | \\\n",
    "# bed12 to gtf\n",
    "perl ../../Workflows/bed12ToGTF/bed12ToGTF.1.pl | \\\n",
    "awk '{gsub(/\\\"|\\;/,\"\")}1''{gsub(/transcript_id/,\"gene_id\")}1''{gsub(/ exon_number [[:digit:]]/,\"\")}1' > exomepeak/control/peak.gtf"
   ]
  },
  {
   "cell_type": "markdown",
   "metadata": {},
   "source": [
    "Using `featureCounts` to count reads which are present in control peak cordinates (found by `exomepeak`). "
   ]
  },
  {
   "cell_type": "code",
   "execution_count": null,
   "metadata": {
    "scrolled": true
   },
   "outputs": [],
   "source": [
    "%%bash\n",
    "declare -a StringArray=('METTL14' 'METTL3' 'Virma' 'WTAP')\n",
    "for enz in \"${StringArray[@]}\"; \n",
    "    do for f in bam/*human.$enz*.bam; \n",
    "        do out=${f/.bam/.fc}; out=${out/bam/peakcount}; \n",
    "            featureCounts -T 12 -O -t exon -g gene_id -a exomepeak/control/peak.gtf -o $out $f; \n",
    "    done;\n",
    "done"
   ]
  },
  {
   "cell_type": "code",
   "execution_count": null,
   "metadata": {},
   "outputs": [],
   "source": [
    "%%bash \n",
    "for f in bam/*human.NT*.bam; do \n",
    "    out=${f/.bam/.fc}; out=${out/bam/peakcount}; \n",
    "    featureCounts -T 12 -O -t exon -g gene_id -a exomepeak/control/peak.gtf -o $out $f; \n",
    "done"
   ]
  },
  {
   "cell_type": "markdown",
   "metadata": {},
   "source": [
    "## Differential methylation"
   ]
  },
  {
   "cell_type": "code",
   "execution_count": null,
   "metadata": {},
   "outputs": [],
   "source": [
    "%reload_ext rpy2.ipython"
   ]
  },
  {
   "cell_type": "code",
   "execution_count": null,
   "metadata": {},
   "outputs": [],
   "source": [
    "%%R \n",
    "library(DESeq2)\n",
    "library(tidyverse)\n",
    "library(ggplot2)\n",
    "require(ggrepel)\n",
    "library(patchwork)\n",
    "library(feather)\n",
    "gtf_df = read_feather('gtf_df.ft') %>% remove_rownames %>% column_to_rownames(var=\"ID\")\n",
    "\n",
    "pca = list(); vol = list(); hist = list()"
   ]
  },
  {
   "cell_type": "markdown",
   "metadata": {},
   "source": [
    "using `DESeq2` to find differential methylation peaks: \n",
    "\n",
    "### Contrast design: $\\frac{m6A^{treated}}{input^{treated}}$ vs.$\\frac{m6A^{nontreated}}{input^{nontreated}}$"
   ]
  },
  {
   "cell_type": "code",
   "execution_count": null,
   "metadata": {
    "scrolled": true
   },
   "outputs": [],
   "source": [
    "%%R\n",
    "all_dds = list()\n",
    "all_res = list()\n",
    "for (treat in c('METTL14','METTL3','Virma','WTAP'\n",
    "               )){\n",
    "    treat.input <- list.files(path = 'peakcount',pattern=paste('human.',treat,\".input.fc$\",sep = ''))\n",
    "    treat.m6A <- list.files(path = 'peakcount',pattern=paste('human.',treat,\".m6A.fc$\",sep = ''))\n",
    "    \n",
    "    n_treat.input <- list.files(path = 'peakcount',pattern=paste(\"human.NT.input.fc$\",sep = ''))\n",
    "    n_treat.m6A <- list.files(path = 'peakcount',pattern=paste(\"human.NT.m6A.fc$\",sep = ''))\n",
    "    \n",
    "    files = c(treat.input, treat.m6A, n_treat.input, n_treat.m6A)\n",
    "    # meta\n",
    "    reps <- rep(c('s23','s24'),2)\n",
    "    ip <- c(rep('input',2),rep('m6A',2))\n",
    "    conds <- c(paste(treat,ip, sep='.'), paste('NT',ip, sep='.'))\n",
    "    all_conds <- c(paste(reps,treat,ip, sep='.'), paste(reps,'NT',ip, sep='.'))\n",
    "    datalist <- lapply(files, function(x){read.table(file=paste('peakcount/', x, sep = \"\"),skip=1,sep='\\t',header=TRUE,colClasses=c(NA, \"NULL\", \"NULL\", \"NULL\", \"NULL\", \"NULL\", NA),check.names=F)})\n",
    "    m <- Reduce(function(...) merge(..., by=1, all = TRUE), datalist)\n",
    "    rownames(m) <- m[,1]\n",
    "    m <- m[,-1]\n",
    "    m[is.na(m)]<-0\n",
    "    m <- round(m)\n",
    "    colnames(m) <- all_conds\n",
    "    colData <- data.frame(cond = conds, rep = reps, row.names=all_conds)\n",
    "    dds <- DESeqDataSetFromMatrix(countData = m, colData = colData, design = ~ cond + rep)\n",
    "    dds$cond <- relevel(dds$cond, ref=\"NT.input\")\n",
    "    dds <- DESeq(dds)\n",
    "    all_dds[[treat]] = dds\n",
    "    # normalized counts \n",
    "    ncu <- counts(dds, normalized=TRUE)\n",
    "    # contrast design: (treat_m6A - treat_input) - (NT_m6A - NT_input)\n",
    "    res <- results(dds, \n",
    "                   contrast=list(\n",
    "                       c(paste(\"cond_\",treat,\".m6A_vs_NT.input\",sep=\"\")), \n",
    "                       c(paste(\"cond_\",treat,\".input_vs_NT.input\",sep=\"\"),\n",
    "                         \"cond_NT.m6A_vs_NT.input\")), \n",
    "                   listValues=c(1,-1))    \n",
    "    # idtransfer\n",
    "    res <- as.data.frame(res)\n",
    "    peak_ids = strsplit(rownames(m), '_',)\n",
    "    ids = unlist(lapply(peak_ids, '[[', 1))\n",
    "    res$name = gtf_df[ids,]\n",
    "    \n",
    "    all_res[[treat]] = res\n",
    "    # save files \n",
    "    write.table(res, paste('deseq/d_mtyl_',treat,'_vs_NT.txt',sep=''), sep=\"\\t\", quote=FALSE, col.names=NA)\n",
    "    # Raw tabels \n",
    "    write.table(ncu, file=paste('deseq/d_mtyl_',treat,'_peak_count_table_DE2norm.txt',sep=''), sep=\"\\t\", quote=FALSE, col.names=all_conds) \n",
    "    write.table(m, file=paste('deseq/d_mtyl_',treat,'_peak_count_table_raw.txt',sep=''), sep=\"\\t\", quote=FALSE, col.names=all_conds)\n",
    "}"
   ]
  },
  {
   "cell_type": "markdown",
   "metadata": {},
   "source": [
    "## Plots "
   ]
  },
  {
   "cell_type": "code",
   "execution_count": null,
   "metadata": {
    "scrolled": true
   },
   "outputs": [],
   "source": [
    "# %%R\n",
    "# ma = list()\n",
    "# for (treat in c('METTL14','METTL3','Virma','WTAP')){\n",
    "#     res = all_res[[treat]]\n",
    "# #     ma[[treat]] = plotMA(res)\n",
    "# }    \n",
    "# p = ma$METTL14 #+ ma$METTL3 + ma$Virma + ma$WTAP\n",
    "# ggsave(\"plots/peak_plotMA.png\", plot = p, device = 'png', dpi = 300)\n",
    "# ggsave(\"plots/peak_plotMA.pdf\", plot = p, device = 'pdf', dpi = 300)\n",
    "# p"
   ]
  },
  {
   "cell_type": "code",
   "execution_count": null,
   "metadata": {
    "scrolled": false
   },
   "outputs": [],
   "source": [
    "%%R\n",
    "for (treat in c('METTL14','METTL3','Virma','WTAP')){\n",
    "    res = all_res[[treat]]\n",
    "    # significant thr \n",
    "    pvalue_lim = 0.05 #; log2FoldChange_lim = 5\n",
    "    res$sig <- as.factor(\n",
    "        res$pvalue < pvalue_lim\n",
    "#         | (abs(res$log2FoldChange) > log2FoldChange_lim & res$pvalue < pvalue_lim)\n",
    "    )\n",
    "    relevel(res$sig, ref=TRUE)\n",
    "#     ## Volcano plot\n",
    "    vol[[treat]] = res %>% ggplot(aes(x=log2FoldChange, y=-log10(pvalue),colour=sig, fill=sig)) +\n",
    "            geom_point(aes(color = sig),alpha = 1/10) +\n",
    "            ggtitle(treat) +\n",
    "            xlim(c(-20,20)) +\n",
    "            ylim(c(0,11)) +\n",
    "            geom_hline(yintercept=-log10(pvalue_lim), linetype=\"dashed\", alpha = 4/10) +\n",
    "#             geom_vline(xintercept=log2FoldChange_lim, linetype=\"dashed\", alpha = 4/10) +\n",
    "#             geom_vline(xintercept=(-1)*log2FoldChange_lim, linetype=\"dashed\", alpha = 4/10) +\n",
    "            scale_color_manual(values = c(\"grey\", \"black\")) +\n",
    "            theme_bw() + theme(legend.position=\"none\") +\n",
    "            geom_text_repel(\n",
    "                data = subset(res[order(res$pvalue),], sig == TRUE)[1:5,],\n",
    "                aes(label = name),\n",
    "                size = 3,\n",
    "                box.padding = unit(0.35, \"lines\"),\n",
    "                point.padding = unit(0.3, \"lines\")\n",
    "            )\n",
    "}\n",
    "v = vol$METTL14 + vol$METTL3 + vol$Virma + vol$WTAP\n",
    "ggsave(\"plots/peak_Volcanos.png\", plot = v, device = 'png', dpi = 300)\n",
    "ggsave(\"plots/peak_Volcanos.pdf\", plot = v, device = 'pdf', dpi = 300)\n",
    "v"
   ]
  },
  {
   "cell_type": "markdown",
   "metadata": {},
   "source": [
    "[Wilcoxon signed rank test](http://www.sthda.com/english/wiki/one-sample-wilcoxon-signed-rank-test-in-r) amd t.test"
   ]
  },
  {
   "cell_type": "code",
   "execution_count": null,
   "metadata": {
    "scrolled": true
   },
   "outputs": [],
   "source": [
    "%%R\n",
    "for (treat in c('METTL14','METTL3','Virma','WTAP')){\n",
    "    res <- all_res[[treat]]\n",
    "    d <- res$log2FoldChange[!is.na(res$log2FoldChange)]\n",
    "    w <- wilcox.test(res$log2FoldChange,mu = 0, alternative = \"less\")\n",
    "    \n",
    "    t <- t.test(res$log2FoldChange, mu=0)\n",
    "\n",
    "    print (treat)\n",
    "    print (w)\n",
    "    print (t)\n",
    "    \n",
    "    hist[[treat]] = ggplot(res, aes(x=log2FoldChange)) +\n",
    "            ggtitle(\n",
    "                treat, \n",
    "                sprintf(\"wilcox.test (p.value): %.5f \\t t.test (p.value):%.5f\", w$p.value, t$p.value)\n",
    "            ) +\n",
    "            ylim(c(-10,1500)) +\n",
    "            geom_histogram(binwidth=0.3)\n",
    "}\n",
    "h = hist$METTL14 / hist$METTL3 / hist$Virma / hist$WTAP\n",
    "ggsave(\"plots/peak_Histograms.png\", plot = h, device = 'png', dpi = 300)\n",
    "ggsave(\"plots/peak_Histograms.pdf\", plot = h, device = 'pdf', dpi = 300)\n",
    "h"
   ]
  },
  {
   "cell_type": "markdown",
   "metadata": {},
   "source": [
    "## Pairwise correlation of each treatments \n",
    "http://www.sthda.com/english/wiki/correlation-matrix-a-quick-start-guide-to-analyze-format-and-visualize-a-correlation-matrix-using-r-software"
   ]
  },
  {
   "cell_type": "code",
   "execution_count": null,
   "metadata": {},
   "outputs": [],
   "source": [
    "%%R\n",
    "library(Hmisc)\n",
    "library(corrplot)\n",
    "library(pheatmap)"
   ]
  },
  {
   "cell_type": "code",
   "execution_count": null,
   "metadata": {},
   "outputs": [],
   "source": [
    "%%R\n",
    "all_fc = data.frame(\n",
    "    METTL14 = all_res$METTL14$log2FoldChange,\n",
    "    METTL3 = all_res$METTL3$log2FoldChange,\n",
    "    Virma = all_res$Virma$log2FoldChange,\n",
    "    WTAP = all_res$WTAP$log2FoldChange,\n",
    "    row.names = rownames(all_res[[1]])\n",
    ")\n",
    "colSums(is.na(all_fc))"
   ]
  },
  {
   "cell_type": "code",
   "execution_count": null,
   "metadata": {
    "scrolled": true
   },
   "outputs": [],
   "source": [
    "%%R\n",
    "res2 <- rcorr(as.matrix(all_fc))\n",
    "# # Extract the correlation coefficients\n",
    "# res2$r\n",
    "# # Extract p-values\n",
    "# res2$P\n",
    "\n",
    "pdf(\"plots/Corrplot.pdf\", width=7, height=7)\n",
    "c = corrplot(res2$r, type=\"upper\", order=\"hclust\", method=\"pie\",\n",
    "         p.mat = res2$P, sig.level = 0.01, insig = \"blank\")\n",
    "dev.off()\n",
    "png(\"plots/Corrplot.png\")\n",
    "c = corrplot(res2$r, type=\"upper\", order=\"hclust\", method=\"pie\",\n",
    "         p.mat = res2$P, sig.level = 0.01, insig = \"blank\")\n",
    "dev.off()"
   ]
  },
  {
   "cell_type": "code",
   "execution_count": null,
   "metadata": {},
   "outputs": [],
   "source": [
    "%%R\n",
    "corrplot(\n",
    "    res2$r, type=\"upper\", \n",
    "    order=\"hclust\", method=\"pie\",\n",
    "    p.mat = res2$P, sig.level = 0.01, insig = \"blank\")"
   ]
  },
  {
   "cell_type": "code",
   "execution_count": null,
   "metadata": {
    "scrolled": false
   },
   "outputs": [],
   "source": [
    "%%R\n",
    "# mostVar Calculate the top n most variable genes in a matrix of gene expression data\n",
    "# https://rdrr.io/github/abc-igmm/transcripTools/man/mostVar.html\n",
    "mostVar <- function(data, n, i_want_most_var = TRUE) {\n",
    "  data.var <- apply(data, 1, stats::var)\n",
    "  data[order(data.var, decreasing = i_want_most_var)[1:n],] \n",
    "}\n",
    "# scale - Z-Score\n",
    "fc <- data.frame(apply(all_fc,2,scale, center=TRUE, scale=TRUE), row.names=rownames(all_fc))\n",
    "\n",
    "# idtransfer\n",
    "peak_ids = strsplit(rownames(all_fc), '_',)\n",
    "ids = unlist(lapply(peak_ids, '[[', 1))\n",
    "\n",
    "# filter most variable genes\n",
    "fc = mostVar(fc,30)\n",
    "# Plot heatmap\n",
    "h1 <- pheatmap(fc, labels_row = gtf_df[ids,])\n",
    "        ggsave('plots/peak_mostVar_Heatmap.png', plot = h1, device = 'png', dpi = 300)\n",
    "ggsave('plots/peak_mostVar_Heatmap.pdf', plot = h1, device = 'pdf', dpi = 300)\n",
    "h1"
   ]
  },
  {
   "cell_type": "markdown",
   "metadata": {},
   "source": [
    "## iPAGE\n",
    "Enrichment analysis "
   ]
  },
  {
   "cell_type": "code",
   "execution_count": null,
   "metadata": {
    "scrolled": true
   },
   "outputs": [],
   "source": [
    "%%bash --err error\n",
    "mkdir -p ipage\n",
    "declare -a StringArray=('METTL14' 'METTL3' 'Virma' 'WTAP')\n",
    "for treat in \"${StringArray[@]}\"; do\n",
    "    # remove peak number \n",
    "    awk 'NR>1{split($1,id,\".\"); print id[1]\"\\t\"$3}' deseq/d_mtyl_${treat}_vs_NT.txt > deseq/d_mtyl_${treat}_vs_NT.c.txt\n",
    "    for f in `ls -d /flash/bin/iPAGEv1.0/PAGE_DATA/ANNOTATIONS/human_ensembl*`; do\n",
    "        base=`basename \"$f\"`\n",
    "        perl $PAGEDIR/page.pl --expfile=deseq/d_mtyl_${treat}_vs_NT.c.txt \\\n",
    "        --species=$base --exptype=continuous --ebins=11 --nodups=1\n",
    "        mv -v deseq/d_mtyl_${treat}_vs_NT.c.txt_PAGE/ ipage/d_mtyl_${treat}_vs_NT_${base}/\n",
    "    done\n",
    "done"
   ]
  },
  {
   "cell_type": "code",
   "execution_count": null,
   "metadata": {
    "scrolled": true
   },
   "outputs": [],
   "source": [
    "%%bash \n",
    "declare -a StringArray=('METTL14' 'METTL3' 'Virma' 'WTAP')\n",
    "for treat in \"${StringArray[@]}\"; do\n",
    "    for f in `ls -d /flash/bin/iPAGEv1.0/PAGE_DATA/ANNOTATIONS/human_ensembl*`; do\n",
    "        base=`basename \"$f\"`        \n",
    "        magick -density 300 \\\n",
    "        ipage/d_mtyl_${treat}_vs_NT_${base}/d_mtyl_${treat}_vs_NT.c.txt.summary.pdf \\\n",
    "        -flatten -quality 90 plots/ipage.d_mtyl_${treat}_vs_NT_${base}.png\n",
    "        echo '<table>'\n",
    "        echo '  <tr>'\n",
    "        echo '    <td><img src=plots/ipage.d_mtyl_'${treat}_vs_NT_${base}'.png style=\"width:600px\">'\n",
    "        echo -e \"\\\\t\"$base\n",
    "        echo '  <tr>'\n",
    "        echo '<table>'\n",
    "    done\n",
    "done\n"
   ]
  },
  {
   "cell_type": "markdown",
   "metadata": {},
   "source": [
    "# Hypo and Hyper-methylation gene set analysis: \n",
    "\n",
    "Let's try Salmon for the alignment and experssion quntification; We are doing this because `STAR` + `featurecount` didn't quntify most of the transcripts in the input samples. "
   ]
  },
  {
   "cell_type": "code",
   "execution_count": null,
   "metadata": {},
   "outputs": [],
   "source": [
    "salmon index -t ~/genomes/hg38/gencode.v28.transcripts.fa \\\n",
    "-i ~/genomes/hg38/gencode.v28.transcripts.salmon_index"
   ]
  },
  {
   "cell_type": "code",
   "execution_count": null,
   "metadata": {
    "scrolled": false
   },
   "outputs": [],
   "source": [
    "%%bash\n",
    "# I needed seprate conda env for this purpose \n",
    "mkdir -p quants\n",
    "mkdir -p _sh/_log/salmon\n",
    "# -l A or -l SR ?!\n",
    "declare -a StringArray=('METTL14' 'METTL3' 'Virma' 'WTAP' 'NT')\n",
    "for treat in \"${StringArray[@]}\"; do \n",
    "    for f in fastq/*_IN_2[3-4]_$treat*trim*; do \n",
    "        base=`basename \"$f\"`;\n",
    "        out=${base/*_IN_/s};\n",
    "        out=${out/_S*/.input};\n",
    "        out=${out/_/.};        \n",
    "        echo 'nohup salmon quant -i ~/genomes/hg38/gencode.v28.transcripts.salmon_index/ -l A -r '$f' -p 12 --validateMappings -o quants/'$out' > _sh/_log/salmon/'$out'.salmon.out&'\n",
    "    done;\n",
    "done"
   ]
  },
  {
   "cell_type": "code",
   "execution_count": null,
   "metadata": {},
   "outputs": [],
   "source": [
    "%reload_ext rpy2.ipython"
   ]
  },
  {
   "cell_type": "code",
   "execution_count": null,
   "metadata": {},
   "outputs": [],
   "source": [
    "%%R \n",
    "library(DESeq2)\n",
    "library(tidyverse)\n",
    "library(ggplot2)\n",
    "library(tximport)\n",
    "library(readr)"
   ]
  },
  {
   "cell_type": "code",
   "execution_count": null,
   "metadata": {},
   "outputs": [],
   "source": [
    "# https://rdrr.io/github/jmw86069/splicejam/man/makeTx2geneFromGtf.html"
   ]
  },
  {
   "cell_type": "code",
   "execution_count": null,
   "metadata": {},
   "outputs": [],
   "source": [
    "%%R \n",
    "files <- list.files(pattern=\"quant.sf\",full.names = TRUE, recursive=T)\n",
    "tx2gene <- read_tsv(\"/rumi/shams/genomes/hg38/gencode.v28.basic.tx2gene.cvs\")"
   ]
  },
  {
   "cell_type": "code",
   "execution_count": null,
   "metadata": {},
   "outputs": [],
   "source": [
    "%%R \n",
    "head (tx2gene)"
   ]
  },
  {
   "cell_type": "code",
   "execution_count": null,
   "metadata": {},
   "outputs": [],
   "source": [
    "%%R \n",
    "names(files) <- gsub(\"./(\\\\S+)_quant/quant.sf\",\"\\\\1\",files)\n",
    "txi <- tximport(files, type = \"salmon\", tx2gene = tx2gene, txOut=T)"
   ]
  },
  {
   "cell_type": "code",
   "execution_count": null,
   "metadata": {},
   "outputs": [],
   "source": [
    "%%R \n",
    "txi.gene <- summarizeToGene(txi, tx2gene, ignoreAfterBar= TRUE)"
   ]
  },
  {
   "cell_type": "code",
   "execution_count": null,
   "metadata": {},
   "outputs": [],
   "source": [
    "%%R \n",
    "lfc.cutoff = 1\n",
    "# meta \n",
    "reps <- c(rep('s23',5),rep('s24',5))\n",
    "treats <- rep(c('METTL14','METTL3','NT','Virma','WTAP'),2)\n",
    "\n",
    "colData <- data.frame(cond=treats, rep=reps, row.names=colnames(txi$abundance))\n",
    "colData\n",
    "\n",
    "dds <- DESeqDataSetFromTximport(txi.gene, colData, ~cond)\n",
    "dds$cond<- relevel(dds$cond, ref=\"NT\")\n",
    "dds <- DESeq(dds)\n",
    "\n",
    "all_res <- list()\n",
    "for (t in c('METTL14','METTL3','Virma','WTAP')){\n",
    "    all_res[[t]]<- results(dds, contrast=c('cond',t,'NT'))\n",
    "}"
   ]
  },
  {
   "cell_type": "code",
   "execution_count": null,
   "metadata": {},
   "outputs": [],
   "source": [
    "%%R \n",
    "all_res$METTL14"
   ]
  },
  {
   "cell_type": "code",
   "execution_count": null,
   "metadata": {},
   "outputs": [],
   "source": [
    "%%R \n",
    "for (t in c('METTL14','METTL3','Virma','WTAP')){\n",
    "    res = all_res[[t]]\n",
    "    res = data.frame(res [!is.na(res$padj) ,c(2,6)])\n",
    "    write.table(res, paste(\"teiser/\",t,\"_vs_NT_lfc.txt\", sep = ''), sep=\"\\t\", quote=FALSE, col.names=NA )\n",
    "}"
   ]
  },
  {
   "cell_type": "code",
   "execution_count": null,
   "metadata": {},
   "outputs": [],
   "source": []
  },
  {
   "cell_type": "markdown",
   "metadata": {},
   "source": [
    "## TEISER\n",
    "https://github.com/goodarzilab/TEISER\n"
   ]
  },
  {
   "cell_type": "markdown",
   "metadata": {},
   "source": [
    "prepare inputs "
   ]
  },
  {
   "cell_type": "code",
   "execution_count": null,
   "metadata": {},
   "outputs": [],
   "source": [
    "%%bash\n",
    "mkdir -p teiser\n",
    "declare -a StringArray=('METTL14' 'METTL3' 'Virma' 'WTAP')\n",
    "for treat in \"${StringArray[@]}\"; do\n",
    "    ### exp input \n",
    "    # remove dups \n",
    "    awk -F \"\\t\" '{OFS=FS}NR>1{$1=substr($1,1,15); print $1, $2}' teiser/${treat}_vs_NT_lfc.txt | awk '!seen[$1]++' > teiser/${treat}_vs_NT_lfc.c.txt\n",
    "    ### hyper_methylation gene list\n",
    "    # subset by threshold\n",
    "    awk '$2>=2{print $1}' deseq/d_mtyl_${treat}_vs_NT.c.txt | awk '!seen[$1]++' > teiser/${treat}_hyper_methylation.txt\n",
    "    # intersect with exp\n",
    "    awk 'NR==FNR{A[$1];next}$1 in A' teiser/${treat}_vs_NT_lfc.c.txt teiser/${treat}_hyper_methylation.txt > teiser/${treat}_hyper_methylation.c.txt\n",
    "    ### hypo_methylation gene list\n",
    "    # subset by threshold\n",
    "    awk '$2<-2 {print $1}' deseq/d_mtyl_${treat}_vs_NT.c.txt | awk '!seen[$1]++' > teiser/${treat}_hypo_methylation.txt\n",
    "    # intersect with exp\n",
    "    awk 'NR==FNR{A[$1];next}$1 in A' teiser/${treat}_vs_NT_lfc.c.txt teiser/${treat}_hypo_methylation.txt > teiser/${treat}_hypo_methylation.c.txt\n",
    "done "
   ]
  },
  {
   "cell_type": "code",
   "execution_count": null,
   "metadata": {
    "scrolled": true
   },
   "outputs": [],
   "source": [
    "%%bash\n",
    "declare -a StringArray=('METTL14' 'METTL3' 'Virma' 'WTAP')\n",
    "for treat in \"${StringArray[@]}\"; do\n",
    "    echo hyper_methylation\n",
    "    perl $TEISERDIR/run_mi_gene_list.pl \\\n",
    "    --expfile=teiser/${treat}_vs_NT_lfc.c.txt \\\n",
    "    --genefile=teiser/${treat}_hyper_methylation.c.txt \\\n",
    "    --exptype=continuous \\\n",
    "    --ebins=7 \\\n",
    "    --species=human \\\n",
    "    --doremovedups=0 \\\n",
    "    --doremoveextra=0\n",
    "    mv -v teiser/${treat}_vs_NT_lfc.c.txt_GENESET teiser/${treat}_hyper_methylation_GENESET\n",
    "    \n",
    "    magick -density 300 \\\n",
    "    teiser/${treat}_hyper_methylation_GENESET/*pdf \\\n",
    "    -flatten -quality 90 plots/teiser.${treat}_hyper_methylation_GENESET.png\n",
    "    \n",
    "    echo hypo_methylation\n",
    "    perl $TEISERDIR/run_mi_gene_list.pl \\\n",
    "    --expfile=teiser/${treat}_vs_NT_lfc.c.txt \\\n",
    "    --genefile=teiser/${treat}_hypo_methylation.c.txt \\\n",
    "    --exptype=continuous \\\n",
    "    --ebins=7 \\\n",
    "    --species=human \\\n",
    "    --doremovedups=0 \\\n",
    "    --doremoveextra=0\n",
    "    mv -v teiser/${treat}_vs_NT_lfc.c.txt_GENESET teiser/${treat}_hypo_methylation_GENESET\n",
    "    \n",
    "    magick -density 300 \\\n",
    "    teiser/${treat}_hypo_methylation_GENESET/*pdf \\\n",
    "    -flatten -quality 90 plots/teiser.${treat}_hypo_methylation_GENESET.png\n",
    "done"
   ]
  },
  {
   "cell_type": "markdown",
   "metadata": {},
   "source": [
    "<!-- ### using bam to bed for cov count \n",
    "\n",
    "1. `intersectBed -split` make it work with bed12 file\n",
    "\n",
    "3. make a intersect gtf to extract names for later. ` --> "
   ]
  },
  {
   "cell_type": "code",
   "execution_count": null,
   "metadata": {},
   "outputs": [],
   "source": [
    "# %%bash \n",
    "# bamToBed -i bam/s23.human.METTL3.input.bam | intersectBed -s -split -wo -a - -b exomepeak/control/peak.bed | awk '{print $10}' | sort  tail"
   ]
  },
  {
   "cell_type": "code",
   "execution_count": null,
   "metadata": {},
   "outputs": [],
   "source": [
    "# %%bash \n",
    "# bamToBed -i bam/s23.human.METTL3.input.bam | intersectBed -s -split -wo -a - -b exomepeak/control/peak.bed \\\n",
    "# | cut -f10 | sort | uniq -c | awk '{ print $2 \"\\t\" $1}' | head"
   ]
  },
  {
   "cell_type": "code",
   "execution_count": null,
   "metadata": {
    "scrolled": false
   },
   "outputs": [],
   "source": [
    "%%R \n",
    "sessionInfo()"
   ]
  }
 ],
 "metadata": {
  "kernelspec": {
   "display_name": "Python 3",
   "language": "python",
   "name": "python3"
  },
  "language_info": {
   "codemirror_mode": {
    "name": "ipython",
    "version": 3
   },
   "file_extension": ".py",
   "mimetype": "text/x-python",
   "name": "python",
   "nbconvert_exporter": "python",
   "pygments_lexer": "ipython3",
   "version": "3.7.3"
  }
 },
 "nbformat": 4,
 "nbformat_minor": 2
}
