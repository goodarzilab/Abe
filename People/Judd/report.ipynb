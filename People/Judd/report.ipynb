{
 "cells": [
  {
   "cell_type": "markdown",
   "metadata": {},
   "source": [
    "Protocol used by Albertas to generate this data: https://benchling.com/anavickas/f/lib_VNejBHt6-protocols/prt_2Bkfh557-meripseq/edit\n",
    "\n",
    "HIV-1 IIIB Virus \n",
    "https://aidsreagent.org/reagentdetail.cfm?t=viruses&id=607"
   ]
  },
  {
   "cell_type": "markdown",
   "metadata": {},
   "source": [
    "# Preprocessing\n",
    "\n",
    "We've started analyzing from raw `fastq` files. Then, we trimmed `NNNAGATCGGAAGAGCACACGTCTGAACTCCAGTCA` sequence from each reads using `cutadapt` ([see documents](https://cutadapt.readthedocs.io/en/stable/)). Trimmed `fastq` files aligned to Human genome `gencode.v28.annotation.gtf` using STAR aligner. In addition, unmmaped reads for each `fastq` file saved to a new `fastq` file to align seprately to HIV genome. \n",
    "\n",
    "> `<sample>.<species>.<treatment>.<input/m6A>.bam`"
   ]
  },
  {
   "cell_type": "markdown",
   "metadata": {},
   "source": [
    "# Internal controls\n",
    "To evaluate each treatments, here we are comparing treatment vs. non-treatment with only `input` samples.  \n",
    "\n",
    "#### \"METTL14\"\n",
    "| name | baseMean | log2FoldChange | pvalue | padj |\n",
    "|------|------|------|------|------|\n",
    "| METTL14 | 231.6902 | -0.32971236 | 0.2872769 | 0.9999949\n",
    "| WTAP | 532.6499 | 0.27535590 | 0.1981255 | 0.9999949\n",
    "| KIAA1429 | 663.2608 | 0.03353028 | 0.8644528 | 0.9999949\n",
    "| METTL3 | 682.4459 | -0.03628201 | 0.8577446 | 0.9999949\n",
    "\n",
    "#### \"METTL3\"\n",
    "| name | baseMean | log2FoldChange | pvalue | padj |\n",
    "|------|------|------|------|------|\n",
    "| METTL14| 281.3092|0.2726002|0.3221950787|NA\n",
    "| WTAP |625.1083 | 0.7024508|0.0007005515|0.1526535\n",
    "| KIAA1429 | 693.4508|0.1919819 |0.3322548213| 0.9998089\n",
    "| METTL3 | 591.5949|-0.4483280 |0.0329288611 |0.9077257\n",
    "\n",
    "#### \"Virma\"\n",
    "| name | baseMean | log2FoldChange | pvalue | padj |\n",
    "|------|------|------|------|------|\n",
    "|METTL14|257.2336|0.1640922|0.555719147|0.999709\n",
    "|WTAP|538.0204|0.4566864|0.033501322|0.999709\n",
    "|KIAA1429 | 507.3444|-0.6316600|0.003200656|0.999709\n",
    "|METTL3 | 626.2647|-0.1103618|0.581372019|0.999709\n",
    "\n",
    "#### \"WTAP\"\n",
    "| name | baseMean | log2FoldChange | pvalue | padj |\n",
    "|------|------|------|------|------|\n",
    "|METTL14| 301.6155|0.3913828| 1.422472e-01| 0.9973237|\n",
    "|WTAP| 690.2359|0.8741547| 3.641576e-05| 0.3976419|\n",
    "|KIAA1429 |727.2650|0.2565069 |1.878920e-01| 0.9973237|\n",
    "|METTL3 |742.0639|0.1675299| 3.909650e-01| 0.9973237|"
   ]
  },
  {
   "cell_type": "markdown",
   "metadata": {},
   "source": [
    "# PCA Analysis \n",
    "<img src=\"plots/all_PCAs.png\" style=\"height:500px\">"
   ]
  },
  {
   "cell_type": "markdown",
   "metadata": {},
   "source": [
    "# Peakcalling \n",
    "\n",
    "We supposed to use `RADAR` package for meRIP data analysis. Instead, we are following a costom piplne that includes in the `notebook.ipynb` file. \n",
    "### QC\n",
    "\n",
    "As expected, there is high density of methylation peaks at end of CDS. (see [Comprehensive Analysis of mRNA Methylation Reveals Enrichment in 3′ UTRs and near Stop Codons](https://doi.org/10.1016/j.cell.2012.05.003))\n",
    "\n",
    "<img src=\"plots/control_mrna_test.png\" style=\"height:400px\">        "
   ]
  },
  {
   "cell_type": "markdown",
   "metadata": {},
   "source": [
    "## Motif analysis \n",
    "\n",
    "We've anlyzed only non-trated samples here. We've used [FIRE](https://tavazoielab.c2b2.columbia.edu/FIRE/) to compare m6A vs. input peaks for `[AG]GAC` and `[AGT][AG]AC[ACT]` motifs. The result shows significant presence of these motifs as expected. \n",
    "\n",
    "<img src=\"exomepeak/control/motifs_of_interest_FIRE/RNA/peaks_teiser.txt.summary.png\" style=\"width:800px\">        "
   ]
  },
  {
   "cell_type": "markdown",
   "metadata": {},
   "source": [
    "## Control vs. treatments \n",
    "\n",
    "`exomepeak` claculate coverage for only non threted samples. It compare `input` and `m6A`s  of both replicates to gives us peaks as a `bed12` file. We provide these peaks as feature to use `feature-count` to count exome reads that match these peaks. Then, we have done differential expression analysis using `DESeq2` to evaluate diffrentioal peaks. \n",
    "\n",
    "As you can see, There is high pairwise correlation between all KO treatments. However, PCA (Principal component analysis) plots clearly show more Technical variance vs. biological variability in the datasets. \n",
    "\n",
    "<table>\n",
    "  <tr>\n",
    "    <td><img src=\"plots/Corrplot.png\" style=\"height:400px\">\n",
    "<!--     <td><img src=\"plots/all_PCAs.png\" style=\"height:400px\"> -->\n",
    "  <tr>\n",
    "<table>\n",
    "\n",
    "<table>\n",
    "  <tr>\n",
    "    <td><img src=\"plots/all_Histograms.png\" style=\"width:400px\">\n",
    "    <td><img src=\"plots/all_Volcanos.png\" style=\"height:400px\">\n",
    "  <tr>\n",
    "<table>\n"
   ]
  },
  {
   "cell_type": "markdown",
   "metadata": {},
   "source": [
    "The top 30 most variable genes between different conditions \n",
    "<table>\n",
    "  <tr>\n",
    "    <td><img src=\"plots/All_Heatmap.png\" style=\"height:500px\">        \n",
    "  <tr>\n",
    "<table>\n"
   ]
  },
  {
   "cell_type": "markdown",
   "metadata": {},
   "source": [
    "# Enrichment analysis \n",
    "Here, we have used [iPAGE](https://tavazoielab.c2b2.columbia.edu/iPAGE/)."
   ]
  },
  {
   "cell_type": "markdown",
   "metadata": {},
   "source": [
    "# METTL14 m6A_vs_input\n",
    "### human_ensembl\n",
    "<img src=\"plots/ipage.METTL14_m6A_vs_input_human_ensembl.png\" style=\"width:800px\">\n",
    "\n",
    "### msigdb c1-c7\n",
    "<img src=\"plots/ipage.METTL14_m6A_vs_input_human_ensembl_msigdb_c1.png\" style=\"width:800px\">\n",
    "<img src=\"plots/ipage.METTL14_m6A_vs_input_human_ensembl_msigdb_c2.png\" style=\"width:800px\">\n",
    "<img src=\"plots/ipage.METTL14_m6A_vs_input_human_ensembl_msigdb_c3.png\" style=\"width:800px\">\n",
    "<img src=\"plots/ipage.METTL14_m6A_vs_input_human_ensembl_msigdb_c4.png\" style=\"width:800px\">\n",
    "<img src=\"plots/ipage.METTL14_m6A_vs_input_human_ensembl_msigdb_c5.png\" style=\"width:800px\">\n",
    "<img src=\"plots/ipage.METTL14_m6A_vs_input_human_ensembl_msigdb_c6.png\" style=\"width:800px\">\n",
    "<img src=\"plots/ipage.METTL14_m6A_vs_input_human_ensembl_msigdb_c7.png\" style=\"width:800px\">\n",
    "<img src=\"plots/ipage.METTL14_m6A_vs_input_human_ensembl_msigdb_full.png\" style=\"width:800px\">\n",
    "\n",
    "### msigdb halmarks \n",
    "<img src=\"plots/ipage.METTL14_m6A_vs_input_human_ensembl_msigdb_h.png\" style=\"width:800px\">\n",
    "\n",
    "### RBPs \n",
    "<img src=\"plots/ipage.METTL14_m6A_vs_input_human_ensembl_RBPs_all_gene_ids.png\" style=\"width:800px\">\n",
    "<img src=\"plots/ipage.METTL14_m6A_vs_input_human_ensembl_RBPs_coding_gene_ids.png\" style=\"width:800px\">\n",
    "<img src=\"plots/ipage.METTL14_m6A_vs_input_human_ensembl_RBPs_coding_gene_ids_by_3UTR.png\" style=\"width:800px\">\n",
    "<img src=\"plots/ipage.METTL14_m6A_vs_input_human_ensembl_RBPs_coding_gene_ids_by_5UTR.png\" style=\"width:800px\">\n",
    "<img src=\"plots/ipage.METTL14_m6A_vs_input_human_ensembl_RBPs_coding_gene_ids_by_coding_exons.png\" style=\"width:800px\">"
   ]
  },
  {
   "cell_type": "markdown",
   "metadata": {},
   "source": [
    "# METTL3 m6A_vs_input\n",
    "### human_ensembl\n",
    "<img src=\"plots/ipage.METTL3_m6A_vs_input_human_ensembl.png\" style=\"width:800px\">\n",
    "\n",
    "### msigdb c1-c7\n",
    "<img src=\"plots/ipage.METTL3_m6A_vs_input_human_ensembl_msigdb_c1.png\" style=\"width:800px\">\n",
    "<img src=\"plots/ipage.METTL3_m6A_vs_input_human_ensembl_msigdb_c2.png\" style=\"width:800px\">\n",
    "<img src=\"plots/ipage.METTL3_m6A_vs_input_human_ensembl_msigdb_c3.png\" style=\"width:800px\">\n",
    "<img src=\"plots/ipage.METTL3_m6A_vs_input_human_ensembl_msigdb_c4.png\" style=\"width:800px\">\n",
    "<img src=\"plots/ipage.METTL3_m6A_vs_input_human_ensembl_msigdb_c5.png\" style=\"width:800px\">\n",
    "<img src=\"plots/ipage.METTL3_m6A_vs_input_human_ensembl_msigdb_c6.png\" style=\"width:800px\">\n",
    "<img src=\"plots/ipage.METTL3_m6A_vs_input_human_ensembl_msigdb_c7.png\" style=\"width:800px\">\n",
    "<img src=\"plots/ipage.METTL3_m6A_vs_input_human_ensembl_msigdb_full.png\" style=\"width:800px\">\n",
    "\n",
    "### msigdb halmarks \n",
    "<img src=\"plots/ipage.METTL3_m6A_vs_input_human_ensembl_msigdb_h.png\" style=\"width:800px\">\n",
    "\n",
    "### RBPs \n",
    "<img src=\"plots/ipage.METTL3_m6A_vs_input_human_ensembl_RBPs_all_gene_names.png\" style=\"width:800px\">\n",
    "<img src=\"plots/ipage.METTL3_m6A_vs_input_human_ensembl_RBPs_coding_gene_ids.png\" style=\"width:800px\">\n",
    "<img src=\"plots/ipage.METTL3_m6A_vs_input_human_ensembl_RBPs_coding_gene_ids_by_3UTR.png\" style=\"width:800px\">\n",
    "<img src=\"plots/ipage.METTL3_m6A_vs_input_human_ensembl_RBPs_coding_gene_ids_by_coding_exons.png\" style=\"width:800px\">\n",
    "<img src=\"plots/ipage.METTL3_m6A_vs_input_human_ensembl_RBPs_coding_gene_ids_by_introns.png\" style=\"width:800px\">\n"
   ]
  },
  {
   "cell_type": "markdown",
   "metadata": {},
   "source": [
    "<div id='textid'></div>\n",
    "\n",
    "# Virma m6A_vs_input\n",
    "### human_ensembl\n",
    "<img src=\"plots/ipage.Virma_m6A_vs_input_human_ensembl.png\" style=\"width:800px\">\n",
    "<!-- <img src=\"plots/ipage.Virma_m6A_vs_input_human_ensembl_encode_tf.png\" style=\"width:800px\">\n",
    " -->\n",
    " \n",
    "### msigdb c1-c7\n",
    "<img src=\"plots/ipage.Virma_m6A_vs_input_human_ensembl_msigdb_c1.png\" style=\"width:800px\">\n",
    "<img src=\"plots/ipage.Virma_m6A_vs_input_human_ensembl_msigdb_c2.png\" style=\"width:800px\">\n",
    "<img src=\"plots/ipage.Virma_m6A_vs_input_human_ensembl_msigdb_c3.png\" style=\"width:800px\">\n",
    "<img src=\"plots/ipage.Virma_m6A_vs_input_human_ensembl_msigdb_c4.png\" style=\"width:800px\">\n",
    "<img src=\"plots/ipage.Virma_m6A_vs_input_human_ensembl_msigdb_c5.png\" style=\"width:800px\">\n",
    "<img src=\"plots/ipage.Virma_m6A_vs_input_human_ensembl_msigdb_c6.png\" style=\"width:800px\">\n",
    "<img src=\"plots/ipage.Virma_m6A_vs_input_human_ensembl_msigdb_c7.png\" style=\"width:800px\">\n",
    "<img src=\"plots/ipage.Virma_m6A_vs_input_human_ensembl_msigdb_full.png\" style=\"width:800px\">\n",
    "\n",
    "### msigdb halmarks \n",
    "<img src=\"plots/ipage.Virma_m6A_vs_input_human_ensembl_msigdb_h.png\" style=\"width:800px\">\n",
    "\n",
    "### RBPs \n",
    "<img src=\"plots/ipage.Virma_m6A_vs_input_human_ensembl_RBPs_all_gene_ids.png\" style=\"width:800px\">\n",
    "<!-- <img src=\"plots/ipage.Virma_m6A_vs_input_human_ensembl_RBPs_all_gene_names.png\" style=\"width:800px\"> -->\n",
    "<!-- <img src=\"plots/ipage.Virma_m6A_vs_input_human_ensembl_RBPs_coding_gene_ids.png\" style=\"width:800px\"> -->\n",
    "<img src=\"plots/ipage.Virma_m6A_vs_input_human_ensembl_RBPs_coding_gene_ids_by_3UTR.png\" style=\"width:800px\">\n",
    "<img src=\"plots/ipage.Virma_m6A_vs_input_human_ensembl_RBPs_coding_gene_ids_by_5UTR.png\" style=\"width:800px\">\n",
    "<img src=\"plots/ipage.Virma_m6A_vs_input_human_ensembl_RBPs_coding_gene_ids_by_coding_exons.png\" style=\"width:800px\">"
   ]
  },
  {
   "cell_type": "markdown",
   "metadata": {},
   "source": [
    "<div id='textid'></div>\n",
    "\n",
    "# WTAP m6A_vs_input\n",
    "### human_ensembl\n",
    "<img src=\"plots/ipage.WTAP_m6A_vs_input_human_ensembl.png\" style=\"width:800px\">\n",
    "<!-- <img src=\"plots/ipage.WTAP_m6A_vs_input_human_ensembl_encode_tf.png\" style=\"width:800px\"> -->\n",
    " \n",
    "### msigdb c1-c7\n",
    "<img src=\"plots/ipage.WTAP_m6A_vs_input_human_ensembl_msigdb_c1.png\" style=\"width:800px\">\n",
    "<img src=\"plots/ipage.WTAP_m6A_vs_input_human_ensembl_msigdb_c2.png\" style=\"width:800px\">\n",
    "<img src=\"plots/ipage.WTAP_m6A_vs_input_human_ensembl_msigdb_c3.png\" style=\"width:800px\">\n",
    "<img src=\"plots/ipage.WTAP_m6A_vs_input_human_ensembl_msigdb_c4.png\" style=\"width:800px\">\n",
    "<img src=\"plots/ipage.WTAP_m6A_vs_input_human_ensembl_msigdb_c5.png\" style=\"width:800px\">\n",
    "<img src=\"plots/ipage.WTAP_m6A_vs_input_human_ensembl_msigdb_c6.png\" style=\"width:800px\">\n",
    "<img src=\"plots/ipage.WTAP_m6A_vs_input_human_ensembl_msigdb_c7.png\" style=\"width:800px\">\n",
    "<img src=\"plots/ipage.WTAP_m6A_vs_input_human_ensembl_msigdb_full.png\" style=\"width:800px\">\n",
    "\n",
    "### msigdb halmarks \n",
    "<img src=\"plots/ipage.WTAP_m6A_vs_input_human_ensembl_msigdb_h.png\" style=\"width:800px\">\n",
    "\n",
    "### RBPs \n",
    "<img src=\"plots/ipage.WTAP_m6A_vs_input_human_ensembl_RBPs_all_gene_ids.png\" style=\"width:800px\">\n",
    "<!-- <img src=\"plots/ipage.WTAP_m6A_vs_input_human_ensembl_RBPs_all_gene_names.png\" style=\"width:800px\"> -->\n",
    "<img src=\"plots/ipage.WTAP_m6A_vs_input_human_ensembl_RBPs_coding_gene_ids.png\" style=\"width:800px\">\n",
    "<img src=\"plots/ipage.WTAP_m6A_vs_input_human_ensembl_RBPs_coding_gene_ids_by_3UTR.png\" style=\"width:800px\">\n",
    "<img src=\"plots/ipage.WTAP_m6A_vs_input_human_ensembl_RBPs_coding_gene_ids_by_5UTR.png\" style=\"width:800px\">\n",
    "<img src=\"plots/ipage.WTAP_m6A_vs_input_human_ensembl_RBPs_coding_gene_ids_by_coding_exons.png\" style=\"width:800px\">\n",
    "<!-- <img src=\"plots/ipage.WTAP_m6A_vs_input_human_ensembl_RBPs_coding_gene_ids_by_introns.png\" style=\"width:800px\">\n",
    "<img src=\"plots/ipage.WTAP_m6A_vs_input_human_ensembl_RBPs_coding_gene_names.png\" style=\"width:800px\">\n",
    "<img src=\"plots/ipage.WTAP_m6A_vs_input_human_ensembl_RBPs_coding_gene_names_by_3UTR.png\" style=\"width:800px\">\n",
    "<img src=\"plots/ipage.WTAP_m6A_vs_input_human_ensembl_RBPs_coding_gene_names_by_5UTR.png\" style=\"width:800px\">\n",
    "<img src=\"plots/ipage.WTAP_m6A_vs_input_human_ensembl_RBPs_coding_gene_names_by_coding_exons.png\" style=\"width:800px\">\n",
    "<img src=\"plots/ipage.WTAP_m6A_vs_input_human_ensembl_RBPs_coding_gene_names_by_introns.png\" style=\"width:800px\">\n",
    "<img src=\"plots/ipage.WTAP_m6A_vs_input_human_ensembl_RBPs_DeepBind.png\" style=\"width:800px\"> -->"
   ]
  },
  {
   "cell_type": "markdown",
   "metadata": {},
   "source": [
    "## Similar paper \n",
    "> [Dynamics of the human and viral m6 A RNA methylomes during HIV-1 infection of T cells](https://www.nature.com/articles/nmicrobiol201611.pdf?proof=t)\n",
    "[GEO](https://www.ncbi.nlm.nih.gov/geo/query/acc.cgi?acc=GSE74016)\n",
    "\n",
    "It might be informative to analyze data in this paper using above pipeline. However, they’re using [pLAI.2 HIV](https://aidsreagent.org/reagentdetail.cfm?t=molecular_clones&id=47) clone. "
   ]
  }
 ],
 "metadata": {
  "kernelspec": {
   "display_name": "Python 3",
   "language": "python",
   "name": "python3"
  },
  "language_info": {
   "codemirror_mode": {
    "name": "ipython",
    "version": 3
   },
   "file_extension": ".py",
   "mimetype": "text/x-python",
   "name": "python",
   "nbconvert_exporter": "python",
   "pygments_lexer": "ipython3",
   "version": "3.7.3"
  }
 },
 "nbformat": 4,
 "nbformat_minor": 2
}
