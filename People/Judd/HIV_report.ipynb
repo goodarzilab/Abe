{
 "cells": [
  {
   "cell_type": "markdown",
   "metadata": {},
   "source": [
    "\n",
    "# Preprocessing\n",
    "We've started analyzing from raw `fastq` files. Then, we trimmed `NNNAGATCGGAAGAGCACACGTCTGAACTCCAGTCA` sequence from each reads using `cutadapt`. In addition, unmmaped reads to human genome for each `fastq` aligned (using STAR) seprately to the HIV genome: [HIV-1 clone pIIIB from USA, complete genome\n",
    "](https://www.ncbi.nlm.nih.gov/nucleotide/EU541617.1?report=genbank&log$=nuclalign&blast_rank=1&RID=8B8ETWT201R). It was mostly matched with Judd's clone (using Blast alignment). Then, I donwloaded `.fa` and `.gff3` format for downstream analysis. Finally, I used `exomePeak` for peakcalling and `igv` for visualization. "
   ]
  },
  {
   "cell_type": "markdown",
   "metadata": {},
   "source": [
    "# Peaks\n",
    "\n",
    "<img src=\"plots/igv_snapshot_full.png\" style=\"height:400px\">\n",
    "\n",
    "<!-- <img src=\"plots/igv_snapshot_mut.png\" style=\"height:400px\"> -->"
   ]
  },
  {
   "cell_type": "markdown",
   "metadata": {},
   "source": [
    "# Search for RGAC or DRACH motifs \n",
    "\n",
    "|\tloci\t|DRACH|\tRGAC|\tSequence|\n",
    "|-----|-----|-----|-----|\n",
    "|rev|4|5|AGACA,AGACA,AGACT,GAACT,AGAC,AGAC,GGAC,AGAC,GGAC|\n",
    "|env|7|8|GGACC,AGACA,AGACA,AGACT,GAACT,GGACA,GGACA,GGAC...|\n",
    "|nef|2|2|AGACC,AAACA,AGAC,AGAC|\n",
    "|nef|3|2|AGACC,TGACT,GGACT,AGAC,GGAC|\n",
    "|nef|5|2|AGACA,GAACT,GGACC,TGACC,GAACA,AGAC,GGAC|\n",
    "|nef|1|0|TGACC|\n",
    "|nef|1|0|GAACT|"
   ]
  },
  {
   "cell_type": "markdown",
   "metadata": {},
   "source": [
    "# Differential peaks \n",
    "Here, we are using `featurecount` where peaks are the features that map to the peaks that `exomePeak` found in HIV genome (see notebook for detail). \n",
    "\n",
    "<img src=\"plots/hiv.peak_Heatmaps.png\" style=\"height:600px\">\n",
    "\n",
    "<img src=\"plots/hiv.peak_enz_Barplot.png\" style=\"height:600px\">\n",
    "<img src=\"plots/hiv.peak_Barplot.png\" style=\"height:600px\">"
   ]
  }
 ],
 "metadata": {
  "kernelspec": {
   "display_name": "Python 3",
   "language": "python",
   "name": "python3"
  },
  "language_info": {
   "codemirror_mode": {
    "name": "ipython",
    "version": 3
   },
   "file_extension": ".py",
   "mimetype": "text/x-python",
   "name": "python",
   "nbconvert_exporter": "python",
   "pygments_lexer": "ipython3",
   "version": "3.7.3"
  }
 },
 "nbformat": 4,
 "nbformat_minor": 2
}
