{
 "cells": [
  {
   "cell_type": "markdown",
   "metadata": {},
   "source": [
    "Protocol used by Albertas to generate this data: https://benchling.com/anavickas/f/lib_VNejBHt6-protocols/prt_2Bkfh557-meripseq/edit\n",
    "\n",
    "HIV-1 IIIB Virus \n",
    "https://aidsreagent.org/reagentdetail.cfm?t=viruses&id=607"
   ]
  },
  {
   "cell_type": "markdown",
   "metadata": {},
   "source": [
    "# Preprocessing\n",
    "\n",
    "We've started analyzing from raw `fastq` files. Then, we trimmed `NNNAGATCGGAAGAGCACACGTCTGAACTCCAGTCA` sequence from each reads using `cutadapt` ([see documents](https://cutadapt.readthedocs.io/en/stable/)). Trimmed `fastq` files aligned to Human genome `gencode.v28.annotation.gtf` using STAR aligner. In addition, unmmaped reads for each `fastq` file saved to a new `fastq` file to align seprately to HIV genome. \n",
    "\n",
    "> `<sample>.<species>.<treatment>.<input/m6A>.bam`"
   ]
  },
  {
   "cell_type": "markdown",
   "metadata": {},
   "source": [
    "# HIV\n",
    "Here, we counted reads that map to the peaks that `Piranha` found in HIV genome (see notebook for detail). \n",
    "\n",
    "<img src=\"plots/hiv.peak_Heatmaps.png\" style=\"height:600px\">"
   ]
  },
  {
   "cell_type": "markdown",
   "metadata": {},
   "source": [
    "## HIV Peaks \n",
    "Using `Gviz` R package to visualize bedgraph of each treatments vs. non-treated. \n",
    "### METTL14\n",
    "<table>\n",
    "  <tr>\n",
    "    <td><img src=\"plots/hiv.METTL14.peak-1.png\" width=\"200\" />\n",
    "    <td><img src=\"plots/hiv.METTL14.peak-2.png\" width=\"200\" />\n",
    "    <td><img src=\"plots/hiv.METTL14.peak-3.png\" width=\"200\" />\n",
    "  <tr>\n",
    "<table>\n",
    "<table>\n",
    "  <tr>\n",
    "    <td><img src=\"plots/hiv.METTL14.peak-4.png\" width=\"200\" />\n",
    "    <td><img src=\"plots/hiv.METTL14.peak-5.png\" width=\"200\" />\n",
    "    <td><img src=\"plots/hiv.METTL14.peak-6.png\" width=\"200\" />\n",
    "  </tr>\n",
    " </table>\n",
    "\n",
    "### METTL3\n",
    "\n",
    "<table>\n",
    "  <tr>\n",
    "    <td><img src=\"plots/hiv.METTL3.peak-1.png\" width=\"200\" />\n",
    "    <td><img src=\"plots/hiv.METTL3.peak-2.png\" width=\"200\" />\n",
    "    <td><img src=\"plots/hiv.METTL3.peak-3.png\" width=\"200\" />\n",
    "  <tr>\n",
    "<table>\n",
    "<table>\n",
    "  <tr>\n",
    "    <td><img src=\"plots/hiv.METTL3.peak-4.png\" width=\"200\" />\n",
    "    <td><img src=\"plots/hiv.METTL3.peak-5.png\" width=\"200\" />\n",
    "    <td><img src=\"plots/hiv.METTL3.peak-6.png\" width=\"200\" />\n",
    "  </tr>\n",
    " </table>\n",
    "\n",
    "### Virma\n",
    "\n",
    "<table>\n",
    "  <tr>\n",
    "    <td><img src=\"plots/hiv.Virma.peak-1.png\" width=\"200\" />\n",
    "    <td><img src=\"plots/hiv.Virma.peak-2.png\" width=\"200\" />\n",
    "    <td><img src=\"plots/hiv.Virma.peak-3.png\" width=\"200\" />\n",
    "  <tr>\n",
    "<table>\n",
    "<table>\n",
    "  <tr>\n",
    "    <td><img src=\"plots/hiv.Virma.peak-4.png\" width=\"200\" />\n",
    "    <td><img src=\"plots/hiv.Virma.peak-5.png\" width=\"200\" />\n",
    "    <td><img src=\"plots/hiv.Virma.peak-6.png\" width=\"200\" />\n",
    "  </tr>\n",
    " </table>\n",
    "\n",
    "### WTAP\n",
    "<table>\n",
    "  <tr>\n",
    "    <td><img src=\"plots/hiv.WTAP.peak-1.png\" width=\"200\" />\n",
    "    <td><img src=\"plots/hiv.WTAP.peak-2.png\" width=\"200\" />\n",
    "    <td><img src=\"plots/hiv.WTAP.peak-3.png\" width=\"200\" />\n",
    "  <tr>\n",
    "<table>\n",
    "<table>\n",
    "  <tr>\n",
    "    <td><img src=\"plots/hiv.WTAP.peak-4.png\" width=\"200\" />\n",
    "    <td><img src=\"plots/hiv.WTAP.peak-5.png\" width=\"200\" />\n",
    "    <td><img src=\"plots/hiv.WTAP.peak-6.png\" width=\"200\" />\n",
    "  </tr>\n",
    " </table>"
   ]
  }
 ],
 "metadata": {
  "kernelspec": {
   "display_name": "Python 3",
   "language": "python",
   "name": "python3"
  },
  "language_info": {
   "codemirror_mode": {
    "name": "ipython",
    "version": 3
   },
   "file_extension": ".py",
   "mimetype": "text/x-python",
   "name": "python",
   "nbconvert_exporter": "python",
   "pygments_lexer": "ipython3",
   "version": "3.7.3"
  }
 },
 "nbformat": 4,
 "nbformat_minor": 2
}
