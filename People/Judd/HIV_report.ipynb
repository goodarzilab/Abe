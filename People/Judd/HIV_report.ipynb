{
 "cells": [
  {
   "cell_type": "markdown",
   "metadata": {},
   "source": [
    "\n",
    "# Preprocessing\n",
    "We've started analyzing from raw `fastq` files. Then, we trimmed `NNNAGATCGGAAGAGCACACGTCTGAACTCCAGTCA` sequence from each reads using `cutadapt`. In addition, unmmaped reads to human genome for each `fastq` aligned (using STAR) seprately to the HIV genome: [HIV-1 clone pIIIB from USA, complete genome\n",
    "](https://www.ncbi.nlm.nih.gov/nucleotide/EU541617.1?report=genbank&log$=nuclalign&blast_rank=1&RID=8B8ETWT201R). It was mostly matched with Judd's clone (using Blast alignment). Then, I donwloaded `.fa` and `.gff3` format for downstream analysis. Finally, I used `exomePeak` for peakcalling and `igv` for visualization. "
   ]
  },
  {
   "cell_type": "markdown",
   "metadata": {},
   "source": [
    "# Peaks\n",
    "\n",
    "<img src=\"plots/igv_snapshot_full.png\" style=\"height:400px\">\n",
    "\n",
    "<!-- <img src=\"plots/igv_snapshot_mut.png\" style=\"height:400px\"> -->"
   ]
  },
  {
   "cell_type": "markdown",
   "metadata": {},
   "source": [
    "# Search for RGAC or DRACH motifs \n",
    "\n",
    "### rev::7943-8195(+)\n",
    "  - span=(42, 46), match='AGAC'\n",
    "  - span=(42, 47), match='AGACA'\n",
    "  \n",
    "  \n",
    "### env::7927-8337(+)\n",
    "  - span=(14, 18), match='GGAC'\n",
    "  - span=(14, 19), match='GGACC'\n",
    "\n",
    "### nef::8373-8463(+)\n",
    "  - span=(25, 29), match='AGAC'\n",
    "  - span=(69, 74), match='AGACC'\n",
    "\n",
    "### nef::8561-8632(+)\n",
    "  - span=(5, 9), match='AGAC'\n",
    "  - span=(5, 10), match='AGACC'\n",
    "\n",
    "### nef::8641-8845(+)\n",
    "  - span=(12, 16), match='AGAC'\n",
    "  - span=(12, 17), match='AGACA'\n",
    "\n",
    "### nef::8854-8880(+)\n",
    "  - None\n",
    "  - span=(5, 10), match='TGACC'\n",
    "\n",
    "### nef::8943-8959(+)\n",
    "  - None\n",
    "  - span=(6, 11), match='GAACT'\n",
    "  "
   ]
  },
  {
   "cell_type": "markdown",
   "metadata": {},
   "source": [
    "# Differential peaks \n",
    "Here, we are using `featurecount` where peaks are the features that map to the peaks that `exomePeak` found in HIV genome (see notebook for detail). \n",
    "\n",
    "<img src=\"plots/hiv.peak_Heatmaps.png\" style=\"height:600px\">"
   ]
  },
  {
   "cell_type": "markdown",
   "metadata": {},
   "source": [
    "Here, we are using `featurecount` where peaks are the features that map to the peaks that `exomePeak` found in HIV genome (see notebook for detail). \n",
    "\n",
    "<img src=\"plots/hiv.peak_Heatmaps.png\" style=\"height:600px\">"
   ]
  },
  {
   "cell_type": "code",
   "execution_count": null,
   "metadata": {},
   "outputs": [],
   "source": []
  }
 ],
 "metadata": {
  "kernelspec": {
   "display_name": "Python 3",
   "language": "python",
   "name": "python3"
  },
  "language_info": {
   "codemirror_mode": {
    "name": "ipython",
    "version": 3
   },
   "file_extension": ".py",
   "mimetype": "text/x-python",
   "name": "python",
   "nbconvert_exporter": "python",
   "pygments_lexer": "ipython3",
   "version": "3.7.3"
  }
 },
 "nbformat": 4,
 "nbformat_minor": 2
}
