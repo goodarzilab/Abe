{
 "cells": [
  {
   "cell_type": "code",
   "execution_count": 1,
   "metadata": {},
   "outputs": [
    {
     "name": "stderr",
     "output_type": "stream",
     "text": [
      "/rumi/shams/abe/anaconda3/envs/meRIPseq/lib/python3.7/site-packages/rpy2/robjects/pandas2ri.py:14: FutureWarning: pandas.core.index is deprecated and will be removed in a future version.  The public classes are available in the top-level namespace.\n",
      "  from pandas.core.index import Index as PandasIndex\n"
     ]
    }
   ],
   "source": [
    "%load_ext rpy2.ipython"
   ]
  },
  {
   "cell_type": "markdown",
   "metadata": {},
   "source": [
    "<!-- HIV-1 IIIB Virus https://aidsreagent.org/reagentdetail.cfm?t=viruses&id=607\n",
    " -->\n",
    "# Alignment \n",
    "Firstly, HIV genome indices created by changing sequence provided by Judd to `.fa` format. It didn't work as we needed gtf file! \n",
    "\n",
    "Ok! I'm switching to the [HIV-1 clone pIIIB from USA, complete genome\n",
    "](https://www.ncbi.nlm.nih.gov/nucleotide/EU541617.1?report=genbank&log$=nuclalign&blast_rank=1&RID=8B8ETWT201R) which is highly matched with Judd's clone (using Blast alignment). Then, I donwloaded `.fa` and `.gff3` format for downstream analysis. "
   ]
  },
  {
   "cell_type": "code",
   "execution_count": 1,
   "metadata": {
    "scrolled": true
   },
   "outputs": [],
   "source": [
    "# %%bash \n",
    "# # make hiv genome indices \n",
    "# bowtie2-build HIV/EU541617.1/EU541617.1.fasta HIV/EU541617.1/index\n",
    "# # Aligning to hiv genome \n",
    "# for f in fastq_unmapped/*; do\n",
    "# \to=${f/.fastq/.bam};\n",
    "#  \to=${o/fastq_unmapped/bam};\n",
    "#  \tbowtie2 --sensitive -N 1 -x HIV/EU541617.1/index -U $f | samtools sort -o $o;\n",
    "# done"
   ]
  },
  {
   "cell_type": "code",
   "execution_count": 48,
   "metadata": {},
   "outputs": [
    {
     "name": "stdout",
     "output_type": "stream",
     "text": [
      "Apr 03 03:33:26 ..... started STAR run\n",
      "Apr 03 03:33:26 ... starting to generate Genome files\n",
      "Apr 03 03:33:26 ... starting to sort Suffix Array. This may take a long time...\n",
      "Apr 03 03:33:26 ... sorting Suffix Array chunks and saving them to disk...\n",
      "Apr 03 03:33:26 ... loading chunks from disk, packing SA...\n",
      "Apr 03 03:33:26 ... finished generating suffix array\n",
      "Apr 03 03:33:26 ... generating Suffix Array index\n",
      "Apr 03 03:33:26 ... completed Suffix Array index\n",
      "Apr 03 03:33:26 ..... processing annotations GTF\n",
      "Apr 03 03:33:26 ... writing Genome to disk ...\n",
      "Apr 03 03:33:26 ... writing Suffix Array to disk ...\n",
      "Apr 03 03:33:26 ... writing SAindex to disk\n",
      "Apr 03 03:33:26 ..... finished successfully\n"
     ]
    }
   ],
   "source": [
    "%%bash\n",
    "# use STAR \n",
    "STAR --runThreadN 16 \\\n",
    "--runMode genomeGenerate \\\n",
    "--genomeDir HIV/EU541617.1/ \\\n",
    "--genomeFastaFiles HIV/EU541617.1/EU541617.1.fasta \\\n",
    "--sjdbGTFfile HIV/EU541617.1/EU541617.1.gff3 \\\n",
    "--sjdbOverhang 99 --genomeSAindexNbases 8 --sjdbGTFfeatureExon CDS"
   ]
  },
  {
   "cell_type": "code",
   "execution_count": 60,
   "metadata": {
    "scrolled": false
   },
   "outputs": [
    {
     "name": "stdout",
     "output_type": "stream",
     "text": [
      "STAR --outSAMtype BAM SortedByCoordinate --readFilesCommand cat --runThreadN 16 --genomeDir HIV/EU541617.1/ --readFilesIn fastq_unmapped/s23.hiv.METTL14.input.fastq --outFileNamePrefix bam/s23.hiv.METTL14.input.bam --limitBAMsortRAM 1000000000\n",
      "STAR --outSAMtype BAM SortedByCoordinate --readFilesCommand cat --runThreadN 16 --genomeDir HIV/EU541617.1/ --readFilesIn fastq_unmapped/s23.hiv.METTL14.m6A.fastq --outFileNamePrefix bam/s23.hiv.METTL14.m6A.bam --limitBAMsortRAM 1000000000\n",
      "STAR --outSAMtype BAM SortedByCoordinate --readFilesCommand cat --runThreadN 16 --genomeDir HIV/EU541617.1/ --readFilesIn fastq_unmapped/s23.hiv.METTL3.input.fastq --outFileNamePrefix bam/s23.hiv.METTL3.input.bam --limitBAMsortRAM 1000000000\n",
      "STAR --outSAMtype BAM SortedByCoordinate --readFilesCommand cat --runThreadN 16 --genomeDir HIV/EU541617.1/ --readFilesIn fastq_unmapped/s23.hiv.METTL3.m6A.fastq --outFileNamePrefix bam/s23.hiv.METTL3.m6A.bam --limitBAMsortRAM 1000000000\n",
      "STAR --outSAMtype BAM SortedByCoordinate --readFilesCommand cat --runThreadN 16 --genomeDir HIV/EU541617.1/ --readFilesIn fastq_unmapped/s23.hiv.NT.input.fastq --outFileNamePrefix bam/s23.hiv.NT.input.bam --limitBAMsortRAM 1000000000\n",
      "STAR --outSAMtype BAM SortedByCoordinate --readFilesCommand cat --runThreadN 16 --genomeDir HIV/EU541617.1/ --readFilesIn fastq_unmapped/s23.hiv.NT.m6A.fastq --outFileNamePrefix bam/s23.hiv.NT.m6A.bam --limitBAMsortRAM 1000000000\n",
      "STAR --outSAMtype BAM SortedByCoordinate --readFilesCommand cat --runThreadN 16 --genomeDir HIV/EU541617.1/ --readFilesIn fastq_unmapped/s23.hiv.Virma.input.fastq --outFileNamePrefix bam/s23.hiv.Virma.input.bam --limitBAMsortRAM 1000000000\n",
      "STAR --outSAMtype BAM SortedByCoordinate --readFilesCommand cat --runThreadN 16 --genomeDir HIV/EU541617.1/ --readFilesIn fastq_unmapped/s23.hiv.Virma.m6A.fastq --outFileNamePrefix bam/s23.hiv.Virma.m6A.bam --limitBAMsortRAM 1000000000\n",
      "STAR --outSAMtype BAM SortedByCoordinate --readFilesCommand cat --runThreadN 16 --genomeDir HIV/EU541617.1/ --readFilesIn fastq_unmapped/s23.hiv.WTAP.input.fastq --outFileNamePrefix bam/s23.hiv.WTAP.input.bam --limitBAMsortRAM 1000000000\n",
      "STAR --outSAMtype BAM SortedByCoordinate --readFilesCommand cat --runThreadN 16 --genomeDir HIV/EU541617.1/ --readFilesIn fastq_unmapped/s23.hiv.WTAP.m6A.fastq --outFileNamePrefix bam/s23.hiv.WTAP.m6A.bam --limitBAMsortRAM 1000000000\n",
      "STAR --outSAMtype BAM SortedByCoordinate --readFilesCommand cat --runThreadN 16 --genomeDir HIV/EU541617.1/ --readFilesIn fastq_unmapped/s24.hiv.METTL14.input.fastq --outFileNamePrefix bam/s24.hiv.METTL14.input.bam --limitBAMsortRAM 1000000000\n",
      "STAR --outSAMtype BAM SortedByCoordinate --readFilesCommand cat --runThreadN 16 --genomeDir HIV/EU541617.1/ --readFilesIn fastq_unmapped/s24.hiv.METTL14.m6A.fastq --outFileNamePrefix bam/s24.hiv.METTL14.m6A.bam --limitBAMsortRAM 1000000000\n",
      "STAR --outSAMtype BAM SortedByCoordinate --readFilesCommand cat --runThreadN 16 --genomeDir HIV/EU541617.1/ --readFilesIn fastq_unmapped/s24.hiv.METTL3.input.fastq --outFileNamePrefix bam/s24.hiv.METTL3.input.bam --limitBAMsortRAM 1000000000\n",
      "STAR --outSAMtype BAM SortedByCoordinate --readFilesCommand cat --runThreadN 16 --genomeDir HIV/EU541617.1/ --readFilesIn fastq_unmapped/s24.hiv.METTL3.m6A.fastq --outFileNamePrefix bam/s24.hiv.METTL3.m6A.bam --limitBAMsortRAM 1000000000\n",
      "STAR --outSAMtype BAM SortedByCoordinate --readFilesCommand cat --runThreadN 16 --genomeDir HIV/EU541617.1/ --readFilesIn fastq_unmapped/s24.hiv.NT.input.fastq --outFileNamePrefix bam/s24.hiv.NT.input.bam --limitBAMsortRAM 1000000000\n",
      "STAR --outSAMtype BAM SortedByCoordinate --readFilesCommand cat --runThreadN 16 --genomeDir HIV/EU541617.1/ --readFilesIn fastq_unmapped/s24.hiv.NT.m6A.fastq --outFileNamePrefix bam/s24.hiv.NT.m6A.bam --limitBAMsortRAM 1000000000\n",
      "STAR --outSAMtype BAM SortedByCoordinate --readFilesCommand cat --runThreadN 16 --genomeDir HIV/EU541617.1/ --readFilesIn fastq_unmapped/s24.hiv.Virma.input.fastq --outFileNamePrefix bam/s24.hiv.Virma.input.bam --limitBAMsortRAM 1000000000\n",
      "STAR --outSAMtype BAM SortedByCoordinate --readFilesCommand cat --runThreadN 16 --genomeDir HIV/EU541617.1/ --readFilesIn fastq_unmapped/s24.hiv.Virma.m6A.fastq --outFileNamePrefix bam/s24.hiv.Virma.m6A.bam --limitBAMsortRAM 1000000000\n",
      "STAR --outSAMtype BAM SortedByCoordinate --readFilesCommand cat --runThreadN 16 --genomeDir HIV/EU541617.1/ --readFilesIn fastq_unmapped/s24.hiv.WTAP.input.fastq --outFileNamePrefix bam/s24.hiv.WTAP.input.bam --limitBAMsortRAM 1000000000\n",
      "STAR --outSAMtype BAM SortedByCoordinate --readFilesCommand cat --runThreadN 16 --genomeDir HIV/EU541617.1/ --readFilesIn fastq_unmapped/s24.hiv.WTAP.m6A.fastq --outFileNamePrefix bam/s24.hiv.WTAP.m6A.bam --limitBAMsortRAM 1000000000\n"
     ]
    }
   ],
   "source": [
    "%%bash\n",
    "# STAR --genomeLoad LoadAndExit --genomeDir HIV/EU541617.1/\n",
    "for f in fastq_unmapped/*; do\n",
    "\to=${f/.fastq/.bam};\n",
    "\to=${o/fastq_unmapped/bam};\n",
    "\techo STAR --outSAMtype BAM SortedByCoordinate --readFilesCommand cat --runThreadN 16 --genomeDir HIV/EU541617.1/ --readFilesIn $f --outFileNamePrefix $o --limitBAMsortRAM 1000000000;\n",
    "# \tSTAR --outSAMtype BAM SortedByCoordinate --readFilesCommand cat --runThreadN 16 --genomeDir HIV/EU541617.1/ --readFilesIn $f --outFileNamePrefix $o --limitBAMsortRAM 1000000000;\n",
    "done\n",
    "# STAR --genomeLoad Remove --genomeDir HIV/EU541617.1/"
   ]
  },
  {
   "cell_type": "code",
   "execution_count": 65,
   "metadata": {},
   "outputs": [
    {
     "name": "stdout",
     "output_type": "stream",
     "text": [
      "renamed 'bam/s23.hiv.METTL14.input.bamAligned.sortedByCoord.out.bam' -> 'bam/s23.hiv.METTL14.input.bam'\n",
      "renamed 'bam/s23.hiv.METTL14.m6A.bamAligned.sortedByCoord.out.bam' -> 'bam/s23.hiv.METTL14.m6A.bam'\n",
      "renamed 'bam/s23.hiv.METTL3.input.bamAligned.sortedByCoord.out.bam' -> 'bam/s23.hiv.METTL3.input.bam'\n",
      "renamed 'bam/s23.hiv.METTL3.m6A.bamAligned.sortedByCoord.out.bam' -> 'bam/s23.hiv.METTL3.m6A.bam'\n",
      "renamed 'bam/s23.hiv.NT.input.bamAligned.sortedByCoord.out.bam' -> 'bam/s23.hiv.NT.input.bam'\n",
      "renamed 'bam/s23.hiv.NT.m6A.bamAligned.sortedByCoord.out.bam' -> 'bam/s23.hiv.NT.m6A.bam'\n",
      "renamed 'bam/s23.hiv.Virma.input.bamAligned.sortedByCoord.out.bam' -> 'bam/s23.hiv.Virma.input.bam'\n",
      "renamed 'bam/s23.hiv.Virma.m6A.bamAligned.sortedByCoord.out.bam' -> 'bam/s23.hiv.Virma.m6A.bam'\n",
      "renamed 'bam/s23.hiv.WTAP.input.bamAligned.sortedByCoord.out.bam' -> 'bam/s23.hiv.WTAP.input.bam'\n",
      "renamed 'bam/s23.hiv.WTAP.m6A.bamAligned.sortedByCoord.out.bam' -> 'bam/s23.hiv.WTAP.m6A.bam'\n",
      "renamed 'bam/s24.hiv.METTL14.input.bamAligned.sortedByCoord.out.bam' -> 'bam/s24.hiv.METTL14.input.bam'\n",
      "renamed 'bam/s24.hiv.METTL14.m6A.bamAligned.sortedByCoord.out.bam' -> 'bam/s24.hiv.METTL14.m6A.bam'\n",
      "renamed 'bam/s24.hiv.METTL3.input.bamAligned.sortedByCoord.out.bam' -> 'bam/s24.hiv.METTL3.input.bam'\n",
      "renamed 'bam/s24.hiv.METTL3.m6A.bamAligned.sortedByCoord.out.bam' -> 'bam/s24.hiv.METTL3.m6A.bam'\n",
      "renamed 'bam/s24.hiv.NT.input.bamAligned.sortedByCoord.out.bam' -> 'bam/s24.hiv.NT.input.bam'\n",
      "renamed 'bam/s24.hiv.NT.m6A.bamAligned.sortedByCoord.out.bam' -> 'bam/s24.hiv.NT.m6A.bam'\n",
      "renamed 'bam/s24.hiv.Virma.input.bamAligned.sortedByCoord.out.bam' -> 'bam/s24.hiv.Virma.input.bam'\n",
      "renamed 'bam/s24.hiv.Virma.m6A.bamAligned.sortedByCoord.out.bam' -> 'bam/s24.hiv.Virma.m6A.bam'\n",
      "renamed 'bam/s24.hiv.WTAP.input.bamAligned.sortedByCoord.out.bam' -> 'bam/s24.hiv.WTAP.input.bam'\n",
      "renamed 'bam/s24.hiv.WTAP.m6A.bamAligned.sortedByCoord.out.bam' -> 'bam/s24.hiv.WTAP.m6A.bam'\n"
     ]
    }
   ],
   "source": [
    "%%bash \n",
    "for f in bam/*Aligned.sortedByCoord.out.bam; do o=${f/Aligned.sortedByCoord.out.bam/}; mv -v $f $o; done "
   ]
  },
  {
   "cell_type": "markdown",
   "metadata": {},
   "source": [
    "All `bam`  files (mapped to human genome or hiv genome) renamed in this format: \n",
    "> `<sample>.<species>.<treatment>.<input/m6A>.bam`"
   ]
  },
  {
   "cell_type": "markdown",
   "metadata": {},
   "source": [
    "# HIV\n",
    "\n",
    "### Peak calling for HIV genome using exomePeak"
   ]
  },
  {
   "cell_type": "code",
   "execution_count": 3,
   "metadata": {},
   "outputs": [],
   "source": [
    "%%R\n",
    "library(exomePeak)"
   ]
  },
  {
   "cell_type": "code",
   "execution_count": 62,
   "metadata": {},
   "outputs": [],
   "source": [
    "%%R\n",
    "run_exomepeak <- function(\n",
    "    WINDOW = 200, STEP = 30, LENGTH = 100, FDR = 0.05, ENRICH = 1\n",
    "#     , CONSISTENT_PEAK_CUTOFF_PVALUE = 0.05, CONSISTENT_PEAK_FOLD_ENRICHMENT = 1\n",
    "){\n",
    "    setwd(\"~/People/Judd/bam\")\n",
    "    name_it = paste('WINDOW',WINDOW,'STEP',STEP,'LENGTH',LENGTH,'FDR',FDR,'ENRICH',ENRICH, sep = '_')\n",
    "    res <- exomepeak(\n",
    "        TXDB = txdb,\n",
    "        IP_BAM=list.files(pattern='hiv.NT.m6A.bam$'),\n",
    "        INPUT_BAM=list.files(pattern='hiv.NT.input.bam$'),\n",
    "        OUTPUT_DIR='../exomepeak/hiv.control/',\n",
    "        EXPERIMENT_NAME=name_it,\n",
    "        # options \n",
    "        WINDOW_WIDTH = WINDOW, \n",
    "        SLIDING_STEP = STEP, \n",
    "        FRAGMENT_LENGTH = LENGTH,\n",
    "        \n",
    "        PEAK_CUTOFF_FDR = FDR,\n",
    "        FOLD_ENRICHMENT = ENRICH,\n",
    "        \n",
    "#         CONSISTENT_PEAK_CUTOFF_PVALUE = CONSISTENT_PEAK_CUTOFF_PVALUE,\n",
    "#         CONSISTENT_PEAK_FOLD_ENRICHMENT = CONSISTENT_PEAK_FOLD_ENRICHMENT\n",
    "    )\n",
    "    \n",
    "    ifelse(!dir.exists(file.path('../exomepeak/hiv.control/', name_it)), \n",
    "           dir.create(file.path('../exomepeak/hiv.control/', name_it)), FALSE)\n",
    "    \n",
    "    saveRDS(res, paste('../exomepeak/hiv.control/',name_it,'/results.rds',sep='') )\n",
    "    setwd(\"~/People/Judd\")    \n",
    "}"
   ]
  },
  {
   "cell_type": "code",
   "execution_count": 64,
   "metadata": {
    "scrolled": true
   },
   "outputs": [
    {
     "name": "stderr",
     "output_type": "stream",
     "text": [
      "R[write to console]: Import genomic features from the file as a GRanges object ... \n",
      "R[write to console]: OK\n",
      "\n",
      "R[write to console]: Prepare the 'metadata' data frame ... \n",
      "R[write to console]: OK\n",
      "\n",
      "R[write to console]: Make the TxDb object ... \n",
      "R[write to console]: OK\n",
      "\n",
      "R[write to console]: 'select()' returned 1:many mapping between keys and columns\n",
      "\n"
     ]
    },
    {
     "name": "stdout",
     "output_type": "stream",
     "text": [
      "[1] \"Divide transcriptome into chr-gene-batch sections ...\"\n",
      "[1] \"Get Reads Count ...\"\n",
      "[1] \"This step may take a few hours ...\"\n",
      "[1] \"100 %\"\n",
      "[1] \"Get all the peaks ...\"\n",
      "[1] \"Get the consistent peaks ...\"\n",
      "[1] \"---------------------------------\"\n",
      "[1] \"The bam files used:\"\n",
      "[1] \"2 IP replicate(s)\"\n",
      "[1] \"2 Input replicate(s)\"\n",
      "[1] \"---------------------------------\"\n",
      "[1] \"Peak calling result: \"\n",
      "[1] \"13 peaks detected on merged data.\"\n",
      "[1] \"Please check 'peak.bed/xls' under ../exomepeak/hiv.control//WINDOW_15_STEP_5_LENGTH_15_FDR_0.01_ENRICH_0.1\"\n",
      "[1] \"16 consistent peaks detected on every replicates. (Recommended list)\"\n",
      "[1] \"Please check 'con_peak.bed/xls' under ../exomepeak/hiv.control//WINDOW_15_STEP_5_LENGTH_15_FDR_0.01_ENRICH_0.1\"\n"
     ]
    },
    {
     "name": "stderr",
     "output_type": "stream",
     "text": [
      "R[write to console]: 'select()' returned 1:many mapping between keys and columns\n",
      "\n"
     ]
    },
    {
     "name": "stdout",
     "output_type": "stream",
     "text": [
      "[1] \"Divide transcriptome into chr-gene-batch sections ...\"\n",
      "[1] \"Get Reads Count ...\"\n",
      "[1] \"This step may take a few hours ...\"\n",
      "[1] \"100 %\"\n",
      "[1] \"Get all the peaks ...\"\n",
      "[1] \"Get the consistent peaks ...\"\n",
      "[1] \"---------------------------------\"\n",
      "[1] \"The bam files used:\"\n",
      "[1] \"2 IP replicate(s)\"\n",
      "[1] \"2 Input replicate(s)\"\n",
      "[1] \"---------------------------------\"\n",
      "[1] \"Peak calling result: \"\n",
      "[1] \"13 peaks detected on merged data.\"\n",
      "[1] \"Please check 'peak.bed/xls' under ../exomepeak/hiv.control//WINDOW_15_STEP_5_LENGTH_15_FDR_0.01_ENRICH_0.2\"\n",
      "[1] \"16 consistent peaks detected on every replicates. (Recommended list)\"\n",
      "[1] \"Please check 'con_peak.bed/xls' under ../exomepeak/hiv.control//WINDOW_15_STEP_5_LENGTH_15_FDR_0.01_ENRICH_0.2\"\n"
     ]
    },
    {
     "name": "stderr",
     "output_type": "stream",
     "text": [
      "R[write to console]: 'select()' returned 1:many mapping between keys and columns\n",
      "\n"
     ]
    },
    {
     "name": "stdout",
     "output_type": "stream",
     "text": [
      "[1] \"Divide transcriptome into chr-gene-batch sections ...\"\n",
      "[1] \"Get Reads Count ...\"\n",
      "[1] \"This step may take a few hours ...\"\n",
      "[1] \"100 %\"\n",
      "[1] \"Get all the peaks ...\"\n",
      "[1] \"Get the consistent peaks ...\"\n",
      "[1] \"---------------------------------\"\n",
      "[1] \"The bam files used:\"\n",
      "[1] \"2 IP replicate(s)\"\n",
      "[1] \"2 Input replicate(s)\"\n",
      "[1] \"---------------------------------\"\n",
      "[1] \"Peak calling result: \"\n",
      "[1] \"13 peaks detected on merged data.\"\n",
      "[1] \"Please check 'peak.bed/xls' under ../exomepeak/hiv.control//WINDOW_15_STEP_5_LENGTH_15_FDR_0.01_ENRICH_1\"\n",
      "[1] \"16 consistent peaks detected on every replicates. (Recommended list)\"\n",
      "[1] \"Please check 'con_peak.bed/xls' under ../exomepeak/hiv.control//WINDOW_15_STEP_5_LENGTH_15_FDR_0.01_ENRICH_1\"\n"
     ]
    },
    {
     "name": "stderr",
     "output_type": "stream",
     "text": [
      "R[write to console]: 'select()' returned 1:many mapping between keys and columns\n",
      "\n"
     ]
    },
    {
     "name": "stdout",
     "output_type": "stream",
     "text": [
      "[1] \"Divide transcriptome into chr-gene-batch sections ...\"\n",
      "[1] \"Get Reads Count ...\"\n",
      "[1] \"This step may take a few hours ...\"\n",
      "[1] \"100 %\"\n",
      "[1] \"Get all the peaks ...\"\n",
      "[1] \"Get the consistent peaks ...\"\n",
      "[1] \"---------------------------------\"\n",
      "[1] \"The bam files used:\"\n",
      "[1] \"2 IP replicate(s)\"\n",
      "[1] \"2 Input replicate(s)\"\n",
      "[1] \"---------------------------------\"\n",
      "[1] \"Peak calling result: \"\n",
      "[1] \"13 peaks detected on merged data.\"\n",
      "[1] \"Please check 'peak.bed/xls' under ../exomepeak/hiv.control//WINDOW_15_STEP_5_LENGTH_15_FDR_0.025_ENRICH_0.1\"\n",
      "[1] \"16 consistent peaks detected on every replicates. (Recommended list)\"\n",
      "[1] \"Please check 'con_peak.bed/xls' under ../exomepeak/hiv.control//WINDOW_15_STEP_5_LENGTH_15_FDR_0.025_ENRICH_0.1\"\n"
     ]
    },
    {
     "name": "stderr",
     "output_type": "stream",
     "text": [
      "R[write to console]: 'select()' returned 1:many mapping between keys and columns\n",
      "\n"
     ]
    },
    {
     "name": "stdout",
     "output_type": "stream",
     "text": [
      "[1] \"Divide transcriptome into chr-gene-batch sections ...\"\n",
      "[1] \"Get Reads Count ...\"\n",
      "[1] \"This step may take a few hours ...\"\n",
      "[1] \"100 %\"\n",
      "[1] \"Get all the peaks ...\"\n",
      "[1] \"Get the consistent peaks ...\"\n",
      "[1] \"---------------------------------\"\n",
      "[1] \"The bam files used:\"\n",
      "[1] \"2 IP replicate(s)\"\n",
      "[1] \"2 Input replicate(s)\"\n",
      "[1] \"---------------------------------\"\n",
      "[1] \"Peak calling result: \"\n",
      "[1] \"13 peaks detected on merged data.\"\n",
      "[1] \"Please check 'peak.bed/xls' under ../exomepeak/hiv.control//WINDOW_15_STEP_5_LENGTH_15_FDR_0.025_ENRICH_0.2\"\n",
      "[1] \"16 consistent peaks detected on every replicates. (Recommended list)\"\n",
      "[1] \"Please check 'con_peak.bed/xls' under ../exomepeak/hiv.control//WINDOW_15_STEP_5_LENGTH_15_FDR_0.025_ENRICH_0.2\"\n"
     ]
    },
    {
     "name": "stderr",
     "output_type": "stream",
     "text": [
      "R[write to console]: 'select()' returned 1:many mapping between keys and columns\n",
      "\n"
     ]
    },
    {
     "name": "stdout",
     "output_type": "stream",
     "text": [
      "[1] \"Divide transcriptome into chr-gene-batch sections ...\"\n",
      "[1] \"Get Reads Count ...\"\n",
      "[1] \"This step may take a few hours ...\"\n",
      "[1] \"100 %\"\n",
      "[1] \"Get all the peaks ...\"\n",
      "[1] \"Get the consistent peaks ...\"\n",
      "[1] \"---------------------------------\"\n",
      "[1] \"The bam files used:\"\n",
      "[1] \"2 IP replicate(s)\"\n",
      "[1] \"2 Input replicate(s)\"\n",
      "[1] \"---------------------------------\"\n",
      "[1] \"Peak calling result: \"\n",
      "[1] \"13 peaks detected on merged data.\"\n",
      "[1] \"Please check 'peak.bed/xls' under ../exomepeak/hiv.control//WINDOW_15_STEP_5_LENGTH_15_FDR_0.025_ENRICH_1\"\n",
      "[1] \"16 consistent peaks detected on every replicates. (Recommended list)\"\n",
      "[1] \"Please check 'con_peak.bed/xls' under ../exomepeak/hiv.control//WINDOW_15_STEP_5_LENGTH_15_FDR_0.025_ENRICH_1\"\n"
     ]
    },
    {
     "name": "stderr",
     "output_type": "stream",
     "text": [
      "R[write to console]: 'select()' returned 1:many mapping between keys and columns\n",
      "\n"
     ]
    },
    {
     "name": "stdout",
     "output_type": "stream",
     "text": [
      "[1] \"Divide transcriptome into chr-gene-batch sections ...\"\n",
      "[1] \"Get Reads Count ...\"\n",
      "[1] \"This step may take a few hours ...\"\n",
      "[1] \"100 %\"\n",
      "[1] \"Get all the peaks ...\"\n",
      "[1] \"Get the consistent peaks ...\"\n",
      "[1] \"---------------------------------\"\n",
      "[1] \"The bam files used:\"\n",
      "[1] \"2 IP replicate(s)\"\n",
      "[1] \"2 Input replicate(s)\"\n",
      "[1] \"---------------------------------\"\n",
      "[1] \"Peak calling result: \"\n",
      "[1] \"9 peaks detected on merged data.\"\n",
      "[1] \"Please check 'peak.bed/xls' under ../exomepeak/hiv.control//WINDOW_15_STEP_5_LENGTH_20_FDR_0.01_ENRICH_0.1\"\n",
      "[1] \"11 consistent peaks detected on every replicates. (Recommended list)\"\n",
      "[1] \"Please check 'con_peak.bed/xls' under ../exomepeak/hiv.control//WINDOW_15_STEP_5_LENGTH_20_FDR_0.01_ENRICH_0.1\"\n"
     ]
    },
    {
     "name": "stderr",
     "output_type": "stream",
     "text": [
      "R[write to console]: 'select()' returned 1:many mapping between keys and columns\n",
      "\n"
     ]
    },
    {
     "name": "stdout",
     "output_type": "stream",
     "text": [
      "[1] \"Divide transcriptome into chr-gene-batch sections ...\"\n",
      "[1] \"Get Reads Count ...\"\n",
      "[1] \"This step may take a few hours ...\"\n",
      "[1] \"100 %\"\n",
      "[1] \"Get all the peaks ...\"\n",
      "[1] \"Get the consistent peaks ...\"\n",
      "[1] \"---------------------------------\"\n",
      "[1] \"The bam files used:\"\n",
      "[1] \"2 IP replicate(s)\"\n",
      "[1] \"2 Input replicate(s)\"\n",
      "[1] \"---------------------------------\"\n",
      "[1] \"Peak calling result: \"\n",
      "[1] \"9 peaks detected on merged data.\"\n",
      "[1] \"Please check 'peak.bed/xls' under ../exomepeak/hiv.control//WINDOW_15_STEP_5_LENGTH_20_FDR_0.01_ENRICH_0.2\"\n",
      "[1] \"11 consistent peaks detected on every replicates. (Recommended list)\"\n",
      "[1] \"Please check 'con_peak.bed/xls' under ../exomepeak/hiv.control//WINDOW_15_STEP_5_LENGTH_20_FDR_0.01_ENRICH_0.2\"\n"
     ]
    },
    {
     "name": "stderr",
     "output_type": "stream",
     "text": [
      "R[write to console]: 'select()' returned 1:many mapping between keys and columns\n",
      "\n"
     ]
    },
    {
     "name": "stdout",
     "output_type": "stream",
     "text": [
      "[1] \"Divide transcriptome into chr-gene-batch sections ...\"\n",
      "[1] \"Get Reads Count ...\"\n",
      "[1] \"This step may take a few hours ...\"\n",
      "[1] \"100 %\"\n",
      "[1] \"Get all the peaks ...\"\n",
      "[1] \"Get the consistent peaks ...\"\n",
      "[1] \"---------------------------------\"\n",
      "[1] \"The bam files used:\"\n",
      "[1] \"2 IP replicate(s)\"\n",
      "[1] \"2 Input replicate(s)\"\n",
      "[1] \"---------------------------------\"\n",
      "[1] \"Peak calling result: \"\n",
      "[1] \"9 peaks detected on merged data.\"\n",
      "[1] \"Please check 'peak.bed/xls' under ../exomepeak/hiv.control//WINDOW_15_STEP_5_LENGTH_20_FDR_0.01_ENRICH_1\"\n",
      "[1] \"11 consistent peaks detected on every replicates. (Recommended list)\"\n",
      "[1] \"Please check 'con_peak.bed/xls' under ../exomepeak/hiv.control//WINDOW_15_STEP_5_LENGTH_20_FDR_0.01_ENRICH_1\"\n"
     ]
    },
    {
     "name": "stderr",
     "output_type": "stream",
     "text": [
      "R[write to console]: 'select()' returned 1:many mapping between keys and columns\n",
      "\n"
     ]
    },
    {
     "name": "stdout",
     "output_type": "stream",
     "text": [
      "[1] \"Divide transcriptome into chr-gene-batch sections ...\"\n",
      "[1] \"Get Reads Count ...\"\n",
      "[1] \"This step may take a few hours ...\"\n",
      "[1] \"100 %\"\n",
      "[1] \"Get all the peaks ...\"\n",
      "[1] \"Get the consistent peaks ...\"\n",
      "[1] \"---------------------------------\"\n",
      "[1] \"The bam files used:\"\n",
      "[1] \"2 IP replicate(s)\"\n",
      "[1] \"2 Input replicate(s)\"\n",
      "[1] \"---------------------------------\"\n",
      "[1] \"Peak calling result: \"\n",
      "[1] \"9 peaks detected on merged data.\"\n",
      "[1] \"Please check 'peak.bed/xls' under ../exomepeak/hiv.control//WINDOW_15_STEP_5_LENGTH_20_FDR_0.025_ENRICH_0.1\"\n",
      "[1] \"11 consistent peaks detected on every replicates. (Recommended list)\"\n",
      "[1] \"Please check 'con_peak.bed/xls' under ../exomepeak/hiv.control//WINDOW_15_STEP_5_LENGTH_20_FDR_0.025_ENRICH_0.1\"\n"
     ]
    },
    {
     "name": "stderr",
     "output_type": "stream",
     "text": [
      "R[write to console]: 'select()' returned 1:many mapping between keys and columns\n",
      "\n"
     ]
    },
    {
     "name": "stdout",
     "output_type": "stream",
     "text": [
      "[1] \"Divide transcriptome into chr-gene-batch sections ...\"\n",
      "[1] \"Get Reads Count ...\"\n",
      "[1] \"This step may take a few hours ...\"\n",
      "[1] \"100 %\"\n",
      "[1] \"Get all the peaks ...\"\n",
      "[1] \"Get the consistent peaks ...\"\n",
      "[1] \"---------------------------------\"\n",
      "[1] \"The bam files used:\"\n",
      "[1] \"2 IP replicate(s)\"\n",
      "[1] \"2 Input replicate(s)\"\n",
      "[1] \"---------------------------------\"\n",
      "[1] \"Peak calling result: \"\n",
      "[1] \"9 peaks detected on merged data.\"\n",
      "[1] \"Please check 'peak.bed/xls' under ../exomepeak/hiv.control//WINDOW_15_STEP_5_LENGTH_20_FDR_0.025_ENRICH_0.2\"\n",
      "[1] \"11 consistent peaks detected on every replicates. (Recommended list)\"\n",
      "[1] \"Please check 'con_peak.bed/xls' under ../exomepeak/hiv.control//WINDOW_15_STEP_5_LENGTH_20_FDR_0.025_ENRICH_0.2\"\n"
     ]
    },
    {
     "name": "stderr",
     "output_type": "stream",
     "text": [
      "R[write to console]: 'select()' returned 1:many mapping between keys and columns\n",
      "\n"
     ]
    },
    {
     "name": "stdout",
     "output_type": "stream",
     "text": [
      "[1] \"Divide transcriptome into chr-gene-batch sections ...\"\n",
      "[1] \"Get Reads Count ...\"\n",
      "[1] \"This step may take a few hours ...\"\n",
      "[1] \"100 %\"\n",
      "[1] \"Get all the peaks ...\"\n",
      "[1] \"Get the consistent peaks ...\"\n",
      "[1] \"---------------------------------\"\n",
      "[1] \"The bam files used:\"\n",
      "[1] \"2 IP replicate(s)\"\n",
      "[1] \"2 Input replicate(s)\"\n",
      "[1] \"---------------------------------\"\n",
      "[1] \"Peak calling result: \"\n",
      "[1] \"9 peaks detected on merged data.\"\n",
      "[1] \"Please check 'peak.bed/xls' under ../exomepeak/hiv.control//WINDOW_15_STEP_5_LENGTH_20_FDR_0.025_ENRICH_1\"\n",
      "[1] \"11 consistent peaks detected on every replicates. (Recommended list)\"\n",
      "[1] \"Please check 'con_peak.bed/xls' under ../exomepeak/hiv.control//WINDOW_15_STEP_5_LENGTH_20_FDR_0.025_ENRICH_1\"\n"
     ]
    },
    {
     "name": "stderr",
     "output_type": "stream",
     "text": [
      "R[write to console]: 'select()' returned 1:many mapping between keys and columns\n",
      "\n"
     ]
    },
    {
     "name": "stdout",
     "output_type": "stream",
     "text": [
      "[1] \"Divide transcriptome into chr-gene-batch sections ...\"\n",
      "[1] \"Get Reads Count ...\"\n",
      "[1] \"This step may take a few hours ...\"\n",
      "[1] \"100 %\"\n",
      "[1] \"Get all the peaks ...\"\n",
      "[1] \"Get the consistent peaks ...\"\n",
      "[1] \"---------------------------------\"\n",
      "[1] \"The bam files used:\"\n",
      "[1] \"2 IP replicate(s)\"\n",
      "[1] \"2 Input replicate(s)\"\n",
      "[1] \"---------------------------------\"\n",
      "[1] \"Peak calling result: \"\n",
      "[1] \"9 peaks detected on merged data.\"\n",
      "[1] \"Please check 'peak.bed/xls' under ../exomepeak/hiv.control//WINDOW_15_STEP_5_LENGTH_25_FDR_0.01_ENRICH_0.1\"\n",
      "[1] \"11 consistent peaks detected on every replicates. (Recommended list)\"\n",
      "[1] \"Please check 'con_peak.bed/xls' under ../exomepeak/hiv.control//WINDOW_15_STEP_5_LENGTH_25_FDR_0.01_ENRICH_0.1\"\n"
     ]
    },
    {
     "name": "stderr",
     "output_type": "stream",
     "text": [
      "R[write to console]: 'select()' returned 1:many mapping between keys and columns\n",
      "\n"
     ]
    },
    {
     "name": "stdout",
     "output_type": "stream",
     "text": [
      "[1] \"Divide transcriptome into chr-gene-batch sections ...\"\n",
      "[1] \"Get Reads Count ...\"\n",
      "[1] \"This step may take a few hours ...\"\n",
      "[1] \"100 %\"\n",
      "[1] \"Get all the peaks ...\"\n",
      "[1] \"Get the consistent peaks ...\"\n",
      "[1] \"---------------------------------\"\n",
      "[1] \"The bam files used:\"\n",
      "[1] \"2 IP replicate(s)\"\n",
      "[1] \"2 Input replicate(s)\"\n",
      "[1] \"---------------------------------\"\n",
      "[1] \"Peak calling result: \"\n",
      "[1] \"9 peaks detected on merged data.\"\n",
      "[1] \"Please check 'peak.bed/xls' under ../exomepeak/hiv.control//WINDOW_15_STEP_5_LENGTH_25_FDR_0.01_ENRICH_0.2\"\n",
      "[1] \"11 consistent peaks detected on every replicates. (Recommended list)\"\n",
      "[1] \"Please check 'con_peak.bed/xls' under ../exomepeak/hiv.control//WINDOW_15_STEP_5_LENGTH_25_FDR_0.01_ENRICH_0.2\"\n"
     ]
    },
    {
     "name": "stderr",
     "output_type": "stream",
     "text": [
      "R[write to console]: 'select()' returned 1:many mapping between keys and columns\n",
      "\n"
     ]
    },
    {
     "name": "stdout",
     "output_type": "stream",
     "text": [
      "[1] \"Divide transcriptome into chr-gene-batch sections ...\"\n",
      "[1] \"Get Reads Count ...\"\n",
      "[1] \"This step may take a few hours ...\"\n",
      "[1] \"100 %\"\n",
      "[1] \"Get all the peaks ...\"\n",
      "[1] \"Get the consistent peaks ...\"\n",
      "[1] \"---------------------------------\"\n",
      "[1] \"The bam files used:\"\n",
      "[1] \"2 IP replicate(s)\"\n",
      "[1] \"2 Input replicate(s)\"\n",
      "[1] \"---------------------------------\"\n",
      "[1] \"Peak calling result: \"\n",
      "[1] \"9 peaks detected on merged data.\"\n",
      "[1] \"Please check 'peak.bed/xls' under ../exomepeak/hiv.control//WINDOW_15_STEP_5_LENGTH_25_FDR_0.01_ENRICH_1\"\n",
      "[1] \"11 consistent peaks detected on every replicates. (Recommended list)\"\n",
      "[1] \"Please check 'con_peak.bed/xls' under ../exomepeak/hiv.control//WINDOW_15_STEP_5_LENGTH_25_FDR_0.01_ENRICH_1\"\n"
     ]
    },
    {
     "name": "stderr",
     "output_type": "stream",
     "text": [
      "R[write to console]: 'select()' returned 1:many mapping between keys and columns\n",
      "\n"
     ]
    },
    {
     "name": "stdout",
     "output_type": "stream",
     "text": [
      "[1] \"Divide transcriptome into chr-gene-batch sections ...\"\n",
      "[1] \"Get Reads Count ...\"\n",
      "[1] \"This step may take a few hours ...\"\n",
      "[1] \"100 %\"\n",
      "[1] \"Get all the peaks ...\"\n",
      "[1] \"Get the consistent peaks ...\"\n",
      "[1] \"---------------------------------\"\n",
      "[1] \"The bam files used:\"\n",
      "[1] \"2 IP replicate(s)\"\n",
      "[1] \"2 Input replicate(s)\"\n",
      "[1] \"---------------------------------\"\n",
      "[1] \"Peak calling result: \"\n",
      "[1] \"8 peaks detected on merged data.\"\n",
      "[1] \"Please check 'peak.bed/xls' under ../exomepeak/hiv.control//WINDOW_15_STEP_5_LENGTH_25_FDR_0.025_ENRICH_0.1\"\n",
      "[1] \"11 consistent peaks detected on every replicates. (Recommended list)\"\n",
      "[1] \"Please check 'con_peak.bed/xls' under ../exomepeak/hiv.control//WINDOW_15_STEP_5_LENGTH_25_FDR_0.025_ENRICH_0.1\"\n"
     ]
    },
    {
     "name": "stderr",
     "output_type": "stream",
     "text": [
      "R[write to console]: 'select()' returned 1:many mapping between keys and columns\n",
      "\n"
     ]
    },
    {
     "name": "stdout",
     "output_type": "stream",
     "text": [
      "[1] \"Divide transcriptome into chr-gene-batch sections ...\"\n",
      "[1] \"Get Reads Count ...\"\n",
      "[1] \"This step may take a few hours ...\"\n",
      "[1] \"100 %\"\n",
      "[1] \"Get all the peaks ...\"\n",
      "[1] \"Get the consistent peaks ...\"\n",
      "[1] \"---------------------------------\"\n",
      "[1] \"The bam files used:\"\n",
      "[1] \"2 IP replicate(s)\"\n",
      "[1] \"2 Input replicate(s)\"\n",
      "[1] \"---------------------------------\"\n",
      "[1] \"Peak calling result: \"\n",
      "[1] \"8 peaks detected on merged data.\"\n",
      "[1] \"Please check 'peak.bed/xls' under ../exomepeak/hiv.control//WINDOW_15_STEP_5_LENGTH_25_FDR_0.025_ENRICH_0.2\"\n",
      "[1] \"11 consistent peaks detected on every replicates. (Recommended list)\"\n",
      "[1] \"Please check 'con_peak.bed/xls' under ../exomepeak/hiv.control//WINDOW_15_STEP_5_LENGTH_25_FDR_0.025_ENRICH_0.2\"\n"
     ]
    },
    {
     "name": "stderr",
     "output_type": "stream",
     "text": [
      "R[write to console]: 'select()' returned 1:many mapping between keys and columns\n",
      "\n"
     ]
    },
    {
     "name": "stdout",
     "output_type": "stream",
     "text": [
      "[1] \"Divide transcriptome into chr-gene-batch sections ...\"\n",
      "[1] \"Get Reads Count ...\"\n",
      "[1] \"This step may take a few hours ...\"\n",
      "[1] \"100 %\"\n",
      "[1] \"Get all the peaks ...\"\n",
      "[1] \"Get the consistent peaks ...\"\n",
      "[1] \"---------------------------------\"\n",
      "[1] \"The bam files used:\"\n",
      "[1] \"2 IP replicate(s)\"\n",
      "[1] \"2 Input replicate(s)\"\n",
      "[1] \"---------------------------------\"\n",
      "[1] \"Peak calling result: \"\n",
      "[1] \"8 peaks detected on merged data.\"\n",
      "[1] \"Please check 'peak.bed/xls' under ../exomepeak/hiv.control//WINDOW_15_STEP_5_LENGTH_25_FDR_0.025_ENRICH_1\"\n",
      "[1] \"11 consistent peaks detected on every replicates. (Recommended list)\"\n",
      "[1] \"Please check 'con_peak.bed/xls' under ../exomepeak/hiv.control//WINDOW_15_STEP_5_LENGTH_25_FDR_0.025_ENRICH_1\"\n"
     ]
    },
    {
     "name": "stderr",
     "output_type": "stream",
     "text": [
      "R[write to console]: 'select()' returned 1:many mapping between keys and columns\n",
      "\n"
     ]
    },
    {
     "name": "stdout",
     "output_type": "stream",
     "text": [
      "[1] \"Divide transcriptome into chr-gene-batch sections ...\"\n",
      "[1] \"Get Reads Count ...\"\n",
      "[1] \"This step may take a few hours ...\"\n",
      "[1] \"100 %\"\n",
      "[1] \"Get all the peaks ...\"\n",
      "[1] \"Get the consistent peaks ...\"\n",
      "[1] \"---------------------------------\"\n",
      "[1] \"The bam files used:\"\n",
      "[1] \"2 IP replicate(s)\"\n",
      "[1] \"2 Input replicate(s)\"\n",
      "[1] \"---------------------------------\"\n",
      "[1] \"Peak calling result: \"\n",
      "[1] \"7 peaks detected on merged data.\"\n",
      "[1] \"Please check 'peak.bed/xls' under ../exomepeak/hiv.control//WINDOW_15_STEP_10_LENGTH_15_FDR_0.01_ENRICH_0.1\"\n",
      "[1] \"10 consistent peaks detected on every replicates. (Recommended list)\"\n",
      "[1] \"Please check 'con_peak.bed/xls' under ../exomepeak/hiv.control//WINDOW_15_STEP_10_LENGTH_15_FDR_0.01_ENRICH_0.1\"\n"
     ]
    },
    {
     "name": "stderr",
     "output_type": "stream",
     "text": [
      "R[write to console]: 'select()' returned 1:many mapping between keys and columns\n",
      "\n"
     ]
    },
    {
     "name": "stdout",
     "output_type": "stream",
     "text": [
      "[1] \"Divide transcriptome into chr-gene-batch sections ...\"\n",
      "[1] \"Get Reads Count ...\"\n",
      "[1] \"This step may take a few hours ...\"\n",
      "[1] \"100 %\"\n",
      "[1] \"Get all the peaks ...\"\n",
      "[1] \"Get the consistent peaks ...\"\n",
      "[1] \"---------------------------------\"\n",
      "[1] \"The bam files used:\"\n",
      "[1] \"2 IP replicate(s)\"\n",
      "[1] \"2 Input replicate(s)\"\n",
      "[1] \"---------------------------------\"\n",
      "[1] \"Peak calling result: \"\n",
      "[1] \"7 peaks detected on merged data.\"\n",
      "[1] \"Please check 'peak.bed/xls' under ../exomepeak/hiv.control//WINDOW_15_STEP_10_LENGTH_15_FDR_0.01_ENRICH_0.2\"\n",
      "[1] \"10 consistent peaks detected on every replicates. (Recommended list)\"\n",
      "[1] \"Please check 'con_peak.bed/xls' under ../exomepeak/hiv.control//WINDOW_15_STEP_10_LENGTH_15_FDR_0.01_ENRICH_0.2\"\n"
     ]
    },
    {
     "name": "stderr",
     "output_type": "stream",
     "text": [
      "R[write to console]: 'select()' returned 1:many mapping between keys and columns\n",
      "\n"
     ]
    },
    {
     "name": "stdout",
     "output_type": "stream",
     "text": [
      "[1] \"Divide transcriptome into chr-gene-batch sections ...\"\n",
      "[1] \"Get Reads Count ...\"\n",
      "[1] \"This step may take a few hours ...\"\n",
      "[1] \"100 %\"\n",
      "[1] \"Get all the peaks ...\"\n",
      "[1] \"Get the consistent peaks ...\"\n",
      "[1] \"---------------------------------\"\n",
      "[1] \"The bam files used:\"\n",
      "[1] \"2 IP replicate(s)\"\n",
      "[1] \"2 Input replicate(s)\"\n",
      "[1] \"---------------------------------\"\n",
      "[1] \"Peak calling result: \"\n",
      "[1] \"7 peaks detected on merged data.\"\n",
      "[1] \"Please check 'peak.bed/xls' under ../exomepeak/hiv.control//WINDOW_15_STEP_10_LENGTH_15_FDR_0.01_ENRICH_1\"\n",
      "[1] \"10 consistent peaks detected on every replicates. (Recommended list)\"\n",
      "[1] \"Please check 'con_peak.bed/xls' under ../exomepeak/hiv.control//WINDOW_15_STEP_10_LENGTH_15_FDR_0.01_ENRICH_1\"\n"
     ]
    },
    {
     "name": "stderr",
     "output_type": "stream",
     "text": [
      "R[write to console]: 'select()' returned 1:many mapping between keys and columns\n",
      "\n"
     ]
    },
    {
     "name": "stdout",
     "output_type": "stream",
     "text": [
      "[1] \"Divide transcriptome into chr-gene-batch sections ...\"\n",
      "[1] \"Get Reads Count ...\"\n",
      "[1] \"This step may take a few hours ...\"\n",
      "[1] \"100 %\"\n",
      "[1] \"Get all the peaks ...\"\n",
      "[1] \"Get the consistent peaks ...\"\n",
      "[1] \"---------------------------------\"\n",
      "[1] \"The bam files used:\"\n",
      "[1] \"2 IP replicate(s)\"\n",
      "[1] \"2 Input replicate(s)\"\n",
      "[1] \"---------------------------------\"\n",
      "[1] \"Peak calling result: \"\n",
      "[1] \"8 peaks detected on merged data.\"\n",
      "[1] \"Please check 'peak.bed/xls' under ../exomepeak/hiv.control//WINDOW_15_STEP_10_LENGTH_15_FDR_0.025_ENRICH_0.1\"\n",
      "[1] \"10 consistent peaks detected on every replicates. (Recommended list)\"\n",
      "[1] \"Please check 'con_peak.bed/xls' under ../exomepeak/hiv.control//WINDOW_15_STEP_10_LENGTH_15_FDR_0.025_ENRICH_0.1\"\n"
     ]
    },
    {
     "name": "stderr",
     "output_type": "stream",
     "text": [
      "R[write to console]: 'select()' returned 1:many mapping between keys and columns\n",
      "\n"
     ]
    },
    {
     "name": "stdout",
     "output_type": "stream",
     "text": [
      "[1] \"Divide transcriptome into chr-gene-batch sections ...\"\n",
      "[1] \"Get Reads Count ...\"\n",
      "[1] \"This step may take a few hours ...\"\n",
      "[1] \"100 %\"\n",
      "[1] \"Get all the peaks ...\"\n",
      "[1] \"Get the consistent peaks ...\"\n",
      "[1] \"---------------------------------\"\n",
      "[1] \"The bam files used:\"\n",
      "[1] \"2 IP replicate(s)\"\n",
      "[1] \"2 Input replicate(s)\"\n",
      "[1] \"---------------------------------\"\n",
      "[1] \"Peak calling result: \"\n",
      "[1] \"8 peaks detected on merged data.\"\n",
      "[1] \"Please check 'peak.bed/xls' under ../exomepeak/hiv.control//WINDOW_15_STEP_10_LENGTH_15_FDR_0.025_ENRICH_0.2\"\n",
      "[1] \"10 consistent peaks detected on every replicates. (Recommended list)\"\n",
      "[1] \"Please check 'con_peak.bed/xls' under ../exomepeak/hiv.control//WINDOW_15_STEP_10_LENGTH_15_FDR_0.025_ENRICH_0.2\"\n"
     ]
    },
    {
     "name": "stderr",
     "output_type": "stream",
     "text": [
      "R[write to console]: 'select()' returned 1:many mapping between keys and columns\n",
      "\n"
     ]
    },
    {
     "name": "stdout",
     "output_type": "stream",
     "text": [
      "[1] \"Divide transcriptome into chr-gene-batch sections ...\"\n",
      "[1] \"Get Reads Count ...\"\n",
      "[1] \"This step may take a few hours ...\"\n",
      "[1] \"100 %\"\n",
      "[1] \"Get all the peaks ...\"\n",
      "[1] \"Get the consistent peaks ...\"\n",
      "[1] \"---------------------------------\"\n",
      "[1] \"The bam files used:\"\n",
      "[1] \"2 IP replicate(s)\"\n",
      "[1] \"2 Input replicate(s)\"\n",
      "[1] \"---------------------------------\"\n",
      "[1] \"Peak calling result: \"\n",
      "[1] \"8 peaks detected on merged data.\"\n",
      "[1] \"Please check 'peak.bed/xls' under ../exomepeak/hiv.control//WINDOW_15_STEP_10_LENGTH_15_FDR_0.025_ENRICH_1\"\n",
      "[1] \"10 consistent peaks detected on every replicates. (Recommended list)\"\n",
      "[1] \"Please check 'con_peak.bed/xls' under ../exomepeak/hiv.control//WINDOW_15_STEP_10_LENGTH_15_FDR_0.025_ENRICH_1\"\n"
     ]
    },
    {
     "name": "stderr",
     "output_type": "stream",
     "text": [
      "R[write to console]: 'select()' returned 1:many mapping between keys and columns\n",
      "\n"
     ]
    },
    {
     "name": "stdout",
     "output_type": "stream",
     "text": [
      "[1] \"Divide transcriptome into chr-gene-batch sections ...\"\n",
      "[1] \"Get Reads Count ...\"\n",
      "[1] \"This step may take a few hours ...\"\n",
      "[1] \"100 %\"\n",
      "[1] \"Get all the peaks ...\"\n",
      "[1] \"Get the consistent peaks ...\"\n",
      "[1] \"---------------------------------\"\n",
      "[1] \"The bam files used:\"\n",
      "[1] \"2 IP replicate(s)\"\n",
      "[1] \"2 Input replicate(s)\"\n",
      "[1] \"---------------------------------\"\n",
      "[1] \"Peak calling result: \"\n",
      "[1] \"8 peaks detected on merged data.\"\n",
      "[1] \"Please check 'peak.bed/xls' under ../exomepeak/hiv.control//WINDOW_15_STEP_10_LENGTH_20_FDR_0.01_ENRICH_0.1\"\n",
      "[1] \"7 consistent peaks detected on every replicates. (Recommended list)\"\n",
      "[1] \"Please check 'con_peak.bed/xls' under ../exomepeak/hiv.control//WINDOW_15_STEP_10_LENGTH_20_FDR_0.01_ENRICH_0.1\"\n"
     ]
    },
    {
     "name": "stderr",
     "output_type": "stream",
     "text": [
      "R[write to console]: 'select()' returned 1:many mapping between keys and columns\n",
      "\n"
     ]
    },
    {
     "name": "stdout",
     "output_type": "stream",
     "text": [
      "[1] \"Divide transcriptome into chr-gene-batch sections ...\"\n",
      "[1] \"Get Reads Count ...\"\n",
      "[1] \"This step may take a few hours ...\"\n",
      "[1] \"100 %\"\n",
      "[1] \"Get all the peaks ...\"\n",
      "[1] \"Get the consistent peaks ...\"\n",
      "[1] \"---------------------------------\"\n",
      "[1] \"The bam files used:\"\n",
      "[1] \"2 IP replicate(s)\"\n",
      "[1] \"2 Input replicate(s)\"\n",
      "[1] \"---------------------------------\"\n",
      "[1] \"Peak calling result: \"\n",
      "[1] \"8 peaks detected on merged data.\"\n",
      "[1] \"Please check 'peak.bed/xls' under ../exomepeak/hiv.control//WINDOW_15_STEP_10_LENGTH_20_FDR_0.01_ENRICH_0.2\"\n",
      "[1] \"7 consistent peaks detected on every replicates. (Recommended list)\"\n",
      "[1] \"Please check 'con_peak.bed/xls' under ../exomepeak/hiv.control//WINDOW_15_STEP_10_LENGTH_20_FDR_0.01_ENRICH_0.2\"\n"
     ]
    },
    {
     "name": "stderr",
     "output_type": "stream",
     "text": [
      "R[write to console]: 'select()' returned 1:many mapping between keys and columns\n",
      "\n"
     ]
    },
    {
     "name": "stdout",
     "output_type": "stream",
     "text": [
      "[1] \"Divide transcriptome into chr-gene-batch sections ...\"\n",
      "[1] \"Get Reads Count ...\"\n",
      "[1] \"This step may take a few hours ...\"\n",
      "[1] \"100 %\"\n",
      "[1] \"Get all the peaks ...\"\n",
      "[1] \"Get the consistent peaks ...\"\n",
      "[1] \"---------------------------------\"\n",
      "[1] \"The bam files used:\"\n",
      "[1] \"2 IP replicate(s)\"\n",
      "[1] \"2 Input replicate(s)\"\n",
      "[1] \"---------------------------------\"\n",
      "[1] \"Peak calling result: \"\n",
      "[1] \"8 peaks detected on merged data.\"\n",
      "[1] \"Please check 'peak.bed/xls' under ../exomepeak/hiv.control//WINDOW_15_STEP_10_LENGTH_20_FDR_0.01_ENRICH_1\"\n",
      "[1] \"7 consistent peaks detected on every replicates. (Recommended list)\"\n",
      "[1] \"Please check 'con_peak.bed/xls' under ../exomepeak/hiv.control//WINDOW_15_STEP_10_LENGTH_20_FDR_0.01_ENRICH_1\"\n"
     ]
    },
    {
     "name": "stderr",
     "output_type": "stream",
     "text": [
      "R[write to console]: 'select()' returned 1:many mapping between keys and columns\n",
      "\n"
     ]
    },
    {
     "name": "stdout",
     "output_type": "stream",
     "text": [
      "[1] \"Divide transcriptome into chr-gene-batch sections ...\"\n",
      "[1] \"Get Reads Count ...\"\n",
      "[1] \"This step may take a few hours ...\"\n",
      "[1] \"100 %\"\n",
      "[1] \"Get all the peaks ...\"\n",
      "[1] \"Get the consistent peaks ...\"\n",
      "[1] \"---------------------------------\"\n",
      "[1] \"The bam files used:\"\n",
      "[1] \"2 IP replicate(s)\"\n",
      "[1] \"2 Input replicate(s)\"\n",
      "[1] \"---------------------------------\"\n",
      "[1] \"Peak calling result: \"\n",
      "[1] \"8 peaks detected on merged data.\"\n",
      "[1] \"Please check 'peak.bed/xls' under ../exomepeak/hiv.control//WINDOW_15_STEP_10_LENGTH_20_FDR_0.025_ENRICH_0.1\"\n",
      "[1] \"7 consistent peaks detected on every replicates. (Recommended list)\"\n",
      "[1] \"Please check 'con_peak.bed/xls' under ../exomepeak/hiv.control//WINDOW_15_STEP_10_LENGTH_20_FDR_0.025_ENRICH_0.1\"\n"
     ]
    },
    {
     "name": "stderr",
     "output_type": "stream",
     "text": [
      "R[write to console]: 'select()' returned 1:many mapping between keys and columns\n",
      "\n"
     ]
    },
    {
     "name": "stdout",
     "output_type": "stream",
     "text": [
      "[1] \"Divide transcriptome into chr-gene-batch sections ...\"\n",
      "[1] \"Get Reads Count ...\"\n",
      "[1] \"This step may take a few hours ...\"\n",
      "[1] \"100 %\"\n",
      "[1] \"Get all the peaks ...\"\n",
      "[1] \"Get the consistent peaks ...\"\n",
      "[1] \"---------------------------------\"\n",
      "[1] \"The bam files used:\"\n",
      "[1] \"2 IP replicate(s)\"\n",
      "[1] \"2 Input replicate(s)\"\n",
      "[1] \"---------------------------------\"\n",
      "[1] \"Peak calling result: \"\n",
      "[1] \"8 peaks detected on merged data.\"\n",
      "[1] \"Please check 'peak.bed/xls' under ../exomepeak/hiv.control//WINDOW_15_STEP_10_LENGTH_20_FDR_0.025_ENRICH_0.2\"\n",
      "[1] \"7 consistent peaks detected on every replicates. (Recommended list)\"\n",
      "[1] \"Please check 'con_peak.bed/xls' under ../exomepeak/hiv.control//WINDOW_15_STEP_10_LENGTH_20_FDR_0.025_ENRICH_0.2\"\n"
     ]
    },
    {
     "name": "stderr",
     "output_type": "stream",
     "text": [
      "R[write to console]: 'select()' returned 1:many mapping between keys and columns\n",
      "\n"
     ]
    },
    {
     "name": "stdout",
     "output_type": "stream",
     "text": [
      "[1] \"Divide transcriptome into chr-gene-batch sections ...\"\n",
      "[1] \"Get Reads Count ...\"\n",
      "[1] \"This step may take a few hours ...\"\n",
      "[1] \"100 %\"\n",
      "[1] \"Get all the peaks ...\"\n",
      "[1] \"Get the consistent peaks ...\"\n",
      "[1] \"---------------------------------\"\n",
      "[1] \"The bam files used:\"\n",
      "[1] \"2 IP replicate(s)\"\n",
      "[1] \"2 Input replicate(s)\"\n",
      "[1] \"---------------------------------\"\n",
      "[1] \"Peak calling result: \"\n",
      "[1] \"8 peaks detected on merged data.\"\n",
      "[1] \"Please check 'peak.bed/xls' under ../exomepeak/hiv.control//WINDOW_15_STEP_10_LENGTH_20_FDR_0.025_ENRICH_1\"\n",
      "[1] \"7 consistent peaks detected on every replicates. (Recommended list)\"\n",
      "[1] \"Please check 'con_peak.bed/xls' under ../exomepeak/hiv.control//WINDOW_15_STEP_10_LENGTH_20_FDR_0.025_ENRICH_1\"\n"
     ]
    },
    {
     "name": "stderr",
     "output_type": "stream",
     "text": [
      "R[write to console]: 'select()' returned 1:many mapping between keys and columns\n",
      "\n"
     ]
    },
    {
     "name": "stdout",
     "output_type": "stream",
     "text": [
      "[1] \"Divide transcriptome into chr-gene-batch sections ...\"\n",
      "[1] \"Get Reads Count ...\"\n",
      "[1] \"This step may take a few hours ...\"\n",
      "[1] \"100 %\"\n",
      "[1] \"Get all the peaks ...\"\n",
      "[1] \"Get the consistent peaks ...\"\n",
      "[1] \"---------------------------------\"\n",
      "[1] \"The bam files used:\"\n",
      "[1] \"2 IP replicate(s)\"\n",
      "[1] \"2 Input replicate(s)\"\n",
      "[1] \"---------------------------------\"\n",
      "[1] \"Peak calling result: \"\n",
      "[1] \"9 peaks detected on merged data.\"\n",
      "[1] \"Please check 'peak.bed/xls' under ../exomepeak/hiv.control//WINDOW_15_STEP_10_LENGTH_25_FDR_0.01_ENRICH_0.1\"\n",
      "[1] \"8 consistent peaks detected on every replicates. (Recommended list)\"\n",
      "[1] \"Please check 'con_peak.bed/xls' under ../exomepeak/hiv.control//WINDOW_15_STEP_10_LENGTH_25_FDR_0.01_ENRICH_0.1\"\n"
     ]
    },
    {
     "name": "stderr",
     "output_type": "stream",
     "text": [
      "R[write to console]: 'select()' returned 1:many mapping between keys and columns\n",
      "\n"
     ]
    },
    {
     "name": "stdout",
     "output_type": "stream",
     "text": [
      "[1] \"Divide transcriptome into chr-gene-batch sections ...\"\n",
      "[1] \"Get Reads Count ...\"\n",
      "[1] \"This step may take a few hours ...\"\n",
      "[1] \"100 %\"\n",
      "[1] \"Get all the peaks ...\"\n",
      "[1] \"Get the consistent peaks ...\"\n",
      "[1] \"---------------------------------\"\n",
      "[1] \"The bam files used:\"\n",
      "[1] \"2 IP replicate(s)\"\n",
      "[1] \"2 Input replicate(s)\"\n",
      "[1] \"---------------------------------\"\n",
      "[1] \"Peak calling result: \"\n",
      "[1] \"9 peaks detected on merged data.\"\n",
      "[1] \"Please check 'peak.bed/xls' under ../exomepeak/hiv.control//WINDOW_15_STEP_10_LENGTH_25_FDR_0.01_ENRICH_0.2\"\n",
      "[1] \"8 consistent peaks detected on every replicates. (Recommended list)\"\n",
      "[1] \"Please check 'con_peak.bed/xls' under ../exomepeak/hiv.control//WINDOW_15_STEP_10_LENGTH_25_FDR_0.01_ENRICH_0.2\"\n"
     ]
    },
    {
     "name": "stderr",
     "output_type": "stream",
     "text": [
      "R[write to console]: 'select()' returned 1:many mapping between keys and columns\n",
      "\n"
     ]
    },
    {
     "name": "stdout",
     "output_type": "stream",
     "text": [
      "[1] \"Divide transcriptome into chr-gene-batch sections ...\"\n",
      "[1] \"Get Reads Count ...\"\n",
      "[1] \"This step may take a few hours ...\"\n",
      "[1] \"100 %\"\n",
      "[1] \"Get all the peaks ...\"\n",
      "[1] \"Get the consistent peaks ...\"\n",
      "[1] \"---------------------------------\"\n",
      "[1] \"The bam files used:\"\n",
      "[1] \"2 IP replicate(s)\"\n",
      "[1] \"2 Input replicate(s)\"\n",
      "[1] \"---------------------------------\"\n",
      "[1] \"Peak calling result: \"\n",
      "[1] \"9 peaks detected on merged data.\"\n",
      "[1] \"Please check 'peak.bed/xls' under ../exomepeak/hiv.control//WINDOW_15_STEP_10_LENGTH_25_FDR_0.01_ENRICH_1\"\n",
      "[1] \"8 consistent peaks detected on every replicates. (Recommended list)\"\n",
      "[1] \"Please check 'con_peak.bed/xls' under ../exomepeak/hiv.control//WINDOW_15_STEP_10_LENGTH_25_FDR_0.01_ENRICH_1\"\n"
     ]
    },
    {
     "name": "stderr",
     "output_type": "stream",
     "text": [
      "R[write to console]: 'select()' returned 1:many mapping between keys and columns\n",
      "\n"
     ]
    },
    {
     "name": "stdout",
     "output_type": "stream",
     "text": [
      "[1] \"Divide transcriptome into chr-gene-batch sections ...\"\n",
      "[1] \"Get Reads Count ...\"\n",
      "[1] \"This step may take a few hours ...\"\n",
      "[1] \"100 %\"\n",
      "[1] \"Get all the peaks ...\"\n",
      "[1] \"Get the consistent peaks ...\"\n",
      "[1] \"---------------------------------\"\n",
      "[1] \"The bam files used:\"\n",
      "[1] \"2 IP replicate(s)\"\n",
      "[1] \"2 Input replicate(s)\"\n",
      "[1] \"---------------------------------\"\n",
      "[1] \"Peak calling result: \"\n",
      "[1] \"9 peaks detected on merged data.\"\n",
      "[1] \"Please check 'peak.bed/xls' under ../exomepeak/hiv.control//WINDOW_15_STEP_10_LENGTH_25_FDR_0.025_ENRICH_0.1\"\n",
      "[1] \"8 consistent peaks detected on every replicates. (Recommended list)\"\n",
      "[1] \"Please check 'con_peak.bed/xls' under ../exomepeak/hiv.control//WINDOW_15_STEP_10_LENGTH_25_FDR_0.025_ENRICH_0.1\"\n"
     ]
    },
    {
     "name": "stderr",
     "output_type": "stream",
     "text": [
      "R[write to console]: 'select()' returned 1:many mapping between keys and columns\n",
      "\n"
     ]
    },
    {
     "name": "stdout",
     "output_type": "stream",
     "text": [
      "[1] \"Divide transcriptome into chr-gene-batch sections ...\"\n",
      "[1] \"Get Reads Count ...\"\n",
      "[1] \"This step may take a few hours ...\"\n",
      "[1] \"100 %\"\n",
      "[1] \"Get all the peaks ...\"\n",
      "[1] \"Get the consistent peaks ...\"\n",
      "[1] \"---------------------------------\"\n",
      "[1] \"The bam files used:\"\n",
      "[1] \"2 IP replicate(s)\"\n",
      "[1] \"2 Input replicate(s)\"\n",
      "[1] \"---------------------------------\"\n",
      "[1] \"Peak calling result: \"\n",
      "[1] \"9 peaks detected on merged data.\"\n",
      "[1] \"Please check 'peak.bed/xls' under ../exomepeak/hiv.control//WINDOW_15_STEP_10_LENGTH_25_FDR_0.025_ENRICH_0.2\"\n",
      "[1] \"8 consistent peaks detected on every replicates. (Recommended list)\"\n",
      "[1] \"Please check 'con_peak.bed/xls' under ../exomepeak/hiv.control//WINDOW_15_STEP_10_LENGTH_25_FDR_0.025_ENRICH_0.2\"\n"
     ]
    },
    {
     "name": "stderr",
     "output_type": "stream",
     "text": [
      "R[write to console]: 'select()' returned 1:many mapping between keys and columns\n",
      "\n"
     ]
    },
    {
     "name": "stdout",
     "output_type": "stream",
     "text": [
      "[1] \"Divide transcriptome into chr-gene-batch sections ...\"\n",
      "[1] \"Get Reads Count ...\"\n",
      "[1] \"This step may take a few hours ...\"\n",
      "[1] \"100 %\"\n",
      "[1] \"Get all the peaks ...\"\n",
      "[1] \"Get the consistent peaks ...\"\n",
      "[1] \"---------------------------------\"\n",
      "[1] \"The bam files used:\"\n",
      "[1] \"2 IP replicate(s)\"\n",
      "[1] \"2 Input replicate(s)\"\n",
      "[1] \"---------------------------------\"\n",
      "[1] \"Peak calling result: \"\n",
      "[1] \"9 peaks detected on merged data.\"\n",
      "[1] \"Please check 'peak.bed/xls' under ../exomepeak/hiv.control//WINDOW_15_STEP_10_LENGTH_25_FDR_0.025_ENRICH_1\"\n",
      "[1] \"8 consistent peaks detected on every replicates. (Recommended list)\"\n",
      "[1] \"Please check 'con_peak.bed/xls' under ../exomepeak/hiv.control//WINDOW_15_STEP_10_LENGTH_25_FDR_0.025_ENRICH_1\"\n"
     ]
    },
    {
     "name": "stderr",
     "output_type": "stream",
     "text": [
      "R[write to console]: 'select()' returned 1:many mapping between keys and columns\n",
      "\n"
     ]
    },
    {
     "name": "stdout",
     "output_type": "stream",
     "text": [
      "[1] \"Divide transcriptome into chr-gene-batch sections ...\"\n",
      "[1] \"Get Reads Count ...\"\n",
      "[1] \"This step may take a few hours ...\"\n",
      "[1] \"100 %\"\n",
      "[1] \"Get all the peaks ...\"\n",
      "[1] \"Get the consistent peaks ...\"\n",
      "[1] \"---------------------------------\"\n",
      "[1] \"The bam files used:\"\n",
      "[1] \"2 IP replicate(s)\"\n",
      "[1] \"2 Input replicate(s)\"\n",
      "[1] \"---------------------------------\"\n",
      "[1] \"Peak calling result: \"\n",
      "[1] \"7 peaks detected on merged data.\"\n",
      "[1] \"Please check 'peak.bed/xls' under ../exomepeak/hiv.control//WINDOW_15_STEP_15_LENGTH_15_FDR_0.01_ENRICH_0.1\"\n",
      "[1] \"9 consistent peaks detected on every replicates. (Recommended list)\"\n",
      "[1] \"Please check 'con_peak.bed/xls' under ../exomepeak/hiv.control//WINDOW_15_STEP_15_LENGTH_15_FDR_0.01_ENRICH_0.1\"\n"
     ]
    },
    {
     "name": "stderr",
     "output_type": "stream",
     "text": [
      "R[write to console]: 'select()' returned 1:many mapping between keys and columns\n",
      "\n"
     ]
    },
    {
     "name": "stdout",
     "output_type": "stream",
     "text": [
      "[1] \"Divide transcriptome into chr-gene-batch sections ...\"\n",
      "[1] \"Get Reads Count ...\"\n",
      "[1] \"This step may take a few hours ...\"\n",
      "[1] \"100 %\"\n",
      "[1] \"Get all the peaks ...\"\n",
      "[1] \"Get the consistent peaks ...\"\n",
      "[1] \"---------------------------------\"\n",
      "[1] \"The bam files used:\"\n",
      "[1] \"2 IP replicate(s)\"\n",
      "[1] \"2 Input replicate(s)\"\n",
      "[1] \"---------------------------------\"\n",
      "[1] \"Peak calling result: \"\n",
      "[1] \"7 peaks detected on merged data.\"\n",
      "[1] \"Please check 'peak.bed/xls' under ../exomepeak/hiv.control//WINDOW_15_STEP_15_LENGTH_15_FDR_0.01_ENRICH_0.2\"\n",
      "[1] \"9 consistent peaks detected on every replicates. (Recommended list)\"\n",
      "[1] \"Please check 'con_peak.bed/xls' under ../exomepeak/hiv.control//WINDOW_15_STEP_15_LENGTH_15_FDR_0.01_ENRICH_0.2\"\n"
     ]
    },
    {
     "name": "stderr",
     "output_type": "stream",
     "text": [
      "R[write to console]: 'select()' returned 1:many mapping between keys and columns\n",
      "\n"
     ]
    },
    {
     "name": "stdout",
     "output_type": "stream",
     "text": [
      "[1] \"Divide transcriptome into chr-gene-batch sections ...\"\n",
      "[1] \"Get Reads Count ...\"\n",
      "[1] \"This step may take a few hours ...\"\n",
      "[1] \"100 %\"\n",
      "[1] \"Get all the peaks ...\"\n",
      "[1] \"Get the consistent peaks ...\"\n",
      "[1] \"---------------------------------\"\n",
      "[1] \"The bam files used:\"\n",
      "[1] \"2 IP replicate(s)\"\n",
      "[1] \"2 Input replicate(s)\"\n",
      "[1] \"---------------------------------\"\n",
      "[1] \"Peak calling result: \"\n",
      "[1] \"7 peaks detected on merged data.\"\n",
      "[1] \"Please check 'peak.bed/xls' under ../exomepeak/hiv.control//WINDOW_15_STEP_15_LENGTH_15_FDR_0.01_ENRICH_1\"\n",
      "[1] \"9 consistent peaks detected on every replicates. (Recommended list)\"\n",
      "[1] \"Please check 'con_peak.bed/xls' under ../exomepeak/hiv.control//WINDOW_15_STEP_15_LENGTH_15_FDR_0.01_ENRICH_1\"\n"
     ]
    },
    {
     "name": "stderr",
     "output_type": "stream",
     "text": [
      "R[write to console]: 'select()' returned 1:many mapping between keys and columns\n",
      "\n"
     ]
    },
    {
     "name": "stdout",
     "output_type": "stream",
     "text": [
      "[1] \"Divide transcriptome into chr-gene-batch sections ...\"\n",
      "[1] \"Get Reads Count ...\"\n",
      "[1] \"This step may take a few hours ...\"\n",
      "[1] \"100 %\"\n",
      "[1] \"Get all the peaks ...\"\n",
      "[1] \"Get the consistent peaks ...\"\n",
      "[1] \"---------------------------------\"\n",
      "[1] \"The bam files used:\"\n",
      "[1] \"2 IP replicate(s)\"\n",
      "[1] \"2 Input replicate(s)\"\n",
      "[1] \"---------------------------------\"\n",
      "[1] \"Peak calling result: \"\n",
      "[1] \"7 peaks detected on merged data.\"\n",
      "[1] \"Please check 'peak.bed/xls' under ../exomepeak/hiv.control//WINDOW_15_STEP_15_LENGTH_15_FDR_0.025_ENRICH_0.1\"\n",
      "[1] \"9 consistent peaks detected on every replicates. (Recommended list)\"\n",
      "[1] \"Please check 'con_peak.bed/xls' under ../exomepeak/hiv.control//WINDOW_15_STEP_15_LENGTH_15_FDR_0.025_ENRICH_0.1\"\n"
     ]
    },
    {
     "name": "stderr",
     "output_type": "stream",
     "text": [
      "R[write to console]: 'select()' returned 1:many mapping between keys and columns\n",
      "\n"
     ]
    },
    {
     "name": "stdout",
     "output_type": "stream",
     "text": [
      "[1] \"Divide transcriptome into chr-gene-batch sections ...\"\n",
      "[1] \"Get Reads Count ...\"\n",
      "[1] \"This step may take a few hours ...\"\n",
      "[1] \"100 %\"\n",
      "[1] \"Get all the peaks ...\"\n",
      "[1] \"Get the consistent peaks ...\"\n",
      "[1] \"---------------------------------\"\n",
      "[1] \"The bam files used:\"\n",
      "[1] \"2 IP replicate(s)\"\n",
      "[1] \"2 Input replicate(s)\"\n",
      "[1] \"---------------------------------\"\n",
      "[1] \"Peak calling result: \"\n",
      "[1] \"7 peaks detected on merged data.\"\n",
      "[1] \"Please check 'peak.bed/xls' under ../exomepeak/hiv.control//WINDOW_15_STEP_15_LENGTH_15_FDR_0.025_ENRICH_0.2\"\n",
      "[1] \"9 consistent peaks detected on every replicates. (Recommended list)\"\n",
      "[1] \"Please check 'con_peak.bed/xls' under ../exomepeak/hiv.control//WINDOW_15_STEP_15_LENGTH_15_FDR_0.025_ENRICH_0.2\"\n"
     ]
    },
    {
     "name": "stderr",
     "output_type": "stream",
     "text": [
      "R[write to console]: 'select()' returned 1:many mapping between keys and columns\n",
      "\n"
     ]
    },
    {
     "name": "stdout",
     "output_type": "stream",
     "text": [
      "[1] \"Divide transcriptome into chr-gene-batch sections ...\"\n",
      "[1] \"Get Reads Count ...\"\n",
      "[1] \"This step may take a few hours ...\"\n",
      "[1] \"100 %\"\n",
      "[1] \"Get all the peaks ...\"\n",
      "[1] \"Get the consistent peaks ...\"\n",
      "[1] \"---------------------------------\"\n",
      "[1] \"The bam files used:\"\n",
      "[1] \"2 IP replicate(s)\"\n",
      "[1] \"2 Input replicate(s)\"\n",
      "[1] \"---------------------------------\"\n",
      "[1] \"Peak calling result: \"\n",
      "[1] \"7 peaks detected on merged data.\"\n",
      "[1] \"Please check 'peak.bed/xls' under ../exomepeak/hiv.control//WINDOW_15_STEP_15_LENGTH_15_FDR_0.025_ENRICH_1\"\n",
      "[1] \"9 consistent peaks detected on every replicates. (Recommended list)\"\n",
      "[1] \"Please check 'con_peak.bed/xls' under ../exomepeak/hiv.control//WINDOW_15_STEP_15_LENGTH_15_FDR_0.025_ENRICH_1\"\n"
     ]
    },
    {
     "name": "stderr",
     "output_type": "stream",
     "text": [
      "R[write to console]: 'select()' returned 1:many mapping between keys and columns\n",
      "\n"
     ]
    },
    {
     "name": "stdout",
     "output_type": "stream",
     "text": [
      "[1] \"Divide transcriptome into chr-gene-batch sections ...\"\n",
      "[1] \"Get Reads Count ...\"\n",
      "[1] \"This step may take a few hours ...\"\n",
      "[1] \"100 %\"\n",
      "[1] \"Get all the peaks ...\"\n",
      "[1] \"Get the consistent peaks ...\"\n",
      "[1] \"---------------------------------\"\n",
      "[1] \"The bam files used:\"\n",
      "[1] \"2 IP replicate(s)\"\n",
      "[1] \"2 Input replicate(s)\"\n",
      "[1] \"---------------------------------\"\n",
      "[1] \"Peak calling result: \"\n",
      "[1] \"7 peaks detected on merged data.\"\n",
      "[1] \"Please check 'peak.bed/xls' under ../exomepeak/hiv.control//WINDOW_15_STEP_15_LENGTH_20_FDR_0.01_ENRICH_0.1\"\n",
      "[1] \"7 consistent peaks detected on every replicates. (Recommended list)\"\n",
      "[1] \"Please check 'con_peak.bed/xls' under ../exomepeak/hiv.control//WINDOW_15_STEP_15_LENGTH_20_FDR_0.01_ENRICH_0.1\"\n"
     ]
    },
    {
     "name": "stderr",
     "output_type": "stream",
     "text": [
      "R[write to console]: 'select()' returned 1:many mapping between keys and columns\n",
      "\n"
     ]
    },
    {
     "name": "stdout",
     "output_type": "stream",
     "text": [
      "[1] \"Divide transcriptome into chr-gene-batch sections ...\"\n",
      "[1] \"Get Reads Count ...\"\n",
      "[1] \"This step may take a few hours ...\"\n",
      "[1] \"100 %\"\n",
      "[1] \"Get all the peaks ...\"\n",
      "[1] \"Get the consistent peaks ...\"\n",
      "[1] \"---------------------------------\"\n",
      "[1] \"The bam files used:\"\n",
      "[1] \"2 IP replicate(s)\"\n",
      "[1] \"2 Input replicate(s)\"\n",
      "[1] \"---------------------------------\"\n",
      "[1] \"Peak calling result: \"\n",
      "[1] \"7 peaks detected on merged data.\"\n",
      "[1] \"Please check 'peak.bed/xls' under ../exomepeak/hiv.control//WINDOW_15_STEP_15_LENGTH_20_FDR_0.01_ENRICH_0.2\"\n",
      "[1] \"7 consistent peaks detected on every replicates. (Recommended list)\"\n",
      "[1] \"Please check 'con_peak.bed/xls' under ../exomepeak/hiv.control//WINDOW_15_STEP_15_LENGTH_20_FDR_0.01_ENRICH_0.2\"\n"
     ]
    },
    {
     "name": "stderr",
     "output_type": "stream",
     "text": [
      "R[write to console]: 'select()' returned 1:many mapping between keys and columns\n",
      "\n"
     ]
    },
    {
     "name": "stdout",
     "output_type": "stream",
     "text": [
      "[1] \"Divide transcriptome into chr-gene-batch sections ...\"\n",
      "[1] \"Get Reads Count ...\"\n",
      "[1] \"This step may take a few hours ...\"\n",
      "[1] \"100 %\"\n",
      "[1] \"Get all the peaks ...\"\n",
      "[1] \"Get the consistent peaks ...\"\n",
      "[1] \"---------------------------------\"\n",
      "[1] \"The bam files used:\"\n",
      "[1] \"2 IP replicate(s)\"\n",
      "[1] \"2 Input replicate(s)\"\n",
      "[1] \"---------------------------------\"\n",
      "[1] \"Peak calling result: \"\n",
      "[1] \"7 peaks detected on merged data.\"\n",
      "[1] \"Please check 'peak.bed/xls' under ../exomepeak/hiv.control//WINDOW_15_STEP_15_LENGTH_20_FDR_0.01_ENRICH_1\"\n",
      "[1] \"7 consistent peaks detected on every replicates. (Recommended list)\"\n",
      "[1] \"Please check 'con_peak.bed/xls' under ../exomepeak/hiv.control//WINDOW_15_STEP_15_LENGTH_20_FDR_0.01_ENRICH_1\"\n"
     ]
    },
    {
     "name": "stderr",
     "output_type": "stream",
     "text": [
      "R[write to console]: 'select()' returned 1:many mapping between keys and columns\n",
      "\n"
     ]
    },
    {
     "name": "stdout",
     "output_type": "stream",
     "text": [
      "[1] \"Divide transcriptome into chr-gene-batch sections ...\"\n",
      "[1] \"Get Reads Count ...\"\n",
      "[1] \"This step may take a few hours ...\"\n",
      "[1] \"100 %\"\n",
      "[1] \"Get all the peaks ...\"\n",
      "[1] \"Get the consistent peaks ...\"\n",
      "[1] \"---------------------------------\"\n",
      "[1] \"The bam files used:\"\n",
      "[1] \"2 IP replicate(s)\"\n",
      "[1] \"2 Input replicate(s)\"\n",
      "[1] \"---------------------------------\"\n",
      "[1] \"Peak calling result: \"\n",
      "[1] \"7 peaks detected on merged data.\"\n",
      "[1] \"Please check 'peak.bed/xls' under ../exomepeak/hiv.control//WINDOW_15_STEP_15_LENGTH_20_FDR_0.025_ENRICH_0.1\"\n",
      "[1] \"7 consistent peaks detected on every replicates. (Recommended list)\"\n",
      "[1] \"Please check 'con_peak.bed/xls' under ../exomepeak/hiv.control//WINDOW_15_STEP_15_LENGTH_20_FDR_0.025_ENRICH_0.1\"\n"
     ]
    },
    {
     "name": "stderr",
     "output_type": "stream",
     "text": [
      "R[write to console]: 'select()' returned 1:many mapping between keys and columns\n",
      "\n"
     ]
    },
    {
     "name": "stdout",
     "output_type": "stream",
     "text": [
      "[1] \"Divide transcriptome into chr-gene-batch sections ...\"\n",
      "[1] \"Get Reads Count ...\"\n",
      "[1] \"This step may take a few hours ...\"\n",
      "[1] \"100 %\"\n",
      "[1] \"Get all the peaks ...\"\n",
      "[1] \"Get the consistent peaks ...\"\n",
      "[1] \"---------------------------------\"\n",
      "[1] \"The bam files used:\"\n",
      "[1] \"2 IP replicate(s)\"\n",
      "[1] \"2 Input replicate(s)\"\n",
      "[1] \"---------------------------------\"\n",
      "[1] \"Peak calling result: \"\n",
      "[1] \"7 peaks detected on merged data.\"\n",
      "[1] \"Please check 'peak.bed/xls' under ../exomepeak/hiv.control//WINDOW_15_STEP_15_LENGTH_20_FDR_0.025_ENRICH_0.2\"\n",
      "[1] \"7 consistent peaks detected on every replicates. (Recommended list)\"\n",
      "[1] \"Please check 'con_peak.bed/xls' under ../exomepeak/hiv.control//WINDOW_15_STEP_15_LENGTH_20_FDR_0.025_ENRICH_0.2\"\n"
     ]
    },
    {
     "name": "stderr",
     "output_type": "stream",
     "text": [
      "R[write to console]: 'select()' returned 1:many mapping between keys and columns\n",
      "\n"
     ]
    },
    {
     "name": "stdout",
     "output_type": "stream",
     "text": [
      "[1] \"Divide transcriptome into chr-gene-batch sections ...\"\n",
      "[1] \"Get Reads Count ...\"\n",
      "[1] \"This step may take a few hours ...\"\n",
      "[1] \"100 %\"\n",
      "[1] \"Get all the peaks ...\"\n",
      "[1] \"Get the consistent peaks ...\"\n",
      "[1] \"---------------------------------\"\n",
      "[1] \"The bam files used:\"\n",
      "[1] \"2 IP replicate(s)\"\n",
      "[1] \"2 Input replicate(s)\"\n",
      "[1] \"---------------------------------\"\n",
      "[1] \"Peak calling result: \"\n",
      "[1] \"7 peaks detected on merged data.\"\n",
      "[1] \"Please check 'peak.bed/xls' under ../exomepeak/hiv.control//WINDOW_15_STEP_15_LENGTH_20_FDR_0.025_ENRICH_1\"\n",
      "[1] \"7 consistent peaks detected on every replicates. (Recommended list)\"\n",
      "[1] \"Please check 'con_peak.bed/xls' under ../exomepeak/hiv.control//WINDOW_15_STEP_15_LENGTH_20_FDR_0.025_ENRICH_1\"\n"
     ]
    },
    {
     "name": "stderr",
     "output_type": "stream",
     "text": [
      "R[write to console]: 'select()' returned 1:many mapping between keys and columns\n",
      "\n"
     ]
    },
    {
     "name": "stdout",
     "output_type": "stream",
     "text": [
      "[1] \"Divide transcriptome into chr-gene-batch sections ...\"\n",
      "[1] \"Get Reads Count ...\"\n",
      "[1] \"This step may take a few hours ...\"\n",
      "[1] \"100 %\"\n",
      "[1] \"Get all the peaks ...\"\n",
      "[1] \"Get the consistent peaks ...\"\n",
      "[1] \"---------------------------------\"\n",
      "[1] \"The bam files used:\"\n",
      "[1] \"2 IP replicate(s)\"\n",
      "[1] \"2 Input replicate(s)\"\n",
      "[1] \"---------------------------------\"\n",
      "[1] \"Peak calling result: \"\n",
      "[1] \"9 peaks detected on merged data.\"\n",
      "[1] \"Please check 'peak.bed/xls' under ../exomepeak/hiv.control//WINDOW_15_STEP_15_LENGTH_25_FDR_0.01_ENRICH_0.1\"\n",
      "[1] \"8 consistent peaks detected on every replicates. (Recommended list)\"\n",
      "[1] \"Please check 'con_peak.bed/xls' under ../exomepeak/hiv.control//WINDOW_15_STEP_15_LENGTH_25_FDR_0.01_ENRICH_0.1\"\n"
     ]
    },
    {
     "name": "stderr",
     "output_type": "stream",
     "text": [
      "R[write to console]: 'select()' returned 1:many mapping between keys and columns\n",
      "\n"
     ]
    },
    {
     "name": "stdout",
     "output_type": "stream",
     "text": [
      "[1] \"Divide transcriptome into chr-gene-batch sections ...\"\n",
      "[1] \"Get Reads Count ...\"\n",
      "[1] \"This step may take a few hours ...\"\n",
      "[1] \"100 %\"\n",
      "[1] \"Get all the peaks ...\"\n",
      "[1] \"Get the consistent peaks ...\"\n",
      "[1] \"---------------------------------\"\n",
      "[1] \"The bam files used:\"\n",
      "[1] \"2 IP replicate(s)\"\n",
      "[1] \"2 Input replicate(s)\"\n",
      "[1] \"---------------------------------\"\n",
      "[1] \"Peak calling result: \"\n",
      "[1] \"9 peaks detected on merged data.\"\n",
      "[1] \"Please check 'peak.bed/xls' under ../exomepeak/hiv.control//WINDOW_15_STEP_15_LENGTH_25_FDR_0.01_ENRICH_0.2\"\n",
      "[1] \"8 consistent peaks detected on every replicates. (Recommended list)\"\n",
      "[1] \"Please check 'con_peak.bed/xls' under ../exomepeak/hiv.control//WINDOW_15_STEP_15_LENGTH_25_FDR_0.01_ENRICH_0.2\"\n"
     ]
    },
    {
     "name": "stderr",
     "output_type": "stream",
     "text": [
      "R[write to console]: 'select()' returned 1:many mapping between keys and columns\n",
      "\n"
     ]
    },
    {
     "name": "stdout",
     "output_type": "stream",
     "text": [
      "[1] \"Divide transcriptome into chr-gene-batch sections ...\"\n",
      "[1] \"Get Reads Count ...\"\n",
      "[1] \"This step may take a few hours ...\"\n",
      "[1] \"100 %\"\n",
      "[1] \"Get all the peaks ...\"\n",
      "[1] \"Get the consistent peaks ...\"\n",
      "[1] \"---------------------------------\"\n",
      "[1] \"The bam files used:\"\n",
      "[1] \"2 IP replicate(s)\"\n",
      "[1] \"2 Input replicate(s)\"\n",
      "[1] \"---------------------------------\"\n",
      "[1] \"Peak calling result: \"\n",
      "[1] \"9 peaks detected on merged data.\"\n",
      "[1] \"Please check 'peak.bed/xls' under ../exomepeak/hiv.control//WINDOW_15_STEP_15_LENGTH_25_FDR_0.01_ENRICH_1\"\n",
      "[1] \"8 consistent peaks detected on every replicates. (Recommended list)\"\n",
      "[1] \"Please check 'con_peak.bed/xls' under ../exomepeak/hiv.control//WINDOW_15_STEP_15_LENGTH_25_FDR_0.01_ENRICH_1\"\n"
     ]
    },
    {
     "name": "stderr",
     "output_type": "stream",
     "text": [
      "R[write to console]: 'select()' returned 1:many mapping between keys and columns\n",
      "\n"
     ]
    },
    {
     "name": "stdout",
     "output_type": "stream",
     "text": [
      "[1] \"Divide transcriptome into chr-gene-batch sections ...\"\n",
      "[1] \"Get Reads Count ...\"\n",
      "[1] \"This step may take a few hours ...\"\n",
      "[1] \"100 %\"\n",
      "[1] \"Get all the peaks ...\"\n",
      "[1] \"Get the consistent peaks ...\"\n",
      "[1] \"---------------------------------\"\n",
      "[1] \"The bam files used:\"\n",
      "[1] \"2 IP replicate(s)\"\n",
      "[1] \"2 Input replicate(s)\"\n",
      "[1] \"---------------------------------\"\n",
      "[1] \"Peak calling result: \"\n",
      "[1] \"9 peaks detected on merged data.\"\n",
      "[1] \"Please check 'peak.bed/xls' under ../exomepeak/hiv.control//WINDOW_15_STEP_15_LENGTH_25_FDR_0.025_ENRICH_0.1\"\n",
      "[1] \"8 consistent peaks detected on every replicates. (Recommended list)\"\n",
      "[1] \"Please check 'con_peak.bed/xls' under ../exomepeak/hiv.control//WINDOW_15_STEP_15_LENGTH_25_FDR_0.025_ENRICH_0.1\"\n"
     ]
    },
    {
     "name": "stderr",
     "output_type": "stream",
     "text": [
      "R[write to console]: 'select()' returned 1:many mapping between keys and columns\n",
      "\n"
     ]
    },
    {
     "name": "stdout",
     "output_type": "stream",
     "text": [
      "[1] \"Divide transcriptome into chr-gene-batch sections ...\"\n",
      "[1] \"Get Reads Count ...\"\n",
      "[1] \"This step may take a few hours ...\"\n",
      "[1] \"100 %\"\n",
      "[1] \"Get all the peaks ...\"\n",
      "[1] \"Get the consistent peaks ...\"\n",
      "[1] \"---------------------------------\"\n",
      "[1] \"The bam files used:\"\n",
      "[1] \"2 IP replicate(s)\"\n",
      "[1] \"2 Input replicate(s)\"\n",
      "[1] \"---------------------------------\"\n",
      "[1] \"Peak calling result: \"\n",
      "[1] \"9 peaks detected on merged data.\"\n",
      "[1] \"Please check 'peak.bed/xls' under ../exomepeak/hiv.control//WINDOW_15_STEP_15_LENGTH_25_FDR_0.025_ENRICH_0.2\"\n",
      "[1] \"8 consistent peaks detected on every replicates. (Recommended list)\"\n",
      "[1] \"Please check 'con_peak.bed/xls' under ../exomepeak/hiv.control//WINDOW_15_STEP_15_LENGTH_25_FDR_0.025_ENRICH_0.2\"\n"
     ]
    },
    {
     "name": "stderr",
     "output_type": "stream",
     "text": [
      "R[write to console]: 'select()' returned 1:many mapping between keys and columns\n",
      "\n"
     ]
    },
    {
     "name": "stdout",
     "output_type": "stream",
     "text": [
      "[1] \"Divide transcriptome into chr-gene-batch sections ...\"\n",
      "[1] \"Get Reads Count ...\"\n",
      "[1] \"This step may take a few hours ...\"\n",
      "[1] \"100 %\"\n",
      "[1] \"Get all the peaks ...\"\n",
      "[1] \"Get the consistent peaks ...\"\n",
      "[1] \"---------------------------------\"\n",
      "[1] \"The bam files used:\"\n",
      "[1] \"2 IP replicate(s)\"\n",
      "[1] \"2 Input replicate(s)\"\n",
      "[1] \"---------------------------------\"\n",
      "[1] \"Peak calling result: \"\n",
      "[1] \"9 peaks detected on merged data.\"\n",
      "[1] \"Please check 'peak.bed/xls' under ../exomepeak/hiv.control//WINDOW_15_STEP_15_LENGTH_25_FDR_0.025_ENRICH_1\"\n",
      "[1] \"8 consistent peaks detected on every replicates. (Recommended list)\"\n",
      "[1] \"Please check 'con_peak.bed/xls' under ../exomepeak/hiv.control//WINDOW_15_STEP_15_LENGTH_25_FDR_0.025_ENRICH_1\"\n"
     ]
    },
    {
     "name": "stderr",
     "output_type": "stream",
     "text": [
      "R[write to console]: 'select()' returned 1:many mapping between keys and columns\n",
      "\n"
     ]
    },
    {
     "name": "stdout",
     "output_type": "stream",
     "text": [
      "[1] \"Divide transcriptome into chr-gene-batch sections ...\"\n",
      "[1] \"Get Reads Count ...\"\n",
      "[1] \"This step may take a few hours ...\"\n",
      "[1] \"100 %\"\n",
      "[1] \"Get all the peaks ...\"\n",
      "[1] \"Get the consistent peaks ...\"\n",
      "[1] \"---------------------------------\"\n",
      "[1] \"The bam files used:\"\n",
      "[1] \"2 IP replicate(s)\"\n",
      "[1] \"2 Input replicate(s)\"\n",
      "[1] \"---------------------------------\"\n",
      "[1] \"Peak calling result: \"\n",
      "[1] \"10 peaks detected on merged data.\"\n",
      "[1] \"Please check 'peak.bed/xls' under ../exomepeak/hiv.control//WINDOW_30_STEP_5_LENGTH_15_FDR_0.01_ENRICH_0.1\"\n",
      "[1] \"10 consistent peaks detected on every replicates. (Recommended list)\"\n",
      "[1] \"Please check 'con_peak.bed/xls' under ../exomepeak/hiv.control//WINDOW_30_STEP_5_LENGTH_15_FDR_0.01_ENRICH_0.1\"\n"
     ]
    },
    {
     "name": "stderr",
     "output_type": "stream",
     "text": [
      "R[write to console]: 'select()' returned 1:many mapping between keys and columns\n",
      "\n"
     ]
    },
    {
     "name": "stdout",
     "output_type": "stream",
     "text": [
      "[1] \"Divide transcriptome into chr-gene-batch sections ...\"\n",
      "[1] \"Get Reads Count ...\"\n",
      "[1] \"This step may take a few hours ...\"\n",
      "[1] \"100 %\"\n",
      "[1] \"Get all the peaks ...\"\n",
      "[1] \"Get the consistent peaks ...\"\n",
      "[1] \"---------------------------------\"\n",
      "[1] \"The bam files used:\"\n",
      "[1] \"2 IP replicate(s)\"\n",
      "[1] \"2 Input replicate(s)\"\n",
      "[1] \"---------------------------------\"\n",
      "[1] \"Peak calling result: \"\n",
      "[1] \"10 peaks detected on merged data.\"\n",
      "[1] \"Please check 'peak.bed/xls' under ../exomepeak/hiv.control//WINDOW_30_STEP_5_LENGTH_15_FDR_0.01_ENRICH_0.2\"\n",
      "[1] \"10 consistent peaks detected on every replicates. (Recommended list)\"\n",
      "[1] \"Please check 'con_peak.bed/xls' under ../exomepeak/hiv.control//WINDOW_30_STEP_5_LENGTH_15_FDR_0.01_ENRICH_0.2\"\n"
     ]
    },
    {
     "name": "stderr",
     "output_type": "stream",
     "text": [
      "R[write to console]: 'select()' returned 1:many mapping between keys and columns\n",
      "\n"
     ]
    },
    {
     "name": "stdout",
     "output_type": "stream",
     "text": [
      "[1] \"Divide transcriptome into chr-gene-batch sections ...\"\n",
      "[1] \"Get Reads Count ...\"\n",
      "[1] \"This step may take a few hours ...\"\n",
      "[1] \"100 %\"\n",
      "[1] \"Get all the peaks ...\"\n",
      "[1] \"Get the consistent peaks ...\"\n",
      "[1] \"---------------------------------\"\n",
      "[1] \"The bam files used:\"\n",
      "[1] \"2 IP replicate(s)\"\n",
      "[1] \"2 Input replicate(s)\"\n",
      "[1] \"---------------------------------\"\n",
      "[1] \"Peak calling result: \"\n",
      "[1] \"10 peaks detected on merged data.\"\n",
      "[1] \"Please check 'peak.bed/xls' under ../exomepeak/hiv.control//WINDOW_30_STEP_5_LENGTH_15_FDR_0.01_ENRICH_1\"\n",
      "[1] \"10 consistent peaks detected on every replicates. (Recommended list)\"\n",
      "[1] \"Please check 'con_peak.bed/xls' under ../exomepeak/hiv.control//WINDOW_30_STEP_5_LENGTH_15_FDR_0.01_ENRICH_1\"\n"
     ]
    },
    {
     "name": "stderr",
     "output_type": "stream",
     "text": [
      "R[write to console]: 'select()' returned 1:many mapping between keys and columns\n",
      "\n"
     ]
    },
    {
     "name": "stdout",
     "output_type": "stream",
     "text": [
      "[1] \"Divide transcriptome into chr-gene-batch sections ...\"\n",
      "[1] \"Get Reads Count ...\"\n",
      "[1] \"This step may take a few hours ...\"\n",
      "[1] \"100 %\"\n",
      "[1] \"Get all the peaks ...\"\n",
      "[1] \"Get the consistent peaks ...\"\n",
      "[1] \"---------------------------------\"\n",
      "[1] \"The bam files used:\"\n",
      "[1] \"2 IP replicate(s)\"\n",
      "[1] \"2 Input replicate(s)\"\n",
      "[1] \"---------------------------------\"\n",
      "[1] \"Peak calling result: \"\n",
      "[1] \"10 peaks detected on merged data.\"\n",
      "[1] \"Please check 'peak.bed/xls' under ../exomepeak/hiv.control//WINDOW_30_STEP_5_LENGTH_15_FDR_0.025_ENRICH_0.1\"\n",
      "[1] \"10 consistent peaks detected on every replicates. (Recommended list)\"\n",
      "[1] \"Please check 'con_peak.bed/xls' under ../exomepeak/hiv.control//WINDOW_30_STEP_5_LENGTH_15_FDR_0.025_ENRICH_0.1\"\n"
     ]
    },
    {
     "name": "stderr",
     "output_type": "stream",
     "text": [
      "R[write to console]: 'select()' returned 1:many mapping between keys and columns\n",
      "\n"
     ]
    },
    {
     "name": "stdout",
     "output_type": "stream",
     "text": [
      "[1] \"Divide transcriptome into chr-gene-batch sections ...\"\n",
      "[1] \"Get Reads Count ...\"\n",
      "[1] \"This step may take a few hours ...\"\n",
      "[1] \"100 %\"\n",
      "[1] \"Get all the peaks ...\"\n",
      "[1] \"Get the consistent peaks ...\"\n",
      "[1] \"---------------------------------\"\n",
      "[1] \"The bam files used:\"\n",
      "[1] \"2 IP replicate(s)\"\n",
      "[1] \"2 Input replicate(s)\"\n",
      "[1] \"---------------------------------\"\n",
      "[1] \"Peak calling result: \"\n",
      "[1] \"10 peaks detected on merged data.\"\n",
      "[1] \"Please check 'peak.bed/xls' under ../exomepeak/hiv.control//WINDOW_30_STEP_5_LENGTH_15_FDR_0.025_ENRICH_0.2\"\n",
      "[1] \"10 consistent peaks detected on every replicates. (Recommended list)\"\n",
      "[1] \"Please check 'con_peak.bed/xls' under ../exomepeak/hiv.control//WINDOW_30_STEP_5_LENGTH_15_FDR_0.025_ENRICH_0.2\"\n"
     ]
    },
    {
     "name": "stderr",
     "output_type": "stream",
     "text": [
      "R[write to console]: 'select()' returned 1:many mapping between keys and columns\n",
      "\n"
     ]
    },
    {
     "name": "stdout",
     "output_type": "stream",
     "text": [
      "[1] \"Divide transcriptome into chr-gene-batch sections ...\"\n",
      "[1] \"Get Reads Count ...\"\n",
      "[1] \"This step may take a few hours ...\"\n",
      "[1] \"100 %\"\n",
      "[1] \"Get all the peaks ...\"\n",
      "[1] \"Get the consistent peaks ...\"\n",
      "[1] \"---------------------------------\"\n",
      "[1] \"The bam files used:\"\n",
      "[1] \"2 IP replicate(s)\"\n",
      "[1] \"2 Input replicate(s)\"\n",
      "[1] \"---------------------------------\"\n",
      "[1] \"Peak calling result: \"\n",
      "[1] \"10 peaks detected on merged data.\"\n",
      "[1] \"Please check 'peak.bed/xls' under ../exomepeak/hiv.control//WINDOW_30_STEP_5_LENGTH_15_FDR_0.025_ENRICH_1\"\n",
      "[1] \"10 consistent peaks detected on every replicates. (Recommended list)\"\n",
      "[1] \"Please check 'con_peak.bed/xls' under ../exomepeak/hiv.control//WINDOW_30_STEP_5_LENGTH_15_FDR_0.025_ENRICH_1\"\n"
     ]
    },
    {
     "name": "stderr",
     "output_type": "stream",
     "text": [
      "R[write to console]: 'select()' returned 1:many mapping between keys and columns\n",
      "\n"
     ]
    },
    {
     "name": "stdout",
     "output_type": "stream",
     "text": [
      "[1] \"Divide transcriptome into chr-gene-batch sections ...\"\n",
      "[1] \"Get Reads Count ...\"\n",
      "[1] \"This step may take a few hours ...\"\n",
      "[1] \"100 %\"\n",
      "[1] \"Get all the peaks ...\"\n",
      "[1] \"Get the consistent peaks ...\"\n",
      "[1] \"---------------------------------\"\n",
      "[1] \"The bam files used:\"\n",
      "[1] \"2 IP replicate(s)\"\n",
      "[1] \"2 Input replicate(s)\"\n",
      "[1] \"---------------------------------\"\n",
      "[1] \"Peak calling result: \"\n",
      "[1] \"9 peaks detected on merged data.\"\n",
      "[1] \"Please check 'peak.bed/xls' under ../exomepeak/hiv.control//WINDOW_30_STEP_5_LENGTH_20_FDR_0.01_ENRICH_0.1\"\n",
      "[1] \"7 consistent peaks detected on every replicates. (Recommended list)\"\n",
      "[1] \"Please check 'con_peak.bed/xls' under ../exomepeak/hiv.control//WINDOW_30_STEP_5_LENGTH_20_FDR_0.01_ENRICH_0.1\"\n"
     ]
    },
    {
     "name": "stderr",
     "output_type": "stream",
     "text": [
      "R[write to console]: 'select()' returned 1:many mapping between keys and columns\n",
      "\n"
     ]
    },
    {
     "name": "stdout",
     "output_type": "stream",
     "text": [
      "[1] \"Divide transcriptome into chr-gene-batch sections ...\"\n",
      "[1] \"Get Reads Count ...\"\n",
      "[1] \"This step may take a few hours ...\"\n",
      "[1] \"100 %\"\n",
      "[1] \"Get all the peaks ...\"\n",
      "[1] \"Get the consistent peaks ...\"\n",
      "[1] \"---------------------------------\"\n",
      "[1] \"The bam files used:\"\n",
      "[1] \"2 IP replicate(s)\"\n",
      "[1] \"2 Input replicate(s)\"\n",
      "[1] \"---------------------------------\"\n",
      "[1] \"Peak calling result: \"\n",
      "[1] \"9 peaks detected on merged data.\"\n",
      "[1] \"Please check 'peak.bed/xls' under ../exomepeak/hiv.control//WINDOW_30_STEP_5_LENGTH_20_FDR_0.01_ENRICH_0.2\"\n",
      "[1] \"7 consistent peaks detected on every replicates. (Recommended list)\"\n",
      "[1] \"Please check 'con_peak.bed/xls' under ../exomepeak/hiv.control//WINDOW_30_STEP_5_LENGTH_20_FDR_0.01_ENRICH_0.2\"\n"
     ]
    },
    {
     "name": "stderr",
     "output_type": "stream",
     "text": [
      "R[write to console]: 'select()' returned 1:many mapping between keys and columns\n",
      "\n"
     ]
    },
    {
     "name": "stdout",
     "output_type": "stream",
     "text": [
      "[1] \"Divide transcriptome into chr-gene-batch sections ...\"\n",
      "[1] \"Get Reads Count ...\"\n",
      "[1] \"This step may take a few hours ...\"\n",
      "[1] \"100 %\"\n",
      "[1] \"Get all the peaks ...\"\n",
      "[1] \"Get the consistent peaks ...\"\n",
      "[1] \"---------------------------------\"\n",
      "[1] \"The bam files used:\"\n",
      "[1] \"2 IP replicate(s)\"\n",
      "[1] \"2 Input replicate(s)\"\n",
      "[1] \"---------------------------------\"\n",
      "[1] \"Peak calling result: \"\n",
      "[1] \"9 peaks detected on merged data.\"\n",
      "[1] \"Please check 'peak.bed/xls' under ../exomepeak/hiv.control//WINDOW_30_STEP_5_LENGTH_20_FDR_0.01_ENRICH_1\"\n",
      "[1] \"7 consistent peaks detected on every replicates. (Recommended list)\"\n",
      "[1] \"Please check 'con_peak.bed/xls' under ../exomepeak/hiv.control//WINDOW_30_STEP_5_LENGTH_20_FDR_0.01_ENRICH_1\"\n"
     ]
    },
    {
     "name": "stderr",
     "output_type": "stream",
     "text": [
      "R[write to console]: 'select()' returned 1:many mapping between keys and columns\n",
      "\n"
     ]
    },
    {
     "name": "stdout",
     "output_type": "stream",
     "text": [
      "[1] \"Divide transcriptome into chr-gene-batch sections ...\"\n",
      "[1] \"Get Reads Count ...\"\n",
      "[1] \"This step may take a few hours ...\"\n",
      "[1] \"100 %\"\n",
      "[1] \"Get all the peaks ...\"\n",
      "[1] \"Get the consistent peaks ...\"\n",
      "[1] \"---------------------------------\"\n",
      "[1] \"The bam files used:\"\n",
      "[1] \"2 IP replicate(s)\"\n",
      "[1] \"2 Input replicate(s)\"\n",
      "[1] \"---------------------------------\"\n",
      "[1] \"Peak calling result: \"\n",
      "[1] \"9 peaks detected on merged data.\"\n",
      "[1] \"Please check 'peak.bed/xls' under ../exomepeak/hiv.control//WINDOW_30_STEP_5_LENGTH_20_FDR_0.025_ENRICH_0.1\"\n",
      "[1] \"7 consistent peaks detected on every replicates. (Recommended list)\"\n",
      "[1] \"Please check 'con_peak.bed/xls' under ../exomepeak/hiv.control//WINDOW_30_STEP_5_LENGTH_20_FDR_0.025_ENRICH_0.1\"\n"
     ]
    },
    {
     "name": "stderr",
     "output_type": "stream",
     "text": [
      "R[write to console]: 'select()' returned 1:many mapping between keys and columns\n",
      "\n"
     ]
    },
    {
     "name": "stdout",
     "output_type": "stream",
     "text": [
      "[1] \"Divide transcriptome into chr-gene-batch sections ...\"\n",
      "[1] \"Get Reads Count ...\"\n",
      "[1] \"This step may take a few hours ...\"\n",
      "[1] \"100 %\"\n",
      "[1] \"Get all the peaks ...\"\n",
      "[1] \"Get the consistent peaks ...\"\n",
      "[1] \"---------------------------------\"\n",
      "[1] \"The bam files used:\"\n",
      "[1] \"2 IP replicate(s)\"\n",
      "[1] \"2 Input replicate(s)\"\n",
      "[1] \"---------------------------------\"\n",
      "[1] \"Peak calling result: \"\n",
      "[1] \"9 peaks detected on merged data.\"\n",
      "[1] \"Please check 'peak.bed/xls' under ../exomepeak/hiv.control//WINDOW_30_STEP_5_LENGTH_20_FDR_0.025_ENRICH_0.2\"\n",
      "[1] \"7 consistent peaks detected on every replicates. (Recommended list)\"\n",
      "[1] \"Please check 'con_peak.bed/xls' under ../exomepeak/hiv.control//WINDOW_30_STEP_5_LENGTH_20_FDR_0.025_ENRICH_0.2\"\n"
     ]
    },
    {
     "name": "stderr",
     "output_type": "stream",
     "text": [
      "R[write to console]: 'select()' returned 1:many mapping between keys and columns\n",
      "\n"
     ]
    },
    {
     "name": "stdout",
     "output_type": "stream",
     "text": [
      "[1] \"Divide transcriptome into chr-gene-batch sections ...\"\n",
      "[1] \"Get Reads Count ...\"\n",
      "[1] \"This step may take a few hours ...\"\n",
      "[1] \"100 %\"\n",
      "[1] \"Get all the peaks ...\"\n",
      "[1] \"Get the consistent peaks ...\"\n",
      "[1] \"---------------------------------\"\n",
      "[1] \"The bam files used:\"\n",
      "[1] \"2 IP replicate(s)\"\n",
      "[1] \"2 Input replicate(s)\"\n",
      "[1] \"---------------------------------\"\n",
      "[1] \"Peak calling result: \"\n",
      "[1] \"9 peaks detected on merged data.\"\n",
      "[1] \"Please check 'peak.bed/xls' under ../exomepeak/hiv.control//WINDOW_30_STEP_5_LENGTH_20_FDR_0.025_ENRICH_1\"\n",
      "[1] \"7 consistent peaks detected on every replicates. (Recommended list)\"\n",
      "[1] \"Please check 'con_peak.bed/xls' under ../exomepeak/hiv.control//WINDOW_30_STEP_5_LENGTH_20_FDR_0.025_ENRICH_1\"\n"
     ]
    },
    {
     "name": "stderr",
     "output_type": "stream",
     "text": [
      "R[write to console]: 'select()' returned 1:many mapping between keys and columns\n",
      "\n"
     ]
    },
    {
     "name": "stdout",
     "output_type": "stream",
     "text": [
      "[1] \"Divide transcriptome into chr-gene-batch sections ...\"\n",
      "[1] \"Get Reads Count ...\"\n",
      "[1] \"This step may take a few hours ...\"\n",
      "[1] \"100 %\"\n",
      "[1] \"Get all the peaks ...\"\n",
      "[1] \"Get the consistent peaks ...\"\n",
      "[1] \"---------------------------------\"\n",
      "[1] \"The bam files used:\"\n",
      "[1] \"2 IP replicate(s)\"\n",
      "[1] \"2 Input replicate(s)\"\n",
      "[1] \"---------------------------------\"\n",
      "[1] \"Peak calling result: \"\n",
      "[1] \"10 peaks detected on merged data.\"\n",
      "[1] \"Please check 'peak.bed/xls' under ../exomepeak/hiv.control//WINDOW_30_STEP_5_LENGTH_25_FDR_0.01_ENRICH_0.1\"\n",
      "[1] \"8 consistent peaks detected on every replicates. (Recommended list)\"\n",
      "[1] \"Please check 'con_peak.bed/xls' under ../exomepeak/hiv.control//WINDOW_30_STEP_5_LENGTH_25_FDR_0.01_ENRICH_0.1\"\n"
     ]
    },
    {
     "name": "stderr",
     "output_type": "stream",
     "text": [
      "R[write to console]: 'select()' returned 1:many mapping between keys and columns\n",
      "\n"
     ]
    },
    {
     "name": "stdout",
     "output_type": "stream",
     "text": [
      "[1] \"Divide transcriptome into chr-gene-batch sections ...\"\n",
      "[1] \"Get Reads Count ...\"\n",
      "[1] \"This step may take a few hours ...\"\n",
      "[1] \"100 %\"\n",
      "[1] \"Get all the peaks ...\"\n",
      "[1] \"Get the consistent peaks ...\"\n",
      "[1] \"---------------------------------\"\n",
      "[1] \"The bam files used:\"\n",
      "[1] \"2 IP replicate(s)\"\n",
      "[1] \"2 Input replicate(s)\"\n",
      "[1] \"---------------------------------\"\n",
      "[1] \"Peak calling result: \"\n",
      "[1] \"10 peaks detected on merged data.\"\n",
      "[1] \"Please check 'peak.bed/xls' under ../exomepeak/hiv.control//WINDOW_30_STEP_5_LENGTH_25_FDR_0.01_ENRICH_0.2\"\n",
      "[1] \"8 consistent peaks detected on every replicates. (Recommended list)\"\n",
      "[1] \"Please check 'con_peak.bed/xls' under ../exomepeak/hiv.control//WINDOW_30_STEP_5_LENGTH_25_FDR_0.01_ENRICH_0.2\"\n"
     ]
    },
    {
     "name": "stderr",
     "output_type": "stream",
     "text": [
      "R[write to console]: 'select()' returned 1:many mapping between keys and columns\n",
      "\n"
     ]
    },
    {
     "name": "stdout",
     "output_type": "stream",
     "text": [
      "[1] \"Divide transcriptome into chr-gene-batch sections ...\"\n",
      "[1] \"Get Reads Count ...\"\n",
      "[1] \"This step may take a few hours ...\"\n",
      "[1] \"100 %\"\n",
      "[1] \"Get all the peaks ...\"\n",
      "[1] \"Get the consistent peaks ...\"\n",
      "[1] \"---------------------------------\"\n",
      "[1] \"The bam files used:\"\n",
      "[1] \"2 IP replicate(s)\"\n",
      "[1] \"2 Input replicate(s)\"\n",
      "[1] \"---------------------------------\"\n",
      "[1] \"Peak calling result: \"\n",
      "[1] \"10 peaks detected on merged data.\"\n",
      "[1] \"Please check 'peak.bed/xls' under ../exomepeak/hiv.control//WINDOW_30_STEP_5_LENGTH_25_FDR_0.01_ENRICH_1\"\n",
      "[1] \"8 consistent peaks detected on every replicates. (Recommended list)\"\n",
      "[1] \"Please check 'con_peak.bed/xls' under ../exomepeak/hiv.control//WINDOW_30_STEP_5_LENGTH_25_FDR_0.01_ENRICH_1\"\n"
     ]
    },
    {
     "name": "stderr",
     "output_type": "stream",
     "text": [
      "R[write to console]: 'select()' returned 1:many mapping between keys and columns\n",
      "\n"
     ]
    },
    {
     "name": "stdout",
     "output_type": "stream",
     "text": [
      "[1] \"Divide transcriptome into chr-gene-batch sections ...\"\n",
      "[1] \"Get Reads Count ...\"\n",
      "[1] \"This step may take a few hours ...\"\n",
      "[1] \"100 %\"\n",
      "[1] \"Get all the peaks ...\"\n",
      "[1] \"Get the consistent peaks ...\"\n",
      "[1] \"---------------------------------\"\n",
      "[1] \"The bam files used:\"\n",
      "[1] \"2 IP replicate(s)\"\n",
      "[1] \"2 Input replicate(s)\"\n",
      "[1] \"---------------------------------\"\n",
      "[1] \"Peak calling result: \"\n",
      "[1] \"10 peaks detected on merged data.\"\n",
      "[1] \"Please check 'peak.bed/xls' under ../exomepeak/hiv.control//WINDOW_30_STEP_5_LENGTH_25_FDR_0.025_ENRICH_0.1\"\n",
      "[1] \"8 consistent peaks detected on every replicates. (Recommended list)\"\n",
      "[1] \"Please check 'con_peak.bed/xls' under ../exomepeak/hiv.control//WINDOW_30_STEP_5_LENGTH_25_FDR_0.025_ENRICH_0.1\"\n"
     ]
    },
    {
     "name": "stderr",
     "output_type": "stream",
     "text": [
      "R[write to console]: 'select()' returned 1:many mapping between keys and columns\n",
      "\n"
     ]
    },
    {
     "name": "stdout",
     "output_type": "stream",
     "text": [
      "[1] \"Divide transcriptome into chr-gene-batch sections ...\"\n",
      "[1] \"Get Reads Count ...\"\n",
      "[1] \"This step may take a few hours ...\"\n",
      "[1] \"100 %\"\n",
      "[1] \"Get all the peaks ...\"\n",
      "[1] \"Get the consistent peaks ...\"\n",
      "[1] \"---------------------------------\"\n",
      "[1] \"The bam files used:\"\n",
      "[1] \"2 IP replicate(s)\"\n",
      "[1] \"2 Input replicate(s)\"\n",
      "[1] \"---------------------------------\"\n",
      "[1] \"Peak calling result: \"\n",
      "[1] \"10 peaks detected on merged data.\"\n",
      "[1] \"Please check 'peak.bed/xls' under ../exomepeak/hiv.control//WINDOW_30_STEP_5_LENGTH_25_FDR_0.025_ENRICH_0.2\"\n",
      "[1] \"8 consistent peaks detected on every replicates. (Recommended list)\"\n",
      "[1] \"Please check 'con_peak.bed/xls' under ../exomepeak/hiv.control//WINDOW_30_STEP_5_LENGTH_25_FDR_0.025_ENRICH_0.2\"\n"
     ]
    },
    {
     "name": "stderr",
     "output_type": "stream",
     "text": [
      "R[write to console]: 'select()' returned 1:many mapping between keys and columns\n",
      "\n"
     ]
    },
    {
     "name": "stdout",
     "output_type": "stream",
     "text": [
      "[1] \"Divide transcriptome into chr-gene-batch sections ...\"\n",
      "[1] \"Get Reads Count ...\"\n",
      "[1] \"This step may take a few hours ...\"\n",
      "[1] \"100 %\"\n",
      "[1] \"Get all the peaks ...\"\n",
      "[1] \"Get the consistent peaks ...\"\n",
      "[1] \"---------------------------------\"\n",
      "[1] \"The bam files used:\"\n",
      "[1] \"2 IP replicate(s)\"\n",
      "[1] \"2 Input replicate(s)\"\n",
      "[1] \"---------------------------------\"\n",
      "[1] \"Peak calling result: \"\n",
      "[1] \"10 peaks detected on merged data.\"\n",
      "[1] \"Please check 'peak.bed/xls' under ../exomepeak/hiv.control//WINDOW_30_STEP_5_LENGTH_25_FDR_0.025_ENRICH_1\"\n",
      "[1] \"8 consistent peaks detected on every replicates. (Recommended list)\"\n",
      "[1] \"Please check 'con_peak.bed/xls' under ../exomepeak/hiv.control//WINDOW_30_STEP_5_LENGTH_25_FDR_0.025_ENRICH_1\"\n"
     ]
    },
    {
     "name": "stderr",
     "output_type": "stream",
     "text": [
      "R[write to console]: 'select()' returned 1:many mapping between keys and columns\n",
      "\n"
     ]
    },
    {
     "name": "stdout",
     "output_type": "stream",
     "text": [
      "[1] \"Divide transcriptome into chr-gene-batch sections ...\"\n",
      "[1] \"Get Reads Count ...\"\n",
      "[1] \"This step may take a few hours ...\"\n",
      "[1] \"100 %\"\n",
      "[1] \"Get all the peaks ...\"\n",
      "[1] \"Get the consistent peaks ...\"\n",
      "[1] \"---------------------------------\"\n",
      "[1] \"The bam files used:\"\n",
      "[1] \"2 IP replicate(s)\"\n",
      "[1] \"2 Input replicate(s)\"\n",
      "[1] \"---------------------------------\"\n",
      "[1] \"Peak calling result: \"\n",
      "[1] \"9 peaks detected on merged data.\"\n",
      "[1] \"Please check 'peak.bed/xls' under ../exomepeak/hiv.control//WINDOW_30_STEP_10_LENGTH_15_FDR_0.01_ENRICH_0.1\"\n",
      "[1] \"7 consistent peaks detected on every replicates. (Recommended list)\"\n",
      "[1] \"Please check 'con_peak.bed/xls' under ../exomepeak/hiv.control//WINDOW_30_STEP_10_LENGTH_15_FDR_0.01_ENRICH_0.1\"\n"
     ]
    },
    {
     "name": "stderr",
     "output_type": "stream",
     "text": [
      "R[write to console]: 'select()' returned 1:many mapping between keys and columns\n",
      "\n"
     ]
    },
    {
     "name": "stdout",
     "output_type": "stream",
     "text": [
      "[1] \"Divide transcriptome into chr-gene-batch sections ...\"\n",
      "[1] \"Get Reads Count ...\"\n",
      "[1] \"This step may take a few hours ...\"\n",
      "[1] \"100 %\"\n",
      "[1] \"Get all the peaks ...\"\n",
      "[1] \"Get the consistent peaks ...\"\n",
      "[1] \"---------------------------------\"\n",
      "[1] \"The bam files used:\"\n",
      "[1] \"2 IP replicate(s)\"\n",
      "[1] \"2 Input replicate(s)\"\n",
      "[1] \"---------------------------------\"\n",
      "[1] \"Peak calling result: \"\n",
      "[1] \"9 peaks detected on merged data.\"\n",
      "[1] \"Please check 'peak.bed/xls' under ../exomepeak/hiv.control//WINDOW_30_STEP_10_LENGTH_15_FDR_0.01_ENRICH_0.2\"\n",
      "[1] \"7 consistent peaks detected on every replicates. (Recommended list)\"\n",
      "[1] \"Please check 'con_peak.bed/xls' under ../exomepeak/hiv.control//WINDOW_30_STEP_10_LENGTH_15_FDR_0.01_ENRICH_0.2\"\n"
     ]
    },
    {
     "name": "stderr",
     "output_type": "stream",
     "text": [
      "R[write to console]: 'select()' returned 1:many mapping between keys and columns\n",
      "\n"
     ]
    },
    {
     "name": "stdout",
     "output_type": "stream",
     "text": [
      "[1] \"Divide transcriptome into chr-gene-batch sections ...\"\n",
      "[1] \"Get Reads Count ...\"\n",
      "[1] \"This step may take a few hours ...\"\n",
      "[1] \"100 %\"\n",
      "[1] \"Get all the peaks ...\"\n",
      "[1] \"Get the consistent peaks ...\"\n",
      "[1] \"---------------------------------\"\n",
      "[1] \"The bam files used:\"\n",
      "[1] \"2 IP replicate(s)\"\n",
      "[1] \"2 Input replicate(s)\"\n",
      "[1] \"---------------------------------\"\n",
      "[1] \"Peak calling result: \"\n",
      "[1] \"9 peaks detected on merged data.\"\n",
      "[1] \"Please check 'peak.bed/xls' under ../exomepeak/hiv.control//WINDOW_30_STEP_10_LENGTH_15_FDR_0.01_ENRICH_1\"\n",
      "[1] \"7 consistent peaks detected on every replicates. (Recommended list)\"\n",
      "[1] \"Please check 'con_peak.bed/xls' under ../exomepeak/hiv.control//WINDOW_30_STEP_10_LENGTH_15_FDR_0.01_ENRICH_1\"\n"
     ]
    },
    {
     "name": "stderr",
     "output_type": "stream",
     "text": [
      "R[write to console]: 'select()' returned 1:many mapping between keys and columns\n",
      "\n"
     ]
    },
    {
     "name": "stdout",
     "output_type": "stream",
     "text": [
      "[1] \"Divide transcriptome into chr-gene-batch sections ...\"\n",
      "[1] \"Get Reads Count ...\"\n",
      "[1] \"This step may take a few hours ...\"\n",
      "[1] \"100 %\"\n",
      "[1] \"Get all the peaks ...\"\n",
      "[1] \"Get the consistent peaks ...\"\n",
      "[1] \"---------------------------------\"\n",
      "[1] \"The bam files used:\"\n",
      "[1] \"2 IP replicate(s)\"\n",
      "[1] \"2 Input replicate(s)\"\n",
      "[1] \"---------------------------------\"\n",
      "[1] \"Peak calling result: \"\n",
      "[1] \"9 peaks detected on merged data.\"\n",
      "[1] \"Please check 'peak.bed/xls' under ../exomepeak/hiv.control//WINDOW_30_STEP_10_LENGTH_15_FDR_0.025_ENRICH_0.1\"\n",
      "[1] \"7 consistent peaks detected on every replicates. (Recommended list)\"\n",
      "[1] \"Please check 'con_peak.bed/xls' under ../exomepeak/hiv.control//WINDOW_30_STEP_10_LENGTH_15_FDR_0.025_ENRICH_0.1\"\n"
     ]
    },
    {
     "name": "stderr",
     "output_type": "stream",
     "text": [
      "R[write to console]: 'select()' returned 1:many mapping between keys and columns\n",
      "\n"
     ]
    },
    {
     "name": "stdout",
     "output_type": "stream",
     "text": [
      "[1] \"Divide transcriptome into chr-gene-batch sections ...\"\n",
      "[1] \"Get Reads Count ...\"\n",
      "[1] \"This step may take a few hours ...\"\n",
      "[1] \"100 %\"\n",
      "[1] \"Get all the peaks ...\"\n",
      "[1] \"Get the consistent peaks ...\"\n",
      "[1] \"---------------------------------\"\n",
      "[1] \"The bam files used:\"\n",
      "[1] \"2 IP replicate(s)\"\n",
      "[1] \"2 Input replicate(s)\"\n",
      "[1] \"---------------------------------\"\n",
      "[1] \"Peak calling result: \"\n",
      "[1] \"9 peaks detected on merged data.\"\n",
      "[1] \"Please check 'peak.bed/xls' under ../exomepeak/hiv.control//WINDOW_30_STEP_10_LENGTH_15_FDR_0.025_ENRICH_0.2\"\n",
      "[1] \"7 consistent peaks detected on every replicates. (Recommended list)\"\n",
      "[1] \"Please check 'con_peak.bed/xls' under ../exomepeak/hiv.control//WINDOW_30_STEP_10_LENGTH_15_FDR_0.025_ENRICH_0.2\"\n"
     ]
    },
    {
     "name": "stderr",
     "output_type": "stream",
     "text": [
      "R[write to console]: 'select()' returned 1:many mapping between keys and columns\n",
      "\n"
     ]
    },
    {
     "name": "stdout",
     "output_type": "stream",
     "text": [
      "[1] \"Divide transcriptome into chr-gene-batch sections ...\"\n",
      "[1] \"Get Reads Count ...\"\n",
      "[1] \"This step may take a few hours ...\"\n",
      "[1] \"100 %\"\n",
      "[1] \"Get all the peaks ...\"\n",
      "[1] \"Get the consistent peaks ...\"\n",
      "[1] \"---------------------------------\"\n",
      "[1] \"The bam files used:\"\n",
      "[1] \"2 IP replicate(s)\"\n",
      "[1] \"2 Input replicate(s)\"\n",
      "[1] \"---------------------------------\"\n",
      "[1] \"Peak calling result: \"\n",
      "[1] \"9 peaks detected on merged data.\"\n",
      "[1] \"Please check 'peak.bed/xls' under ../exomepeak/hiv.control//WINDOW_30_STEP_10_LENGTH_15_FDR_0.025_ENRICH_1\"\n",
      "[1] \"7 consistent peaks detected on every replicates. (Recommended list)\"\n",
      "[1] \"Please check 'con_peak.bed/xls' under ../exomepeak/hiv.control//WINDOW_30_STEP_10_LENGTH_15_FDR_0.025_ENRICH_1\"\n"
     ]
    },
    {
     "name": "stderr",
     "output_type": "stream",
     "text": [
      "R[write to console]: 'select()' returned 1:many mapping between keys and columns\n",
      "\n"
     ]
    },
    {
     "name": "stdout",
     "output_type": "stream",
     "text": [
      "[1] \"Divide transcriptome into chr-gene-batch sections ...\"\n",
      "[1] \"Get Reads Count ...\"\n",
      "[1] \"This step may take a few hours ...\"\n",
      "[1] \"100 %\"\n",
      "[1] \"Get all the peaks ...\"\n",
      "[1] \"Get the consistent peaks ...\"\n",
      "[1] \"---------------------------------\"\n",
      "[1] \"The bam files used:\"\n",
      "[1] \"2 IP replicate(s)\"\n",
      "[1] \"2 Input replicate(s)\"\n",
      "[1] \"---------------------------------\"\n",
      "[1] \"Peak calling result: \"\n",
      "[1] \"9 peaks detected on merged data.\"\n",
      "[1] \"Please check 'peak.bed/xls' under ../exomepeak/hiv.control//WINDOW_30_STEP_10_LENGTH_20_FDR_0.01_ENRICH_0.1\"\n",
      "[1] \"7 consistent peaks detected on every replicates. (Recommended list)\"\n",
      "[1] \"Please check 'con_peak.bed/xls' under ../exomepeak/hiv.control//WINDOW_30_STEP_10_LENGTH_20_FDR_0.01_ENRICH_0.1\"\n"
     ]
    },
    {
     "name": "stderr",
     "output_type": "stream",
     "text": [
      "R[write to console]: 'select()' returned 1:many mapping between keys and columns\n",
      "\n"
     ]
    },
    {
     "name": "stdout",
     "output_type": "stream",
     "text": [
      "[1] \"Divide transcriptome into chr-gene-batch sections ...\"\n",
      "[1] \"Get Reads Count ...\"\n",
      "[1] \"This step may take a few hours ...\"\n",
      "[1] \"100 %\"\n",
      "[1] \"Get all the peaks ...\"\n",
      "[1] \"Get the consistent peaks ...\"\n",
      "[1] \"---------------------------------\"\n",
      "[1] \"The bam files used:\"\n",
      "[1] \"2 IP replicate(s)\"\n",
      "[1] \"2 Input replicate(s)\"\n",
      "[1] \"---------------------------------\"\n",
      "[1] \"Peak calling result: \"\n",
      "[1] \"9 peaks detected on merged data.\"\n",
      "[1] \"Please check 'peak.bed/xls' under ../exomepeak/hiv.control//WINDOW_30_STEP_10_LENGTH_20_FDR_0.01_ENRICH_0.2\"\n",
      "[1] \"7 consistent peaks detected on every replicates. (Recommended list)\"\n",
      "[1] \"Please check 'con_peak.bed/xls' under ../exomepeak/hiv.control//WINDOW_30_STEP_10_LENGTH_20_FDR_0.01_ENRICH_0.2\"\n"
     ]
    },
    {
     "name": "stderr",
     "output_type": "stream",
     "text": [
      "R[write to console]: 'select()' returned 1:many mapping between keys and columns\n",
      "\n"
     ]
    },
    {
     "name": "stdout",
     "output_type": "stream",
     "text": [
      "[1] \"Divide transcriptome into chr-gene-batch sections ...\"\n",
      "[1] \"Get Reads Count ...\"\n",
      "[1] \"This step may take a few hours ...\"\n",
      "[1] \"100 %\"\n",
      "[1] \"Get all the peaks ...\"\n",
      "[1] \"Get the consistent peaks ...\"\n",
      "[1] \"---------------------------------\"\n",
      "[1] \"The bam files used:\"\n",
      "[1] \"2 IP replicate(s)\"\n",
      "[1] \"2 Input replicate(s)\"\n",
      "[1] \"---------------------------------\"\n",
      "[1] \"Peak calling result: \"\n",
      "[1] \"9 peaks detected on merged data.\"\n",
      "[1] \"Please check 'peak.bed/xls' under ../exomepeak/hiv.control//WINDOW_30_STEP_10_LENGTH_20_FDR_0.01_ENRICH_1\"\n",
      "[1] \"7 consistent peaks detected on every replicates. (Recommended list)\"\n",
      "[1] \"Please check 'con_peak.bed/xls' under ../exomepeak/hiv.control//WINDOW_30_STEP_10_LENGTH_20_FDR_0.01_ENRICH_1\"\n"
     ]
    },
    {
     "name": "stderr",
     "output_type": "stream",
     "text": [
      "R[write to console]: 'select()' returned 1:many mapping between keys and columns\n",
      "\n"
     ]
    },
    {
     "name": "stdout",
     "output_type": "stream",
     "text": [
      "[1] \"Divide transcriptome into chr-gene-batch sections ...\"\n",
      "[1] \"Get Reads Count ...\"\n",
      "[1] \"This step may take a few hours ...\"\n",
      "[1] \"100 %\"\n",
      "[1] \"Get all the peaks ...\"\n",
      "[1] \"Get the consistent peaks ...\"\n",
      "[1] \"---------------------------------\"\n",
      "[1] \"The bam files used:\"\n",
      "[1] \"2 IP replicate(s)\"\n",
      "[1] \"2 Input replicate(s)\"\n",
      "[1] \"---------------------------------\"\n",
      "[1] \"Peak calling result: \"\n",
      "[1] \"9 peaks detected on merged data.\"\n",
      "[1] \"Please check 'peak.bed/xls' under ../exomepeak/hiv.control//WINDOW_30_STEP_10_LENGTH_20_FDR_0.025_ENRICH_0.1\"\n",
      "[1] \"7 consistent peaks detected on every replicates. (Recommended list)\"\n",
      "[1] \"Please check 'con_peak.bed/xls' under ../exomepeak/hiv.control//WINDOW_30_STEP_10_LENGTH_20_FDR_0.025_ENRICH_0.1\"\n"
     ]
    },
    {
     "name": "stderr",
     "output_type": "stream",
     "text": [
      "R[write to console]: 'select()' returned 1:many mapping between keys and columns\n",
      "\n"
     ]
    },
    {
     "name": "stdout",
     "output_type": "stream",
     "text": [
      "[1] \"Divide transcriptome into chr-gene-batch sections ...\"\n",
      "[1] \"Get Reads Count ...\"\n",
      "[1] \"This step may take a few hours ...\"\n",
      "[1] \"100 %\"\n",
      "[1] \"Get all the peaks ...\"\n",
      "[1] \"Get the consistent peaks ...\"\n",
      "[1] \"---------------------------------\"\n",
      "[1] \"The bam files used:\"\n",
      "[1] \"2 IP replicate(s)\"\n",
      "[1] \"2 Input replicate(s)\"\n",
      "[1] \"---------------------------------\"\n",
      "[1] \"Peak calling result: \"\n",
      "[1] \"9 peaks detected on merged data.\"\n",
      "[1] \"Please check 'peak.bed/xls' under ../exomepeak/hiv.control//WINDOW_30_STEP_10_LENGTH_20_FDR_0.025_ENRICH_0.2\"\n",
      "[1] \"7 consistent peaks detected on every replicates. (Recommended list)\"\n",
      "[1] \"Please check 'con_peak.bed/xls' under ../exomepeak/hiv.control//WINDOW_30_STEP_10_LENGTH_20_FDR_0.025_ENRICH_0.2\"\n"
     ]
    },
    {
     "name": "stderr",
     "output_type": "stream",
     "text": [
      "R[write to console]: 'select()' returned 1:many mapping between keys and columns\n",
      "\n"
     ]
    },
    {
     "name": "stdout",
     "output_type": "stream",
     "text": [
      "[1] \"Divide transcriptome into chr-gene-batch sections ...\"\n",
      "[1] \"Get Reads Count ...\"\n",
      "[1] \"This step may take a few hours ...\"\n",
      "[1] \"100 %\"\n",
      "[1] \"Get all the peaks ...\"\n",
      "[1] \"Get the consistent peaks ...\"\n",
      "[1] \"---------------------------------\"\n",
      "[1] \"The bam files used:\"\n",
      "[1] \"2 IP replicate(s)\"\n",
      "[1] \"2 Input replicate(s)\"\n",
      "[1] \"---------------------------------\"\n",
      "[1] \"Peak calling result: \"\n",
      "[1] \"9 peaks detected on merged data.\"\n",
      "[1] \"Please check 'peak.bed/xls' under ../exomepeak/hiv.control//WINDOW_30_STEP_10_LENGTH_20_FDR_0.025_ENRICH_1\"\n",
      "[1] \"7 consistent peaks detected on every replicates. (Recommended list)\"\n",
      "[1] \"Please check 'con_peak.bed/xls' under ../exomepeak/hiv.control//WINDOW_30_STEP_10_LENGTH_20_FDR_0.025_ENRICH_1\"\n"
     ]
    },
    {
     "name": "stderr",
     "output_type": "stream",
     "text": [
      "R[write to console]: 'select()' returned 1:many mapping between keys and columns\n",
      "\n"
     ]
    },
    {
     "name": "stdout",
     "output_type": "stream",
     "text": [
      "[1] \"Divide transcriptome into chr-gene-batch sections ...\"\n",
      "[1] \"Get Reads Count ...\"\n",
      "[1] \"This step may take a few hours ...\"\n",
      "[1] \"100 %\"\n",
      "[1] \"Get all the peaks ...\"\n",
      "[1] \"Get the consistent peaks ...\"\n",
      "[1] \"---------------------------------\"\n",
      "[1] \"The bam files used:\"\n",
      "[1] \"2 IP replicate(s)\"\n",
      "[1] \"2 Input replicate(s)\"\n",
      "[1] \"---------------------------------\"\n",
      "[1] \"Peak calling result: \"\n",
      "[1] \"9 peaks detected on merged data.\"\n",
      "[1] \"Please check 'peak.bed/xls' under ../exomepeak/hiv.control//WINDOW_30_STEP_10_LENGTH_25_FDR_0.01_ENRICH_0.1\"\n",
      "[1] \"7 consistent peaks detected on every replicates. (Recommended list)\"\n",
      "[1] \"Please check 'con_peak.bed/xls' under ../exomepeak/hiv.control//WINDOW_30_STEP_10_LENGTH_25_FDR_0.01_ENRICH_0.1\"\n"
     ]
    },
    {
     "name": "stderr",
     "output_type": "stream",
     "text": [
      "R[write to console]: 'select()' returned 1:many mapping between keys and columns\n",
      "\n"
     ]
    },
    {
     "name": "stdout",
     "output_type": "stream",
     "text": [
      "[1] \"Divide transcriptome into chr-gene-batch sections ...\"\n",
      "[1] \"Get Reads Count ...\"\n",
      "[1] \"This step may take a few hours ...\"\n",
      "[1] \"100 %\"\n",
      "[1] \"Get all the peaks ...\"\n",
      "[1] \"Get the consistent peaks ...\"\n",
      "[1] \"---------------------------------\"\n",
      "[1] \"The bam files used:\"\n",
      "[1] \"2 IP replicate(s)\"\n",
      "[1] \"2 Input replicate(s)\"\n",
      "[1] \"---------------------------------\"\n",
      "[1] \"Peak calling result: \"\n",
      "[1] \"9 peaks detected on merged data.\"\n",
      "[1] \"Please check 'peak.bed/xls' under ../exomepeak/hiv.control//WINDOW_30_STEP_10_LENGTH_25_FDR_0.01_ENRICH_0.2\"\n",
      "[1] \"7 consistent peaks detected on every replicates. (Recommended list)\"\n",
      "[1] \"Please check 'con_peak.bed/xls' under ../exomepeak/hiv.control//WINDOW_30_STEP_10_LENGTH_25_FDR_0.01_ENRICH_0.2\"\n"
     ]
    },
    {
     "name": "stderr",
     "output_type": "stream",
     "text": [
      "R[write to console]: 'select()' returned 1:many mapping between keys and columns\n",
      "\n"
     ]
    },
    {
     "name": "stdout",
     "output_type": "stream",
     "text": [
      "[1] \"Divide transcriptome into chr-gene-batch sections ...\"\n",
      "[1] \"Get Reads Count ...\"\n",
      "[1] \"This step may take a few hours ...\"\n",
      "[1] \"100 %\"\n",
      "[1] \"Get all the peaks ...\"\n",
      "[1] \"Get the consistent peaks ...\"\n",
      "[1] \"---------------------------------\"\n",
      "[1] \"The bam files used:\"\n",
      "[1] \"2 IP replicate(s)\"\n",
      "[1] \"2 Input replicate(s)\"\n",
      "[1] \"---------------------------------\"\n",
      "[1] \"Peak calling result: \"\n",
      "[1] \"9 peaks detected on merged data.\"\n",
      "[1] \"Please check 'peak.bed/xls' under ../exomepeak/hiv.control//WINDOW_30_STEP_10_LENGTH_25_FDR_0.01_ENRICH_1\"\n",
      "[1] \"7 consistent peaks detected on every replicates. (Recommended list)\"\n",
      "[1] \"Please check 'con_peak.bed/xls' under ../exomepeak/hiv.control//WINDOW_30_STEP_10_LENGTH_25_FDR_0.01_ENRICH_1\"\n"
     ]
    },
    {
     "name": "stderr",
     "output_type": "stream",
     "text": [
      "R[write to console]: 'select()' returned 1:many mapping between keys and columns\n",
      "\n"
     ]
    },
    {
     "name": "stdout",
     "output_type": "stream",
     "text": [
      "[1] \"Divide transcriptome into chr-gene-batch sections ...\"\n",
      "[1] \"Get Reads Count ...\"\n",
      "[1] \"This step may take a few hours ...\"\n",
      "[1] \"100 %\"\n",
      "[1] \"Get all the peaks ...\"\n",
      "[1] \"Get the consistent peaks ...\"\n",
      "[1] \"---------------------------------\"\n",
      "[1] \"The bam files used:\"\n",
      "[1] \"2 IP replicate(s)\"\n",
      "[1] \"2 Input replicate(s)\"\n",
      "[1] \"---------------------------------\"\n",
      "[1] \"Peak calling result: \"\n",
      "[1] \"9 peaks detected on merged data.\"\n",
      "[1] \"Please check 'peak.bed/xls' under ../exomepeak/hiv.control//WINDOW_30_STEP_10_LENGTH_25_FDR_0.025_ENRICH_0.1\"\n",
      "[1] \"7 consistent peaks detected on every replicates. (Recommended list)\"\n",
      "[1] \"Please check 'con_peak.bed/xls' under ../exomepeak/hiv.control//WINDOW_30_STEP_10_LENGTH_25_FDR_0.025_ENRICH_0.1\"\n"
     ]
    },
    {
     "name": "stderr",
     "output_type": "stream",
     "text": [
      "R[write to console]: 'select()' returned 1:many mapping between keys and columns\n",
      "\n"
     ]
    },
    {
     "name": "stdout",
     "output_type": "stream",
     "text": [
      "[1] \"Divide transcriptome into chr-gene-batch sections ...\"\n",
      "[1] \"Get Reads Count ...\"\n",
      "[1] \"This step may take a few hours ...\"\n",
      "[1] \"100 %\"\n",
      "[1] \"Get all the peaks ...\"\n",
      "[1] \"Get the consistent peaks ...\"\n",
      "[1] \"---------------------------------\"\n",
      "[1] \"The bam files used:\"\n",
      "[1] \"2 IP replicate(s)\"\n",
      "[1] \"2 Input replicate(s)\"\n",
      "[1] \"---------------------------------\"\n",
      "[1] \"Peak calling result: \"\n",
      "[1] \"9 peaks detected on merged data.\"\n",
      "[1] \"Please check 'peak.bed/xls' under ../exomepeak/hiv.control//WINDOW_30_STEP_10_LENGTH_25_FDR_0.025_ENRICH_0.2\"\n",
      "[1] \"7 consistent peaks detected on every replicates. (Recommended list)\"\n",
      "[1] \"Please check 'con_peak.bed/xls' under ../exomepeak/hiv.control//WINDOW_30_STEP_10_LENGTH_25_FDR_0.025_ENRICH_0.2\"\n"
     ]
    },
    {
     "name": "stderr",
     "output_type": "stream",
     "text": [
      "R[write to console]: 'select()' returned 1:many mapping between keys and columns\n",
      "\n"
     ]
    },
    {
     "name": "stdout",
     "output_type": "stream",
     "text": [
      "[1] \"Divide transcriptome into chr-gene-batch sections ...\"\n",
      "[1] \"Get Reads Count ...\"\n",
      "[1] \"This step may take a few hours ...\"\n",
      "[1] \"100 %\"\n",
      "[1] \"Get all the peaks ...\"\n",
      "[1] \"Get the consistent peaks ...\"\n",
      "[1] \"---------------------------------\"\n",
      "[1] \"The bam files used:\"\n",
      "[1] \"2 IP replicate(s)\"\n",
      "[1] \"2 Input replicate(s)\"\n",
      "[1] \"---------------------------------\"\n",
      "[1] \"Peak calling result: \"\n",
      "[1] \"9 peaks detected on merged data.\"\n",
      "[1] \"Please check 'peak.bed/xls' under ../exomepeak/hiv.control//WINDOW_30_STEP_10_LENGTH_25_FDR_0.025_ENRICH_1\"\n",
      "[1] \"7 consistent peaks detected on every replicates. (Recommended list)\"\n",
      "[1] \"Please check 'con_peak.bed/xls' under ../exomepeak/hiv.control//WINDOW_30_STEP_10_LENGTH_25_FDR_0.025_ENRICH_1\"\n"
     ]
    },
    {
     "name": "stderr",
     "output_type": "stream",
     "text": [
      "R[write to console]: 'select()' returned 1:many mapping between keys and columns\n",
      "\n"
     ]
    },
    {
     "name": "stdout",
     "output_type": "stream",
     "text": [
      "[1] \"Divide transcriptome into chr-gene-batch sections ...\"\n",
      "[1] \"Get Reads Count ...\"\n",
      "[1] \"This step may take a few hours ...\"\n",
      "[1] \"100 %\"\n",
      "[1] \"Get all the peaks ...\"\n",
      "[1] \"Get the consistent peaks ...\"\n",
      "[1] \"---------------------------------\"\n",
      "[1] \"The bam files used:\"\n",
      "[1] \"2 IP replicate(s)\"\n",
      "[1] \"2 Input replicate(s)\"\n",
      "[1] \"---------------------------------\"\n",
      "[1] \"Peak calling result: \"\n",
      "[1] \"8 peaks detected on merged data.\"\n",
      "[1] \"Please check 'peak.bed/xls' under ../exomepeak/hiv.control//WINDOW_30_STEP_15_LENGTH_15_FDR_0.01_ENRICH_0.1\"\n",
      "[1] \"7 consistent peaks detected on every replicates. (Recommended list)\"\n",
      "[1] \"Please check 'con_peak.bed/xls' under ../exomepeak/hiv.control//WINDOW_30_STEP_15_LENGTH_15_FDR_0.01_ENRICH_0.1\"\n"
     ]
    },
    {
     "name": "stderr",
     "output_type": "stream",
     "text": [
      "R[write to console]: 'select()' returned 1:many mapping between keys and columns\n",
      "\n"
     ]
    },
    {
     "name": "stdout",
     "output_type": "stream",
     "text": [
      "[1] \"Divide transcriptome into chr-gene-batch sections ...\"\n",
      "[1] \"Get Reads Count ...\"\n",
      "[1] \"This step may take a few hours ...\"\n",
      "[1] \"100 %\"\n",
      "[1] \"Get all the peaks ...\"\n",
      "[1] \"Get the consistent peaks ...\"\n",
      "[1] \"---------------------------------\"\n",
      "[1] \"The bam files used:\"\n",
      "[1] \"2 IP replicate(s)\"\n",
      "[1] \"2 Input replicate(s)\"\n",
      "[1] \"---------------------------------\"\n",
      "[1] \"Peak calling result: \"\n",
      "[1] \"8 peaks detected on merged data.\"\n",
      "[1] \"Please check 'peak.bed/xls' under ../exomepeak/hiv.control//WINDOW_30_STEP_15_LENGTH_15_FDR_0.01_ENRICH_0.2\"\n",
      "[1] \"7 consistent peaks detected on every replicates. (Recommended list)\"\n",
      "[1] \"Please check 'con_peak.bed/xls' under ../exomepeak/hiv.control//WINDOW_30_STEP_15_LENGTH_15_FDR_0.01_ENRICH_0.2\"\n"
     ]
    },
    {
     "name": "stderr",
     "output_type": "stream",
     "text": [
      "R[write to console]: 'select()' returned 1:many mapping between keys and columns\n",
      "\n"
     ]
    },
    {
     "name": "stdout",
     "output_type": "stream",
     "text": [
      "[1] \"Divide transcriptome into chr-gene-batch sections ...\"\n",
      "[1] \"Get Reads Count ...\"\n",
      "[1] \"This step may take a few hours ...\"\n",
      "[1] \"100 %\"\n",
      "[1] \"Get all the peaks ...\"\n",
      "[1] \"Get the consistent peaks ...\"\n",
      "[1] \"---------------------------------\"\n",
      "[1] \"The bam files used:\"\n",
      "[1] \"2 IP replicate(s)\"\n",
      "[1] \"2 Input replicate(s)\"\n",
      "[1] \"---------------------------------\"\n",
      "[1] \"Peak calling result: \"\n",
      "[1] \"8 peaks detected on merged data.\"\n",
      "[1] \"Please check 'peak.bed/xls' under ../exomepeak/hiv.control//WINDOW_30_STEP_15_LENGTH_15_FDR_0.01_ENRICH_1\"\n",
      "[1] \"7 consistent peaks detected on every replicates. (Recommended list)\"\n",
      "[1] \"Please check 'con_peak.bed/xls' under ../exomepeak/hiv.control//WINDOW_30_STEP_15_LENGTH_15_FDR_0.01_ENRICH_1\"\n"
     ]
    },
    {
     "name": "stderr",
     "output_type": "stream",
     "text": [
      "R[write to console]: 'select()' returned 1:many mapping between keys and columns\n",
      "\n"
     ]
    },
    {
     "name": "stdout",
     "output_type": "stream",
     "text": [
      "[1] \"Divide transcriptome into chr-gene-batch sections ...\"\n",
      "[1] \"Get Reads Count ...\"\n",
      "[1] \"This step may take a few hours ...\"\n",
      "[1] \"100 %\"\n",
      "[1] \"Get all the peaks ...\"\n",
      "[1] \"Get the consistent peaks ...\"\n",
      "[1] \"---------------------------------\"\n",
      "[1] \"The bam files used:\"\n",
      "[1] \"2 IP replicate(s)\"\n",
      "[1] \"2 Input replicate(s)\"\n",
      "[1] \"---------------------------------\"\n",
      "[1] \"Peak calling result: \"\n",
      "[1] \"8 peaks detected on merged data.\"\n",
      "[1] \"Please check 'peak.bed/xls' under ../exomepeak/hiv.control//WINDOW_30_STEP_15_LENGTH_15_FDR_0.025_ENRICH_0.1\"\n",
      "[1] \"7 consistent peaks detected on every replicates. (Recommended list)\"\n",
      "[1] \"Please check 'con_peak.bed/xls' under ../exomepeak/hiv.control//WINDOW_30_STEP_15_LENGTH_15_FDR_0.025_ENRICH_0.1\"\n"
     ]
    },
    {
     "name": "stderr",
     "output_type": "stream",
     "text": [
      "R[write to console]: 'select()' returned 1:many mapping between keys and columns\n",
      "\n"
     ]
    },
    {
     "name": "stdout",
     "output_type": "stream",
     "text": [
      "[1] \"Divide transcriptome into chr-gene-batch sections ...\"\n",
      "[1] \"Get Reads Count ...\"\n",
      "[1] \"This step may take a few hours ...\"\n",
      "[1] \"100 %\"\n",
      "[1] \"Get all the peaks ...\"\n",
      "[1] \"Get the consistent peaks ...\"\n",
      "[1] \"---------------------------------\"\n",
      "[1] \"The bam files used:\"\n",
      "[1] \"2 IP replicate(s)\"\n",
      "[1] \"2 Input replicate(s)\"\n",
      "[1] \"---------------------------------\"\n",
      "[1] \"Peak calling result: \"\n",
      "[1] \"8 peaks detected on merged data.\"\n",
      "[1] \"Please check 'peak.bed/xls' under ../exomepeak/hiv.control//WINDOW_30_STEP_15_LENGTH_15_FDR_0.025_ENRICH_0.2\"\n",
      "[1] \"7 consistent peaks detected on every replicates. (Recommended list)\"\n",
      "[1] \"Please check 'con_peak.bed/xls' under ../exomepeak/hiv.control//WINDOW_30_STEP_15_LENGTH_15_FDR_0.025_ENRICH_0.2\"\n"
     ]
    },
    {
     "name": "stderr",
     "output_type": "stream",
     "text": [
      "R[write to console]: 'select()' returned 1:many mapping between keys and columns\n",
      "\n"
     ]
    },
    {
     "name": "stdout",
     "output_type": "stream",
     "text": [
      "[1] \"Divide transcriptome into chr-gene-batch sections ...\"\n",
      "[1] \"Get Reads Count ...\"\n",
      "[1] \"This step may take a few hours ...\"\n",
      "[1] \"100 %\"\n",
      "[1] \"Get all the peaks ...\"\n",
      "[1] \"Get the consistent peaks ...\"\n",
      "[1] \"---------------------------------\"\n",
      "[1] \"The bam files used:\"\n",
      "[1] \"2 IP replicate(s)\"\n",
      "[1] \"2 Input replicate(s)\"\n",
      "[1] \"---------------------------------\"\n",
      "[1] \"Peak calling result: \"\n",
      "[1] \"8 peaks detected on merged data.\"\n",
      "[1] \"Please check 'peak.bed/xls' under ../exomepeak/hiv.control//WINDOW_30_STEP_15_LENGTH_15_FDR_0.025_ENRICH_1\"\n",
      "[1] \"7 consistent peaks detected on every replicates. (Recommended list)\"\n",
      "[1] \"Please check 'con_peak.bed/xls' under ../exomepeak/hiv.control//WINDOW_30_STEP_15_LENGTH_15_FDR_0.025_ENRICH_1\"\n"
     ]
    },
    {
     "name": "stderr",
     "output_type": "stream",
     "text": [
      "R[write to console]: 'select()' returned 1:many mapping between keys and columns\n",
      "\n"
     ]
    },
    {
     "name": "stdout",
     "output_type": "stream",
     "text": [
      "[1] \"Divide transcriptome into chr-gene-batch sections ...\"\n",
      "[1] \"Get Reads Count ...\"\n",
      "[1] \"This step may take a few hours ...\"\n",
      "[1] \"100 %\"\n",
      "[1] \"Get all the peaks ...\"\n",
      "[1] \"Get the consistent peaks ...\"\n",
      "[1] \"---------------------------------\"\n",
      "[1] \"The bam files used:\"\n",
      "[1] \"2 IP replicate(s)\"\n",
      "[1] \"2 Input replicate(s)\"\n",
      "[1] \"---------------------------------\"\n",
      "[1] \"Peak calling result: \"\n",
      "[1] \"9 peaks detected on merged data.\"\n",
      "[1] \"Please check 'peak.bed/xls' under ../exomepeak/hiv.control//WINDOW_30_STEP_15_LENGTH_20_FDR_0.01_ENRICH_0.1\"\n",
      "[1] \"8 consistent peaks detected on every replicates. (Recommended list)\"\n",
      "[1] \"Please check 'con_peak.bed/xls' under ../exomepeak/hiv.control//WINDOW_30_STEP_15_LENGTH_20_FDR_0.01_ENRICH_0.1\"\n"
     ]
    },
    {
     "name": "stderr",
     "output_type": "stream",
     "text": [
      "R[write to console]: 'select()' returned 1:many mapping between keys and columns\n",
      "\n"
     ]
    },
    {
     "name": "stdout",
     "output_type": "stream",
     "text": [
      "[1] \"Divide transcriptome into chr-gene-batch sections ...\"\n",
      "[1] \"Get Reads Count ...\"\n",
      "[1] \"This step may take a few hours ...\"\n",
      "[1] \"100 %\"\n",
      "[1] \"Get all the peaks ...\"\n",
      "[1] \"Get the consistent peaks ...\"\n",
      "[1] \"---------------------------------\"\n",
      "[1] \"The bam files used:\"\n",
      "[1] \"2 IP replicate(s)\"\n",
      "[1] \"2 Input replicate(s)\"\n",
      "[1] \"---------------------------------\"\n",
      "[1] \"Peak calling result: \"\n",
      "[1] \"9 peaks detected on merged data.\"\n",
      "[1] \"Please check 'peak.bed/xls' under ../exomepeak/hiv.control//WINDOW_30_STEP_15_LENGTH_20_FDR_0.01_ENRICH_0.2\"\n",
      "[1] \"8 consistent peaks detected on every replicates. (Recommended list)\"\n",
      "[1] \"Please check 'con_peak.bed/xls' under ../exomepeak/hiv.control//WINDOW_30_STEP_15_LENGTH_20_FDR_0.01_ENRICH_0.2\"\n"
     ]
    },
    {
     "name": "stderr",
     "output_type": "stream",
     "text": [
      "R[write to console]: 'select()' returned 1:many mapping between keys and columns\n",
      "\n"
     ]
    },
    {
     "name": "stdout",
     "output_type": "stream",
     "text": [
      "[1] \"Divide transcriptome into chr-gene-batch sections ...\"\n",
      "[1] \"Get Reads Count ...\"\n",
      "[1] \"This step may take a few hours ...\"\n",
      "[1] \"100 %\"\n",
      "[1] \"Get all the peaks ...\"\n",
      "[1] \"Get the consistent peaks ...\"\n",
      "[1] \"---------------------------------\"\n",
      "[1] \"The bam files used:\"\n",
      "[1] \"2 IP replicate(s)\"\n",
      "[1] \"2 Input replicate(s)\"\n",
      "[1] \"---------------------------------\"\n",
      "[1] \"Peak calling result: \"\n",
      "[1] \"9 peaks detected on merged data.\"\n",
      "[1] \"Please check 'peak.bed/xls' under ../exomepeak/hiv.control//WINDOW_30_STEP_15_LENGTH_20_FDR_0.01_ENRICH_1\"\n",
      "[1] \"8 consistent peaks detected on every replicates. (Recommended list)\"\n",
      "[1] \"Please check 'con_peak.bed/xls' under ../exomepeak/hiv.control//WINDOW_30_STEP_15_LENGTH_20_FDR_0.01_ENRICH_1\"\n"
     ]
    },
    {
     "name": "stderr",
     "output_type": "stream",
     "text": [
      "R[write to console]: 'select()' returned 1:many mapping between keys and columns\n",
      "\n"
     ]
    },
    {
     "name": "stdout",
     "output_type": "stream",
     "text": [
      "[1] \"Divide transcriptome into chr-gene-batch sections ...\"\n",
      "[1] \"Get Reads Count ...\"\n",
      "[1] \"This step may take a few hours ...\"\n",
      "[1] \"100 %\"\n",
      "[1] \"Get all the peaks ...\"\n",
      "[1] \"Get the consistent peaks ...\"\n",
      "[1] \"---------------------------------\"\n",
      "[1] \"The bam files used:\"\n",
      "[1] \"2 IP replicate(s)\"\n",
      "[1] \"2 Input replicate(s)\"\n",
      "[1] \"---------------------------------\"\n",
      "[1] \"Peak calling result: \"\n",
      "[1] \"9 peaks detected on merged data.\"\n",
      "[1] \"Please check 'peak.bed/xls' under ../exomepeak/hiv.control//WINDOW_30_STEP_15_LENGTH_20_FDR_0.025_ENRICH_0.1\"\n",
      "[1] \"8 consistent peaks detected on every replicates. (Recommended list)\"\n",
      "[1] \"Please check 'con_peak.bed/xls' under ../exomepeak/hiv.control//WINDOW_30_STEP_15_LENGTH_20_FDR_0.025_ENRICH_0.1\"\n"
     ]
    },
    {
     "name": "stderr",
     "output_type": "stream",
     "text": [
      "R[write to console]: 'select()' returned 1:many mapping between keys and columns\n",
      "\n"
     ]
    },
    {
     "name": "stdout",
     "output_type": "stream",
     "text": [
      "[1] \"Divide transcriptome into chr-gene-batch sections ...\"\n",
      "[1] \"Get Reads Count ...\"\n",
      "[1] \"This step may take a few hours ...\"\n",
      "[1] \"100 %\"\n",
      "[1] \"Get all the peaks ...\"\n",
      "[1] \"Get the consistent peaks ...\"\n",
      "[1] \"---------------------------------\"\n",
      "[1] \"The bam files used:\"\n",
      "[1] \"2 IP replicate(s)\"\n",
      "[1] \"2 Input replicate(s)\"\n",
      "[1] \"---------------------------------\"\n",
      "[1] \"Peak calling result: \"\n",
      "[1] \"9 peaks detected on merged data.\"\n",
      "[1] \"Please check 'peak.bed/xls' under ../exomepeak/hiv.control//WINDOW_30_STEP_15_LENGTH_20_FDR_0.025_ENRICH_0.2\"\n",
      "[1] \"8 consistent peaks detected on every replicates. (Recommended list)\"\n",
      "[1] \"Please check 'con_peak.bed/xls' under ../exomepeak/hiv.control//WINDOW_30_STEP_15_LENGTH_20_FDR_0.025_ENRICH_0.2\"\n"
     ]
    },
    {
     "name": "stderr",
     "output_type": "stream",
     "text": [
      "R[write to console]: 'select()' returned 1:many mapping between keys and columns\n",
      "\n"
     ]
    },
    {
     "name": "stdout",
     "output_type": "stream",
     "text": [
      "[1] \"Divide transcriptome into chr-gene-batch sections ...\"\n",
      "[1] \"Get Reads Count ...\"\n",
      "[1] \"This step may take a few hours ...\"\n",
      "[1] \"100 %\"\n",
      "[1] \"Get all the peaks ...\"\n",
      "[1] \"Get the consistent peaks ...\"\n",
      "[1] \"---------------------------------\"\n",
      "[1] \"The bam files used:\"\n",
      "[1] \"2 IP replicate(s)\"\n",
      "[1] \"2 Input replicate(s)\"\n",
      "[1] \"---------------------------------\"\n",
      "[1] \"Peak calling result: \"\n",
      "[1] \"9 peaks detected on merged data.\"\n",
      "[1] \"Please check 'peak.bed/xls' under ../exomepeak/hiv.control//WINDOW_30_STEP_15_LENGTH_20_FDR_0.025_ENRICH_1\"\n",
      "[1] \"8 consistent peaks detected on every replicates. (Recommended list)\"\n",
      "[1] \"Please check 'con_peak.bed/xls' under ../exomepeak/hiv.control//WINDOW_30_STEP_15_LENGTH_20_FDR_0.025_ENRICH_1\"\n"
     ]
    },
    {
     "name": "stderr",
     "output_type": "stream",
     "text": [
      "R[write to console]: 'select()' returned 1:many mapping between keys and columns\n",
      "\n"
     ]
    },
    {
     "name": "stdout",
     "output_type": "stream",
     "text": [
      "[1] \"Divide transcriptome into chr-gene-batch sections ...\"\n",
      "[1] \"Get Reads Count ...\"\n",
      "[1] \"This step may take a few hours ...\"\n",
      "[1] \"100 %\"\n",
      "[1] \"Get all the peaks ...\"\n",
      "[1] \"Get the consistent peaks ...\"\n",
      "[1] \"---------------------------------\"\n",
      "[1] \"The bam files used:\"\n",
      "[1] \"2 IP replicate(s)\"\n",
      "[1] \"2 Input replicate(s)\"\n",
      "[1] \"---------------------------------\"\n",
      "[1] \"Peak calling result: \"\n",
      "[1] \"9 peaks detected on merged data.\"\n",
      "[1] \"Please check 'peak.bed/xls' under ../exomepeak/hiv.control//WINDOW_30_STEP_15_LENGTH_25_FDR_0.01_ENRICH_0.1\"\n",
      "[1] \"7 consistent peaks detected on every replicates. (Recommended list)\"\n",
      "[1] \"Please check 'con_peak.bed/xls' under ../exomepeak/hiv.control//WINDOW_30_STEP_15_LENGTH_25_FDR_0.01_ENRICH_0.1\"\n"
     ]
    },
    {
     "name": "stderr",
     "output_type": "stream",
     "text": [
      "R[write to console]: 'select()' returned 1:many mapping between keys and columns\n",
      "\n"
     ]
    },
    {
     "name": "stdout",
     "output_type": "stream",
     "text": [
      "[1] \"Divide transcriptome into chr-gene-batch sections ...\"\n",
      "[1] \"Get Reads Count ...\"\n",
      "[1] \"This step may take a few hours ...\"\n",
      "[1] \"100 %\"\n",
      "[1] \"Get all the peaks ...\"\n",
      "[1] \"Get the consistent peaks ...\"\n",
      "[1] \"---------------------------------\"\n",
      "[1] \"The bam files used:\"\n",
      "[1] \"2 IP replicate(s)\"\n",
      "[1] \"2 Input replicate(s)\"\n",
      "[1] \"---------------------------------\"\n",
      "[1] \"Peak calling result: \"\n",
      "[1] \"9 peaks detected on merged data.\"\n",
      "[1] \"Please check 'peak.bed/xls' under ../exomepeak/hiv.control//WINDOW_30_STEP_15_LENGTH_25_FDR_0.01_ENRICH_0.2\"\n",
      "[1] \"7 consistent peaks detected on every replicates. (Recommended list)\"\n",
      "[1] \"Please check 'con_peak.bed/xls' under ../exomepeak/hiv.control//WINDOW_30_STEP_15_LENGTH_25_FDR_0.01_ENRICH_0.2\"\n"
     ]
    },
    {
     "name": "stderr",
     "output_type": "stream",
     "text": [
      "R[write to console]: 'select()' returned 1:many mapping between keys and columns\n",
      "\n"
     ]
    },
    {
     "name": "stdout",
     "output_type": "stream",
     "text": [
      "[1] \"Divide transcriptome into chr-gene-batch sections ...\"\n",
      "[1] \"Get Reads Count ...\"\n",
      "[1] \"This step may take a few hours ...\"\n",
      "[1] \"100 %\"\n",
      "[1] \"Get all the peaks ...\"\n",
      "[1] \"Get the consistent peaks ...\"\n",
      "[1] \"---------------------------------\"\n",
      "[1] \"The bam files used:\"\n",
      "[1] \"2 IP replicate(s)\"\n",
      "[1] \"2 Input replicate(s)\"\n",
      "[1] \"---------------------------------\"\n",
      "[1] \"Peak calling result: \"\n",
      "[1] \"9 peaks detected on merged data.\"\n",
      "[1] \"Please check 'peak.bed/xls' under ../exomepeak/hiv.control//WINDOW_30_STEP_15_LENGTH_25_FDR_0.01_ENRICH_1\"\n",
      "[1] \"7 consistent peaks detected on every replicates. (Recommended list)\"\n",
      "[1] \"Please check 'con_peak.bed/xls' under ../exomepeak/hiv.control//WINDOW_30_STEP_15_LENGTH_25_FDR_0.01_ENRICH_1\"\n"
     ]
    },
    {
     "name": "stderr",
     "output_type": "stream",
     "text": [
      "R[write to console]: 'select()' returned 1:many mapping between keys and columns\n",
      "\n"
     ]
    },
    {
     "name": "stdout",
     "output_type": "stream",
     "text": [
      "[1] \"Divide transcriptome into chr-gene-batch sections ...\"\n",
      "[1] \"Get Reads Count ...\"\n",
      "[1] \"This step may take a few hours ...\"\n",
      "[1] \"100 %\"\n",
      "[1] \"Get all the peaks ...\"\n",
      "[1] \"Get the consistent peaks ...\"\n",
      "[1] \"---------------------------------\"\n",
      "[1] \"The bam files used:\"\n",
      "[1] \"2 IP replicate(s)\"\n",
      "[1] \"2 Input replicate(s)\"\n",
      "[1] \"---------------------------------\"\n",
      "[1] \"Peak calling result: \"\n",
      "[1] \"9 peaks detected on merged data.\"\n",
      "[1] \"Please check 'peak.bed/xls' under ../exomepeak/hiv.control//WINDOW_30_STEP_15_LENGTH_25_FDR_0.025_ENRICH_0.1\"\n",
      "[1] \"7 consistent peaks detected on every replicates. (Recommended list)\"\n",
      "[1] \"Please check 'con_peak.bed/xls' under ../exomepeak/hiv.control//WINDOW_30_STEP_15_LENGTH_25_FDR_0.025_ENRICH_0.1\"\n"
     ]
    },
    {
     "name": "stderr",
     "output_type": "stream",
     "text": [
      "R[write to console]: 'select()' returned 1:many mapping between keys and columns\n",
      "\n"
     ]
    },
    {
     "name": "stdout",
     "output_type": "stream",
     "text": [
      "[1] \"Divide transcriptome into chr-gene-batch sections ...\"\n",
      "[1] \"Get Reads Count ...\"\n",
      "[1] \"This step may take a few hours ...\"\n",
      "[1] \"100 %\"\n",
      "[1] \"Get all the peaks ...\"\n",
      "[1] \"Get the consistent peaks ...\"\n",
      "[1] \"---------------------------------\"\n",
      "[1] \"The bam files used:\"\n",
      "[1] \"2 IP replicate(s)\"\n",
      "[1] \"2 Input replicate(s)\"\n",
      "[1] \"---------------------------------\"\n",
      "[1] \"Peak calling result: \"\n",
      "[1] \"9 peaks detected on merged data.\"\n",
      "[1] \"Please check 'peak.bed/xls' under ../exomepeak/hiv.control//WINDOW_30_STEP_15_LENGTH_25_FDR_0.025_ENRICH_0.2\"\n",
      "[1] \"7 consistent peaks detected on every replicates. (Recommended list)\"\n",
      "[1] \"Please check 'con_peak.bed/xls' under ../exomepeak/hiv.control//WINDOW_30_STEP_15_LENGTH_25_FDR_0.025_ENRICH_0.2\"\n"
     ]
    },
    {
     "name": "stderr",
     "output_type": "stream",
     "text": [
      "R[write to console]: 'select()' returned 1:many mapping between keys and columns\n",
      "\n"
     ]
    },
    {
     "name": "stdout",
     "output_type": "stream",
     "text": [
      "[1] \"Divide transcriptome into chr-gene-batch sections ...\"\n",
      "[1] \"Get Reads Count ...\"\n",
      "[1] \"This step may take a few hours ...\"\n",
      "[1] \"100 %\"\n",
      "[1] \"Get all the peaks ...\"\n",
      "[1] \"Get the consistent peaks ...\"\n",
      "[1] \"---------------------------------\"\n",
      "[1] \"The bam files used:\"\n",
      "[1] \"2 IP replicate(s)\"\n",
      "[1] \"2 Input replicate(s)\"\n",
      "[1] \"---------------------------------\"\n",
      "[1] \"Peak calling result: \"\n",
      "[1] \"9 peaks detected on merged data.\"\n",
      "[1] \"Please check 'peak.bed/xls' under ../exomepeak/hiv.control//WINDOW_30_STEP_15_LENGTH_25_FDR_0.025_ENRICH_1\"\n",
      "[1] \"7 consistent peaks detected on every replicates. (Recommended list)\"\n",
      "[1] \"Please check 'con_peak.bed/xls' under ../exomepeak/hiv.control//WINDOW_30_STEP_15_LENGTH_25_FDR_0.025_ENRICH_1\"\n"
     ]
    }
   ],
   "source": [
    "%%R \n",
    "GENE_ANNO_GTF=\"/rumi/shams/abe/People/Judd/HIV/EU541617.1/EU541617.1.gff3\"\n",
    "txdb = makeTxDbFromGFF(GENE_ANNO_GTF)\n",
    "\n",
    "for (W in seq(15,30, by = 15)){\n",
    "    for (S in seq(5,15,by =5)){\n",
    "        for (L in seq(15,25,by = 5)){\n",
    "            for (F in c(0.01,0.025)){\n",
    "                for (E in c(0.1,0.2,1)){\n",
    "                    run_exomepeak(WINDOW = W, STEP = S, LENGTH = L, FDR = F, ENRICH = E)\n",
    "                }}}}}\n"
   ]
  },
  {
   "cell_type": "code",
   "execution_count": 14,
   "metadata": {},
   "outputs": [
    {
     "name": "stdout",
     "output_type": "stream",
     "text": [
      "[1] 16\n"
     ]
    }
   ],
   "source": [
    "%%R \n",
    "res = readRDS(file ='exomepeak/hiv.control/WINDOW_15_STEP_5_LENGTH_15_FDR_0.01_ENRICH_0.1/results.rds')\n",
    "length(res$con_peaks)"
   ]
  },
  {
   "cell_type": "code",
   "execution_count": 15,
   "metadata": {},
   "outputs": [
    {
     "name": "stdout",
     "output_type": "stream",
     "text": [
      " [1]  6  3  1  2  6  6  3  1  4  7  5  2  6  3  1  4  7  8  9 10 11 12 13 14 15\n",
      "[26] 16\n"
     ]
    }
   ],
   "source": [
    "%%R \n",
    "subjectHits(findOverlaps(res$con_peaks))"
   ]
  },
  {
   "cell_type": "code",
   "execution_count": null,
   "metadata": {},
   "outputs": [],
   "source": [
    "!bedtools merge exomepeak/hiv.control/*/peak.bed "
   ]
  },
  {
   "cell_type": "code",
   "execution_count": 76,
   "metadata": {},
   "outputs": [
    {
     "name": "stdout",
     "output_type": "stream",
     "text": [
      "# chr\tchromStart\tchromEnd\tname\tscore\tstrand\tthickStart\tthickEnd\titemRgb\tblockCount\tblockSizes\tblockStarts\r\n",
      "EU541617.1\t7945\t7956\ttat\t6.3e-27\t+\t7945\t7956\t0\t1\t11,\t0\r\n",
      "EU541617.1\t5519\t5530\trev\t1.5e-07\t+\t5519\t5530\t0\t1\t11,\t0\r\n",
      "EU541617.1\t5583\t7929\trev\t1e-138\t+\t5583\t7929\t0\t2\t7,9,\t0,2337\r\n",
      "EU541617.1\t7943\t8195\trev\t0\t+\t7943\t8195\t0\t1\t252,\t0\r\n",
      "EU541617.1\t7882\t7893\tenv\t1e-16\t+\t7882\t7893\t0\t1\t11,\t0\r\n",
      "EU541617.1\t7927\t8337\tenv\t0\t+\t7927\t8337\t0\t1\t410,\t0\r\n",
      "EU541617.1\t8373\t8463\tnef\t5e-51\t+\t8373\t8463\t0\t1\t90,\t0\r\n",
      "EU541617.1\t8507\t8523\tnef\t7.9e-16\t+\t8507\t8523\t0\t1\t16,\t0\r\n",
      "EU541617.1\t8561\t8632\tnef\t7.9e-76\t+\t8561\t8632\t0\t1\t71,\t0\r\n",
      "EU541617.1\t8641\t8845\tnef\t1e-143\t+\t8641\t8845\t0\t1\t204,\t0\r\n",
      "EU541617.1\t8854\t8880\tnef\t1e-116\t+\t8854\t8880\t0\t1\t26,\t0\r\n",
      "EU541617.1\t8913\t8924\tnef\t8.5e-05\t+\t8913\t8924\t0\t1\t11,\t0\r\n",
      "EU541617.1\t8943\t8959\tnef\t2e-78\t+\t8943\t8959\t0\t1\t16,\t0\r\n"
     ]
    }
   ],
   "source": [
    "cat exomepeak/hiv.control/WINDOW_15_STEP_5_LENGTH_15_FDR_0.01_ENRICH_0.1/peak.bed"
   ]
  },
  {
   "cell_type": "markdown",
   "metadata": {},
   "source": [
    "### Plot _Guitar_ \n",
    "Now, let's draw metagene plots for control samples:\n",
    "(using seprate env: `guitar`)"
   ]
  },
  {
   "cell_type": "code",
   "execution_count": 1,
   "metadata": {},
   "outputs": [
    {
     "name": "stderr",
     "output_type": "stream",
     "text": [
      "/rumi/shams/abe/anaconda3/lib/python3.7/site-packages/rpy2/robjects/pandas2ri.py:14: FutureWarning: pandas.core.index is deprecated and will be removed in a future version.  The public classes are available in the top-level namespace.\n",
      "  from pandas.core.index import Index as PandasIndex\n"
     ]
    }
   ],
   "source": [
    "%reload_ext rpy2.ipython"
   ]
  },
  {
   "cell_type": "code",
   "execution_count": 3,
   "metadata": {},
   "outputs": [],
   "source": [
    "%%R\n",
    "library(Guitar)"
   ]
  },
  {
   "cell_type": "code",
   "execution_count": 4,
   "metadata": {},
   "outputs": [
    {
     "name": "stderr",
     "output_type": "stream",
     "text": [
      "R[write to console]: Import genomic features from the file as a GRanges object ... \n",
      "R[write to console]: OK\n",
      "\n",
      "R[write to console]: Prepare the 'metadata' data frame ... \n",
      "R[write to console]: OK\n",
      "\n",
      "R[write to console]: Make the TxDb object ... \n",
      "R[write to console]: OK\n",
      "\n"
     ]
    },
    {
     "name": "stdout",
     "output_type": "stream",
     "text": [
      "[1] \"There are 9 transcripts of 9 genes in the genome.\"\n",
      "[1] \"total 9 transcripts extracted ...\"\n",
      "[1] \"total 9 transcripts left after ambiguity filter ...\"\n",
      "[1] \"total 9 transcripts left after check chromosome validity ...\"\n",
      "[1] \"total 0 mRNAs left after component length filter ...\"\n",
      "[1] \"total 0 ncRNAs left after ncRNA length filter ...\"\n",
      "[1] \"generate components for all tx\"\n",
      "[1] \"generate components for mRNA\"\n",
      "[1] \"generate components for lncRNA\"\n",
      "[1] \"generate chiped transcriptome\"\n",
      "[1] \"generate coverage checking ranges for tx\"\n"
     ]
    }
   ],
   "source": [
    "%%R\n",
    "GENE_ANNO_GTF=\"/rumi/shams/abe/People/Judd/HIV/EU541617.1/EU541617.1.gff3\"\n",
    "txdb = makeTxDbFromGFF(GENE_ANNO_GTF)\n",
    "guitarTxdb <- makeGuitarTxdb(txdb = txdb, txPrimaryOnly = FALSE)"
   ]
  },
  {
   "cell_type": "code",
   "execution_count": 5,
   "metadata": {},
   "outputs": [
    {
     "name": "stdout",
     "output_type": "stream",
     "text": [
      "GRanges object with 29 ranges and 2 metadata columns:\n",
      "        seqnames    ranges strand |      txType componentType\n",
      "           <Rle> <IRanges>  <Rle> | <character>   <character>\n",
      "  gag EU541617.1  -664-335      + |          tx      promoter\n",
      "  pol EU541617.1  631-1630      + |          tx      promoter\n",
      "  vif EU541617.1 3587-4586      + |          tx      promoter\n",
      "  vpr EU541617.1 4105-5104      + |          tx      promoter\n",
      "  tat EU541617.1 4376-5375      + |          tx      promoter\n",
      "  ...        ...       ...    ... .         ...           ...\n",
      "  tat EU541617.1 7967-8966      + |          tx          tail\n",
      "  rev EU541617.1 8196-9195      + |          tx          tail\n",
      "  vpu EU541617.1 5853-6852      + |          tx          tail\n",
      "  env EU541617.1 8338-9337      + |          tx          tail\n",
      "  nef EU541617.1 8960-9959      + |          tx          tail\n",
      "  -------\n",
      "  seqinfo: 1 sequence from an unspecified genome; no seqlengths\n"
     ]
    }
   ],
   "source": [
    "%%R \n",
    "guitarTxdb$tx$txComponentGRange\n"
   ]
  },
  {
   "cell_type": "markdown",
   "metadata": {},
   "source": [
    "### Motif analysis "
   ]
  },
  {
   "cell_type": "code",
   "execution_count": 10,
   "metadata": {
    "scrolled": false
   },
   "outputs": [],
   "source": [
    "%%bash\n",
    "bedtools getfasta -name -split -s -fi HIV/EU541617.1/EU541617.1.fasta \\\n",
    "-bed exomepeak/hiv.control/WINDOW_15_STEP_5_LENGTH_15_FDR_0.01_ENRICH_0.1/peak.bed \\\n",
    "-fo exomepeak/hiv.control/WINDOW_15_STEP_5_LENGTH_15_FDR_0.01_ENRICH_0.1/peak.fa"
   ]
  },
  {
   "cell_type": "code",
   "execution_count": 5,
   "metadata": {},
   "outputs": [
    {
     "name": "stdout",
     "output_type": "stream",
     "text": [
      "[AG]GAC\r\n",
      "[AGT][AG]AC[ACT]\r\n"
     ]
    }
   ],
   "source": [
    "cat exomepeak/control/motifs_of_interest.txt"
   ]
  },
  {
   "cell_type": "code",
   "execution_count": 73,
   "metadata": {},
   "outputs": [
    {
     "data": {
      "text/plain": [
       "[['rev::EU541617.1:7943-8195(+)',\n",
       "  <re.Match object; span=(42, 46), match='AGAC'>,\n",
       "  <re.Match object; span=(42, 47), match='AGACA'>],\n",
       " ['env::EU541617.1:7927-8337(+)',\n",
       "  <re.Match object; span=(14, 18), match='GGAC'>,\n",
       "  <re.Match object; span=(14, 19), match='GGACC'>],\n",
       " ['nef::EU541617.1:8373-8463(+)',\n",
       "  <re.Match object; span=(25, 29), match='AGAC'>,\n",
       "  <re.Match object; span=(69, 74), match='AGACC'>],\n",
       " ['nef::EU541617.1:8561-8632(+)',\n",
       "  <re.Match object; span=(5, 9), match='AGAC'>,\n",
       "  <re.Match object; span=(5, 10), match='AGACC'>],\n",
       " ['nef::EU541617.1:8641-8845(+)',\n",
       "  <re.Match object; span=(12, 16), match='AGAC'>,\n",
       "  <re.Match object; span=(12, 17), match='AGACA'>],\n",
       " ['nef::EU541617.1:8854-8880(+)',\n",
       "  None,\n",
       "  <re.Match object; span=(5, 10), match='TGACC'>],\n",
       " ['nef::EU541617.1:8943-8959(+)',\n",
       "  None,\n",
       "  <re.Match object; span=(6, 11), match='GAACT'>]]"
      ]
     },
     "execution_count": 73,
     "metadata": {},
     "output_type": "execute_result"
    }
   ],
   "source": [
    "import re\n",
    "\n",
    "def read_fasta(path):\n",
    "    file = open(path)\n",
    "    lines = file.read().splitlines()\n",
    "    ids = [s[1:] for s in lines if '>' in s]\n",
    "    n = [i for i,s in enumerate(lines) if '>' in s]\n",
    "    n.append(len(lines))\n",
    "    sequences = [''.join(lines[i+1:j]) for i,j in zip(n[:-1],n[1:])]\n",
    "    file.close()\n",
    "    fa = dict(zip(ids, sequences))\n",
    "    return fa\n",
    "\n",
    "peaks = read_fasta('exomepeak/hiv.control/WINDOW_15_STEP_5_LENGTH_15_FDR_0.01_ENRICH_0.1/peak.fa')\n",
    "\n",
    "DRACH = re.compile('[AGT][AG]AC[ACT]')\n",
    "RGAC = re.compile('[AG]GAC')\n",
    "# DRACH.match(\n",
    "[[f,RGAC.search(peaks[f]), DRACH.search(peaks[f])] \n",
    "     for f in peaks \n",
    "         if RGAC.search(peaks[f]) is not None or DRACH.search(peaks[f]) is not None\n",
    "]"
   ]
  },
  {
   "cell_type": "markdown",
   "metadata": {},
   "source": [
    "# Running a custom pipeline \n",
    "\n",
    "Here we're using https://github.com/gold-lab/bed12ToGTF to make gtf file from control exomepeak result.\n",
    "\n",
    "https://metacpan.org/pod/Bio::FeatureIO::gtf"
   ]
  },
  {
   "cell_type": "code",
   "execution_count": 4,
   "metadata": {},
   "outputs": [],
   "source": [
    "%%bash\n",
    "cat exomepeak/hiv.control/WINDOW_15_STEP_5_LENGTH_15_FDR_0.01_ENRICH_0.1/peak.bed | sort -k4 | \\\n",
    "# rename features peak by peak\n",
    "awk -F \"\\t\" '{OFS=FS}NR>1{$4=$4\"_peak\"}; cnt[$4]++{$4=$4\"_\"cnt[$4]} 1' | \\\n",
    "# bed12 to gtf\n",
    "perl ../../Workflows/bed12ToGTF/bed12ToGTF.1.pl | \\\n",
    "awk '{gsub(/\\\"|\\;/,\"\")}1''{gsub(/transcript_id/,\"gene_id\")}1''{gsub(/ exon_number [[:digit:]]/,\"\")}1' > exomepeak/hiv.control/WINDOW_15_STEP_5_LENGTH_15_FDR_0.01_ENRICH_0.1/peak.gtf"
   ]
  },
  {
   "cell_type": "code",
   "execution_count": 5,
   "metadata": {},
   "outputs": [
    {
     "name": "stdout",
     "output_type": "stream",
     "text": [
      "# chr\tblank\ttranscript\t1\tchromEnd\t.\tstrand\t.\tgene_id name\r\n",
      "EU541617.1\tblank\ttranscript\t7928\t8337\t.\t+\t.\tgene_id env_peak\r\n",
      "EU541617.1\tblank\texon\t7928\t8337\t.\t+\t.\tgene_id env_peak\r\n",
      "EU541617.1\tblank\ttranscript\t7883\t7893\t.\t+\t.\tgene_id env_peak_2\r\n",
      "EU541617.1\tblank\texon\t7883\t7893\t.\t+\t.\tgene_id env_peak_2\r\n",
      "EU541617.1\tblank\ttranscript\t8855\t8880\t.\t+\t.\tgene_id nef_peak\r\n",
      "EU541617.1\tblank\texon\t8855\t8880\t.\t+\t.\tgene_id nef_peak\r\n",
      "EU541617.1\tblank\ttranscript\t8642\t8845\t.\t+\t.\tgene_id nef_peak_2\r\n",
      "EU541617.1\tblank\texon\t8642\t8845\t.\t+\t.\tgene_id nef_peak_2\r\n",
      "EU541617.1\tblank\ttranscript\t8944\t8959\t.\t+\t.\tgene_id nef_peak_3\r\n",
      "EU541617.1\tblank\texon\t8944\t8959\t.\t+\t.\tgene_id nef_peak_3\r\n",
      "EU541617.1\tblank\ttranscript\t8374\t8463\t.\t+\t.\tgene_id nef_peak_4\r\n",
      "EU541617.1\tblank\texon\t8374\t8463\t.\t+\t.\tgene_id nef_peak_4\r\n",
      "EU541617.1\tblank\ttranscript\t8508\t8523\t.\t+\t.\tgene_id nef_peak_5\r\n",
      "EU541617.1\tblank\texon\t8508\t8523\t.\t+\t.\tgene_id nef_peak_5\r\n",
      "EU541617.1\tblank\ttranscript\t8562\t8632\t.\t+\t.\tgene_id nef_peak_6\r\n",
      "EU541617.1\tblank\texon\t8562\t8632\t.\t+\t.\tgene_id nef_peak_6\r\n",
      "EU541617.1\tblank\ttranscript\t8914\t8924\t.\t+\t.\tgene_id nef_peak_7\r\n",
      "EU541617.1\tblank\texon\t8914\t8924\t.\t+\t.\tgene_id nef_peak_7\r\n",
      "EU541617.1\tblank\ttranscript\t7944\t8195\t.\t+\t.\tgene_id rev_peak\r\n",
      "EU541617.1\tblank\texon\t7944\t8195\t.\t+\t.\tgene_id rev_peak\r\n",
      "EU541617.1\tblank\ttranscript\t5520\t5530\t.\t+\t.\tgene_id rev_peak_2\r\n",
      "EU541617.1\tblank\texon\t5520\t5530\t.\t+\t.\tgene_id rev_peak_2\r\n",
      "EU541617.1\tblank\ttranscript\t5584\t7929\t.\t+\t.\tgene_id rev_peak_3\r\n",
      "EU541617.1\tblank\texon\t5584\t5590\t.\t+\t.\tgene_id rev_peak_3\r\n",
      "EU541617.1\tblank\texon\t7921\t7929\t.\t+\t.\tgene_id rev_peak_3\r\n",
      "EU541617.1\tblank\ttranscript\t7946\t7956\t.\t+\t.\tgene_id tat_peak\r\n",
      "EU541617.1\tblank\texon\t7946\t7956\t.\t+\t.\tgene_id tat_peak\r\n"
     ]
    }
   ],
   "source": [
    "!cat exomepeak/hiv.control/WINDOW_15_STEP_5_LENGTH_15_FDR_0.01_ENRICH_0.1/peak.gtf"
   ]
  },
  {
   "cell_type": "markdown",
   "metadata": {},
   "source": [
    "Using `bamToBed` to count reads which are present in control peak cordinates (found by `exomepeak`)."
   ]
  },
  {
   "cell_type": "code",
   "execution_count": 14,
   "metadata": {
    "scrolled": true
   },
   "outputs": [
    {
     "name": "stderr",
     "output_type": "stream",
     "text": [
      "\n",
      "        ==========     _____ _    _ ____  _____  ______          _____  \n",
      "        =====         / ____| |  | |  _ \\|  __ \\|  ____|   /\\   |  __ \\ \n",
      "          =====      | (___ | |  | | |_) | |__) | |__     /  \\  | |  | |\n",
      "            ====      \\___ \\| |  | |  _ <|  _  /|  __|   / /\\ \\ | |  | |\n",
      "              ====    ____) | |__| | |_) | | \\ \\| |____ / ____ \\| |__| |\n",
      "        ==========   |_____/ \\____/|____/|_|  \\_\\______/_/    \\_\\_____/\n",
      "\t  v1.6.0\n",
      "\n",
      "//========================== featureCounts setting ===========================\\\\\n",
      "||                                                                            ||\n",
      "||             Input files : 1 BAM file                                       ||\n",
      "||                           S bam/s23.hiv.METTL14.input.bam                  ||\n",
      "||                                                                            ||\n",
      "||             Output file : peakcount/s23.hiv.METTL14.input.fc               ||\n",
      "||                 Summary : peakcount/s23.hiv.METTL14.input.fc.summary       ||\n",
      "||              Annotation : exomepeak/hiv.control/WINDOW_15_STEP_5_LENGT ... ||\n",
      "||      Dir for temp files : peakcount                                        ||\n",
      "||                                                                            ||\n",
      "||                 Threads : 12                                               ||\n",
      "||                   Level : meta-feature level                               ||\n",
      "||              Paired-end : no                                               ||\n",
      "||         Strand specific : no                                               ||\n",
      "||      Multimapping reads : not counted                                      ||\n",
      "|| Multi-overlapping reads : counted                                          ||\n",
      "||   Min overlapping bases : 1                                                ||\n",
      "||                                                                            ||\n",
      "\\\\===================== http://subread.sourceforge.net/ ======================//\n",
      "\n",
      "//================================= Running ==================================\\\\\n",
      "||                                                                            ||\n",
      "|| Load annotation file exomepeak/hiv.control/WINDOW_15_STEP_5_LENGTH_15_ ... ||\n",
      "||    Features : 14                                                           ||\n",
      "||    Meta-features : 13                                                      ||\n",
      "||    Chromosomes/contigs : 1                                                 ||\n",
      "||                                                                            ||\n",
      "|| Process BAM file bam/s23.hiv.METTL14.input.bam...                          ||\n",
      "||    Single-end reads are included.                                          ||\n",
      "||    Assign reads to features...                                             ||\n",
      "||    Total reads : 278629                                                    ||\n",
      "||    Successfully assigned reads : 37568 (13.5%)                             ||\n",
      "||    Running time : 0.01 minutes                                             ||\n",
      "||                                                                            ||\n",
      "||                         Read assignment finished.                          ||\n",
      "||                                                                            ||\n",
      "|| Summary of counting results can be found in file \"peakcount/s23.hiv.METTL  ||\n",
      "|| 14.input.fc.summary\"                                                       ||\n",
      "||                                                                            ||\n",
      "\\\\===================== http://subread.sourceforge.net/ ======================//\n",
      "\n",
      "\n",
      "        ==========     _____ _    _ ____  _____  ______          _____  \n",
      "        =====         / ____| |  | |  _ \\|  __ \\|  ____|   /\\   |  __ \\ \n",
      "          =====      | (___ | |  | | |_) | |__) | |__     /  \\  | |  | |\n",
      "            ====      \\___ \\| |  | |  _ <|  _  /|  __|   / /\\ \\ | |  | |\n",
      "              ====    ____) | |__| | |_) | | \\ \\| |____ / ____ \\| |__| |\n",
      "        ==========   |_____/ \\____/|____/|_|  \\_\\______/_/    \\_\\_____/\n",
      "\t  v1.6.0\n",
      "\n",
      "//========================== featureCounts setting ===========================\\\\\n",
      "||                                                                            ||\n",
      "||             Input files : 1 BAM file                                       ||\n",
      "||                           S bam/s23.hiv.METTL14.m6A.bam                    ||\n",
      "||                                                                            ||\n",
      "||             Output file : peakcount/s23.hiv.METTL14.m6A.fc                 ||\n",
      "||                 Summary : peakcount/s23.hiv.METTL14.m6A.fc.summary         ||\n",
      "||              Annotation : exomepeak/hiv.control/WINDOW_15_STEP_5_LENGT ... ||\n",
      "||      Dir for temp files : peakcount                                        ||\n",
      "||                                                                            ||\n",
      "||                 Threads : 12                                               ||\n",
      "||                   Level : meta-feature level                               ||\n",
      "||              Paired-end : no                                               ||\n",
      "||         Strand specific : no                                               ||\n",
      "||      Multimapping reads : not counted                                      ||\n",
      "|| Multi-overlapping reads : counted                                          ||\n",
      "||   Min overlapping bases : 1                                                ||\n",
      "||                                                                            ||\n",
      "\\\\===================== http://subread.sourceforge.net/ ======================//\n",
      "\n",
      "//================================= Running ==================================\\\\\n",
      "||                                                                            ||\n",
      "|| Load annotation file exomepeak/hiv.control/WINDOW_15_STEP_5_LENGTH_15_ ... ||\n",
      "||    Features : 14                                                           ||\n",
      "||    Meta-features : 13                                                      ||\n",
      "||    Chromosomes/contigs : 1                                                 ||\n",
      "||                                                                            ||\n",
      "|| Process BAM file bam/s23.hiv.METTL14.m6A.bam...                            ||\n",
      "||    Single-end reads are included.                                          ||\n",
      "||    Assign reads to features...                                             ||\n",
      "||    Total reads : 147985                                                    ||\n",
      "||    Successfully assigned reads : 105240 (71.1%)                            ||\n",
      "||    Running time : 0.01 minutes                                             ||\n",
      "||                                                                            ||\n",
      "||                         Read assignment finished.                          ||\n",
      "||                                                                            ||\n",
      "|| Summary of counting results can be found in file \"peakcount/s23.hiv.METTL  ||\n",
      "|| 14.m6A.fc.summary\"                                                         ||\n",
      "||                                                                            ||\n",
      "\\\\===================== http://subread.sourceforge.net/ ======================//\n",
      "\n",
      "\n",
      "        ==========     _____ _    _ ____  _____  ______          _____  \n",
      "        =====         / ____| |  | |  _ \\|  __ \\|  ____|   /\\   |  __ \\ \n",
      "          =====      | (___ | |  | | |_) | |__) | |__     /  \\  | |  | |\n",
      "            ====      \\___ \\| |  | |  _ <|  _  /|  __|   / /\\ \\ | |  | |\n",
      "              ====    ____) | |__| | |_) | | \\ \\| |____ / ____ \\| |__| |\n",
      "        ==========   |_____/ \\____/|____/|_|  \\_\\______/_/    \\_\\_____/\n",
      "\t  v1.6.0\n",
      "\n",
      "//========================== featureCounts setting ===========================\\\\\n",
      "||                                                                            ||\n",
      "||             Input files : 1 BAM file                                       ||\n",
      "||                           S bam/s24.hiv.METTL14.input.bam                  ||\n",
      "||                                                                            ||\n",
      "||             Output file : peakcount/s24.hiv.METTL14.input.fc               ||\n",
      "||                 Summary : peakcount/s24.hiv.METTL14.input.fc.summary       ||\n",
      "||              Annotation : exomepeak/hiv.control/WINDOW_15_STEP_5_LENGT ... ||\n",
      "||      Dir for temp files : peakcount                                        ||\n",
      "||                                                                            ||\n",
      "||                 Threads : 12                                               ||\n",
      "||                   Level : meta-feature level                               ||\n",
      "||              Paired-end : no                                               ||\n",
      "||         Strand specific : no                                               ||\n",
      "||      Multimapping reads : not counted                                      ||\n",
      "|| Multi-overlapping reads : counted                                          ||\n",
      "||   Min overlapping bases : 1                                                ||\n",
      "||                                                                            ||\n",
      "\\\\===================== http://subread.sourceforge.net/ ======================//\n",
      "\n",
      "//================================= Running ==================================\\\\\n",
      "||                                                                            ||\n",
      "|| Load annotation file exomepeak/hiv.control/WINDOW_15_STEP_5_LENGTH_15_ ... ||\n",
      "||    Features : 14                                                           ||\n",
      "||    Meta-features : 13                                                      ||\n",
      "||    Chromosomes/contigs : 1                                                 ||\n",
      "||                                                                            ||\n",
      "|| Process BAM file bam/s24.hiv.METTL14.input.bam...                          ||\n",
      "||    Single-end reads are included.                                          ||\n",
      "||    Assign reads to features...                                             ||\n",
      "||    Total reads : 309121                                                    ||\n",
      "||    Successfully assigned reads : 42112 (13.6%)                             ||\n",
      "||    Running time : 0.01 minutes                                             ||\n",
      "||                                                                            ||\n",
      "||                         Read assignment finished.                          ||\n",
      "||                                                                            ||\n",
      "|| Summary of counting results can be found in file \"peakcount/s24.hiv.METTL  ||\n",
      "|| 14.input.fc.summary\"                                                       ||\n",
      "||                                                                            ||\n",
      "\\\\===================== http://subread.sourceforge.net/ ======================//\n",
      "\n",
      "\n",
      "        ==========     _____ _    _ ____  _____  ______          _____  \n",
      "        =====         / ____| |  | |  _ \\|  __ \\|  ____|   /\\   |  __ \\ \n",
      "          =====      | (___ | |  | | |_) | |__) | |__     /  \\  | |  | |\n",
      "            ====      \\___ \\| |  | |  _ <|  _  /|  __|   / /\\ \\ | |  | |\n",
      "              ====    ____) | |__| | |_) | | \\ \\| |____ / ____ \\| |__| |\n",
      "        ==========   |_____/ \\____/|____/|_|  \\_\\______/_/    \\_\\_____/\n",
      "\t  v1.6.0\n",
      "\n",
      "//========================== featureCounts setting ===========================\\\\\n",
      "||                                                                            ||\n",
      "||             Input files : 1 BAM file                                       ||\n",
      "||                           S bam/s24.hiv.METTL14.m6A.bam                    ||\n",
      "||                                                                            ||\n",
      "||             Output file : peakcount/s24.hiv.METTL14.m6A.fc                 ||\n",
      "||                 Summary : peakcount/s24.hiv.METTL14.m6A.fc.summary         ||\n",
      "||              Annotation : exomepeak/hiv.control/WINDOW_15_STEP_5_LENGT ... ||\n",
      "||      Dir for temp files : peakcount                                        ||\n",
      "||                                                                            ||\n",
      "||                 Threads : 12                                               ||\n",
      "||                   Level : meta-feature level                               ||\n",
      "||              Paired-end : no                                               ||\n",
      "||         Strand specific : no                                               ||\n",
      "||      Multimapping reads : not counted                                      ||\n",
      "|| Multi-overlapping reads : counted                                          ||\n",
      "||   Min overlapping bases : 1                                                ||\n",
      "||                                                                            ||\n",
      "\\\\===================== http://subread.sourceforge.net/ ======================//\n",
      "\n",
      "//================================= Running ==================================\\\\\n",
      "||                                                                            ||\n",
      "|| Load annotation file exomepeak/hiv.control/WINDOW_15_STEP_5_LENGTH_15_ ... ||\n",
      "||    Features : 14                                                           ||\n",
      "||    Meta-features : 13                                                      ||\n",
      "||    Chromosomes/contigs : 1                                                 ||\n",
      "||                                                                            ||\n",
      "|| Process BAM file bam/s24.hiv.METTL14.m6A.bam...                            ||\n",
      "||    Single-end reads are included.                                          ||\n",
      "||    Assign reads to features...                                             ||\n",
      "||    Total reads : 90620                                                     ||\n",
      "||    Successfully assigned reads : 63925 (70.5%)                             ||\n",
      "||    Running time : 0.01 minutes                                             ||\n",
      "||                                                                            ||\n",
      "||                         Read assignment finished.                          ||\n",
      "||                                                                            ||\n",
      "|| Summary of counting results can be found in file \"peakcount/s24.hiv.METTL  ||\n",
      "|| 14.m6A.fc.summary\"                                                         ||\n",
      "||                                                                            ||\n",
      "\\\\===================== http://subread.sourceforge.net/ ======================//\n",
      "\n",
      "\n",
      "        ==========     _____ _    _ ____  _____  ______          _____  \n",
      "        =====         / ____| |  | |  _ \\|  __ \\|  ____|   /\\   |  __ \\ \n",
      "          =====      | (___ | |  | | |_) | |__) | |__     /  \\  | |  | |\n",
      "            ====      \\___ \\| |  | |  _ <|  _  /|  __|   / /\\ \\ | |  | |\n",
      "              ====    ____) | |__| | |_) | | \\ \\| |____ / ____ \\| |__| |\n",
      "        ==========   |_____/ \\____/|____/|_|  \\_\\______/_/    \\_\\_____/\n",
      "\t  v1.6.0\n",
      "\n",
      "//========================== featureCounts setting ===========================\\\\\n",
      "||                                                                            ||\n",
      "||             Input files : 1 BAM file                                       ||\n",
      "||                           S bam/s23.hiv.METTL3.input.bam                   ||\n",
      "||                                                                            ||\n",
      "||             Output file : peakcount/s23.hiv.METTL3.input.fc                ||\n",
      "||                 Summary : peakcount/s23.hiv.METTL3.input.fc.summary        ||\n",
      "||              Annotation : exomepeak/hiv.control/WINDOW_15_STEP_5_LENGT ... ||\n",
      "||      Dir for temp files : peakcount                                        ||\n",
      "||                                                                            ||\n",
      "||                 Threads : 12                                               ||\n",
      "||                   Level : meta-feature level                               ||\n",
      "||              Paired-end : no                                               ||\n",
      "||         Strand specific : no                                               ||\n",
      "||      Multimapping reads : not counted                                      ||\n",
      "|| Multi-overlapping reads : counted                                          ||\n",
      "||   Min overlapping bases : 1                                                ||\n",
      "||                                                                            ||\n",
      "\\\\===================== http://subread.sourceforge.net/ ======================//\n",
      "\n",
      "//================================= Running ==================================\\\\\n",
      "||                                                                            ||\n",
      "|| Load annotation file exomepeak/hiv.control/WINDOW_15_STEP_5_LENGTH_15_ ... ||\n",
      "||    Features : 14                                                           ||\n",
      "||    Meta-features : 13                                                      ||\n",
      "||    Chromosomes/contigs : 1                                                 ||\n",
      "||                                                                            ||\n",
      "|| Process BAM file bam/s23.hiv.METTL3.input.bam...                           ||\n",
      "||    Single-end reads are included.                                          ||\n",
      "||    Assign reads to features...                                             ||\n",
      "||    Total reads : 319640                                                    ||\n",
      "||    Successfully assigned reads : 42880 (13.4%)                             ||\n",
      "||    Running time : 0.01 minutes                                             ||\n",
      "||                                                                            ||\n",
      "||                         Read assignment finished.                          ||\n",
      "||                                                                            ||\n",
      "|| Summary of counting results can be found in file \"peakcount/s23.hiv.METTL  ||\n",
      "|| 3.input.fc.summary\"                                                        ||\n",
      "||                                                                            ||\n",
      "\\\\===================== http://subread.sourceforge.net/ ======================//\n",
      "\n",
      "\n",
      "        ==========     _____ _    _ ____  _____  ______          _____  \n",
      "        =====         / ____| |  | |  _ \\|  __ \\|  ____|   /\\   |  __ \\ \n",
      "          =====      | (___ | |  | | |_) | |__) | |__     /  \\  | |  | |\n",
      "            ====      \\___ \\| |  | |  _ <|  _  /|  __|   / /\\ \\ | |  | |\n",
      "              ====    ____) | |__| | |_) | | \\ \\| |____ / ____ \\| |__| |\n",
      "        ==========   |_____/ \\____/|____/|_|  \\_\\______/_/    \\_\\_____/\n",
      "\t  v1.6.0\n",
      "\n",
      "//========================== featureCounts setting ===========================\\\\\n",
      "||                                                                            ||\n",
      "||             Input files : 1 BAM file                                       ||\n",
      "||                           S bam/s23.hiv.METTL3.m6A.bam                     ||\n",
      "||                                                                            ||\n",
      "||             Output file : peakcount/s23.hiv.METTL3.m6A.fc                  ||\n",
      "||                 Summary : peakcount/s23.hiv.METTL3.m6A.fc.summary          ||\n",
      "||              Annotation : exomepeak/hiv.control/WINDOW_15_STEP_5_LENGT ... ||\n",
      "||      Dir for temp files : peakcount                                        ||\n",
      "||                                                                            ||\n",
      "||                 Threads : 12                                               ||\n",
      "||                   Level : meta-feature level                               ||\n",
      "||              Paired-end : no                                               ||\n",
      "||         Strand specific : no                                               ||\n",
      "||      Multimapping reads : not counted                                      ||\n",
      "|| Multi-overlapping reads : counted                                          ||\n",
      "||   Min overlapping bases : 1                                                ||\n",
      "||                                                                            ||\n",
      "\\\\===================== http://subread.sourceforge.net/ ======================//\n",
      "\n",
      "//================================= Running ==================================\\\\\n",
      "||                                                                            ||\n",
      "|| Load annotation file exomepeak/hiv.control/WINDOW_15_STEP_5_LENGTH_15_ ... ||\n",
      "||    Features : 14                                                           ||\n",
      "||    Meta-features : 13                                                      ||\n",
      "||    Chromosomes/contigs : 1                                                 ||\n",
      "||                                                                            ||\n",
      "|| Process BAM file bam/s23.hiv.METTL3.m6A.bam...                             ||\n",
      "||    Single-end reads are included.                                          ||\n",
      "||    Assign reads to features...                                             ||\n",
      "||    Total reads : 104416                                                    ||\n",
      "||    Successfully assigned reads : 67877 (65.0%)                             ||\n",
      "||    Running time : 0.01 minutes                                             ||\n",
      "||                                                                            ||\n",
      "||                         Read assignment finished.                          ||\n",
      "||                                                                            ||\n",
      "|| Summary of counting results can be found in file \"peakcount/s23.hiv.METTL  ||\n",
      "|| 3.m6A.fc.summary\"                                                          ||\n",
      "||                                                                            ||\n",
      "\\\\===================== http://subread.sourceforge.net/ ======================//\n",
      "\n",
      "\n",
      "        ==========     _____ _    _ ____  _____  ______          _____  \n",
      "        =====         / ____| |  | |  _ \\|  __ \\|  ____|   /\\   |  __ \\ \n",
      "          =====      | (___ | |  | | |_) | |__) | |__     /  \\  | |  | |\n",
      "            ====      \\___ \\| |  | |  _ <|  _  /|  __|   / /\\ \\ | |  | |\n",
      "              ====    ____) | |__| | |_) | | \\ \\| |____ / ____ \\| |__| |\n",
      "        ==========   |_____/ \\____/|____/|_|  \\_\\______/_/    \\_\\_____/\n",
      "\t  v1.6.0\n",
      "\n",
      "//========================== featureCounts setting ===========================\\\\\n",
      "||                                                                            ||\n",
      "||             Input files : 1 BAM file                                       ||\n",
      "||                           S bam/s24.hiv.METTL3.input.bam                   ||\n",
      "||                                                                            ||\n",
      "||             Output file : peakcount/s24.hiv.METTL3.input.fc                ||\n",
      "||                 Summary : peakcount/s24.hiv.METTL3.input.fc.summary        ||\n",
      "||              Annotation : exomepeak/hiv.control/WINDOW_15_STEP_5_LENGT ... ||\n",
      "||      Dir for temp files : peakcount                                        ||\n",
      "||                                                                            ||\n",
      "||                 Threads : 12                                               ||\n",
      "||                   Level : meta-feature level                               ||\n",
      "||              Paired-end : no                                               ||\n",
      "||         Strand specific : no                                               ||\n",
      "||      Multimapping reads : not counted                                      ||\n",
      "|| Multi-overlapping reads : counted                                          ||\n",
      "||   Min overlapping bases : 1                                                ||\n",
      "||                                                                            ||\n",
      "\\\\===================== http://subread.sourceforge.net/ ======================//\n",
      "\n",
      "//================================= Running ==================================\\\\\n",
      "||                                                                            ||\n",
      "|| Load annotation file exomepeak/hiv.control/WINDOW_15_STEP_5_LENGTH_15_ ... ||\n",
      "||    Features : 14                                                           ||\n",
      "||    Meta-features : 13                                                      ||\n",
      "||    Chromosomes/contigs : 1                                                 ||\n",
      "||                                                                            ||\n",
      "|| Process BAM file bam/s24.hiv.METTL3.input.bam...                           ||\n",
      "||    Single-end reads are included.                                          ||\n",
      "||    Assign reads to features...                                             ||\n",
      "||    Total reads : 282148                                                    ||\n",
      "||    Successfully assigned reads : 38773 (13.7%)                             ||\n",
      "||    Running time : 0.01 minutes                                             ||\n",
      "||                                                                            ||\n",
      "||                         Read assignment finished.                          ||\n",
      "||                                                                            ||\n",
      "|| Summary of counting results can be found in file \"peakcount/s24.hiv.METTL  ||\n",
      "|| 3.input.fc.summary\"                                                        ||\n",
      "||                                                                            ||\n",
      "\\\\===================== http://subread.sourceforge.net/ ======================//\n",
      "\n",
      "\n",
      "        ==========     _____ _    _ ____  _____  ______          _____  \n",
      "        =====         / ____| |  | |  _ \\|  __ \\|  ____|   /\\   |  __ \\ \n",
      "          =====      | (___ | |  | | |_) | |__) | |__     /  \\  | |  | |\n",
      "            ====      \\___ \\| |  | |  _ <|  _  /|  __|   / /\\ \\ | |  | |\n",
      "              ====    ____) | |__| | |_) | | \\ \\| |____ / ____ \\| |__| |\n",
      "        ==========   |_____/ \\____/|____/|_|  \\_\\______/_/    \\_\\_____/\n",
      "\t  v1.6.0\n",
      "\n",
      "//========================== featureCounts setting ===========================\\\\\n",
      "||                                                                            ||\n",
      "||             Input files : 1 BAM file                                       ||\n",
      "||                           S bam/s24.hiv.METTL3.m6A.bam                     ||\n",
      "||                                                                            ||\n",
      "||             Output file : peakcount/s24.hiv.METTL3.m6A.fc                  ||\n",
      "||                 Summary : peakcount/s24.hiv.METTL3.m6A.fc.summary          ||\n",
      "||              Annotation : exomepeak/hiv.control/WINDOW_15_STEP_5_LENGT ... ||\n",
      "||      Dir for temp files : peakcount                                        ||\n",
      "||                                                                            ||\n",
      "||                 Threads : 12                                               ||\n",
      "||                   Level : meta-feature level                               ||\n",
      "||              Paired-end : no                                               ||\n",
      "||         Strand specific : no                                               ||\n",
      "||      Multimapping reads : not counted                                      ||\n",
      "|| Multi-overlapping reads : counted                                          ||\n",
      "||   Min overlapping bases : 1                                                ||\n",
      "||                                                                            ||\n",
      "\\\\===================== http://subread.sourceforge.net/ ======================//\n",
      "\n",
      "//================================= Running ==================================\\\\\n",
      "||                                                                            ||\n",
      "|| Load annotation file exomepeak/hiv.control/WINDOW_15_STEP_5_LENGTH_15_ ... ||\n",
      "||    Features : 14                                                           ||\n",
      "||    Meta-features : 13                                                      ||\n",
      "||    Chromosomes/contigs : 1                                                 ||\n",
      "||                                                                            ||\n",
      "|| Process BAM file bam/s24.hiv.METTL3.m6A.bam...                             ||\n",
      "||    Single-end reads are included.                                          ||\n",
      "||    Assign reads to features...                                             ||\n",
      "||    Total reads : 162199                                                    ||\n",
      "||    Successfully assigned reads : 105442 (65.0%)                            ||\n",
      "||    Running time : 0.01 minutes                                             ||\n",
      "||                                                                            ||\n",
      "||                         Read assignment finished.                          ||\n",
      "||                                                                            ||\n",
      "|| Summary of counting results can be found in file \"peakcount/s24.hiv.METTL  ||\n",
      "|| 3.m6A.fc.summary\"                                                          ||\n",
      "||                                                                            ||\n",
      "\\\\===================== http://subread.sourceforge.net/ ======================//\n",
      "\n",
      "\n",
      "        ==========     _____ _    _ ____  _____  ______          _____  \n",
      "        =====         / ____| |  | |  _ \\|  __ \\|  ____|   /\\   |  __ \\ \n",
      "          =====      | (___ | |  | | |_) | |__) | |__     /  \\  | |  | |\n",
      "            ====      \\___ \\| |  | |  _ <|  _  /|  __|   / /\\ \\ | |  | |\n",
      "              ====    ____) | |__| | |_) | | \\ \\| |____ / ____ \\| |__| |\n",
      "        ==========   |_____/ \\____/|____/|_|  \\_\\______/_/    \\_\\_____/\n",
      "\t  v1.6.0\n",
      "\n",
      "//========================== featureCounts setting ===========================\\\\\n",
      "||                                                                            ||\n",
      "||             Input files : 1 BAM file                                       ||\n",
      "||                           S bam/s23.hiv.Virma.input.bam                    ||\n",
      "||                                                                            ||\n",
      "||             Output file : peakcount/s23.hiv.Virma.input.fc                 ||\n",
      "||                 Summary : peakcount/s23.hiv.Virma.input.fc.summary         ||\n",
      "||              Annotation : exomepeak/hiv.control/WINDOW_15_STEP_5_LENGT ... ||\n",
      "||      Dir for temp files : peakcount                                        ||\n",
      "||                                                                            ||\n",
      "||                 Threads : 12                                               ||\n",
      "||                   Level : meta-feature level                               ||\n",
      "||              Paired-end : no                                               ||\n",
      "||         Strand specific : no                                               ||\n",
      "||      Multimapping reads : not counted                                      ||\n",
      "|| Multi-overlapping reads : counted                                          ||\n",
      "||   Min overlapping bases : 1                                                ||\n",
      "||                                                                            ||\n",
      "\\\\===================== http://subread.sourceforge.net/ ======================//\n",
      "\n",
      "//================================= Running ==================================\\\\\n",
      "||                                                                            ||\n",
      "|| Load annotation file exomepeak/hiv.control/WINDOW_15_STEP_5_LENGTH_15_ ... ||\n",
      "||    Features : 14                                                           ||\n",
      "||    Meta-features : 13                                                      ||\n",
      "||    Chromosomes/contigs : 1                                                 ||\n",
      "||                                                                            ||\n",
      "|| Process BAM file bam/s23.hiv.Virma.input.bam...                            ||\n",
      "||    Single-end reads are included.                                          ||\n",
      "||    Assign reads to features...                                             ||\n",
      "||    Total reads : 344233                                                    ||\n",
      "||    Successfully assigned reads : 46194 (13.4%)                             ||\n",
      "||    Running time : 0.01 minutes                                             ||\n",
      "||                                                                            ||\n",
      "||                         Read assignment finished.                          ||\n",
      "||                                                                            ||\n",
      "|| Summary of counting results can be found in file \"peakcount/s23.hiv.Virma  ||\n",
      "|| .input.fc.summary\"                                                         ||\n",
      "||                                                                            ||\n",
      "\\\\===================== http://subread.sourceforge.net/ ======================//\n",
      "\n",
      "\n",
      "        ==========     _____ _    _ ____  _____  ______          _____  \n",
      "        =====         / ____| |  | |  _ \\|  __ \\|  ____|   /\\   |  __ \\ \n",
      "          =====      | (___ | |  | | |_) | |__) | |__     /  \\  | |  | |\n",
      "            ====      \\___ \\| |  | |  _ <|  _  /|  __|   / /\\ \\ | |  | |\n",
      "              ====    ____) | |__| | |_) | | \\ \\| |____ / ____ \\| |__| |\n",
      "        ==========   |_____/ \\____/|____/|_|  \\_\\______/_/    \\_\\_____/\n",
      "\t  v1.6.0\n",
      "\n",
      "//========================== featureCounts setting ===========================\\\\\n",
      "||                                                                            ||\n",
      "||             Input files : 1 BAM file                                       ||\n",
      "||                           S bam/s23.hiv.Virma.m6A.bam                      ||\n",
      "||                                                                            ||\n",
      "||             Output file : peakcount/s23.hiv.Virma.m6A.fc                   ||\n",
      "||                 Summary : peakcount/s23.hiv.Virma.m6A.fc.summary           ||\n",
      "||              Annotation : exomepeak/hiv.control/WINDOW_15_STEP_5_LENGT ... ||\n",
      "||      Dir for temp files : peakcount                                        ||\n",
      "||                                                                            ||\n",
      "||                 Threads : 12                                               ||\n",
      "||                   Level : meta-feature level                               ||\n",
      "||              Paired-end : no                                               ||\n",
      "||         Strand specific : no                                               ||\n",
      "||      Multimapping reads : not counted                                      ||\n",
      "|| Multi-overlapping reads : counted                                          ||\n",
      "||   Min overlapping bases : 1                                                ||\n",
      "||                                                                            ||\n",
      "\\\\===================== http://subread.sourceforge.net/ ======================//\n",
      "\n",
      "//================================= Running ==================================\\\\\n",
      "||                                                                            ||\n",
      "|| Load annotation file exomepeak/hiv.control/WINDOW_15_STEP_5_LENGTH_15_ ... ||\n",
      "||    Features : 14                                                           ||\n",
      "||    Meta-features : 13                                                      ||\n",
      "||    Chromosomes/contigs : 1                                                 ||\n",
      "||                                                                            ||\n",
      "|| Process BAM file bam/s23.hiv.Virma.m6A.bam...                              ||\n",
      "||    Single-end reads are included.                                          ||\n",
      "||    Assign reads to features...                                             ||\n",
      "||    Total reads : 147820                                                    ||\n",
      "||    Successfully assigned reads : 102873 (69.6%)                            ||\n",
      "||    Running time : 0.01 minutes                                             ||\n",
      "||                                                                            ||\n",
      "||                         Read assignment finished.                          ||\n",
      "||                                                                            ||\n",
      "|| Summary of counting results can be found in file \"peakcount/s23.hiv.Virma  ||\n",
      "|| .m6A.fc.summary\"                                                           ||\n",
      "||                                                                            ||\n",
      "\\\\===================== http://subread.sourceforge.net/ ======================//\n",
      "\n",
      "\n",
      "        ==========     _____ _    _ ____  _____  ______          _____  \n",
      "        =====         / ____| |  | |  _ \\|  __ \\|  ____|   /\\   |  __ \\ \n",
      "          =====      | (___ | |  | | |_) | |__) | |__     /  \\  | |  | |\n",
      "            ====      \\___ \\| |  | |  _ <|  _  /|  __|   / /\\ \\ | |  | |\n",
      "              ====    ____) | |__| | |_) | | \\ \\| |____ / ____ \\| |__| |\n",
      "        ==========   |_____/ \\____/|____/|_|  \\_\\______/_/    \\_\\_____/\n",
      "\t  v1.6.0\n",
      "\n",
      "//========================== featureCounts setting ===========================\\\\\n",
      "||                                                                            ||\n",
      "||             Input files : 1 BAM file                                       ||\n",
      "||                           S bam/s24.hiv.Virma.input.bam                    ||\n",
      "||                                                                            ||\n",
      "||             Output file : peakcount/s24.hiv.Virma.input.fc                 ||\n",
      "||                 Summary : peakcount/s24.hiv.Virma.input.fc.summary         ||\n",
      "||              Annotation : exomepeak/hiv.control/WINDOW_15_STEP_5_LENGT ... ||\n",
      "||      Dir for temp files : peakcount                                        ||\n",
      "||                                                                            ||\n",
      "||                 Threads : 12                                               ||\n",
      "||                   Level : meta-feature level                               ||\n",
      "||              Paired-end : no                                               ||\n",
      "||         Strand specific : no                                               ||\n",
      "||      Multimapping reads : not counted                                      ||\n",
      "|| Multi-overlapping reads : counted                                          ||\n",
      "||   Min overlapping bases : 1                                                ||\n",
      "||                                                                            ||\n",
      "\\\\===================== http://subread.sourceforge.net/ ======================//\n",
      "\n",
      "//================================= Running ==================================\\\\\n",
      "||                                                                            ||\n",
      "|| Load annotation file exomepeak/hiv.control/WINDOW_15_STEP_5_LENGTH_15_ ... ||\n",
      "||    Features : 14                                                           ||\n",
      "||    Meta-features : 13                                                      ||\n",
      "||    Chromosomes/contigs : 1                                                 ||\n",
      "||                                                                            ||\n",
      "|| Process BAM file bam/s24.hiv.Virma.input.bam...                            ||\n",
      "||    Single-end reads are included.                                          ||\n",
      "||    Assign reads to features...                                             ||\n",
      "||    Total reads : 227101                                                    ||\n",
      "||    Successfully assigned reads : 31200 (13.7%)                             ||\n",
      "||    Running time : 0.01 minutes                                             ||\n",
      "||                                                                            ||\n",
      "||                         Read assignment finished.                          ||\n",
      "||                                                                            ||\n",
      "|| Summary of counting results can be found in file \"peakcount/s24.hiv.Virma  ||\n",
      "|| .input.fc.summary\"                                                         ||\n",
      "||                                                                            ||\n",
      "\\\\===================== http://subread.sourceforge.net/ ======================//\n",
      "\n",
      "\n",
      "        ==========     _____ _    _ ____  _____  ______          _____  \n",
      "        =====         / ____| |  | |  _ \\|  __ \\|  ____|   /\\   |  __ \\ \n",
      "          =====      | (___ | |  | | |_) | |__) | |__     /  \\  | |  | |\n",
      "            ====      \\___ \\| |  | |  _ <|  _  /|  __|   / /\\ \\ | |  | |\n",
      "              ====    ____) | |__| | |_) | | \\ \\| |____ / ____ \\| |__| |\n",
      "        ==========   |_____/ \\____/|____/|_|  \\_\\______/_/    \\_\\_____/\n",
      "\t  v1.6.0\n",
      "\n",
      "//========================== featureCounts setting ===========================\\\\\n",
      "||                                                                            ||\n",
      "||             Input files : 1 BAM file                                       ||\n",
      "||                           S bam/s24.hiv.Virma.m6A.bam                      ||\n",
      "||                                                                            ||\n",
      "||             Output file : peakcount/s24.hiv.Virma.m6A.fc                   ||\n",
      "||                 Summary : peakcount/s24.hiv.Virma.m6A.fc.summary           ||\n",
      "||              Annotation : exomepeak/hiv.control/WINDOW_15_STEP_5_LENGT ... ||\n",
      "||      Dir for temp files : peakcount                                        ||\n",
      "||                                                                            ||\n",
      "||                 Threads : 12                                               ||\n",
      "||                   Level : meta-feature level                               ||\n",
      "||              Paired-end : no                                               ||\n",
      "||         Strand specific : no                                               ||\n",
      "||      Multimapping reads : not counted                                      ||\n",
      "|| Multi-overlapping reads : counted                                          ||\n",
      "||   Min overlapping bases : 1                                                ||\n",
      "||                                                                            ||\n",
      "\\\\===================== http://subread.sourceforge.net/ ======================//\n",
      "\n",
      "//================================= Running ==================================\\\\\n",
      "||                                                                            ||\n",
      "|| Load annotation file exomepeak/hiv.control/WINDOW_15_STEP_5_LENGTH_15_ ... ||\n",
      "||    Features : 14                                                           ||\n",
      "||    Meta-features : 13                                                      ||\n",
      "||    Chromosomes/contigs : 1                                                 ||\n",
      "||                                                                            ||\n",
      "|| Process BAM file bam/s24.hiv.Virma.m6A.bam...                              ||\n",
      "||    Single-end reads are included.                                          ||\n",
      "||    Assign reads to features...                                             ||\n",
      "||    Total reads : 109372                                                    ||\n",
      "||    Successfully assigned reads : 74996 (68.6%)                             ||\n",
      "||    Running time : 0.00 minutes                                             ||\n",
      "||                                                                            ||\n",
      "||                         Read assignment finished.                          ||\n",
      "||                                                                            ||\n",
      "|| Summary of counting results can be found in file \"peakcount/s24.hiv.Virma  ||\n",
      "|| .m6A.fc.summary\"                                                           ||\n",
      "||                                                                            ||\n",
      "\\\\===================== http://subread.sourceforge.net/ ======================//\n",
      "\n",
      "\n",
      "        ==========     _____ _    _ ____  _____  ______          _____  \n",
      "        =====         / ____| |  | |  _ \\|  __ \\|  ____|   /\\   |  __ \\ \n",
      "          =====      | (___ | |  | | |_) | |__) | |__     /  \\  | |  | |\n",
      "            ====      \\___ \\| |  | |  _ <|  _  /|  __|   / /\\ \\ | |  | |\n",
      "              ====    ____) | |__| | |_) | | \\ \\| |____ / ____ \\| |__| |\n",
      "        ==========   |_____/ \\____/|____/|_|  \\_\\______/_/    \\_\\_____/\n",
      "\t  v1.6.0\n",
      "\n",
      "//========================== featureCounts setting ===========================\\\\\n",
      "||                                                                            ||\n",
      "||             Input files : 1 BAM file                                       ||\n",
      "||                           S bam/s23.hiv.WTAP.input.bam                     ||\n",
      "||                                                                            ||\n",
      "||             Output file : peakcount/s23.hiv.WTAP.input.fc                  ||\n",
      "||                 Summary : peakcount/s23.hiv.WTAP.input.fc.summary          ||\n",
      "||              Annotation : exomepeak/hiv.control/WINDOW_15_STEP_5_LENGT ... ||\n",
      "||      Dir for temp files : peakcount                                        ||\n",
      "||                                                                            ||\n",
      "||                 Threads : 12                                               ||\n",
      "||                   Level : meta-feature level                               ||\n",
      "||              Paired-end : no                                               ||\n",
      "||         Strand specific : no                                               ||\n",
      "||      Multimapping reads : not counted                                      ||\n",
      "|| Multi-overlapping reads : counted                                          ||\n",
      "||   Min overlapping bases : 1                                                ||\n",
      "||                                                                            ||\n",
      "\\\\===================== http://subread.sourceforge.net/ ======================//\n",
      "\n",
      "//================================= Running ==================================\\\\\n",
      "||                                                                            ||\n",
      "|| Load annotation file exomepeak/hiv.control/WINDOW_15_STEP_5_LENGTH_15_ ... ||\n",
      "||    Features : 14                                                           ||\n",
      "||    Meta-features : 13                                                      ||\n",
      "||    Chromosomes/contigs : 1                                                 ||\n",
      "||                                                                            ||\n",
      "|| Process BAM file bam/s23.hiv.WTAP.input.bam...                             ||\n",
      "||    Single-end reads are included.                                          ||\n",
      "||    Assign reads to features...                                             ||\n",
      "||    Total reads : 388294                                                    ||\n",
      "||    Successfully assigned reads : 50175 (12.9%)                             ||\n",
      "||    Running time : 0.01 minutes                                             ||\n",
      "||                                                                            ||\n",
      "||                         Read assignment finished.                          ||\n",
      "||                                                                            ||\n",
      "|| Summary of counting results can be found in file \"peakcount/s23.hiv.WTAP.  ||\n",
      "|| input.fc.summary\"                                                          ||\n",
      "||                                                                            ||\n",
      "\\\\===================== http://subread.sourceforge.net/ ======================//\n",
      "\n",
      "\n",
      "        ==========     _____ _    _ ____  _____  ______          _____  \n",
      "        =====         / ____| |  | |  _ \\|  __ \\|  ____|   /\\   |  __ \\ \n",
      "          =====      | (___ | |  | | |_) | |__) | |__     /  \\  | |  | |\n",
      "            ====      \\___ \\| |  | |  _ <|  _  /|  __|   / /\\ \\ | |  | |\n",
      "              ====    ____) | |__| | |_) | | \\ \\| |____ / ____ \\| |__| |\n",
      "        ==========   |_____/ \\____/|____/|_|  \\_\\______/_/    \\_\\_____/\n",
      "\t  v1.6.0\n",
      "\n",
      "//========================== featureCounts setting ===========================\\\\\n",
      "||                                                                            ||\n",
      "||             Input files : 1 BAM file                                       ||\n",
      "||                           S bam/s23.hiv.WTAP.m6A.bam                       ||\n",
      "||                                                                            ||\n",
      "||             Output file : peakcount/s23.hiv.WTAP.m6A.fc                    ||\n",
      "||                 Summary : peakcount/s23.hiv.WTAP.m6A.fc.summary            ||\n",
      "||              Annotation : exomepeak/hiv.control/WINDOW_15_STEP_5_LENGT ... ||\n",
      "||      Dir for temp files : peakcount                                        ||\n",
      "||                                                                            ||\n",
      "||                 Threads : 12                                               ||\n",
      "||                   Level : meta-feature level                               ||\n",
      "||              Paired-end : no                                               ||\n",
      "||         Strand specific : no                                               ||\n",
      "||      Multimapping reads : not counted                                      ||\n",
      "|| Multi-overlapping reads : counted                                          ||\n",
      "||   Min overlapping bases : 1                                                ||\n",
      "||                                                                            ||\n",
      "\\\\===================== http://subread.sourceforge.net/ ======================//\n",
      "\n",
      "//================================= Running ==================================\\\\\n",
      "||                                                                            ||\n",
      "|| Load annotation file exomepeak/hiv.control/WINDOW_15_STEP_5_LENGTH_15_ ... ||\n",
      "||    Features : 14                                                           ||\n",
      "||    Meta-features : 13                                                      ||\n",
      "||    Chromosomes/contigs : 1                                                 ||\n",
      "||                                                                            ||\n",
      "|| Process BAM file bam/s23.hiv.WTAP.m6A.bam...                               ||\n",
      "||    Single-end reads are included.                                          ||\n",
      "||    Assign reads to features...                                             ||\n",
      "||    Total reads : 153240                                                    ||\n",
      "||    Successfully assigned reads : 96807 (63.2%)                             ||\n",
      "||    Running time : 0.01 minutes                                             ||\n",
      "||                                                                            ||\n",
      "||                         Read assignment finished.                          ||\n",
      "||                                                                            ||\n",
      "|| Summary of counting results can be found in file \"peakcount/s23.hiv.WTAP.  ||\n",
      "|| m6A.fc.summary\"                                                            ||\n",
      "||                                                                            ||\n",
      "\\\\===================== http://subread.sourceforge.net/ ======================//\n",
      "\n",
      "\n",
      "        ==========     _____ _    _ ____  _____  ______          _____  \n",
      "        =====         / ____| |  | |  _ \\|  __ \\|  ____|   /\\   |  __ \\ \n",
      "          =====      | (___ | |  | | |_) | |__) | |__     /  \\  | |  | |\n",
      "            ====      \\___ \\| |  | |  _ <|  _  /|  __|   / /\\ \\ | |  | |\n",
      "              ====    ____) | |__| | |_) | | \\ \\| |____ / ____ \\| |__| |\n",
      "        ==========   |_____/ \\____/|____/|_|  \\_\\______/_/    \\_\\_____/\n",
      "\t  v1.6.0\n",
      "\n",
      "//========================== featureCounts setting ===========================\\\\\n",
      "||                                                                            ||\n",
      "||             Input files : 1 BAM file                                       ||\n",
      "||                           S bam/s24.hiv.WTAP.input.bam                     ||\n",
      "||                                                                            ||\n",
      "||             Output file : peakcount/s24.hiv.WTAP.input.fc                  ||\n",
      "||                 Summary : peakcount/s24.hiv.WTAP.input.fc.summary          ||\n",
      "||              Annotation : exomepeak/hiv.control/WINDOW_15_STEP_5_LENGT ... ||\n",
      "||      Dir for temp files : peakcount                                        ||\n",
      "||                                                                            ||\n",
      "||                 Threads : 12                                               ||\n",
      "||                   Level : meta-feature level                               ||\n",
      "||              Paired-end : no                                               ||\n",
      "||         Strand specific : no                                               ||\n",
      "||      Multimapping reads : not counted                                      ||\n",
      "|| Multi-overlapping reads : counted                                          ||\n",
      "||   Min overlapping bases : 1                                                ||\n",
      "||                                                                            ||\n",
      "\\\\===================== http://subread.sourceforge.net/ ======================//\n",
      "\n",
      "//================================= Running ==================================\\\\\n",
      "||                                                                            ||\n",
      "|| Load annotation file exomepeak/hiv.control/WINDOW_15_STEP_5_LENGTH_15_ ... ||\n",
      "||    Features : 14                                                           ||\n",
      "||    Meta-features : 13                                                      ||\n",
      "||    Chromosomes/contigs : 1                                                 ||\n",
      "||                                                                            ||\n",
      "|| Process BAM file bam/s24.hiv.WTAP.input.bam...                             ||\n",
      "||    Single-end reads are included.                                          ||\n",
      "||    Assign reads to features...                                             ||\n",
      "||    Total reads : 237696                                                    ||\n",
      "||    Successfully assigned reads : 33822 (14.2%)                             ||\n",
      "||    Running time : 0.01 minutes                                             ||\n",
      "||                                                                            ||\n",
      "||                         Read assignment finished.                          ||\n",
      "||                                                                            ||\n",
      "|| Summary of counting results can be found in file \"peakcount/s24.hiv.WTAP.  ||\n",
      "|| input.fc.summary\"                                                          ||\n",
      "||                                                                            ||\n",
      "\\\\===================== http://subread.sourceforge.net/ ======================//\n",
      "\n",
      "\n",
      "        ==========     _____ _    _ ____  _____  ______          _____  \n",
      "        =====         / ____| |  | |  _ \\|  __ \\|  ____|   /\\   |  __ \\ \n",
      "          =====      | (___ | |  | | |_) | |__) | |__     /  \\  | |  | |\n",
      "            ====      \\___ \\| |  | |  _ <|  _  /|  __|   / /\\ \\ | |  | |\n",
      "              ====    ____) | |__| | |_) | | \\ \\| |____ / ____ \\| |__| |\n",
      "        ==========   |_____/ \\____/|____/|_|  \\_\\______/_/    \\_\\_____/\n",
      "\t  v1.6.0\n",
      "\n",
      "//========================== featureCounts setting ===========================\\\\\n",
      "||                                                                            ||\n",
      "||             Input files : 1 BAM file                                       ||\n",
      "||                           S bam/s24.hiv.WTAP.m6A.bam                       ||\n",
      "||                                                                            ||\n",
      "||             Output file : peakcount/s24.hiv.WTAP.m6A.fc                    ||\n",
      "||                 Summary : peakcount/s24.hiv.WTAP.m6A.fc.summary            ||\n",
      "||              Annotation : exomepeak/hiv.control/WINDOW_15_STEP_5_LENGT ... ||\n",
      "||      Dir for temp files : peakcount                                        ||\n",
      "||                                                                            ||\n",
      "||                 Threads : 12                                               ||\n",
      "||                   Level : meta-feature level                               ||\n",
      "||              Paired-end : no                                               ||\n",
      "||         Strand specific : no                                               ||\n",
      "||      Multimapping reads : not counted                                      ||\n",
      "|| Multi-overlapping reads : counted                                          ||\n",
      "||   Min overlapping bases : 1                                                ||\n",
      "||                                                                            ||\n",
      "\\\\===================== http://subread.sourceforge.net/ ======================//\n",
      "\n",
      "//================================= Running ==================================\\\\\n",
      "||                                                                            ||\n",
      "|| Load annotation file exomepeak/hiv.control/WINDOW_15_STEP_5_LENGTH_15_ ... ||\n",
      "||    Features : 14                                                           ||\n",
      "||    Meta-features : 13                                                      ||\n",
      "||    Chromosomes/contigs : 1                                                 ||\n",
      "||                                                                            ||\n",
      "|| Process BAM file bam/s24.hiv.WTAP.m6A.bam...                               ||\n",
      "||    Single-end reads are included.                                          ||\n",
      "||    Assign reads to features...                                             ||\n",
      "||    Total reads : 117554                                                    ||\n",
      "||    Successfully assigned reads : 77494 (65.9%)                             ||\n",
      "||    Running time : 0.01 minutes                                             ||\n",
      "||                                                                            ||\n",
      "||                         Read assignment finished.                          ||\n",
      "||                                                                            ||\n",
      "|| Summary of counting results can be found in file \"peakcount/s24.hiv.WTAP.  ||\n",
      "|| m6A.fc.summary\"                                                            ||\n",
      "||                                                                            ||\n",
      "\\\\===================== http://subread.sourceforge.net/ ======================//\n",
      "\n",
      "\n",
      "        ==========     _____ _    _ ____  _____  ______          _____  \n",
      "        =====         / ____| |  | |  _ \\|  __ \\|  ____|   /\\   |  __ \\ \n",
      "          =====      | (___ | |  | | |_) | |__) | |__     /  \\  | |  | |\n",
      "            ====      \\___ \\| |  | |  _ <|  _  /|  __|   / /\\ \\ | |  | |\n",
      "              ====    ____) | |__| | |_) | | \\ \\| |____ / ____ \\| |__| |\n",
      "        ==========   |_____/ \\____/|____/|_|  \\_\\______/_/    \\_\\_____/\n",
      "\t  v1.6.0\n",
      "\n",
      "//========================== featureCounts setting ===========================\\\\\n",
      "||                                                                            ||\n",
      "||             Input files : 1 BAM file                                       ||\n",
      "||                           S bam/s23.hiv.NT.input.bam                       ||\n",
      "||                                                                            ||\n",
      "||             Output file : peakcount/s23.hiv.NT.input.fc                    ||\n",
      "||                 Summary : peakcount/s23.hiv.NT.input.fc.summary            ||\n",
      "||              Annotation : exomepeak/hiv.control/WINDOW_15_STEP_5_LENGT ... ||\n",
      "||      Dir for temp files : peakcount                                        ||\n",
      "||                                                                            ||\n",
      "||                 Threads : 12                                               ||\n",
      "||                   Level : meta-feature level                               ||\n",
      "||              Paired-end : no                                               ||\n",
      "||         Strand specific : no                                               ||\n",
      "||      Multimapping reads : not counted                                      ||\n",
      "|| Multi-overlapping reads : counted                                          ||\n",
      "||   Min overlapping bases : 1                                                ||\n",
      "||                                                                            ||\n",
      "\\\\===================== http://subread.sourceforge.net/ ======================//\n",
      "\n",
      "//================================= Running ==================================\\\\\n",
      "||                                                                            ||\n",
      "|| Load annotation file exomepeak/hiv.control/WINDOW_15_STEP_5_LENGTH_15_ ... ||\n",
      "||    Features : 14                                                           ||\n",
      "||    Meta-features : 13                                                      ||\n",
      "||    Chromosomes/contigs : 1                                                 ||\n",
      "||                                                                            ||\n",
      "|| Process BAM file bam/s23.hiv.NT.input.bam...                               ||\n",
      "||    Single-end reads are included.                                          ||\n",
      "||    Assign reads to features...                                             ||\n",
      "||    Total reads : 176834                                                    ||\n",
      "||    Successfully assigned reads : 23629 (13.4%)                             ||\n",
      "||    Running time : 0.01 minutes                                             ||\n",
      "||                                                                            ||\n",
      "||                         Read assignment finished.                          ||\n",
      "||                                                                            ||\n",
      "|| Summary of counting results can be found in file \"peakcount/s23.hiv.NT.in  ||\n",
      "|| put.fc.summary\"                                                            ||\n",
      "||                                                                            ||\n",
      "\\\\===================== http://subread.sourceforge.net/ ======================//\n",
      "\n",
      "\n",
      "        ==========     _____ _    _ ____  _____  ______          _____  \n",
      "        =====         / ____| |  | |  _ \\|  __ \\|  ____|   /\\   |  __ \\ \n",
      "          =====      | (___ | |  | | |_) | |__) | |__     /  \\  | |  | |\n",
      "            ====      \\___ \\| |  | |  _ <|  _  /|  __|   / /\\ \\ | |  | |\n",
      "              ====    ____) | |__| | |_) | | \\ \\| |____ / ____ \\| |__| |\n",
      "        ==========   |_____/ \\____/|____/|_|  \\_\\______/_/    \\_\\_____/\n",
      "\t  v1.6.0\n",
      "\n",
      "//========================== featureCounts setting ===========================\\\\\n",
      "||                                                                            ||\n",
      "||             Input files : 1 BAM file                                       ||\n",
      "||                           S bam/s23.hiv.NT.m6A.bam                         ||\n",
      "||                                                                            ||\n",
      "||             Output file : peakcount/s23.hiv.NT.m6A.fc                      ||\n",
      "||                 Summary : peakcount/s23.hiv.NT.m6A.fc.summary              ||\n",
      "||              Annotation : exomepeak/hiv.control/WINDOW_15_STEP_5_LENGT ... ||\n",
      "||      Dir for temp files : peakcount                                        ||\n",
      "||                                                                            ||\n",
      "||                 Threads : 12                                               ||\n",
      "||                   Level : meta-feature level                               ||\n",
      "||              Paired-end : no                                               ||\n",
      "||         Strand specific : no                                               ||\n",
      "||      Multimapping reads : not counted                                      ||\n",
      "|| Multi-overlapping reads : counted                                          ||\n",
      "||   Min overlapping bases : 1                                                ||\n",
      "||                                                                            ||\n",
      "\\\\===================== http://subread.sourceforge.net/ ======================//\n",
      "\n",
      "//================================= Running ==================================\\\\\n",
      "||                                                                            ||\n",
      "|| Load annotation file exomepeak/hiv.control/WINDOW_15_STEP_5_LENGTH_15_ ... ||\n",
      "||    Features : 14                                                           ||\n",
      "||    Meta-features : 13                                                      ||\n",
      "||    Chromosomes/contigs : 1                                                 ||\n",
      "||                                                                            ||\n",
      "|| Process BAM file bam/s23.hiv.NT.m6A.bam...                                 ||\n",
      "||    Single-end reads are included.                                          ||\n",
      "||    Assign reads to features...                                             ||\n",
      "||    Total reads : 138915                                                    ||\n",
      "||    Successfully assigned reads : 101577 (73.1%)                            ||\n",
      "||    Running time : 0.01 minutes                                             ||\n",
      "||                                                                            ||\n",
      "||                         Read assignment finished.                          ||\n",
      "||                                                                            ||\n",
      "|| Summary of counting results can be found in file \"peakcount/s23.hiv.NT.m6  ||\n",
      "|| A.fc.summary\"                                                              ||\n",
      "||                                                                            ||\n",
      "\\\\===================== http://subread.sourceforge.net/ ======================//\n",
      "\n",
      "\n",
      "        ==========     _____ _    _ ____  _____  ______          _____  \n",
      "        =====         / ____| |  | |  _ \\|  __ \\|  ____|   /\\   |  __ \\ \n",
      "          =====      | (___ | |  | | |_) | |__) | |__     /  \\  | |  | |\n",
      "            ====      \\___ \\| |  | |  _ <|  _  /|  __|   / /\\ \\ | |  | |\n",
      "              ====    ____) | |__| | |_) | | \\ \\| |____ / ____ \\| |__| |\n",
      "        ==========   |_____/ \\____/|____/|_|  \\_\\______/_/    \\_\\_____/\n",
      "\t  v1.6.0\n",
      "\n",
      "//========================== featureCounts setting ===========================\\\\\n",
      "||                                                                            ||\n",
      "||             Input files : 1 BAM file                                       ||\n",
      "||                           S bam/s24.hiv.NT.input.bam                       ||\n",
      "||                                                                            ||\n",
      "||             Output file : peakcount/s24.hiv.NT.input.fc                    ||\n",
      "||                 Summary : peakcount/s24.hiv.NT.input.fc.summary            ||\n",
      "||              Annotation : exomepeak/hiv.control/WINDOW_15_STEP_5_LENGT ... ||\n",
      "||      Dir for temp files : peakcount                                        ||\n",
      "||                                                                            ||\n",
      "||                 Threads : 12                                               ||\n",
      "||                   Level : meta-feature level                               ||\n",
      "||              Paired-end : no                                               ||\n",
      "||         Strand specific : no                                               ||\n",
      "||      Multimapping reads : not counted                                      ||\n",
      "|| Multi-overlapping reads : counted                                          ||\n",
      "||   Min overlapping bases : 1                                                ||\n",
      "||                                                                            ||\n",
      "\\\\===================== http://subread.sourceforge.net/ ======================//\n",
      "\n",
      "//================================= Running ==================================\\\\\n",
      "||                                                                            ||\n",
      "|| Load annotation file exomepeak/hiv.control/WINDOW_15_STEP_5_LENGTH_15_ ... ||\n",
      "||    Features : 14                                                           ||\n",
      "||    Meta-features : 13                                                      ||\n",
      "||    Chromosomes/contigs : 1                                                 ||\n",
      "||                                                                            ||\n",
      "|| Process BAM file bam/s24.hiv.NT.input.bam...                               ||\n",
      "||    Single-end reads are included.                                          ||\n",
      "||    Assign reads to features...                                             ||\n",
      "||    Total reads : 236207                                                    ||\n",
      "||    Successfully assigned reads : 32379 (13.7%)                             ||\n",
      "||    Running time : 0.01 minutes                                             ||\n",
      "||                                                                            ||\n",
      "||                         Read assignment finished.                          ||\n",
      "||                                                                            ||\n",
      "|| Summary of counting results can be found in file \"peakcount/s24.hiv.NT.in  ||\n",
      "|| put.fc.summary\"                                                            ||\n",
      "||                                                                            ||\n",
      "\\\\===================== http://subread.sourceforge.net/ ======================//\n",
      "\n",
      "\n",
      "        ==========     _____ _    _ ____  _____  ______          _____  \n",
      "        =====         / ____| |  | |  _ \\|  __ \\|  ____|   /\\   |  __ \\ \n",
      "          =====      | (___ | |  | | |_) | |__) | |__     /  \\  | |  | |\n",
      "            ====      \\___ \\| |  | |  _ <|  _  /|  __|   / /\\ \\ | |  | |\n",
      "              ====    ____) | |__| | |_) | | \\ \\| |____ / ____ \\| |__| |\n",
      "        ==========   |_____/ \\____/|____/|_|  \\_\\______/_/    \\_\\_____/\n",
      "\t  v1.6.0\n",
      "\n",
      "//========================== featureCounts setting ===========================\\\\\n",
      "||                                                                            ||\n",
      "||             Input files : 1 BAM file                                       ||\n",
      "||                           S bam/s24.hiv.NT.m6A.bam                         ||\n",
      "||                                                                            ||\n",
      "||             Output file : peakcount/s24.hiv.NT.m6A.fc                      ||\n",
      "||                 Summary : peakcount/s24.hiv.NT.m6A.fc.summary              ||\n",
      "||              Annotation : exomepeak/hiv.control/WINDOW_15_STEP_5_LENGT ... ||\n",
      "||      Dir for temp files : peakcount                                        ||\n",
      "||                                                                            ||\n",
      "||                 Threads : 12                                               ||\n",
      "||                   Level : meta-feature level                               ||\n",
      "||              Paired-end : no                                               ||\n",
      "||         Strand specific : no                                               ||\n",
      "||      Multimapping reads : not counted                                      ||\n",
      "|| Multi-overlapping reads : counted                                          ||\n",
      "||   Min overlapping bases : 1                                                ||\n",
      "||                                                                            ||\n",
      "\\\\===================== http://subread.sourceforge.net/ ======================//\n",
      "\n",
      "//================================= Running ==================================\\\\\n",
      "||                                                                            ||\n",
      "|| Load annotation file exomepeak/hiv.control/WINDOW_15_STEP_5_LENGTH_15_ ... ||\n",
      "||    Features : 14                                                           ||\n",
      "||    Meta-features : 13                                                      ||\n",
      "||    Chromosomes/contigs : 1                                                 ||\n",
      "||                                                                            ||\n",
      "|| Process BAM file bam/s24.hiv.NT.m6A.bam...                                 ||\n",
      "||    Single-end reads are included.                                          ||\n",
      "||    Assign reads to features...                                             ||\n",
      "||    Total reads : 110166                                                    ||\n",
      "||    Successfully assigned reads : 79136 (71.8%)                             ||\n",
      "||    Running time : 0.01 minutes                                             ||\n",
      "||                                                                            ||\n",
      "||                         Read assignment finished.                          ||\n",
      "||                                                                            ||\n",
      "|| Summary of counting results can be found in file \"peakcount/s24.hiv.NT.m6  ||\n",
      "|| A.fc.summary\"                                                              ||\n",
      "||                                                                            ||\n",
      "\\\\===================== http://subread.sourceforge.net/ ======================//\n",
      "\n"
     ]
    }
   ],
   "source": [
    "%%bash\n",
    "declare -a StringArray=('METTL14' 'METTL3' 'Virma' 'WTAP' 'NT')\n",
    "for enz in \"${StringArray[@]}\"; \n",
    "    do for f in bam/*hiv.$enz*.bam; \n",
    "        do out=${f/.bam/.fc}; out=${out/bam/peakcount};             \n",
    "#             echo bamToBed -i $f $out # | \\\n",
    "#             intersectBed -s -wo -a - -b exomepeak/hiv.control/WINDOW_15_STEP_5_LENGTH_15_FDR_0.01_ENRICH_0.1/peak.bed | \\\n",
    "#             cut -f10 | sort | uniq -c | awk '{ print $2 \"\\t\" $1}' # > $out\n",
    "            featureCounts -T 12 -O -t exon -g gene_id \\\n",
    "            -a exomepeak/hiv.control/WINDOW_15_STEP_5_LENGTH_15_FDR_0.01_ENRICH_0.1/peak.gtf \\\n",
    "            -o $out $f;\n",
    "    done;\n",
    "done"
   ]
  },
  {
   "cell_type": "code",
   "execution_count": 15,
   "metadata": {},
   "outputs": [
    {
     "name": "stdout",
     "output_type": "stream",
     "text": [
      "total 9020\r\n",
      "-rw-r--r-- 1 abe users    885 Apr 20 03:59 s23.hiv.METTL14.input.fc\r\n",
      "-rw-r--r-- 1 abe users    335 Apr 20 03:59 s23.hiv.METTL14.input.fc.summary\r\n",
      "-rw-r--r-- 1 abe users    881 Apr 20 03:59 s23.hiv.METTL14.m6A.fc\r\n",
      "-rw-r--r-- 1 abe users    333 Apr 20 03:59 s23.hiv.METTL14.m6A.fc.summary\r\n",
      "-rw-r--r-- 1 abe users    883 Apr 20 03:59 s23.hiv.METTL3.input.fc\r\n",
      "-rw-r--r-- 1 abe users    334 Apr 20 03:59 s23.hiv.METTL3.input.fc.summary\r\n",
      "-rw-r--r-- 1 abe users    878 Apr 20 03:59 s23.hiv.METTL3.m6A.fc\r\n",
      "-rw-r--r-- 1 abe users    331 Apr 20 03:59 s23.hiv.METTL3.m6A.fc.summary\r\n",
      "-rw-r--r-- 1 abe users    868 Apr 20 03:59 s23.hiv.NT.input.fc\r\n",
      "-rw-r--r-- 1 abe users    330 Apr 20 03:59 s23.hiv.NT.input.fc.summary\r\n",
      "-rw-r--r-- 1 abe users    866 Apr 20 03:59 s23.hiv.NT.m6A.fc\r\n",
      "-rw-r--r-- 1 abe users    328 Apr 20 03:59 s23.hiv.NT.m6A.fc.summary\r\n",
      "-rw-r--r-- 1 abe users    880 Apr 20 03:59 s23.hiv.Virma.input.fc\r\n",
      "-rw-r--r-- 1 abe users    333 Apr 20 03:59 s23.hiv.Virma.input.fc.summary\r\n",
      "-rw-r--r-- 1 abe users    876 Apr 20 03:59 s23.hiv.Virma.m6A.fc\r\n",
      "-rw-r--r-- 1 abe users    331 Apr 20 03:59 s23.hiv.Virma.m6A.fc.summary\r\n",
      "-rw-r--r-- 1 abe users    877 Apr 20 03:59 s23.hiv.WTAP.input.fc\r\n",
      "-rw-r--r-- 1 abe users    332 Apr 20 03:59 s23.hiv.WTAP.input.fc.summary\r\n",
      "-rw-r--r-- 1 abe users    873 Apr 20 03:59 s23.hiv.WTAP.m6A.fc\r\n",
      "-rw-r--r-- 1 abe users    329 Apr 20 03:59 s23.hiv.WTAP.m6A.fc.summary\r\n",
      "-rw-r--r-- 1 abe users 457070 Mar 30 00:01 s23.human.METTL14.input.fc\r\n",
      "-rw-r--r-- 1 abe users    344 Mar 30 00:01 s23.human.METTL14.input.fc.summary\r\n",
      "-rw-r--r-- 1 abe users 464550 Mar 30 00:01 s23.human.METTL14.m6A.fc\r\n",
      "-rw-r--r-- 1 abe users    341 Mar 30 00:01 s23.human.METTL14.m6A.fc.summary\r\n",
      "-rw-r--r-- 1 abe users 457640 Mar 30 00:04 s23.human.METTL3.input.fc\r\n",
      "-rw-r--r-- 1 abe users    344 Mar 30 00:04 s23.human.METTL3.input.fc.summary\r\n",
      "-rw-r--r-- 1 abe users 462233 Mar 30 00:04 s23.human.METTL3.m6A.fc\r\n",
      "-rw-r--r-- 1 abe users    340 Mar 30 00:04 s23.human.METTL3.m6A.fc.summary\r\n",
      "-rw-r--r-- 1 abe users 456841 Mar 30 00:06 s23.human.Virma.input.fc\r\n",
      "-rw-r--r-- 1 abe users    342 Mar 30 00:06 s23.human.Virma.input.fc.summary\r\n",
      "-rw-r--r-- 1 abe users 464096 Mar 30 00:07 s23.human.Virma.m6A.fc\r\n",
      "-rw-r--r-- 1 abe users    339 Mar 30 00:07 s23.human.Virma.m6A.fc.summary\r\n",
      "-rw-r--r-- 1 abe users 457240 Mar 30 00:09 s23.human.WTAP.input.fc\r\n",
      "-rw-r--r-- 1 abe users    342 Mar 30 00:09 s23.human.WTAP.input.fc.summary\r\n",
      "-rw-r--r-- 1 abe users 463121 Mar 30 00:09 s23.human.WTAP.m6A.fc\r\n",
      "-rw-r--r-- 1 abe users    338 Mar 30 00:09 s23.human.WTAP.m6A.fc.summary\r\n",
      "-rw-r--r-- 1 abe users    886 Apr 20 03:59 s24.hiv.METTL14.input.fc\r\n",
      "-rw-r--r-- 1 abe users    335 Apr 20 03:59 s24.hiv.METTL14.input.fc.summary\r\n",
      "-rw-r--r-- 1 abe users    879 Apr 20 03:59 s24.hiv.METTL14.m6A.fc\r\n",
      "-rw-r--r-- 1 abe users    332 Apr 20 03:59 s24.hiv.METTL14.m6A.fc.summary\r\n",
      "-rw-r--r-- 1 abe users    882 Apr 20 03:59 s24.hiv.METTL3.input.fc\r\n",
      "-rw-r--r-- 1 abe users    334 Apr 20 03:59 s24.hiv.METTL3.input.fc.summary\r\n",
      "-rw-r--r-- 1 abe users    879 Apr 20 03:59 s24.hiv.METTL3.m6A.fc\r\n",
      "-rw-r--r-- 1 abe users    332 Apr 20 03:59 s24.hiv.METTL3.m6A.fc.summary\r\n",
      "-rw-r--r-- 1 abe users    869 Apr 20 03:59 s24.hiv.NT.input.fc\r\n",
      "-rw-r--r-- 1 abe users    330 Apr 20 03:59 s24.hiv.NT.input.fc.summary\r\n",
      "-rw-r--r-- 1 abe users    866 Apr 20 03:59 s24.hiv.NT.m6A.fc\r\n",
      "-rw-r--r-- 1 abe users    327 Apr 20 03:59 s24.hiv.NT.m6A.fc.summary\r\n",
      "-rw-r--r-- 1 abe users    878 Apr 20 03:59 s24.hiv.Virma.input.fc\r\n",
      "-rw-r--r-- 1 abe users    333 Apr 20 03:59 s24.hiv.Virma.input.fc.summary\r\n",
      "-rw-r--r-- 1 abe users    875 Apr 20 03:59 s24.hiv.Virma.m6A.fc\r\n",
      "-rw-r--r-- 1 abe users    330 Apr 20 03:59 s24.hiv.Virma.m6A.fc.summary\r\n",
      "-rw-r--r-- 1 abe users    876 Apr 20 03:59 s24.hiv.WTAP.input.fc\r\n",
      "-rw-r--r-- 1 abe users    332 Apr 20 03:59 s24.hiv.WTAP.input.fc.summary\r\n",
      "-rw-r--r-- 1 abe users    871 Apr 20 03:59 s24.hiv.WTAP.m6A.fc\r\n",
      "-rw-r--r-- 1 abe users    329 Apr 20 03:59 s24.hiv.WTAP.m6A.fc.summary\r\n",
      "-rw-r--r-- 1 abe users 456672 Mar 30 00:03 s24.human.METTL14.input.fc\r\n",
      "-rw-r--r-- 1 abe users    343 Mar 30 00:03 s24.human.METTL14.input.fc.summary\r\n",
      "-rw-r--r-- 1 abe users 462157 Mar 30 00:03 s24.human.METTL14.m6A.fc\r\n",
      "-rw-r--r-- 1 abe users    341 Mar 30 00:03 s24.human.METTL14.m6A.fc.summary\r\n",
      "-rw-r--r-- 1 abe users 456155 Mar 30 00:05 s24.human.METTL3.input.fc\r\n",
      "-rw-r--r-- 1 abe users    342 Mar 30 00:05 s24.human.METTL3.input.fc.summary\r\n",
      "-rw-r--r-- 1 abe users 462339 Mar 30 00:05 s24.human.METTL3.m6A.fc\r\n",
      "-rw-r--r-- 1 abe users    340 Mar 30 00:05 s24.human.METTL3.m6A.fc.summary\r\n",
      "-rw-r--r-- 1 abe users 456128 Mar 30 00:08 s24.human.Virma.input.fc\r\n",
      "-rw-r--r-- 1 abe users    341 Mar 30 00:08 s24.human.Virma.input.fc.summary\r\n",
      "-rw-r--r-- 1 abe users 463103 Mar 30 00:08 s24.human.Virma.m6A.fc\r\n",
      "-rw-r--r-- 1 abe users    339 Mar 30 00:08 s24.human.Virma.m6A.fc.summary\r\n",
      "-rw-r--r-- 1 abe users 456770 Mar 30 00:11 s24.human.WTAP.input.fc\r\n",
      "-rw-r--r-- 1 abe users    341 Mar 30 00:11 s24.human.WTAP.input.fc.summary\r\n",
      "-rw-r--r-- 1 abe users 463232 Mar 30 00:11 s24.human.WTAP.m6A.fc\r\n",
      "-rw-r--r-- 1 abe users    338 Mar 30 00:11 s24.human.WTAP.m6A.fc.summary\r\n"
     ]
    }
   ],
   "source": [
    "ls -l peakcount/"
   ]
  },
  {
   "cell_type": "code",
   "execution_count": 17,
   "metadata": {},
   "outputs": [],
   "source": [
    "%reload_ext rpy2.ipython"
   ]
  },
  {
   "cell_type": "code",
   "execution_count": 19,
   "metadata": {},
   "outputs": [],
   "source": [
    "%%R\n",
    "library(DESeq2)\n",
    "library(ggplot2)\n",
    "library(tidyverse)\n",
    "library(pheatmap)"
   ]
  },
  {
   "cell_type": "code",
   "execution_count": 37,
   "metadata": {},
   "outputs": [
    {
     "name": "stdout",
     "output_type": "stream",
     "text": [
      "                     cond\n",
      "s23.METTL14.input METTL14\n",
      "s23.METTL14.m6A   METTL14\n",
      "s23.METTL3.input   METTL3\n",
      "s23.METTL3.m6A     METTL3\n",
      "s23.NT.input           NT\n",
      "s23.NT.m6A             NT\n",
      "s23.Virma.input     Virma\n",
      "s23.Virma.m6A       Virma\n",
      "s23.WTAP.input       WTAP\n",
      "s23.WTAP.m6A         WTAP\n",
      "s24.METTL14.input METTL14\n",
      "s24.METTL14.m6A   METTL14\n",
      "s24.METTL3.input   METTL3\n",
      "s24.METTL3.m6A     METTL3\n",
      "s24.NT.input           NT\n",
      "s24.NT.m6A             NT\n",
      "s24.Virma.input     Virma\n",
      "s24.Virma.m6A       Virma\n",
      "s24.WTAP.input       WTAP\n",
      "s24.WTAP.m6A         WTAP\n"
     ]
    }
   ],
   "source": [
    "%%R\n",
    "files <- grep('hiv', list.files(path = \"peakcount/\", pattern=\".fc$\") , value=TRUE)\n",
    "reps <- c(rep('s23',10),rep('s24',10))\n",
    "ip <- rep(c('input','m6A'),10)\n",
    "treatment <- rep(unlist(lapply(c('METTL14','METTL3','NT','Virma','WTAP'), rep, 2)),2)\n",
    "conds <- treatment\n",
    "all_conds <- paste(reps,treatment, ip, sep='.')\n",
    "datalist <- lapply(files, function(x){read.table(file=paste('peakcount/', x, sep = \"\"),skip=1,sep='\\t',header=TRUE,colClasses=c(NA, \"NULL\", \"NULL\", \"NULL\", \"NULL\", \"NULL\", NA),check.names=F)})\n",
    "m <- Reduce(function(...) merge(..., by=1, all = TRUE), datalist)\n",
    "rownames(m) <- m[,1]\n",
    "m <- m[,-1]\n",
    "m[is.na(m)]<-0\n",
    "m <- round(m)\n",
    "colnames(m) <- all_conds\n",
    "colData <- data.frame(cond = conds, row.names=colnames(m))\n",
    "colData"
   ]
  },
  {
   "cell_type": "markdown",
   "metadata": {},
   "source": [
    "comparing m6A/input for each knockdown to control\n"
   ]
  },
  {
   "cell_type": "code",
   "execution_count": 39,
   "metadata": {
    "scrolled": true
   },
   "outputs": [
    {
     "name": "stderr",
     "output_type": "stream",
     "text": [
      "R[write to console]: converting counts to integer mode\n",
      "\n",
      "R[write to console]: estimating size factors\n",
      "\n",
      "R[write to console]: estimating dispersions\n",
      "\n",
      "R[write to console]: gene-wise dispersion estimates\n",
      "\n",
      "R[write to console]: mean-dispersion relationship\n",
      "\n",
      "R[write to console]: -- note: fitType='parametric', but the dispersion trend was not well captured by the\n",
      "   function: y = a/x + b, and a local regression fit was automatically substituted.\n",
      "   specify fitType='local' or 'mean' to avoid this message next time.\n",
      "\n",
      "R[write to console]: final dispersion estimates\n",
      "\n",
      "R[write to console]: fitting model and testing\n",
      "\n",
      "R[write to console]: found already estimated dispersions, replacing these\n",
      "\n",
      "R[write to console]: gene-wise dispersion estimates\n",
      "\n",
      "R[write to console]: mean-dispersion relationship\n",
      "\n",
      "R[write to console]: -- note: fitType='parametric', but the dispersion trend was not well captured by the\n",
      "   function: y = a/x + b, and a local regression fit was automatically substituted.\n",
      "   specify fitType='local' or 'mean' to avoid this message next time.\n",
      "\n",
      "R[write to console]: final dispersion estimates\n",
      "\n",
      "R[write to console]: -- note: fitType='parametric', but the dispersion trend was not well captured by the\n",
      "   function: y = a/x + b, and a local regression fit was automatically substituted.\n",
      "   specify fitType='local' or 'mean' to avoid this message next time.\n",
      "\n"
     ]
    },
    {
     "name": "stdout",
     "output_type": "stream",
     "text": [
      "                      scale\n",
      "s23.METTL14.input 0.9904757\n",
      "s23.METTL14.m6A   0.7398464\n",
      "s24.METTL14.input 0.8624271\n",
      "s24.METTL14.m6A   1.2439348\n",
      "s23.NT.input      1.5718448\n",
      "s23.NT.m6A        0.7510848\n",
      "s24.NT.input      1.1522026\n",
      "s24.NT.m6A        1.0075314\n"
     ]
    },
    {
     "name": "stderr",
     "output_type": "stream",
     "text": [
      "R[write to console]: converting counts to integer mode\n",
      "\n",
      "R[write to console]: estimating size factors\n",
      "\n",
      "R[write to console]: estimating dispersions\n",
      "\n",
      "R[write to console]: gene-wise dispersion estimates\n",
      "\n",
      "R[write to console]: mean-dispersion relationship\n",
      "\n",
      "R[write to console]: -- note: fitType='parametric', but the dispersion trend was not well captured by the\n",
      "   function: y = a/x + b, and a local regression fit was automatically substituted.\n",
      "   specify fitType='local' or 'mean' to avoid this message next time.\n",
      "\n",
      "R[write to console]: final dispersion estimates\n",
      "\n",
      "R[write to console]: fitting model and testing\n",
      "\n",
      "R[write to console]: found already estimated dispersions, replacing these\n",
      "\n",
      "R[write to console]: gene-wise dispersion estimates\n",
      "\n",
      "R[write to console]: mean-dispersion relationship\n",
      "\n",
      "R[write to console]: -- note: fitType='parametric', but the dispersion trend was not well captured by the\n",
      "   function: y = a/x + b, and a local regression fit was automatically substituted.\n",
      "   specify fitType='local' or 'mean' to avoid this message next time.\n",
      "\n",
      "R[write to console]: final dispersion estimates\n",
      "\n",
      "R[write to console]: -- note: fitType='parametric', but the dispersion trend was not well captured by the\n",
      "   function: y = a/x + b, and a local regression fit was automatically substituted.\n",
      "   specify fitType='local' or 'mean' to avoid this message next time.\n",
      "\n"
     ]
    },
    {
     "name": "stdout",
     "output_type": "stream",
     "text": [
      "                     scale\n",
      "s23.METTL3.input 0.9048658\n",
      "s23.METTL3.m6A   1.0226383\n",
      "s24.METTL3.input 0.9477044\n",
      "s24.METTL3.m6A   0.7863930\n",
      "s23.NT.input     1.5842523\n",
      "s23.NT.m6A       0.7570135\n",
      "s24.NT.input     1.1612976\n",
      "s24.NT.m6A       1.0073813\n"
     ]
    },
    {
     "name": "stderr",
     "output_type": "stream",
     "text": [
      "R[write to console]: converting counts to integer mode\n",
      "\n",
      "R[write to console]: estimating size factors\n",
      "\n",
      "R[write to console]: estimating dispersions\n",
      "\n",
      "R[write to console]: gene-wise dispersion estimates\n",
      "\n",
      "R[write to console]: mean-dispersion relationship\n",
      "\n",
      "R[write to console]: -- note: fitType='parametric', but the dispersion trend was not well captured by the\n",
      "   function: y = a/x + b, and a local regression fit was automatically substituted.\n",
      "   specify fitType='local' or 'mean' to avoid this message next time.\n",
      "\n",
      "R[write to console]: final dispersion estimates\n",
      "\n",
      "R[write to console]: fitting model and testing\n",
      "\n",
      "R[write to console]: found already estimated dispersions, replacing these\n",
      "\n",
      "R[write to console]: gene-wise dispersion estimates\n",
      "\n",
      "R[write to console]: mean-dispersion relationship\n",
      "\n",
      "R[write to console]: -- note: fitType='parametric', but the dispersion trend was not well captured by the\n",
      "   function: y = a/x + b, and a local regression fit was automatically substituted.\n",
      "   specify fitType='local' or 'mean' to avoid this message next time.\n",
      "\n",
      "R[write to console]: final dispersion estimates\n",
      "\n",
      "R[write to console]: -- note: fitType='parametric', but the dispersion trend was not well captured by the\n",
      "   function: y = a/x + b, and a local regression fit was automatically substituted.\n",
      "   specify fitType='local' or 'mean' to avoid this message next time.\n",
      "\n"
     ]
    },
    {
     "name": "stdout",
     "output_type": "stream",
     "text": [
      "                    scale\n",
      "s23.Virma.input 0.7848475\n",
      "s23.Virma.m6A   0.7563890\n",
      "s24.Virma.input 1.1816422\n",
      "s24.Virma.m6A   1.0759530\n",
      "s23.NT.input    1.5586037\n",
      "s23.NT.m6A      0.7447577\n",
      "s24.NT.input    1.1424965\n",
      "s24.NT.m6A      0.9990440\n"
     ]
    },
    {
     "name": "stderr",
     "output_type": "stream",
     "text": [
      "R[write to console]: converting counts to integer mode\n",
      "\n",
      "R[write to console]: estimating size factors\n",
      "\n",
      "R[write to console]: estimating dispersions\n",
      "\n",
      "R[write to console]: gene-wise dispersion estimates\n",
      "\n",
      "R[write to console]: mean-dispersion relationship\n",
      "\n",
      "R[write to console]: -- note: fitType='parametric', but the dispersion trend was not well captured by the\n",
      "   function: y = a/x + b, and a local regression fit was automatically substituted.\n",
      "   specify fitType='local' or 'mean' to avoid this message next time.\n",
      "\n",
      "R[write to console]: final dispersion estimates\n",
      "\n",
      "R[write to console]: fitting model and testing\n",
      "\n",
      "R[write to console]: found already estimated dispersions, replacing these\n",
      "\n",
      "R[write to console]: gene-wise dispersion estimates\n",
      "\n",
      "R[write to console]: mean-dispersion relationship\n",
      "\n",
      "R[write to console]: -- note: fitType='parametric', but the dispersion trend was not well captured by the\n",
      "   function: y = a/x + b, and a local regression fit was automatically substituted.\n",
      "   specify fitType='local' or 'mean' to avoid this message next time.\n",
      "\n",
      "R[write to console]: final dispersion estimates\n",
      "\n",
      "R[write to console]: -- note: fitType='parametric', but the dispersion trend was not well captured by the\n",
      "   function: y = a/x + b, and a local regression fit was automatically substituted.\n",
      "   specify fitType='local' or 'mean' to avoid this message next time.\n",
      "\n"
     ]
    },
    {
     "name": "stdout",
     "output_type": "stream",
     "text": [
      "                   scale\n",
      "s23.WTAP.input 0.7198504\n",
      "s23.WTAP.m6A   0.6899550\n",
      "s24.WTAP.input 1.0720373\n",
      "s24.WTAP.m6A   1.1322594\n",
      "s23.NT.input   1.5349504\n",
      "s23.NT.m6A     0.7326580\n",
      "s24.NT.input   1.1239349\n",
      "s24.NT.m6A     1.0129745\n"
     ]
    }
   ],
   "source": [
    "%%R\n",
    "options(repr.plot.width=4, repr.plot.height=4)\n",
    "all_vsd = list()\n",
    "for (treat in c('METTL14','METTL3','Virma','WTAP')){\n",
    "    icond = c(grep(treat,all_conds), grep('NT',all_conds) )\n",
    "    mm <- m[,icond]\n",
    "    colData <- data.frame(cond= conds[icond], row.names=colnames(mm))\n",
    "#     print (colData)\n",
    "    dds <- DESeqDataSetFromMatrix(countData = mm, colData = colData, design = ~ cond)\n",
    "    dds$cond <- relevel(dds$cond, ref='NT')\n",
    "    dds <- DESeq(dds)\n",
    "    cds <- estimateDispersions(dds)\n",
    "    vsd <- varianceStabilizingTransformation(cds)\n",
    "    # Plot heatmap\n",
    "    vsd_mat <- assay(vsd)\n",
    "    df = data.frame(vsd_mat)\n",
    "    colnames(df) = c(\n",
    "        's23.treat.input','s23.treat.m6A','s24.treat.input','s24.treat.m6A',\n",
    "        's23.NT.input','s23.NT.m6A','s24.NT.input','s24.NT.m6A'\n",
    "    )\n",
    "    rownames(df) = paste(treat,rownames(df),sep='_')\n",
    "    all_vsd[[treat]] = df\n",
    "    # save scales to normalize peak visulization with GViz \n",
    "    dds <- estimateSizeFactors(dds)\n",
    "    scale_df <- data.frame('scale' = 1/sizeFactors(dds))\n",
    "    print (scale_df)\n",
    "#     write.table(scale_df, paste(\"bigwig/hiv/\",treat,\"/scale.txt\", sep=''), sep=\"\\t\", quote=FALSE, col.names=NA)\n",
    "}"
   ]
  },
  {
   "cell_type": "code",
   "execution_count": 83,
   "metadata": {
    "scrolled": false
   },
   "outputs": [
    {
     "name": "stderr",
     "output_type": "stream",
     "text": [
      "R[write to console]: Saving 6.67 x 6.67 in image\n",
      "\n",
      "R[write to console]: Saving 6.67 x 6.67 in image\n",
      "\n"
     ]
    },
    {
     "data": {
      "image/png": "[encoded data removed]"
     },
     "metadata": {},
     "output_type": "display_data"
    }
   ],
   "source": [
    "%%R\n",
    "num_peaks <- 13\n",
    "mat <-do.call('rbind',all_vsd)\n",
    "# Data frame with column annotations.\n",
    "mat_col <- data.frame(Treatment = c(rep('Treated',4),rep('NT',4)))\n",
    "mat_row <- data.frame(\n",
    "    subunits = c(rep('METTL14', num_peaks), rep('METTL3', num_peaks), rep('Virma', num_peaks), rep('WTAP', num_peaks) ),\n",
    "    loci = c(rep('env',2),rep('nef',7),rep('rev',3),'tat')\n",
    ")\n",
    "rownames(mat_col) <- colnames(mat)\n",
    "rownames(mat_row) <- rownames(mat)\n",
    "\n",
    "h = pheatmap(\n",
    "    mat               = mat,\n",
    "    border_color      = NA,\n",
    "    show_colnames     = TRUE,\n",
    "    show_rownames     = FALSE,\n",
    "    annotation_col    = mat_col,\n",
    "    annotation_row    = mat_row,\n",
    "    fontsize          = 10,\n",
    "    cluster_rows = TRUE, cluster_cols=FALSE, #cellwidth = 25, cellheight = 15,\n",
    "  main              = \"HIV Peak Heatmap\"\n",
    ")\n",
    "ggsave(\"plots/hiv.peak_Heatmaps.png\", plot = h, device = 'png', dpi = 300)\n",
    "ggsave(\"plots/hiv.peak_Heatmaps.pdf\", plot = h, device = 'pdf', dpi = 300)\n",
    "h\n",
    "# mat"
   ]
  },
  {
   "cell_type": "markdown",
   "metadata": {},
   "source": [
    "<!-- ## Plot peak cordinates\n",
    "\n",
    "making `bigwig` file from `bam` files to visualize genome coverage of peak coordinates of hiv genome. \n",
    "-->"
   ]
  },
  {
   "cell_type": "code",
   "execution_count": 21,
   "metadata": {
    "scrolled": true
   },
   "outputs": [],
   "source": [
    "# %%bash \n",
    "# declare -a StringArray=('METTL14' 'METTL3' 'Virma' 'WTAP' 'NT')\n",
    "# # mkdir bedgraph/hiv/\n",
    "# # for treat in \"${StringArray[@]}\"; do mkdir bedgraph/hiv/$treat; done\n",
    "\n",
    "# # normalize \n",
    "# # # bigwigs \n",
    "# # for treat in \"${StringArray[@]}\"; do\n",
    "# #     awk '!(NR<=1){gsub(/s2[3-4]./,substr($1, 0, 4)\"hiv.\");print \"bamCoverage --scaleFactor \"$2\" -b bam/\"$1\".bam -o bigwig/'$treat'/\"$1\".bw\"}' bigwig/$treat/scale.txt # | bash\n",
    "# # done\n",
    "\n",
    "# # bedgraphs using bedtools \n",
    "# for treat in \"${StringArray[@]}\"; do\n",
    "#     for f in bam/*hiv*$treat*bam; do \n",
    "#         base=`basename \"$f\"`\n",
    "#         o=${base/.bam/.bg}\n",
    "#         bedtools genomecov -bga -ibam $f > bedgraph/hiv/$treat/$o;\n",
    "#     done;\n",
    "# #     awk '!(NR<=1){gsub(/s2[3-4]./,substr($1, 0, 4)\"hiv.\");print \"bedtools genomecov -bga -scale \"$2\" -ibam bam/\"$1\".bam > bedgraph/hiv/'$treat'/\"$1\".bg\"}' bigwig/hiv/$treat/scale.txt | bash\n",
    "# done"
   ]
  },
  {
   "cell_type": "code",
   "execution_count": 22,
   "metadata": {},
   "outputs": [],
   "source": [
    "# ls -l bedgraph/hiv/Virma/"
   ]
  },
  {
   "cell_type": "code",
   "execution_count": 23,
   "metadata": {},
   "outputs": [],
   "source": [
    "# %reload_ext rpy2.ipython"
   ]
  },
  {
   "cell_type": "code",
   "execution_count": 24,
   "metadata": {},
   "outputs": [],
   "source": [
    "# %%R \n",
    "# library(Gviz)\n",
    "# library(Rsamtools)\n",
    "# library(data.table)\n",
    "# library(Biostrings)\n",
    "# library(rtracklayer)"
   ]
  },
  {
   "cell_type": "code",
   "execution_count": 25,
   "metadata": {},
   "outputs": [],
   "source": [
    "# %%R\n",
    "# # hiv_dna <- readDNAStringSet(\"exomepeak/hiv.control/peak.fa\")\n",
    "# # names(hiv_dna) <- rep('chr1', length(hiv_dna))\n",
    "# # # export(hiv_dna, \"HIV/HIV.fa.2bit\")\n",
    "# # # hiv <- TwoBitFile(\"HIV/HIV.fa.2bit\")\n",
    "\n",
    "# # read HIV genome \n",
    "# hiv_peaks <- read.table(file=\"exomepeak/hiv.control/peak.bed\", sep=\"\\t\")[,c(2,3)]\n",
    "# colnames(hiv_peaks) <- c('start', 'end')\n",
    "# hiv_gr <- GRanges(seqnames=\"chr1\", range=IRanges(start=hiv_peaks$start, end=hiv_peaks$end),strand='*')\n",
    "# names(hiv_gr) <- paste('peak', c(1:dim(hiv_peaks)[1]), sep='-')\n",
    "# genome(hiv_gr) <- 'HIV'; gen<- 'HIV'\n",
    "# chr <- as.character(unique(seqnames(hiv_gr)))"
   ]
  },
  {
   "cell_type": "code",
   "execution_count": 26,
   "metadata": {},
   "outputs": [],
   "source": [
    "# %%R\n",
    "# hiv_gr"
   ]
  },
  {
   "cell_type": "markdown",
   "metadata": {},
   "source": [
    "<!-- using normalized `bedgraph` and making `Gviz` tracks  -->"
   ]
  },
  {
   "cell_type": "code",
   "execution_count": 27,
   "metadata": {},
   "outputs": [],
   "source": [
    "# %%R\n",
    "# for (treat in c('METTL14','METTL3','Virma','WTAP')){\n",
    "#     reps <- c(rep('s23',2),rep('s24',2))\n",
    "#     ip <- rep(c('input','m6A'),2)\n",
    "#     conds <- paste(reps,treat, sep='.')\n",
    "#     # absolute path to bedgraph files  \n",
    "#     bw_files.treated <- paste('bedgraph/hiv/',treat,'/',reps,'.hiv.',treat,'.',ip,'.bg', sep='')\n",
    "#     bw_files.nontreated <- paste('bedgraph/hiv/',treat,'/',reps,'.hiv.NT.',ip,'.bg', sep='')\n",
    "#     print (bw_files.treated)\n",
    "#     print (bw_files.nontreated)\n",
    "#     for (i in c(2,4)){\n",
    "#         ### read bedgraph files\n",
    "#         #-- treated tracks --#\n",
    "#         # m6A track           \n",
    "#         bw_ip.treated <- import.bedGraph(bw_files.treated[i]) #,as=\"GRanges\")\n",
    "#         genome(bw_ip.treated) <- 'HIV'\n",
    "#         seqlevels(bw_ip.treated) <- 'chr1'\n",
    "#         # input track\n",
    "#         bw_in.treated <- import.bedGraph(bw_files.treated[i-1]) #,as=\"GRanges\")\n",
    "#         genome(bw_in.treated) <- 'HIV'\n",
    "#         seqlevels(bw_in.treated) <- 'chr1'\n",
    "#         # Overlay input and m6A\n",
    "#         dtrack_ip.treated <- DataTrack(bw_ip.treated,chomosome=\"chr1\", name='Treated')\n",
    "#         dtrack_in.treated <- DataTrack(bw_in.treated,chomosome=\"chr1\", groups = factor('input',levels = c('input','m6A')) )\n",
    "#         displayPars(dtrack_ip.treated) <- list(groups = factor('m6A',levels = c('input','m6A')), legend = TRUE)\n",
    "#         assign(paste('treated', conds[i],sep='.'),\n",
    "#                OverlayTrack(trackList=list(dtrack_ip.treated,dtrack_in.treated)))\n",
    "#         #-- non-treated tracks --#\n",
    "#         # m6A track\n",
    "#         bw_ip.nontreated <- import.bedGraph(bw_files.nontreated[i]) # ,as=\"GRanges\")\n",
    "#         genome(bw_ip.nontreated) <- 'HIV'\n",
    "#         seqlevels(bw_ip.nontreated) <- 'chr1'\n",
    "#         # input track\n",
    "#         bw_in.nontreated <- import.bedGraph(bw_files.nontreated[i-1]) # ,as=\"GRanges\")\n",
    "#         genome(bw_in.nontreated) <- 'HIV'\n",
    "#         seqlevels(bw_in.nontreated) <- 'chr1'\n",
    "#         # Overlay input and m6A\n",
    "#         dtrack_ip.nontreated <- DataTrack(bw_ip.nontreated,chomosome=\"chr1\", name='Non-treated')\n",
    "#         dtrack_in.nontreated <- DataTrack(bw_in.nontreated,chomosome=\"chr1\", groups = factor('input',levels = c('input','m6A')) )\n",
    "#         displayPars(dtrack_ip.nontreated) <- list(groups = factor('m6A',levels = c('input','m6A')), legend = TRUE, name = 'Non treated')\n",
    "#         assign(paste('nontreated',conds[i],sep='.'), \n",
    "#                OverlayTrack(trackList=list(dtrack_ip.nontreated,dtrack_in.nontreated),\n",
    "#                             background.panel = \"#FFFEDB\", background.title = \"darkblue\"))\n",
    "#     }\n",
    "# }\n",
    "\n",
    "# grtrack <- GeneRegionTrack(hiv_gr, genome = gen, chromosome = chr, name = \"Gene Model\")\n",
    "# gtrack <- GenomeAxisTrack()"
   ]
  },
  {
   "cell_type": "code",
   "execution_count": 28,
   "metadata": {},
   "outputs": [],
   "source": [
    "# %%R\n",
    "# peak_ploter <- function(treat,ymax, saveplot = '' ){\n",
    "#     for (i in 1:4){\n",
    "#         if (saveplot == 'pdf') pdf(paste(\"plots/hiv.\",treat,'.',names(hiv_gr)[i],\".pdf\",sep=''), \n",
    "#                                    width=7, height=7, paper = \"a4r\")\n",
    "#         if (saveplot == 'png') png(paste(\"plots/hiv.\",treat,'.',names(hiv_gr)[i],\".png\",sep=''))\n",
    "#         plotTracks(\n",
    "#             list (gtrack, grtrack,\n",
    "#                   get (paste('treated.s23', treat, sep ='.')),get(paste('treated.s24', treat, sep ='.')),\n",
    "#                   get (paste('nontreated.s23', treat,sep ='.')),get(paste('nontreated.s24', treat,sep ='.'))\n",
    "#                  ), type=\"l\",from=start(hiv_gr)[i], to=end(hiv_gr)[i] , ylim= c(-100,ymax[i]),\n",
    "#             main = paste(treat, names(hiv_gr)[i]), add53=T,chromosome = \"chr1\",cex=1)\n",
    "#         if (saveplot != '') dev.off()\n",
    "#     }\n",
    "# }"
   ]
  },
  {
   "cell_type": "code",
   "execution_count": 29,
   "metadata": {},
   "outputs": [],
   "source": [
    "# %%R\n",
    "# treat = 'METTL14'\n",
    "# y = c(1e3,6e3,1.5e4,1e4)\n",
    "# p = peak_ploter (treat,ymax)\n",
    "# p = peak_ploter (treat,ymax)"
   ]
  },
  {
   "cell_type": "code",
   "execution_count": 30,
   "metadata": {
    "scrolled": false
   },
   "outputs": [],
   "source": [
    "# %%R\n",
    "# treat = 'METTL14'\n",
    "# y = c(1e3,6e3,1.5e4,1e4)\n",
    "# p = peak_ploter (treat,ymax, saveplot='pdf')\n",
    "# p = peak_ploter (treat,ymax, saveplot='png')\n",
    "\n",
    "# treat = 'METTL3'\n",
    "# y = c(1e3,6e3,1.5e4,1e4)\n",
    "# p = peak_ploter (treat,ymax, saveplot='pdf')\n",
    "# p = peak_ploter (treat,ymax, saveplot='png')\n",
    "\n",
    "# treat = 'Virma'\n",
    "# y = c(1e3,6e3,1.5e4,1e4)\n",
    "# p = peak_ploter (treat,ymax, saveplot='pdf')\n",
    "# p = peak_ploter (treat,ymax, saveplot='png')\n",
    "\n",
    "# treat = 'WTAP'\n",
    "# y = c(1e3,6e3,1.5e4,1e4)\n",
    "# p = peak_ploter (treat,ymax, saveplot='pdf')\n",
    "# p = peak_ploter (treat,ymax, saveplot='png')"
   ]
  },
  {
   "cell_type": "code",
   "execution_count": 84,
   "metadata": {
    "scrolled": false
   },
   "outputs": [
    {
     "name": "stdout",
     "output_type": "stream",
     "text": [
      "R version 3.5.1 (2018-07-02)\n",
      "Platform: x86_64-conda_cos6-linux-gnu (64-bit)\n",
      "Running under: Ubuntu 18.04.2 LTS\n",
      "\n",
      "Matrix products: default\n",
      "BLAS/LAPACK: /rumi/shams/abe/anaconda3/envs/deseq/lib/R/lib/libRlapack.so\n",
      "\n",
      "locale:\n",
      " [1] LC_CTYPE=en_US.UTF-8       LC_NUMERIC=C              \n",
      " [3] LC_TIME=en_US.UTF-8        LC_COLLATE=en_US.UTF-8    \n",
      " [5] LC_MONETARY=en_US.UTF-8    LC_MESSAGES=en_US.UTF-8   \n",
      " [7] LC_PAPER=en_US.UTF-8       LC_NAME=C                 \n",
      " [9] LC_ADDRESS=C               LC_TELEPHONE=C            \n",
      "[11] LC_MEASUREMENT=en_US.UTF-8 LC_IDENTIFICATION=C       \n",
      "\n",
      "attached base packages:\n",
      " [1] parallel  stats4    tools     stats     graphics  grDevices utils    \n",
      " [8] datasets  methods   base     \n",
      "\n",
      "other attached packages:\n",
      " [1] pheatmap_1.0.12             forcats_0.4.0              \n",
      " [3] stringr_1.4.0               dplyr_0.8.3                \n",
      " [5] purrr_0.3.3                 readr_1.3.1                \n",
      " [7] tidyr_1.0.0                 tibble_2.1.3               \n",
      " [9] tidyverse_1.2.1             ggplot2_3.2.1              \n",
      "[11] DESeq2_1.20.0               SummarizedExperiment_1.10.1\n",
      "[13] DelayedArray_0.6.6          BiocParallel_1.14.2        \n",
      "[15] matrixStats_0.55.0          Biobase_2.40.0             \n",
      "[17] GenomicRanges_1.32.7        GenomeInfoDb_1.16.0        \n",
      "[19] IRanges_2.14.12             S4Vectors_0.18.3           \n",
      "[21] BiocGenerics_0.26.0        \n",
      "\n",
      "loaded via a namespace (and not attached):\n",
      " [1] nlme_3.1-141           bitops_1.0-6           lubridate_1.7.4       \n",
      " [4] bit64_0.9-7            RColorBrewer_1.1-2     httr_1.4.1            \n",
      " [7] backports_1.1.5        R6_2.4.0               rpart_4.1-15          \n",
      "[10] Hmisc_4.2-0            DBI_1.0.0              lazyeval_0.2.2        \n",
      "[13] colorspace_1.4-1       nnet_7.3-12            withr_2.1.2           \n",
      "[16] tidyselect_0.2.5       gridExtra_2.3          bit_1.1-14            \n",
      "[19] compiler_3.5.1         cli_1.1.0              rvest_0.3.5           \n",
      "[22] htmlTable_1.13.2       xml2_1.2.2             scales_1.0.0          \n",
      "[25] checkmate_1.9.4        genefilter_1.62.0      digest_0.6.22         \n",
      "[28] foreign_0.8-72         XVector_0.20.0         base64enc_0.1-3       \n",
      "[31] pkgconfig_2.0.3        htmltools_0.4.0        htmlwidgets_1.5.1     \n",
      "[34] rlang_0.4.1            readxl_1.3.1           rstudioapi_0.10       \n",
      "[37] RSQLite_2.1.2          jsonlite_1.6           acepack_1.4.1         \n",
      "[40] RCurl_1.95-4.12        magrittr_1.5           GenomeInfoDbData_1.1.0\n",
      "[43] Formula_1.2-3          Matrix_1.2-17          Rcpp_1.0.3            \n",
      "[46] munsell_0.5.0          lifecycle_0.1.0        stringi_1.4.3         \n",
      "[49] zlibbioc_1.26.0        grid_3.5.1             blob_1.2.0            \n",
      "[52] crayon_1.3.4           lattice_0.20-38        haven_2.2.0           \n",
      "[55] splines_3.5.1          annotate_1.58.0        hms_0.5.2             \n",
      "[58] locfit_1.5-9.1         zeallot_0.1.0          knitr_1.25            \n",
      "[61] pillar_1.4.2           geneplotter_1.58.0     XML_3.98-1.20         \n",
      "[64] glue_1.3.1             latticeExtra_0.6-28    data.table_1.11.6     \n",
      "[67] modelr_0.1.5           vctrs_0.2.0            cellranger_1.1.0      \n",
      "[70] gtable_0.3.0           assertthat_0.2.1       xfun_0.10             \n",
      "[73] xtable_1.8-4           broom_0.5.0            survival_2.44-1.1     \n",
      "[76] AnnotationDbi_1.42.1   memoise_1.1.0          cluster_2.1.0         \n"
     ]
    }
   ],
   "source": [
    "%%R \n",
    "sessionInfo()"
   ]
  },
  {
   "cell_type": "code",
   "execution_count": null,
   "metadata": {},
   "outputs": [],
   "source": []
  }
 ],
 "metadata": {
  "kernelspec": {
   "display_name": "Python 3",
   "language": "python",
   "name": "python3"
  },
  "language_info": {
   "codemirror_mode": {
    "name": "ipython",
    "version": 3
   },
   "file_extension": ".py",
   "mimetype": "text/x-python",
   "name": "python",
   "nbconvert_exporter": "python",
   "pygments_lexer": "ipython3",
   "version": "3.7.3"
  }
 },
 "nbformat": 4,
 "nbformat_minor": 2
}
