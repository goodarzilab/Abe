{
 "cells": [
  {
   "cell_type": "code",
   "execution_count": 1,
   "metadata": {},
   "outputs": [
    {
     "name": "stderr",
     "output_type": "stream",
     "text": [
      "/rumi/shams/abe/anaconda3/envs/meRIPseq/lib/python3.7/site-packages/rpy2/robjects/pandas2ri.py:14: FutureWarning: pandas.core.index is deprecated and will be removed in a future version.  The public classes are available in the top-level namespace.\n",
      "  from pandas.core.index import Index as PandasIndex\n"
     ]
    }
   ],
   "source": [
    "%load_ext rpy2.ipython"
   ]
  },
  {
   "cell_type": "markdown",
   "metadata": {},
   "source": [
    "<!-- HIV-1 IIIB Virus https://aidsreagent.org/reagentdetail.cfm?t=viruses&id=607\n",
    " -->\n",
    "# Alignment \n",
    "Firstly, HIV genome indices created by changing sequence provided by Judd to `.fa` format. It didn't work as we needed gtf file! \n",
    "\n",
    "Ok! I'm switching to the [HIV-1 clone pIIIB from USA, complete genome\n",
    "](https://www.ncbi.nlm.nih.gov/nucleotide/EU541617.1?report=genbank&log$=nuclalign&blast_rank=1&RID=8B8ETWT201R) which is highly matched with Judd's clone (using Blast alignment). Then, I donwloaded `.fa` and `.gff3` format for downstream analysis. "
   ]
  },
  {
   "cell_type": "code",
   "execution_count": 1,
   "metadata": {
    "scrolled": true
   },
   "outputs": [],
   "source": [
    "# %%bash \n",
    "# # make hiv genome indices \n",
    "# bowtie2-build HIV/EU541617.1/EU541617.1.fasta HIV/EU541617.1/index\n",
    "# # Aligning to hiv genome \n",
    "# for f in fastq_unmapped/*; do\n",
    "# \to=${f/.fastq/.bam};\n",
    "#  \to=${o/fastq_unmapped/bam};\n",
    "#  \tbowtie2 --sensitive -N 1 -x HIV/EU541617.1/index -U $f | samtools sort -o $o;\n",
    "# done"
   ]
  },
  {
   "cell_type": "code",
   "execution_count": 19,
   "metadata": {},
   "outputs": [],
   "source": [
    "# https://metacpan.org/pod/bp_genbank2gff3.pl\n",
    "# perl /rumi/shams/abe/Workflows/BioPerl/bp_genbank2gff3.pl HIV/HIV.seq | head"
   ]
  },
  {
   "cell_type": "code",
   "execution_count": 48,
   "metadata": {},
   "outputs": [
    {
     "name": "stdout",
     "output_type": "stream",
     "text": [
      "Apr 03 03:33:26 ..... started STAR run\n",
      "Apr 03 03:33:26 ... starting to generate Genome files\n",
      "Apr 03 03:33:26 ... starting to sort Suffix Array. This may take a long time...\n",
      "Apr 03 03:33:26 ... sorting Suffix Array chunks and saving them to disk...\n",
      "Apr 03 03:33:26 ... loading chunks from disk, packing SA...\n",
      "Apr 03 03:33:26 ... finished generating suffix array\n",
      "Apr 03 03:33:26 ... generating Suffix Array index\n",
      "Apr 03 03:33:26 ... completed Suffix Array index\n",
      "Apr 03 03:33:26 ..... processing annotations GTF\n",
      "Apr 03 03:33:26 ... writing Genome to disk ...\n",
      "Apr 03 03:33:26 ... writing Suffix Array to disk ...\n",
      "Apr 03 03:33:26 ... writing SAindex to disk\n",
      "Apr 03 03:33:26 ..... finished successfully\n"
     ]
    }
   ],
   "source": [
    "%%bash\n",
    "# use STAR \n",
    "STAR --runThreadN 16 \\\n",
    "--runMode genomeGenerate \\\n",
    "--genomeDir HIV/EU541617.1/ \\\n",
    "--genomeFastaFiles HIV/EU541617.1/EU541617.1.fasta \\\n",
    "--sjdbGTFfile HIV/EU541617.1/EU541617.1.gff3 \\\n",
    "--sjdbOverhang 99 --genomeSAindexNbases 8 --sjdbGTFfeatureExon CDS"
   ]
  },
  {
   "cell_type": "code",
   "execution_count": 60,
   "metadata": {
    "scrolled": false
   },
   "outputs": [
    {
     "name": "stdout",
     "output_type": "stream",
     "text": [
      "STAR --outSAMtype BAM SortedByCoordinate --readFilesCommand cat --runThreadN 16 --genomeDir HIV/EU541617.1/ --readFilesIn fastq_unmapped/s23.hiv.METTL14.input.fastq --outFileNamePrefix bam/s23.hiv.METTL14.input.bam --limitBAMsortRAM 1000000000\n",
      "STAR --outSAMtype BAM SortedByCoordinate --readFilesCommand cat --runThreadN 16 --genomeDir HIV/EU541617.1/ --readFilesIn fastq_unmapped/s23.hiv.METTL14.m6A.fastq --outFileNamePrefix bam/s23.hiv.METTL14.m6A.bam --limitBAMsortRAM 1000000000\n",
      "STAR --outSAMtype BAM SortedByCoordinate --readFilesCommand cat --runThreadN 16 --genomeDir HIV/EU541617.1/ --readFilesIn fastq_unmapped/s23.hiv.METTL3.input.fastq --outFileNamePrefix bam/s23.hiv.METTL3.input.bam --limitBAMsortRAM 1000000000\n",
      "STAR --outSAMtype BAM SortedByCoordinate --readFilesCommand cat --runThreadN 16 --genomeDir HIV/EU541617.1/ --readFilesIn fastq_unmapped/s23.hiv.METTL3.m6A.fastq --outFileNamePrefix bam/s23.hiv.METTL3.m6A.bam --limitBAMsortRAM 1000000000\n",
      "STAR --outSAMtype BAM SortedByCoordinate --readFilesCommand cat --runThreadN 16 --genomeDir HIV/EU541617.1/ --readFilesIn fastq_unmapped/s23.hiv.NT.input.fastq --outFileNamePrefix bam/s23.hiv.NT.input.bam --limitBAMsortRAM 1000000000\n",
      "STAR --outSAMtype BAM SortedByCoordinate --readFilesCommand cat --runThreadN 16 --genomeDir HIV/EU541617.1/ --readFilesIn fastq_unmapped/s23.hiv.NT.m6A.fastq --outFileNamePrefix bam/s23.hiv.NT.m6A.bam --limitBAMsortRAM 1000000000\n",
      "STAR --outSAMtype BAM SortedByCoordinate --readFilesCommand cat --runThreadN 16 --genomeDir HIV/EU541617.1/ --readFilesIn fastq_unmapped/s23.hiv.Virma.input.fastq --outFileNamePrefix bam/s23.hiv.Virma.input.bam --limitBAMsortRAM 1000000000\n",
      "STAR --outSAMtype BAM SortedByCoordinate --readFilesCommand cat --runThreadN 16 --genomeDir HIV/EU541617.1/ --readFilesIn fastq_unmapped/s23.hiv.Virma.m6A.fastq --outFileNamePrefix bam/s23.hiv.Virma.m6A.bam --limitBAMsortRAM 1000000000\n",
      "STAR --outSAMtype BAM SortedByCoordinate --readFilesCommand cat --runThreadN 16 --genomeDir HIV/EU541617.1/ --readFilesIn fastq_unmapped/s23.hiv.WTAP.input.fastq --outFileNamePrefix bam/s23.hiv.WTAP.input.bam --limitBAMsortRAM 1000000000\n",
      "STAR --outSAMtype BAM SortedByCoordinate --readFilesCommand cat --runThreadN 16 --genomeDir HIV/EU541617.1/ --readFilesIn fastq_unmapped/s23.hiv.WTAP.m6A.fastq --outFileNamePrefix bam/s23.hiv.WTAP.m6A.bam --limitBAMsortRAM 1000000000\n",
      "STAR --outSAMtype BAM SortedByCoordinate --readFilesCommand cat --runThreadN 16 --genomeDir HIV/EU541617.1/ --readFilesIn fastq_unmapped/s24.hiv.METTL14.input.fastq --outFileNamePrefix bam/s24.hiv.METTL14.input.bam --limitBAMsortRAM 1000000000\n",
      "STAR --outSAMtype BAM SortedByCoordinate --readFilesCommand cat --runThreadN 16 --genomeDir HIV/EU541617.1/ --readFilesIn fastq_unmapped/s24.hiv.METTL14.m6A.fastq --outFileNamePrefix bam/s24.hiv.METTL14.m6A.bam --limitBAMsortRAM 1000000000\n",
      "STAR --outSAMtype BAM SortedByCoordinate --readFilesCommand cat --runThreadN 16 --genomeDir HIV/EU541617.1/ --readFilesIn fastq_unmapped/s24.hiv.METTL3.input.fastq --outFileNamePrefix bam/s24.hiv.METTL3.input.bam --limitBAMsortRAM 1000000000\n",
      "STAR --outSAMtype BAM SortedByCoordinate --readFilesCommand cat --runThreadN 16 --genomeDir HIV/EU541617.1/ --readFilesIn fastq_unmapped/s24.hiv.METTL3.m6A.fastq --outFileNamePrefix bam/s24.hiv.METTL3.m6A.bam --limitBAMsortRAM 1000000000\n",
      "STAR --outSAMtype BAM SortedByCoordinate --readFilesCommand cat --runThreadN 16 --genomeDir HIV/EU541617.1/ --readFilesIn fastq_unmapped/s24.hiv.NT.input.fastq --outFileNamePrefix bam/s24.hiv.NT.input.bam --limitBAMsortRAM 1000000000\n",
      "STAR --outSAMtype BAM SortedByCoordinate --readFilesCommand cat --runThreadN 16 --genomeDir HIV/EU541617.1/ --readFilesIn fastq_unmapped/s24.hiv.NT.m6A.fastq --outFileNamePrefix bam/s24.hiv.NT.m6A.bam --limitBAMsortRAM 1000000000\n",
      "STAR --outSAMtype BAM SortedByCoordinate --readFilesCommand cat --runThreadN 16 --genomeDir HIV/EU541617.1/ --readFilesIn fastq_unmapped/s24.hiv.Virma.input.fastq --outFileNamePrefix bam/s24.hiv.Virma.input.bam --limitBAMsortRAM 1000000000\n",
      "STAR --outSAMtype BAM SortedByCoordinate --readFilesCommand cat --runThreadN 16 --genomeDir HIV/EU541617.1/ --readFilesIn fastq_unmapped/s24.hiv.Virma.m6A.fastq --outFileNamePrefix bam/s24.hiv.Virma.m6A.bam --limitBAMsortRAM 1000000000\n",
      "STAR --outSAMtype BAM SortedByCoordinate --readFilesCommand cat --runThreadN 16 --genomeDir HIV/EU541617.1/ --readFilesIn fastq_unmapped/s24.hiv.WTAP.input.fastq --outFileNamePrefix bam/s24.hiv.WTAP.input.bam --limitBAMsortRAM 1000000000\n",
      "STAR --outSAMtype BAM SortedByCoordinate --readFilesCommand cat --runThreadN 16 --genomeDir HIV/EU541617.1/ --readFilesIn fastq_unmapped/s24.hiv.WTAP.m6A.fastq --outFileNamePrefix bam/s24.hiv.WTAP.m6A.bam --limitBAMsortRAM 1000000000\n"
     ]
    }
   ],
   "source": [
    "%%bash\n",
    "# STAR --genomeLoad LoadAndExit --genomeDir HIV/EU541617.1/\n",
    "for f in fastq_unmapped/*; do\n",
    "\to=${f/.fastq/.bam};\n",
    "\to=${o/fastq_unmapped/bam};\n",
    "\techo STAR --outSAMtype BAM SortedByCoordinate --readFilesCommand cat --runThreadN 16 --genomeDir HIV/EU541617.1/ --readFilesIn $f --outFileNamePrefix $o --limitBAMsortRAM 1000000000;\n",
    "# \tSTAR --outSAMtype BAM SortedByCoordinate --readFilesCommand cat --runThreadN 16 --genomeDir HIV/EU541617.1/ --readFilesIn $f --outFileNamePrefix $o --limitBAMsortRAM 1000000000;\n",
    "done\n",
    "# STAR --genomeLoad Remove --genomeDir HIV/EU541617.1/"
   ]
  },
  {
   "cell_type": "code",
   "execution_count": 65,
   "metadata": {},
   "outputs": [
    {
     "name": "stdout",
     "output_type": "stream",
     "text": [
      "renamed 'bam/s23.hiv.METTL14.input.bamAligned.sortedByCoord.out.bam' -> 'bam/s23.hiv.METTL14.input.bam'\n",
      "renamed 'bam/s23.hiv.METTL14.m6A.bamAligned.sortedByCoord.out.bam' -> 'bam/s23.hiv.METTL14.m6A.bam'\n",
      "renamed 'bam/s23.hiv.METTL3.input.bamAligned.sortedByCoord.out.bam' -> 'bam/s23.hiv.METTL3.input.bam'\n",
      "renamed 'bam/s23.hiv.METTL3.m6A.bamAligned.sortedByCoord.out.bam' -> 'bam/s23.hiv.METTL3.m6A.bam'\n",
      "renamed 'bam/s23.hiv.NT.input.bamAligned.sortedByCoord.out.bam' -> 'bam/s23.hiv.NT.input.bam'\n",
      "renamed 'bam/s23.hiv.NT.m6A.bamAligned.sortedByCoord.out.bam' -> 'bam/s23.hiv.NT.m6A.bam'\n",
      "renamed 'bam/s23.hiv.Virma.input.bamAligned.sortedByCoord.out.bam' -> 'bam/s23.hiv.Virma.input.bam'\n",
      "renamed 'bam/s23.hiv.Virma.m6A.bamAligned.sortedByCoord.out.bam' -> 'bam/s23.hiv.Virma.m6A.bam'\n",
      "renamed 'bam/s23.hiv.WTAP.input.bamAligned.sortedByCoord.out.bam' -> 'bam/s23.hiv.WTAP.input.bam'\n",
      "renamed 'bam/s23.hiv.WTAP.m6A.bamAligned.sortedByCoord.out.bam' -> 'bam/s23.hiv.WTAP.m6A.bam'\n",
      "renamed 'bam/s24.hiv.METTL14.input.bamAligned.sortedByCoord.out.bam' -> 'bam/s24.hiv.METTL14.input.bam'\n",
      "renamed 'bam/s24.hiv.METTL14.m6A.bamAligned.sortedByCoord.out.bam' -> 'bam/s24.hiv.METTL14.m6A.bam'\n",
      "renamed 'bam/s24.hiv.METTL3.input.bamAligned.sortedByCoord.out.bam' -> 'bam/s24.hiv.METTL3.input.bam'\n",
      "renamed 'bam/s24.hiv.METTL3.m6A.bamAligned.sortedByCoord.out.bam' -> 'bam/s24.hiv.METTL3.m6A.bam'\n",
      "renamed 'bam/s24.hiv.NT.input.bamAligned.sortedByCoord.out.bam' -> 'bam/s24.hiv.NT.input.bam'\n",
      "renamed 'bam/s24.hiv.NT.m6A.bamAligned.sortedByCoord.out.bam' -> 'bam/s24.hiv.NT.m6A.bam'\n",
      "renamed 'bam/s24.hiv.Virma.input.bamAligned.sortedByCoord.out.bam' -> 'bam/s24.hiv.Virma.input.bam'\n",
      "renamed 'bam/s24.hiv.Virma.m6A.bamAligned.sortedByCoord.out.bam' -> 'bam/s24.hiv.Virma.m6A.bam'\n",
      "renamed 'bam/s24.hiv.WTAP.input.bamAligned.sortedByCoord.out.bam' -> 'bam/s24.hiv.WTAP.input.bam'\n",
      "renamed 'bam/s24.hiv.WTAP.m6A.bamAligned.sortedByCoord.out.bam' -> 'bam/s24.hiv.WTAP.m6A.bam'\n"
     ]
    }
   ],
   "source": [
    "%%bash \n",
    "for f in bam/*Aligned.sortedByCoord.out.bam; do o=${f/Aligned.sortedByCoord.out.bam/}; mv -v $f $o; done "
   ]
  },
  {
   "cell_type": "markdown",
   "metadata": {},
   "source": [
    "All `bam`  files (mapped to human genome or hiv genome) renamed in this format: \n",
    "> `<sample>.<species>.<treatment>.<input/m6A>.bam`"
   ]
  },
  {
   "cell_type": "markdown",
   "metadata": {},
   "source": [
    "# HIV\n",
    "\n",
    "### Peak calling for HIV genome using exomePeak"
   ]
  },
  {
   "cell_type": "code",
   "execution_count": 3,
   "metadata": {},
   "outputs": [],
   "source": [
    "%%R\n",
    "library(exomePeak)"
   ]
  },
  {
   "cell_type": "code",
   "execution_count": 62,
   "metadata": {},
   "outputs": [],
   "source": [
    "%%R\n",
    "run_exomepeak <- function(\n",
    "    WINDOW = 200, STEP = 30, LENGTH = 100, FDR = 0.05, ENRICH = 1\n",
    "#     , CONSISTENT_PEAK_CUTOFF_PVALUE = 0.05, CONSISTENT_PEAK_FOLD_ENRICHMENT = 1\n",
    "){\n",
    "    setwd(\"~/People/Judd/bam\")\n",
    "    name_it = paste('WINDOW',WINDOW,'STEP',STEP,'LENGTH',LENGTH,'FDR',FDR,'ENRICH',ENRICH, sep = '_')\n",
    "    res <- exomepeak(\n",
    "        TXDB = txdb,\n",
    "        IP_BAM=list.files(pattern='hiv.NT.m6A.bam$'),\n",
    "        INPUT_BAM=list.files(pattern='hiv.NT.input.bam$'),\n",
    "        OUTPUT_DIR='../exomepeak/hiv.control/',\n",
    "        EXPERIMENT_NAME=name_it,\n",
    "        # options \n",
    "        WINDOW_WIDTH = WINDOW, \n",
    "        SLIDING_STEP = STEP, \n",
    "        FRAGMENT_LENGTH = LENGTH,\n",
    "        \n",
    "        PEAK_CUTOFF_FDR = FDR,\n",
    "        FOLD_ENRICHMENT = ENRICH,\n",
    "        \n",
    "#         CONSISTENT_PEAK_CUTOFF_PVALUE = CONSISTENT_PEAK_CUTOFF_PVALUE,\n",
    "#         CONSISTENT_PEAK_FOLD_ENRICHMENT = CONSISTENT_PEAK_FOLD_ENRICHMENT\n",
    "    )\n",
    "    \n",
    "    ifelse(!dir.exists(file.path('../exomepeak/hiv.control/', name_it)), \n",
    "           dir.create(file.path('../exomepeak/hiv.control/', name_it)), FALSE)\n",
    "    \n",
    "    saveRDS(res, paste('../exomepeak/hiv.control/',name_it,'/results.rds',sep='') )\n",
    "    setwd(\"~/People/Judd\")    \n",
    "}"
   ]
  },
  {
   "cell_type": "code",
   "execution_count": 64,
   "metadata": {
    "scrolled": true
   },
   "outputs": [
    {
     "name": "stderr",
     "output_type": "stream",
     "text": [
      "R[write to console]: Import genomic features from the file as a GRanges object ... \n",
      "R[write to console]: OK\n",
      "\n",
      "R[write to console]: Prepare the 'metadata' data frame ... \n",
      "R[write to console]: OK\n",
      "\n",
      "R[write to console]: Make the TxDb object ... \n",
      "R[write to console]: OK\n",
      "\n",
      "R[write to console]: 'select()' returned 1:many mapping between keys and columns\n",
      "\n"
     ]
    },
    {
     "name": "stdout",
     "output_type": "stream",
     "text": [
      "[1] \"Divide transcriptome into chr-gene-batch sections ...\"\n",
      "[1] \"Get Reads Count ...\"\n",
      "[1] \"This step may take a few hours ...\"\n",
      "[1] \"100 %\"\n",
      "[1] \"Get all the peaks ...\"\n",
      "[1] \"Get the consistent peaks ...\"\n",
      "[1] \"---------------------------------\"\n",
      "[1] \"The bam files used:\"\n",
      "[1] \"2 IP replicate(s)\"\n",
      "[1] \"2 Input replicate(s)\"\n",
      "[1] \"---------------------------------\"\n",
      "[1] \"Peak calling result: \"\n",
      "[1] \"13 peaks detected on merged data.\"\n",
      "[1] \"Please check 'peak.bed/xls' under ../exomepeak/hiv.control//WINDOW_15_STEP_5_LENGTH_15_FDR_0.01_ENRICH_0.1\"\n",
      "[1] \"16 consistent peaks detected on every replicates. (Recommended list)\"\n",
      "[1] \"Please check 'con_peak.bed/xls' under ../exomepeak/hiv.control//WINDOW_15_STEP_5_LENGTH_15_FDR_0.01_ENRICH_0.1\"\n"
     ]
    },
    {
     "name": "stderr",
     "output_type": "stream",
     "text": [
      "R[write to console]: 'select()' returned 1:many mapping between keys and columns\n",
      "\n"
     ]
    },
    {
     "name": "stdout",
     "output_type": "stream",
     "text": [
      "[1] \"Divide transcriptome into chr-gene-batch sections ...\"\n",
      "[1] \"Get Reads Count ...\"\n",
      "[1] \"This step may take a few hours ...\"\n",
      "[1] \"100 %\"\n",
      "[1] \"Get all the peaks ...\"\n",
      "[1] \"Get the consistent peaks ...\"\n",
      "[1] \"---------------------------------\"\n",
      "[1] \"The bam files used:\"\n",
      "[1] \"2 IP replicate(s)\"\n",
      "[1] \"2 Input replicate(s)\"\n",
      "[1] \"---------------------------------\"\n",
      "[1] \"Peak calling result: \"\n",
      "[1] \"13 peaks detected on merged data.\"\n",
      "[1] \"Please check 'peak.bed/xls' under ../exomepeak/hiv.control//WINDOW_15_STEP_5_LENGTH_15_FDR_0.01_ENRICH_0.2\"\n",
      "[1] \"16 consistent peaks detected on every replicates. (Recommended list)\"\n",
      "[1] \"Please check 'con_peak.bed/xls' under ../exomepeak/hiv.control//WINDOW_15_STEP_5_LENGTH_15_FDR_0.01_ENRICH_0.2\"\n"
     ]
    },
    {
     "name": "stderr",
     "output_type": "stream",
     "text": [
      "R[write to console]: 'select()' returned 1:many mapping between keys and columns\n",
      "\n"
     ]
    },
    {
     "name": "stdout",
     "output_type": "stream",
     "text": [
      "[1] \"Divide transcriptome into chr-gene-batch sections ...\"\n",
      "[1] \"Get Reads Count ...\"\n",
      "[1] \"This step may take a few hours ...\"\n",
      "[1] \"100 %\"\n",
      "[1] \"Get all the peaks ...\"\n",
      "[1] \"Get the consistent peaks ...\"\n",
      "[1] \"---------------------------------\"\n",
      "[1] \"The bam files used:\"\n",
      "[1] \"2 IP replicate(s)\"\n",
      "[1] \"2 Input replicate(s)\"\n",
      "[1] \"---------------------------------\"\n",
      "[1] \"Peak calling result: \"\n",
      "[1] \"13 peaks detected on merged data.\"\n",
      "[1] \"Please check 'peak.bed/xls' under ../exomepeak/hiv.control//WINDOW_15_STEP_5_LENGTH_15_FDR_0.01_ENRICH_1\"\n",
      "[1] \"16 consistent peaks detected on every replicates. (Recommended list)\"\n",
      "[1] \"Please check 'con_peak.bed/xls' under ../exomepeak/hiv.control//WINDOW_15_STEP_5_LENGTH_15_FDR_0.01_ENRICH_1\"\n"
     ]
    },
    {
     "name": "stderr",
     "output_type": "stream",
     "text": [
      "R[write to console]: 'select()' returned 1:many mapping between keys and columns\n",
      "\n"
     ]
    },
    {
     "name": "stdout",
     "output_type": "stream",
     "text": [
      "[1] \"Divide transcriptome into chr-gene-batch sections ...\"\n",
      "[1] \"Get Reads Count ...\"\n",
      "[1] \"This step may take a few hours ...\"\n",
      "[1] \"100 %\"\n",
      "[1] \"Get all the peaks ...\"\n",
      "[1] \"Get the consistent peaks ...\"\n",
      "[1] \"---------------------------------\"\n",
      "[1] \"The bam files used:\"\n",
      "[1] \"2 IP replicate(s)\"\n",
      "[1] \"2 Input replicate(s)\"\n",
      "[1] \"---------------------------------\"\n",
      "[1] \"Peak calling result: \"\n",
      "[1] \"13 peaks detected on merged data.\"\n",
      "[1] \"Please check 'peak.bed/xls' under ../exomepeak/hiv.control//WINDOW_15_STEP_5_LENGTH_15_FDR_0.025_ENRICH_0.1\"\n",
      "[1] \"16 consistent peaks detected on every replicates. (Recommended list)\"\n",
      "[1] \"Please check 'con_peak.bed/xls' under ../exomepeak/hiv.control//WINDOW_15_STEP_5_LENGTH_15_FDR_0.025_ENRICH_0.1\"\n"
     ]
    },
    {
     "name": "stderr",
     "output_type": "stream",
     "text": [
      "R[write to console]: 'select()' returned 1:many mapping between keys and columns\n",
      "\n"
     ]
    },
    {
     "name": "stdout",
     "output_type": "stream",
     "text": [
      "[1] \"Divide transcriptome into chr-gene-batch sections ...\"\n",
      "[1] \"Get Reads Count ...\"\n",
      "[1] \"This step may take a few hours ...\"\n",
      "[1] \"100 %\"\n",
      "[1] \"Get all the peaks ...\"\n",
      "[1] \"Get the consistent peaks ...\"\n",
      "[1] \"---------------------------------\"\n",
      "[1] \"The bam files used:\"\n",
      "[1] \"2 IP replicate(s)\"\n",
      "[1] \"2 Input replicate(s)\"\n",
      "[1] \"---------------------------------\"\n",
      "[1] \"Peak calling result: \"\n",
      "[1] \"13 peaks detected on merged data.\"\n",
      "[1] \"Please check 'peak.bed/xls' under ../exomepeak/hiv.control//WINDOW_15_STEP_5_LENGTH_15_FDR_0.025_ENRICH_0.2\"\n",
      "[1] \"16 consistent peaks detected on every replicates. (Recommended list)\"\n",
      "[1] \"Please check 'con_peak.bed/xls' under ../exomepeak/hiv.control//WINDOW_15_STEP_5_LENGTH_15_FDR_0.025_ENRICH_0.2\"\n"
     ]
    },
    {
     "name": "stderr",
     "output_type": "stream",
     "text": [
      "R[write to console]: 'select()' returned 1:many mapping between keys and columns\n",
      "\n"
     ]
    },
    {
     "name": "stdout",
     "output_type": "stream",
     "text": [
      "[1] \"Divide transcriptome into chr-gene-batch sections ...\"\n",
      "[1] \"Get Reads Count ...\"\n",
      "[1] \"This step may take a few hours ...\"\n",
      "[1] \"100 %\"\n",
      "[1] \"Get all the peaks ...\"\n",
      "[1] \"Get the consistent peaks ...\"\n",
      "[1] \"---------------------------------\"\n",
      "[1] \"The bam files used:\"\n",
      "[1] \"2 IP replicate(s)\"\n",
      "[1] \"2 Input replicate(s)\"\n",
      "[1] \"---------------------------------\"\n",
      "[1] \"Peak calling result: \"\n",
      "[1] \"13 peaks detected on merged data.\"\n",
      "[1] \"Please check 'peak.bed/xls' under ../exomepeak/hiv.control//WINDOW_15_STEP_5_LENGTH_15_FDR_0.025_ENRICH_1\"\n",
      "[1] \"16 consistent peaks detected on every replicates. (Recommended list)\"\n",
      "[1] \"Please check 'con_peak.bed/xls' under ../exomepeak/hiv.control//WINDOW_15_STEP_5_LENGTH_15_FDR_0.025_ENRICH_1\"\n"
     ]
    },
    {
     "name": "stderr",
     "output_type": "stream",
     "text": [
      "R[write to console]: 'select()' returned 1:many mapping between keys and columns\n",
      "\n"
     ]
    },
    {
     "name": "stdout",
     "output_type": "stream",
     "text": [
      "[1] \"Divide transcriptome into chr-gene-batch sections ...\"\n",
      "[1] \"Get Reads Count ...\"\n",
      "[1] \"This step may take a few hours ...\"\n",
      "[1] \"100 %\"\n",
      "[1] \"Get all the peaks ...\"\n",
      "[1] \"Get the consistent peaks ...\"\n",
      "[1] \"---------------------------------\"\n",
      "[1] \"The bam files used:\"\n",
      "[1] \"2 IP replicate(s)\"\n",
      "[1] \"2 Input replicate(s)\"\n",
      "[1] \"---------------------------------\"\n",
      "[1] \"Peak calling result: \"\n",
      "[1] \"9 peaks detected on merged data.\"\n",
      "[1] \"Please check 'peak.bed/xls' under ../exomepeak/hiv.control//WINDOW_15_STEP_5_LENGTH_20_FDR_0.01_ENRICH_0.1\"\n",
      "[1] \"11 consistent peaks detected on every replicates. (Recommended list)\"\n",
      "[1] \"Please check 'con_peak.bed/xls' under ../exomepeak/hiv.control//WINDOW_15_STEP_5_LENGTH_20_FDR_0.01_ENRICH_0.1\"\n"
     ]
    },
    {
     "name": "stderr",
     "output_type": "stream",
     "text": [
      "R[write to console]: 'select()' returned 1:many mapping between keys and columns\n",
      "\n"
     ]
    },
    {
     "name": "stdout",
     "output_type": "stream",
     "text": [
      "[1] \"Divide transcriptome into chr-gene-batch sections ...\"\n",
      "[1] \"Get Reads Count ...\"\n",
      "[1] \"This step may take a few hours ...\"\n",
      "[1] \"100 %\"\n",
      "[1] \"Get all the peaks ...\"\n",
      "[1] \"Get the consistent peaks ...\"\n",
      "[1] \"---------------------------------\"\n",
      "[1] \"The bam files used:\"\n",
      "[1] \"2 IP replicate(s)\"\n",
      "[1] \"2 Input replicate(s)\"\n",
      "[1] \"---------------------------------\"\n",
      "[1] \"Peak calling result: \"\n",
      "[1] \"9 peaks detected on merged data.\"\n",
      "[1] \"Please check 'peak.bed/xls' under ../exomepeak/hiv.control//WINDOW_15_STEP_5_LENGTH_20_FDR_0.01_ENRICH_0.2\"\n",
      "[1] \"11 consistent peaks detected on every replicates. (Recommended list)\"\n",
      "[1] \"Please check 'con_peak.bed/xls' under ../exomepeak/hiv.control//WINDOW_15_STEP_5_LENGTH_20_FDR_0.01_ENRICH_0.2\"\n"
     ]
    },
    {
     "name": "stderr",
     "output_type": "stream",
     "text": [
      "R[write to console]: 'select()' returned 1:many mapping between keys and columns\n",
      "\n"
     ]
    },
    {
     "name": "stdout",
     "output_type": "stream",
     "text": [
      "[1] \"Divide transcriptome into chr-gene-batch sections ...\"\n",
      "[1] \"Get Reads Count ...\"\n",
      "[1] \"This step may take a few hours ...\"\n",
      "[1] \"100 %\"\n",
      "[1] \"Get all the peaks ...\"\n",
      "[1] \"Get the consistent peaks ...\"\n",
      "[1] \"---------------------------------\"\n",
      "[1] \"The bam files used:\"\n",
      "[1] \"2 IP replicate(s)\"\n",
      "[1] \"2 Input replicate(s)\"\n",
      "[1] \"---------------------------------\"\n",
      "[1] \"Peak calling result: \"\n",
      "[1] \"9 peaks detected on merged data.\"\n",
      "[1] \"Please check 'peak.bed/xls' under ../exomepeak/hiv.control//WINDOW_15_STEP_5_LENGTH_20_FDR_0.01_ENRICH_1\"\n",
      "[1] \"11 consistent peaks detected on every replicates. (Recommended list)\"\n",
      "[1] \"Please check 'con_peak.bed/xls' under ../exomepeak/hiv.control//WINDOW_15_STEP_5_LENGTH_20_FDR_0.01_ENRICH_1\"\n"
     ]
    },
    {
     "name": "stderr",
     "output_type": "stream",
     "text": [
      "R[write to console]: 'select()' returned 1:many mapping between keys and columns\n",
      "\n"
     ]
    },
    {
     "name": "stdout",
     "output_type": "stream",
     "text": [
      "[1] \"Divide transcriptome into chr-gene-batch sections ...\"\n",
      "[1] \"Get Reads Count ...\"\n",
      "[1] \"This step may take a few hours ...\"\n",
      "[1] \"100 %\"\n",
      "[1] \"Get all the peaks ...\"\n",
      "[1] \"Get the consistent peaks ...\"\n",
      "[1] \"---------------------------------\"\n",
      "[1] \"The bam files used:\"\n",
      "[1] \"2 IP replicate(s)\"\n",
      "[1] \"2 Input replicate(s)\"\n",
      "[1] \"---------------------------------\"\n",
      "[1] \"Peak calling result: \"\n",
      "[1] \"9 peaks detected on merged data.\"\n",
      "[1] \"Please check 'peak.bed/xls' under ../exomepeak/hiv.control//WINDOW_15_STEP_5_LENGTH_20_FDR_0.025_ENRICH_0.1\"\n",
      "[1] \"11 consistent peaks detected on every replicates. (Recommended list)\"\n",
      "[1] \"Please check 'con_peak.bed/xls' under ../exomepeak/hiv.control//WINDOW_15_STEP_5_LENGTH_20_FDR_0.025_ENRICH_0.1\"\n"
     ]
    },
    {
     "name": "stderr",
     "output_type": "stream",
     "text": [
      "R[write to console]: 'select()' returned 1:many mapping between keys and columns\n",
      "\n"
     ]
    },
    {
     "name": "stdout",
     "output_type": "stream",
     "text": [
      "[1] \"Divide transcriptome into chr-gene-batch sections ...\"\n",
      "[1] \"Get Reads Count ...\"\n",
      "[1] \"This step may take a few hours ...\"\n",
      "[1] \"100 %\"\n",
      "[1] \"Get all the peaks ...\"\n",
      "[1] \"Get the consistent peaks ...\"\n",
      "[1] \"---------------------------------\"\n",
      "[1] \"The bam files used:\"\n",
      "[1] \"2 IP replicate(s)\"\n",
      "[1] \"2 Input replicate(s)\"\n",
      "[1] \"---------------------------------\"\n",
      "[1] \"Peak calling result: \"\n",
      "[1] \"9 peaks detected on merged data.\"\n",
      "[1] \"Please check 'peak.bed/xls' under ../exomepeak/hiv.control//WINDOW_15_STEP_5_LENGTH_20_FDR_0.025_ENRICH_0.2\"\n",
      "[1] \"11 consistent peaks detected on every replicates. (Recommended list)\"\n",
      "[1] \"Please check 'con_peak.bed/xls' under ../exomepeak/hiv.control//WINDOW_15_STEP_5_LENGTH_20_FDR_0.025_ENRICH_0.2\"\n"
     ]
    },
    {
     "name": "stderr",
     "output_type": "stream",
     "text": [
      "R[write to console]: 'select()' returned 1:many mapping between keys and columns\n",
      "\n"
     ]
    },
    {
     "name": "stdout",
     "output_type": "stream",
     "text": [
      "[1] \"Divide transcriptome into chr-gene-batch sections ...\"\n",
      "[1] \"Get Reads Count ...\"\n",
      "[1] \"This step may take a few hours ...\"\n",
      "[1] \"100 %\"\n",
      "[1] \"Get all the peaks ...\"\n",
      "[1] \"Get the consistent peaks ...\"\n",
      "[1] \"---------------------------------\"\n",
      "[1] \"The bam files used:\"\n",
      "[1] \"2 IP replicate(s)\"\n",
      "[1] \"2 Input replicate(s)\"\n",
      "[1] \"---------------------------------\"\n",
      "[1] \"Peak calling result: \"\n",
      "[1] \"9 peaks detected on merged data.\"\n",
      "[1] \"Please check 'peak.bed/xls' under ../exomepeak/hiv.control//WINDOW_15_STEP_5_LENGTH_20_FDR_0.025_ENRICH_1\"\n",
      "[1] \"11 consistent peaks detected on every replicates. (Recommended list)\"\n",
      "[1] \"Please check 'con_peak.bed/xls' under ../exomepeak/hiv.control//WINDOW_15_STEP_5_LENGTH_20_FDR_0.025_ENRICH_1\"\n"
     ]
    },
    {
     "name": "stderr",
     "output_type": "stream",
     "text": [
      "R[write to console]: 'select()' returned 1:many mapping between keys and columns\n",
      "\n"
     ]
    },
    {
     "name": "stdout",
     "output_type": "stream",
     "text": [
      "[1] \"Divide transcriptome into chr-gene-batch sections ...\"\n",
      "[1] \"Get Reads Count ...\"\n",
      "[1] \"This step may take a few hours ...\"\n",
      "[1] \"100 %\"\n",
      "[1] \"Get all the peaks ...\"\n",
      "[1] \"Get the consistent peaks ...\"\n",
      "[1] \"---------------------------------\"\n",
      "[1] \"The bam files used:\"\n",
      "[1] \"2 IP replicate(s)\"\n",
      "[1] \"2 Input replicate(s)\"\n",
      "[1] \"---------------------------------\"\n",
      "[1] \"Peak calling result: \"\n",
      "[1] \"9 peaks detected on merged data.\"\n",
      "[1] \"Please check 'peak.bed/xls' under ../exomepeak/hiv.control//WINDOW_15_STEP_5_LENGTH_25_FDR_0.01_ENRICH_0.1\"\n",
      "[1] \"11 consistent peaks detected on every replicates. (Recommended list)\"\n",
      "[1] \"Please check 'con_peak.bed/xls' under ../exomepeak/hiv.control//WINDOW_15_STEP_5_LENGTH_25_FDR_0.01_ENRICH_0.1\"\n"
     ]
    },
    {
     "name": "stderr",
     "output_type": "stream",
     "text": [
      "R[write to console]: 'select()' returned 1:many mapping between keys and columns\n",
      "\n"
     ]
    },
    {
     "name": "stdout",
     "output_type": "stream",
     "text": [
      "[1] \"Divide transcriptome into chr-gene-batch sections ...\"\n",
      "[1] \"Get Reads Count ...\"\n",
      "[1] \"This step may take a few hours ...\"\n",
      "[1] \"100 %\"\n",
      "[1] \"Get all the peaks ...\"\n",
      "[1] \"Get the consistent peaks ...\"\n",
      "[1] \"---------------------------------\"\n",
      "[1] \"The bam files used:\"\n",
      "[1] \"2 IP replicate(s)\"\n",
      "[1] \"2 Input replicate(s)\"\n",
      "[1] \"---------------------------------\"\n",
      "[1] \"Peak calling result: \"\n",
      "[1] \"9 peaks detected on merged data.\"\n",
      "[1] \"Please check 'peak.bed/xls' under ../exomepeak/hiv.control//WINDOW_15_STEP_5_LENGTH_25_FDR_0.01_ENRICH_0.2\"\n",
      "[1] \"11 consistent peaks detected on every replicates. (Recommended list)\"\n",
      "[1] \"Please check 'con_peak.bed/xls' under ../exomepeak/hiv.control//WINDOW_15_STEP_5_LENGTH_25_FDR_0.01_ENRICH_0.2\"\n"
     ]
    },
    {
     "name": "stderr",
     "output_type": "stream",
     "text": [
      "R[write to console]: 'select()' returned 1:many mapping between keys and columns\n",
      "\n"
     ]
    },
    {
     "name": "stdout",
     "output_type": "stream",
     "text": [
      "[1] \"Divide transcriptome into chr-gene-batch sections ...\"\n",
      "[1] \"Get Reads Count ...\"\n",
      "[1] \"This step may take a few hours ...\"\n",
      "[1] \"100 %\"\n",
      "[1] \"Get all the peaks ...\"\n",
      "[1] \"Get the consistent peaks ...\"\n",
      "[1] \"---------------------------------\"\n",
      "[1] \"The bam files used:\"\n",
      "[1] \"2 IP replicate(s)\"\n",
      "[1] \"2 Input replicate(s)\"\n",
      "[1] \"---------------------------------\"\n",
      "[1] \"Peak calling result: \"\n",
      "[1] \"9 peaks detected on merged data.\"\n",
      "[1] \"Please check 'peak.bed/xls' under ../exomepeak/hiv.control//WINDOW_15_STEP_5_LENGTH_25_FDR_0.01_ENRICH_1\"\n",
      "[1] \"11 consistent peaks detected on every replicates. (Recommended list)\"\n",
      "[1] \"Please check 'con_peak.bed/xls' under ../exomepeak/hiv.control//WINDOW_15_STEP_5_LENGTH_25_FDR_0.01_ENRICH_1\"\n"
     ]
    },
    {
     "name": "stderr",
     "output_type": "stream",
     "text": [
      "R[write to console]: 'select()' returned 1:many mapping between keys and columns\n",
      "\n"
     ]
    },
    {
     "name": "stdout",
     "output_type": "stream",
     "text": [
      "[1] \"Divide transcriptome into chr-gene-batch sections ...\"\n",
      "[1] \"Get Reads Count ...\"\n",
      "[1] \"This step may take a few hours ...\"\n",
      "[1] \"100 %\"\n",
      "[1] \"Get all the peaks ...\"\n",
      "[1] \"Get the consistent peaks ...\"\n",
      "[1] \"---------------------------------\"\n",
      "[1] \"The bam files used:\"\n",
      "[1] \"2 IP replicate(s)\"\n",
      "[1] \"2 Input replicate(s)\"\n",
      "[1] \"---------------------------------\"\n",
      "[1] \"Peak calling result: \"\n",
      "[1] \"8 peaks detected on merged data.\"\n",
      "[1] \"Please check 'peak.bed/xls' under ../exomepeak/hiv.control//WINDOW_15_STEP_5_LENGTH_25_FDR_0.025_ENRICH_0.1\"\n",
      "[1] \"11 consistent peaks detected on every replicates. (Recommended list)\"\n",
      "[1] \"Please check 'con_peak.bed/xls' under ../exomepeak/hiv.control//WINDOW_15_STEP_5_LENGTH_25_FDR_0.025_ENRICH_0.1\"\n"
     ]
    },
    {
     "name": "stderr",
     "output_type": "stream",
     "text": [
      "R[write to console]: 'select()' returned 1:many mapping between keys and columns\n",
      "\n"
     ]
    },
    {
     "name": "stdout",
     "output_type": "stream",
     "text": [
      "[1] \"Divide transcriptome into chr-gene-batch sections ...\"\n",
      "[1] \"Get Reads Count ...\"\n",
      "[1] \"This step may take a few hours ...\"\n",
      "[1] \"100 %\"\n",
      "[1] \"Get all the peaks ...\"\n",
      "[1] \"Get the consistent peaks ...\"\n",
      "[1] \"---------------------------------\"\n",
      "[1] \"The bam files used:\"\n",
      "[1] \"2 IP replicate(s)\"\n",
      "[1] \"2 Input replicate(s)\"\n",
      "[1] \"---------------------------------\"\n",
      "[1] \"Peak calling result: \"\n",
      "[1] \"8 peaks detected on merged data.\"\n",
      "[1] \"Please check 'peak.bed/xls' under ../exomepeak/hiv.control//WINDOW_15_STEP_5_LENGTH_25_FDR_0.025_ENRICH_0.2\"\n",
      "[1] \"11 consistent peaks detected on every replicates. (Recommended list)\"\n",
      "[1] \"Please check 'con_peak.bed/xls' under ../exomepeak/hiv.control//WINDOW_15_STEP_5_LENGTH_25_FDR_0.025_ENRICH_0.2\"\n"
     ]
    },
    {
     "name": "stderr",
     "output_type": "stream",
     "text": [
      "R[write to console]: 'select()' returned 1:many mapping between keys and columns\n",
      "\n"
     ]
    },
    {
     "name": "stdout",
     "output_type": "stream",
     "text": [
      "[1] \"Divide transcriptome into chr-gene-batch sections ...\"\n",
      "[1] \"Get Reads Count ...\"\n",
      "[1] \"This step may take a few hours ...\"\n",
      "[1] \"100 %\"\n",
      "[1] \"Get all the peaks ...\"\n",
      "[1] \"Get the consistent peaks ...\"\n",
      "[1] \"---------------------------------\"\n",
      "[1] \"The bam files used:\"\n",
      "[1] \"2 IP replicate(s)\"\n",
      "[1] \"2 Input replicate(s)\"\n",
      "[1] \"---------------------------------\"\n",
      "[1] \"Peak calling result: \"\n",
      "[1] \"8 peaks detected on merged data.\"\n",
      "[1] \"Please check 'peak.bed/xls' under ../exomepeak/hiv.control//WINDOW_15_STEP_5_LENGTH_25_FDR_0.025_ENRICH_1\"\n",
      "[1] \"11 consistent peaks detected on every replicates. (Recommended list)\"\n",
      "[1] \"Please check 'con_peak.bed/xls' under ../exomepeak/hiv.control//WINDOW_15_STEP_5_LENGTH_25_FDR_0.025_ENRICH_1\"\n"
     ]
    },
    {
     "name": "stderr",
     "output_type": "stream",
     "text": [
      "R[write to console]: 'select()' returned 1:many mapping between keys and columns\n",
      "\n"
     ]
    },
    {
     "name": "stdout",
     "output_type": "stream",
     "text": [
      "[1] \"Divide transcriptome into chr-gene-batch sections ...\"\n",
      "[1] \"Get Reads Count ...\"\n",
      "[1] \"This step may take a few hours ...\"\n",
      "[1] \"100 %\"\n",
      "[1] \"Get all the peaks ...\"\n",
      "[1] \"Get the consistent peaks ...\"\n",
      "[1] \"---------------------------------\"\n",
      "[1] \"The bam files used:\"\n",
      "[1] \"2 IP replicate(s)\"\n",
      "[1] \"2 Input replicate(s)\"\n",
      "[1] \"---------------------------------\"\n",
      "[1] \"Peak calling result: \"\n",
      "[1] \"7 peaks detected on merged data.\"\n",
      "[1] \"Please check 'peak.bed/xls' under ../exomepeak/hiv.control//WINDOW_15_STEP_10_LENGTH_15_FDR_0.01_ENRICH_0.1\"\n",
      "[1] \"10 consistent peaks detected on every replicates. (Recommended list)\"\n",
      "[1] \"Please check 'con_peak.bed/xls' under ../exomepeak/hiv.control//WINDOW_15_STEP_10_LENGTH_15_FDR_0.01_ENRICH_0.1\"\n"
     ]
    },
    {
     "name": "stderr",
     "output_type": "stream",
     "text": [
      "R[write to console]: 'select()' returned 1:many mapping between keys and columns\n",
      "\n"
     ]
    },
    {
     "name": "stdout",
     "output_type": "stream",
     "text": [
      "[1] \"Divide transcriptome into chr-gene-batch sections ...\"\n",
      "[1] \"Get Reads Count ...\"\n",
      "[1] \"This step may take a few hours ...\"\n",
      "[1] \"100 %\"\n",
      "[1] \"Get all the peaks ...\"\n",
      "[1] \"Get the consistent peaks ...\"\n",
      "[1] \"---------------------------------\"\n",
      "[1] \"The bam files used:\"\n",
      "[1] \"2 IP replicate(s)\"\n",
      "[1] \"2 Input replicate(s)\"\n",
      "[1] \"---------------------------------\"\n",
      "[1] \"Peak calling result: \"\n",
      "[1] \"7 peaks detected on merged data.\"\n",
      "[1] \"Please check 'peak.bed/xls' under ../exomepeak/hiv.control//WINDOW_15_STEP_10_LENGTH_15_FDR_0.01_ENRICH_0.2\"\n",
      "[1] \"10 consistent peaks detected on every replicates. (Recommended list)\"\n",
      "[1] \"Please check 'con_peak.bed/xls' under ../exomepeak/hiv.control//WINDOW_15_STEP_10_LENGTH_15_FDR_0.01_ENRICH_0.2\"\n"
     ]
    },
    {
     "name": "stderr",
     "output_type": "stream",
     "text": [
      "R[write to console]: 'select()' returned 1:many mapping between keys and columns\n",
      "\n"
     ]
    },
    {
     "name": "stdout",
     "output_type": "stream",
     "text": [
      "[1] \"Divide transcriptome into chr-gene-batch sections ...\"\n",
      "[1] \"Get Reads Count ...\"\n",
      "[1] \"This step may take a few hours ...\"\n",
      "[1] \"100 %\"\n",
      "[1] \"Get all the peaks ...\"\n",
      "[1] \"Get the consistent peaks ...\"\n",
      "[1] \"---------------------------------\"\n",
      "[1] \"The bam files used:\"\n",
      "[1] \"2 IP replicate(s)\"\n",
      "[1] \"2 Input replicate(s)\"\n",
      "[1] \"---------------------------------\"\n",
      "[1] \"Peak calling result: \"\n",
      "[1] \"7 peaks detected on merged data.\"\n",
      "[1] \"Please check 'peak.bed/xls' under ../exomepeak/hiv.control//WINDOW_15_STEP_10_LENGTH_15_FDR_0.01_ENRICH_1\"\n",
      "[1] \"10 consistent peaks detected on every replicates. (Recommended list)\"\n",
      "[1] \"Please check 'con_peak.bed/xls' under ../exomepeak/hiv.control//WINDOW_15_STEP_10_LENGTH_15_FDR_0.01_ENRICH_1\"\n"
     ]
    },
    {
     "name": "stderr",
     "output_type": "stream",
     "text": [
      "R[write to console]: 'select()' returned 1:many mapping between keys and columns\n",
      "\n"
     ]
    },
    {
     "name": "stdout",
     "output_type": "stream",
     "text": [
      "[1] \"Divide transcriptome into chr-gene-batch sections ...\"\n",
      "[1] \"Get Reads Count ...\"\n",
      "[1] \"This step may take a few hours ...\"\n",
      "[1] \"100 %\"\n",
      "[1] \"Get all the peaks ...\"\n",
      "[1] \"Get the consistent peaks ...\"\n",
      "[1] \"---------------------------------\"\n",
      "[1] \"The bam files used:\"\n",
      "[1] \"2 IP replicate(s)\"\n",
      "[1] \"2 Input replicate(s)\"\n",
      "[1] \"---------------------------------\"\n",
      "[1] \"Peak calling result: \"\n",
      "[1] \"8 peaks detected on merged data.\"\n",
      "[1] \"Please check 'peak.bed/xls' under ../exomepeak/hiv.control//WINDOW_15_STEP_10_LENGTH_15_FDR_0.025_ENRICH_0.1\"\n",
      "[1] \"10 consistent peaks detected on every replicates. (Recommended list)\"\n",
      "[1] \"Please check 'con_peak.bed/xls' under ../exomepeak/hiv.control//WINDOW_15_STEP_10_LENGTH_15_FDR_0.025_ENRICH_0.1\"\n"
     ]
    },
    {
     "name": "stderr",
     "output_type": "stream",
     "text": [
      "R[write to console]: 'select()' returned 1:many mapping between keys and columns\n",
      "\n"
     ]
    },
    {
     "name": "stdout",
     "output_type": "stream",
     "text": [
      "[1] \"Divide transcriptome into chr-gene-batch sections ...\"\n",
      "[1] \"Get Reads Count ...\"\n",
      "[1] \"This step may take a few hours ...\"\n",
      "[1] \"100 %\"\n",
      "[1] \"Get all the peaks ...\"\n",
      "[1] \"Get the consistent peaks ...\"\n",
      "[1] \"---------------------------------\"\n",
      "[1] \"The bam files used:\"\n",
      "[1] \"2 IP replicate(s)\"\n",
      "[1] \"2 Input replicate(s)\"\n",
      "[1] \"---------------------------------\"\n",
      "[1] \"Peak calling result: \"\n",
      "[1] \"8 peaks detected on merged data.\"\n",
      "[1] \"Please check 'peak.bed/xls' under ../exomepeak/hiv.control//WINDOW_15_STEP_10_LENGTH_15_FDR_0.025_ENRICH_0.2\"\n",
      "[1] \"10 consistent peaks detected on every replicates. (Recommended list)\"\n",
      "[1] \"Please check 'con_peak.bed/xls' under ../exomepeak/hiv.control//WINDOW_15_STEP_10_LENGTH_15_FDR_0.025_ENRICH_0.2\"\n"
     ]
    },
    {
     "name": "stderr",
     "output_type": "stream",
     "text": [
      "R[write to console]: 'select()' returned 1:many mapping between keys and columns\n",
      "\n"
     ]
    },
    {
     "name": "stdout",
     "output_type": "stream",
     "text": [
      "[1] \"Divide transcriptome into chr-gene-batch sections ...\"\n",
      "[1] \"Get Reads Count ...\"\n",
      "[1] \"This step may take a few hours ...\"\n",
      "[1] \"100 %\"\n",
      "[1] \"Get all the peaks ...\"\n",
      "[1] \"Get the consistent peaks ...\"\n",
      "[1] \"---------------------------------\"\n",
      "[1] \"The bam files used:\"\n",
      "[1] \"2 IP replicate(s)\"\n",
      "[1] \"2 Input replicate(s)\"\n",
      "[1] \"---------------------------------\"\n",
      "[1] \"Peak calling result: \"\n",
      "[1] \"8 peaks detected on merged data.\"\n",
      "[1] \"Please check 'peak.bed/xls' under ../exomepeak/hiv.control//WINDOW_15_STEP_10_LENGTH_15_FDR_0.025_ENRICH_1\"\n",
      "[1] \"10 consistent peaks detected on every replicates. (Recommended list)\"\n",
      "[1] \"Please check 'con_peak.bed/xls' under ../exomepeak/hiv.control//WINDOW_15_STEP_10_LENGTH_15_FDR_0.025_ENRICH_1\"\n"
     ]
    },
    {
     "name": "stderr",
     "output_type": "stream",
     "text": [
      "R[write to console]: 'select()' returned 1:many mapping between keys and columns\n",
      "\n"
     ]
    },
    {
     "name": "stdout",
     "output_type": "stream",
     "text": [
      "[1] \"Divide transcriptome into chr-gene-batch sections ...\"\n",
      "[1] \"Get Reads Count ...\"\n",
      "[1] \"This step may take a few hours ...\"\n",
      "[1] \"100 %\"\n",
      "[1] \"Get all the peaks ...\"\n",
      "[1] \"Get the consistent peaks ...\"\n",
      "[1] \"---------------------------------\"\n",
      "[1] \"The bam files used:\"\n",
      "[1] \"2 IP replicate(s)\"\n",
      "[1] \"2 Input replicate(s)\"\n",
      "[1] \"---------------------------------\"\n",
      "[1] \"Peak calling result: \"\n",
      "[1] \"8 peaks detected on merged data.\"\n",
      "[1] \"Please check 'peak.bed/xls' under ../exomepeak/hiv.control//WINDOW_15_STEP_10_LENGTH_20_FDR_0.01_ENRICH_0.1\"\n",
      "[1] \"7 consistent peaks detected on every replicates. (Recommended list)\"\n",
      "[1] \"Please check 'con_peak.bed/xls' under ../exomepeak/hiv.control//WINDOW_15_STEP_10_LENGTH_20_FDR_0.01_ENRICH_0.1\"\n"
     ]
    },
    {
     "name": "stderr",
     "output_type": "stream",
     "text": [
      "R[write to console]: 'select()' returned 1:many mapping between keys and columns\n",
      "\n"
     ]
    },
    {
     "name": "stdout",
     "output_type": "stream",
     "text": [
      "[1] \"Divide transcriptome into chr-gene-batch sections ...\"\n",
      "[1] \"Get Reads Count ...\"\n",
      "[1] \"This step may take a few hours ...\"\n",
      "[1] \"100 %\"\n",
      "[1] \"Get all the peaks ...\"\n",
      "[1] \"Get the consistent peaks ...\"\n",
      "[1] \"---------------------------------\"\n",
      "[1] \"The bam files used:\"\n",
      "[1] \"2 IP replicate(s)\"\n",
      "[1] \"2 Input replicate(s)\"\n",
      "[1] \"---------------------------------\"\n",
      "[1] \"Peak calling result: \"\n",
      "[1] \"8 peaks detected on merged data.\"\n",
      "[1] \"Please check 'peak.bed/xls' under ../exomepeak/hiv.control//WINDOW_15_STEP_10_LENGTH_20_FDR_0.01_ENRICH_0.2\"\n",
      "[1] \"7 consistent peaks detected on every replicates. (Recommended list)\"\n",
      "[1] \"Please check 'con_peak.bed/xls' under ../exomepeak/hiv.control//WINDOW_15_STEP_10_LENGTH_20_FDR_0.01_ENRICH_0.2\"\n"
     ]
    },
    {
     "name": "stderr",
     "output_type": "stream",
     "text": [
      "R[write to console]: 'select()' returned 1:many mapping between keys and columns\n",
      "\n"
     ]
    },
    {
     "name": "stdout",
     "output_type": "stream",
     "text": [
      "[1] \"Divide transcriptome into chr-gene-batch sections ...\"\n",
      "[1] \"Get Reads Count ...\"\n",
      "[1] \"This step may take a few hours ...\"\n",
      "[1] \"100 %\"\n",
      "[1] \"Get all the peaks ...\"\n",
      "[1] \"Get the consistent peaks ...\"\n",
      "[1] \"---------------------------------\"\n",
      "[1] \"The bam files used:\"\n",
      "[1] \"2 IP replicate(s)\"\n",
      "[1] \"2 Input replicate(s)\"\n",
      "[1] \"---------------------------------\"\n",
      "[1] \"Peak calling result: \"\n",
      "[1] \"8 peaks detected on merged data.\"\n",
      "[1] \"Please check 'peak.bed/xls' under ../exomepeak/hiv.control//WINDOW_15_STEP_10_LENGTH_20_FDR_0.01_ENRICH_1\"\n",
      "[1] \"7 consistent peaks detected on every replicates. (Recommended list)\"\n",
      "[1] \"Please check 'con_peak.bed/xls' under ../exomepeak/hiv.control//WINDOW_15_STEP_10_LENGTH_20_FDR_0.01_ENRICH_1\"\n"
     ]
    },
    {
     "name": "stderr",
     "output_type": "stream",
     "text": [
      "R[write to console]: 'select()' returned 1:many mapping between keys and columns\n",
      "\n"
     ]
    },
    {
     "name": "stdout",
     "output_type": "stream",
     "text": [
      "[1] \"Divide transcriptome into chr-gene-batch sections ...\"\n",
      "[1] \"Get Reads Count ...\"\n",
      "[1] \"This step may take a few hours ...\"\n",
      "[1] \"100 %\"\n",
      "[1] \"Get all the peaks ...\"\n",
      "[1] \"Get the consistent peaks ...\"\n",
      "[1] \"---------------------------------\"\n",
      "[1] \"The bam files used:\"\n",
      "[1] \"2 IP replicate(s)\"\n",
      "[1] \"2 Input replicate(s)\"\n",
      "[1] \"---------------------------------\"\n",
      "[1] \"Peak calling result: \"\n",
      "[1] \"8 peaks detected on merged data.\"\n",
      "[1] \"Please check 'peak.bed/xls' under ../exomepeak/hiv.control//WINDOW_15_STEP_10_LENGTH_20_FDR_0.025_ENRICH_0.1\"\n",
      "[1] \"7 consistent peaks detected on every replicates. (Recommended list)\"\n",
      "[1] \"Please check 'con_peak.bed/xls' under ../exomepeak/hiv.control//WINDOW_15_STEP_10_LENGTH_20_FDR_0.025_ENRICH_0.1\"\n"
     ]
    },
    {
     "name": "stderr",
     "output_type": "stream",
     "text": [
      "R[write to console]: 'select()' returned 1:many mapping between keys and columns\n",
      "\n"
     ]
    },
    {
     "name": "stdout",
     "output_type": "stream",
     "text": [
      "[1] \"Divide transcriptome into chr-gene-batch sections ...\"\n",
      "[1] \"Get Reads Count ...\"\n",
      "[1] \"This step may take a few hours ...\"\n",
      "[1] \"100 %\"\n",
      "[1] \"Get all the peaks ...\"\n",
      "[1] \"Get the consistent peaks ...\"\n",
      "[1] \"---------------------------------\"\n",
      "[1] \"The bam files used:\"\n",
      "[1] \"2 IP replicate(s)\"\n",
      "[1] \"2 Input replicate(s)\"\n",
      "[1] \"---------------------------------\"\n",
      "[1] \"Peak calling result: \"\n",
      "[1] \"8 peaks detected on merged data.\"\n",
      "[1] \"Please check 'peak.bed/xls' under ../exomepeak/hiv.control//WINDOW_15_STEP_10_LENGTH_20_FDR_0.025_ENRICH_0.2\"\n",
      "[1] \"7 consistent peaks detected on every replicates. (Recommended list)\"\n",
      "[1] \"Please check 'con_peak.bed/xls' under ../exomepeak/hiv.control//WINDOW_15_STEP_10_LENGTH_20_FDR_0.025_ENRICH_0.2\"\n"
     ]
    },
    {
     "name": "stderr",
     "output_type": "stream",
     "text": [
      "R[write to console]: 'select()' returned 1:many mapping between keys and columns\n",
      "\n"
     ]
    },
    {
     "name": "stdout",
     "output_type": "stream",
     "text": [
      "[1] \"Divide transcriptome into chr-gene-batch sections ...\"\n",
      "[1] \"Get Reads Count ...\"\n",
      "[1] \"This step may take a few hours ...\"\n",
      "[1] \"100 %\"\n",
      "[1] \"Get all the peaks ...\"\n",
      "[1] \"Get the consistent peaks ...\"\n",
      "[1] \"---------------------------------\"\n",
      "[1] \"The bam files used:\"\n",
      "[1] \"2 IP replicate(s)\"\n",
      "[1] \"2 Input replicate(s)\"\n",
      "[1] \"---------------------------------\"\n",
      "[1] \"Peak calling result: \"\n",
      "[1] \"8 peaks detected on merged data.\"\n",
      "[1] \"Please check 'peak.bed/xls' under ../exomepeak/hiv.control//WINDOW_15_STEP_10_LENGTH_20_FDR_0.025_ENRICH_1\"\n",
      "[1] \"7 consistent peaks detected on every replicates. (Recommended list)\"\n",
      "[1] \"Please check 'con_peak.bed/xls' under ../exomepeak/hiv.control//WINDOW_15_STEP_10_LENGTH_20_FDR_0.025_ENRICH_1\"\n"
     ]
    },
    {
     "name": "stderr",
     "output_type": "stream",
     "text": [
      "R[write to console]: 'select()' returned 1:many mapping between keys and columns\n",
      "\n"
     ]
    },
    {
     "name": "stdout",
     "output_type": "stream",
     "text": [
      "[1] \"Divide transcriptome into chr-gene-batch sections ...\"\n",
      "[1] \"Get Reads Count ...\"\n",
      "[1] \"This step may take a few hours ...\"\n",
      "[1] \"100 %\"\n",
      "[1] \"Get all the peaks ...\"\n",
      "[1] \"Get the consistent peaks ...\"\n",
      "[1] \"---------------------------------\"\n",
      "[1] \"The bam files used:\"\n",
      "[1] \"2 IP replicate(s)\"\n",
      "[1] \"2 Input replicate(s)\"\n",
      "[1] \"---------------------------------\"\n",
      "[1] \"Peak calling result: \"\n",
      "[1] \"9 peaks detected on merged data.\"\n",
      "[1] \"Please check 'peak.bed/xls' under ../exomepeak/hiv.control//WINDOW_15_STEP_10_LENGTH_25_FDR_0.01_ENRICH_0.1\"\n",
      "[1] \"8 consistent peaks detected on every replicates. (Recommended list)\"\n",
      "[1] \"Please check 'con_peak.bed/xls' under ../exomepeak/hiv.control//WINDOW_15_STEP_10_LENGTH_25_FDR_0.01_ENRICH_0.1\"\n"
     ]
    },
    {
     "name": "stderr",
     "output_type": "stream",
     "text": [
      "R[write to console]: 'select()' returned 1:many mapping between keys and columns\n",
      "\n"
     ]
    },
    {
     "name": "stdout",
     "output_type": "stream",
     "text": [
      "[1] \"Divide transcriptome into chr-gene-batch sections ...\"\n",
      "[1] \"Get Reads Count ...\"\n",
      "[1] \"This step may take a few hours ...\"\n",
      "[1] \"100 %\"\n",
      "[1] \"Get all the peaks ...\"\n",
      "[1] \"Get the consistent peaks ...\"\n",
      "[1] \"---------------------------------\"\n",
      "[1] \"The bam files used:\"\n",
      "[1] \"2 IP replicate(s)\"\n",
      "[1] \"2 Input replicate(s)\"\n",
      "[1] \"---------------------------------\"\n",
      "[1] \"Peak calling result: \"\n",
      "[1] \"9 peaks detected on merged data.\"\n",
      "[1] \"Please check 'peak.bed/xls' under ../exomepeak/hiv.control//WINDOW_15_STEP_10_LENGTH_25_FDR_0.01_ENRICH_0.2\"\n",
      "[1] \"8 consistent peaks detected on every replicates. (Recommended list)\"\n",
      "[1] \"Please check 'con_peak.bed/xls' under ../exomepeak/hiv.control//WINDOW_15_STEP_10_LENGTH_25_FDR_0.01_ENRICH_0.2\"\n"
     ]
    },
    {
     "name": "stderr",
     "output_type": "stream",
     "text": [
      "R[write to console]: 'select()' returned 1:many mapping between keys and columns\n",
      "\n"
     ]
    },
    {
     "name": "stdout",
     "output_type": "stream",
     "text": [
      "[1] \"Divide transcriptome into chr-gene-batch sections ...\"\n",
      "[1] \"Get Reads Count ...\"\n",
      "[1] \"This step may take a few hours ...\"\n",
      "[1] \"100 %\"\n",
      "[1] \"Get all the peaks ...\"\n",
      "[1] \"Get the consistent peaks ...\"\n",
      "[1] \"---------------------------------\"\n",
      "[1] \"The bam files used:\"\n",
      "[1] \"2 IP replicate(s)\"\n",
      "[1] \"2 Input replicate(s)\"\n",
      "[1] \"---------------------------------\"\n",
      "[1] \"Peak calling result: \"\n",
      "[1] \"9 peaks detected on merged data.\"\n",
      "[1] \"Please check 'peak.bed/xls' under ../exomepeak/hiv.control//WINDOW_15_STEP_10_LENGTH_25_FDR_0.01_ENRICH_1\"\n",
      "[1] \"8 consistent peaks detected on every replicates. (Recommended list)\"\n",
      "[1] \"Please check 'con_peak.bed/xls' under ../exomepeak/hiv.control//WINDOW_15_STEP_10_LENGTH_25_FDR_0.01_ENRICH_1\"\n"
     ]
    },
    {
     "name": "stderr",
     "output_type": "stream",
     "text": [
      "R[write to console]: 'select()' returned 1:many mapping between keys and columns\n",
      "\n"
     ]
    },
    {
     "name": "stdout",
     "output_type": "stream",
     "text": [
      "[1] \"Divide transcriptome into chr-gene-batch sections ...\"\n",
      "[1] \"Get Reads Count ...\"\n",
      "[1] \"This step may take a few hours ...\"\n",
      "[1] \"100 %\"\n",
      "[1] \"Get all the peaks ...\"\n",
      "[1] \"Get the consistent peaks ...\"\n",
      "[1] \"---------------------------------\"\n",
      "[1] \"The bam files used:\"\n",
      "[1] \"2 IP replicate(s)\"\n",
      "[1] \"2 Input replicate(s)\"\n",
      "[1] \"---------------------------------\"\n",
      "[1] \"Peak calling result: \"\n",
      "[1] \"9 peaks detected on merged data.\"\n",
      "[1] \"Please check 'peak.bed/xls' under ../exomepeak/hiv.control//WINDOW_15_STEP_10_LENGTH_25_FDR_0.025_ENRICH_0.1\"\n",
      "[1] \"8 consistent peaks detected on every replicates. (Recommended list)\"\n",
      "[1] \"Please check 'con_peak.bed/xls' under ../exomepeak/hiv.control//WINDOW_15_STEP_10_LENGTH_25_FDR_0.025_ENRICH_0.1\"\n"
     ]
    },
    {
     "name": "stderr",
     "output_type": "stream",
     "text": [
      "R[write to console]: 'select()' returned 1:many mapping between keys and columns\n",
      "\n"
     ]
    },
    {
     "name": "stdout",
     "output_type": "stream",
     "text": [
      "[1] \"Divide transcriptome into chr-gene-batch sections ...\"\n",
      "[1] \"Get Reads Count ...\"\n",
      "[1] \"This step may take a few hours ...\"\n",
      "[1] \"100 %\"\n",
      "[1] \"Get all the peaks ...\"\n",
      "[1] \"Get the consistent peaks ...\"\n",
      "[1] \"---------------------------------\"\n",
      "[1] \"The bam files used:\"\n",
      "[1] \"2 IP replicate(s)\"\n",
      "[1] \"2 Input replicate(s)\"\n",
      "[1] \"---------------------------------\"\n",
      "[1] \"Peak calling result: \"\n",
      "[1] \"9 peaks detected on merged data.\"\n",
      "[1] \"Please check 'peak.bed/xls' under ../exomepeak/hiv.control//WINDOW_15_STEP_10_LENGTH_25_FDR_0.025_ENRICH_0.2\"\n",
      "[1] \"8 consistent peaks detected on every replicates. (Recommended list)\"\n",
      "[1] \"Please check 'con_peak.bed/xls' under ../exomepeak/hiv.control//WINDOW_15_STEP_10_LENGTH_25_FDR_0.025_ENRICH_0.2\"\n"
     ]
    },
    {
     "name": "stderr",
     "output_type": "stream",
     "text": [
      "R[write to console]: 'select()' returned 1:many mapping between keys and columns\n",
      "\n"
     ]
    },
    {
     "name": "stdout",
     "output_type": "stream",
     "text": [
      "[1] \"Divide transcriptome into chr-gene-batch sections ...\"\n",
      "[1] \"Get Reads Count ...\"\n",
      "[1] \"This step may take a few hours ...\"\n",
      "[1] \"100 %\"\n",
      "[1] \"Get all the peaks ...\"\n",
      "[1] \"Get the consistent peaks ...\"\n",
      "[1] \"---------------------------------\"\n",
      "[1] \"The bam files used:\"\n",
      "[1] \"2 IP replicate(s)\"\n",
      "[1] \"2 Input replicate(s)\"\n",
      "[1] \"---------------------------------\"\n",
      "[1] \"Peak calling result: \"\n",
      "[1] \"9 peaks detected on merged data.\"\n",
      "[1] \"Please check 'peak.bed/xls' under ../exomepeak/hiv.control//WINDOW_15_STEP_10_LENGTH_25_FDR_0.025_ENRICH_1\"\n",
      "[1] \"8 consistent peaks detected on every replicates. (Recommended list)\"\n",
      "[1] \"Please check 'con_peak.bed/xls' under ../exomepeak/hiv.control//WINDOW_15_STEP_10_LENGTH_25_FDR_0.025_ENRICH_1\"\n"
     ]
    },
    {
     "name": "stderr",
     "output_type": "stream",
     "text": [
      "R[write to console]: 'select()' returned 1:many mapping between keys and columns\n",
      "\n"
     ]
    },
    {
     "name": "stdout",
     "output_type": "stream",
     "text": [
      "[1] \"Divide transcriptome into chr-gene-batch sections ...\"\n",
      "[1] \"Get Reads Count ...\"\n",
      "[1] \"This step may take a few hours ...\"\n",
      "[1] \"100 %\"\n",
      "[1] \"Get all the peaks ...\"\n",
      "[1] \"Get the consistent peaks ...\"\n",
      "[1] \"---------------------------------\"\n",
      "[1] \"The bam files used:\"\n",
      "[1] \"2 IP replicate(s)\"\n",
      "[1] \"2 Input replicate(s)\"\n",
      "[1] \"---------------------------------\"\n",
      "[1] \"Peak calling result: \"\n",
      "[1] \"7 peaks detected on merged data.\"\n",
      "[1] \"Please check 'peak.bed/xls' under ../exomepeak/hiv.control//WINDOW_15_STEP_15_LENGTH_15_FDR_0.01_ENRICH_0.1\"\n",
      "[1] \"9 consistent peaks detected on every replicates. (Recommended list)\"\n",
      "[1] \"Please check 'con_peak.bed/xls' under ../exomepeak/hiv.control//WINDOW_15_STEP_15_LENGTH_15_FDR_0.01_ENRICH_0.1\"\n"
     ]
    },
    {
     "name": "stderr",
     "output_type": "stream",
     "text": [
      "R[write to console]: 'select()' returned 1:many mapping between keys and columns\n",
      "\n"
     ]
    },
    {
     "name": "stdout",
     "output_type": "stream",
     "text": [
      "[1] \"Divide transcriptome into chr-gene-batch sections ...\"\n",
      "[1] \"Get Reads Count ...\"\n",
      "[1] \"This step may take a few hours ...\"\n",
      "[1] \"100 %\"\n",
      "[1] \"Get all the peaks ...\"\n",
      "[1] \"Get the consistent peaks ...\"\n",
      "[1] \"---------------------------------\"\n",
      "[1] \"The bam files used:\"\n",
      "[1] \"2 IP replicate(s)\"\n",
      "[1] \"2 Input replicate(s)\"\n",
      "[1] \"---------------------------------\"\n",
      "[1] \"Peak calling result: \"\n",
      "[1] \"7 peaks detected on merged data.\"\n",
      "[1] \"Please check 'peak.bed/xls' under ../exomepeak/hiv.control//WINDOW_15_STEP_15_LENGTH_15_FDR_0.01_ENRICH_0.2\"\n",
      "[1] \"9 consistent peaks detected on every replicates. (Recommended list)\"\n",
      "[1] \"Please check 'con_peak.bed/xls' under ../exomepeak/hiv.control//WINDOW_15_STEP_15_LENGTH_15_FDR_0.01_ENRICH_0.2\"\n"
     ]
    },
    {
     "name": "stderr",
     "output_type": "stream",
     "text": [
      "R[write to console]: 'select()' returned 1:many mapping between keys and columns\n",
      "\n"
     ]
    },
    {
     "name": "stdout",
     "output_type": "stream",
     "text": [
      "[1] \"Divide transcriptome into chr-gene-batch sections ...\"\n",
      "[1] \"Get Reads Count ...\"\n",
      "[1] \"This step may take a few hours ...\"\n",
      "[1] \"100 %\"\n",
      "[1] \"Get all the peaks ...\"\n",
      "[1] \"Get the consistent peaks ...\"\n",
      "[1] \"---------------------------------\"\n",
      "[1] \"The bam files used:\"\n",
      "[1] \"2 IP replicate(s)\"\n",
      "[1] \"2 Input replicate(s)\"\n",
      "[1] \"---------------------------------\"\n",
      "[1] \"Peak calling result: \"\n",
      "[1] \"7 peaks detected on merged data.\"\n",
      "[1] \"Please check 'peak.bed/xls' under ../exomepeak/hiv.control//WINDOW_15_STEP_15_LENGTH_15_FDR_0.01_ENRICH_1\"\n",
      "[1] \"9 consistent peaks detected on every replicates. (Recommended list)\"\n",
      "[1] \"Please check 'con_peak.bed/xls' under ../exomepeak/hiv.control//WINDOW_15_STEP_15_LENGTH_15_FDR_0.01_ENRICH_1\"\n"
     ]
    },
    {
     "name": "stderr",
     "output_type": "stream",
     "text": [
      "R[write to console]: 'select()' returned 1:many mapping between keys and columns\n",
      "\n"
     ]
    },
    {
     "name": "stdout",
     "output_type": "stream",
     "text": [
      "[1] \"Divide transcriptome into chr-gene-batch sections ...\"\n",
      "[1] \"Get Reads Count ...\"\n",
      "[1] \"This step may take a few hours ...\"\n",
      "[1] \"100 %\"\n",
      "[1] \"Get all the peaks ...\"\n",
      "[1] \"Get the consistent peaks ...\"\n",
      "[1] \"---------------------------------\"\n",
      "[1] \"The bam files used:\"\n",
      "[1] \"2 IP replicate(s)\"\n",
      "[1] \"2 Input replicate(s)\"\n",
      "[1] \"---------------------------------\"\n",
      "[1] \"Peak calling result: \"\n",
      "[1] \"7 peaks detected on merged data.\"\n",
      "[1] \"Please check 'peak.bed/xls' under ../exomepeak/hiv.control//WINDOW_15_STEP_15_LENGTH_15_FDR_0.025_ENRICH_0.1\"\n",
      "[1] \"9 consistent peaks detected on every replicates. (Recommended list)\"\n",
      "[1] \"Please check 'con_peak.bed/xls' under ../exomepeak/hiv.control//WINDOW_15_STEP_15_LENGTH_15_FDR_0.025_ENRICH_0.1\"\n"
     ]
    },
    {
     "name": "stderr",
     "output_type": "stream",
     "text": [
      "R[write to console]: 'select()' returned 1:many mapping between keys and columns\n",
      "\n"
     ]
    },
    {
     "name": "stdout",
     "output_type": "stream",
     "text": [
      "[1] \"Divide transcriptome into chr-gene-batch sections ...\"\n",
      "[1] \"Get Reads Count ...\"\n",
      "[1] \"This step may take a few hours ...\"\n",
      "[1] \"100 %\"\n",
      "[1] \"Get all the peaks ...\"\n",
      "[1] \"Get the consistent peaks ...\"\n",
      "[1] \"---------------------------------\"\n",
      "[1] \"The bam files used:\"\n",
      "[1] \"2 IP replicate(s)\"\n",
      "[1] \"2 Input replicate(s)\"\n",
      "[1] \"---------------------------------\"\n",
      "[1] \"Peak calling result: \"\n",
      "[1] \"7 peaks detected on merged data.\"\n",
      "[1] \"Please check 'peak.bed/xls' under ../exomepeak/hiv.control//WINDOW_15_STEP_15_LENGTH_15_FDR_0.025_ENRICH_0.2\"\n",
      "[1] \"9 consistent peaks detected on every replicates. (Recommended list)\"\n",
      "[1] \"Please check 'con_peak.bed/xls' under ../exomepeak/hiv.control//WINDOW_15_STEP_15_LENGTH_15_FDR_0.025_ENRICH_0.2\"\n"
     ]
    },
    {
     "name": "stderr",
     "output_type": "stream",
     "text": [
      "R[write to console]: 'select()' returned 1:many mapping between keys and columns\n",
      "\n"
     ]
    },
    {
     "name": "stdout",
     "output_type": "stream",
     "text": [
      "[1] \"Divide transcriptome into chr-gene-batch sections ...\"\n",
      "[1] \"Get Reads Count ...\"\n",
      "[1] \"This step may take a few hours ...\"\n",
      "[1] \"100 %\"\n",
      "[1] \"Get all the peaks ...\"\n",
      "[1] \"Get the consistent peaks ...\"\n",
      "[1] \"---------------------------------\"\n",
      "[1] \"The bam files used:\"\n",
      "[1] \"2 IP replicate(s)\"\n",
      "[1] \"2 Input replicate(s)\"\n",
      "[1] \"---------------------------------\"\n",
      "[1] \"Peak calling result: \"\n",
      "[1] \"7 peaks detected on merged data.\"\n",
      "[1] \"Please check 'peak.bed/xls' under ../exomepeak/hiv.control//WINDOW_15_STEP_15_LENGTH_15_FDR_0.025_ENRICH_1\"\n",
      "[1] \"9 consistent peaks detected on every replicates. (Recommended list)\"\n",
      "[1] \"Please check 'con_peak.bed/xls' under ../exomepeak/hiv.control//WINDOW_15_STEP_15_LENGTH_15_FDR_0.025_ENRICH_1\"\n"
     ]
    },
    {
     "name": "stderr",
     "output_type": "stream",
     "text": [
      "R[write to console]: 'select()' returned 1:many mapping between keys and columns\n",
      "\n"
     ]
    },
    {
     "name": "stdout",
     "output_type": "stream",
     "text": [
      "[1] \"Divide transcriptome into chr-gene-batch sections ...\"\n",
      "[1] \"Get Reads Count ...\"\n",
      "[1] \"This step may take a few hours ...\"\n",
      "[1] \"100 %\"\n",
      "[1] \"Get all the peaks ...\"\n",
      "[1] \"Get the consistent peaks ...\"\n",
      "[1] \"---------------------------------\"\n",
      "[1] \"The bam files used:\"\n",
      "[1] \"2 IP replicate(s)\"\n",
      "[1] \"2 Input replicate(s)\"\n",
      "[1] \"---------------------------------\"\n",
      "[1] \"Peak calling result: \"\n",
      "[1] \"7 peaks detected on merged data.\"\n",
      "[1] \"Please check 'peak.bed/xls' under ../exomepeak/hiv.control//WINDOW_15_STEP_15_LENGTH_20_FDR_0.01_ENRICH_0.1\"\n",
      "[1] \"7 consistent peaks detected on every replicates. (Recommended list)\"\n",
      "[1] \"Please check 'con_peak.bed/xls' under ../exomepeak/hiv.control//WINDOW_15_STEP_15_LENGTH_20_FDR_0.01_ENRICH_0.1\"\n"
     ]
    },
    {
     "name": "stderr",
     "output_type": "stream",
     "text": [
      "R[write to console]: 'select()' returned 1:many mapping between keys and columns\n",
      "\n"
     ]
    },
    {
     "name": "stdout",
     "output_type": "stream",
     "text": [
      "[1] \"Divide transcriptome into chr-gene-batch sections ...\"\n",
      "[1] \"Get Reads Count ...\"\n",
      "[1] \"This step may take a few hours ...\"\n",
      "[1] \"100 %\"\n",
      "[1] \"Get all the peaks ...\"\n",
      "[1] \"Get the consistent peaks ...\"\n",
      "[1] \"---------------------------------\"\n",
      "[1] \"The bam files used:\"\n",
      "[1] \"2 IP replicate(s)\"\n",
      "[1] \"2 Input replicate(s)\"\n",
      "[1] \"---------------------------------\"\n",
      "[1] \"Peak calling result: \"\n",
      "[1] \"7 peaks detected on merged data.\"\n",
      "[1] \"Please check 'peak.bed/xls' under ../exomepeak/hiv.control//WINDOW_15_STEP_15_LENGTH_20_FDR_0.01_ENRICH_0.2\"\n",
      "[1] \"7 consistent peaks detected on every replicates. (Recommended list)\"\n",
      "[1] \"Please check 'con_peak.bed/xls' under ../exomepeak/hiv.control//WINDOW_15_STEP_15_LENGTH_20_FDR_0.01_ENRICH_0.2\"\n"
     ]
    },
    {
     "name": "stderr",
     "output_type": "stream",
     "text": [
      "R[write to console]: 'select()' returned 1:many mapping between keys and columns\n",
      "\n"
     ]
    },
    {
     "name": "stdout",
     "output_type": "stream",
     "text": [
      "[1] \"Divide transcriptome into chr-gene-batch sections ...\"\n",
      "[1] \"Get Reads Count ...\"\n",
      "[1] \"This step may take a few hours ...\"\n",
      "[1] \"100 %\"\n",
      "[1] \"Get all the peaks ...\"\n",
      "[1] \"Get the consistent peaks ...\"\n",
      "[1] \"---------------------------------\"\n",
      "[1] \"The bam files used:\"\n",
      "[1] \"2 IP replicate(s)\"\n",
      "[1] \"2 Input replicate(s)\"\n",
      "[1] \"---------------------------------\"\n",
      "[1] \"Peak calling result: \"\n",
      "[1] \"7 peaks detected on merged data.\"\n",
      "[1] \"Please check 'peak.bed/xls' under ../exomepeak/hiv.control//WINDOW_15_STEP_15_LENGTH_20_FDR_0.01_ENRICH_1\"\n",
      "[1] \"7 consistent peaks detected on every replicates. (Recommended list)\"\n",
      "[1] \"Please check 'con_peak.bed/xls' under ../exomepeak/hiv.control//WINDOW_15_STEP_15_LENGTH_20_FDR_0.01_ENRICH_1\"\n"
     ]
    },
    {
     "name": "stderr",
     "output_type": "stream",
     "text": [
      "R[write to console]: 'select()' returned 1:many mapping between keys and columns\n",
      "\n"
     ]
    },
    {
     "name": "stdout",
     "output_type": "stream",
     "text": [
      "[1] \"Divide transcriptome into chr-gene-batch sections ...\"\n",
      "[1] \"Get Reads Count ...\"\n",
      "[1] \"This step may take a few hours ...\"\n",
      "[1] \"100 %\"\n",
      "[1] \"Get all the peaks ...\"\n",
      "[1] \"Get the consistent peaks ...\"\n",
      "[1] \"---------------------------------\"\n",
      "[1] \"The bam files used:\"\n",
      "[1] \"2 IP replicate(s)\"\n",
      "[1] \"2 Input replicate(s)\"\n",
      "[1] \"---------------------------------\"\n",
      "[1] \"Peak calling result: \"\n",
      "[1] \"7 peaks detected on merged data.\"\n",
      "[1] \"Please check 'peak.bed/xls' under ../exomepeak/hiv.control//WINDOW_15_STEP_15_LENGTH_20_FDR_0.025_ENRICH_0.1\"\n",
      "[1] \"7 consistent peaks detected on every replicates. (Recommended list)\"\n",
      "[1] \"Please check 'con_peak.bed/xls' under ../exomepeak/hiv.control//WINDOW_15_STEP_15_LENGTH_20_FDR_0.025_ENRICH_0.1\"\n"
     ]
    },
    {
     "name": "stderr",
     "output_type": "stream",
     "text": [
      "R[write to console]: 'select()' returned 1:many mapping between keys and columns\n",
      "\n"
     ]
    },
    {
     "name": "stdout",
     "output_type": "stream",
     "text": [
      "[1] \"Divide transcriptome into chr-gene-batch sections ...\"\n",
      "[1] \"Get Reads Count ...\"\n",
      "[1] \"This step may take a few hours ...\"\n",
      "[1] \"100 %\"\n",
      "[1] \"Get all the peaks ...\"\n",
      "[1] \"Get the consistent peaks ...\"\n",
      "[1] \"---------------------------------\"\n",
      "[1] \"The bam files used:\"\n",
      "[1] \"2 IP replicate(s)\"\n",
      "[1] \"2 Input replicate(s)\"\n",
      "[1] \"---------------------------------\"\n",
      "[1] \"Peak calling result: \"\n",
      "[1] \"7 peaks detected on merged data.\"\n",
      "[1] \"Please check 'peak.bed/xls' under ../exomepeak/hiv.control//WINDOW_15_STEP_15_LENGTH_20_FDR_0.025_ENRICH_0.2\"\n",
      "[1] \"7 consistent peaks detected on every replicates. (Recommended list)\"\n",
      "[1] \"Please check 'con_peak.bed/xls' under ../exomepeak/hiv.control//WINDOW_15_STEP_15_LENGTH_20_FDR_0.025_ENRICH_0.2\"\n"
     ]
    },
    {
     "name": "stderr",
     "output_type": "stream",
     "text": [
      "R[write to console]: 'select()' returned 1:many mapping between keys and columns\n",
      "\n"
     ]
    },
    {
     "name": "stdout",
     "output_type": "stream",
     "text": [
      "[1] \"Divide transcriptome into chr-gene-batch sections ...\"\n",
      "[1] \"Get Reads Count ...\"\n",
      "[1] \"This step may take a few hours ...\"\n",
      "[1] \"100 %\"\n",
      "[1] \"Get all the peaks ...\"\n",
      "[1] \"Get the consistent peaks ...\"\n",
      "[1] \"---------------------------------\"\n",
      "[1] \"The bam files used:\"\n",
      "[1] \"2 IP replicate(s)\"\n",
      "[1] \"2 Input replicate(s)\"\n",
      "[1] \"---------------------------------\"\n",
      "[1] \"Peak calling result: \"\n",
      "[1] \"7 peaks detected on merged data.\"\n",
      "[1] \"Please check 'peak.bed/xls' under ../exomepeak/hiv.control//WINDOW_15_STEP_15_LENGTH_20_FDR_0.025_ENRICH_1\"\n",
      "[1] \"7 consistent peaks detected on every replicates. (Recommended list)\"\n",
      "[1] \"Please check 'con_peak.bed/xls' under ../exomepeak/hiv.control//WINDOW_15_STEP_15_LENGTH_20_FDR_0.025_ENRICH_1\"\n"
     ]
    },
    {
     "name": "stderr",
     "output_type": "stream",
     "text": [
      "R[write to console]: 'select()' returned 1:many mapping between keys and columns\n",
      "\n"
     ]
    },
    {
     "name": "stdout",
     "output_type": "stream",
     "text": [
      "[1] \"Divide transcriptome into chr-gene-batch sections ...\"\n",
      "[1] \"Get Reads Count ...\"\n",
      "[1] \"This step may take a few hours ...\"\n",
      "[1] \"100 %\"\n",
      "[1] \"Get all the peaks ...\"\n",
      "[1] \"Get the consistent peaks ...\"\n",
      "[1] \"---------------------------------\"\n",
      "[1] \"The bam files used:\"\n",
      "[1] \"2 IP replicate(s)\"\n",
      "[1] \"2 Input replicate(s)\"\n",
      "[1] \"---------------------------------\"\n",
      "[1] \"Peak calling result: \"\n",
      "[1] \"9 peaks detected on merged data.\"\n",
      "[1] \"Please check 'peak.bed/xls' under ../exomepeak/hiv.control//WINDOW_15_STEP_15_LENGTH_25_FDR_0.01_ENRICH_0.1\"\n",
      "[1] \"8 consistent peaks detected on every replicates. (Recommended list)\"\n",
      "[1] \"Please check 'con_peak.bed/xls' under ../exomepeak/hiv.control//WINDOW_15_STEP_15_LENGTH_25_FDR_0.01_ENRICH_0.1\"\n"
     ]
    },
    {
     "name": "stderr",
     "output_type": "stream",
     "text": [
      "R[write to console]: 'select()' returned 1:many mapping between keys and columns\n",
      "\n"
     ]
    },
    {
     "name": "stdout",
     "output_type": "stream",
     "text": [
      "[1] \"Divide transcriptome into chr-gene-batch sections ...\"\n",
      "[1] \"Get Reads Count ...\"\n",
      "[1] \"This step may take a few hours ...\"\n",
      "[1] \"100 %\"\n",
      "[1] \"Get all the peaks ...\"\n",
      "[1] \"Get the consistent peaks ...\"\n",
      "[1] \"---------------------------------\"\n",
      "[1] \"The bam files used:\"\n",
      "[1] \"2 IP replicate(s)\"\n",
      "[1] \"2 Input replicate(s)\"\n",
      "[1] \"---------------------------------\"\n",
      "[1] \"Peak calling result: \"\n",
      "[1] \"9 peaks detected on merged data.\"\n",
      "[1] \"Please check 'peak.bed/xls' under ../exomepeak/hiv.control//WINDOW_15_STEP_15_LENGTH_25_FDR_0.01_ENRICH_0.2\"\n",
      "[1] \"8 consistent peaks detected on every replicates. (Recommended list)\"\n",
      "[1] \"Please check 'con_peak.bed/xls' under ../exomepeak/hiv.control//WINDOW_15_STEP_15_LENGTH_25_FDR_0.01_ENRICH_0.2\"\n"
     ]
    },
    {
     "name": "stderr",
     "output_type": "stream",
     "text": [
      "R[write to console]: 'select()' returned 1:many mapping between keys and columns\n",
      "\n"
     ]
    },
    {
     "name": "stdout",
     "output_type": "stream",
     "text": [
      "[1] \"Divide transcriptome into chr-gene-batch sections ...\"\n",
      "[1] \"Get Reads Count ...\"\n",
      "[1] \"This step may take a few hours ...\"\n",
      "[1] \"100 %\"\n",
      "[1] \"Get all the peaks ...\"\n",
      "[1] \"Get the consistent peaks ...\"\n",
      "[1] \"---------------------------------\"\n",
      "[1] \"The bam files used:\"\n",
      "[1] \"2 IP replicate(s)\"\n",
      "[1] \"2 Input replicate(s)\"\n",
      "[1] \"---------------------------------\"\n",
      "[1] \"Peak calling result: \"\n",
      "[1] \"9 peaks detected on merged data.\"\n",
      "[1] \"Please check 'peak.bed/xls' under ../exomepeak/hiv.control//WINDOW_15_STEP_15_LENGTH_25_FDR_0.01_ENRICH_1\"\n",
      "[1] \"8 consistent peaks detected on every replicates. (Recommended list)\"\n",
      "[1] \"Please check 'con_peak.bed/xls' under ../exomepeak/hiv.control//WINDOW_15_STEP_15_LENGTH_25_FDR_0.01_ENRICH_1\"\n"
     ]
    },
    {
     "name": "stderr",
     "output_type": "stream",
     "text": [
      "R[write to console]: 'select()' returned 1:many mapping between keys and columns\n",
      "\n"
     ]
    },
    {
     "name": "stdout",
     "output_type": "stream",
     "text": [
      "[1] \"Divide transcriptome into chr-gene-batch sections ...\"\n",
      "[1] \"Get Reads Count ...\"\n",
      "[1] \"This step may take a few hours ...\"\n",
      "[1] \"100 %\"\n",
      "[1] \"Get all the peaks ...\"\n",
      "[1] \"Get the consistent peaks ...\"\n",
      "[1] \"---------------------------------\"\n",
      "[1] \"The bam files used:\"\n",
      "[1] \"2 IP replicate(s)\"\n",
      "[1] \"2 Input replicate(s)\"\n",
      "[1] \"---------------------------------\"\n",
      "[1] \"Peak calling result: \"\n",
      "[1] \"9 peaks detected on merged data.\"\n",
      "[1] \"Please check 'peak.bed/xls' under ../exomepeak/hiv.control//WINDOW_15_STEP_15_LENGTH_25_FDR_0.025_ENRICH_0.1\"\n",
      "[1] \"8 consistent peaks detected on every replicates. (Recommended list)\"\n",
      "[1] \"Please check 'con_peak.bed/xls' under ../exomepeak/hiv.control//WINDOW_15_STEP_15_LENGTH_25_FDR_0.025_ENRICH_0.1\"\n"
     ]
    },
    {
     "name": "stderr",
     "output_type": "stream",
     "text": [
      "R[write to console]: 'select()' returned 1:many mapping between keys and columns\n",
      "\n"
     ]
    },
    {
     "name": "stdout",
     "output_type": "stream",
     "text": [
      "[1] \"Divide transcriptome into chr-gene-batch sections ...\"\n",
      "[1] \"Get Reads Count ...\"\n",
      "[1] \"This step may take a few hours ...\"\n",
      "[1] \"100 %\"\n",
      "[1] \"Get all the peaks ...\"\n",
      "[1] \"Get the consistent peaks ...\"\n",
      "[1] \"---------------------------------\"\n",
      "[1] \"The bam files used:\"\n",
      "[1] \"2 IP replicate(s)\"\n",
      "[1] \"2 Input replicate(s)\"\n",
      "[1] \"---------------------------------\"\n",
      "[1] \"Peak calling result: \"\n",
      "[1] \"9 peaks detected on merged data.\"\n",
      "[1] \"Please check 'peak.bed/xls' under ../exomepeak/hiv.control//WINDOW_15_STEP_15_LENGTH_25_FDR_0.025_ENRICH_0.2\"\n",
      "[1] \"8 consistent peaks detected on every replicates. (Recommended list)\"\n",
      "[1] \"Please check 'con_peak.bed/xls' under ../exomepeak/hiv.control//WINDOW_15_STEP_15_LENGTH_25_FDR_0.025_ENRICH_0.2\"\n"
     ]
    },
    {
     "name": "stderr",
     "output_type": "stream",
     "text": [
      "R[write to console]: 'select()' returned 1:many mapping between keys and columns\n",
      "\n"
     ]
    },
    {
     "name": "stdout",
     "output_type": "stream",
     "text": [
      "[1] \"Divide transcriptome into chr-gene-batch sections ...\"\n",
      "[1] \"Get Reads Count ...\"\n",
      "[1] \"This step may take a few hours ...\"\n",
      "[1] \"100 %\"\n",
      "[1] \"Get all the peaks ...\"\n",
      "[1] \"Get the consistent peaks ...\"\n",
      "[1] \"---------------------------------\"\n",
      "[1] \"The bam files used:\"\n",
      "[1] \"2 IP replicate(s)\"\n",
      "[1] \"2 Input replicate(s)\"\n",
      "[1] \"---------------------------------\"\n",
      "[1] \"Peak calling result: \"\n",
      "[1] \"9 peaks detected on merged data.\"\n",
      "[1] \"Please check 'peak.bed/xls' under ../exomepeak/hiv.control//WINDOW_15_STEP_15_LENGTH_25_FDR_0.025_ENRICH_1\"\n",
      "[1] \"8 consistent peaks detected on every replicates. (Recommended list)\"\n",
      "[1] \"Please check 'con_peak.bed/xls' under ../exomepeak/hiv.control//WINDOW_15_STEP_15_LENGTH_25_FDR_0.025_ENRICH_1\"\n"
     ]
    },
    {
     "name": "stderr",
     "output_type": "stream",
     "text": [
      "R[write to console]: 'select()' returned 1:many mapping between keys and columns\n",
      "\n"
     ]
    },
    {
     "name": "stdout",
     "output_type": "stream",
     "text": [
      "[1] \"Divide transcriptome into chr-gene-batch sections ...\"\n",
      "[1] \"Get Reads Count ...\"\n",
      "[1] \"This step may take a few hours ...\"\n",
      "[1] \"100 %\"\n",
      "[1] \"Get all the peaks ...\"\n",
      "[1] \"Get the consistent peaks ...\"\n",
      "[1] \"---------------------------------\"\n",
      "[1] \"The bam files used:\"\n",
      "[1] \"2 IP replicate(s)\"\n",
      "[1] \"2 Input replicate(s)\"\n",
      "[1] \"---------------------------------\"\n",
      "[1] \"Peak calling result: \"\n",
      "[1] \"10 peaks detected on merged data.\"\n",
      "[1] \"Please check 'peak.bed/xls' under ../exomepeak/hiv.control//WINDOW_30_STEP_5_LENGTH_15_FDR_0.01_ENRICH_0.1\"\n",
      "[1] \"10 consistent peaks detected on every replicates. (Recommended list)\"\n",
      "[1] \"Please check 'con_peak.bed/xls' under ../exomepeak/hiv.control//WINDOW_30_STEP_5_LENGTH_15_FDR_0.01_ENRICH_0.1\"\n"
     ]
    },
    {
     "name": "stderr",
     "output_type": "stream",
     "text": [
      "R[write to console]: 'select()' returned 1:many mapping between keys and columns\n",
      "\n"
     ]
    },
    {
     "name": "stdout",
     "output_type": "stream",
     "text": [
      "[1] \"Divide transcriptome into chr-gene-batch sections ...\"\n",
      "[1] \"Get Reads Count ...\"\n",
      "[1] \"This step may take a few hours ...\"\n",
      "[1] \"100 %\"\n",
      "[1] \"Get all the peaks ...\"\n",
      "[1] \"Get the consistent peaks ...\"\n",
      "[1] \"---------------------------------\"\n",
      "[1] \"The bam files used:\"\n",
      "[1] \"2 IP replicate(s)\"\n",
      "[1] \"2 Input replicate(s)\"\n",
      "[1] \"---------------------------------\"\n",
      "[1] \"Peak calling result: \"\n",
      "[1] \"10 peaks detected on merged data.\"\n",
      "[1] \"Please check 'peak.bed/xls' under ../exomepeak/hiv.control//WINDOW_30_STEP_5_LENGTH_15_FDR_0.01_ENRICH_0.2\"\n",
      "[1] \"10 consistent peaks detected on every replicates. (Recommended list)\"\n",
      "[1] \"Please check 'con_peak.bed/xls' under ../exomepeak/hiv.control//WINDOW_30_STEP_5_LENGTH_15_FDR_0.01_ENRICH_0.2\"\n"
     ]
    },
    {
     "name": "stderr",
     "output_type": "stream",
     "text": [
      "R[write to console]: 'select()' returned 1:many mapping between keys and columns\n",
      "\n"
     ]
    },
    {
     "name": "stdout",
     "output_type": "stream",
     "text": [
      "[1] \"Divide transcriptome into chr-gene-batch sections ...\"\n",
      "[1] \"Get Reads Count ...\"\n",
      "[1] \"This step may take a few hours ...\"\n",
      "[1] \"100 %\"\n",
      "[1] \"Get all the peaks ...\"\n",
      "[1] \"Get the consistent peaks ...\"\n",
      "[1] \"---------------------------------\"\n",
      "[1] \"The bam files used:\"\n",
      "[1] \"2 IP replicate(s)\"\n",
      "[1] \"2 Input replicate(s)\"\n",
      "[1] \"---------------------------------\"\n",
      "[1] \"Peak calling result: \"\n",
      "[1] \"10 peaks detected on merged data.\"\n",
      "[1] \"Please check 'peak.bed/xls' under ../exomepeak/hiv.control//WINDOW_30_STEP_5_LENGTH_15_FDR_0.01_ENRICH_1\"\n",
      "[1] \"10 consistent peaks detected on every replicates. (Recommended list)\"\n",
      "[1] \"Please check 'con_peak.bed/xls' under ../exomepeak/hiv.control//WINDOW_30_STEP_5_LENGTH_15_FDR_0.01_ENRICH_1\"\n"
     ]
    },
    {
     "name": "stderr",
     "output_type": "stream",
     "text": [
      "R[write to console]: 'select()' returned 1:many mapping between keys and columns\n",
      "\n"
     ]
    },
    {
     "name": "stdout",
     "output_type": "stream",
     "text": [
      "[1] \"Divide transcriptome into chr-gene-batch sections ...\"\n",
      "[1] \"Get Reads Count ...\"\n",
      "[1] \"This step may take a few hours ...\"\n",
      "[1] \"100 %\"\n",
      "[1] \"Get all the peaks ...\"\n",
      "[1] \"Get the consistent peaks ...\"\n",
      "[1] \"---------------------------------\"\n",
      "[1] \"The bam files used:\"\n",
      "[1] \"2 IP replicate(s)\"\n",
      "[1] \"2 Input replicate(s)\"\n",
      "[1] \"---------------------------------\"\n",
      "[1] \"Peak calling result: \"\n",
      "[1] \"10 peaks detected on merged data.\"\n",
      "[1] \"Please check 'peak.bed/xls' under ../exomepeak/hiv.control//WINDOW_30_STEP_5_LENGTH_15_FDR_0.025_ENRICH_0.1\"\n",
      "[1] \"10 consistent peaks detected on every replicates. (Recommended list)\"\n",
      "[1] \"Please check 'con_peak.bed/xls' under ../exomepeak/hiv.control//WINDOW_30_STEP_5_LENGTH_15_FDR_0.025_ENRICH_0.1\"\n"
     ]
    },
    {
     "name": "stderr",
     "output_type": "stream",
     "text": [
      "R[write to console]: 'select()' returned 1:many mapping between keys and columns\n",
      "\n"
     ]
    },
    {
     "name": "stdout",
     "output_type": "stream",
     "text": [
      "[1] \"Divide transcriptome into chr-gene-batch sections ...\"\n",
      "[1] \"Get Reads Count ...\"\n",
      "[1] \"This step may take a few hours ...\"\n",
      "[1] \"100 %\"\n",
      "[1] \"Get all the peaks ...\"\n",
      "[1] \"Get the consistent peaks ...\"\n",
      "[1] \"---------------------------------\"\n",
      "[1] \"The bam files used:\"\n",
      "[1] \"2 IP replicate(s)\"\n",
      "[1] \"2 Input replicate(s)\"\n",
      "[1] \"---------------------------------\"\n",
      "[1] \"Peak calling result: \"\n",
      "[1] \"10 peaks detected on merged data.\"\n",
      "[1] \"Please check 'peak.bed/xls' under ../exomepeak/hiv.control//WINDOW_30_STEP_5_LENGTH_15_FDR_0.025_ENRICH_0.2\"\n",
      "[1] \"10 consistent peaks detected on every replicates. (Recommended list)\"\n",
      "[1] \"Please check 'con_peak.bed/xls' under ../exomepeak/hiv.control//WINDOW_30_STEP_5_LENGTH_15_FDR_0.025_ENRICH_0.2\"\n"
     ]
    },
    {
     "name": "stderr",
     "output_type": "stream",
     "text": [
      "R[write to console]: 'select()' returned 1:many mapping between keys and columns\n",
      "\n"
     ]
    },
    {
     "name": "stdout",
     "output_type": "stream",
     "text": [
      "[1] \"Divide transcriptome into chr-gene-batch sections ...\"\n",
      "[1] \"Get Reads Count ...\"\n",
      "[1] \"This step may take a few hours ...\"\n",
      "[1] \"100 %\"\n",
      "[1] \"Get all the peaks ...\"\n",
      "[1] \"Get the consistent peaks ...\"\n",
      "[1] \"---------------------------------\"\n",
      "[1] \"The bam files used:\"\n",
      "[1] \"2 IP replicate(s)\"\n",
      "[1] \"2 Input replicate(s)\"\n",
      "[1] \"---------------------------------\"\n",
      "[1] \"Peak calling result: \"\n",
      "[1] \"10 peaks detected on merged data.\"\n",
      "[1] \"Please check 'peak.bed/xls' under ../exomepeak/hiv.control//WINDOW_30_STEP_5_LENGTH_15_FDR_0.025_ENRICH_1\"\n",
      "[1] \"10 consistent peaks detected on every replicates. (Recommended list)\"\n",
      "[1] \"Please check 'con_peak.bed/xls' under ../exomepeak/hiv.control//WINDOW_30_STEP_5_LENGTH_15_FDR_0.025_ENRICH_1\"\n"
     ]
    },
    {
     "name": "stderr",
     "output_type": "stream",
     "text": [
      "R[write to console]: 'select()' returned 1:many mapping between keys and columns\n",
      "\n"
     ]
    },
    {
     "name": "stdout",
     "output_type": "stream",
     "text": [
      "[1] \"Divide transcriptome into chr-gene-batch sections ...\"\n",
      "[1] \"Get Reads Count ...\"\n",
      "[1] \"This step may take a few hours ...\"\n",
      "[1] \"100 %\"\n",
      "[1] \"Get all the peaks ...\"\n",
      "[1] \"Get the consistent peaks ...\"\n",
      "[1] \"---------------------------------\"\n",
      "[1] \"The bam files used:\"\n",
      "[1] \"2 IP replicate(s)\"\n",
      "[1] \"2 Input replicate(s)\"\n",
      "[1] \"---------------------------------\"\n",
      "[1] \"Peak calling result: \"\n",
      "[1] \"9 peaks detected on merged data.\"\n",
      "[1] \"Please check 'peak.bed/xls' under ../exomepeak/hiv.control//WINDOW_30_STEP_5_LENGTH_20_FDR_0.01_ENRICH_0.1\"\n",
      "[1] \"7 consistent peaks detected on every replicates. (Recommended list)\"\n",
      "[1] \"Please check 'con_peak.bed/xls' under ../exomepeak/hiv.control//WINDOW_30_STEP_5_LENGTH_20_FDR_0.01_ENRICH_0.1\"\n"
     ]
    },
    {
     "name": "stderr",
     "output_type": "stream",
     "text": [
      "R[write to console]: 'select()' returned 1:many mapping between keys and columns\n",
      "\n"
     ]
    },
    {
     "name": "stdout",
     "output_type": "stream",
     "text": [
      "[1] \"Divide transcriptome into chr-gene-batch sections ...\"\n",
      "[1] \"Get Reads Count ...\"\n",
      "[1] \"This step may take a few hours ...\"\n",
      "[1] \"100 %\"\n",
      "[1] \"Get all the peaks ...\"\n",
      "[1] \"Get the consistent peaks ...\"\n",
      "[1] \"---------------------------------\"\n",
      "[1] \"The bam files used:\"\n",
      "[1] \"2 IP replicate(s)\"\n",
      "[1] \"2 Input replicate(s)\"\n",
      "[1] \"---------------------------------\"\n",
      "[1] \"Peak calling result: \"\n",
      "[1] \"9 peaks detected on merged data.\"\n",
      "[1] \"Please check 'peak.bed/xls' under ../exomepeak/hiv.control//WINDOW_30_STEP_5_LENGTH_20_FDR_0.01_ENRICH_0.2\"\n",
      "[1] \"7 consistent peaks detected on every replicates. (Recommended list)\"\n",
      "[1] \"Please check 'con_peak.bed/xls' under ../exomepeak/hiv.control//WINDOW_30_STEP_5_LENGTH_20_FDR_0.01_ENRICH_0.2\"\n"
     ]
    },
    {
     "name": "stderr",
     "output_type": "stream",
     "text": [
      "R[write to console]: 'select()' returned 1:many mapping between keys and columns\n",
      "\n"
     ]
    },
    {
     "name": "stdout",
     "output_type": "stream",
     "text": [
      "[1] \"Divide transcriptome into chr-gene-batch sections ...\"\n",
      "[1] \"Get Reads Count ...\"\n",
      "[1] \"This step may take a few hours ...\"\n",
      "[1] \"100 %\"\n",
      "[1] \"Get all the peaks ...\"\n",
      "[1] \"Get the consistent peaks ...\"\n",
      "[1] \"---------------------------------\"\n",
      "[1] \"The bam files used:\"\n",
      "[1] \"2 IP replicate(s)\"\n",
      "[1] \"2 Input replicate(s)\"\n",
      "[1] \"---------------------------------\"\n",
      "[1] \"Peak calling result: \"\n",
      "[1] \"9 peaks detected on merged data.\"\n",
      "[1] \"Please check 'peak.bed/xls' under ../exomepeak/hiv.control//WINDOW_30_STEP_5_LENGTH_20_FDR_0.01_ENRICH_1\"\n",
      "[1] \"7 consistent peaks detected on every replicates. (Recommended list)\"\n",
      "[1] \"Please check 'con_peak.bed/xls' under ../exomepeak/hiv.control//WINDOW_30_STEP_5_LENGTH_20_FDR_0.01_ENRICH_1\"\n"
     ]
    },
    {
     "name": "stderr",
     "output_type": "stream",
     "text": [
      "R[write to console]: 'select()' returned 1:many mapping between keys and columns\n",
      "\n"
     ]
    },
    {
     "name": "stdout",
     "output_type": "stream",
     "text": [
      "[1] \"Divide transcriptome into chr-gene-batch sections ...\"\n",
      "[1] \"Get Reads Count ...\"\n",
      "[1] \"This step may take a few hours ...\"\n",
      "[1] \"100 %\"\n",
      "[1] \"Get all the peaks ...\"\n",
      "[1] \"Get the consistent peaks ...\"\n",
      "[1] \"---------------------------------\"\n",
      "[1] \"The bam files used:\"\n",
      "[1] \"2 IP replicate(s)\"\n",
      "[1] \"2 Input replicate(s)\"\n",
      "[1] \"---------------------------------\"\n",
      "[1] \"Peak calling result: \"\n",
      "[1] \"9 peaks detected on merged data.\"\n",
      "[1] \"Please check 'peak.bed/xls' under ../exomepeak/hiv.control//WINDOW_30_STEP_5_LENGTH_20_FDR_0.025_ENRICH_0.1\"\n",
      "[1] \"7 consistent peaks detected on every replicates. (Recommended list)\"\n",
      "[1] \"Please check 'con_peak.bed/xls' under ../exomepeak/hiv.control//WINDOW_30_STEP_5_LENGTH_20_FDR_0.025_ENRICH_0.1\"\n"
     ]
    },
    {
     "name": "stderr",
     "output_type": "stream",
     "text": [
      "R[write to console]: 'select()' returned 1:many mapping between keys and columns\n",
      "\n"
     ]
    },
    {
     "name": "stdout",
     "output_type": "stream",
     "text": [
      "[1] \"Divide transcriptome into chr-gene-batch sections ...\"\n",
      "[1] \"Get Reads Count ...\"\n",
      "[1] \"This step may take a few hours ...\"\n",
      "[1] \"100 %\"\n",
      "[1] \"Get all the peaks ...\"\n",
      "[1] \"Get the consistent peaks ...\"\n",
      "[1] \"---------------------------------\"\n",
      "[1] \"The bam files used:\"\n",
      "[1] \"2 IP replicate(s)\"\n",
      "[1] \"2 Input replicate(s)\"\n",
      "[1] \"---------------------------------\"\n",
      "[1] \"Peak calling result: \"\n",
      "[1] \"9 peaks detected on merged data.\"\n",
      "[1] \"Please check 'peak.bed/xls' under ../exomepeak/hiv.control//WINDOW_30_STEP_5_LENGTH_20_FDR_0.025_ENRICH_0.2\"\n",
      "[1] \"7 consistent peaks detected on every replicates. (Recommended list)\"\n",
      "[1] \"Please check 'con_peak.bed/xls' under ../exomepeak/hiv.control//WINDOW_30_STEP_5_LENGTH_20_FDR_0.025_ENRICH_0.2\"\n"
     ]
    },
    {
     "name": "stderr",
     "output_type": "stream",
     "text": [
      "R[write to console]: 'select()' returned 1:many mapping between keys and columns\n",
      "\n"
     ]
    },
    {
     "name": "stdout",
     "output_type": "stream",
     "text": [
      "[1] \"Divide transcriptome into chr-gene-batch sections ...\"\n",
      "[1] \"Get Reads Count ...\"\n",
      "[1] \"This step may take a few hours ...\"\n",
      "[1] \"100 %\"\n",
      "[1] \"Get all the peaks ...\"\n",
      "[1] \"Get the consistent peaks ...\"\n",
      "[1] \"---------------------------------\"\n",
      "[1] \"The bam files used:\"\n",
      "[1] \"2 IP replicate(s)\"\n",
      "[1] \"2 Input replicate(s)\"\n",
      "[1] \"---------------------------------\"\n",
      "[1] \"Peak calling result: \"\n",
      "[1] \"9 peaks detected on merged data.\"\n",
      "[1] \"Please check 'peak.bed/xls' under ../exomepeak/hiv.control//WINDOW_30_STEP_5_LENGTH_20_FDR_0.025_ENRICH_1\"\n",
      "[1] \"7 consistent peaks detected on every replicates. (Recommended list)\"\n",
      "[1] \"Please check 'con_peak.bed/xls' under ../exomepeak/hiv.control//WINDOW_30_STEP_5_LENGTH_20_FDR_0.025_ENRICH_1\"\n"
     ]
    },
    {
     "name": "stderr",
     "output_type": "stream",
     "text": [
      "R[write to console]: 'select()' returned 1:many mapping between keys and columns\n",
      "\n"
     ]
    },
    {
     "name": "stdout",
     "output_type": "stream",
     "text": [
      "[1] \"Divide transcriptome into chr-gene-batch sections ...\"\n",
      "[1] \"Get Reads Count ...\"\n",
      "[1] \"This step may take a few hours ...\"\n",
      "[1] \"100 %\"\n",
      "[1] \"Get all the peaks ...\"\n",
      "[1] \"Get the consistent peaks ...\"\n",
      "[1] \"---------------------------------\"\n",
      "[1] \"The bam files used:\"\n",
      "[1] \"2 IP replicate(s)\"\n",
      "[1] \"2 Input replicate(s)\"\n",
      "[1] \"---------------------------------\"\n",
      "[1] \"Peak calling result: \"\n",
      "[1] \"10 peaks detected on merged data.\"\n",
      "[1] \"Please check 'peak.bed/xls' under ../exomepeak/hiv.control//WINDOW_30_STEP_5_LENGTH_25_FDR_0.01_ENRICH_0.1\"\n",
      "[1] \"8 consistent peaks detected on every replicates. (Recommended list)\"\n",
      "[1] \"Please check 'con_peak.bed/xls' under ../exomepeak/hiv.control//WINDOW_30_STEP_5_LENGTH_25_FDR_0.01_ENRICH_0.1\"\n"
     ]
    },
    {
     "name": "stderr",
     "output_type": "stream",
     "text": [
      "R[write to console]: 'select()' returned 1:many mapping between keys and columns\n",
      "\n"
     ]
    },
    {
     "name": "stdout",
     "output_type": "stream",
     "text": [
      "[1] \"Divide transcriptome into chr-gene-batch sections ...\"\n",
      "[1] \"Get Reads Count ...\"\n",
      "[1] \"This step may take a few hours ...\"\n",
      "[1] \"100 %\"\n",
      "[1] \"Get all the peaks ...\"\n",
      "[1] \"Get the consistent peaks ...\"\n",
      "[1] \"---------------------------------\"\n",
      "[1] \"The bam files used:\"\n",
      "[1] \"2 IP replicate(s)\"\n",
      "[1] \"2 Input replicate(s)\"\n",
      "[1] \"---------------------------------\"\n",
      "[1] \"Peak calling result: \"\n",
      "[1] \"10 peaks detected on merged data.\"\n",
      "[1] \"Please check 'peak.bed/xls' under ../exomepeak/hiv.control//WINDOW_30_STEP_5_LENGTH_25_FDR_0.01_ENRICH_0.2\"\n",
      "[1] \"8 consistent peaks detected on every replicates. (Recommended list)\"\n",
      "[1] \"Please check 'con_peak.bed/xls' under ../exomepeak/hiv.control//WINDOW_30_STEP_5_LENGTH_25_FDR_0.01_ENRICH_0.2\"\n"
     ]
    },
    {
     "name": "stderr",
     "output_type": "stream",
     "text": [
      "R[write to console]: 'select()' returned 1:many mapping between keys and columns\n",
      "\n"
     ]
    },
    {
     "name": "stdout",
     "output_type": "stream",
     "text": [
      "[1] \"Divide transcriptome into chr-gene-batch sections ...\"\n",
      "[1] \"Get Reads Count ...\"\n",
      "[1] \"This step may take a few hours ...\"\n",
      "[1] \"100 %\"\n",
      "[1] \"Get all the peaks ...\"\n",
      "[1] \"Get the consistent peaks ...\"\n",
      "[1] \"---------------------------------\"\n",
      "[1] \"The bam files used:\"\n",
      "[1] \"2 IP replicate(s)\"\n",
      "[1] \"2 Input replicate(s)\"\n",
      "[1] \"---------------------------------\"\n",
      "[1] \"Peak calling result: \"\n",
      "[1] \"10 peaks detected on merged data.\"\n",
      "[1] \"Please check 'peak.bed/xls' under ../exomepeak/hiv.control//WINDOW_30_STEP_5_LENGTH_25_FDR_0.01_ENRICH_1\"\n",
      "[1] \"8 consistent peaks detected on every replicates. (Recommended list)\"\n",
      "[1] \"Please check 'con_peak.bed/xls' under ../exomepeak/hiv.control//WINDOW_30_STEP_5_LENGTH_25_FDR_0.01_ENRICH_1\"\n"
     ]
    },
    {
     "name": "stderr",
     "output_type": "stream",
     "text": [
      "R[write to console]: 'select()' returned 1:many mapping between keys and columns\n",
      "\n"
     ]
    },
    {
     "name": "stdout",
     "output_type": "stream",
     "text": [
      "[1] \"Divide transcriptome into chr-gene-batch sections ...\"\n",
      "[1] \"Get Reads Count ...\"\n",
      "[1] \"This step may take a few hours ...\"\n",
      "[1] \"100 %\"\n",
      "[1] \"Get all the peaks ...\"\n",
      "[1] \"Get the consistent peaks ...\"\n",
      "[1] \"---------------------------------\"\n",
      "[1] \"The bam files used:\"\n",
      "[1] \"2 IP replicate(s)\"\n",
      "[1] \"2 Input replicate(s)\"\n",
      "[1] \"---------------------------------\"\n",
      "[1] \"Peak calling result: \"\n",
      "[1] \"10 peaks detected on merged data.\"\n",
      "[1] \"Please check 'peak.bed/xls' under ../exomepeak/hiv.control//WINDOW_30_STEP_5_LENGTH_25_FDR_0.025_ENRICH_0.1\"\n",
      "[1] \"8 consistent peaks detected on every replicates. (Recommended list)\"\n",
      "[1] \"Please check 'con_peak.bed/xls' under ../exomepeak/hiv.control//WINDOW_30_STEP_5_LENGTH_25_FDR_0.025_ENRICH_0.1\"\n"
     ]
    },
    {
     "name": "stderr",
     "output_type": "stream",
     "text": [
      "R[write to console]: 'select()' returned 1:many mapping between keys and columns\n",
      "\n"
     ]
    },
    {
     "name": "stdout",
     "output_type": "stream",
     "text": [
      "[1] \"Divide transcriptome into chr-gene-batch sections ...\"\n",
      "[1] \"Get Reads Count ...\"\n",
      "[1] \"This step may take a few hours ...\"\n",
      "[1] \"100 %\"\n",
      "[1] \"Get all the peaks ...\"\n",
      "[1] \"Get the consistent peaks ...\"\n",
      "[1] \"---------------------------------\"\n",
      "[1] \"The bam files used:\"\n",
      "[1] \"2 IP replicate(s)\"\n",
      "[1] \"2 Input replicate(s)\"\n",
      "[1] \"---------------------------------\"\n",
      "[1] \"Peak calling result: \"\n",
      "[1] \"10 peaks detected on merged data.\"\n",
      "[1] \"Please check 'peak.bed/xls' under ../exomepeak/hiv.control//WINDOW_30_STEP_5_LENGTH_25_FDR_0.025_ENRICH_0.2\"\n",
      "[1] \"8 consistent peaks detected on every replicates. (Recommended list)\"\n",
      "[1] \"Please check 'con_peak.bed/xls' under ../exomepeak/hiv.control//WINDOW_30_STEP_5_LENGTH_25_FDR_0.025_ENRICH_0.2\"\n"
     ]
    },
    {
     "name": "stderr",
     "output_type": "stream",
     "text": [
      "R[write to console]: 'select()' returned 1:many mapping between keys and columns\n",
      "\n"
     ]
    },
    {
     "name": "stdout",
     "output_type": "stream",
     "text": [
      "[1] \"Divide transcriptome into chr-gene-batch sections ...\"\n",
      "[1] \"Get Reads Count ...\"\n",
      "[1] \"This step may take a few hours ...\"\n",
      "[1] \"100 %\"\n",
      "[1] \"Get all the peaks ...\"\n",
      "[1] \"Get the consistent peaks ...\"\n",
      "[1] \"---------------------------------\"\n",
      "[1] \"The bam files used:\"\n",
      "[1] \"2 IP replicate(s)\"\n",
      "[1] \"2 Input replicate(s)\"\n",
      "[1] \"---------------------------------\"\n",
      "[1] \"Peak calling result: \"\n",
      "[1] \"10 peaks detected on merged data.\"\n",
      "[1] \"Please check 'peak.bed/xls' under ../exomepeak/hiv.control//WINDOW_30_STEP_5_LENGTH_25_FDR_0.025_ENRICH_1\"\n",
      "[1] \"8 consistent peaks detected on every replicates. (Recommended list)\"\n",
      "[1] \"Please check 'con_peak.bed/xls' under ../exomepeak/hiv.control//WINDOW_30_STEP_5_LENGTH_25_FDR_0.025_ENRICH_1\"\n"
     ]
    },
    {
     "name": "stderr",
     "output_type": "stream",
     "text": [
      "R[write to console]: 'select()' returned 1:many mapping between keys and columns\n",
      "\n"
     ]
    },
    {
     "name": "stdout",
     "output_type": "stream",
     "text": [
      "[1] \"Divide transcriptome into chr-gene-batch sections ...\"\n",
      "[1] \"Get Reads Count ...\"\n",
      "[1] \"This step may take a few hours ...\"\n",
      "[1] \"100 %\"\n",
      "[1] \"Get all the peaks ...\"\n",
      "[1] \"Get the consistent peaks ...\"\n",
      "[1] \"---------------------------------\"\n",
      "[1] \"The bam files used:\"\n",
      "[1] \"2 IP replicate(s)\"\n",
      "[1] \"2 Input replicate(s)\"\n",
      "[1] \"---------------------------------\"\n",
      "[1] \"Peak calling result: \"\n",
      "[1] \"9 peaks detected on merged data.\"\n",
      "[1] \"Please check 'peak.bed/xls' under ../exomepeak/hiv.control//WINDOW_30_STEP_10_LENGTH_15_FDR_0.01_ENRICH_0.1\"\n",
      "[1] \"7 consistent peaks detected on every replicates. (Recommended list)\"\n",
      "[1] \"Please check 'con_peak.bed/xls' under ../exomepeak/hiv.control//WINDOW_30_STEP_10_LENGTH_15_FDR_0.01_ENRICH_0.1\"\n"
     ]
    },
    {
     "name": "stderr",
     "output_type": "stream",
     "text": [
      "R[write to console]: 'select()' returned 1:many mapping between keys and columns\n",
      "\n"
     ]
    },
    {
     "name": "stdout",
     "output_type": "stream",
     "text": [
      "[1] \"Divide transcriptome into chr-gene-batch sections ...\"\n",
      "[1] \"Get Reads Count ...\"\n",
      "[1] \"This step may take a few hours ...\"\n",
      "[1] \"100 %\"\n",
      "[1] \"Get all the peaks ...\"\n",
      "[1] \"Get the consistent peaks ...\"\n",
      "[1] \"---------------------------------\"\n",
      "[1] \"The bam files used:\"\n",
      "[1] \"2 IP replicate(s)\"\n",
      "[1] \"2 Input replicate(s)\"\n",
      "[1] \"---------------------------------\"\n",
      "[1] \"Peak calling result: \"\n",
      "[1] \"9 peaks detected on merged data.\"\n",
      "[1] \"Please check 'peak.bed/xls' under ../exomepeak/hiv.control//WINDOW_30_STEP_10_LENGTH_15_FDR_0.01_ENRICH_0.2\"\n",
      "[1] \"7 consistent peaks detected on every replicates. (Recommended list)\"\n",
      "[1] \"Please check 'con_peak.bed/xls' under ../exomepeak/hiv.control//WINDOW_30_STEP_10_LENGTH_15_FDR_0.01_ENRICH_0.2\"\n"
     ]
    },
    {
     "name": "stderr",
     "output_type": "stream",
     "text": [
      "R[write to console]: 'select()' returned 1:many mapping between keys and columns\n",
      "\n"
     ]
    },
    {
     "name": "stdout",
     "output_type": "stream",
     "text": [
      "[1] \"Divide transcriptome into chr-gene-batch sections ...\"\n",
      "[1] \"Get Reads Count ...\"\n",
      "[1] \"This step may take a few hours ...\"\n",
      "[1] \"100 %\"\n",
      "[1] \"Get all the peaks ...\"\n",
      "[1] \"Get the consistent peaks ...\"\n",
      "[1] \"---------------------------------\"\n",
      "[1] \"The bam files used:\"\n",
      "[1] \"2 IP replicate(s)\"\n",
      "[1] \"2 Input replicate(s)\"\n",
      "[1] \"---------------------------------\"\n",
      "[1] \"Peak calling result: \"\n",
      "[1] \"9 peaks detected on merged data.\"\n",
      "[1] \"Please check 'peak.bed/xls' under ../exomepeak/hiv.control//WINDOW_30_STEP_10_LENGTH_15_FDR_0.01_ENRICH_1\"\n",
      "[1] \"7 consistent peaks detected on every replicates. (Recommended list)\"\n",
      "[1] \"Please check 'con_peak.bed/xls' under ../exomepeak/hiv.control//WINDOW_30_STEP_10_LENGTH_15_FDR_0.01_ENRICH_1\"\n"
     ]
    },
    {
     "name": "stderr",
     "output_type": "stream",
     "text": [
      "R[write to console]: 'select()' returned 1:many mapping between keys and columns\n",
      "\n"
     ]
    },
    {
     "name": "stdout",
     "output_type": "stream",
     "text": [
      "[1] \"Divide transcriptome into chr-gene-batch sections ...\"\n",
      "[1] \"Get Reads Count ...\"\n",
      "[1] \"This step may take a few hours ...\"\n",
      "[1] \"100 %\"\n",
      "[1] \"Get all the peaks ...\"\n",
      "[1] \"Get the consistent peaks ...\"\n",
      "[1] \"---------------------------------\"\n",
      "[1] \"The bam files used:\"\n",
      "[1] \"2 IP replicate(s)\"\n",
      "[1] \"2 Input replicate(s)\"\n",
      "[1] \"---------------------------------\"\n",
      "[1] \"Peak calling result: \"\n",
      "[1] \"9 peaks detected on merged data.\"\n",
      "[1] \"Please check 'peak.bed/xls' under ../exomepeak/hiv.control//WINDOW_30_STEP_10_LENGTH_15_FDR_0.025_ENRICH_0.1\"\n",
      "[1] \"7 consistent peaks detected on every replicates. (Recommended list)\"\n",
      "[1] \"Please check 'con_peak.bed/xls' under ../exomepeak/hiv.control//WINDOW_30_STEP_10_LENGTH_15_FDR_0.025_ENRICH_0.1\"\n"
     ]
    },
    {
     "name": "stderr",
     "output_type": "stream",
     "text": [
      "R[write to console]: 'select()' returned 1:many mapping between keys and columns\n",
      "\n"
     ]
    },
    {
     "name": "stdout",
     "output_type": "stream",
     "text": [
      "[1] \"Divide transcriptome into chr-gene-batch sections ...\"\n",
      "[1] \"Get Reads Count ...\"\n",
      "[1] \"This step may take a few hours ...\"\n",
      "[1] \"100 %\"\n",
      "[1] \"Get all the peaks ...\"\n",
      "[1] \"Get the consistent peaks ...\"\n",
      "[1] \"---------------------------------\"\n",
      "[1] \"The bam files used:\"\n",
      "[1] \"2 IP replicate(s)\"\n",
      "[1] \"2 Input replicate(s)\"\n",
      "[1] \"---------------------------------\"\n",
      "[1] \"Peak calling result: \"\n",
      "[1] \"9 peaks detected on merged data.\"\n",
      "[1] \"Please check 'peak.bed/xls' under ../exomepeak/hiv.control//WINDOW_30_STEP_10_LENGTH_15_FDR_0.025_ENRICH_0.2\"\n",
      "[1] \"7 consistent peaks detected on every replicates. (Recommended list)\"\n",
      "[1] \"Please check 'con_peak.bed/xls' under ../exomepeak/hiv.control//WINDOW_30_STEP_10_LENGTH_15_FDR_0.025_ENRICH_0.2\"\n"
     ]
    },
    {
     "name": "stderr",
     "output_type": "stream",
     "text": [
      "R[write to console]: 'select()' returned 1:many mapping between keys and columns\n",
      "\n"
     ]
    },
    {
     "name": "stdout",
     "output_type": "stream",
     "text": [
      "[1] \"Divide transcriptome into chr-gene-batch sections ...\"\n",
      "[1] \"Get Reads Count ...\"\n",
      "[1] \"This step may take a few hours ...\"\n",
      "[1] \"100 %\"\n",
      "[1] \"Get all the peaks ...\"\n",
      "[1] \"Get the consistent peaks ...\"\n",
      "[1] \"---------------------------------\"\n",
      "[1] \"The bam files used:\"\n",
      "[1] \"2 IP replicate(s)\"\n",
      "[1] \"2 Input replicate(s)\"\n",
      "[1] \"---------------------------------\"\n",
      "[1] \"Peak calling result: \"\n",
      "[1] \"9 peaks detected on merged data.\"\n",
      "[1] \"Please check 'peak.bed/xls' under ../exomepeak/hiv.control//WINDOW_30_STEP_10_LENGTH_15_FDR_0.025_ENRICH_1\"\n",
      "[1] \"7 consistent peaks detected on every replicates. (Recommended list)\"\n",
      "[1] \"Please check 'con_peak.bed/xls' under ../exomepeak/hiv.control//WINDOW_30_STEP_10_LENGTH_15_FDR_0.025_ENRICH_1\"\n"
     ]
    },
    {
     "name": "stderr",
     "output_type": "stream",
     "text": [
      "R[write to console]: 'select()' returned 1:many mapping between keys and columns\n",
      "\n"
     ]
    },
    {
     "name": "stdout",
     "output_type": "stream",
     "text": [
      "[1] \"Divide transcriptome into chr-gene-batch sections ...\"\n",
      "[1] \"Get Reads Count ...\"\n",
      "[1] \"This step may take a few hours ...\"\n",
      "[1] \"100 %\"\n",
      "[1] \"Get all the peaks ...\"\n",
      "[1] \"Get the consistent peaks ...\"\n",
      "[1] \"---------------------------------\"\n",
      "[1] \"The bam files used:\"\n",
      "[1] \"2 IP replicate(s)\"\n",
      "[1] \"2 Input replicate(s)\"\n",
      "[1] \"---------------------------------\"\n",
      "[1] \"Peak calling result: \"\n",
      "[1] \"9 peaks detected on merged data.\"\n",
      "[1] \"Please check 'peak.bed/xls' under ../exomepeak/hiv.control//WINDOW_30_STEP_10_LENGTH_20_FDR_0.01_ENRICH_0.1\"\n",
      "[1] \"7 consistent peaks detected on every replicates. (Recommended list)\"\n",
      "[1] \"Please check 'con_peak.bed/xls' under ../exomepeak/hiv.control//WINDOW_30_STEP_10_LENGTH_20_FDR_0.01_ENRICH_0.1\"\n"
     ]
    },
    {
     "name": "stderr",
     "output_type": "stream",
     "text": [
      "R[write to console]: 'select()' returned 1:many mapping between keys and columns\n",
      "\n"
     ]
    },
    {
     "name": "stdout",
     "output_type": "stream",
     "text": [
      "[1] \"Divide transcriptome into chr-gene-batch sections ...\"\n",
      "[1] \"Get Reads Count ...\"\n",
      "[1] \"This step may take a few hours ...\"\n",
      "[1] \"100 %\"\n",
      "[1] \"Get all the peaks ...\"\n",
      "[1] \"Get the consistent peaks ...\"\n",
      "[1] \"---------------------------------\"\n",
      "[1] \"The bam files used:\"\n",
      "[1] \"2 IP replicate(s)\"\n",
      "[1] \"2 Input replicate(s)\"\n",
      "[1] \"---------------------------------\"\n",
      "[1] \"Peak calling result: \"\n",
      "[1] \"9 peaks detected on merged data.\"\n",
      "[1] \"Please check 'peak.bed/xls' under ../exomepeak/hiv.control//WINDOW_30_STEP_10_LENGTH_20_FDR_0.01_ENRICH_0.2\"\n",
      "[1] \"7 consistent peaks detected on every replicates. (Recommended list)\"\n",
      "[1] \"Please check 'con_peak.bed/xls' under ../exomepeak/hiv.control//WINDOW_30_STEP_10_LENGTH_20_FDR_0.01_ENRICH_0.2\"\n"
     ]
    },
    {
     "name": "stderr",
     "output_type": "stream",
     "text": [
      "R[write to console]: 'select()' returned 1:many mapping between keys and columns\n",
      "\n"
     ]
    },
    {
     "name": "stdout",
     "output_type": "stream",
     "text": [
      "[1] \"Divide transcriptome into chr-gene-batch sections ...\"\n",
      "[1] \"Get Reads Count ...\"\n",
      "[1] \"This step may take a few hours ...\"\n",
      "[1] \"100 %\"\n",
      "[1] \"Get all the peaks ...\"\n",
      "[1] \"Get the consistent peaks ...\"\n",
      "[1] \"---------------------------------\"\n",
      "[1] \"The bam files used:\"\n",
      "[1] \"2 IP replicate(s)\"\n",
      "[1] \"2 Input replicate(s)\"\n",
      "[1] \"---------------------------------\"\n",
      "[1] \"Peak calling result: \"\n",
      "[1] \"9 peaks detected on merged data.\"\n",
      "[1] \"Please check 'peak.bed/xls' under ../exomepeak/hiv.control//WINDOW_30_STEP_10_LENGTH_20_FDR_0.01_ENRICH_1\"\n",
      "[1] \"7 consistent peaks detected on every replicates. (Recommended list)\"\n",
      "[1] \"Please check 'con_peak.bed/xls' under ../exomepeak/hiv.control//WINDOW_30_STEP_10_LENGTH_20_FDR_0.01_ENRICH_1\"\n"
     ]
    },
    {
     "name": "stderr",
     "output_type": "stream",
     "text": [
      "R[write to console]: 'select()' returned 1:many mapping between keys and columns\n",
      "\n"
     ]
    },
    {
     "name": "stdout",
     "output_type": "stream",
     "text": [
      "[1] \"Divide transcriptome into chr-gene-batch sections ...\"\n",
      "[1] \"Get Reads Count ...\"\n",
      "[1] \"This step may take a few hours ...\"\n",
      "[1] \"100 %\"\n",
      "[1] \"Get all the peaks ...\"\n",
      "[1] \"Get the consistent peaks ...\"\n",
      "[1] \"---------------------------------\"\n",
      "[1] \"The bam files used:\"\n",
      "[1] \"2 IP replicate(s)\"\n",
      "[1] \"2 Input replicate(s)\"\n",
      "[1] \"---------------------------------\"\n",
      "[1] \"Peak calling result: \"\n",
      "[1] \"9 peaks detected on merged data.\"\n",
      "[1] \"Please check 'peak.bed/xls' under ../exomepeak/hiv.control//WINDOW_30_STEP_10_LENGTH_20_FDR_0.025_ENRICH_0.1\"\n",
      "[1] \"7 consistent peaks detected on every replicates. (Recommended list)\"\n",
      "[1] \"Please check 'con_peak.bed/xls' under ../exomepeak/hiv.control//WINDOW_30_STEP_10_LENGTH_20_FDR_0.025_ENRICH_0.1\"\n"
     ]
    },
    {
     "name": "stderr",
     "output_type": "stream",
     "text": [
      "R[write to console]: 'select()' returned 1:many mapping between keys and columns\n",
      "\n"
     ]
    },
    {
     "name": "stdout",
     "output_type": "stream",
     "text": [
      "[1] \"Divide transcriptome into chr-gene-batch sections ...\"\n",
      "[1] \"Get Reads Count ...\"\n",
      "[1] \"This step may take a few hours ...\"\n",
      "[1] \"100 %\"\n",
      "[1] \"Get all the peaks ...\"\n",
      "[1] \"Get the consistent peaks ...\"\n",
      "[1] \"---------------------------------\"\n",
      "[1] \"The bam files used:\"\n",
      "[1] \"2 IP replicate(s)\"\n",
      "[1] \"2 Input replicate(s)\"\n",
      "[1] \"---------------------------------\"\n",
      "[1] \"Peak calling result: \"\n",
      "[1] \"9 peaks detected on merged data.\"\n",
      "[1] \"Please check 'peak.bed/xls' under ../exomepeak/hiv.control//WINDOW_30_STEP_10_LENGTH_20_FDR_0.025_ENRICH_0.2\"\n",
      "[1] \"7 consistent peaks detected on every replicates. (Recommended list)\"\n",
      "[1] \"Please check 'con_peak.bed/xls' under ../exomepeak/hiv.control//WINDOW_30_STEP_10_LENGTH_20_FDR_0.025_ENRICH_0.2\"\n"
     ]
    },
    {
     "name": "stderr",
     "output_type": "stream",
     "text": [
      "R[write to console]: 'select()' returned 1:many mapping between keys and columns\n",
      "\n"
     ]
    },
    {
     "name": "stdout",
     "output_type": "stream",
     "text": [
      "[1] \"Divide transcriptome into chr-gene-batch sections ...\"\n",
      "[1] \"Get Reads Count ...\"\n",
      "[1] \"This step may take a few hours ...\"\n",
      "[1] \"100 %\"\n",
      "[1] \"Get all the peaks ...\"\n",
      "[1] \"Get the consistent peaks ...\"\n",
      "[1] \"---------------------------------\"\n",
      "[1] \"The bam files used:\"\n",
      "[1] \"2 IP replicate(s)\"\n",
      "[1] \"2 Input replicate(s)\"\n",
      "[1] \"---------------------------------\"\n",
      "[1] \"Peak calling result: \"\n",
      "[1] \"9 peaks detected on merged data.\"\n",
      "[1] \"Please check 'peak.bed/xls' under ../exomepeak/hiv.control//WINDOW_30_STEP_10_LENGTH_20_FDR_0.025_ENRICH_1\"\n",
      "[1] \"7 consistent peaks detected on every replicates. (Recommended list)\"\n",
      "[1] \"Please check 'con_peak.bed/xls' under ../exomepeak/hiv.control//WINDOW_30_STEP_10_LENGTH_20_FDR_0.025_ENRICH_1\"\n"
     ]
    },
    {
     "name": "stderr",
     "output_type": "stream",
     "text": [
      "R[write to console]: 'select()' returned 1:many mapping between keys and columns\n",
      "\n"
     ]
    },
    {
     "name": "stdout",
     "output_type": "stream",
     "text": [
      "[1] \"Divide transcriptome into chr-gene-batch sections ...\"\n",
      "[1] \"Get Reads Count ...\"\n",
      "[1] \"This step may take a few hours ...\"\n",
      "[1] \"100 %\"\n",
      "[1] \"Get all the peaks ...\"\n",
      "[1] \"Get the consistent peaks ...\"\n",
      "[1] \"---------------------------------\"\n",
      "[1] \"The bam files used:\"\n",
      "[1] \"2 IP replicate(s)\"\n",
      "[1] \"2 Input replicate(s)\"\n",
      "[1] \"---------------------------------\"\n",
      "[1] \"Peak calling result: \"\n",
      "[1] \"9 peaks detected on merged data.\"\n",
      "[1] \"Please check 'peak.bed/xls' under ../exomepeak/hiv.control//WINDOW_30_STEP_10_LENGTH_25_FDR_0.01_ENRICH_0.1\"\n",
      "[1] \"7 consistent peaks detected on every replicates. (Recommended list)\"\n",
      "[1] \"Please check 'con_peak.bed/xls' under ../exomepeak/hiv.control//WINDOW_30_STEP_10_LENGTH_25_FDR_0.01_ENRICH_0.1\"\n"
     ]
    },
    {
     "name": "stderr",
     "output_type": "stream",
     "text": [
      "R[write to console]: 'select()' returned 1:many mapping between keys and columns\n",
      "\n"
     ]
    },
    {
     "name": "stdout",
     "output_type": "stream",
     "text": [
      "[1] \"Divide transcriptome into chr-gene-batch sections ...\"\n",
      "[1] \"Get Reads Count ...\"\n",
      "[1] \"This step may take a few hours ...\"\n",
      "[1] \"100 %\"\n",
      "[1] \"Get all the peaks ...\"\n",
      "[1] \"Get the consistent peaks ...\"\n",
      "[1] \"---------------------------------\"\n",
      "[1] \"The bam files used:\"\n",
      "[1] \"2 IP replicate(s)\"\n",
      "[1] \"2 Input replicate(s)\"\n",
      "[1] \"---------------------------------\"\n",
      "[1] \"Peak calling result: \"\n",
      "[1] \"9 peaks detected on merged data.\"\n",
      "[1] \"Please check 'peak.bed/xls' under ../exomepeak/hiv.control//WINDOW_30_STEP_10_LENGTH_25_FDR_0.01_ENRICH_0.2\"\n",
      "[1] \"7 consistent peaks detected on every replicates. (Recommended list)\"\n",
      "[1] \"Please check 'con_peak.bed/xls' under ../exomepeak/hiv.control//WINDOW_30_STEP_10_LENGTH_25_FDR_0.01_ENRICH_0.2\"\n"
     ]
    },
    {
     "name": "stderr",
     "output_type": "stream",
     "text": [
      "R[write to console]: 'select()' returned 1:many mapping between keys and columns\n",
      "\n"
     ]
    },
    {
     "name": "stdout",
     "output_type": "stream",
     "text": [
      "[1] \"Divide transcriptome into chr-gene-batch sections ...\"\n",
      "[1] \"Get Reads Count ...\"\n",
      "[1] \"This step may take a few hours ...\"\n",
      "[1] \"100 %\"\n",
      "[1] \"Get all the peaks ...\"\n",
      "[1] \"Get the consistent peaks ...\"\n",
      "[1] \"---------------------------------\"\n",
      "[1] \"The bam files used:\"\n",
      "[1] \"2 IP replicate(s)\"\n",
      "[1] \"2 Input replicate(s)\"\n",
      "[1] \"---------------------------------\"\n",
      "[1] \"Peak calling result: \"\n",
      "[1] \"9 peaks detected on merged data.\"\n",
      "[1] \"Please check 'peak.bed/xls' under ../exomepeak/hiv.control//WINDOW_30_STEP_10_LENGTH_25_FDR_0.01_ENRICH_1\"\n",
      "[1] \"7 consistent peaks detected on every replicates. (Recommended list)\"\n",
      "[1] \"Please check 'con_peak.bed/xls' under ../exomepeak/hiv.control//WINDOW_30_STEP_10_LENGTH_25_FDR_0.01_ENRICH_1\"\n"
     ]
    },
    {
     "name": "stderr",
     "output_type": "stream",
     "text": [
      "R[write to console]: 'select()' returned 1:many mapping between keys and columns\n",
      "\n"
     ]
    },
    {
     "name": "stdout",
     "output_type": "stream",
     "text": [
      "[1] \"Divide transcriptome into chr-gene-batch sections ...\"\n",
      "[1] \"Get Reads Count ...\"\n",
      "[1] \"This step may take a few hours ...\"\n",
      "[1] \"100 %\"\n",
      "[1] \"Get all the peaks ...\"\n",
      "[1] \"Get the consistent peaks ...\"\n",
      "[1] \"---------------------------------\"\n",
      "[1] \"The bam files used:\"\n",
      "[1] \"2 IP replicate(s)\"\n",
      "[1] \"2 Input replicate(s)\"\n",
      "[1] \"---------------------------------\"\n",
      "[1] \"Peak calling result: \"\n",
      "[1] \"9 peaks detected on merged data.\"\n",
      "[1] \"Please check 'peak.bed/xls' under ../exomepeak/hiv.control//WINDOW_30_STEP_10_LENGTH_25_FDR_0.025_ENRICH_0.1\"\n",
      "[1] \"7 consistent peaks detected on every replicates. (Recommended list)\"\n",
      "[1] \"Please check 'con_peak.bed/xls' under ../exomepeak/hiv.control//WINDOW_30_STEP_10_LENGTH_25_FDR_0.025_ENRICH_0.1\"\n"
     ]
    },
    {
     "name": "stderr",
     "output_type": "stream",
     "text": [
      "R[write to console]: 'select()' returned 1:many mapping between keys and columns\n",
      "\n"
     ]
    },
    {
     "name": "stdout",
     "output_type": "stream",
     "text": [
      "[1] \"Divide transcriptome into chr-gene-batch sections ...\"\n",
      "[1] \"Get Reads Count ...\"\n",
      "[1] \"This step may take a few hours ...\"\n",
      "[1] \"100 %\"\n",
      "[1] \"Get all the peaks ...\"\n",
      "[1] \"Get the consistent peaks ...\"\n",
      "[1] \"---------------------------------\"\n",
      "[1] \"The bam files used:\"\n",
      "[1] \"2 IP replicate(s)\"\n",
      "[1] \"2 Input replicate(s)\"\n",
      "[1] \"---------------------------------\"\n",
      "[1] \"Peak calling result: \"\n",
      "[1] \"9 peaks detected on merged data.\"\n",
      "[1] \"Please check 'peak.bed/xls' under ../exomepeak/hiv.control//WINDOW_30_STEP_10_LENGTH_25_FDR_0.025_ENRICH_0.2\"\n",
      "[1] \"7 consistent peaks detected on every replicates. (Recommended list)\"\n",
      "[1] \"Please check 'con_peak.bed/xls' under ../exomepeak/hiv.control//WINDOW_30_STEP_10_LENGTH_25_FDR_0.025_ENRICH_0.2\"\n"
     ]
    },
    {
     "name": "stderr",
     "output_type": "stream",
     "text": [
      "R[write to console]: 'select()' returned 1:many mapping between keys and columns\n",
      "\n"
     ]
    },
    {
     "name": "stdout",
     "output_type": "stream",
     "text": [
      "[1] \"Divide transcriptome into chr-gene-batch sections ...\"\n",
      "[1] \"Get Reads Count ...\"\n",
      "[1] \"This step may take a few hours ...\"\n",
      "[1] \"100 %\"\n",
      "[1] \"Get all the peaks ...\"\n",
      "[1] \"Get the consistent peaks ...\"\n",
      "[1] \"---------------------------------\"\n",
      "[1] \"The bam files used:\"\n",
      "[1] \"2 IP replicate(s)\"\n",
      "[1] \"2 Input replicate(s)\"\n",
      "[1] \"---------------------------------\"\n",
      "[1] \"Peak calling result: \"\n",
      "[1] \"9 peaks detected on merged data.\"\n",
      "[1] \"Please check 'peak.bed/xls' under ../exomepeak/hiv.control//WINDOW_30_STEP_10_LENGTH_25_FDR_0.025_ENRICH_1\"\n",
      "[1] \"7 consistent peaks detected on every replicates. (Recommended list)\"\n",
      "[1] \"Please check 'con_peak.bed/xls' under ../exomepeak/hiv.control//WINDOW_30_STEP_10_LENGTH_25_FDR_0.025_ENRICH_1\"\n"
     ]
    },
    {
     "name": "stderr",
     "output_type": "stream",
     "text": [
      "R[write to console]: 'select()' returned 1:many mapping between keys and columns\n",
      "\n"
     ]
    },
    {
     "name": "stdout",
     "output_type": "stream",
     "text": [
      "[1] \"Divide transcriptome into chr-gene-batch sections ...\"\n",
      "[1] \"Get Reads Count ...\"\n",
      "[1] \"This step may take a few hours ...\"\n",
      "[1] \"100 %\"\n",
      "[1] \"Get all the peaks ...\"\n",
      "[1] \"Get the consistent peaks ...\"\n",
      "[1] \"---------------------------------\"\n",
      "[1] \"The bam files used:\"\n",
      "[1] \"2 IP replicate(s)\"\n",
      "[1] \"2 Input replicate(s)\"\n",
      "[1] \"---------------------------------\"\n",
      "[1] \"Peak calling result: \"\n",
      "[1] \"8 peaks detected on merged data.\"\n",
      "[1] \"Please check 'peak.bed/xls' under ../exomepeak/hiv.control//WINDOW_30_STEP_15_LENGTH_15_FDR_0.01_ENRICH_0.1\"\n",
      "[1] \"7 consistent peaks detected on every replicates. (Recommended list)\"\n",
      "[1] \"Please check 'con_peak.bed/xls' under ../exomepeak/hiv.control//WINDOW_30_STEP_15_LENGTH_15_FDR_0.01_ENRICH_0.1\"\n"
     ]
    },
    {
     "name": "stderr",
     "output_type": "stream",
     "text": [
      "R[write to console]: 'select()' returned 1:many mapping between keys and columns\n",
      "\n"
     ]
    },
    {
     "name": "stdout",
     "output_type": "stream",
     "text": [
      "[1] \"Divide transcriptome into chr-gene-batch sections ...\"\n",
      "[1] \"Get Reads Count ...\"\n",
      "[1] \"This step may take a few hours ...\"\n",
      "[1] \"100 %\"\n",
      "[1] \"Get all the peaks ...\"\n",
      "[1] \"Get the consistent peaks ...\"\n",
      "[1] \"---------------------------------\"\n",
      "[1] \"The bam files used:\"\n",
      "[1] \"2 IP replicate(s)\"\n",
      "[1] \"2 Input replicate(s)\"\n",
      "[1] \"---------------------------------\"\n",
      "[1] \"Peak calling result: \"\n",
      "[1] \"8 peaks detected on merged data.\"\n",
      "[1] \"Please check 'peak.bed/xls' under ../exomepeak/hiv.control//WINDOW_30_STEP_15_LENGTH_15_FDR_0.01_ENRICH_0.2\"\n",
      "[1] \"7 consistent peaks detected on every replicates. (Recommended list)\"\n",
      "[1] \"Please check 'con_peak.bed/xls' under ../exomepeak/hiv.control//WINDOW_30_STEP_15_LENGTH_15_FDR_0.01_ENRICH_0.2\"\n"
     ]
    },
    {
     "name": "stderr",
     "output_type": "stream",
     "text": [
      "R[write to console]: 'select()' returned 1:many mapping between keys and columns\n",
      "\n"
     ]
    },
    {
     "name": "stdout",
     "output_type": "stream",
     "text": [
      "[1] \"Divide transcriptome into chr-gene-batch sections ...\"\n",
      "[1] \"Get Reads Count ...\"\n",
      "[1] \"This step may take a few hours ...\"\n",
      "[1] \"100 %\"\n",
      "[1] \"Get all the peaks ...\"\n",
      "[1] \"Get the consistent peaks ...\"\n",
      "[1] \"---------------------------------\"\n",
      "[1] \"The bam files used:\"\n",
      "[1] \"2 IP replicate(s)\"\n",
      "[1] \"2 Input replicate(s)\"\n",
      "[1] \"---------------------------------\"\n",
      "[1] \"Peak calling result: \"\n",
      "[1] \"8 peaks detected on merged data.\"\n",
      "[1] \"Please check 'peak.bed/xls' under ../exomepeak/hiv.control//WINDOW_30_STEP_15_LENGTH_15_FDR_0.01_ENRICH_1\"\n",
      "[1] \"7 consistent peaks detected on every replicates. (Recommended list)\"\n",
      "[1] \"Please check 'con_peak.bed/xls' under ../exomepeak/hiv.control//WINDOW_30_STEP_15_LENGTH_15_FDR_0.01_ENRICH_1\"\n"
     ]
    },
    {
     "name": "stderr",
     "output_type": "stream",
     "text": [
      "R[write to console]: 'select()' returned 1:many mapping between keys and columns\n",
      "\n"
     ]
    },
    {
     "name": "stdout",
     "output_type": "stream",
     "text": [
      "[1] \"Divide transcriptome into chr-gene-batch sections ...\"\n",
      "[1] \"Get Reads Count ...\"\n",
      "[1] \"This step may take a few hours ...\"\n",
      "[1] \"100 %\"\n",
      "[1] \"Get all the peaks ...\"\n",
      "[1] \"Get the consistent peaks ...\"\n",
      "[1] \"---------------------------------\"\n",
      "[1] \"The bam files used:\"\n",
      "[1] \"2 IP replicate(s)\"\n",
      "[1] \"2 Input replicate(s)\"\n",
      "[1] \"---------------------------------\"\n",
      "[1] \"Peak calling result: \"\n",
      "[1] \"8 peaks detected on merged data.\"\n",
      "[1] \"Please check 'peak.bed/xls' under ../exomepeak/hiv.control//WINDOW_30_STEP_15_LENGTH_15_FDR_0.025_ENRICH_0.1\"\n",
      "[1] \"7 consistent peaks detected on every replicates. (Recommended list)\"\n",
      "[1] \"Please check 'con_peak.bed/xls' under ../exomepeak/hiv.control//WINDOW_30_STEP_15_LENGTH_15_FDR_0.025_ENRICH_0.1\"\n"
     ]
    },
    {
     "name": "stderr",
     "output_type": "stream",
     "text": [
      "R[write to console]: 'select()' returned 1:many mapping between keys and columns\n",
      "\n"
     ]
    },
    {
     "name": "stdout",
     "output_type": "stream",
     "text": [
      "[1] \"Divide transcriptome into chr-gene-batch sections ...\"\n",
      "[1] \"Get Reads Count ...\"\n",
      "[1] \"This step may take a few hours ...\"\n",
      "[1] \"100 %\"\n",
      "[1] \"Get all the peaks ...\"\n",
      "[1] \"Get the consistent peaks ...\"\n",
      "[1] \"---------------------------------\"\n",
      "[1] \"The bam files used:\"\n",
      "[1] \"2 IP replicate(s)\"\n",
      "[1] \"2 Input replicate(s)\"\n",
      "[1] \"---------------------------------\"\n",
      "[1] \"Peak calling result: \"\n",
      "[1] \"8 peaks detected on merged data.\"\n",
      "[1] \"Please check 'peak.bed/xls' under ../exomepeak/hiv.control//WINDOW_30_STEP_15_LENGTH_15_FDR_0.025_ENRICH_0.2\"\n",
      "[1] \"7 consistent peaks detected on every replicates. (Recommended list)\"\n",
      "[1] \"Please check 'con_peak.bed/xls' under ../exomepeak/hiv.control//WINDOW_30_STEP_15_LENGTH_15_FDR_0.025_ENRICH_0.2\"\n"
     ]
    },
    {
     "name": "stderr",
     "output_type": "stream",
     "text": [
      "R[write to console]: 'select()' returned 1:many mapping between keys and columns\n",
      "\n"
     ]
    },
    {
     "name": "stdout",
     "output_type": "stream",
     "text": [
      "[1] \"Divide transcriptome into chr-gene-batch sections ...\"\n",
      "[1] \"Get Reads Count ...\"\n",
      "[1] \"This step may take a few hours ...\"\n",
      "[1] \"100 %\"\n",
      "[1] \"Get all the peaks ...\"\n",
      "[1] \"Get the consistent peaks ...\"\n",
      "[1] \"---------------------------------\"\n",
      "[1] \"The bam files used:\"\n",
      "[1] \"2 IP replicate(s)\"\n",
      "[1] \"2 Input replicate(s)\"\n",
      "[1] \"---------------------------------\"\n",
      "[1] \"Peak calling result: \"\n",
      "[1] \"8 peaks detected on merged data.\"\n",
      "[1] \"Please check 'peak.bed/xls' under ../exomepeak/hiv.control//WINDOW_30_STEP_15_LENGTH_15_FDR_0.025_ENRICH_1\"\n",
      "[1] \"7 consistent peaks detected on every replicates. (Recommended list)\"\n",
      "[1] \"Please check 'con_peak.bed/xls' under ../exomepeak/hiv.control//WINDOW_30_STEP_15_LENGTH_15_FDR_0.025_ENRICH_1\"\n"
     ]
    },
    {
     "name": "stderr",
     "output_type": "stream",
     "text": [
      "R[write to console]: 'select()' returned 1:many mapping between keys and columns\n",
      "\n"
     ]
    },
    {
     "name": "stdout",
     "output_type": "stream",
     "text": [
      "[1] \"Divide transcriptome into chr-gene-batch sections ...\"\n",
      "[1] \"Get Reads Count ...\"\n",
      "[1] \"This step may take a few hours ...\"\n",
      "[1] \"100 %\"\n",
      "[1] \"Get all the peaks ...\"\n",
      "[1] \"Get the consistent peaks ...\"\n",
      "[1] \"---------------------------------\"\n",
      "[1] \"The bam files used:\"\n",
      "[1] \"2 IP replicate(s)\"\n",
      "[1] \"2 Input replicate(s)\"\n",
      "[1] \"---------------------------------\"\n",
      "[1] \"Peak calling result: \"\n",
      "[1] \"9 peaks detected on merged data.\"\n",
      "[1] \"Please check 'peak.bed/xls' under ../exomepeak/hiv.control//WINDOW_30_STEP_15_LENGTH_20_FDR_0.01_ENRICH_0.1\"\n",
      "[1] \"8 consistent peaks detected on every replicates. (Recommended list)\"\n",
      "[1] \"Please check 'con_peak.bed/xls' under ../exomepeak/hiv.control//WINDOW_30_STEP_15_LENGTH_20_FDR_0.01_ENRICH_0.1\"\n"
     ]
    },
    {
     "name": "stderr",
     "output_type": "stream",
     "text": [
      "R[write to console]: 'select()' returned 1:many mapping between keys and columns\n",
      "\n"
     ]
    },
    {
     "name": "stdout",
     "output_type": "stream",
     "text": [
      "[1] \"Divide transcriptome into chr-gene-batch sections ...\"\n",
      "[1] \"Get Reads Count ...\"\n",
      "[1] \"This step may take a few hours ...\"\n",
      "[1] \"100 %\"\n",
      "[1] \"Get all the peaks ...\"\n",
      "[1] \"Get the consistent peaks ...\"\n",
      "[1] \"---------------------------------\"\n",
      "[1] \"The bam files used:\"\n",
      "[1] \"2 IP replicate(s)\"\n",
      "[1] \"2 Input replicate(s)\"\n",
      "[1] \"---------------------------------\"\n",
      "[1] \"Peak calling result: \"\n",
      "[1] \"9 peaks detected on merged data.\"\n",
      "[1] \"Please check 'peak.bed/xls' under ../exomepeak/hiv.control//WINDOW_30_STEP_15_LENGTH_20_FDR_0.01_ENRICH_0.2\"\n",
      "[1] \"8 consistent peaks detected on every replicates. (Recommended list)\"\n",
      "[1] \"Please check 'con_peak.bed/xls' under ../exomepeak/hiv.control//WINDOW_30_STEP_15_LENGTH_20_FDR_0.01_ENRICH_0.2\"\n"
     ]
    },
    {
     "name": "stderr",
     "output_type": "stream",
     "text": [
      "R[write to console]: 'select()' returned 1:many mapping between keys and columns\n",
      "\n"
     ]
    },
    {
     "name": "stdout",
     "output_type": "stream",
     "text": [
      "[1] \"Divide transcriptome into chr-gene-batch sections ...\"\n",
      "[1] \"Get Reads Count ...\"\n",
      "[1] \"This step may take a few hours ...\"\n",
      "[1] \"100 %\"\n",
      "[1] \"Get all the peaks ...\"\n",
      "[1] \"Get the consistent peaks ...\"\n",
      "[1] \"---------------------------------\"\n",
      "[1] \"The bam files used:\"\n",
      "[1] \"2 IP replicate(s)\"\n",
      "[1] \"2 Input replicate(s)\"\n",
      "[1] \"---------------------------------\"\n",
      "[1] \"Peak calling result: \"\n",
      "[1] \"9 peaks detected on merged data.\"\n",
      "[1] \"Please check 'peak.bed/xls' under ../exomepeak/hiv.control//WINDOW_30_STEP_15_LENGTH_20_FDR_0.01_ENRICH_1\"\n",
      "[1] \"8 consistent peaks detected on every replicates. (Recommended list)\"\n",
      "[1] \"Please check 'con_peak.bed/xls' under ../exomepeak/hiv.control//WINDOW_30_STEP_15_LENGTH_20_FDR_0.01_ENRICH_1\"\n"
     ]
    },
    {
     "name": "stderr",
     "output_type": "stream",
     "text": [
      "R[write to console]: 'select()' returned 1:many mapping between keys and columns\n",
      "\n"
     ]
    },
    {
     "name": "stdout",
     "output_type": "stream",
     "text": [
      "[1] \"Divide transcriptome into chr-gene-batch sections ...\"\n",
      "[1] \"Get Reads Count ...\"\n",
      "[1] \"This step may take a few hours ...\"\n",
      "[1] \"100 %\"\n",
      "[1] \"Get all the peaks ...\"\n",
      "[1] \"Get the consistent peaks ...\"\n",
      "[1] \"---------------------------------\"\n",
      "[1] \"The bam files used:\"\n",
      "[1] \"2 IP replicate(s)\"\n",
      "[1] \"2 Input replicate(s)\"\n",
      "[1] \"---------------------------------\"\n",
      "[1] \"Peak calling result: \"\n",
      "[1] \"9 peaks detected on merged data.\"\n",
      "[1] \"Please check 'peak.bed/xls' under ../exomepeak/hiv.control//WINDOW_30_STEP_15_LENGTH_20_FDR_0.025_ENRICH_0.1\"\n",
      "[1] \"8 consistent peaks detected on every replicates. (Recommended list)\"\n",
      "[1] \"Please check 'con_peak.bed/xls' under ../exomepeak/hiv.control//WINDOW_30_STEP_15_LENGTH_20_FDR_0.025_ENRICH_0.1\"\n"
     ]
    },
    {
     "name": "stderr",
     "output_type": "stream",
     "text": [
      "R[write to console]: 'select()' returned 1:many mapping between keys and columns\n",
      "\n"
     ]
    },
    {
     "name": "stdout",
     "output_type": "stream",
     "text": [
      "[1] \"Divide transcriptome into chr-gene-batch sections ...\"\n",
      "[1] \"Get Reads Count ...\"\n",
      "[1] \"This step may take a few hours ...\"\n",
      "[1] \"100 %\"\n",
      "[1] \"Get all the peaks ...\"\n",
      "[1] \"Get the consistent peaks ...\"\n",
      "[1] \"---------------------------------\"\n",
      "[1] \"The bam files used:\"\n",
      "[1] \"2 IP replicate(s)\"\n",
      "[1] \"2 Input replicate(s)\"\n",
      "[1] \"---------------------------------\"\n",
      "[1] \"Peak calling result: \"\n",
      "[1] \"9 peaks detected on merged data.\"\n",
      "[1] \"Please check 'peak.bed/xls' under ../exomepeak/hiv.control//WINDOW_30_STEP_15_LENGTH_20_FDR_0.025_ENRICH_0.2\"\n",
      "[1] \"8 consistent peaks detected on every replicates. (Recommended list)\"\n",
      "[1] \"Please check 'con_peak.bed/xls' under ../exomepeak/hiv.control//WINDOW_30_STEP_15_LENGTH_20_FDR_0.025_ENRICH_0.2\"\n"
     ]
    },
    {
     "name": "stderr",
     "output_type": "stream",
     "text": [
      "R[write to console]: 'select()' returned 1:many mapping between keys and columns\n",
      "\n"
     ]
    },
    {
     "name": "stdout",
     "output_type": "stream",
     "text": [
      "[1] \"Divide transcriptome into chr-gene-batch sections ...\"\n",
      "[1] \"Get Reads Count ...\"\n",
      "[1] \"This step may take a few hours ...\"\n",
      "[1] \"100 %\"\n",
      "[1] \"Get all the peaks ...\"\n",
      "[1] \"Get the consistent peaks ...\"\n",
      "[1] \"---------------------------------\"\n",
      "[1] \"The bam files used:\"\n",
      "[1] \"2 IP replicate(s)\"\n",
      "[1] \"2 Input replicate(s)\"\n",
      "[1] \"---------------------------------\"\n",
      "[1] \"Peak calling result: \"\n",
      "[1] \"9 peaks detected on merged data.\"\n",
      "[1] \"Please check 'peak.bed/xls' under ../exomepeak/hiv.control//WINDOW_30_STEP_15_LENGTH_20_FDR_0.025_ENRICH_1\"\n",
      "[1] \"8 consistent peaks detected on every replicates. (Recommended list)\"\n",
      "[1] \"Please check 'con_peak.bed/xls' under ../exomepeak/hiv.control//WINDOW_30_STEP_15_LENGTH_20_FDR_0.025_ENRICH_1\"\n"
     ]
    },
    {
     "name": "stderr",
     "output_type": "stream",
     "text": [
      "R[write to console]: 'select()' returned 1:many mapping between keys and columns\n",
      "\n"
     ]
    },
    {
     "name": "stdout",
     "output_type": "stream",
     "text": [
      "[1] \"Divide transcriptome into chr-gene-batch sections ...\"\n",
      "[1] \"Get Reads Count ...\"\n",
      "[1] \"This step may take a few hours ...\"\n",
      "[1] \"100 %\"\n",
      "[1] \"Get all the peaks ...\"\n",
      "[1] \"Get the consistent peaks ...\"\n",
      "[1] \"---------------------------------\"\n",
      "[1] \"The bam files used:\"\n",
      "[1] \"2 IP replicate(s)\"\n",
      "[1] \"2 Input replicate(s)\"\n",
      "[1] \"---------------------------------\"\n",
      "[1] \"Peak calling result: \"\n",
      "[1] \"9 peaks detected on merged data.\"\n",
      "[1] \"Please check 'peak.bed/xls' under ../exomepeak/hiv.control//WINDOW_30_STEP_15_LENGTH_25_FDR_0.01_ENRICH_0.1\"\n",
      "[1] \"7 consistent peaks detected on every replicates. (Recommended list)\"\n",
      "[1] \"Please check 'con_peak.bed/xls' under ../exomepeak/hiv.control//WINDOW_30_STEP_15_LENGTH_25_FDR_0.01_ENRICH_0.1\"\n"
     ]
    },
    {
     "name": "stderr",
     "output_type": "stream",
     "text": [
      "R[write to console]: 'select()' returned 1:many mapping between keys and columns\n",
      "\n"
     ]
    },
    {
     "name": "stdout",
     "output_type": "stream",
     "text": [
      "[1] \"Divide transcriptome into chr-gene-batch sections ...\"\n",
      "[1] \"Get Reads Count ...\"\n",
      "[1] \"This step may take a few hours ...\"\n",
      "[1] \"100 %\"\n",
      "[1] \"Get all the peaks ...\"\n",
      "[1] \"Get the consistent peaks ...\"\n",
      "[1] \"---------------------------------\"\n",
      "[1] \"The bam files used:\"\n",
      "[1] \"2 IP replicate(s)\"\n",
      "[1] \"2 Input replicate(s)\"\n",
      "[1] \"---------------------------------\"\n",
      "[1] \"Peak calling result: \"\n",
      "[1] \"9 peaks detected on merged data.\"\n",
      "[1] \"Please check 'peak.bed/xls' under ../exomepeak/hiv.control//WINDOW_30_STEP_15_LENGTH_25_FDR_0.01_ENRICH_0.2\"\n",
      "[1] \"7 consistent peaks detected on every replicates. (Recommended list)\"\n",
      "[1] \"Please check 'con_peak.bed/xls' under ../exomepeak/hiv.control//WINDOW_30_STEP_15_LENGTH_25_FDR_0.01_ENRICH_0.2\"\n"
     ]
    },
    {
     "name": "stderr",
     "output_type": "stream",
     "text": [
      "R[write to console]: 'select()' returned 1:many mapping between keys and columns\n",
      "\n"
     ]
    },
    {
     "name": "stdout",
     "output_type": "stream",
     "text": [
      "[1] \"Divide transcriptome into chr-gene-batch sections ...\"\n",
      "[1] \"Get Reads Count ...\"\n",
      "[1] \"This step may take a few hours ...\"\n",
      "[1] \"100 %\"\n",
      "[1] \"Get all the peaks ...\"\n",
      "[1] \"Get the consistent peaks ...\"\n",
      "[1] \"---------------------------------\"\n",
      "[1] \"The bam files used:\"\n",
      "[1] \"2 IP replicate(s)\"\n",
      "[1] \"2 Input replicate(s)\"\n",
      "[1] \"---------------------------------\"\n",
      "[1] \"Peak calling result: \"\n",
      "[1] \"9 peaks detected on merged data.\"\n",
      "[1] \"Please check 'peak.bed/xls' under ../exomepeak/hiv.control//WINDOW_30_STEP_15_LENGTH_25_FDR_0.01_ENRICH_1\"\n",
      "[1] \"7 consistent peaks detected on every replicates. (Recommended list)\"\n",
      "[1] \"Please check 'con_peak.bed/xls' under ../exomepeak/hiv.control//WINDOW_30_STEP_15_LENGTH_25_FDR_0.01_ENRICH_1\"\n"
     ]
    },
    {
     "name": "stderr",
     "output_type": "stream",
     "text": [
      "R[write to console]: 'select()' returned 1:many mapping between keys and columns\n",
      "\n"
     ]
    },
    {
     "name": "stdout",
     "output_type": "stream",
     "text": [
      "[1] \"Divide transcriptome into chr-gene-batch sections ...\"\n",
      "[1] \"Get Reads Count ...\"\n",
      "[1] \"This step may take a few hours ...\"\n",
      "[1] \"100 %\"\n",
      "[1] \"Get all the peaks ...\"\n",
      "[1] \"Get the consistent peaks ...\"\n",
      "[1] \"---------------------------------\"\n",
      "[1] \"The bam files used:\"\n",
      "[1] \"2 IP replicate(s)\"\n",
      "[1] \"2 Input replicate(s)\"\n",
      "[1] \"---------------------------------\"\n",
      "[1] \"Peak calling result: \"\n",
      "[1] \"9 peaks detected on merged data.\"\n",
      "[1] \"Please check 'peak.bed/xls' under ../exomepeak/hiv.control//WINDOW_30_STEP_15_LENGTH_25_FDR_0.025_ENRICH_0.1\"\n",
      "[1] \"7 consistent peaks detected on every replicates. (Recommended list)\"\n",
      "[1] \"Please check 'con_peak.bed/xls' under ../exomepeak/hiv.control//WINDOW_30_STEP_15_LENGTH_25_FDR_0.025_ENRICH_0.1\"\n"
     ]
    },
    {
     "name": "stderr",
     "output_type": "stream",
     "text": [
      "R[write to console]: 'select()' returned 1:many mapping between keys and columns\n",
      "\n"
     ]
    },
    {
     "name": "stdout",
     "output_type": "stream",
     "text": [
      "[1] \"Divide transcriptome into chr-gene-batch sections ...\"\n",
      "[1] \"Get Reads Count ...\"\n",
      "[1] \"This step may take a few hours ...\"\n",
      "[1] \"100 %\"\n",
      "[1] \"Get all the peaks ...\"\n",
      "[1] \"Get the consistent peaks ...\"\n",
      "[1] \"---------------------------------\"\n",
      "[1] \"The bam files used:\"\n",
      "[1] \"2 IP replicate(s)\"\n",
      "[1] \"2 Input replicate(s)\"\n",
      "[1] \"---------------------------------\"\n",
      "[1] \"Peak calling result: \"\n",
      "[1] \"9 peaks detected on merged data.\"\n",
      "[1] \"Please check 'peak.bed/xls' under ../exomepeak/hiv.control//WINDOW_30_STEP_15_LENGTH_25_FDR_0.025_ENRICH_0.2\"\n",
      "[1] \"7 consistent peaks detected on every replicates. (Recommended list)\"\n",
      "[1] \"Please check 'con_peak.bed/xls' under ../exomepeak/hiv.control//WINDOW_30_STEP_15_LENGTH_25_FDR_0.025_ENRICH_0.2\"\n"
     ]
    },
    {
     "name": "stderr",
     "output_type": "stream",
     "text": [
      "R[write to console]: 'select()' returned 1:many mapping between keys and columns\n",
      "\n"
     ]
    },
    {
     "name": "stdout",
     "output_type": "stream",
     "text": [
      "[1] \"Divide transcriptome into chr-gene-batch sections ...\"\n",
      "[1] \"Get Reads Count ...\"\n",
      "[1] \"This step may take a few hours ...\"\n",
      "[1] \"100 %\"\n",
      "[1] \"Get all the peaks ...\"\n",
      "[1] \"Get the consistent peaks ...\"\n",
      "[1] \"---------------------------------\"\n",
      "[1] \"The bam files used:\"\n",
      "[1] \"2 IP replicate(s)\"\n",
      "[1] \"2 Input replicate(s)\"\n",
      "[1] \"---------------------------------\"\n",
      "[1] \"Peak calling result: \"\n",
      "[1] \"9 peaks detected on merged data.\"\n",
      "[1] \"Please check 'peak.bed/xls' under ../exomepeak/hiv.control//WINDOW_30_STEP_15_LENGTH_25_FDR_0.025_ENRICH_1\"\n",
      "[1] \"7 consistent peaks detected on every replicates. (Recommended list)\"\n",
      "[1] \"Please check 'con_peak.bed/xls' under ../exomepeak/hiv.control//WINDOW_30_STEP_15_LENGTH_25_FDR_0.025_ENRICH_1\"\n"
     ]
    }
   ],
   "source": [
    "%%R \n",
    "GENE_ANNO_GTF=\"/rumi/shams/abe/People/Judd/HIV/EU541617.1/EU541617.1.gff3\"\n",
    "txdb = makeTxDbFromGFF(GENE_ANNO_GTF)\n",
    "\n",
    "for (W in seq(15,30, by = 15)){\n",
    "    for (S in seq(5,15,by =5)){\n",
    "        for (L in seq(15,25,by = 5)){\n",
    "            for (F in c(0.01,0.025)){\n",
    "                for (E in c(0.1,0.2,1)){\n",
    "                    run_exomepeak(WINDOW = W, STEP = S, LENGTH = L, FDR = F, ENRICH = E)\n",
    "                }}}}}\n"
   ]
  },
  {
   "cell_type": "code",
   "execution_count": 14,
   "metadata": {},
   "outputs": [
    {
     "name": "stdout",
     "output_type": "stream",
     "text": [
      "[1] 16\n"
     ]
    }
   ],
   "source": [
    "%%R \n",
    "res = readRDS(file ='exomepeak/hiv.control/WINDOW_15_STEP_5_LENGTH_15_FDR_0.01_ENRICH_0.1/results.rds')\n",
    "length(res$con_peaks)"
   ]
  },
  {
   "cell_type": "code",
   "execution_count": 15,
   "metadata": {},
   "outputs": [
    {
     "name": "stdout",
     "output_type": "stream",
     "text": [
      " [1]  6  3  1  2  6  6  3  1  4  7  5  2  6  3  1  4  7  8  9 10 11 12 13 14 15\n",
      "[26] 16\n"
     ]
    }
   ],
   "source": [
    "%%R \n",
    "subjectHits(findOverlaps(res$con_peaks))"
   ]
  },
  {
   "cell_type": "code",
   "execution_count": null,
   "metadata": {},
   "outputs": [],
   "source": [
    "!bedtools merge exomepeak/hiv.control/*/peak.bed "
   ]
  },
  {
   "cell_type": "code",
   "execution_count": 76,
   "metadata": {},
   "outputs": [
    {
     "name": "stdout",
     "output_type": "stream",
     "text": [
      "# chr\tchromStart\tchromEnd\tname\tscore\tstrand\tthickStart\tthickEnd\titemRgb\tblockCount\tblockSizes\tblockStarts\r\n",
      "EU541617.1\t7945\t7956\ttat\t6.3e-27\t+\t7945\t7956\t0\t1\t11,\t0\r\n",
      "EU541617.1\t5519\t5530\trev\t1.5e-07\t+\t5519\t5530\t0\t1\t11,\t0\r\n",
      "EU541617.1\t5583\t7929\trev\t1e-138\t+\t5583\t7929\t0\t2\t7,9,\t0,2337\r\n",
      "EU541617.1\t7943\t8195\trev\t0\t+\t7943\t8195\t0\t1\t252,\t0\r\n",
      "EU541617.1\t7882\t7893\tenv\t1e-16\t+\t7882\t7893\t0\t1\t11,\t0\r\n",
      "EU541617.1\t7927\t8337\tenv\t0\t+\t7927\t8337\t0\t1\t410,\t0\r\n",
      "EU541617.1\t8373\t8463\tnef\t5e-51\t+\t8373\t8463\t0\t1\t90,\t0\r\n",
      "EU541617.1\t8507\t8523\tnef\t7.9e-16\t+\t8507\t8523\t0\t1\t16,\t0\r\n",
      "EU541617.1\t8561\t8632\tnef\t7.9e-76\t+\t8561\t8632\t0\t1\t71,\t0\r\n",
      "EU541617.1\t8641\t8845\tnef\t1e-143\t+\t8641\t8845\t0\t1\t204,\t0\r\n",
      "EU541617.1\t8854\t8880\tnef\t1e-116\t+\t8854\t8880\t0\t1\t26,\t0\r\n",
      "EU541617.1\t8913\t8924\tnef\t8.5e-05\t+\t8913\t8924\t0\t1\t11,\t0\r\n",
      "EU541617.1\t8943\t8959\tnef\t2e-78\t+\t8943\t8959\t0\t1\t16,\t0\r\n"
     ]
    }
   ],
   "source": [
    "cat exomepeak/hiv.control/WINDOW_15_STEP_5_LENGTH_15_FDR_0.01_ENRICH_0.1/peak.bed"
   ]
  },
  {
   "cell_type": "markdown",
   "metadata": {},
   "source": [
    "### Motif analysis "
   ]
  },
  {
   "cell_type": "code",
   "execution_count": 10,
   "metadata": {
    "scrolled": false
   },
   "outputs": [],
   "source": [
    "%%bash\n",
    "bedtools getfasta -name -split -s -fi HIV/EU541617.1/EU541617.1.fasta \\\n",
    "-bed exomepeak/hiv.control/WINDOW_15_STEP_5_LENGTH_15_FDR_0.01_ENRICH_0.1/peak.bed \\\n",
    "-fo exomepeak/hiv.control/WINDOW_15_STEP_5_LENGTH_15_FDR_0.01_ENRICH_0.1/peak.fa"
   ]
  },
  {
   "cell_type": "code",
   "execution_count": 5,
   "metadata": {},
   "outputs": [
    {
     "name": "stdout",
     "output_type": "stream",
     "text": [
      "[AG]GAC\r\n",
      "[AGT][AG]AC[ACT]\r\n"
     ]
    }
   ],
   "source": [
    "cat exomepeak/control/motifs_of_interest.txt"
   ]
  },
  {
   "cell_type": "code",
   "execution_count": 73,
   "metadata": {},
   "outputs": [
    {
     "data": {
      "text/plain": [
       "[['rev::EU541617.1:7943-8195(+)',\n",
       "  <re.Match object; span=(42, 46), match='AGAC'>,\n",
       "  <re.Match object; span=(42, 47), match='AGACA'>],\n",
       " ['env::EU541617.1:7927-8337(+)',\n",
       "  <re.Match object; span=(14, 18), match='GGAC'>,\n",
       "  <re.Match object; span=(14, 19), match='GGACC'>],\n",
       " ['nef::EU541617.1:8373-8463(+)',\n",
       "  <re.Match object; span=(25, 29), match='AGAC'>,\n",
       "  <re.Match object; span=(69, 74), match='AGACC'>],\n",
       " ['nef::EU541617.1:8561-8632(+)',\n",
       "  <re.Match object; span=(5, 9), match='AGAC'>,\n",
       "  <re.Match object; span=(5, 10), match='AGACC'>],\n",
       " ['nef::EU541617.1:8641-8845(+)',\n",
       "  <re.Match object; span=(12, 16), match='AGAC'>,\n",
       "  <re.Match object; span=(12, 17), match='AGACA'>],\n",
       " ['nef::EU541617.1:8854-8880(+)',\n",
       "  None,\n",
       "  <re.Match object; span=(5, 10), match='TGACC'>],\n",
       " ['nef::EU541617.1:8943-8959(+)',\n",
       "  None,\n",
       "  <re.Match object; span=(6, 11), match='GAACT'>]]"
      ]
     },
     "execution_count": 73,
     "metadata": {},
     "output_type": "execute_result"
    }
   ],
   "source": [
    "import re\n",
    "\n",
    "def read_fasta(path):\n",
    "    file = open(path)\n",
    "    lines = file.read().splitlines()\n",
    "    ids = [s[1:] for s in lines if '>' in s]\n",
    "    n = [i for i,s in enumerate(lines) if '>' in s]\n",
    "    n.append(len(lines))\n",
    "    sequences = [''.join(lines[i+1:j]) for i,j in zip(n[:-1],n[1:])]\n",
    "    file.close()\n",
    "    fa = dict(zip(ids, sequences))\n",
    "    return fa\n",
    "\n",
    "peaks = read_fasta('exomepeak/hiv.control/WINDOW_15_STEP_5_LENGTH_15_FDR_0.01_ENRICH_0.1/peak.fa')\n",
    "\n",
    "DRACH = re.compile('[AGT][AG]AC[ACT]')\n",
    "RGAC = re.compile('[AG]GAC')\n",
    "# DRACH.match(\n",
    "[[f,RGAC.search(peaks[f]), DRACH.search(peaks[f])] \n",
    "     for f in peaks \n",
    "         if RGAC.search(peaks[f]) is not None or DRACH.search(peaks[f]) is not None\n",
    "]"
   ]
  },
  {
   "cell_type": "markdown",
   "metadata": {},
   "source": [
    "# Running a custom pipeline \n",
    "\n",
    "Here we're using https://github.com/gold-lab/bed12ToGTF to make gtf file from control exomepeak result.\n",
    "\n",
    "https://metacpan.org/pod/Bio::FeatureIO::gtf"
   ]
  },
  {
   "cell_type": "code",
   "execution_count": 4,
   "metadata": {},
   "outputs": [],
   "source": [
    "%%bash\n",
    "cat exomepeak/hiv.control/WINDOW_15_STEP_5_LENGTH_15_FDR_0.01_ENRICH_0.1/peak.bed | sort -k4 | \\\n",
    "# rename features peak by peak\n",
    "awk -F \"\\t\" '{OFS=FS}NR>1{$4=$4\"_peak\"}; cnt[$4]++{$4=$4\"_\"cnt[$4]} 1' | \\\n",
    "# bed12 to gtf\n",
    "perl ../../Workflows/bed12ToGTF/bed12ToGTF.1.pl | \\\n",
    "awk '{gsub(/\\\"|\\;/,\"\")}1''{gsub(/transcript_id/,\"gene_id\")}1''{gsub(/ exon_number [[:digit:]]/,\"\")}1' > exomepeak/hiv.control/WINDOW_15_STEP_5_LENGTH_15_FDR_0.01_ENRICH_0.1/peak.gtf"
   ]
  },
  {
   "cell_type": "code",
   "execution_count": 5,
   "metadata": {},
   "outputs": [
    {
     "name": "stdout",
     "output_type": "stream",
     "text": [
      "# chr\tblank\ttranscript\t1\tchromEnd\t.\tstrand\t.\tgene_id name\r\n",
      "EU541617.1\tblank\ttranscript\t7928\t8337\t.\t+\t.\tgene_id env_peak\r\n",
      "EU541617.1\tblank\texon\t7928\t8337\t.\t+\t.\tgene_id env_peak\r\n",
      "EU541617.1\tblank\ttranscript\t7883\t7893\t.\t+\t.\tgene_id env_peak_2\r\n",
      "EU541617.1\tblank\texon\t7883\t7893\t.\t+\t.\tgene_id env_peak_2\r\n",
      "EU541617.1\tblank\ttranscript\t8855\t8880\t.\t+\t.\tgene_id nef_peak\r\n",
      "EU541617.1\tblank\texon\t8855\t8880\t.\t+\t.\tgene_id nef_peak\r\n",
      "EU541617.1\tblank\ttranscript\t8642\t8845\t.\t+\t.\tgene_id nef_peak_2\r\n",
      "EU541617.1\tblank\texon\t8642\t8845\t.\t+\t.\tgene_id nef_peak_2\r\n",
      "EU541617.1\tblank\ttranscript\t8944\t8959\t.\t+\t.\tgene_id nef_peak_3\r\n",
      "EU541617.1\tblank\texon\t8944\t8959\t.\t+\t.\tgene_id nef_peak_3\r\n",
      "EU541617.1\tblank\ttranscript\t8374\t8463\t.\t+\t.\tgene_id nef_peak_4\r\n",
      "EU541617.1\tblank\texon\t8374\t8463\t.\t+\t.\tgene_id nef_peak_4\r\n",
      "EU541617.1\tblank\ttranscript\t8508\t8523\t.\t+\t.\tgene_id nef_peak_5\r\n",
      "EU541617.1\tblank\texon\t8508\t8523\t.\t+\t.\tgene_id nef_peak_5\r\n",
      "EU541617.1\tblank\ttranscript\t8562\t8632\t.\t+\t.\tgene_id nef_peak_6\r\n",
      "EU541617.1\tblank\texon\t8562\t8632\t.\t+\t.\tgene_id nef_peak_6\r\n",
      "EU541617.1\tblank\ttranscript\t8914\t8924\t.\t+\t.\tgene_id nef_peak_7\r\n",
      "EU541617.1\tblank\texon\t8914\t8924\t.\t+\t.\tgene_id nef_peak_7\r\n",
      "EU541617.1\tblank\ttranscript\t7944\t8195\t.\t+\t.\tgene_id rev_peak\r\n",
      "EU541617.1\tblank\texon\t7944\t8195\t.\t+\t.\tgene_id rev_peak\r\n",
      "EU541617.1\tblank\ttranscript\t5520\t5530\t.\t+\t.\tgene_id rev_peak_2\r\n",
      "EU541617.1\tblank\texon\t5520\t5530\t.\t+\t.\tgene_id rev_peak_2\r\n",
      "EU541617.1\tblank\ttranscript\t5584\t7929\t.\t+\t.\tgene_id rev_peak_3\r\n",
      "EU541617.1\tblank\texon\t5584\t5590\t.\t+\t.\tgene_id rev_peak_3\r\n",
      "EU541617.1\tblank\texon\t7921\t7929\t.\t+\t.\tgene_id rev_peak_3\r\n",
      "EU541617.1\tblank\ttranscript\t7946\t7956\t.\t+\t.\tgene_id tat_peak\r\n",
      "EU541617.1\tblank\texon\t7946\t7956\t.\t+\t.\tgene_id tat_peak\r\n"
     ]
    }
   ],
   "source": [
    "!cat exomepeak/hiv.control/WINDOW_15_STEP_5_LENGTH_15_FDR_0.01_ENRICH_0.1/peak.gtf"
   ]
  },
  {
   "cell_type": "markdown",
   "metadata": {},
   "source": [
    "Using `bamToBed` to count reads which are present in control peak cordinates (found by `exomepeak`)."
   ]
  },
  {
   "cell_type": "code",
   "execution_count": 14,
   "metadata": {
    "scrolled": true
   },
   "outputs": [
    {
     "name": "stderr",
     "output_type": "stream",
     "text": [
      "\n",
      "        ==========     _____ _    _ ____  _____  ______          _____  \n",
      "        =====         / ____| |  | |  _ \\|  __ \\|  ____|   /\\   |  __ \\ \n",
      "          =====      | (___ | |  | | |_) | |__) | |__     /  \\  | |  | |\n",
      "            ====      \\___ \\| |  | |  _ <|  _  /|  __|   / /\\ \\ | |  | |\n",
      "              ====    ____) | |__| | |_) | | \\ \\| |____ / ____ \\| |__| |\n",
      "        ==========   |_____/ \\____/|____/|_|  \\_\\______/_/    \\_\\_____/\n",
      "\t  v1.6.0\n",
      "\n",
      "//========================== featureCounts setting ===========================\\\\\n",
      "||                                                                            ||\n",
      "||             Input files : 1 BAM file                                       ||\n",
      "||                           S bam/s23.hiv.METTL14.input.bam                  ||\n",
      "||                                                                            ||\n",
      "||             Output file : peakcount/s23.hiv.METTL14.input.fc               ||\n",
      "||                 Summary : peakcount/s23.hiv.METTL14.input.fc.summary       ||\n",
      "||              Annotation : exomepeak/hiv.control/WINDOW_15_STEP_5_LENGT ... ||\n",
      "||      Dir for temp files : peakcount                                        ||\n",
      "||                                                                            ||\n",
      "||                 Threads : 12                                               ||\n",
      "||                   Level : meta-feature level                               ||\n",
      "||              Paired-end : no                                               ||\n",
      "||         Strand specific : no                                               ||\n",
      "||      Multimapping reads : not counted                                      ||\n",
      "|| Multi-overlapping reads : counted                                          ||\n",
      "||   Min overlapping bases : 1                                                ||\n",
      "||                                                                            ||\n",
      "\\\\===================== http://subread.sourceforge.net/ ======================//\n",
      "\n",
      "//================================= Running ==================================\\\\\n",
      "||                                                                            ||\n",
      "|| Load annotation file exomepeak/hiv.control/WINDOW_15_STEP_5_LENGTH_15_ ... ||\n",
      "||    Features : 14                                                           ||\n",
      "||    Meta-features : 13                                                      ||\n",
      "||    Chromosomes/contigs : 1                                                 ||\n",
      "||                                                                            ||\n",
      "|| Process BAM file bam/s23.hiv.METTL14.input.bam...                          ||\n",
      "||    Single-end reads are included.                                          ||\n",
      "||    Assign reads to features...                                             ||\n",
      "||    Total reads : 278629                                                    ||\n",
      "||    Successfully assigned reads : 37568 (13.5%)                             ||\n",
      "||    Running time : 0.01 minutes                                             ||\n",
      "||                                                                            ||\n",
      "||                         Read assignment finished.                          ||\n",
      "||                                                                            ||\n",
      "|| Summary of counting results can be found in file \"peakcount/s23.hiv.METTL  ||\n",
      "|| 14.input.fc.summary\"                                                       ||\n",
      "||                                                                            ||\n",
      "\\\\===================== http://subread.sourceforge.net/ ======================//\n",
      "\n",
      "\n",
      "        ==========     _____ _    _ ____  _____  ______          _____  \n",
      "        =====         / ____| |  | |  _ \\|  __ \\|  ____|   /\\   |  __ \\ \n",
      "          =====      | (___ | |  | | |_) | |__) | |__     /  \\  | |  | |\n",
      "            ====      \\___ \\| |  | |  _ <|  _  /|  __|   / /\\ \\ | |  | |\n",
      "              ====    ____) | |__| | |_) | | \\ \\| |____ / ____ \\| |__| |\n",
      "        ==========   |_____/ \\____/|____/|_|  \\_\\______/_/    \\_\\_____/\n",
      "\t  v1.6.0\n",
      "\n",
      "//========================== featureCounts setting ===========================\\\\\n",
      "||                                                                            ||\n",
      "||             Input files : 1 BAM file                                       ||\n",
      "||                           S bam/s23.hiv.METTL14.m6A.bam                    ||\n",
      "||                                                                            ||\n",
      "||             Output file : peakcount/s23.hiv.METTL14.m6A.fc                 ||\n",
      "||                 Summary : peakcount/s23.hiv.METTL14.m6A.fc.summary         ||\n",
      "||              Annotation : exomepeak/hiv.control/WINDOW_15_STEP_5_LENGT ... ||\n",
      "||      Dir for temp files : peakcount                                        ||\n",
      "||                                                                            ||\n",
      "||                 Threads : 12                                               ||\n",
      "||                   Level : meta-feature level                               ||\n",
      "||              Paired-end : no                                               ||\n",
      "||         Strand specific : no                                               ||\n",
      "||      Multimapping reads : not counted                                      ||\n",
      "|| Multi-overlapping reads : counted                                          ||\n",
      "||   Min overlapping bases : 1                                                ||\n",
      "||                                                                            ||\n",
      "\\\\===================== http://subread.sourceforge.net/ ======================//\n",
      "\n",
      "//================================= Running ==================================\\\\\n",
      "||                                                                            ||\n",
      "|| Load annotation file exomepeak/hiv.control/WINDOW_15_STEP_5_LENGTH_15_ ... ||\n",
      "||    Features : 14                                                           ||\n",
      "||    Meta-features : 13                                                      ||\n",
      "||    Chromosomes/contigs : 1                                                 ||\n",
      "||                                                                            ||\n",
      "|| Process BAM file bam/s23.hiv.METTL14.m6A.bam...                            ||\n",
      "||    Single-end reads are included.                                          ||\n",
      "||    Assign reads to features...                                             ||\n",
      "||    Total reads : 147985                                                    ||\n",
      "||    Successfully assigned reads : 105240 (71.1%)                            ||\n",
      "||    Running time : 0.01 minutes                                             ||\n",
      "||                                                                            ||\n",
      "||                         Read assignment finished.                          ||\n",
      "||                                                                            ||\n",
      "|| Summary of counting results can be found in file \"peakcount/s23.hiv.METTL  ||\n",
      "|| 14.m6A.fc.summary\"                                                         ||\n",
      "||                                                                            ||\n",
      "\\\\===================== http://subread.sourceforge.net/ ======================//\n",
      "\n",
      "\n",
      "        ==========     _____ _    _ ____  _____  ______          _____  \n",
      "        =====         / ____| |  | |  _ \\|  __ \\|  ____|   /\\   |  __ \\ \n",
      "          =====      | (___ | |  | | |_) | |__) | |__     /  \\  | |  | |\n",
      "            ====      \\___ \\| |  | |  _ <|  _  /|  __|   / /\\ \\ | |  | |\n",
      "              ====    ____) | |__| | |_) | | \\ \\| |____ / ____ \\| |__| |\n",
      "        ==========   |_____/ \\____/|____/|_|  \\_\\______/_/    \\_\\_____/\n",
      "\t  v1.6.0\n",
      "\n",
      "//========================== featureCounts setting ===========================\\\\\n",
      "||                                                                            ||\n",
      "||             Input files : 1 BAM file                                       ||\n",
      "||                           S bam/s24.hiv.METTL14.input.bam                  ||\n",
      "||                                                                            ||\n",
      "||             Output file : peakcount/s24.hiv.METTL14.input.fc               ||\n",
      "||                 Summary : peakcount/s24.hiv.METTL14.input.fc.summary       ||\n",
      "||              Annotation : exomepeak/hiv.control/WINDOW_15_STEP_5_LENGT ... ||\n",
      "||      Dir for temp files : peakcount                                        ||\n",
      "||                                                                            ||\n",
      "||                 Threads : 12                                               ||\n",
      "||                   Level : meta-feature level                               ||\n",
      "||              Paired-end : no                                               ||\n",
      "||         Strand specific : no                                               ||\n",
      "||      Multimapping reads : not counted                                      ||\n",
      "|| Multi-overlapping reads : counted                                          ||\n",
      "||   Min overlapping bases : 1                                                ||\n",
      "||                                                                            ||\n",
      "\\\\===================== http://subread.sourceforge.net/ ======================//\n",
      "\n",
      "//================================= Running ==================================\\\\\n",
      "||                                                                            ||\n",
      "|| Load annotation file exomepeak/hiv.control/WINDOW_15_STEP_5_LENGTH_15_ ... ||\n",
      "||    Features : 14                                                           ||\n",
      "||    Meta-features : 13                                                      ||\n",
      "||    Chromosomes/contigs : 1                                                 ||\n",
      "||                                                                            ||\n",
      "|| Process BAM file bam/s24.hiv.METTL14.input.bam...                          ||\n",
      "||    Single-end reads are included.                                          ||\n",
      "||    Assign reads to features...                                             ||\n",
      "||    Total reads : 309121                                                    ||\n",
      "||    Successfully assigned reads : 42112 (13.6%)                             ||\n",
      "||    Running time : 0.01 minutes                                             ||\n",
      "||                                                                            ||\n",
      "||                         Read assignment finished.                          ||\n",
      "||                                                                            ||\n",
      "|| Summary of counting results can be found in file \"peakcount/s24.hiv.METTL  ||\n",
      "|| 14.input.fc.summary\"                                                       ||\n",
      "||                                                                            ||\n",
      "\\\\===================== http://subread.sourceforge.net/ ======================//\n",
      "\n",
      "\n",
      "        ==========     _____ _    _ ____  _____  ______          _____  \n",
      "        =====         / ____| |  | |  _ \\|  __ \\|  ____|   /\\   |  __ \\ \n",
      "          =====      | (___ | |  | | |_) | |__) | |__     /  \\  | |  | |\n",
      "            ====      \\___ \\| |  | |  _ <|  _  /|  __|   / /\\ \\ | |  | |\n",
      "              ====    ____) | |__| | |_) | | \\ \\| |____ / ____ \\| |__| |\n",
      "        ==========   |_____/ \\____/|____/|_|  \\_\\______/_/    \\_\\_____/\n",
      "\t  v1.6.0\n",
      "\n",
      "//========================== featureCounts setting ===========================\\\\\n",
      "||                                                                            ||\n",
      "||             Input files : 1 BAM file                                       ||\n",
      "||                           S bam/s24.hiv.METTL14.m6A.bam                    ||\n",
      "||                                                                            ||\n",
      "||             Output file : peakcount/s24.hiv.METTL14.m6A.fc                 ||\n",
      "||                 Summary : peakcount/s24.hiv.METTL14.m6A.fc.summary         ||\n",
      "||              Annotation : exomepeak/hiv.control/WINDOW_15_STEP_5_LENGT ... ||\n",
      "||      Dir for temp files : peakcount                                        ||\n",
      "||                                                                            ||\n",
      "||                 Threads : 12                                               ||\n",
      "||                   Level : meta-feature level                               ||\n",
      "||              Paired-end : no                                               ||\n",
      "||         Strand specific : no                                               ||\n",
      "||      Multimapping reads : not counted                                      ||\n",
      "|| Multi-overlapping reads : counted                                          ||\n",
      "||   Min overlapping bases : 1                                                ||\n",
      "||                                                                            ||\n",
      "\\\\===================== http://subread.sourceforge.net/ ======================//\n",
      "\n",
      "//================================= Running ==================================\\\\\n",
      "||                                                                            ||\n",
      "|| Load annotation file exomepeak/hiv.control/WINDOW_15_STEP_5_LENGTH_15_ ... ||\n",
      "||    Features : 14                                                           ||\n",
      "||    Meta-features : 13                                                      ||\n",
      "||    Chromosomes/contigs : 1                                                 ||\n",
      "||                                                                            ||\n",
      "|| Process BAM file bam/s24.hiv.METTL14.m6A.bam...                            ||\n",
      "||    Single-end reads are included.                                          ||\n",
      "||    Assign reads to features...                                             ||\n",
      "||    Total reads : 90620                                                     ||\n",
      "||    Successfully assigned reads : 63925 (70.5%)                             ||\n",
      "||    Running time : 0.01 minutes                                             ||\n",
      "||                                                                            ||\n",
      "||                         Read assignment finished.                          ||\n",
      "||                                                                            ||\n",
      "|| Summary of counting results can be found in file \"peakcount/s24.hiv.METTL  ||\n",
      "|| 14.m6A.fc.summary\"                                                         ||\n",
      "||                                                                            ||\n",
      "\\\\===================== http://subread.sourceforge.net/ ======================//\n",
      "\n",
      "\n",
      "        ==========     _____ _    _ ____  _____  ______          _____  \n",
      "        =====         / ____| |  | |  _ \\|  __ \\|  ____|   /\\   |  __ \\ \n",
      "          =====      | (___ | |  | | |_) | |__) | |__     /  \\  | |  | |\n",
      "            ====      \\___ \\| |  | |  _ <|  _  /|  __|   / /\\ \\ | |  | |\n",
      "              ====    ____) | |__| | |_) | | \\ \\| |____ / ____ \\| |__| |\n",
      "        ==========   |_____/ \\____/|____/|_|  \\_\\______/_/    \\_\\_____/\n",
      "\t  v1.6.0\n",
      "\n",
      "//========================== featureCounts setting ===========================\\\\\n",
      "||                                                                            ||\n",
      "||             Input files : 1 BAM file                                       ||\n",
      "||                           S bam/s23.hiv.METTL3.input.bam                   ||\n",
      "||                                                                            ||\n",
      "||             Output file : peakcount/s23.hiv.METTL3.input.fc                ||\n",
      "||                 Summary : peakcount/s23.hiv.METTL3.input.fc.summary        ||\n",
      "||              Annotation : exomepeak/hiv.control/WINDOW_15_STEP_5_LENGT ... ||\n",
      "||      Dir for temp files : peakcount                                        ||\n",
      "||                                                                            ||\n",
      "||                 Threads : 12                                               ||\n",
      "||                   Level : meta-feature level                               ||\n",
      "||              Paired-end : no                                               ||\n",
      "||         Strand specific : no                                               ||\n",
      "||      Multimapping reads : not counted                                      ||\n",
      "|| Multi-overlapping reads : counted                                          ||\n",
      "||   Min overlapping bases : 1                                                ||\n",
      "||                                                                            ||\n",
      "\\\\===================== http://subread.sourceforge.net/ ======================//\n",
      "\n",
      "//================================= Running ==================================\\\\\n",
      "||                                                                            ||\n",
      "|| Load annotation file exomepeak/hiv.control/WINDOW_15_STEP_5_LENGTH_15_ ... ||\n",
      "||    Features : 14                                                           ||\n",
      "||    Meta-features : 13                                                      ||\n",
      "||    Chromosomes/contigs : 1                                                 ||\n",
      "||                                                                            ||\n",
      "|| Process BAM file bam/s23.hiv.METTL3.input.bam...                           ||\n",
      "||    Single-end reads are included.                                          ||\n",
      "||    Assign reads to features...                                             ||\n",
      "||    Total reads : 319640                                                    ||\n",
      "||    Successfully assigned reads : 42880 (13.4%)                             ||\n",
      "||    Running time : 0.01 minutes                                             ||\n",
      "||                                                                            ||\n",
      "||                         Read assignment finished.                          ||\n",
      "||                                                                            ||\n",
      "|| Summary of counting results can be found in file \"peakcount/s23.hiv.METTL  ||\n",
      "|| 3.input.fc.summary\"                                                        ||\n",
      "||                                                                            ||\n",
      "\\\\===================== http://subread.sourceforge.net/ ======================//\n",
      "\n",
      "\n",
      "        ==========     _____ _    _ ____  _____  ______          _____  \n",
      "        =====         / ____| |  | |  _ \\|  __ \\|  ____|   /\\   |  __ \\ \n",
      "          =====      | (___ | |  | | |_) | |__) | |__     /  \\  | |  | |\n",
      "            ====      \\___ \\| |  | |  _ <|  _  /|  __|   / /\\ \\ | |  | |\n",
      "              ====    ____) | |__| | |_) | | \\ \\| |____ / ____ \\| |__| |\n",
      "        ==========   |_____/ \\____/|____/|_|  \\_\\______/_/    \\_\\_____/\n",
      "\t  v1.6.0\n",
      "\n",
      "//========================== featureCounts setting ===========================\\\\\n",
      "||                                                                            ||\n",
      "||             Input files : 1 BAM file                                       ||\n",
      "||                           S bam/s23.hiv.METTL3.m6A.bam                     ||\n",
      "||                                                                            ||\n",
      "||             Output file : peakcount/s23.hiv.METTL3.m6A.fc                  ||\n",
      "||                 Summary : peakcount/s23.hiv.METTL3.m6A.fc.summary          ||\n",
      "||              Annotation : exomepeak/hiv.control/WINDOW_15_STEP_5_LENGT ... ||\n",
      "||      Dir for temp files : peakcount                                        ||\n",
      "||                                                                            ||\n",
      "||                 Threads : 12                                               ||\n",
      "||                   Level : meta-feature level                               ||\n",
      "||              Paired-end : no                                               ||\n",
      "||         Strand specific : no                                               ||\n",
      "||      Multimapping reads : not counted                                      ||\n",
      "|| Multi-overlapping reads : counted                                          ||\n",
      "||   Min overlapping bases : 1                                                ||\n",
      "||                                                                            ||\n",
      "\\\\===================== http://subread.sourceforge.net/ ======================//\n",
      "\n",
      "//================================= Running ==================================\\\\\n",
      "||                                                                            ||\n",
      "|| Load annotation file exomepeak/hiv.control/WINDOW_15_STEP_5_LENGTH_15_ ... ||\n",
      "||    Features : 14                                                           ||\n",
      "||    Meta-features : 13                                                      ||\n",
      "||    Chromosomes/contigs : 1                                                 ||\n",
      "||                                                                            ||\n",
      "|| Process BAM file bam/s23.hiv.METTL3.m6A.bam...                             ||\n",
      "||    Single-end reads are included.                                          ||\n",
      "||    Assign reads to features...                                             ||\n",
      "||    Total reads : 104416                                                    ||\n",
      "||    Successfully assigned reads : 67877 (65.0%)                             ||\n",
      "||    Running time : 0.01 minutes                                             ||\n",
      "||                                                                            ||\n",
      "||                         Read assignment finished.                          ||\n",
      "||                                                                            ||\n",
      "|| Summary of counting results can be found in file \"peakcount/s23.hiv.METTL  ||\n",
      "|| 3.m6A.fc.summary\"                                                          ||\n",
      "||                                                                            ||\n",
      "\\\\===================== http://subread.sourceforge.net/ ======================//\n",
      "\n",
      "\n",
      "        ==========     _____ _    _ ____  _____  ______          _____  \n",
      "        =====         / ____| |  | |  _ \\|  __ \\|  ____|   /\\   |  __ \\ \n",
      "          =====      | (___ | |  | | |_) | |__) | |__     /  \\  | |  | |\n",
      "            ====      \\___ \\| |  | |  _ <|  _  /|  __|   / /\\ \\ | |  | |\n",
      "              ====    ____) | |__| | |_) | | \\ \\| |____ / ____ \\| |__| |\n",
      "        ==========   |_____/ \\____/|____/|_|  \\_\\______/_/    \\_\\_____/\n",
      "\t  v1.6.0\n",
      "\n",
      "//========================== featureCounts setting ===========================\\\\\n",
      "||                                                                            ||\n",
      "||             Input files : 1 BAM file                                       ||\n",
      "||                           S bam/s24.hiv.METTL3.input.bam                   ||\n",
      "||                                                                            ||\n",
      "||             Output file : peakcount/s24.hiv.METTL3.input.fc                ||\n",
      "||                 Summary : peakcount/s24.hiv.METTL3.input.fc.summary        ||\n",
      "||              Annotation : exomepeak/hiv.control/WINDOW_15_STEP_5_LENGT ... ||\n",
      "||      Dir for temp files : peakcount                                        ||\n",
      "||                                                                            ||\n",
      "||                 Threads : 12                                               ||\n",
      "||                   Level : meta-feature level                               ||\n",
      "||              Paired-end : no                                               ||\n",
      "||         Strand specific : no                                               ||\n",
      "||      Multimapping reads : not counted                                      ||\n",
      "|| Multi-overlapping reads : counted                                          ||\n",
      "||   Min overlapping bases : 1                                                ||\n",
      "||                                                                            ||\n",
      "\\\\===================== http://subread.sourceforge.net/ ======================//\n",
      "\n",
      "//================================= Running ==================================\\\\\n",
      "||                                                                            ||\n",
      "|| Load annotation file exomepeak/hiv.control/WINDOW_15_STEP_5_LENGTH_15_ ... ||\n",
      "||    Features : 14                                                           ||\n",
      "||    Meta-features : 13                                                      ||\n",
      "||    Chromosomes/contigs : 1                                                 ||\n",
      "||                                                                            ||\n",
      "|| Process BAM file bam/s24.hiv.METTL3.input.bam...                           ||\n",
      "||    Single-end reads are included.                                          ||\n",
      "||    Assign reads to features...                                             ||\n",
      "||    Total reads : 282148                                                    ||\n",
      "||    Successfully assigned reads : 38773 (13.7%)                             ||\n",
      "||    Running time : 0.01 minutes                                             ||\n",
      "||                                                                            ||\n",
      "||                         Read assignment finished.                          ||\n",
      "||                                                                            ||\n",
      "|| Summary of counting results can be found in file \"peakcount/s24.hiv.METTL  ||\n",
      "|| 3.input.fc.summary\"                                                        ||\n",
      "||                                                                            ||\n",
      "\\\\===================== http://subread.sourceforge.net/ ======================//\n",
      "\n",
      "\n",
      "        ==========     _____ _    _ ____  _____  ______          _____  \n",
      "        =====         / ____| |  | |  _ \\|  __ \\|  ____|   /\\   |  __ \\ \n",
      "          =====      | (___ | |  | | |_) | |__) | |__     /  \\  | |  | |\n",
      "            ====      \\___ \\| |  | |  _ <|  _  /|  __|   / /\\ \\ | |  | |\n",
      "              ====    ____) | |__| | |_) | | \\ \\| |____ / ____ \\| |__| |\n",
      "        ==========   |_____/ \\____/|____/|_|  \\_\\______/_/    \\_\\_____/\n",
      "\t  v1.6.0\n",
      "\n",
      "//========================== featureCounts setting ===========================\\\\\n",
      "||                                                                            ||\n",
      "||             Input files : 1 BAM file                                       ||\n",
      "||                           S bam/s24.hiv.METTL3.m6A.bam                     ||\n",
      "||                                                                            ||\n",
      "||             Output file : peakcount/s24.hiv.METTL3.m6A.fc                  ||\n",
      "||                 Summary : peakcount/s24.hiv.METTL3.m6A.fc.summary          ||\n",
      "||              Annotation : exomepeak/hiv.control/WINDOW_15_STEP_5_LENGT ... ||\n",
      "||      Dir for temp files : peakcount                                        ||\n",
      "||                                                                            ||\n",
      "||                 Threads : 12                                               ||\n",
      "||                   Level : meta-feature level                               ||\n",
      "||              Paired-end : no                                               ||\n",
      "||         Strand specific : no                                               ||\n",
      "||      Multimapping reads : not counted                                      ||\n",
      "|| Multi-overlapping reads : counted                                          ||\n",
      "||   Min overlapping bases : 1                                                ||\n",
      "||                                                                            ||\n",
      "\\\\===================== http://subread.sourceforge.net/ ======================//\n",
      "\n",
      "//================================= Running ==================================\\\\\n",
      "||                                                                            ||\n",
      "|| Load annotation file exomepeak/hiv.control/WINDOW_15_STEP_5_LENGTH_15_ ... ||\n",
      "||    Features : 14                                                           ||\n",
      "||    Meta-features : 13                                                      ||\n",
      "||    Chromosomes/contigs : 1                                                 ||\n",
      "||                                                                            ||\n",
      "|| Process BAM file bam/s24.hiv.METTL3.m6A.bam...                             ||\n",
      "||    Single-end reads are included.                                          ||\n",
      "||    Assign reads to features...                                             ||\n",
      "||    Total reads : 162199                                                    ||\n",
      "||    Successfully assigned reads : 105442 (65.0%)                            ||\n",
      "||    Running time : 0.01 minutes                                             ||\n",
      "||                                                                            ||\n",
      "||                         Read assignment finished.                          ||\n",
      "||                                                                            ||\n",
      "|| Summary of counting results can be found in file \"peakcount/s24.hiv.METTL  ||\n",
      "|| 3.m6A.fc.summary\"                                                          ||\n",
      "||                                                                            ||\n",
      "\\\\===================== http://subread.sourceforge.net/ ======================//\n",
      "\n",
      "\n",
      "        ==========     _____ _    _ ____  _____  ______          _____  \n",
      "        =====         / ____| |  | |  _ \\|  __ \\|  ____|   /\\   |  __ \\ \n",
      "          =====      | (___ | |  | | |_) | |__) | |__     /  \\  | |  | |\n",
      "            ====      \\___ \\| |  | |  _ <|  _  /|  __|   / /\\ \\ | |  | |\n",
      "              ====    ____) | |__| | |_) | | \\ \\| |____ / ____ \\| |__| |\n",
      "        ==========   |_____/ \\____/|____/|_|  \\_\\______/_/    \\_\\_____/\n",
      "\t  v1.6.0\n",
      "\n",
      "//========================== featureCounts setting ===========================\\\\\n",
      "||                                                                            ||\n",
      "||             Input files : 1 BAM file                                       ||\n",
      "||                           S bam/s23.hiv.Virma.input.bam                    ||\n",
      "||                                                                            ||\n",
      "||             Output file : peakcount/s23.hiv.Virma.input.fc                 ||\n",
      "||                 Summary : peakcount/s23.hiv.Virma.input.fc.summary         ||\n",
      "||              Annotation : exomepeak/hiv.control/WINDOW_15_STEP_5_LENGT ... ||\n",
      "||      Dir for temp files : peakcount                                        ||\n",
      "||                                                                            ||\n",
      "||                 Threads : 12                                               ||\n",
      "||                   Level : meta-feature level                               ||\n",
      "||              Paired-end : no                                               ||\n",
      "||         Strand specific : no                                               ||\n",
      "||      Multimapping reads : not counted                                      ||\n",
      "|| Multi-overlapping reads : counted                                          ||\n",
      "||   Min overlapping bases : 1                                                ||\n",
      "||                                                                            ||\n",
      "\\\\===================== http://subread.sourceforge.net/ ======================//\n",
      "\n",
      "//================================= Running ==================================\\\\\n",
      "||                                                                            ||\n",
      "|| Load annotation file exomepeak/hiv.control/WINDOW_15_STEP_5_LENGTH_15_ ... ||\n",
      "||    Features : 14                                                           ||\n",
      "||    Meta-features : 13                                                      ||\n",
      "||    Chromosomes/contigs : 1                                                 ||\n",
      "||                                                                            ||\n",
      "|| Process BAM file bam/s23.hiv.Virma.input.bam...                            ||\n",
      "||    Single-end reads are included.                                          ||\n",
      "||    Assign reads to features...                                             ||\n",
      "||    Total reads : 344233                                                    ||\n",
      "||    Successfully assigned reads : 46194 (13.4%)                             ||\n",
      "||    Running time : 0.01 minutes                                             ||\n",
      "||                                                                            ||\n",
      "||                         Read assignment finished.                          ||\n",
      "||                                                                            ||\n",
      "|| Summary of counting results can be found in file \"peakcount/s23.hiv.Virma  ||\n",
      "|| .input.fc.summary\"                                                         ||\n",
      "||                                                                            ||\n",
      "\\\\===================== http://subread.sourceforge.net/ ======================//\n",
      "\n",
      "\n",
      "        ==========     _____ _    _ ____  _____  ______          _____  \n",
      "        =====         / ____| |  | |  _ \\|  __ \\|  ____|   /\\   |  __ \\ \n",
      "          =====      | (___ | |  | | |_) | |__) | |__     /  \\  | |  | |\n",
      "            ====      \\___ \\| |  | |  _ <|  _  /|  __|   / /\\ \\ | |  | |\n",
      "              ====    ____) | |__| | |_) | | \\ \\| |____ / ____ \\| |__| |\n",
      "        ==========   |_____/ \\____/|____/|_|  \\_\\______/_/    \\_\\_____/\n",
      "\t  v1.6.0\n",
      "\n",
      "//========================== featureCounts setting ===========================\\\\\n",
      "||                                                                            ||\n",
      "||             Input files : 1 BAM file                                       ||\n",
      "||                           S bam/s23.hiv.Virma.m6A.bam                      ||\n",
      "||                                                                            ||\n",
      "||             Output file : peakcount/s23.hiv.Virma.m6A.fc                   ||\n",
      "||                 Summary : peakcount/s23.hiv.Virma.m6A.fc.summary           ||\n",
      "||              Annotation : exomepeak/hiv.control/WINDOW_15_STEP_5_LENGT ... ||\n",
      "||      Dir for temp files : peakcount                                        ||\n",
      "||                                                                            ||\n",
      "||                 Threads : 12                                               ||\n",
      "||                   Level : meta-feature level                               ||\n",
      "||              Paired-end : no                                               ||\n",
      "||         Strand specific : no                                               ||\n",
      "||      Multimapping reads : not counted                                      ||\n",
      "|| Multi-overlapping reads : counted                                          ||\n",
      "||   Min overlapping bases : 1                                                ||\n",
      "||                                                                            ||\n",
      "\\\\===================== http://subread.sourceforge.net/ ======================//\n",
      "\n",
      "//================================= Running ==================================\\\\\n",
      "||                                                                            ||\n",
      "|| Load annotation file exomepeak/hiv.control/WINDOW_15_STEP_5_LENGTH_15_ ... ||\n",
      "||    Features : 14                                                           ||\n",
      "||    Meta-features : 13                                                      ||\n",
      "||    Chromosomes/contigs : 1                                                 ||\n",
      "||                                                                            ||\n",
      "|| Process BAM file bam/s23.hiv.Virma.m6A.bam...                              ||\n",
      "||    Single-end reads are included.                                          ||\n",
      "||    Assign reads to features...                                             ||\n",
      "||    Total reads : 147820                                                    ||\n",
      "||    Successfully assigned reads : 102873 (69.6%)                            ||\n",
      "||    Running time : 0.01 minutes                                             ||\n",
      "||                                                                            ||\n",
      "||                         Read assignment finished.                          ||\n",
      "||                                                                            ||\n",
      "|| Summary of counting results can be found in file \"peakcount/s23.hiv.Virma  ||\n",
      "|| .m6A.fc.summary\"                                                           ||\n",
      "||                                                                            ||\n",
      "\\\\===================== http://subread.sourceforge.net/ ======================//\n",
      "\n",
      "\n",
      "        ==========     _____ _    _ ____  _____  ______          _____  \n",
      "        =====         / ____| |  | |  _ \\|  __ \\|  ____|   /\\   |  __ \\ \n",
      "          =====      | (___ | |  | | |_) | |__) | |__     /  \\  | |  | |\n",
      "            ====      \\___ \\| |  | |  _ <|  _  /|  __|   / /\\ \\ | |  | |\n",
      "              ====    ____) | |__| | |_) | | \\ \\| |____ / ____ \\| |__| |\n",
      "        ==========   |_____/ \\____/|____/|_|  \\_\\______/_/    \\_\\_____/\n",
      "\t  v1.6.0\n",
      "\n",
      "//========================== featureCounts setting ===========================\\\\\n",
      "||                                                                            ||\n",
      "||             Input files : 1 BAM file                                       ||\n",
      "||                           S bam/s24.hiv.Virma.input.bam                    ||\n",
      "||                                                                            ||\n",
      "||             Output file : peakcount/s24.hiv.Virma.input.fc                 ||\n",
      "||                 Summary : peakcount/s24.hiv.Virma.input.fc.summary         ||\n",
      "||              Annotation : exomepeak/hiv.control/WINDOW_15_STEP_5_LENGT ... ||\n",
      "||      Dir for temp files : peakcount                                        ||\n",
      "||                                                                            ||\n",
      "||                 Threads : 12                                               ||\n",
      "||                   Level : meta-feature level                               ||\n",
      "||              Paired-end : no                                               ||\n",
      "||         Strand specific : no                                               ||\n",
      "||      Multimapping reads : not counted                                      ||\n",
      "|| Multi-overlapping reads : counted                                          ||\n",
      "||   Min overlapping bases : 1                                                ||\n",
      "||                                                                            ||\n",
      "\\\\===================== http://subread.sourceforge.net/ ======================//\n",
      "\n",
      "//================================= Running ==================================\\\\\n",
      "||                                                                            ||\n",
      "|| Load annotation file exomepeak/hiv.control/WINDOW_15_STEP_5_LENGTH_15_ ... ||\n",
      "||    Features : 14                                                           ||\n",
      "||    Meta-features : 13                                                      ||\n",
      "||    Chromosomes/contigs : 1                                                 ||\n",
      "||                                                                            ||\n",
      "|| Process BAM file bam/s24.hiv.Virma.input.bam...                            ||\n",
      "||    Single-end reads are included.                                          ||\n",
      "||    Assign reads to features...                                             ||\n",
      "||    Total reads : 227101                                                    ||\n",
      "||    Successfully assigned reads : 31200 (13.7%)                             ||\n",
      "||    Running time : 0.01 minutes                                             ||\n",
      "||                                                                            ||\n",
      "||                         Read assignment finished.                          ||\n",
      "||                                                                            ||\n",
      "|| Summary of counting results can be found in file \"peakcount/s24.hiv.Virma  ||\n",
      "|| .input.fc.summary\"                                                         ||\n",
      "||                                                                            ||\n",
      "\\\\===================== http://subread.sourceforge.net/ ======================//\n",
      "\n",
      "\n",
      "        ==========     _____ _    _ ____  _____  ______          _____  \n",
      "        =====         / ____| |  | |  _ \\|  __ \\|  ____|   /\\   |  __ \\ \n",
      "          =====      | (___ | |  | | |_) | |__) | |__     /  \\  | |  | |\n",
      "            ====      \\___ \\| |  | |  _ <|  _  /|  __|   / /\\ \\ | |  | |\n",
      "              ====    ____) | |__| | |_) | | \\ \\| |____ / ____ \\| |__| |\n",
      "        ==========   |_____/ \\____/|____/|_|  \\_\\______/_/    \\_\\_____/\n",
      "\t  v1.6.0\n",
      "\n",
      "//========================== featureCounts setting ===========================\\\\\n",
      "||                                                                            ||\n",
      "||             Input files : 1 BAM file                                       ||\n",
      "||                           S bam/s24.hiv.Virma.m6A.bam                      ||\n",
      "||                                                                            ||\n",
      "||             Output file : peakcount/s24.hiv.Virma.m6A.fc                   ||\n",
      "||                 Summary : peakcount/s24.hiv.Virma.m6A.fc.summary           ||\n",
      "||              Annotation : exomepeak/hiv.control/WINDOW_15_STEP_5_LENGT ... ||\n",
      "||      Dir for temp files : peakcount                                        ||\n",
      "||                                                                            ||\n",
      "||                 Threads : 12                                               ||\n",
      "||                   Level : meta-feature level                               ||\n",
      "||              Paired-end : no                                               ||\n",
      "||         Strand specific : no                                               ||\n",
      "||      Multimapping reads : not counted                                      ||\n",
      "|| Multi-overlapping reads : counted                                          ||\n",
      "||   Min overlapping bases : 1                                                ||\n",
      "||                                                                            ||\n",
      "\\\\===================== http://subread.sourceforge.net/ ======================//\n",
      "\n",
      "//================================= Running ==================================\\\\\n",
      "||                                                                            ||\n",
      "|| Load annotation file exomepeak/hiv.control/WINDOW_15_STEP_5_LENGTH_15_ ... ||\n",
      "||    Features : 14                                                           ||\n",
      "||    Meta-features : 13                                                      ||\n",
      "||    Chromosomes/contigs : 1                                                 ||\n",
      "||                                                                            ||\n",
      "|| Process BAM file bam/s24.hiv.Virma.m6A.bam...                              ||\n",
      "||    Single-end reads are included.                                          ||\n",
      "||    Assign reads to features...                                             ||\n",
      "||    Total reads : 109372                                                    ||\n",
      "||    Successfully assigned reads : 74996 (68.6%)                             ||\n",
      "||    Running time : 0.00 minutes                                             ||\n",
      "||                                                                            ||\n",
      "||                         Read assignment finished.                          ||\n",
      "||                                                                            ||\n",
      "|| Summary of counting results can be found in file \"peakcount/s24.hiv.Virma  ||\n",
      "|| .m6A.fc.summary\"                                                           ||\n",
      "||                                                                            ||\n",
      "\\\\===================== http://subread.sourceforge.net/ ======================//\n",
      "\n",
      "\n",
      "        ==========     _____ _    _ ____  _____  ______          _____  \n",
      "        =====         / ____| |  | |  _ \\|  __ \\|  ____|   /\\   |  __ \\ \n",
      "          =====      | (___ | |  | | |_) | |__) | |__     /  \\  | |  | |\n",
      "            ====      \\___ \\| |  | |  _ <|  _  /|  __|   / /\\ \\ | |  | |\n",
      "              ====    ____) | |__| | |_) | | \\ \\| |____ / ____ \\| |__| |\n",
      "        ==========   |_____/ \\____/|____/|_|  \\_\\______/_/    \\_\\_____/\n",
      "\t  v1.6.0\n",
      "\n",
      "//========================== featureCounts setting ===========================\\\\\n",
      "||                                                                            ||\n",
      "||             Input files : 1 BAM file                                       ||\n",
      "||                           S bam/s23.hiv.WTAP.input.bam                     ||\n",
      "||                                                                            ||\n",
      "||             Output file : peakcount/s23.hiv.WTAP.input.fc                  ||\n",
      "||                 Summary : peakcount/s23.hiv.WTAP.input.fc.summary          ||\n",
      "||              Annotation : exomepeak/hiv.control/WINDOW_15_STEP_5_LENGT ... ||\n",
      "||      Dir for temp files : peakcount                                        ||\n",
      "||                                                                            ||\n",
      "||                 Threads : 12                                               ||\n",
      "||                   Level : meta-feature level                               ||\n",
      "||              Paired-end : no                                               ||\n",
      "||         Strand specific : no                                               ||\n",
      "||      Multimapping reads : not counted                                      ||\n",
      "|| Multi-overlapping reads : counted                                          ||\n",
      "||   Min overlapping bases : 1                                                ||\n",
      "||                                                                            ||\n",
      "\\\\===================== http://subread.sourceforge.net/ ======================//\n",
      "\n",
      "//================================= Running ==================================\\\\\n",
      "||                                                                            ||\n",
      "|| Load annotation file exomepeak/hiv.control/WINDOW_15_STEP_5_LENGTH_15_ ... ||\n",
      "||    Features : 14                                                           ||\n",
      "||    Meta-features : 13                                                      ||\n",
      "||    Chromosomes/contigs : 1                                                 ||\n",
      "||                                                                            ||\n",
      "|| Process BAM file bam/s23.hiv.WTAP.input.bam...                             ||\n",
      "||    Single-end reads are included.                                          ||\n",
      "||    Assign reads to features...                                             ||\n",
      "||    Total reads : 388294                                                    ||\n",
      "||    Successfully assigned reads : 50175 (12.9%)                             ||\n",
      "||    Running time : 0.01 minutes                                             ||\n",
      "||                                                                            ||\n",
      "||                         Read assignment finished.                          ||\n",
      "||                                                                            ||\n",
      "|| Summary of counting results can be found in file \"peakcount/s23.hiv.WTAP.  ||\n",
      "|| input.fc.summary\"                                                          ||\n",
      "||                                                                            ||\n",
      "\\\\===================== http://subread.sourceforge.net/ ======================//\n",
      "\n",
      "\n",
      "        ==========     _____ _    _ ____  _____  ______          _____  \n",
      "        =====         / ____| |  | |  _ \\|  __ \\|  ____|   /\\   |  __ \\ \n",
      "          =====      | (___ | |  | | |_) | |__) | |__     /  \\  | |  | |\n",
      "            ====      \\___ \\| |  | |  _ <|  _  /|  __|   / /\\ \\ | |  | |\n",
      "              ====    ____) | |__| | |_) | | \\ \\| |____ / ____ \\| |__| |\n",
      "        ==========   |_____/ \\____/|____/|_|  \\_\\______/_/    \\_\\_____/\n",
      "\t  v1.6.0\n",
      "\n",
      "//========================== featureCounts setting ===========================\\\\\n",
      "||                                                                            ||\n",
      "||             Input files : 1 BAM file                                       ||\n",
      "||                           S bam/s23.hiv.WTAP.m6A.bam                       ||\n",
      "||                                                                            ||\n",
      "||             Output file : peakcount/s23.hiv.WTAP.m6A.fc                    ||\n",
      "||                 Summary : peakcount/s23.hiv.WTAP.m6A.fc.summary            ||\n",
      "||              Annotation : exomepeak/hiv.control/WINDOW_15_STEP_5_LENGT ... ||\n",
      "||      Dir for temp files : peakcount                                        ||\n",
      "||                                                                            ||\n",
      "||                 Threads : 12                                               ||\n",
      "||                   Level : meta-feature level                               ||\n",
      "||              Paired-end : no                                               ||\n",
      "||         Strand specific : no                                               ||\n",
      "||      Multimapping reads : not counted                                      ||\n",
      "|| Multi-overlapping reads : counted                                          ||\n",
      "||   Min overlapping bases : 1                                                ||\n",
      "||                                                                            ||\n",
      "\\\\===================== http://subread.sourceforge.net/ ======================//\n",
      "\n",
      "//================================= Running ==================================\\\\\n",
      "||                                                                            ||\n",
      "|| Load annotation file exomepeak/hiv.control/WINDOW_15_STEP_5_LENGTH_15_ ... ||\n",
      "||    Features : 14                                                           ||\n",
      "||    Meta-features : 13                                                      ||\n",
      "||    Chromosomes/contigs : 1                                                 ||\n",
      "||                                                                            ||\n",
      "|| Process BAM file bam/s23.hiv.WTAP.m6A.bam...                               ||\n",
      "||    Single-end reads are included.                                          ||\n",
      "||    Assign reads to features...                                             ||\n",
      "||    Total reads : 153240                                                    ||\n",
      "||    Successfully assigned reads : 96807 (63.2%)                             ||\n",
      "||    Running time : 0.01 minutes                                             ||\n",
      "||                                                                            ||\n",
      "||                         Read assignment finished.                          ||\n",
      "||                                                                            ||\n",
      "|| Summary of counting results can be found in file \"peakcount/s23.hiv.WTAP.  ||\n",
      "|| m6A.fc.summary\"                                                            ||\n",
      "||                                                                            ||\n",
      "\\\\===================== http://subread.sourceforge.net/ ======================//\n",
      "\n",
      "\n",
      "        ==========     _____ _    _ ____  _____  ______          _____  \n",
      "        =====         / ____| |  | |  _ \\|  __ \\|  ____|   /\\   |  __ \\ \n",
      "          =====      | (___ | |  | | |_) | |__) | |__     /  \\  | |  | |\n",
      "            ====      \\___ \\| |  | |  _ <|  _  /|  __|   / /\\ \\ | |  | |\n",
      "              ====    ____) | |__| | |_) | | \\ \\| |____ / ____ \\| |__| |\n",
      "        ==========   |_____/ \\____/|____/|_|  \\_\\______/_/    \\_\\_____/\n",
      "\t  v1.6.0\n",
      "\n",
      "//========================== featureCounts setting ===========================\\\\\n",
      "||                                                                            ||\n",
      "||             Input files : 1 BAM file                                       ||\n",
      "||                           S bam/s24.hiv.WTAP.input.bam                     ||\n",
      "||                                                                            ||\n",
      "||             Output file : peakcount/s24.hiv.WTAP.input.fc                  ||\n",
      "||                 Summary : peakcount/s24.hiv.WTAP.input.fc.summary          ||\n",
      "||              Annotation : exomepeak/hiv.control/WINDOW_15_STEP_5_LENGT ... ||\n",
      "||      Dir for temp files : peakcount                                        ||\n",
      "||                                                                            ||\n",
      "||                 Threads : 12                                               ||\n",
      "||                   Level : meta-feature level                               ||\n",
      "||              Paired-end : no                                               ||\n",
      "||         Strand specific : no                                               ||\n",
      "||      Multimapping reads : not counted                                      ||\n",
      "|| Multi-overlapping reads : counted                                          ||\n",
      "||   Min overlapping bases : 1                                                ||\n",
      "||                                                                            ||\n",
      "\\\\===================== http://subread.sourceforge.net/ ======================//\n",
      "\n",
      "//================================= Running ==================================\\\\\n",
      "||                                                                            ||\n",
      "|| Load annotation file exomepeak/hiv.control/WINDOW_15_STEP_5_LENGTH_15_ ... ||\n",
      "||    Features : 14                                                           ||\n",
      "||    Meta-features : 13                                                      ||\n",
      "||    Chromosomes/contigs : 1                                                 ||\n",
      "||                                                                            ||\n",
      "|| Process BAM file bam/s24.hiv.WTAP.input.bam...                             ||\n",
      "||    Single-end reads are included.                                          ||\n",
      "||    Assign reads to features...                                             ||\n",
      "||    Total reads : 237696                                                    ||\n",
      "||    Successfully assigned reads : 33822 (14.2%)                             ||\n",
      "||    Running time : 0.01 minutes                                             ||\n",
      "||                                                                            ||\n",
      "||                         Read assignment finished.                          ||\n",
      "||                                                                            ||\n",
      "|| Summary of counting results can be found in file \"peakcount/s24.hiv.WTAP.  ||\n",
      "|| input.fc.summary\"                                                          ||\n",
      "||                                                                            ||\n",
      "\\\\===================== http://subread.sourceforge.net/ ======================//\n",
      "\n",
      "\n",
      "        ==========     _____ _    _ ____  _____  ______          _____  \n",
      "        =====         / ____| |  | |  _ \\|  __ \\|  ____|   /\\   |  __ \\ \n",
      "          =====      | (___ | |  | | |_) | |__) | |__     /  \\  | |  | |\n",
      "            ====      \\___ \\| |  | |  _ <|  _  /|  __|   / /\\ \\ | |  | |\n",
      "              ====    ____) | |__| | |_) | | \\ \\| |____ / ____ \\| |__| |\n",
      "        ==========   |_____/ \\____/|____/|_|  \\_\\______/_/    \\_\\_____/\n",
      "\t  v1.6.0\n",
      "\n",
      "//========================== featureCounts setting ===========================\\\\\n",
      "||                                                                            ||\n",
      "||             Input files : 1 BAM file                                       ||\n",
      "||                           S bam/s24.hiv.WTAP.m6A.bam                       ||\n",
      "||                                                                            ||\n",
      "||             Output file : peakcount/s24.hiv.WTAP.m6A.fc                    ||\n",
      "||                 Summary : peakcount/s24.hiv.WTAP.m6A.fc.summary            ||\n",
      "||              Annotation : exomepeak/hiv.control/WINDOW_15_STEP_5_LENGT ... ||\n",
      "||      Dir for temp files : peakcount                                        ||\n",
      "||                                                                            ||\n",
      "||                 Threads : 12                                               ||\n",
      "||                   Level : meta-feature level                               ||\n",
      "||              Paired-end : no                                               ||\n",
      "||         Strand specific : no                                               ||\n",
      "||      Multimapping reads : not counted                                      ||\n",
      "|| Multi-overlapping reads : counted                                          ||\n",
      "||   Min overlapping bases : 1                                                ||\n",
      "||                                                                            ||\n",
      "\\\\===================== http://subread.sourceforge.net/ ======================//\n",
      "\n",
      "//================================= Running ==================================\\\\\n",
      "||                                                                            ||\n",
      "|| Load annotation file exomepeak/hiv.control/WINDOW_15_STEP_5_LENGTH_15_ ... ||\n",
      "||    Features : 14                                                           ||\n",
      "||    Meta-features : 13                                                      ||\n",
      "||    Chromosomes/contigs : 1                                                 ||\n",
      "||                                                                            ||\n",
      "|| Process BAM file bam/s24.hiv.WTAP.m6A.bam...                               ||\n",
      "||    Single-end reads are included.                                          ||\n",
      "||    Assign reads to features...                                             ||\n",
      "||    Total reads : 117554                                                    ||\n",
      "||    Successfully assigned reads : 77494 (65.9%)                             ||\n",
      "||    Running time : 0.01 minutes                                             ||\n",
      "||                                                                            ||\n",
      "||                         Read assignment finished.                          ||\n",
      "||                                                                            ||\n",
      "|| Summary of counting results can be found in file \"peakcount/s24.hiv.WTAP.  ||\n",
      "|| m6A.fc.summary\"                                                            ||\n",
      "||                                                                            ||\n",
      "\\\\===================== http://subread.sourceforge.net/ ======================//\n",
      "\n",
      "\n",
      "        ==========     _____ _    _ ____  _____  ______          _____  \n",
      "        =====         / ____| |  | |  _ \\|  __ \\|  ____|   /\\   |  __ \\ \n",
      "          =====      | (___ | |  | | |_) | |__) | |__     /  \\  | |  | |\n",
      "            ====      \\___ \\| |  | |  _ <|  _  /|  __|   / /\\ \\ | |  | |\n",
      "              ====    ____) | |__| | |_) | | \\ \\| |____ / ____ \\| |__| |\n",
      "        ==========   |_____/ \\____/|____/|_|  \\_\\______/_/    \\_\\_____/\n",
      "\t  v1.6.0\n",
      "\n",
      "//========================== featureCounts setting ===========================\\\\\n",
      "||                                                                            ||\n",
      "||             Input files : 1 BAM file                                       ||\n",
      "||                           S bam/s23.hiv.NT.input.bam                       ||\n",
      "||                                                                            ||\n",
      "||             Output file : peakcount/s23.hiv.NT.input.fc                    ||\n",
      "||                 Summary : peakcount/s23.hiv.NT.input.fc.summary            ||\n",
      "||              Annotation : exomepeak/hiv.control/WINDOW_15_STEP_5_LENGT ... ||\n",
      "||      Dir for temp files : peakcount                                        ||\n",
      "||                                                                            ||\n",
      "||                 Threads : 12                                               ||\n",
      "||                   Level : meta-feature level                               ||\n",
      "||              Paired-end : no                                               ||\n",
      "||         Strand specific : no                                               ||\n",
      "||      Multimapping reads : not counted                                      ||\n",
      "|| Multi-overlapping reads : counted                                          ||\n",
      "||   Min overlapping bases : 1                                                ||\n",
      "||                                                                            ||\n",
      "\\\\===================== http://subread.sourceforge.net/ ======================//\n",
      "\n",
      "//================================= Running ==================================\\\\\n",
      "||                                                                            ||\n",
      "|| Load annotation file exomepeak/hiv.control/WINDOW_15_STEP_5_LENGTH_15_ ... ||\n",
      "||    Features : 14                                                           ||\n",
      "||    Meta-features : 13                                                      ||\n",
      "||    Chromosomes/contigs : 1                                                 ||\n",
      "||                                                                            ||\n",
      "|| Process BAM file bam/s23.hiv.NT.input.bam...                               ||\n",
      "||    Single-end reads are included.                                          ||\n",
      "||    Assign reads to features...                                             ||\n",
      "||    Total reads : 176834                                                    ||\n",
      "||    Successfully assigned reads : 23629 (13.4%)                             ||\n",
      "||    Running time : 0.01 minutes                                             ||\n",
      "||                                                                            ||\n",
      "||                         Read assignment finished.                          ||\n",
      "||                                                                            ||\n",
      "|| Summary of counting results can be found in file \"peakcount/s23.hiv.NT.in  ||\n",
      "|| put.fc.summary\"                                                            ||\n",
      "||                                                                            ||\n",
      "\\\\===================== http://subread.sourceforge.net/ ======================//\n",
      "\n",
      "\n",
      "        ==========     _____ _    _ ____  _____  ______          _____  \n",
      "        =====         / ____| |  | |  _ \\|  __ \\|  ____|   /\\   |  __ \\ \n",
      "          =====      | (___ | |  | | |_) | |__) | |__     /  \\  | |  | |\n",
      "            ====      \\___ \\| |  | |  _ <|  _  /|  __|   / /\\ \\ | |  | |\n",
      "              ====    ____) | |__| | |_) | | \\ \\| |____ / ____ \\| |__| |\n",
      "        ==========   |_____/ \\____/|____/|_|  \\_\\______/_/    \\_\\_____/\n",
      "\t  v1.6.0\n",
      "\n",
      "//========================== featureCounts setting ===========================\\\\\n",
      "||                                                                            ||\n",
      "||             Input files : 1 BAM file                                       ||\n",
      "||                           S bam/s23.hiv.NT.m6A.bam                         ||\n",
      "||                                                                            ||\n",
      "||             Output file : peakcount/s23.hiv.NT.m6A.fc                      ||\n",
      "||                 Summary : peakcount/s23.hiv.NT.m6A.fc.summary              ||\n",
      "||              Annotation : exomepeak/hiv.control/WINDOW_15_STEP_5_LENGT ... ||\n",
      "||      Dir for temp files : peakcount                                        ||\n",
      "||                                                                            ||\n",
      "||                 Threads : 12                                               ||\n",
      "||                   Level : meta-feature level                               ||\n",
      "||              Paired-end : no                                               ||\n",
      "||         Strand specific : no                                               ||\n",
      "||      Multimapping reads : not counted                                      ||\n",
      "|| Multi-overlapping reads : counted                                          ||\n",
      "||   Min overlapping bases : 1                                                ||\n",
      "||                                                                            ||\n",
      "\\\\===================== http://subread.sourceforge.net/ ======================//\n",
      "\n",
      "//================================= Running ==================================\\\\\n",
      "||                                                                            ||\n",
      "|| Load annotation file exomepeak/hiv.control/WINDOW_15_STEP_5_LENGTH_15_ ... ||\n",
      "||    Features : 14                                                           ||\n",
      "||    Meta-features : 13                                                      ||\n",
      "||    Chromosomes/contigs : 1                                                 ||\n",
      "||                                                                            ||\n",
      "|| Process BAM file bam/s23.hiv.NT.m6A.bam...                                 ||\n",
      "||    Single-end reads are included.                                          ||\n",
      "||    Assign reads to features...                                             ||\n",
      "||    Total reads : 138915                                                    ||\n",
      "||    Successfully assigned reads : 101577 (73.1%)                            ||\n",
      "||    Running time : 0.01 minutes                                             ||\n",
      "||                                                                            ||\n",
      "||                         Read assignment finished.                          ||\n",
      "||                                                                            ||\n",
      "|| Summary of counting results can be found in file \"peakcount/s23.hiv.NT.m6  ||\n",
      "|| A.fc.summary\"                                                              ||\n",
      "||                                                                            ||\n",
      "\\\\===================== http://subread.sourceforge.net/ ======================//\n",
      "\n",
      "\n",
      "        ==========     _____ _    _ ____  _____  ______          _____  \n",
      "        =====         / ____| |  | |  _ \\|  __ \\|  ____|   /\\   |  __ \\ \n",
      "          =====      | (___ | |  | | |_) | |__) | |__     /  \\  | |  | |\n",
      "            ====      \\___ \\| |  | |  _ <|  _  /|  __|   / /\\ \\ | |  | |\n",
      "              ====    ____) | |__| | |_) | | \\ \\| |____ / ____ \\| |__| |\n",
      "        ==========   |_____/ \\____/|____/|_|  \\_\\______/_/    \\_\\_____/\n",
      "\t  v1.6.0\n",
      "\n",
      "//========================== featureCounts setting ===========================\\\\\n",
      "||                                                                            ||\n",
      "||             Input files : 1 BAM file                                       ||\n",
      "||                           S bam/s24.hiv.NT.input.bam                       ||\n",
      "||                                                                            ||\n",
      "||             Output file : peakcount/s24.hiv.NT.input.fc                    ||\n",
      "||                 Summary : peakcount/s24.hiv.NT.input.fc.summary            ||\n",
      "||              Annotation : exomepeak/hiv.control/WINDOW_15_STEP_5_LENGT ... ||\n",
      "||      Dir for temp files : peakcount                                        ||\n",
      "||                                                                            ||\n",
      "||                 Threads : 12                                               ||\n",
      "||                   Level : meta-feature level                               ||\n",
      "||              Paired-end : no                                               ||\n",
      "||         Strand specific : no                                               ||\n",
      "||      Multimapping reads : not counted                                      ||\n",
      "|| Multi-overlapping reads : counted                                          ||\n",
      "||   Min overlapping bases : 1                                                ||\n",
      "||                                                                            ||\n",
      "\\\\===================== http://subread.sourceforge.net/ ======================//\n",
      "\n",
      "//================================= Running ==================================\\\\\n",
      "||                                                                            ||\n",
      "|| Load annotation file exomepeak/hiv.control/WINDOW_15_STEP_5_LENGTH_15_ ... ||\n",
      "||    Features : 14                                                           ||\n",
      "||    Meta-features : 13                                                      ||\n",
      "||    Chromosomes/contigs : 1                                                 ||\n",
      "||                                                                            ||\n",
      "|| Process BAM file bam/s24.hiv.NT.input.bam...                               ||\n",
      "||    Single-end reads are included.                                          ||\n",
      "||    Assign reads to features...                                             ||\n",
      "||    Total reads : 236207                                                    ||\n",
      "||    Successfully assigned reads : 32379 (13.7%)                             ||\n",
      "||    Running time : 0.01 minutes                                             ||\n",
      "||                                                                            ||\n",
      "||                         Read assignment finished.                          ||\n",
      "||                                                                            ||\n",
      "|| Summary of counting results can be found in file \"peakcount/s24.hiv.NT.in  ||\n",
      "|| put.fc.summary\"                                                            ||\n",
      "||                                                                            ||\n",
      "\\\\===================== http://subread.sourceforge.net/ ======================//\n",
      "\n",
      "\n",
      "        ==========     _____ _    _ ____  _____  ______          _____  \n",
      "        =====         / ____| |  | |  _ \\|  __ \\|  ____|   /\\   |  __ \\ \n",
      "          =====      | (___ | |  | | |_) | |__) | |__     /  \\  | |  | |\n",
      "            ====      \\___ \\| |  | |  _ <|  _  /|  __|   / /\\ \\ | |  | |\n",
      "              ====    ____) | |__| | |_) | | \\ \\| |____ / ____ \\| |__| |\n",
      "        ==========   |_____/ \\____/|____/|_|  \\_\\______/_/    \\_\\_____/\n",
      "\t  v1.6.0\n",
      "\n",
      "//========================== featureCounts setting ===========================\\\\\n",
      "||                                                                            ||\n",
      "||             Input files : 1 BAM file                                       ||\n",
      "||                           S bam/s24.hiv.NT.m6A.bam                         ||\n",
      "||                                                                            ||\n",
      "||             Output file : peakcount/s24.hiv.NT.m6A.fc                      ||\n",
      "||                 Summary : peakcount/s24.hiv.NT.m6A.fc.summary              ||\n",
      "||              Annotation : exomepeak/hiv.control/WINDOW_15_STEP_5_LENGT ... ||\n",
      "||      Dir for temp files : peakcount                                        ||\n",
      "||                                                                            ||\n",
      "||                 Threads : 12                                               ||\n",
      "||                   Level : meta-feature level                               ||\n",
      "||              Paired-end : no                                               ||\n",
      "||         Strand specific : no                                               ||\n",
      "||      Multimapping reads : not counted                                      ||\n",
      "|| Multi-overlapping reads : counted                                          ||\n",
      "||   Min overlapping bases : 1                                                ||\n",
      "||                                                                            ||\n",
      "\\\\===================== http://subread.sourceforge.net/ ======================//\n",
      "\n",
      "//================================= Running ==================================\\\\\n",
      "||                                                                            ||\n",
      "|| Load annotation file exomepeak/hiv.control/WINDOW_15_STEP_5_LENGTH_15_ ... ||\n",
      "||    Features : 14                                                           ||\n",
      "||    Meta-features : 13                                                      ||\n",
      "||    Chromosomes/contigs : 1                                                 ||\n",
      "||                                                                            ||\n",
      "|| Process BAM file bam/s24.hiv.NT.m6A.bam...                                 ||\n",
      "||    Single-end reads are included.                                          ||\n",
      "||    Assign reads to features...                                             ||\n",
      "||    Total reads : 110166                                                    ||\n",
      "||    Successfully assigned reads : 79136 (71.8%)                             ||\n",
      "||    Running time : 0.01 minutes                                             ||\n",
      "||                                                                            ||\n",
      "||                         Read assignment finished.                          ||\n",
      "||                                                                            ||\n",
      "|| Summary of counting results can be found in file \"peakcount/s24.hiv.NT.m6  ||\n",
      "|| A.fc.summary\"                                                              ||\n",
      "||                                                                            ||\n",
      "\\\\===================== http://subread.sourceforge.net/ ======================//\n",
      "\n"
     ]
    }
   ],
   "source": [
    "%%bash\n",
    "declare -a StringArray=('METTL14' 'METTL3' 'Virma' 'WTAP' 'NT')\n",
    "for enz in \"${StringArray[@]}\"; \n",
    "    do for f in bam/*hiv.$enz*.bam; \n",
    "        do out=${f/.bam/.fc}; out=${out/bam/peakcount};             \n",
    "#             echo bamToBed -i $f $out # | \\\n",
    "#             intersectBed -s -wo -a - -b exomepeak/hiv.control/WINDOW_15_STEP_5_LENGTH_15_FDR_0.01_ENRICH_0.1/peak.bed | \\\n",
    "#             cut -f10 | sort | uniq -c | awk '{ print $2 \"\\t\" $1}' # > $out\n",
    "            featureCounts -T 12 -O -t exon -g gene_id \\\n",
    "            -a exomepeak/hiv.control/WINDOW_15_STEP_5_LENGTH_15_FDR_0.01_ENRICH_0.1/peak.gtf \\\n",
    "            -o $out $f;\n",
    "    done;\n",
    "done"
   ]
  },
  {
   "cell_type": "code",
   "execution_count": 21,
   "metadata": {},
   "outputs": [],
   "source": [
    "%reload_ext rpy2.ipython"
   ]
  },
  {
   "cell_type": "code",
   "execution_count": 28,
   "metadata": {},
   "outputs": [],
   "source": [
    "%%R\n",
    "library(DESeq2)\n",
    "library(ggplot2)\n",
    "library(tidyverse)\n",
    "library(pheatmap)"
   ]
  },
  {
   "cell_type": "code",
   "execution_count": 29,
   "metadata": {},
   "outputs": [
    {
     "name": "stdout",
     "output_type": "stream",
     "text": [
      "                           cond\n",
      "s23.METTL14.input METTL14.input\n",
      "s23.METTL14.m6A     METTL14.m6A\n",
      "s23.METTL3.input   METTL3.input\n",
      "s23.METTL3.m6A       METTL3.m6A\n",
      "s23.NT.input           NT.input\n",
      "s23.NT.m6A               NT.m6A\n",
      "s23.Virma.input     Virma.input\n",
      "s23.Virma.m6A         Virma.m6A\n",
      "s23.WTAP.input       WTAP.input\n",
      "s23.WTAP.m6A           WTAP.m6A\n",
      "s24.METTL14.input METTL14.input\n",
      "s24.METTL14.m6A     METTL14.m6A\n",
      "s24.METTL3.input   METTL3.input\n",
      "s24.METTL3.m6A       METTL3.m6A\n",
      "s24.NT.input           NT.input\n",
      "s24.NT.m6A               NT.m6A\n",
      "s24.Virma.input     Virma.input\n",
      "s24.Virma.m6A         Virma.m6A\n",
      "s24.WTAP.input       WTAP.input\n",
      "s24.WTAP.m6A           WTAP.m6A\n"
     ]
    }
   ],
   "source": [
    "%%R \n",
    "files <- grep('hiv', list.files(path = \"peakcount/\", pattern=\".fc$\") , value=TRUE)\n",
    "# meta\n",
    "reps <- c(rep('s23',10),rep('s24',10))\n",
    "ip <- rep(c('input','m6A'),10)\n",
    "treatment <- rep(unlist(lapply(c('METTL14','METTL3','NT','Virma','WTAP'), rep, 2)),2)\n",
    "conds <- paste(treatment,ip,sep='.')\n",
    "all_conds <- paste(reps,treatment, ip, sep='.')\n",
    "# read peak counts  \n",
    "datalist <- lapply(files, function(x){read.table(file=paste('peakcount/', x, sep = \"\"),skip=1,sep='\\t',header=TRUE,colClasses=c(NA, \"NULL\", \"NULL\", \"NULL\", \"NULL\", \"NULL\", NA),check.names=F)})\n",
    "m <- Reduce(function(...) merge(..., by=1, all = TRUE), datalist)\n",
    "rownames(m) <- m[,1]\n",
    "m <- m[,-1]\n",
    "m[is.na(m)]<-0\n",
    "m <- round(m)\n",
    "colnames(m) <- all_conds\n",
    "colData <- data.frame(cond = conds, row.names=colnames(m))\n",
    "colData"
   ]
  },
  {
   "cell_type": "markdown",
   "metadata": {},
   "source": [
    "using `DESeq2` to find differential methylation peaks: \n",
    "\n",
    "### Contrast design: $\\frac{m6A^{treated}}{input^{treated}}$ vs.$\\frac{m6A^{nontreated}}{input^{nontreated}}$"
   ]
  },
  {
   "cell_type": "code",
   "execution_count": 132,
   "metadata": {
    "scrolled": true
   },
   "outputs": [
    {
     "name": "stderr",
     "output_type": "stream",
     "text": [
      "R[write to console]: converting counts to integer mode\n",
      "\n",
      "R[write to console]: estimating size factors\n",
      "\n",
      "R[write to console]: estimating dispersions\n",
      "\n",
      "R[write to console]: gene-wise dispersion estimates\n",
      "\n",
      "R[write to console]: mean-dispersion relationship\n",
      "\n",
      "R[write to console]: final dispersion estimates\n",
      "\n",
      "R[write to console]: fitting model and testing\n",
      "\n",
      "R[write to console]: found already estimated dispersions, replacing these\n",
      "\n",
      "R[write to console]: gene-wise dispersion estimates\n",
      "\n",
      "R[write to console]: mean-dispersion relationship\n",
      "\n",
      "R[write to console]: final dispersion estimates\n",
      "\n",
      "R[write to console]: -- note: fitType='parametric', but the dispersion trend was not well captured by the\n",
      "   function: y = a/x + b, and a local regression fit was automatically substituted.\n",
      "   specify fitType='local' or 'mean' to avoid this message next time.\n",
      "\n",
      "R[write to console]: converting counts to integer mode\n",
      "\n",
      "R[write to console]: estimating size factors\n",
      "\n",
      "R[write to console]: estimating dispersions\n",
      "\n",
      "R[write to console]: gene-wise dispersion estimates\n",
      "\n",
      "R[write to console]: mean-dispersion relationship\n",
      "\n",
      "R[write to console]: final dispersion estimates\n",
      "\n",
      "R[write to console]: fitting model and testing\n",
      "\n",
      "R[write to console]: found already estimated dispersions, replacing these\n",
      "\n",
      "R[write to console]: gene-wise dispersion estimates\n",
      "\n",
      "R[write to console]: mean-dispersion relationship\n",
      "\n",
      "R[write to console]: final dispersion estimates\n",
      "\n",
      "R[write to console]: -- note: fitType='parametric', but the dispersion trend was not well captured by the\n",
      "   function: y = a/x + b, and a local regression fit was automatically substituted.\n",
      "   specify fitType='local' or 'mean' to avoid this message next time.\n",
      "\n",
      "R[write to console]: converting counts to integer mode\n",
      "\n",
      "R[write to console]: estimating size factors\n",
      "\n",
      "R[write to console]: estimating dispersions\n",
      "\n",
      "R[write to console]: gene-wise dispersion estimates\n",
      "\n",
      "R[write to console]: mean-dispersion relationship\n",
      "\n",
      "R[write to console]: final dispersion estimates\n",
      "\n",
      "R[write to console]: fitting model and testing\n",
      "\n",
      "R[write to console]: found already estimated dispersions, replacing these\n",
      "\n",
      "R[write to console]: gene-wise dispersion estimates\n",
      "\n",
      "R[write to console]: mean-dispersion relationship\n",
      "\n",
      "R[write to console]: final dispersion estimates\n",
      "\n",
      "R[write to console]: -- note: fitType='parametric', but the dispersion trend was not well captured by the\n",
      "   function: y = a/x + b, and a local regression fit was automatically substituted.\n",
      "   specify fitType='local' or 'mean' to avoid this message next time.\n",
      "\n",
      "R[write to console]: converting counts to integer mode\n",
      "\n",
      "R[write to console]: estimating size factors\n",
      "\n",
      "R[write to console]: estimating dispersions\n",
      "\n",
      "R[write to console]: gene-wise dispersion estimates\n",
      "\n",
      "R[write to console]: mean-dispersion relationship\n",
      "\n",
      "R[write to console]: final dispersion estimates\n",
      "\n",
      "R[write to console]: fitting model and testing\n",
      "\n",
      "R[write to console]: found already estimated dispersions, replacing these\n",
      "\n",
      "R[write to console]: gene-wise dispersion estimates\n",
      "\n",
      "R[write to console]: mean-dispersion relationship\n",
      "\n",
      "R[write to console]: final dispersion estimates\n",
      "\n",
      "R[write to console]: -- note: fitType='parametric', but the dispersion trend was not well captured by the\n",
      "   function: y = a/x + b, and a local regression fit was automatically substituted.\n",
      "   specify fitType='local' or 'mean' to avoid this message next time.\n",
      "\n"
     ]
    }
   ],
   "source": [
    "%%R -o all_mat\n",
    "options(repr.plot.width=4, repr.plot.height=4)\n",
    "all_mat = list(); all_res = list()\n",
    "for (treat in c('METTL14','METTL3','Virma','WTAP')){\n",
    "    icond = c(grep(treat,all_conds), grep('NT',all_conds) )\n",
    "    mm <- m[,icond]\n",
    "    colData <- data.frame(cond= conds[icond], row.names=colnames(mm))\n",
    "    dds <- DESeqDataSetFromMatrix(countData = mm, colData = colData, design = ~ cond)\n",
    "    dds$cond <- relevel(dds$cond, ref=\"NT.input\")\n",
    "    dds <- DESeq(dds, fitType='mean')\n",
    "    # normalized counts \n",
    "    ncu <- counts(dds, normalized=TRUE)\n",
    "    # contrast design: (treat_m6A - treat_input) - (NT_m6A - NT_input)\n",
    "    res <- results(dds, \n",
    "                   contrast=list(\n",
    "                       c(paste(\"cond_\",treat,\".m6A_vs_NT.input\",sep=\"\")), \n",
    "                       c(paste(\"cond_\",treat,\".input_vs_NT.input\",sep=\"\"),\n",
    "                         \"cond_NT.m6A_vs_NT.input\")), \n",
    "                   listValues=c(1,-1))        \n",
    "    all_res[[treat]] <- res\n",
    "    cds <- estimateDispersions(dds)\n",
    "#     rld <- rlogTransformation(dds)\n",
    "    vsd <- varianceStabilizingTransformation(dds)\n",
    "    # Plot heatmap\n",
    "    mat <- assay(vsd)\n",
    "    df <- data.frame(mat)\n",
    "    colnames(df) = c(\n",
    "        's23.treat.input','s23.treat.m6A','s24.treat.input','s24.treat.m6A',\n",
    "        's23.NT.input','s23.NT.m6A','s24.NT.input','s24.NT.m6A'\n",
    "    )\n",
    "    all_mat[[treat]] = df\n",
    "# #     # save scales to normalize peak visulization with GViz \n",
    "# #     dds <- estimateSizeFactors(dds)\n",
    "# #     scale_df <- data.frame('scale' = 1/sizeFactors(dds))\n",
    "# #     print (scale_df)\n",
    "# #     write.table(scale_df, paste(\"bigwig/hiv/\",treat,\"/scale.txt\", sep=''), sep=\"\\t\", quote=FALSE, col.names=NA)\n",
    "}"
   ]
  },
  {
   "cell_type": "code",
   "execution_count": 149,
   "metadata": {},
   "outputs": [
    {
     "name": "stdout",
     "output_type": "stream",
     "text": [
      "$METTL14\n",
      "           s23.treat.input s23.treat.m6A s24.treat.input s24.treat.m6A\n",
      "env_peak          9.706567     15.322623        9.567782     15.339609\n",
      "env_peak_2      -11.033577    -13.600747      -11.544835    -13.153538\n",
      "nef_peak          1.134434     -1.507652        0.618401     -1.918935\n",
      "nef_peak_2       11.636447     12.131416       11.636447     11.636447\n",
      "nef_peak_3       -9.949690     -5.859651       -9.664871     -5.504247\n",
      "nef_peak_4       -5.558468     -4.364890       -5.429518     -4.531315\n",
      "nef_peak_5       -4.449474     -6.861243       -5.050914     -7.307463\n",
      "nef_peak_6       -4.346685     -5.432608       -4.553708     -5.458674\n",
      "nef_peak_7      -11.462699    -11.478870      -11.516728    -10.009628\n",
      "rev_peak         -2.386248     14.645197       -2.425377     14.741893\n",
      "rev_peak_2       -1.452136    -13.470323       -2.152785    -13.455115\n",
      "rev_peak_3       -7.644205     -9.579207       -7.764354     -8.549760\n",
      "tat_peak         -6.876102     -4.243931       -6.820676     -4.442811\n",
      "           s23.NT.input s23.NT.m6A s24.NT.input s24.NT.m6A\n",
      "env_peak       9.614864  15.315252   10.1882236  15.339593\n",
      "env_peak_2   -11.171022 -13.731278  -11.5829840 -13.375224\n",
      "nef_peak       1.170266  -3.016951    0.8726971  -4.871880\n",
      "nef_peak_2    11.636447  11.636447   11.6364470  11.636447\n",
      "nef_peak_3   -10.922696  -6.135507   -9.7125163  -3.908569\n",
      "nef_peak_4    -5.396503  -5.005432   -5.4033140  -5.478691\n",
      "nef_peak_5    -4.046393  -6.644194   -5.1029652  -7.361260\n",
      "nef_peak_6    -4.529994  -5.289222   -4.3613345  -4.754011\n",
      "nef_peak_7   -11.783218 -11.350257  -11.3210133 -10.772001\n",
      "rev_peak      -2.405084  14.703609   -1.3716938  14.780493\n",
      "rev_peak_2    -1.630163 -12.205205   -1.2027003 -12.427737\n",
      "rev_peak_3    -7.698139  -7.662355   -7.6578436  -8.588353\n",
      "tat_peak      -6.898844  -4.869364   -6.8400995  -3.119617\n",
      "\n",
      "$METTL3\n",
      "           s23.treat.input s23.treat.m6A s24.treat.input s24.treat.m6A\n",
      "env_peak        9.90068621     15.284975       9.8713234    15.4161693\n",
      "env_peak_2     -6.60850630     -8.497472      -6.4160689    -8.2202329\n",
      "nef_peak        3.91604985      1.121966       2.7143751     1.5371606\n",
      "nef_peak_2     12.15811700     11.758529      11.6938575    11.2037218\n",
      "nef_peak_3     -5.37606402     -2.102336      -4.9015046     0.6696701\n",
      "nef_peak_4     -1.00653185     -1.503720      -0.9969245    -0.9969245\n",
      "nef_peak_5     -0.37122913     -1.181299      -0.5272113    -2.7174809\n",
      "nef_peak_6      0.08116249     -1.613145      -0.5530501    -2.0457829\n",
      "nef_peak_7     -7.09951518     -7.930333      -6.4935259    -5.2406082\n",
      "rev_peak        1.13564495     14.617498       1.2794722    14.9579916\n",
      "rev_peak_2      2.30992380     -5.418632       1.3022693    -8.4301258\n",
      "rev_peak_3     -2.92315458     -2.135673      -3.1435792    -2.2552371\n",
      "tat_peak       -2.13651316      3.059731      -2.0236819     0.1748508\n",
      "           s23.NT.input s23.NT.m6A s24.NT.input  s24.NT.m6A\n",
      "env_peak     9.86080229 15.3624518   10.3795775 15.38943249\n",
      "env_peak_2  -6.71716126 -8.6104909   -7.0926231 -8.43378787\n",
      "nef_peak     3.37858601  0.5752247    3.1696409 -0.61216709\n",
      "nef_peak_2  11.75852929 11.7585293   11.7585293 11.70379856\n",
      "nef_peak_3  -6.48198029 -1.4509382   -5.2533160 -0.02403025\n",
      "nef_peak_4  -0.91362146 -0.6622207   -0.9181227 -0.99692446\n",
      "nef_peak_5  -0.06701876 -1.9315116   -0.7238687 -2.78551748\n",
      "nef_peak_6  -0.36610613 -0.8433794   -0.2617384 -0.53965095\n",
      "nef_peak_7  -7.26778643 -6.8828762   -6.8560792 -6.37438877\n",
      "rev_peak     0.96477393 14.7053631    1.6388177 14.77061958\n",
      "rev_peak_2   1.46829741 -7.6187346    1.7509953 -7.81256585\n",
      "rev_peak_3  -3.14241561 -3.1036685   -3.0987637 -4.09442485\n",
      "tat_peak    -2.22116349 -0.5769536   -2.1524657  0.45771108\n",
      "\n",
      "$Virma\n",
      "           s23.treat.input s23.treat.m6A s24.treat.input s24.treat.m6A\n",
      "env_peak         12.845809    15.8603318      12.9469011     15.966932\n",
      "env_peak_2       -3.764678    -5.9875623      -4.3659004     -6.014295\n",
      "nef_peak          9.612368     7.0840492       9.7772649      7.684288\n",
      "nef_peak_2       13.324759    13.3247592      13.3247592     13.324759\n",
      "nef_peak_3       -2.218474     4.5809921      -0.1306724      5.584289\n",
      "nef_peak_4        4.563693     6.1670374       4.2338234      4.448690\n",
      "nef_peak_5        5.558559     3.5356236       5.6099791      3.326517\n",
      "nef_peak_6        5.952673     4.3405502       6.4115169      5.251902\n",
      "nef_peak_7       -5.041707    -0.3496985      -3.9507036     -2.731028\n",
      "rev_peak          8.427593    14.6508171       8.8415313     14.801590\n",
      "rev_peak_2        8.241480    -5.4923988       8.4690414     -5.449757\n",
      "rev_peak_3        2.502295     1.6491001       2.7167402      2.812503\n",
      "tat_peak          3.559174     6.0216073       3.6278813      6.595796\n",
      "           s23.NT.input s23.NT.m6A s24.NT.input s24.NT.m6A\n",
      "env_peak      12.773431  15.795259    12.927165 15.9120504\n",
      "env_peak_2    -3.870173  -5.993722    -4.394316 -5.8692743\n",
      "nef_peak      10.051754   7.517398     9.924047  5.4382330\n",
      "nef_peak_2    13.324759  13.324759    13.324759 13.3247592\n",
      "nef_peak_3    -3.524083   4.015014    -1.550276  6.6057349\n",
      "nef_peak_4     4.792704   5.271234     4.784624  4.6960196\n",
      "nef_peak_5     6.447752   3.634981     5.149901  3.0362690\n",
      "nef_peak_6     5.864704   4.921406     6.072209  5.5856767\n",
      "nef_peak_7    -4.625788  -4.106010    -4.068343 -3.3033486\n",
      "rev_peak       8.037095  14.643959     8.761931 14.7214716\n",
      "rev_peak_2     8.595727  -5.061696     8.865962 -5.2622197\n",
      "rev_peak_3     2.463837   2.534769     2.543570  0.5843035\n",
      "tat_peak       3.473852   5.441383     3.512084  7.4221987\n",
      "\n",
      "$WTAP\n",
      "           s23.treat.input s23.treat.m6A s24.treat.input s24.treat.m6A\n",
      "env_peak        10.8916724    15.3107318    11.583382451    15.6176947\n",
      "env_peak_2      -3.7381338    -5.5748520    -5.013163642    -6.4090432\n",
      "nef_peak         6.6970214     2.6880916     5.720362386     1.9645471\n",
      "nef_peak_2      12.6547603    11.6395753    12.382719991    11.2860393\n",
      "nef_peak_3      -3.9472953     0.4071769    -1.718563145     4.7229267\n",
      "nef_peak_4       1.8072900     3.9533368     2.302029781     1.4928311\n",
      "nef_peak_5       2.9972419     2.2666753     2.580375672     0.8651976\n",
      "nef_peak_6       2.9469992     1.9567854     2.585188426     2.7709784\n",
      "nef_peak_7      -4.9676116    -4.9202006    -4.029130468    -2.0775878\n",
      "rev_peak         3.9665967    14.3029275     5.245738071    15.1002901\n",
      "rev_peak_2       4.3234579    -2.0555718     4.123114353    -3.7382786\n",
      "rev_peak_3      -0.2806719    -1.9850278     0.007198378     0.4587053\n",
      "tat_peak         0.7901192     3.8283368     0.968419991     7.4424753\n",
      "           s23.NT.input s23.NT.m6A s24.NT.input s24.NT.m6A\n",
      "env_peak     11.1412177 15.4532444   11.4798721 15.5255206\n",
      "env_peak_2   -4.2424999 -6.4120106   -4.6483825 -6.1286154\n",
      "nef_peak      6.3762011  3.8381543    6.1940750  2.6779782\n",
      "nef_peak_2   12.3875663 12.3827200   12.3827200 12.5150952\n",
      "nef_peak_3   -3.9931944  1.4935865   -2.7119296  3.4174927\n",
      "nef_peak_4    2.1158040  2.4164170    2.1055599  2.1794586\n",
      "nef_peak_5    3.1369712  1.0063616    2.3411421  0.2358884\n",
      "nef_peak_6    2.7828554  2.1957915    2.9019107  2.7709784\n",
      "nef_peak_7   -4.8329900 -4.4239049   -4.3953352 -3.6909603\n",
      "rev_peak      4.2440278 14.6443397    4.8775214 14.7662208\n",
      "rev_peak_2    4.7294563 -5.2211483    4.9798198 -5.3253050\n",
      "rev_peak_3   -0.2806719 -0.2373053   -0.2313800 -1.2664369\n",
      "tat_peak      0.7292342  2.5206073    0.7938392  3.9897042\n",
      "\n"
     ]
    }
   ],
   "source": [
    "%%R \n",
    "# # bar_df = \n",
    "# barplot(all_mat$METTL14,\n",
    "#          col = c(\"lightblue\", \"mistyrose\", \"lightcyan\", \n",
    "#                  \"lavender\", \"cornsilk\"),\n",
    "#         legend = rownames(VADeaths), beside = TRUE)\n",
    "\n",
    "# p <- ggplot(data=all_mat[[1]], aes(x=dose, y=len, fill=supp)) +\n",
    "# geom_bar(stat=\"identity\", color=\"black\", position=position_dodge())+\n"
   ]
  },
  {
   "cell_type": "code",
   "execution_count": 150,
   "metadata": {
    "scrolled": false
   },
   "outputs": [
    {
     "data": {
      "image/png": "[encoded data removed]"
     },
     "metadata": {},
     "output_type": "display_data"
    }
   ],
   "source": [
    "%%R\n",
    "num_peaks <- 13\n",
    "mat <-do.call('rbind',all_mat)\n",
    "res <-do.call('cbind',do.call('data.frame',all_res))\n",
    "# Data frame with column annotations.\n",
    "mat_col <- data.frame(Treatment = c(rep('Treated',4),rep('NT',4)))\n",
    "mat_row <- data.frame(\n",
    "    subunits = c(rep('METTL14', num_peaks), rep('METTL3', num_peaks), rep('Virma', num_peaks), rep('WTAP', num_peaks) ),\n",
    "    loci = c(rep('env',2),rep('nef',7),rep('rev',3),'tat')\n",
    ")\n",
    "rownames(mat_col) <- colnames(mat)\n",
    "rownames(mat_row) <- rownames(mat)\n",
    "\n",
    "h = pheatmap(\n",
    "    mat               = mat,\n",
    "    border_color      = NA,\n",
    "    show_colnames     = TRUE,\n",
    "    show_rownames     = FALSE,\n",
    "    annotation_col    = mat_col,\n",
    "    annotation_row    = mat_row,\n",
    "    fontsize          = 10,\n",
    "    cluster_rows = TRUE, cluster_cols=FALSE, #cellwidth = 25, cellheight = 15,\n",
    "  main              = \"HIV Peak Heatmap\"\n",
    ")\n",
    "# ggsave(\"plots/hiv.peak_Heatmaps.png\", plot = h, device = 'png', dpi = 300)\n",
    "# ggsave(\"plots/hiv.peak_Heatmaps.pdf\", plot = h, device = 'pdf', dpi = 300)\n",
    "h"
   ]
  },
  {
   "cell_type": "code",
   "execution_count": 211,
   "metadata": {},
   "outputs": [],
   "source": [
    "%%R -o all_peaks\n",
    "all_peaks <-do.call('cbind',all_mat)"
   ]
  },
  {
   "cell_type": "code",
   "execution_count": 322,
   "metadata": {},
   "outputs": [
    {
     "name": "stdout",
     "output_type": "stream",
     "text": [
      "METTL14.s23.treat.input\n"
     ]
    },
    {
     "ename": "IndexError",
     "evalue": "list assignment index out of range",
     "output_type": "error",
     "traceback": [
      "\u001b[0;31m---------------------------------------------------------------------------\u001b[0m",
      "\u001b[0;31mIndexError\u001b[0m                                Traceback (most recent call last)",
      "\u001b[0;32m<ipython-input-322-306ca739ba1b>\u001b[0m in \u001b[0;36m<module>\u001b[0;34m\u001b[0m\n\u001b[1;32m     22\u001b[0m         \u001b[0malpha\u001b[0m\u001b[0;34m=\u001b[0m\u001b[0mopacity\u001b[0m\u001b[0;34m,\u001b[0m\u001b[0;34m\u001b[0m\u001b[0;34m\u001b[0m\u001b[0m\n\u001b[1;32m     23\u001b[0m         \u001b[0mcolor\u001b[0m\u001b[0;34m=\u001b[0m\u001b[0mcolors\u001b[0m\u001b[0;34m[\u001b[0m\u001b[0mi\u001b[0m\u001b[0;34m]\u001b[0m\u001b[0;34m,\u001b[0m\u001b[0;34m\u001b[0m\u001b[0;34m\u001b[0m\u001b[0m\n\u001b[0;32m---> 24\u001b[0;31m         \u001b[0mlabel\u001b[0m \u001b[0;34m=\u001b[0m \u001b[0;34m'METTL14'\u001b[0m\u001b[0;34m\u001b[0m\u001b[0;34m\u001b[0m\u001b[0m\n\u001b[0m\u001b[1;32m     25\u001b[0m )\n\u001b[1;32m     26\u001b[0m \u001b[0;34m\u001b[0m\u001b[0m\n",
      "\u001b[0;31mIndexError\u001b[0m: list assignment index out of range"
     ]
    },
    {
     "data": {
      "image/png": "[encoded data removed]",
      "text/plain": [
       "<Figure size 432x288 with 1 Axes>"
      ]
     },
     "metadata": {
      "needs_background": "light"
     },
     "output_type": "display_data"
    }
   ],
   "source": [
    "import numpy as np\n",
    "import matplotlib.pyplot as plt\n",
    "\n",
    "colors = ['b', 'g', 'r', 'c', 'm', 'y', 'k', 'w']\n",
    "# data to plot\n",
    "peak_names = all_peaks.index.to_list()\n",
    "samples = all_peaks.columns.to_list()\n",
    "\n",
    "# create plot\n",
    "fig, ax = plt.subplots()\n",
    "index = np.arange(len(peak_names))\n",
    "bar_width = 0.25\n",
    "opacity = 0.8\n",
    "\n",
    "plots = []\n",
    "for i,s in enumerate(samples[0:8]): \n",
    "    print (s)\n",
    "    plots[i] = plt.bar(\n",
    "        index, #+ bar_width*i,\n",
    "        list(data[s].values()),\n",
    "        bar_width,\n",
    "        alpha=opacity,\n",
    "        color=colors[i],\n",
    "        label = 'METTL14'\n",
    ")\n",
    "\n",
    "plt.xlabel('')\n",
    "plt.ylabel('peak counts')\n",
    "plt.title('HIV peaks')\n",
    "plt.xticks(index-0.5, peak_names, rotation = 60)\n",
    "plt.legend()\n",
    "\n",
    "# plt.tight_layout()\n",
    "plt.show()"
   ]
  },
  {
   "cell_type": "code",
   "execution_count": null,
   "metadata": {},
   "outputs": [],
   "source": []
  },
  {
   "cell_type": "markdown",
   "metadata": {},
   "source": [
    "<!-- ## Plot peak cordinates\n",
    "\n",
    "making `bigwig` file from `bam` files to visualize genome coverage of peak coordinates of hiv genome. \n",
    "-->"
   ]
  },
  {
   "cell_type": "code",
   "execution_count": 21,
   "metadata": {
    "scrolled": true
   },
   "outputs": [],
   "source": [
    "# %%bash \n",
    "# declare -a StringArray=('METTL14' 'METTL3' 'Virma' 'WTAP' 'NT')\n",
    "# # mkdir bedgraph/hiv/\n",
    "# # for treat in \"${StringArray[@]}\"; do mkdir bedgraph/hiv/$treat; done\n",
    "\n",
    "# # normalize \n",
    "# # # bigwigs \n",
    "# # for treat in \"${StringArray[@]}\"; do\n",
    "# #     awk '!(NR<=1){gsub(/s2[3-4]./,substr($1, 0, 4)\"hiv.\");print \"bamCoverage --scaleFactor \"$2\" -b bam/\"$1\".bam -o bigwig/'$treat'/\"$1\".bw\"}' bigwig/$treat/scale.txt # | bash\n",
    "# # done\n",
    "\n",
    "# # bedgraphs using bedtools \n",
    "# for treat in \"${StringArray[@]}\"; do\n",
    "#     for f in bam/*hiv*$treat*bam; do \n",
    "#         base=`basename \"$f\"`\n",
    "#         o=${base/.bam/.bg}\n",
    "#         bedtools genomecov -bga -ibam $f > bedgraph/hiv/$treat/$o;\n",
    "#     done;\n",
    "# #     awk '!(NR<=1){gsub(/s2[3-4]./,substr($1, 0, 4)\"hiv.\");print \"bedtools genomecov -bga -scale \"$2\" -ibam bam/\"$1\".bam > bedgraph/hiv/'$treat'/\"$1\".bg\"}' bigwig/hiv/$treat/scale.txt | bash\n",
    "# done"
   ]
  },
  {
   "cell_type": "code",
   "execution_count": 22,
   "metadata": {},
   "outputs": [],
   "source": [
    "# ls -l bedgraph/hiv/Virma/"
   ]
  },
  {
   "cell_type": "code",
   "execution_count": 23,
   "metadata": {},
   "outputs": [],
   "source": [
    "# %reload_ext rpy2.ipython"
   ]
  },
  {
   "cell_type": "code",
   "execution_count": 24,
   "metadata": {},
   "outputs": [],
   "source": [
    "# %%R \n",
    "# library(Gviz)\n",
    "# library(Rsamtools)\n",
    "# library(data.table)\n",
    "# library(Biostrings)\n",
    "# library(rtracklayer)"
   ]
  },
  {
   "cell_type": "code",
   "execution_count": 25,
   "metadata": {},
   "outputs": [],
   "source": [
    "# %%R\n",
    "# # hiv_dna <- readDNAStringSet(\"exomepeak/hiv.control/peak.fa\")\n",
    "# # names(hiv_dna) <- rep('chr1', length(hiv_dna))\n",
    "# # # export(hiv_dna, \"HIV/HIV.fa.2bit\")\n",
    "# # # hiv <- TwoBitFile(\"HIV/HIV.fa.2bit\")\n",
    "\n",
    "# # read HIV genome \n",
    "# hiv_peaks <- read.table(file=\"exomepeak/hiv.control/peak.bed\", sep=\"\\t\")[,c(2,3)]\n",
    "# colnames(hiv_peaks) <- c('start', 'end')\n",
    "# hiv_gr <- GRanges(seqnames=\"chr1\", range=IRanges(start=hiv_peaks$start, end=hiv_peaks$end),strand='*')\n",
    "# names(hiv_gr) <- paste('peak', c(1:dim(hiv_peaks)[1]), sep='-')\n",
    "# genome(hiv_gr) <- 'HIV'; gen<- 'HIV'\n",
    "# chr <- as.character(unique(seqnames(hiv_gr)))"
   ]
  },
  {
   "cell_type": "code",
   "execution_count": 26,
   "metadata": {},
   "outputs": [],
   "source": [
    "# %%R\n",
    "# hiv_gr"
   ]
  },
  {
   "cell_type": "markdown",
   "metadata": {},
   "source": [
    "<!-- using normalized `bedgraph` and making `Gviz` tracks  -->"
   ]
  },
  {
   "cell_type": "code",
   "execution_count": 27,
   "metadata": {},
   "outputs": [],
   "source": [
    "# %%R\n",
    "# for (treat in c('METTL14','METTL3','Virma','WTAP')){\n",
    "#     reps <- c(rep('s23',2),rep('s24',2))\n",
    "#     ip <- rep(c('input','m6A'),2)\n",
    "#     conds <- paste(reps,treat, sep='.')\n",
    "#     # absolute path to bedgraph files  \n",
    "#     bw_files.treated <- paste('bedgraph/hiv/',treat,'/',reps,'.hiv.',treat,'.',ip,'.bg', sep='')\n",
    "#     bw_files.nontreated <- paste('bedgraph/hiv/',treat,'/',reps,'.hiv.NT.',ip,'.bg', sep='')\n",
    "#     print (bw_files.treated)\n",
    "#     print (bw_files.nontreated)\n",
    "#     for (i in c(2,4)){\n",
    "#         ### read bedgraph files\n",
    "#         #-- treated tracks --#\n",
    "#         # m6A track           \n",
    "#         bw_ip.treated <- import.bedGraph(bw_files.treated[i]) #,as=\"GRanges\")\n",
    "#         genome(bw_ip.treated) <- 'HIV'\n",
    "#         seqlevels(bw_ip.treated) <- 'chr1'\n",
    "#         # input track\n",
    "#         bw_in.treated <- import.bedGraph(bw_files.treated[i-1]) #,as=\"GRanges\")\n",
    "#         genome(bw_in.treated) <- 'HIV'\n",
    "#         seqlevels(bw_in.treated) <- 'chr1'\n",
    "#         # Overlay input and m6A\n",
    "#         dtrack_ip.treated <- DataTrack(bw_ip.treated,chomosome=\"chr1\", name='Treated')\n",
    "#         dtrack_in.treated <- DataTrack(bw_in.treated,chomosome=\"chr1\", groups = factor('input',levels = c('input','m6A')) )\n",
    "#         displayPars(dtrack_ip.treated) <- list(groups = factor('m6A',levels = c('input','m6A')), legend = TRUE)\n",
    "#         assign(paste('treated', conds[i],sep='.'),\n",
    "#                OverlayTrack(trackList=list(dtrack_ip.treated,dtrack_in.treated)))\n",
    "#         #-- non-treated tracks --#\n",
    "#         # m6A track\n",
    "#         bw_ip.nontreated <- import.bedGraph(bw_files.nontreated[i]) # ,as=\"GRanges\")\n",
    "#         genome(bw_ip.nontreated) <- 'HIV'\n",
    "#         seqlevels(bw_ip.nontreated) <- 'chr1'\n",
    "#         # input track\n",
    "#         bw_in.nontreated <- import.bedGraph(bw_files.nontreated[i-1]) # ,as=\"GRanges\")\n",
    "#         genome(bw_in.nontreated) <- 'HIV'\n",
    "#         seqlevels(bw_in.nontreated) <- 'chr1'\n",
    "#         # Overlay input and m6A\n",
    "#         dtrack_ip.nontreated <- DataTrack(bw_ip.nontreated,chomosome=\"chr1\", name='Non-treated')\n",
    "#         dtrack_in.nontreated <- DataTrack(bw_in.nontreated,chomosome=\"chr1\", groups = factor('input',levels = c('input','m6A')) )\n",
    "#         displayPars(dtrack_ip.nontreated) <- list(groups = factor('m6A',levels = c('input','m6A')), legend = TRUE, name = 'Non treated')\n",
    "#         assign(paste('nontreated',conds[i],sep='.'), \n",
    "#                OverlayTrack(trackList=list(dtrack_ip.nontreated,dtrack_in.nontreated),\n",
    "#                             background.panel = \"#FFFEDB\", background.title = \"darkblue\"))\n",
    "#     }\n",
    "# }\n",
    "\n",
    "# grtrack <- GeneRegionTrack(hiv_gr, genome = gen, chromosome = chr, name = \"Gene Model\")\n",
    "# gtrack <- GenomeAxisTrack()"
   ]
  },
  {
   "cell_type": "code",
   "execution_count": 28,
   "metadata": {},
   "outputs": [],
   "source": [
    "# %%R\n",
    "# peak_ploter <- function(treat,ymax, saveplot = '' ){\n",
    "#     for (i in 1:4){\n",
    "#         if (saveplot == 'pdf') pdf(paste(\"plots/hiv.\",treat,'.',names(hiv_gr)[i],\".pdf\",sep=''), \n",
    "#                                    width=7, height=7, paper = \"a4r\")\n",
    "#         if (saveplot == 'png') png(paste(\"plots/hiv.\",treat,'.',names(hiv_gr)[i],\".png\",sep=''))\n",
    "#         plotTracks(\n",
    "#             list (gtrack, grtrack,\n",
    "#                   get (paste('treated.s23', treat, sep ='.')),get(paste('treated.s24', treat, sep ='.')),\n",
    "#                   get (paste('nontreated.s23', treat,sep ='.')),get(paste('nontreated.s24', treat,sep ='.'))\n",
    "#                  ), type=\"l\",from=start(hiv_gr)[i], to=end(hiv_gr)[i] , ylim= c(-100,ymax[i]),\n",
    "#             main = paste(treat, names(hiv_gr)[i]), add53=T,chromosome = \"chr1\",cex=1)\n",
    "#         if (saveplot != '') dev.off()\n",
    "#     }\n",
    "# }"
   ]
  },
  {
   "cell_type": "code",
   "execution_count": 29,
   "metadata": {},
   "outputs": [],
   "source": [
    "# %%R\n",
    "# treat = 'METTL14'\n",
    "# y = c(1e3,6e3,1.5e4,1e4)\n",
    "# p = peak_ploter (treat,ymax)\n",
    "# p = peak_ploter (treat,ymax)"
   ]
  },
  {
   "cell_type": "code",
   "execution_count": 30,
   "metadata": {
    "scrolled": false
   },
   "outputs": [],
   "source": [
    "# %%R\n",
    "# treat = 'METTL14'\n",
    "# y = c(1e3,6e3,1.5e4,1e4)\n",
    "# p = peak_ploter (treat,ymax, saveplot='pdf')\n",
    "# p = peak_ploter (treat,ymax, saveplot='png')\n",
    "\n",
    "# treat = 'METTL3'\n",
    "# y = c(1e3,6e3,1.5e4,1e4)\n",
    "# p = peak_ploter (treat,ymax, saveplot='pdf')\n",
    "# p = peak_ploter (treat,ymax, saveplot='png')\n",
    "\n",
    "# treat = 'Virma'\n",
    "# y = c(1e3,6e3,1.5e4,1e4)\n",
    "# p = peak_ploter (treat,ymax, saveplot='pdf')\n",
    "# p = peak_ploter (treat,ymax, saveplot='png')\n",
    "\n",
    "# treat = 'WTAP'\n",
    "# y = c(1e3,6e3,1.5e4,1e4)\n",
    "# p = peak_ploter (treat,ymax, saveplot='pdf')\n",
    "# p = peak_ploter (treat,ymax, saveplot='png')"
   ]
  },
  {
   "cell_type": "code",
   "execution_count": 84,
   "metadata": {
    "scrolled": false
   },
   "outputs": [
    {
     "name": "stdout",
     "output_type": "stream",
     "text": [
      "R version 3.5.1 (2018-07-02)\n",
      "Platform: x86_64-conda_cos6-linux-gnu (64-bit)\n",
      "Running under: Ubuntu 18.04.2 LTS\n",
      "\n",
      "Matrix products: default\n",
      "BLAS/LAPACK: /rumi/shams/abe/anaconda3/envs/deseq/lib/R/lib/libRlapack.so\n",
      "\n",
      "locale:\n",
      " [1] LC_CTYPE=en_US.UTF-8       LC_NUMERIC=C              \n",
      " [3] LC_TIME=en_US.UTF-8        LC_COLLATE=en_US.UTF-8    \n",
      " [5] LC_MONETARY=en_US.UTF-8    LC_MESSAGES=en_US.UTF-8   \n",
      " [7] LC_PAPER=en_US.UTF-8       LC_NAME=C                 \n",
      " [9] LC_ADDRESS=C               LC_TELEPHONE=C            \n",
      "[11] LC_MEASUREMENT=en_US.UTF-8 LC_IDENTIFICATION=C       \n",
      "\n",
      "attached base packages:\n",
      " [1] parallel  stats4    tools     stats     graphics  grDevices utils    \n",
      " [8] datasets  methods   base     \n",
      "\n",
      "other attached packages:\n",
      " [1] pheatmap_1.0.12             forcats_0.4.0              \n",
      " [3] stringr_1.4.0               dplyr_0.8.3                \n",
      " [5] purrr_0.3.3                 readr_1.3.1                \n",
      " [7] tidyr_1.0.0                 tibble_2.1.3               \n",
      " [9] tidyverse_1.2.1             ggplot2_3.2.1              \n",
      "[11] DESeq2_1.20.0               SummarizedExperiment_1.10.1\n",
      "[13] DelayedArray_0.6.6          BiocParallel_1.14.2        \n",
      "[15] matrixStats_0.55.0          Biobase_2.40.0             \n",
      "[17] GenomicRanges_1.32.7        GenomeInfoDb_1.16.0        \n",
      "[19] IRanges_2.14.12             S4Vectors_0.18.3           \n",
      "[21] BiocGenerics_0.26.0        \n",
      "\n",
      "loaded via a namespace (and not attached):\n",
      " [1] nlme_3.1-141           bitops_1.0-6           lubridate_1.7.4       \n",
      " [4] bit64_0.9-7            RColorBrewer_1.1-2     httr_1.4.1            \n",
      " [7] backports_1.1.5        R6_2.4.0               rpart_4.1-15          \n",
      "[10] Hmisc_4.2-0            DBI_1.0.0              lazyeval_0.2.2        \n",
      "[13] colorspace_1.4-1       nnet_7.3-12            withr_2.1.2           \n",
      "[16] tidyselect_0.2.5       gridExtra_2.3          bit_1.1-14            \n",
      "[19] compiler_3.5.1         cli_1.1.0              rvest_0.3.5           \n",
      "[22] htmlTable_1.13.2       xml2_1.2.2             scales_1.0.0          \n",
      "[25] checkmate_1.9.4        genefilter_1.62.0      digest_0.6.22         \n",
      "[28] foreign_0.8-72         XVector_0.20.0         base64enc_0.1-3       \n",
      "[31] pkgconfig_2.0.3        htmltools_0.4.0        htmlwidgets_1.5.1     \n",
      "[34] rlang_0.4.1            readxl_1.3.1           rstudioapi_0.10       \n",
      "[37] RSQLite_2.1.2          jsonlite_1.6           acepack_1.4.1         \n",
      "[40] RCurl_1.95-4.12        magrittr_1.5           GenomeInfoDbData_1.1.0\n",
      "[43] Formula_1.2-3          Matrix_1.2-17          Rcpp_1.0.3            \n",
      "[46] munsell_0.5.0          lifecycle_0.1.0        stringi_1.4.3         \n",
      "[49] zlibbioc_1.26.0        grid_3.5.1             blob_1.2.0            \n",
      "[52] crayon_1.3.4           lattice_0.20-38        haven_2.2.0           \n",
      "[55] splines_3.5.1          annotate_1.58.0        hms_0.5.2             \n",
      "[58] locfit_1.5-9.1         zeallot_0.1.0          knitr_1.25            \n",
      "[61] pillar_1.4.2           geneplotter_1.58.0     XML_3.98-1.20         \n",
      "[64] glue_1.3.1             latticeExtra_0.6-28    data.table_1.11.6     \n",
      "[67] modelr_0.1.5           vctrs_0.2.0            cellranger_1.1.0      \n",
      "[70] gtable_0.3.0           assertthat_0.2.1       xfun_0.10             \n",
      "[73] xtable_1.8-4           broom_0.5.0            survival_2.44-1.1     \n",
      "[76] AnnotationDbi_1.42.1   memoise_1.1.0          cluster_2.1.0         \n"
     ]
    }
   ],
   "source": [
    "%%R \n",
    "sessionInfo()"
   ]
  },
  {
   "cell_type": "code",
   "execution_count": null,
   "metadata": {},
   "outputs": [],
   "source": []
  }
 ],
 "metadata": {
  "kernelspec": {
   "display_name": "Python 3",
   "language": "python",
   "name": "python3"
  },
  "language_info": {
   "codemirror_mode": {
    "name": "ipython",
    "version": 3
   },
   "file_extension": ".py",
   "mimetype": "text/x-python",
   "name": "python",
   "nbconvert_exporter": "python",
   "pygments_lexer": "ipython3",
   "version": "3.7.3"
  }
 },
 "nbformat": 4,
 "nbformat_minor": 2
}
