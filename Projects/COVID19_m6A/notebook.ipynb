{
 "cells": [
  {
   "cell_type": "markdown",
   "metadata": {},
   "source": [
    "According to Matt's epxeriance ([link](https://github.com/goodarzilab/khorms/blob/master/side_projects/COVID_DMSseq_library.ipynb)) I'm using this genome:\n",
    "\n",
    "- https://www.ncbi.nlm.nih.gov/nuccore/MN908947?%3Fdb=nucleotide\n"
   ]
  },
  {
   "cell_type": "markdown",
   "metadata": {},
   "source": [
    "# Peaks\n",
    "<img src=\"igv/peaks.png\" style=\"height:800px\">"
   ]
  },
  {
   "cell_type": "markdown",
   "metadata": {},
   "source": [
    "merge bed files and make `fasta`:"
   ]
  },
  {
   "cell_type": "code",
   "execution_count": 88,
   "metadata": {},
   "outputs": [],
   "source": [
    "%%bash\n",
    "# merge beds from all samples \n",
    "cat exomepeak/virus/*/peak.bed | grep -v '^ *#' | bed12ToBed6 | sort -k1,1 -k2,2n | \\\n",
    "mergeBed -i - -c 4 -o distinct | awk '{print $1\"\\t\"$2\"\\t\"$3\"\\t\"$4\"\\t\"\".\"\"\\t\"\"+\"}' > merge_peaks.bed\n",
    "# peaks with unique names \n",
    "awk -F \"\\t\" '{OFS=FS}{$4=$4\"_peak\"}; cnt[$4]++{$4=$4\"_\"cnt[$4]} 1' merge_peaks.bed > merge_peaks.c.bed\n",
    "# get peak sequences\n",
    "bedtools getfasta -name -s -fi virus/coronavirus_2_isolate_Wuhan-Hu-1.fasta -bed \\\n",
    "merge_peaks.bed -split -fo merge_peaks.fa"
   ]
  },
  {
   "cell_type": "markdown",
   "metadata": {},
   "source": [
    "write significant merged peaks in each samples into a text file:"
   ]
  },
  {
   "cell_type": "code",
   "execution_count": 88,
   "metadata": {},
   "outputs": [],
   "source": [
    "%%bash\n",
    "for f in exomepeak/virus/*/peak.bed; do \n",
    "    o=${f/peak.bed/sig_peak.txt}; \n",
    "#     echo Write $o; \n",
    "    cat $f | bed12ToBed6 | sort -k1,1 -k2,2n | bedtools intersect -wa -wb -a - -b merge_peaks.c.bed | \\\n",
    "    awk '{print $10\"\\t\"$5}' > $o; \n",
    "done"
   ]
  },
  {
   "cell_type": "code",
   "execution_count": 89,
   "metadata": {},
   "outputs": [
    {
     "name": "stdout",
     "output_type": "stream",
     "text": [
      "'exomepeak/virus/COV00075_FDR_0.025/sig_peak.txt' -> 'exomepeak/virus/COV00075.sig.txt'\n",
      "'exomepeak/virus/COV00084_FDR_0.025/sig_peak.txt' -> 'exomepeak/virus/COV00084.sig.txt'\n",
      "'exomepeak/virus/COV00093_FDR_0.025/sig_peak.txt' -> 'exomepeak/virus/COV00093.sig.txt'\n",
      "'exomepeak/virus/COV00106_FDR_0.025/sig_peak.txt' -> 'exomepeak/virus/COV00106.sig.txt'\n",
      "'exomepeak/virus/COV00397_FDR_0.025/sig_peak.txt' -> 'exomepeak/virus/COV00397.sig.txt'\n",
      "'exomepeak/virus/COV00413_FDR_0.025/sig_peak.txt' -> 'exomepeak/virus/COV00413.sig.txt'\n",
      "'exomepeak/virus/COV00419_FDR_0.025/sig_peak.txt' -> 'exomepeak/virus/COV00419.sig.txt'\n",
      "'exomepeak/virus/COV00422_FDR_0.025/sig_peak.txt' -> 'exomepeak/virus/COV00422.sig.txt'\n",
      "'exomepeak/virus/COV00432_FDR_0.025/sig_peak.txt' -> 'exomepeak/virus/COV00432.sig.txt'\n",
      "'exomepeak/virus/S0014_FDR_0.025/sig_peak.txt' -> 'exomepeak/virus/S0014.sig.txt'\n",
      "'exomepeak/virus/S0026_FDR_0.025/sig_peak.txt' -> 'exomepeak/virus/S0026.sig.txt'\n",
      "'exomepeak/virus/S0030_FDR_0.025/sig_peak.txt' -> 'exomepeak/virus/S0030.sig.txt'\n",
      "'exomepeak/virus/S0085_FDR_0.025/sig_peak.txt' -> 'exomepeak/virus/S0085.sig.txt'\n"
     ]
    }
   ],
   "source": [
    "%%bash\n",
    "# for f in exomepeak/virus/*_FDR_0.025/peak.bed; do \n",
    "#     o=${f/_FDR_0.025\\/peak/}; \n",
    "#     cp -v $f $o; \n",
    "# done\n",
    "for f in exomepeak/virus/*_FDR_0.025/sig_peak.txt; do \n",
    "    o=${f/_FDR_0.025\\/sig_peak/.sig}; \n",
    "    cp -v $f $o; \n",
    "done\n"
   ]
  },
  {
   "cell_type": "markdown",
   "metadata": {},
   "source": [
    "count peak coverage in each sample (`bam` file) for downstream analysis:"
   ]
  },
  {
   "cell_type": "code",
   "execution_count": 90,
   "metadata": {},
   "outputs": [],
   "source": [
    "%%bash\n",
    "# peak count\n",
    "for f in virus_bam/*bam; do\n",
    "    base=`basename $f`;\n",
    "    out=${base/.bam/.fc};\n",
    "    bamToBed -i $f | intersectBed -split -s -wo -a - -b merge_peaks.c.bed | \\\n",
    "    cut -f10 | sort | uniq -c | awk '{ print $2 \"\\t\" $1}' > virus_count/$out; \n",
    "done"
   ]
  },
  {
   "cell_type": "markdown",
   "metadata": {},
   "source": [
    "# Motif analysis "
   ]
  },
  {
   "cell_type": "markdown",
   "metadata": {},
   "source": [
    "searching for `DRACH`, `RGAC`, `AAGAA` motifs in peak sequences: "
   ]
  },
  {
   "cell_type": "code",
   "execution_count": 2,
   "metadata": {
    "scrolled": false
   },
   "outputs": [
    {
     "data": {
      "text/html": [
       "<div>\n",
       "<style scoped>\n",
       "    .dataframe tbody tr th:only-of-type {\n",
       "        vertical-align: middle;\n",
       "    }\n",
       "\n",
       "    .dataframe tbody tr th {\n",
       "        vertical-align: top;\n",
       "    }\n",
       "\n",
       "    .dataframe thead th {\n",
       "        text-align: right;\n",
       "    }\n",
       "</style>\n",
       "<table border=\"1\" class=\"dataframe\">\n",
       "  <thead>\n",
       "    <tr style=\"text-align: right;\">\n",
       "      <th></th>\n",
       "      <th>loci</th>\n",
       "      <th>DRACH</th>\n",
       "      <th>RGAC</th>\n",
       "      <th>AAGAA</th>\n",
       "      <th>Sequence</th>\n",
       "    </tr>\n",
       "  </thead>\n",
       "  <tbody>\n",
       "    <tr>\n",
       "      <td>0</td>\n",
       "      <td>S</td>\n",
       "      <td>1</td>\n",
       "      <td>0</td>\n",
       "      <td>0</td>\n",
       "      <td>TGACT</td>\n",
       "    </tr>\n",
       "    <tr>\n",
       "      <td>2</td>\n",
       "      <td>S</td>\n",
       "      <td>9</td>\n",
       "      <td>2</td>\n",
       "      <td>0</td>\n",
       "      <td>GGACT,GAACC,AGACT,TGACC,AAACA,AAACT,TAACT,AAAC...</td>\n",
       "    </tr>\n",
       "    <tr>\n",
       "      <td>3</td>\n",
       "      <td>S</td>\n",
       "      <td>1</td>\n",
       "      <td>1</td>\n",
       "      <td>0</td>\n",
       "      <td>AGACA,AGAC</td>\n",
       "    </tr>\n",
       "    <tr>\n",
       "      <td>9</td>\n",
       "      <td>S</td>\n",
       "      <td>3</td>\n",
       "      <td>0</td>\n",
       "      <td>0</td>\n",
       "      <td>AAACA,GAACA,TGACA</td>\n",
       "    </tr>\n",
       "    <tr>\n",
       "      <td>10</td>\n",
       "      <td>S</td>\n",
       "      <td>2</td>\n",
       "      <td>2</td>\n",
       "      <td>0</td>\n",
       "      <td>AGACT,AGACT,AGAC,AGAC</td>\n",
       "    </tr>\n",
       "    <tr>\n",
       "      <td>14</td>\n",
       "      <td>S</td>\n",
       "      <td>1</td>\n",
       "      <td>0</td>\n",
       "      <td>2</td>\n",
       "      <td>GAACT,AAGAA,AAGAA</td>\n",
       "    </tr>\n",
       "    <tr>\n",
       "      <td>15</td>\n",
       "      <td>S</td>\n",
       "      <td>2</td>\n",
       "      <td>1</td>\n",
       "      <td>0</td>\n",
       "      <td>TGACA,TGACC,AGAC</td>\n",
       "    </tr>\n",
       "    <tr>\n",
       "      <td>17</td>\n",
       "      <td>ORF3a</td>\n",
       "      <td>2</td>\n",
       "      <td>0</td>\n",
       "      <td>0</td>\n",
       "      <td>GAACT,TAACT</td>\n",
       "    </tr>\n",
       "    <tr>\n",
       "      <td>19</td>\n",
       "      <td>ORF3a</td>\n",
       "      <td>1</td>\n",
       "      <td>0</td>\n",
       "      <td>0</td>\n",
       "      <td>TAACC</td>\n",
       "    </tr>\n",
       "    <tr>\n",
       "      <td>22</td>\n",
       "      <td>M</td>\n",
       "      <td>1</td>\n",
       "      <td>1</td>\n",
       "      <td>0</td>\n",
       "      <td>AGACT,AGAC</td>\n",
       "    </tr>\n",
       "    <tr>\n",
       "      <td>24</td>\n",
       "      <td>ORF7a</td>\n",
       "      <td>0</td>\n",
       "      <td>0</td>\n",
       "      <td>1</td>\n",
       "      <td>AAGAA</td>\n",
       "    </tr>\n",
       "    <tr>\n",
       "      <td>27</td>\n",
       "      <td>N</td>\n",
       "      <td>16</td>\n",
       "      <td>7</td>\n",
       "      <td>1</td>\n",
       "      <td>GGACC,GGACC,TAACC,AAACA,AGACC,GGACA,TAACA,TGAC...</td>\n",
       "    </tr>\n",
       "    <tr>\n",
       "      <td>28</td>\n",
       "      <td>N</td>\n",
       "      <td>7</td>\n",
       "      <td>3</td>\n",
       "      <td>1</td>\n",
       "      <td>TAACA,GAACA,GGACC,GAACT,AGACA,GAACT,AAACA,AGAC...</td>\n",
       "    </tr>\n",
       "    <tr>\n",
       "      <td>30</td>\n",
       "      <td>N</td>\n",
       "      <td>4</td>\n",
       "      <td>1</td>\n",
       "      <td>1</td>\n",
       "      <td>TGACC,TGACA,AAACA,GGACA,GGAC,AAGAA</td>\n",
       "    </tr>\n",
       "    <tr>\n",
       "      <td>31</td>\n",
       "      <td>N</td>\n",
       "      <td>4</td>\n",
       "      <td>1</td>\n",
       "      <td>1</td>\n",
       "      <td>AGACA,AAACA,AAACT,TGACT,AGAC,AAGAA</td>\n",
       "    </tr>\n",
       "    <tr>\n",
       "      <td>33</td>\n",
       "      <td>N</td>\n",
       "      <td>1</td>\n",
       "      <td>0</td>\n",
       "      <td>0</td>\n",
       "      <td>TGACT</td>\n",
       "    </tr>\n",
       "    <tr>\n",
       "      <td>34</td>\n",
       "      <td>ORF10</td>\n",
       "      <td>2</td>\n",
       "      <td>0</td>\n",
       "      <td>0</td>\n",
       "      <td>TAACT,TAACT</td>\n",
       "    </tr>\n",
       "  </tbody>\n",
       "</table>\n",
       "</div>"
      ],
      "text/plain": [
       "     loci  DRACH  RGAC  AAGAA  \\\n",
       "0       S      1     0      0   \n",
       "2       S      9     2      0   \n",
       "3       S      1     1      0   \n",
       "9       S      3     0      0   \n",
       "10      S      2     2      0   \n",
       "14      S      1     0      2   \n",
       "15      S      2     1      0   \n",
       "17  ORF3a      2     0      0   \n",
       "19  ORF3a      1     0      0   \n",
       "22      M      1     1      0   \n",
       "24  ORF7a      0     0      1   \n",
       "27      N     16     7      1   \n",
       "28      N      7     3      1   \n",
       "30      N      4     1      1   \n",
       "31      N      4     1      1   \n",
       "33      N      1     0      0   \n",
       "34  ORF10      2     0      0   \n",
       "\n",
       "                                             Sequence  \n",
       "0                                               TGACT  \n",
       "2   GGACT,GAACC,AGACT,TGACC,AAACA,AAACT,TAACT,AAAC...  \n",
       "3                                          AGACA,AGAC  \n",
       "9                                   AAACA,GAACA,TGACA  \n",
       "10                              AGACT,AGACT,AGAC,AGAC  \n",
       "14                                  GAACT,AAGAA,AAGAA  \n",
       "15                                   TGACA,TGACC,AGAC  \n",
       "17                                        GAACT,TAACT  \n",
       "19                                              TAACC  \n",
       "22                                         AGACT,AGAC  \n",
       "24                                              AAGAA  \n",
       "27  GGACC,GGACC,TAACC,AAACA,AGACC,GGACA,TAACA,TGAC...  \n",
       "28  TAACA,GAACA,GGACC,GAACT,AGACA,GAACT,AAACA,AGAC...  \n",
       "30                 TGACC,TGACA,AAACA,GGACA,GGAC,AAGAA  \n",
       "31                 AGACA,AAACA,AAACT,TGACT,AGAC,AAGAA  \n",
       "33                                              TGACT  \n",
       "34                                        TAACT,TAACT  "
      ]
     },
     "execution_count": 2,
     "metadata": {},
     "output_type": "execute_result"
    }
   ],
   "source": [
    "import re\n",
    "import pandas as pd \n",
    "import numpy as np\n",
    "\n",
    "DRACH = re.compile('[AGT][AG]AC[ACT]') \n",
    "RGAC = re.compile('[AG]GAC') \n",
    "AAGAA = re.compile('AAGAA') \n",
    "\n",
    "def read_fasta(path):\n",
    "    file = open(path)\n",
    "    lines = file.read().splitlines()\n",
    "    ids = [s[1:] for s in lines if '>' in s]\n",
    "    n = [i for i,s in enumerate(lines) if '>' in s]\n",
    "    n.append(len(lines))\n",
    "    sequences = [''.join(lines[i+1:j]) for i,j in zip(n[:-1],n[1:])]\n",
    "    file.close()\n",
    "    fa = dict(zip(ids, sequences))\n",
    "    return fa\n",
    "\n",
    "def find_motifs(sam):\n",
    "    motifs = [[f.split('::')[0], \n",
    "         len(DRACH.findall(sam[f])), \n",
    "         len(RGAC.findall(sam[f])), \n",
    "         len(AAGAA.findall(sam[f])),\n",
    "         ','.join(DRACH.findall(sam[f]) + RGAC.findall(sam[f]) + AAGAA.findall(sam[f]))\n",
    "             ]\n",
    "        for n, f in enumerate(sam)\n",
    "              \n",
    "    ]\n",
    "    \n",
    "    df = pd.DataFrame(motifs, columns=[\"loci\",\"DRACH\", \"RGAC\", \"AAGAA\",\"Sequence\"])\n",
    "    \n",
    "    return df\n",
    "\n",
    "\n",
    "peaks = read_fasta('merge_peaks.fa')\n",
    "df = find_motifs(peaks)\n",
    "df.replace(df.iloc[1,4], np.nan, inplace=True)\n",
    "\n",
    "df.dropna(subset=[\"Sequence\"], inplace=True)\n",
    "df"
   ]
  },
  {
   "cell_type": "markdown",
   "metadata": {},
   "source": [
    "## internal control \n",
    "m6A+ m6A- [N6-Methyladenosine Enrichment Kit](https://international.neb.com/-/media/nebus/files/manuals/manuale1610.pdf?rev=c064d5e232414f709ef8bccee56f7687&hash=AAA94B8FDA043DD5A610E14686552B5E0209EA94)\n",
    "\n",
    "$$\\log_2\\dfrac{RIP}{IN}$$\n"
   ]
  },
  {
   "cell_type": "code",
   "execution_count": 198,
   "metadata": {},
   "outputs": [
    {
     "data": {
      "text/html": [
       "<div>\n",
       "<style scoped>\n",
       "    .dataframe tbody tr th:only-of-type {\n",
       "        vertical-align: middle;\n",
       "    }\n",
       "\n",
       "    .dataframe tbody tr th {\n",
       "        vertical-align: top;\n",
       "    }\n",
       "\n",
       "    .dataframe thead th {\n",
       "        text-align: right;\n",
       "    }\n",
       "</style>\n",
       "<table border=\"1\" class=\"dataframe\">\n",
       "  <thead>\n",
       "    <tr style=\"text-align: right;\">\n",
       "      <th></th>\n",
       "      <th>CoV-2 Ct</th>\n",
       "      <th>Number of peaks</th>\n",
       "      <th>m6A_pos_ctrl</th>\n",
       "      <th>m6A_neg_ctrl</th>\n",
       "    </tr>\n",
       "    <tr>\n",
       "      <th>Sample</th>\n",
       "      <th></th>\n",
       "      <th></th>\n",
       "      <th></th>\n",
       "      <th></th>\n",
       "    </tr>\n",
       "  </thead>\n",
       "  <tbody>\n",
       "    <tr>\n",
       "      <td>S0008</td>\n",
       "      <td>19.6</td>\n",
       "      <td>10</td>\n",
       "      <td>3.683781</td>\n",
       "      <td>-2.090802</td>\n",
       "    </tr>\n",
       "    <tr>\n",
       "      <td>S0009</td>\n",
       "      <td>18.5</td>\n",
       "      <td>12</td>\n",
       "      <td>6.804162</td>\n",
       "      <td>-0.219748</td>\n",
       "    </tr>\n",
       "    <tr>\n",
       "      <td>S0014</td>\n",
       "      <td>16.3</td>\n",
       "      <td>37</td>\n",
       "      <td>2.141356</td>\n",
       "      <td>-3.560361</td>\n",
       "    </tr>\n",
       "    <tr>\n",
       "      <td>S0017</td>\n",
       "      <td>24.0</td>\n",
       "      <td>17</td>\n",
       "      <td>1.651047</td>\n",
       "      <td>-7.253435</td>\n",
       "    </tr>\n",
       "    <tr>\n",
       "      <td>S0025</td>\n",
       "      <td>22.1</td>\n",
       "      <td>0</td>\n",
       "      <td>6.203816</td>\n",
       "      <td>-1.010379</td>\n",
       "    </tr>\n",
       "    <tr>\n",
       "      <td>S0026</td>\n",
       "      <td>15.6</td>\n",
       "      <td>17</td>\n",
       "      <td>8.585372</td>\n",
       "      <td>2.581687</td>\n",
       "    </tr>\n",
       "    <tr>\n",
       "      <td>S0030</td>\n",
       "      <td>17.0</td>\n",
       "      <td>17</td>\n",
       "      <td>8.069236</td>\n",
       "      <td>1.410737</td>\n",
       "    </tr>\n",
       "    <tr>\n",
       "      <td>S0042</td>\n",
       "      <td>28.0</td>\n",
       "      <td>0</td>\n",
       "      <td>4.671282</td>\n",
       "      <td>-0.919416</td>\n",
       "    </tr>\n",
       "    <tr>\n",
       "      <td>S0057</td>\n",
       "      <td>26.7</td>\n",
       "      <td>3</td>\n",
       "      <td>8.344047</td>\n",
       "      <td>-1.969256</td>\n",
       "    </tr>\n",
       "    <tr>\n",
       "      <td>S0085</td>\n",
       "      <td>14.6</td>\n",
       "      <td>33</td>\n",
       "      <td>6.607715</td>\n",
       "      <td>0.843608</td>\n",
       "    </tr>\n",
       "  </tbody>\n",
       "</table>\n",
       "</div>"
      ],
      "text/plain": [
       "        CoV-2 Ct  Number of peaks  m6A_pos_ctrl  m6A_neg_ctrl\n",
       "Sample                                                       \n",
       "S0008       19.6               10      3.683781     -2.090802\n",
       "S0009       18.5               12      6.804162     -0.219748\n",
       "S0014       16.3               37      2.141356     -3.560361\n",
       "S0017       24.0               17      1.651047     -7.253435\n",
       "S0025       22.1                0      6.203816     -1.010379\n",
       "S0026       15.6               17      8.585372      2.581687\n",
       "S0030       17.0               17      8.069236      1.410737\n",
       "S0042       28.0                0      4.671282     -0.919416\n",
       "S0057       26.7                3      8.344047     -1.969256\n",
       "S0085       14.6               33      6.607715      0.843608"
      ]
     },
     "execution_count": 198,
     "metadata": {},
     "output_type": "execute_result"
    }
   ],
   "source": [
    "qPCR = pd.read_csv('first_dataset/RTqPCR.txt', sep='\\t',index_col=0)\n",
    "\n",
    "res = pd.read_csv('first_dataset/int_ctrl/result.txt', sep='\\t')\n",
    "\n",
    "# log2(RIP / IN)\n",
    "pos  = [np.log2(res.loc[i+1,'pos']/ res.loc[i,'pos']) for i in list(range(0,res.shape[0],2))] \n",
    "neg  = [np.log2(res.loc[i+1,'neg']/ res.loc[i,'neg']) for i in list(range(0,res.shape[0],2))] \n",
    "\n",
    "Samples = [res.iloc[i,0].split('_')[0] for i in list(range(0,res.shape[0],2))] \n",
    "\n",
    "log2res = pd.DataFrame(index=Samples) \n",
    "\n",
    "qPCR['m6A_pos_ctrl'] = pos \n",
    "qPCR['m6A_neg_ctrl'] = neg \n",
    "\n",
    "qPCR "
   ]
  },
  {
   "cell_type": "markdown",
   "metadata": {},
   "source": [
    "### Total number of reads:"
   ]
  },
  {
   "cell_type": "markdown",
   "metadata": {},
   "source": [
    "virus"
   ]
  },
  {
   "cell_type": "code",
   "execution_count": 490,
   "metadata": {
    "scrolled": false
   },
   "outputs": [],
   "source": [
    "%%bash --err error\n",
    "mkdir -p total\n",
    "echo 'sample, reads' > total/virus.txt\n",
    "for f in virus_bam/*bam;\n",
    "\tdo \n",
    "    name=`basename $f`\n",
    "    name=${name/.bam/}\n",
    "    declare -i a=`samtools fastq $f | wc -l`\n",
    "    read=$((a / 4))\n",
    "    echo $name,$read >> total/virus.txt\n",
    "done"
   ]
  },
  {
   "cell_type": "markdown",
   "metadata": {},
   "source": [
    "human "
   ]
  },
  {
   "cell_type": "code",
   "execution_count": 491,
   "metadata": {
    "scrolled": false
   },
   "outputs": [],
   "source": [
    "%%bash --err error\n",
    "echo 'sample, reads' > total/human.txt\n",
    "for f in */bam/*.bam; \n",
    "\tdo \n",
    "    name=`basename $f`\n",
    "    name=${name/.bam/}\n",
    "    declare -i a=`samtools fastq $f | wc -l`\n",
    "    read=$((a / 4))\n",
    "    echo $name,$read >> total/human.txt\n",
    "done"
   ]
  },
  {
   "cell_type": "markdown",
   "metadata": {},
   "source": [
    "ctrl m6A_neg"
   ]
  },
  {
   "cell_type": "code",
   "execution_count": 16,
   "metadata": {
    "scrolled": false
   },
   "outputs": [],
   "source": [
    "%%bash --err error\n",
    "echo 'sample, reads' > total/m6A_neg.txt\n",
    "for f in */int_ctrl/virus/m6A_neg/*bam; \n",
    "\tdo \n",
    "    name=`basename $f`\n",
    "    name=${name/_S[0-9]*/}\n",
    "    name=${name/.bam/}\n",
    "    declare -i a=`samtools fastq $f | wc -l`\n",
    "    read=$((a / 4))\n",
    "    echo $name,$read >> total/m6A_neg.txt\n",
    "done"
   ]
  },
  {
   "cell_type": "markdown",
   "metadata": {},
   "source": [
    "ctrl m6A_pos"
   ]
  },
  {
   "cell_type": "code",
   "execution_count": 15,
   "metadata": {
    "scrolled": false
   },
   "outputs": [],
   "source": [
    "%%bash --err error\n",
    "echo 'sample, reads' > total/m6A_pos.txt\n",
    "for f in */int_ctrl/virus/m6A_pos/*bam; \n",
    "\tdo \n",
    "    name=`basename $f`\n",
    "    name=${name/_S[0-9]*/}\n",
    "    name=${name/.bam/}\n",
    "    declare -i a=`samtools fastq $f | wc -l`\n",
    "    read=$((a / 4))\n",
    "    echo $name,$read >> total/m6A_pos.txt\n",
    "done"
   ]
  },
  {
   "cell_type": "code",
   "execution_count": 30,
   "metadata": {},
   "outputs": [],
   "source": [
    "aligned = ['human','virus','m6A_pos','m6A_neg']\n",
    "total_df = pd.concat([pd.read_csv('total/'+a+'.txt', sep=',', index_col=0).sort_index() for a in aligned],axis=1)\n",
    "total_df.columns = aligned"
   ]
  },
  {
   "cell_type": "code",
   "execution_count": 356,
   "metadata": {},
   "outputs": [],
   "source": [
    "total_df.to_csv('total_reads.txt', sep='\\t')"
   ]
  },
  {
   "cell_type": "markdown",
   "metadata": {},
   "source": [
    "# Heatmap"
   ]
  },
  {
   "cell_type": "code",
   "execution_count": 496,
   "metadata": {},
   "outputs": [],
   "source": [
    "import os\n",
    "from scipy import stats \n",
    "import pandas as pd\n",
    "import matplotlib.pyplot as plt\n",
    "import seaborn as sns\n",
    "from matplotlib.patches import Rectangle\n",
    "import sklearn.preprocessing as pp\n",
    "\n",
    "def read_data(samples, total=total_df, norm='l1', raw=False):\n",
    "    all_samples = np.concatenate([[N+'_IN',N+'_RIP'] for N in samples]).tolist()\n",
    "    # Read count files as dataframe\n",
    "    df_list = [\n",
    "        pd.read_csv('virus_count/' + file, header=None, sep='\\t', index_col=0) \n",
    "        for file in [N+'.fc' for N in all_samples]\n",
    "    ]\n",
    "    # concatenate them together \n",
    "    big_df = pd.concat(df_list, axis=1)\n",
    "    big_df.columns = all_samples\n",
    "    # re-order peak names\n",
    "    reorder = list(range(0,20)) + list(range(27,35)) + list(range(20,27))\n",
    "    data = big_df.iloc[reorder,:]\n",
    "    # names\n",
    "    Peak_names = data.index.tolist()\n",
    "    n_sam = len(all_samples)\n",
    "    # normalize\n",
    "    total = total_df.loc[all_samples,].sum(axis=1)\n",
    "\n",
    "    total = np.array(total).T\n",
    "    data = np.array(data) \n",
    "    if raw == True:\n",
    "        raw_df = pd.DataFrame(data=data, columns=all_samples, index=Peak_names)\n",
    "        return raw_df\n",
    "    else:        \n",
    "        # log2 (RIP in peak / RIP total) / (IN in peak / IN total)\n",
    "        res = np.log2(\n",
    "            (\n",
    "                # RIP / RIP ctrl\n",
    "                data [:,np.array(range(1,n_sam,2))] \n",
    "                /\n",
    "                total[np.array(range(1,n_sam,2))]\n",
    "            ) / (\n",
    "                # IN / IN ctrl\n",
    "                data [:,np.array(range(0,n_sam,2))] \n",
    "                /\n",
    "                total[np.array(range(0,n_sam,2))]\n",
    "            )\n",
    "        )\n",
    "        # normalization by samples\n",
    "        if norm == None:\n",
    "            res = res\n",
    "        elif norm == 'min':\n",
    "            res = pp.minmax_scale(res, feature_range=(0, 1), axis=1)\n",
    "        elif norm == 'zscore':\n",
    "            res = stats.zscore(res, axis=0, ddof=1)\n",
    "        else:\n",
    "            res = pp.normalize(res, axis=1, norm=norm)\n",
    "\n",
    "        res_df = pd.DataFrame(data=res, columns=samples, index=Peak_names)\n",
    "        return res_df\n",
    "\n",
    "def add_border(plot,sig):\n",
    "    i,j = sig\n",
    "    plot.add_patch(Rectangle((i, j), 1, 1, fill=False, edgecolor='red', lw=5))\n",
    "\n",
    "def draw_heatmap(data, sig_labels='',borders=False,save=False, name_it=''):\n",
    "    heat_map = sns.heatmap(data,linewidth=2)\n",
    "    # add borders \n",
    "    if borders is True:\n",
    "        for sig in sig_labels: add_border (heat_map,sig)\n",
    "    \n",
    "    bottom, top = heat_map.get_ylim()\n",
    "    heat_map.set_ylim(bottom + 0.5, top - 0.5)\n",
    "    heat_map.set_yticklabels(heat_map.get_yticklabels(), rotation=0)\n",
    "    if save==True:\n",
    "        plt.savefig(name_it + '.png')\n",
    "        plt.savefig(name_it + '.pdf')\n",
    "    else:\n",
    "        plt.show()\n",
    "    return heat_map"
   ]
  },
  {
   "cell_type": "markdown",
   "metadata": {},
   "source": [
    "save raw counts "
   ]
  },
  {
   "cell_type": "code",
   "execution_count": 497,
   "metadata": {},
   "outputs": [],
   "source": [
    "raw_df = read_data([\n",
    "    \"S0008\",\"S0009\",\"S0014\",\"S0017\",\"S0025\",\"S0026\",\"S0030\",\"S0042\",\"S0057\",\"S0085\",\n",
    "    \"COV00075\",\"COV00079\",\"COV00084\",\"COV00087\",\"COV00093\",\"COV00106\",\n",
    "    \"COV00397\",\"COV00413\",\"COV00417\",\"COV00419\",\"COV00422\",\"COV00432\"\n",
    "], raw=True)\n",
    "\n",
    "raw_df.to_csv('raw_counts.txt', sep='\\t')"
   ]
  },
  {
   "cell_type": "code",
   "execution_count": 498,
   "metadata": {},
   "outputs": [],
   "source": [
    "Samples = ['S0014','S0026','S0030','S0085',\n",
    "           'COV00075','COV00084','COV00093','COV00106','COV00397','COV00413','COV00419','COV00422','COV00432']\n",
    "\n",
    "# final result\n",
    "res_df = read_data(Samples, norm='zscore')\n",
    "# names\n",
    "Peak_names = res_df.index.tolist()\n",
    "# res_df.to_csv('log2RIPvsIN.txt', sep='\\t')"
   ]
  },
  {
   "cell_type": "code",
   "execution_count": 499,
   "metadata": {},
   "outputs": [],
   "source": [
    "# significant peaks\n",
    "sig_peaks = ['exomepeak/virus/' + N + '_FDR_0.025/sig_peak.txt' for N in Samples]\n",
    "df_list = [pd.read_csv(file, header=None, sep='\\t', index_col=0) for N, file in zip(Samples, sig_peaks)]\n",
    "\n",
    "# significant peaks\n",
    "sig_labels = []\n",
    "for s, (name, df) in enumerate(zip(Samples,df_list)):\n",
    "    peak = df.index.drop_duplicates(keep='first')\n",
    "    sig_labels = sig_labels + [[n,s,] for n, p in enumerate(Peak_names) if p in peak]"
   ]
  },
  {
   "cell_type": "code",
   "execution_count": 500,
   "metadata": {},
   "outputs": [
    {
     "data": {
      "image/png": "[encoded data removed]",
      "text/plain": [
       "<Figure size 1296x360 with 2 Axes>"
      ]
     },
     "metadata": {
      "needs_background": "light"
     },
     "output_type": "display_data"
    }
   ],
   "source": [
    "plt.figure(figsize=(18,5))\n",
    "h = draw_heatmap(res_df.T, sig_labels, borders=True)"
   ]
  },
  {
   "cell_type": "code",
   "execution_count": 502,
   "metadata": {},
   "outputs": [],
   "source": [
    "sig_df = res_df\n",
    "sig_df.loc[:,:] = 1\n",
    "\n",
    "for name, df in zip(Samples,df_list):\n",
    "    peak = df.index.drop_duplicates(keep='first')\n",
    "    pval = df.loc[~df.index.duplicated(keep='first')]\n",
    "    s = sig_df.loc[peak,name].shape\n",
    "    sig_df.loc[peak,name] = pval.to_numpy().reshape(s)\n",
    "sig_df[sig_df == 0] = 1\n",
    "# res_df.to_csv('log2RIPvsIN.txt', sep='\\t')"
   ]
  },
  {
   "cell_type": "markdown",
   "metadata": {},
   "source": [
    "significancy matrix. "
   ]
  },
  {
   "cell_type": "code",
   "execution_count": 503,
   "metadata": {},
   "outputs": [
    {
     "data": {
      "image/png": "[encoded data removed]",
      "text/plain": [
       "<Figure size 1296x360 with 2 Axes>"
      ]
     },
     "metadata": {
      "needs_background": "light"
     },
     "output_type": "display_data"
    }
   ],
   "source": [
    "plt.figure(figsize=(18,5))\n",
    "h = draw_heatmap(- np.log10(sig_df.T),sig_labels,borders=True)"
   ]
  },
  {
   "cell_type": "code",
   "execution_count": 504,
   "metadata": {},
   "outputs": [],
   "source": [
    "sig_df.to_csv('peak_pval.txt', sep='\\t')"
   ]
  },
  {
   "cell_type": "markdown",
   "metadata": {},
   "source": [
    "binary map"
   ]
  },
  {
   "cell_type": "code",
   "execution_count": 506,
   "metadata": {},
   "outputs": [
    {
     "data": {
      "image/png": "[encoded data removed]",
      "text/plain": [
       "<Figure size 1296x360 with 2 Axes>"
      ]
     },
     "metadata": {
      "needs_background": "light"
     },
     "output_type": "display_data"
    }
   ],
   "source": [
    "# binary peaks \n",
    "bin_df = res_df\n",
    "bin_df.loc[:,:] = 0\n",
    "\n",
    "for name, df in zip(Samples,df_list):\n",
    "    peak = df.index.drop_duplicates(keep='first')\n",
    "    bin_df.loc[peak,name] = 1\n",
    "    \n",
    "# res_df.to_csv('log2RIPvsIN.txt', sep='\\t')\n",
    "\n",
    "plt.figure(figsize=(18,5))\n",
    "h = draw_heatmap(bin_df.T,sig_labels,borders=True, save=True, name_it='heatmap_binary')\n"
   ]
  },
  {
   "cell_type": "markdown",
   "metadata": {},
   "source": [
    "visualize peaks:"
   ]
  },
  {
   "cell_type": "markdown",
   "metadata": {},
   "source": [
    "https://rockefelleruniversity.github.io/RU_VisualizingGenomicsData/viz_course/Presentations/singlepage/Viz_part_1.html"
   ]
  },
  {
   "cell_type": "code",
   "execution_count": null,
   "metadata": {},
   "outputs": [],
   "source": [
    "# %load_ext rpy2.ipython"
   ]
  },
  {
   "cell_type": "code",
   "execution_count": 483,
   "metadata": {},
   "outputs": [],
   "source": [
    "# %%R\n",
    "# library(dplyr)\n",
    "# library(rtracklayer)\n",
    "# library(GenomicFeatures)\n",
    "# library(Gviz)\n",
    "\n",
    "# GTF = 'virus/coronavirus_2_isolate_Wuhan-Hu-1.gff3'\n",
    "# ### load genomes\n",
    "# txdb <- makeTxDbFromGFF(GTF, organism=NA )\n",
    "# genomeAxis <- GenomeAxisTrack()"
   ]
  },
  {
   "cell_type": "code",
   "execution_count": 484,
   "metadata": {},
   "outputs": [],
   "source": [
    "# %%R\n",
    "# columns(txdb)"
   ]
  },
  {
   "cell_type": "code",
   "execution_count": 485,
   "metadata": {},
   "outputs": [],
   "source": [
    "# %%R\n",
    "# keytypes(txdb)"
   ]
  },
  {
   "cell_type": "code",
   "execution_count": 486,
   "metadata": {},
   "outputs": [],
   "source": [
    "# %%R\n",
    "# gen = 'N'\n",
    "# distance = 1000\n",
    "\n",
    "\n",
    "\n",
    "# # S_peak <- DataTrack(merge_peaks,chromosome=\"chr\",\n",
    "# #                    name=\"S\",\n",
    "# #                    type=\"b\")"
   ]
  },
  {
   "cell_type": "code",
   "execution_count": 487,
   "metadata": {},
   "outputs": [],
   "source": [
    "# %%R\n",
    "# seqlevels(txdb) <- 'chr'\n",
    "# grtrack <- GeneRegionTrack(\n",
    "#     txdb, \n",
    "#     chromosome = 'chr', name = \"Gene Model\",\n",
    "# #     transcriptAnnotation = \"symbol\", \n",
    "#     background.panel = \"#FFFEDB\", background.title = \"darkblue\"\n",
    "# )"
   ]
  },
  {
   "cell_type": "code",
   "execution_count": 488,
   "metadata": {},
   "outputs": [],
   "source": [
    "# %%R\n",
    "# merge_peaks <- import.bed(\"merge_peaks.c.bed\")\n",
    "# seqlevels(merge_peaks) <- 'chr'"
   ]
  },
  {
   "cell_type": "code",
   "execution_count": 489,
   "metadata": {},
   "outputs": [],
   "source": [
    "# %%R\n",
    "# plotTracks(c(S_peak,grtrack),\n",
    "#            chromosome=\"chr1\",\n",
    "#            from=0,\n",
    "#            to=100000,\n",
    "#            type=\"b\") #,pch=15,cex=2)\n"
   ]
  },
  {
   "cell_type": "code",
   "execution_count": 490,
   "metadata": {},
   "outputs": [],
   "source": [
    "# %%R\n",
    "# RIP_bw <- list.files(path='virus_bw/', pattern=\"RIP.bw\")\n",
    "# IN_bw <- list.files(path='virus_bw/', pattern=\"IN.bw\")\n",
    "\n",
    "# Names = gsub(\"_IN.bw\", \"\", IN_bw)"
   ]
  },
  {
   "cell_type": "code",
   "execution_count": 491,
   "metadata": {},
   "outputs": [],
   "source": [
    "# %%R\n",
    "# function (sample, chr, gen, start, end) {\n",
    "#     IN  <- paste(sample, 'IN', sep='_')\n",
    "#     RIP <- paste(sample, 'RIP', sep='_')\n",
    "    \n",
    "#     IN_file  <- rtracklayer::import.bw(IN,  as=\"GRanges\")\n",
    "#     RIP_file <- rtracklayer::import.bw(RIP, as=\"GRanges\")\n",
    "\n",
    "    \n",
    "#     GENE <- select(txdb,keys=gen, columns = \"GENEID\",keytype = \"TXNAME\")\n",
    "#     GENE <- genes(txdb)[genes(txdb)$gene_id %in% GENE$GENEID]\n",
    "\n",
    "#     start(GENE) <- start(GENE) - distance\n",
    "#     end(GENE)   <- end(GENE) + distance\n",
    "\n",
    "    \n",
    "#     ots <- list()\n",
    "#     #create data\n",
    "#     dtrack_IN  <- DataTrack(\n",
    "#         IN_file, chromosome=chr, from=start, to=end, \n",
    "#         name=paste(name, 'Input'), type=(\"hist\")\n",
    "#     )\n",
    "    \n",
    "#     dtrack_RIP <- DataTrack(\n",
    "#         RIP_file, chromosome=chr, from=start, to=end, \n",
    "#         name=paste(name, 'm6A'),   type=(\"hist\")\n",
    "#         groups = factor(all_cond[d+1],levels = c(all_cond[d],all_cond[d+1]))\n",
    "#     )\n",
    "\n",
    "    \n",
    "#     # Overlay IP and Input\n",
    "#     displayPars(dtrack) <- list(groups = factor(all_cond[d],levels = c(all_cond[d],all_cond[d+1]) ),\n",
    "#                                                 legend = TRUE)\n",
    "#     ots <- append (ots, OverlayTrack(trackList=list(dtrack2, dtrack)))\n",
    "# }\n",
    "\n",
    "    \n",
    "# }"
   ]
  },
  {
   "cell_type": "code",
   "execution_count": 492,
   "metadata": {},
   "outputs": [],
   "source": [
    "# %%R\n",
    "# ####\n",
    "# ots <- list()\n",
    "# for (d in seq(1, by = 2, len = length(all_cond)/2)){\n",
    "#     #create data\n",
    "#     dtrack <- DataTrack(range = get(paste('bedgraph_X', d,sep='')), genome = \"mm10\",\n",
    "#                         from = , \n",
    "#                         to = ,\n",
    "#                         chromosome = as.character(gene_stats$Chr[cc]))\n",
    "#     dtrack2<- DataTrack(range = get(paste('bedgraph_X', d + 1,sep='')), genome = \"mm10\",\n",
    "#                         from = gene_stats$Start[cc] - Z_out, to = gene_stats$End[cc] + Z_out,\n",
    "#                         chromosome = as.character(gene_stats$Chr[cc]),\n",
    "#                         groups = factor(all_cond[d+1],levels = c(all_cond[d],all_cond[d+1])))\n",
    "#     # Overlay IP and Input\n",
    "#     displayPars(dtrack) <- list(groups = factor(all_cond[d],levels = c(all_cond[d],all_cond[d+1]) ),\n",
    "#                                                 legend = TRUE)\n",
    "#     ots <- append (ots, OverlayTrack(trackList=list(dtrack2, dtrack)))\n",
    "# }\n",
    "\n",
    "# itrack <- IdeogramTrack(genome = 'mm10', chromosome = as.character(gene_stats$Chr[cc]))\n",
    "# gtrack <- GenomeAxisTrack()\n",
    "# plotTracks(append (list (itrack, gtrack), ots),\n",
    "#            from = gene_stats$Start[cc] - Z_out, to = gene_stats$End[cc] + Z_out,\n",
    "#            ylim = y_lim, type = \"smooth\")\n",
    "# plotTracks(list (itrack, grtrack, gtrack),\n",
    "#            from = gene_stats$Start[cc], to = gene_stats$End[cc], main = \"Transcripts\",\n",
    "#            extend.left=l_scale, extend.right=r_scale)"
   ]
  }
 ],
 "metadata": {
  "kernelspec": {
   "display_name": "Python 3",
   "language": "python",
   "name": "python3"
  },
  "language_info": {
   "codemirror_mode": {
    "name": "ipython",
    "version": 3
   },
   "file_extension": ".py",
   "mimetype": "text/x-python",
   "name": "python",
   "nbconvert_exporter": "python",
   "pygments_lexer": "ipython3",
   "version": "3.7.3"
  }
 },
 "nbformat": 4,
 "nbformat_minor": 2
}
