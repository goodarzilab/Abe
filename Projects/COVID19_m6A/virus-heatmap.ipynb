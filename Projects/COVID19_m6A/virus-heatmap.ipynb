{
 "cells": [
  {
   "cell_type": "markdown",
   "metadata": {},
   "source": [
    "#### Virus genome \n",
    "5. Using `STAR` to build index and map COVID19 genome to unaligned reads to the human genome.\n",
    "    According to Matt's epxeriance ([link](https://github.com/goodarzilab/khorms/blob/master/side_projects/COVID_DMSseq_library.ipynb)), I'm using [this genome annotation](https://www.ncbi.nlm.nih.gov/nuccore/MN908947?%3Fdb=nucleotide). \n",
    "        - input: fastq\n",
    "            output2 of step 2. \n",
    "        - output: bam \n",
    "\n",
    "\n",
    "6. Using `exomePeak` with custom option that make it work for calling virus peaks. \n",
    "        - input1: gtf\n",
    "        - input2: bam\n",
    "        - output: bed12\n",
    "\n",
    "7. Albertas is using m6A+ m6A- internal controls from [N6-Methyladenosine Enrichment Kit](https://international.neb.com/-/media/nebus/files/manuals/manuale1610.pdf?rev=c064d5e232414f709ef8bccee56f7687&hash=AAA94B8FDA043DD5A610E14686552B5E0209EA94). I'm using `bowtie2` to align reads in the `output2` from step 2. In a scatter plot, qPCR Ct for each patients is compered with number of virus m6A peaks.\n",
    "\n",
    "\n",
    "8. Merge and intersect peaks found in all samples into a single `bed6` file and extract peak sequences. \n",
    "        - inputs: bed12\n",
    "            outputs of step 6\n",
    "        - output1: bed\n",
    "        - output2: fasta\n",
    "\n",
    "9. Count virus peaks as features using `bamToBed` plus `intersectBed` to count reads that aligned to each peaks. \n",
    "        - input1: bam \n",
    "            output of step 5.\n",
    "        - input2: bed\n",
    "            output1 of step 8. \n",
    "        - output: count-matrix \n",
    "\n",
    "        \n",
    "10. Motif analysis using `regex` by extracting the sequence of each peaks and quary patterns\n",
    "        - input: fasta\n",
    "            output2 of step 8. \n",
    "        - output: motif-dataframe\n",
    "\n",
    "\n",
    "12. Implement R code from [here](https://github.com/lzcyzm/exomePeak/blob/master/R/ctest.R) to run `ctest` which evaluate m6A vs. input foldchange, pvalue and fdr for every peaks in all 22 samples. \n",
    "\n",
    "\n",
    "11. Also, there are WGS `fasta` results for several samples. For mutation analysis, I'm applying fuzzy string matching which calculate **Levenshtein Distance** between each peak sequence within the sample sequence."
   ]
  },
  {
   "cell_type": "code",
   "execution_count": 2,
   "metadata": {},
   "outputs": [
    {
     "name": "stdout",
     "output_type": "stream",
     "text": [
      "3.6.10 | packaged by conda-forge | (default, Apr 24 2020, 16:44:11) \n",
      "[GCC 7.3.0]\n"
     ]
    }
   ],
   "source": [
    "import re\n",
    "import os \n",
    "import sys \n",
    "import glob\n",
    "import pandas as pd\n",
    "import numpy as np\n",
    "import matplotlib.pyplot as plt\n",
    "import seaborn as sns\n",
    "from fuzzywuzzy import fuzz\n",
    "from scipy import stats \n",
    "from matplotlib.patches import Rectangle\n",
    "import sklearn.preprocessing as pp\n",
    "import rpy2.robjects as ob\n",
    "\n",
    "print (sys.version)"
   ]
  },
  {
   "cell_type": "code",
   "execution_count": 3,
   "metadata": {},
   "outputs": [],
   "source": [
    "Samples = [\n",
    "    \"S0008\",\"S0009\",\"S0014\",\"S0017\",\"S0025\",\n",
    "    \"S0026\",\"S0030\",\"S0042\",\"S0057\",\"S0085\",\n",
    "    \"COV00075\",\"COV00079\",\"COV00084\",\"COV00087\",\"COV00093\",\"COV00106\",\n",
    "    \"COV00397\",\"COV00413\",\"COV00417\",\"COV00419\",\"COV00422\",\"COV00432\"    \n",
    "]"
   ]
  },
  {
   "cell_type": "code",
   "execution_count": 5,
   "metadata": {},
   "outputs": [],
   "source": [
    "renameSamples = [S.replace('S', 'COV0') for S in Samples]"
   ]
  },
  {
   "cell_type": "code",
   "execution_count": 6,
   "metadata": {
    "scrolled": false
   },
   "outputs": [
    {
     "data": {
      "text/html": [
       "<div>\n",
       "<style scoped>\n",
       "    .dataframe tbody tr th:only-of-type {\n",
       "        vertical-align: middle;\n",
       "    }\n",
       "\n",
       "    .dataframe tbody tr th {\n",
       "        vertical-align: top;\n",
       "    }\n",
       "\n",
       "    .dataframe thead th {\n",
       "        text-align: right;\n",
       "    }\n",
       "</style>\n",
       "<table border=\"1\" class=\"dataframe\">\n",
       "  <thead>\n",
       "    <tr style=\"text-align: right;\">\n",
       "      <th></th>\n",
       "      <th>Unnamed: 0</th>\n",
       "      <th>loci</th>\n",
       "      <th>DRACH</th>\n",
       "      <th>RGAC</th>\n",
       "      <th>AAGAA</th>\n",
       "      <th>Sequence</th>\n",
       "    </tr>\n",
       "  </thead>\n",
       "  <tbody>\n",
       "    <tr>\n",
       "      <th>0</th>\n",
       "      <td>0</td>\n",
       "      <td>S_peak</td>\n",
       "      <td>12</td>\n",
       "      <td>3</td>\n",
       "      <td>0</td>\n",
       "      <td>GGACT,GAACC,AGACT,TGACC,AAACA,AAACT,TAACT,AAAC...</td>\n",
       "    </tr>\n",
       "    <tr>\n",
       "      <th>1</th>\n",
       "      <td>2</td>\n",
       "      <td>S_peak_3</td>\n",
       "      <td>3</td>\n",
       "      <td>1</td>\n",
       "      <td>0</td>\n",
       "      <td>GAACT,TGACA,TGACC,AGAC</td>\n",
       "    </tr>\n",
       "    <tr>\n",
       "      <th>2</th>\n",
       "      <td>3</td>\n",
       "      <td>S_peak_4</td>\n",
       "      <td>23</td>\n",
       "      <td>7</td>\n",
       "      <td>1</td>\n",
       "      <td>GAACT,TGACA,GGACT,GGACC,TAACC,TAACA,AGACC,AAAC...</td>\n",
       "    </tr>\n",
       "    <tr>\n",
       "      <th>3</th>\n",
       "      <td>4</td>\n",
       "      <td>S_peak_5</td>\n",
       "      <td>2</td>\n",
       "      <td>0</td>\n",
       "      <td>0</td>\n",
       "      <td>TAACA,AAACC</td>\n",
       "    </tr>\n",
       "    <tr>\n",
       "      <th>4</th>\n",
       "      <td>5</td>\n",
       "      <td>S_peak_6</td>\n",
       "      <td>4</td>\n",
       "      <td>1</td>\n",
       "      <td>0</td>\n",
       "      <td>GAACT,GGACC,AAACA,TAACA,GGAC</td>\n",
       "    </tr>\n",
       "    <tr>\n",
       "      <th>...</th>\n",
       "      <td>...</td>\n",
       "      <td>...</td>\n",
       "      <td>...</td>\n",
       "      <td>...</td>\n",
       "      <td>...</td>\n",
       "      <td>...</td>\n",
       "    </tr>\n",
       "    <tr>\n",
       "      <th>161</th>\n",
       "      <td>163</td>\n",
       "      <td>N_peak_43</td>\n",
       "      <td>35</td>\n",
       "      <td>12</td>\n",
       "      <td>5</td>\n",
       "      <td>GGACC,GGACC,TAACC,AAACA,AGACC,GGACA,TAACA,TGAC...</td>\n",
       "    </tr>\n",
       "    <tr>\n",
       "      <th>162</th>\n",
       "      <td>164</td>\n",
       "      <td>N_peak_44</td>\n",
       "      <td>7</td>\n",
       "      <td>4</td>\n",
       "      <td>0</td>\n",
       "      <td>GGACC,TAACC,AAACA,AGACC,GGACA,TAACA,TGACC,GGAC...</td>\n",
       "    </tr>\n",
       "    <tr>\n",
       "      <th>163</th>\n",
       "      <td>165</td>\n",
       "      <td>N_peak_45</td>\n",
       "      <td>1</td>\n",
       "      <td>0</td>\n",
       "      <td>0</td>\n",
       "      <td>GAACA</td>\n",
       "    </tr>\n",
       "    <tr>\n",
       "      <th>164</th>\n",
       "      <td>166</td>\n",
       "      <td>N_peak_46</td>\n",
       "      <td>5</td>\n",
       "      <td>1</td>\n",
       "      <td>0</td>\n",
       "      <td>AGACA,GAACT,AAACA,TGACC,TGACA,AGAC</td>\n",
       "    </tr>\n",
       "    <tr>\n",
       "      <th>165</th>\n",
       "      <td>167</td>\n",
       "      <td>ORF10_peak</td>\n",
       "      <td>2</td>\n",
       "      <td>0</td>\n",
       "      <td>0</td>\n",
       "      <td>TAACT,TAACT</td>\n",
       "    </tr>\n",
       "  </tbody>\n",
       "</table>\n",
       "<p>166 rows × 6 columns</p>\n",
       "</div>"
      ],
      "text/plain": [
       "     Unnamed: 0        loci  DRACH  RGAC  AAGAA  \\\n",
       "0             0      S_peak     12     3      0   \n",
       "1             2    S_peak_3      3     1      0   \n",
       "2             3    S_peak_4     23     7      1   \n",
       "3             4    S_peak_5      2     0      0   \n",
       "4             5    S_peak_6      4     1      0   \n",
       "..          ...         ...    ...   ...    ...   \n",
       "161         163   N_peak_43     35    12      5   \n",
       "162         164   N_peak_44      7     4      0   \n",
       "163         165   N_peak_45      1     0      0   \n",
       "164         166   N_peak_46      5     1      0   \n",
       "165         167  ORF10_peak      2     0      0   \n",
       "\n",
       "                                              Sequence  \n",
       "0    GGACT,GAACC,AGACT,TGACC,AAACA,AAACT,TAACT,AAAC...  \n",
       "1                               GAACT,TGACA,TGACC,AGAC  \n",
       "2    GAACT,TGACA,GGACT,GGACC,TAACC,TAACA,AGACC,AAAC...  \n",
       "3                                          TAACA,AAACC  \n",
       "4                         GAACT,GGACC,AAACA,TAACA,GGAC  \n",
       "..                                                 ...  \n",
       "161  GGACC,GGACC,TAACC,AAACA,AGACC,GGACA,TAACA,TGAC...  \n",
       "162  GGACC,TAACC,AAACA,AGACC,GGACA,TAACA,TGACC,GGAC...  \n",
       "163                                              GAACA  \n",
       "164                 AGACA,GAACT,AAACA,TGACC,TGACA,AGAC  \n",
       "165                                        TAACT,TAACT  \n",
       "\n",
       "[166 rows x 6 columns]"
      ]
     },
     "execution_count": 6,
     "metadata": {},
     "output_type": "execute_result"
    }
   ],
   "source": [
    "motif_df = pd.read_csv('Results/motif_analysis.txt', sep='\\t')\n",
    "motif_df"
   ]
  },
  {
   "cell_type": "markdown",
   "metadata": {},
   "source": [
    "Let's filter some peaks with `DRACH` and `RGAC` motifs for below analysis:"
   ]
  },
  {
   "cell_type": "code",
   "execution_count": 9,
   "metadata": {},
   "outputs": [
    {
     "data": {
      "text/plain": [
       "48"
      ]
     },
     "execution_count": 9,
     "metadata": {},
     "output_type": "execute_result"
    }
   ],
   "source": [
    "peaks_with_motifs = motif_df[\n",
    "    (motif_df.DRACH > 1) # & (motif_df.DRACH < 8) \n",
    "    &\n",
    "    (motif_df.RGAC > 0)\n",
    "    &\n",
    "    (motif_df.AAGAA > 0)\n",
    "].loci.tolist()\n",
    "len(peaks_with_motifs)"
   ]
  },
  {
   "cell_type": "markdown",
   "metadata": {},
   "source": [
    "We can draw borders around peaks which was significant in ctest. So, we have foldchange, pvalue, fdr for every peaks in every sample. \n",
    "There is WGS results for \n",
    "Also, we can zoom into peaks with expected motifs, peaks which mutated and etc. "
   ]
  },
  {
   "cell_type": "code",
   "execution_count": 43,
   "metadata": {},
   "outputs": [],
   "source": [
    "def read_counts(samples):\n",
    "    '''\n",
    "    Read raw counnt for IN and RIP into a pandas DataFrame    \n",
    "    '''\n",
    "    all_samples = np.concatenate([[N+'_IN',N+'_RIP'] for N in samples]).tolist()\n",
    "    # Read count files as dataframe\n",
    "    df_list = [\n",
    "        pd.read_csv('virus_count/' + file, header=None, sep='\\t', index_col=0) \n",
    "        for file in [N+'.fc' for N in all_samples]\n",
    "    ]\n",
    "    # concatenate them together \n",
    "    data = pd.concat(df_list, axis=1)\n",
    "    data.columns = all_samples\n",
    "    return data\n",
    "\n",
    "\n",
    "def peak_names(samples):\n",
    "    '''\n",
    "    Extract peak names    \n",
    "    '''\n",
    "    peak_names = read_counts(samples).index.tolist()\n",
    "    return peak_names\n",
    "\n",
    "\n",
    "def add_border(plot,sig):\n",
    "    '''\n",
    "    For a given heatmap plot [plot], this function draw rectangles \n",
    "    around an array defined as list in the input indices.  \n",
    "    '''\n",
    "    i,j = sig\n",
    "    plot.add_patch(Rectangle((i, j), 1, 1, fill=False, edgecolor='red', lw=5))\n",
    "\n",
    "    \n",
    "# https://towardsdatascience.com/how-to-create-a-plotly-visualization-and-embed-it-on-websites-517c1a78568b\n",
    "def draw_heatmap(data, borders=None, save=False, name_it='', vmin=None,vmax=None):\n",
    "    '''\n",
    "    Draw/save heatmap plot with option to draw rectangle around given cells \n",
    "    '''\n",
    "    heat_map = sns.heatmap(data,linewidth=2, vmin=vmin,vmax=vmax)\n",
    "    # add borders \n",
    "    if borders: \n",
    "        for sig in borders: add_border (heat_map,sig)\n",
    "    bottom, top = heat_map.get_ylim()\n",
    "    heat_map.set_ylim(bottom + 0.5, top - 0.5)\n",
    "    heat_map.set_yticklabels(heat_map.get_yticklabels(), rotation=0)\n",
    "    if save:\n",
    "        plt.savefig(name_it + '.png')\n",
    "        plt.savefig(name_it + '.pdf')\n",
    "    else:\n",
    "        plt.show()\n",
    "\n",
    "Peak_names = peak_names(Samples)\n",
    "Counts = read_counts(Samples)\n",
    "\n",
    "Counts.to_csv('Results/raw_counts.txt', sep='\\t')"
   ]
  },
  {
   "cell_type": "markdown",
   "metadata": {},
   "source": [
    "`ctest` results for every peaks in every samples are ready to go! "
   ]
  },
  {
   "cell_type": "code",
   "execution_count": 20,
   "metadata": {},
   "outputs": [],
   "source": [
    "pd.DataFrame([np.array(R[0]) for R in RESULTS], index=Samples,columns=Peak_names)\n",
    "= pd.DataFrame([np.array(R[1]) for R in RESULTS], index=Samples,columns=Peak_names)\n",
    "log_fc = pd.DataFrame([np.array(R[2]) for R in RESULTS], index=Samples,columns=Peak_names)"
   ]
  },
  {
   "cell_type": "code",
   "execution_count": 48,
   "metadata": {},
   "outputs": [],
   "source": [
    "log_p  = pd.read_csv('Results/ctest_log_p.txt', sep='\\t')\n",
    "log_fdr= pd.read_csv('Results/ctest_log_fdr.txt', sep='\\t')\n",
    "log_fc = pd.read_csv('Results/ctest_log_fc.txt', sep='\\t')"
   ]
  },
  {
   "cell_type": "code",
   "execution_count": 502,
   "metadata": {},
   "outputs": [],
   "source": [
    "\n",
    "# for s, (name, df) in enumerate(zip(Samples,df_list)):\n",
    "#     peak = df.index.drop_duplicates(keep='last')\n",
    "#     borders = pvalues + [[n,s,] for n, p in enumerate(Peak_names) if p in peak]\n",
    "# #     pvalues_df.loc[peak,name] = \n",
    "\n",
    "# # return pvalues\n",
    "# pvalues_df"
   ]
  },
  {
   "cell_type": "code",
   "execution_count": 457,
   "metadata": {},
   "outputs": [
    {
     "data": {
      "image/png": "[encoded data removed]",
      "text/plain": [
       "<Figure size 576x360 with 2 Axes>"
      ]
     },
     "metadata": {
      "needs_background": "light"
     },
     "output_type": "display_data"
    }
   ],
   "source": [
    "plt.figure(figsize=(8,5))\n",
    "draw_heatmap(log_fc.loc[Samples,mutated_peaks], vmin=-1,vmax=1)"
   ]
  },
  {
   "cell_type": "code",
   "execution_count": 465,
   "metadata": {},
   "outputs": [
    {
     "data": {
      "image/png": "[encoded data removed]",
      "text/plain": [
       "<Figure size 576x360 with 2 Axes>"
      ]
     },
     "metadata": {
      "needs_background": "light"
     },
     "output_type": "display_data"
    }
   ],
   "source": [
    "plt.figure(figsize=(8,5))\n",
    "draw_heatmap(\n",
    "    -1*log_p.loc[Samples,mutated_peaks], vmin = 2, vmax = 100\n",
    ")"
   ]
  },
  {
   "cell_type": "code",
   "execution_count": 1,
   "metadata": {},
   "outputs": [
    {
     "ename": "NameError",
     "evalue": "name 'sns' is not defined",
     "output_type": "error",
     "traceback": [
      "\u001b[0;31m---------------------------------------------------------------------------\u001b[0m",
      "\u001b[0;31mNameError\u001b[0m                                 Traceback (most recent call last)",
      "\u001b[0;32m<ipython-input-1-fd22629aac92>\u001b[0m in \u001b[0;36m<module>\u001b[0;34m\u001b[0m\n\u001b[0;32m----> 1\u001b[0;31m c = sns.clustermap(\n\u001b[0m\u001b[1;32m      2\u001b[0m     \u001b[0;34m-\u001b[0m\u001b[0;36m1\u001b[0m\u001b[0;34m*\u001b[0m\u001b[0mlog_p\u001b[0m\u001b[0;34m.\u001b[0m\u001b[0mloc\u001b[0m\u001b[0;34m[\u001b[0m\u001b[0mSamples\u001b[0m\u001b[0;34m,\u001b[0m\u001b[0mmutated_peaks\u001b[0m\u001b[0;34m]\u001b[0m\u001b[0;34m,\u001b[0m\u001b[0;34m\u001b[0m\u001b[0;34m\u001b[0m\u001b[0m\n\u001b[1;32m      3\u001b[0m     \u001b[0mcol_cluster\u001b[0m\u001b[0;34m=\u001b[0m\u001b[0;32mFalse\u001b[0m\u001b[0;34m,\u001b[0m \u001b[0mlinewidth\u001b[0m\u001b[0;34m=\u001b[0m\u001b[0;36m2\u001b[0m\u001b[0;34m,\u001b[0m\u001b[0mvmax\u001b[0m\u001b[0;34m=\u001b[0m\u001b[0;36m25\u001b[0m\u001b[0;34m,\u001b[0m\u001b[0;34m\u001b[0m\u001b[0;34m\u001b[0m\u001b[0m\n\u001b[1;32m      4\u001b[0m     \u001b[0mmethod\u001b[0m \u001b[0;34m=\u001b[0m \u001b[0;34m'complete'\u001b[0m\u001b[0;34m,\u001b[0m\u001b[0;34m\u001b[0m\u001b[0;34m\u001b[0m\u001b[0m\n\u001b[1;32m      5\u001b[0m     \u001b[0mfigsize\u001b[0m\u001b[0;34m=\u001b[0m\u001b[0;34m(\u001b[0m\u001b[0;36m8\u001b[0m\u001b[0;34m,\u001b[0m\u001b[0;36m5\u001b[0m\u001b[0;34m)\u001b[0m\u001b[0;34m\u001b[0m\u001b[0;34m\u001b[0m\u001b[0m\n",
      "\u001b[0;31mNameError\u001b[0m: name 'sns' is not defined"
     ]
    }
   ],
   "source": [
    "c = sns.clustermap(\n",
    "    -1*log_p.loc[Samples,mutated_peaks],\n",
    "    col_cluster=False, linewidth=2,vmax=25,\n",
    "    method = 'complete',\n",
    "    figsize=(8,5)\n",
    ")\n",
    "\n",
    "bottom, top = c.ax_heatmap.get_ylim()\n",
    "c.ax_heatmap.set_ylim(bottom + 0.5, top - 0.5)\n",
    "plt.show()\n",
    "# plt.savefig(name_it + '.png')\n",
    "# plt.savefig(name_it + '.pdf')\n"
   ]
  },
  {
   "cell_type": "markdown",
   "metadata": {},
   "source": [
    "## 12. Mutation analysis \n",
    "\n",
    "https://www.datacamp.com/community/tutorials/fuzzy-string-python\n",
    "\n",
    "Levenshtein Distance Equation\n",
    "https://medium.com/@ethannam/understanding-the-levenshtein-distance-equation-for-beginners-c4285a5604f0"
   ]
  },
  {
   "cell_type": "code",
   "execution_count": 237,
   "metadata": {},
   "outputs": [],
   "source": [
    "# peak sequences as dataframe\n",
    "peak_seq_df = pd.DataFrame(\n",
    "    list(peak_sequence.items()),\n",
    "    columns = ['coordinate','sequence']\n",
    ") \n",
    "peak_seq_df.index = [peak_seq_df.loc[p,'coordinate'].split('::')[0] for p in peak_seq_df.index]"
   ]
  },
  {
   "cell_type": "code",
   "execution_count": 238,
   "metadata": {},
   "outputs": [],
   "source": [
    "# WGS sequencing of patient samples as datafram\n",
    "files = glob.glob('virus_WGS/*.fasta')\n",
    "sample_seq_df = pd.DataFrame(columns = ['sequence']) \n",
    "for f in files:\n",
    "    sample = f.replace('virus_WGS/NM-n','').replace('.fasta','')\n",
    "    sample_seq_df.loc[sample] = list(read_fasta(f).values())"
   ]
  },
  {
   "cell_type": "code",
   "execution_count": 243,
   "metadata": {},
   "outputs": [],
   "source": [
    "# build empty numpy array \n",
    "mutation_mat = np.zeros((\n",
    "    sample_seq_df.shape[0], \n",
    "    peak_seq_df.shape[0]  \n",
    "))\n",
    "\n",
    "# nested for loop to run string matching between peak and sample sequencing\n",
    "for i, sample in enumerate(sample_seq_df['sequence'].to_list() ):\n",
    "    for j,peak in enumerate(peak_seq_df['sequence'].to_list() ):\n",
    "        mutation_mat[i,j] = fuzz.partial_ratio(sample, peak)\n",
    "        \n",
    "# column normalization of partial_ratio score\n",
    "mutation_mat_norm = pp.minmax_scale(mutation_mat, axis=0)\n",
    "\n",
    "mutation_df = pd.DataFrame(\n",
    "    mutation_mat,\n",
    "    index=sample_seq_df.index.to_list(), columns=peak_seq_df.index.to_list()\n",
    ")\n",
    "\n",
    "mutation_norm_df = pd.DataFrame(\n",
    "    mutation_mat_norm,\n",
    "    index=sample_seq_df.index.to_list(), columns=peak_seq_df.index.to_list()\n",
    ")\n",
    "\n",
    "mutation_df.to_csv('Results/mutation_mat_fuzzy_partial_ratio.txt', sep='\\t')\n",
    "mutation_norm_df.to_csv('Results/mutation_mat_norm.txt', sep='\\t')"
   ]
  },
  {
   "cell_type": "code",
   "execution_count": 396,
   "metadata": {},
   "outputs": [],
   "source": [
    "fresh = (100 - mutation_mat) - 30 \n",
    "fresh_df = pd.DataFrame(\n",
    "    fresh,\n",
    "    index=sample_seq_df.index.to_list(), columns=peak_seq_df.index.to_list()\n",
    ")"
   ]
  },
  {
   "cell_type": "code",
   "execution_count": 452,
   "metadata": {},
   "outputs": [],
   "source": [
    "mutated_peaks = mutation_norm_df.sum(axis=0) > 0"
   ]
  },
  {
   "cell_type": "code",
   "execution_count": 472,
   "metadata": {},
   "outputs": [],
   "source": [
    "# plt.figure(figsize=(8,5))\n",
    "# draw_heatmap(mutation_norm_df.loc[:,mutated_peaks], )\n",
    "# mutation_norm_df.loc[:,mutated_peaks]"
   ]
  },
  {
   "cell_type": "code",
   "execution_count": 454,
   "metadata": {},
   "outputs": [
    {
     "data": {
      "image/png": "[encoded data removed]",
      "text/plain": [
       "<Figure size 576x360 with 2 Axes>"
      ]
     },
     "metadata": {
      "needs_background": "light"
     },
     "output_type": "display_data"
    }
   ],
   "source": [
    "plt.figure(figsize=(8,5))\n",
    "draw_heatmap(fresh_df.loc[:,mutated_peaks], vmin=5)#, vmax=7)"
   ]
  },
  {
   "cell_type": "markdown",
   "metadata": {},
   "source": [
    "(not used scripts)"
   ]
  },
  {
   "cell_type": "markdown",
   "metadata": {},
   "source": [
    "### Total number of reads:\n",
    "1. Using `samtools` to convert `bam` files to `fastq` files \n",
    "2. Count total number of lines / by 4 as total number of reads "
   ]
  },
  {
   "cell_type": "markdown",
   "metadata": {},
   "source": [
    "virus"
   ]
  },
  {
   "cell_type": "code",
   "execution_count": 490,
   "metadata": {
    "scrolled": false
   },
   "outputs": [],
   "source": [
    "%%bash --err error\n",
    "mkdir -p total\n",
    "echo 'sample, reads' > total/virus.txt\n",
    "for f in virus_bam/*bam;\n",
    "\tdo \n",
    "    name=`basename $f`\n",
    "    name=${name/.bam/}\n",
    "    declare -i a=`samtools fastq $f | wc -l`\n",
    "    read=$((a / 4))\n",
    "    echo $name,$read >> total/virus.txt\n",
    "done"
   ]
  },
  {
   "cell_type": "markdown",
   "metadata": {},
   "source": [
    "human "
   ]
  },
  {
   "cell_type": "code",
   "execution_count": 491,
   "metadata": {
    "scrolled": false
   },
   "outputs": [],
   "source": [
    "%%bash --err error\n",
    "echo 'sample, reads' > total/human.txt\n",
    "for f in */bam/*.bam; \n",
    "\tdo \n",
    "    name=`basename $f`\n",
    "    name=${name/.bam/}\n",
    "    declare -i a=`samtools fastq $f | wc -l`\n",
    "    read=$((a / 4))\n",
    "    echo $name,$read >> total/human.txt\n",
    "done"
   ]
  },
  {
   "cell_type": "markdown",
   "metadata": {},
   "source": [
    "ctrl m6A_neg"
   ]
  },
  {
   "cell_type": "code",
   "execution_count": 16,
   "metadata": {
    "scrolled": false
   },
   "outputs": [],
   "source": [
    "%%bash --err error\n",
    "echo 'sample, reads' > total/m6A_neg.txt\n",
    "for f in */int_ctrl/virus/m6A_neg/*bam; \n",
    "\tdo \n",
    "    name=`basename $f`\n",
    "    name=${name/_S[0-9]*/}\n",
    "    name=${name/.bam/}\n",
    "    declare -i a=`samtools fastq $f | wc -l`\n",
    "    read=$((a / 4))\n",
    "    echo $name,$read >> total/m6A_neg.txt\n",
    "done"
   ]
  },
  {
   "cell_type": "markdown",
   "metadata": {},
   "source": [
    "ctrl m6A_pos"
   ]
  },
  {
   "cell_type": "code",
   "execution_count": 15,
   "metadata": {
    "scrolled": false
   },
   "outputs": [],
   "source": [
    "%%bash --err error\n",
    "echo 'sample, reads' > total/m6A_pos.txt\n",
    "for f in */int_ctrl/virus/m6A_pos/*bam; \n",
    "\tdo \n",
    "    name=`basename $f`\n",
    "    name=${name/_S[0-9]*/}\n",
    "    name=${name/.bam/}\n",
    "    declare -i a=`samtools fastq $f | wc -l`\n",
    "    read=$((a / 4))\n",
    "    echo $name,$read >> total/m6A_pos.txt\n",
    "done"
   ]
  },
  {
   "cell_type": "code",
   "execution_count": 266,
   "metadata": {},
   "outputs": [],
   "source": [
    "aligned = ['human','virus','m6A_pos','m6A_neg']\n",
    "total_df = pd.concat([pd.read_csv('total/'+a+'.txt', sep=',', index_col=0).sort_index() for a in aligned],axis=1)\n",
    "total_df.columns = aligned\n",
    "\n",
    "total_df.to_csv('total_reads.txt', sep='\\t')"
   ]
  },
  {
   "cell_type": "markdown",
   "metadata": {},
   "source": [
    "#### Read and normalize counts \n",
    "Log normalization of peak counts \n",
    "\n",
    "$$\\log_2 \\dfrac{\n",
    "    \\dfrac{\\text{m6A counts in the peak}}{\\text{m6A total counts}}\n",
    "    }{\n",
    "    \\dfrac{\\text{input counts in the peak}}{\\text{input total counts}}\n",
    "    }\n",
    "    $$\n"
   ]
  },
  {
   "cell_type": "code",
   "execution_count": null,
   "metadata": {},
   "outputs": [],
   "source": [
    "# def norm_counts(counts, samples, total_reads, norm='l1'):\n",
    "#     all_samples = np.concatenate([[N+'_IN',N+'_RIP'] for N in samples]).tolist()    \n",
    "#     peak_names = counts.index.tolist()\n",
    "#     n_sam = len(all_samples)\n",
    "#     # normalize\n",
    "#     total = total_reads.loc[all_samples,].sum(axis=1)\n",
    "#     total = np.array(total).T\n",
    "#     data = np.array(counts[all_samples]) \n",
    "#     # log2 (RIP in peak / RIP total) / (IN in peak / IN total)\n",
    "#     res = np.log2(\n",
    "#         (\n",
    "#             # RIP / RIP ctrl\n",
    "#             data [:,np.array(range(1,n_sam,2))] \n",
    "#             /\n",
    "#             total[np.array(range(1,n_sam,2))]\n",
    "#         ) / (\n",
    "#             # IN / IN ctrl\n",
    "#             data [:,np.array(range(0,n_sam,2))] \n",
    "#             /\n",
    "#             total[np.array(range(0,n_sam,2))]\n",
    "#         )\n",
    "#     )\n",
    "#     # normalization by samples\n",
    "#     if norm == None:\n",
    "#         res = res\n",
    "#     elif norm == 'min':\n",
    "#         res = pp.minmax_scale(res, feature_range=(0, 1), axis=1)\n",
    "#     elif norm == 'zscore':\n",
    "#         res = stats.zscore(res, axis=0, ddof=1)\n",
    "#     else:\n",
    "#         res = pp.normalize(res, axis=1, norm=norm)\n",
    "#     res_df = pd.DataFrame(data=res, columns=samples, index=peak_names)\n",
    "#     return res_df\n",
    "\n",
    "\n",
    "# Total = pd.read_csv('total_reads.txt', sep = '\\t', index_col=0)  \n",
    "# Norm_counts = norm_counts(Counts, Samples, Total, norm=None)\n",
    "# Norm_counts.to_csv('norm_counts.txt', sep='\\t')"
   ]
  }
 ],
 "metadata": {
  "kernelspec": {
   "display_name": "Python 3",
   "language": "python",
   "name": "python3"
  },
  "language_info": {
   "codemirror_mode": {
    "name": "ipython",
    "version": 3
   },
   "file_extension": ".py",
   "mimetype": "text/x-python",
   "name": "python",
   "nbconvert_exporter": "python",
   "pygments_lexer": "ipython3",
   "version": "3.6.10"
  }
 },
 "nbformat": 4,
 "nbformat_minor": 2
}
