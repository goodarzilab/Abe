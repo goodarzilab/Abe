{
 "cells": [
  {
   "cell_type": "markdown",
   "metadata": {},
   "source": [
    "# Meta-gene plots"
   ]
  },
  {
   "cell_type": "code",
   "execution_count": 38,
   "metadata": {},
   "outputs": [],
   "source": [
    "# %%bash\n",
    "# for f in plots/human/*mrna*.png; do\n",
    "#     base=`basename $f`\n",
    "#     base=${base/_mrna_test.png/}\n",
    "#     echo '<h4>'$base'<h4>'\n",
    "#     echo '<img src=\"'$f'\" style=\"height:400px\">'\n",
    "# done"
   ]
  },
  {
   "cell_type": "markdown",
   "metadata": {},
   "source": [
    "<h4>COV00075<h4>\n",
    "<img src=\"plots/human/COV00075_mrna_test.png\" style=\"height:400px\">\n",
    "<h4>COV00079<h4>\n",
    "<img src=\"plots/human/COV00079_mrna_test.png\" style=\"height:400px\">\n",
    "<h4>COV00084<h4>\n",
    "<img src=\"plots/human/COV00084_mrna_test.png\" style=\"height:400px\">\n",
    "<h4>COV00087<h4>\n",
    "<img src=\"plots/human/COV00087_mrna_test.png\" style=\"height:400px\">\n",
    "<h4>COV00093<h4>\n",
    "<img src=\"plots/human/COV00093_mrna_test.png\" style=\"height:400px\">\n",
    "<h4>COV00106<h4>\n",
    "<img src=\"plots/human/COV00106_mrna_test.png\" style=\"height:400px\">\n",
    "<h4>COV00397<h4>\n",
    "<img src=\"plots/human/COV00397_mrna_test.png\" style=\"height:400px\">\n",
    "<h4>COV00413<h4>\n",
    "<img src=\"plots/human/COV00413_mrna_test.png\" style=\"height:400px\">\n",
    "<h4>COV00417<h4>\n",
    "<img src=\"plots/human/COV00417_mrna_test.png\" style=\"height:400px\">\n",
    "<h4>COV00419<h4>\n",
    "<img src=\"plots/human/COV00419_mrna_test.png\" style=\"height:400px\">\n",
    "<h4>COV00422<h4>\n",
    "<img src=\"plots/human/COV00422_mrna_test.png\" style=\"height:400px\">\n",
    "<h4>COV00432<h4>\n",
    "<img src=\"plots/human/COV00432_mrna_test.png\" style=\"height:400px\">\n",
    "<h4>S0008<h4>\n",
    "<img src=\"plots/human/S0008_mrna_test.png\" style=\"height:400px\">\n",
    "<h4>S0009<h4>\n",
    "<img src=\"plots/human/S0009_mrna_test.png\" style=\"height:400px\">\n",
    "<h4>S0014<h4>\n",
    "<img src=\"plots/human/S0014_mrna_test.png\" style=\"height:400px\">\n",
    "<h4>S0017<h4>\n",
    "<img src=\"plots/human/S0017_mrna_test.png\" style=\"height:400px\">\n",
    "<h4>S0025<h4>\n",
    "<img src=\"plots/human/S0025_mrna_test.png\" style=\"height:400px\">\n",
    "<h4>S0026<h4>\n",
    "<img src=\"plots/human/S0026_mrna_test.png\" style=\"height:400px\">\n",
    "<h4>S0030<h4>\n",
    "<img src=\"plots/human/S0030_mrna_test.png\" style=\"height:400px\">\n",
    "<h4>S0042<h4>\n",
    "<img src=\"plots/human/S0042_mrna_test.png\" style=\"height:400px\">\n",
    "<h4>S0057<h4>\n",
    "<img src=\"plots/human/S0057_mrna_test.png\" style=\"height:400px\">\n",
    "<h4>S0085<h4>\n",
    "<img src=\"plots/human/S0085_mrna_test.png\" style=\"height:400px\">\n"
   ]
  },
  {
   "cell_type": "markdown",
   "metadata": {},
   "source": [
    "# FIRE motif analysis\n",
    "- [AG]GAC\n",
    "- [AGT][AG]AC[ACT]\n"
   ]
  },
  {
   "cell_type": "code",
   "execution_count": 31,
   "metadata": {},
   "outputs": [
    {
     "name": "stdout",
     "output_type": "stream",
     "text": [
      "<h4>COV00075<h4>\n",
      "<img src=\"plots/human/COV00075_FIRE.summary.png\" style=\"height:400px\">\n",
      "<h4>COV00397<h4>\n",
      "<img src=\"plots/human/COV00397_FIRE.summary.png\" style=\"height:400px\">\n",
      "<h4>COV00413<h4>\n",
      "<img src=\"plots/human/COV00413_FIRE.summary.png\" style=\"height:400px\">\n",
      "<h4>COV00417<h4>\n",
      "<img src=\"plots/human/COV00417_FIRE.summary.png\" style=\"height:400px\">\n",
      "<h4>COV00419<h4>\n",
      "<img src=\"plots/human/COV00419_FIRE.summary.png\" style=\"height:400px\">\n",
      "<h4>S0026<h4>\n",
      "<img src=\"plots/human/S0026_FIRE.summary.png\" style=\"height:400px\">\n",
      "<h4>S0085<h4>\n",
      "<img src=\"plots/human/S0085_FIRE.summary.png\" style=\"height:400px\">\n"
     ]
    }
   ],
   "source": [
    "%%bash\n",
    "for f in plots/human/*FIRE*.png; do\n",
    "    base=`basename $f`\n",
    "    base=${base/_FIRE.summary.png/}\n",
    "    echo '<h4>'$base'<h4>'\n",
    "    echo '<img src=\"'$f'\" style=\"height:400px\">'\n",
    "done"
   ]
  },
  {
   "cell_type": "markdown",
   "metadata": {},
   "source": [
    "<h4>COV00075<h4>\n",
    "<img src=\"plots/human/COV00075_FIRE.summary.png\" style=\"height:400px\">\n",
    "<h4>COV00397<h4>\n",
    "<img src=\"plots/human/COV00397_FIRE.summary.png\" style=\"height:400px\">\n",
    "<h4>COV00413<h4>\n",
    "<img src=\"plots/human/COV00413_FIRE.summary.png\" style=\"height:400px\">\n",
    "<h4>COV00417<h4>\n",
    "<img src=\"plots/human/COV00417_FIRE.summary.png\" style=\"height:400px\">\n",
    "<h4>COV00419<h4>\n",
    "<img src=\"plots/human/COV00419_FIRE.summary.png\" style=\"height:400px\">\n",
    "<h4>S0026<h4>\n",
    "<img src=\"plots/human/S0026_FIRE.summary.png\" style=\"height:400px\">\n",
    "<h4>S0085<h4>\n",
    "<img src=\"plots/human/S0085_FIRE.summary.png\" style=\"height:400px\">\n"
   ]
  },
  {
   "cell_type": "code",
   "execution_count": null,
   "metadata": {},
   "outputs": [],
   "source": []
  }
 ],
 "metadata": {
  "kernelspec": {
   "display_name": "Python 3",
   "language": "python",
   "name": "python3"
  },
  "language_info": {
   "codemirror_mode": {
    "name": "ipython",
    "version": 3
   },
   "file_extension": ".py",
   "mimetype": "text/x-python",
   "name": "python",
   "nbconvert_exporter": "python",
   "pygments_lexer": "ipython3",
   "version": "3.7.3"
  }
 },
 "nbformat": 4,
 "nbformat_minor": 2
}
