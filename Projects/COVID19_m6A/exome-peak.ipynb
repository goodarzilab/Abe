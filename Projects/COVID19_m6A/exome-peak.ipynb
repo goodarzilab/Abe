{
 "cells": [
  {
   "cell_type": "code",
   "execution_count": 4,
   "metadata": {
    "scrolled": false
   },
   "outputs": [
    {
     "name": "stdout",
     "output_type": "stream",
     "text": [
      "name: exomepeak1\r\n",
      "channels:\r\n",
      "  - anaconda\r\n",
      "  - python\r\n",
      "  - r\r\n",
      "  - bioconda\r\n",
      "  - conda-forge\r\n",
      "  - defaults\r\n",
      "dependencies:\r\n",
      "  - _libgcc_mutex=0.1=conda_forge\r\n",
      "  - _openmp_mutex=4.5=1_llvm\r\n",
      "  - _r-mutex=1.0.1=anacondar_1\r\n",
      "  - backcall=0.2.0=py_0\r\n",
      "  - binutils_impl_linux-64=2.34=h53a641e_5\r\n",
      "  - binutils_linux-64=2.34=hc952b39_20\r\n",
      "  - bioconductor-annotationdbi=1.42.1=r351_0\r\n",
      "  - bioconductor-biobase=2.40.0=r351ha44fe06_1\r\n",
      "  - bioconductor-biocgenerics=0.26.0=r351_0\r\n",
      "  - bioconductor-biocparallel=1.14.2=r351h26a2512_0\r\n",
      "  - bioconductor-biomart=2.36.1=r351_0\r\n",
      "  - bioconductor-biostrings=2.48.0=r351h470a237_0\r\n",
      "  - bioconductor-delayedarray=0.6.6=r351_0\r\n",
      "  - bioconductor-exomepeak=2.14.0=r351_0\r\n",
      "  - bioconductor-genomeinfodb=1.16.0=r351_0\r\n",
      "  - bioconductor-genomeinfodbdata=1.2.1=r351_0\r\n",
      "  - bioconductor-genomicalignments=1.16.0=r351h470a237_0\r\n",
      "  - bioconductor-genomicfeatures=1.32.3=r351_0\r\n",
      "  - bioconductor-genomicranges=1.32.7=r351h470a237_0\r\n",
      "  - bioconductor-iranges=2.14.12=r351h470a237_0\r\n",
      "  - bioconductor-rsamtools=1.32.3=r351hfc679d8_0\r\n",
      "  - bioconductor-rtracklayer=1.40.6=r351h470a237_0\r\n",
      "  - bioconductor-s4vectors=0.18.3=r351h470a237_0\r\n",
      "  - bioconductor-summarizedexperiment=1.10.1=r351_0\r\n",
      "  - bioconductor-xvector=0.20.0=r351h470a237_0\r\n",
      "  - bioconductor-zlibbioc=1.26.0=r351h470a237_0\r\n",
      "  - blas=2.16=openblas\r\n",
      "  - bwidget=1.9.14=0\r\n",
      "  - bzip2=1.0.8=h516909a_2\r\n",
      "  - ca-certificates=2020.1.1=0\r\n",
      "  - cairo=1.16.0=h18b612c_1001\r\n",
      "  - certifi=2020.6.20=py38_0\r\n",
      "  - curl=7.68.0=hf8cf82a_0\r\n",
      "  - decorator=4.4.2=py_0\r\n",
      "  - entrypoints=0.3=py38_0\r\n",
      "  - fontconfig=2.13.1=he4413a7_1000\r\n",
      "  - freetype=2.10.2=he06d7ca_0\r\n",
      "  - gcc_impl_linux-64=7.5.0=hd420e75_6\r\n",
      "  - gcc_linux-64=7.5.0=h09487f9_20\r\n",
      "  - gettext=0.19.8.1=hc5be6a0_1002\r\n",
      "  - gfortran_impl_linux-64=7.5.0=hdf63c60_6\r\n",
      "  - gfortran_linux-64=7.5.0=h09487f9_20\r\n",
      "  - glib=2.65.0=h6f030ca_0\r\n",
      "  - graphite2=1.3.13=he1b5a44_1001\r\n",
      "  - gsl=2.5=h294904e_1\r\n",
      "  - gxx_impl_linux-64=7.5.0=hdf63c60_6\r\n",
      "  - gxx_linux-64=7.5.0=h09487f9_20\r\n",
      "  - harfbuzz=2.4.0=h37c48d4_1\r\n",
      "  - icu=58.2=hf484d3e_1000\r\n",
      "  - ipykernel=5.3.0=py38h5ca1d4c_0\r\n",
      "  - ipython=7.15.0=py38_0\r\n",
      "  - ipython_genutils=0.2.0=py38_0\r\n",
      "  - jedi=0.17.1=py38_0\r\n",
      "  - jpeg=9d=h516909a_0\r\n",
      "  - jupyter_client=6.1.3=py_0\r\n",
      "  - jupyter_core=4.6.3=py38_0\r\n",
      "  - krb5=1.16.4=h2fd8d38_0\r\n",
      "  - ld_impl_linux-64=2.34=h53a641e_5\r\n",
      "  - libblas=3.8.0=16_openblas\r\n",
      "  - libcblas=3.8.0=16_openblas\r\n",
      "  - libcurl=7.68.0=hda55be3_0\r\n",
      "  - libedit=3.1.20191231=h46ee950_0\r\n",
      "  - libffi=3.2.1=he1b5a44_1007\r\n",
      "  - libgcc-ng=9.2.0=h24d8f2e_2\r\n",
      "  - libgfortran=3.0.0=1\r\n",
      "  - libgfortran-ng=7.5.0=hdf63c60_6\r\n",
      "  - libgomp=9.2.0=h24d8f2e_2\r\n",
      "  - libiconv=1.15=h516909a_1006\r\n",
      "  - liblapack=3.8.0=16_openblas\r\n",
      "  - liblapacke=3.8.0=16_openblas\r\n",
      "  - libopenblas=0.3.9=h5ec1e0e_0\r\n",
      "  - libpng=1.6.37=hed695b0_1\r\n",
      "  - libsodium=1.0.16=h1bed415_0\r\n",
      "  - libssh2=1.9.0=hab1572f_2\r\n",
      "  - libstdcxx-ng=9.2.0=hdf63c60_2\r\n",
      "  - libtiff=4.1.0=hc7e4089_6\r\n",
      "  - libuuid=2.32.1=h14c3975_1000\r\n",
      "  - libwebp-base=1.1.0=h516909a_3\r\n",
      "  - libxcb=1.13=h14c3975_1002\r\n",
      "  - libxml2=2.9.9=h13577e0_2\r\n",
      "  - llvm-openmp=10.0.0=hc9558a2_0\r\n",
      "  - lz4-c=1.9.2=he1b5a44_1\r\n",
      "  - make=4.3=h516909a_0\r\n",
      "  - ncurses=6.1=hf484d3e_1002\r\n",
      "  - numpy=1.18.5=py38h7130bb8_0\r\n",
      "  - numpy-base=1.18.5=py38h2f8d375_0\r\n",
      "  - openssl=1.1.1g=h7b6447c_0\r\n",
      "  - pandas=1.0.5=py38h0573a6f_0\r\n",
      "  - pango=1.40.14=he7ab937_1005\r\n",
      "  - parso=0.7.0=py_0\r\n",
      "  - pcre=8.44=he1b5a44_0\r\n",
      "  - pexpect=4.8.0=py38_0\r\n",
      "  - pickleshare=0.7.5=py38_1000\r\n",
      "  - pip=20.1.1=py_1\r\n",
      "  - pixman=0.38.0=h516909a_1003\r\n",
      "  - prompt-toolkit=3.0.5=py_0\r\n",
      "  - pthread-stubs=0.4=h14c3975_1001\r\n",
      "  - ptyprocess=0.6.0=py38_0\r\n",
      "  - pygments=2.6.1=py_0\r\n",
      "  - python=3.8.3=cpython_he5300dc_0\r\n",
      "  - python-dateutil=2.8.1=py_0\r\n",
      "  - python_abi=3.8=1_cp38\r\n",
      "  - pytz=2020.1=py_0\r\n",
      "  - pyzmq=18.1.1=py38he6710b0_0\r\n",
      "  - r-assertthat=0.2.0=r351h6115d3f_0\r\n",
      "  - r-base=3.5.1=h08e1455_1008\r\n",
      "  - r-bh=1.66.0_1=r351h6115d3f_0\r\n",
      "  - r-bit=1.1_14=r351hd10c6a6_0\r\n",
      "  - r-bit64=0.9_7=r351hd10c6a6_0\r\n",
      "  - r-bitops=1.0_6=r351h96ca727_4\r\n",
      "  - r-blob=1.1.1=r351hf348343_0\r\n",
      "  - r-crayon=1.3.4=r351h6115d3f_0\r\n",
      "  - r-curl=3.2=r351hadc6856_1\r\n",
      "  - r-dbi=1.0.0=r351h6115d3f_0\r\n",
      "  - r-digest=0.6.15=r351h96ca727_0\r\n",
      "  - r-formatr=1.5=r351h6115d3f_0\r\n",
      "  - r-futile.logger=1.4.3=r35h6115d3f_1002\r\n",
      "  - r-futile.options=1.0.1=r35h6115d3f_1001\r\n",
      "  - r-glue=1.3.0=r351h96ca727_0\r\n",
      "  - r-hms=0.4.2=r351h6115d3f_0\r\n",
      "  - r-httr=1.3.1=r351h6115d3f_1\r\n",
      "  - r-jsonlite=1.5=r351h96ca727_0\r\n",
      "  - r-lambda.r=1.2.4=r35h6115d3f_0\r\n",
      "  - r-lattice=0.20_35=r351h96ca727_0\r\n",
      "  - r-magrittr=1.5=r351h6115d3f_4\r\n",
      "  - r-matrix=1.2_14=r351h96ca727_0\r\n",
      "  - r-matrixstats=0.56.0=r35hcdcec82_0\r\n",
      "  - r-memoise=1.1.0=r351h6115d3f_0\r\n",
      "  - r-mime=0.5=r351h96ca727_0\r\n",
      "  - r-openssl=1.0.2=r351h96ca727_1\r\n",
      "  - r-pkgconfig=2.0.1=r351h6115d3f_0\r\n",
      "  - r-plogr=0.2.0=r351h6115d3f_0\r\n",
      "  - r-prettyunits=1.0.2=r351hf348343_0\r\n",
      "  - r-progress=1.2.2=r35h6115d3f_1\r\n",
      "  - r-r6=2.2.2=r351h6115d3f_0\r\n",
      "  - r-rcpp=0.12.18=r351h29659fb_0\r\n",
      "  - r-rcurl=1.95_4.11=r351h96ca727_0\r\n",
      "  - r-rlang=0.2.1=r351h96ca727_0\r\n",
      "  - r-rsqlite=2.1.1=r351h29659fb_0\r\n",
      "  - r-snow=0.4_3=r35h6115d3f_1001\r\n",
      "  - r-stringi=1.2.4=r351h29659fb_0\r\n",
      "  - r-stringr=1.3.1=r351h6115d3f_0\r\n",
      "  - r-xml=3.98_1.12=r351h96ca727_0\r\n",
      "  - readline=8.0=hf8c457e_0\r\n",
      "  - setuptools=47.3.1=py38h32f6830_0\r\n",
      "  - six=1.15.0=py_0\r\n",
      "  - sqlite=3.30.1=hcee41ef_0\r\n",
      "  - tk=8.6.10=hed695b0_0\r\n",
      "  - tktable=2.10=h555a92e_3\r\n",
      "  - tornado=6.0.4=py38h7b6447c_1\r\n",
      "  - traitlets=4.3.3=py38_0\r\n",
      "  - wcwidth=0.2.4=py_0\r\n",
      "  - wheel=0.34.2=py_1\r\n",
      "  - xorg-kbproto=1.0.7=h14c3975_1002\r\n",
      "  - xorg-libice=1.0.10=h516909a_0\r\n",
      "  - xorg-libsm=1.2.3=h84519dc_1000\r\n",
      "  - xorg-libx11=1.6.9=h516909a_0\r\n",
      "  - xorg-libxau=1.0.9=h14c3975_0\r\n",
      "  - xorg-libxdmcp=1.1.3=h516909a_0\r\n",
      "  - xorg-libxext=1.3.4=h516909a_0\r\n",
      "  - xorg-libxrender=0.9.10=h516909a_1002\r\n",
      "  - xorg-renderproto=0.11.1=h14c3975_1002\r\n",
      "  - xorg-xextproto=7.3.0=h14c3975_1002\r\n",
      "  - xorg-xproto=7.0.31=h14c3975_1007\r\n",
      "  - xz=5.2.5=h516909a_0\r\n",
      "  - zeromq=4.3.1=he6710b0_3\r\n",
      "  - zlib=1.2.11=h516909a_1006\r\n",
      "  - zstd=1.4.4=h6597ccf_3\r\n",
      "  - pip:\r\n",
      "    - attrs==19.3.0\r\n",
      "    - cffi==1.14.0\r\n",
      "    - jinja2==2.11.2\r\n",
      "    - markupsafe==1.1.1\r\n",
      "    - more-itertools==8.4.0\r\n",
      "    - packaging==20.4\r\n",
      "    - pluggy==0.13.1\r\n",
      "    - py==1.8.2\r\n",
      "    - pycparser==2.20\r\n",
      "    - pyparsing==2.4.7\r\n",
      "    - pytest==5.4.3\r\n",
      "    - rpy2==3.3.4\r\n",
      "    - tzlocal==2.1\r\n",
      "prefix: /rumi/shams/abe/anaconda3/envs/exomepeak1\r\n",
      "\r\n"
     ]
    }
   ],
   "source": [
    "!conda env export"
   ]
  },
  {
   "cell_type": "code",
   "execution_count": 41,
   "metadata": {},
   "outputs": [],
   "source": [
    "Samples = [\n",
    "    \"S0008\",\n",
    "#     \"S0009\",\"S0014\",\"S0017\",\n",
    "#     \"S0025\",\"S0042\",\"S0057\",\n",
    "    \"S0026\",\"S0030\",\n",
    "    \"S0085\",\n",
    "    \"COV00075\",\n",
    "#     \"COV00079\", \"COV00087\",\n",
    "#     \"COV00084\",\"COV00417\",\n",
    "    \"COV00093\",\"COV00106\",\n",
    "    \"COV00397\",\"COV00413\",\n",
    "    \"COV00419\",\"COV00422\",\"COV00432\"    \n",
    "]"
   ]
  },
  {
   "cell_type": "code",
   "execution_count": 42,
   "metadata": {},
   "outputs": [],
   "source": [
    "%reload_ext rpy2.ipython"
   ]
  },
  {
   "cell_type": "code",
   "execution_count": 43,
   "metadata": {},
   "outputs": [],
   "source": [
    "%%R\n",
    "library(GenomicFeatures)\n",
    "# library(tidyverse)\n",
    "library(exomePeak)"
   ]
  },
  {
   "cell_type": "code",
   "execution_count": 44,
   "metadata": {},
   "outputs": [],
   "source": [
    "%%R -i Samples\n",
    "GTF = '~/Projects/COVID19_m6A/virus/coronavirus_2_isolate_Wuhan-Hu-1.gff3'\n",
    "IP = '_RIP'\n",
    "INPUT = '_IN'\n",
    "\n",
    "OUTPUT = 'exomepeak/virus'\n",
    "\n",
    "Samples = unlist(Samples)\n",
    "\n",
    "######################################## read meta ######################################$\n",
    "IP_BAM = paste(Samples, IP, '.bam', sep='')\n",
    "INPUT_BAM = paste(Samples, INPUT, '.bam', sep='')"
   ]
  },
  {
   "cell_type": "code",
   "execution_count": 45,
   "metadata": {},
   "outputs": [
    {
     "name": "stderr",
     "output_type": "stream",
     "text": [
      "R[write to console]: Import genomic features from the file as a GRanges object ... \n",
      "R[write to console]: OK\n",
      "\n",
      "R[write to console]: Prepare the 'metadata' data frame ... \n",
      "R[write to console]: OK\n",
      "\n",
      "R[write to console]: Make the TxDb object ... \n",
      "R[write to console]: OK\n",
      "\n"
     ]
    }
   ],
   "source": [
    "%%R\n",
    "######################################## functions ######################################\n",
    "txdb <- makeTxDbFromGFF(GTF, organism=NA )\n",
    "\n",
    "WINDOW = 50\n",
    "STEP = 5\n",
    "LENGTH = 200\n",
    "ENRICH = 1\n",
    "EXP = 'patient-as-replicates' # paste(Sample,'FDR', FDR,sep='_')"
   ]
  },
  {
   "cell_type": "code",
   "execution_count": 46,
   "metadata": {},
   "outputs": [
    {
     "name": "stdout",
     "output_type": "stream",
     "text": [
      "TxDb object:\n",
      "# Db type: TxDb\n",
      "# Supporting package: GenomicFeatures\n",
      "# Data source: ~/Projects/COVID19_m6A/virus/coronavirus_2_isolate_Wuhan-Hu-1.gff3\n",
      "# Organism: NA\n",
      "# Taxonomy ID: NA\n",
      "# miRBase build ID: NA\n",
      "# Genome: NA\n",
      "# transcript_nrow: 9\n",
      "# exon_nrow: 9\n",
      "# cds_nrow: 9\n",
      "# Db created by: GenomicFeatures package from Bioconductor\n",
      "# Creation time: 2020-06-24 20:31:52 +0000 (Wed, 24 Jun 2020)\n",
      "# GenomicFeatures version at creation time: 1.32.3\n",
      "# RSQLite version at creation time: 2.1.1\n",
      "# DBSCHEMAVERSION: 1.2\n"
     ]
    }
   ],
   "source": [
    "%%R\n",
    "txdb"
   ]
  },
  {
   "cell_type": "code",
   "execution_count": 62,
   "metadata": {},
   "outputs": [
    {
     "name": "stdout",
     "output_type": "stream",
     "text": [
      " [1] TRUE TRUE TRUE TRUE TRUE TRUE TRUE TRUE TRUE TRUE TRUE TRUE\n"
     ]
    }
   ],
   "source": [
    "%%R\n",
    "# setwd(\"/rumi/shams/abe/Projects/COVID19_m6A/virus_bam\")\n",
    "# list.files()\n",
    "file.exists(INPUT_BAM)"
   ]
  },
  {
   "cell_type": "code",
   "execution_count": 63,
   "metadata": {},
   "outputs": [
    {
     "name": "stderr",
     "output_type": "stream",
     "text": [
      "R[write to console]: 'select()' returned 1:1 mapping between keys and columns\n",
      "\n"
     ]
    },
    {
     "name": "stdout",
     "output_type": "stream",
     "text": [
      "[1] \"Divide transcriptome into chr-gene-batch sections ...\"\n",
      "[1] \"Get Reads Count ...\"\n",
      "[1] \"This step may take a few hours ...\"\n",
      "[1] \"100 %\"\n",
      "[1] \"Get all the peaks ...\"\n",
      "[1] \"Get the consistent peaks ...\"\n",
      "[1] \"---------------------------------\"\n",
      "[1] \"The bam files used:\"\n",
      "[1] \"12 IP replicate(s)\"\n",
      "[1] \"12 Input replicate(s)\"\n",
      "[1] \"---------------------------------\"\n",
      "[1] \"Peak calling result: \"\n",
      "[1] \"6 peaks detected on merged data.\"\n",
      "[1] \"Please check 'peak.bed/xls' under /rumi/shams/abe/Projects/COVID19_m6A/virus_bam/exomePeak_output\"\n"
     ]
    },
    {
     "name": "stderr",
     "output_type": "stream",
     "text": [
      "R[write to console]: Error in `[.data.frame`(PEAK_RESULT[[2]], , 1) : \n",
      "  undefined columns selected\n",
      "\n",
      "R[write to console]: In addition: \n",
      "R[write to console]: There were 34 warnings (use warnings() to see them)\n",
      "R[write to console]: \n",
      "\n"
     ]
    },
    {
     "name": "stdout",
     "output_type": "stream",
     "text": [
      "\n",
      "Error in `[.data.frame`(PEAK_RESULT[[2]], , 1) : \n",
      "  undefined columns selected\n"
     ]
    }
   ],
   "source": [
    "%%R\n",
    "setwd(\"/rumi/shams/abe/Projects/COVID19_m6A/virus_bam\")\n",
    "\n",
    "options(digits=5)\n",
    "res <- exomepeak(\n",
    "    TXDB = txdb,\n",
    "    IP_BAM=IP_BAM,\n",
    "    INPUT_BAM=INPUT_BAM,\n",
    "#     OUTPUT_DIR=paste('..',OUTPUT,sep='/'),\n",
    "#     EXPERIMENT_NAME=EXP,\n",
    "    # options\n",
    "    WINDOW_WIDTH = WINDOW,\n",
    "    SLIDING_STEP = STEP,\n",
    "    FRAGMENT_LENGTH = LENGTH,\n",
    "    PEAK_CUTOFF_PVALUE = 1,\n",
    "    PEAK_CUTOFF_FDR = 1, # as.double(FDR),\n",
    "    FOLD_ENRICHMENT = ENRICH\n",
    ")\n",
    "\n",
    "saveRDS(res, paste('..', OUTPUT, EXP, 'results.rds', sep='/'))"
   ]
  },
  {
   "cell_type": "code",
   "execution_count": 51,
   "metadata": {},
   "outputs": [],
   "source": [
    "%%R \n",
    "setwd(\"../\")"
   ]
  },
  {
   "cell_type": "code",
   "execution_count": 52,
   "metadata": {},
   "outputs": [
    {
     "name": "stdout",
     "output_type": "stream",
     "text": [
      "Warning messages:\n",
      "1: In makeTxDbFromGRanges(gr, metadata = metadata) :\n",
      "  The following transcripts were dropped because their exon ranks could\n",
      "  not be inferred (either because the exons are not on the same\n",
      "  chromosome/strand or because they are not separated by introns):\n",
      "  gene-orf1ab\n",
      "2: In is.na(PARAMETERS$TXDB) :\n",
      "  is.na() applied to non-(list or vector) of type 'S4'\n",
      "3: In is.na(PARAMETERS$TXDB) :\n",
      "  is.na() applied to non-(list or vector) of type 'S4'\n",
      "4: In is.na(PARAMETERS$TXDB) :\n",
      "  is.na() applied to non-(list or vector) of type 'S4'\n",
      "5: In is.na(PARAMETERS$TXDB) :\n",
      "  is.na() applied to non-(list or vector) of type 'S4'\n",
      "6: In pbinom(IP - 1, total, p, lower.tail = FALSE, log.p = TRUE) :\n",
      "  pbeta(*, log.p=TRUE) -> bpser(a=1533, b=33, x=0.559034,...) underflow to -Inf\n",
      "7: In pbinom(IP - 1, total, p, lower.tail = FALSE, log.p = TRUE) :\n",
      "  pbeta(*, log.p=TRUE) -> bpser(a=1504, b=32, x=0.559034,...) underflow to -Inf\n",
      "8: In pbinom(IP - 1, total, p, lower.tail = FALSE, log.p = TRUE) :\n",
      "  pbeta(*, log.p=TRUE) -> bpser(a=3049, b=39, x=0.559034,...) underflow to -Inf\n",
      "9: In pbinom(IP - 1, total, p, lower.tail = FALSE, log.p = TRUE) :\n",
      "  pbeta(*, log.p=TRUE) -> bpser(a=3132, b=37, x=0.559034,...) underflow to -Inf\n",
      "10: In pbinom(IP - 1, total, p, lower.tail = FALSE, log.p = TRUE) :\n",
      "  pbeta(*, log.p=TRUE) -> bpser(a=8558, b=35, x=0.559034,...) underflow to -Inf\n",
      "11: In pbinom(IP - 1, total, p, lower.tail = FALSE, log.p = TRUE) :\n",
      "  pbeta(*, log.p=TRUE) -> bpser(a=8587, b=35, x=0.559034,...) underflow to -Inf\n",
      "12: In pbinom(IP - 1, total, p, lower.tail = FALSE, log.p = TRUE) :\n",
      "  pbeta(*, log.p=TRUE) -> bpser(a=8979, b=34, x=0.559034,...) underflow to -Inf\n",
      "13: In pbinom(IP - 1, total, p, lower.tail = FALSE, log.p = TRUE) :\n",
      "  pbeta(*, log.p=TRUE) -> bpser(a=8910, b=34, x=0.559034,...) underflow to -Inf\n",
      "14: In pbinom(IP - 1, total, p, lower.tail = FALSE, log.p = TRUE) :\n",
      "  pbeta(*, log.p=TRUE) -> bpser(a=7764, b=33, x=0.559034,...) underflow to -Inf\n",
      "15: In pbinom(IP - 1, total, p, lower.tail = FALSE, log.p = TRUE) :\n",
      "  pbeta(*, log.p=TRUE) -> bpser(a=8650, b=35, x=0.559034,...) underflow to -Inf\n",
      "16: In pbinom(IP - 1, total, p, lower.tail = FALSE, log.p = TRUE) :\n",
      "  pbeta(*, log.p=TRUE) -> bpser(a=8507, b=34, x=0.559034,...) underflow to -Inf\n",
      "17: In pbinom(IP - 1, total, p, lower.tail = FALSE, log.p = TRUE) :\n",
      "  pbeta(*, log.p=TRUE) -> bpser(a=8655, b=32, x=0.921424,...) underflow to -Inf\n",
      "18: In pbinom(IP - 1, total, p, lower.tail = FALSE, log.p = TRUE) :\n",
      "  pbeta(*, log.p=TRUE) -> bpser(a=8979, b=14, x=0.921424,...) underflow to -Inf\n",
      "19: In pbinom(IP - 1, total, p, lower.tail = FALSE, log.p = TRUE) :\n",
      "  pbeta(*, log.p=TRUE) -> bpser(a=8650, b=14, x=0.921424,...) underflow to -Inf\n",
      "20: In pbinom(IP - 1, total, p, lower.tail = FALSE, log.p = TRUE) :\n",
      "  pbeta(*, log.p=TRUE) -> bpser(a=8507, b=13, x=0.921424,...) underflow to -Inf\n",
      "21: In pbinom(IP - 1, total, p, lower.tail = FALSE, log.p = TRUE) :\n",
      "  pbeta(*, log.p=TRUE) -> bpser(a=9786, b=27, x=0.670007,...) underflow to -Inf\n",
      "22: In pbinom(IP - 1, total, p, lower.tail = FALSE, log.p = TRUE) :\n",
      "  pbeta(*, log.p=TRUE) -> bpser(a=10118, b=27, x=0.670007,...) underflow to -Inf\n",
      "23: In pbinom(IP - 1, total, p, lower.tail = FALSE, log.p = TRUE) :\n",
      "  pbeta(*, log.p=TRUE) -> bpser(a=9098, b=26, x=0.670007,...) underflow to -Inf\n",
      "24: In pbinom(IP - 1, total, p, lower.tail = FALSE, log.p = TRUE) :\n",
      "  pbeta(*, log.p=TRUE) -> bpser(a=8265, b=26, x=0.670007,...) underflow to -Inf\n",
      "25: In pbinom(IP - 1, total, p, lower.tail = FALSE, log.p = TRUE) :\n",
      "  pbeta(*, log.p=TRUE) -> bpser(a=7630, b=26, x=0.670007,...) underflow to -Inf\n",
      "26: In pbinom(IP - 1, total, p, lower.tail = FALSE, log.p = TRUE) :\n",
      "  pbeta(*, log.p=TRUE) -> bpser(a=6567, b=26, x=0.670007,...) underflow to -Inf\n",
      "27: In pbinom(IP - 1, total, p, lower.tail = FALSE, log.p = TRUE) :\n",
      "  pbeta(*, log.p=TRUE) -> bpser(a=7734, b=26, x=0.670007,...) underflow to -Inf\n",
      "28: In pbinom(IP - 1, total, p, lower.tail = FALSE, log.p = TRUE) :\n",
      "  pbeta(*, log.p=TRUE) -> bpser(a=8366, b=26, x=0.670007,...) underflow to -Inf\n",
      "29: In pbinom(IP - 1, total, p, lower.tail = FALSE, log.p = TRUE) :\n",
      "  pbeta(*, log.p=TRUE) -> bpser(a=8655, b=26, x=0.670007,...) underflow to -Inf\n",
      "30: In pbinom(IP - 1, total, p, lower.tail = FALSE, log.p = TRUE) :\n",
      "  pbeta(*, log.p=TRUE) -> bpser(a=5367, b=33, x=0.670007,...) underflow to -Inf\n",
      "31: In pbinom(IP - 1, total, p, lower.tail = FALSE, log.p = TRUE) :\n",
      "  pbeta(*, log.p=TRUE) -> bpser(a=5073, b=37, x=0.670007,...) underflow to -Inf\n",
      "32: In pbinom(IP - 1, total, p, lower.tail = FALSE, log.p = TRUE) :\n",
      "  pbeta(*, log.p=TRUE) -> bpser(a=5175, b=37, x=0.670007,...) underflow to -Inf\n",
      "33: In pbinom(IP - 1, total, p, lower.tail = FALSE, log.p = TRUE) :\n",
      "  pbeta(*, log.p=TRUE) -> bpser(a=5223, b=37, x=0.670007,...) underflow to -Inf\n",
      "34: In pbinom(IP - 1, total, p, lower.tail = FALSE, log.p = TRUE) :\n",
      "  pbeta(*, log.p=TRUE) -> bpser(a=3470, b=39, x=0.670007,...) underflow to -Inf\n",
      "35: In pbinom(IP - 1, total, p, lower.tail = FALSE, log.p = TRUE) :\n",
      "  pbeta(*, log.p=TRUE) -> bpser(a=3494, b=39, x=0.670007,...) underflow to -Inf\n"
     ]
    }
   ],
   "source": [
    "%%R\n",
    "warnings()"
   ]
  },
  {
   "cell_type": "code",
   "execution_count": 55,
   "metadata": {},
   "outputs": [
    {
     "name": "stdout",
     "output_type": "stream",
     "text": [
      "con_peak.bed  con_peak.xls  exomePeak.Rdata  peak.bed  peak.xls\r\n"
     ]
    }
   ],
   "source": [
    "!ls exomepeak/virus/patient-as-replicates/"
   ]
  },
  {
   "cell_type": "code",
   "execution_count": 29,
   "metadata": {},
   "outputs": [
    {
     "name": "stderr",
     "output_type": "stream",
     "text": [
      "R[write to console]: Error in eval(lhs, parent, parent) : object 'res' not found\n",
      "Calls: <Anonymous> ... <Anonymous> -> <Anonymous> -> withVisible -> %>% -> eval -> eval\n",
      "\n"
     ]
    },
    {
     "name": "stdout",
     "output_type": "stream",
     "text": [
      "\n",
      "Error in eval(lhs, parent, parent) : object 'res' not found\n",
      "Calls: <Anonymous> ... <Anonymous> -> <Anonymous> -> withVisible -> %>% -> eval -> eval\n"
     ]
    }
   ],
   "source": [
    "%%R \n",
    "res %>% data.frame %>% head "
   ]
  },
  {
   "cell_type": "code",
   "execution_count": null,
   "metadata": {},
   "outputs": [],
   "source": []
  }
 ],
 "metadata": {
  "kernelspec": {
   "display_name": "Python [conda env:exomepeak1]",
   "language": "python",
   "name": "conda-env-exomepeak1-py"
  },
  "language_info": {
   "codemirror_mode": {
    "name": "ipython",
    "version": 3
   },
   "file_extension": ".py",
   "mimetype": "text/x-python",
   "name": "python",
   "nbconvert_exporter": "python",
   "pygments_lexer": "ipython3",
   "version": "3.8.3"
  }
 },
 "nbformat": 4,
 "nbformat_minor": 4
}
