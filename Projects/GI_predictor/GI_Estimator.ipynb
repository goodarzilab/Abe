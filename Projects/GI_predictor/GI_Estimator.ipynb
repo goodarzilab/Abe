{
 "cells": [
  {
   "cell_type": "code",
   "execution_count": 1,
   "metadata": {},
   "outputs": [
    {
     "name": "stderr",
     "output_type": "stream",
     "text": [
      "Using TensorFlow backend.\n"
     ]
    }
   ],
   "source": [
    "from time import time\n",
    "import re, sys, os\n",
    "import numpy as np\n",
    "import pandas as pd\n",
    "import matplotlib. pyplot as plt \n",
    "from keras.models import load_model\n",
    "from CCLE_AE import r_square\n",
    "\n",
    "autoencoder_path = 'Models/'\n",
    "encoder_path = 'Models/'"
   ]
  },
  {
   "cell_type": "markdown",
   "metadata": {},
   "source": [
    "# Use pre-trained CCLE Simple autoencoder "
   ]
  },
  {
   "cell_type": "code",
   "execution_count": 2,
   "metadata": {},
   "outputs": [],
   "source": [
    "autoencoder = load_model(autoencoder_path,custom_objects={'r_square': r_square})\n",
    "encoder = load_model(encoder_path,custom_objects={'r_square': r_square})"
   ]
  },
  {
   "cell_type": "code",
   "execution_count": 67,
   "metadata": {},
   "outputs": [
    {
     "name": "stdout",
     "output_type": "stream",
     "text": [
      "Model: \"model_17\"\n",
      "_________________________________________________________________\n",
      "Layer (type)                 Output Shape              Param #   \n",
      "=================================================================\n",
      "input_17 (InputLayer)        (None, 56202)             0         \n",
      "_________________________________________________________________\n",
      "dense_84 (Dense)             (None, 256)               14387968  \n",
      "_________________________________________________________________\n",
      "dense_85 (Dense)             (None, 128)               32896     \n",
      "_________________________________________________________________\n",
      "dense_86 (Dense)             (None, 64)                8256      \n",
      "_________________________________________________________________\n",
      "dense_87 (Dense)             (None, 32)                2080      \n",
      "_________________________________________________________________\n",
      "dense_88 (Dense)             (None, 64)                2112      \n",
      "_________________________________________________________________\n",
      "dense_89 (Dense)             (None, 128)               8320      \n",
      "_________________________________________________________________\n",
      "dense_90 (Dense)             (None, 256)               33024     \n",
      "_________________________________________________________________\n",
      "dense_91 (Dense)             (None, 56202)             14443914  \n",
      "=================================================================\n",
      "Total params: 28,918,570\n",
      "Trainable params: 28,918,570\n",
      "Non-trainable params: 0\n",
      "_________________________________________________________________\n"
     ]
    }
   ],
   "source": [
    "autoencoder.summary()"
   ]
  },
  {
   "cell_type": "code",
   "execution_count": 68,
   "metadata": {},
   "outputs": [
    {
     "name": "stdout",
     "output_type": "stream",
     "text": [
      "Model: \"model_18\"\n",
      "_________________________________________________________________\n",
      "Layer (type)                 Output Shape              Param #   \n",
      "=================================================================\n",
      "input_17 (InputLayer)        (None, 56202)             0         \n",
      "_________________________________________________________________\n",
      "dense_84 (Dense)             (None, 256)               14387968  \n",
      "_________________________________________________________________\n",
      "dense_85 (Dense)             (None, 128)               32896     \n",
      "_________________________________________________________________\n",
      "dense_86 (Dense)             (None, 64)                8256      \n",
      "_________________________________________________________________\n",
      "dense_87 (Dense)             (None, 32)                2080      \n",
      "=================================================================\n",
      "Total params: 14,431,200\n",
      "Trainable params: 14,431,200\n",
      "Non-trainable params: 0\n",
      "_________________________________________________________________\n"
     ]
    }
   ],
   "source": [
    "encoder.summary()"
   ]
  },
  {
   "cell_type": "markdown",
   "metadata": {},
   "source": [
    "`model.layers[idx].output`\n",
    "\n",
    "Above is a tensor object, so you can modify it using operations that can be applied to a tensor object.\n",
    "\n",
    "For example, to get the shape `model.layers[idx].output.get_shape()`\n",
    "\n",
    "`idx` is the index of the layer and you can find it from `model.summary()`"
   ]
  },
  {
   "cell_type": "markdown",
   "metadata": {},
   "source": [
    "## GI Scores\n",
    "Load data from [Mapping the Genetic Landscape of Human Cells](https://www.sciencedirect.com/science/article/pii/S0092867418307359?via%3Dihub#mmc2) paper. \n",
    "> [**Table S5.**](https://www.sciencedirect.com/science/article/pii/S0092867418307359?via%3Dihub#mmc5)"
   ]
  },
  {
   "cell_type": "code",
   "execution_count": 1,
   "metadata": {},
   "outputs": [],
   "source": [
    "import matplotlib.pyplot as plt\n",
    "from scipy.stats import fisher_exact, spearmanr\n",
    "import plotly as py\n",
    "import pandas as pd \n",
    "import plotly.tools as tls\n",
    "import main_functions"
   ]
  },
  {
   "cell_type": "code",
   "execution_count": 4,
   "metadata": {
    "scrolled": true
   },
   "outputs": [
    {
     "data": {
      "text/plain": [
       "<module 'main_functions' from '/rumi/shams/abe/Projects/GI_predictor/main_functions.py'>"
      ]
     },
     "execution_count": 4,
     "metadata": {},
     "output_type": "execute_result"
    }
   ],
   "source": [
    "main_functions.get_"
   ]
  },
  {
   "cell_type": "markdown",
   "metadata": {},
   "source": [
    "## Input data: cBioportal cohorts "
   ]
  },
  {
   "cell_type": "markdown",
   "metadata": {},
   "source": [
    "## 1st\n",
    "- ### [Acute Myeloid Leukemia (OHSU, Nature 2018)](https://www.cbioportal.org/study?id=aml_ohsu_2018)"
   ]
  },
  {
   "cell_type": "code",
   "execution_count": 82,
   "metadata": {},
   "outputs": [],
   "source": [
    "f_path = 'cBioPortal/aml_ohsu_2018/' + 'data_RNA_Seq_expression_cpm_Zscores.txt'\n",
    "# ls cBioPortal/aml_ohsu_2018"
   ]
  },
  {
   "cell_type": "code",
   "execution_count": 83,
   "metadata": {},
   "outputs": [],
   "source": [
    "data = pd.read_csv(f_path,sep='\\t', index_col='Hugo_Symbol', \n",
    "                   na_values ='NA').drop(columns='Entrez_Gene_Id').astype(float)"
   ]
  },
  {
   "cell_type": "markdown",
   "metadata": {},
   "source": [
    "gene pairs for **K562** GI pairs:"
   ]
  },
  {
   "cell_type": "code",
   "execution_count": 87,
   "metadata": {},
   "outputs": [
    {
     "name": "stdout",
     "output_type": "stream",
     "text": [
      "(98790, 902)\n",
      "rows: 98790 (#gene pairs)\n",
      "columns: 902 (2*#patients)\n"
     ]
    }
   ],
   "source": [
    "cell_line = 'K562'\n",
    "data_G1, data_G2 = get_gene_pairs(SL_dataset[cell_line], data)\n",
    "X = np.concatenate((    np.array (data_G1.T),    np.array (data_G2.T))).T\n",
    "# this is our input:\n",
    "print(X.shape)\n",
    "print (f'rows: {X.shape[0]} (#gene pairs)\\ncolumns: {X.shape[1]} (2*#patients)')"
   ]
  },
  {
   "cell_type": "code",
   "execution_count": null,
   "metadata": {},
   "outputs": [],
   "source": [
    "def r_square(y_true, y_pred):\n",
    "    # custom R2-score metrics for keras backend\n",
    "    SS_res =  K.sum(K.square(y_true - y_pred))\n",
    "    SS_tot = K.sum(K.square(y_true - K.mean(y_true)))\n",
    "    return ( 1 - SS_res/(SS_tot + K.epsilon()) )\n",
    "\n",
    "def create_model(input_size, dim):\n",
    "    # this is our input placeholder\n",
    "    myinput = Input(shape=(input_size,))\n",
    "    ### hidden layers\n",
    "    deep = Dense(dim, activation='relu')(myinput)\n",
    "    ### add cell-line features from encoder model\n",
    "    deep #??\n",
    "    # last layer \n",
    "    last = Dense(1, activation='sigmoid')(deep)\n",
    "    model = Model(myinput, last)   \n",
    "    model.compile(loss='binary_crossentropy', optimizer='adam', metrics=['accuracy', r_square])\n",
    "    return model"
   ]
  },
  {
   "cell_type": "code",
   "execution_count": 88,
   "metadata": {},
   "outputs": [
    {
     "data": {
      "text/plain": [
       "(98790, 902)"
      ]
     },
     "execution_count": 88,
     "metadata": {},
     "output_type": "execute_result"
    }
   ],
   "source": [
    "def run_model(X,y):\n",
    "    # make X and y from df\n",
    "    y_true = y\n",
    "    X_train, X_test,y_train,y_test = train_test_split(X, y, test_size=test_size, random_state=42)\n",
    "    # callbacks\n",
    "    history = History()\n",
    "    early_stopping = EarlyStopping(monitor='val_loss', patience=20)\n",
    "    # make, save plot and fit the model\n",
    "    model = create_model(X.shape[1])\n",
    "    print(model.summary())\n",
    "    model.fit(X_train, y_train,\n",
    "              epochs=epochs,\n",
    "              batch_size=batch_size,\n",
    "              shuffle=False, # changed to false to keep val cell equal for comparing models\n",
    "              callbacks=[history,early_stopping],\n",
    "              validation_data=(X_test, y_test)\n",
    "             )\n",
    "    print(\"fitting has just been finished\")\n",
    "    X_pred = model.predict(X_test, batch_size=batch_size, verbose=2)\n",
    "    print(\"prediction process has just been finished\")\n",
    "    # save the model and encoded-layer output\n",
    "    autoencoder.save(filepath=model_path+\"autoencoder.h5\")\n",
    "    encoder.save(filepath=model_path+\"encoder.h5\")\n",
    "    # save the result and prediction value\n",
    "    np.savetxt(X=X_test, fname=model_path+\"X_test.csv\", delimiter=\",\")\n",
    "    np.savetxt(X=X_pred[0], fname=model_path+\"X_pred.csv\", delimiter=\",\")\n",
    "    if early_stopping.stopped_epoch == 0:\n",
    "        plot_by_epochs(autoencoder,epochs)\n",
    "    elif early_stopping.stopped_epoch > 0:\n",
    "        print (f'model stopped training at epoch {early_stopping.stopped_epoch}')\n",
    "        # plot_by_epochs(autoencoder,early_stopping.stopped_epoch)\n",
    "    print(\"model objects and metrics plots saved\")\n"
   ]
  },
  {
   "cell_type": "code",
   "execution_count": null,
   "metadata": {},
   "outputs": [],
   "source": []
  },
  {
   "cell_type": "markdown",
   "metadata": {},
   "source": [
    "gene pairs for **Jurkat** GI pairs:"
   ]
  },
  {
   "cell_type": "markdown",
   "metadata": {},
   "source": [
    "# 2nd\n",
    "- ### [Pediatric Acute Lymphoid Leukemia - Phase II (TARGET, 2018)](https://www.cbioportal.org/study?id=all_phase2_target_2018_pub)"
   ]
  },
  {
   "cell_type": "code",
   "execution_count": 44,
   "metadata": {},
   "outputs": [],
   "source": [
    "# ls cBioPortal/all_phase2_target_2018_pub"
   ]
  },
  {
   "cell_type": "code",
   "execution_count": 43,
   "metadata": {
    "scrolled": true
   },
   "outputs": [
    {
     "name": "stdout",
     "output_type": "stream",
     "text": [
      "type_of_cancer: bll\n",
      "cancer_study_identifier: all_phase2_target_2018_pub\n",
      "name: Pediatric Acute Lymphoid Leukemia - Phase II (TARGET, 2018)\n",
      "short_name: ALL-Phase II (TARGET, 2018)\n",
      "description: Comprehensive profiling of ALL Phase 2 samples. <p>TARGET data is intended exclusively for biomedical research using pediatric data (i.e., the research objectives cannot be accomplished using data from adults) that focus on the development of more effective treatments, diagnostic tests, or prognostic markers for childhood cancers. Moreover, TARGET data can be used for research relevant to the biology, causes, treatment and late complications of treatment of pediatric cancers, but is not intended for the sole purposes of methods and/or tool development (please see <a href=\"https://ocg.cancer.gov/programs/target/using-target-data\">Using TARGET Data</a> section of the OCG website). If you are interested in using TARGET data for publication or other research purposes, you must follow the <a href=\"https://ocg.cancer.gov/programs/target/target-publication-guidelines\">TARGET Publication Guidelines</a>.</p\n",
      "groups: NCI-TARGET;PUBLIC\n",
      "\n"
     ]
    }
   ],
   "source": [
    "# meta data\n",
    "filepath = 'cBioPortal/all_phase2_target_2018_pub/meta_study.txt'\n",
    "with open(filepath) as fp:\n",
    "    print( fp.read() )"
   ]
  },
  {
   "cell_type": "code",
   "execution_count": 51,
   "metadata": {},
   "outputs": [],
   "source": [
    "f_path = 'cBioPortal/all_phase2_target_2018_pub/' + 'data_RNA_Seq_mRNA_median_Zscores.txt'\n",
    "data = pd.read_csv(f_path,sep='\\t', index_col='Hugo_Symbol', \n",
    "                   na_values ='NA', na_filter = True).astype(float)"
   ]
  },
  {
   "cell_type": "code",
   "execution_count": null,
   "metadata": {},
   "outputs": [],
   "source": [
    "data.isna"
   ]
  },
  {
   "cell_type": "markdown",
   "metadata": {},
   "source": [
    "gene pairs for **K562** GI pairs:"
   ]
  },
  {
   "cell_type": "markdown",
   "metadata": {},
   "source": [
    "gene pairs for **Jurkat** GI pairs:"
   ]
  }
 ],
 "metadata": {
  "kernelspec": {
   "display_name": "Python 3",
   "language": "python",
   "name": "python3"
  },
  "language_info": {
   "codemirror_mode": {
    "name": "ipython",
    "version": 3
   },
   "file_extension": ".py",
   "mimetype": "text/x-python",
   "name": "python",
   "nbconvert_exporter": "python",
   "pygments_lexer": "ipython3",
   "version": "3.7.3"
  }
 },
 "nbformat": 4,
 "nbformat_minor": 2
}
