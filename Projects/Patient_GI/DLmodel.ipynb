{
 "cells": [
  {
   "cell_type": "code",
   "execution_count": null,
   "metadata": {},
   "outputs": [],
   "source": []
  },
  {
   "cell_type": "markdown",
   "metadata": {},
   "source": [
    "## GI Scores\n",
    "Load data from [Mapping the Genetic Landscape of Human Cells](https://www.sciencedirect.com/science/article/pii/S0092867418307359?via%3Dihub#mmc2) paper. \n",
    "> [**Table S5.**](https://www.sciencedirect.com/science/article/pii/S0092867418307359?via%3Dihub#mmc5)"
   ]
  },
  {
   "cell_type": "markdown",
   "metadata": {},
   "source": [
    "## 1st\n",
    "- ### [Acute Myeloid Leukemia (OHSU, Nature 2018)](https://www.cbioportal.org/study?id=aml_ohsu_2018)"
   ]
  },
  {
   "cell_type": "code",
   "execution_count": 7,
   "metadata": {},
   "outputs": [],
   "source": [
    "# ls cBioPortal/aml_ohsu_2018"
   ]
  },
  {
   "cell_type": "code",
   "execution_count": 7,
   "metadata": {},
   "outputs": [
    {
     "name": "stdout",
     "output_type": "stream",
     "text": [
      "type_of_cancer: aml\n",
      "cancer_study_identifier: aml_ohsu_2018\n",
      "name: Acute Myeloid Leukemia (OHSU, Nature 2018)\n",
      "description: Whole-exome sequencing of 672 acute myeloid leukemia samples (with 454 matched normals) from the Beat AML program.\n",
      "citation: Tyner et al. Nature 2018\n",
      "pmid: 30333627\n",
      "short_name: AML (OHSU)\n",
      "groups: PUBLIC\n"
     ]
    }
   ],
   "source": [
    "# print meta data\n",
    "with open('cBioPortal/aml_ohsu_2018/meta_study.txt') as fp:\n",
    "    print( fp.read() )"
   ]
  },
  {
   "cell_type": "markdown",
   "metadata": {},
   "source": [
    "gene pairs for **K562** GI pairs:"
   ]
  },
  {
   "cell_type": "markdown",
   "metadata": {},
   "source": [
    "gene pairs for **Jurkat** GI pairs:"
   ]
  },
  {
   "cell_type": "markdown",
   "metadata": {},
   "source": [
    "# 2nd\n",
    "- ### [Pediatric Acute Lymphoid Leukemia - Phase II (TARGET, 2018)](https://www.cbioportal.org/study?id=all_phase2_target_2018_pub)"
   ]
  },
  {
   "cell_type": "code",
   "execution_count": 44,
   "metadata": {},
   "outputs": [],
   "source": [
    "# ls cBioPortal/all_phase2_target_2018_pub"
   ]
  },
  {
   "cell_type": "code",
   "execution_count": 43,
   "metadata": {},
   "outputs": [
    {
     "name": "stdout",
     "output_type": "stream",
     "text": [
      "type_of_cancer: bll\n",
      "cancer_study_identifier: all_phase2_target_2018_pub\n",
      "name: Pediatric Acute Lymphoid Leukemia - Phase II (TARGET, 2018)\n",
      "short_name: ALL-Phase II (TARGET, 2018)\n",
      "description: Comprehensive profiling of ALL Phase 2 samples. <p>TARGET data is intended exclusively for biomedical research using pediatric data (i.e., the research objectives cannot be accomplished using data from adults) that focus on the development of more effective treatments, diagnostic tests, or prognostic markers for childhood cancers. Moreover, TARGET data can be used for research relevant to the biology, causes, treatment and late complications of treatment of pediatric cancers, but is not intended for the sole purposes of methods and/or tool development (please see <a href=\"https://ocg.cancer.gov/programs/target/using-target-data\">Using TARGET Data</a> section of the OCG website). If you are interested in using TARGET data for publication or other research purposes, you must follow the <a href=\"https://ocg.cancer.gov/programs/target/target-publication-guidelines\">TARGET Publication Guidelines</a>.</p\n",
      "groups: NCI-TARGET;PUBLIC\n",
      "\n"
     ]
    }
   ],
   "source": [
    "# meta data\n",
    "filepath = 'cBioPortal/all_phase2_target_2018_pub/meta_study.txt'\n",
    "with open(filepath) as fp:\n",
    "    print( fp.read() )"
   ]
  },
  {
   "cell_type": "markdown",
   "metadata": {},
   "source": [
    "gene pairs for **K562** GI pairs:"
   ]
  },
  {
   "cell_type": "markdown",
   "metadata": {},
   "source": [
    "gene pairs for **Jurkat** GI pairs:"
   ]
  }
 ],
 "metadata": {
  "kernelspec": {
   "display_name": "Python 3",
   "language": "python",
   "name": "python3"
  },
  "language_info": {
   "codemirror_mode": {
    "name": "ipython",
    "version": 3
   },
   "file_extension": ".py",
   "mimetype": "text/x-python",
   "name": "python",
   "nbconvert_exporter": "python",
   "pygments_lexer": "ipython3",
   "version": "3.7.3"
  }
 },
 "nbformat": 4,
 "nbformat_minor": 2
}
