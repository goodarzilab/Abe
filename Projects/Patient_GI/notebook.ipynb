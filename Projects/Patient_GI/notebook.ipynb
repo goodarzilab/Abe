{
 "cells": [
  {
   "cell_type": "code",
   "execution_count": 1,
   "metadata": {},
   "outputs": [],
   "source": [
    "import pandas as pd \n",
    "import numpy as np\n",
    "from scipy.stats import chisquare\n",
    "import matplotlib.pyplot as plt"
   ]
  },
  {
   "cell_type": "markdown",
   "metadata": {},
   "source": [
    "## GI Scores\n",
    "Load data from [Mapping the Genetic Landscape of Human Cells](https://www.sciencedirect.com/science/article/pii/S0092867418307359?via%3Dihub#mmc2) paper. \n",
    "> [**Table S5.**](https://www.sciencedirect.com/science/article/pii/S0092867418307359?via%3Dihub#mmc5)"
   ]
  },
  {
   "cell_type": "code",
   "execution_count": 2,
   "metadata": {},
   "outputs": [],
   "source": [
    "# read data from file \n",
    "myfile = (\"CRISPRi_Mapping_paper/Table_S5.xlsx\") \n",
    "xl = pd.ExcelFile(myfile)\n",
    "# print ('Sheets:')\n",
    "# print (xl.sheet_names)\n",
    "# make data frame from each Excel sheet\n",
    "sheets = {sheet: xl.parse(sheet) for sheet in xl.sheet_names}\n",
    "# Read data from *gene GI scores sheet*:\n",
    "Gene1 = np.array(sheets['gene GI scores and correlations']['Unnamed: 0'][3:])\n",
    "Gene2 = np.array(sheets['gene GI scores and correlations']['Unnamed: 1'][3:])\n",
    "GIdataset = {\n",
    "    'Gene1': Gene1, 'Gene2': Gene2, 'GenePairs': np.array([\"_\".join(i) for i in zip (Gene1, Gene2)]),\n",
    "    'K562': np.array(sheets['gene GI scores and correlations']['K562.4'][3:]),     # gene1 <-> gene2 GI scores\n",
    "    'Jurkat': np.array(sheets['gene GI scores and correlations']['Jurkat.4'][3:])  # gene1 <-> gene2 GI scores\n",
    "}"
   ]
  },
  {
   "cell_type": "code",
   "execution_count": 3,
   "metadata": {},
   "outputs": [],
   "source": [
    "SL_thr = 1 # Synthetic-Lethal threshold\n",
    "SLdataset = {'K562':{'GI': GIdataset['K562'][GIdataset['K562'] > SL_thr],\n",
    "                     'GenePair': GIdataset['GenePairs'][GIdataset['K562'] > SL_thr],\n",
    "                     'Gene1': GIdataset['Gene1'][GIdataset['K562'] > SL_thr],\n",
    "                     'Gene2': GIdataset['Gene2'][GIdataset['K562'] > SL_thr]},\n",
    "             'Jurkat':{'GI': GIdataset['Jurkat'][GIdataset['Jurkat'] > SL_thr],\n",
    "                     'GenePair': GIdataset['GenePairs'][GIdataset['Jurkat'] > SL_thr],\n",
    "                     'Gene1': GIdataset['Gene1'][GIdataset['Jurkat'] > SL_thr],\n",
    "                     'Gene2': GIdataset['Gene2'][GIdataset['Jurkat'] > SL_thr]}}\n",
    "# function to select GI data based on cell-line and gene-pair 1 or 2\n",
    "def cell_gene_sorter(dataset,cell,gene):\n",
    "    output = []\n",
    "    for sl in set(SLdataset[cell][gene]):\n",
    "        for i, g in enumerate(dataset['Genes']):\n",
    "            if g == sl:\n",
    "                is_low = 1*(dataset['RNA-Seq'][i] < 0)\n",
    "                output.append([g, is_low])\n",
    "    return output \n",
    "# \n",
    "def filter_dataset(dataset):\n",
    "    return {\n",
    "        'K562_Gene1': cell_gene_sorter(dataset,'K562','Gene1'),\n",
    "        'K562_Gene2': cell_gene_sorter(dataset,'K562','Gene2'),\n",
    "        'Jurkat_Gene1': cell_gene_sorter(dataset,'Jurkat','Gene1'),\n",
    "        'Jurkat_Gene2': cell_gene_sorter(dataset,'Jurkat','Gene2')\n",
    "    }\n",
    "\n"
   ]
  },
  {
   "cell_type": "markdown",
   "metadata": {},
   "source": [
    "# Expression patterns "
   ]
  },
  {
   "cell_type": "markdown",
   "metadata": {},
   "source": [
    "Read combined study clinical data (downloaded from cBioPortal):"
   ]
  },
  {
   "cell_type": "code",
   "execution_count": 4,
   "metadata": {
    "scrolled": true
   },
   "outputs": [],
   "source": [
    "clinical_data = pd.read_csv('cBioPortal/combined_study_clinical_data.csv')\n",
    "# function to add_survival_data \n",
    "def add_survival_data(dataset):\n",
    "    survival_status = []\n",
    "    survival_months = []\n",
    "    for i,sam in enumerate(clinical_data['Sample ID']):\n",
    "        for dat in dataset['sample_ids']:\n",
    "            if sam == dat:\n",
    "                survival_status.append(clinical_data['Overall Survival Status'][i])\n",
    "                survival_months.append(clinical_data['Overall Survival (Months)'][i])\n",
    "\n",
    "    dataset['survival_status'] = survival_status\n",
    "    dataset['survival_months'] = survival_months\n",
    "    return dataset"
   ]
  },
  {
   "cell_type": "markdown",
   "metadata": {},
   "source": [
    "## 1st\n",
    "- ### [Acute Myeloid Leukemia (OHSU, Nature 2018)](https://www.cbioportal.org/study?id=aml_ohsu_2018)"
   ]
  },
  {
   "cell_type": "code",
   "execution_count": 5,
   "metadata": {},
   "outputs": [
    {
     "name": "stdout",
     "output_type": "stream",
     "text": [
      "type_of_cancer: aml\n",
      "cancer_study_identifier: aml_ohsu_2018\n",
      "name: Acute Myeloid Leukemia (OHSU, Nature 2018)\n",
      "description: Whole-exome sequencing of 672 acute myeloid leukemia samples (with 454 matched normals) from the Beat AML program.\n",
      "citation: Tyner et al. Nature 2018\n",
      "pmid: 30333627\n",
      "short_name: AML (OHSU)\n",
      "groups: PUBLIC\n"
     ]
    }
   ],
   "source": [
    "# print meta data\n",
    "filepath = 'cBioPortal/aml_ohsu_2018/meta_study.txt'\n",
    "with open(filepath) as fp:\n",
    "    print( fp.read() )"
   ]
  },
  {
   "cell_type": "code",
   "execution_count": 6,
   "metadata": {},
   "outputs": [],
   "source": [
    "# ls cBioPortal/aml_ohsu_2018"
   ]
  },
  {
   "cell_type": "code",
   "execution_count": null,
   "metadata": {},
   "outputs": [],
   "source": [
    "# read all RNA-Seq data \n",
    "filepath = 'cBioPortal/aml_ohsu_2018/data_RNA_Seq_mRNA_median_Zscores.txt'\n",
    "with open(filepath) as fp:\n",
    "    lines = [l.split('\\t') for l in fp.readlines()]\n",
    "    OHSUdataset = {\n",
    "        'sample_ids': lines[0][2:],\n",
    "        'Genes': [d[0] for d in lines[1:]], \n",
    "        'RNA-Seq': [np.array(d[2:], dtype = float) for d in lines[1:]]\n",
    "    }\n",
    "# subset RNA-Seq data to GI gene-pairs \n",
    "data = filter_dataset(OHSUdataset)"
   ]
  },
  {
   "cell_type": "markdown",
   "metadata": {},
   "source": [
    "### Chi-square Test"
   ]
  },
  {
   "cell_type": "code",
   "execution_count": null,
   "metadata": {
    "scrolled": false
   },
   "outputs": [],
   "source": [
    "test = {}\n",
    "for g1,g2 in zip(data['K562_Gene1'],data['K562_Gene2']):\n",
    "    g_key = \"_\".join([g1[0], g2[0]])\n",
    "    test[g_key] = {\n",
    "        \"low_low\":sum((g1[1]) * (g2[1])),\n",
    "        \"high_low\":sum((g1[1] == 0) * (g2[1])),\n",
    "        \"low_high\":sum((g1[1]) * (g2[1] == 0)),\n",
    "        \"high_high\":sum((g1[1] == 0) * (g2[1] == 0))\n",
    "    }\n",
    "    test[g_key]['Pvalue'] = list(chisquare(list(test[g_key].values())))[1]"
   ]
  },
  {
   "cell_type": "code",
   "execution_count": null,
   "metadata": {
    "scrolled": false
   },
   "outputs": [],
   "source": [
    "for t in test:\n",
    "    if test[t]['Pvalue'] <1e-15:\n",
    "        if test[t]['low_low'] > 0:\n",
    "            print (t, '\\t', '# of low_low:', test[t]['low_low'], \n",
    "                   ' from ', len(data['K562_Gene1'][0][1]), )"
   ]
  },
  {
   "cell_type": "markdown",
   "metadata": {},
   "source": [
    "### Survival analysis "
   ]
  },
  {
   "cell_type": "code",
   "execution_count": null,
   "metadata": {},
   "outputs": [],
   "source": [
    "# https://plot.ly/python/v3/ipython-notebooks/survival-analysis-r-vs-python/"
   ]
  },
  {
   "cell_type": "code",
   "execution_count": null,
   "metadata": {},
   "outputs": [],
   "source": [
    "OHSUdataset = add_survival_data(OHSUdataset)"
   ]
  },
  {
   "cell_type": "markdown",
   "metadata": {},
   "source": [
    "# 2nd\n",
    "- ### [Pediatric Acute Lymphoid Leukemia - Phase II (TARGET, 2018)](https://www.cbioportal.org/study?id=all_phase2_target_2018_pub)"
   ]
  },
  {
   "cell_type": "code",
   "execution_count": null,
   "metadata": {},
   "outputs": [],
   "source": [
    "# meta data\n",
    "filepath = 'cBioPortal/all_phase2_target_2018_pub/meta_study.txt'\n",
    "with open(filepath) as fp:\n",
    "    print( fp.read() )"
   ]
  },
  {
   "cell_type": "code",
   "execution_count": null,
   "metadata": {},
   "outputs": [],
   "source": [
    "# ls cBioPortal/all_phase2_target_2018_pub"
   ]
  },
  {
   "cell_type": "code",
   "execution_count": null,
   "metadata": {},
   "outputs": [],
   "source": [
    "# read all RNA-Seq data \n",
    "filepath = 'cBioPortal/all_phase2_target_2018_pub/data_RNA_Seq_mRNA_median_Zscores.txt'\n",
    "with open(filepath) as fp:\n",
    "    lines = [l.split('\\t') for l in fp.readlines()]\n",
    "# switch NAs -> 0s\n",
    "    for i,l in enumerate(lines):\n",
    "        if 'NA' in l:\n",
    "            n = len(l[2:])\n",
    "            l = l[0:2]\n",
    "            for z in [0]*n:\n",
    "                l.append(z)\n",
    "        lines[i] = l\n",
    "    all_phase2 = {\n",
    "        'sample_ids': lines[0][2:],\n",
    "        'Genes': [d[0] for d in lines[1:]], \n",
    "        'RNA-Seq': [np.array(d[2:], dtype = float) for d in lines[1:]]\n",
    "    }\n",
    "# subset RNA-Seq data to GI gene-pairs \n",
    "data = filter_dataset(all_phase2)"
   ]
  },
  {
   "cell_type": "markdown",
   "metadata": {},
   "source": [
    "### Chi-square Test"
   ]
  },
  {
   "cell_type": "code",
   "execution_count": null,
   "metadata": {
    "scrolled": false
   },
   "outputs": [],
   "source": [
    "test = {}\n",
    "for g1,g2 in zip(data['K562_Gene1'],data['K562_Gene2']):\n",
    "    g_key = \"_\".join([g1[0], g2[0]])\n",
    "    test[g_key] = {\n",
    "        \"low_low\":sum((g1[1]) * (g2[1])),\n",
    "        \"high_low\":sum((g1[1] == 0) * (g2[1])),\n",
    "        \"low_high\":sum((g1[1]) * (g2[1] == 0)),\n",
    "        \"high_high\":sum((g1[1] == 0) * (g2[1] == 0))\n",
    "    }\n",
    "    test[g_key]['Pvalue'] = list(chisquare(list(test[g_key].values())))[1]"
   ]
  },
  {
   "cell_type": "code",
   "execution_count": null,
   "metadata": {
    "scrolled": false
   },
   "outputs": [],
   "source": [
    "for t in test:\n",
    "    if test[t]['Pvalue'] <1e-15:\n",
    "        if test[t]['low_low'] > 0:\n",
    "            print (t, '\\t', '# of low_low:', test[t]['low_low'], \n",
    "                   ' from ', len(data['K562_Gene1'][0][1]), )"
   ]
  },
  {
   "cell_type": "code",
   "execution_count": null,
   "metadata": {},
   "outputs": [],
   "source": [
    "### Other folders:\n",
    "# aml_target_2018_pub\n",
    "# laml_tcga\n",
    "# laml_tcga_pan_can_atlas_2018\n",
    "# laml_tcga_pub"
   ]
  }
 ],
 "metadata": {
  "kernelspec": {
   "display_name": "Python 3",
   "language": "python",
   "name": "python3"
  },
  "language_info": {
   "codemirror_mode": {
    "name": "ipython",
    "version": 3
   },
   "file_extension": ".py",
   "mimetype": "text/x-python",
   "name": "python",
   "nbconvert_exporter": "python",
   "pygments_lexer": "ipython3",
   "version": "3.7.3"
  }
 },
 "nbformat": 4,
 "nbformat_minor": 2
}
