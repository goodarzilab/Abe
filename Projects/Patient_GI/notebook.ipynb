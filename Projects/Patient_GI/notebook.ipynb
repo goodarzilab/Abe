{
 "cells": [
  {
   "cell_type": "code",
   "execution_count": 1,
   "metadata": {},
   "outputs": [],
   "source": [
    "import numpy as np\n",
    "import pandas as pd \n",
    "import lifelines as ll\n",
    "import matplotlib.pyplot as plt\n",
    "import plotly as py\n",
    "import plotly.tools as tls   \n",
    "from time import time\n",
    "from scipy.stats import chisquare, chi2_contingency"
   ]
  },
  {
   "cell_type": "markdown",
   "metadata": {},
   "source": [
    "First of all we define some functions for our purpose: "
   ]
  },
  {
   "cell_type": "markdown",
   "metadata": {},
   "source": [
    "## GI Scores\n",
    "Load data from [Mapping the Genetic Landscape of Human Cells](https://www.sciencedirect.com/science/article/pii/S0092867418307359?via%3Dihub#mmc2) paper. \n",
    "> [**Table S5.**](https://www.sciencedirect.com/science/article/pii/S0092867418307359?via%3Dihub#mmc5)"
   ]
  },
  {
   "cell_type": "code",
   "execution_count": 283,
   "metadata": {},
   "outputs": [],
   "source": [
    "def get_SLdataset(SL_thr = 1):\n",
    "    # read data from file \n",
    "    myfile = (\"CRISPRi_Mapping_paper/Table_S5.xlsx\") \n",
    "    xl = pd.ExcelFile(myfile)\n",
    "    sheets = {sheet: xl.parse(sheet) for sheet in xl.sheet_names}\n",
    "    # print ('Sheets:')\n",
    "    # print (xl.sheet_names)\n",
    "    # Read data from *gene GI scores sheet*:\n",
    "    GIsheet = sheets['gene GI scores and correlations']\n",
    "    raw_data = pd.DataFrame(data = {\n",
    "        'Gene1': np.array(GIsheet['Unnamed: 0'][3:]),\n",
    "        'Gene2': np.array(GIsheet['Unnamed: 1'][3:]), \n",
    "        'K562': np.array(GIsheet['K562.4'][3:]),                # g1 <-> g2 GI scores\n",
    "        'Jurkat': np.array(GIsheet['Jurkat.4'][3:])             # g1 <-> g2 GI scores\n",
    "    })\n",
    "    raw_K562   = raw_data.drop(columns='Jurkat').dropna()\n",
    "    raw_Jurkat = raw_data.drop(columns='K562').dropna()\n",
    "    K562   = raw_K562[(raw_K562['K562'] > SL_thr) & \n",
    "                      (raw_K562['Gene1'] != raw_K562['Gene2'])].reset_index(drop=True)\n",
    "    Jurkat = raw_Jurkat[(raw_Jurkat['Jurkat'] > SL_thr) &\n",
    "                        (raw_Jurkat['Gene1'] != raw_Jurkat['Gene2'])].reset_index(drop=True)\n",
    "    print (f'K562: {round(100* len(K562) / len(raw_K562), 2)}%', end = '\\t') \n",
    "    print (f'{len(K562)} SLs from {len(raw_K562)} unique gene pairs')\n",
    "    print (f'Jurkat: {round(100* len(Jurkat) / len(raw_Jurkat), 2)}%', end = '\\t') \n",
    "    print (f'{len(Jurkat)} SLs from {len(raw_Jurkat)} unique gene pairs ')\n",
    "    return {'K562':K562, 'Jurkat':Jurkat}"
   ]
  },
  {
   "cell_type": "markdown",
   "metadata": {},
   "source": [
    "## Read expression data\n"
   ]
  },
  {
   "cell_type": "code",
   "execution_count": 284,
   "metadata": {},
   "outputs": [],
   "source": [
    "# make final data set \n",
    "def make_study_dataset(filepath, get_RNASeq = False):\n",
    "    t0 = time()\n",
    "    with open(filepath) as fp:\n",
    "        lines = [l.split('\\t') for l in fp.readlines()]\n",
    "        # switch NAs -> 0s\n",
    "        for i,l in enumerate(lines):\n",
    "            if 'NA' in l:\n",
    "                n = len(l[2:])\n",
    "                l = l[0:2]\n",
    "                for z in [0]*n:\n",
    "                    l.append(z)\n",
    "            lines[i] = l\n",
    "        genes = [d[0] for d in lines[1:]]\n",
    "        RNA_seq = [np.array(d[2:], dtype = float) for d in lines[1:]]\n",
    "        Q1 = [np.quantile(p, 0.25) for p in RNA_seq]       # Low expression threshold\n",
    "        Q3 = [np.quantile(p, 0.75) for p in RNA_seq]       # High expression threshold        \n",
    "        data = pd.DataFrame(data = [i + j for i,j in zip([-1*(p <= q1) for p,q1 in zip(RNA_seq, Q1)], \n",
    "                                                         [ 1*(p >= q3) for p,q3 in zip(RNA_seq, Q3)])],\n",
    "                            index = [d[0] for d in lines[1:]],\n",
    "                            columns= lines[0][2:]\n",
    "        )\n",
    "    print(\"done in %fs\" % (time() - t0))       \n",
    "    if get_RNASeq == False:\n",
    "        return data\n",
    "    else:\n",
    "        return RNA_seq, data"
   ]
  },
  {
   "cell_type": "markdown",
   "metadata": {},
   "source": [
    "## Statistical Test "
   ]
  },
  {
   "cell_type": "code",
   "execution_count": 465,
   "metadata": {},
   "outputs": [
    {
     "data": {
      "text/plain": [
       "0       1.21985\n",
       "1       1.26319\n",
       "2       1.28139\n",
       "3       1.15275\n",
       "4        2.1395\n",
       "         ...   \n",
       "9766    1.14273\n",
       "9767    1.37603\n",
       "9768    1.37749\n",
       "9769    3.14675\n",
       "9770    2.57599\n",
       "Name: Jurkat, Length: 9771, dtype: object"
      ]
     },
     "execution_count": 465,
     "metadata": {},
     "output_type": "execute_result"
    }
   ],
   "source": []
  },
  {
   "cell_type": "code",
   "execution_count": 474,
   "metadata": {
    "scrolled": false,
    "slideshow": {
     "slide_type": "-"
    }
   },
   "outputs": [],
   "source": [
    "def SL_stat_test(data, SLdata, cell_line = 'K562'):\n",
    "    t0 = time()\n",
    "    tmp = SLdata[cell_line]\n",
    "    # filter out missing gene names between GI and expression studies \n",
    "    tmp = tmp[pd.DataFrame(tmp.Gene1.tolist()).isin(data.index.tolist()).any(1)].reset_index(drop=True)\n",
    "    tmp = tmp[pd.DataFrame(tmp.Gene2.tolist()).isin(data.index.tolist()).any(1)].reset_index(drop=True)\n",
    "    Obs = []\n",
    "    for g1,g2 in zip(tmp.Gene1,tmp.Gene2):    # g1   g2\n",
    "         Obs.append([\n",
    "            [sum(np.array(data.loc[g1] < 0)\n",
    "             * np.array(data.loc[g2] < 0)),   # low_low\n",
    "             sum(np.array(data.loc[g1] > 0)\n",
    "             * np.array(data.loc[g2] < 0))],   # high_low\n",
    "            [sum(np.array(data.loc[g1] < 0)\n",
    "             * np.array(data.loc[g2] > 0)),  # low_high\n",
    "             sum(np.array(data.loc[g1] > 0)\n",
    "             * np.array(data.loc[g2] > 0))]   # high_high\n",
    "         ])   \n",
    "    # do chi-square test:\n",
    "    chi2_res = [chi2_contingency(o) for o in np.array(Obs)]\n",
    "    Chi2 = [c[0] for c in chi2_res]\n",
    "    Pval = [p[1] for p in chi2_res]\n",
    "    Exp = [np.concatenate((x[3][0], x[3][1])) for x in chi2_res]\n",
    "    Obs = [np.concatenate((o[0], o[1])) for o in Obs]         \n",
    "    # make the test result dataframe:\n",
    "    test_res = pd.DataFrame(data= np.concatenate((\n",
    "        np.stack(( tmp.Gene1 ,tmp.Gene2, tmp[cell_line]), axis = 1),\n",
    "        np.array(Obs), np.array(Exp), \n",
    "        np.stack(( Pval, Chi2), axis = 1),\n",
    "        ), axis = 1), columns=[\n",
    "        'Gene1', 'Gene2', 'GI_Score',\n",
    "        'Obs_Low_Low', 'Obs_High_Low', 'Obs_Low_High', 'Obs_High_High',\n",
    "        'Exp_Low_Low' ,'Exp_High_Low', 'Exp_Low_High', 'Exp_High_High', 'Pval', 'Chi2'])\n",
    "    print(\"done in %fs\" % (time() - t0))\n",
    "    return test_res"
   ]
  },
  {
   "cell_type": "code",
   "execution_count": 320,
   "metadata": {},
   "outputs": [],
   "source": [
    "    test_res = pd.DataFrame(data= np.concatenate((\n",
    "        np.stack(( tmp.Gene1 ,tmp.Gene2), axis = 1),\n",
    "        np.array(Obs), np.array(Exp), \n",
    "        np.stack(( Pval, Chi2), axis = 1),\n",
    "        ), axis = 1), columns=[\n",
    "        'Gene1', 'Gene2', \n",
    "        'Obs_Low_Low', 'Obs_High_Low', 'Obs_Low_High', 'Obs_High_High',\n",
    "        'Exp_Low_Low' ,'Exp_High_Low', 'Exp_Low_High', 'Exp_High_High', 'Pval', 'Chi2'])"
   ]
  },
  {
   "cell_type": "code",
   "execution_count": null,
   "metadata": {},
   "outputs": [],
   "source": []
  },
  {
   "cell_type": "code",
   "execution_count": null,
   "metadata": {},
   "outputs": [],
   "source": []
  },
  {
   "cell_type": "code",
   "execution_count": null,
   "metadata": {},
   "outputs": [],
   "source": []
  },
  {
   "cell_type": "markdown",
   "metadata": {},
   "source": [
    "## Survival analysis \n",
    "Read combined study clinical data (downloaded from cBioPortal):"
   ]
  },
  {
   "cell_type": "code",
   "execution_count": 94,
   "metadata": {},
   "outputs": [],
   "source": [
    "def SL_survival(data, test):\n",
    "    t0 = time()\n",
    "    clinical_data = pd.read_csv('cBioPortal/combined_study_clinical_data.csv')\n",
    "    dfs = []\n",
    "    for t in test:\n",
    "        survival_data = []\n",
    "        g1, g2 = t.split('_') \n",
    "        g1_index = [ i for i, g in enumerate(data['raw']['Genes']) if g == g1][0]\n",
    "        g2_index = [ i for i, g in enumerate(data['raw']['Genes']) if g == g2][0]\n",
    "        Q1g1 = np.quantile(data['raw']['RNA-Seq'][g1_index], 0.25) # Gene 1 threshold\n",
    "        Q1g2 = np.quantile(data['raw']['RNA-Seq'][g2_index], 0.25) # Gene 2 threshold\n",
    "        for p, sam in enumerate(data['raw']['sample_ids']):\n",
    "            dat1 = 1*(data['raw']['RNA-Seq'][data['raw']['Genes'] == g1][p] <= Q1g1)    \n",
    "            dat2 = 1*(data['raw']['RNA-Seq'][data['raw']['Genes'] == g2][p] <= Q1g2)\n",
    "            surS = clinical_data['Overall Survival Status'][clinical_data['Sample ID'] == sam]\n",
    "            surM = clinical_data['Overall Survival (Months)'][clinical_data['Sample ID'] == sam]\n",
    "            if len(surS) > 0:\n",
    "                survival_data.append([sam,dat1,dat2,surS.values[0],surM.values[0]])\n",
    "        dfs.append(\n",
    "            pd.DataFrame(survival_data, columns=['sample_ids', g1 + ' is low', g2 + ' is low', \n",
    "                                                 'Status', 'Months']).dropna()\n",
    "        )\n",
    "    print(\"done in %fs\" % (time() - t0))\n",
    "    return dfs"
   ]
  },
  {
   "cell_type": "markdown",
   "metadata": {},
   "source": [
    "# Investigate expression patterns "
   ]
  },
  {
   "cell_type": "markdown",
   "metadata": {},
   "source": [
    "## 1st\n",
    "- ### [Acute Myeloid Leukemia (OHSU, Nature 2018)](https://www.cbioportal.org/study?id=aml_ohsu_2018)"
   ]
  },
  {
   "cell_type": "code",
   "execution_count": 8,
   "metadata": {},
   "outputs": [],
   "source": [
    "# ls cBioPortal/aml_ohsu_2018"
   ]
  },
  {
   "cell_type": "code",
   "execution_count": 271,
   "metadata": {},
   "outputs": [
    {
     "name": "stdout",
     "output_type": "stream",
     "text": [
      "type_of_cancer: aml\n",
      "cancer_study_identifier: aml_ohsu_2018\n",
      "name: Acute Myeloid Leukemia (OHSU, Nature 2018)\n",
      "description: Whole-exome sequencing of 672 acute myeloid leukemia samples (with 454 matched normals) from the Beat AML program.\n",
      "citation: Tyner et al. Nature 2018\n",
      "pmid: 30333627\n",
      "short_name: AML (OHSU)\n",
      "groups: PUBLIC\n"
     ]
    }
   ],
   "source": [
    "# print meta data\n",
    "with open('cBioPortal/aml_ohsu_2018/meta_study.txt') as fp:\n",
    "    print( fp.read() )"
   ]
  },
  {
   "cell_type": "code",
   "execution_count": 272,
   "metadata": {},
   "outputs": [
    {
     "name": "stdout",
     "output_type": "stream",
     "text": [
      "done in 15.731779s\n"
     ]
    }
   ],
   "source": [
    "SLdata = get_SLdataset()\n",
    "data = make_study_dataset('cBioPortal/aml_ohsu_2018/data_RNA_Seq_mRNA_median_Zscores.txt')"
   ]
  },
  {
   "cell_type": "markdown",
   "metadata": {},
   "source": [
    "### Chi-square Test"
   ]
  },
  {
   "cell_type": "markdown",
   "metadata": {},
   "source": [
    "Low-Low gene pairs for **K562** GI pairs:"
   ]
  },
  {
   "cell_type": "code",
   "execution_count": 467,
   "metadata": {
    "scrolled": false
   },
   "outputs": [
    {
     "name": "stdout",
     "output_type": "stream",
     "text": [
      "done in 134.052290s\n"
     ]
    }
   ],
   "source": [
    "test = SL_stat_test(data, SLdata, cell_line = 'K562')"
   ]
  },
  {
   "cell_type": "markdown",
   "metadata": {},
   "source": [
    "> Low Low $Obs/Exp <  $ High High $Obs/Exp$"
   ]
  },
  {
   "cell_type": "code",
   "execution_count": 473,
   "metadata": {
    "scrolled": false
   },
   "outputs": [
    {
     "data": {
      "text/html": [
       "<div>\n",
       "<style scoped>\n",
       "    .dataframe tbody tr th:only-of-type {\n",
       "        vertical-align: middle;\n",
       "    }\n",
       "\n",
       "    .dataframe tbody tr th {\n",
       "        vertical-align: top;\n",
       "    }\n",
       "\n",
       "    .dataframe thead th {\n",
       "        text-align: right;\n",
       "    }\n",
       "</style>\n",
       "<table border=\"1\" class=\"dataframe\">\n",
       "  <thead>\n",
       "    <tr style=\"text-align: right;\">\n",
       "      <th></th>\n",
       "      <th>Gene1</th>\n",
       "      <th>Gene2</th>\n",
       "      <th>K562</th>\n",
       "      <th>Obs_Low_Low</th>\n",
       "      <th>Obs_High_Low</th>\n",
       "      <th>Obs_Low_High</th>\n",
       "      <th>Obs_High_High</th>\n",
       "      <th>Exp_Low_Low</th>\n",
       "      <th>Exp_High_Low</th>\n",
       "      <th>Exp_Low_High</th>\n",
       "      <th>Exp_High_High</th>\n",
       "      <th>Pval</th>\n",
       "      <th>Chi2</th>\n",
       "    </tr>\n",
       "  </thead>\n",
       "  <tbody>\n",
       "    <tr>\n",
       "      <td>10662</td>\n",
       "      <td>LEO1</td>\n",
       "      <td>MRPL36</td>\n",
       "      <td>5.69817</td>\n",
       "      <td>72</td>\n",
       "      <td>1</td>\n",
       "      <td>1</td>\n",
       "      <td>70</td>\n",
       "      <td>37.0069</td>\n",
       "      <td>35.9931</td>\n",
       "      <td>35.9931</td>\n",
       "      <td>35.0069</td>\n",
       "      <td>1.32063e-30</td>\n",
       "      <td>132.248</td>\n",
       "    </tr>\n",
       "    <tr>\n",
       "      <td>10680</td>\n",
       "      <td>LEO1</td>\n",
       "      <td>MRPS5</td>\n",
       "      <td>5.40063</td>\n",
       "      <td>60</td>\n",
       "      <td>16</td>\n",
       "      <td>7</td>\n",
       "      <td>40</td>\n",
       "      <td>41.3984</td>\n",
       "      <td>34.6016</td>\n",
       "      <td>25.6016</td>\n",
       "      <td>21.3984</td>\n",
       "      <td>1.52926e-11</td>\n",
       "      <td>45.4963</td>\n",
       "    </tr>\n",
       "    <tr>\n",
       "      <td>10675</td>\n",
       "      <td>LEO1</td>\n",
       "      <td>MRPS23</td>\n",
       "      <td>5.28603</td>\n",
       "      <td>55</td>\n",
       "      <td>13</td>\n",
       "      <td>6</td>\n",
       "      <td>43</td>\n",
       "      <td>35.453</td>\n",
       "      <td>32.547</td>\n",
       "      <td>25.547</td>\n",
       "      <td>23.453</td>\n",
       "      <td>9.00831e-13</td>\n",
       "      <td>51.0491</td>\n",
       "    </tr>\n",
       "    <tr>\n",
       "      <td>1224</td>\n",
       "      <td>ATP5A1</td>\n",
       "      <td>NDUFB1</td>\n",
       "      <td>5.25815</td>\n",
       "      <td>53</td>\n",
       "      <td>6</td>\n",
       "      <td>11</td>\n",
       "      <td>46</td>\n",
       "      <td>32.5517</td>\n",
       "      <td>26.4483</td>\n",
       "      <td>31.4483</td>\n",
       "      <td>25.5517</td>\n",
       "      <td>9.35713e-14</td>\n",
       "      <td>55.4976</td>\n",
       "    </tr>\n",
       "    <tr>\n",
       "      <td>16661</td>\n",
       "      <td>RPL23</td>\n",
       "      <td>RPL35</td>\n",
       "      <td>4.9084</td>\n",
       "      <td>63</td>\n",
       "      <td>9</td>\n",
       "      <td>5</td>\n",
       "      <td>61</td>\n",
       "      <td>35.4783</td>\n",
       "      <td>36.5217</td>\n",
       "      <td>32.5217</td>\n",
       "      <td>33.4783</td>\n",
       "      <td>3.24159e-20</td>\n",
       "      <td>84.8361</td>\n",
       "    </tr>\n",
       "    <tr>\n",
       "      <td>...</td>\n",
       "      <td>...</td>\n",
       "      <td>...</td>\n",
       "      <td>...</td>\n",
       "      <td>...</td>\n",
       "      <td>...</td>\n",
       "      <td>...</td>\n",
       "      <td>...</td>\n",
       "      <td>...</td>\n",
       "      <td>...</td>\n",
       "      <td>...</td>\n",
       "      <td>...</td>\n",
       "      <td>...</td>\n",
       "      <td>...</td>\n",
       "    </tr>\n",
       "    <tr>\n",
       "      <td>9732</td>\n",
       "      <td>GTPBP4</td>\n",
       "      <td>NOP58</td>\n",
       "      <td>1.00064</td>\n",
       "      <td>60</td>\n",
       "      <td>14</td>\n",
       "      <td>4</td>\n",
       "      <td>46</td>\n",
       "      <td>38.1935</td>\n",
       "      <td>35.8065</td>\n",
       "      <td>25.8065</td>\n",
       "      <td>24.1935</td>\n",
       "      <td>5.94653e-15</td>\n",
       "      <td>60.9192</td>\n",
       "    </tr>\n",
       "    <tr>\n",
       "      <td>7934</td>\n",
       "      <td>EMG1</td>\n",
       "      <td>MRPL46</td>\n",
       "      <td>1.00054</td>\n",
       "      <td>63</td>\n",
       "      <td>6</td>\n",
       "      <td>9</td>\n",
       "      <td>57</td>\n",
       "      <td>36.8</td>\n",
       "      <td>32.2</td>\n",
       "      <td>35.2</td>\n",
       "      <td>30.8</td>\n",
       "      <td>7.34535e-19</td>\n",
       "      <td>78.6686</td>\n",
       "    </tr>\n",
       "    <tr>\n",
       "      <td>4771</td>\n",
       "      <td>CNOT1</td>\n",
       "      <td>DARS</td>\n",
       "      <td>1.00026</td>\n",
       "      <td>60</td>\n",
       "      <td>9</td>\n",
       "      <td>13</td>\n",
       "      <td>50</td>\n",
       "      <td>38.1591</td>\n",
       "      <td>30.8409</td>\n",
       "      <td>34.8409</td>\n",
       "      <td>28.1591</td>\n",
       "      <td>7.44205e-14</td>\n",
       "      <td>55.9478</td>\n",
       "    </tr>\n",
       "    <tr>\n",
       "      <td>13527</td>\n",
       "      <td>MZT1</td>\n",
       "      <td>PGK1</td>\n",
       "      <td>1.00019</td>\n",
       "      <td>57</td>\n",
       "      <td>15</td>\n",
       "      <td>7</td>\n",
       "      <td>48</td>\n",
       "      <td>36.2835</td>\n",
       "      <td>35.7165</td>\n",
       "      <td>27.7165</td>\n",
       "      <td>27.2835</td>\n",
       "      <td>4.45065e-13</td>\n",
       "      <td>52.4335</td>\n",
       "    </tr>\n",
       "    <tr>\n",
       "      <td>8581</td>\n",
       "      <td>FARSA</td>\n",
       "      <td>PDSS2</td>\n",
       "      <td>1.00005</td>\n",
       "      <td>59</td>\n",
       "      <td>7</td>\n",
       "      <td>11</td>\n",
       "      <td>38</td>\n",
       "      <td>40.1739</td>\n",
       "      <td>25.8261</td>\n",
       "      <td>29.8261</td>\n",
       "      <td>19.1739</td>\n",
       "      <td>1.43175e-12</td>\n",
       "      <td>50.1398</td>\n",
       "    </tr>\n",
       "  </tbody>\n",
       "</table>\n",
       "<p>2046 rows × 13 columns</p>\n",
       "</div>"
      ],
      "text/plain": [
       "        Gene1   Gene2     K562 Obs_Low_Low Obs_High_Low Obs_Low_High  \\\n",
       "10662    LEO1  MRPL36  5.69817          72            1            1   \n",
       "10680    LEO1   MRPS5  5.40063          60           16            7   \n",
       "10675    LEO1  MRPS23  5.28603          55           13            6   \n",
       "1224   ATP5A1  NDUFB1  5.25815          53            6           11   \n",
       "16661   RPL23   RPL35   4.9084          63            9            5   \n",
       "...       ...     ...      ...         ...          ...          ...   \n",
       "9732   GTPBP4   NOP58  1.00064          60           14            4   \n",
       "7934     EMG1  MRPL46  1.00054          63            6            9   \n",
       "4771    CNOT1    DARS  1.00026          60            9           13   \n",
       "13527    MZT1    PGK1  1.00019          57           15            7   \n",
       "8581    FARSA   PDSS2  1.00005          59            7           11   \n",
       "\n",
       "      Obs_High_High Exp_Low_Low Exp_High_Low Exp_Low_High Exp_High_High  \\\n",
       "10662            70     37.0069      35.9931      35.9931       35.0069   \n",
       "10680            40     41.3984      34.6016      25.6016       21.3984   \n",
       "10675            43      35.453       32.547       25.547        23.453   \n",
       "1224             46     32.5517      26.4483      31.4483       25.5517   \n",
       "16661            61     35.4783      36.5217      32.5217       33.4783   \n",
       "...             ...         ...          ...          ...           ...   \n",
       "9732             46     38.1935      35.8065      25.8065       24.1935   \n",
       "7934             57        36.8         32.2         35.2          30.8   \n",
       "4771             50     38.1591      30.8409      34.8409       28.1591   \n",
       "13527            48     36.2835      35.7165      27.7165       27.2835   \n",
       "8581             38     40.1739      25.8261      29.8261       19.1739   \n",
       "\n",
       "              Pval     Chi2  \n",
       "10662  1.32063e-30  132.248  \n",
       "10680  1.52926e-11  45.4963  \n",
       "10675  9.00831e-13  51.0491  \n",
       "1224   9.35713e-14  55.4976  \n",
       "16661  3.24159e-20  84.8361  \n",
       "...            ...      ...  \n",
       "9732   5.94653e-15  60.9192  \n",
       "7934   7.34535e-19  78.6686  \n",
       "4771   7.44205e-14  55.9478  \n",
       "13527  4.45065e-13  52.4335  \n",
       "8581   1.43175e-12  50.1398  \n",
       "\n",
       "[2046 rows x 13 columns]"
      ]
     },
     "execution_count": 473,
     "metadata": {},
     "output_type": "execute_result"
    }
   ],
   "source": [
    "test[\n",
    "    ((test.Obs_Low_Low/ test.Exp_Low_Low) < (test.Obs_High_High/test.Exp_High_High)) \n",
    "    & (test.Pval < 1e-10)\n",
    "].sort_values('K562', ascending = False)"
   ]
  },
  {
   "cell_type": "code",
   "execution_count": 433,
   "metadata": {
    "scrolled": false
   },
   "outputs": [
    {
     "data": {
      "text/html": [
       "<div>\n",
       "<style scoped>\n",
       "    .dataframe tbody tr th:only-of-type {\n",
       "        vertical-align: middle;\n",
       "    }\n",
       "\n",
       "    .dataframe tbody tr th {\n",
       "        vertical-align: top;\n",
       "    }\n",
       "\n",
       "    .dataframe thead th {\n",
       "        text-align: right;\n",
       "    }\n",
       "</style>\n",
       "<table border=\"1\" class=\"dataframe\">\n",
       "  <thead>\n",
       "    <tr style=\"text-align: right;\">\n",
       "      <th></th>\n",
       "      <th>Gene1</th>\n",
       "      <th>Gene2</th>\n",
       "      <th>Obs_Low_Low</th>\n",
       "      <th>Obs_High_Low</th>\n",
       "      <th>Obs_Low_High</th>\n",
       "      <th>Obs_High_High</th>\n",
       "      <th>Exp_Low_Low</th>\n",
       "      <th>Exp_High_Low</th>\n",
       "      <th>Exp_Low_High</th>\n",
       "      <th>Exp_High_High</th>\n",
       "      <th>Pval</th>\n",
       "      <th>Chi2</th>\n",
       "    </tr>\n",
       "  </thead>\n",
       "  <tbody>\n",
       "    <tr>\n",
       "      <td>3886</td>\n",
       "      <td>CDCA8</td>\n",
       "      <td>CDK1</td>\n",
       "      <td>98</td>\n",
       "      <td>0</td>\n",
       "      <td>0</td>\n",
       "      <td>90</td>\n",
       "      <td>51.0851</td>\n",
       "      <td>46.9149</td>\n",
       "      <td>46.9149</td>\n",
       "      <td>43.0851</td>\n",
       "      <td>6.44217e-42</td>\n",
       "      <td>184.014</td>\n",
       "    </tr>\n",
       "    <tr>\n",
       "      <td>16725</td>\n",
       "      <td>RPL3</td>\n",
       "      <td>RPL5</td>\n",
       "      <td>94</td>\n",
       "      <td>0</td>\n",
       "      <td>0</td>\n",
       "      <td>86</td>\n",
       "      <td>49.0889</td>\n",
       "      <td>44.9111</td>\n",
       "      <td>44.9111</td>\n",
       "      <td>41.0889</td>\n",
       "      <td>3.59495e-40</td>\n",
       "      <td>176.014</td>\n",
       "    </tr>\n",
       "    <tr>\n",
       "      <td>10459</td>\n",
       "      <td>KIF11</td>\n",
       "      <td>SGOL1</td>\n",
       "      <td>91</td>\n",
       "      <td>0</td>\n",
       "      <td>0</td>\n",
       "      <td>88</td>\n",
       "      <td>46.2626</td>\n",
       "      <td>44.7374</td>\n",
       "      <td>44.7374</td>\n",
       "      <td>43.2626</td>\n",
       "      <td>5.92338e-40</td>\n",
       "      <td>175.021</td>\n",
       "    </tr>\n",
       "    <tr>\n",
       "      <td>4266</td>\n",
       "      <td>CENPM</td>\n",
       "      <td>RAD51</td>\n",
       "      <td>92</td>\n",
       "      <td>0</td>\n",
       "      <td>0</td>\n",
       "      <td>86</td>\n",
       "      <td>47.5506</td>\n",
       "      <td>44.4494</td>\n",
       "      <td>44.4494</td>\n",
       "      <td>41.5506</td>\n",
       "      <td>9.80978e-40</td>\n",
       "      <td>174.018</td>\n",
       "    </tr>\n",
       "    <tr>\n",
       "      <td>3903</td>\n",
       "      <td>CDCA8</td>\n",
       "      <td>KIF14</td>\n",
       "      <td>92</td>\n",
       "      <td>0</td>\n",
       "      <td>0</td>\n",
       "      <td>86</td>\n",
       "      <td>47.5506</td>\n",
       "      <td>44.4494</td>\n",
       "      <td>44.4494</td>\n",
       "      <td>41.5506</td>\n",
       "      <td>9.80978e-40</td>\n",
       "      <td>174.018</td>\n",
       "    </tr>\n",
       "    <tr>\n",
       "      <td>...</td>\n",
       "      <td>...</td>\n",
       "      <td>...</td>\n",
       "      <td>...</td>\n",
       "      <td>...</td>\n",
       "      <td>...</td>\n",
       "      <td>...</td>\n",
       "      <td>...</td>\n",
       "      <td>...</td>\n",
       "      <td>...</td>\n",
       "      <td>...</td>\n",
       "      <td>...</td>\n",
       "      <td>...</td>\n",
       "    </tr>\n",
       "    <tr>\n",
       "      <td>13911</td>\n",
       "      <td>NDUFA8</td>\n",
       "      <td>TMEM261</td>\n",
       "      <td>59</td>\n",
       "      <td>16</td>\n",
       "      <td>8</td>\n",
       "      <td>39</td>\n",
       "      <td>41.1885</td>\n",
       "      <td>33.8115</td>\n",
       "      <td>25.8115</td>\n",
       "      <td>21.1885</td>\n",
       "      <td>9.63616e-11</td>\n",
       "      <td>41.8939</td>\n",
       "    </tr>\n",
       "    <tr>\n",
       "      <td>8995</td>\n",
       "      <td>GEMIN4</td>\n",
       "      <td>PDCD7</td>\n",
       "      <td>49</td>\n",
       "      <td>9</td>\n",
       "      <td>14</td>\n",
       "      <td>46</td>\n",
       "      <td>30.9661</td>\n",
       "      <td>27.0339</td>\n",
       "      <td>32.0339</td>\n",
       "      <td>27.9661</td>\n",
       "      <td>9.65069e-11</td>\n",
       "      <td>41.891</td>\n",
       "    </tr>\n",
       "    <tr>\n",
       "      <td>14876</td>\n",
       "      <td>PDSS2</td>\n",
       "      <td>TFB1M</td>\n",
       "      <td>56</td>\n",
       "      <td>9</td>\n",
       "      <td>16</td>\n",
       "      <td>43</td>\n",
       "      <td>37.7419</td>\n",
       "      <td>27.2581</td>\n",
       "      <td>34.2581</td>\n",
       "      <td>24.7419</td>\n",
       "      <td>9.72974e-11</td>\n",
       "      <td>41.875</td>\n",
       "    </tr>\n",
       "    <tr>\n",
       "      <td>14628</td>\n",
       "      <td>NUTF2</td>\n",
       "      <td>TUBB</td>\n",
       "      <td>55</td>\n",
       "      <td>19</td>\n",
       "      <td>9</td>\n",
       "      <td>48</td>\n",
       "      <td>36.1527</td>\n",
       "      <td>37.8473</td>\n",
       "      <td>27.8473</td>\n",
       "      <td>29.1527</td>\n",
       "      <td>9.90243e-11</td>\n",
       "      <td>41.8406</td>\n",
       "    </tr>\n",
       "    <tr>\n",
       "      <td>11142</td>\n",
       "      <td>MBTPS2</td>\n",
       "      <td>NAT10</td>\n",
       "      <td>47</td>\n",
       "      <td>17</td>\n",
       "      <td>6</td>\n",
       "      <td>46</td>\n",
       "      <td>29.2414</td>\n",
       "      <td>34.7586</td>\n",
       "      <td>23.7586</td>\n",
       "      <td>28.2414</td>\n",
       "      <td>9.90818e-11</td>\n",
       "      <td>41.8395</td>\n",
       "    </tr>\n",
       "  </tbody>\n",
       "</table>\n",
       "<p>1676 rows × 12 columns</p>\n",
       "</div>"
      ],
      "text/plain": [
       "        Gene1    Gene2 Obs_Low_Low Obs_High_Low Obs_Low_High Obs_High_High  \\\n",
       "3886    CDCA8     CDK1          98            0            0            90   \n",
       "16725    RPL3     RPL5          94            0            0            86   \n",
       "10459   KIF11    SGOL1          91            0            0            88   \n",
       "4266    CENPM    RAD51          92            0            0            86   \n",
       "3903    CDCA8    KIF14          92            0            0            86   \n",
       "...       ...      ...         ...          ...          ...           ...   \n",
       "13911  NDUFA8  TMEM261          59           16            8            39   \n",
       "8995   GEMIN4    PDCD7          49            9           14            46   \n",
       "14876   PDSS2    TFB1M          56            9           16            43   \n",
       "14628   NUTF2     TUBB          55           19            9            48   \n",
       "11142  MBTPS2    NAT10          47           17            6            46   \n",
       "\n",
       "      Exp_Low_Low Exp_High_Low Exp_Low_High Exp_High_High         Pval  \\\n",
       "3886      51.0851      46.9149      46.9149       43.0851  6.44217e-42   \n",
       "16725     49.0889      44.9111      44.9111       41.0889  3.59495e-40   \n",
       "10459     46.2626      44.7374      44.7374       43.2626  5.92338e-40   \n",
       "4266      47.5506      44.4494      44.4494       41.5506  9.80978e-40   \n",
       "3903      47.5506      44.4494      44.4494       41.5506  9.80978e-40   \n",
       "...           ...          ...          ...           ...          ...   \n",
       "13911     41.1885      33.8115      25.8115       21.1885  9.63616e-11   \n",
       "8995      30.9661      27.0339      32.0339       27.9661  9.65069e-11   \n",
       "14876     37.7419      27.2581      34.2581       24.7419  9.72974e-11   \n",
       "14628     36.1527      37.8473      27.8473       29.1527  9.90243e-11   \n",
       "11142     29.2414      34.7586      23.7586       28.2414  9.90818e-11   \n",
       "\n",
       "          Chi2  \n",
       "3886   184.014  \n",
       "16725  176.014  \n",
       "10459  175.021  \n",
       "4266   174.018  \n",
       "3903   174.018  \n",
       "...        ...  \n",
       "13911  41.8939  \n",
       "8995    41.891  \n",
       "14876   41.875  \n",
       "14628  41.8406  \n",
       "11142  41.8395  \n",
       "\n",
       "[1676 rows x 12 columns]"
      ]
     },
     "execution_count": 433,
     "metadata": {},
     "output_type": "execute_result"
    }
   ],
   "source": [
    "test[\n",
    "    (test.Obs_Low_Low/ test.Exp_Low_Low < test.Obs_High_High/test.Exp_High_High) & \n",
    "#     (test.Obs_High_Low > 3) & (test.Obs_Low_High > 3) &\n",
    "    (test.Obs_Low_Low > test.Obs_High_Low) &\n",
    "    (test.Pval < 1e-10)\n",
    "].sort_values('Pval')"
   ]
  },
  {
   "cell_type": "code",
   "execution_count": null,
   "metadata": {},
   "outputs": [],
   "source": []
  },
  {
   "cell_type": "code",
   "execution_count": null,
   "metadata": {},
   "outputs": [],
   "source": []
  },
  {
   "cell_type": "code",
   "execution_count": null,
   "metadata": {},
   "outputs": [],
   "source": []
  },
  {
   "cell_type": "markdown",
   "metadata": {},
   "source": [
    "Low-Low gene pairs for **Jurkat** GI pairs:"
   ]
  },
  {
   "cell_type": "code",
   "execution_count": 383,
   "metadata": {
    "scrolled": false
   },
   "outputs": [
    {
     "name": "stdout",
     "output_type": "stream",
     "text": [
      "done in 125.003775s\n"
     ]
    }
   ],
   "source": [
    "test = SL_stat_test(data, SLdata, cell_line = 'Jurkat')"
   ]
  },
  {
   "cell_type": "markdown",
   "metadata": {},
   "source": [
    "> Low Low $Obs/Exp <  $ High High $Obs/Exp$"
   ]
  },
  {
   "cell_type": "markdown",
   "metadata": {},
   "source": [
    "### Survival analysis "
   ]
  },
  {
   "cell_type": "markdown",
   "metadata": {},
   "source": [
    "https://plot.ly/python/v3/ipython-notebooks/survival-analysis-r-vs-python/"
   ]
  },
  {
   "cell_type": "code",
   "execution_count": null,
   "metadata": {},
   "outputs": [],
   "source": []
  },
  {
   "cell_type": "markdown",
   "metadata": {},
   "source": [
    "# 2nd\n",
    "- ### [Pediatric Acute Lymphoid Leukemia - Phase II (TARGET, 2018)](https://www.cbioportal.org/study?id=all_phase2_target_2018_pub)"
   ]
  },
  {
   "cell_type": "code",
   "execution_count": null,
   "metadata": {},
   "outputs": [],
   "source": [
    "# meta data\n",
    "filepath = 'cBioPortal/all_phase2_target_2018_pub/meta_study.txt'\n",
    "with open(filepath) as fp:\n",
    "    print( fp.read() )"
   ]
  },
  {
   "cell_type": "code",
   "execution_count": null,
   "metadata": {},
   "outputs": [],
   "source": [
    "# ls cBioPortal/all_phase2_target_2018_pub"
   ]
  },
  {
   "cell_type": "code",
   "execution_count": 61,
   "metadata": {},
   "outputs": [],
   "source": [
    "data = make_study_dataset('cBioPortal/all_phase2_target_2018_pub/data_RNA_Seq_mRNA_median_Zscores.txt')"
   ]
  },
  {
   "cell_type": "markdown",
   "metadata": {},
   "source": [
    "### Chi-square Test"
   ]
  },
  {
   "cell_type": "markdown",
   "metadata": {},
   "source": [
    "Low-Low gene pairs for **K562** GI pairs:\n",
    "$$Obs/Exp < 1$$"
   ]
  },
  {
   "cell_type": "code",
   "execution_count": 62,
   "metadata": {},
   "outputs": [],
   "source": [
    "cell = 'K562'\n",
    "test = GI_stat_test(data['GI'], cell, t_pval = 5e-14)\n",
    "for t in test:\n",
    "    print (t, '>> Obs:', test[t]['Obs'], '>> Pvalue:', test[t]['Pvalue'])\n",
    "    print ('\\tObs/Exp [low_low, high_low]:\\t', [round(x, 4) for x in test[t]['Obs/Exp'][0]])\n",
    "    print ('\\tObs/Exp [low_high, high_high]:\\t', [round(x, 4) for x in test[t]['Obs/Exp'][1]], '\\n')"
   ]
  },
  {
   "cell_type": "markdown",
   "metadata": {},
   "source": [
    "Low-Low gene pairs for **Jurkat** GI pairs:\n",
    "$$Obs/Exp < 1$$"
   ]
  },
  {
   "cell_type": "code",
   "execution_count": null,
   "metadata": {},
   "outputs": [],
   "source": [
    "cell = 'Jurkat'\n",
    "test = GI_stat_test(data['GI'], cell, t_pval = 5e-14)\n",
    "for t in test:\n",
    "    print (t, '>> Obs:', test[t]['Obs'], '>> Pvalue:', test[t]['Pvalue'])\n",
    "    print ('\\tObs/Exp [low_low, high_low]:\\t', [round(x, 4) for x in test[t]['Obs/Exp'][0]])\n",
    "    print ('\\tObs/Exp [low_high, high_high]:\\t', [round(x, 4) for x in test[t]['Obs/Exp'][1]], '\\n')"
   ]
  },
  {
   "cell_type": "code",
   "execution_count": null,
   "metadata": {},
   "outputs": [],
   "source": [
    "### Other folders:\n",
    "# aml_target_2018_pub\n",
    "# laml_tcga\n",
    "# laml_tcga_pan_can_atlas_2018\n",
    "# laml_tcga_pub"
   ]
  }
 ],
 "metadata": {
  "kernelspec": {
   "display_name": "Python 3",
   "language": "python",
   "name": "python3"
  },
  "language_info": {
   "codemirror_mode": {
    "name": "ipython",
    "version": 3
   },
   "file_extension": ".py",
   "mimetype": "text/x-python",
   "name": "python",
   "nbconvert_exporter": "python",
   "pygments_lexer": "ipython3",
   "version": "3.7.3"
  }
 },
 "nbformat": 4,
 "nbformat_minor": 2
}
