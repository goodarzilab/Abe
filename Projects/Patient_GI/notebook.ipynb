{
 "cells": [
  {
   "cell_type": "code",
   "execution_count": 1,
   "metadata": {},
   "outputs": [],
   "source": [
    "import numpy as np\n",
    "import pandas as pd \n",
    "import lifelines as ll\n",
    "import matplotlib.pyplot as plt\n",
    "import plotly as py\n",
    "import plotly.tools as tls   \n",
    "from time import time\n",
    "from scipy.stats import fisher_exact, spearmanr"
   ]
  },
  {
   "cell_type": "markdown",
   "metadata": {},
   "source": [
    "# First of all we define some functions for our purpose: "
   ]
  },
  {
   "cell_type": "markdown",
   "metadata": {},
   "source": [
    "## GI Scores\n",
    "Load data from [Mapping the Genetic Landscape of Human Cells](https://www.sciencedirect.com/science/article/pii/S0092867418307359?via%3Dihub#mmc2) paper. \n",
    "> [**Table S5.**](https://www.sciencedirect.com/science/article/pii/S0092867418307359?via%3Dihub#mmc5)"
   ]
  },
  {
   "cell_type": "code",
   "execution_count": 91,
   "metadata": {},
   "outputs": [],
   "source": [
    "def get_SLdataset(SL_thr = 2):\n",
    "    # read data from file \n",
    "    myfile = (\"CRISPRi_Mapping_paper/Table_S5.xlsx\") \n",
    "    xl = pd.ExcelFile(myfile)\n",
    "    sheets = {sheet: xl.parse(sheet) for sheet in xl.sheet_names}\n",
    "    # print ('Sheets:')\n",
    "    # print (xl.sheet_names)\n",
    "    # Read data from *gene GI scores sheet*:\n",
    "    GIsheet = sheets['gene GI scores and correlations']\n",
    "    raw_data = pd.DataFrame(data = {\n",
    "        'Gene1': np.array(GIsheet['Unnamed: 0'][3:]),\n",
    "        'Gene2': np.array(GIsheet['Unnamed: 1'][3:]), \n",
    "        'K562': np.array(GIsheet['K562.4'][3:]),                # g1 <-> g2 GI scores\n",
    "        'Jurkat': np.array(GIsheet['Jurkat.4'][3:])             # g1 <-> g2 GI scores\n",
    "    })\n",
    "    raw_K562   = raw_data.drop(columns='Jurkat').dropna()\n",
    "    raw_Jurkat = raw_data.drop(columns='K562').dropna()\n",
    "    K562   = raw_K562[(raw_K562['K562'] > SL_thr) & \n",
    "                      (raw_K562['Gene1'] != raw_K562['Gene2'])].reset_index(drop=True)\n",
    "    Jurkat = raw_Jurkat[(raw_Jurkat['Jurkat'] > SL_thr) &\n",
    "                        (raw_Jurkat['Gene1'] != raw_Jurkat['Gene2'])].reset_index(drop=True)\n",
    "    print (f'K562: {round(100* len(K562) / len(raw_K562), 2)}%', end = '\\t') \n",
    "    print (f'{len(K562)} SLs from {len(raw_K562)} unique gene pairs')\n",
    "    print (f'Jurkat: {round(100* len(Jurkat) / len(raw_Jurkat), 2)}%', end = '\\t') \n",
    "    print (f'{len(Jurkat)} SLs from {len(raw_Jurkat)} unique gene pairs ')\n",
    "    return {'K562':K562, 'Jurkat':Jurkat}"
   ]
  },
  {
   "cell_type": "markdown",
   "metadata": {},
   "source": [
    "## Read expression data\n"
   ]
  },
  {
   "cell_type": "code",
   "execution_count": 92,
   "metadata": {},
   "outputs": [],
   "source": [
    "# make final data set \n",
    "def make_study_dataset(filepath, get_RNASeq = False):\n",
    "    t0 = time()\n",
    "    with open(filepath) as fp:\n",
    "        lines = [l.split('\\t') for l in fp.readlines()]\n",
    "        # switch NAs -> 0s\n",
    "        for i,l in enumerate(lines):\n",
    "            if 'NA' in l:\n",
    "                n = len(l[2:])\n",
    "                l = l[0:2]\n",
    "                for z in [0]*n:\n",
    "                    l.append(z)\n",
    "            lines[i] = l\n",
    "        genes = [d[0] for d in lines[1:]]\n",
    "        RNA_seq = [np.array(d[2:], dtype = float) for d in lines[1:]]\n",
    "                     \n",
    "        Q1 = [np.quantile(p, 0.1) for p in RNA_seq]       # Low expression threshold\n",
    "        Q3 = [np.quantile(p, 0.9) for p in RNA_seq]       # High expression threshold        \n",
    "        \n",
    "    data = pd.DataFrame(data = [i + j for i,j in zip([-1*(p <= q1) for p,q1 in zip(RNA_seq, Q1)], \n",
    "                                                     [ 1*(p >= q3) for p,q3 in zip(RNA_seq, Q3)])],\n",
    "                        index = [d[0] for d in lines[1:]], columns= lines[0][2:])\n",
    "        \n",
    "\n",
    "    print(\"done in %fs\" % (time() - t0))       \n",
    "    if get_RNASeq == False:\n",
    "        return data\n",
    "    else:\n",
    "        RNA_seq = pd.DataFrame(data = RNA_seq, index = [d[0] for d in lines[1:]],\n",
    "                               columns= lines[0][2:])\n",
    "        return RNA_seq, data"
   ]
  },
  {
   "cell_type": "markdown",
   "metadata": {},
   "source": [
    "## Statistical Test "
   ]
  },
  {
   "cell_type": "code",
   "execution_count": 462,
   "metadata": {},
   "outputs": [
    {
     "data": {
      "text/plain": [
       "(0.0, 0.03496503496503495)"
      ]
     },
     "execution_count": 462,
     "metadata": {},
     "output_type": "execute_result"
    }
   ],
   "source": [
    "oddsratio, pvalue = stats.fisher_exact([[8, 2], [1, 5]])"
   ]
  },
  {
   "cell_type": "code",
   "execution_count": 93,
   "metadata": {
    "scrolled": false,
    "slideshow": {
     "slide_type": "-"
    }
   },
   "outputs": [],
   "source": [
    "def SL_stat_test(filename, cell_line = 'K562'):\n",
    "    t0 = time()\n",
    "    SLdata = get_SLdataset()\n",
    "    RNASeq, data = make_study_dataset(filename, get_RNASeq = True)\n",
    "    tmp = SLdata[cell_line]\n",
    "    # filter out missing gene names between GI and expression studies \n",
    "    tmp = tmp[pd.DataFrame(tmp.Gene1.tolist()).isin(data.index.tolist()).any(1)].reset_index(drop=True)\n",
    "    tmp = tmp[pd.DataFrame(tmp.Gene2.tolist()).isin(data.index.tolist()).any(1)].reset_index(drop=True)\n",
    "    G1 = tmp.Gene1; G2 = tmp.Gene2;\n",
    "    data_G1 = np.array(data.loc[G1], dtype = int)\n",
    "    data_G2 = np.array(data.loc[G2], dtype = int)\n",
    "    Cors = [spearmanr(g1,g2)[0] for g1,g2 in zip(np.array(RNASeq.loc[G1]), np.array(RNASeq.loc[G2]))]    \n",
    "    test_res = pd.DataFrame(data= np.stack((\n",
    "        G1 ,G2, tmp[cell_line], Cors,\n",
    "        np.sum( (data_G1 < 0) * (data_G2 < 0), axis = 1),              # low_low\n",
    "        np.sum( (data_G1 > 0) * (data_G2 < 0), axis = 1),              # high_low\n",
    "        np.sum( (data_G1 < 0) * (data_G2 > 0), axis = 1),              # low_high\n",
    "        np.sum( (data_G1 > 0) * (data_G2 > 0), axis = 1)),             # high_high\n",
    "        axis = 1), columns=[\n",
    "        'Gene1', 'Gene2', 'GI_Score', 'Correlation',\n",
    "        'Obs_Low_Low', 'Obs_High_Low', 'Obs_Low_High', 'Obs_High_High'\n",
    "#         , 'ChiPval', 'Chi2'\n",
    "    ])\n",
    "    \n",
    "    # random gene pairs \n",
    "    r1, r2 = np.random.randint(0, high=len(data) - 1, size=(2,len(tmp)), dtype='int')\n",
    "    rG1 = [data.index.tolist()[i] for i in r1]\n",
    "    rG2 = [data.index.tolist()[i] for i in r2]\n",
    "    data_rG1 = np.array(data.loc[rG1], dtype = int)\n",
    "    data_rG2 = np.array(data.loc[rG2], dtype = int)\n",
    "    rCors = [spearmanr(g1,g2)[0] for g1,g2 in zip(np.array(RNASeq.loc[rG1]), np.array(RNASeq.loc[rG2]))]    \n",
    "    random_test_res = pd.DataFrame(data= np.stack((\n",
    "        rG1 ,rG2, rCors,\n",
    "        np.sum( (data_rG1 < 0) * (data_rG2 < 0), axis = 1),              # low_low\n",
    "        np.sum( (data_rG1 > 0) * (data_rG2 < 0), axis = 1),              # high_low\n",
    "        np.sum( (data_rG1 < 0) * (data_rG2 > 0), axis = 1),              # low_high\n",
    "        np.sum( (data_rG1 > 0) * (data_rG2 > 0), axis = 1)),             # high_high\n",
    "        axis = 1), columns=[\n",
    "        'Gene1', 'Gene2', 'Correlation',\n",
    "        'Obs_Low_Low', 'Obs_High_Low', 'Obs_Low_High', 'Obs_High_High'\n",
    "#         , 'ChiPval', 'Chi2'\n",
    "    ])\n",
    "    print(\"done in %fs\" % (time() - t0))\n",
    "    return test_res, random_test_res"
   ]
  },
  {
   "cell_type": "code",
   "execution_count": 105,
   "metadata": {},
   "outputs": [],
   "source": [
    "def stat_test_plot(test_res, random_test_res, x_max = 100, y_max = 1):\n",
    "    plt.figure(figsize=(10,5))\n",
    "    for i, Obs in enumerate(['Obs_Low_Low', 'Obs_High_Low', 'Obs_Low_High', 'Obs_High_High']):\n",
    "        plt.subplot(221 + i)\n",
    "        plt.hist([\n",
    "            np.array(test_res[Obs], dtype = int), \n",
    "            np.array(random_test_res[Obs], dtype = int),],\n",
    "            label=['SL','Random'], histtype=u'step',  density = True)\n",
    "        plt.legend(loc='upper right')\n",
    "        plt.xlabel(Obs)\n",
    "        plt.ylabel('Frequency')\n",
    "        plt.xlim(-1, x_max)\n",
    "        plt.ylim(0, y_max)\n",
    "\n",
    "    plt.subplots_adjust(top=0.92, bottom=0.08, left=0.10, right=0.95, hspace=0.5,wspace=0.35)\n",
    "\n",
    "    plt.show()"
   ]
  },
  {
   "cell_type": "markdown",
   "metadata": {},
   "source": [
    "## Survival analysis \n",
    "Read combined study clinical data (downloaded from cBioPortal):"
   ]
  },
  {
   "cell_type": "code",
   "execution_count": 26,
   "metadata": {},
   "outputs": [],
   "source": [
    "def SL_survival(data, test):\n",
    "    t0 = time()\n",
    "    clinical_data = pd.read_csv('cBioPortal/combined_study_clinical_data.csv')\n",
    "    dfs = []\n",
    "    for t in test:\n",
    "        survival_data = []\n",
    "        g1, g2 = t.split('_') \n",
    "        g1_index = [ i for i, g in enumerate(data['raw']['Genes']) if g == g1][0]\n",
    "        g2_index = [ i for i, g in enumerate(data['raw']['Genes']) if g == g2][0]\n",
    "        Q1g1 = np.quantile(data['raw']['RNA-Seq'][g1_index], 0.25) # Gene 1 threshold\n",
    "        Q1g2 = np.quantile(data['raw']['RNA-Seq'][g2_index], 0.25) # Gene 2 threshold\n",
    "        for p, sam in enumerate(data['raw']['sample_ids']):\n",
    "            dat1 = 1*(data['raw']['RNA-Seq'][data['raw']['Genes'] == g1][p] <= Q1g1)    \n",
    "            dat2 = 1*(data['raw']['RNA-Seq'][data['raw']['Genes'] == g2][p] <= Q1g2)\n",
    "            surS = clinical_data['Overall Survival Status'][clinical_data['Sample ID'] == sam]\n",
    "            surM = clinical_data['Overall Survival (Months)'][clinical_data['Sample ID'] == sam]\n",
    "            if len(surS) > 0:\n",
    "                survival_data.append([sam,dat1,dat2,surS.values[0],surM.values[0]])\n",
    "        dfs.append(\n",
    "            pd.DataFrame(survival_data, columns=['sample_ids', g1 + ' is low', g2 + ' is low', \n",
    "                                                 'Status', 'Months']).dropna()\n",
    "        )\n",
    "    print(\"done in %fs\" % (time() - t0))\n",
    "    return dfs"
   ]
  },
  {
   "cell_type": "markdown",
   "metadata": {},
   "source": [
    "# Investigate expression patterns "
   ]
  },
  {
   "cell_type": "markdown",
   "metadata": {},
   "source": [
    "## 1st\n",
    "- ### [Acute Myeloid Leukemia (OHSU, Nature 2018)](https://www.cbioportal.org/study?id=aml_ohsu_2018)"
   ]
  },
  {
   "cell_type": "code",
   "execution_count": 7,
   "metadata": {},
   "outputs": [],
   "source": [
    "# ls cBioPortal/aml_ohsu_2018"
   ]
  },
  {
   "cell_type": "code",
   "execution_count": 8,
   "metadata": {},
   "outputs": [
    {
     "name": "stdout",
     "output_type": "stream",
     "text": [
      "type_of_cancer: aml\n",
      "cancer_study_identifier: aml_ohsu_2018\n",
      "name: Acute Myeloid Leukemia (OHSU, Nature 2018)\n",
      "description: Whole-exome sequencing of 672 acute myeloid leukemia samples (with 454 matched normals) from the Beat AML program.\n",
      "citation: Tyner et al. Nature 2018\n",
      "pmid: 30333627\n",
      "short_name: AML (OHSU)\n",
      "groups: PUBLIC\n"
     ]
    }
   ],
   "source": [
    "# print meta data\n",
    "with open('cBioPortal/aml_ohsu_2018/meta_study.txt') as fp:\n",
    "    print( fp.read() )"
   ]
  },
  {
   "cell_type": "markdown",
   "metadata": {},
   "source": [
    "### Chi-square Test"
   ]
  },
  {
   "cell_type": "markdown",
   "metadata": {},
   "source": [
    "Low-Low gene pairs for **K562** GI pairs:"
   ]
  },
  {
   "cell_type": "code",
   "execution_count": 95,
   "metadata": {
    "scrolled": true
   },
   "outputs": [
    {
     "name": "stdout",
     "output_type": "stream",
     "text": [
      "K562: 3.73%\t3754 SLs from 100576 unique gene pairs\n",
      "Jurkat: 2.25%\t1695 SLs from 75466 unique gene pairs \n",
      "done in 9.893230s\n",
      "done in 86.642467s\n"
     ]
    }
   ],
   "source": [
    "ohsu_K562_test_res, ohsu_K562_random_test_res = SL_stat_test(\n",
    "    'cBioPortal/aml_ohsu_2018/data_RNA_Seq_mRNA_median_Zscores.txt', cell_line = 'K562')"
   ]
  },
  {
   "cell_type": "markdown",
   "metadata": {},
   "source": [
    "> Low Low $Obs/Exp <  $ High High $Obs/Exp$"
   ]
  },
  {
   "cell_type": "code",
   "execution_count": 101,
   "metadata": {},
   "outputs": [
    {
     "data": {
      "image/png": "[encoded data removed]",
      "text/plain": [
       "<Figure size 720x360 with 4 Axes>"
      ]
     },
     "metadata": {
      "needs_background": "light"
     },
     "output_type": "display_data"
    }
   ],
   "source": [
    "stat_test_plot(ohsu_K562_test_res, ohsu_K562_random_test_res, x_max = 50, y_max = 0.2)"
   ]
  },
  {
   "cell_type": "code",
   "execution_count": 97,
   "metadata": {
    "scrolled": false
   },
   "outputs": [
    {
     "data": {
      "text/html": [
       "<div>\n",
       "<style scoped>\n",
       "    .dataframe tbody tr th:only-of-type {\n",
       "        vertical-align: middle;\n",
       "    }\n",
       "\n",
       "    .dataframe tbody tr th {\n",
       "        vertical-align: top;\n",
       "    }\n",
       "\n",
       "    .dataframe thead th {\n",
       "        text-align: right;\n",
       "    }\n",
       "</style>\n",
       "<table border=\"1\" class=\"dataframe\">\n",
       "  <thead>\n",
       "    <tr style=\"text-align: right;\">\n",
       "      <th></th>\n",
       "      <th>Gene1</th>\n",
       "      <th>Gene2</th>\n",
       "      <th>GI_Score</th>\n",
       "      <th>Correlation</th>\n",
       "      <th>Obs_Low_Low</th>\n",
       "      <th>Obs_High_Low</th>\n",
       "      <th>Obs_Low_High</th>\n",
       "      <th>Obs_High_High</th>\n",
       "    </tr>\n",
       "  </thead>\n",
       "  <tbody>\n",
       "    <tr>\n",
       "      <td>929</td>\n",
       "      <td>CENPK</td>\n",
       "      <td>MED1</td>\n",
       "      <td>2.60943</td>\n",
       "      <td>0.13405</td>\n",
       "      <td>6</td>\n",
       "      <td>7</td>\n",
       "      <td>11</td>\n",
       "      <td>10</td>\n",
       "    </tr>\n",
       "    <tr>\n",
       "      <td>1865</td>\n",
       "      <td>GFER</td>\n",
       "      <td>SNRNP70</td>\n",
       "      <td>2.75331</td>\n",
       "      <td>0.0744357</td>\n",
       "      <td>5</td>\n",
       "      <td>9</td>\n",
       "      <td>6</td>\n",
       "      <td>10</td>\n",
       "    </tr>\n",
       "    <tr>\n",
       "      <td>2540</td>\n",
       "      <td>MRPL27</td>\n",
       "      <td>NEMF</td>\n",
       "      <td>2.01146</td>\n",
       "      <td>-0.165932</td>\n",
       "      <td>5</td>\n",
       "      <td>6</td>\n",
       "      <td>10</td>\n",
       "      <td>7</td>\n",
       "    </tr>\n",
       "    <tr>\n",
       "      <td>3621</td>\n",
       "      <td>TTI2</td>\n",
       "      <td>YTHDC1</td>\n",
       "      <td>2.16867</td>\n",
       "      <td>0.0197025</td>\n",
       "      <td>5</td>\n",
       "      <td>6</td>\n",
       "      <td>7</td>\n",
       "      <td>8</td>\n",
       "    </tr>\n",
       "    <tr>\n",
       "      <td>3483</td>\n",
       "      <td>RPS27A</td>\n",
       "      <td>TIMM22</td>\n",
       "      <td>2.75322</td>\n",
       "      <td>-0.165733</td>\n",
       "      <td>5</td>\n",
       "      <td>7</td>\n",
       "      <td>7</td>\n",
       "      <td>7</td>\n",
       "    </tr>\n",
       "    <tr>\n",
       "      <td>...</td>\n",
       "      <td>...</td>\n",
       "      <td>...</td>\n",
       "      <td>...</td>\n",
       "      <td>...</td>\n",
       "      <td>...</td>\n",
       "      <td>...</td>\n",
       "      <td>...</td>\n",
       "      <td>...</td>\n",
       "    </tr>\n",
       "    <tr>\n",
       "      <td>2955</td>\n",
       "      <td>NFYC</td>\n",
       "      <td>ZNF511</td>\n",
       "      <td>2.06345</td>\n",
       "      <td>-0.407505</td>\n",
       "      <td>0</td>\n",
       "      <td>12</td>\n",
       "      <td>16</td>\n",
       "      <td>1</td>\n",
       "    </tr>\n",
       "    <tr>\n",
       "      <td>2008</td>\n",
       "      <td>HSCB</td>\n",
       "      <td>HYPK</td>\n",
       "      <td>2.20898</td>\n",
       "      <td>-0.227254</td>\n",
       "      <td>0</td>\n",
       "      <td>6</td>\n",
       "      <td>15</td>\n",
       "      <td>3</td>\n",
       "    </tr>\n",
       "    <tr>\n",
       "      <td>2963</td>\n",
       "      <td>NIP7</td>\n",
       "      <td>VPS29</td>\n",
       "      <td>3.35653</td>\n",
       "      <td>-0.398133</td>\n",
       "      <td>0</td>\n",
       "      <td>12</td>\n",
       "      <td>10</td>\n",
       "      <td>1</td>\n",
       "    </tr>\n",
       "    <tr>\n",
       "      <td>772</td>\n",
       "      <td>CCNK</td>\n",
       "      <td>MRPS25</td>\n",
       "      <td>2.36368</td>\n",
       "      <td>-0.249869</td>\n",
       "      <td>0</td>\n",
       "      <td>12</td>\n",
       "      <td>8</td>\n",
       "      <td>1</td>\n",
       "    </tr>\n",
       "    <tr>\n",
       "      <td>790</td>\n",
       "      <td>CCNK</td>\n",
       "      <td>SNRNP70</td>\n",
       "      <td>2.10812</td>\n",
       "      <td>-0.265418</td>\n",
       "      <td>0</td>\n",
       "      <td>11</td>\n",
       "      <td>10</td>\n",
       "      <td>1</td>\n",
       "    </tr>\n",
       "  </tbody>\n",
       "</table>\n",
       "<p>507 rows × 8 columns</p>\n",
       "</div>"
      ],
      "text/plain": [
       "       Gene1    Gene2 GI_Score Correlation Obs_Low_Low Obs_High_Low  \\\n",
       "929    CENPK     MED1  2.60943     0.13405           6            7   \n",
       "1865    GFER  SNRNP70  2.75331   0.0744357           5            9   \n",
       "2540  MRPL27     NEMF  2.01146   -0.165932           5            6   \n",
       "3621    TTI2   YTHDC1  2.16867   0.0197025           5            6   \n",
       "3483  RPS27A   TIMM22  2.75322   -0.165733           5            7   \n",
       "...      ...      ...      ...         ...         ...          ...   \n",
       "2955    NFYC   ZNF511  2.06345   -0.407505           0           12   \n",
       "2008    HSCB     HYPK  2.20898   -0.227254           0            6   \n",
       "2963    NIP7    VPS29  3.35653   -0.398133           0           12   \n",
       "772     CCNK   MRPS25  2.36368   -0.249869           0           12   \n",
       "790     CCNK  SNRNP70  2.10812   -0.265418           0           11   \n",
       "\n",
       "     Obs_Low_High Obs_High_High  \n",
       "929            11            10  \n",
       "1865            6            10  \n",
       "2540           10             7  \n",
       "3621            7             8  \n",
       "3483            7             7  \n",
       "...           ...           ...  \n",
       "2955           16             1  \n",
       "2008           15             3  \n",
       "2963           10             1  \n",
       "772             8             1  \n",
       "790            10             1  \n",
       "\n",
       "[507 rows x 8 columns]"
      ]
     },
     "execution_count": 97,
     "metadata": {},
     "output_type": "execute_result"
    }
   ],
   "source": [
    "ohsu_K562_test_res[\n",
    "    (ohsu_K562_test_res.Obs_Low_Low < ohsu_K562_test_res.Obs_High_High) &\n",
    "    (ohsu_K562_test_res.Obs_Low_Low < ohsu_K562_test_res.Obs_Low_High) &\n",
    "    (ohsu_K562_test_res.Obs_Low_Low < ohsu_K562_test_res.Obs_High_Low)\n",
    "].sort_values('Obs_Low_Low', ascending = False)"
   ]
  },
  {
   "cell_type": "code",
   "execution_count": 98,
   "metadata": {
    "scrolled": false
   },
   "outputs": [
    {
     "data": {
      "text/html": [
       "<div>\n",
       "<style scoped>\n",
       "    .dataframe tbody tr th:only-of-type {\n",
       "        vertical-align: middle;\n",
       "    }\n",
       "\n",
       "    .dataframe tbody tr th {\n",
       "        vertical-align: top;\n",
       "    }\n",
       "\n",
       "    .dataframe thead th {\n",
       "        text-align: right;\n",
       "    }\n",
       "</style>\n",
       "<table border=\"1\" class=\"dataframe\">\n",
       "  <thead>\n",
       "    <tr style=\"text-align: right;\">\n",
       "      <th></th>\n",
       "      <th>Gene1</th>\n",
       "      <th>Gene2</th>\n",
       "      <th>Correlation</th>\n",
       "      <th>Obs_Low_Low</th>\n",
       "      <th>Obs_High_Low</th>\n",
       "      <th>Obs_Low_High</th>\n",
       "      <th>Obs_High_High</th>\n",
       "    </tr>\n",
       "  </thead>\n",
       "  <tbody>\n",
       "    <tr>\n",
       "      <td>728</td>\n",
       "      <td>AC007879.5</td>\n",
       "      <td>NIF3L1</td>\n",
       "      <td>-0.23488541603718477</td>\n",
       "      <td>0</td>\n",
       "      <td>7</td>\n",
       "      <td>4</td>\n",
       "      <td>0</td>\n",
       "    </tr>\n",
       "    <tr>\n",
       "      <td>1623</td>\n",
       "      <td>LTA4H</td>\n",
       "      <td>RP11-141M1.3</td>\n",
       "      <td>-0.2026764094590393</td>\n",
       "      <td>0</td>\n",
       "      <td>7</td>\n",
       "      <td>5</td>\n",
       "      <td>0</td>\n",
       "    </tr>\n",
       "    <tr>\n",
       "      <td>3355</td>\n",
       "      <td>KCNK7</td>\n",
       "      <td>WDR49</td>\n",
       "      <td>-0.31027393656171137</td>\n",
       "      <td>0</td>\n",
       "      <td>11</td>\n",
       "      <td>4</td>\n",
       "      <td>0</td>\n",
       "    </tr>\n",
       "    <tr>\n",
       "      <td>3353</td>\n",
       "      <td>MRE11A</td>\n",
       "      <td>SUB1P1</td>\n",
       "      <td>-0.400344322305523</td>\n",
       "      <td>0</td>\n",
       "      <td>8</td>\n",
       "      <td>12</td>\n",
       "      <td>3</td>\n",
       "    </tr>\n",
       "    <tr>\n",
       "      <td>1964</td>\n",
       "      <td>CTB-191K22.6</td>\n",
       "      <td>OSER1</td>\n",
       "      <td>-0.513936362656037</td>\n",
       "      <td>0</td>\n",
       "      <td>9</td>\n",
       "      <td>12</td>\n",
       "      <td>1</td>\n",
       "    </tr>\n",
       "    <tr>\n",
       "      <td>...</td>\n",
       "      <td>...</td>\n",
       "      <td>...</td>\n",
       "      <td>...</td>\n",
       "      <td>...</td>\n",
       "      <td>...</td>\n",
       "      <td>...</td>\n",
       "      <td>...</td>\n",
       "    </tr>\n",
       "    <tr>\n",
       "      <td>2093</td>\n",
       "      <td>TPK1</td>\n",
       "      <td>AZI2</td>\n",
       "      <td>0.17925066521388067</td>\n",
       "      <td>9</td>\n",
       "      <td>0</td>\n",
       "      <td>2</td>\n",
       "      <td>11</td>\n",
       "    </tr>\n",
       "    <tr>\n",
       "      <td>2092</td>\n",
       "      <td>RN7SL81P</td>\n",
       "      <td>CTC-366B18.4</td>\n",
       "      <td>0.1736727691047485</td>\n",
       "      <td>9</td>\n",
       "      <td>3</td>\n",
       "      <td>2</td>\n",
       "      <td>10</td>\n",
       "    </tr>\n",
       "    <tr>\n",
       "      <td>958</td>\n",
       "      <td>NFIA</td>\n",
       "      <td>ANKEF1</td>\n",
       "      <td>0.012385384737796701</td>\n",
       "      <td>9</td>\n",
       "      <td>3</td>\n",
       "      <td>6</td>\n",
       "      <td>0</td>\n",
       "    </tr>\n",
       "    <tr>\n",
       "      <td>2373</td>\n",
       "      <td>SKP2</td>\n",
       "      <td>AOX3P</td>\n",
       "      <td>0.12260477995706383</td>\n",
       "      <td>9</td>\n",
       "      <td>4</td>\n",
       "      <td>2</td>\n",
       "      <td>7</td>\n",
       "    </tr>\n",
       "    <tr>\n",
       "      <td>1193</td>\n",
       "      <td>IL33</td>\n",
       "      <td>RHCE</td>\n",
       "      <td>0.3145737841556667</td>\n",
       "      <td>9</td>\n",
       "      <td>2</td>\n",
       "      <td>2</td>\n",
       "      <td>18</td>\n",
       "    </tr>\n",
       "  </tbody>\n",
       "</table>\n",
       "<p>3649 rows × 7 columns</p>\n",
       "</div>"
      ],
      "text/plain": [
       "             Gene1         Gene2           Correlation Obs_Low_Low  \\\n",
       "728     AC007879.5        NIF3L1  -0.23488541603718477           0   \n",
       "1623         LTA4H  RP11-141M1.3   -0.2026764094590393           0   \n",
       "3355         KCNK7         WDR49  -0.31027393656171137           0   \n",
       "3353        MRE11A        SUB1P1    -0.400344322305523           0   \n",
       "1964  CTB-191K22.6         OSER1    -0.513936362656037           0   \n",
       "...            ...           ...                   ...         ...   \n",
       "2093          TPK1          AZI2   0.17925066521388067           9   \n",
       "2092      RN7SL81P  CTC-366B18.4    0.1736727691047485           9   \n",
       "958           NFIA        ANKEF1  0.012385384737796701           9   \n",
       "2373          SKP2         AOX3P   0.12260477995706383           9   \n",
       "1193          IL33          RHCE    0.3145737841556667           9   \n",
       "\n",
       "     Obs_High_Low Obs_Low_High Obs_High_High  \n",
       "728             7            4             0  \n",
       "1623            7            5             0  \n",
       "3355           11            4             0  \n",
       "3353            8           12             3  \n",
       "1964            9           12             1  \n",
       "...           ...          ...           ...  \n",
       "2093            0            2            11  \n",
       "2092            3            2            10  \n",
       "958             3            6             0  \n",
       "2373            4            2             7  \n",
       "1193            2            2            18  \n",
       "\n",
       "[3649 rows x 7 columns]"
      ]
     },
     "execution_count": 98,
     "metadata": {},
     "output_type": "execute_result"
    }
   ],
   "source": [
    "ohsu_K562_random_test_res.sort_values('Obs_Low_Low', ascending = True)"
   ]
  },
  {
   "cell_type": "markdown",
   "metadata": {},
   "source": [
    "Low-Low gene pairs for **Jurkat** GI pairs:"
   ]
  },
  {
   "cell_type": "code",
   "execution_count": 99,
   "metadata": {
    "scrolled": true
   },
   "outputs": [
    {
     "name": "stdout",
     "output_type": "stream",
     "text": [
      "K562: 3.73%\t3754 SLs from 100576 unique gene pairs\n",
      "Jurkat: 2.25%\t1695 SLs from 75466 unique gene pairs \n",
      "done in 10.009917s\n",
      "done in 80.184505s\n"
     ]
    }
   ],
   "source": [
    "ohsu_Jurkat_test_res, ohsu_Jurkat_random_test_res = SL_stat_test(\n",
    "    'cBioPortal/aml_ohsu_2018/data_RNA_Seq_mRNA_median_Zscores.txt', cell_line = 'Jurkat')"
   ]
  },
  {
   "cell_type": "markdown",
   "metadata": {},
   "source": [
    "> Low Low $Obs/Exp <  $ High High $Obs/Exp$"
   ]
  },
  {
   "cell_type": "code",
   "execution_count": 104,
   "metadata": {},
   "outputs": [
    {
     "data": {
      "image/png": "[encoded data removed]",
      "text/plain": [
       "<Figure size 720x360 with 4 Axes>"
      ]
     },
     "metadata": {
      "needs_background": "light"
     },
     "output_type": "display_data"
    }
   ],
   "source": [
    "stat_test_plot(ohsu_Jurkat_test_res, ohsu_Jurkat_random_test_res, x_max = 50, y_max = 0.2)"
   ]
  },
  {
   "cell_type": "code",
   "execution_count": null,
   "metadata": {
    "scrolled": false
   },
   "outputs": [],
   "source": [
    "ohsu_Jurkat_test_res[\n",
    "    (ohsu_Jurkat_test_res.Obs_Low_Low < ohsu_Jurkat_test_res.Obs_High_High) &\n",
    "    (ohsu_Jurkat_test_res.Obs_Low_Low < ohsu_Jurkat_test_res.Obs_Low_High) &\n",
    "    (ohsu_Jurkat_test_res.Obs_Low_Low < ohsu_Jurkat_test_res.Obs_High_Low)\n",
    "].sort_values('Obs_Low_Low', ascending = False)"
   ]
  },
  {
   "cell_type": "markdown",
   "metadata": {},
   "source": [
    "### Survival analysis "
   ]
  },
  {
   "cell_type": "markdown",
   "metadata": {},
   "source": [
    "https://plot.ly/python/v3/ipython-notebooks/survival-analysis-r-vs-python/"
   ]
  },
  {
   "cell_type": "code",
   "execution_count": null,
   "metadata": {},
   "outputs": [],
   "source": []
  },
  {
   "cell_type": "markdown",
   "metadata": {},
   "source": [
    "# 2nd\n",
    "- ### [Pediatric Acute Lymphoid Leukemia - Phase II (TARGET, 2018)](https://www.cbioportal.org/study?id=all_phase2_target_2018_pub)"
   ]
  },
  {
   "cell_type": "code",
   "execution_count": 43,
   "metadata": {},
   "outputs": [
    {
     "name": "stdout",
     "output_type": "stream",
     "text": [
      "type_of_cancer: bll\n",
      "cancer_study_identifier: all_phase2_target_2018_pub\n",
      "name: Pediatric Acute Lymphoid Leukemia - Phase II (TARGET, 2018)\n",
      "short_name: ALL-Phase II (TARGET, 2018)\n",
      "description: Comprehensive profiling of ALL Phase 2 samples. <p>TARGET data is intended exclusively for biomedical research using pediatric data (i.e., the research objectives cannot be accomplished using data from adults) that focus on the development of more effective treatments, diagnostic tests, or prognostic markers for childhood cancers. Moreover, TARGET data can be used for research relevant to the biology, causes, treatment and late complications of treatment of pediatric cancers, but is not intended for the sole purposes of methods and/or tool development (please see <a href=\"https://ocg.cancer.gov/programs/target/using-target-data\">Using TARGET Data</a> section of the OCG website). If you are interested in using TARGET data for publication or other research purposes, you must follow the <a href=\"https://ocg.cancer.gov/programs/target/target-publication-guidelines\">TARGET Publication Guidelines</a>.</p\n",
      "groups: NCI-TARGET;PUBLIC\n",
      "\n"
     ]
    }
   ],
   "source": [
    "# meta data\n",
    "filepath = 'cBioPortal/all_phase2_target_2018_pub/meta_study.txt'\n",
    "with open(filepath) as fp:\n",
    "    print( fp.read() )"
   ]
  },
  {
   "cell_type": "code",
   "execution_count": 44,
   "metadata": {},
   "outputs": [],
   "source": [
    "# ls cBioPortal/all_phase2_target_2018_pub"
   ]
  },
  {
   "cell_type": "code",
   "execution_count": 45,
   "metadata": {},
   "outputs": [
    {
     "name": "stdout",
     "output_type": "stream",
     "text": [
      "done in 10.104318s\n"
     ]
    }
   ],
   "source": [
    "data = make_study_dataset('cBioPortal/all_phase2_target_2018_pub/data_RNA_Seq_mRNA_median_Zscores.txt')"
   ]
  },
  {
   "cell_type": "markdown",
   "metadata": {},
   "source": [
    "### Chi-square Test"
   ]
  },
  {
   "cell_type": "markdown",
   "metadata": {},
   "source": [
    "Low-Low gene pairs for **K562** GI pairs:"
   ]
  },
  {
   "cell_type": "code",
   "execution_count": null,
   "metadata": {
    "scrolled": true
   },
   "outputs": [],
   "source": [
    "test_res, random_test_res = SL_stat_test(\n",
    "    'cBioPortal/all_phase2_target_2018_pub/data_RNA_Seq_mRNA_median_Zscores.txt', cell_line = 'K562')"
   ]
  },
  {
   "cell_type": "code",
   "execution_count": 77,
   "metadata": {},
   "outputs": [
    {
     "name": "stdout",
     "output_type": "stream",
     "text": [
      "K562: 18.08%\t18188 SLs from 100576 unique gene pairs\n",
      "Jurkat: 13.19%\t9954 SLs from 75466 unique gene pairs \n"
     ]
    },
    {
     "ename": "ValueError",
     "evalue": "all the input array dimensions for the concatenation axis must match exactly, but along dimension 0, the array at index 0 has size 203 and the array at index 1 has size 7",
     "output_type": "error",
     "traceback": [
      "\u001b[0;31m---------------------------------------------------------------------------\u001b[0m",
      "\u001b[0;31mValueError\u001b[0m                                Traceback (most recent call last)",
      "\u001b[0;32m<ipython-input-77-e1c47e45bd2f>\u001b[0m in \u001b[0;36m<module>\u001b[0;34m\u001b[0m\n\u001b[1;32m     43\u001b[0m          * np.array(data.loc[g2] > 0))]   # high_high\n\u001b[1;32m     44\u001b[0m      ])\n\u001b[0;32m---> 45\u001b[0;31m     \u001b[0mCors\u001b[0m\u001b[0;34m.\u001b[0m\u001b[0mappend\u001b[0m \u001b[0;34m(\u001b[0m\u001b[0mspearmanr\u001b[0m\u001b[0;34m(\u001b[0m\u001b[0mnp\u001b[0m\u001b[0;34m.\u001b[0m\u001b[0marray\u001b[0m\u001b[0;34m(\u001b[0m\u001b[0mdata\u001b[0m\u001b[0;34m.\u001b[0m\u001b[0mloc\u001b[0m\u001b[0;34m[\u001b[0m\u001b[0mg1\u001b[0m\u001b[0;34m]\u001b[0m\u001b[0;34m)\u001b[0m\u001b[0;34m,\u001b[0m \u001b[0mnp\u001b[0m\u001b[0;34m.\u001b[0m\u001b[0marray\u001b[0m\u001b[0;34m(\u001b[0m\u001b[0mdata\u001b[0m\u001b[0;34m.\u001b[0m\u001b[0mloc\u001b[0m\u001b[0;34m[\u001b[0m\u001b[0mg2\u001b[0m\u001b[0;34m]\u001b[0m\u001b[0;34m)\u001b[0m\u001b[0;34m)\u001b[0m\u001b[0;34m[\u001b[0m\u001b[0;36m0\u001b[0m\u001b[0;34m]\u001b[0m\u001b[0;34m)\u001b[0m\u001b[0;34m\u001b[0m\u001b[0;34m\u001b[0m\u001b[0m\n\u001b[0m\u001b[1;32m     46\u001b[0m \u001b[0;31m# do chi-square test:\u001b[0m\u001b[0;34m\u001b[0m\u001b[0;34m\u001b[0m\u001b[0;34m\u001b[0m\u001b[0m\n\u001b[1;32m     47\u001b[0m \u001b[0mchi2_res\u001b[0m \u001b[0;34m=\u001b[0m \u001b[0;34m[\u001b[0m\u001b[0mchi2_contingency\u001b[0m\u001b[0;34m(\u001b[0m\u001b[0mo\u001b[0m\u001b[0;34m)\u001b[0m \u001b[0;32mfor\u001b[0m \u001b[0mo\u001b[0m \u001b[0;32min\u001b[0m \u001b[0mnp\u001b[0m\u001b[0;34m.\u001b[0m\u001b[0marray\u001b[0m\u001b[0;34m(\u001b[0m\u001b[0mObs\u001b[0m\u001b[0;34m)\u001b[0m\u001b[0;34m]\u001b[0m\u001b[0;34m\u001b[0m\u001b[0;34m\u001b[0m\u001b[0m\n",
      "\u001b[0;32m~/anaconda3/lib/python3.7/site-packages/scipy/stats/stats.py\u001b[0m in \u001b[0;36mspearmanr\u001b[0;34m(a, b, axis, nan_policy)\u001b[0m\n\u001b[1;32m   3322\u001b[0m         \u001b[0mb\u001b[0m\u001b[0;34m,\u001b[0m \u001b[0m_\u001b[0m \u001b[0;34m=\u001b[0m \u001b[0m_chk_asarray\u001b[0m\u001b[0;34m(\u001b[0m\u001b[0mb\u001b[0m\u001b[0;34m,\u001b[0m \u001b[0maxis\u001b[0m\u001b[0;34m)\u001b[0m\u001b[0;34m\u001b[0m\u001b[0;34m\u001b[0m\u001b[0m\n\u001b[1;32m   3323\u001b[0m         \u001b[0;32mif\u001b[0m \u001b[0maxisout\u001b[0m \u001b[0;34m==\u001b[0m \u001b[0;36m0\u001b[0m\u001b[0;34m:\u001b[0m\u001b[0;34m\u001b[0m\u001b[0;34m\u001b[0m\u001b[0m\n\u001b[0;32m-> 3324\u001b[0;31m             \u001b[0ma\u001b[0m \u001b[0;34m=\u001b[0m \u001b[0mnp\u001b[0m\u001b[0;34m.\u001b[0m\u001b[0mcolumn_stack\u001b[0m\u001b[0;34m(\u001b[0m\u001b[0;34m(\u001b[0m\u001b[0ma\u001b[0m\u001b[0;34m,\u001b[0m \u001b[0mb\u001b[0m\u001b[0;34m)\u001b[0m\u001b[0;34m)\u001b[0m\u001b[0;34m\u001b[0m\u001b[0;34m\u001b[0m\u001b[0m\n\u001b[0m\u001b[1;32m   3325\u001b[0m         \u001b[0;32melse\u001b[0m\u001b[0;34m:\u001b[0m\u001b[0;34m\u001b[0m\u001b[0;34m\u001b[0m\u001b[0m\n\u001b[1;32m   3326\u001b[0m             \u001b[0ma\u001b[0m \u001b[0;34m=\u001b[0m \u001b[0mnp\u001b[0m\u001b[0;34m.\u001b[0m\u001b[0mrow_stack\u001b[0m\u001b[0;34m(\u001b[0m\u001b[0;34m(\u001b[0m\u001b[0ma\u001b[0m\u001b[0;34m,\u001b[0m \u001b[0mb\u001b[0m\u001b[0;34m)\u001b[0m\u001b[0;34m)\u001b[0m\u001b[0;34m\u001b[0m\u001b[0;34m\u001b[0m\u001b[0m\n",
      "\u001b[0;32m<__array_function__ internals>\u001b[0m in \u001b[0;36mcolumn_stack\u001b[0;34m(*args, **kwargs)\u001b[0m\n",
      "\u001b[0;32m~/anaconda3/lib/python3.7/site-packages/numpy/lib/shape_base.py\u001b[0m in \u001b[0;36mcolumn_stack\u001b[0;34m(tup)\u001b[0m\n\u001b[1;32m    639\u001b[0m             \u001b[0marr\u001b[0m \u001b[0;34m=\u001b[0m \u001b[0marray\u001b[0m\u001b[0;34m(\u001b[0m\u001b[0marr\u001b[0m\u001b[0;34m,\u001b[0m \u001b[0mcopy\u001b[0m\u001b[0;34m=\u001b[0m\u001b[0;32mFalse\u001b[0m\u001b[0;34m,\u001b[0m \u001b[0msubok\u001b[0m\u001b[0;34m=\u001b[0m\u001b[0;32mTrue\u001b[0m\u001b[0;34m,\u001b[0m \u001b[0mndmin\u001b[0m\u001b[0;34m=\u001b[0m\u001b[0;36m2\u001b[0m\u001b[0;34m)\u001b[0m\u001b[0;34m.\u001b[0m\u001b[0mT\u001b[0m\u001b[0;34m\u001b[0m\u001b[0;34m\u001b[0m\u001b[0m\n\u001b[1;32m    640\u001b[0m         \u001b[0marrays\u001b[0m\u001b[0;34m.\u001b[0m\u001b[0mappend\u001b[0m\u001b[0;34m(\u001b[0m\u001b[0marr\u001b[0m\u001b[0;34m)\u001b[0m\u001b[0;34m\u001b[0m\u001b[0;34m\u001b[0m\u001b[0m\n\u001b[0;32m--> 641\u001b[0;31m     \u001b[0;32mreturn\u001b[0m \u001b[0m_nx\u001b[0m\u001b[0;34m.\u001b[0m\u001b[0mconcatenate\u001b[0m\u001b[0;34m(\u001b[0m\u001b[0marrays\u001b[0m\u001b[0;34m,\u001b[0m \u001b[0;36m1\u001b[0m\u001b[0;34m)\u001b[0m\u001b[0;34m\u001b[0m\u001b[0;34m\u001b[0m\u001b[0m\n\u001b[0m\u001b[1;32m    642\u001b[0m \u001b[0;34m\u001b[0m\u001b[0m\n\u001b[1;32m    643\u001b[0m \u001b[0;34m\u001b[0m\u001b[0m\n",
      "\u001b[0;32m<__array_function__ internals>\u001b[0m in \u001b[0;36mconcatenate\u001b[0;34m(*args, **kwargs)\u001b[0m\n",
      "\u001b[0;31mValueError\u001b[0m: all the input array dimensions for the concatenation axis must match exactly, but along dimension 0, the array at index 0 has size 203 and the array at index 1 has size 7"
     ]
    }
   ],
   "source": [
    "with open('cBioPortal/all_phase2_target_2018_pub/data_RNA_Seq_mRNA_median_Zscores.txt') as fp:\n",
    "    lines = [l.split('\\t') for l in fp.readlines()]\n",
    "    # switch NAs -> 0s\n",
    "    for i,l in enumerate(lines):\n",
    "        if 'NA' in l:\n",
    "            n = len(l[2:])\n",
    "            l = l[0:2]\n",
    "            for z in [0]*n:\n",
    "                l.append(z)\n",
    "        lines[i] = l\n",
    "    genes = [d[0] for d in lines[1:]]\n",
    "    RNA_seq = [np.array(d[2:], dtype = float) for d in lines[1:]]\n",
    "\n",
    "    Q1 = [np.quantile(p, 0.25) for p in RNA_seq]       # Low expression threshold\n",
    "    Q3 = [np.quantile(p, 0.75) for p in RNA_seq]       # High expression threshold        \n",
    "\n",
    "data = pd.DataFrame(data = [i + j for i,j in zip([-1*(p <= q1) for p,q1 in zip(RNA_seq, Q1)], \n",
    "                                                 [ 1*(p >= q3) for p,q3 in zip(RNA_seq, Q3)])],\n",
    "                    index = [d[0] for d in lines[1:]], columns= lines[0][2:])\n",
    "\n",
    "\n",
    "RNA_seq = pd.DataFrame(data = RNA_seq, index = [d[0] for d in lines[1:]],\n",
    "                       columns= lines[0][2:])\n",
    "\n",
    "\n",
    "cell_line = 'Jurkat'\n",
    "SLdata = get_SLdataset()\n",
    "tmp = SLdata[cell_line]\n",
    "# filter out missing gene names between GI and expression studies \n",
    "tmp = tmp[pd.DataFrame(tmp.Gene1.tolist()).isin(data.index.tolist()).any(1)].reset_index(drop=True)\n",
    "tmp = tmp[pd.DataFrame(tmp.Gene2.tolist()).isin(data.index.tolist()).any(1)].reset_index(drop=True)\n",
    "Cors = []\n",
    "Obs = []\n",
    "for g1,g2 in zip(tmp.Gene1,tmp.Gene2):    # g1   g2\n",
    "    Obs.append([\n",
    "        [sum(np.array(data.loc[g1] < 0)\n",
    "         * np.array(data.loc[g2] < 0)),   # low_low\n",
    "         sum(np.array(data.loc[g1] > 0)\n",
    "         * np.array(data.loc[g2] < 0))],   # high_low\n",
    "        [sum(np.array(data.loc[g1] < 0)\n",
    "         * np.array(data.loc[g2] > 0)),  # low_high\n",
    "         sum(np.array(data.loc[g1] > 0)\n",
    "         * np.array(data.loc[g2] > 0))]   # high_high\n",
    "     ])\n",
    "    Cors.append (spearmanr(np.array(data.loc[g1]), np.array(data.loc[g2]))[0])\n",
    "# do chi-square test:\n",
    "chi2_res = [chi2_contingency(o) for o in np.array(Obs)]\n",
    "Chi2 = [c[0] for c in chi2_res]\n",
    "ChiPval = [p[1] for p in chi2_res]\n",
    "Exp = [np.concatenate((x[3][0], x[3][1])) for x in chi2_res]\n",
    "Obs = [np.concatenate((o[0], o[1])) for o in Obs]         \n",
    "# make the test result dataframe:\n",
    "test_res = pd.DataFrame(data= np.concatenate((\n",
    "    np.stack(( tmp.Gene1 ,tmp.Gene2, tmp[cell_line]), axis = 1),\n",
    "    np.array(Obs), np.array(Exp), np.stack(( ChiPval, Chi2, Cors), axis = 1),\n",
    "    ), axis = 1), columns=[\n",
    "    'Gene1', 'Gene2', 'GI_Score',\n",
    "    'Obs_Low_Low', 'Obs_High_Low', 'Obs_Low_High', 'Obs_High_High',\n",
    "    'Exp_Low_Low' ,'Exp_High_Low', 'Exp_Low_High', 'Exp_High_High', \n",
    "    'ChiPval', 'Chi2', 'Correlation'])\n"
   ]
  },
  {
   "cell_type": "markdown",
   "metadata": {},
   "source": [
    "> Low Low $Obs/Exp <  $ High High $Obs/Exp$"
   ]
  },
  {
   "cell_type": "code",
   "execution_count": null,
   "metadata": {
    "scrolled": false
   },
   "outputs": [],
   "source": [
    "test[\n",
    "#     ((test.Obs_Low_Low/ test.Exp_Low_Low) < (test.Obs_High_High/test.Exp_High_High)) \n",
    "    (test.Obs_Low_Low < test.Obs_High_High) &\n",
    "    (test.Obs_Low_Low < test.Obs_Low_High) &\n",
    "    (test.Obs_Low_Low < test.Obs_High_Low)\n",
    "].sort_values('Obs_Low_Low', ascending = False)\n"
   ]
  },
  {
   "cell_type": "code",
   "execution_count": null,
   "metadata": {
    "scrolled": false
   },
   "outputs": [],
   "source": [
    "r_test[\n",
    "#     ((test.Obs_Low_Low/ test.Exp_Low_Low) < (test.Obs_High_High/test.Exp_High_High)) \n",
    "    (r_test.Obs_Low_Low < r_test.Obs_High_High) &\n",
    "    (r_test.Obs_Low_Low < r_test.Obs_Low_High) &\n",
    "    (r_test.Obs_Low_Low < r_test.Obs_High_Low)\n",
    "    & r_test.ChiPval < 1e-10\n",
    "].sort_values('Obs_Low_Low', ascending = False)\n"
   ]
  },
  {
   "cell_type": "code",
   "execution_count": null,
   "metadata": {},
   "outputs": [],
   "source": [
    "stat_test_plot(test,random_test)"
   ]
  },
  {
   "cell_type": "markdown",
   "metadata": {},
   "source": [
    "Low-Low gene pairs for **Jurkat** GI pairs:"
   ]
  },
  {
   "cell_type": "code",
   "execution_count": null,
   "metadata": {
    "scrolled": true
   },
   "outputs": [],
   "source": [
    "test_res, random_test_res = SL_stat_test(\n",
    "    'cBioPortal/all_phase2_target_2018_pub/data_RNA_Seq_mRNA_median_Zscores.txt', cell_line = 'Jurkat')"
   ]
  },
  {
   "cell_type": "markdown",
   "metadata": {},
   "source": [
    "> Low Low $Obs/Exp <  $ High High $Obs/Exp$"
   ]
  },
  {
   "cell_type": "code",
   "execution_count": null,
   "metadata": {
    "scrolled": false
   },
   "outputs": [],
   "source": [
    "test[\n",
    "#     ((test.Obs_Low_Low/ test.Exp_Low_Low) < (test.Obs_High_High/test.Exp_High_High)) \n",
    "    (test.Obs_Low_Low < test.Obs_High_High) &\n",
    "    (test.Obs_Low_Low < test.Obs_Low_High) &\n",
    "    (test.Obs_Low_Low < test.Obs_High_Low)\n",
    "    & test.ChiPval < 1e-10\n",
    "].sort_values('Obs_Low_Low', ascending = False)\n"
   ]
  },
  {
   "cell_type": "code",
   "execution_count": null,
   "metadata": {
    "scrolled": false
   },
   "outputs": [],
   "source": [
    "r_test[\n",
    "#     ((test.Obs_Low_Low/ test.Exp_Low_Low) < (test.Obs_High_High/test.Exp_High_High)) \n",
    "    (r_test.Obs_Low_Low < r_test.Obs_High_High) &\n",
    "    (r_test.Obs_Low_Low < r_test.Obs_Low_High) &\n",
    "    (r_test.Obs_Low_Low < r_test.Obs_High_Low)\n",
    "    & r_test.ChiPval < 1e-10\n",
    "].sort_values('Obs_Low_Low', ascending = False)\n"
   ]
  },
  {
   "cell_type": "code",
   "execution_count": null,
   "metadata": {},
   "outputs": [],
   "source": [
    "stat_test_plot(test,r_test)"
   ]
  },
  {
   "cell_type": "code",
   "execution_count": null,
   "metadata": {},
   "outputs": [],
   "source": []
  }
 ],
 "metadata": {
  "kernelspec": {
   "display_name": "Python 3",
   "language": "python",
   "name": "python3"
  },
  "language_info": {
   "codemirror_mode": {
    "name": "ipython",
    "version": 3
   },
   "file_extension": ".py",
   "mimetype": "text/x-python",
   "name": "python",
   "nbconvert_exporter": "python",
   "pygments_lexer": "ipython3",
   "version": "3.7.3"
  }
 },
 "nbformat": 4,
 "nbformat_minor": 2
}
