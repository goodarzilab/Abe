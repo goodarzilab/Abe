{
 "cells": [
  {
   "cell_type": "code",
   "execution_count": 1,
   "metadata": {},
   "outputs": [],
   "source": [
    "import pandas as pd \n",
    "import numpy as np\n",
    "from scipy.stats import chisquare\n",
    "import matplotlib.pyplot as plt"
   ]
  },
  {
   "cell_type": "markdown",
   "metadata": {},
   "source": [
    "## GI Scores\n",
    "Load data from [Mapping the Genetic Landscape of Human Cells](https://www.sciencedirect.com/science/article/pii/S0092867418307359?via%3Dihub#mmc2) paper. \n",
    "> [**Table S5.**](https://www.sciencedirect.com/science/article/pii/S0092867418307359?via%3Dihub#mmc5)"
   ]
  },
  {
   "cell_type": "code",
   "execution_count": 2,
   "metadata": {},
   "outputs": [],
   "source": [
    "# read data from file \n",
    "myfile = (\"CRISPRi_Mapping_paper/Table_S5.xlsx\") \n",
    "xl = pd.ExcelFile(myfile)\n",
    "# print ('Sheets:')\n",
    "# print (xl.sheet_names)\n",
    "# make data frame from each Excel sheet\n",
    "sheets = {sheet: xl.parse(sheet) for sheet in xl.sheet_names}\n",
    "# Read data from *gene GI scores sheet*:\n",
    "Gene1 = np.array(sheets['gene GI scores and correlations']['Unnamed: 0'][3:])\n",
    "Gene2 = np.array(sheets['gene GI scores and correlations']['Unnamed: 1'][3:])\n",
    "GIdataset = {\n",
    "    'Gene1': Gene1, 'Gene2': Gene2, 'GenePairs': np.array([\"_\".join(i) for i in zip (Gene1, Gene2)]),\n",
    "    'K562': np.array(sheets['gene GI scores and correlations']['K562.4'][3:]),     # gene1 <-> gene2 GI scores\n",
    "    'Jurkat': np.array(sheets['gene GI scores and correlations']['Jurkat.4'][3:])  # gene1 <-> gene2 GI scores\n",
    "}"
   ]
  },
  {
   "cell_type": "code",
   "execution_count": 3,
   "metadata": {},
   "outputs": [],
   "source": [
    "SL_thr = 1 # Synthetic-Lethal threshold\n",
    "SLdataset = {'K562':{'GI': GIdataset['K562'][GIdataset['K562'] > SL_thr],\n",
    "                     'GenePair': GIdataset['GenePairs'][GIdataset['K562'] > SL_thr],\n",
    "                     'Gene1': GIdataset['Gene1'][GIdataset['K562'] > SL_thr],\n",
    "                     'Gene2': GIdataset['Gene2'][GIdataset['K562'] > SL_thr]},\n",
    "             'Jurkat':{'GI': GIdataset['Jurkat'][GIdataset['Jurkat'] > SL_thr],\n",
    "                     'GenePair': GIdataset['GenePairs'][GIdataset['Jurkat'] > SL_thr],\n",
    "                     'Gene1': GIdataset['Gene1'][GIdataset['Jurkat'] > SL_thr],\n",
    "                     'Gene2': GIdataset['Gene2'][GIdataset['Jurkat'] > SL_thr]}}\n",
    "# function to select GI data based on cell-line and gene-pair 1 or 2\n",
    "def cell_gene_sorter(dataset,cell,gene):\n",
    "    output = []\n",
    "    for sl in set(SLdataset[cell][gene]):\n",
    "        for i, g in enumerate(dataset['Genes']):\n",
    "            if g == sl:\n",
    "                is_low = 1*(dataset['RNA-Seq'][i] < 0)\n",
    "                output.append([g, is_low])\n",
    "    return output \n",
    "# \n",
    "def filter_dataset(dataset):\n",
    "    return {\n",
    "        'K562_Gene1': cell_gene_sorter(dataset,'K562','Gene1'),\n",
    "        'K562_Gene2': cell_gene_sorter(dataset,'K562','Gene2'),\n",
    "        'Jurkat_Gene1': cell_gene_sorter(dataset,'Jurkat','Gene1'),\n",
    "        'Jurkat_Gene2': cell_gene_sorter(dataset,'Jurkat','Gene2')\n",
    "    }\n",
    "\n"
   ]
  },
  {
   "cell_type": "markdown",
   "metadata": {},
   "source": [
    "# Expression patterns "
   ]
  },
  {
   "cell_type": "markdown",
   "metadata": {},
   "source": [
    "Read combined study clinical data (downloaded from cBioPortal):"
   ]
  },
  {
   "cell_type": "code",
   "execution_count": 4,
   "metadata": {
    "scrolled": true
   },
   "outputs": [],
   "source": [
    "clinical_data = pd.read_csv('cBioPortal/combined_study_clinical_data.csv')\n",
    "# function to add_survival_data \n",
    "def add_survival_data(dataset):\n",
    "    survival_status = []\n",
    "    survival_months = []\n",
    "    for i,sam in enumerate(clinical_data['Sample ID']):\n",
    "        for dat in dataset['sample_ids']:\n",
    "            if sam == dat:\n",
    "                survival_status.append(clinical_data['Overall Survival Status'][i])\n",
    "                survival_months.append(clinical_data['Overall Survival (Months)'][i])\n",
    "\n",
    "    dataset['survival_status'] = survival_status\n",
    "    dataset['survival_months'] = survival_months\n",
    "    return dataset"
   ]
  },
  {
   "cell_type": "markdown",
   "metadata": {},
   "source": [
    "## 1st\n",
    "- ### [Acute Myeloid Leukemia (OHSU, Nature 2018)](https://www.cbioportal.org/study?id=aml_ohsu_2018)"
   ]
  },
  {
   "cell_type": "code",
   "execution_count": 5,
   "metadata": {},
   "outputs": [
    {
     "name": "stdout",
     "output_type": "stream",
     "text": [
      "type_of_cancer: aml\n",
      "cancer_study_identifier: aml_ohsu_2018\n",
      "name: Acute Myeloid Leukemia (OHSU, Nature 2018)\n",
      "description: Whole-exome sequencing of 672 acute myeloid leukemia samples (with 454 matched normals) from the Beat AML program.\n",
      "citation: Tyner et al. Nature 2018\n",
      "pmid: 30333627\n",
      "short_name: AML (OHSU)\n",
      "groups: PUBLIC\n"
     ]
    }
   ],
   "source": [
    "# print meta data\n",
    "filepath = 'cBioPortal/aml_ohsu_2018/meta_study.txt'\n",
    "with open(filepath) as fp:\n",
    "    print( fp.read() )"
   ]
  },
  {
   "cell_type": "code",
   "execution_count": 6,
   "metadata": {},
   "outputs": [],
   "source": [
    "# ls cBioPortal/aml_ohsu_2018"
   ]
  },
  {
   "cell_type": "code",
   "execution_count": 7,
   "metadata": {},
   "outputs": [],
   "source": [
    "# read all RNA-Seq data \n",
    "filepath = 'cBioPortal/aml_ohsu_2018/data_RNA_Seq_mRNA_median_Zscores.txt'\n",
    "with open(filepath) as fp:\n",
    "    lines = [l.split('\\t') for l in fp.readlines()]\n",
    "    OHSUdataset = {\n",
    "        'sample_ids': lines[0][2:],\n",
    "        'Genes': [d[0] for d in lines[1:]], \n",
    "        'RNA-Seq': [np.array(d[2:], dtype = float) for d in lines[1:]]\n",
    "    }\n",
    "# subset RNA-Seq data to GI gene-pairs \n",
    "data = filter_dataset(OHSUdataset)"
   ]
  },
  {
   "cell_type": "markdown",
   "metadata": {},
   "source": [
    "### Chi-square Test"
   ]
  },
  {
   "cell_type": "code",
   "execution_count": 8,
   "metadata": {
    "scrolled": false
   },
   "outputs": [],
   "source": [
    "test = {}\n",
    "for g1,g2 in zip(data['K562_Gene1'],data['K562_Gene2']):\n",
    "    g_key = \"_\".join([g1[0], g2[0]])\n",
    "    test[g_key] = {\n",
    "        \"low_low\":sum((g1[1]) * (g2[1])),\n",
    "        \"high_low\":sum((g1[1] == 0) * (g2[1])),\n",
    "        \"low_high\":sum((g1[1]) * (g2[1] == 0)),\n",
    "        \"high_high\":sum((g1[1] == 0) * (g2[1] == 0))\n",
    "    }\n",
    "    test[g_key]['Pvalue'] = list(chisquare(list(test[g_key].values())))[1]"
   ]
  },
  {
   "cell_type": "code",
   "execution_count": 9,
   "metadata": {
    "scrolled": false
   },
   "outputs": [
    {
     "name": "stdout",
     "output_type": "stream",
     "text": [
      "RBM22_RBM22 \t # of low_low: 217  from  451\n",
      "CENPM_CENPM \t # of low_low: 198  from  451\n",
      "ANAPC13_ANAPC13 \t # of low_low: 202  from  451\n",
      "SPATA5_SPATA5 \t # of low_low: 212  from  451\n",
      "EXOSC2_EXOSC2 \t # of low_low: 226  from  451\n",
      "WDR61_WDR61 \t # of low_low: 203  from  451\n",
      "MRPL33_MRPL33 \t # of low_low: 269  from  451\n",
      "COPS4_COPS4 \t # of low_low: 231  from  451\n",
      "RAE1_RAE1 \t # of low_low: 247  from  451\n",
      "CEP192_CEP192 \t # of low_low: 243  from  451\n",
      "C6orf203_C6orf203 \t # of low_low: 226  from  451\n",
      "DNA2_DNA2 \t # of low_low: 221  from  451\n",
      "RPTOR_RPTOR \t # of low_low: 234  from  451\n",
      "MRPS25_MRPS25 \t # of low_low: 216  from  451\n",
      "COPS2_COPS2 \t # of low_low: 242  from  451\n",
      "NOL10_NOL10 \t # of low_low: 221  from  451\n",
      "PPCS_CYB5B \t # of low_low: 135  from  451\n",
      "CYB5B_INTS5 \t # of low_low: 149  from  451\n",
      "NAA25_NAA25 \t # of low_low: 228  from  451\n",
      "RPS18_RPL5 \t # of low_low: 161  from  451\n",
      "PPAT_PPAT \t # of low_low: 208  from  451\n",
      "PSMC6_OGFOD1 \t # of low_low: 65  from  451\n",
      "IMPDH2_RPL30 \t # of low_low: 124  from  451\n",
      "RAD51_RAD51 \t # of low_low: 199  from  451\n",
      "STXBP4_STXBP4 \t # of low_low: 211  from  451\n",
      "USMG5_MRPS18B \t # of low_low: 143  from  451\n",
      "COQ2_COQ2 \t # of low_low: 217  from  451\n",
      "GPN3_CCNK \t # of low_low: 69  from  451\n",
      "LEO1_NOL8 \t # of low_low: 175  from  451\n",
      "PSPH_MRPS27 \t # of low_low: 122  from  451\n",
      "MRPS27_MRPS35 \t # of low_low: 141  from  451\n",
      "COA3_ZNF511 \t # of low_low: 42  from  451\n",
      "RNF20_SNRPB \t # of low_low: 55  from  451\n",
      "HUS1_HUS1 \t # of low_low: 230  from  451\n",
      "COPS5_COPS5 \t # of low_low: 246  from  451\n",
      "ATP5F1_ATP5F1 \t # of low_low: 220  from  451\n",
      "TUBB_POLR3A \t # of low_low: 133  from  451\n",
      "MRPS23_COX5A \t # of low_low: 153  from  451\n",
      "MCM3_DDX46 \t # of low_low: 131  from  451\n",
      "DDX46_SKIV2L2 \t # of low_low: 125  from  451\n",
      "SKIV2L2_MRPS14 \t # of low_low: 140  from  451\n",
      "BTF3_BTF3 \t # of low_low: 210  from  451\n",
      "C14orf2_C14orf2 \t # of low_low: 226  from  451\n",
      "EIF6_EIF6 \t # of low_low: 217  from  451\n",
      "SNIP1_SNIP1 \t # of low_low: 246  from  451\n",
      "YTHDC1_YTHDC1 \t # of low_low: 256  from  451\n",
      "MRPL15_MRPL15 \t # of low_low: 207  from  451\n",
      "BDP1_BDP1 \t # of low_low: 219  from  451\n",
      "NUP43_NUP43 \t # of low_low: 207  from  451\n",
      "PET112_EBNA1BP2 \t # of low_low: 142  from  451\n",
      "EBNA1BP2_MRP63 \t # of low_low: 150  from  451\n",
      "PRIM2_PRIM2 \t # of low_low: 216  from  451\n",
      "MAPKAP1_MAPKAP1 \t # of low_low: 200  from  451\n",
      "GNL3L_GNL3L \t # of low_low: 206  from  451\n",
      "FARSA_NDUFA8 \t # of low_low: 157  from  451\n",
      "RPL23_COX7C \t # of low_low: 151  from  451\n",
      "NDUFA8_GEMIN2 \t # of low_low: 134  from  451\n",
      "NUDC_EMG1 \t # of low_low: 162  from  451\n",
      "MAT2A_TUBGCP4 \t # of low_low: 146  from  451\n",
      "TUBGCP4_CKAP5 \t # of low_low: 150  from  451\n",
      "RPL3_EIF3D \t # of low_low: 162  from  451\n",
      "TAF1A_BNIP1 \t # of low_low: 47  from  451\n",
      "ICT1_POLR3B \t # of low_low: 136  from  451\n"
     ]
    }
   ],
   "source": [
    "for t in test:\n",
    "    if test[t]['Pvalue'] <1e-15:\n",
    "        if test[t]['low_low'] > 0:\n",
    "            print (t, '\\t', '# of low_low:', test[t]['low_low'], \n",
    "                   ' from ', len(data['K562_Gene1'][0][1]), )"
   ]
  },
  {
   "cell_type": "markdown",
   "metadata": {},
   "source": [
    "### Survival analysis "
   ]
  },
  {
   "cell_type": "code",
   "execution_count": 10,
   "metadata": {},
   "outputs": [],
   "source": [
    "# https://plot.ly/python/v3/ipython-notebooks/survival-analysis-r-vs-python/"
   ]
  },
  {
   "cell_type": "code",
   "execution_count": 11,
   "metadata": {},
   "outputs": [],
   "source": [
    "OHSUdataset = add_survival_data(OHSUdataset)"
   ]
  },
  {
   "cell_type": "markdown",
   "metadata": {},
   "source": [
    "# 2nd\n",
    "- ### [Pediatric Acute Lymphoid Leukemia - Phase II (TARGET, 2018)](https://www.cbioportal.org/study?id=all_phase2_target_2018_pub)"
   ]
  },
  {
   "cell_type": "code",
   "execution_count": 12,
   "metadata": {},
   "outputs": [
    {
     "name": "stdout",
     "output_type": "stream",
     "text": [
      "type_of_cancer: bll\n",
      "cancer_study_identifier: all_phase2_target_2018_pub\n",
      "name: Pediatric Acute Lymphoid Leukemia - Phase II (TARGET, 2018)\n",
      "short_name: ALL-Phase II (TARGET, 2018)\n",
      "description: Comprehensive profiling of ALL Phase 2 samples. <p>TARGET data is intended exclusively for biomedical research using pediatric data (i.e., the research objectives cannot be accomplished using data from adults) that focus on the development of more effective treatments, diagnostic tests, or prognostic markers for childhood cancers. Moreover, TARGET data can be used for research relevant to the biology, causes, treatment and late complications of treatment of pediatric cancers, but is not intended for the sole purposes of methods and/or tool development (please see <a href=\"https://ocg.cancer.gov/programs/target/using-target-data\">Using TARGET Data</a> section of the OCG website). If you are interested in using TARGET data for publication or other research purposes, you must follow the <a href=\"https://ocg.cancer.gov/programs/target/target-publication-guidelines\">TARGET Publication Guidelines</a>.</p\n",
      "groups: NCI-TARGET;PUBLIC\n",
      "\n"
     ]
    }
   ],
   "source": [
    "# meta data\n",
    "filepath = 'cBioPortal/all_phase2_target_2018_pub/meta_study.txt'\n",
    "with open(filepath) as fp:\n",
    "    print( fp.read() )"
   ]
  },
  {
   "cell_type": "code",
   "execution_count": 13,
   "metadata": {},
   "outputs": [],
   "source": [
    "# ls cBioPortal/all_phase2_target_2018_pub"
   ]
  },
  {
   "cell_type": "code",
   "execution_count": 14,
   "metadata": {},
   "outputs": [],
   "source": [
    "# read all RNA-Seq data \n",
    "filepath = 'cBioPortal/all_phase2_target_2018_pub/data_RNA_Seq_mRNA_median_Zscores.txt'\n",
    "with open(filepath) as fp:\n",
    "    lines = [l.split('\\t') for l in fp.readlines()]\n",
    "# switch NAs -> 0s\n",
    "    for i,l in enumerate(lines):\n",
    "        if 'NA' in l:\n",
    "            n = len(l[2:])\n",
    "            l = l[0:2]\n",
    "            for z in [0]*n:\n",
    "                l.append(z)\n",
    "        lines[i] = l\n",
    "    all_phase2 = {\n",
    "        'sample_ids': lines[0][2:],\n",
    "        'Genes': [d[0] for d in lines[1:]], \n",
    "        'RNA-Seq': [np.array(d[2:], dtype = float) for d in lines[1:]]\n",
    "    }\n",
    "# subset RNA-Seq data to GI gene-pairs \n",
    "data = filter_dataset(all_phase2)"
   ]
  },
  {
   "cell_type": "markdown",
   "metadata": {},
   "source": [
    "### Chi-square Test"
   ]
  },
  {
   "cell_type": "code",
   "execution_count": 15,
   "metadata": {
    "scrolled": false
   },
   "outputs": [],
   "source": [
    "test = {}\n",
    "for g1,g2 in zip(data['K562_Gene1'],data['K562_Gene2']):\n",
    "    g_key = \"_\".join([g1[0], g2[0]])\n",
    "    test[g_key] = {\n",
    "        \"low_low\":sum((g1[1]) * (g2[1])),\n",
    "        \"high_low\":sum((g1[1] == 0) * (g2[1])),\n",
    "        \"low_high\":sum((g1[1]) * (g2[1] == 0)),\n",
    "        \"high_high\":sum((g1[1] == 0) * (g2[1] == 0))\n",
    "    }\n",
    "    test[g_key]['Pvalue'] = list(chisquare(list(test[g_key].values())))[1]"
   ]
  },
  {
   "cell_type": "code",
   "execution_count": 16,
   "metadata": {
    "scrolled": false
   },
   "outputs": [
    {
     "name": "stdout",
     "output_type": "stream",
     "text": [
      "RBM22_RBM22 \t # of low_low: 117  from  203\n",
      "CENPM_CENPM \t # of low_low: 139  from  203\n",
      "ANAPC13_ANAPC13 \t # of low_low: 114  from  203\n",
      "SPATA5_SPATA5 \t # of low_low: 112  from  203\n",
      "EXOSC2_EXOSC2 \t # of low_low: 121  from  203\n",
      "WDR61_WDR61 \t # of low_low: 124  from  203\n",
      "MRPL33_MRPL33 \t # of low_low: 118  from  203\n",
      "COPS4_COPS4 \t # of low_low: 107  from  203\n",
      "RAE1_RAE1 \t # of low_low: 120  from  203\n",
      "CEP192_CEP192 \t # of low_low: 113  from  203\n",
      "C6orf203_C6orf203 \t # of low_low: 122  from  203\n",
      "DNA2_DNA2 \t # of low_low: 123  from  203\n",
      "RPTOR_RPTOR \t # of low_low: 134  from  203\n",
      "MRPS25_MRPS25 \t # of low_low: 118  from  203\n",
      "COPS2_COPS2 \t # of low_low: 108  from  203\n",
      "NOL10_NOL10 \t # of low_low: 111  from  203\n",
      "NAA25_NAA25 \t # of low_low: 110  from  203\n",
      "MPHOSPH6_FARSB \t # of low_low: 95  from  203\n",
      "PPAT_PPAT \t # of low_low: 118  from  203\n",
      "PPIE_WDR77 \t # of low_low: 99  from  203\n",
      "RAD51_RAD51 \t # of low_low: 133  from  203\n",
      "STXBP4_STXBP4 \t # of low_low: 124  from  203\n",
      "SKA3_SDHC \t # of low_low: 102  from  203\n",
      "COQ2_COQ2 \t # of low_low: 121  from  203\n",
      "POLD3_GFI1B \t # of low_low: 98  from  203\n",
      "RPL13_ATP5J2 \t # of low_low: 106  from  203\n",
      "HUS1_HUS1 \t # of low_low: 106  from  203\n",
      "MRPL36_MRPS23 \t # of low_low: 104  from  203\n",
      "ARL2_ELP4 \t # of low_low: 113  from  203\n",
      "MRPS11_EIF6 \t # of low_low: 102  from  203\n",
      "PTCD3_BDP1 \t # of low_low: 86  from  203\n",
      "SNRPD3_EBNA1BP2 \t # of low_low: 101  from  203\n",
      "NUDC_FARSA \t # of low_low: 109  from  203\n",
      "EMG1_NDUFA8 \t # of low_low: 109  from  203\n",
      "MRPL3_COX7C \t # of low_low: 101  from  203\n",
      "ACTL6A_MRPL3 \t # of low_low: 106  from  203\n",
      "UMPS_TSEN2 \t # of low_low: 104  from  203\n",
      "ROMO1_CTNNBL1 \t # of low_low: 114  from  203\n",
      "NDUFA2_RPL3 \t # of low_low: 97  from  203\n",
      "CENPW_NDUFA2 \t # of low_low: 114  from  203\n",
      "EMC4_CENPW \t # of low_low: 100  from  203\n"
     ]
    }
   ],
   "source": [
    "for t in test:\n",
    "    if test[t]['Pvalue'] <1e-15:\n",
    "        if test[t]['low_low'] > 0:\n",
    "            print (t, '\\t', '# of low_low:', test[t]['low_low'], \n",
    "                   ' from ', len(data['K562_Gene1'][0][1]), )"
   ]
  },
  {
   "cell_type": "code",
   "execution_count": 17,
   "metadata": {},
   "outputs": [],
   "source": [
    "### Other folders:\n",
    "# aml_target_2018_pub\n",
    "# laml_tcga\n",
    "# laml_tcga_pan_can_atlas_2018\n",
    "# laml_tcga_pub"
   ]
  }
 ],
 "metadata": {
  "kernelspec": {
   "display_name": "Python 3",
   "language": "python",
   "name": "python3"
  },
  "language_info": {
   "codemirror_mode": {
    "name": "ipython",
    "version": 3
   },
   "file_extension": ".py",
   "mimetype": "text/x-python",
   "name": "python",
   "nbconvert_exporter": "python",
   "pygments_lexer": "ipython3",
   "version": "3.7.3"
  }
 },
 "nbformat": 4,
 "nbformat_minor": 2
}
