{
 "cells": [
  {
   "cell_type": "code",
   "execution_count": 1,
   "metadata": {},
   "outputs": [],
   "source": [
    "import numpy as np\n",
    "import pandas as pd \n",
    "import lifelines as ll\n",
    "import matplotlib.pyplot as plt\n",
    "import plotly as py\n",
    "import plotly.tools as tls   \n",
    "from time import time\n",
    "from scipy.stats import fisher_exact, spearmanr"
   ]
  },
  {
   "cell_type": "markdown",
   "metadata": {},
   "source": [
    "# First of all we define some functions for our purpose: "
   ]
  },
  {
   "cell_type": "markdown",
   "metadata": {},
   "source": [
    "## GI Scores\n",
    "Load data from [Mapping the Genetic Landscape of Human Cells](https://www.sciencedirect.com/science/article/pii/S0092867418307359?via%3Dihub#mmc2) paper. \n",
    "> [**Table S5.**](https://www.sciencedirect.com/science/article/pii/S0092867418307359?via%3Dihub#mmc5)"
   ]
  },
  {
   "cell_type": "code",
   "execution_count": 3,
   "metadata": {},
   "outputs": [],
   "source": [
    "def get_SLdataset(SL_thr = 1):\n",
    "    # read data from file \n",
    "    myfile = (\"CRISPRi_Mapping_paper/Table_S5.xlsx\") \n",
    "    xl = pd.ExcelFile(myfile)\n",
    "    sheets = {sheet: xl.parse(sheet) for sheet in xl.sheet_names}\n",
    "    # print ('Sheets:')\n",
    "    # print (xl.sheet_names)\n",
    "    # Read data from *gene GI scores sheet*:\n",
    "    GIsheet = sheets['gene GI scores and correlations']\n",
    "    raw_data = pd.DataFrame(data = {\n",
    "        'Gene1': np.array(GIsheet['Unnamed: 0'][3:]),\n",
    "        'Gene2': np.array(GIsheet['Unnamed: 1'][3:]), \n",
    "        'K562': np.array(GIsheet['K562.4'][3:]),                # g1 <-> g2 GI scores\n",
    "        'Jurkat': np.array(GIsheet['Jurkat.4'][3:])             # g1 <-> g2 GI scores\n",
    "    })\n",
    "    raw_K562   = raw_data.drop(columns='Jurkat').dropna()\n",
    "    raw_Jurkat = raw_data.drop(columns='K562').dropna()\n",
    "    K562   = raw_K562[(raw_K562['K562'] > SL_thr) & \n",
    "                      (raw_K562['Gene1'] != raw_K562['Gene2'])].reset_index(drop=True)\n",
    "    Jurkat = raw_Jurkat[(raw_Jurkat['Jurkat'] > SL_thr) &\n",
    "                        (raw_Jurkat['Gene1'] != raw_Jurkat['Gene2'])].reset_index(drop=True)\n",
    "    print (f'K562: {round(100* len(K562) / len(raw_K562), 2)}%', end = '\\t') \n",
    "    print (f'{len(K562)} SLs from {len(raw_K562)} unique gene pairs')\n",
    "    print (f'Jurkat: {round(100* len(Jurkat) / len(raw_Jurkat), 2)}%', end = '\\t') \n",
    "    print (f'{len(Jurkat)} SLs from {len(raw_Jurkat)} unique gene pairs ')\n",
    "    return {'K562':K562, 'Jurkat':Jurkat}"
   ]
  },
  {
   "cell_type": "markdown",
   "metadata": {},
   "source": [
    "## Read expression data\n"
   ]
  },
  {
   "cell_type": "code",
   "execution_count": 4,
   "metadata": {},
   "outputs": [],
   "source": [
    "# make final data set \n",
    "def make_study_dataset(filepath, get_RNASeq = False):\n",
    "    t0 = time()\n",
    "    with open(filepath) as fp:\n",
    "        lines = [l.split('\\t') for l in fp.readlines()]\n",
    "        # switch NAs -> 0s\n",
    "        for i,l in enumerate(lines):\n",
    "            if 'NA' in l:\n",
    "                n = len(l[2:])\n",
    "                l = l[0:2]\n",
    "                for z in [0]*n:\n",
    "                    l.append(z)\n",
    "            lines[i] = l\n",
    "        genes = [d[0] for d in lines[1:]]\n",
    "        RNA_seq = [np.array(d[2:], dtype = float) for d in lines[1:]]\n",
    "                     \n",
    "        Q1 = [np.quantile(p, 0.1) for p in RNA_seq]       # Low expression threshold\n",
    "        Q3 = [np.quantile(p, 0.9) for p in RNA_seq]       # High expression threshold        \n",
    "        \n",
    "    data = pd.DataFrame(data = [i + j for i,j in zip([-1*(p <= q1) for p,q1 in zip(RNA_seq, Q1)], \n",
    "                                                     [ 1*(p >= q3) for p,q3 in zip(RNA_seq, Q3)])],\n",
    "                        index = [d[0] for d in lines[1:]], columns= lines[0][2:])\n",
    "        \n",
    "\n",
    "    print(\"done in %fs\" % (time() - t0))       \n",
    "    if get_RNASeq == False:\n",
    "        return data\n",
    "    else:\n",
    "        RNA_seq = pd.DataFrame(data = RNA_seq, index = [d[0] for d in lines[1:]],\n",
    "                               columns= lines[0][2:])\n",
    "        return RNA_seq, data"
   ]
  },
  {
   "cell_type": "markdown",
   "metadata": {},
   "source": [
    "## Statistical Test "
   ]
  },
  {
   "cell_type": "code",
   "execution_count": 462,
   "metadata": {},
   "outputs": [
    {
     "data": {
      "text/plain": [
       "(0.0, 0.03496503496503495)"
      ]
     },
     "execution_count": 462,
     "metadata": {},
     "output_type": "execute_result"
    }
   ],
   "source": [
    "oddsratio, pvalue = stats.fisher_exact([[8, 2], [1, 5]])"
   ]
  },
  {
   "cell_type": "code",
   "execution_count": 68,
   "metadata": {
    "scrolled": false,
    "slideshow": {
     "slide_type": "-"
    }
   },
   "outputs": [],
   "source": [
    "def SL_stat_test(filename, cell_line = 'K562'):\n",
    "    t0 = time()\n",
    "    SLdata = get_SLdataset()\n",
    "    RNASeq, data = make_study_dataset(filename, get_RNASeq = True)\n",
    "    tmp = SLdata[cell_line]\n",
    "    # filter out missing gene names between GI and expression studies \n",
    "    tmp = tmp[pd.DataFrame(tmp.Gene1.tolist()).isin(data.index.tolist()).any(1)].reset_index(drop=True)\n",
    "    tmp = tmp[pd.DataFrame(tmp.Gene2.tolist()).isin(data.index.tolist()).any(1)].reset_index(drop=True)\n",
    "    G1 = tmp.Gene1; G2 = tmp.Gene2;\n",
    "    data_G1 = np.array(data.loc[G1], dtype = int)\n",
    "    data_G2 = np.array(data.loc[G2], dtype = int)\n",
    "    Cors = [spearmanr(g1,g2)[0] for g1,g2 in zip(np.array(RNASeq.loc[G1]), np.array(RNASeq.loc[G2]))]    \n",
    "    test_res = pd.DataFrame(data= np.stack((\n",
    "        G1 ,G2, tmp[cell_line], Cors,\n",
    "        np.sum( (data_G1 < 0) * (data_G2 < 0), axis = 1),              # low_low\n",
    "        np.sum( (data_G1 > 0) * (data_G2 < 0), axis = 1),              # high_low\n",
    "        np.sum( (data_G1 < 0) * (data_G2 > 0), axis = 1),              # low_high\n",
    "        np.sum( (data_G1 > 0) * (data_G2 > 0), axis = 1)),             # high_high\n",
    "        axis = 1), columns=[\n",
    "        'Gene1', 'Gene2', 'GI_Score', 'Correlation',\n",
    "        'Obs_Low_Low', 'Obs_High_Low', 'Obs_Low_High', 'Obs_High_High'\n",
    "#         , 'ChiPval', 'Chi2'\n",
    "    ])\n",
    "    \n",
    "    # random gene pairs \n",
    "    r1, r2 = np.random.randint(0, high=len(data) - 1, size=(2,len(tmp)), dtype='int')\n",
    "    rG1 = [data.index.tolist()[i] for i in r1]\n",
    "    rG2 = [data.index.tolist()[i] for i in r2]\n",
    "    data_rG1 = np.array(data.loc[rG1], dtype = int)\n",
    "    data_rG2 = np.array(data.loc[rG2], dtype = int)\n",
    "    rCors = [spearmanr(g1,g2)[0] for g1,g2 in zip(np.array(RNASeq.loc[rG1]), np.array(RNASeq.loc[rG2]))]    \n",
    "    random_test_res = pd.DataFrame(data= np.stack((\n",
    "        rG1 ,rG2, rCors,\n",
    "        np.sum( (data_rG1 < 0) * (data_rG2 < 0), axis = 1),              # low_low\n",
    "        np.sum( (data_rG1 > 0) * (data_rG2 < 0), axis = 1),              # high_low\n",
    "        np.sum( (data_rG1 < 0) * (data_rG2 > 0), axis = 1),              # low_high\n",
    "        np.sum( (data_rG1 > 0) * (data_rG2 > 0), axis = 1)),             # high_high\n",
    "        axis = 1), columns=[\n",
    "        'Gene1', 'Gene2', 'Correlation',\n",
    "        'Obs_Low_Low', 'Obs_High_Low', 'Obs_Low_High', 'Obs_High_High'\n",
    "#         , 'ChiPval', 'Chi2'\n",
    "    ])\n",
    "    print(\"done in %fs\" % (time() - t0))\n",
    "    return test_res, random_test_res"
   ]
  },
  {
   "cell_type": "code",
   "execution_count": 69,
   "metadata": {},
   "outputs": [],
   "source": [
    "def stat_test_plot(test_res, random_test_res, x_max = 100, y_max = 4000):\n",
    "    plt.figure(figsize=(10,5))\n",
    "    for i, Obs in enumerate(['Obs_Low_Low', 'Obs_High_Low', 'Obs_Low_High', 'Obs_High_High']):\n",
    "        plt.subplot(221 + i)\n",
    "        plt.hist([\n",
    "            np.array(test_res[Obs], dtype = int), \n",
    "            np.array(random_test_res[Obs], dtype = int),],\n",
    "            label=['SL','Random'], histtype=u'step',  density = True)\n",
    "        plt.legend(loc='upper right')\n",
    "        plt.xlabel(Obs)\n",
    "        plt.ylabel('Frequency')\n",
    "        plt.xlim(-1, x_max)\n",
    "        plt.ylim(0, y_max)\n",
    "\n",
    "    plt.subplots_adjust(top=0.92, bottom=0.08, left=0.10, right=0.95, hspace=0.5,wspace=0.35)\n",
    "\n",
    "    plt.show()"
   ]
  },
  {
   "cell_type": "markdown",
   "metadata": {},
   "source": [
    "## Survival analysis \n",
    "Read combined study clinical data (downloaded from cBioPortal):"
   ]
  },
  {
   "cell_type": "code",
   "execution_count": 26,
   "metadata": {},
   "outputs": [],
   "source": [
    "def SL_survival(data, test):\n",
    "    t0 = time()\n",
    "    clinical_data = pd.read_csv('cBioPortal/combined_study_clinical_data.csv')\n",
    "    dfs = []\n",
    "    for t in test:\n",
    "        survival_data = []\n",
    "        g1, g2 = t.split('_') \n",
    "        g1_index = [ i for i, g in enumerate(data['raw']['Genes']) if g == g1][0]\n",
    "        g2_index = [ i for i, g in enumerate(data['raw']['Genes']) if g == g2][0]\n",
    "        Q1g1 = np.quantile(data['raw']['RNA-Seq'][g1_index], 0.25) # Gene 1 threshold\n",
    "        Q1g2 = np.quantile(data['raw']['RNA-Seq'][g2_index], 0.25) # Gene 2 threshold\n",
    "        for p, sam in enumerate(data['raw']['sample_ids']):\n",
    "            dat1 = 1*(data['raw']['RNA-Seq'][data['raw']['Genes'] == g1][p] <= Q1g1)    \n",
    "            dat2 = 1*(data['raw']['RNA-Seq'][data['raw']['Genes'] == g2][p] <= Q1g2)\n",
    "            surS = clinical_data['Overall Survival Status'][clinical_data['Sample ID'] == sam]\n",
    "            surM = clinical_data['Overall Survival (Months)'][clinical_data['Sample ID'] == sam]\n",
    "            if len(surS) > 0:\n",
    "                survival_data.append([sam,dat1,dat2,surS.values[0],surM.values[0]])\n",
    "        dfs.append(\n",
    "            pd.DataFrame(survival_data, columns=['sample_ids', g1 + ' is low', g2 + ' is low', \n",
    "                                                 'Status', 'Months']).dropna()\n",
    "        )\n",
    "    print(\"done in %fs\" % (time() - t0))\n",
    "    return dfs"
   ]
  },
  {
   "cell_type": "markdown",
   "metadata": {},
   "source": [
    "# Investigate expression patterns "
   ]
  },
  {
   "cell_type": "markdown",
   "metadata": {},
   "source": [
    "## 1st\n",
    "- ### [Acute Myeloid Leukemia (OHSU, Nature 2018)](https://www.cbioportal.org/study?id=aml_ohsu_2018)"
   ]
  },
  {
   "cell_type": "code",
   "execution_count": 7,
   "metadata": {},
   "outputs": [],
   "source": [
    "# ls cBioPortal/aml_ohsu_2018"
   ]
  },
  {
   "cell_type": "code",
   "execution_count": 8,
   "metadata": {},
   "outputs": [
    {
     "name": "stdout",
     "output_type": "stream",
     "text": [
      "type_of_cancer: aml\n",
      "cancer_study_identifier: aml_ohsu_2018\n",
      "name: Acute Myeloid Leukemia (OHSU, Nature 2018)\n",
      "description: Whole-exome sequencing of 672 acute myeloid leukemia samples (with 454 matched normals) from the Beat AML program.\n",
      "citation: Tyner et al. Nature 2018\n",
      "pmid: 30333627\n",
      "short_name: AML (OHSU)\n",
      "groups: PUBLIC\n"
     ]
    }
   ],
   "source": [
    "# print meta data\n",
    "with open('cBioPortal/aml_ohsu_2018/meta_study.txt') as fp:\n",
    "    print( fp.read() )"
   ]
  },
  {
   "cell_type": "markdown",
   "metadata": {},
   "source": [
    "### Chi-square Test"
   ]
  },
  {
   "cell_type": "markdown",
   "metadata": {},
   "source": [
    "Low-Low gene pairs for **K562** GI pairs:"
   ]
  },
  {
   "cell_type": "code",
   "execution_count": 70,
   "metadata": {
    "scrolled": true
   },
   "outputs": [
    {
     "name": "stdout",
     "output_type": "stream",
     "text": [
      "K562: 18.08%\t18188 SLs from 100576 unique gene pairs\n",
      "Jurkat: 13.19%\t9954 SLs from 75466 unique gene pairs \n",
      "done in 10.600467s\n",
      "done in 116.217217s\n"
     ]
    }
   ],
   "source": [
    "test_res, random_test_res = SL_stat_test(\n",
    "    'cBioPortal/aml_ohsu_2018/data_RNA_Seq_mRNA_median_Zscores.txt', cell_line = 'K562')"
   ]
  },
  {
   "cell_type": "markdown",
   "metadata": {},
   "source": [
    "> Low Low $Obs/Exp <  $ High High $Obs/Exp$"
   ]
  },
  {
   "cell_type": "code",
   "execution_count": 71,
   "metadata": {},
   "outputs": [
    {
     "data": {
      "image/png": "[encoded data removed]",
      "text/plain": [
       "<Figure size 720x360 with 4 Axes>"
      ]
     },
     "metadata": {
      "needs_background": "light"
     },
     "output_type": "display_data"
    }
   ],
   "source": [
    "stat_test_plot(test_res, random_test_res, x_max = 50, y_max = 1)"
   ]
  },
  {
   "cell_type": "code",
   "execution_count": 72,
   "metadata": {
    "scrolled": false
   },
   "outputs": [
    {
     "data": {
      "text/html": [
       "<div>\n",
       "<style scoped>\n",
       "    .dataframe tbody tr th:only-of-type {\n",
       "        vertical-align: middle;\n",
       "    }\n",
       "\n",
       "    .dataframe tbody tr th {\n",
       "        vertical-align: top;\n",
       "    }\n",
       "\n",
       "    .dataframe thead th {\n",
       "        text-align: right;\n",
       "    }\n",
       "</style>\n",
       "<table border=\"1\" class=\"dataframe\">\n",
       "  <thead>\n",
       "    <tr style=\"text-align: right;\">\n",
       "      <th></th>\n",
       "      <th>Gene1</th>\n",
       "      <th>Gene2</th>\n",
       "      <th>GI_Score</th>\n",
       "      <th>Correlation</th>\n",
       "      <th>Obs_Low_Low</th>\n",
       "      <th>Obs_High_Low</th>\n",
       "      <th>Obs_Low_High</th>\n",
       "      <th>Obs_High_High</th>\n",
       "    </tr>\n",
       "  </thead>\n",
       "  <tbody>\n",
       "    <tr>\n",
       "      <td>16037</td>\n",
       "      <td>PSMC2</td>\n",
       "      <td>ZMAT5</td>\n",
       "      <td>1.10152</td>\n",
       "      <td>-0.123805</td>\n",
       "      <td>6</td>\n",
       "      <td>9</td>\n",
       "      <td>9</td>\n",
       "      <td>8</td>\n",
       "    </tr>\n",
       "    <tr>\n",
       "      <td>4185</td>\n",
       "      <td>CENPK</td>\n",
       "      <td>MED1</td>\n",
       "      <td>2.60943</td>\n",
       "      <td>0.13405</td>\n",
       "      <td>6</td>\n",
       "      <td>7</td>\n",
       "      <td>11</td>\n",
       "      <td>10</td>\n",
       "    </tr>\n",
       "    <tr>\n",
       "      <td>8530</td>\n",
       "      <td>FAM98B</td>\n",
       "      <td>PTCD1</td>\n",
       "      <td>1.35385</td>\n",
       "      <td>-0.0283443</td>\n",
       "      <td>5</td>\n",
       "      <td>6</td>\n",
       "      <td>6</td>\n",
       "      <td>7</td>\n",
       "    </tr>\n",
       "    <tr>\n",
       "      <td>8140</td>\n",
       "      <td>EXOSC4</td>\n",
       "      <td>NUTF2</td>\n",
       "      <td>2.17923</td>\n",
       "      <td>0.0905905</td>\n",
       "      <td>5</td>\n",
       "      <td>7</td>\n",
       "      <td>6</td>\n",
       "      <td>7</td>\n",
       "    </tr>\n",
       "    <tr>\n",
       "      <td>2191</td>\n",
       "      <td>BTF3</td>\n",
       "      <td>TBCB</td>\n",
       "      <td>1.39376</td>\n",
       "      <td>0.127062</td>\n",
       "      <td>5</td>\n",
       "      <td>6</td>\n",
       "      <td>7</td>\n",
       "      <td>10</td>\n",
       "    </tr>\n",
       "    <tr>\n",
       "      <td>...</td>\n",
       "      <td>...</td>\n",
       "      <td>...</td>\n",
       "      <td>...</td>\n",
       "      <td>...</td>\n",
       "      <td>...</td>\n",
       "      <td>...</td>\n",
       "      <td>...</td>\n",
       "      <td>...</td>\n",
       "    </tr>\n",
       "    <tr>\n",
       "      <td>4638</td>\n",
       "      <td>CKAP5</td>\n",
       "      <td>EIF4A1</td>\n",
       "      <td>1.64594</td>\n",
       "      <td>-0.370615</td>\n",
       "      <td>0</td>\n",
       "      <td>15</td>\n",
       "      <td>6</td>\n",
       "      <td>1</td>\n",
       "    </tr>\n",
       "    <tr>\n",
       "      <td>4628</td>\n",
       "      <td>CIT</td>\n",
       "      <td>ZNF511</td>\n",
       "      <td>1.85633</td>\n",
       "      <td>-0.0632986</td>\n",
       "      <td>0</td>\n",
       "      <td>5</td>\n",
       "      <td>3</td>\n",
       "      <td>5</td>\n",
       "    </tr>\n",
       "    <tr>\n",
       "      <td>13393</td>\n",
       "      <td>MTERFD1</td>\n",
       "      <td>RBM22</td>\n",
       "      <td>2.74122</td>\n",
       "      <td>-0.365213</td>\n",
       "      <td>0</td>\n",
       "      <td>13</td>\n",
       "      <td>11</td>\n",
       "      <td>4</td>\n",
       "    </tr>\n",
       "    <tr>\n",
       "      <td>13408</td>\n",
       "      <td>MTERFD1</td>\n",
       "      <td>ZNF574</td>\n",
       "      <td>1.4608</td>\n",
       "      <td>-0.244032</td>\n",
       "      <td>0</td>\n",
       "      <td>7</td>\n",
       "      <td>9</td>\n",
       "      <td>8</td>\n",
       "    </tr>\n",
       "    <tr>\n",
       "      <td>12</td>\n",
       "      <td>AARS2</td>\n",
       "      <td>FBXO28</td>\n",
       "      <td>1.04346</td>\n",
       "      <td>-0.449189</td>\n",
       "      <td>0</td>\n",
       "      <td>6</td>\n",
       "      <td>12</td>\n",
       "      <td>2</td>\n",
       "    </tr>\n",
       "  </tbody>\n",
       "</table>\n",
       "<p>2671 rows × 8 columns</p>\n",
       "</div>"
      ],
      "text/plain": [
       "         Gene1   Gene2 GI_Score Correlation Obs_Low_Low Obs_High_Low  \\\n",
       "16037    PSMC2   ZMAT5  1.10152   -0.123805           6            9   \n",
       "4185     CENPK    MED1  2.60943     0.13405           6            7   \n",
       "8530    FAM98B   PTCD1  1.35385  -0.0283443           5            6   \n",
       "8140    EXOSC4   NUTF2  2.17923   0.0905905           5            7   \n",
       "2191      BTF3    TBCB  1.39376    0.127062           5            6   \n",
       "...        ...     ...      ...         ...         ...          ...   \n",
       "4638     CKAP5  EIF4A1  1.64594   -0.370615           0           15   \n",
       "4628       CIT  ZNF511  1.85633  -0.0632986           0            5   \n",
       "13393  MTERFD1   RBM22  2.74122   -0.365213           0           13   \n",
       "13408  MTERFD1  ZNF574   1.4608   -0.244032           0            7   \n",
       "12       AARS2  FBXO28  1.04346   -0.449189           0            6   \n",
       "\n",
       "      Obs_Low_High Obs_High_High  \n",
       "16037            9             8  \n",
       "4185            11            10  \n",
       "8530             6             7  \n",
       "8140             6             7  \n",
       "2191             7            10  \n",
       "...            ...           ...  \n",
       "4638             6             1  \n",
       "4628             3             5  \n",
       "13393           11             4  \n",
       "13408            9             8  \n",
       "12              12             2  \n",
       "\n",
       "[2671 rows x 8 columns]"
      ]
     },
     "execution_count": 72,
     "metadata": {},
     "output_type": "execute_result"
    }
   ],
   "source": [
    "test_res[\n",
    "    (test_res.Obs_Low_Low < test_res.Obs_High_High) &\n",
    "    (test_res.Obs_Low_Low < test_res.Obs_Low_High) &\n",
    "    (test_res.Obs_Low_Low < test_res.Obs_High_Low)\n",
    "].sort_values('Obs_Low_Low', ascending = False)"
   ]
  },
  {
   "cell_type": "code",
   "execution_count": 73,
   "metadata": {
    "scrolled": false
   },
   "outputs": [
    {
     "data": {
      "text/html": [
       "<div>\n",
       "<style scoped>\n",
       "    .dataframe tbody tr th:only-of-type {\n",
       "        vertical-align: middle;\n",
       "    }\n",
       "\n",
       "    .dataframe tbody tr th {\n",
       "        vertical-align: top;\n",
       "    }\n",
       "\n",
       "    .dataframe thead th {\n",
       "        text-align: right;\n",
       "    }\n",
       "</style>\n",
       "<table border=\"1\" class=\"dataframe\">\n",
       "  <thead>\n",
       "    <tr style=\"text-align: right;\">\n",
       "      <th></th>\n",
       "      <th>Gene1</th>\n",
       "      <th>Gene2</th>\n",
       "      <th>Correlation</th>\n",
       "      <th>Obs_Low_Low</th>\n",
       "      <th>Obs_High_Low</th>\n",
       "      <th>Obs_Low_High</th>\n",
       "      <th>Obs_High_High</th>\n",
       "    </tr>\n",
       "  </thead>\n",
       "  <tbody>\n",
       "    <tr>\n",
       "      <td>6992</td>\n",
       "      <td>PAM</td>\n",
       "      <td>RP11-274K13.5</td>\n",
       "      <td>-0.003848785855194601</td>\n",
       "      <td>0</td>\n",
       "      <td>4</td>\n",
       "      <td>1</td>\n",
       "      <td>11</td>\n",
       "    </tr>\n",
       "    <tr>\n",
       "      <td>14875</td>\n",
       "      <td>PTH2R</td>\n",
       "      <td>AL603926.1</td>\n",
       "      <td>-0.061250958991204196</td>\n",
       "      <td>0</td>\n",
       "      <td>7</td>\n",
       "      <td>4</td>\n",
       "      <td>6</td>\n",
       "    </tr>\n",
       "    <tr>\n",
       "      <td>5130</td>\n",
       "      <td>ILF3</td>\n",
       "      <td>SLC25A53</td>\n",
       "      <td>-0.19837897915305253</td>\n",
       "      <td>0</td>\n",
       "      <td>9</td>\n",
       "      <td>12</td>\n",
       "      <td>4</td>\n",
       "    </tr>\n",
       "    <tr>\n",
       "      <td>14861</td>\n",
       "      <td>PPFIBP1</td>\n",
       "      <td>FRS2</td>\n",
       "      <td>-0.1398318497337285</td>\n",
       "      <td>0</td>\n",
       "      <td>6</td>\n",
       "      <td>7</td>\n",
       "      <td>3</td>\n",
       "    </tr>\n",
       "    <tr>\n",
       "      <td>8792</td>\n",
       "      <td>IMP3</td>\n",
       "      <td>BTBD19</td>\n",
       "      <td>-0.4816898149155016</td>\n",
       "      <td>0</td>\n",
       "      <td>13</td>\n",
       "      <td>14</td>\n",
       "      <td>0</td>\n",
       "    </tr>\n",
       "    <tr>\n",
       "      <td>...</td>\n",
       "      <td>...</td>\n",
       "      <td>...</td>\n",
       "      <td>...</td>\n",
       "      <td>...</td>\n",
       "      <td>...</td>\n",
       "      <td>...</td>\n",
       "      <td>...</td>\n",
       "    </tr>\n",
       "    <tr>\n",
       "      <td>13925</td>\n",
       "      <td>PNKD</td>\n",
       "      <td>MTG2</td>\n",
       "      <td>0.08214395796681896</td>\n",
       "      <td>9</td>\n",
       "      <td>2</td>\n",
       "      <td>7</td>\n",
       "      <td>2</td>\n",
       "    </tr>\n",
       "    <tr>\n",
       "      <td>1492</td>\n",
       "      <td>HNRNPA1P30</td>\n",
       "      <td>CTDNEP1</td>\n",
       "      <td>0.3995957894312986</td>\n",
       "      <td>9</td>\n",
       "      <td>4</td>\n",
       "      <td>1</td>\n",
       "      <td>12</td>\n",
       "    </tr>\n",
       "    <tr>\n",
       "      <td>9450</td>\n",
       "      <td>CTR9</td>\n",
       "      <td>RP11-229P13.19</td>\n",
       "      <td>0.0026757691458659185</td>\n",
       "      <td>9</td>\n",
       "      <td>4</td>\n",
       "      <td>5</td>\n",
       "      <td>3</td>\n",
       "    </tr>\n",
       "    <tr>\n",
       "      <td>13896</td>\n",
       "      <td>ZNF576</td>\n",
       "      <td>FAM131A</td>\n",
       "      <td>0.15457634807855083</td>\n",
       "      <td>9</td>\n",
       "      <td>7</td>\n",
       "      <td>2</td>\n",
       "      <td>9</td>\n",
       "    </tr>\n",
       "    <tr>\n",
       "      <td>8259</td>\n",
       "      <td>MAP2</td>\n",
       "      <td>EEF1E1</td>\n",
       "      <td>-0.1060490704257206</td>\n",
       "      <td>9</td>\n",
       "      <td>5</td>\n",
       "      <td>6</td>\n",
       "      <td>6</td>\n",
       "    </tr>\n",
       "  </tbody>\n",
       "</table>\n",
       "<p>17749 rows × 7 columns</p>\n",
       "</div>"
      ],
      "text/plain": [
       "            Gene1           Gene2            Correlation Obs_Low_Low  \\\n",
       "6992          PAM   RP11-274K13.5  -0.003848785855194601           0   \n",
       "14875       PTH2R      AL603926.1  -0.061250958991204196           0   \n",
       "5130         ILF3        SLC25A53   -0.19837897915305253           0   \n",
       "14861     PPFIBP1            FRS2    -0.1398318497337285           0   \n",
       "8792         IMP3          BTBD19    -0.4816898149155016           0   \n",
       "...           ...             ...                    ...         ...   \n",
       "13925        PNKD            MTG2    0.08214395796681896           9   \n",
       "1492   HNRNPA1P30         CTDNEP1     0.3995957894312986           9   \n",
       "9450         CTR9  RP11-229P13.19  0.0026757691458659185           9   \n",
       "13896      ZNF576         FAM131A    0.15457634807855083           9   \n",
       "8259         MAP2          EEF1E1    -0.1060490704257206           9   \n",
       "\n",
       "      Obs_High_Low Obs_Low_High Obs_High_High  \n",
       "6992             4            1            11  \n",
       "14875            7            4             6  \n",
       "5130             9           12             4  \n",
       "14861            6            7             3  \n",
       "8792            13           14             0  \n",
       "...            ...          ...           ...  \n",
       "13925            2            7             2  \n",
       "1492             4            1            12  \n",
       "9450             4            5             3  \n",
       "13896            7            2             9  \n",
       "8259             5            6             6  \n",
       "\n",
       "[17749 rows x 7 columns]"
      ]
     },
     "execution_count": 73,
     "metadata": {},
     "output_type": "execute_result"
    }
   ],
   "source": [
    "random_test_res.sort_values('Obs_Low_Low', ascending = True)"
   ]
  },
  {
   "cell_type": "markdown",
   "metadata": {},
   "source": [
    "Low-Low gene pairs for **Jurkat** GI pairs:"
   ]
  },
  {
   "cell_type": "code",
   "execution_count": 74,
   "metadata": {
    "scrolled": true
   },
   "outputs": [
    {
     "name": "stdout",
     "output_type": "stream",
     "text": [
      "K562: 18.08%\t18188 SLs from 100576 unique gene pairs\n",
      "Jurkat: 13.19%\t9954 SLs from 75466 unique gene pairs \n",
      "done in 10.788834s\n",
      "done in 99.444228s\n"
     ]
    }
   ],
   "source": [
    "test_res, random_test_res = SL_stat_test(\n",
    "    'cBioPortal/aml_ohsu_2018/data_RNA_Seq_mRNA_median_Zscores.txt', cell_line = 'Jurkat')"
   ]
  },
  {
   "cell_type": "markdown",
   "metadata": {},
   "source": [
    "> Low Low $Obs/Exp <  $ High High $Obs/Exp$"
   ]
  },
  {
   "cell_type": "code",
   "execution_count": 75,
   "metadata": {
    "scrolled": false
   },
   "outputs": [
    {
     "data": {
      "text/html": [
       "<div>\n",
       "<style scoped>\n",
       "    .dataframe tbody tr th:only-of-type {\n",
       "        vertical-align: middle;\n",
       "    }\n",
       "\n",
       "    .dataframe tbody tr th {\n",
       "        vertical-align: top;\n",
       "    }\n",
       "\n",
       "    .dataframe thead th {\n",
       "        text-align: right;\n",
       "    }\n",
       "</style>\n",
       "<table border=\"1\" class=\"dataframe\">\n",
       "  <thead>\n",
       "    <tr style=\"text-align: right;\">\n",
       "      <th></th>\n",
       "      <th>Gene1</th>\n",
       "      <th>Gene2</th>\n",
       "      <th>GI_Score</th>\n",
       "      <th>Correlation</th>\n",
       "      <th>Obs_Low_Low</th>\n",
       "      <th>Obs_High_Low</th>\n",
       "      <th>Obs_Low_High</th>\n",
       "      <th>Obs_High_High</th>\n",
       "    </tr>\n",
       "  </thead>\n",
       "  <tbody>\n",
       "    <tr>\n",
       "      <td>7861</td>\n",
       "      <td>NIP7</td>\n",
       "      <td>PPWD1</td>\n",
       "      <td>2.09305</td>\n",
       "      <td>0.0417018</td>\n",
       "      <td>6</td>\n",
       "      <td>9</td>\n",
       "      <td>7</td>\n",
       "      <td>7</td>\n",
       "    </tr>\n",
       "    <tr>\n",
       "      <td>764</td>\n",
       "      <td>ATP6V1G1</td>\n",
       "      <td>PSMB7</td>\n",
       "      <td>1.11871</td>\n",
       "      <td>-0.0438128</td>\n",
       "      <td>6</td>\n",
       "      <td>7</td>\n",
       "      <td>11</td>\n",
       "      <td>8</td>\n",
       "    </tr>\n",
       "    <tr>\n",
       "      <td>1093</td>\n",
       "      <td>BTF3</td>\n",
       "      <td>TBCB</td>\n",
       "      <td>2.50489</td>\n",
       "      <td>0.127062</td>\n",
       "      <td>5</td>\n",
       "      <td>6</td>\n",
       "      <td>7</td>\n",
       "      <td>10</td>\n",
       "    </tr>\n",
       "    <tr>\n",
       "      <td>2307</td>\n",
       "      <td>CMAS</td>\n",
       "      <td>RPS18</td>\n",
       "      <td>1.01809</td>\n",
       "      <td>-0.0722982</td>\n",
       "      <td>5</td>\n",
       "      <td>7</td>\n",
       "      <td>9</td>\n",
       "      <td>6</td>\n",
       "    </tr>\n",
       "    <tr>\n",
       "      <td>4161</td>\n",
       "      <td>EMC4</td>\n",
       "      <td>KIAA1731</td>\n",
       "      <td>1.11522</td>\n",
       "      <td>-0.0157421</td>\n",
       "      <td>5</td>\n",
       "      <td>9</td>\n",
       "      <td>11</td>\n",
       "      <td>7</td>\n",
       "    </tr>\n",
       "    <tr>\n",
       "      <td>...</td>\n",
       "      <td>...</td>\n",
       "      <td>...</td>\n",
       "      <td>...</td>\n",
       "      <td>...</td>\n",
       "      <td>...</td>\n",
       "      <td>...</td>\n",
       "      <td>...</td>\n",
       "      <td>...</td>\n",
       "    </tr>\n",
       "    <tr>\n",
       "      <td>5856</td>\n",
       "      <td>MAX</td>\n",
       "      <td>PSMB6</td>\n",
       "      <td>1.55658</td>\n",
       "      <td>-0.329422</td>\n",
       "      <td>0</td>\n",
       "      <td>9</td>\n",
       "      <td>13</td>\n",
       "      <td>9</td>\n",
       "    </tr>\n",
       "    <tr>\n",
       "      <td>5858</td>\n",
       "      <td>MAX</td>\n",
       "      <td>PSMD12</td>\n",
       "      <td>1.11356</td>\n",
       "      <td>-0.0726589</td>\n",
       "      <td>0</td>\n",
       "      <td>5</td>\n",
       "      <td>8</td>\n",
       "      <td>2</td>\n",
       "    </tr>\n",
       "    <tr>\n",
       "      <td>1918</td>\n",
       "      <td>CDC40</td>\n",
       "      <td>SRSF7</td>\n",
       "      <td>1.13219</td>\n",
       "      <td>-0.349975</td>\n",
       "      <td>0</td>\n",
       "      <td>13</td>\n",
       "      <td>9</td>\n",
       "      <td>5</td>\n",
       "    </tr>\n",
       "    <tr>\n",
       "      <td>1920</td>\n",
       "      <td>CDC40</td>\n",
       "      <td>XPO1</td>\n",
       "      <td>2.3208</td>\n",
       "      <td>-0.497648</td>\n",
       "      <td>0</td>\n",
       "      <td>12</td>\n",
       "      <td>13</td>\n",
       "      <td>5</td>\n",
       "    </tr>\n",
       "    <tr>\n",
       "      <td>5</td>\n",
       "      <td>AARS2</td>\n",
       "      <td>MED10</td>\n",
       "      <td>1.34887</td>\n",
       "      <td>-0.484551</td>\n",
       "      <td>0</td>\n",
       "      <td>14</td>\n",
       "      <td>9</td>\n",
       "      <td>2</td>\n",
       "    </tr>\n",
       "  </tbody>\n",
       "</table>\n",
       "<p>1445 rows × 8 columns</p>\n",
       "</div>"
      ],
      "text/plain": [
       "         Gene1     Gene2 GI_Score Correlation Obs_Low_Low Obs_High_Low  \\\n",
       "7861      NIP7     PPWD1  2.09305   0.0417018           6            9   \n",
       "764   ATP6V1G1     PSMB7  1.11871  -0.0438128           6            7   \n",
       "1093      BTF3      TBCB  2.50489    0.127062           5            6   \n",
       "2307      CMAS     RPS18  1.01809  -0.0722982           5            7   \n",
       "4161      EMC4  KIAA1731  1.11522  -0.0157421           5            9   \n",
       "...        ...       ...      ...         ...         ...          ...   \n",
       "5856       MAX     PSMB6  1.55658   -0.329422           0            9   \n",
       "5858       MAX    PSMD12  1.11356  -0.0726589           0            5   \n",
       "1918     CDC40     SRSF7  1.13219   -0.349975           0           13   \n",
       "1920     CDC40      XPO1   2.3208   -0.497648           0           12   \n",
       "5        AARS2     MED10  1.34887   -0.484551           0           14   \n",
       "\n",
       "     Obs_Low_High Obs_High_High  \n",
       "7861            7             7  \n",
       "764            11             8  \n",
       "1093            7            10  \n",
       "2307            9             6  \n",
       "4161           11             7  \n",
       "...           ...           ...  \n",
       "5856           13             9  \n",
       "5858            8             2  \n",
       "1918            9             5  \n",
       "1920           13             5  \n",
       "5               9             2  \n",
       "\n",
       "[1445 rows x 8 columns]"
      ]
     },
     "execution_count": 75,
     "metadata": {},
     "output_type": "execute_result"
    }
   ],
   "source": [
    "test_res[\n",
    "    (test_res.Obs_Low_Low < test_res.Obs_High_High) &\n",
    "    (test_res.Obs_Low_Low < test_res.Obs_Low_High) &\n",
    "    (test_res.Obs_Low_Low < test_res.Obs_High_Low)\n",
    "].sort_values('Obs_Low_Low', ascending = False)"
   ]
  },
  {
   "cell_type": "code",
   "execution_count": 76,
   "metadata": {},
   "outputs": [
    {
     "data": {
      "image/png": "[encoded data removed]",
      "text/plain": [
       "<Figure size 720x360 with 4 Axes>"
      ]
     },
     "metadata": {
      "needs_background": "light"
     },
     "output_type": "display_data"
    }
   ],
   "source": [
    "stat_test_plot(test_res, random_test_res)"
   ]
  },
  {
   "cell_type": "markdown",
   "metadata": {},
   "source": [
    "### Survival analysis "
   ]
  },
  {
   "cell_type": "markdown",
   "metadata": {},
   "source": [
    "https://plot.ly/python/v3/ipython-notebooks/survival-analysis-r-vs-python/"
   ]
  },
  {
   "cell_type": "code",
   "execution_count": null,
   "metadata": {},
   "outputs": [],
   "source": []
  },
  {
   "cell_type": "markdown",
   "metadata": {},
   "source": [
    "# 2nd\n",
    "- ### [Pediatric Acute Lymphoid Leukemia - Phase II (TARGET, 2018)](https://www.cbioportal.org/study?id=all_phase2_target_2018_pub)"
   ]
  },
  {
   "cell_type": "code",
   "execution_count": 43,
   "metadata": {},
   "outputs": [
    {
     "name": "stdout",
     "output_type": "stream",
     "text": [
      "type_of_cancer: bll\n",
      "cancer_study_identifier: all_phase2_target_2018_pub\n",
      "name: Pediatric Acute Lymphoid Leukemia - Phase II (TARGET, 2018)\n",
      "short_name: ALL-Phase II (TARGET, 2018)\n",
      "description: Comprehensive profiling of ALL Phase 2 samples. <p>TARGET data is intended exclusively for biomedical research using pediatric data (i.e., the research objectives cannot be accomplished using data from adults) that focus on the development of more effective treatments, diagnostic tests, or prognostic markers for childhood cancers. Moreover, TARGET data can be used for research relevant to the biology, causes, treatment and late complications of treatment of pediatric cancers, but is not intended for the sole purposes of methods and/or tool development (please see <a href=\"https://ocg.cancer.gov/programs/target/using-target-data\">Using TARGET Data</a> section of the OCG website). If you are interested in using TARGET data for publication or other research purposes, you must follow the <a href=\"https://ocg.cancer.gov/programs/target/target-publication-guidelines\">TARGET Publication Guidelines</a>.</p\n",
      "groups: NCI-TARGET;PUBLIC\n",
      "\n"
     ]
    }
   ],
   "source": [
    "# meta data\n",
    "filepath = 'cBioPortal/all_phase2_target_2018_pub/meta_study.txt'\n",
    "with open(filepath) as fp:\n",
    "    print( fp.read() )"
   ]
  },
  {
   "cell_type": "code",
   "execution_count": 44,
   "metadata": {},
   "outputs": [],
   "source": [
    "# ls cBioPortal/all_phase2_target_2018_pub"
   ]
  },
  {
   "cell_type": "code",
   "execution_count": 45,
   "metadata": {},
   "outputs": [
    {
     "name": "stdout",
     "output_type": "stream",
     "text": [
      "done in 10.104318s\n"
     ]
    }
   ],
   "source": [
    "data = make_study_dataset('cBioPortal/all_phase2_target_2018_pub/data_RNA_Seq_mRNA_median_Zscores.txt')"
   ]
  },
  {
   "cell_type": "markdown",
   "metadata": {},
   "source": [
    "### Chi-square Test"
   ]
  },
  {
   "cell_type": "markdown",
   "metadata": {},
   "source": [
    "Low-Low gene pairs for **K562** GI pairs:"
   ]
  },
  {
   "cell_type": "code",
   "execution_count": null,
   "metadata": {
    "scrolled": true
   },
   "outputs": [],
   "source": [
    "test_res, random_test_res = SL_stat_test(\n",
    "    'cBioPortal/all_phase2_target_2018_pub/data_RNA_Seq_mRNA_median_Zscores.txt', cell_line = 'K562')"
   ]
  },
  {
   "cell_type": "code",
   "execution_count": 77,
   "metadata": {},
   "outputs": [
    {
     "name": "stdout",
     "output_type": "stream",
     "text": [
      "K562: 18.08%\t18188 SLs from 100576 unique gene pairs\n",
      "Jurkat: 13.19%\t9954 SLs from 75466 unique gene pairs \n"
     ]
    },
    {
     "ename": "ValueError",
     "evalue": "all the input array dimensions for the concatenation axis must match exactly, but along dimension 0, the array at index 0 has size 203 and the array at index 1 has size 7",
     "output_type": "error",
     "traceback": [
      "\u001b[0;31m---------------------------------------------------------------------------\u001b[0m",
      "\u001b[0;31mValueError\u001b[0m                                Traceback (most recent call last)",
      "\u001b[0;32m<ipython-input-77-e1c47e45bd2f>\u001b[0m in \u001b[0;36m<module>\u001b[0;34m\u001b[0m\n\u001b[1;32m     43\u001b[0m          * np.array(data.loc[g2] > 0))]   # high_high\n\u001b[1;32m     44\u001b[0m      ])\n\u001b[0;32m---> 45\u001b[0;31m     \u001b[0mCors\u001b[0m\u001b[0;34m.\u001b[0m\u001b[0mappend\u001b[0m \u001b[0;34m(\u001b[0m\u001b[0mspearmanr\u001b[0m\u001b[0;34m(\u001b[0m\u001b[0mnp\u001b[0m\u001b[0;34m.\u001b[0m\u001b[0marray\u001b[0m\u001b[0;34m(\u001b[0m\u001b[0mdata\u001b[0m\u001b[0;34m.\u001b[0m\u001b[0mloc\u001b[0m\u001b[0;34m[\u001b[0m\u001b[0mg1\u001b[0m\u001b[0;34m]\u001b[0m\u001b[0;34m)\u001b[0m\u001b[0;34m,\u001b[0m \u001b[0mnp\u001b[0m\u001b[0;34m.\u001b[0m\u001b[0marray\u001b[0m\u001b[0;34m(\u001b[0m\u001b[0mdata\u001b[0m\u001b[0;34m.\u001b[0m\u001b[0mloc\u001b[0m\u001b[0;34m[\u001b[0m\u001b[0mg2\u001b[0m\u001b[0;34m]\u001b[0m\u001b[0;34m)\u001b[0m\u001b[0;34m)\u001b[0m\u001b[0;34m[\u001b[0m\u001b[0;36m0\u001b[0m\u001b[0;34m]\u001b[0m\u001b[0;34m)\u001b[0m\u001b[0;34m\u001b[0m\u001b[0;34m\u001b[0m\u001b[0m\n\u001b[0m\u001b[1;32m     46\u001b[0m \u001b[0;31m# do chi-square test:\u001b[0m\u001b[0;34m\u001b[0m\u001b[0;34m\u001b[0m\u001b[0;34m\u001b[0m\u001b[0m\n\u001b[1;32m     47\u001b[0m \u001b[0mchi2_res\u001b[0m \u001b[0;34m=\u001b[0m \u001b[0;34m[\u001b[0m\u001b[0mchi2_contingency\u001b[0m\u001b[0;34m(\u001b[0m\u001b[0mo\u001b[0m\u001b[0;34m)\u001b[0m \u001b[0;32mfor\u001b[0m \u001b[0mo\u001b[0m \u001b[0;32min\u001b[0m \u001b[0mnp\u001b[0m\u001b[0;34m.\u001b[0m\u001b[0marray\u001b[0m\u001b[0;34m(\u001b[0m\u001b[0mObs\u001b[0m\u001b[0;34m)\u001b[0m\u001b[0;34m]\u001b[0m\u001b[0;34m\u001b[0m\u001b[0;34m\u001b[0m\u001b[0m\n",
      "\u001b[0;32m~/anaconda3/lib/python3.7/site-packages/scipy/stats/stats.py\u001b[0m in \u001b[0;36mspearmanr\u001b[0;34m(a, b, axis, nan_policy)\u001b[0m\n\u001b[1;32m   3322\u001b[0m         \u001b[0mb\u001b[0m\u001b[0;34m,\u001b[0m \u001b[0m_\u001b[0m \u001b[0;34m=\u001b[0m \u001b[0m_chk_asarray\u001b[0m\u001b[0;34m(\u001b[0m\u001b[0mb\u001b[0m\u001b[0;34m,\u001b[0m \u001b[0maxis\u001b[0m\u001b[0;34m)\u001b[0m\u001b[0;34m\u001b[0m\u001b[0;34m\u001b[0m\u001b[0m\n\u001b[1;32m   3323\u001b[0m         \u001b[0;32mif\u001b[0m \u001b[0maxisout\u001b[0m \u001b[0;34m==\u001b[0m \u001b[0;36m0\u001b[0m\u001b[0;34m:\u001b[0m\u001b[0;34m\u001b[0m\u001b[0;34m\u001b[0m\u001b[0m\n\u001b[0;32m-> 3324\u001b[0;31m             \u001b[0ma\u001b[0m \u001b[0;34m=\u001b[0m \u001b[0mnp\u001b[0m\u001b[0;34m.\u001b[0m\u001b[0mcolumn_stack\u001b[0m\u001b[0;34m(\u001b[0m\u001b[0;34m(\u001b[0m\u001b[0ma\u001b[0m\u001b[0;34m,\u001b[0m \u001b[0mb\u001b[0m\u001b[0;34m)\u001b[0m\u001b[0;34m)\u001b[0m\u001b[0;34m\u001b[0m\u001b[0;34m\u001b[0m\u001b[0m\n\u001b[0m\u001b[1;32m   3325\u001b[0m         \u001b[0;32melse\u001b[0m\u001b[0;34m:\u001b[0m\u001b[0;34m\u001b[0m\u001b[0;34m\u001b[0m\u001b[0m\n\u001b[1;32m   3326\u001b[0m             \u001b[0ma\u001b[0m \u001b[0;34m=\u001b[0m \u001b[0mnp\u001b[0m\u001b[0;34m.\u001b[0m\u001b[0mrow_stack\u001b[0m\u001b[0;34m(\u001b[0m\u001b[0;34m(\u001b[0m\u001b[0ma\u001b[0m\u001b[0;34m,\u001b[0m \u001b[0mb\u001b[0m\u001b[0;34m)\u001b[0m\u001b[0;34m)\u001b[0m\u001b[0;34m\u001b[0m\u001b[0;34m\u001b[0m\u001b[0m\n",
      "\u001b[0;32m<__array_function__ internals>\u001b[0m in \u001b[0;36mcolumn_stack\u001b[0;34m(*args, **kwargs)\u001b[0m\n",
      "\u001b[0;32m~/anaconda3/lib/python3.7/site-packages/numpy/lib/shape_base.py\u001b[0m in \u001b[0;36mcolumn_stack\u001b[0;34m(tup)\u001b[0m\n\u001b[1;32m    639\u001b[0m             \u001b[0marr\u001b[0m \u001b[0;34m=\u001b[0m \u001b[0marray\u001b[0m\u001b[0;34m(\u001b[0m\u001b[0marr\u001b[0m\u001b[0;34m,\u001b[0m \u001b[0mcopy\u001b[0m\u001b[0;34m=\u001b[0m\u001b[0;32mFalse\u001b[0m\u001b[0;34m,\u001b[0m \u001b[0msubok\u001b[0m\u001b[0;34m=\u001b[0m\u001b[0;32mTrue\u001b[0m\u001b[0;34m,\u001b[0m \u001b[0mndmin\u001b[0m\u001b[0;34m=\u001b[0m\u001b[0;36m2\u001b[0m\u001b[0;34m)\u001b[0m\u001b[0;34m.\u001b[0m\u001b[0mT\u001b[0m\u001b[0;34m\u001b[0m\u001b[0;34m\u001b[0m\u001b[0m\n\u001b[1;32m    640\u001b[0m         \u001b[0marrays\u001b[0m\u001b[0;34m.\u001b[0m\u001b[0mappend\u001b[0m\u001b[0;34m(\u001b[0m\u001b[0marr\u001b[0m\u001b[0;34m)\u001b[0m\u001b[0;34m\u001b[0m\u001b[0;34m\u001b[0m\u001b[0m\n\u001b[0;32m--> 641\u001b[0;31m     \u001b[0;32mreturn\u001b[0m \u001b[0m_nx\u001b[0m\u001b[0;34m.\u001b[0m\u001b[0mconcatenate\u001b[0m\u001b[0;34m(\u001b[0m\u001b[0marrays\u001b[0m\u001b[0;34m,\u001b[0m \u001b[0;36m1\u001b[0m\u001b[0;34m)\u001b[0m\u001b[0;34m\u001b[0m\u001b[0;34m\u001b[0m\u001b[0m\n\u001b[0m\u001b[1;32m    642\u001b[0m \u001b[0;34m\u001b[0m\u001b[0m\n\u001b[1;32m    643\u001b[0m \u001b[0;34m\u001b[0m\u001b[0m\n",
      "\u001b[0;32m<__array_function__ internals>\u001b[0m in \u001b[0;36mconcatenate\u001b[0;34m(*args, **kwargs)\u001b[0m\n",
      "\u001b[0;31mValueError\u001b[0m: all the input array dimensions for the concatenation axis must match exactly, but along dimension 0, the array at index 0 has size 203 and the array at index 1 has size 7"
     ]
    }
   ],
   "source": [
    "with open('cBioPortal/all_phase2_target_2018_pub/data_RNA_Seq_mRNA_median_Zscores.txt') as fp:\n",
    "    lines = [l.split('\\t') for l in fp.readlines()]\n",
    "    # switch NAs -> 0s\n",
    "    for i,l in enumerate(lines):\n",
    "        if 'NA' in l:\n",
    "            n = len(l[2:])\n",
    "            l = l[0:2]\n",
    "            for z in [0]*n:\n",
    "                l.append(z)\n",
    "        lines[i] = l\n",
    "    genes = [d[0] for d in lines[1:]]\n",
    "    RNA_seq = [np.array(d[2:], dtype = float) for d in lines[1:]]\n",
    "\n",
    "    Q1 = [np.quantile(p, 0.25) for p in RNA_seq]       # Low expression threshold\n",
    "    Q3 = [np.quantile(p, 0.75) for p in RNA_seq]       # High expression threshold        \n",
    "\n",
    "data = pd.DataFrame(data = [i + j for i,j in zip([-1*(p <= q1) for p,q1 in zip(RNA_seq, Q1)], \n",
    "                                                 [ 1*(p >= q3) for p,q3 in zip(RNA_seq, Q3)])],\n",
    "                    index = [d[0] for d in lines[1:]], columns= lines[0][2:])\n",
    "\n",
    "\n",
    "RNA_seq = pd.DataFrame(data = RNA_seq, index = [d[0] for d in lines[1:]],\n",
    "                       columns= lines[0][2:])\n",
    "\n",
    "\n",
    "cell_line = 'Jurkat'\n",
    "SLdata = get_SLdataset()\n",
    "tmp = SLdata[cell_line]\n",
    "# filter out missing gene names between GI and expression studies \n",
    "tmp = tmp[pd.DataFrame(tmp.Gene1.tolist()).isin(data.index.tolist()).any(1)].reset_index(drop=True)\n",
    "tmp = tmp[pd.DataFrame(tmp.Gene2.tolist()).isin(data.index.tolist()).any(1)].reset_index(drop=True)\n",
    "Cors = []\n",
    "Obs = []\n",
    "for g1,g2 in zip(tmp.Gene1,tmp.Gene2):    # g1   g2\n",
    "    Obs.append([\n",
    "        [sum(np.array(data.loc[g1] < 0)\n",
    "         * np.array(data.loc[g2] < 0)),   # low_low\n",
    "         sum(np.array(data.loc[g1] > 0)\n",
    "         * np.array(data.loc[g2] < 0))],   # high_low\n",
    "        [sum(np.array(data.loc[g1] < 0)\n",
    "         * np.array(data.loc[g2] > 0)),  # low_high\n",
    "         sum(np.array(data.loc[g1] > 0)\n",
    "         * np.array(data.loc[g2] > 0))]   # high_high\n",
    "     ])\n",
    "    Cors.append (spearmanr(np.array(data.loc[g1]), np.array(data.loc[g2]))[0])\n",
    "# do chi-square test:\n",
    "chi2_res = [chi2_contingency(o) for o in np.array(Obs)]\n",
    "Chi2 = [c[0] for c in chi2_res]\n",
    "ChiPval = [p[1] for p in chi2_res]\n",
    "Exp = [np.concatenate((x[3][0], x[3][1])) for x in chi2_res]\n",
    "Obs = [np.concatenate((o[0], o[1])) for o in Obs]         \n",
    "# make the test result dataframe:\n",
    "test_res = pd.DataFrame(data= np.concatenate((\n",
    "    np.stack(( tmp.Gene1 ,tmp.Gene2, tmp[cell_line]), axis = 1),\n",
    "    np.array(Obs), np.array(Exp), np.stack(( ChiPval, Chi2, Cors), axis = 1),\n",
    "    ), axis = 1), columns=[\n",
    "    'Gene1', 'Gene2', 'GI_Score',\n",
    "    'Obs_Low_Low', 'Obs_High_Low', 'Obs_Low_High', 'Obs_High_High',\n",
    "    'Exp_Low_Low' ,'Exp_High_Low', 'Exp_Low_High', 'Exp_High_High', \n",
    "    'ChiPval', 'Chi2', 'Correlation'])\n"
   ]
  },
  {
   "cell_type": "markdown",
   "metadata": {},
   "source": [
    "> Low Low $Obs/Exp <  $ High High $Obs/Exp$"
   ]
  },
  {
   "cell_type": "code",
   "execution_count": null,
   "metadata": {
    "scrolled": false
   },
   "outputs": [],
   "source": [
    "test[\n",
    "#     ((test.Obs_Low_Low/ test.Exp_Low_Low) < (test.Obs_High_High/test.Exp_High_High)) \n",
    "    (test.Obs_Low_Low < test.Obs_High_High) &\n",
    "    (test.Obs_Low_Low < test.Obs_Low_High) &\n",
    "    (test.Obs_Low_Low < test.Obs_High_Low)\n",
    "].sort_values('Obs_Low_Low', ascending = False)\n"
   ]
  },
  {
   "cell_type": "code",
   "execution_count": null,
   "metadata": {
    "scrolled": false
   },
   "outputs": [],
   "source": [
    "r_test[\n",
    "#     ((test.Obs_Low_Low/ test.Exp_Low_Low) < (test.Obs_High_High/test.Exp_High_High)) \n",
    "    (r_test.Obs_Low_Low < r_test.Obs_High_High) &\n",
    "    (r_test.Obs_Low_Low < r_test.Obs_Low_High) &\n",
    "    (r_test.Obs_Low_Low < r_test.Obs_High_Low)\n",
    "    & r_test.ChiPval < 1e-10\n",
    "].sort_values('Obs_Low_Low', ascending = False)\n"
   ]
  },
  {
   "cell_type": "code",
   "execution_count": null,
   "metadata": {},
   "outputs": [],
   "source": [
    "stat_test_plot(test,random_test)"
   ]
  },
  {
   "cell_type": "markdown",
   "metadata": {},
   "source": [
    "Low-Low gene pairs for **Jurkat** GI pairs:"
   ]
  },
  {
   "cell_type": "code",
   "execution_count": null,
   "metadata": {
    "scrolled": true
   },
   "outputs": [],
   "source": [
    "test_res, random_test_res = SL_stat_test(\n",
    "    'cBioPortal/all_phase2_target_2018_pub/data_RNA_Seq_mRNA_median_Zscores.txt', cell_line = 'Jurkat')"
   ]
  },
  {
   "cell_type": "markdown",
   "metadata": {},
   "source": [
    "> Low Low $Obs/Exp <  $ High High $Obs/Exp$"
   ]
  },
  {
   "cell_type": "code",
   "execution_count": null,
   "metadata": {
    "scrolled": false
   },
   "outputs": [],
   "source": [
    "test[\n",
    "#     ((test.Obs_Low_Low/ test.Exp_Low_Low) < (test.Obs_High_High/test.Exp_High_High)) \n",
    "    (test.Obs_Low_Low < test.Obs_High_High) &\n",
    "    (test.Obs_Low_Low < test.Obs_Low_High) &\n",
    "    (test.Obs_Low_Low < test.Obs_High_Low)\n",
    "    & test.ChiPval < 1e-10\n",
    "].sort_values('Obs_Low_Low', ascending = False)\n"
   ]
  },
  {
   "cell_type": "code",
   "execution_count": null,
   "metadata": {
    "scrolled": false
   },
   "outputs": [],
   "source": [
    "r_test[\n",
    "#     ((test.Obs_Low_Low/ test.Exp_Low_Low) < (test.Obs_High_High/test.Exp_High_High)) \n",
    "    (r_test.Obs_Low_Low < r_test.Obs_High_High) &\n",
    "    (r_test.Obs_Low_Low < r_test.Obs_Low_High) &\n",
    "    (r_test.Obs_Low_Low < r_test.Obs_High_Low)\n",
    "    & r_test.ChiPval < 1e-10\n",
    "].sort_values('Obs_Low_Low', ascending = False)\n"
   ]
  },
  {
   "cell_type": "code",
   "execution_count": null,
   "metadata": {},
   "outputs": [],
   "source": [
    "stat_test_plot(test,r_test)"
   ]
  },
  {
   "cell_type": "code",
   "execution_count": null,
   "metadata": {},
   "outputs": [],
   "source": []
  }
 ],
 "metadata": {
  "kernelspec": {
   "display_name": "Python 3",
   "language": "python",
   "name": "python3"
  },
  "language_info": {
   "codemirror_mode": {
    "name": "ipython",
    "version": 3
   },
   "file_extension": ".py",
   "mimetype": "text/x-python",
   "name": "python",
   "nbconvert_exporter": "python",
   "pygments_lexer": "ipython3",
   "version": "3.7.3"
  }
 },
 "nbformat": 4,
 "nbformat_minor": 2
}
