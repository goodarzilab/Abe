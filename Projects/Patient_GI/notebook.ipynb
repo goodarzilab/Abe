{
 "cells": [
  {
   "cell_type": "code",
   "execution_count": 1,
   "metadata": {},
   "outputs": [],
   "source": [
    "import pandas as pd \n",
    "import numpy as np\n",
    "from scipy.stats import chisquare, chi2_contingency\n",
    "import matplotlib.pyplot as plt"
   ]
  },
  {
   "cell_type": "markdown",
   "metadata": {},
   "source": [
    "## GI Scores\n",
    "Load data from [Mapping the Genetic Landscape of Human Cells](https://www.sciencedirect.com/science/article/pii/S0092867418307359?via%3Dihub#mmc2) paper. \n",
    "> [**Table S5.**](https://www.sciencedirect.com/science/article/pii/S0092867418307359?via%3Dihub#mmc5)"
   ]
  },
  {
   "cell_type": "code",
   "execution_count": 2,
   "metadata": {},
   "outputs": [],
   "source": [
    "# read data from file \n",
    "myfile = (\"CRISPRi_Mapping_paper/Table_S5.xlsx\") \n",
    "xl = pd.ExcelFile(myfile)\n",
    "# print ('Sheets:')\n",
    "# print (xl.sheet_names)\n",
    "# make data frame from each Excel sheet\n",
    "sheets = {sheet: xl.parse(sheet) for sheet in xl.sheet_names}\n",
    "# Read data from *gene GI scores sheet*:\n",
    "Gene1 = np.array(sheets['gene GI scores and correlations']['Unnamed: 0'][3:])\n",
    "Gene2 = np.array(sheets['gene GI scores and correlations']['Unnamed: 1'][3:])\n",
    "GIdataset = {\n",
    "    'Gene1': Gene1, 'Gene2': Gene2, 'GenePairs': np.array([\"_\".join(i) for i in zip (Gene1, Gene2)]),\n",
    "    'K562': np.array(sheets['gene GI scores and correlations']['K562.4'][3:]),     # gene1 <-> gene2 GI scores\n",
    "    'Jurkat': np.array(sheets['gene GI scores and correlations']['Jurkat.4'][3:])  # gene1 <-> gene2 GI scores\n",
    "}"
   ]
  },
  {
   "cell_type": "code",
   "execution_count": 3,
   "metadata": {},
   "outputs": [],
   "source": [
    "SL_thr = 1 # Synthetic-Lethal threshold\n",
    "SLdataset = {'K562':{'GI': GIdataset['K562'][GIdataset['K562'] > SL_thr],\n",
    "                     'GenePair': GIdataset['GenePairs'][GIdataset['K562'] > SL_thr],\n",
    "                     'Gene1': GIdataset['Gene1'][GIdataset['K562'] > SL_thr],\n",
    "                     'Gene2': GIdataset['Gene2'][GIdataset['K562'] > SL_thr]},\n",
    "             'Jurkat':{'GI': GIdataset['Jurkat'][GIdataset['Jurkat'] > SL_thr],\n",
    "                     'GenePair': GIdataset['GenePairs'][GIdataset['Jurkat'] > SL_thr],\n",
    "                     'Gene1': GIdataset['Gene1'][GIdataset['Jurkat'] > SL_thr],\n",
    "                     'Gene2': GIdataset['Gene2'][GIdataset['Jurkat'] > SL_thr]}}\n",
    "# function to select GI data based on cell-line and gene-pair 1 or 2\n",
    "def filter_dataset(dataset):\n",
    "    def cell_gene_sorter(dataset,cell,gene):\n",
    "        output = []\n",
    "        for sl in set(SLdataset[cell][gene]):\n",
    "            for i, g in enumerate(dataset['Genes']):\n",
    "                if g == sl:\n",
    "                    Q1 = np.quantile(dataset['RNA-Seq'][i], 0.25)\n",
    "                    Q3 = np.quantile(dataset['RNA-Seq'][i], 0.75)\n",
    "                    is_low = 1*(dataset['RNA-Seq'][i] <= Q1)    # Low expression threshold\n",
    "                    is_high = 1*(dataset['RNA-Seq'][i] >= Q3)   # High expression threshold\n",
    "                    output.append([g, is_low, is_high])\n",
    "        return output \n",
    "    return {\n",
    "        'K562_Gene1': cell_gene_sorter(dataset,'K562','Gene1'),\n",
    "        'K562_Gene2': cell_gene_sorter(dataset,'K562','Gene2'),\n",
    "        'Jurkat_Gene1': cell_gene_sorter(dataset,'Jurkat','Gene1'),\n",
    "        'Jurkat_Gene2': cell_gene_sorter(dataset,'Jurkat','Gene2')\n",
    "    }"
   ]
  },
  {
   "cell_type": "markdown",
   "metadata": {},
   "source": [
    "Read combined study clinical data (downloaded from cBioPortal):"
   ]
  },
  {
   "cell_type": "code",
   "execution_count": 4,
   "metadata": {
    "scrolled": true
   },
   "outputs": [],
   "source": [
    "clinical_data = pd.read_csv('cBioPortal/combined_study_clinical_data.csv')\n",
    "# function to add_survival_data \n",
    "def add_survival_data(dataset):\n",
    "    survival_status = []\n",
    "    survival_months = []\n",
    "    for i,sam in enumerate(clinical_data['Sample ID']):\n",
    "        for dat in dataset['sample_ids']:\n",
    "            if sam == dat:\n",
    "                survival_status.append(clinical_data['Overall Survival Status'][i])\n",
    "                survival_months.append(clinical_data['Overall Survival (Months)'][i])\n",
    "\n",
    "    dataset['survival_status'] = survival_status\n",
    "    dataset['survival_months'] = survival_months\n",
    "    return dataset"
   ]
  },
  {
   "cell_type": "markdown",
   "metadata": {},
   "source": [
    "# Expression patterns "
   ]
  },
  {
   "cell_type": "markdown",
   "metadata": {},
   "source": [
    "## 1st\n",
    "- ### [Acute Myeloid Leukemia (OHSU, Nature 2018)](https://www.cbioportal.org/study?id=aml_ohsu_2018)"
   ]
  },
  {
   "cell_type": "code",
   "execution_count": 5,
   "metadata": {},
   "outputs": [
    {
     "name": "stdout",
     "output_type": "stream",
     "text": [
      "type_of_cancer: aml\n",
      "cancer_study_identifier: aml_ohsu_2018\n",
      "name: Acute Myeloid Leukemia (OHSU, Nature 2018)\n",
      "description: Whole-exome sequencing of 672 acute myeloid leukemia samples (with 454 matched normals) from the Beat AML program.\n",
      "citation: Tyner et al. Nature 2018\n",
      "pmid: 30333627\n",
      "short_name: AML (OHSU)\n",
      "groups: PUBLIC\n"
     ]
    }
   ],
   "source": [
    "# print meta data\n",
    "filepath = 'cBioPortal/aml_ohsu_2018/meta_study.txt'\n",
    "with open(filepath) as fp:\n",
    "    print( fp.read() )"
   ]
  },
  {
   "cell_type": "code",
   "execution_count": 6,
   "metadata": {},
   "outputs": [],
   "source": [
    "# ls cBioPortal/aml_ohsu_2018"
   ]
  },
  {
   "cell_type": "code",
   "execution_count": 23,
   "metadata": {},
   "outputs": [],
   "source": [
    "# read all RNA-Seq data \n",
    "filepath = 'cBioPortal/aml_ohsu_2018/data_RNA_Seq_mRNA_median_Zscores.txt'\n",
    "with open(filepath) as fp:\n",
    "    lines = [l.split('\\t') for l in fp.readlines()]\n",
    "    aml_ohsu_dataset = {\n",
    "        'sample_ids': lines[0][2:],\n",
    "        'Genes': [d[0] for d in lines[1:]], \n",
    "        'RNA-Seq': [np.array(d[2:], dtype = float) for d in lines[1:]]\n",
    "    }\n",
    "# subset RNA-Seq data to GI gene-pairs \n",
    "data = filter_dataset(aml_ohsu_dataset)"
   ]
  },
  {
   "cell_type": "markdown",
   "metadata": {},
   "source": [
    "### Chi-square Test"
   ]
  },
  {
   "cell_type": "markdown",
   "metadata": {},
   "source": [
    "For K562 GI pairs:"
   ]
  },
  {
   "cell_type": "code",
   "execution_count": 24,
   "metadata": {
    "scrolled": false
   },
   "outputs": [],
   "source": [
    "K562_test = {}\n",
    "for g1,g2 in zip(data['K562_Gene1'],data['K562_Gene2']):\n",
    "    if g1[0] != g2[0]:\n",
    "        g_key = \"_\".join([g1[0], g2[0]])\n",
    "        Obs = [[sum((g1[1]) * (g2[1])), # \"low_low\"\n",
    "                sum((g1[2]) * (g2[1]))], #\"high_low\"\n",
    "               [sum((g1[1]) * (g2[2])), #\"low_high\"\n",
    "                sum((g1[2]) * (g2[2])) # \"high_high\"\n",
    "                ]]\n",
    "        Pval = list(chi2_contingency(Obs))[1]\n",
    "        Exp = list(chi2_contingency(Obs))[3]\n",
    "        K562_test[g_key] = {'Obs': Obs, 'Exp': Exp,\n",
    "                            'Obs/Exp': Obs/Exp, 'Pvalue': Pval}"
   ]
  },
  {
   "cell_type": "markdown",
   "metadata": {},
   "source": [
    "Low-Low gene pairs\n",
    "$$Obs/Exp < 1$$"
   ]
  },
  {
   "cell_type": "code",
   "execution_count": 25,
   "metadata": {
    "scrolled": false
   },
   "outputs": [
    {
     "name": "stdout",
     "output_type": "stream",
     "text": [
      "GOLT1B_CSTF3 >> Obs: [[2, 77], [56, 3]] >> Pvalue: 9.869438986774179e-27\n",
      "\tObs/Exp [low_low, high_low]:\t [0.0602, 1.6813]\n",
      "\tObs/Exp [low_high, high_high]:\t [2.2583, 0.0877] \n",
      "\n",
      "CSTF3_PSMD6 >> Obs: [[6, 47], [59, 13]] >> Pvalue: 2.359608202145314e-14\n",
      "\tObs/Exp [low_low, high_low]:\t [0.2177, 1.8475]\n",
      "\tObs/Exp [low_high, high_high]:\t [1.5759, 0.3762] \n",
      "\n",
      "SNIP1_TCOF1 >> Obs: [[8, 60], [48, 7]] >> Pvalue: 2.867723837359165e-16\n",
      "\tObs/Exp [low_low, high_low]:\t [0.2584, 1.6198]\n",
      "\tObs/Exp [low_high, high_high]:\t [1.9169, 0.2336] \n",
      "\n",
      "NAMPT_FARSA >> Obs: [[6, 61], [64, 4]] >> Pvalue: 2.26264038448349e-22\n",
      "\tObs/Exp [low_low, high_low]:\t [0.1727, 1.8909]\n",
      "\tObs/Exp [low_high, high_high]:\t [1.8151, 0.1222] \n",
      "\n",
      "RNF20_MED9 >> Obs: [[3, 51], [70, 4]] >> Pvalue: 5.673730615089704e-23\n",
      "\tObs/Exp [low_low, high_low]:\t [0.0974, 2.198]\n",
      "\tObs/Exp [low_high, high_high]:\t [1.6586, 0.1258] \n",
      "\n",
      "MED9_DDX46 >> Obs: [[4, 61], [52, 11]] >> Pvalue: 1.4492577701452405e-17\n",
      "\tObs/Exp [low_low, high_low]:\t [0.1407, 1.6684]\n",
      "\tObs/Exp [low_high, high_high]:\t [1.8866, 0.3104] \n",
      "\n",
      "CDC26_RPL13 >> Obs: [[12, 53], [57, 8]] >> Pvalue: 1.0523431023819664e-14\n",
      "\tObs/Exp [low_low, high_low]:\t [0.3478, 1.7377]\n",
      "\tObs/Exp [low_high, high_high]:\t [1.6522, 0.2623] \n",
      "\n"
     ]
    }
   ],
   "source": [
    "for t in K562_test:\n",
    "    if (K562_test[t]['Obs/Exp'][0][0] < 1) & (K562_test[t]['Pvalue'] < 5e-14):\n",
    "        print (t, '>> Obs:', K562_test[t]['Obs'], '>> Pvalue:', K562_test[t]['Pvalue'])\n",
    "        print ('\\tObs/Exp [low_low, high_low]:\\t', [round(x, 4) for x in K562_test[t]['Obs/Exp'][0]])\n",
    "        print ('\\tObs/Exp [low_high, high_high]:\\t', [round(x, 4) for x in K562_test[t]['Obs/Exp'][1]], '\\n')"
   ]
  },
  {
   "cell_type": "markdown",
   "metadata": {},
   "source": [
    "For Jurkat GI pairs:"
   ]
  },
  {
   "cell_type": "code",
   "execution_count": 26,
   "metadata": {
    "scrolled": false
   },
   "outputs": [],
   "source": [
    "Jurkat_test = {}\n",
    "for g1,g2 in zip(data['Jurkat_Gene1'],data['Jurkat_Gene2']):\n",
    "    if g1[0] != g2[0]:\n",
    "        g_key = \"_\".join([g1[0], g2[0]])\n",
    "        Obs = [[sum((g1[1]) * (g2[1])), # \"low_low\"\n",
    "                sum((g1[2]) * (g2[1]))], #\"high_low\"\n",
    "               [sum((g1[1]) * (g2[2])), #\"low_high\"\n",
    "                sum((g1[2]) * (g2[2])) # \"high_high\"\n",
    "                ]]\n",
    "        Pval = list(chi2_contingency(Obs))[1]\n",
    "        Exp = list(chi2_contingency(Obs))[3]\n",
    "        Jurkat_test[g_key] = {'Obs': Obs, 'Exp': Exp,\n",
    "                              'Obs/Exp': Obs/Exp, 'Pvalue': Pval}"
   ]
  },
  {
   "cell_type": "markdown",
   "metadata": {},
   "source": [
    "Low-Low gene pairs\n",
    "$$Obs/Exp < 1$$"
   ]
  },
  {
   "cell_type": "code",
   "execution_count": 28,
   "metadata": {
    "scrolled": false
   },
   "outputs": [
    {
     "name": "stdout",
     "output_type": "stream",
     "text": [
      "FAM208A_DCTN4 >> Obs: [[3, 46], [77, 7]] >> Pvalue: 1.4769061163465606e-21\n",
      "\tObs/Exp [low_low, high_low]:\t [0.1018, 2.3558]\n",
      "\tObs/Exp [low_high, high_high]:\t [1.524, 0.2091] \n",
      "\n",
      "DNTTIP2_MRPS18B >> Obs: [[1, 61], [57, 6]] >> Pvalue: 1.3533253127841908e-22\n",
      "\tObs/Exp [low_low, high_low]:\t [0.0348, 1.8356]\n",
      "\tObs/Exp [low_high, high_high]:\t [1.9499, 0.1777] \n",
      "\n",
      "MTPAP_FAM50A >> Obs: [[7, 45], [54, 10]] >> Pvalue: 1.1723388697309157e-13\n",
      "\tObs/Exp [low_low, high_low]:\t [0.256, 1.8252]\n",
      "\tObs/Exp [low_high, high_high]:\t [1.6045, 0.3295] \n",
      "\n",
      "FARSA_NAMPT >> Obs: [[6, 64], [61, 4]] >> Pvalue: 2.26264038448349e-22\n",
      "\tObs/Exp [low_low, high_low]:\t [0.1727, 1.8151]\n",
      "\tObs/Exp [low_high, high_high]:\t [1.8909, 0.1222] \n",
      "\n",
      "MRPL18_SSBP1 >> Obs: [[7, 37], [59, 7]] >> Pvalue: 5.980051547119442e-14\n",
      "\tObs/Exp [low_low, high_low]:\t [0.2652, 2.1023]\n",
      "\tObs/Exp [low_high, high_high]:\t [1.4899, 0.2652] \n",
      "\n",
      "YTHDC1_DDX46 >> Obs: [[8, 74], [46, 6]] >> Pvalue: 7.258214646670845e-19\n",
      "\tObs/Exp [low_low, high_low]:\t [0.2421, 1.5116]\n",
      "\tObs/Exp [low_high, high_high]:\t [2.1952, 0.1933] \n",
      "\n",
      "NOP58_ZMAT5 >> Obs: [[8, 53], [54, 11]] >> Pvalue: 1.69363685089107e-14\n",
      "\tObs/Exp [low_low, high_low]:\t [0.2665, 1.7106]\n",
      "\tObs/Exp [low_high, high_high]:\t [1.6883, 0.3332] \n",
      "\n",
      "SNRPD3_HUS1 >> Obs: [[6, 49], [60, 4]] >> Pvalue: 6.66945370585383e-19\n",
      "\tObs/Exp [low_low, high_low]:\t [0.1967, 2.0003]\n",
      "\tObs/Exp [low_high, high_high]:\t [1.6903, 0.1403] \n",
      "\n"
     ]
    }
   ],
   "source": [
    "for t in Jurkat_test:\n",
    "    if (Jurkat_test[t]['Obs/Exp'][0][0] < 1) & (Jurkat_test[t]['Pvalue'] < 5e-13):\n",
    "        print (t, '>> Obs:', Jurkat_test[t]['Obs'], '>> Pvalue:', Jurkat_test[t]['Pvalue'])\n",
    "        print ('\\tObs/Exp [low_low, high_low]:\\t', [round(x, 4) for x in Jurkat_test[t]['Obs/Exp'][0]])\n",
    "        print ('\\tObs/Exp [low_high, high_high]:\\t', [round(x, 4) for x in Jurkat_test[t]['Obs/Exp'][1]], '\\n')"
   ]
  },
  {
   "cell_type": "markdown",
   "metadata": {},
   "source": [
    "### Survival analysis "
   ]
  },
  {
   "cell_type": "code",
   "execution_count": 12,
   "metadata": {},
   "outputs": [],
   "source": [
    "# https://plot.ly/python/v3/ipython-notebooks/survival-analysis-r-vs-python/"
   ]
  },
  {
   "cell_type": "code",
   "execution_count": 13,
   "metadata": {},
   "outputs": [],
   "source": [
    "survival_data = add_survival_data(aml_ohsu_dataset)"
   ]
  },
  {
   "cell_type": "markdown",
   "metadata": {},
   "source": [
    "# 2nd\n",
    "- ### [Pediatric Acute Lymphoid Leukemia - Phase II (TARGET, 2018)](https://www.cbioportal.org/study?id=all_phase2_target_2018_pub)"
   ]
  },
  {
   "cell_type": "code",
   "execution_count": 14,
   "metadata": {},
   "outputs": [
    {
     "name": "stdout",
     "output_type": "stream",
     "text": [
      "type_of_cancer: bll\n",
      "cancer_study_identifier: all_phase2_target_2018_pub\n",
      "name: Pediatric Acute Lymphoid Leukemia - Phase II (TARGET, 2018)\n",
      "short_name: ALL-Phase II (TARGET, 2018)\n",
      "description: Comprehensive profiling of ALL Phase 2 samples. <p>TARGET data is intended exclusively for biomedical research using pediatric data (i.e., the research objectives cannot be accomplished using data from adults) that focus on the development of more effective treatments, diagnostic tests, or prognostic markers for childhood cancers. Moreover, TARGET data can be used for research relevant to the biology, causes, treatment and late complications of treatment of pediatric cancers, but is not intended for the sole purposes of methods and/or tool development (please see <a href=\"https://ocg.cancer.gov/programs/target/using-target-data\">Using TARGET Data</a> section of the OCG website). If you are interested in using TARGET data for publication or other research purposes, you must follow the <a href=\"https://ocg.cancer.gov/programs/target/target-publication-guidelines\">TARGET Publication Guidelines</a>.</p\n",
      "groups: NCI-TARGET;PUBLIC\n",
      "\n"
     ]
    }
   ],
   "source": [
    "# meta data\n",
    "filepath = 'cBioPortal/all_phase2_target_2018_pub/meta_study.txt'\n",
    "with open(filepath) as fp:\n",
    "    print( fp.read() )"
   ]
  },
  {
   "cell_type": "code",
   "execution_count": 15,
   "metadata": {},
   "outputs": [],
   "source": [
    "# ls cBioPortal/all_phase2_target_2018_pub"
   ]
  },
  {
   "cell_type": "code",
   "execution_count": 16,
   "metadata": {},
   "outputs": [],
   "source": [
    "# read all RNA-Seq data \n",
    "filepath = 'cBioPortal/all_phase2_target_2018_pub/data_RNA_Seq_mRNA_median_Zscores.txt'\n",
    "with open(filepath) as fp:\n",
    "    lines = [l.split('\\t') for l in fp.readlines()]\n",
    "# switch NAs -> 0s\n",
    "    for i,l in enumerate(lines):\n",
    "        if 'NA' in l:\n",
    "            n = len(l[2:])\n",
    "            l = l[0:2]\n",
    "            for z in [0]*n:\n",
    "                l.append(z)\n",
    "        lines[i] = l\n",
    "    all_phase2 = {\n",
    "        'sample_ids': lines[0][2:],\n",
    "        'Genes': [d[0] for d in lines[1:]], \n",
    "        'RNA-Seq': [np.array(d[2:], dtype = float) for d in lines[1:]]\n",
    "    }\n",
    "# subset RNA-Seq data to GI gene-pairs \n",
    "data = filter_dataset(all_phase2)"
   ]
  },
  {
   "cell_type": "markdown",
   "metadata": {},
   "source": [
    "### Chi-square Test"
   ]
  },
  {
   "cell_type": "markdown",
   "metadata": {},
   "source": [
    "For K562 GI pairs:"
   ]
  },
  {
   "cell_type": "code",
   "execution_count": 17,
   "metadata": {
    "scrolled": false
   },
   "outputs": [],
   "source": [
    "K562_test = {}\n",
    "for g1,g2 in zip(data['K562_Gene1'],data['K562_Gene2']):\n",
    "    if g1[0] != g2[0]:\n",
    "        g_key = \"_\".join([g1[0], g2[0]])\n",
    "        Obs = [[sum((g1[1]) * (g2[1])), # \"low_low\"\n",
    "                sum((g1[2]) * (g2[1]))], #\"high_low\"\n",
    "               [sum((g1[1]) * (g2[2])), #\"low_high\"\n",
    "                sum((g1[2]) * (g2[2])) # \"high_high\"\n",
    "                ]]\n",
    "        Pval = list(chi2_contingency(Obs))[1]\n",
    "        Exp = list(chi2_contingency(Obs))[3]\n",
    "        K562_test[g_key] = {'Obs': Obs, 'Exp': Exp,\n",
    "                            'Obs/Exp': Obs/Exp, 'Pvalue': Pval}"
   ]
  },
  {
   "cell_type": "markdown",
   "metadata": {},
   "source": [
    "Low-Low gene pairs\n",
    "$$Obs/Exp < 1$$"
   ]
  },
  {
   "cell_type": "code",
   "execution_count": 22,
   "metadata": {
    "scrolled": false
   },
   "outputs": [
    {
     "name": "stdout",
     "output_type": "stream",
     "text": [
      "GTPBP4_MRPS11 >> Obs: [[2, 29], [30, 0]] >> Pvalue: 1.6914330122079393e-12\n",
      "\tObs/Exp [low_low, high_low]:\t [0.123, 1.9677]\n",
      "\tObs/Exp [low_high, high_high]:\t [1.9062, 0.0] \n",
      "\n",
      "FH_SNIP1 >> Obs: [[0, 31], [31, 1]] >> Pvalue: 1.0286130192631635e-13\n",
      "\tObs/Exp [low_low, high_low]:\t [0.0, 1.9688]\n",
      "\tObs/Exp [low_high, high_high]:\t [1.9688, 0.0615] \n",
      "\n",
      "PNISR_COPE >> Obs: [[0, 22], [37, 2]] >> Pvalue: 2.3733651789734316e-12\n",
      "\tObs/Exp [low_low, high_low]:\t [0.0, 2.5417]\n",
      "\tObs/Exp [low_high, high_high]:\t [1.5641, 0.1303] \n",
      "\n",
      "ASNA1_PNN >> Obs: [[2, 40], [28, 2]] >> Pvalue: 3.513344076855311e-13\n",
      "\tObs/Exp [low_low, high_low]:\t [0.1143, 1.6327]\n",
      "\tObs/Exp [low_high, high_high]:\t [2.24, 0.1143] \n",
      "\n",
      "CDC27_NUTF2 >> Obs: [[1, 33], [32, 1]] >> Pvalue: 9.181537170200546e-14\n",
      "\tObs/Exp [low_low, high_low]:\t [0.0597, 1.9126]\n",
      "\tObs/Exp [low_high, high_high]:\t [1.9688, 0.0597] \n",
      "\n",
      "CCDC84_MRPL37 >> Obs: [[2, 25], [33, 0]] >> Pvalue: 3.0742381196899276e-12\n",
      "\tObs/Exp [low_low, high_low]:\t [0.127, 2.2222]\n",
      "\tObs/Exp [low_high, high_high]:\t [1.7143, 0.0] \n",
      "\n"
     ]
    }
   ],
   "source": [
    "for t in K562_test:\n",
    "    if (K562_test[t]['Obs/Exp'][0][0] < 1) & (K562_test[t]['Pvalue'] < 5e-12):\n",
    "        print (t, '>> Obs:', K562_test[t]['Obs'], '>> Pvalue:', K562_test[t]['Pvalue'])\n",
    "        print ('\\tObs/Exp [low_low, high_low]:\\t', [round(x, 4) for x in K562_test[t]['Obs/Exp'][0]])\n",
    "        print ('\\tObs/Exp [low_high, high_high]:\\t', [round(x, 4) for x in K562_test[t]['Obs/Exp'][1]], '\\n')"
   ]
  },
  {
   "cell_type": "markdown",
   "metadata": {},
   "source": [
    "For Jurkat GI pairs:"
   ]
  },
  {
   "cell_type": "code",
   "execution_count": 19,
   "metadata": {
    "scrolled": false
   },
   "outputs": [],
   "source": [
    "Jurkat_test = {}\n",
    "for g1,g2 in zip(data['Jurkat_Gene1'],data['Jurkat_Gene2']):\n",
    "    if g1[0] != g2[0]:\n",
    "        g_key = \"_\".join([g1[0], g2[0]])\n",
    "        Obs = [[sum((g1[1]) * (g2[1])), # \"low_low\"\n",
    "                sum((g1[2]) * (g2[1]))], #\"high_low\"\n",
    "               [sum((g1[1]) * (g2[2])), #\"low_high\"\n",
    "                sum((g1[2]) * (g2[2])) # \"high_high\"\n",
    "                ]]\n",
    "        Pval = list(chi2_contingency(Obs))[1]\n",
    "        Exp = list(chi2_contingency(Obs))[3]\n",
    "        Jurkat_test[g_key] = {'Obs': Obs, 'Exp': Exp,\n",
    "                              'Obs/Exp': Obs/Exp, 'Pvalue': Pval}"
   ]
  },
  {
   "cell_type": "markdown",
   "metadata": {},
   "source": [
    "Low-Low gene pairs\n",
    "$$Obs/Exp < 1$$"
   ]
  },
  {
   "cell_type": "code",
   "execution_count": 20,
   "metadata": {
    "scrolled": false
   },
   "outputs": [
    {
     "name": "stdout",
     "output_type": "stream",
     "text": [
      "EIF6_RBM17 >> Obs: [[1, 35], [29, 1]] >> Pvalue: 1.5908223345963228e-13\n",
      "\tObs/Exp [low_low, high_low]:\t [0.0611, 1.7824]\n",
      "\tObs/Exp [low_high, high_high]:\t [2.1267, 0.0611] \n",
      "\n",
      "EFR3A_MRPL11 >> Obs: [[0, 27], [36, 0]] >> Pvalue: 1.5905368276201003e-14\n",
      "\tObs/Exp [low_low, high_low]:\t [0.0, 2.3333]\n",
      "\tObs/Exp [low_high, high_high]:\t [1.75, 0.0] \n",
      "\n",
      "POLR2B_SNRPC >> Obs: [[0, 25], [35, 2]] >> Pvalue: 1.1767932226554716e-12\n",
      "\tObs/Exp [low_low, high_low]:\t [0.0, 2.2963]\n",
      "\tObs/Exp [low_high, high_high]:\t [1.6757, 0.1241] \n",
      "\n",
      "SDHC_CDK12 >> Obs: [[4, 26], [32, 2]] >> Pvalue: 4.1406823675848444e-10\n",
      "\tObs/Exp [low_low, high_low]:\t [0.237, 1.981]\n",
      "\tObs/Exp [low_high, high_high]:\t [1.6732, 0.1345] \n",
      "\n",
      "OPA1_RPL32 >> Obs: [[1, 22], [33, 2]] >> Pvalue: 6.548899066609702e-11\n",
      "\tObs/Exp [low_low, high_low]:\t [0.0742, 2.3116]\n",
      "\tObs/Exp [low_high, high_high]:\t [1.6084, 0.1381] \n",
      "\n",
      "RPS27A_PAXBP1 >> Obs: [[1, 36], [25, 2]] >> Pvalue: 3.0929771409731258e-12\n",
      "\tObs/Exp [low_low, high_low]:\t [0.0665, 1.6387]\n",
      "\tObs/Exp [low_high, high_high]:\t [2.2792, 0.1248] \n",
      "\n",
      "BOD1L1_EEF1G >> Obs: [[1, 26], [35, 2]] >> Pvalue: 2.8765359990775384e-12\n",
      "\tObs/Exp [low_low, high_low]:\t [0.0658, 2.2011]\n",
      "\tObs/Exp [low_high, high_high]:\t [1.6817, 0.1236] \n",
      "\n"
     ]
    }
   ],
   "source": [
    "for t in Jurkat_test:\n",
    "    if (Jurkat_test[t]['Obs/Exp'][0][0] < 1) & (Jurkat_test[t]['Pvalue'] < 5e-10):\n",
    "        print (t, '>> Obs:', Jurkat_test[t]['Obs'], '>> Pvalue:', Jurkat_test[t]['Pvalue'])\n",
    "        print ('\\tObs/Exp [low_low, high_low]:\\t', [round(x, 4) for x in Jurkat_test[t]['Obs/Exp'][0]])\n",
    "        print ('\\tObs/Exp [low_high, high_high]:\\t', [round(x, 4) for x in Jurkat_test[t]['Obs/Exp'][1]], '\\n')"
   ]
  },
  {
   "cell_type": "code",
   "execution_count": 21,
   "metadata": {},
   "outputs": [],
   "source": [
    "### Other folders:\n",
    "# aml_target_2018_pub\n",
    "# laml_tcga\n",
    "# laml_tcga_pan_can_atlas_2018\n",
    "# laml_tcga_pub"
   ]
  }
 ],
 "metadata": {
  "kernelspec": {
   "display_name": "Python 3",
   "language": "python",
   "name": "python3"
  },
  "language_info": {
   "codemirror_mode": {
    "name": "ipython",
    "version": 3
   },
   "file_extension": ".py",
   "mimetype": "text/x-python",
   "name": "python",
   "nbconvert_exporter": "python",
   "pygments_lexer": "ipython3",
   "version": "3.7.3"
  }
 },
 "nbformat": 4,
 "nbformat_minor": 2
}
